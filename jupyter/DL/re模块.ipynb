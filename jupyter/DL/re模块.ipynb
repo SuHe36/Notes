{
 "cells": [
  {
   "cell_type": "code",
   "execution_count": 1,
   "metadata": {},
   "outputs": [
    {
     "name": "stdout",
     "output_type": "stream",
     "text": [
      "hello\n"
     ]
    }
   ],
   "source": [
    "#下面具体介绍re模块的使用\n",
    "#python通过re模块提供对正则表达式的支持。\n",
    "#使用re的一般步骤是先将正则表达式的字符串形式编译为pattern实例\n",
    "#然后使用pattern实例处理文本并获得匹配结果（一个match实例）\n",
    "#最后使用match实例获得信息，进行其他的操作。\n",
    "\n",
    "import re\n",
    "\n",
    "#将正则表达式编译成pattern对象\n",
    "pattern = re.compile(r'hello')\n",
    "\n",
    "#使用pattern匹配文本，获得匹配结果，无法匹配时将返回None\n",
    "match = pattern.match('hello world.')\n",
    "if match:\n",
    "    print(match.group())\n",
    "\n"
   ]
  },
  {
   "cell_type": "markdown",
   "metadata": {},
   "source": [
    "re.compile(strPattern[, flag]):\n",
    "这个是Pattern类的工厂方法，用于将字符串形式的正则表达式编译为Pattern对象。\n",
    "第二个参数flag是匹配模式，取值可以使用按位或运算符\"|\"表示同时生效\n",
    "\n"
   ]
  }
 ],
 "metadata": {
  "kernelspec": {
   "display_name": "Python 3",
   "language": "python",
   "name": "python3"
  },
  "language_info": {
   "codemirror_mode": {
    "name": "ipython",
    "version": 3
   },
   "file_extension": ".py",
   "mimetype": "text/x-python",
   "name": "python",
   "nbconvert_exporter": "python",
   "pygments_lexer": "ipython3",
   "version": "3.7.3"
  }
 },
 "nbformat": 4,
 "nbformat_minor": 2
}
