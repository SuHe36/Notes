{
 "cells": [
  {
   "cell_type": "markdown",
   "metadata": {},
   "source": [
    "# NLLLoss"
   ]
  },
  {
   "cell_type": "raw",
   "metadata": {},
   "source": [
    "在图片单标签分类时，输入m张图片，输出一个m*N的Tensor，其中N是分类个数；\n",
    "比如输入3张图片，分三类，最后的输出是一个3*3的Tensor，举个例子：\n"
   ]
  },
  {
   "cell_type": "code",
   "execution_count": 19,
   "metadata": {},
   "outputs": [
    {
     "name": "stdout",
     "output_type": "stream",
     "text": [
      "tensor([[ 0.2535, -0.1052, -1.6368],\n",
      "        [-0.7883,  0.2348,  1.2417],\n",
      "        [ 0.5463,  0.5246,  1.2829]])\n"
     ]
    }
   ],
   "source": [
    "import torch\n",
    "\n",
    "input = torch.randn(3,3)\n",
    "print(input)\n",
    "\n",
    "\n"
   ]
  },
  {
   "cell_type": "raw",
   "metadata": {},
   "source": [
    "假设1、2、3行是第1、2、3张图片的结果，第1、2、3列分别是猫、狗、猪的分类得分；\n",
    "可以看出模型认为第1张是猫，第2、3张是猪\n",
    "然后对每一行使用softmax，这样就可以得到每张图片的概率分布。\n"
   ]
  },
  {
   "cell_type": "code",
   "execution_count": 20,
   "metadata": {},
   "outputs": [
    {
     "data": {
      "text/plain": [
       "tensor([[0.5407, 0.3777, 0.0817],\n",
       "        [0.0877, 0.2441, 0.6682],\n",
       "        [0.2459, 0.2406, 0.5136]])"
      ]
     },
     "execution_count": 20,
     "metadata": {},
     "output_type": "execute_result"
    }
   ],
   "source": [
    "import torch.nn as nn\n",
    "\n",
    "sm = nn.Softmax(dim=1)\n",
    "sm(input)"
   ]
  },
  {
   "cell_type": "raw",
   "metadata": {},
   "source": [
    "可以看到每一行的加和为1，比如第一行0.3406+0.4493+0.2100=1\n"
   ]
  },
  {
   "cell_type": "raw",
   "metadata": {},
   "source": [
    "然后对softmax的结果取自然对数：\n"
   ]
  },
  {
   "cell_type": "code",
   "execution_count": 21,
   "metadata": {},
   "outputs": [
    {
     "name": "stdout",
     "output_type": "stream",
     "text": [
      "tensor([[-0.6150, -0.9737, -2.5053],\n",
      "        [-2.4333, -1.4102, -0.4032],\n",
      "        [-1.4030, -1.4247, -0.6664]])\n"
     ]
    }
   ],
   "source": [
    "log = torch.log(sm(input))\n",
    "print(log)\n",
    "\n"
   ]
  },
  {
   "cell_type": "raw",
   "metadata": {},
   "source": [
    "softmax后的数值都在0~1之间，所以取对数之后的值域是负无穷到0；\n",
    "NLLLoss的结果就是把上面的输出与label对应的那个值拿出来，再去掉负号，再求均值。\n",
    "\n",
    "假设我们现在的target是[0,2,1](第一张图片是猫，第二张图片是猪，第三张是狗)。\n",
    "那么第一行取第0个元素，第二行取第2个，第三行取第1个，去掉负号，结果就是：\n",
    "[1.0769, 1.4630, 0.6830]，对这个结果再求均值：\n"
   ]
  },
  {
   "cell_type": "code",
   "execution_count": 22,
   "metadata": {},
   "outputs": [
    {
     "data": {
      "text/plain": [
       "0.8142999999999999"
      ]
     },
     "execution_count": 22,
     "metadata": {},
     "output_type": "execute_result"
    }
   ],
   "source": [
    "#(1.0769+1.4630+0.6830)/3\n",
    "#(0.4155+1.0945+1.5285)/3\n",
    "(0.6150+0.4032+1.4247)/3"
   ]
  },
  {
   "cell_type": "code",
   "execution_count": 25,
   "metadata": {},
   "outputs": [
    {
     "name": "stdout",
     "output_type": "stream",
     "text": [
      "tensor(0.8143)\n"
     ]
    }
   ],
   "source": [
    "#下面我们调用pytorch的NLLLoss函数来验证一下；\n",
    "loss = nn.NLLLoss()\n",
    "target = torch.tensor([0,2,1])\n",
    "print(loss(log, target))\n",
    "\n",
    "\n"
   ]
  },
  {
   "cell_type": "raw",
   "metadata": {},
   "source": [
    "所以综上所述,NLLLoss其实就是把对应类别位置的值取出来，再去负数，然后求所有sample的平均值。\n",
    "假设最后预测有三个类别，结果是y=[1,2,3]，而class=2，所以NLLLoss = -y[2]=-3\n",
    "\n",
    "\n",
    "\n"
   ]
  },
  {
   "cell_type": "markdown",
   "metadata": {},
   "source": [
    "# CrossEntropy"
   ]
  },
  {
   "cell_type": "raw",
   "metadata": {},
   "source": [
    " CrrossEntropy其实就是把上面的softmax -> log -> NLLLoss合并成一步；\n",
    " 我们用CrossEntropy直接计算input的损失，看结果是不是0.8143\n",
    " 最后显然是的，所以我们可以理解为CrossEntropy中的最后一步其实是用到了NLLLoss()"
   ]
  },
  {
   "cell_type": "code",
   "execution_count": 26,
   "metadata": {},
   "outputs": [
    {
     "name": "stdout",
     "output_type": "stream",
     "text": [
      "tensor(0.8143)\n"
     ]
    }
   ],
   "source": [
    "loss=nn.CrossEntropyLoss()\n",
    "\n",
    "print(loss(input, target))"
   ]
  },
  {
   "cell_type": "code",
   "execution_count": null,
   "metadata": {},
   "outputs": [],
   "source": []
  }
 ],
 "metadata": {
  "kernelspec": {
   "display_name": "Python 3",
   "language": "python",
   "name": "python3"
  },
  "language_info": {
   "codemirror_mode": {
    "name": "ipython",
    "version": 3
   },
   "file_extension": ".py",
   "mimetype": "text/x-python",
   "name": "python",
   "nbconvert_exporter": "python",
   "pygments_lexer": "ipython3",
   "version": "3.7.3"
  }
 },
 "nbformat": 4,
 "nbformat_minor": 2
}
