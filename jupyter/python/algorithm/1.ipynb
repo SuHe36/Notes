{
 "cells": [
  {
   "cell_type": "code",
   "execution_count": 69,
   "metadata": {},
   "outputs": [],
   "source": [
    "class Solution:\n",
    "    def InversePairs(self, nums):\n",
    "        self.nums = nums[:]\n",
    "        self.sortData = nums[:]\n",
    "        return self.sort( 0, len(nums)-1)\n",
    " \n",
    "    \n",
    "    def sort(self, start, end):\n",
    "\n",
    "        if start == end:\n",
    "            return 0\n",
    "        elif end -start == 1:\n",
    "            if self.nums[start] <=  self.nums[end]:\n",
    "                return 0\n",
    "            else:\n",
    "                self.sortData[start] = self.nums[end]\n",
    "                self.sortData[end] = self.nums[start]\n",
    "                self.nums[start:end+1] = self.sortData[start:end+1]\n",
    "                return 1\n",
    "        \n",
    "        mid = (end-start)//2 + start\n",
    "        left = start\n",
    "        right = mid + 1\n",
    "        index = start\n",
    "        res = self.sort( start, mid) + self.sort( mid+1, end)\n",
    "        # 对两个子数组，left数组和right数组，都是从前往后遍历，\n",
    "        # 当left数组的值小于right数组的值时，此时两个数组最小的值是left数组的值，所以直接将当前left数组的值赋值给sortData\n",
    "        # 当left数组的值大于right数组的值时，此时left数组剩余的数字对于right数组的值都可构成逆序对，\n",
    "        # 此时两个数组最小的值是right数组的值，所以将right数组的值直接赋值给sortData\n",
    "        while left <= mid and right <= end: \n",
    "            if self.nums[left] <= self.nums[right]:\n",
    "                self.sortData[index] = self.nums[left]\n",
    "                left += 1\n",
    "                index += 1\n",
    "            else:\n",
    "                self.sortData[index] = self.nums[right]\n",
    "                right += 1\n",
    "                index += 1\n",
    "                res += mid - left + 1\n",
    "        \n",
    "        while left <= mid:\n",
    "            self.sortData[index] = self.nums[left]\n",
    "            left += 1\n",
    "            index += 1\n",
    "        \n",
    "        while right <= end:\n",
    "            self.sortData[index] = self.nums[right]\n",
    "            right += 1\n",
    "            index += 1\n",
    "        self.nums[start:end+1] = self.sortData[start:end+1]\n",
    "        return res\n",
    "        "
   ]
  },
  {
   "cell_type": "code",
   "execution_count": 70,
   "metadata": {},
   "outputs": [],
   "source": [
    "inv = Solution()"
   ]
  },
  {
   "cell_type": "code",
   "execution_count": 71,
   "metadata": {},
   "outputs": [
    {
     "data": {
      "text/plain": [
       "7"
      ]
     },
     "execution_count": 71,
     "metadata": {},
     "output_type": "execute_result"
    }
   ],
   "source": [
    "ans = inv.InversePairs([1,2,3,4,5,6,7,0])\n",
    "ans"
   ]
  },
  {
   "cell_type": "code",
   "execution_count": null,
   "metadata": {},
   "outputs": [],
   "source": []
  },
  {
   "cell_type": "code",
   "execution_count": 62,
   "metadata": {},
   "outputs": [
    {
     "ename": "SyntaxError",
     "evalue": "'return' outside function (<ipython-input-62-3224274cfa99>, line 32)",
     "output_type": "error",
     "traceback": [
      "\u001b[0;36m  File \u001b[0;32m\"<ipython-input-62-3224274cfa99>\"\u001b[0;36m, line \u001b[0;32m32\u001b[0m\n\u001b[0;31m    return 0\u001b[0m\n\u001b[0m    ^\u001b[0m\n\u001b[0;31mSyntaxError\u001b[0m\u001b[0;31m:\u001b[0m 'return' outside function\n"
     ]
    }
   ],
   "source": []
  },
  {
   "cell_type": "code",
   "execution_count": null,
   "metadata": {},
   "outputs": [],
   "source": [
    "class Solution {\n",
    "    public ListNode sortList(ListNode head) {\n",
    "        quickSort(head, null);\n",
    "        return head;\n",
    "    }\n",
    "    \n",
    "    void quickSort(ListNode head, ListNode tail){\n",
    "        if(head == tail || head.next == tail) return;\n",
    "        int pivot = head.val;\n",
    "        ListNode left = head, cur = head.next;\n",
    "        \n",
    "        while(cur != tail){\n",
    "            if(cur.val < pivot){\n",
    "                left = left.next;\n",
    "                swap(left, cur);\n",
    "            }\n",
    "            cur = cur.next;\n",
    "        }\n",
    "        swap(head, left);\n",
    "        quickSort(head, left);\n",
    "        quickSort(left.next, tail);\n",
    "    }\n",
    "\n"
   ]
  },
  {
   "cell_type": "code",
   "execution_count": 72,
   "metadata": {},
   "outputs": [],
   "source": [
    "\n",
    "class Solution:\n",
    "    def sort(self, head):\n",
    "        self.quickSort(head, None)\n",
    "        return head\n",
    "    \n",
    "    def quickSort(self, head, tail):\n",
    "        if head == tail or head.next == None:\n",
    "            return\n",
    "        \n",
    "        left = head\n",
    "        curr = head.next\n",
    "        flag = head.val\n",
    "        while curr != tail:\n",
    "            if curr.val < flag:\n",
    "                left = left.next\n",
    "                \n",
    "                temp = left.val\n",
    "                left.val = curr.val\n",
    "                curr.val = temp\n",
    "            curr = curr.next\n",
    "        \n",
    "        head.val = left.val\n",
    "        left.val = flag\n",
    "        \n",
    "        self.quickSort(head,left)\n",
    "        self.quickSort(left.next, tail)\n",
    "        \n",
    "        return"
   ]
  },
  {
   "cell_type": "code",
   "execution_count": 73,
   "metadata": {},
   "outputs": [
    {
     "ename": "SyntaxError",
     "evalue": "invalid syntax (<ipython-input-73-1eb4796a3c1e>, line 1)",
     "output_type": "error",
     "traceback": [
      "\u001b[0;36m  File \u001b[0;32m\"<ipython-input-73-1eb4796a3c1e>\"\u001b[0;36m, line \u001b[0;32m1\u001b[0m\n\u001b[0;31m    <span style=\"font-size:18px;\">/**\u001b[0m\n\u001b[0m    ^\u001b[0m\n\u001b[0;31mSyntaxError\u001b[0m\u001b[0;31m:\u001b[0m invalid syntax\n"
     ]
    }
   ],
   "source": [
    "<span style=\"font-size:18px;\">/**\n",
    " * Definition for singly-linked list.\n",
    " * struct ListNode {\n",
    " *     int val;\n",
    " *     ListNode *next;\n",
    " *     ListNode(int x) : val(x), next(NULL) {}\n",
    " * };\n",
    " */\n",
    "class Solution {\n",
    "public:\n",
    "    /*归并排序*/\n",
    "    ListNode *sortList(ListNode *head) {   \n",
    "        if(!head || !head->next) return head;     //空或者只有一个元素，直接return\n",
    "        ListNode dummy(-1);dummy.next=head;\n",
    "        ListNode *pslow=&dummy,*pfast=&dummy;//快慢指针，找出链表的中间节点，然后对左右两个子链表递归地调用归并排序\n",
    "        while(pfast&&pfast->next)\n",
    "        {\n",
    "            pslow=pslow->next;\n",
    "            pfast=pfast->next->next;\n",
    "        }\n",
    "        ListNode *right_begin=pslow->next;\n",
    "        pslow->next=nullptr;  //断开两段子链表\n",
    "        ListNode *l1=sortList(dummy.next);\n",
    "        ListNode *l2=sortList(right_begin);\n",
    "        return mergeTwoLists(l1,l2);\n",
    "    }\n",
    "private:\n",
    "    ListNode *mergeTwoLists(ListNode *l1, ListNode *l2) {  \n",
    "        ListNode dummy(-1);  \n",
    "        ListNode *head1=l1,*head2=l2,*tail=&dummy;  \n",
    "        while(head1!=nullptr && head2!=nullptr)  \n",
    "        {  \n",
    "            if(head1->val<head2->val) {tail->next=head1;head1=head1->next;}  \n",
    "            else                      {tail->next=head2;head2=head2->next;}  \n",
    "            tail=tail->next;  \n",
    "        }  \n",
    "        if(head1==nullptr)   tail->next=head2;  \n",
    "        if(head2==nullptr)   tail->next=head1;  \n",
    "    return dummy.next;  \n",
    "    }  \n",
    "};</span>"
   ]
  },
  {
   "cell_type": "code",
   "execution_count": null,
   "metadata": {},
   "outputs": [],
   "source": []
  },
  {
   "cell_type": "code",
   "execution_count": 76,
   "metadata": {},
   "outputs": [],
   "source": [
    "class ListNode:\n",
    "    def __init__(self, val, next=None):\n",
    "        self.val = val\n",
    "        self.next = next"
   ]
  },
  {
   "cell_type": "code",
   "execution_count": 75,
   "metadata": {},
   "outputs": [],
   "source": [
    "class Solution:\n",
    "    def sort(self, head):\n",
    "        if head == None or head.next == None:\n",
    "            return head\n",
    "        \n",
    "        fast, slow = head, head\n",
    "        while slow and fast.next:\n",
    "            slow = slow.next\n",
    "            fast = fast.next.next\n",
    "            \n",
    "        head2 = slow.next\n",
    "        slow.next = None\n",
    "        head1 = self.sort(head)\n",
    "        head2 = self.sort(head2)\n",
    "        \n",
    "        return self.merge(head1, head2)\n",
    "    \n",
    "    def merge(self, head1, head2):\n",
    "        dummy = ListNode(0)\n",
    "        head = dummy\n",
    "        \n",
    "        while head1 and head2:\n",
    "            if head1.val < head2.val:\n",
    "                dummy.next = head1\n",
    "                head1 = head1.next\n",
    "            else:\n",
    "                dummy.next = head2\n",
    "                head2 = head2.next\n",
    "            dummy = dummy.next\n",
    "        \n",
    "        if head1:\n",
    "            dummy.next = head1\n",
    "        if head2:\n",
    "            dummy.next = head2\n",
    "        \n",
    "        return head"
   ]
  },
  {
   "cell_type": "code",
   "execution_count": null,
   "metadata": {},
   "outputs": [],
   "source": []
  },
  {
   "cell_type": "code",
   "execution_count": null,
   "metadata": {},
   "outputs": [],
   "source": []
  },
  {
   "cell_type": "code",
   "execution_count": null,
   "metadata": {},
   "outputs": [],
   "source": [
    "class ArrayQueue:\n",
    "    def __init__(self, length):\n",
    "        self.nums = [None]*length\n",
    "        self.count = 0\n",
    "        self.head = 0\n",
    "        self.tail = 0\n",
    "        self.maxSize = length\n",
    "    \n",
    "    def push(self, num):\n",
    "        if self.count == self.maxSize:\n",
    "            raise Exception(\"Queue full.\")\n",
    "        \n",
    "        self.nums[self.head%self.maxSize] == num\n",
    "        self.head += 1\n",
    "        self.count += 1\n",
    "        return\n",
    "    \n",
    "    def pop(self):\n",
    "        if self.count == 0:\n",
    "            raise Exception(\"Queue Empty.\")\n",
    "        \n",
    "        num = self.nums[self.tail%self.maxSize]\n",
    "        self.tail += 1\n",
    "        self.count -= 1\n",
    "        return num\n",
    "    \n",
    "    def size(self):\n",
    "        return self.count"
   ]
  }
 ],
 "metadata": {
  "kernelspec": {
   "display_name": "Python 3",
   "language": "python",
   "name": "python3"
  },
  "language_info": {
   "codemirror_mode": {
    "name": "ipython",
    "version": 3
   },
   "file_extension": ".py",
   "mimetype": "text/x-python",
   "name": "python",
   "nbconvert_exporter": "python",
   "pygments_lexer": "ipython3",
   "version": "3.7.8"
  }
 },
 "nbformat": 4,
 "nbformat_minor": 4
}
