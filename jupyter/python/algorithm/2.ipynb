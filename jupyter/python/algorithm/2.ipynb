{
 "cells": [
  {
   "cell_type": "code",
   "execution_count": 9,
   "metadata": {},
   "outputs": [],
   "source": [
    "class Solution:\n",
    "    def getRepeat(self, nums):\n",
    "        num = 0\n",
    "        for i in range(len(nums)):\n",
    "            while nums[i] != i:\n",
    "                num += 1\n",
    "                if num == 20:\n",
    "                    return False\n",
    "                print(\"i is:{}\\t nums[i] is:{},nums[nums[i]] is:{}\".format(i, nums[i], nums[nums[i]]))\n",
    "                if nums[i] == nums[nums[i]]:\n",
    "                    print(nums[i])\n",
    "                    return False\n",
    "#                 nums[nums[i]], nums[i] = nums[i], nums[nums[i]]\n",
    "                temp = nums[i]\n",
    "                nums[i] = nums[nums[i]]\n",
    "                nums[temp] = temp\n",
    "                print('\\n\\n')\n",
    "        return True\n",
    "\n"
   ]
  },
  {
   "cell_type": "code",
   "execution_count": 10,
   "metadata": {},
   "outputs": [
    {
     "name": "stdout",
     "output_type": "stream",
     "text": [
      "i is:0\t nums[i] is:2,nums[nums[i]] is:1\n",
      "\n",
      "\n",
      "\n",
      "i is:0\t nums[i] is:1,nums[nums[i]] is:3\n",
      "\n",
      "\n",
      "\n",
      "i is:0\t nums[i] is:3,nums[nums[i]] is:0\n",
      "\n",
      "\n",
      "\n",
      "i is:4\t nums[i] is:2,nums[nums[i]] is:2\n",
      "2\n"
     ]
    },
    {
     "data": {
      "text/plain": [
       "False"
      ]
     },
     "execution_count": 10,
     "metadata": {},
     "output_type": "execute_result"
    }
   ],
   "source": [
    "s = Solution()\n",
    "nums = [2,3,1,0,2,5,3]\n",
    "s.getRepeat(nums)"
   ]
  },
  {
   "cell_type": "code",
   "execution_count": 7,
   "metadata": {},
   "outputs": [],
   "source": [
    "nums[1], nums[2] = nums[2],nums[1]"
   ]
  },
  {
   "cell_type": "code",
   "execution_count": 4,
   "metadata": {},
   "outputs": [
    {
     "data": {
      "text/plain": [
       "[2, 1, 3, 0, 2, 5, 3]"
      ]
     },
     "execution_count": 4,
     "metadata": {},
     "output_type": "execute_result"
    }
   ],
   "source": [
    "nums"
   ]
  },
  {
   "cell_type": "code",
   "execution_count": 14,
   "metadata": {},
   "outputs": [],
   "source": [
    "class Solution:\n",
    "    def getRepeat(self, nums):\n",
    "        start, end = 0, len(nums)-1\n",
    "        \n",
    "        while start <= end:\n",
    "            mid = (end-start)//2 + start\n",
    "            count = self.getCount(nums,start, mid)\n",
    "            \n",
    "            if start == end:\n",
    "                if count >1:\n",
    "                    print(start)\n",
    "                    return False\n",
    "                else:\n",
    "                    return True\n",
    "            \n",
    "            if count >(mid-start+1):\n",
    "                end = mid\n",
    "            else:\n",
    "                start = mid + 1\n",
    "        return True\n",
    "            \n",
    "    def getCount(self, nums, start, end):\n",
    "        count = 0\n",
    "        for i in range(len(nums)):\n",
    "            if nums[i] >= start and nums[i] <= end:\n",
    "                count += 1\n",
    "        return count"
   ]
  },
  {
   "cell_type": "code",
   "execution_count": 15,
   "metadata": {},
   "outputs": [
    {
     "name": "stdout",
     "output_type": "stream",
     "text": [
      "2\n"
     ]
    },
    {
     "data": {
      "text/plain": [
       "False"
      ]
     },
     "execution_count": 15,
     "metadata": {},
     "output_type": "execute_result"
    }
   ],
   "source": [
    "s = Solution()\n",
    "nums = [2,3,1,0,2,5,3]\n",
    "s.getRepeat(nums)"
   ]
  },
  {
   "cell_type": "code",
   "execution_count": 16,
   "metadata": {},
   "outputs": [],
   "source": [
    "class Solution:\n",
    "    def getTarget(self, nums, target):\n",
    "        m = len(nums)\n",
    "        n = len(nums[0])\n",
    "        \n",
    "        x = m-1\n",
    "        y = 0\n",
    "        while y < n and x >= 0:\n",
    "            if nums[x][y] > target:\n",
    "                x -= 1\n",
    "            elif nums[x][y] < target:\n",
    "                y += 1\n",
    "            else:\n",
    "                return True\n",
    "        return False\n",
    "\n"
   ]
  },
  {
   "cell_type": "code",
   "execution_count": 18,
   "metadata": {},
   "outputs": [
    {
     "data": {
      "text/plain": [
       "False"
      ]
     },
     "execution_count": 18,
     "metadata": {},
     "output_type": "execute_result"
    }
   ],
   "source": [
    "nums = [[1,2,8,9],[2,4,9,12],[4,7,10,13],[6,8,11,15]]\n",
    "s = Solution()\n",
    "res = s.getTarget(nums, 10.5)\n",
    "res"
   ]
  },
  {
   "cell_type": "code",
   "execution_count": 19,
   "metadata": {},
   "outputs": [],
   "source": [
    "import heapq "
   ]
  },
  {
   "cell_type": "code",
   "execution_count": 39,
   "metadata": {},
   "outputs": [],
   "source": [
    "nums = [2,1,4,5,6]\n",
    "heapq.heapify(nums)\n",
    "\n",
    "    "
   ]
  },
  {
   "cell_type": "code",
   "execution_count": 26,
   "metadata": {},
   "outputs": [
    {
     "data": {
      "text/plain": [
       "[2, 2, 4, 6, 5]"
      ]
     },
     "execution_count": 26,
     "metadata": {},
     "output_type": "execute_result"
    }
   ],
   "source": [
    "nums"
   ]
  },
  {
   "cell_type": "code",
   "execution_count": 37,
   "metadata": {},
   "outputs": [],
   "source": [
    "class Solution:\n",
    "    def heap(self, nums):\n",
    "        for i in range(len(nums)//2, -1, -1):\n",
    "            print(i)\n",
    "            self.dfs(nums, i)\n",
    "            print(nums)\n",
    "        return nums\n",
    "    def dfs(self, nums, pid):\n",
    "        mid = pid\n",
    "        lid,rid = 2*pid+1, 2*pid+2\n",
    "        \n",
    "        if lid < len(nums) and nums[lid] > nums[mid]:\n",
    "            mid = lid\n",
    "        \n",
    "        if rid < len(nums) and nums[rid] > nums[mid]:\n",
    "            mid = rid\n",
    "        \n",
    "        if mid != pid:\n",
    "            temp = nums[mid]\n",
    "            nums[mid] = nums[pid]\n",
    "            nums[pid] = temp\n",
    "            self.dfs(nums, mid)\n",
    "        return\n",
    "            "
   ]
  },
  {
   "cell_type": "code",
   "execution_count": 38,
   "metadata": {},
   "outputs": [
    {
     "name": "stdout",
     "output_type": "stream",
     "text": [
      "4\n",
      "[2, 1, 4, 63, 5, 7, 3, 10, 8]\n",
      "3\n",
      "[2, 1, 4, 63, 5, 7, 3, 10, 8]\n",
      "2\n",
      "[2, 1, 7, 63, 5, 4, 3, 10, 8]\n",
      "1\n",
      "[2, 63, 7, 10, 5, 4, 3, 1, 8]\n",
      "0\n",
      "[63, 10, 7, 8, 5, 4, 3, 1, 2]\n",
      "[63, 10, 7, 8, 5, 4, 3, 1, 2]\n"
     ]
    }
   ],
   "source": [
    "s = Solution()\n",
    "nums = [2,1,4,63,5,7,3,10,8]\n",
    "res = s.heap(nums)\n",
    "print(res)"
   ]
  },
  {
   "cell_type": "code",
   "execution_count": 49,
   "metadata": {},
   "outputs": [],
   "source": [
    "class Solution:\n",
    "    def getNum(self, nums):\n",
    "        nums = sorted(nums, key=lambda x:x[0])\n",
    "        ans = [nums[0][1]]\n",
    "        heapq.heapify(ans)\n",
    "        \n",
    "        for i in range(1, len(nums)):\n",
    "            if nums[i][0] <= ans[0]:\n",
    "                heapq.heappush(ans, nums[i][1])\n",
    "            else:\n",
    "                heapq.heappop(ans)\n",
    "                heapq.heappush(ans, nums[i][1])\n",
    "        return len(ans)\n",
    "        \n"
   ]
  },
  {
   "cell_type": "code",
   "execution_count": 51,
   "metadata": {},
   "outputs": [
    {
     "data": {
      "text/plain": [
       "1"
      ]
     },
     "execution_count": 51,
     "metadata": {},
     "output_type": "execute_result"
    }
   ],
   "source": [
    "# nums = [[0, 30],[5, 10],[15, 20]]\n",
    "nums = [[7,10],[2,4]]\n",
    "s = Solution()\n",
    "ans = s.getNum(nums)\n",
    "ans"
   ]
  },
  {
   "cell_type": "code",
   "execution_count": null,
   "metadata": {},
   "outputs": [],
   "source": []
  },
  {
   "cell_type": "code",
   "execution_count": null,
   "metadata": {},
   "outputs": [],
   "source": []
  },
  {
   "cell_type": "code",
   "execution_count": 42,
   "metadata": {},
   "outputs": [],
   "source": [
    "nums = [2,4,1,3,5,8,7,6]\n",
    "heapq.heapify(nums)"
   ]
  },
  {
   "cell_type": "code",
   "execution_count": 43,
   "metadata": {},
   "outputs": [],
   "source": [
    "a = nums[0]"
   ]
  },
  {
   "cell_type": "code",
   "execution_count": 44,
   "metadata": {},
   "outputs": [
    {
     "data": {
      "text/plain": [
       "1"
      ]
     },
     "execution_count": 44,
     "metadata": {},
     "output_type": "execute_result"
    }
   ],
   "source": [
    "a\n"
   ]
  },
  {
   "cell_type": "code",
   "execution_count": 46,
   "metadata": {},
   "outputs": [
    {
     "data": {
      "text/plain": [
       "[1, 3, 2, 4, 5, 8, 7, 6]"
      ]
     },
     "execution_count": 46,
     "metadata": {},
     "output_type": "execute_result"
    }
   ],
   "source": [
    "nums"
   ]
  },
  {
   "cell_type": "code",
   "execution_count": 52,
   "metadata": {},
   "outputs": [],
   "source": [
    "\n",
    "class Solution(object):\n",
    "    def lengthOfLIS(self, nums):\n",
    "        \"\"\"\n",
    "        :type nums: List[int]\n",
    "        :rtype: int\n",
    "        \"\"\"\n",
    "        l = len(nums)\n",
    "        if l == 0:\n",
    "            return 0\n",
    "        tmp = [nums[0]]\n",
    "        j = 0\n",
    "        for i in range(1,l):\n",
    "            if nums[i] <= tmp[0] and j == 0:\n",
    "                tmp[0] = nums[i]\n",
    "            elif nums[i] > tmp[-1]:\n",
    "                tmp.append(nums[i])\n",
    "                j = 1\n",
    "            elif tmp[0] < nums[i] and nums[i] < tmp[-1]:\n",
    "                loc = self.twoFind(tmp,nums[i],0,len(tmp)-1)\n",
    "                tmp[loc] = nums[i]\n",
    "                j = 1\n",
    "        return(len(tmp))\n",
    "    \n",
    "############# 二分查找 ###################\n",
    "    def twoFind(self,nums,t,first,last):\n",
    "        if first > last:\n",
    "            return -1\n",
    "        mid = (first+last)//2\n",
    "        if t <= nums[mid]:  ## 和普通二分查找不太一样的地方，找到nums[k-1] < t <nums[k]的位置\n",
    "            if t >= nums[mid-1]:\n",
    "                return mid\n",
    "            else:\n",
    "                last = mid - 1\n",
    "        else:\n",
    "            first = mid + 1\n",
    "        return self.twoFind(nums,t,first,last)"
   ]
  },
  {
   "cell_type": "code",
   "execution_count": null,
   "metadata": {},
   "outputs": [],
   "source": []
  },
  {
   "cell_type": "code",
   "execution_count": null,
   "metadata": {},
   "outputs": [],
   "source": []
  },
  {
   "cell_type": "code",
   "execution_count": 61,
   "metadata": {},
   "outputs": [],
   "source": [
    "class Solution:\n",
    "    def getIndex(self, nums, target):\n",
    "        left, right = 0, len(nums)-1\n",
    "        \n",
    "        while left < right:\n",
    "            mid = (right-left+1)//2 + left\n",
    "            \n",
    "            if nums[mid] > target:\n",
    "                right = mid -1 \n",
    "            else:\n",
    "                left = mid + 1\n",
    "        if nums[right] < target:\n",
    "            nums.insert(right+1, target)\n",
    "        else:\n",
    "            nums.insert(right, target)\n",
    "        return nums\n",
    "                "
   ]
  },
  {
   "cell_type": "code",
   "execution_count": 65,
   "metadata": {},
   "outputs": [
    {
     "name": "stdout",
     "output_type": "stream",
     "text": [
      "[1, 2, 3, 4, 4, 5, 6, 7, 8, 9]\n"
     ]
    }
   ],
   "source": [
    "s = Solution()\n",
    "nums = [1,2,3,4,4,5,6,8,9]\n",
    "target = 7\n",
    "res = s.getIndex(nums, target)\n",
    "print(res)"
   ]
  },
  {
   "cell_type": "code",
   "execution_count": null,
   "metadata": {},
   "outputs": [],
   "source": [
    "class Solution:\n",
    "    def getLongest(self, nums):\n",
    "    \n",
    "    def insertNum(self, dp, target):\n",
    "        left, right = 0, len(dp)-1\n",
    "        \n",
    "        while left < right:\n",
    "            mid = \n",
    "\n",
    "\n"
   ]
  }
 ],
 "metadata": {
  "kernelspec": {
   "display_name": "Python 3",
   "language": "python",
   "name": "python3"
  },
  "language_info": {
   "codemirror_mode": {
    "name": "ipython",
    "version": 3
   },
   "file_extension": ".py",
   "mimetype": "text/x-python",
   "name": "python",
   "nbconvert_exporter": "python",
   "pygments_lexer": "ipython3",
   "version": "3.7.8"
  }
 },
 "nbformat": 4,
 "nbformat_minor": 4
}
