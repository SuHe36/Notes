{
 "cells": [
  {
   "cell_type": "code",
   "execution_count": 1,
   "metadata": {},
   "outputs": [],
   "source": [
    "import numpy as np\n",
    "import matplotlib.pyplot as plt\n"
   ]
  },
  {
   "cell_type": "code",
   "execution_count": 3,
   "metadata": {},
   "outputs": [],
   "source": [
    "lines = open(\"../data/stageII_mask.txt\").readlines()"
   ]
  },
  {
   "cell_type": "code",
   "execution_count": 59,
   "metadata": {},
   "outputs": [],
   "source": [
    "d = dict()\n",
    "total1 = 0\n",
    "for line in lines:\n",
    "    splits = line.strip().split(\":\")\n",
    "    k,v = \":\".join(splits[:-1]),splits[-1]\n",
    "    d[k] = int(v)\n",
    "    total1 += int(v)"
   ]
  },
  {
   "cell_type": "code",
   "execution_count": 60,
   "metadata": {},
   "outputs": [
    {
     "data": {
      "text/plain": [
       "721324"
      ]
     },
     "execution_count": 60,
     "metadata": {},
     "output_type": "execute_result"
    }
   ],
   "source": [
    "total1\n"
   ]
  },
  {
   "cell_type": "code",
   "execution_count": 13,
   "metadata": {},
   "outputs": [
    {
     "data": {
      "image/png": "[encoded data removed]",
      "text/plain": [
       "<Figure size 432x288 with 1 Axes>"
      ]
     },
     "metadata": {
      "needs_background": "light"
     },
     "output_type": "display_data"
    }
   ],
   "source": [
    "plt.bar(x,y)\n",
    "plt.show()"
   ]
  },
  {
   "cell_type": "code",
   "execution_count": 14,
   "metadata": {},
   "outputs": [
    {
     "data": {
      "text/plain": [
       "<Figure size 432x288 with 0 Axes>"
      ]
     },
     "execution_count": 14,
     "metadata": {},
     "output_type": "execute_result"
    },
    {
     "data": {
      "text/plain": [
       "<Figure size 432x288 with 0 Axes>"
      ]
     },
     "metadata": {},
     "output_type": "display_data"
    }
   ],
   "source": [
    "plt.figure()"
   ]
  },
  {
   "cell_type": "code",
   "execution_count": 17,
   "metadata": {},
   "outputs": [
    {
     "data": {
      "text/plain": [
       "(array([2.2136e+04, 3.3000e+02, 1.3800e+02, 6.6000e+01, 3.2000e+01,\n",
       "        2.7000e+01, 3.4000e+01, 2.1000e+01, 9.0000e+00, 1.0000e+01,\n",
       "        7.0000e+00, 1.5000e+01, 5.0000e+00, 5.0000e+00, 7.0000e+00,\n",
       "        2.0000e+00, 2.0000e+00, 3.0000e+00, 1.0000e+01, 6.0000e+00,\n",
       "        0.0000e+00, 3.0000e+00, 3.0000e+00, 0.0000e+00, 3.0000e+00,\n",
       "        4.0000e+00, 4.0000e+00, 0.0000e+00, 3.0000e+00, 1.0000e+00,\n",
       "        1.0000e+00, 1.0000e+00, 2.0000e+00, 1.0000e+00, 1.0000e+00,\n",
       "        1.0000e+00, 3.0000e+00, 1.0000e+00, 0.0000e+00, 1.0000e+00,\n",
       "        1.0000e+00, 0.0000e+00, 0.0000e+00, 1.0000e+00, 3.0000e+00,\n",
       "        1.0000e+00, 1.0000e+00, 0.0000e+00, 1.0000e+00, 0.0000e+00,\n",
       "        1.0000e+00, 0.0000e+00, 0.0000e+00, 0.0000e+00, 0.0000e+00,\n",
       "        0.0000e+00, 0.0000e+00, 0.0000e+00, 1.0000e+00, 0.0000e+00,\n",
       "        0.0000e+00, 0.0000e+00, 1.0000e+00, 1.0000e+00, 1.0000e+00,\n",
       "        0.0000e+00, 0.0000e+00, 0.0000e+00, 0.0000e+00, 0.0000e+00,\n",
       "        0.0000e+00, 0.0000e+00, 0.0000e+00, 0.0000e+00, 1.0000e+00,\n",
       "        0.0000e+00, 0.0000e+00, 0.0000e+00, 0.0000e+00, 0.0000e+00,\n",
       "        0.0000e+00, 0.0000e+00, 0.0000e+00, 1.0000e+00, 0.0000e+00,\n",
       "        0.0000e+00, 1.0000e+00, 1.0000e+00, 0.0000e+00, 0.0000e+00,\n",
       "        0.0000e+00, 1.0000e+00, 0.0000e+00, 0.0000e+00, 0.0000e+00,\n",
       "        1.0000e+00, 0.0000e+00, 0.0000e+00, 0.0000e+00, 0.0000e+00,\n",
       "        0.0000e+00, 2.0000e+00, 0.0000e+00, 0.0000e+00, 0.0000e+00,\n",
       "        1.0000e+00, 0.0000e+00, 0.0000e+00, 1.0000e+00, 0.0000e+00,\n",
       "        0.0000e+00, 0.0000e+00, 0.0000e+00, 0.0000e+00, 0.0000e+00,\n",
       "        0.0000e+00, 0.0000e+00, 0.0000e+00, 0.0000e+00, 0.0000e+00,\n",
       "        0.0000e+00, 0.0000e+00, 0.0000e+00, 0.0000e+00, 0.0000e+00,\n",
       "        0.0000e+00, 0.0000e+00, 0.0000e+00, 0.0000e+00, 0.0000e+00,\n",
       "        0.0000e+00, 1.0000e+00, 0.0000e+00, 1.0000e+00, 0.0000e+00,\n",
       "        0.0000e+00, 0.0000e+00, 0.0000e+00, 0.0000e+00, 0.0000e+00,\n",
       "        0.0000e+00, 1.0000e+00, 0.0000e+00, 0.0000e+00, 0.0000e+00,\n",
       "        0.0000e+00, 0.0000e+00, 0.0000e+00, 0.0000e+00, 0.0000e+00,\n",
       "        0.0000e+00, 0.0000e+00, 0.0000e+00, 1.0000e+00, 0.0000e+00,\n",
       "        0.0000e+00, 0.0000e+00, 1.0000e+00, 0.0000e+00, 0.0000e+00,\n",
       "        0.0000e+00, 0.0000e+00, 0.0000e+00, 0.0000e+00, 0.0000e+00,\n",
       "        0.0000e+00, 0.0000e+00, 0.0000e+00, 0.0000e+00, 0.0000e+00,\n",
       "        0.0000e+00, 0.0000e+00, 0.0000e+00, 0.0000e+00, 0.0000e+00,\n",
       "        0.0000e+00, 0.0000e+00, 0.0000e+00, 0.0000e+00, 0.0000e+00,\n",
       "        0.0000e+00, 0.0000e+00, 0.0000e+00, 0.0000e+00, 0.0000e+00,\n",
       "        0.0000e+00, 0.0000e+00, 1.0000e+00, 0.0000e+00, 0.0000e+00,\n",
       "        0.0000e+00, 0.0000e+00, 0.0000e+00, 0.0000e+00, 0.0000e+00,\n",
       "        0.0000e+00, 0.0000e+00, 0.0000e+00, 0.0000e+00, 0.0000e+00,\n",
       "        0.0000e+00, 0.0000e+00, 0.0000e+00, 0.0000e+00, 0.0000e+00,\n",
       "        0.0000e+00, 0.0000e+00, 0.0000e+00, 0.0000e+00, 0.0000e+00,\n",
       "        0.0000e+00, 0.0000e+00, 0.0000e+00, 0.0000e+00, 0.0000e+00,\n",
       "        0.0000e+00, 0.0000e+00, 0.0000e+00, 0.0000e+00, 0.0000e+00,\n",
       "        0.0000e+00, 0.0000e+00, 0.0000e+00, 0.0000e+00, 0.0000e+00,\n",
       "        0.0000e+00, 0.0000e+00, 0.0000e+00, 0.0000e+00, 0.0000e+00,\n",
       "        0.0000e+00, 0.0000e+00, 0.0000e+00, 0.0000e+00, 0.0000e+00,\n",
       "        0.0000e+00, 0.0000e+00, 0.0000e+00, 0.0000e+00, 0.0000e+00,\n",
       "        0.0000e+00, 0.0000e+00, 0.0000e+00, 0.0000e+00, 0.0000e+00,\n",
       "        0.0000e+00, 0.0000e+00, 0.0000e+00, 0.0000e+00, 0.0000e+00,\n",
       "        0.0000e+00, 0.0000e+00, 0.0000e+00, 0.0000e+00, 0.0000e+00,\n",
       "        0.0000e+00, 0.0000e+00, 0.0000e+00, 0.0000e+00, 0.0000e+00,\n",
       "        0.0000e+00, 0.0000e+00, 0.0000e+00, 0.0000e+00, 0.0000e+00,\n",
       "        0.0000e+00, 0.0000e+00, 0.0000e+00, 0.0000e+00, 0.0000e+00,\n",
       "        0.0000e+00, 0.0000e+00, 0.0000e+00, 0.0000e+00, 0.0000e+00,\n",
       "        0.0000e+00, 0.0000e+00, 0.0000e+00, 0.0000e+00, 0.0000e+00,\n",
       "        0.0000e+00, 0.0000e+00, 0.0000e+00, 0.0000e+00, 0.0000e+00,\n",
       "        0.0000e+00, 0.0000e+00, 0.0000e+00, 0.0000e+00, 0.0000e+00,\n",
       "        1.0000e+00, 0.0000e+00, 0.0000e+00, 0.0000e+00, 0.0000e+00,\n",
       "        0.0000e+00, 0.0000e+00, 0.0000e+00, 0.0000e+00, 0.0000e+00,\n",
       "        0.0000e+00, 0.0000e+00, 0.0000e+00, 0.0000e+00, 0.0000e+00,\n",
       "        0.0000e+00, 0.0000e+00, 0.0000e+00, 0.0000e+00, 0.0000e+00,\n",
       "        0.0000e+00, 0.0000e+00, 0.0000e+00, 0.0000e+00, 0.0000e+00,\n",
       "        0.0000e+00, 0.0000e+00, 0.0000e+00, 0.0000e+00, 0.0000e+00,\n",
       "        0.0000e+00, 0.0000e+00, 0.0000e+00, 0.0000e+00, 0.0000e+00,\n",
       "        0.0000e+00, 0.0000e+00, 0.0000e+00, 0.0000e+00, 0.0000e+00,\n",
       "        0.0000e+00, 0.0000e+00, 0.0000e+00, 0.0000e+00, 0.0000e+00,\n",
       "        0.0000e+00, 1.0000e+00, 0.0000e+00, 0.0000e+00, 0.0000e+00,\n",
       "        0.0000e+00, 0.0000e+00, 0.0000e+00, 0.0000e+00, 0.0000e+00,\n",
       "        0.0000e+00, 0.0000e+00, 0.0000e+00, 0.0000e+00, 0.0000e+00,\n",
       "        0.0000e+00, 0.0000e+00, 0.0000e+00, 0.0000e+00, 0.0000e+00,\n",
       "        0.0000e+00, 0.0000e+00, 0.0000e+00, 0.0000e+00, 0.0000e+00,\n",
       "        0.0000e+00, 0.0000e+00, 0.0000e+00, 0.0000e+00, 0.0000e+00,\n",
       "        0.0000e+00, 0.0000e+00, 0.0000e+00, 1.0000e+00, 0.0000e+00,\n",
       "        0.0000e+00, 0.0000e+00, 0.0000e+00, 0.0000e+00, 0.0000e+00,\n",
       "        1.0000e+00, 0.0000e+00, 0.0000e+00, 0.0000e+00, 0.0000e+00,\n",
       "        0.0000e+00, 0.0000e+00, 0.0000e+00, 0.0000e+00, 0.0000e+00,\n",
       "        0.0000e+00, 0.0000e+00, 0.0000e+00, 0.0000e+00, 0.0000e+00,\n",
       "        0.0000e+00, 0.0000e+00, 0.0000e+00, 0.0000e+00, 0.0000e+00,\n",
       "        0.0000e+00, 0.0000e+00, 0.0000e+00, 0.0000e+00, 0.0000e+00,\n",
       "        0.0000e+00, 0.0000e+00, 0.0000e+00, 0.0000e+00, 0.0000e+00,\n",
       "        0.0000e+00, 0.0000e+00, 0.0000e+00, 0.0000e+00, 0.0000e+00,\n",
       "        0.0000e+00, 0.0000e+00, 0.0000e+00, 0.0000e+00, 0.0000e+00,\n",
       "        0.0000e+00, 0.0000e+00, 0.0000e+00, 0.0000e+00, 0.0000e+00,\n",
       "        0.0000e+00, 0.0000e+00, 0.0000e+00, 0.0000e+00, 0.0000e+00,\n",
       "        0.0000e+00, 0.0000e+00, 0.0000e+00, 0.0000e+00, 0.0000e+00,\n",
       "        0.0000e+00, 0.0000e+00, 0.0000e+00, 0.0000e+00, 0.0000e+00,\n",
       "        0.0000e+00, 0.0000e+00, 0.0000e+00, 0.0000e+00, 0.0000e+00,\n",
       "        0.0000e+00, 0.0000e+00, 0.0000e+00, 0.0000e+00, 0.0000e+00,\n",
       "        0.0000e+00, 0.0000e+00, 0.0000e+00, 0.0000e+00, 0.0000e+00,\n",
       "        0.0000e+00, 0.0000e+00, 0.0000e+00, 0.0000e+00, 0.0000e+00,\n",
       "        0.0000e+00, 0.0000e+00, 0.0000e+00, 0.0000e+00, 0.0000e+00,\n",
       "        0.0000e+00, 0.0000e+00, 0.0000e+00, 0.0000e+00, 0.0000e+00,\n",
       "        0.0000e+00, 0.0000e+00, 0.0000e+00, 0.0000e+00, 0.0000e+00,\n",
       "        0.0000e+00, 0.0000e+00, 0.0000e+00, 0.0000e+00, 0.0000e+00,\n",
       "        0.0000e+00, 0.0000e+00, 0.0000e+00, 0.0000e+00, 0.0000e+00,\n",
       "        0.0000e+00, 0.0000e+00, 0.0000e+00, 0.0000e+00, 0.0000e+00,\n",
       "        0.0000e+00, 0.0000e+00, 0.0000e+00, 0.0000e+00, 0.0000e+00,\n",
       "        0.0000e+00, 0.0000e+00, 0.0000e+00, 0.0000e+00, 0.0000e+00,\n",
       "        0.0000e+00, 0.0000e+00, 0.0000e+00, 0.0000e+00, 1.0000e+00]),\n",
       " array([1.0000000e+00, 7.6488000e+01, 1.5197600e+02, 2.2746400e+02,\n",
       "        3.0295200e+02, 3.7844000e+02, 4.5392800e+02, 5.2941600e+02,\n",
       "        6.0490400e+02, 6.8039200e+02, 7.5588000e+02, 8.3136800e+02,\n",
       "        9.0685600e+02, 9.8234400e+02, 1.0578320e+03, 1.1333200e+03,\n",
       "        1.2088080e+03, 1.2842960e+03, 1.3597840e+03, 1.4352720e+03,\n",
       "        1.5107600e+03, 1.5862480e+03, 1.6617360e+03, 1.7372240e+03,\n",
       "        1.8127120e+03, 1.8882000e+03, 1.9636880e+03, 2.0391760e+03,\n",
       "        2.1146640e+03, 2.1901520e+03, 2.2656400e+03, 2.3411280e+03,\n",
       "        2.4166160e+03, 2.4921040e+03, 2.5675920e+03, 2.6430800e+03,\n",
       "        2.7185680e+03, 2.7940560e+03, 2.8695440e+03, 2.9450320e+03,\n",
       "        3.0205200e+03, 3.0960080e+03, 3.1714960e+03, 3.2469840e+03,\n",
       "        3.3224720e+03, 3.3979600e+03, 3.4734480e+03, 3.5489360e+03,\n",
       "        3.6244240e+03, 3.6999120e+03, 3.7754000e+03, 3.8508880e+03,\n",
       "        3.9263760e+03, 4.0018640e+03, 4.0773520e+03, 4.1528400e+03,\n",
       "        4.2283280e+03, 4.3038160e+03, 4.3793040e+03, 4.4547920e+03,\n",
       "        4.5302800e+03, 4.6057680e+03, 4.6812560e+03, 4.7567440e+03,\n",
       "        4.8322320e+03, 4.9077200e+03, 4.9832080e+03, 5.0586960e+03,\n",
       "        5.1341840e+03, 5.2096720e+03, 5.2851600e+03, 5.3606480e+03,\n",
       "        5.4361360e+03, 5.5116240e+03, 5.5871120e+03, 5.6626000e+03,\n",
       "        5.7380880e+03, 5.8135760e+03, 5.8890640e+03, 5.9645520e+03,\n",
       "        6.0400400e+03, 6.1155280e+03, 6.1910160e+03, 6.2665040e+03,\n",
       "        6.3419920e+03, 6.4174800e+03, 6.4929680e+03, 6.5684560e+03,\n",
       "        6.6439440e+03, 6.7194320e+03, 6.7949200e+03, 6.8704080e+03,\n",
       "        6.9458960e+03, 7.0213840e+03, 7.0968720e+03, 7.1723600e+03,\n",
       "        7.2478480e+03, 7.3233360e+03, 7.3988240e+03, 7.4743120e+03,\n",
       "        7.5498000e+03, 7.6252880e+03, 7.7007760e+03, 7.7762640e+03,\n",
       "        7.8517520e+03, 7.9272400e+03, 8.0027280e+03, 8.0782160e+03,\n",
       "        8.1537040e+03, 8.2291920e+03, 8.3046800e+03, 8.3801680e+03,\n",
       "        8.4556560e+03, 8.5311440e+03, 8.6066320e+03, 8.6821200e+03,\n",
       "        8.7576080e+03, 8.8330960e+03, 8.9085840e+03, 8.9840720e+03,\n",
       "        9.0595600e+03, 9.1350480e+03, 9.2105360e+03, 9.2860240e+03,\n",
       "        9.3615120e+03, 9.4370000e+03, 9.5124880e+03, 9.5879760e+03,\n",
       "        9.6634640e+03, 9.7389520e+03, 9.8144400e+03, 9.8899280e+03,\n",
       "        9.9654160e+03, 1.0040904e+04, 1.0116392e+04, 1.0191880e+04,\n",
       "        1.0267368e+04, 1.0342856e+04, 1.0418344e+04, 1.0493832e+04,\n",
       "        1.0569320e+04, 1.0644808e+04, 1.0720296e+04, 1.0795784e+04,\n",
       "        1.0871272e+04, 1.0946760e+04, 1.1022248e+04, 1.1097736e+04,\n",
       "        1.1173224e+04, 1.1248712e+04, 1.1324200e+04, 1.1399688e+04,\n",
       "        1.1475176e+04, 1.1550664e+04, 1.1626152e+04, 1.1701640e+04,\n",
       "        1.1777128e+04, 1.1852616e+04, 1.1928104e+04, 1.2003592e+04,\n",
       "        1.2079080e+04, 1.2154568e+04, 1.2230056e+04, 1.2305544e+04,\n",
       "        1.2381032e+04, 1.2456520e+04, 1.2532008e+04, 1.2607496e+04,\n",
       "        1.2682984e+04, 1.2758472e+04, 1.2833960e+04, 1.2909448e+04,\n",
       "        1.2984936e+04, 1.3060424e+04, 1.3135912e+04, 1.3211400e+04,\n",
       "        1.3286888e+04, 1.3362376e+04, 1.3437864e+04, 1.3513352e+04,\n",
       "        1.3588840e+04, 1.3664328e+04, 1.3739816e+04, 1.3815304e+04,\n",
       "        1.3890792e+04, 1.3966280e+04, 1.4041768e+04, 1.4117256e+04,\n",
       "        1.4192744e+04, 1.4268232e+04, 1.4343720e+04, 1.4419208e+04,\n",
       "        1.4494696e+04, 1.4570184e+04, 1.4645672e+04, 1.4721160e+04,\n",
       "        1.4796648e+04, 1.4872136e+04, 1.4947624e+04, 1.5023112e+04,\n",
       "        1.5098600e+04, 1.5174088e+04, 1.5249576e+04, 1.5325064e+04,\n",
       "        1.5400552e+04, 1.5476040e+04, 1.5551528e+04, 1.5627016e+04,\n",
       "        1.5702504e+04, 1.5777992e+04, 1.5853480e+04, 1.5928968e+04,\n",
       "        1.6004456e+04, 1.6079944e+04, 1.6155432e+04, 1.6230920e+04,\n",
       "        1.6306408e+04, 1.6381896e+04, 1.6457384e+04, 1.6532872e+04,\n",
       "        1.6608360e+04, 1.6683848e+04, 1.6759336e+04, 1.6834824e+04,\n",
       "        1.6910312e+04, 1.6985800e+04, 1.7061288e+04, 1.7136776e+04,\n",
       "        1.7212264e+04, 1.7287752e+04, 1.7363240e+04, 1.7438728e+04,\n",
       "        1.7514216e+04, 1.7589704e+04, 1.7665192e+04, 1.7740680e+04,\n",
       "        1.7816168e+04, 1.7891656e+04, 1.7967144e+04, 1.8042632e+04,\n",
       "        1.8118120e+04, 1.8193608e+04, 1.8269096e+04, 1.8344584e+04,\n",
       "        1.8420072e+04, 1.8495560e+04, 1.8571048e+04, 1.8646536e+04,\n",
       "        1.8722024e+04, 1.8797512e+04, 1.8873000e+04, 1.8948488e+04,\n",
       "        1.9023976e+04, 1.9099464e+04, 1.9174952e+04, 1.9250440e+04,\n",
       "        1.9325928e+04, 1.9401416e+04, 1.9476904e+04, 1.9552392e+04,\n",
       "        1.9627880e+04, 1.9703368e+04, 1.9778856e+04, 1.9854344e+04,\n",
       "        1.9929832e+04, 2.0005320e+04, 2.0080808e+04, 2.0156296e+04,\n",
       "        2.0231784e+04, 2.0307272e+04, 2.0382760e+04, 2.0458248e+04,\n",
       "        2.0533736e+04, 2.0609224e+04, 2.0684712e+04, 2.0760200e+04,\n",
       "        2.0835688e+04, 2.0911176e+04, 2.0986664e+04, 2.1062152e+04,\n",
       "        2.1137640e+04, 2.1213128e+04, 2.1288616e+04, 2.1364104e+04,\n",
       "        2.1439592e+04, 2.1515080e+04, 2.1590568e+04, 2.1666056e+04,\n",
       "        2.1741544e+04, 2.1817032e+04, 2.1892520e+04, 2.1968008e+04,\n",
       "        2.2043496e+04, 2.2118984e+04, 2.2194472e+04, 2.2269960e+04,\n",
       "        2.2345448e+04, 2.2420936e+04, 2.2496424e+04, 2.2571912e+04,\n",
       "        2.2647400e+04, 2.2722888e+04, 2.2798376e+04, 2.2873864e+04,\n",
       "        2.2949352e+04, 2.3024840e+04, 2.3100328e+04, 2.3175816e+04,\n",
       "        2.3251304e+04, 2.3326792e+04, 2.3402280e+04, 2.3477768e+04,\n",
       "        2.3553256e+04, 2.3628744e+04, 2.3704232e+04, 2.3779720e+04,\n",
       "        2.3855208e+04, 2.3930696e+04, 2.4006184e+04, 2.4081672e+04,\n",
       "        2.4157160e+04, 2.4232648e+04, 2.4308136e+04, 2.4383624e+04,\n",
       "        2.4459112e+04, 2.4534600e+04, 2.4610088e+04, 2.4685576e+04,\n",
       "        2.4761064e+04, 2.4836552e+04, 2.4912040e+04, 2.4987528e+04,\n",
       "        2.5063016e+04, 2.5138504e+04, 2.5213992e+04, 2.5289480e+04,\n",
       "        2.5364968e+04, 2.5440456e+04, 2.5515944e+04, 2.5591432e+04,\n",
       "        2.5666920e+04, 2.5742408e+04, 2.5817896e+04, 2.5893384e+04,\n",
       "        2.5968872e+04, 2.6044360e+04, 2.6119848e+04, 2.6195336e+04,\n",
       "        2.6270824e+04, 2.6346312e+04, 2.6421800e+04, 2.6497288e+04,\n",
       "        2.6572776e+04, 2.6648264e+04, 2.6723752e+04, 2.6799240e+04,\n",
       "        2.6874728e+04, 2.6950216e+04, 2.7025704e+04, 2.7101192e+04,\n",
       "        2.7176680e+04, 2.7252168e+04, 2.7327656e+04, 2.7403144e+04,\n",
       "        2.7478632e+04, 2.7554120e+04, 2.7629608e+04, 2.7705096e+04,\n",
       "        2.7780584e+04, 2.7856072e+04, 2.7931560e+04, 2.8007048e+04,\n",
       "        2.8082536e+04, 2.8158024e+04, 2.8233512e+04, 2.8309000e+04,\n",
       "        2.8384488e+04, 2.8459976e+04, 2.8535464e+04, 2.8610952e+04,\n",
       "        2.8686440e+04, 2.8761928e+04, 2.8837416e+04, 2.8912904e+04,\n",
       "        2.8988392e+04, 2.9063880e+04, 2.9139368e+04, 2.9214856e+04,\n",
       "        2.9290344e+04, 2.9365832e+04, 2.9441320e+04, 2.9516808e+04,\n",
       "        2.9592296e+04, 2.9667784e+04, 2.9743272e+04, 2.9818760e+04,\n",
       "        2.9894248e+04, 2.9969736e+04, 3.0045224e+04, 3.0120712e+04,\n",
       "        3.0196200e+04, 3.0271688e+04, 3.0347176e+04, 3.0422664e+04,\n",
       "        3.0498152e+04, 3.0573640e+04, 3.0649128e+04, 3.0724616e+04,\n",
       "        3.0800104e+04, 3.0875592e+04, 3.0951080e+04, 3.1026568e+04,\n",
       "        3.1102056e+04, 3.1177544e+04, 3.1253032e+04, 3.1328520e+04,\n",
       "        3.1404008e+04, 3.1479496e+04, 3.1554984e+04, 3.1630472e+04,\n",
       "        3.1705960e+04, 3.1781448e+04, 3.1856936e+04, 3.1932424e+04,\n",
       "        3.2007912e+04, 3.2083400e+04, 3.2158888e+04, 3.2234376e+04,\n",
       "        3.2309864e+04, 3.2385352e+04, 3.2460840e+04, 3.2536328e+04,\n",
       "        3.2611816e+04, 3.2687304e+04, 3.2762792e+04, 3.2838280e+04,\n",
       "        3.2913768e+04, 3.2989256e+04, 3.3064744e+04, 3.3140232e+04,\n",
       "        3.3215720e+04, 3.3291208e+04, 3.3366696e+04, 3.3442184e+04,\n",
       "        3.3517672e+04, 3.3593160e+04, 3.3668648e+04, 3.3744136e+04,\n",
       "        3.3819624e+04, 3.3895112e+04, 3.3970600e+04, 3.4046088e+04,\n",
       "        3.4121576e+04, 3.4197064e+04, 3.4272552e+04, 3.4348040e+04,\n",
       "        3.4423528e+04, 3.4499016e+04, 3.4574504e+04, 3.4649992e+04,\n",
       "        3.4725480e+04, 3.4800968e+04, 3.4876456e+04, 3.4951944e+04,\n",
       "        3.5027432e+04, 3.5102920e+04, 3.5178408e+04, 3.5253896e+04,\n",
       "        3.5329384e+04, 3.5404872e+04, 3.5480360e+04, 3.5555848e+04,\n",
       "        3.5631336e+04, 3.5706824e+04, 3.5782312e+04, 3.5857800e+04,\n",
       "        3.5933288e+04, 3.6008776e+04, 3.6084264e+04, 3.6159752e+04,\n",
       "        3.6235240e+04, 3.6310728e+04, 3.6386216e+04, 3.6461704e+04,\n",
       "        3.6537192e+04, 3.6612680e+04, 3.6688168e+04, 3.6763656e+04,\n",
       "        3.6839144e+04, 3.6914632e+04, 3.6990120e+04, 3.7065608e+04,\n",
       "        3.7141096e+04, 3.7216584e+04, 3.7292072e+04, 3.7367560e+04,\n",
       "        3.7443048e+04, 3.7518536e+04, 3.7594024e+04, 3.7669512e+04,\n",
       "        3.7745000e+04]),\n",
       " <BarContainer object of 500 artists>)"
      ]
     },
     "execution_count": 17,
     "metadata": {},
     "output_type": "execute_result"
    },
    {
     "data": {
      "image/png": "[encoded data removed]",
      "text/plain": [
       "<Figure size 432x288 with 1 Axes>"
      ]
     },
     "metadata": {
      "needs_background": "light"
     },
     "output_type": "display_data"
    }
   ],
   "source": [
    "plt.hist(y, bins=100,facecolor=\"blue\", edgecolor=\"black\",alpha=0.7)"
   ]
  },
  {
   "cell_type": "code",
   "execution_count": 51,
   "metadata": {},
   "outputs": [
    {
     "name": "stdout",
     "output_type": "stream",
     "text": [
      "37745\n",
      "28343\n",
      "27784\n",
      "25393\n",
      "21904\n",
      "14118\n",
      "11910\n",
      "11591\n",
      "10665\n",
      "10071\n",
      "9899\n",
      "8218\n",
      "7988\n",
      "7684\n",
      "7670\n",
      "7182\n",
      "6876\n",
      "6581\n",
      "6535\n",
      "6328\n",
      "5614\n",
      "4843\n",
      "4793\n",
      "4734\n",
      "4391\n",
      "3847\n",
      "3675\n",
      "3533\n",
      "3459\n",
      "3390\n",
      "3385\n",
      "3333\n",
      "3303\n",
      "3043\n",
      "2999\n",
      "2829\n",
      "2760\n",
      "2744\n",
      "2721\n",
      "2659\n",
      "2601\n",
      "2556\n",
      "2428\n",
      "2426\n",
      "2394\n",
      "2319\n",
      "2254\n",
      "2170\n",
      "2162\n",
      "2140\n",
      "2030\n",
      "2028\n",
      "2017\n",
      "2002\n",
      "1949\n",
      "1942\n",
      "1938\n",
      "1912\n",
      "1868\n",
      "1864\n",
      "1837\n",
      "1701\n",
      "1700\n",
      "1665\n",
      "1659\n",
      "1609\n",
      "1590\n",
      "1500\n",
      "1491\n",
      "1488\n",
      "1486\n",
      "1451\n",
      "1447\n",
      "1429\n",
      "1428\n",
      "1413\n",
      "1406\n",
      "1402\n",
      "1401\n",
      "1385\n",
      "1385\n",
      "1378\n",
      "1377\n",
      "1354\n",
      "1342\n",
      "1337\n",
      "1237\n",
      "1210\n",
      "1207\n",
      "1135\n",
      "1124\n",
      "1121\n",
      "1121\n",
      "1110\n",
      "1090\n",
      "1068\n",
      "1064\n",
      "1053\n",
      "1051\n"
     ]
    }
   ],
   "source": [
    "res = []\n",
    "num = 1\n",
    "sorted_d = sorted(d.items(), key=lambda e:e[1], reverse=True)\n",
    "for k,v in sorted_d:\n",
    "    print(v)\n",
    "#     res.extend([num]*v)\n",
    "    res = res + [num]*v\n",
    "    num += 1\n",
    "    if num >= 100:\n",
    "        break"
   ]
  },
  {
   "cell_type": "code",
   "execution_count": 52,
   "metadata": {},
   "outputs": [
    {
     "data": {
      "text/plain": [
       "<AxesSubplot:>"
      ]
     },
     "execution_count": 52,
     "metadata": {},
     "output_type": "execute_result"
    },
    {
     "data": {
      "image/png": "[encoded data removed]",
      "text/plain": [
       "<Figure size 432x288 with 1 Axes>"
      ]
     },
     "metadata": {
      "needs_background": "light"
     },
     "output_type": "display_data"
    }
   ],
   "source": [
    "plt.subplot(111)"
   ]
  },
  {
   "cell_type": "code",
   "execution_count": 53,
   "metadata": {},
   "outputs": [
    {
     "data": {
      "text/plain": [
       "(array([37745., 28343., 27784., 25393., 21904., 14118., 11910., 11591.,\n",
       "        10665., 10071.,  9899.,  8218.,  7988.,  7684.,  7670.,  7182.,\n",
       "         6876.,  6581.,  6535.,  6328.,  5614.,  4843.,  4793.,  4734.,\n",
       "         4391.,  3847.,  3675.,  3533.,  3459.,  3390.,  3385.,  3333.,\n",
       "         3303.,  3043.,  2999.,  2829.,  2760.,  2744.,  2721.,  2659.,\n",
       "         2601.,  2556.,  2428.,  2426.,  2394.,  2319.,  2254.,  2170.,\n",
       "         2162.,  2140.,  2030.,  2028.,  2017.,  2002.,  1949.,  1942.,\n",
       "         1938.,  1912.,  1868.,  1864.,  1837.,  1701.,  1700.,  1665.,\n",
       "         1659.,  1609.,  1590.,  1500.,  1491.,  1488.,  1486.,  1451.,\n",
       "         1447.,  1429.,  1428.,  1413.,  1406.,  1402.,  1401.,  1385.,\n",
       "         1385.,  1378.,  1377.,  1354.,  1342.,  1337.,  1237.,  1210.,\n",
       "         1207.,  1135.,  1124.,  1121.,  1121.,  1110.,  1090.,  1068.,\n",
       "         1064.,  1053.,  1051.,     0.]),\n",
       " array([  0.  ,   1.01,   2.02,   3.03,   4.04,   5.05,   6.06,   7.07,\n",
       "          8.08,   9.09,  10.1 ,  11.11,  12.12,  13.13,  14.14,  15.15,\n",
       "         16.16,  17.17,  18.18,  19.19,  20.2 ,  21.21,  22.22,  23.23,\n",
       "         24.24,  25.25,  26.26,  27.27,  28.28,  29.29,  30.3 ,  31.31,\n",
       "         32.32,  33.33,  34.34,  35.35,  36.36,  37.37,  38.38,  39.39,\n",
       "         40.4 ,  41.41,  42.42,  43.43,  44.44,  45.45,  46.46,  47.47,\n",
       "         48.48,  49.49,  50.5 ,  51.51,  52.52,  53.53,  54.54,  55.55,\n",
       "         56.56,  57.57,  58.58,  59.59,  60.6 ,  61.61,  62.62,  63.63,\n",
       "         64.64,  65.65,  66.66,  67.67,  68.68,  69.69,  70.7 ,  71.71,\n",
       "         72.72,  73.73,  74.74,  75.75,  76.76,  77.77,  78.78,  79.79,\n",
       "         80.8 ,  81.81,  82.82,  83.83,  84.84,  85.85,  86.86,  87.87,\n",
       "         88.88,  89.89,  90.9 ,  91.91,  92.92,  93.93,  94.94,  95.95,\n",
       "         96.96,  97.97,  98.98,  99.99, 101.  ]),\n",
       " <BarContainer object of 100 artists>)"
      ]
     },
     "execution_count": 53,
     "metadata": {},
     "output_type": "execute_result"
    },
    {
     "data": {
      "image/png": "[encoded data removed]",
      "text/plain": [
       "<Figure size 432x288 with 1 Axes>"
      ]
     },
     "metadata": {
      "needs_background": "light"
     },
     "output_type": "display_data"
    }
   ],
   "source": [
    "plt.hist(res,100,range=(0,101))"
   ]
  },
  {
   "cell_type": "code",
   "execution_count": 39,
   "metadata": {},
   "outputs": [],
   "source": [
    "a = [1]*20 + [2]*15 + [3]*10 + [4]*5"
   ]
  },
  {
   "cell_type": "code",
   "execution_count": 40,
   "metadata": {},
   "outputs": [
    {
     "data": {
      "text/plain": [
       "(array([20., 15., 10.,  5.]),\n",
       " array([0.  , 1.25, 2.5 , 3.75, 5.  ]),\n",
       " <BarContainer object of 4 artists>)"
      ]
     },
     "execution_count": 40,
     "metadata": {},
     "output_type": "execute_result"
    },
    {
     "data": {
      "image/png": "[encoded data removed]",
      "text/plain": [
       "<Figure size 432x288 with 1 Axes>"
      ]
     },
     "metadata": {
      "needs_background": "light"
     },
     "output_type": "display_data"
    }
   ],
   "source": [
    "plt.hist(a, 4, range=(0,5))"
   ]
  },
  {
   "cell_type": "code",
   "execution_count": 54,
   "metadata": {},
   "outputs": [],
   "source": [
    "lines2 = open(\"../data/stageI_mask.txt\").readlines()"
   ]
  },
  {
   "cell_type": "code",
   "execution_count": 61,
   "metadata": {},
   "outputs": [],
   "source": [
    "d2 = dict()\n",
    "total2 = 0\n",
    "for line in lines2:\n",
    "    splits = line.strip().split(\":\")\n",
    "    k,v = \":\".join(splits[:-1]),splits[-1]\n",
    "    d2[k] = int(v)\n",
    "    total2 += int(v)"
   ]
  },
  {
   "cell_type": "code",
   "execution_count": 62,
   "metadata": {},
   "outputs": [
    {
     "data": {
      "text/plain": [
       "647404"
      ]
     },
     "execution_count": 62,
     "metadata": {},
     "output_type": "execute_result"
    }
   ],
   "source": [
    "total2"
   ]
  },
  {
   "cell_type": "code",
   "execution_count": 56,
   "metadata": {},
   "outputs": [
    {
     "name": "stdout",
     "output_type": "stream",
     "text": [
      "80394\n",
      "58757\n",
      "34213\n",
      "25101\n",
      "22007\n",
      "17301\n",
      "15466\n",
      "13818\n",
      "11521\n",
      "10231\n",
      "9736\n",
      "8253\n",
      "8170\n",
      "7943\n",
      "6802\n",
      "6591\n",
      "6468\n",
      "6442\n",
      "6344\n",
      "6283\n",
      "6152\n",
      "5722\n",
      "5431\n",
      "5084\n",
      "5046\n",
      "5024\n",
      "4933\n",
      "4675\n",
      "4546\n",
      "4315\n",
      "4242\n",
      "3789\n",
      "3756\n",
      "3661\n",
      "3573\n",
      "3402\n",
      "3382\n",
      "3378\n",
      "3320\n",
      "3302\n",
      "3157\n",
      "3052\n",
      "2893\n",
      "2879\n",
      "2828\n",
      "2758\n",
      "2717\n",
      "2648\n",
      "2437\n",
      "2392\n",
      "2388\n",
      "1978\n",
      "1975\n",
      "1971\n",
      "1956\n",
      "1886\n",
      "1843\n",
      "1812\n",
      "1803\n",
      "1759\n",
      "1744\n",
      "1727\n",
      "1690\n",
      "1655\n",
      "1621\n",
      "1618\n",
      "1609\n",
      "1602\n",
      "1586\n",
      "1582\n",
      "1563\n",
      "1476\n",
      "1468\n",
      "1437\n",
      "1424\n",
      "1409\n",
      "1362\n",
      "1359\n",
      "1352\n",
      "1342\n",
      "1305\n",
      "1254\n",
      "1239\n",
      "1191\n",
      "1190\n",
      "1190\n",
      "1176\n",
      "1166\n",
      "1152\n",
      "1124\n",
      "1122\n",
      "1095\n",
      "1087\n",
      "1069\n",
      "1052\n",
      "1036\n",
      "1000\n",
      "987\n",
      "984\n"
     ]
    }
   ],
   "source": [
    "res2 = []\n",
    "num = 1\n",
    "sorted_d2 = sorted(d2.items(), key=lambda e:e[1], reverse=True)\n",
    "for k,v in sorted_d2:\n",
    "    print(v)\n",
    "#     res.extend([num]*v)\n",
    "    res2 = res2 + [num]*v\n",
    "    num += 1\n",
    "    if num >= 100:\n",
    "        break"
   ]
  },
  {
   "cell_type": "code",
   "execution_count": 58,
   "metadata": {},
   "outputs": [
    {
     "data": {
      "text/plain": [
       "(array([80394., 58757., 34213., 25101., 22007., 17301., 15466., 13818.,\n",
       "        11521., 10231.,  9736.,  8253.,  8170.,  7943.,  6802.,  6591.,\n",
       "         6468.,  6442.,  6344.,  6283.,  6152.,  5722.,  5431.,  5084.,\n",
       "         5046.,  5024.,  4933.,  4675.,  4546.,  4315.,  4242.,  3789.,\n",
       "         3756.,  3661.,  3573.,  3402.,  3382.,  3378.,  3320.,  3302.,\n",
       "         3157.,  3052.,  2893.,  2879.,  2828.,  2758.,  2717.,  2648.,\n",
       "         2437.,  2392.,  2388.,  1978.,  1975.,  1971.,  1956.,  1886.,\n",
       "         1843.,  1812.,  1803.,  1759.,  1744.,  1727.,  1690.,  1655.,\n",
       "         1621.,  1618.,  1609.,  1602.,  1586.,  1582.,  1563.,  1476.,\n",
       "         1468.,  1437.,  1424.,  1409.,  1362.,  1359.,  1352.,  1342.,\n",
       "         1305.,  1254.,  1239.,  1191.,  1190.,  1190.,  1176.,  1166.,\n",
       "         1152.,  1124.,  1122.,  1095.,  1087.,  1069.,  1052.,  1036.,\n",
       "         1000.,   987.,   984.,     0.]),\n",
       " array([  0.  ,   1.01,   2.02,   3.03,   4.04,   5.05,   6.06,   7.07,\n",
       "          8.08,   9.09,  10.1 ,  11.11,  12.12,  13.13,  14.14,  15.15,\n",
       "         16.16,  17.17,  18.18,  19.19,  20.2 ,  21.21,  22.22,  23.23,\n",
       "         24.24,  25.25,  26.26,  27.27,  28.28,  29.29,  30.3 ,  31.31,\n",
       "         32.32,  33.33,  34.34,  35.35,  36.36,  37.37,  38.38,  39.39,\n",
       "         40.4 ,  41.41,  42.42,  43.43,  44.44,  45.45,  46.46,  47.47,\n",
       "         48.48,  49.49,  50.5 ,  51.51,  52.52,  53.53,  54.54,  55.55,\n",
       "         56.56,  57.57,  58.58,  59.59,  60.6 ,  61.61,  62.62,  63.63,\n",
       "         64.64,  65.65,  66.66,  67.67,  68.68,  69.69,  70.7 ,  71.71,\n",
       "         72.72,  73.73,  74.74,  75.75,  76.76,  77.77,  78.78,  79.79,\n",
       "         80.8 ,  81.81,  82.82,  83.83,  84.84,  85.85,  86.86,  87.87,\n",
       "         88.88,  89.89,  90.9 ,  91.91,  92.92,  93.93,  94.94,  95.95,\n",
       "         96.96,  97.97,  98.98,  99.99, 101.  ]),\n",
       " <BarContainer object of 100 artists>)"
      ]
     },
     "execution_count": 58,
     "metadata": {},
     "output_type": "execute_result"
    },
    {
     "data": {
      "image/png": "[encoded data removed]",
      "text/plain": [
       "<Figure size 432x288 with 1 Axes>"
      ]
     },
     "metadata": {
      "needs_background": "light"
     },
     "output_type": "display_data"
    }
   ],
   "source": [
    "plt.hist(res2,100,range=(0,101))"
   ]
  },
  {
   "cell_type": "code",
   "execution_count": 63,
   "metadata": {},
   "outputs": [
    {
     "name": "stdout",
     "output_type": "stream",
     "text": [
      "['a', 'b', 'c']\n",
      "['a', 'c', 'b']\n",
      "['b', 'a', 'c']\n",
      "['b', 'c', 'a']\n",
      "['c', 'b', 'a']\n",
      "['c', 'a', 'b']\n"
     ]
    }
   ],
   "source": [
    "def permutations(arr, position, end):\n",
    " \n",
    "    if position == end:\n",
    "        print(arr)\n",
    " \n",
    "    else:\n",
    "        for index in range(position, end):\n",
    " \n",
    "            arr[index], arr[position] = arr[position], arr[index]\n",
    "            permutations(arr, position+1, end)\n",
    "            arr[index], arr[position] = arr[position], arr[index]\n",
    " \n",
    " \n",
    "arr = [\"a\",\"b\",\"c\"]\n",
    "permutations(arr, 0, len(arr))"
   ]
  },
  {
   "cell_type": "code",
   "execution_count": 64,
   "metadata": {},
   "outputs": [],
   "source": [
    "nums = [1,4,6,7]\n",
    "target = 8 "
   ]
  },
  {
   "cell_type": "code",
   "execution_count": 65,
   "metadata": {},
   "outputs": [],
   "source": [
    "def get_index(nums, target):\n",
    "    left, right = 0, len(nums)-1\n",
    "    \n",
    "    while left <= right:\n",
    "        mid = (right-left)//2 + left\n",
    "        if nums[mid] == target:\n",
    "            return mid\n",
    "        elif nums[mid] > target:\n",
    "            right = mid-1\n",
    "        else:\n",
    "            left = mid + 1\n",
    "    return left\n",
    "        \n",
    "        "
   ]
  },
  {
   "cell_type": "code",
   "execution_count": 69,
   "metadata": {},
   "outputs": [
    {
     "data": {
      "text/plain": [
       "1"
      ]
     },
     "execution_count": 69,
     "metadata": {},
     "output_type": "execute_result"
    }
   ],
   "source": [
    "index = get_index(nums,2)\n",
    "index"
   ]
  },
  {
   "cell_type": "code",
   "execution_count": null,
   "metadata": {},
   "outputs": [],
   "source": []
  }
 ],
 "metadata": {
  "kernelspec": {
   "display_name": "Python 3",
   "language": "python",
   "name": "python3"
  },
  "language_info": {
   "codemirror_mode": {
    "name": "ipython",
    "version": 3
   },
   "file_extension": ".py",
   "mimetype": "text/x-python",
   "name": "python",
   "nbconvert_exporter": "python",
   "pygments_lexer": "ipython3",
   "version": "3.7.8"
  }
 },
 "nbformat": 4,
 "nbformat_minor": 4
}
