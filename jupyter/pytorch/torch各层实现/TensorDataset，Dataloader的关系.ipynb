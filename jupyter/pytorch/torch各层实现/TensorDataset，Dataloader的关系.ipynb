{
 "cells": [
  {
   "cell_type": "markdown",
   "metadata": {},
   "source": [
    "## TensorDataset"
   ]
  },
  {
   "cell_type": "code",
   "execution_count": 1,
   "metadata": {},
   "outputs": [],
   "source": [
    "import torch\n",
    "from torch.utils.data import DataLoader, Sampler, Dataset, TensorDataset, RandomSampler"
   ]
  },
  {
   "cell_type": "code",
   "execution_count": 4,
   "metadata": {},
   "outputs": [
    {
     "name": "stdout",
     "output_type": "stream",
     "text": [
      "x: tensor([ 0,  1,  2,  3,  4,  5,  6,  7,  8,  9, 10, 11])\n",
      "y: tensor([12, 11, 10,  9,  8,  7,  6,  5,  4,  3,  2,  1])\n"
     ]
    }
   ],
   "source": [
    "x = torch.arange(12)\n",
    "y = torch.arange(12,0,-1)\n",
    "print(\"x:\",x)\n",
    "print(\"y:\",y)"
   ]
  },
  {
   "cell_type": "code",
   "execution_count": 6,
   "metadata": {},
   "outputs": [
    {
     "name": "stdout",
     "output_type": "stream",
     "text": [
      "x_y_data_set[0]: (tensor(0), tensor(12))\n"
     ]
    }
   ],
   "source": [
    "x_y_data_set = TensorDataset(x,y)\n",
    "# print(\"x_y_data_set:\",x_y_data_set)\n",
    "print(\"x_y_data_set[0]:\",x_y_data_set[0])"
   ]
  },
  {
   "cell_type": "markdown",
   "metadata": {},
   "source": [
    "所以TensorDataset说白了就是将输入的tensors捆绑在一起。\n",
    "\n",
    "也就是对于每一个tensor按照Index取值，然后把他们组成一个新的元素，这一步主要是通过`__getitem__`实现的\n",
    "\n"
   ]
  },
  {
   "cell_type": "markdown",
   "metadata": {},
   "source": [
    "### TensorDataset的源码如下："
   ]
  },
  {
   "cell_type": "code",
   "execution_count": 7,
   "metadata": {},
   "outputs": [],
   "source": [
    "class TensorDataset(Dataset):\n",
    "\tdef __init__(self,*tensors):\n",
    "\t\tassert all(tensors[0].size(0)==tensor.size(0) for tensor in tensors)\n",
    "\t\tself.tensors = tensors\n",
    "\tdef __getitem__(self,index):\n",
    "\t\treturn tuple(tensor[index] for tensor in self.tensors)\n",
    "\tdef __len__(self):\n",
    "\t\treturn self.tensors[0].size(0)\n"
   ]
  },
  {
   "cell_type": "markdown",
   "metadata": {},
   "source": [
    "## Dataloader"
   ]
  },
  {
   "cell_type": "markdown",
   "metadata": {},
   "source": [
    "Dataloader是数据加载器，组合数据集和采样器，并在数据集上提供单线程或多线程的迭代器。\n",
    "\n",
    "**所以Dataloader的参数必然需要指定数据集Dataset和采样器Sampler**"
   ]
  },
  {
   "cell_type": "markdown",
   "metadata": {},
   "source": [
    "`class torch.utils.data.DataLoader(dataset, batch_size=1, shuffle=False, sampler=None, num_workers=0, collate_fn=<function default_collate>, pin_memory=False, drop_last=False)`\n",
    "\n",
    "- dataset(Dataset)：数据集，一般是TensorDataset的处理结果\n",
    "- batch_size：每个batch加载的样本数\n",
    "- shuffle：为True则对数据进行打乱\n",
    "- sampler：采样器，如果指定就忽略shuffle参数\n",
    "- num_workers：用多少个子进程加载数据\n"
   ]
  },
  {
   "cell_type": "markdown",
   "metadata": {},
   "source": []
  }
 ],
 "metadata": {
  "kernelspec": {
   "display_name": "Python 3",
   "language": "python",
   "name": "python3"
  },
  "language_info": {
   "codemirror_mode": {
    "name": "ipython",
    "version": 3
   },
   "file_extension": ".py",
   "mimetype": "text/x-python",
   "name": "python",
   "nbconvert_exporter": "python",
   "pygments_lexer": "ipython3",
   "version": "3.7.8"
  }
 },
 "nbformat": 4,
 "nbformat_minor": 4
}
