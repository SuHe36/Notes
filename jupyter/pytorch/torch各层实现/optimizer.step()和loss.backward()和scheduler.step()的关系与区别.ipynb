{
 "cells": [
  {
   "cell_type": "markdown",
   "metadata": {},
   "source": [
    "# optimizer.step() 和loss.backward()"
   ]
  },
  {
   "cell_type": "markdown",
   "metadata": {},
   "source": [
    "首先需要确定optimizer优化器的作用，形象的来说，优化器就是需要根据网络反向传播的梯度信息来更新网络参数。\n",
    "\n",
    "从优化器的作用出发，要想让优化器起到作用，需要主要有两个东西:\n",
    "- 优化器需要知道当前模型的参数空间\n",
    "- 需要知道反向传播的梯度信息，也就是需要先计算出loss，然后在计算出梯度\n",
    "\n"
   ]
  },
  {
   "cell_type": "markdown",
   "metadata": {},
   "source": [
    "对于优化器需要知道网络模型的参数，我们可以经常看到以下的代码：\n",
    "```\n",
    "optimizer = Adam(model.parameters(), lr=0.01)\n",
    "```"
   ]
  },
  {
   "cell_type": "markdown",
   "metadata": {},
   "source": [
    "而对于需要知道反向传播的梯度信息，首先需要计算出loss，然后将loss回传，在使用optimizer.step()进行参数更新，\n",
    "\n",
    "所以可以经常看到下面的代码：\n",
    "```\n",
    "loss.backward()\n",
    "optimizer.step()\n",
    "```\n",
    "\n",
    "一般都是loss.backward()在前，然后再跟一个optimizer.step().\n",
    "\n",
    "显然，optimizer.step()一般都放在每个batch的最后面，那么在每一个batch训练的初始状态，\n",
    "都需要将当前的模型的参数的梯度置为0，\n",
    "\n",
    "那么我们也就经常可以看到，在每个batch训练的前面会看到optimizer.zero_grad()或者model.zero_grad()【两者作用是相同的】\n",
    "\n",
    "\n"
   ]
  },
  {
   "cell_type": "markdown",
   "metadata": {},
   "source": [
    "## Scheduler.step()"
   ]
  },
  {
   "cell_type": "markdown",
   "metadata": {},
   "source": [
    "Scheduler.step()通常用在整个epoch里面，但是不绝对，可以根据具体的需求来做。\n",
    "\n",
    "scheduler.step()是对lr学习率进行调整。\n",
    "\n",
    "Scheduler()常和optimizer一起结合使用。\n",
    "```\n",
    "optimizer = optim.Adam(model.parameters(), lr=0.01)\n",
    "scheduler = lr_scheduler.StepLR(optimizer, step_size=100)\n",
    "```\n",
    "\n",
    "一般在epoch循环里面，执行scheduler.step()"
   ]
  },
  {
   "cell_type": "markdown",
   "metadata": {},
   "source": []
  }
 ],
 "metadata": {
  "kernelspec": {
   "display_name": "Python 3",
   "language": "python",
   "name": "python3"
  },
  "language_info": {
   "codemirror_mode": {
    "name": "ipython",
    "version": 3
   },
   "file_extension": ".py",
   "mimetype": "text/x-python",
   "name": "python",
   "nbconvert_exporter": "python",
   "pygments_lexer": "ipython3",
   "version": "3.7.8"
  }
 },
 "nbformat": 4,
 "nbformat_minor": 4
}
