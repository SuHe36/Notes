{
 "cells": [
  {
   "cell_type": "markdown",
   "metadata": {
    "papermill": {
     "duration": 0.016439,
     "end_time": "2020-12-10T05:04:40.644128",
     "exception": false,
     "start_time": "2020-12-10T05:04:40.627689",
     "status": "completed"
    },
    "tags": []
   },
   "source": [
    "* Base Source: https://www.kaggle.com/wangsg/a-self-attentive-model-for-knowledge-tracing\n",
    "* My First Work: https://www.kaggle.com/leadbest/sakt-self-attentive-knowledge-tracing-submitter"
   ]
  },
  {
   "cell_type": "code",
   "execution_count": 38,
   "metadata": {
    "_cell_guid": "b1076dfc-b9ad-4769-8c92-a6c4dae69d19",
    "_uuid": "8f2839f25d086af736a60e9eeb907d3b93b6e0e5",
    "execution": {
     "iopub.execute_input": "2020-12-10T05:04:40.680463Z",
     "iopub.status.busy": "2020-12-10T05:04:40.679697Z",
     "iopub.status.idle": "2020-12-10T05:04:40.689629Z",
     "shell.execute_reply": "2020-12-10T05:04:40.688910Z"
    },
    "papermill": {
     "duration": 0.031105,
     "end_time": "2020-12-10T05:04:40.689787",
     "exception": false,
     "start_time": "2020-12-10T05:04:40.658682",
     "status": "completed"
    },
    "tags": []
   },
   "outputs": [],
   "source": [
    "# This Python 3 environment comes with many helpful analytics libraries installed\n",
    "# It is defined by the kaggle/python Docker image: https://github.com/kaggle/docker-python\n",
    "# For example, here's several helpful packages to load\n",
    "\n",
    "import numpy as np # linear algebra\n",
    "import pandas as pd # data processing, CSV file I/O (e.g. pd.read_csv)\n",
    "\n",
    "# Input data files are available in the read-only \"../input/\" directory\n",
    "# For example, running this (by clicking run or pressing Shift+Enter) will list all files under the input directory\n",
    "\n",
    "import os\n",
    "\n",
    "\n",
    "# You can write up to 20GB to the current directory (/kaggle/working/) that gets preserved as output when you create a version using \"Save & Run All\" \n",
    "# You can also write temporary files to /kaggle/temp/, but they won't be saved outside of the current session"
   ]
  },
  {
   "cell_type": "code",
   "execution_count": 39,
   "metadata": {
    "_cell_guid": "79c7e3d0-c299-4dcb-8224-4455121ee9b0",
    "_uuid": "d629ff2d2480ee46fbb7e2d37f6b5fab8052498a",
    "execution": {
     "iopub.execute_input": "2020-12-10T05:04:40.729863Z",
     "iopub.status.busy": "2020-12-10T05:04:40.729155Z",
     "iopub.status.idle": "2020-12-10T05:04:43.210181Z",
     "shell.execute_reply": "2020-12-10T05:04:43.209597Z"
    },
    "papermill": {
     "duration": 2.503844,
     "end_time": "2020-12-10T05:04:43.210289",
     "exception": false,
     "start_time": "2020-12-10T05:04:40.706445",
     "status": "completed"
    },
    "tags": []
   },
   "outputs": [],
   "source": [
    "import gc\n",
    "import random\n",
    "from tqdm import tqdm\n",
    "from sklearn.metrics import roc_auc_score\n",
    "from sklearn.model_selection import train_test_split\n",
    "\n",
    "# import seaborn as sns\n",
    "import matplotlib.pyplot as plt\n",
    "\n",
    "import torch\n",
    "import torch.nn as nn\n",
    "import torch.nn.utils.rnn as rnn_utils\n",
    "from torch.autograd import Variable\n",
    "from torch.utils.data import Dataset, DataLoader"
   ]
  },
  {
   "cell_type": "code",
   "execution_count": 40,
   "metadata": {
    "execution": {
     "iopub.execute_input": "2020-12-10T05:04:43.245977Z",
     "iopub.status.busy": "2020-12-10T05:04:43.245189Z",
     "iopub.status.idle": "2020-12-10T05:04:43.248094Z",
     "shell.execute_reply": "2020-12-10T05:04:43.247472Z"
    },
    "papermill": {
     "duration": 0.021463,
     "end_time": "2020-12-10T05:04:43.248202",
     "exception": false,
     "start_time": "2020-12-10T05:04:43.226739",
     "status": "completed"
    },
    "tags": []
   },
   "outputs": [],
   "source": [
    "#HDKIM\n",
    "MAX_SEQ = 100\n",
    "#HDKIMHDKIM"
   ]
  },
  {
   "cell_type": "markdown",
   "metadata": {
    "papermill": {
     "duration": 0.015075,
     "end_time": "2020-12-10T05:04:43.278392",
     "exception": false,
     "start_time": "2020-12-10T05:04:43.263317",
     "status": "completed"
    },
    "tags": []
   },
   "source": [
    "## Load data"
   ]
  },
  {
   "cell_type": "code",
   "execution_count": 41,
   "metadata": {
    "execution": {
     "iopub.execute_input": "2020-12-10T05:04:43.315482Z",
     "iopub.status.busy": "2020-12-10T05:04:43.314896Z",
     "iopub.status.idle": "2020-12-10T05:06:49.426246Z",
     "shell.execute_reply": "2020-12-10T05:06:49.425472Z"
    },
    "papermill": {
     "duration": 126.132564,
     "end_time": "2020-12-10T05:06:49.426385",
     "exception": false,
     "start_time": "2020-12-10T05:04:43.293821",
     "status": "completed"
    },
    "tags": []
   },
   "outputs": [
    {
     "name": "stdout",
     "output_type": "stream",
     "text": [
      "CPU times: user 29.5 s, sys: 4.28 s, total: 33.7 s\n",
      "Wall time: 34.2 s\n"
     ]
    },
    {
     "data": {
      "text/html": [
       "<div>\n",
       "<style scoped>\n",
       "    .dataframe tbody tr th:only-of-type {\n",
       "        vertical-align: middle;\n",
       "    }\n",
       "\n",
       "    .dataframe tbody tr th {\n",
       "        vertical-align: top;\n",
       "    }\n",
       "\n",
       "    .dataframe thead th {\n",
       "        text-align: right;\n",
       "    }\n",
       "</style>\n",
       "<table border=\"1\" class=\"dataframe\">\n",
       "  <thead>\n",
       "    <tr style=\"text-align: right;\">\n",
       "      <th></th>\n",
       "      <th>timestamp</th>\n",
       "      <th>user_id</th>\n",
       "      <th>content_id</th>\n",
       "      <th>content_type_id</th>\n",
       "      <th>answered_correctly</th>\n",
       "    </tr>\n",
       "  </thead>\n",
       "  <tbody>\n",
       "    <tr>\n",
       "      <th>0</th>\n",
       "      <td>0</td>\n",
       "      <td>115</td>\n",
       "      <td>5692</td>\n",
       "      <td>0</td>\n",
       "      <td>1</td>\n",
       "    </tr>\n",
       "    <tr>\n",
       "      <th>1</th>\n",
       "      <td>56943</td>\n",
       "      <td>115</td>\n",
       "      <td>5716</td>\n",
       "      <td>0</td>\n",
       "      <td>1</td>\n",
       "    </tr>\n",
       "    <tr>\n",
       "      <th>2</th>\n",
       "      <td>118363</td>\n",
       "      <td>115</td>\n",
       "      <td>128</td>\n",
       "      <td>0</td>\n",
       "      <td>1</td>\n",
       "    </tr>\n",
       "    <tr>\n",
       "      <th>3</th>\n",
       "      <td>131167</td>\n",
       "      <td>115</td>\n",
       "      <td>7860</td>\n",
       "      <td>0</td>\n",
       "      <td>1</td>\n",
       "    </tr>\n",
       "    <tr>\n",
       "      <th>4</th>\n",
       "      <td>137965</td>\n",
       "      <td>115</td>\n",
       "      <td>7922</td>\n",
       "      <td>0</td>\n",
       "      <td>1</td>\n",
       "    </tr>\n",
       "  </tbody>\n",
       "</table>\n",
       "</div>"
      ],
      "text/plain": [
       "   timestamp  user_id  content_id  content_type_id  answered_correctly\n",
       "0          0      115        5692                0                   1\n",
       "1      56943      115        5716                0                   1\n",
       "2     118363      115         128                0                   1\n",
       "3     131167      115        7860                0                   1\n",
       "4     137965      115        7922                0                   1"
      ]
     },
     "execution_count": 41,
     "metadata": {},
     "output_type": "execute_result"
    }
   ],
   "source": [
    "%%time\n",
    "dtype = {'timestamp': 'int64', 'user_id': 'int32' ,'content_id': 'int16','content_type_id': 'int8','answered_correctly':'int8'}\n",
    "\n",
    "train_df = pd.read_csv('/Users/hesu/Documents/KT/riiid/train.csv', usecols=[1, 2, 3,4,7], dtype=dtype)\n",
    "train_df.head()"
   ]
  },
  {
   "cell_type": "code",
   "execution_count": 42,
   "metadata": {
    "execution": {
     "iopub.execute_input": "2020-12-10T05:06:49.465473Z",
     "iopub.status.busy": "2020-12-10T05:06:49.464787Z",
     "iopub.status.idle": "2020-12-10T05:07:15.564645Z",
     "shell.execute_reply": "2020-12-10T05:07:15.564033Z"
    },
    "papermill": {
     "duration": 26.121882,
     "end_time": "2020-12-10T05:07:15.564778",
     "exception": false,
     "start_time": "2020-12-10T05:06:49.442896",
     "status": "completed"
    },
    "tags": []
   },
   "outputs": [],
   "source": [
    "train_df = train_df[train_df.content_type_id == False]\n",
    "\n",
    "#arrange by timestamp\n",
    "train_df = train_df.sort_values(['timestamp'], ascending=True).reset_index(drop = True)"
   ]
  },
  {
   "cell_type": "markdown",
   "metadata": {
    "papermill": {
     "duration": 0.016394,
     "end_time": "2020-12-10T05:07:15.597946",
     "exception": false,
     "start_time": "2020-12-10T05:07:15.581552",
     "status": "completed"
    },
    "tags": []
   },
   "source": [
    "## Preprocess"
   ]
  },
  {
   "cell_type": "code",
   "execution_count": 43,
   "metadata": {
    "execution": {
     "iopub.execute_input": "2020-12-10T05:07:15.636422Z",
     "iopub.status.busy": "2020-12-10T05:07:15.635227Z",
     "iopub.status.idle": "2020-12-10T05:07:16.669961Z",
     "shell.execute_reply": "2020-12-10T05:07:16.671169Z"
    },
    "papermill": {
     "duration": 1.057212,
     "end_time": "2020-12-10T05:07:16.671355",
     "exception": false,
     "start_time": "2020-12-10T05:07:15.614143",
     "status": "completed"
    },
    "tags": []
   },
   "outputs": [
    {
     "name": "stdout",
     "output_type": "stream",
     "text": [
      "number skills 13523\n"
     ]
    }
   ],
   "source": [
    "skills = train_df[\"content_id\"].unique()\n",
    "n_skill = len(skills)\n",
    "print(\"number skills\", len(skills))"
   ]
  },
  {
   "cell_type": "code",
   "execution_count": 44,
   "metadata": {
    "execution": {
     "iopub.execute_input": "2020-12-10T05:07:16.729153Z",
     "iopub.status.busy": "2020-12-10T05:07:16.728292Z",
     "iopub.status.idle": "2020-12-10T05:08:00.389800Z",
     "shell.execute_reply": "2020-12-10T05:08:00.390286Z"
    },
    "papermill": {
     "duration": 43.69408,
     "end_time": "2020-12-10T05:08:00.390418",
     "exception": false,
     "start_time": "2020-12-10T05:07:16.696338",
     "status": "completed"
    },
    "tags": []
   },
   "outputs": [
    {
     "data": {
      "text/plain": [
       "0"
      ]
     },
     "execution_count": 44,
     "metadata": {},
     "output_type": "execute_result"
    }
   ],
   "source": [
    "group = train_df[['user_id', 'content_id', 'answered_correctly']].groupby('user_id').apply(lambda r: (\n",
    "            r['content_id'].values,\n",
    "            r['answered_correctly'].values))\n",
    "\n",
    "del train_df\n",
    "gc.collect()"
   ]
  },
  {
   "cell_type": "code",
   "execution_count": 45,
   "metadata": {},
   "outputs": [
    {
     "data": {
      "text/plain": [
       "user_id\n",
       "115      ([5692, 5716, 128, 7860, 7922, 156, 51, 50, 78...\n",
       "124      ([7900, 7876, 175, 1278, 2065, 2063, 2064, 336...\n",
       "2746     ([5273, 758, 5976, 236, 404, 382, 405, 873, 53...\n",
       "5382     ([5000, 3944, 217, 5844, 5965, 4990, 5235, 605...\n",
       "8623     ([3915, 4750, 6456, 3968, 6104, 5738, 6435, 54...\n",
       "8701     ([3901, 6671, 4963, 6143, 8279, 3964, 4002, 75...\n",
       "12741    ([5145, 9691, 9697, 5202, 4787, 5695, 7858, 56...\n",
       "13134    ([3926, 564, 3865, 4231, 3684, 3988, 3968, 521...\n",
       "24418    ([7900, 7876, 175, 1278, 2064, 2065, 2063, 336...\n",
       "24600    ([7900, 7876, 175, 1278, 2065, 2063, 2064, 336...\n",
       "dtype: object"
      ]
     },
     "execution_count": 45,
     "metadata": {},
     "output_type": "execute_result"
    }
   ],
   "source": [
    "group.head(10)"
   ]
  },
  {
   "cell_type": "code",
   "execution_count": null,
   "metadata": {},
   "outputs": [],
   "source": []
  },
  {
   "cell_type": "code",
   "execution_count": 46,
   "metadata": {
    "execution": {
     "iopub.execute_input": "2020-12-10T05:08:00.443025Z",
     "iopub.status.busy": "2020-12-10T05:08:00.442034Z",
     "iopub.status.idle": "2020-12-10T05:08:00.444820Z",
     "shell.execute_reply": "2020-12-10T05:08:00.444237Z"
    },
    "papermill": {
     "duration": 0.036474,
     "end_time": "2020-12-10T05:08:00.444914",
     "exception": false,
     "start_time": "2020-12-10T05:08:00.408440",
     "status": "completed"
    },
    "tags": []
   },
   "outputs": [],
   "source": [
    "class SAKTDataset(Dataset):\n",
    "    def __init__(self, group, n_skill, max_seq=MAX_SEQ): #HDKIM 100\n",
    "        super(SAKTDataset, self).__init__()\n",
    "        self.max_seq = max_seq\n",
    "        self.n_skill = n_skill\n",
    "        self.samples = group\n",
    "        \n",
    "#         self.user_ids = [x for x in group.index]\n",
    "        self.user_ids = []\n",
    "        for user_id in group.index:\n",
    "            q, qa = group[user_id]\n",
    "            if len(q) < 5: #HDKIM 10\n",
    "                continue\n",
    "            self.user_ids.append(user_id)\n",
    "            \n",
    "            #HDKIM Memory reduction\n",
    "            if len(q)>self.max_seq:\n",
    "                group[user_id] = (q[-self.max_seq:],qa[-self.max_seq:])\n",
    "\n",
    "    def __len__(self):\n",
    "        return len(self.user_ids)\n",
    "\n",
    "    def __getitem__(self, index):\n",
    "        user_id = self.user_ids[index]\n",
    "        q_, qa_ = self.samples[user_id]\n",
    "        seq_len = len(q_)\n",
    "#         print(\"seq_len is:\",seq_len)\n",
    "        \n",
    "        q = np.zeros(self.max_seq, dtype=int)\n",
    "        qa = np.zeros(self.max_seq, dtype=int)\n",
    "        if seq_len >= self.max_seq:\n",
    "            q[:] = q_[-self.max_seq:]\n",
    "            qa[:] = qa_[-self.max_seq:]\n",
    "        else:\n",
    "            q[-seq_len:] = q_\n",
    "            qa[-seq_len:] = qa_\n",
    "            # 这一步相当于用q_去填q的-seq_len到末尾位\n",
    "        \n",
    "#         print(\"q length is:\", len(q))\n",
    "        target_id = q[1:]\n",
    "        label = qa[1:]\n",
    "        # 这个target_id存储的是question_id序列\n",
    "        # 这个label存储的是answer序列\n",
    "        \n",
    "        x = np.zeros(self.max_seq-1, dtype=int)\n",
    "        x = q[:-1].copy()\n",
    "        x += (qa[:-1] == 1) * self.n_skill\n",
    "        return x, target_id, label\n",
    "        # 这个x存储的是对应的qid的ans如果为1，就在qid的基础上加13523\n",
    "        # 对应的target_id存储的是后续一位的qid\n",
    "        # label存储的是对应的label_id"
   ]
  },
  {
   "cell_type": "code",
   "execution_count": null,
   "metadata": {},
   "outputs": [],
   "source": []
  },
  {
   "cell_type": "code",
   "execution_count": 47,
   "metadata": {
    "execution": {
     "iopub.execute_input": "2020-12-10T05:08:00.486942Z",
     "iopub.status.busy": "2020-12-10T05:08:00.486078Z",
     "iopub.status.idle": "2020-12-10T05:08:04.936144Z",
     "shell.execute_reply": "2020-12-10T05:08:04.935070Z"
    },
    "papermill": {
     "duration": 4.473896,
     "end_time": "2020-12-10T05:08:04.936267",
     "exception": false,
     "start_time": "2020-12-10T05:08:00.462371",
     "status": "completed"
    },
    "tags": []
   },
   "outputs": [],
   "source": [
    "dataset = SAKTDataset(group.head(1000), n_skill)\n",
    "dataloader = DataLoader(dataset, batch_size=2048, shuffle=True, num_workers=8)\n",
    "\n",
    "item = dataset.__getitem__(5)\n"
   ]
  },
  {
   "cell_type": "code",
   "execution_count": 48,
   "metadata": {},
   "outputs": [
    {
     "name": "stdout",
     "output_type": "stream",
     "text": [
      "[    0     0     0     0     0     0     0     0     0     0     0     0\n",
      "     0     0     0     0     0     0     0     0     0     0     0     0\n",
      "     0     0     0     0     0     0     0     0     0     0     0     0\n",
      "     0     0     0     0     0     0     0     0     0     0     0     0\n",
      "     0     0     0     0     0     0     0     0     0     0     0     0\n",
      "     0     0     0     0     0     0     0     0     0     0     0     0\n",
      "     0     0     0     0     0     0     0     0     0     0     0 17424\n",
      " 20194 18486  6143 21802  3964  4002   754 14633   770 10688 14752 14910\n",
      " 14859 10687 14708]\n",
      "[    0     0     0     0     0     0     0     0     0     0     0     0\n",
      "     0     0     0     0     0     0     0     0     0     0     0     0\n",
      "     0     0     0     0     0     0     0     0     0     0     0     0\n",
      "     0     0     0     0     0     0     0     0     0     0     0     0\n",
      "     0     0     0     0     0     0     0     0     0     0     0     0\n",
      "     0     0     0     0     0     0     0     0     0     0     0     0\n",
      "     0     0     0     0     0     0     0     0     0     0  3901  6671\n",
      "  4963  6143  8279  3964  4002   754  1110   770 10688  1229  1387  1336\n",
      " 10687  1185   498]\n",
      "[0 0 0 0 0 0 0 0 0 0 0 0 0 0 0 0 0 0 0 0 0 0 0 0 0 0 0 0 0 0 0 0 0 0 0 0 0\n",
      " 0 0 0 0 0 0 0 0 0 0 0 0 0 0 0 0 0 0 0 0 0 0 0 0 0 0 0 0 0 0 0 0 0 0 0 0 0\n",
      " 0 0 0 0 0 0 0 0 1 1 1 0 1 0 0 0 1 0 0 1 1 1 0 1 1]\n"
     ]
    }
   ],
   "source": [
    "print(item[0])\n",
    "print(item[1])\n",
    "print(item[2])"
   ]
  },
  {
   "cell_type": "code",
   "execution_count": 87,
   "metadata": {},
   "outputs": [],
   "source": [
    "class ValidDataset(Dataset):\n",
    "    def __init__(self, samples, test_df, skills, max_seq=MAX_SEQ): #HDKIM 100\n",
    "        super(ValidDataset, self).__init__()\n",
    "        self.samples = samples\n",
    "        self.user_ids = [x for x in test_df[\"user_id\"].unique()]\n",
    "        self.test_df = test_df\n",
    "        self.skills = skills\n",
    "        self.n_skill = len(skills)\n",
    "        self.max_seq = max_seq\n",
    "\n",
    "    def __len__(self):\n",
    "        return self.test_df.shape[0]\n",
    "\n",
    "    def __getitem__(self, index):\n",
    "        test_info = self.test_df.iloc[index]\n",
    "\n",
    "        user_id = test_info[\"user_id\"]\n",
    "        target_id = test_info[\"content_id\"]\n",
    "        label = test_info['answered_correctly']\n",
    "\n",
    "        q = np.zeros(self.max_seq, dtype=int)\n",
    "        qa = np.zeros(self.max_seq, dtype=int)\n",
    "\n",
    "        if user_id in self.samples.index:\n",
    "            q_, qa_ = self.samples[user_id]\n",
    "            \n",
    "            seq_len = len(q_)\n",
    "\n",
    "            if seq_len >= self.max_seq:\n",
    "                q = q_[-self.max_seq:]\n",
    "                qa = qa_[-self.max_seq:]\n",
    "            else:\n",
    "                q[-seq_len:] = q_\n",
    "                qa[-seq_len:] = qa_          \n",
    "        \n",
    "        x = np.zeros(self.max_seq-1, dtype=int)\n",
    "        x = q[1:].copy()\n",
    "        x += (qa[1:] == 1) * self.n_skill\n",
    "        \n",
    "        questions = np.append(q[2:], [target_id])\n",
    "        \n",
    "        return x, questions, np.array([label])"
   ]
  },
  {
   "cell_type": "code",
   "execution_count": 88,
   "metadata": {},
   "outputs": [],
   "source": [
    "test_df = pd.read_csv('/Users/hesu/Documents/KT/riiid/valid.csv')\n",
    "test_dataset = ValidDataset(group, test_df.head, skills)\n",
    "test_dataloader = DataLoader(test_dataset, batch_size=2048, shuffle=False)"
   ]
  },
  {
   "cell_type": "code",
   "execution_count": null,
   "metadata": {},
   "outputs": [],
   "source": []
  },
  {
   "cell_type": "markdown",
   "metadata": {
    "papermill": {
     "duration": 0.017585,
     "end_time": "2020-12-10T05:08:04.971741",
     "exception": false,
     "start_time": "2020-12-10T05:08:04.954156",
     "status": "completed"
    },
    "tags": []
   },
   "source": [
    "## Define model"
   ]
  },
  {
   "cell_type": "code",
   "execution_count": 89,
   "metadata": {
    "execution": {
     "iopub.execute_input": "2020-12-10T05:08:05.064043Z",
     "iopub.status.busy": "2020-12-10T05:08:05.058433Z",
     "iopub.status.idle": "2020-12-10T05:08:05.066936Z",
     "shell.execute_reply": "2020-12-10T05:08:05.066388Z"
    },
    "papermill": {
     "duration": 0.077081,
     "end_time": "2020-12-10T05:08:05.067034",
     "exception": false,
     "start_time": "2020-12-10T05:08:04.989953",
     "status": "completed"
    },
    "tags": []
   },
   "outputs": [],
   "source": [
    "class FFN(nn.Module):\n",
    "    def __init__(self, state_size=200):\n",
    "        super(FFN, self).__init__()\n",
    "        self.state_size = state_size\n",
    "\n",
    "        self.lr1 = nn.Linear(state_size, state_size)\n",
    "        self.relu = nn.ReLU()\n",
    "        self.lr2 = nn.Linear(state_size, state_size)\n",
    "        self.dropout = nn.Dropout(0.2)\n",
    "    \n",
    "    def forward(self, x):\n",
    "        x = self.lr1(x)\n",
    "        x = self.relu(x)\n",
    "        x = self.lr2(x)\n",
    "        return self.dropout(x)\n",
    "\n",
    "def future_mask(seq_length):\n",
    "    future_mask = np.triu(np.ones((seq_length, seq_length)), k=1).astype('bool')\n",
    "    return torch.from_numpy(future_mask)\n",
    "# 这个future mask返回的是一个上三角mask矩阵，用了99条question去预测当前question，一直到用1条question去预测当前question\n",
    "\n",
    "class SAKTModel(nn.Module):\n",
    "    def __init__(self, n_skill, max_seq=MAX_SEQ, embed_dim=128): #HDKIM 100\n",
    "        super(SAKTModel, self).__init__()\n",
    "        self.n_skill = n_skill\n",
    "        self.embed_dim = embed_dim\n",
    "\n",
    "        self.embedding = nn.Embedding(2*n_skill+1, embed_dim)\n",
    "        # 这个embedding对应的是，融合了question对错信息的矩阵\n",
    "        self.pos_embedding = nn.Embedding(max_seq-1, embed_dim)\n",
    "        # 对应的是postion embedding\n",
    "        self.e_embedding = nn.Embedding(n_skill+1, embed_dim)\n",
    "        # 对应的是原始的quenstion embedding\n",
    "        self.multi_att = nn.MultiheadAttention(embed_dim=embed_dim, num_heads=8, dropout=0.2)\n",
    "\n",
    "        self.dropout = nn.Dropout(0.2)\n",
    "        self.layer_normal = nn.LayerNorm(embed_dim) \n",
    "\n",
    "        self.ffn = FFN(embed_dim)\n",
    "        self.pred = nn.Linear(embed_dim, 1)\n",
    "    \n",
    "    def forward(self, x, question_ids):\n",
    "        # 这里的x是蕴含了当前question对错信息的pre_question_ids，是question_ids的前一位信息\n",
    "        device = x.device        \n",
    "        x = self.embedding(x)\n",
    "        pos_id = torch.arange(x.size(1)).unsqueeze(0).to(device)\n",
    "        # 这里的pos_id需要进行修改，这里直接是从前到后生成的，没有考虑padding的信息需要额外处理\n",
    "        # 还是这种从前往后的才是最好的方式\n",
    "        \n",
    "        pos_x = self.pos_embedding(pos_id)\n",
    "        x = x + pos_x\n",
    "        # 融合对错的question信息加上position embedding\n",
    "\n",
    "        e = self.e_embedding(question_ids)\n",
    "\n",
    "        x = x.permute(1, 0, 2) # x: [bs, s_len, embed] => [s_len, bs, embed]\n",
    "        e = e.permute(1, 0, 2)\n",
    "        att_mask = future_mask(x.size(0)).to(device)\n",
    "        # 这个attn_mask是一个上三角mask矩阵\n",
    "        att_output, att_weight = self.multi_att(e, x, x, attn_mask=att_mask)\n",
    "        # 把当前question的信息作为query，把糅合了对错信息的作为key和value\n",
    "        # 最后返回的其实是x的糅合attention分布后的加和表示\n",
    "        att_output = self.layer_normal(att_output + e)\n",
    "        # 最后把att_output和question信息加权在一起，输入到layer_normal矩阵中，进行新的归一化表示\n",
    "        att_output = att_output.permute(1, 0, 2) # att_output: [s_len, bs, embed] => [bs, s_len, embed]\n",
    "\n",
    "        x = self.ffn(att_output)\n",
    "        x = self.layer_normal(x + att_output)\n",
    "        x = self.pred(x)\n",
    "\n",
    "        return x.squeeze(-1), att_weight"
   ]
  },
  {
   "cell_type": "code",
   "execution_count": 90,
   "metadata": {
    "execution": {
     "iopub.execute_input": "2020-12-10T05:08:05.465742Z",
     "iopub.status.busy": "2020-12-10T05:08:05.459343Z",
     "iopub.status.idle": "2020-12-10T05:08:09.845606Z",
     "shell.execute_reply": "2020-12-10T05:08:09.845116Z"
    },
    "papermill": {
     "duration": 4.760473,
     "end_time": "2020-12-10T05:08:09.845748",
     "exception": false,
     "start_time": "2020-12-10T05:08:05.085275",
     "status": "completed"
    },
    "tags": []
   },
   "outputs": [
    {
     "data": {
      "text/plain": [
       "BCEWithLogitsLoss()"
      ]
     },
     "execution_count": 90,
     "metadata": {},
     "output_type": "execute_result"
    }
   ],
   "source": [
    "device = torch.device(\"cuda\" if torch.cuda.is_available() else \"cpu\")\n",
    "\n",
    "model = SAKTModel(n_skill, embed_dim=128)\n",
    "# optimizer = torch.optim.SGD(model.parameters(), lr=1e-3, momentum=0.99, weight_decay=0.005)\n",
    "optimizer = torch.optim.Adam(model.parameters(), lr=1e-3)\n",
    "criterion = nn.BCEWithLogitsLoss()\n",
    "\n",
    "model.to(device)\n",
    "criterion.to(device)"
   ]
  },
  {
   "cell_type": "code",
   "execution_count": 97,
   "metadata": {
    "execution": {
     "iopub.execute_input": "2020-12-10T05:08:09.897923Z",
     "iopub.status.busy": "2020-12-10T05:08:09.897019Z",
     "iopub.status.idle": "2020-12-10T05:08:09.899941Z",
     "shell.execute_reply": "2020-12-10T05:08:09.899422Z"
    },
    "papermill": {
     "duration": 0.035624,
     "end_time": "2020-12-10T05:08:09.900044",
     "exception": false,
     "start_time": "2020-12-10T05:08:09.864420",
     "status": "completed"
    },
    "tags": []
   },
   "outputs": [],
   "source": [
    "def train_epoch(model, train_iterator, optim, criterion, device=\"cpu\"):\n",
    "    model.train()\n",
    "\n",
    "    train_loss = []\n",
    "    num_corrects = 0\n",
    "    num_total = 0\n",
    "    labels = []\n",
    "    outs = []\n",
    "    \n",
    "    tbar = tqdm(train_iterator)\n",
    "    for item in tbar:\n",
    "        x = item[0].to(device).long()\n",
    "        target_id = item[1].to(device).long()\n",
    "        label = item[2].to(device).float()\n",
    "#         print(\"In training x shape is:{}\\t taret_id shape is:{}\\t label shape is:{}\".format(x.shape, target_id.shape,label.shape))\n",
    "\n",
    "        optim.zero_grad()\n",
    "        output, atten_weight = model(x, target_id)\n",
    "        loss = criterion(output, label)\n",
    "        loss.backward()\n",
    "        optim.step()\n",
    "        train_loss.append(loss.item())\n",
    "\n",
    "        output = output[:, -1]\n",
    "        label = label[:, -1] \n",
    "        pred = (torch.sigmoid(output) >= 0.5).long()\n",
    "        \n",
    "        num_corrects += (pred == label).sum().item()\n",
    "        num_total += len(label)\n",
    "\n",
    "        labels.extend(label.view(-1).data.cpu().numpy())\n",
    "        outs.extend(output.view(-1).data.cpu().numpy())\n",
    "\n",
    "        tbar.set_description('loss - {:.4f}'.format(loss))\n",
    "\n",
    "    acc = num_corrects / num_total\n",
    "#     print(\"In training labels is:{}\\t outs is:{}\".format(labels, outs))\n",
    "#     auc = roc_auc_score(labels, outs, multi_class='ovr')\n",
    "    auc = 0\n",
    "    loss = np.mean(train_loss)\n",
    "\n",
    "    return loss, acc, auc"
   ]
  },
  {
   "cell_type": "code",
   "execution_count": 100,
   "metadata": {},
   "outputs": [],
   "source": [
    "def evaluate_epoch(model, test_dataloader, criterion, device=\"cpu\"):\n",
    "    model.eval()\n",
    "    eval_loss = []\n",
    "    num_corrects = 0\n",
    "    num_total = 0\n",
    "    labels = []\n",
    "    outs = []\n",
    "    \n",
    "    with torch.no_grad():\n",
    "        for item in tqdm(test_dataloader):\n",
    "            x = item[0].to(device).long()\n",
    "            target_id = item[1].to(device).long()\n",
    "            label = item[2].to(device).float()\n",
    "#             print(\"In evaluation x shape is:{}\\t taret_id shape is:{}\\t label shape is:{}\".format(x.shape, target_id.shape,label.shape))\n",
    "            \n",
    "            output, atten_weight = model(x, target_id)\n",
    "            \n",
    "            output_loss = output[:, -1:]\n",
    "#             print(\"Output shape is:{}\\tlabel shape is:{}\".format(output.shape, label.shape))\n",
    "            loss = criterion(output_loss, label)\n",
    "            eval_loss.append(loss.item())\n",
    "            \n",
    "            output = output[:,-1]\n",
    "            label = label[:, -1] \n",
    "            pred = (torch.sigmoid(output) >= 0.5).long()\n",
    "            \n",
    "            num_corrects += (pred == label).sum().item()\n",
    "            num_total += len(label)\n",
    "\n",
    "            labels.extend(label.view(-1).data.cpu().numpy())\n",
    "            outs.extend(output.view(-1).data.cpu().numpy())\n",
    "\n",
    "    acc = num_corrects / num_total\n",
    "#     print(\"In evaluate labels is:{}\\t outs is:{}\\t\".format(labels, outs))\n",
    "\n",
    "#     auc = roc_auc_score(labels, outs, multi_class='ovr')\n",
    "    auc = 0\n",
    "\n",
    "    loss = np.mean(eval_loss)   \n",
    "    \n",
    "    return loss, acc, auc"
   ]
  },
  {
   "cell_type": "code",
   "execution_count": 101,
   "metadata": {
    "execution": {
     "iopub.execute_input": "2020-12-10T05:08:09.942222Z",
     "iopub.status.busy": "2020-12-10T05:08:09.941608Z",
     "iopub.status.idle": "2020-12-10T05:18:51.738362Z",
     "shell.execute_reply": "2020-12-10T05:18:51.739347Z"
    },
    "papermill": {
     "duration": 641.821139,
     "end_time": "2020-12-10T05:18:51.739511",
     "exception": false,
     "start_time": "2020-12-10T05:08:09.918372",
     "status": "completed"
    },
    "scrolled": false,
    "tags": []
   },
   "outputs": [
    {
     "name": "stderr",
     "output_type": "stream",
     "text": [
      "\r",
      "  0%|          | 0/1 [00:00<?, ?it/s]"
     ]
    },
    {
     "name": "stdout",
     "output_type": "stream",
     "text": [
      "In training x shape is:torch.Size([997, 99])\t taret_id shape is:torch.Size([997, 99])\t label shape is:torch.Size([997, 99])\n"
     ]
    },
    {
     "name": "stderr",
     "output_type": "stream",
     "text": [
      "loss - 0.4755: 100%|██████████| 1/1 [00:03<00:00,  3.79s/it]\n",
      "100%|██████████| 50/50 [00:00<00:00, 285.54it/s]\n",
      "  0%|          | 0/1 [00:00<?, ?it/s]"
     ]
    },
    {
     "name": "stdout",
     "output_type": "stream",
     "text": [
      "In training labels is:[0.0, 0.0, 1.0, 1.0, 0.0, 1.0, 0.0, 1.0, 0.0, 0.0, 1.0, 1.0, 0.0, 0.0, 0.0, 1.0, 1.0, 1.0, 1.0, 1.0, 0.0, 0.0, 1.0, 0.0, 1.0, 1.0, 1.0, 1.0, 1.0, 1.0, 0.0, 1.0, 1.0, 1.0, 0.0, 1.0, 0.0, 0.0, 0.0, 1.0, 1.0, 0.0, 1.0, 0.0, 0.0, 0.0, 0.0, 0.0, 1.0, 0.0, 0.0, 0.0, 0.0, 0.0, 1.0, 0.0, 1.0, 1.0, 0.0, 1.0, 1.0, 1.0, 1.0, 0.0, 1.0, 0.0, 1.0, 0.0, 0.0, 1.0, 0.0, 1.0, 1.0, 1.0, 0.0, 1.0, 0.0, 0.0, 1.0, 0.0, 1.0, 0.0, 0.0, 1.0, 1.0, 0.0, 1.0, 1.0, 1.0, 1.0, 0.0, 0.0, 0.0, 1.0, 0.0, 1.0, 0.0, 1.0, 1.0, 1.0, 0.0, 1.0, 1.0, 1.0, 1.0, 0.0, 0.0, 0.0, 1.0, 0.0, 0.0, 1.0, 1.0, 1.0, 1.0, 0.0, 0.0, 1.0, 1.0, 0.0, 1.0, 0.0, 0.0, 1.0, 1.0, 0.0, 0.0, 1.0, 1.0, 0.0, 1.0, 0.0, 1.0, 0.0, 1.0, 1.0, 0.0, 0.0, 0.0, 0.0, 1.0, 1.0, 0.0, 1.0, 1.0, 0.0, 0.0, 1.0, 0.0, 0.0, 0.0, 1.0, 0.0, 0.0, 1.0, 0.0, 1.0, 0.0, 1.0, 0.0, 0.0, 1.0, 1.0, 1.0, 1.0, 1.0, 0.0, 1.0, 0.0, 0.0, 1.0, 1.0, 1.0, 1.0, 0.0, 1.0, 0.0, 1.0, 0.0, 1.0, 1.0, 0.0, 1.0, 0.0, 1.0, 0.0, 0.0, 0.0, 0.0, 0.0, 1.0, 1.0, 0.0, 0.0, 0.0, 1.0, 0.0, 1.0, 0.0, 0.0, 0.0, 1.0, 1.0, 1.0, 1.0, 1.0, 0.0, 1.0, 0.0, 1.0, 0.0, 1.0, 1.0, 1.0, 1.0, 0.0, 0.0, 1.0, 1.0, 1.0, 1.0, 1.0, 1.0, 1.0, 1.0, 1.0, 1.0, 0.0, 0.0, 0.0, 0.0, 0.0, 0.0, 1.0, 0.0, 0.0, 0.0, 0.0, 1.0, 0.0, 0.0, 1.0, 1.0, 0.0, 0.0, 0.0, 1.0, 0.0, 0.0, 0.0, 0.0, 1.0, 1.0, 0.0, 0.0, 1.0, 1.0, 1.0, 0.0, 0.0, 0.0, 0.0, 0.0, 0.0, 1.0, 1.0, 0.0, 0.0, 1.0, 0.0, 1.0, 1.0, 1.0, 0.0, 0.0, 1.0, 0.0, 0.0, 0.0, 1.0, 1.0, 1.0, 1.0, 0.0, 0.0, 0.0, 1.0, 1.0, 1.0, 1.0, 1.0, 0.0, 0.0, 1.0, 0.0, 0.0, 1.0, 1.0, 0.0, 1.0, 0.0, 1.0, 0.0, 0.0, 1.0, 1.0, 0.0, 0.0, 0.0, 1.0, 0.0, 1.0, 1.0, 1.0, 0.0, 1.0, 1.0, 0.0, 0.0, 1.0, 1.0, 0.0, 0.0, 1.0, 1.0, 1.0, 1.0, 0.0, 0.0, 0.0, 0.0, 1.0, 1.0, 0.0, 1.0, 1.0, 1.0, 0.0, 1.0, 0.0, 0.0, 1.0, 0.0, 0.0, 1.0, 1.0, 0.0, 1.0, 0.0, 0.0, 1.0, 1.0, 1.0, 1.0, 0.0, 0.0, 1.0, 0.0, 0.0, 0.0, 0.0, 1.0, 0.0, 0.0, 0.0, 0.0, 1.0, 1.0, 1.0, 1.0, 1.0, 1.0, 1.0, 1.0, 0.0, 1.0, 0.0, 0.0, 1.0, 0.0, 0.0, 1.0, 0.0, 1.0, 1.0, 1.0, 1.0, 1.0, 1.0, 0.0, 0.0, 0.0, 1.0, 0.0, 0.0, 1.0, 1.0, 0.0, 0.0, 0.0, 1.0, 0.0, 1.0, 0.0, 0.0, 1.0, 0.0, 1.0, 0.0, 1.0, 0.0, 1.0, 1.0, 0.0, 0.0, 1.0, 0.0, 1.0, 1.0, 0.0, 0.0, 0.0, 1.0, 1.0, 0.0, 0.0, 1.0, 1.0, 0.0, 0.0, 0.0, 1.0, 1.0, 0.0, 0.0, 1.0, 0.0, 0.0, 0.0, 1.0, 0.0, 0.0, 1.0, 1.0, 1.0, 1.0, 1.0, 1.0, 1.0, 1.0, 0.0, 0.0, 0.0, 1.0, 0.0, 0.0, 0.0, 0.0, 0.0, 1.0, 1.0, 1.0, 1.0, 0.0, 0.0, 0.0, 1.0, 1.0, 0.0, 1.0, 1.0, 1.0, 0.0, 1.0, 1.0, 1.0, 1.0, 0.0, 0.0, 1.0, 0.0, 0.0, 1.0, 1.0, 1.0, 0.0, 1.0, 1.0, 0.0, 0.0, 1.0, 1.0, 1.0, 0.0, 1.0, 0.0, 1.0, 1.0, 0.0, 1.0, 0.0, 0.0, 0.0, 1.0, 1.0, 1.0, 1.0, 0.0, 0.0, 1.0, 0.0, 1.0, 1.0, 0.0, 1.0, 1.0, 0.0, 0.0, 1.0, 1.0, 0.0, 1.0, 1.0, 0.0, 1.0, 0.0, 1.0, 0.0, 1.0, 0.0, 0.0, 1.0, 0.0, 1.0, 0.0, 0.0, 1.0, 1.0, 0.0, 1.0, 1.0, 1.0, 0.0, 1.0, 1.0, 0.0, 1.0, 0.0, 0.0, 1.0, 0.0, 0.0, 0.0, 0.0, 0.0, 0.0, 0.0, 0.0, 1.0, 1.0, 0.0, 0.0, 1.0, 0.0, 1.0, 1.0, 0.0, 1.0, 0.0, 1.0, 1.0, 1.0, 1.0, 1.0, 0.0, 1.0, 1.0, 1.0, 0.0, 0.0, 0.0, 0.0, 1.0, 1.0, 0.0, 0.0, 0.0, 0.0, 0.0, 1.0, 1.0, 0.0, 1.0, 1.0, 0.0, 0.0, 1.0, 1.0, 0.0, 1.0, 0.0, 1.0, 0.0, 0.0, 0.0, 0.0, 1.0, 1.0, 1.0, 0.0, 1.0, 1.0, 1.0, 0.0, 1.0, 0.0, 0.0, 0.0, 1.0, 0.0, 1.0, 1.0, 0.0, 1.0, 0.0, 0.0, 1.0, 0.0, 1.0, 1.0, 1.0, 1.0, 1.0, 1.0, 0.0, 1.0, 0.0, 0.0, 1.0, 0.0, 1.0, 0.0, 0.0, 1.0, 0.0, 1.0, 0.0, 1.0, 0.0, 0.0, 0.0, 1.0, 0.0, 0.0, 1.0, 1.0, 1.0, 0.0, 0.0, 0.0, 0.0, 1.0, 0.0, 1.0, 0.0, 1.0, 0.0, 0.0, 1.0, 1.0, 1.0, 0.0, 0.0, 0.0, 0.0, 1.0, 1.0, 0.0, 1.0, 1.0, 0.0, 0.0, 1.0, 0.0, 0.0, 0.0, 1.0, 1.0, 1.0, 1.0, 0.0, 1.0, 0.0, 0.0, 0.0, 0.0, 0.0, 1.0, 0.0, 0.0, 0.0, 0.0, 0.0, 0.0, 1.0, 0.0, 1.0, 1.0, 1.0, 0.0, 1.0, 0.0, 1.0, 0.0, 0.0, 0.0, 0.0, 1.0, 0.0, 1.0, 1.0, 1.0, 1.0, 0.0, 0.0, 1.0, 0.0, 0.0, 0.0, 0.0, 0.0, 0.0, 1.0, 0.0, 0.0, 0.0, 1.0, 1.0, 1.0, 1.0, 1.0, 0.0, 0.0, 1.0, 1.0, 0.0, 1.0, 1.0, 1.0, 0.0, 0.0, 0.0, 1.0, 1.0, 0.0, 1.0, 1.0, 1.0, 1.0, 0.0, 0.0, 1.0, 0.0, 0.0, 1.0, 0.0, 1.0, 0.0, 0.0, 0.0, 0.0, 0.0, 0.0, 0.0, 1.0, 1.0, 0.0, 1.0, 0.0, 0.0, 0.0, 0.0, 1.0, 1.0, 1.0, 1.0, 1.0, 1.0, 0.0, 0.0, 0.0, 0.0, 1.0, 1.0, 1.0, 1.0, 1.0, 1.0, 1.0, 0.0, 0.0, 1.0, 1.0, 1.0, 1.0, 1.0, 1.0, 1.0, 1.0, 0.0, 1.0, 1.0, 1.0, 0.0, 0.0, 0.0, 0.0, 1.0, 0.0, 1.0, 1.0, 0.0, 0.0, 0.0, 1.0, 0.0, 1.0, 1.0, 0.0, 1.0, 0.0, 0.0, 0.0, 1.0, 1.0, 1.0, 1.0, 1.0, 0.0, 0.0, 1.0, 0.0, 1.0, 1.0, 1.0, 1.0, 0.0, 1.0, 1.0, 0.0, 0.0, 0.0, 1.0, 0.0, 0.0, 0.0, 0.0, 1.0, 1.0, 0.0, 1.0, 0.0, 1.0, 1.0, 0.0, 0.0, 0.0, 0.0, 1.0, 1.0, 1.0, 0.0, 0.0, 0.0, 0.0, 1.0, 1.0, 1.0, 1.0, 1.0, 0.0, 0.0, 1.0, 1.0, 0.0, 0.0, 1.0, 0.0, 1.0, 0.0, 1.0, 0.0, 0.0, 0.0, 0.0, 1.0, 1.0, 1.0, 1.0, 0.0, 0.0, 0.0, 0.0, 1.0, 1.0, 1.0, 0.0, 1.0, 1.0, 0.0, 1.0, 1.0, 1.0, 1.0, 1.0, 1.0, 1.0, 0.0, 1.0, 0.0, 1.0, 1.0, 0.0, 1.0, 0.0, 0.0, 1.0, 1.0, 0.0, 0.0, 0.0, 1.0, 0.0, 1.0, 0.0, 0.0, 0.0, 1.0, 0.0, 0.0, 0.0, 1.0, 0.0, 1.0, 1.0, 0.0, 1.0, 0.0, 1.0, 1.0, 1.0, 1.0, 0.0, 1.0, 1.0, 0.0, 1.0, 0.0, 0.0, 0.0, 1.0, 0.0, 0.0, 0.0, 0.0, 1.0, 1.0, 0.0, 0.0, 1.0, 1.0, 0.0, 1.0, 1.0, 1.0, 1.0, 0.0, 1.0, 0.0, 0.0, 0.0, 1.0, 1.0, 1.0, 1.0, 0.0, 0.0, 0.0, 0.0, 0.0, 0.0, 1.0, 1.0, 1.0, 0.0, 1.0, 0.0]\t outs is:[-1.6405, -1.0844638, -0.3422402, -1.5324765, -0.88127106, -1.7109739, -0.932064, -1.078411, -1.3578563, -1.7703351, -1.3930796, -0.7384296, -1.3406556, -1.4185678, -1.6416458, -1.6160356, -0.6149491, -0.5479466, 0.25871298, 1.1538067, -2.2223346, 0.37755793, -0.5905175, -1.1461278, -1.1016536, -0.8610276, -1.6384224, 0.119997784, 0.15414365, -0.35303667, -1.2119002, -1.6257629, -0.1624346, -0.050069015, 1.3281771, -1.647787, -0.21052499, 1.2933681, -1.8402517, -1.6918687, -0.5099628, -1.1727499, -1.7443175, -0.34504348, -2.1029472, 0.7899978, 0.42244357, -1.3361244, -0.0839992, -0.3907431, -1.9873434, -1.9526864, -2.4835463, -1.7279531, -0.13425048, -1.6573696, -1.7627269, -0.58658946, -0.45065367, -0.11449708, -1.6710662, -1.2987999, -0.82982755, 0.3735184, -0.5536329, -1.7233788, -0.6853668, 0.5706928, -0.8261219, -1.0367812, 0.22831503, 0.1221662, -1.5564634, -1.0242882, -0.7734771, -0.64271253, -1.3743087, -1.5601826, -1.831222, -1.1900735, -2.506498, -1.4690005, -0.28070804, -0.13991216, -1.4027628, -1.6876314, -1.4256715, -1.218074, 0.445794, 0.29876822, -1.5784155, -0.5126262, 0.6715704, -0.14971589, -2.2387166, -0.025131349, -0.3530587, -1.4237374, -2.2677584, -1.7868005, -0.5336957, 0.057385277, 0.6372188, -0.3073095, -1.8402749, -1.5906595, -2.24167, -1.6337776, -2.659379, 0.21533985, -1.4230157, -1.4023472, -0.0983368, -1.6019174, -0.31677753, -2.1359484, -0.6648278, -1.3151876, -0.7824944, -0.020277668, -0.6909987, -1.328311, -1.683544, -2.567812, -1.2358302, -0.04912849, -2.4932241, -0.65589786, -0.55134493, 0.3129427, -0.32496703, -2.2971122, -1.5959483, -1.167531, -1.9177747, -1.7027421, -1.7707068, -0.6995126, -1.5272774, 0.10003184, -0.15831436, 0.3620368, -0.38748837, -0.7050591, 1.2292736, -1.3413833, -1.6962326, -1.6535217, -0.42100427, -0.60688156, -1.8987696, -1.7276751, -1.1174799, -2.2001336, -0.44283903, -2.3115892, -2.622713, 0.39166787, -1.5732142, -1.5130572, -1.8234679, -1.2223006, -1.1714839, -1.5293088, -1.4136202, 0.9926074, 0.6687287, -1.1742437, 0.098642245, -0.8599365, -1.2339276, 0.4546638, -0.7228496, -0.27152658, 0.6951972, -0.75912035, 0.31524378, -0.06495409, -0.94084823, -0.89797324, -1.5601175, -1.8353034, 0.7247652, -0.78586173, -1.3296247, -0.52947986, -1.4285814, -1.6839513, -1.4892384, -1.6393026, 0.29827207, -0.29778358, 0.7669601, -1.9441558, 2.7995557e-05, -1.6583816, -0.64302003, -1.5549601, -1.0926498, -1.5506523, -2.4049172, -1.4254041, -2.1470437, 0.591467, -0.6404018, -1.7008733, 0.012829851, -1.1596879, -2.0479171, 0.6663235, 0.21194394, -1.8187283, -0.20483689, -0.46067536, -1.4297215, -0.9594208, 1.072307, -1.4194719, -1.1886398, -0.3695401, -0.9457643, -1.3245791, -1.9789349, 0.21697177, -2.413147, -1.5102142, -1.4033619, -0.21985157, -1.046346, -2.2941575, -1.493812, -0.102393016, -2.3851151, -0.47339356, 0.8589672, -2.0963697, -0.08998813, -1.3330438, -1.014407, -0.82354856, -1.79295, -1.2232913, 0.053075146, 0.38328004, -0.88845915, -1.420493, -0.64187014, -0.9682368, -0.7790966, -1.6468838, 0.86834127, -1.20304, -0.38056475, -1.4484593, -1.2653369, 0.55823255, -0.6738531, -1.1191728, 0.14671858, -0.21705414, -1.4152354, 0.10686405, -2.162754, -2.631067, -0.10483788, -1.0042821, -1.7458576, -1.999271, -1.9615127, -2.226463, -1.3552992, -2.161793, -0.90799105, -1.6367475, -0.10509287, -2.2544608, -2.3390465, -0.24890943, -1.3091583, -0.5222899, -1.3441995, -1.0099984, -2.059614, -1.8039477, -0.0851862, -0.43970004, -0.36618125, 0.98048496, -1.2439336, 0.5578293, -1.2738272, -1.5095364, -1.3629234, 0.1184531, -0.95816815, 0.038612228, -1.176391, -1.5207168, -0.49118215, -1.6513569, 0.16317019, -0.19946216, -1.4997356, -1.8855833, -1.9507791, -1.1194035, -1.3669815, 0.6502608, -0.62344074, -0.30133456, 0.33486372, -1.538404, -0.46354783, -2.0525203, -0.8394242, -1.4588099, -1.1020038, -1.192267, -0.41124994, -1.1538805, 0.0027133785, -0.7772113, -2.2941713, -0.58396935, 1.4652749, -2.1411884, -1.0290294, -1.5187923, 0.42659914, -1.634303, -1.581391, 0.30753696, -1.8145018, -2.6458175, -1.1056377, -1.2125592, 0.7365165, 0.8804425, -1.2687073, -1.2720561, -2.0916364, 0.022728335, -1.1684622, 0.1899757, -1.7343751, -2.4036222, -1.7639602, 0.050765794, -2.299144, 0.8729337, 0.24514325, -2.370253, -0.2774362, -0.25044286, 0.045756113, -2.216108, -0.91790074, -0.6437952, -0.74864346, -0.57392603, -1.8336818, 0.31080097, -1.547067, -1.4000981, 0.12270862, -0.05940226, -1.2010869, 0.2683989, -1.2507529, 0.10798596, -0.83986616, -2.3509638, 0.05093206, 0.78581756, -1.404298, -0.83947736, -1.2073036, -0.87630403, -0.29083627, -1.5148385, -1.1951457, -1.8390765, 0.17700796, -1.5611743, -0.2685761, -0.61586946, -1.0732783, 0.5838829, -1.7036399, -0.46894372, -1.5396103, -1.5610654, 0.19460835, -0.90742606, 0.018647965, -0.5946089, 0.6175373, -1.8202218, -0.58638096, -1.424322, 0.46722487, -2.4367785, 0.46482116, -1.4022567, -2.1216135, -0.39139503, -0.3962635, -0.34626874, -1.9716913, 0.25347635, -1.1403366, -0.9496442, -0.52444255, -2.4152455, -0.14162818, -0.23542531, -1.4889953, 0.44240007, -0.63365954, -0.2199475, -0.66851777, -1.7060081, -0.4987129, -1.4368054, -1.6171381, -1.907596, 0.046456996, -1.642197, -0.04559316, -1.0770749, -1.1647795, -1.090966, -1.6255533, -0.62441176, -0.60218966, -0.5868029, -1.3337916, -1.4560086, -2.078498, -0.98155653, -0.13682719, 0.34100348, -0.18686555, -1.9806405, 1.1947416, 0.5252487, 0.13059488, -1.6069229, -1.6581043, -2.261956, -2.0602384, -1.1664922, -1.0191264, -1.0170294, 0.98962665, -0.75395536, -1.8445295, 0.51170003, -0.9870789, -0.55194366, -2.206012, -0.47176325, -1.3019203, -0.812958, -1.622517, 0.7435736, -2.2186975, -0.85808843, -0.76290894, -1.202917, -0.6812736, 0.05995282, -1.77152, 0.9137309, -1.7438627, -1.7775486, 0.31821412, -1.4074298, -2.318788, -1.5833099, -0.08294526, -1.6743072, -0.32293028, -0.094180465, 0.8173689, -1.1072819, -2.5047255, 0.833949, -0.7733747, -0.40702212, -1.651184, -2.1965475, -1.0383476, 0.050120305, 0.77411467, -1.4017617, 0.52398485, -0.70590764, -1.7608755, -2.0533524, -1.900333, -0.69155943, -0.017436016, -1.2888327, -1.0787191, -1.2657472, -0.6917377, -0.15245806, -2.4245296, 0.930789, -1.9454952, -1.3142667, -2.058249, -1.5973958, -1.5482956, 0.5196088, 0.874605, 0.382403, -1.2497505, -0.5332605, -1.7846634, -0.50802845, -0.1902722, 0.03868524, -2.4269595, -1.2970885, -0.050292324, 1.2904261, -0.973598, -1.8383437, -1.6272777, -1.6105067, -0.15084471, -0.8213363, -1.5611566, -0.8724078, -0.3757811, -1.2713577, -1.6830703, 0.12261315, 1.1381546, -0.085714474, -0.86948687, -0.72528684, -1.4670959, -1.0123013, -0.92799956, -0.2915413, -0.8817338, 0.20116511, -0.10250078, 0.6447541, -2.4417925, -1.9949299, -1.1295205, -2.0761669, -0.06157239, -1.793959, -0.005070392, 0.18732478, -1.8357543, 0.9992745, -2.2952502, -1.7142061, -2.105288, -1.6380858, -0.4005872, -0.12518033, -1.3773891, 0.10622804, -0.8763463, -1.652149, 0.5529385, -0.66791314, -0.07266593, -1.5783085, -1.5503609, -1.223183, -1.4765567, -0.41227394, 0.20026603, -1.6956582, -0.13927756, -1.7049111, 0.8445847, -0.21312468, -1.3222803, -1.6993362, -1.5119948, -1.5396851, -2.104726, -2.2225347, -1.9825248, -0.47773188, -1.5610456, -0.7545199, -1.6082052, -1.6504546, 0.15592112, -0.7237413, 1.4369147, -1.2714969, -0.45308685, -1.9733721, -0.44874752, -0.7523432, -0.51410353, 0.99757135, -0.13886648, -1.4848362, 1.0528688, -2.8237982, -0.1462502, -0.28682852, -1.2863511, -2.0685341, -1.7689289, -1.5925742, -0.0537964, -1.2987643, -1.6980958, -2.3124423, -0.5772035, -1.09173, -1.4190191, -0.2016479, -0.5500134, -2.3930378, -1.6487592, 0.025560927, -0.2764914, -1.4925773, -1.4929937, -0.12190677, -1.7242185, -0.29983163, -1.6354933, -0.42238003, -2.3512468, -1.6370982, -1.7458944, -1.8553443, -1.6930043, 1.1597965, -2.284103, -2.4268303, -0.8526651, -1.1593802, -1.3626994, -2.244092, -1.2709724, 0.49774683, -0.87934154, -0.026628006, 0.14182837, -2.450623, -2.397409, -1.8531588, -0.15366052, -0.3644751, -1.9164976, 0.22077686, -1.6619579, -0.7226444, -1.4976747, -1.0997835, -0.31580532, -1.1227059, -1.1056861, 0.29724196, 0.33073282, -0.39387348, -1.6543957, 0.37862542, -1.7120204, -0.028247092, 0.060254987, -2.226688, -0.013719995, -0.066232115, -1.0406915, -2.0812218, -0.65793574, -0.060044605, 0.5417484, 0.64091486, -2.3360102, -1.9310857, -0.27388108, 0.68580186, -0.21801673, -2.4920163, -1.4691975, -2.1721392, -1.9889251, -2.3313897, -1.7056543, -0.31934667, 0.2610101, -0.6600143, -0.6586301, -0.23073865, 0.05416293, -0.6371695, 0.7564696, -0.88787496, 0.6467903, -1.1468072, -1.2096972, -0.6255717, -1.4718266, -0.42816573, -0.5738146, -0.5068244, -1.6850239, -1.1456779, -0.03581767, -1.3615304, 0.1974522, 0.18393442, -1.0566503, -1.8150742, -2.0205207, -2.4883695, -2.7451797, 0.7991411, -0.42153922, 0.64686006, -1.8179625, -0.25895858, -1.2957703, -0.15545416, -1.3540028, 0.19326581, -0.7975881, -2.4600182, -0.5886504, -1.6583043, -1.6400633, 0.46366948, -1.4279138, -2.2380683, -1.3476955, -0.9223046, -1.709998, -2.2448986, -0.63352925, -1.5926536, -2.6759167, -1.3554257, -1.1023133, -1.2170774, 0.5993004, 0.4811107, -0.14007415, -1.8981154, -1.2434343, -1.3438877, -1.6739357, 0.32517394, 0.9685188, -1.2033185, -0.31920415, -1.3370858, 0.42979148, -1.0095786, -1.7548838, 0.69824845, 0.5064609, -0.9507134, -0.3526015, -2.2861185, -2.4441886, -1.584066, -1.8971896, -1.0993391, -0.33885714, -0.8947173, -0.8737223, -1.2784978, -1.2019017, 0.32640025, -0.18871564, -1.1131593, -1.6706194, -0.17304985, 0.4435438, 0.3401836, -0.11459844, -0.46438253, -1.3595816, -1.8763372, -1.6153358, -0.12387161, -1.4959315, 0.045823883, 0.3287413, -0.7882952, -1.227455, -1.3036736, -0.810625, -0.057254035, 0.91367936, -1.2253052, -1.142219, -0.32787666, 0.5838511, -1.4359734, -2.084533, -1.052605, -1.4665596, 0.40135667, -1.197781, 0.25282836, -1.4319879, -2.152081, -2.1337929, -0.5216608, -0.9383129, -0.4302408, -0.30486217, -1.4910485, -0.26883966, 0.85358906, 0.91563475, -0.2887156, 0.008113485, -0.20299761, -1.2974073, -0.09561764, -2.2231665, -1.0745376, 0.5799456, -0.7069151, -0.9633597, 0.45681125, 0.7058892, -1.6808435, -1.7477394, 0.6503066, 0.053194057, -0.051941026, -0.24475823, 0.22148998, -1.4159588, -1.0281979, -1.7388688, -0.6227807, 0.7361889, -1.5230492, -0.5288167, -0.56973165, -0.52592593, -2.2267468, -0.17046037, -1.7616272, 0.30398306, -2.6767445, -1.7928058, -0.82019484, -2.075675, -1.5544748, -1.8551159, -1.6850191, -1.8444258, 0.22427173, -0.8581004, -2.0359588, -2.414463, -1.7666777, 0.7776144, -0.7212038, -2.3391135, -1.6085619, -1.4468831, -1.4593399, 0.21171229, -1.6818334, 0.59900063, 0.49949533, -1.4151615, -2.0844648, -0.34212676, -1.6294192, -2.5651674, -2.3851223, -1.0964261, -0.9397966, -1.7755888, -0.893541, -0.12574297, -1.6567932, 1.306022, -1.7078581, -1.6632155, -0.68148875, -1.2654483, -1.4778745, -2.0136082, -1.1144664, -1.2718915, -1.736317, -1.2339576, -2.4650369, -1.3169347, 0.97249234, -1.4897119, 0.6375701, 0.80394053, -0.5865132, -1.6039294, -0.78315306, -0.6234301, -0.5183275, 0.22418182, 0.5825839, -1.011091, -1.3337656, -1.8586682, -1.3007991, -1.7078067, -0.14290513, -1.0659128, 0.12081589, -1.6667912, 1.3421829, -2.5494342, -1.5474232, -1.1141725, -1.3328481, -1.3851501, 0.007851701, -2.488792, -2.2332225, 0.11119957, -0.25604543, -1.7405494, -1.6013267, 0.6359716, -1.5492986, -1.7457684, 0.18677591, -2.4752789, -0.36386988, -2.3755589, -1.0339347, -0.5903382, -0.34403458, -1.2529882, -0.20044048, -0.11652182, 0.6252298, -0.39931902, -1.6012405, 0.098802775, 0.25828707, -1.6494559, -1.0713077, -1.354719, -0.26805308, 0.3680434, -1.5956236, -1.7880006, -0.54121053, -1.1002649, -0.013847683, -1.5955569, -1.5879573, -1.7072853, 0.19193639, -0.598464, 0.5740572, 0.12134153, -0.14451228, -0.04044949, -1.9112935, -1.1518087, 0.38706404, -1.7849041, 0.14699338, -1.5087557, -0.44698787, -1.0156237, -1.4508665, -0.35389587, -0.68029124, -0.2636469, 1.4179662, -0.7471277, -0.045580942, -1.5655226, -2.2381644, -0.91497344, -0.020953704, 0.08521174, -0.4737829, -1.3524745]\n",
      "epoch - 0 train_loss - 0.48 acc - 0.525 auc - 0.000\n",
      "In evaluation x shape is:torch.Size([2, 99])\t taret_id shape is:torch.Size([2, 99])\t label shape is:torch.Size([2, 1])\n",
      "Output shape is:torch.Size([2, 99])\tlabel shape is:torch.Size([2, 1])\n",
      "In evaluation x shape is:torch.Size([2, 99])\t taret_id shape is:torch.Size([2, 99])\t label shape is:torch.Size([2, 1])\n",
      "Output shape is:torch.Size([2, 99])\tlabel shape is:torch.Size([2, 1])\n",
      "In evaluation x shape is:torch.Size([2, 99])\t taret_id shape is:torch.Size([2, 99])\t label shape is:torch.Size([2, 1])\n",
      "Output shape is:torch.Size([2, 99])\tlabel shape is:torch.Size([2, 1])\n",
      "In evaluation x shape is:torch.Size([2, 99])\t taret_id shape is:torch.Size([2, 99])\t label shape is:torch.Size([2, 1])\n",
      "Output shape is:torch.Size([2, 99])\tlabel shape is:torch.Size([2, 1])\n",
      "In evaluation x shape is:torch.Size([2, 99])\t taret_id shape is:torch.Size([2, 99])\t label shape is:torch.Size([2, 1])\n",
      "Output shape is:torch.Size([2, 99])\tlabel shape is:torch.Size([2, 1])\n",
      "In evaluation x shape is:torch.Size([2, 99])\t taret_id shape is:torch.Size([2, 99])\t label shape is:torch.Size([2, 1])\n",
      "Output shape is:torch.Size([2, 99])\tlabel shape is:torch.Size([2, 1])\n",
      "In evaluation x shape is:torch.Size([2, 99])\t taret_id shape is:torch.Size([2, 99])\t label shape is:torch.Size([2, 1])\n",
      "Output shape is:torch.Size([2, 99])\tlabel shape is:torch.Size([2, 1])\n",
      "In evaluation x shape is:torch.Size([2, 99])\t taret_id shape is:torch.Size([2, 99])\t label shape is:torch.Size([2, 1])\n",
      "Output shape is:torch.Size([2, 99])\tlabel shape is:torch.Size([2, 1])\n",
      "In evaluation x shape is:torch.Size([2, 99])\t taret_id shape is:torch.Size([2, 99])\t label shape is:torch.Size([2, 1])\n",
      "Output shape is:torch.Size([2, 99])\tlabel shape is:torch.Size([2, 1])\n",
      "In evaluation x shape is:torch.Size([2, 99])\t taret_id shape is:torch.Size([2, 99])\t label shape is:torch.Size([2, 1])\n",
      "Output shape is:torch.Size([2, 99])\tlabel shape is:torch.Size([2, 1])\n",
      "In evaluation x shape is:torch.Size([2, 99])\t taret_id shape is:torch.Size([2, 99])\t label shape is:torch.Size([2, 1])\n",
      "Output shape is:torch.Size([2, 99])\tlabel shape is:torch.Size([2, 1])\n",
      "In evaluation x shape is:torch.Size([2, 99])\t taret_id shape is:torch.Size([2, 99])\t label shape is:torch.Size([2, 1])\n",
      "Output shape is:torch.Size([2, 99])\tlabel shape is:torch.Size([2, 1])\n",
      "In evaluation x shape is:torch.Size([2, 99])\t taret_id shape is:torch.Size([2, 99])\t label shape is:torch.Size([2, 1])\n",
      "Output shape is:torch.Size([2, 99])\tlabel shape is:torch.Size([2, 1])\n",
      "In evaluation x shape is:torch.Size([2, 99])\t taret_id shape is:torch.Size([2, 99])\t label shape is:torch.Size([2, 1])\n",
      "Output shape is:torch.Size([2, 99])\tlabel shape is:torch.Size([2, 1])\n",
      "In evaluation x shape is:torch.Size([2, 99])\t taret_id shape is:torch.Size([2, 99])\t label shape is:torch.Size([2, 1])\n",
      "Output shape is:torch.Size([2, 99])\tlabel shape is:torch.Size([2, 1])\n",
      "In evaluation x shape is:torch.Size([2, 99])\t taret_id shape is:torch.Size([2, 99])\t label shape is:torch.Size([2, 1])\n",
      "Output shape is:torch.Size([2, 99])\tlabel shape is:torch.Size([2, 1])\n",
      "In evaluation x shape is:torch.Size([2, 99])\t taret_id shape is:torch.Size([2, 99])\t label shape is:torch.Size([2, 1])\n",
      "Output shape is:torch.Size([2, 99])\tlabel shape is:torch.Size([2, 1])\n",
      "In evaluation x shape is:torch.Size([2, 99])\t taret_id shape is:torch.Size([2, 99])\t label shape is:torch.Size([2, 1])\n",
      "Output shape is:torch.Size([2, 99])\tlabel shape is:torch.Size([2, 1])\n",
      "In evaluation x shape is:torch.Size([2, 99])\t taret_id shape is:torch.Size([2, 99])\t label shape is:torch.Size([2, 1])\n",
      "Output shape is:torch.Size([2, 99])\tlabel shape is:torch.Size([2, 1])\n",
      "In evaluation x shape is:torch.Size([2, 99])\t taret_id shape is:torch.Size([2, 99])\t label shape is:torch.Size([2, 1])\n",
      "Output shape is:torch.Size([2, 99])\tlabel shape is:torch.Size([2, 1])\n",
      "In evaluation x shape is:torch.Size([2, 99])\t taret_id shape is:torch.Size([2, 99])\t label shape is:torch.Size([2, 1])\n",
      "Output shape is:torch.Size([2, 99])\tlabel shape is:torch.Size([2, 1])\n",
      "In evaluation x shape is:torch.Size([2, 99])\t taret_id shape is:torch.Size([2, 99])\t label shape is:torch.Size([2, 1])\n",
      "Output shape is:torch.Size([2, 99])\tlabel shape is:torch.Size([2, 1])\n",
      "In evaluation x shape is:torch.Size([2, 99])\t taret_id shape is:torch.Size([2, 99])\t label shape is:torch.Size([2, 1])\n",
      "Output shape is:torch.Size([2, 99])\tlabel shape is:torch.Size([2, 1])\n",
      "In evaluation x shape is:torch.Size([2, 99])\t taret_id shape is:torch.Size([2, 99])\t label shape is:torch.Size([2, 1])\n",
      "Output shape is:torch.Size([2, 99])\tlabel shape is:torch.Size([2, 1])\n",
      "In evaluation x shape is:torch.Size([2, 99])\t taret_id shape is:torch.Size([2, 99])\t label shape is:torch.Size([2, 1])\n",
      "Output shape is:torch.Size([2, 99])\tlabel shape is:torch.Size([2, 1])\n",
      "In evaluation x shape is:torch.Size([2, 99])\t taret_id shape is:torch.Size([2, 99])\t label shape is:torch.Size([2, 1])\n",
      "Output shape is:torch.Size([2, 99])\tlabel shape is:torch.Size([2, 1])\n",
      "In evaluation x shape is:torch.Size([2, 99])\t taret_id shape is:torch.Size([2, 99])\t label shape is:torch.Size([2, 1])\n",
      "Output shape is:torch.Size([2, 99])\tlabel shape is:torch.Size([2, 1])\n",
      "In evaluation x shape is:torch.Size([2, 99])\t taret_id shape is:torch.Size([2, 99])\t label shape is:torch.Size([2, 1])\n",
      "Output shape is:torch.Size([2, 99])\tlabel shape is:torch.Size([2, 1])\n",
      "In evaluation x shape is:torch.Size([2, 99])\t taret_id shape is:torch.Size([2, 99])\t label shape is:torch.Size([2, 1])\n",
      "Output shape is:torch.Size([2, 99])\tlabel shape is:torch.Size([2, 1])\n",
      "In evaluation x shape is:torch.Size([2, 99])\t taret_id shape is:torch.Size([2, 99])\t label shape is:torch.Size([2, 1])\n",
      "Output shape is:torch.Size([2, 99])\tlabel shape is:torch.Size([2, 1])\n",
      "In evaluation x shape is:torch.Size([2, 99])\t taret_id shape is:torch.Size([2, 99])\t label shape is:torch.Size([2, 1])\n",
      "Output shape is:torch.Size([2, 99])\tlabel shape is:torch.Size([2, 1])\n",
      "In evaluation x shape is:torch.Size([2, 99])\t taret_id shape is:torch.Size([2, 99])\t label shape is:torch.Size([2, 1])\n",
      "Output shape is:torch.Size([2, 99])\tlabel shape is:torch.Size([2, 1])\n",
      "In evaluation x shape is:torch.Size([2, 99])\t taret_id shape is:torch.Size([2, 99])\t label shape is:torch.Size([2, 1])\n",
      "Output shape is:torch.Size([2, 99])\tlabel shape is:torch.Size([2, 1])\n",
      "In evaluation x shape is:torch.Size([2, 99])\t taret_id shape is:torch.Size([2, 99])\t label shape is:torch.Size([2, 1])\n",
      "Output shape is:torch.Size([2, 99])\tlabel shape is:torch.Size([2, 1])\n",
      "In evaluation x shape is:torch.Size([2, 99])\t taret_id shape is:torch.Size([2, 99])\t label shape is:torch.Size([2, 1])\n",
      "Output shape is:torch.Size([2, 99])\tlabel shape is:torch.Size([2, 1])\n",
      "In evaluation x shape is:torch.Size([2, 99])\t taret_id shape is:torch.Size([2, 99])\t label shape is:torch.Size([2, 1])\n",
      "Output shape is:torch.Size([2, 99])\tlabel shape is:torch.Size([2, 1])\n",
      "In evaluation x shape is:torch.Size([2, 99])\t taret_id shape is:torch.Size([2, 99])\t label shape is:torch.Size([2, 1])\n",
      "Output shape is:torch.Size([2, 99])\tlabel shape is:torch.Size([2, 1])\n",
      "In evaluation x shape is:torch.Size([2, 99])\t taret_id shape is:torch.Size([2, 99])\t label shape is:torch.Size([2, 1])\n",
      "Output shape is:torch.Size([2, 99])\tlabel shape is:torch.Size([2, 1])\n",
      "In evaluation x shape is:torch.Size([2, 99])\t taret_id shape is:torch.Size([2, 99])\t label shape is:torch.Size([2, 1])\n",
      "Output shape is:torch.Size([2, 99])\tlabel shape is:torch.Size([2, 1])\n",
      "In evaluation x shape is:torch.Size([2, 99])\t taret_id shape is:torch.Size([2, 99])\t label shape is:torch.Size([2, 1])\n",
      "Output shape is:torch.Size([2, 99])\tlabel shape is:torch.Size([2, 1])\n",
      "In evaluation x shape is:torch.Size([2, 99])\t taret_id shape is:torch.Size([2, 99])\t label shape is:torch.Size([2, 1])\n",
      "Output shape is:torch.Size([2, 99])\tlabel shape is:torch.Size([2, 1])\n",
      "In evaluation x shape is:torch.Size([2, 99])\t taret_id shape is:torch.Size([2, 99])\t label shape is:torch.Size([2, 1])\n",
      "Output shape is:torch.Size([2, 99])\tlabel shape is:torch.Size([2, 1])\n",
      "In evaluation x shape is:torch.Size([2, 99])\t taret_id shape is:torch.Size([2, 99])\t label shape is:torch.Size([2, 1])\n",
      "Output shape is:torch.Size([2, 99])\tlabel shape is:torch.Size([2, 1])\n",
      "In evaluation x shape is:torch.Size([2, 99])\t taret_id shape is:torch.Size([2, 99])\t label shape is:torch.Size([2, 1])\n",
      "Output shape is:torch.Size([2, 99])\tlabel shape is:torch.Size([2, 1])\n",
      "In evaluation x shape is:torch.Size([2, 99])\t taret_id shape is:torch.Size([2, 99])\t label shape is:torch.Size([2, 1])\n",
      "Output shape is:torch.Size([2, 99])\tlabel shape is:torch.Size([2, 1])\n",
      "In evaluation x shape is:torch.Size([2, 99])\t taret_id shape is:torch.Size([2, 99])\t label shape is:torch.Size([2, 1])\n",
      "Output shape is:torch.Size([2, 99])\tlabel shape is:torch.Size([2, 1])\n",
      "In evaluation x shape is:torch.Size([2, 99])\t taret_id shape is:torch.Size([2, 99])\t label shape is:torch.Size([2, 1])\n",
      "Output shape is:torch.Size([2, 99])\tlabel shape is:torch.Size([2, 1])\n",
      "In evaluation x shape is:torch.Size([2, 99])\t taret_id shape is:torch.Size([2, 99])\t label shape is:torch.Size([2, 1])\n",
      "Output shape is:torch.Size([2, 99])\tlabel shape is:torch.Size([2, 1])\n",
      "In evaluation x shape is:torch.Size([2, 99])\t taret_id shape is:torch.Size([2, 99])\t label shape is:torch.Size([2, 1])\n",
      "Output shape is:torch.Size([2, 99])\tlabel shape is:torch.Size([2, 1])\n",
      "In evaluation x shape is:torch.Size([2, 99])\t taret_id shape is:torch.Size([2, 99])\t label shape is:torch.Size([2, 1])\n",
      "Output shape is:torch.Size([2, 99])\tlabel shape is:torch.Size([2, 1])\n",
      "In evaluate labels is:[1.0, 1.0, 1.0, 1.0, 1.0, 1.0, 1.0, 1.0, 1.0, 1.0, 0.0, 0.0, 0.0, 1.0, 1.0, 1.0, 1.0, 0.0, 1.0, 1.0, 0.0, 0.0, 0.0, 0.0, 1.0, 1.0, 1.0, 1.0, 1.0, 0.0, 1.0, 0.0, 1.0, 1.0, 1.0, 1.0, 0.0, 1.0, 1.0, 1.0, 1.0, 1.0, 0.0, 0.0, 0.0, 1.0, 1.0, 0.0, 1.0, 0.0, 0.0, 0.0, 1.0, 0.0, 0.0, 0.0, 0.0, 1.0, 0.0, 1.0, 0.0, 0.0, 0.0, 0.0, 0.0, 1.0, 0.0, 0.0, 1.0, 0.0, 0.0, 0.0, 0.0, 0.0, 0.0, 0.0, 0.0, 0.0, 0.0, 1.0, 0.0, 1.0, 1.0, 1.0, 1.0, 0.0, 1.0, 1.0, 0.0, -1.0, 1.0, 0.0, 1.0, 1.0, 0.0, 1.0, 1.0, 0.0, 1.0, 0.0]\t outs is:[-0.43699265, -1.0437118, -0.8449607, -2.0088072, -1.3111433, -1.0717162, -1.8054377, -1.0347124, -1.5939167, -1.3199958, -0.37608796, -0.5834056, -0.7843247, -0.66542304, -0.5198035, -0.89585507, -1.7884023, -2.262666, -1.44692, -1.5888951, -0.3804317, -1.4252596, -0.71534705, -1.0084101, 0.4066869, -1.4203537, -1.8361613, -1.3707193, -1.6867677, -1.9526225, -1.9642144, -1.5886351, -0.6516902, -2.7288973, -0.61560434, -1.8675388, -0.83156043, -1.3561778, -1.1662258, -0.86678404, -1.1541785, -1.5485308, -1.3671514, -1.8558034, -1.0300753, -0.37845194, -0.98113525, -1.7345492, -2.2066758, -1.0925136, -1.8076414, -1.6571256, -1.4680675, -0.6510346, -1.3360059, -2.1389077, -0.090568796, -1.3891287, -2.828596, -1.0115179, -1.7054796, -1.4107702, -1.1488699, -1.791617, -2.510993, -0.9254823, -1.3443989, -1.5809017, -0.8565488, -1.9006972, -1.3325354, -1.7580378, -1.8097304, -1.8353132, -1.5097514, -2.5385275, -1.2569182, -2.3538067, -2.2053273, -1.6906846, -2.6374466, -0.67429423, -1.264937, -1.9471172, -0.87395746, -1.0074414, -2.8382592, -2.4411657, -1.0895485, -2.1320097, -1.0895485, -1.0074414, -2.1378627, -2.8476574, -1.7092546, -1.9813288, -0.18288985, 1.4469093, -0.46689808, -0.63068366]\t\n",
      "epoch - 0 eval_loss - 0.94 eval acc - 0.470 eval auc - 0.000\n"
     ]
    },
    {
     "name": "stdout",
     "output_type": "stream",
     "text": [
      "In training x shape is:torch.Size([997, 99])\t taret_id shape is:torch.Size([997, 99])\t label shape is:torch.Size([997, 99])\n"
     ]
    },
    {
     "name": "stderr",
     "output_type": "stream",
     "text": [
      "loss - 0.4631: 100%|██████████| 1/1 [00:04<00:00,  4.20s/it]\n",
      "100%|██████████| 50/50 [00:00<00:00, 279.04it/s]\n",
      "  0%|          | 0/1 [00:00<?, ?it/s]"
     ]
    },
    {
     "name": "stdout",
     "output_type": "stream",
     "text": [
      "In training labels is:[0.0, 1.0, 0.0, 0.0, 0.0, 0.0, 1.0, 0.0, 1.0, 1.0, 0.0, 1.0, 0.0, 0.0, 1.0, 1.0, 0.0, 1.0, 0.0, 0.0, 0.0, 1.0, 0.0, 1.0, 1.0, 0.0, 0.0, 0.0, 0.0, 0.0, 1.0, 0.0, 1.0, 1.0, 1.0, 0.0, 0.0, 0.0, 1.0, 1.0, 0.0, 1.0, 0.0, 1.0, 0.0, 0.0, 1.0, 1.0, 1.0, 1.0, 1.0, 1.0, 1.0, 1.0, 0.0, 0.0, 1.0, 1.0, 1.0, 1.0, 1.0, 1.0, 0.0, 1.0, 1.0, 0.0, 1.0, 1.0, 0.0, 0.0, 0.0, 0.0, 1.0, 0.0, 0.0, 0.0, 1.0, 0.0, 0.0, 0.0, 1.0, 0.0, 0.0, 0.0, 1.0, 1.0, 1.0, 1.0, 1.0, 0.0, 0.0, 0.0, 1.0, 1.0, 0.0, 1.0, 0.0, 1.0, 0.0, 0.0, 1.0, 0.0, 1.0, 1.0, 1.0, 0.0, 0.0, 1.0, 1.0, 1.0, 0.0, 0.0, 0.0, 1.0, 0.0, 1.0, 1.0, 1.0, 1.0, 1.0, 1.0, 1.0, 0.0, 1.0, 1.0, 1.0, 0.0, 0.0, 0.0, 0.0, 0.0, 0.0, 1.0, 1.0, 1.0, 1.0, 0.0, 1.0, 0.0, 1.0, 1.0, 0.0, 1.0, 0.0, 0.0, 0.0, 0.0, 1.0, 1.0, 1.0, 0.0, 1.0, 0.0, 0.0, 1.0, 0.0, 0.0, 1.0, 1.0, 0.0, 0.0, 1.0, 1.0, 1.0, 1.0, 1.0, 1.0, 0.0, 0.0, 0.0, 1.0, 0.0, 0.0, 1.0, 1.0, 0.0, 0.0, 1.0, 1.0, 1.0, 0.0, 1.0, 1.0, 0.0, 1.0, 0.0, 0.0, 0.0, 1.0, 1.0, 1.0, 0.0, 1.0, 0.0, 0.0, 1.0, 1.0, 0.0, 1.0, 1.0, 0.0, 0.0, 1.0, 1.0, 0.0, 1.0, 0.0, 0.0, 0.0, 0.0, 1.0, 1.0, 1.0, 0.0, 1.0, 1.0, 0.0, 0.0, 0.0, 1.0, 1.0, 0.0, 1.0, 0.0, 1.0, 1.0, 1.0, 0.0, 0.0, 0.0, 1.0, 1.0, 0.0, 0.0, 0.0, 1.0, 1.0, 1.0, 0.0, 0.0, 0.0, 1.0, 0.0, 1.0, 0.0, 1.0, 0.0, 0.0, 0.0, 0.0, 1.0, 1.0, 1.0, 1.0, 0.0, 1.0, 0.0, 0.0, 1.0, 1.0, 1.0, 0.0, 0.0, 1.0, 1.0, 0.0, 0.0, 1.0, 0.0, 0.0, 1.0, 0.0, 1.0, 1.0, 0.0, 0.0, 0.0, 1.0, 0.0, 1.0, 1.0, 0.0, 1.0, 1.0, 1.0, 0.0, 1.0, 1.0, 0.0, 1.0, 1.0, 1.0, 0.0, 1.0, 1.0, 0.0, 1.0, 1.0, 1.0, 0.0, 1.0, 1.0, 1.0, 0.0, 0.0, 0.0, 0.0, 0.0, 0.0, 1.0, 1.0, 1.0, 0.0, 0.0, 1.0, 1.0, 1.0, 1.0, 1.0, 1.0, 0.0, 0.0, 1.0, 1.0, 0.0, 1.0, 1.0, 1.0, 0.0, 1.0, 0.0, 1.0, 0.0, 0.0, 1.0, 0.0, 0.0, 1.0, 0.0, 0.0, 0.0, 1.0, 1.0, 1.0, 1.0, 0.0, 1.0, 0.0, 1.0, 0.0, 1.0, 0.0, 0.0, 0.0, 0.0, 1.0, 0.0, 0.0, 1.0, 0.0, 0.0, 1.0, 1.0, 0.0, 1.0, 1.0, 1.0, 0.0, 0.0, 1.0, 1.0, 1.0, 0.0, 1.0, 0.0, 1.0, 0.0, 1.0, 0.0, 0.0, 1.0, 0.0, 1.0, 1.0, 0.0, 0.0, 0.0, 1.0, 1.0, 1.0, 0.0, 0.0, 0.0, 1.0, 1.0, 0.0, 0.0, 0.0, 1.0, 0.0, 1.0, 0.0, 0.0, 0.0, 0.0, 0.0, 0.0, 0.0, 1.0, 1.0, 0.0, 0.0, 1.0, 1.0, 0.0, 0.0, 0.0, 0.0, 1.0, 0.0, 0.0, 0.0, 0.0, 0.0, 0.0, 0.0, 1.0, 0.0, 1.0, 0.0, 1.0, 1.0, 0.0, 0.0, 0.0, 0.0, 1.0, 1.0, 1.0, 1.0, 0.0, 1.0, 1.0, 1.0, 0.0, 1.0, 0.0, 1.0, 1.0, 1.0, 1.0, 1.0, 1.0, 0.0, 0.0, 0.0, 1.0, 0.0, 1.0, 1.0, 0.0, 0.0, 0.0, 0.0, 0.0, 1.0, 0.0, 0.0, 0.0, 1.0, 0.0, 1.0, 0.0, 0.0, 0.0, 1.0, 1.0, 0.0, 1.0, 1.0, 1.0, 0.0, 0.0, 0.0, 0.0, 0.0, 1.0, 1.0, 1.0, 1.0, 1.0, 0.0, 1.0, 1.0, 0.0, 1.0, 1.0, 1.0, 1.0, 1.0, 1.0, 1.0, 0.0, 1.0, 1.0, 1.0, 0.0, 0.0, 0.0, 1.0, 1.0, 0.0, 1.0, 1.0, 1.0, 0.0, 0.0, 0.0, 1.0, 0.0, 1.0, 1.0, 1.0, 0.0, 1.0, 1.0, 1.0, 0.0, 1.0, 0.0, 0.0, 0.0, 1.0, 1.0, 1.0, 1.0, 0.0, 1.0, 0.0, 0.0, 0.0, 0.0, 0.0, 1.0, 1.0, 1.0, 1.0, 1.0, 0.0, 0.0, 0.0, 1.0, 1.0, 1.0, 0.0, 1.0, 1.0, 1.0, 0.0, 1.0, 0.0, 1.0, 1.0, 1.0, 1.0, 0.0, 0.0, 1.0, 0.0, 1.0, 0.0, 1.0, 1.0, 1.0, 1.0, 0.0, 1.0, 1.0, 0.0, 1.0, 1.0, 0.0, 1.0, 1.0, 0.0, 0.0, 0.0, 1.0, 0.0, 1.0, 0.0, 0.0, 1.0, 1.0, 0.0, 1.0, 1.0, 0.0, 1.0, 1.0, 1.0, 1.0, 0.0, 1.0, 1.0, 0.0, 0.0, 0.0, 1.0, 1.0, 0.0, 1.0, 0.0, 0.0, 1.0, 0.0, 1.0, 1.0, 0.0, 0.0, 0.0, 1.0, 1.0, 1.0, 1.0, 0.0, 0.0, 1.0, 0.0, 1.0, 0.0, 0.0, 0.0, 0.0, 0.0, 0.0, 0.0, 1.0, 0.0, 0.0, 0.0, 0.0, 1.0, 0.0, 0.0, 0.0, 0.0, 0.0, 1.0, 1.0, 0.0, 0.0, 1.0, 1.0, 1.0, 0.0, 0.0, 1.0, 1.0, 0.0, 0.0, 0.0, 0.0, 1.0, 1.0, 0.0, 0.0, 0.0, 0.0, 0.0, 0.0, 0.0, 0.0, 0.0, 1.0, 1.0, 1.0, 0.0, 0.0, 1.0, 1.0, 1.0, 0.0, 0.0, 0.0, 0.0, 1.0, 1.0, 1.0, 0.0, 0.0, 1.0, 0.0, 0.0, 0.0, 0.0, 0.0, 0.0, 0.0, 0.0, 0.0, 0.0, 0.0, 1.0, 1.0, 0.0, 1.0, 1.0, 1.0, 1.0, 0.0, 1.0, 1.0, 1.0, 1.0, 0.0, 0.0, 1.0, 1.0, 1.0, 0.0, 0.0, 1.0, 0.0, 0.0, 1.0, 0.0, 1.0, 0.0, 1.0, 0.0, 0.0, 0.0, 1.0, 1.0, 1.0, 0.0, 1.0, 0.0, 0.0, 0.0, 0.0, 1.0, 1.0, 0.0, 1.0, 0.0, 1.0, 1.0, 1.0, 1.0, 0.0, 0.0, 0.0, 0.0, 0.0, 1.0, 1.0, 1.0, 0.0, 1.0, 0.0, 0.0, 0.0, 0.0, 1.0, 0.0, 0.0, 0.0, 1.0, 1.0, 1.0, 1.0, 0.0, 1.0, 1.0, 0.0, 0.0, 1.0, 0.0, 1.0, 0.0, 1.0, 1.0, 0.0, 0.0, 1.0, 0.0, 1.0, 0.0, 1.0, 0.0, 1.0, 0.0, 1.0, 1.0, 0.0, 0.0, 0.0, 1.0, 1.0, 1.0, 0.0, 0.0, 0.0, 0.0, 0.0, 0.0, 0.0, 1.0, 1.0, 1.0, 0.0, 0.0, 1.0, 0.0, 0.0, 0.0, 1.0, 1.0, 1.0, 1.0, 1.0, 0.0, 0.0, 1.0, 1.0, 0.0, 0.0, 0.0, 0.0, 0.0, 0.0, 1.0, 1.0, 1.0, 0.0, 0.0, 1.0, 1.0, 1.0, 1.0, 1.0, 0.0, 0.0, 1.0, 1.0, 1.0, 0.0, 1.0, 1.0, 1.0, 0.0, 1.0, 1.0, 1.0, 1.0, 0.0, 0.0, 1.0, 0.0, 0.0, 1.0, 0.0, 1.0, 1.0, 0.0, 0.0, 0.0, 1.0, 1.0, 1.0, 0.0, 1.0, 0.0, 0.0, 0.0, 0.0, 0.0, 1.0, 0.0, 0.0, 0.0, 0.0, 1.0, 0.0, 0.0, 0.0, 0.0, 0.0, 1.0, 0.0, 1.0, 1.0, 0.0, 0.0, 1.0, 0.0, 1.0, 1.0, 0.0, 1.0, 0.0, 1.0, 0.0, 1.0, 1.0, 1.0, 1.0, 1.0, 0.0, 0.0, 1.0, 1.0, 0.0, 1.0, 1.0, 1.0, 1.0, 1.0, 0.0, 0.0, 1.0, 1.0, 0.0, 0.0, 1.0, 0.0, 1.0, 1.0, 0.0, 0.0, 0.0, 1.0, 0.0, 1.0, 1.0, 1.0, 1.0, 0.0, 0.0, 1.0, 1.0, 0.0, 0.0, 0.0, 1.0, 1.0, 0.0, 1.0, 1.0, 1.0, 0.0, 1.0, 1.0, 1.0, 0.0, 0.0, 1.0, 1.0, 1.0, 1.0, 1.0, 1.0, 1.0, 0.0, 1.0, 1.0, 1.0, 1.0, 0.0, 0.0, 1.0, 1.0, 1.0, 1.0, 1.0, 1.0, 1.0, 0.0, 1.0, 0.0, 0.0, 1.0, 0.0, 0.0, 0.0, 0.0, 0.0, 0.0, 0.0, 0.0, 1.0, 0.0, 0.0, 1.0, 1.0]\t outs is:[-1.9016154, 0.33427054, -1.329186, -0.96682215, 0.56490076, -0.15690823, -1.9306518, -2.1625226, 0.57654274, -1.4878858, -0.2302999, -1.0924783, -1.0942388, -1.8126963, -1.7715019, 1.3928293, -1.814359, 0.73179686, -0.06650525, -2.4272096, -1.8815536, -1.2821434, -1.9010768, -0.8309777, -1.4190315, -1.9048942, -1.452386, -1.5101477, -1.7580665, 0.33744544, -2.5062132, -2.0728452, 0.78997207, -0.14005025, 0.76260096, -0.024556205, -2.382311, 0.24918735, -2.192571, 0.23625799, -1.5362661, -0.8881428, -2.048634, -0.25768018, 0.9034737, -0.75319314, -1.54031, -1.455434, 0.12308855, -2.4948068, -1.6007499, -1.8107888, -1.7536482, 0.4041494, -1.0823951, -1.540939, -1.8858886, 0.83818835, -1.9166058, 0.55469394, -1.5833949, -1.5668656, 0.31401008, -1.5835916, 0.07427964, 0.24650083, 0.22338055, -1.6562778, 0.4536174, -1.7411613, 0.28030807, -2.5740316, 0.30324948, 0.35284233, -1.148897, -0.90115625, -0.73041165, -1.8158096, -0.03863588, -1.9037346, -1.3418099, -2.7366495, -0.9634999, -1.8751991, 0.44691455, -1.4960389, -2.5509708, -1.7957686, -0.7913473, -0.7557981, -2.527325, -2.2906148, -0.27657282, -0.14694072, -1.867102, -2.418631, -1.9056128, -1.6982498, -0.45302325, -1.7552639, -0.26279122, -1.4975938, -0.7737075, 1.1104113, -1.9071139, 0.5458045, 0.21912406, -1.5006981, 0.03038998, 0.02375494, -1.2730283, -1.0803654, -2.5735457, -0.16694714, 0.046871915, 0.2807222, -0.18958335, -0.3725999, -0.059748694, -1.6439635, -0.23091795, -1.645854, -0.56478584, -1.6352783, -1.9003689, 0.6283022, 0.43075436, -1.2668486, -2.0633285, 0.27057722, 1.005057, -0.08007707, -0.5491569, -1.607741, -2.7907295, -1.6912981, -2.7025921, -0.687052, -1.751047, -1.17809, -1.0681068, -2.1541667, -1.7777609, -1.7652909, -1.7964606, 0.48267245, 0.13825719, -1.7624625, 0.37916625, 0.10898258, -2.0099127, -1.8360045, -0.33950388, 1.3716816, -1.6125816, -0.9881513, -1.3939563, 0.5568176, -0.45986432, -2.240738, 1.4574138, -0.323951, -1.3758711, -0.84900427, 0.26400918, 0.20620273, 0.25048238, -0.2679569, 0.45646322, -1.9422392, -2.0080636, -0.7146236, -0.58754325, -1.8585241, -1.6192948, -0.0071419924, -1.348438, -0.14643615, -1.3397504, -1.7589238, 0.48620695, 0.19969743, -0.18119462, -1.6553894, 0.102455184, -2.4730911, -0.02022542, -1.0107143, -0.047977522, -0.62308884, 1.2537322, -0.3375877, -0.66794014, -2.3120835, -1.8328315, -2.416022, 0.52209896, -1.2090913, -0.807637, -1.5787894, -1.7950336, -1.1304355, -1.4251745, -0.31878948, 1.4116203, -0.59458685, -1.8497754, -0.59648263, -1.1393313, 0.071808085, 0.8976236, -0.37754232, -1.8502618, -0.63087595, -1.1816908, -0.14526968, -1.781953, 1.0231874, -1.4517909, 0.78978336, 0.16287823, -0.056163162, 0.27155066, -1.712874, 0.31863618, 0.14077333, -0.1946614, -0.2578135, -1.3915323, -2.5507963, -0.33602846, -1.1651498, -1.7275859, -1.7590832, -1.5745236, -0.9673375, 1.021883, -2.2757666, 0.27328706, -1.918585, 0.44626004, 0.60038596, -1.3331305, -1.4054955, -1.4942272, 0.45001876, 0.2799549, -1.6978234, -0.6979338, -0.07223362, -1.7990654, 0.36150354, -0.3058772, -1.1580223, -2.3136895, -1.7284497, -0.28111744, 0.78581864, -1.5288898, 0.9585002, 0.0883107, -0.7331252, 0.05149378, -0.59949327, -0.30159116, -1.567518, -1.7962221, -0.27114928, -1.1063854, -2.4729288, -1.6008488, -1.198176, -2.277989, -2.0848708, -1.0818402, -0.814698, 0.039194867, -0.8868469, -1.7203542, -2.0815487, -1.4752226, -0.16234297, -2.742985, 0.112872325, -1.5322256, -1.9827234, -0.37802052, -0.021883503, -0.71529216, 0.5299113, -1.0371748, -1.3278595, -0.27007788, -1.9645816, -0.27512753, -1.5049328, -1.2681979, -0.8842691, -1.0370727, -0.026693597, -1.7903275, 0.4775734, 0.9223931, 0.9720006, -0.6329415, -1.8209382, 0.8730939, -2.5145798, -1.8119549, -0.64567775, -2.0609252, -0.39415783, -0.78064156, -1.3997325, 0.12723295, -2.2289252, -0.2908265, -0.19664805, -1.516991, -1.0281372, -0.5835644, -0.07706411, -1.6672357, 0.83130556, -2.439828, 0.1664093, -2.6069286, -1.343562, -1.9309994, -1.762453, -0.7476268, -0.9198394, -2.0353322, -2.2327485, -1.8094426, -1.4711328, -1.3338697, -0.3911758, -1.3999995, 1.0005587, -1.3663071, -0.0678349, 0.013881296, 0.86875176, -1.7857667, 0.9116993, -1.3137196, 0.12426375, -0.5208041, -0.8536392, -2.422111, -1.5213364, -2.1123135, -1.8459369, -0.9597894, -1.5558604, -1.5793505, -2.4462202, 0.44828582, -1.8943582, -3.0364087, -0.04998204, -1.7357801, -1.5202091, 0.6966207, -1.2275351, -0.12947321, -0.7640363, -0.96818686, -2.5475311, -0.7646444, -1.2779514, -0.08512312, -0.38696975, -0.85023934, -2.1481135, -0.8593974, -1.8090497, -1.9321615, -1.6987003, -0.50797653, 0.010343105, -2.2617712, -1.3558797, -1.0491304, -2.4895117, -1.2445767, -2.5781412, -1.964003, -1.0320481, -0.42011225, 0.088005066, -1.6297013, 0.5625342, -1.7116698, -0.09818752, -1.67008, -1.3060335, -1.6604329, 0.22197907, -1.1949844, -2.0377038, -0.7230351, -0.7656442, -1.8760984, 1.1494128, -1.7512158, -1.7005646, -1.2045239, -0.5171128, -1.5803031, -2.501344, -1.4567653, 0.22355819, -2.9735272, -1.120356, -1.5601789, -2.0044293, -0.00983651, -1.7233338, -2.5528638, -1.69682, -1.6841902, 0.6702752, -1.8214436, -2.618799, 0.19413558, 0.0719475, -1.5934154, -1.5453491, -0.62191784, -2.1397164, -2.5316243, -0.44861996, -1.6675249, 0.34509808, 0.03708376, -1.0524199, -0.033114433, -0.57089055, -0.58139956, -0.56741005, -0.3255663, -1.2547017, -2.431433, -0.4748329, 0.27338284, -2.4678612, -0.77888596, -1.943391, -2.489759, -0.41915786, -0.8567972, -1.4103314, -1.656232, 1.4027377, -0.59165, -2.267411, 0.50984436, -1.2451875, -0.6914828, 0.5410467, 1.0286984, -0.96606135, -1.4098691, -0.8244377, -1.3764719, -0.40935594, -1.336634, -1.7145246, -2.1951745, -0.7067032, -1.8226043, 0.5433517, 0.19649045, -2.5377984, -0.8752224, -0.94893765, -1.5347387, -0.04882641, 0.2861324, -1.172917, 0.23262534, -2.7541783, -1.2021587, 1.004131, 0.03957738, -2.477156, -2.429136, -0.109662876, -1.3873218, -1.8551396, 1.1141176, -0.30009156, -1.7314414, -0.7915767, 0.64972, -2.1228254, -1.0476555, -0.43417495, 1.472875, -1.4173921, -1.4388101, -0.6213393, -0.5371539, -0.950261, -1.9980744, -1.4032973, -1.5868233, -1.6782393, -1.6283633, -0.27195275, -0.31901813, -2.839948, -1.7810378, -2.0444562, -1.2299916, -1.5891776, -0.19937743, -2.0465527, -0.05922921, 0.0065111965, -0.2633859, -0.13853452, -1.8069965, 0.020681083, -2.2620022, -0.47242928, 0.60363805, 0.68037945, -1.7183911, -0.18831158, -0.018994763, -1.6520797, -0.009671211, -0.08264892, -1.6739155, -1.8807745, -0.661839, -0.50792146, -0.6762526, -1.09768, -0.4783752, 0.4105162, 0.42085558, -1.7731751, 0.84810054, -1.7802006, -2.071839, 0.12313534, -1.3583496, -1.8175873, -0.3160444, -1.5171725, -1.296541, -0.18909527, 0.09048073, -1.3850483, 0.31264496, 0.15879376, -0.37727928, -1.6469411, -0.7177682, -1.8609942, 0.49693447, -1.6136109, -1.7782909, -1.8078798, -0.8132382, -0.9840306, -0.33361602, -1.388327, -0.2224506, -2.158477, -1.2121993, -1.1182594, -0.5059874, 0.49273413, -1.8706409, -1.4669793, -2.2588751, -1.8913949, -0.26938176, -0.7747746, -2.3090823, -0.72391963, -1.5684885, -1.641837, 0.8349669, 0.99948055, -1.640989, -1.9124106, -2.00085, -2.9058568, -0.077109426, 0.19853361, 0.5337285, 0.1749643, 0.36859697, -1.3006012, -0.78981936, -1.1351923, -1.9837226, 1.0401355, -2.5003424, 0.3976106, -0.28204107, -0.25323087, -0.60117877, -1.3965257, -0.6453881, -1.1548291, -2.2809737, -1.4460744, -0.9092835, -2.343257, -0.76092404, -0.5302834, -1.6569985, -1.0733255, -1.3208863, 0.14570944, -1.4185723, 0.74095535, -1.6808088, -0.32517016, 0.9158565, -1.8209399, -2.1072142, -1.2722381, -2.5235314, -1.6088415, -0.5306014, -1.7523495, -1.6952211, -0.90732145, -0.40166086, 0.9030839, -2.6664097, -0.7257536, -2.5302322, -2.5825965, -0.31623518, 0.026581183, -0.8410677, -1.9150863, -2.2166743, -0.9291773, -0.9793321, -1.7099433, -1.5577039, -1.6489221, -1.8599818, -1.9422454, -0.38920683, -1.1895039, -2.1002877, -2.5580723, 0.4841178, 0.82747203, 0.32207108, -0.23947628, -1.160858, -1.7431116, -2.1931498, -0.07582371, 0.03047143, -2.1100638, -1.7497462, -1.8304168, 0.47301805, -1.6381545, 1.4088534, -0.81887186, -1.6010889, -1.251015, -0.030110762, 0.9122098, -1.178614, -1.4705483, 1.086323, -0.1882158, 1.2787436, -0.06638913, -2.5183542, -1.4134787, -1.8643297, -1.7679344, -1.3718339, -1.4791204, -1.3748827, 1.4074069, -0.15634526, -0.09643446, -0.23073967, 0.8354489, -1.748917, -2.5381172, -1.875801, 0.12022737, -0.73306084, -1.9974629, -0.21452518, 0.0033103526, -0.13792111, -0.5547588, -1.9107722, 1.2235509, -1.6647897, 0.77961606, -1.9576813, -0.042981274, 0.43218845, 0.266091, -0.52533287, -2.1864617, -1.5801288, -0.58211577, -2.0858886, -0.09761579, -2.3376057, -1.5340792, -1.5216731, -0.9305939, -0.7914345, -0.5612972, 1.1210935, 0.651693, 0.45526683, -0.9944099, -2.4688513, -0.59806424, -2.2764275, 0.23364244, 0.08539261, -0.7729355, -1.1973733, -0.4252354, 0.08935656, -1.6886057, -1.9068865, 0.4847362, -2.512628, -1.4146551, -1.7110344, -0.9282703, -1.4867293, -1.4488825, 0.3044669, -1.7181135, 0.27870345, -0.53293926, -1.0970476, -0.46247137, -1.8419319, -1.9466501, -1.4465328, -0.47064364, -0.8596388, -2.1660035, -1.7557889, 0.30852878, 1.070795, 1.4671133, -1.6766375, -1.3013848, 0.020852908, -1.0146157, -1.7589883, -0.26680213, 0.0762876, -2.1227083, -1.3607935, -1.7665632, -0.8156193, 0.4155662, -1.2644863, 0.21032089, -1.8277103, -1.6667072, -0.635148, -0.31152898, -2.659302, 0.5334796, -1.3785335, -1.7980274, -2.0189328, -1.1895058, -0.8407453, -1.619476, -1.1950095, 0.27535677, -1.4354988, -1.6551571, -2.4904196, 0.41453183, -0.5451143, -0.4840982, -1.9387785, 0.9276196, -2.8462403, -0.6545193, -0.17593907, -1.7426133, -0.59536195, -1.844625, -2.3108726, -1.431863, 0.7746467, -1.201869, -0.8202669, -1.6457775, -0.4567654, -1.917059, 0.18532902, -0.17473605, 0.54594487, 0.42165816, -2.5500023, 0.2892189, -1.9310263, -0.06559147, -1.9093174, -1.4636236, -1.7655364, -0.31715858, 0.7610238, -1.8373643, -0.8629253, -2.1307259, 0.49552572, -0.36747646, -1.3939286, 0.3010111, -1.7477199, -2.7418644, -1.5473464, -0.7989234, -1.9092792, -1.5547003, -1.1652721, 0.49010152, -0.5246439, -1.4191839, 0.5440899, 0.66156375, -1.2825621, -1.7137712, 0.018270954, 0.48532927, -2.524132, -1.7625219, -1.3490021, 0.6230405, 0.07682307, -1.6014827, -0.18617588, -0.4166717, -2.548842, -1.8763711, -1.6205881, 0.13705045, -2.3033006, -0.7438632, 0.32199705, 0.9472895, -2.656596, -2.3221462, -1.234441, -2.076604, 0.3731705, 0.6369989, -1.3551534, 0.11784606, -0.78619933, -1.4291681, -1.7024729, -1.7923661, -0.6086992, -1.7147788, -1.4640079, -1.7971458, -2.0903726, -0.73859113, -1.190423, -1.3902951, -1.8208448, -1.927601, -1.8733232, -1.5863403, -1.810811, -0.45261347, -1.1783434, -0.06314233, -1.7629895, -0.32555735, -1.4906266, -1.7443444, 0.30941957, -0.12374832, -1.8181051, -1.8295002, -0.2206939, -1.1785716, -1.8213907, -2.7363455, -0.91865975, -2.3219774, -2.3488216, -1.1515577, -1.9218913, -0.7331821, 0.6833794, -1.7212235, -0.6035222, -1.7839414, -0.7620884, 0.009621888, -2.1344202, -1.2635609, -0.9664663, 0.5840076, -1.5305675, -1.3081276, -0.28652138, -1.8273098, -2.030854, -0.45333666, -2.1566305, 0.52929837, 0.6588225, 0.7796174, -0.8506834, -0.88056314, -2.2008128, -0.5654636, -1.492371, -0.36171097, -1.6432459, -2.0593262, -0.104181275, -1.7410678, -0.70644903, -0.03753552, -1.0125915, -1.6936041, 0.6420078, -1.735451, -1.35172, -0.6879557, -0.5574677, 1.1514686, -2.1541135, -1.1134682, 0.6340848, -0.4235342, -0.19904546, 0.626407, -1.0984861, -0.8456358, -0.18769616, 1.1834306, -1.4301779, 0.652348, -0.950387, 0.17842345, -0.68066126, -0.8498292, -0.6385327, -1.6995292, -1.6986817, 0.803502, -0.30056435, -1.0805625, -0.007564537, 0.8447935, 0.7885629, -1.2558079, -1.4807125, -2.3574278, -3.0949583, -0.81132734, -2.5974662, -2.6407597, -1.2392637, 0.63080287, -2.2759516, -1.1490403, -1.7881209, 0.34312654, -0.47431123, -0.36436957, -1.5499828, -0.4356361, -1.1206043, -1.9525222, -0.39618862]\n",
      "epoch - 1 train_loss - 0.46 acc - 0.527 auc - 0.000\n",
      "In evaluation x shape is:torch.Size([2, 99])\t taret_id shape is:torch.Size([2, 99])\t label shape is:torch.Size([2, 1])\n",
      "Output shape is:torch.Size([2, 99])\tlabel shape is:torch.Size([2, 1])\n",
      "In evaluation x shape is:torch.Size([2, 99])\t taret_id shape is:torch.Size([2, 99])\t label shape is:torch.Size([2, 1])\n",
      "Output shape is:torch.Size([2, 99])\tlabel shape is:torch.Size([2, 1])\n",
      "In evaluation x shape is:torch.Size([2, 99])\t taret_id shape is:torch.Size([2, 99])\t label shape is:torch.Size([2, 1])\n",
      "Output shape is:torch.Size([2, 99])\tlabel shape is:torch.Size([2, 1])\n",
      "In evaluation x shape is:torch.Size([2, 99])\t taret_id shape is:torch.Size([2, 99])\t label shape is:torch.Size([2, 1])\n",
      "Output shape is:torch.Size([2, 99])\tlabel shape is:torch.Size([2, 1])\n",
      "In evaluation x shape is:torch.Size([2, 99])\t taret_id shape is:torch.Size([2, 99])\t label shape is:torch.Size([2, 1])\n",
      "Output shape is:torch.Size([2, 99])\tlabel shape is:torch.Size([2, 1])\n",
      "In evaluation x shape is:torch.Size([2, 99])\t taret_id shape is:torch.Size([2, 99])\t label shape is:torch.Size([2, 1])\n",
      "Output shape is:torch.Size([2, 99])\tlabel shape is:torch.Size([2, 1])\n",
      "In evaluation x shape is:torch.Size([2, 99])\t taret_id shape is:torch.Size([2, 99])\t label shape is:torch.Size([2, 1])\n",
      "Output shape is:torch.Size([2, 99])\tlabel shape is:torch.Size([2, 1])\n",
      "In evaluation x shape is:torch.Size([2, 99])\t taret_id shape is:torch.Size([2, 99])\t label shape is:torch.Size([2, 1])\n",
      "Output shape is:torch.Size([2, 99])\tlabel shape is:torch.Size([2, 1])\n",
      "In evaluation x shape is:torch.Size([2, 99])\t taret_id shape is:torch.Size([2, 99])\t label shape is:torch.Size([2, 1])\n",
      "Output shape is:torch.Size([2, 99])\tlabel shape is:torch.Size([2, 1])\n",
      "In evaluation x shape is:torch.Size([2, 99])\t taret_id shape is:torch.Size([2, 99])\t label shape is:torch.Size([2, 1])\n",
      "Output shape is:torch.Size([2, 99])\tlabel shape is:torch.Size([2, 1])\n",
      "In evaluation x shape is:torch.Size([2, 99])\t taret_id shape is:torch.Size([2, 99])\t label shape is:torch.Size([2, 1])\n",
      "Output shape is:torch.Size([2, 99])\tlabel shape is:torch.Size([2, 1])\n",
      "In evaluation x shape is:torch.Size([2, 99])\t taret_id shape is:torch.Size([2, 99])\t label shape is:torch.Size([2, 1])\n",
      "Output shape is:torch.Size([2, 99])\tlabel shape is:torch.Size([2, 1])\n",
      "In evaluation x shape is:torch.Size([2, 99])\t taret_id shape is:torch.Size([2, 99])\t label shape is:torch.Size([2, 1])\n",
      "Output shape is:torch.Size([2, 99])\tlabel shape is:torch.Size([2, 1])\n",
      "In evaluation x shape is:torch.Size([2, 99])\t taret_id shape is:torch.Size([2, 99])\t label shape is:torch.Size([2, 1])\n",
      "Output shape is:torch.Size([2, 99])\tlabel shape is:torch.Size([2, 1])\n",
      "In evaluation x shape is:torch.Size([2, 99])\t taret_id shape is:torch.Size([2, 99])\t label shape is:torch.Size([2, 1])\n",
      "Output shape is:torch.Size([2, 99])\tlabel shape is:torch.Size([2, 1])\n",
      "In evaluation x shape is:torch.Size([2, 99])\t taret_id shape is:torch.Size([2, 99])\t label shape is:torch.Size([2, 1])\n",
      "Output shape is:torch.Size([2, 99])\tlabel shape is:torch.Size([2, 1])\n",
      "In evaluation x shape is:torch.Size([2, 99])\t taret_id shape is:torch.Size([2, 99])\t label shape is:torch.Size([2, 1])\n",
      "Output shape is:torch.Size([2, 99])\tlabel shape is:torch.Size([2, 1])\n",
      "In evaluation x shape is:torch.Size([2, 99])\t taret_id shape is:torch.Size([2, 99])\t label shape is:torch.Size([2, 1])\n",
      "Output shape is:torch.Size([2, 99])\tlabel shape is:torch.Size([2, 1])\n",
      "In evaluation x shape is:torch.Size([2, 99])\t taret_id shape is:torch.Size([2, 99])\t label shape is:torch.Size([2, 1])\n",
      "Output shape is:torch.Size([2, 99])\tlabel shape is:torch.Size([2, 1])\n",
      "In evaluation x shape is:torch.Size([2, 99])\t taret_id shape is:torch.Size([2, 99])\t label shape is:torch.Size([2, 1])\n",
      "Output shape is:torch.Size([2, 99])\tlabel shape is:torch.Size([2, 1])\n",
      "In evaluation x shape is:torch.Size([2, 99])\t taret_id shape is:torch.Size([2, 99])\t label shape is:torch.Size([2, 1])\n",
      "Output shape is:torch.Size([2, 99])\tlabel shape is:torch.Size([2, 1])\n",
      "In evaluation x shape is:torch.Size([2, 99])\t taret_id shape is:torch.Size([2, 99])\t label shape is:torch.Size([2, 1])\n",
      "Output shape is:torch.Size([2, 99])\tlabel shape is:torch.Size([2, 1])\n",
      "In evaluation x shape is:torch.Size([2, 99])\t taret_id shape is:torch.Size([2, 99])\t label shape is:torch.Size([2, 1])\n",
      "Output shape is:torch.Size([2, 99])\tlabel shape is:torch.Size([2, 1])\n",
      "In evaluation x shape is:torch.Size([2, 99])\t taret_id shape is:torch.Size([2, 99])\t label shape is:torch.Size([2, 1])\n",
      "Output shape is:torch.Size([2, 99])\tlabel shape is:torch.Size([2, 1])\n",
      "In evaluation x shape is:torch.Size([2, 99])\t taret_id shape is:torch.Size([2, 99])\t label shape is:torch.Size([2, 1])\n",
      "Output shape is:torch.Size([2, 99])\tlabel shape is:torch.Size([2, 1])\n",
      "In evaluation x shape is:torch.Size([2, 99])\t taret_id shape is:torch.Size([2, 99])\t label shape is:torch.Size([2, 1])\n",
      "Output shape is:torch.Size([2, 99])\tlabel shape is:torch.Size([2, 1])\n",
      "In evaluation x shape is:torch.Size([2, 99])\t taret_id shape is:torch.Size([2, 99])\t label shape is:torch.Size([2, 1])\n",
      "Output shape is:torch.Size([2, 99])\tlabel shape is:torch.Size([2, 1])\n",
      "In evaluation x shape is:torch.Size([2, 99])\t taret_id shape is:torch.Size([2, 99])\t label shape is:torch.Size([2, 1])\n",
      "Output shape is:torch.Size([2, 99])\tlabel shape is:torch.Size([2, 1])\n",
      "In evaluation x shape is:torch.Size([2, 99])\t taret_id shape is:torch.Size([2, 99])\t label shape is:torch.Size([2, 1])\n",
      "Output shape is:torch.Size([2, 99])\tlabel shape is:torch.Size([2, 1])\n",
      "In evaluation x shape is:torch.Size([2, 99])\t taret_id shape is:torch.Size([2, 99])\t label shape is:torch.Size([2, 1])\n",
      "Output shape is:torch.Size([2, 99])\tlabel shape is:torch.Size([2, 1])\n",
      "In evaluation x shape is:torch.Size([2, 99])\t taret_id shape is:torch.Size([2, 99])\t label shape is:torch.Size([2, 1])\n",
      "Output shape is:torch.Size([2, 99])\tlabel shape is:torch.Size([2, 1])\n",
      "In evaluation x shape is:torch.Size([2, 99])\t taret_id shape is:torch.Size([2, 99])\t label shape is:torch.Size([2, 1])\n",
      "Output shape is:torch.Size([2, 99])\tlabel shape is:torch.Size([2, 1])\n",
      "In evaluation x shape is:torch.Size([2, 99])\t taret_id shape is:torch.Size([2, 99])\t label shape is:torch.Size([2, 1])\n",
      "Output shape is:torch.Size([2, 99])\tlabel shape is:torch.Size([2, 1])\n",
      "In evaluation x shape is:torch.Size([2, 99])\t taret_id shape is:torch.Size([2, 99])\t label shape is:torch.Size([2, 1])\n",
      "Output shape is:torch.Size([2, 99])\tlabel shape is:torch.Size([2, 1])\n",
      "In evaluation x shape is:torch.Size([2, 99])\t taret_id shape is:torch.Size([2, 99])\t label shape is:torch.Size([2, 1])\n",
      "Output shape is:torch.Size([2, 99])\tlabel shape is:torch.Size([2, 1])\n",
      "In evaluation x shape is:torch.Size([2, 99])\t taret_id shape is:torch.Size([2, 99])\t label shape is:torch.Size([2, 1])\n",
      "Output shape is:torch.Size([2, 99])\tlabel shape is:torch.Size([2, 1])\n",
      "In evaluation x shape is:torch.Size([2, 99])\t taret_id shape is:torch.Size([2, 99])\t label shape is:torch.Size([2, 1])\n",
      "Output shape is:torch.Size([2, 99])\tlabel shape is:torch.Size([2, 1])\n",
      "In evaluation x shape is:torch.Size([2, 99])\t taret_id shape is:torch.Size([2, 99])\t label shape is:torch.Size([2, 1])\n",
      "Output shape is:torch.Size([2, 99])\tlabel shape is:torch.Size([2, 1])\n",
      "In evaluation x shape is:torch.Size([2, 99])\t taret_id shape is:torch.Size([2, 99])\t label shape is:torch.Size([2, 1])\n",
      "Output shape is:torch.Size([2, 99])\tlabel shape is:torch.Size([2, 1])\n",
      "In evaluation x shape is:torch.Size([2, 99])\t taret_id shape is:torch.Size([2, 99])\t label shape is:torch.Size([2, 1])\n",
      "Output shape is:torch.Size([2, 99])\tlabel shape is:torch.Size([2, 1])\n",
      "In evaluation x shape is:torch.Size([2, 99])\t taret_id shape is:torch.Size([2, 99])\t label shape is:torch.Size([2, 1])\n",
      "Output shape is:torch.Size([2, 99])\tlabel shape is:torch.Size([2, 1])\n",
      "In evaluation x shape is:torch.Size([2, 99])\t taret_id shape is:torch.Size([2, 99])\t label shape is:torch.Size([2, 1])\n",
      "Output shape is:torch.Size([2, 99])\tlabel shape is:torch.Size([2, 1])\n",
      "In evaluation x shape is:torch.Size([2, 99])\t taret_id shape is:torch.Size([2, 99])\t label shape is:torch.Size([2, 1])\n",
      "Output shape is:torch.Size([2, 99])\tlabel shape is:torch.Size([2, 1])\n",
      "In evaluation x shape is:torch.Size([2, 99])\t taret_id shape is:torch.Size([2, 99])\t label shape is:torch.Size([2, 1])\n",
      "Output shape is:torch.Size([2, 99])\tlabel shape is:torch.Size([2, 1])\n",
      "In evaluation x shape is:torch.Size([2, 99])\t taret_id shape is:torch.Size([2, 99])\t label shape is:torch.Size([2, 1])\n",
      "Output shape is:torch.Size([2, 99])\tlabel shape is:torch.Size([2, 1])\n",
      "In evaluation x shape is:torch.Size([2, 99])\t taret_id shape is:torch.Size([2, 99])\t label shape is:torch.Size([2, 1])\n",
      "Output shape is:torch.Size([2, 99])\tlabel shape is:torch.Size([2, 1])\n",
      "In evaluation x shape is:torch.Size([2, 99])\t taret_id shape is:torch.Size([2, 99])\t label shape is:torch.Size([2, 1])\n",
      "Output shape is:torch.Size([2, 99])\tlabel shape is:torch.Size([2, 1])\n",
      "In evaluation x shape is:torch.Size([2, 99])\t taret_id shape is:torch.Size([2, 99])\t label shape is:torch.Size([2, 1])\n",
      "Output shape is:torch.Size([2, 99])\tlabel shape is:torch.Size([2, 1])\n",
      "In evaluation x shape is:torch.Size([2, 99])\t taret_id shape is:torch.Size([2, 99])\t label shape is:torch.Size([2, 1])\n",
      "Output shape is:torch.Size([2, 99])\tlabel shape is:torch.Size([2, 1])\n",
      "In evaluation x shape is:torch.Size([2, 99])\t taret_id shape is:torch.Size([2, 99])\t label shape is:torch.Size([2, 1])\n",
      "Output shape is:torch.Size([2, 99])\tlabel shape is:torch.Size([2, 1])\n",
      "In evaluate labels is:[1.0, 1.0, 1.0, 1.0, 1.0, 1.0, 1.0, 1.0, 1.0, 1.0, 0.0, 0.0, 0.0, 1.0, 1.0, 1.0, 1.0, 0.0, 1.0, 1.0, 0.0, 0.0, 0.0, 0.0, 1.0, 1.0, 1.0, 1.0, 1.0, 0.0, 1.0, 0.0, 1.0, 1.0, 1.0, 1.0, 0.0, 1.0, 1.0, 1.0, 1.0, 1.0, 0.0, 0.0, 0.0, 1.0, 1.0, 0.0, 1.0, 0.0, 0.0, 0.0, 1.0, 0.0, 0.0, 0.0, 0.0, 1.0, 0.0, 1.0, 0.0, 0.0, 0.0, 0.0, 0.0, 1.0, 0.0, 0.0, 1.0, 0.0, 0.0, 0.0, 0.0, 0.0, 0.0, 0.0, 0.0, 0.0, 0.0, 1.0, 0.0, 1.0, 1.0, 1.0, 1.0, 0.0, 1.0, 1.0, 0.0, -1.0, 1.0, 0.0, 1.0, 1.0, 0.0, 1.0, 1.0, 0.0, 1.0, 0.0]\t outs is:[-0.38994214, -1.0668056, -0.742879, -2.0197666, -1.2222593, -0.9675079, -1.7797391, -1.0088983, -1.512616, -1.2539049, -0.34734777, -0.5304164, -0.6836383, -0.53971, -0.5278719, -0.90868324, -1.783159, -2.2587368, -1.3588731, -1.4768658, -0.38018098, -1.4462237, -0.63392144, -0.9550261, 0.40562972, -1.3235333, -1.6831214, -1.4460766, -1.6784344, -1.9861357, -1.8513479, -1.5623744, -0.59299225, -2.7454095, -0.53062886, -1.8918737, -0.7903783, -1.3205767, -1.0819076, -0.70737225, -1.0006781, -1.4232064, -1.4062057, -1.80652, -1.0870501, -0.21597841, -0.88044256, -1.6634467, -2.2608402, -0.9441951, -1.7044783, -1.703022, -1.3441108, -0.50258017, -1.4046049, -2.1087005, -0.073988646, -1.333036, -2.8596876, -0.94998616, -1.6182742, -1.5058082, -1.12761, -1.7910135, -2.6424468, -0.9736003, -1.3937421, -1.5556122, -0.78594583, -1.8027325, -1.2728076, -1.7258658, -1.7888077, -1.8395216, -1.532565, -2.5461583, -1.2508546, -2.3483698, -2.1776679, -1.7272131, -2.6361678, -0.66333294, -1.3403319, -1.922824, -0.8375711, -0.966119, -2.72412, -2.484427, -1.102769, -2.130057, -1.102769, -0.966119, -2.1459458, -2.876063, -1.7352402, -1.9808443, -0.06370492, 1.585434, -0.33412018, -0.56336874]\t\n",
      "epoch - 1 eval_loss - 0.92 eval acc - 0.470 eval auc - 0.000\n"
     ]
    },
    {
     "name": "stdout",
     "output_type": "stream",
     "text": [
      "In training x shape is:torch.Size([997, 99])\t taret_id shape is:torch.Size([997, 99])\t label shape is:torch.Size([997, 99])\n"
     ]
    },
    {
     "name": "stderr",
     "output_type": "stream",
     "text": [
      "  0%|          | 0/1 [00:04<?, ?it/s]\n"
     ]
    },
    {
     "ename": "KeyboardInterrupt",
     "evalue": "",
     "output_type": "error",
     "traceback": [
      "\u001b[0;31m---------------------------------------------------------------------------\u001b[0m",
      "\u001b[0;31mKeyboardInterrupt\u001b[0m                         Traceback (most recent call last)",
      "\u001b[0;32m<ipython-input-101-f98e81f8bedd>\u001b[0m in \u001b[0;36m<module>\u001b[0;34m\u001b[0m\n\u001b[1;32m      1\u001b[0m \u001b[0mepochs\u001b[0m \u001b[0;34m=\u001b[0m \u001b[0;36m20\u001b[0m\u001b[0;34m\u001b[0m\u001b[0;34m\u001b[0m\u001b[0m\n\u001b[1;32m      2\u001b[0m \u001b[0;32mfor\u001b[0m \u001b[0mepoch\u001b[0m \u001b[0;32min\u001b[0m \u001b[0mrange\u001b[0m\u001b[0;34m(\u001b[0m\u001b[0mepochs\u001b[0m\u001b[0;34m)\u001b[0m\u001b[0;34m:\u001b[0m\u001b[0;34m\u001b[0m\u001b[0;34m\u001b[0m\u001b[0m\n\u001b[0;32m----> 3\u001b[0;31m     \u001b[0mloss\u001b[0m\u001b[0;34m,\u001b[0m \u001b[0macc\u001b[0m\u001b[0;34m,\u001b[0m \u001b[0mauc\u001b[0m \u001b[0;34m=\u001b[0m \u001b[0mtrain_epoch\u001b[0m\u001b[0;34m(\u001b[0m\u001b[0mmodel\u001b[0m\u001b[0;34m,\u001b[0m \u001b[0mdataloader\u001b[0m\u001b[0;34m,\u001b[0m \u001b[0moptimizer\u001b[0m\u001b[0;34m,\u001b[0m \u001b[0mcriterion\u001b[0m\u001b[0;34m,\u001b[0m \u001b[0mdevice\u001b[0m\u001b[0;34m)\u001b[0m\u001b[0;34m\u001b[0m\u001b[0;34m\u001b[0m\u001b[0m\n\u001b[0m\u001b[1;32m      4\u001b[0m     \u001b[0mprint\u001b[0m\u001b[0;34m(\u001b[0m\u001b[0;34m\"epoch - {} train_loss - {:.2f} acc - {:.3f} auc - {:.3f}\"\u001b[0m\u001b[0;34m.\u001b[0m\u001b[0mformat\u001b[0m\u001b[0;34m(\u001b[0m\u001b[0mepoch\u001b[0m\u001b[0;34m,\u001b[0m \u001b[0mloss\u001b[0m\u001b[0;34m,\u001b[0m \u001b[0macc\u001b[0m\u001b[0;34m,\u001b[0m \u001b[0mauc\u001b[0m\u001b[0;34m)\u001b[0m\u001b[0;34m)\u001b[0m\u001b[0;34m\u001b[0m\u001b[0;34m\u001b[0m\u001b[0m\n\u001b[1;32m      5\u001b[0m     \u001b[0meval_loss\u001b[0m\u001b[0;34m,\u001b[0m \u001b[0meval_acc\u001b[0m\u001b[0;34m,\u001b[0m \u001b[0meval_auc\u001b[0m \u001b[0;34m=\u001b[0m \u001b[0mevaluate_epoch\u001b[0m\u001b[0;34m(\u001b[0m\u001b[0mmodel\u001b[0m\u001b[0;34m,\u001b[0m \u001b[0mtest_dataloader\u001b[0m\u001b[0;34m,\u001b[0m \u001b[0mcriterion\u001b[0m\u001b[0;34m,\u001b[0m \u001b[0mdevice\u001b[0m\u001b[0;34m)\u001b[0m\u001b[0;34m\u001b[0m\u001b[0;34m\u001b[0m\u001b[0m\n",
      "\u001b[0;32m<ipython-input-97-26bf2e958ba5>\u001b[0m in \u001b[0;36mtrain_epoch\u001b[0;34m(model, train_iterator, optim, criterion, device)\u001b[0m\n\u001b[1;32m     18\u001b[0m         \u001b[0moutput\u001b[0m\u001b[0;34m,\u001b[0m \u001b[0matten_weight\u001b[0m \u001b[0;34m=\u001b[0m \u001b[0mmodel\u001b[0m\u001b[0;34m(\u001b[0m\u001b[0mx\u001b[0m\u001b[0;34m,\u001b[0m \u001b[0mtarget_id\u001b[0m\u001b[0;34m)\u001b[0m\u001b[0;34m\u001b[0m\u001b[0;34m\u001b[0m\u001b[0m\n\u001b[1;32m     19\u001b[0m         \u001b[0mloss\u001b[0m \u001b[0;34m=\u001b[0m \u001b[0mcriterion\u001b[0m\u001b[0;34m(\u001b[0m\u001b[0moutput\u001b[0m\u001b[0;34m,\u001b[0m \u001b[0mlabel\u001b[0m\u001b[0;34m)\u001b[0m\u001b[0;34m\u001b[0m\u001b[0;34m\u001b[0m\u001b[0m\n\u001b[0;32m---> 20\u001b[0;31m         \u001b[0mloss\u001b[0m\u001b[0;34m.\u001b[0m\u001b[0mbackward\u001b[0m\u001b[0;34m(\u001b[0m\u001b[0;34m)\u001b[0m\u001b[0;34m\u001b[0m\u001b[0;34m\u001b[0m\u001b[0m\n\u001b[0m\u001b[1;32m     21\u001b[0m         \u001b[0moptim\u001b[0m\u001b[0;34m.\u001b[0m\u001b[0mstep\u001b[0m\u001b[0;34m(\u001b[0m\u001b[0;34m)\u001b[0m\u001b[0;34m\u001b[0m\u001b[0;34m\u001b[0m\u001b[0m\n\u001b[1;32m     22\u001b[0m         \u001b[0mtrain_loss\u001b[0m\u001b[0;34m.\u001b[0m\u001b[0mappend\u001b[0m\u001b[0;34m(\u001b[0m\u001b[0mloss\u001b[0m\u001b[0;34m.\u001b[0m\u001b[0mitem\u001b[0m\u001b[0;34m(\u001b[0m\u001b[0;34m)\u001b[0m\u001b[0;34m)\u001b[0m\u001b[0;34m\u001b[0m\u001b[0;34m\u001b[0m\u001b[0m\n",
      "\u001b[0;32m/anaconda3/envs/torch1.4/lib/python3.7/site-packages/torch/tensor.py\u001b[0m in \u001b[0;36mbackward\u001b[0;34m(self, gradient, retain_graph, create_graph)\u001b[0m\n\u001b[1;32m    193\u001b[0m                 \u001b[0mproducts\u001b[0m\u001b[0;34m.\u001b[0m \u001b[0mDefaults\u001b[0m \u001b[0mto\u001b[0m\u001b[0;31m \u001b[0m\u001b[0;31m`\u001b[0m\u001b[0;31m`\u001b[0m\u001b[0;32mFalse\u001b[0m\u001b[0;31m`\u001b[0m\u001b[0;31m`\u001b[0m\u001b[0;34m.\u001b[0m\u001b[0;34m\u001b[0m\u001b[0;34m\u001b[0m\u001b[0m\n\u001b[1;32m    194\u001b[0m         \"\"\"\n\u001b[0;32m--> 195\u001b[0;31m         \u001b[0mtorch\u001b[0m\u001b[0;34m.\u001b[0m\u001b[0mautograd\u001b[0m\u001b[0;34m.\u001b[0m\u001b[0mbackward\u001b[0m\u001b[0;34m(\u001b[0m\u001b[0mself\u001b[0m\u001b[0;34m,\u001b[0m \u001b[0mgradient\u001b[0m\u001b[0;34m,\u001b[0m \u001b[0mretain_graph\u001b[0m\u001b[0;34m,\u001b[0m \u001b[0mcreate_graph\u001b[0m\u001b[0;34m)\u001b[0m\u001b[0;34m\u001b[0m\u001b[0;34m\u001b[0m\u001b[0m\n\u001b[0m\u001b[1;32m    196\u001b[0m \u001b[0;34m\u001b[0m\u001b[0m\n\u001b[1;32m    197\u001b[0m     \u001b[0;32mdef\u001b[0m \u001b[0mregister_hook\u001b[0m\u001b[0;34m(\u001b[0m\u001b[0mself\u001b[0m\u001b[0;34m,\u001b[0m \u001b[0mhook\u001b[0m\u001b[0;34m)\u001b[0m\u001b[0;34m:\u001b[0m\u001b[0;34m\u001b[0m\u001b[0;34m\u001b[0m\u001b[0m\n",
      "\u001b[0;32m/anaconda3/envs/torch1.4/lib/python3.7/site-packages/torch/autograd/__init__.py\u001b[0m in \u001b[0;36mbackward\u001b[0;34m(tensors, grad_tensors, retain_graph, create_graph, grad_variables)\u001b[0m\n\u001b[1;32m     97\u001b[0m     Variable._execution_engine.run_backward(\n\u001b[1;32m     98\u001b[0m         \u001b[0mtensors\u001b[0m\u001b[0;34m,\u001b[0m \u001b[0mgrad_tensors\u001b[0m\u001b[0;34m,\u001b[0m \u001b[0mretain_graph\u001b[0m\u001b[0;34m,\u001b[0m \u001b[0mcreate_graph\u001b[0m\u001b[0;34m,\u001b[0m\u001b[0;34m\u001b[0m\u001b[0;34m\u001b[0m\u001b[0m\n\u001b[0;32m---> 99\u001b[0;31m         allow_unreachable=True)  # allow_unreachable flag\n\u001b[0m\u001b[1;32m    100\u001b[0m \u001b[0;34m\u001b[0m\u001b[0m\n\u001b[1;32m    101\u001b[0m \u001b[0;34m\u001b[0m\u001b[0m\n",
      "\u001b[0;31mKeyboardInterrupt\u001b[0m: "
     ]
    }
   ],
   "source": [
    "epochs = 20\n",
    "for epoch in range(epochs):\n",
    "    loss, acc, auc = train_epoch(model, dataloader, optimizer, criterion, device)\n",
    "    print(\"epoch - {} train_loss - {:.2f} acc - {:.3f} auc - {:.3f}\".format(epoch, loss, acc, auc))\n",
    "    eval_loss, eval_acc, eval_auc = evaluate_epoch(model, test_dataloader, criterion, device)\n",
    "    print(\"epoch - {} eval_loss - {:.2f} eval acc - {:.3f} eval auc - {:.3f}\".format(epoch, eval_loss, eval_acc, eval_auc))\n",
    "    torch.save(model.state_dict(),'epoch-'+str(epoch)+'-model.pt')"
   ]
  },
  {
   "cell_type": "code",
   "execution_count": null,
   "metadata": {
    "execution": {
     "iopub.execute_input": "2020-12-10T05:18:57.144755Z",
     "iopub.status.busy": "2020-12-10T05:18:57.144096Z",
     "iopub.status.idle": "2020-12-10T05:18:57.150010Z",
     "shell.execute_reply": "2020-12-10T05:18:57.149505Z"
    },
    "papermill": {
     "duration": 2.718846,
     "end_time": "2020-12-10T05:18:57.150119",
     "exception": false,
     "start_time": "2020-12-10T05:18:54.431273",
     "status": "completed"
    },
    "tags": []
   },
   "outputs": [],
   "source": [
    "import gc\n",
    "del dataset\n",
    "gc.collect()"
   ]
  },
  {
   "cell_type": "code",
   "execution_count": null,
   "metadata": {},
   "outputs": [],
   "source": []
  },
  {
   "cell_type": "code",
   "execution_count": null,
   "metadata": {},
   "outputs": [],
   "source": []
  },
  {
   "cell_type": "code",
   "execution_count": null,
   "metadata": {},
   "outputs": [],
   "source": []
  },
  {
   "cell_type": "code",
   "execution_count": null,
   "metadata": {},
   "outputs": [],
   "source": []
  },
  {
   "cell_type": "code",
   "execution_count": null,
   "metadata": {},
   "outputs": [],
   "source": []
  },
  {
   "cell_type": "code",
   "execution_count": null,
   "metadata": {
    "papermill": {
     "duration": 2.826537,
     "end_time": "2020-12-10T05:19:25.133470",
     "exception": false,
     "start_time": "2020-12-10T05:19:22.306933",
     "status": "completed"
    },
    "tags": []
   },
   "outputs": [],
   "source": []
  }
 ],
 "metadata": {
  "kernelspec": {
   "display_name": "Python 3",
   "language": "python",
   "name": "python3"
  },
  "language_info": {
   "codemirror_mode": {
    "name": "ipython",
    "version": 3
   },
   "file_extension": ".py",
   "mimetype": "text/x-python",
   "name": "python",
   "nbconvert_exporter": "python",
   "pygments_lexer": "ipython3",
   "version": "3.7.8"
  },
  "papermill": {
   "duration": 893.242027,
   "end_time": "2020-12-10T05:19:29.403427",
   "environment_variables": {},
   "exception": null,
   "input_path": "__notebook__.ipynb",
   "output_path": "__notebook__.ipynb",
   "parameters": {},
   "start_time": "2020-12-10T05:04:36.161400",
   "version": "2.1.0"
  }
 },
 "nbformat": 4,
 "nbformat_minor": 4
}
