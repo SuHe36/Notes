{
 "cells": [
  {
   "cell_type": "markdown",
   "metadata": {
    "papermill": {
     "duration": 0.0341,
     "end_time": "2020-12-13T13:34:26.569007",
     "exception": false,
     "start_time": "2020-12-13T13:34:26.534907",
     "status": "completed"
    },
    "tags": []
   },
   "source": [
    "* Base Source: https://www.kaggle.com/wangsg/a-self-attentive-model-for-knowledge-tracing\n",
    "* My First Work: https://www.kaggle.com/leadbest/sakt-self-attentive-knowledge-tracing-submitter"
   ]
  },
  {
   "cell_type": "code",
   "execution_count": 1,
   "metadata": {
    "_cell_guid": "b1076dfc-b9ad-4769-8c92-a6c4dae69d19",
    "_uuid": "8f2839f25d086af736a60e9eeb907d3b93b6e0e5",
    "execution": {
     "iopub.execute_input": "2020-12-13T13:34:26.641873Z",
     "iopub.status.busy": "2020-12-13T13:34:26.641354Z",
     "iopub.status.idle": "2020-12-13T13:34:26.663155Z",
     "shell.execute_reply": "2020-12-13T13:34:26.663713Z"
    },
    "papermill": {
     "duration": 0.060908,
     "end_time": "2020-12-13T13:34:26.663842",
     "exception": false,
     "start_time": "2020-12-13T13:34:26.602934",
     "status": "completed"
    },
    "tags": []
   },
   "outputs": [
    {
     "name": "stdout",
     "output_type": "stream",
     "text": [
      "/kaggle/input/saktmodel/valid_2.csv\n",
      "/kaggle/input/saktmodel/train_ela.csv\n",
      "/kaggle/input/saktmodel/train_100_valid_2.csv\n",
      "/kaggle/input/riiid-test-answer-prediction/example_sample_submission.csv\n",
      "/kaggle/input/riiid-test-answer-prediction/example_test.csv\n",
      "/kaggle/input/riiid-test-answer-prediction/questions.csv\n",
      "/kaggle/input/riiid-test-answer-prediction/train.csv\n",
      "/kaggle/input/riiid-test-answer-prediction/lectures.csv\n",
      "/kaggle/input/riiid-test-answer-prediction/riiideducation/competition.cpython-37m-x86_64-linux-gnu.so\n",
      "/kaggle/input/riiid-test-answer-prediction/riiideducation/__init__.py\n"
     ]
    }
   ],
   "source": [
    "# This Python 3 environment comes with many helpful analytics libraries installed\n",
    "# It is defined by the kaggle/python Docker image: https://github.com/kaggle/docker-python\n",
    "# For example, here's several helpful packages to load\n",
    "\n",
    "import numpy as np # linear algebra\n",
    "import pandas as pd # data processing, CSV file I/O (e.g. pd.read_csv)\n",
    "\n",
    "# Input data files are available in the read-only \"../input/\" directory\n",
    "# For example, running this (by clicking run or pressing Shift+Enter) will list all files under the input directory\n",
    "\n",
    "import os\n",
    "for dirname, _, filenames in os.walk('/kaggle/input'):\n",
    "    for filename in filenames:\n",
    "        print(os.path.join(dirname, filename))\n",
    "\n",
    "# You can write up to 20GB to the current directory (/kaggle/working/) that gets preserved as output when you create a version using \"Save & Run All\" \n",
    "# You can also write temporary files to /kaggle/temp/, but they won't be saved outside of the current session"
   ]
  },
  {
   "cell_type": "code",
   "execution_count": 2,
   "metadata": {
    "_cell_guid": "79c7e3d0-c299-4dcb-8224-4455121ee9b0",
    "_uuid": "d629ff2d2480ee46fbb7e2d37f6b5fab8052498a",
    "execution": {
     "iopub.execute_input": "2020-12-13T13:34:26.736502Z",
     "iopub.status.busy": "2020-12-13T13:34:26.735947Z",
     "iopub.status.idle": "2020-12-13T13:34:28.885533Z",
     "shell.execute_reply": "2020-12-13T13:34:28.885039Z"
    },
    "papermill": {
     "duration": 2.187922,
     "end_time": "2020-12-13T13:34:28.885631",
     "exception": false,
     "start_time": "2020-12-13T13:34:26.697709",
     "status": "completed"
    },
    "tags": []
   },
   "outputs": [],
   "source": [
    "import gc\n",
    "import random\n",
    "from tqdm import tqdm\n",
    "from sklearn.metrics import roc_auc_score\n",
    "from sklearn.model_selection import train_test_split\n",
    "\n",
    "import seaborn as sns\n",
    "import matplotlib.pyplot as plt\n",
    "\n",
    "import torch\n",
    "import torch.nn as nn\n",
    "import torch.nn.utils.rnn as rnn_utils\n",
    "from torch.autograd import Variable\n",
    "from torch.utils.data import Dataset, DataLoader"
   ]
  },
  {
   "cell_type": "code",
   "execution_count": 3,
   "metadata": {
    "execution": {
     "iopub.execute_input": "2020-12-13T13:34:28.959367Z",
     "iopub.status.busy": "2020-12-13T13:34:28.958609Z",
     "iopub.status.idle": "2020-12-13T13:34:28.961513Z",
     "shell.execute_reply": "2020-12-13T13:34:28.961087Z"
    },
    "papermill": {
     "duration": 0.04051,
     "end_time": "2020-12-13T13:34:28.961605",
     "exception": false,
     "start_time": "2020-12-13T13:34:28.921095",
     "status": "completed"
    },
    "tags": []
   },
   "outputs": [],
   "source": [
    "#HDKIM\n",
    "MAX_SEQ = 100\n",
    "#HDKIMHDKIM"
   ]
  },
  {
   "cell_type": "markdown",
   "metadata": {
    "papermill": {
     "duration": 0.034123,
     "end_time": "2020-12-13T13:34:29.029825",
     "exception": false,
     "start_time": "2020-12-13T13:34:28.995702",
     "status": "completed"
    },
    "tags": []
   },
   "source": [
    "## Load data"
   ]
  },
  {
   "cell_type": "code",
   "execution_count": 4,
   "metadata": {
    "execution": {
     "iopub.execute_input": "2020-12-13T13:34:29.103594Z",
     "iopub.status.busy": "2020-12-13T13:34:29.103068Z",
     "iopub.status.idle": "2020-12-13T13:35:03.069121Z",
     "shell.execute_reply": "2020-12-13T13:35:03.068661Z"
    },
    "papermill": {
     "duration": 34.005739,
     "end_time": "2020-12-13T13:35:03.069213",
     "exception": false,
     "start_time": "2020-12-13T13:34:29.063474",
     "status": "completed"
    },
    "tags": []
   },
   "outputs": [
    {
     "name": "stdout",
     "output_type": "stream",
     "text": [
      "CPU times: user 15.7 s, sys: 1.02 s, total: 16.7 s\n",
      "Wall time: 33.9 s\n"
     ]
    },
    {
     "data": {
      "text/html": [
       "<div>\n",
       "<style scoped>\n",
       "    .dataframe tbody tr th:only-of-type {\n",
       "        vertical-align: middle;\n",
       "    }\n",
       "\n",
       "    .dataframe tbody tr th {\n",
       "        vertical-align: top;\n",
       "    }\n",
       "\n",
       "    .dataframe thead th {\n",
       "        text-align: right;\n",
       "    }\n",
       "</style>\n",
       "<table border=\"1\" class=\"dataframe\">\n",
       "  <thead>\n",
       "    <tr style=\"text-align: right;\">\n",
       "      <th></th>\n",
       "      <th>timestamp</th>\n",
       "      <th>user_id</th>\n",
       "      <th>content_id</th>\n",
       "      <th>content_type_id</th>\n",
       "      <th>answered_correctly</th>\n",
       "      <th>prior_question_elapsed_time</th>\n",
       "    </tr>\n",
       "  </thead>\n",
       "  <tbody>\n",
       "    <tr>\n",
       "      <th>0</th>\n",
       "      <td>0</td>\n",
       "      <td>841499248</td>\n",
       "      <td>6054</td>\n",
       "      <td>0</td>\n",
       "      <td>0</td>\n",
       "      <td>NaN</td>\n",
       "    </tr>\n",
       "    <tr>\n",
       "      <th>1</th>\n",
       "      <td>0</td>\n",
       "      <td>1722355108</td>\n",
       "      <td>4260</td>\n",
       "      <td>0</td>\n",
       "      <td>1</td>\n",
       "      <td>NaN</td>\n",
       "    </tr>\n",
       "    <tr>\n",
       "      <th>2</th>\n",
       "      <td>0</td>\n",
       "      <td>1973833483</td>\n",
       "      <td>5629</td>\n",
       "      <td>0</td>\n",
       "      <td>1</td>\n",
       "      <td>NaN</td>\n",
       "    </tr>\n",
       "    <tr>\n",
       "      <th>3</th>\n",
       "      <td>0</td>\n",
       "      <td>488555728</td>\n",
       "      <td>5527</td>\n",
       "      <td>0</td>\n",
       "      <td>1</td>\n",
       "      <td>NaN</td>\n",
       "    </tr>\n",
       "    <tr>\n",
       "      <th>4</th>\n",
       "      <td>0</td>\n",
       "      <td>1413146787</td>\n",
       "      <td>7900</td>\n",
       "      <td>0</td>\n",
       "      <td>1</td>\n",
       "      <td>NaN</td>\n",
       "    </tr>\n",
       "  </tbody>\n",
       "</table>\n",
       "</div>"
      ],
      "text/plain": [
       "   timestamp     user_id  content_id  content_type_id  answered_correctly  \\\n",
       "0          0   841499248        6054                0                   0   \n",
       "1          0  1722355108        4260                0                   1   \n",
       "2          0  1973833483        5629                0                   1   \n",
       "3          0   488555728        5527                0                   1   \n",
       "4          0  1413146787        7900                0                   1   \n",
       "\n",
       "   prior_question_elapsed_time  \n",
       "0                          NaN  \n",
       "1                          NaN  \n",
       "2                          NaN  \n",
       "3                          NaN  \n",
       "4                          NaN  "
      ]
     },
     "execution_count": 4,
     "metadata": {},
     "output_type": "execute_result"
    }
   ],
   "source": [
    "%%time\n",
    "dtype = {'timestamp': 'int64', \n",
    "         'user_id': 'int64' ,\n",
    "         'content_id': 'int16',\n",
    "         'content_type_id': 'int8',\n",
    "         'answered_correctly':'int8',\n",
    "         'prior_question_elapsed_time':'float64'}\n",
    "\n",
    "train_df = pd.read_csv('/kaggle/input/saktmodel/train_100_valid_2.csv', usecols=[2,3,4,5,8,9], dtype=dtype)\n",
    "train_df.head()\n"
   ]
  },
  {
   "cell_type": "code",
   "execution_count": 5,
   "metadata": {
    "execution": {
     "iopub.execute_input": "2020-12-13T13:35:03.142071Z",
     "iopub.status.busy": "2020-12-13T13:35:03.141540Z",
     "iopub.status.idle": "2020-12-13T13:35:07.999969Z",
     "shell.execute_reply": "2020-12-13T13:35:07.998164Z"
    },
    "papermill": {
     "duration": 4.896739,
     "end_time": "2020-12-13T13:35:08.000120",
     "exception": false,
     "start_time": "2020-12-13T13:35:03.103381",
     "status": "completed"
    },
    "tags": []
   },
   "outputs": [],
   "source": [
    "train_df = train_df[train_df.content_type_id == False]\n",
    "\n",
    "#arrange by timestamp\n",
    "train_df = train_df.sort_values(['timestamp'], ascending=True).reset_index(drop = True)"
   ]
  },
  {
   "cell_type": "code",
   "execution_count": 6,
   "metadata": {
    "execution": {
     "iopub.execute_input": "2020-12-13T13:35:08.130095Z",
     "iopub.status.busy": "2020-12-13T13:35:08.129480Z",
     "iopub.status.idle": "2020-12-13T13:35:09.649078Z",
     "shell.execute_reply": "2020-12-13T13:35:09.649477Z"
    },
    "papermill": {
     "duration": 1.587018,
     "end_time": "2020-12-13T13:35:09.649616",
     "exception": false,
     "start_time": "2020-12-13T13:35:08.062598",
     "status": "completed"
    },
    "tags": []
   },
   "outputs": [
    {
     "data": {
      "text/html": [
       "<div>\n",
       "<style scoped>\n",
       "    .dataframe tbody tr th:only-of-type {\n",
       "        vertical-align: middle;\n",
       "    }\n",
       "\n",
       "    .dataframe tbody tr th {\n",
       "        vertical-align: top;\n",
       "    }\n",
       "\n",
       "    .dataframe thead th {\n",
       "        text-align: right;\n",
       "    }\n",
       "</style>\n",
       "<table border=\"1\" class=\"dataframe\">\n",
       "  <thead>\n",
       "    <tr style=\"text-align: right;\">\n",
       "      <th></th>\n",
       "      <th>timestamp</th>\n",
       "      <th>user_id</th>\n",
       "      <th>content_id</th>\n",
       "      <th>content_type_id</th>\n",
       "      <th>answered_correctly</th>\n",
       "      <th>prior_question_elapsed_time</th>\n",
       "    </tr>\n",
       "  </thead>\n",
       "  <tbody>\n",
       "    <tr>\n",
       "      <th>0</th>\n",
       "      <td>0</td>\n",
       "      <td>866605366</td>\n",
       "      <td>6267</td>\n",
       "      <td>0</td>\n",
       "      <td>1</td>\n",
       "      <td>NaN</td>\n",
       "    </tr>\n",
       "    <tr>\n",
       "      <th>1</th>\n",
       "      <td>0</td>\n",
       "      <td>1436067548</td>\n",
       "      <td>3709</td>\n",
       "      <td>0</td>\n",
       "      <td>1</td>\n",
       "      <td>NaN</td>\n",
       "    </tr>\n",
       "    <tr>\n",
       "      <th>2</th>\n",
       "      <td>0</td>\n",
       "      <td>2119645200</td>\n",
       "      <td>7900</td>\n",
       "      <td>0</td>\n",
       "      <td>1</td>\n",
       "      <td>NaN</td>\n",
       "    </tr>\n",
       "    <tr>\n",
       "      <th>3</th>\n",
       "      <td>0</td>\n",
       "      <td>2019867894</td>\n",
       "      <td>4421</td>\n",
       "      <td>0</td>\n",
       "      <td>0</td>\n",
       "      <td>NaN</td>\n",
       "    </tr>\n",
       "    <tr>\n",
       "      <th>4</th>\n",
       "      <td>0</td>\n",
       "      <td>1801712607</td>\n",
       "      <td>5137</td>\n",
       "      <td>0</td>\n",
       "      <td>1</td>\n",
       "      <td>NaN</td>\n",
       "    </tr>\n",
       "    <tr>\n",
       "      <th>5</th>\n",
       "      <td>0</td>\n",
       "      <td>863504442</td>\n",
       "      <td>5554</td>\n",
       "      <td>0</td>\n",
       "      <td>1</td>\n",
       "      <td>NaN</td>\n",
       "    </tr>\n",
       "    <tr>\n",
       "      <th>6</th>\n",
       "      <td>0</td>\n",
       "      <td>220576717</td>\n",
       "      <td>4660</td>\n",
       "      <td>0</td>\n",
       "      <td>1</td>\n",
       "      <td>NaN</td>\n",
       "    </tr>\n",
       "    <tr>\n",
       "      <th>7</th>\n",
       "      <td>0</td>\n",
       "      <td>108605579</td>\n",
       "      <td>5067</td>\n",
       "      <td>0</td>\n",
       "      <td>0</td>\n",
       "      <td>NaN</td>\n",
       "    </tr>\n",
       "    <tr>\n",
       "      <th>8</th>\n",
       "      <td>0</td>\n",
       "      <td>811433702</td>\n",
       "      <td>4517</td>\n",
       "      <td>0</td>\n",
       "      <td>0</td>\n",
       "      <td>NaN</td>\n",
       "    </tr>\n",
       "    <tr>\n",
       "      <th>9</th>\n",
       "      <td>0</td>\n",
       "      <td>38532797</td>\n",
       "      <td>6479</td>\n",
       "      <td>0</td>\n",
       "      <td>0</td>\n",
       "      <td>NaN</td>\n",
       "    </tr>\n",
       "  </tbody>\n",
       "</table>\n",
       "</div>"
      ],
      "text/plain": [
       "   timestamp     user_id  content_id  content_type_id  answered_correctly  \\\n",
       "0          0   866605366        6267                0                   1   \n",
       "1          0  1436067548        3709                0                   1   \n",
       "2          0  2119645200        7900                0                   1   \n",
       "3          0  2019867894        4421                0                   0   \n",
       "4          0  1801712607        5137                0                   1   \n",
       "5          0   863504442        5554                0                   1   \n",
       "6          0   220576717        4660                0                   1   \n",
       "7          0   108605579        5067                0                   0   \n",
       "8          0   811433702        4517                0                   0   \n",
       "9          0    38532797        6479                0                   0   \n",
       "\n",
       "   prior_question_elapsed_time  \n",
       "0                          NaN  \n",
       "1                          NaN  \n",
       "2                          NaN  \n",
       "3                          NaN  \n",
       "4                          NaN  \n",
       "5                          NaN  \n",
       "6                          NaN  \n",
       "7                          NaN  \n",
       "8                          NaN  \n",
       "9                          NaN  "
      ]
     },
     "execution_count": 6,
     "metadata": {},
     "output_type": "execute_result"
    }
   ],
   "source": [
    "valid = pd.read_csv('/kaggle/input/saktmodel/valid_2.csv', usecols=[ 2, 3,4,5,8,9], dtype=dtype)\n",
    "valid = valid[valid.content_type_id == False]\n",
    "\n",
    "valid.head(10)"
   ]
  },
  {
   "cell_type": "code",
   "execution_count": 7,
   "metadata": {
    "execution": {
     "iopub.execute_input": "2020-12-13T13:35:09.724780Z",
     "iopub.status.busy": "2020-12-13T13:35:09.724249Z",
     "iopub.status.idle": "2020-12-13T13:35:09.728246Z",
     "shell.execute_reply": "2020-12-13T13:35:09.727808Z"
    },
    "papermill": {
     "duration": 0.042698,
     "end_time": "2020-12-13T13:35:09.728339",
     "exception": false,
     "start_time": "2020-12-13T13:35:09.685641",
     "status": "completed"
    },
    "tags": []
   },
   "outputs": [],
   "source": [
    "# valid = pd.DataFrame()\n",
    "# for i in range(2):\n",
    "#     last_records = train_df.drop_duplicates('user_id',keep='last')\n",
    "#     train_df = train_df[~train_df.index.isin(last_records.index)]\n",
    "#     valid = valid.append(last_records)"
   ]
  },
  {
   "cell_type": "code",
   "execution_count": 8,
   "metadata": {
    "execution": {
     "iopub.execute_input": "2020-12-13T13:35:09.858621Z",
     "iopub.status.busy": "2020-12-13T13:35:09.857655Z",
     "iopub.status.idle": "2020-12-13T13:35:09.859286Z",
     "shell.execute_reply": "2020-12-13T13:35:09.858130Z"
    },
    "papermill": {
     "duration": 0.068297,
     "end_time": "2020-12-13T13:35:09.859429",
     "exception": false,
     "start_time": "2020-12-13T13:35:09.791132",
     "status": "completed"
    },
    "tags": []
   },
   "outputs": [],
   "source": [
    "# train = pd.DataFrame()\n",
    "# for i in range(100):\n",
    "#     last_records = train_df.drop_duplicates('user_id',keep='last')\n",
    "#     train_df = train_df[~train_df.index.isin(last_records.index)]\n",
    "#     train = train.append(last_records)"
   ]
  },
  {
   "cell_type": "code",
   "execution_count": 9,
   "metadata": {
    "execution": {
     "iopub.execute_input": "2020-12-13T13:35:09.985655Z",
     "iopub.status.busy": "2020-12-13T13:35:09.982828Z",
     "iopub.status.idle": "2020-12-13T13:35:09.989833Z",
     "shell.execute_reply": "2020-12-13T13:35:09.989091Z"
    },
    "papermill": {
     "duration": 0.0711,
     "end_time": "2020-12-13T13:35:09.989993",
     "exception": false,
     "start_time": "2020-12-13T13:35:09.918893",
     "status": "completed"
    },
    "tags": []
   },
   "outputs": [],
   "source": [
    "# del train_df\n",
    "# gc.collect()"
   ]
  },
  {
   "cell_type": "code",
   "execution_count": null,
   "metadata": {
    "papermill": {
     "duration": 0.05726,
     "end_time": "2020-12-13T13:35:10.105853",
     "exception": false,
     "start_time": "2020-12-13T13:35:10.048593",
     "status": "completed"
    },
    "tags": []
   },
   "outputs": [],
   "source": []
  },
  {
   "cell_type": "code",
   "execution_count": null,
   "metadata": {
    "papermill": {
     "duration": 0.058723,
     "end_time": "2020-12-13T13:35:10.224226",
     "exception": false,
     "start_time": "2020-12-13T13:35:10.165503",
     "status": "completed"
    },
    "tags": []
   },
   "outputs": [],
   "source": []
  },
  {
   "cell_type": "code",
   "execution_count": 10,
   "metadata": {
    "execution": {
     "iopub.execute_input": "2020-12-13T13:35:10.347727Z",
     "iopub.status.busy": "2020-12-13T13:35:10.346861Z",
     "iopub.status.idle": "2020-12-13T13:35:10.356714Z",
     "shell.execute_reply": "2020-12-13T13:35:10.357360Z"
    },
    "papermill": {
     "duration": 0.073678,
     "end_time": "2020-12-13T13:35:10.357514",
     "exception": false,
     "start_time": "2020-12-13T13:35:10.283836",
     "status": "completed"
    },
    "tags": []
   },
   "outputs": [
    {
     "data": {
      "text/html": [
       "<div>\n",
       "<style scoped>\n",
       "    .dataframe tbody tr th:only-of-type {\n",
       "        vertical-align: middle;\n",
       "    }\n",
       "\n",
       "    .dataframe tbody tr th {\n",
       "        vertical-align: top;\n",
       "    }\n",
       "\n",
       "    .dataframe thead th {\n",
       "        text-align: right;\n",
       "    }\n",
       "</style>\n",
       "<table border=\"1\" class=\"dataframe\">\n",
       "  <thead>\n",
       "    <tr style=\"text-align: right;\">\n",
       "      <th></th>\n",
       "      <th>timestamp</th>\n",
       "      <th>user_id</th>\n",
       "      <th>content_id</th>\n",
       "      <th>content_type_id</th>\n",
       "      <th>answered_correctly</th>\n",
       "      <th>prior_question_elapsed_time</th>\n",
       "    </tr>\n",
       "  </thead>\n",
       "  <tbody>\n",
       "    <tr>\n",
       "      <th>0</th>\n",
       "      <td>0</td>\n",
       "      <td>841499248</td>\n",
       "      <td>6054</td>\n",
       "      <td>0</td>\n",
       "      <td>0</td>\n",
       "      <td>NaN</td>\n",
       "    </tr>\n",
       "    <tr>\n",
       "      <th>1</th>\n",
       "      <td>0</td>\n",
       "      <td>1123190515</td>\n",
       "      <td>5609</td>\n",
       "      <td>0</td>\n",
       "      <td>1</td>\n",
       "      <td>NaN</td>\n",
       "    </tr>\n",
       "    <tr>\n",
       "      <th>2</th>\n",
       "      <td>0</td>\n",
       "      <td>1122899488</td>\n",
       "      <td>3969</td>\n",
       "      <td>0</td>\n",
       "      <td>1</td>\n",
       "      <td>NaN</td>\n",
       "    </tr>\n",
       "    <tr>\n",
       "      <th>3</th>\n",
       "      <td>0</td>\n",
       "      <td>1122885826</td>\n",
       "      <td>6314</td>\n",
       "      <td>0</td>\n",
       "      <td>1</td>\n",
       "      <td>NaN</td>\n",
       "    </tr>\n",
       "    <tr>\n",
       "      <th>4</th>\n",
       "      <td>0</td>\n",
       "      <td>1874157579</td>\n",
       "      <td>4427</td>\n",
       "      <td>0</td>\n",
       "      <td>1</td>\n",
       "      <td>NaN</td>\n",
       "    </tr>\n",
       "    <tr>\n",
       "      <th>5</th>\n",
       "      <td>0</td>\n",
       "      <td>1123820777</td>\n",
       "      <td>3757</td>\n",
       "      <td>0</td>\n",
       "      <td>0</td>\n",
       "      <td>NaN</td>\n",
       "    </tr>\n",
       "    <tr>\n",
       "      <th>6</th>\n",
       "      <td>0</td>\n",
       "      <td>1921197508</td>\n",
       "      <td>4102</td>\n",
       "      <td>0</td>\n",
       "      <td>0</td>\n",
       "      <td>NaN</td>\n",
       "    </tr>\n",
       "    <tr>\n",
       "      <th>7</th>\n",
       "      <td>0</td>\n",
       "      <td>1123946933</td>\n",
       "      <td>6036</td>\n",
       "      <td>0</td>\n",
       "      <td>1</td>\n",
       "      <td>NaN</td>\n",
       "    </tr>\n",
       "    <tr>\n",
       "      <th>8</th>\n",
       "      <td>0</td>\n",
       "      <td>276104471</td>\n",
       "      <td>4181</td>\n",
       "      <td>0</td>\n",
       "      <td>0</td>\n",
       "      <td>NaN</td>\n",
       "    </tr>\n",
       "    <tr>\n",
       "      <th>9</th>\n",
       "      <td>0</td>\n",
       "      <td>1123723759</td>\n",
       "      <td>4561</td>\n",
       "      <td>0</td>\n",
       "      <td>1</td>\n",
       "      <td>NaN</td>\n",
       "    </tr>\n",
       "  </tbody>\n",
       "</table>\n",
       "</div>"
      ],
      "text/plain": [
       "   timestamp     user_id  content_id  content_type_id  answered_correctly  \\\n",
       "0          0   841499248        6054                0                   0   \n",
       "1          0  1123190515        5609                0                   1   \n",
       "2          0  1122899488        3969                0                   1   \n",
       "3          0  1122885826        6314                0                   1   \n",
       "4          0  1874157579        4427                0                   1   \n",
       "5          0  1123820777        3757                0                   0   \n",
       "6          0  1921197508        4102                0                   0   \n",
       "7          0  1123946933        6036                0                   1   \n",
       "8          0   276104471        4181                0                   0   \n",
       "9          0  1123723759        4561                0                   1   \n",
       "\n",
       "   prior_question_elapsed_time  \n",
       "0                          NaN  \n",
       "1                          NaN  \n",
       "2                          NaN  \n",
       "3                          NaN  \n",
       "4                          NaN  \n",
       "5                          NaN  \n",
       "6                          NaN  \n",
       "7                          NaN  \n",
       "8                          NaN  \n",
       "9                          NaN  "
      ]
     },
     "execution_count": 10,
     "metadata": {},
     "output_type": "execute_result"
    }
   ],
   "source": [
    "train_df.head(10)"
   ]
  },
  {
   "cell_type": "code",
   "execution_count": 11,
   "metadata": {
    "execution": {
     "iopub.execute_input": "2020-12-13T13:35:10.443006Z",
     "iopub.status.busy": "2020-12-13T13:35:10.442125Z",
     "iopub.status.idle": "2020-12-13T13:35:10.444556Z",
     "shell.execute_reply": "2020-12-13T13:35:10.444031Z"
    },
    "papermill": {
     "duration": 0.042421,
     "end_time": "2020-12-13T13:35:10.444651",
     "exception": false,
     "start_time": "2020-12-13T13:35:10.402230",
     "status": "completed"
    },
    "tags": []
   },
   "outputs": [],
   "source": [
    "# train_df.drop(['timestamp'],axis=1)"
   ]
  },
  {
   "cell_type": "code",
   "execution_count": 12,
   "metadata": {
    "execution": {
     "iopub.execute_input": "2020-12-13T13:35:10.521050Z",
     "iopub.status.busy": "2020-12-13T13:35:10.520515Z",
     "iopub.status.idle": "2020-12-13T13:35:10.526417Z",
     "shell.execute_reply": "2020-12-13T13:35:10.525991Z"
    },
    "papermill": {
     "duration": 0.045797,
     "end_time": "2020-12-13T13:35:10.526505",
     "exception": false,
     "start_time": "2020-12-13T13:35:10.480708",
     "status": "completed"
    },
    "tags": []
   },
   "outputs": [
    {
     "data": {
      "text/plain": [
       "21537330"
      ]
     },
     "execution_count": 12,
     "metadata": {},
     "output_type": "execute_result"
    }
   ],
   "source": [
    "len(train_df)"
   ]
  },
  {
   "cell_type": "code",
   "execution_count": 13,
   "metadata": {
    "execution": {
     "iopub.execute_input": "2020-12-13T13:35:10.606805Z",
     "iopub.status.busy": "2020-12-13T13:35:10.606058Z",
     "iopub.status.idle": "2020-12-13T13:35:10.640576Z",
     "shell.execute_reply": "2020-12-13T13:35:10.641006Z"
    },
    "papermill": {
     "duration": 0.076249,
     "end_time": "2020-12-13T13:35:10.641153",
     "exception": false,
     "start_time": "2020-12-13T13:35:10.564904",
     "status": "completed"
    },
    "tags": []
   },
   "outputs": [
    {
     "data": {
      "text/plain": [
       "24124.452481106353"
      ]
     },
     "execution_count": 13,
     "metadata": {},
     "output_type": "execute_result"
    }
   ],
   "source": [
    "elapsed_mean = train_df.prior_question_elapsed_time.mean()\n",
    "elapsed_mean"
   ]
  },
  {
   "cell_type": "code",
   "execution_count": 14,
   "metadata": {
    "execution": {
     "iopub.execute_input": "2020-12-13T13:35:10.720804Z",
     "iopub.status.busy": "2020-12-13T13:35:10.719924Z",
     "iopub.status.idle": "2020-12-13T13:35:10.764717Z",
     "shell.execute_reply": "2020-12-13T13:35:10.764265Z"
    },
    "papermill": {
     "duration": 0.08614,
     "end_time": "2020-12-13T13:35:10.764802",
     "exception": false,
     "start_time": "2020-12-13T13:35:10.678662",
     "status": "completed"
    },
    "tags": []
   },
   "outputs": [],
   "source": [
    "train_df['prior_question_elapsed_time'].fillna(elapsed_mean, inplace=True)\n"
   ]
  },
  {
   "cell_type": "code",
   "execution_count": 15,
   "metadata": {
    "execution": {
     "iopub.execute_input": "2020-12-13T13:35:10.844498Z",
     "iopub.status.busy": "2020-12-13T13:35:10.843880Z",
     "iopub.status.idle": "2020-12-13T13:35:10.847948Z",
     "shell.execute_reply": "2020-12-13T13:35:10.847444Z"
    },
    "papermill": {
     "duration": 0.045632,
     "end_time": "2020-12-13T13:35:10.848067",
     "exception": false,
     "start_time": "2020-12-13T13:35:10.802435",
     "status": "completed"
    },
    "tags": []
   },
   "outputs": [],
   "source": [
    "def get_elapsed_time(ela):\n",
    "    ela = ela // 1000\n",
    "    if ela > 300:\n",
    "        return 300\n",
    "    else:\n",
    "        return ela"
   ]
  },
  {
   "cell_type": "code",
   "execution_count": 16,
   "metadata": {
    "execution": {
     "iopub.execute_input": "2020-12-13T13:35:12.369882Z",
     "iopub.status.busy": "2020-12-13T13:35:12.256231Z",
     "iopub.status.idle": "2020-12-13T13:35:27.769209Z",
     "shell.execute_reply": "2020-12-13T13:35:27.768403Z"
    },
    "papermill": {
     "duration": 16.883066,
     "end_time": "2020-12-13T13:35:27.769327",
     "exception": false,
     "start_time": "2020-12-13T13:35:10.886261",
     "status": "completed"
    },
    "tags": []
   },
   "outputs": [],
   "source": [
    "train_df['prior_question_elapsed_time'] = train_df['prior_question_elapsed_time'].apply(lambda x: get_elapsed_time(x))"
   ]
  },
  {
   "cell_type": "code",
   "execution_count": 17,
   "metadata": {
    "execution": {
     "iopub.execute_input": "2020-12-13T13:35:27.848743Z",
     "iopub.status.busy": "2020-12-13T13:35:27.848207Z",
     "iopub.status.idle": "2020-12-13T13:35:27.852164Z",
     "shell.execute_reply": "2020-12-13T13:35:27.851726Z"
    },
    "papermill": {
     "duration": 0.044628,
     "end_time": "2020-12-13T13:35:27.852256",
     "exception": false,
     "start_time": "2020-12-13T13:35:27.807628",
     "status": "completed"
    },
    "tags": []
   },
   "outputs": [],
   "source": [
    "# question_df = pd.read_csv('/kaggle/input/riiid-test-answer-prediction/questions.csv')\n",
    "# question_df['part'] = question_df['part'] - 1\n",
    "# train_df = pd.merge(train_df, question_df, left_on='content_id',right_on='question_id',how='left')\n",
    "# train_df['part'].fillna(4, inplace=True)"
   ]
  },
  {
   "cell_type": "code",
   "execution_count": 18,
   "metadata": {
    "execution": {
     "iopub.execute_input": "2020-12-13T13:35:27.932639Z",
     "iopub.status.busy": "2020-12-13T13:35:27.930858Z",
     "iopub.status.idle": "2020-12-13T13:35:27.933263Z",
     "shell.execute_reply": "2020-12-13T13:35:27.933671Z"
    },
    "papermill": {
     "duration": 0.043506,
     "end_time": "2020-12-13T13:35:27.933768",
     "exception": false,
     "start_time": "2020-12-13T13:35:27.890262",
     "status": "completed"
    },
    "tags": []
   },
   "outputs": [],
   "source": [
    "# question_df = pd.read_csv('/kaggle/input/riiid-test-answer-prediction/questions.csv',usecols=[0,3])\n",
    "# question_df['part'].fillna(4, inplace=True)\n",
    "# question_df['part'] = question_df['part']-1"
   ]
  },
  {
   "cell_type": "markdown",
   "metadata": {
    "papermill": {
     "duration": 0.037166,
     "end_time": "2020-12-13T13:35:28.008407",
     "exception": false,
     "start_time": "2020-12-13T13:35:27.971241",
     "status": "completed"
    },
    "tags": []
   },
   "source": [
    "## Preprocess"
   ]
  },
  {
   "cell_type": "code",
   "execution_count": 19,
   "metadata": {
    "execution": {
     "iopub.execute_input": "2020-12-13T13:35:28.087485Z",
     "iopub.status.busy": "2020-12-13T13:35:28.086562Z",
     "iopub.status.idle": "2020-12-13T13:35:28.091456Z",
     "shell.execute_reply": "2020-12-13T13:35:28.091011Z"
    },
    "papermill": {
     "duration": 0.045702,
     "end_time": "2020-12-13T13:35:28.091538",
     "exception": false,
     "start_time": "2020-12-13T13:35:28.045836",
     "status": "completed"
    },
    "tags": []
   },
   "outputs": [
    {
     "name": "stdout",
     "output_type": "stream",
     "text": [
      "number skills 13523\n"
     ]
    }
   ],
   "source": [
    "# skills = train_df[\"content_id\"].unique()\n",
    "n_skill = 13523\n",
    "print(\"number skills\", n_skill)"
   ]
  },
  {
   "cell_type": "code",
   "execution_count": 20,
   "metadata": {
    "execution": {
     "iopub.execute_input": "2020-12-13T13:35:28.170419Z",
     "iopub.status.busy": "2020-12-13T13:35:28.169702Z",
     "iopub.status.idle": "2020-12-13T13:35:28.172618Z",
     "shell.execute_reply": "2020-12-13T13:35:28.172210Z"
    },
    "papermill": {
     "duration": 0.043304,
     "end_time": "2020-12-13T13:35:28.172702",
     "exception": false,
     "start_time": "2020-12-13T13:35:28.129398",
     "status": "completed"
    },
    "tags": []
   },
   "outputs": [],
   "source": [
    "# part_skill = question_df['part'].unique()\n",
    "# n_part_skill = len(part_skill)\n",
    "# print(\"number part skills\", n_part_skill)\n",
    "# print(\"part is:\",part_skill)"
   ]
  },
  {
   "cell_type": "code",
   "execution_count": 21,
   "metadata": {
    "execution": {
     "iopub.execute_input": "2020-12-13T13:35:28.252796Z",
     "iopub.status.busy": "2020-12-13T13:35:28.252067Z",
     "iopub.status.idle": "2020-12-13T13:35:28.378835Z",
     "shell.execute_reply": "2020-12-13T13:35:28.379574Z"
    },
    "papermill": {
     "duration": 0.169169,
     "end_time": "2020-12-13T13:35:28.379740",
     "exception": false,
     "start_time": "2020-12-13T13:35:28.210571",
     "status": "completed"
    },
    "tags": []
   },
   "outputs": [
    {
     "name": "stdout",
     "output_type": "stream",
     "text": [
      "number ela skills 301\n",
      "ela is: [ 24.  89.  19.  23.  70.  83.  30.   4.  68.  25.  47.  18.  58.  40.\n",
      "  33.  69.  48.  44.  32.  36.  22.   7.   6.  34.  21.  17.  31.  16.\n",
      "  62.  37.  20.  26.  27.  29.  43.   1.  81.   5.  78.  71.  84.  60.\n",
      "  56.  46.  67.  13.  55.   2.  72.  54.  15.  28.  38.  35. 162.   0.\n",
      "  45.  52.  61.  39.  11.  10.  12.  14.  64.   3.  57.  91.  41.  50.\n",
      "  93.  82.  49.  42.   8.  63.   9.  53.  90.  94.  74.  75.  76.  65.\n",
      "  59.  77.  51. 300. 187. 188. 155. 170. 156. 160.  86. 126. 100. 134.\n",
      " 217. 218.  73. 183. 216. 204.  80.  98.  87.  96. 154. 148. 141. 241.\n",
      " 221. 124.  95. 202. 186. 180. 127. 104.  85. 181. 208. 210. 172. 106.\n",
      " 129. 266. 167. 232.  66. 115. 152. 244.  88. 297. 193. 132. 110. 116.\n",
      " 196. 215. 219. 139.  79. 228. 179. 117. 105. 113.  99. 112. 102.  92.\n",
      " 225. 136. 174. 250. 159. 207. 138. 251. 213. 201. 175. 199. 192. 128.\n",
      " 107. 264. 246. 171. 125. 165. 120. 119. 149.  97. 230. 135. 206. 114.\n",
      " 109. 111. 191. 158. 103. 209. 123. 131. 198. 286. 118. 281. 194. 249.\n",
      " 223. 220. 146. 261. 214. 122. 203. 133. 140. 277. 108. 130. 231. 166.\n",
      " 173. 226. 147. 272. 242. 293. 197. 276. 211. 282. 260. 200. 164. 101.\n",
      " 121. 137. 256. 275. 178. 176. 268. 184. 294. 153. 235. 222. 168. 212.\n",
      " 262. 142. 258. 259. 195. 279. 238. 289. 284. 145. 150. 157. 239. 227.\n",
      " 288. 185. 254. 237. 240. 252. 189. 182. 257. 205. 248. 224. 161. 151.\n",
      " 234. 190. 144. 229. 247. 169. 245. 236. 274. 233. 273. 292. 177. 267.\n",
      " 163. 243. 296. 283. 143. 299. 295. 255. 271. 265. 298. 280. 278. 253.\n",
      " 269. 291. 270. 287. 285. 263. 290.]\n"
     ]
    }
   ],
   "source": [
    "ela_skill = train_df['prior_question_elapsed_time'].unique()\n",
    "n_ela_skill = 301\n",
    "print(\"number ela skills\", n_ela_skill)\n",
    "print(\"ela is:\", ela_skill)"
   ]
  },
  {
   "cell_type": "code",
   "execution_count": null,
   "metadata": {
    "papermill": {
     "duration": 0.038295,
     "end_time": "2020-12-13T13:35:28.465840",
     "exception": false,
     "start_time": "2020-12-13T13:35:28.427545",
     "status": "completed"
    },
    "tags": []
   },
   "outputs": [],
   "source": []
  },
  {
   "cell_type": "code",
   "execution_count": null,
   "metadata": {
    "papermill": {
     "duration": 0.083164,
     "end_time": "2020-12-13T13:35:28.596329",
     "exception": false,
     "start_time": "2020-12-13T13:35:28.513165",
     "status": "completed"
    },
    "tags": []
   },
   "outputs": [],
   "source": []
  },
  {
   "cell_type": "code",
   "execution_count": 22,
   "metadata": {
    "execution": {
     "iopub.execute_input": "2020-12-13T13:35:28.740316Z",
     "iopub.status.busy": "2020-12-13T13:35:28.739259Z",
     "iopub.status.idle": "2020-12-13T13:35:28.742047Z",
     "shell.execute_reply": "2020-12-13T13:35:28.741165Z"
    },
    "papermill": {
     "duration": 0.076265,
     "end_time": "2020-12-13T13:35:28.742188",
     "exception": false,
     "start_time": "2020-12-13T13:35:28.665923",
     "status": "completed"
    },
    "tags": []
   },
   "outputs": [],
   "source": [
    "# valid = pd.read_csv('/kaggle/input/saktmodel/valid_2.csv', usecols=[ 2, 3,4,5,8,9], dtype=dtype)\n",
    "# valid = valid[valid.content_type_id == False]\n",
    "\n",
    "# valid.head(10)"
   ]
  },
  {
   "cell_type": "code",
   "execution_count": 23,
   "metadata": {
    "execution": {
     "iopub.execute_input": "2020-12-13T13:35:28.885112Z",
     "iopub.status.busy": "2020-12-13T13:35:28.884270Z",
     "iopub.status.idle": "2020-12-13T13:35:29.749991Z",
     "shell.execute_reply": "2020-12-13T13:35:29.749251Z"
    },
    "papermill": {
     "duration": 0.941481,
     "end_time": "2020-12-13T13:35:29.750099",
     "exception": false,
     "start_time": "2020-12-13T13:35:28.808618",
     "status": "completed"
    },
    "tags": []
   },
   "outputs": [],
   "source": [
    "valid['prior_question_elapsed_time'].fillna(elapsed_mean, inplace=True)\n",
    "valid['prior_question_elapsed_time'] = valid['prior_question_elapsed_time'].apply(lambda x: get_elapsed_time(x))"
   ]
  },
  {
   "cell_type": "code",
   "execution_count": 24,
   "metadata": {
    "execution": {
     "iopub.execute_input": "2020-12-13T13:35:29.833504Z",
     "iopub.status.busy": "2020-12-13T13:35:29.831697Z",
     "iopub.status.idle": "2020-12-13T13:35:29.834118Z",
     "shell.execute_reply": "2020-12-13T13:35:29.834536Z"
    },
    "papermill": {
     "duration": 0.045436,
     "end_time": "2020-12-13T13:35:29.834642",
     "exception": false,
     "start_time": "2020-12-13T13:35:29.789206",
     "status": "completed"
    },
    "tags": []
   },
   "outputs": [],
   "source": [
    "# valid = pd.DataFrame()\n",
    "# for i in range(2):\n",
    "#     last_records = train_df.drop_duplicates('user_id',keep='last')\n",
    "#     train_df = train_df[~train_df.index.isin(last_records.index)]\n",
    "#     valid = valid.append(last_records)"
   ]
  },
  {
   "cell_type": "code",
   "execution_count": 25,
   "metadata": {
    "execution": {
     "iopub.execute_input": "2020-12-13T13:35:29.916683Z",
     "iopub.status.busy": "2020-12-13T13:35:29.916168Z",
     "iopub.status.idle": "2020-12-13T13:35:29.921672Z",
     "shell.execute_reply": "2020-12-13T13:35:29.921251Z"
    },
    "papermill": {
     "duration": 0.048077,
     "end_time": "2020-12-13T13:35:29.921758",
     "exception": false,
     "start_time": "2020-12-13T13:35:29.873681",
     "status": "completed"
    },
    "tags": []
   },
   "outputs": [
    {
     "data": {
      "text/plain": [
       "21537330"
      ]
     },
     "execution_count": 25,
     "metadata": {},
     "output_type": "execute_result"
    }
   ],
   "source": [
    "len(train_df)"
   ]
  },
  {
   "cell_type": "code",
   "execution_count": 26,
   "metadata": {
    "execution": {
     "iopub.execute_input": "2020-12-13T13:35:30.004480Z",
     "iopub.status.busy": "2020-12-13T13:35:30.003925Z",
     "iopub.status.idle": "2020-12-13T13:35:30.009607Z",
     "shell.execute_reply": "2020-12-13T13:35:30.009152Z"
    },
    "papermill": {
     "duration": 0.048547,
     "end_time": "2020-12-13T13:35:30.009696",
     "exception": false,
     "start_time": "2020-12-13T13:35:29.961149",
     "status": "completed"
    },
    "tags": []
   },
   "outputs": [
    {
     "data": {
      "text/plain": [
       "787225"
      ]
     },
     "execution_count": 26,
     "metadata": {},
     "output_type": "execute_result"
    }
   ],
   "source": [
    "len(valid)"
   ]
  },
  {
   "cell_type": "code",
   "execution_count": 27,
   "metadata": {
    "execution": {
     "iopub.execute_input": "2020-12-13T13:35:30.092250Z",
     "iopub.status.busy": "2020-12-13T13:35:30.091704Z",
     "iopub.status.idle": "2020-12-13T13:35:30.095674Z",
     "shell.execute_reply": "2020-12-13T13:35:30.095203Z"
    },
    "papermill": {
     "duration": 0.046182,
     "end_time": "2020-12-13T13:35:30.095754",
     "exception": false,
     "start_time": "2020-12-13T13:35:30.049572",
     "status": "completed"
    },
    "tags": []
   },
   "outputs": [],
   "source": [
    "# train_df = pd.merge(train_df, question_df, left_on='content_id',right_on='question_id',how='left')"
   ]
  },
  {
   "cell_type": "code",
   "execution_count": 28,
   "metadata": {
    "execution": {
     "iopub.execute_input": "2020-12-13T13:35:30.386099Z",
     "iopub.status.busy": "2020-12-13T13:35:30.234374Z",
     "iopub.status.idle": "2020-12-13T13:36:06.916637Z",
     "shell.execute_reply": "2020-12-13T13:36:06.915426Z"
    },
    "papermill": {
     "duration": 36.781094,
     "end_time": "2020-12-13T13:36:06.916748",
     "exception": false,
     "start_time": "2020-12-13T13:35:30.135654",
     "status": "completed"
    },
    "tags": []
   },
   "outputs": [],
   "source": [
    "group = train_df[['user_id', 'content_id', 'answered_correctly','prior_question_elapsed_time']].groupby('user_id').apply(lambda r: (\n",
    "            r['content_id'].values,\n",
    "            r['answered_correctly'].values,\n",
    "            r['prior_question_elapsed_time'].values))\n",
    "\n"
   ]
  },
  {
   "cell_type": "code",
   "execution_count": 29,
   "metadata": {
    "execution": {
     "iopub.execute_input": "2020-12-13T13:36:07.071080Z",
     "iopub.status.busy": "2020-12-13T13:36:07.069346Z",
     "iopub.status.idle": "2020-12-13T13:36:07.073183Z",
     "shell.execute_reply": "2020-12-13T13:36:07.072713Z"
    },
    "papermill": {
     "duration": 0.11569,
     "end_time": "2020-12-13T13:36:07.073279",
     "exception": false,
     "start_time": "2020-12-13T13:36:06.957589",
     "status": "completed"
    },
    "tags": []
   },
   "outputs": [
    {
     "data": {
      "text/plain": [
       "20"
      ]
     },
     "execution_count": 29,
     "metadata": {},
     "output_type": "execute_result"
    }
   ],
   "source": [
    "del train_df\n",
    "gc.collect()"
   ]
  },
  {
   "cell_type": "code",
   "execution_count": 30,
   "metadata": {
    "execution": {
     "iopub.execute_input": "2020-12-13T13:36:07.179792Z",
     "iopub.status.busy": "2020-12-13T13:36:07.169507Z",
     "iopub.status.idle": "2020-12-13T13:36:07.184629Z",
     "shell.execute_reply": "2020-12-13T13:36:07.184222Z"
    },
    "papermill": {
     "duration": 0.071098,
     "end_time": "2020-12-13T13:36:07.184716",
     "exception": false,
     "start_time": "2020-12-13T13:36:07.113618",
     "status": "completed"
    },
    "tags": []
   },
   "outputs": [
    {
     "data": {
      "text/plain": [
       "user_id\n",
       "115      ([5692, 5716, 128, 7860, 7922, 156, 51, 50, 78...\n",
       "124      ([7900, 7876, 175, 1278, 2063, 2064, 2065, 336...\n",
       "2746     ([5273, 758, 5976, 236, 404, 382, 405, 873, 53...\n",
       "5382     ([5563, 6673, 3859, 9778, 3644, 4640, 6155, 96...\n",
       "8623     ([5498, 6102, 4078, 4536, 1291, 1131, 1145, 10...\n",
       "8701     ([3901, 6671, 4963, 6143, 8279, 3964, 4002, 75...\n",
       "12741    ([7399, 7396, 7397, 7398, 7438, 7439, 7265, 72...\n",
       "13134    ([11247, 12067, 12005, 12089, 11874, 11956, 12...\n",
       "24418    ([5851, 5375, 9432, 5060, 8484, 6037, 8674, 43...\n",
       "24600    ([7900, 7876, 175, 1278, 2065, 2063, 2064, 336...\n",
       "dtype: object"
      ]
     },
     "execution_count": 30,
     "metadata": {},
     "output_type": "execute_result"
    }
   ],
   "source": [
    "group.head(10)"
   ]
  },
  {
   "cell_type": "code",
   "execution_count": null,
   "metadata": {
    "papermill": {
     "duration": 0.040507,
     "end_time": "2020-12-13T13:36:07.265850",
     "exception": false,
     "start_time": "2020-12-13T13:36:07.225343",
     "status": "completed"
    },
    "tags": []
   },
   "outputs": [],
   "source": []
  },
  {
   "cell_type": "code",
   "execution_count": 31,
   "metadata": {
    "execution": {
     "iopub.execute_input": "2020-12-13T13:36:07.360393Z",
     "iopub.status.busy": "2020-12-13T13:36:07.359766Z",
     "iopub.status.idle": "2020-12-13T13:36:07.363709Z",
     "shell.execute_reply": "2020-12-13T13:36:07.363273Z"
    },
    "papermill": {
     "duration": 0.053358,
     "end_time": "2020-12-13T13:36:07.363795",
     "exception": false,
     "start_time": "2020-12-13T13:36:07.310437",
     "status": "completed"
    },
    "tags": []
   },
   "outputs": [],
   "source": [
    "# num = 0\n",
    "# for user_id in group.index:\n",
    "#     nums = group[user_id]\n",
    "#     if len(nums) != 3:\n",
    "#         num += 1\n",
    "#         print('user_id is:{}'.format(user_id))\n",
    "# print(\"Total_num is:{}\".format(num))"
   ]
  },
  {
   "cell_type": "code",
   "execution_count": 32,
   "metadata": {
    "execution": {
     "iopub.execute_input": "2020-12-13T13:36:07.452027Z",
     "iopub.status.busy": "2020-12-13T13:36:07.451489Z",
     "iopub.status.idle": "2020-12-13T13:36:07.455386Z",
     "shell.execute_reply": "2020-12-13T13:36:07.454912Z"
    },
    "papermill": {
     "duration": 0.04914,
     "end_time": "2020-12-13T13:36:07.455490",
     "exception": false,
     "start_time": "2020-12-13T13:36:07.406350",
     "status": "completed"
    },
    "tags": []
   },
   "outputs": [],
   "source": [
    "# train_df.loc[train_df['user_id']==288641214]"
   ]
  },
  {
   "cell_type": "code",
   "execution_count": 33,
   "metadata": {
    "execution": {
     "iopub.execute_input": "2020-12-13T13:36:07.542177Z",
     "iopub.status.busy": "2020-12-13T13:36:07.541515Z",
     "iopub.status.idle": "2020-12-13T13:36:07.544391Z",
     "shell.execute_reply": "2020-12-13T13:36:07.543845Z"
    },
    "papermill": {
     "duration": 0.047326,
     "end_time": "2020-12-13T13:36:07.544475",
     "exception": false,
     "start_time": "2020-12-13T13:36:07.497149",
     "status": "completed"
    },
    "tags": []
   },
   "outputs": [],
   "source": [
    "# valid = pd.merge(valid, question_df, left_on='content_id',right_on='question_id',how='left')"
   ]
  },
  {
   "cell_type": "code",
   "execution_count": null,
   "metadata": {
    "papermill": {
     "duration": 0.04162,
     "end_time": "2020-12-13T13:36:07.626950",
     "exception": false,
     "start_time": "2020-12-13T13:36:07.585330",
     "status": "completed"
    },
    "tags": []
   },
   "outputs": [],
   "source": []
  },
  {
   "cell_type": "code",
   "execution_count": 34,
   "metadata": {
    "execution": {
     "iopub.execute_input": "2020-12-13T13:36:07.712423Z",
     "iopub.status.busy": "2020-12-13T13:36:07.711524Z",
     "iopub.status.idle": "2020-12-13T13:36:07.714159Z",
     "shell.execute_reply": "2020-12-13T13:36:07.713640Z"
    },
    "papermill": {
     "duration": 0.046627,
     "end_time": "2020-12-13T13:36:07.714241",
     "exception": false,
     "start_time": "2020-12-13T13:36:07.667614",
     "status": "completed"
    },
    "tags": []
   },
   "outputs": [],
   "source": [
    "import random\n",
    "random.seed(1)"
   ]
  },
  {
   "cell_type": "code",
   "execution_count": 35,
   "metadata": {
    "execution": {
     "iopub.execute_input": "2020-12-13T13:36:07.817087Z",
     "iopub.status.busy": "2020-12-13T13:36:07.805243Z",
     "iopub.status.idle": "2020-12-13T13:36:07.819744Z",
     "shell.execute_reply": "2020-12-13T13:36:07.819234Z"
    },
    "papermill": {
     "duration": 0.063764,
     "end_time": "2020-12-13T13:36:07.819825",
     "exception": false,
     "start_time": "2020-12-13T13:36:07.756061",
     "status": "completed"
    },
    "tags": []
   },
   "outputs": [],
   "source": [
    "class SAKTDataset(Dataset):\n",
    "    def __init__(self, group, n_skill,n_ela_skill, max_seq=MAX_SEQ): #HDKIM 100\n",
    "        super(SAKTDataset, self).__init__()\n",
    "        self.max_seq = max_seq\n",
    "        self.n_skill = n_skill\n",
    "        self.n_ela_skill = n_ela_skill\n",
    "        self.samples = group\n",
    "        \n",
    "#         self.user_ids = [x for x in group.index]\n",
    "        self.user_ids = []\n",
    "        for user_id in group.index:\n",
    "            q, qa,ela = group[user_id]\n",
    "            if len(q) < 2: #HDKIM 10\n",
    "                continue\n",
    "            self.user_ids.append(user_id)\n",
    "            \n",
    "            #HDKIM Memory reduction\n",
    "#             if len(q)>self.max_seq:\n",
    "#                 group[user_id] = (q[-self.max_seq:],qa[-self.max_seq:], ela[-self.max_seq:])\n",
    "\n",
    "    def __len__(self):\n",
    "        return len(self.user_ids)\n",
    "\n",
    "    def __getitem__(self, index):\n",
    "        user_id = self.user_ids[index]\n",
    "        q_, qa_,ela_ = self.samples[user_id]\n",
    "        seq_len = len(q_)\n",
    "\n",
    "        q = np.zeros(self.max_seq, dtype=int)\n",
    "        qa = np.zeros(self.max_seq, dtype=int)\n",
    "        ela = np.zeros(self.max_seq, dtype=int)\n",
    "\n",
    "        if seq_len >= self.max_seq:\n",
    "            if random.random() >0.1:\n",
    "                start = random.randint(0, (seq_len-self.max_seq))\n",
    "                end = start + self.max_seq\n",
    "                q[:] = q_[start:end]\n",
    "                qa[:] = qa_[start:end]\n",
    "                ela[:] = ela_[start:end]\n",
    "            else:   \n",
    "                q[:] = q_[-self.max_seq:]\n",
    "                qa[:] = qa_[-self.max_seq:]\n",
    "                ela[:] = ela_[-self.max_seq:]\n",
    "        else:\n",
    "            if random.random() > 0.1:\n",
    "                start = 0\n",
    "                end = random.randint(2, seq_len)\n",
    "                seq_len = end -start\n",
    "                q[-seq_len:] = q_[0:seq_len]\n",
    "                qa[-seq_len:] = qa_[0:seq_len]\n",
    "                ela[-seq_len:] = ela_[0:seq_len]\n",
    "            else:\n",
    "                q[-seq_len:] = q_\n",
    "                qa[-seq_len:] = qa_\n",
    "                ela[-seq_len:] = ela_   \n",
    "            \n",
    "        target_id = q[1:]\n",
    "        label = qa[1:]\n",
    "        ela_target = ela[1:]\n",
    "\n",
    "        x = np.zeros(self.max_seq-1, dtype=int)\n",
    "        x = q[:-1].copy()\n",
    "        x += (qa[:-1] == 1) * self.n_skill\n",
    "        \n",
    "        ela_x = np.zeros(self.max_seq-1, dtype=int)\n",
    "        ela_x = ela[:-1].copy()\n",
    "#         ela_x += (qa[:-1]==1) * self.n_ela_skill\n",
    "\n",
    "        return x, target_id,ela_x,ela_target,label\n",
    "    # x和target_id都是来自于q，存在一个错位，x比target_id提前一个位置\n",
    "    # 所以我们可以尝试将ela 也分为ela_x和ela_target_id"
   ]
  },
  {
   "cell_type": "code",
   "execution_count": 36,
   "metadata": {
    "execution": {
     "iopub.execute_input": "2020-12-13T13:36:07.909238Z",
     "iopub.status.busy": "2020-12-13T13:36:07.908406Z",
     "iopub.status.idle": "2020-12-13T13:36:10.734714Z",
     "shell.execute_reply": "2020-12-13T13:36:10.734258Z"
    },
    "papermill": {
     "duration": 2.872937,
     "end_time": "2020-12-13T13:36:10.734815",
     "exception": false,
     "start_time": "2020-12-13T13:36:07.861878",
     "status": "completed"
    },
    "tags": []
   },
   "outputs": [],
   "source": [
    "dataset = SAKTDataset(group, n_skill, n_ela_skill)\n",
    "dataloader = DataLoader(dataset, batch_size=4096, shuffle=True,num_workers=8)\n",
    "\n",
    "item = dataset.__getitem__(5)\n"
   ]
  },
  {
   "cell_type": "code",
   "execution_count": 37,
   "metadata": {
    "execution": {
     "iopub.execute_input": "2020-12-13T13:36:10.823040Z",
     "iopub.status.busy": "2020-12-13T13:36:10.822486Z",
     "iopub.status.idle": "2020-12-13T13:36:10.826452Z",
     "shell.execute_reply": "2020-12-13T13:36:10.825858Z"
    },
    "papermill": {
     "duration": 0.048454,
     "end_time": "2020-12-13T13:36:10.826546",
     "exception": false,
     "start_time": "2020-12-13T13:36:10.778092",
     "status": "completed"
    },
    "tags": []
   },
   "outputs": [],
   "source": [
    "# print(len(item[0]))\n",
    "# print(len(item[1]))\n",
    "# print(len(item[2]))\n",
    "# print(len(item[3]))\n",
    "# print(len(item[4]))\n"
   ]
  },
  {
   "cell_type": "code",
   "execution_count": 38,
   "metadata": {
    "execution": {
     "iopub.execute_input": "2020-12-13T13:36:10.913849Z",
     "iopub.status.busy": "2020-12-13T13:36:10.913325Z",
     "iopub.status.idle": "2020-12-13T13:36:10.917354Z",
     "shell.execute_reply": "2020-12-13T13:36:10.916854Z"
    },
    "papermill": {
     "duration": 0.049077,
     "end_time": "2020-12-13T13:36:10.917444",
     "exception": false,
     "start_time": "2020-12-13T13:36:10.868367",
     "status": "completed"
    },
    "tags": []
   },
   "outputs": [],
   "source": [
    "# print(item[0])\n",
    "# print(item[1])\n",
    "# print(item[2])\n",
    "# print(item[3])\n",
    "# print(item[4])"
   ]
  },
  {
   "cell_type": "code",
   "execution_count": 39,
   "metadata": {
    "execution": {
     "iopub.execute_input": "2020-12-13T13:36:11.021872Z",
     "iopub.status.busy": "2020-12-13T13:36:11.014256Z",
     "iopub.status.idle": "2020-12-13T13:36:11.024420Z",
     "shell.execute_reply": "2020-12-13T13:36:11.023973Z"
    },
    "papermill": {
     "duration": 0.065004,
     "end_time": "2020-12-13T13:36:11.024502",
     "exception": false,
     "start_time": "2020-12-13T13:36:10.959498",
     "status": "completed"
    },
    "tags": []
   },
   "outputs": [],
   "source": [
    "class ValidDataset(Dataset):\n",
    "    def __init__(self, samples, test_df, n_skill,n_ela_skill, max_seq=MAX_SEQ): #HDKIM 100\n",
    "        super(ValidDataset, self).__init__()\n",
    "        self.samples = samples\n",
    "        self.user_ids = [x for x in test_df[\"user_id\"].unique()]\n",
    "        self.test_df = test_df\n",
    "        self.n_ela_skill = n_ela_skill\n",
    "        self.n_skill = n_skill\n",
    "        self.max_seq = max_seq\n",
    "\n",
    "    def __len__(self):\n",
    "        return self.test_df.shape[0]\n",
    "\n",
    "    def __getitem__(self, index):\n",
    "        test_info = self.test_df.iloc[index]\n",
    "\n",
    "        user_id = test_info[\"user_id\"]\n",
    "        target_id = test_info[\"content_id\"]\n",
    "        ela_target_id = test_info[\"prior_question_elapsed_time\"]\n",
    "        label = test_info['answered_correctly']\n",
    "\n",
    "        q = np.zeros(self.max_seq, dtype=int)\n",
    "        qa = np.zeros(self.max_seq, dtype=int)\n",
    "        ela = np.zeros(self.max_seq, dtype=int)\n",
    "\n",
    "        if user_id in self.samples.index:\n",
    "            q_, qa_, ela_ = self.samples[user_id]\n",
    "            \n",
    "            seq_len = len(q_)\n",
    "\n",
    "            if seq_len >= self.max_seq:\n",
    "                q = q_[-self.max_seq:]\n",
    "                qa = qa_[-self.max_seq:]\n",
    "                ela = ela_[-self.max_seq:]\n",
    "            else:\n",
    "                q[-seq_len:] = q_\n",
    "                qa[-seq_len:] = qa_       \n",
    "                ela[-seq_len:] = ela_\n",
    "        \n",
    "        x = np.zeros(self.max_seq-1, dtype=int)\n",
    "        x = q[1:].copy()\n",
    "        x += (qa[1:] == 1) * self.n_skill\n",
    "        \n",
    "        questions = np.append(q[2:], [target_id])\n",
    "        \n",
    "        ela_x = np.zeros(self.max_seq-1, dtype=int)\n",
    "        ela_x = ela[1:].copy()\n",
    "#         ela_x += (qa[1:] == 1) * self.n_ela_skill\n",
    "        \n",
    "        ela_target = np.append(ela[2:],[ela_target_id])\n",
    "        \n",
    "#         return x, questions, ela_x, ela_target, np.array([label])\n",
    "        return torch.LongTensor(x), torch.LongTensor(questions),\\\n",
    "            torch.LongTensor(ela_x), torch.LongTensor(ela_target),\\\n",
    "            torch.FloatTensor(np.array([label]))"
   ]
  },
  {
   "cell_type": "code",
   "execution_count": 40,
   "metadata": {
    "execution": {
     "iopub.execute_input": "2020-12-13T13:36:11.112640Z",
     "iopub.status.busy": "2020-12-13T13:36:11.111753Z",
     "iopub.status.idle": "2020-12-13T13:36:11.167943Z",
     "shell.execute_reply": "2020-12-13T13:36:11.167431Z"
    },
    "papermill": {
     "duration": 0.101645,
     "end_time": "2020-12-13T13:36:11.168053",
     "exception": false,
     "start_time": "2020-12-13T13:36:11.066408",
     "status": "completed"
    },
    "tags": []
   },
   "outputs": [],
   "source": [
    "test_dataset = ValidDataset(group, valid, n_skill, n_ela_skill)\n",
    "test_dataloader = DataLoader(test_dataset, batch_size=2048, shuffle=False,num_workers=16)"
   ]
  },
  {
   "cell_type": "code",
   "execution_count": null,
   "metadata": {
    "papermill": {
     "duration": 0.041521,
     "end_time": "2020-12-13T13:36:11.251573",
     "exception": false,
     "start_time": "2020-12-13T13:36:11.210052",
     "status": "completed"
    },
    "tags": []
   },
   "outputs": [],
   "source": []
  },
  {
   "cell_type": "code",
   "execution_count": null,
   "metadata": {
    "papermill": {
     "duration": 0.041287,
     "end_time": "2020-12-13T13:36:11.334380",
     "exception": false,
     "start_time": "2020-12-13T13:36:11.293093",
     "status": "completed"
    },
    "tags": []
   },
   "outputs": [],
   "source": []
  },
  {
   "cell_type": "markdown",
   "metadata": {
    "papermill": {
     "duration": 0.041489,
     "end_time": "2020-12-13T13:36:11.417387",
     "exception": false,
     "start_time": "2020-12-13T13:36:11.375898",
     "status": "completed"
    },
    "tags": []
   },
   "source": [
    "## Define model"
   ]
  },
  {
   "cell_type": "code",
   "execution_count": 41,
   "metadata": {
    "execution": {
     "iopub.execute_input": "2020-12-13T13:36:11.526358Z",
     "iopub.status.busy": "2020-12-13T13:36:11.525379Z",
     "iopub.status.idle": "2020-12-13T13:36:11.528285Z",
     "shell.execute_reply": "2020-12-13T13:36:11.527852Z"
    },
    "papermill": {
     "duration": 0.06948,
     "end_time": "2020-12-13T13:36:11.528381",
     "exception": false,
     "start_time": "2020-12-13T13:36:11.458901",
     "status": "completed"
    },
    "tags": []
   },
   "outputs": [],
   "source": [
    "class FFN(nn.Module):\n",
    "    def __init__(self, state_size=200):\n",
    "        super(FFN, self).__init__()\n",
    "        self.state_size = state_size\n",
    "\n",
    "        self.lr1 = nn.Linear(state_size, state_size)\n",
    "        self.relu = nn.ReLU()\n",
    "        self.lr2 = nn.Linear(state_size, state_size)\n",
    "        self.dropout = nn.Dropout(0.2)\n",
    "    \n",
    "    def forward(self, x):\n",
    "        x = self.lr1(x)\n",
    "        x = self.relu(x)\n",
    "        x = self.lr2(x)\n",
    "        return self.dropout(x)\n",
    "\n",
    "def future_mask(seq_length):\n",
    "    future_mask = np.triu(np.ones((seq_length, seq_length)), k=1).astype('bool')\n",
    "    return torch.from_numpy(future_mask)\n",
    "\n",
    "\n",
    "class SAKTModel(nn.Module):\n",
    "    def __init__(self, n_skill,n_ela_skill, max_seq=MAX_SEQ, embed_dim=128): #HDKIM 100\n",
    "        super(SAKTModel, self).__init__()\n",
    "        self.n_skill = n_skill\n",
    "        self.n_ela_skill = n_ela_skill\n",
    "        self.embed_dim = embed_dim\n",
    "\n",
    "        self.embedding = nn.Embedding(2*n_skill+1, embed_dim)\n",
    "        self.pos_embedding = nn.Embedding(max_seq, embed_dim)\n",
    "        self.e_embedding = nn.Embedding(n_skill+1, embed_dim)\n",
    "        \n",
    "        self.ela_ans_embedding = nn.Embedding(2*n_ela_skill+1, embed_dim)\n",
    "        self.ela_embedding = nn.Embedding(n_ela_skill+1, embed_dim)\n",
    "\n",
    "        self.multi_att = nn.MultiheadAttention(embed_dim=embed_dim, num_heads=8, dropout=0.2)\n",
    "\n",
    "        self.dropout = nn.Dropout(0.2)\n",
    "        self.layer_normal = nn.LayerNorm(embed_dim) \n",
    "\n",
    "        self.ffn = FFN(embed_dim)\n",
    "        self.pred = nn.Linear(embed_dim, 1)\n",
    "    \n",
    "    def forward(self, x, question_ids, ela_x, ela_target_ids):\n",
    "        device = x.device   \n",
    "#         print(\"x shape is:{}\".format(x.shape))\n",
    "#         print(\"x is:{}\\n\".format(x))\n",
    "        x = self.embedding(x)\n",
    "#         print(\"x.size(1) is:{}\".format(x.size(1)))\n",
    "        pos_id = torch.arange(x.size(1)).unsqueeze(0).to(device)\n",
    "        \n",
    "        pos_x = self.pos_embedding(pos_id)\n",
    "#         ela_x = self.ela_ans_embedding(ela_x)\n",
    "        ela_x = self.ela_embedding(ela_x)\n",
    "        \n",
    "        x = x + ela_x + pos_x\n",
    "\n",
    "        e = self.e_embedding(question_ids)\n",
    "        ela = self.ela_embedding(ela_target_ids)\n",
    "        e = e + ela\n",
    "        \n",
    "        x = x.permute(1, 0, 2) # x: [bs, s_len, embed] => [s_len, bs, embed]\n",
    "        e = e.permute(1, 0, 2)\n",
    "        att_mask = future_mask(x.size(0)).to(device)\n",
    "        att_output, att_weight = self.multi_att(e, x, x, attn_mask=att_mask)\n",
    "        # 这个att_output其实是x的一个attention表示\n",
    "        att_output = self.layer_normal(att_output + e)\n",
    "        att_output = att_output.permute(1, 0, 2) # att_output: [s_len, bs, embed] => [bs, s_len, embed]\n",
    "\n",
    "        x = self.ffn(att_output)\n",
    "        x = self.layer_normal(x + att_output)\n",
    "        x = self.pred(x)\n",
    "\n",
    "        return x.squeeze(-1), att_weight"
   ]
  },
  {
   "cell_type": "code",
   "execution_count": 42,
   "metadata": {
    "execution": {
     "iopub.execute_input": "2020-12-13T13:36:11.991887Z",
     "iopub.status.busy": "2020-12-13T13:36:11.991206Z",
     "iopub.status.idle": "2020-12-13T13:36:16.383561Z",
     "shell.execute_reply": "2020-12-13T13:36:16.383066Z"
    },
    "papermill": {
     "duration": 4.802865,
     "end_time": "2020-12-13T13:36:16.383672",
     "exception": false,
     "start_time": "2020-12-13T13:36:11.580807",
     "status": "completed"
    },
    "tags": []
   },
   "outputs": [
    {
     "data": {
      "text/plain": [
       "BCEWithLogitsLoss()"
      ]
     },
     "execution_count": 42,
     "metadata": {},
     "output_type": "execute_result"
    }
   ],
   "source": [
    "device = torch.device(\"cuda:0\" if torch.cuda.is_available() else \"cpu\")\n",
    "\n",
    "model = SAKTModel(n_skill,n_ela_skill, embed_dim=128)\n",
    "# optimizer = torch.optim.SGD(model.parameters(), lr=1e-3, momentum=0.99, weight_decay=0.005)\n",
    "optimizer = torch.optim.Adam(model.parameters(), lr=2e-3)\n",
    "criterion = nn.BCEWithLogitsLoss()\n",
    "\n",
    "model.to(device)\n",
    "criterion.to(device)"
   ]
  },
  {
   "cell_type": "code",
   "execution_count": 43,
   "metadata": {
    "execution": {
     "iopub.execute_input": "2020-12-13T13:36:16.484447Z",
     "iopub.status.busy": "2020-12-13T13:36:16.483322Z",
     "iopub.status.idle": "2020-12-13T13:36:16.486123Z",
     "shell.execute_reply": "2020-12-13T13:36:16.486546Z"
    },
    "papermill": {
     "duration": 0.060289,
     "end_time": "2020-12-13T13:36:16.486655",
     "exception": false,
     "start_time": "2020-12-13T13:36:16.426366",
     "status": "completed"
    },
    "tags": []
   },
   "outputs": [],
   "source": [
    "def train_epoch(model, train_iterator, optim, criterion, device=\"cpu\"):\n",
    "    model.train()\n",
    "\n",
    "    train_loss = []\n",
    "    num_corrects = 0\n",
    "    num_total = 0\n",
    "    labels = []\n",
    "    outs = []\n",
    "\n",
    "    tbar = tqdm(train_iterator)\n",
    "    for item in tbar:\n",
    "        x = item[0].to(device).long()\n",
    "        target_id = item[1].to(device).long()\n",
    "        ela_x = item[2].to(device).long()\n",
    "        ela_target = item[3].to(device).long()\n",
    "        \n",
    "        label = item[4].to(device).float()\n",
    "\n",
    "        optim.zero_grad()\n",
    "        output, atten_weight = model(x, target_id, ela_x, ela_target)\n",
    "        loss = criterion(output, label)\n",
    "        loss.backward()\n",
    "        optim.step()\n",
    "        train_loss.append(loss.item())\n",
    "\n",
    "        output = output[:, -1]\n",
    "        label = label[:, -1] \n",
    "        pred = (torch.sigmoid(output) >= 0.5).long()\n",
    "        \n",
    "        num_corrects += (pred == label).sum().item()\n",
    "        num_total += len(label)\n",
    "\n",
    "        labels.extend(label.view(-1).data.cpu().numpy())\n",
    "        outs.extend(output.view(-1).data.cpu().numpy())\n",
    "\n",
    "        tbar.set_description('loss - {:.4f}'.format(loss))\n",
    "\n",
    "    acc = num_corrects / num_total\n",
    "    auc = roc_auc_score(labels, outs)\n",
    "    loss = np.mean(train_loss)\n",
    "\n",
    "    return loss, acc, auc"
   ]
  },
  {
   "cell_type": "code",
   "execution_count": 44,
   "metadata": {
    "execution": {
     "iopub.execute_input": "2020-12-13T13:36:16.587701Z",
     "iopub.status.busy": "2020-12-13T13:36:16.585909Z",
     "iopub.status.idle": "2020-12-13T13:36:16.588341Z",
     "shell.execute_reply": "2020-12-13T13:36:16.588758Z"
    },
    "papermill": {
     "duration": 0.059646,
     "end_time": "2020-12-13T13:36:16.588861",
     "exception": false,
     "start_time": "2020-12-13T13:36:16.529215",
     "status": "completed"
    },
    "tags": []
   },
   "outputs": [],
   "source": [
    "def evaluate_epoch(model, test_dataloader, criterion, device=\"cpu\"):\n",
    "    model.eval()\n",
    "    eval_loss = []\n",
    "    num_corrects = 0\n",
    "    num_total = 0\n",
    "    labels = []\n",
    "    outs = []\n",
    "    \n",
    "    with torch.no_grad():\n",
    "        for item in tqdm(test_dataloader):\n",
    "            x = item[0].to(device).long()\n",
    "            target_id = item[1].to(device).long()\n",
    "            ela_x = item[2].to(device).long()\n",
    "            ela_target = item[3].to(device).long()\n",
    "        \n",
    "            label = item[4].to(device).float()\n",
    "#             print(\"In evaluation x shape is:{}\\t taret_id shape is:{}\\t label shape is:{}\".format(x.shape, target_id.shape,label.shape))\n",
    "            \n",
    "            output, atten_weight = model(x, target_id, ela_x, ela_target)\n",
    "            \n",
    "            output_loss = output[:, -1:]\n",
    "#             print(\"Output shape is:{}\\tlabel shape is:{}\".format(output.shape, label.shape))\n",
    "            loss = criterion(output_loss, label)\n",
    "            eval_loss.append(loss.item())\n",
    "            \n",
    "            output = output[:,-1]\n",
    "            label = label[:, -1] \n",
    "            pred = (torch.sigmoid(output) >= 0.5).long()\n",
    "            \n",
    "            num_corrects += (pred == label).sum().item()\n",
    "            num_total += len(label)\n",
    "\n",
    "            labels.extend(label.view(-1).data.cpu().numpy())\n",
    "            outs.extend(output.view(-1).data.cpu().numpy())\n",
    "\n",
    "    acc = num_corrects / num_total\n",
    "#     print(\"In evaluate labels is:{}\\t outs is:{}\\t\".format(labels, outs))\n",
    "\n",
    "    auc = roc_auc_score(labels, outs)\n",
    "#     auc = 0\n",
    "\n",
    "    loss = np.mean(eval_loss)   \n",
    "    \n",
    "    return loss, acc, auc"
   ]
  },
  {
   "cell_type": "code",
   "execution_count": 45,
   "metadata": {
    "execution": {
     "iopub.execute_input": "2020-12-13T13:36:16.683107Z",
     "iopub.status.busy": "2020-12-13T13:36:16.682498Z",
     "iopub.status.idle": "2020-12-13T15:30:34.612510Z",
     "shell.execute_reply": "2020-12-13T15:30:34.577946Z"
    },
    "papermill": {
     "duration": 6857.980371,
     "end_time": "2020-12-13T15:30:34.612650",
     "exception": false,
     "start_time": "2020-12-13T13:36:16.632279",
     "status": "completed"
    },
    "tags": []
   },
   "outputs": [
    {
     "name": "stderr",
     "output_type": "stream",
     "text": [
      "loss - 0.2662: 100%|██████████| 97/97 [00:36<00:00,  2.69it/s]\n",
      "  0%|          | 0/385 [00:00<?, ?it/s]"
     ]
    },
    {
     "name": "stdout",
     "output_type": "stream",
     "text": [
      "epoch - 0 train_loss - 0.30 acc - 0.603 auc - 0.635\n"
     ]
    },
    {
     "name": "stderr",
     "output_type": "stream",
     "text": [
      "100%|██████████| 385/385 [03:55<00:00,  1.63it/s]\n",
      "  0%|          | 0/97 [00:00<?, ?it/s]"
     ]
    },
    {
     "name": "stdout",
     "output_type": "stream",
     "text": [
      "epoch - 0 eval_loss - 0.65 eval acc - 0.625 eval auc - 0.678\n"
     ]
    },
    {
     "name": "stderr",
     "output_type": "stream",
     "text": [
      "loss - 0.2746: 100%|██████████| 97/97 [00:35<00:00,  2.70it/s]\n",
      "  0%|          | 0/385 [00:00<?, ?it/s]"
     ]
    },
    {
     "name": "stdout",
     "output_type": "stream",
     "text": [
      "epoch - 1 train_loss - 0.27 acc - 0.665 auc - 0.722\n"
     ]
    },
    {
     "name": "stderr",
     "output_type": "stream",
     "text": [
      "100%|██████████| 385/385 [03:57<00:00,  1.62it/s]\n",
      "  0%|          | 0/97 [00:00<?, ?it/s]"
     ]
    },
    {
     "name": "stdout",
     "output_type": "stream",
     "text": [
      "epoch - 1 eval_loss - 0.62 eval acc - 0.661 eval auc - 0.724\n"
     ]
    },
    {
     "name": "stderr",
     "output_type": "stream",
     "text": [
      "loss - 0.2639: 100%|██████████| 97/97 [00:35<00:00,  2.73it/s]\n",
      "  0%|          | 0/385 [00:00<?, ?it/s]"
     ]
    },
    {
     "name": "stdout",
     "output_type": "stream",
     "text": [
      "epoch - 2 train_loss - 0.26 acc - 0.678 auc - 0.741\n"
     ]
    },
    {
     "name": "stderr",
     "output_type": "stream",
     "text": [
      "100%|██████████| 385/385 [03:57<00:00,  1.62it/s]\n",
      "  0%|          | 0/97 [00:00<?, ?it/s]"
     ]
    },
    {
     "name": "stdout",
     "output_type": "stream",
     "text": [
      "epoch - 2 eval_loss - 0.61 eval acc - 0.664 eval auc - 0.734\n"
     ]
    },
    {
     "name": "stderr",
     "output_type": "stream",
     "text": [
      "loss - 0.2545: 100%|██████████| 97/97 [00:35<00:00,  2.73it/s]\n",
      "  0%|          | 0/385 [00:00<?, ?it/s]"
     ]
    },
    {
     "name": "stdout",
     "output_type": "stream",
     "text": [
      "epoch - 3 train_loss - 0.26 acc - 0.681 auc - 0.746\n"
     ]
    },
    {
     "name": "stderr",
     "output_type": "stream",
     "text": [
      "100%|██████████| 385/385 [03:55<00:00,  1.63it/s]\n",
      "  0%|          | 0/97 [00:00<?, ?it/s]"
     ]
    },
    {
     "name": "stdout",
     "output_type": "stream",
     "text": [
      "epoch - 3 eval_loss - 0.60 eval acc - 0.671 eval auc - 0.738\n"
     ]
    },
    {
     "name": "stderr",
     "output_type": "stream",
     "text": [
      "loss - 0.2598: 100%|██████████| 97/97 [00:35<00:00,  2.75it/s]\n",
      "  0%|          | 0/385 [00:00<?, ?it/s]"
     ]
    },
    {
     "name": "stdout",
     "output_type": "stream",
     "text": [
      "epoch - 4 train_loss - 0.26 acc - 0.684 auc - 0.749\n"
     ]
    },
    {
     "name": "stderr",
     "output_type": "stream",
     "text": [
      "100%|██████████| 385/385 [03:57<00:00,  1.62it/s]\n",
      "  0%|          | 0/97 [00:00<?, ?it/s]"
     ]
    },
    {
     "name": "stdout",
     "output_type": "stream",
     "text": [
      "epoch - 4 eval_loss - 0.60 eval acc - 0.673 eval auc - 0.740\n"
     ]
    },
    {
     "name": "stderr",
     "output_type": "stream",
     "text": [
      "loss - 0.2643: 100%|██████████| 97/97 [00:36<00:00,  2.64it/s]\n",
      "  0%|          | 0/385 [00:00<?, ?it/s]"
     ]
    },
    {
     "name": "stdout",
     "output_type": "stream",
     "text": [
      "epoch - 5 train_loss - 0.26 acc - 0.684 auc - 0.750\n"
     ]
    },
    {
     "name": "stderr",
     "output_type": "stream",
     "text": [
      "100%|██████████| 385/385 [03:55<00:00,  1.63it/s]\n",
      "  0%|          | 0/97 [00:00<?, ?it/s]"
     ]
    },
    {
     "name": "stdout",
     "output_type": "stream",
     "text": [
      "epoch - 5 eval_loss - 0.60 eval acc - 0.675 eval auc - 0.741\n"
     ]
    },
    {
     "name": "stderr",
     "output_type": "stream",
     "text": [
      "loss - 0.2914: 100%|██████████| 97/97 [00:35<00:00,  2.73it/s]\n",
      "  0%|          | 0/385 [00:00<?, ?it/s]"
     ]
    },
    {
     "name": "stdout",
     "output_type": "stream",
     "text": [
      "epoch - 6 train_loss - 0.26 acc - 0.684 auc - 0.750\n"
     ]
    },
    {
     "name": "stderr",
     "output_type": "stream",
     "text": [
      "100%|██████████| 385/385 [03:56<00:00,  1.63it/s]\n",
      "  0%|          | 0/97 [00:00<?, ?it/s]"
     ]
    },
    {
     "name": "stdout",
     "output_type": "stream",
     "text": [
      "epoch - 6 eval_loss - 0.60 eval acc - 0.673 eval auc - 0.742\n"
     ]
    },
    {
     "name": "stderr",
     "output_type": "stream",
     "text": [
      "loss - 0.2510: 100%|██████████| 97/97 [00:35<00:00,  2.76it/s]\n",
      "  0%|          | 0/385 [00:00<?, ?it/s]"
     ]
    },
    {
     "name": "stdout",
     "output_type": "stream",
     "text": [
      "epoch - 7 train_loss - 0.25 acc - 0.686 auc - 0.752\n"
     ]
    },
    {
     "name": "stderr",
     "output_type": "stream",
     "text": [
      "100%|██████████| 385/385 [03:56<00:00,  1.63it/s]\n",
      "  0%|          | 0/97 [00:00<?, ?it/s]"
     ]
    },
    {
     "name": "stdout",
     "output_type": "stream",
     "text": [
      "epoch - 7 eval_loss - 0.60 eval acc - 0.674 eval auc - 0.744\n"
     ]
    },
    {
     "name": "stderr",
     "output_type": "stream",
     "text": [
      "loss - 0.2505: 100%|██████████| 97/97 [00:35<00:00,  2.70it/s]\n",
      "  0%|          | 0/385 [00:00<?, ?it/s]"
     ]
    },
    {
     "name": "stdout",
     "output_type": "stream",
     "text": [
      "epoch - 8 train_loss - 0.25 acc - 0.685 auc - 0.752\n"
     ]
    },
    {
     "name": "stderr",
     "output_type": "stream",
     "text": [
      "100%|██████████| 385/385 [03:58<00:00,  1.61it/s]\n",
      "  0%|          | 0/97 [00:00<?, ?it/s]"
     ]
    },
    {
     "name": "stdout",
     "output_type": "stream",
     "text": [
      "epoch - 8 eval_loss - 0.60 eval acc - 0.675 eval auc - 0.744\n"
     ]
    },
    {
     "name": "stderr",
     "output_type": "stream",
     "text": [
      "loss - 0.2486: 100%|██████████| 97/97 [00:34<00:00,  2.77it/s]\n",
      "  0%|          | 0/385 [00:00<?, ?it/s]"
     ]
    },
    {
     "name": "stdout",
     "output_type": "stream",
     "text": [
      "epoch - 9 train_loss - 0.25 acc - 0.686 auc - 0.752\n"
     ]
    },
    {
     "name": "stderr",
     "output_type": "stream",
     "text": [
      "100%|██████████| 385/385 [03:57<00:00,  1.62it/s]\n",
      "  0%|          | 0/97 [00:00<?, ?it/s]"
     ]
    },
    {
     "name": "stdout",
     "output_type": "stream",
     "text": [
      "epoch - 9 eval_loss - 0.60 eval acc - 0.674 eval auc - 0.744\n"
     ]
    },
    {
     "name": "stderr",
     "output_type": "stream",
     "text": [
      "loss - 0.2891: 100%|██████████| 97/97 [00:36<00:00,  2.69it/s]\n",
      "  0%|          | 0/385 [00:00<?, ?it/s]"
     ]
    },
    {
     "name": "stdout",
     "output_type": "stream",
     "text": [
      "epoch - 10 train_loss - 0.25 acc - 0.686 auc - 0.752\n"
     ]
    },
    {
     "name": "stderr",
     "output_type": "stream",
     "text": [
      "100%|██████████| 385/385 [03:57<00:00,  1.62it/s]\n",
      "  0%|          | 0/97 [00:00<?, ?it/s]"
     ]
    },
    {
     "name": "stdout",
     "output_type": "stream",
     "text": [
      "epoch - 10 eval_loss - 0.60 eval acc - 0.673 eval auc - 0.744\n"
     ]
    },
    {
     "name": "stderr",
     "output_type": "stream",
     "text": [
      "loss - 0.2413: 100%|██████████| 97/97 [00:35<00:00,  2.75it/s]\n",
      "  0%|          | 0/385 [00:00<?, ?it/s]"
     ]
    },
    {
     "name": "stdout",
     "output_type": "stream",
     "text": [
      "epoch - 11 train_loss - 0.25 acc - 0.687 auc - 0.754\n"
     ]
    },
    {
     "name": "stderr",
     "output_type": "stream",
     "text": [
      "100%|██████████| 385/385 [03:55<00:00,  1.63it/s]\n",
      "  0%|          | 0/97 [00:00<?, ?it/s]"
     ]
    },
    {
     "name": "stdout",
     "output_type": "stream",
     "text": [
      "epoch - 11 eval_loss - 0.60 eval acc - 0.676 eval auc - 0.746\n"
     ]
    },
    {
     "name": "stderr",
     "output_type": "stream",
     "text": [
      "loss - 0.2708: 100%|██████████| 97/97 [00:36<00:00,  2.67it/s]\n",
      "  0%|          | 0/385 [00:00<?, ?it/s]"
     ]
    },
    {
     "name": "stdout",
     "output_type": "stream",
     "text": [
      "epoch - 12 train_loss - 0.25 acc - 0.686 auc - 0.753\n"
     ]
    },
    {
     "name": "stderr",
     "output_type": "stream",
     "text": [
      "100%|██████████| 385/385 [03:56<00:00,  1.63it/s]\n",
      "  0%|          | 0/97 [00:00<?, ?it/s]"
     ]
    },
    {
     "name": "stdout",
     "output_type": "stream",
     "text": [
      "epoch - 12 eval_loss - 0.60 eval acc - 0.677 eval auc - 0.746\n"
     ]
    },
    {
     "name": "stderr",
     "output_type": "stream",
     "text": [
      "loss - 0.2723: 100%|██████████| 97/97 [00:35<00:00,  2.71it/s]\n",
      "  0%|          | 0/385 [00:00<?, ?it/s]"
     ]
    },
    {
     "name": "stdout",
     "output_type": "stream",
     "text": [
      "epoch - 13 train_loss - 0.25 acc - 0.688 auc - 0.755\n"
     ]
    },
    {
     "name": "stderr",
     "output_type": "stream",
     "text": [
      "100%|██████████| 385/385 [03:56<00:00,  1.63it/s]\n",
      "  0%|          | 0/97 [00:00<?, ?it/s]"
     ]
    },
    {
     "name": "stdout",
     "output_type": "stream",
     "text": [
      "epoch - 13 eval_loss - 0.60 eval acc - 0.676 eval auc - 0.745\n"
     ]
    },
    {
     "name": "stderr",
     "output_type": "stream",
     "text": [
      "loss - 0.2666: 100%|██████████| 97/97 [00:35<00:00,  2.76it/s]\n",
      "  0%|          | 0/385 [00:00<?, ?it/s]"
     ]
    },
    {
     "name": "stdout",
     "output_type": "stream",
     "text": [
      "epoch - 14 train_loss - 0.25 acc - 0.687 auc - 0.755\n"
     ]
    },
    {
     "name": "stderr",
     "output_type": "stream",
     "text": [
      "100%|██████████| 385/385 [03:57<00:00,  1.62it/s]\n",
      "  0%|          | 0/97 [00:00<?, ?it/s]"
     ]
    },
    {
     "name": "stdout",
     "output_type": "stream",
     "text": [
      "epoch - 14 eval_loss - 0.60 eval acc - 0.672 eval auc - 0.745\n"
     ]
    },
    {
     "name": "stderr",
     "output_type": "stream",
     "text": [
      "loss - 0.2572: 100%|██████████| 97/97 [00:35<00:00,  2.71it/s]\n",
      "  0%|          | 0/385 [00:00<?, ?it/s]"
     ]
    },
    {
     "name": "stdout",
     "output_type": "stream",
     "text": [
      "epoch - 15 train_loss - 0.25 acc - 0.688 auc - 0.755\n"
     ]
    },
    {
     "name": "stderr",
     "output_type": "stream",
     "text": [
      "100%|██████████| 385/385 [03:57<00:00,  1.62it/s]\n",
      "  0%|          | 0/97 [00:00<?, ?it/s]"
     ]
    },
    {
     "name": "stdout",
     "output_type": "stream",
     "text": [
      "epoch - 15 eval_loss - 0.60 eval acc - 0.673 eval auc - 0.745\n"
     ]
    },
    {
     "name": "stderr",
     "output_type": "stream",
     "text": [
      "loss - 0.2572: 100%|██████████| 97/97 [00:34<00:00,  2.79it/s]\n",
      "  0%|          | 0/385 [00:00<?, ?it/s]"
     ]
    },
    {
     "name": "stdout",
     "output_type": "stream",
     "text": [
      "epoch - 16 train_loss - 0.25 acc - 0.688 auc - 0.755\n"
     ]
    },
    {
     "name": "stderr",
     "output_type": "stream",
     "text": [
      "100%|██████████| 385/385 [03:56<00:00,  1.62it/s]\n",
      "  0%|          | 0/97 [00:00<?, ?it/s]"
     ]
    },
    {
     "name": "stdout",
     "output_type": "stream",
     "text": [
      "epoch - 16 eval_loss - 0.60 eval acc - 0.672 eval auc - 0.746\n"
     ]
    },
    {
     "name": "stderr",
     "output_type": "stream",
     "text": [
      "loss - 0.2651: 100%|██████████| 97/97 [00:35<00:00,  2.73it/s]\n",
      "  0%|          | 0/385 [00:00<?, ?it/s]"
     ]
    },
    {
     "name": "stdout",
     "output_type": "stream",
     "text": [
      "epoch - 17 train_loss - 0.25 acc - 0.688 auc - 0.754\n"
     ]
    },
    {
     "name": "stderr",
     "output_type": "stream",
     "text": [
      "100%|██████████| 385/385 [03:56<00:00,  1.62it/s]\n",
      "  0%|          | 0/97 [00:00<?, ?it/s]"
     ]
    },
    {
     "name": "stdout",
     "output_type": "stream",
     "text": [
      "epoch - 17 eval_loss - 0.60 eval acc - 0.676 eval auc - 0.746\n"
     ]
    },
    {
     "name": "stderr",
     "output_type": "stream",
     "text": [
      "loss - 0.2474: 100%|██████████| 97/97 [00:35<00:00,  2.76it/s]\n",
      "  0%|          | 0/385 [00:00<?, ?it/s]"
     ]
    },
    {
     "name": "stdout",
     "output_type": "stream",
     "text": [
      "epoch - 18 train_loss - 0.25 acc - 0.688 auc - 0.756\n"
     ]
    },
    {
     "name": "stderr",
     "output_type": "stream",
     "text": [
      "100%|██████████| 385/385 [03:56<00:00,  1.63it/s]\n",
      "  0%|          | 0/97 [00:00<?, ?it/s]"
     ]
    },
    {
     "name": "stdout",
     "output_type": "stream",
     "text": [
      "epoch - 18 eval_loss - 0.60 eval acc - 0.677 eval auc - 0.745\n"
     ]
    },
    {
     "name": "stderr",
     "output_type": "stream",
     "text": [
      "loss - 0.2431: 100%|██████████| 97/97 [00:36<00:00,  2.68it/s]\n",
      "  0%|          | 0/385 [00:00<?, ?it/s]"
     ]
    },
    {
     "name": "stdout",
     "output_type": "stream",
     "text": [
      "epoch - 19 train_loss - 0.25 acc - 0.689 auc - 0.756\n"
     ]
    },
    {
     "name": "stderr",
     "output_type": "stream",
     "text": [
      "100%|██████████| 385/385 [03:56<00:00,  1.63it/s]\n",
      "  0%|          | 0/97 [00:00<?, ?it/s]"
     ]
    },
    {
     "name": "stdout",
     "output_type": "stream",
     "text": [
      "epoch - 19 eval_loss - 0.60 eval acc - 0.675 eval auc - 0.746\n"
     ]
    },
    {
     "name": "stderr",
     "output_type": "stream",
     "text": [
      "loss - 0.2377: 100%|██████████| 97/97 [00:35<00:00,  2.77it/s]\n",
      "  0%|          | 0/385 [00:00<?, ?it/s]"
     ]
    },
    {
     "name": "stdout",
     "output_type": "stream",
     "text": [
      "epoch - 20 train_loss - 0.25 acc - 0.689 auc - 0.756\n"
     ]
    },
    {
     "name": "stderr",
     "output_type": "stream",
     "text": [
      "100%|██████████| 385/385 [03:56<00:00,  1.63it/s]\n",
      "  0%|          | 0/97 [00:00<?, ?it/s]"
     ]
    },
    {
     "name": "stdout",
     "output_type": "stream",
     "text": [
      "epoch - 20 eval_loss - 0.60 eval acc - 0.673 eval auc - 0.745\n"
     ]
    },
    {
     "name": "stderr",
     "output_type": "stream",
     "text": [
      "loss - 0.2679: 100%|██████████| 97/97 [00:35<00:00,  2.70it/s]\n",
      "  0%|          | 0/385 [00:00<?, ?it/s]"
     ]
    },
    {
     "name": "stdout",
     "output_type": "stream",
     "text": [
      "epoch - 21 train_loss - 0.25 acc - 0.690 auc - 0.757\n"
     ]
    },
    {
     "name": "stderr",
     "output_type": "stream",
     "text": [
      "100%|██████████| 385/385 [03:57<00:00,  1.62it/s]\n",
      "  0%|          | 0/97 [00:00<?, ?it/s]"
     ]
    },
    {
     "name": "stdout",
     "output_type": "stream",
     "text": [
      "epoch - 21 eval_loss - 0.60 eval acc - 0.676 eval auc - 0.746\n"
     ]
    },
    {
     "name": "stderr",
     "output_type": "stream",
     "text": [
      "loss - 0.2364: 100%|██████████| 97/97 [00:36<00:00,  2.68it/s]\n",
      "  0%|          | 0/385 [00:00<?, ?it/s]"
     ]
    },
    {
     "name": "stdout",
     "output_type": "stream",
     "text": [
      "epoch - 22 train_loss - 0.25 acc - 0.689 auc - 0.757\n"
     ]
    },
    {
     "name": "stderr",
     "output_type": "stream",
     "text": [
      "100%|██████████| 385/385 [03:56<00:00,  1.62it/s]\n",
      "  0%|          | 0/97 [00:00<?, ?it/s]"
     ]
    },
    {
     "name": "stdout",
     "output_type": "stream",
     "text": [
      "epoch - 22 eval_loss - 0.60 eval acc - 0.675 eval auc - 0.746\n"
     ]
    },
    {
     "name": "stderr",
     "output_type": "stream",
     "text": [
      "loss - 0.2501: 100%|██████████| 97/97 [00:35<00:00,  2.72it/s]\n",
      "  0%|          | 0/385 [00:00<?, ?it/s]"
     ]
    },
    {
     "name": "stdout",
     "output_type": "stream",
     "text": [
      "epoch - 23 train_loss - 0.25 acc - 0.689 auc - 0.757\n"
     ]
    },
    {
     "name": "stderr",
     "output_type": "stream",
     "text": [
      "100%|██████████| 385/385 [03:58<00:00,  1.61it/s]\n",
      "  0%|          | 0/97 [00:00<?, ?it/s]"
     ]
    },
    {
     "name": "stdout",
     "output_type": "stream",
     "text": [
      "epoch - 23 eval_loss - 0.60 eval acc - 0.678 eval auc - 0.746\n"
     ]
    },
    {
     "name": "stderr",
     "output_type": "stream",
     "text": [
      "loss - 0.2368: 100%|██████████| 97/97 [00:36<00:00,  2.67it/s]\n",
      "  0%|          | 0/385 [00:00<?, ?it/s]"
     ]
    },
    {
     "name": "stdout",
     "output_type": "stream",
     "text": [
      "epoch - 24 train_loss - 0.25 acc - 0.689 auc - 0.757\n"
     ]
    },
    {
     "name": "stderr",
     "output_type": "stream",
     "text": [
      "100%|██████████| 385/385 [03:56<00:00,  1.63it/s]\n"
     ]
    },
    {
     "name": "stdout",
     "output_type": "stream",
     "text": [
      "epoch - 24 eval_loss - 0.60 eval acc - 0.679 eval auc - 0.745\n"
     ]
    }
   ],
   "source": [
    "epochs = 25\n",
    "best_auc = 0.0\n",
    "for epoch in range(epochs):\n",
    "    loss, acc, auc = train_epoch(model, dataloader, optimizer, criterion, device)\n",
    "    print(\"epoch - {} train_loss - {:.2f} acc - {:.3f} auc - {:.3f}\".format(epoch, loss, acc, auc))\n",
    "    \n",
    "    eval_loss, eval_acc, eval_auc = evaluate_epoch(model, test_dataloader, criterion, device)\n",
    "    print(\"epoch - {} eval_loss - {:.2f} eval acc - {:.3f} eval auc - {:.3f}\".format(epoch, eval_loss, eval_acc, eval_auc))\n",
    "    if best_auc < eval_auc:\n",
    "        best_auc = eval_auc\n",
    "        torch.save(model.state_dict(),'best_model.pt')"
   ]
  },
  {
   "cell_type": "code",
   "execution_count": null,
   "metadata": {
    "papermill": {
     "duration": 4.076499,
     "end_time": "2020-12-13T15:30:43.172068",
     "exception": false,
     "start_time": "2020-12-13T15:30:39.095569",
     "status": "completed"
    },
    "tags": []
   },
   "outputs": [],
   "source": []
  },
  {
   "cell_type": "code",
   "execution_count": 46,
   "metadata": {
    "execution": {
     "iopub.execute_input": "2020-12-13T15:30:52.080153Z",
     "iopub.status.busy": "2020-12-13T15:30:52.079211Z",
     "iopub.status.idle": "2020-12-13T15:30:52.083816Z",
     "shell.execute_reply": "2020-12-13T15:30:52.083394Z"
    },
    "papermill": {
     "duration": 4.609533,
     "end_time": "2020-12-13T15:30:52.083913",
     "exception": false,
     "start_time": "2020-12-13T15:30:47.474380",
     "status": "completed"
    },
    "tags": []
   },
   "outputs": [
    {
     "data": {
      "text/plain": [
       "20"
      ]
     },
     "execution_count": 46,
     "metadata": {},
     "output_type": "execute_result"
    }
   ],
   "source": [
    "import gc\n",
    "del dataset\n",
    "gc.collect()"
   ]
  },
  {
   "cell_type": "markdown",
   "metadata": {
    "papermill": {
     "duration": 4.259819,
     "end_time": "2020-12-13T15:31:00.354444",
     "exception": false,
     "start_time": "2020-12-13T15:30:56.094625",
     "status": "completed"
    },
    "tags": []
   },
   "source": [
    "## Test"
   ]
  },
  {
   "cell_type": "code",
   "execution_count": 47,
   "metadata": {
    "execution": {
     "iopub.execute_input": "2020-12-13T15:31:08.350752Z",
     "iopub.status.busy": "2020-12-13T15:31:08.347473Z",
     "iopub.status.idle": "2020-12-13T15:31:08.354323Z",
     "shell.execute_reply": "2020-12-13T15:31:08.353865Z"
    },
    "papermill": {
     "duration": 4.035867,
     "end_time": "2020-12-13T15:31:08.354421",
     "exception": false,
     "start_time": "2020-12-13T15:31:04.318554",
     "status": "completed"
    },
    "tags": []
   },
   "outputs": [],
   "source": [
    "class TestDataset(Dataset):\n",
    "    def __init__(self, samples, test_df, n_skill, n_ela_skill, max_seq=MAX_SEQ): #HDKIM 100\n",
    "        super(TestDataset, self).__init__()\n",
    "        self.samples = samples\n",
    "        self.user_ids = [x for x in test_df[\"user_id\"].unique()]\n",
    "        self.test_df = test_df\n",
    "        self.n_ela_skill = n_ela_skill\n",
    "        self.n_skill = n_skill\n",
    "        self.max_seq = max_seq\n",
    "\n",
    "    def __len__(self):\n",
    "        return self.test_df.shape[0]\n",
    "\n",
    "    def __getitem__(self, index):\n",
    "        test_info = self.test_df.iloc[index]\n",
    "\n",
    "        user_id = test_info[\"user_id\"]\n",
    "        target_id = test_info[\"content_id\"]\n",
    "        ela_target_id = test_info[\"prior_question_elapsed_time\"]\n",
    "\n",
    "        q = np.zeros(self.max_seq, dtype=int)\n",
    "        qa = np.zeros(self.max_seq, dtype=int)\n",
    "        ela = np.zeros(self.max_seq, dtype=int)\n",
    "\n",
    "        if user_id in self.samples.index:\n",
    "#             print(\"self.samples[user_id] is:{}\\n length is:{}\".format(\n",
    "#                 self.samples[user_id], len(self.samples[user_id])))\n",
    "            q_, qa_, ela_ = self.samples[user_id]\n",
    "            seq_len = len(q_)\n",
    "\n",
    "            if seq_len >= self.max_seq:\n",
    "                q = q_[-self.max_seq:]\n",
    "                qa = qa_[-self.max_seq:]\n",
    "                ela = ela_[-self.max_seq:]\n",
    "            else:\n",
    "                q[-seq_len:] = q_\n",
    "                qa[-seq_len:] = qa_          \n",
    "                ela[-seq_len:] = ela_\n",
    "                \n",
    "        x = np.zeros(self.max_seq-1, dtype=int)\n",
    "        x = q[1:].copy()\n",
    "        x += (qa[1:] == 1) * self.n_skill\n",
    "        \n",
    "        questions = np.append(q[2:], [target_id])\n",
    "        \n",
    "        ela_x = np.zeros(self.max_seq-1, dtype=int)\n",
    "        ela_x = ela[1:].copy()\n",
    "#         ela_x += (qa[1:] == 1) * self.n_ela_skill\n",
    "        \n",
    "        ela_target = np.append(ela[2:],[ela_target_id])        \n",
    "        \n",
    "#         return x, questions,ela_x, ela_target\n",
    "        return torch.LongTensor(x), torch.LongTensor(questions),\\\n",
    "            torch.LongTensor(ela_x), torch.LongTensor(ela_target)"
   ]
  },
  {
   "cell_type": "code",
   "execution_count": 48,
   "metadata": {
    "execution": {
     "iopub.execute_input": "2020-12-13T15:31:17.412054Z",
     "iopub.status.busy": "2020-12-13T15:31:17.411507Z",
     "iopub.status.idle": "2020-12-13T15:31:17.438153Z",
     "shell.execute_reply": "2020-12-13T15:31:17.437670Z"
    },
    "papermill": {
     "duration": 4.349922,
     "end_time": "2020-12-13T15:31:17.438249",
     "exception": false,
     "start_time": "2020-12-13T15:31:13.088327",
     "status": "completed"
    },
    "tags": []
   },
   "outputs": [],
   "source": [
    "import riiideducation\n",
    "\n",
    "env = riiideducation.make_env()\n",
    "iter_test = env.iter_test()"
   ]
  },
  {
   "cell_type": "code",
   "execution_count": 49,
   "metadata": {
    "execution": {
     "iopub.execute_input": "2020-12-13T15:31:26.550473Z",
     "iopub.status.busy": "2020-12-13T15:31:26.549767Z",
     "iopub.status.idle": "2020-12-13T15:31:26.636503Z",
     "shell.execute_reply": "2020-12-13T15:31:26.636936Z"
    },
    "papermill": {
     "duration": 4.186142,
     "end_time": "2020-12-13T15:31:26.637090",
     "exception": false,
     "start_time": "2020-12-13T15:31:22.450948",
     "status": "completed"
    },
    "tags": []
   },
   "outputs": [
    {
     "data": {
      "text/plain": [
       "SAKTModel(\n",
       "  (embedding): Embedding(27047, 128)\n",
       "  (pos_embedding): Embedding(100, 128)\n",
       "  (e_embedding): Embedding(13524, 128)\n",
       "  (ela_ans_embedding): Embedding(603, 128)\n",
       "  (ela_embedding): Embedding(302, 128)\n",
       "  (multi_att): MultiheadAttention(\n",
       "    (out_proj): _LinearWithBias(in_features=128, out_features=128, bias=True)\n",
       "  )\n",
       "  (dropout): Dropout(p=0.2, inplace=False)\n",
       "  (layer_normal): LayerNorm((128,), eps=1e-05, elementwise_affine=True)\n",
       "  (ffn): FFN(\n",
       "    (lr1): Linear(in_features=128, out_features=128, bias=True)\n",
       "    (relu): ReLU()\n",
       "    (lr2): Linear(in_features=128, out_features=128, bias=True)\n",
       "    (dropout): Dropout(p=0.2, inplace=False)\n",
       "  )\n",
       "  (pred): Linear(in_features=128, out_features=1, bias=True)\n",
       ")"
      ]
     },
     "execution_count": 49,
     "metadata": {},
     "output_type": "execute_result"
    }
   ],
   "source": [
    "model = SAKTModel(n_skill,n_ela_skill, embed_dim=128)\n",
    "model.load_state_dict(torch.load('best_model.pt',map_location=device))\n",
    "model.to(device)"
   ]
  },
  {
   "cell_type": "code",
   "execution_count": 50,
   "metadata": {
    "execution": {
     "iopub.execute_input": "2020-12-13T15:31:34.985604Z",
     "iopub.status.busy": "2020-12-13T15:31:34.985017Z",
     "iopub.status.idle": "2020-12-13T15:31:35.610747Z",
     "shell.execute_reply": "2020-12-13T15:31:35.609929Z"
    },
    "papermill": {
     "duration": 4.948961,
     "end_time": "2020-12-13T15:31:35.610848",
     "exception": false,
     "start_time": "2020-12-13T15:31:30.661887",
     "status": "completed"
    },
    "tags": []
   },
   "outputs": [
    {
     "name": "stderr",
     "output_type": "stream",
     "text": [
      "0it [00:00, ?it/s]\n",
      "100%|██████████| 1/1 [00:00<00:00, 102.26it/s]\n",
      "\n",
      "100%|██████████| 1/1 [00:00<00:00, 87.61it/s]\n",
      "2it [00:00, 10.68it/s]\n",
      "100%|██████████| 1/1 [00:00<00:00, 83.58it/s]\n",
      "\n",
      "100%|██████████| 1/1 [00:00<00:00, 70.12it/s]\n"
     ]
    },
    {
     "name": "stdout",
     "output_type": "stream",
     "text": [
      "26.4\n",
      "26.4\n",
      "26.4\n"
     ]
    },
    {
     "name": "stderr",
     "output_type": "stream",
     "text": [
      "4it [00:00,  6.46it/s]\n"
     ]
    }
   ],
   "source": [
    "import psutil\n",
    "model.eval()\n",
    "\n",
    "#HDKIM\n",
    "prev_test_df = None\n",
    "#HDKIMHDKIM\n",
    "\n",
    "for (test_df, sample_prediction_df) in tqdm(iter_test):\n",
    "    #HDKIM\n",
    "    if (prev_test_df is not None) & (psutil.virtual_memory().percent<90):\n",
    "        print(psutil.virtual_memory().percent)\n",
    "        prev_test_df['answered_correctly'] = eval(test_df['prior_group_answers_correct'].iloc[0])\n",
    "        prev_test_df = prev_test_df[prev_test_df.content_type_id == False]\n",
    "        prev_group = prev_test_df[['user_id', 'content_id', 'answered_correctly','prior_question_elapsed_time']].groupby('user_id').apply(lambda r: (\n",
    "            r['content_id'].values,\n",
    "            r['answered_correctly'].values,\n",
    "            r['prior_question_elapsed_time'].values))\n",
    "        for prev_user_id in prev_group.index:\n",
    "            prev_group_content = prev_group[prev_user_id][0]\n",
    "            prev_group_ac = prev_group[prev_user_id][1]\n",
    "            prev_group_ela = prev_group[prev_user_id][2]\n",
    "            if prev_user_id in group.index:\n",
    "                group[prev_user_id] = (np.append(group[prev_user_id][0],prev_group_content), \n",
    "                                       np.append(group[prev_user_id][1],prev_group_ac),\n",
    "                                       np.append(group[prev_user_id][2],prev_group_ela))\n",
    " \n",
    "            else:\n",
    "                group[prev_user_id] = (prev_group_content,prev_group_ac, prev_group_ela)\n",
    "            if len(group[prev_user_id][0])>MAX_SEQ:\n",
    "                new_group_content = group[prev_user_id][0][-MAX_SEQ:]\n",
    "                new_group_ac = group[prev_user_id][1][-MAX_SEQ:]\n",
    "                new_group_ela = group[prev_user_id][2][-MAX_SEQ:]\n",
    "                group[prev_user_id] = (new_group_content,new_group_ac,new_group_ela)\n",
    "\n",
    "    test_df['prior_question_elapsed_time'].fillna(elapsed_mean, inplace=True)\n",
    "    test_df['prior_question_elapsed_time'] = test_df['prior_question_elapsed_time'].apply(lambda x: get_elapsed_time(x))\n",
    "             \n",
    "    prev_test_df = test_df.copy()\n",
    " \n",
    "    #HDKIMHDKIM\n",
    "    \n",
    "    test_df = test_df[test_df.content_type_id == False]\n",
    "   \n",
    "    test_dataset = TestDataset(group, test_df, n_skill, n_ela_skill)\n",
    "    test_dataloader = DataLoader(test_dataset, batch_size=51200, \n",
    "                                 shuffle=False)\n",
    "    \n",
    "    outs = []\n",
    "\n",
    "    for item in tqdm(test_dataloader):\n",
    "        x = item[0].to(device).long()\n",
    "        target_id = item[1].to(device).long()\n",
    "        ela_x = item[2].to(device).long()\n",
    "        ela_target = item[3].to(device).long()\n",
    "\n",
    "        with torch.no_grad():\n",
    "            output, att_weight = model(x, target_id,ela_x, ela_target)\n",
    "        \n",
    "        \n",
    "        output = torch.sigmoid(output)\n",
    "        output = output[:, -1]\n",
    "\n",
    "        # pred = (output >= 0.5).long()\n",
    "        # loss = criterion(output, label)\n",
    "\n",
    "        # val_loss.append(loss.item())\n",
    "        # num_corrects += (pred == label).sum().item()\n",
    "        # num_total += len(label)\n",
    "\n",
    "        # labels.extend(label.squeeze(-1).data.cpu().numpy())\n",
    "        outs.extend(output.view(-1).data.cpu().numpy())\n",
    "        \n",
    "    test_df['answered_correctly'] =  outs\n",
    "    \n",
    "    env.predict(test_df.loc[test_df['content_type_id'] == 0, ['row_id', 'answered_correctly']])"
   ]
  },
  {
   "cell_type": "code",
   "execution_count": null,
   "metadata": {
    "papermill": {
     "duration": 4.288815,
     "end_time": "2020-12-13T15:31:43.931802",
     "exception": false,
     "start_time": "2020-12-13T15:31:39.642987",
     "status": "completed"
    },
    "tags": []
   },
   "outputs": [],
   "source": []
  },
  {
   "cell_type": "code",
   "execution_count": null,
   "metadata": {
    "papermill": {
     "duration": 4.480192,
     "end_time": "2020-12-13T15:31:52.431402",
     "exception": false,
     "start_time": "2020-12-13T15:31:47.951210",
     "status": "completed"
    },
    "tags": []
   },
   "outputs": [],
   "source": []
  }
 ],
 "metadata": {
  "kernelspec": {
   "display_name": "Python 3",
   "language": "python",
   "name": "python3"
  },
  "language_info": {
   "codemirror_mode": {
    "name": "ipython",
    "version": 3
   },
   "file_extension": ".py",
   "mimetype": "text/x-python",
   "name": "python",
   "nbconvert_exporter": "python",
   "pygments_lexer": "ipython3",
   "version": "3.7.8"
  },
  "papermill": {
   "duration": 7054.774325,
   "end_time": "2020-12-13T15:31:57.664623",
   "environment_variables": {},
   "exception": null,
   "input_path": "__notebook__.ipynb",
   "output_path": "__notebook__.ipynb",
   "parameters": {},
   "start_time": "2020-12-13T13:34:22.890298",
   "version": "2.1.0"
  }
 },
 "nbformat": 4,
 "nbformat_minor": 4
}
