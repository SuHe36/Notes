{
 "cells": [
  {
   "cell_type": "code",
   "execution_count": 1,
   "metadata": {},
   "outputs": [],
   "source": [
    "import torch\n",
    "target = torch.tensor([2,3])"
   ]
  },
  {
   "cell_type": "code",
   "execution_count": 2,
   "metadata": {},
   "outputs": [
    {
     "name": "stdout",
     "output_type": "stream",
     "text": [
      "(-1,1): tensor([[2],\n",
      "        [3]])\n",
      "(-1): tensor([2, 3])\n"
     ]
    }
   ],
   "source": [
    "# 实验torch.view(-1,1)的作用，生成二维数据，第二维的维度是1，第一维的维度自动调整\n",
    "print(\"(-1,1):\",target.view(-1,1))\n",
    "\n",
    "# 实验torch.view(-1)的作用，生成一维数据，维度自动调整\n",
    "print(\"(-1):\",target.view(-1))\n"
   ]
  },
  {
   "cell_type": "code",
   "execution_count": null,
   "metadata": {},
   "outputs": [],
   "source": []
  }
 ],
 "metadata": {
  "kernelspec": {
   "display_name": "Python 3",
   "language": "python",
   "name": "python3"
  },
  "language_info": {
   "codemirror_mode": {
    "name": "ipython",
    "version": 3
   },
   "file_extension": ".py",
   "mimetype": "text/x-python",
   "name": "python",
   "nbconvert_exporter": "python",
   "pygments_lexer": "ipython3",
   "version": "3.7.8"
  }
 },
 "nbformat": 4,
 "nbformat_minor": 4
}
