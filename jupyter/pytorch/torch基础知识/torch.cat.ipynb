{
 "cells": [
  {
   "cell_type": "raw",
   "metadata": {},
   "source": [
    "torch.cat按照字面理解就是将两个tensor拼接在一起，cat是concatenate的意思，即拼接\n",
    "\n",
    "下面让我们看下具体的例子：\n"
   ]
  },
  {
   "cell_type": "code",
   "execution_count": 6,
   "metadata": {},
   "outputs": [
    {
     "name": "stdout",
     "output_type": "stream",
     "text": [
      "A: tensor([[1., 1., 1.],\n",
      "        [1., 1., 1.]])\n",
      "B: tensor([[2., 2., 2.],\n",
      "        [2., 2., 2.],\n",
      "        [2., 2., 2.],\n",
      "        [2., 2., 2.]])\n",
      "C: tensor([[1., 1., 1.],\n",
      "        [1., 1., 1.],\n",
      "        [2., 2., 2.],\n",
      "        [2., 2., 2.],\n",
      "        [2., 2., 2.],\n",
      "        [2., 2., 2.]])\n",
      "D: tensor([[2., 2., 2., 2.],\n",
      "        [2., 2., 2., 2.]])\n",
      "E: tensor([[1., 1., 1., 2., 2., 2., 2.],\n",
      "        [1., 1., 1., 2., 2., 2., 2.]])\n"
     ]
    }
   ],
   "source": [
    "import torch\n",
    "\n",
    "\n",
    "A = torch.ones(2,3)\n",
    "print(\"A:\",A)\n",
    "\n",
    "B = 2*torch.ones(4,3)\n",
    "print(\"B:\",B)\n",
    "\n",
    "C = torch.cat((A,B),dim=0)#按照维度0进行拼接\n",
    "print(\"C:\",C)\n",
    "\n",
    "D = 2*torch.ones(2,4)\n",
    "print(\"D:\",D)\n",
    "\n",
    "E = torch.cat((A,D), dim=1)#按照维度1进行拼接\n",
    "print(\"E:\",E)"
   ]
  },
  {
   "cell_type": "code",
   "execution_count": null,
   "metadata": {},
   "outputs": [],
   "source": []
  }
 ],
 "metadata": {
  "kernelspec": {
   "display_name": "Python 3",
   "language": "python",
   "name": "python3"
  },
  "language_info": {
   "codemirror_mode": {
    "name": "ipython",
    "version": 3
   },
   "file_extension": ".py",
   "mimetype": "text/x-python",
   "name": "python",
   "nbconvert_exporter": "python",
   "pygments_lexer": "ipython3",
   "version": "3.7.3"
  }
 },
 "nbformat": 4,
 "nbformat_minor": 2
}
