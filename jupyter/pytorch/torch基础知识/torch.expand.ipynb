{
 "cells": [
  {
   "cell_type": "raw",
   "metadata": {},
   "source": [
    "torch.expand：扩展某个size为1的维度。如(2,2,1)扩展为(2,2,3)"
   ]
  },
  {
   "cell_type": "code",
   "execution_count": 3,
   "metadata": {},
   "outputs": [
    {
     "name": "stdout",
     "output_type": "stream",
     "text": [
      "x: tensor([[[-0.6337],\n",
      "         [ 0.2143]],\n",
      "\n",
      "        [[-0.9797],\n",
      "         [-0.3129]]])\n",
      "y: tensor([[[-0.6337, -0.6337, -0.6337],\n",
      "         [ 0.2143,  0.2143,  0.2143]],\n",
      "\n",
      "        [[-0.9797, -0.9797, -0.9797],\n",
      "         [-0.3129, -0.3129, -0.3129]]])\n"
     ]
    }
   ],
   "source": [
    "import torch\n",
    "x = torch.randn(2,2,1)\n",
    "print(\"x:\",x)\n",
    "\n",
    "y = x.expand(2,2,3)\n",
    "print(\"y:\",y)"
   ]
  },
  {
   "cell_type": "code",
   "execution_count": 7,
   "metadata": {},
   "outputs": [
    {
     "name": "stdout",
     "output_type": "stream",
     "text": [
      "x: tensor([[1.],\n",
      "        [2.],\n",
      "        [3.]]) \t x.size: torch.Size([3, 1])\n",
      "y: tensor([[1., 1., 1., 1.],\n",
      "        [2., 2., 2., 2.],\n",
      "        [3., 3., 3., 3.]])\n"
     ]
    }
   ],
   "source": [
    "x = torch.Tensor([[1],[2],[3]])\n",
    "print(\"x:\",x,\"\\t\",\"x.size:\",x.size())\n",
    "\n",
    "y = x.expand(3,4)\n",
    "print(\"y:\",y)\n"
   ]
  },
  {
   "cell_type": "code",
   "execution_count": 14,
   "metadata": {},
   "outputs": [
    {
     "name": "stdout",
     "output_type": "stream",
     "text": [
      "a.size is: torch.Size([3, 4])\n",
      "a.size(0) is: 3\n",
      "b.size is: torch.Size([4, 3, 4])\n"
     ]
    }
   ],
   "source": [
    "\n",
    "a = torch.ones(3,4)\n",
    "print(\"a.size is:\", a.size())\n",
    "print(\"a.size(0) is:\", a.size(0)) \n",
    "\n",
    "b = a.expand(4,-1,-1)\n",
    "print(\"b.size is:\", b.size())\n"
   ]
  },
  {
   "cell_type": "code",
   "execution_count": 19,
   "metadata": {},
   "outputs": [
    {
     "name": "stdout",
     "output_type": "stream",
     "text": [
      "a.size is: torch.Size([2, 3])\n",
      "a.t().size is: torch.Size([3, 2])\n"
     ]
    }
   ],
   "source": [
    "\n",
    "a = torch.ones(2,3)\n",
    "print(\"a.size is:\",a.size())\n",
    "\n",
    "b = a.t()# tensor.t()表示转置矩阵，只能用于二维的tensor\n",
    "print(\"a.t().size is:\", b.size())"
   ]
  },
  {
   "cell_type": "code",
   "execution_count": 23,
   "metadata": {},
   "outputs": [
    {
     "name": "stdout",
     "output_type": "stream",
     "text": [
      "a size is: torch.Size([2, 3])\n",
      "b size is: torch.Size([1, 2, 3])\n"
     ]
    }
   ],
   "source": [
    "\n",
    "a = torch.Tensor([[1,2,3],[4,5,6]])\n",
    "print(\"a size is:\", a.size())\n",
    "b = a.unsqueeze(0)\n",
    "print(\"b size is:\",b.size())\n"
   ]
  },
  {
   "cell_type": "code",
   "execution_count": 27,
   "metadata": {},
   "outputs": [
    {
     "name": "stdout",
     "output_type": "stream",
     "text": [
      "b is: tensor([[[0.5000, 0.5000],\n",
      "         [0.5000, 0.5000]],\n",
      "\n",
      "        [[0.5000, 0.5000],\n",
      "         [0.5000, 0.5000]]])\n"
     ]
    }
   ],
   "source": [
    "import torch.nn.functional as F\n",
    "import torch\n",
    "\n",
    "#a = torch.Tensor([[1,1,1,1],[1,1,1,1]])\n",
    "a = torch.ones(2,2,2)\n",
    "\n",
    "b = F.softmax(a, dim=0)\n",
    "print(\"b is:\",b)\n",
    "\n",
    "\n",
    "\n",
    "\n"
   ]
  },
  {
   "cell_type": "code",
   "execution_count": null,
   "metadata": {},
   "outputs": [],
   "source": []
  }
 ],
 "metadata": {
  "kernelspec": {
   "display_name": "Python 3",
   "language": "python",
   "name": "python3"
  },
  "language_info": {
   "codemirror_mode": {
    "name": "ipython",
    "version": 3
   },
   "file_extension": ".py",
   "mimetype": "text/x-python",
   "name": "python",
   "nbconvert_exporter": "python",
   "pygments_lexer": "ipython3",
   "version": "3.7.3"
  }
 },
 "nbformat": 4,
 "nbformat_minor": 2
}
