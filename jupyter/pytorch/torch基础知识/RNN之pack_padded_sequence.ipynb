{
 "cells": [
  {
   "cell_type": "code",
   "execution_count": 8,
   "metadata": {},
   "outputs": [
    {
     "name": "stdout",
     "output_type": "stream",
     "text": [
      "packed: PackedSequence(data=tensor([[1.],\n",
      "        [1.],\n",
      "        [2.],\n",
      "        [3.]]), batch_sizes=tensor([2, 1, 1]))\n",
      "h0: tensor([[[ 0.0505,  0.2483],\n",
      "         [-1.5459,  0.4363]]])\n",
      "out: PackedSequence(data=tensor([[ 0.1088, -0.6947],\n",
      "        [ 0.8469, -0.2609],\n",
      "        [-0.6818, -0.3019],\n",
      "        [-0.3182,  0.2552]], grad_fn=<CatBackward>), batch_sizes=tensor([2, 1, 1]))\n",
      "unpacked: (tensor([[[ 0.1088, -0.6947],\n",
      "         [-0.6818, -0.3019],\n",
      "         [-0.3182,  0.2552]],\n",
      "\n",
      "        [[ 0.8469, -0.2609],\n",
      "         [ 0.0000,  0.0000],\n",
      "         [ 0.0000,  0.0000]]], grad_fn=<TransposeBackward0>), tensor([3, 1]))\n"
     ]
    }
   ],
   "source": [
    "import torch\n",
    "import torch.nn as nn\n",
    "from torch.nn import utils as nn_utils\n",
    "\n",
    "batch_size = 2\n",
    "max_length = 3\n",
    "hidden_size = 2\n",
    "n_layers = 1\n",
    "\n",
    "tensor_in = torch.Tensor([[1,2,3],[1,0,0]]).resize_(2,3,1)\n",
    "seq_length = [3,1]\n",
    "\n",
    "#pack it\n",
    "pack = nn_utils.rnn.pack_padded_sequence(tensor_in, seq_length, batch_first=True)\n",
    "print(\"packed:\", pack)#把默认的填充位0去掉了\n",
    "\n",
    "#initialize\n",
    "rnn = nn.RNN(1, hidden_size, n_layers, batch_first=True)\n",
    "h0 = torch.randn(n_layers, batch_size, hidden_size)\n",
    "print(\"h0:\", h0)\n",
    "\n",
    "#forward\n",
    "out,_ = rnn(pack, h0)\n",
    "print(\"out:\",out)\n",
    "\n",
    "#unpack\n",
    "unpacked = nn_utils.rnn.pad_packed_sequence(out,batch_first=True)\n",
    "print(\"unpacked:\",unpacked)"
   ]
  },
  {
   "cell_type": "markdown",
   "metadata": {},
   "source": [
    "比较好的一个资料：\n",
    "\n",
    "https://www.cnblogs.com/sbj123456789/p/9834018.html"
   ]
  },
  {
   "cell_type": "code",
   "execution_count": null,
   "metadata": {},
   "outputs": [],
   "source": []
  }
 ],
 "metadata": {
  "kernelspec": {
   "display_name": "Python 3",
   "language": "python",
   "name": "python3"
  },
  "language_info": {
   "codemirror_mode": {
    "name": "ipython",
    "version": 3
   },
   "file_extension": ".py",
   "mimetype": "text/x-python",
   "name": "python",
   "nbconvert_exporter": "python",
   "pygments_lexer": "ipython3",
   "version": "3.7.8"
  }
 },
 "nbformat": 4,
 "nbformat_minor": 2
}
