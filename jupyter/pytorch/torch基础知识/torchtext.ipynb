{
 "cells": [
  {
   "cell_type": "raw",
   "metadata": {},
   "source": [
    "Torchtex  \n",
    "    torchtext是一个非常强有力的库，它可以帮助我们解决文本的预处理问题，torchtext对text的预处理包括以下几个：  \n",
    "        --File Loading：加载不同文件格式的corpus  \n",
    "        --Tokenization：将句子分解为词列表  \n",
    "        --Vocab：构建当前corpus的词汇表  \n",
    "        --Numericalize/Indexify：将词映射成index  \n",
    "        --Word Vector：词向量  \n",
    "        --Batching：对于训练数据生成batch  \n",
    "        --Train/dev/Test：将数据划分为训练集/验证集/测试集    \n",
    "\n",
    "torchtext.data实例定义了一个名为Field的类，它帮助我们定义如何读取和标记数据，下面是一个示例，使用IMDB数据集。\n",
    "        "
   ]
  },
  {
   "cell_type": "code",
   "execution_count": 2,
   "metadata": {},
   "outputs": [
    {
     "data": {
      "text/plain": [
       "'\\n在上面的代码中，我们定义了两个Field对象，一个用于实际文本，另一个用于标签数据。\\n对于实际文本，我们希望torchtext将所有文本小写，并将其修剪为最大长度为20.\\n'"
      ]
     },
     "execution_count": 2,
     "metadata": {},
     "output_type": "execute_result"
    }
   ],
   "source": [
    "\"torchtext.data定义一个名为Field的类，它帮助我们定义如何读取和标记数据。\"\n",
    "import torch\n",
    "import torchtext\n",
    "from torchtext import data\n",
    "\n",
    "text = data.Field(lower=True, batch_first=True, fix_length=20)\n",
    "label = data.Field(sequential=False)\n",
    "\"\"\"\n",
    "在上面的代码中，我们定义了两个Field对象，一个用于实际文本，另一个用于标签数据。\n",
    "对于实际文本，我们希望torchtext将所有文本小写，并将其修剪为最大长度为20.\n",
    "\"\"\""
   ]
  },
  {
   "cell_type": "code",
   "execution_count": 3,
   "metadata": {},
   "outputs": [
    {
     "name": "stdout",
     "output_type": "stream",
     "text": [
      "downloading aclImdb_v1.tar.gz\n"
     ]
    },
    {
     "name": "stderr",
     "output_type": "stream",
     "text": [
      "aclImdb_v1.tar.gz: 100%|██████████| 84.1M/84.1M [1:37:20<00:00, 21.3kB/s]  \n"
     ]
    }
   ],
   "source": [
    "\"\"\"\n",
    "torchtext.datasets\n",
    "    提供了使用不同数据集的包装器，如IMDB、TREC(问题分类)，语言建模和一些其他的数据集。\n",
    "    我们将使用torch.datasets下载IMDB数据集并将它拆分为训练和测试数据集。\n",
    "\n",
    "\"\"\"\n",
    "from torchtext import datasets\n",
    "train, test = datasets.IMDB.splits(text, label)\n"
   ]
  },
  {
   "cell_type": "code",
   "execution_count": null,
   "metadata": {},
   "outputs": [],
   "source": []
  }
 ],
 "metadata": {
  "kernelspec": {
   "display_name": "Python 3",
   "language": "python",
   "name": "python3"
  },
  "language_info": {
   "codemirror_mode": {
    "name": "ipython",
    "version": 3
   },
   "file_extension": ".py",
   "mimetype": "text/x-python",
   "name": "python",
   "nbconvert_exporter": "python",
   "pygments_lexer": "ipython3",
   "version": "3.7.3"
  }
 },
 "nbformat": 4,
 "nbformat_minor": 2
}
