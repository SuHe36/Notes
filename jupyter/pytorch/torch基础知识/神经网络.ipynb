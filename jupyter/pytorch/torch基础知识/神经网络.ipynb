{
 "cells": [
  {
   "cell_type": "code",
   "execution_count": 1,
   "metadata": {},
   "outputs": [],
   "source": [
    "#神经网络\n",
    "#可以使用torch.nn包来构建神经网络\n",
    "#我们已经介绍了autograd，nn包则依赖于autograd包来定义模型并对它们求导\n",
    "#一个nn.Model包含各个层和一个forward(input)方法，该方法返回output。\n",
    "\n",
    "#一个神经网络会接受一个参数，然后将它送入下一层，一层接一层的传递，最后给出输出\n",
    "#一个神经网络的典型训练过程如下：\n",
    "#--定义包含一些可学习参数的神经网络\n",
    "#--在输入数据集上进行迭代\n",
    "#--通过网络处理输入\n",
    "#--计算损失(输出和正确答案的距离)\n",
    "#--将梯度反向传播给网络的参数\n",
    "#--更新网络的权重，一般使用一个简单的规则：weight = weight - learning_rate*gradient\n",
    "\n",
    "\n",
    "\n",
    "\n",
    "\n",
    "\n"
   ]
  },
  {
   "cell_type": "code",
   "execution_count": 5,
   "metadata": {},
   "outputs": [
    {
     "name": "stdout",
     "output_type": "stream",
     "text": [
      "Net(\n",
      "  (conv1): Conv2d(1, 6, kernel_size=(5, 5), stride=(1, 1))\n",
      "  (conv2): Conv2d(6, 16, kernel_size=(5, 5), stride=(1, 1))\n",
      "  (fc1): Linear(in_features=400, out_features=120, bias=True)\n",
      "  (fc2): Linear(in_features=120, out_features=84, bias=True)\n",
      "  (fc3): Linear(in_features=84, out_features=10, bias=True)\n",
      ")\n",
      "10\n",
      "torch.Size([6, 1, 5, 5])\n"
     ]
    }
   ],
   "source": [
    "#定义网络\n",
    "#让我们定义这样一个网络\n",
    "\n",
    "import torch\n",
    "import torch.nn as nn\n",
    "import torch.nn.functional as F\n",
    "\n",
    "class Net(nn.Module):\n",
    "    \n",
    "    def __init__(self):\n",
    "        super(Net, self).__init__()\n",
    "        #输入图像channel:1；输出channel:6,5*5的卷积核\n",
    "        self.conv1 = nn.Conv2d(1,6,5)\n",
    "        self.conv2 = nn.Conv2d(6,16,5)\n",
    "        #线性操作:y = Wx + b\n",
    "        self.fc1 = nn.Linear(16*5*5, 120)\n",
    "        self.fc2 = nn.Linear(120, 84)\n",
    "        self.fc3 = nn.Linear(84, 10)\n",
    "        \n",
    "    def forward(self, x):\n",
    "        #2*2的max pooling\n",
    "        x = F.max_pool2d(F.relu(self.conv1(x)), (2,2))\n",
    "        #如果是方阵，可以只使用一个数字进行定义\n",
    "        x = F.max_pool2d(F.relu(self.conv2(x)), 2)\n",
    "        x = x.view(-1, self.num_flat_features(x))\n",
    "        x = F.relu(self.fc1(x))\n",
    "        x = F.relu(self.fc2(x))\n",
    "        x = self.fc3(x)\n",
    "    \n",
    "        return x\n",
    "\n",
    "    def num_flat_features(self, x):\n",
    "        size = x.size()[1:] #除去批处理的维度，留下其他的维度\n",
    "        num_features = 1\n",
    "        \n",
    "        for s in size:\n",
    "            num_features *= s\n",
    "        return num_features\n",
    "    \n",
    "\n",
    "net = Net()\n",
    "print(net)\n",
    "    \n",
    "    \n",
    "#我们只需要定义forward函数，backward函数会在使用autograd时自动定义，backward函数用来计算导数\n",
    "#可以在forward函数中使用任何针对张量的操作和计算\n",
    "    \n",
    "#一个模型的可学习参数可以通过net.parameters()返回\n",
    "params = list(net.parameters())\n",
    "print(len(params))\n",
    "print(params[0].size())#conv1的参数\n",
    "    \n",
    "    \n",
    "    \n",
    "    \n",
    "\n",
    "\n"
   ]
  },
  {
   "cell_type": "code",
   "execution_count": 9,
   "metadata": {},
   "outputs": [
    {
     "name": "stdout",
     "output_type": "stream",
     "text": [
      "tensor([[-0.1289, -0.0417,  0.0084,  0.1442,  0.0124,  0.0107,  0.1236, -0.0420,\n",
      "          0.0785, -0.0832]], grad_fn=<AddmmBackward>)\n"
     ]
    }
   ],
   "source": [
    "#让我们尝试一个随机的32*32的输入\n",
    "\n",
    "input = torch.randn(1,1,32,32)\n",
    "out = net(input)\n",
    "print(out)\n",
    "\n",
    "#再清除所有参数的梯度缓存，然后进行随机梯度的反向传播\n",
    "net.zero_grad()\n",
    "out.backward(torch.randn(1,10))\n",
    "\n",
    "#注意torch.nn只支持小批量处理(mini-batches)。整个torch.nn包只支持小批量样本的输入，不支持单个样本\n",
    "#比如，nn.Conv2d接受一个四维的张量，即nSamples * nChannels * Height * Width\n",
    "#如果是一个单独的样本，只需要使用input.unsqueeze(0)来添加一个假的批大小维度\n",
    "\n",
    "#autograd.Function:实现了自动求导前向和反向传播的定义，每个Tensor至少创建一个Function节点，\n",
    "#该节点连接到创建Tensor的函数并对其历史进行编码\n",
    "\n"
   ]
  },
  {
   "cell_type": "code",
   "execution_count": 10,
   "metadata": {},
   "outputs": [],
   "source": [
    "#a = torch.rand(2,3) rand()随机产生【0,1】之间的随机数\n",
    "#b = torch.randn(2,3),randn()随机产生高斯分布\n",
    "#print(a)\n",
    "#print(b)"
   ]
  },
  {
   "cell_type": "code",
   "execution_count": 24,
   "metadata": {},
   "outputs": [
    {
     "name": "stdout",
     "output_type": "stream",
     "text": [
      "tensor(1.6794, grad_fn=<MseLossBackward>)\n",
      "<MseLossBackward object at 0x11dbe05f8>\n",
      "<AddmmBackward object at 0x11dcc5198>\n",
      "<AccumulateGrad object at 0x11dbe05f8>\n"
     ]
    }
   ],
   "source": [
    "#损失函数\n",
    "#一个损失函数接受一对(output, target)作为输入，计算一个值来估计网络的输出与目标值相差多少\n",
    "#nn包中有很多不同的损失函数，nn.MSELoss【mean-squared error】是比较简单的一种，它计算输出和目标的均方误差\n",
    "\n",
    "output = net(input)\n",
    "target = torch.randn(10)\n",
    "target = target.view(1,-1)\n",
    "criterion = nn.MSELoss()\n",
    "\n",
    "loss = criterion(output, target)\n",
    "print(loss)\n",
    "\n",
    "#接下来使用loss的.grad_fn属性跟踪方向传播过程，会看到计算图如下\n",
    "#input -> conv2d -> relu -> maxpool2d -> conv2d -> relu -> maxpool2d\n",
    "# -> view -> linear -> relu -> linear -> relu -> linear\n",
    "# -> MSELoss\n",
    "# -> loss\n",
    "\n",
    "#所以，当我们调用loss.backward()，整张图开始关于loss微分，图中所有设置了requires_grad = True的张量的.grad属性累积着梯度张量\n",
    "#为了说明这一点，我们可以向后跟踪几步\n",
    "\n",
    "print(loss.grad_fn) #MSELoss\n",
    "print(loss.grad_fn.next_functions[0][0]) #Linear\n",
    "print(loss.grad_fn.next_functions[0][0].next_functions[0][0])\n"
   ]
  },
  {
   "cell_type": "code",
   "execution_count": 25,
   "metadata": {},
   "outputs": [
    {
     "name": "stdout",
     "output_type": "stream",
     "text": [
      "conv1.bias.grad before backward: tensor([0., 0., 0., 0., 0., 0.])\n",
      "conv1.bias.grad after backward: tensor([-0.0119, -0.0137,  0.0020,  0.0008,  0.0007,  0.0120])\n"
     ]
    }
   ],
   "source": [
    "#反向传播\n",
    "\n",
    "#我们只需要调用loss.backward()来反向传播权重。我们需要清零现有的梯度，否则梯度将会与已有的梯度累加\n",
    "#现在，我们将调用loss.backward()，并查看conv1层的偏置(bias)在反向传播前后的梯度\n",
    "\n",
    "net.zero_grad()#清除所有参数(parameter)的梯度缓存\n",
    "\n",
    "print(\"conv1.bias.grad before backward:\", net.conv1.bias.grad)\n",
    "\n",
    "loss.backward()\n",
    "\n",
    "print(\"conv1.bias.grad after backward:\", net.conv1.bias.grad)\n",
    "\n",
    "\n",
    "\n",
    "\n",
    "\n"
   ]
  },
  {
   "cell_type": "code",
   "execution_count": 26,
   "metadata": {},
   "outputs": [],
   "source": [
    "#更新权重\n",
    "#最简单的更新规则就是随机梯度下降法(SGD)\n",
    "#weight = weight - learning_rate*gradient\n",
    "#可以使用简单的python代码来实现：\n",
    "learning_rate = 0.01\n",
    "for f in net.parameters():\n",
    "    f.data.sub_(f.grad.data * learning_rate)\n",
    "\n",
    "\n",
    "\n"
   ]
  },
  {
   "cell_type": "code",
   "execution_count": 27,
   "metadata": {},
   "outputs": [],
   "source": [
    "#跟新规则有SGD, Nesterov-SGD, Adam, RMSProp等，\n",
    "#因此有一个较小的包torch.optim，他实现了所有的这些方法，使用它很简单\n",
    "import torch.optim as optim\n",
    "\n",
    "#创建优化器(optimizer)\n",
    "optimizer = optim.SGD(net.parameters(), lr=0.01)\n",
    "\n",
    "#在训练迭代过程中：\n",
    "optimizer.zero_grad()  #清除梯度缓存\n",
    "output = net(input)\n",
    "loss = criterion(output, target)\n",
    "loss.backward()\n",
    "optimizer.step()\n",
    "\n",
    "\n",
    "\n",
    "\n",
    "\n",
    "\n",
    "\n"
   ]
  },
  {
   "cell_type": "code",
   "execution_count": null,
   "metadata": {},
   "outputs": [],
   "source": []
  }
 ],
 "metadata": {
  "kernelspec": {
   "display_name": "Python 3",
   "language": "python",
   "name": "python3"
  },
  "language_info": {
   "codemirror_mode": {
    "name": "ipython",
    "version": 3
   },
   "file_extension": ".py",
   "mimetype": "text/x-python",
   "name": "python",
   "nbconvert_exporter": "python",
   "pygments_lexer": "ipython3",
   "version": "3.7.3"
  }
 },
 "nbformat": 4,
 "nbformat_minor": 2
}
