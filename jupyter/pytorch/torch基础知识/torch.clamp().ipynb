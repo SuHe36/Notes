{
 "cells": [
  {
   "cell_type": "raw",
   "metadata": {},
   "source": [
    "torch.clamp(input, min, max, out=None) -> Tensor\n",
    "将输入Input张量每个元素都分配掉[min, max]区间内，并返回一个新的张量\n",
    "参数：\n",
    "  --input(Tensor):输入张量\n",
    "  --min(Number):限制范围下限\n",
    "  --max(Number):限制范围上限\n",
    "  --out(Tensor,optional)：输出张量\n",
    "\n",
    "具体操作定义如下：\n",
    "     | min, if x_i < min\n",
    "y_i =| x_i, if min <= x_i <= max\n",
    "     | max, if x_i > max\n",
    "\n",
    "如果输入是FloatTensor或者DoubleTensor类型，则参数min，max必须为实数，否则为整数。\n",
    "\n",
    "\n",
    "\n",
    "\n"
   ]
  },
  {
   "cell_type": "code",
   "execution_count": 5,
   "metadata": {},
   "outputs": [
    {
     "name": "stdout",
     "output_type": "stream",
     "text": [
      "tensor([[5, 6, 7, 1, 5, 1, 2, 4, 6, 5]])\n",
      "tensor([[5, 6, 7, 3, 5, 3, 3, 4, 6, 5]])\n"
     ]
    }
   ],
   "source": [
    "#下面是一个例子\n",
    "import torch\n",
    "a = torch.randint(low=0, high=10, size=(1,10))\n",
    "print(a)\n",
    "a = torch.clamp(a, 3,9)\n",
    "print(a)\n"
   ]
  },
  {
   "cell_type": "code",
   "execution_count": null,
   "metadata": {},
   "outputs": [],
   "source": []
  }
 ],
 "metadata": {
  "kernelspec": {
   "display_name": "Python 3",
   "language": "python",
   "name": "python3"
  },
  "language_info": {
   "codemirror_mode": {
    "name": "ipython",
    "version": 3
   },
   "file_extension": ".py",
   "mimetype": "text/x-python",
   "name": "python",
   "nbconvert_exporter": "python",
   "pygments_lexer": "ipython3",
   "version": "3.7.3"
  }
 },
 "nbformat": 4,
 "nbformat_minor": 2
}
