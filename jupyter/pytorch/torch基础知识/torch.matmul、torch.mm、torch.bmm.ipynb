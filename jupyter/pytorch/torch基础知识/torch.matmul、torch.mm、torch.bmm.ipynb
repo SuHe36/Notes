{
 "cells": [
  {
   "cell_type": "raw",
   "metadata": {},
   "source": [
    "总结torch.matmul、torch.mm、torch.bmm实现的都是矩阵乘法，而torch.mul实现的是矩阵乘以一个常数，实现将矩阵中的数值扩大。\n",
    "其中torch.matmul可以实现任意维度的两个矩阵相乘，只要它们有一个维度相同即可，甚至如果两个矩阵的维度数目不一样也可以，因为python有广播机制；\n",
    "torch.mm要求输入的两个矩阵都必须是二维的；\n",
    "torch.bmm要求输入的两个矩阵都必须是3维的；\n",
    "\n",
    "\n"
   ]
  },
  {
   "cell_type": "code",
   "execution_count": 1,
   "metadata": {},
   "outputs": [
    {
     "name": "stdout",
     "output_type": "stream",
     "text": [
      "tensor1 is: tensor([1., 1., 1.])\n",
      "The res is: tensor(3.)\n",
      "The res size is: torch.Size([])\n",
      "c is: tensor([4., 4., 4.])\n",
      "The c size is: torch.Size([3])\n",
      "The size of c is: torch.Size([10, 3, 5])\n",
      "The size of c is: torch.Size([10, 3, 5])\n"
     ]
    }
   ],
   "source": [
    "#torch.matmul\n",
    "#if the input is a (j*1*n*m) tensor and other is a (k*m*p) tensor, out will be an (j*k*n*p)tensor\n",
    "\n",
    "import torch\n",
    "\n",
    "tensor1 = torch.ones(3)\n",
    "tensor2 = torch.ones(3)\n",
    "print(\"tensor1 is:\", tensor1)\n",
    "res = torch.matmul(tensor1, tensor2)\n",
    "print(\"The res is:\", res)\n",
    "print(\"The res size is:\", res.size())#结果是个标量，也就是一个数\n",
    "\n",
    "a = torch.ones(3,4)\n",
    "b = torch.ones(4)\n",
    "c = torch.matmul(a,b)\n",
    "print(\"c is:\",c)\n",
    "print(\"The c size is:\", c.size())#结果是个一维张量\n",
    "\n",
    "\n",
    "#batch matrix乘以batch matrix\n",
    "a = torch.ones(10,3,4)\n",
    "b = torch.ones(10,4,5)\n",
    "c = torch.matmul(a,b)\n",
    "print(\"The size of c is:\", c.size())#结果是[10,3,5]的张量\n",
    "\n",
    "#batch matrix 乘以 broadcasted matrix，python存在一种广播机制\n",
    "a = torch.ones(10,3,4)\n",
    "b = torch.ones(4,5)\n",
    "c = torch.matmul(a,b)\n",
    "print(\"The size of c is:\", c.size())\n",
    "#结果同样是[10,3,5]，\n",
    "#这是因为Python存在一种广播机制，会把维度为[4,5]的张量变成维度为[10,4,5]的张量\n",
    "\n",
    "\n",
    "\n",
    "\n",
    "\n",
    "\n",
    "\n"
   ]
  },
  {
   "cell_type": "code",
   "execution_count": 11,
   "metadata": {},
   "outputs": [
    {
     "name": "stdout",
     "output_type": "stream",
     "text": [
      "The size of c is: torch.Size([2, 2])\n"
     ]
    }
   ],
   "source": [
    "#torch.mm()\n",
    "#要求输入的两个Tensor都是2维的\n",
    "#if input1 is a (n*m) tensor, input2 is a (m*p) tensor, out will be a (n*p) tensor\n",
    "\n",
    "a = torch.ones(2,3)\n",
    "b = torch.ones(3,2)\n",
    "c = torch.mm(a,b)\n",
    "print(\"The size of c is:\", c.size())\n"
   ]
  },
  {
   "cell_type": "code",
   "execution_count": 12,
   "metadata": {},
   "outputs": [
    {
     "name": "stdout",
     "output_type": "stream",
     "text": [
      "The size of c is: torch.Size([10, 3, 5])\n"
     ]
    }
   ],
   "source": [
    "#torch.bmm(input, mat2, out=None) -> Tensor\n",
    "#input 和 mat2必须都是3D tensor\n",
    "#if input is a (b*n*m) tensor， mat2 is a (b*m*p) tensor， out will be a (b*n*p)tensor\n",
    "#这个乘法不支持broadcast\n",
    "\n",
    "a = torch.ones(2,3,4)\n",
    "b = torch.ones(2,4,5)\n",
    "c = torch.bmm(a,b)\n",
    "print(\"The size of c is:\", c.size())\n",
    "\n",
    "\n",
    "\n",
    "\n",
    "\n"
   ]
  },
  {
   "cell_type": "code",
   "execution_count": 13,
   "metadata": {},
   "outputs": [
    {
     "name": "stdout",
     "output_type": "stream",
     "text": [
      "b is: tensor([[10., 10., 10., 10.],\n",
      "        [10., 10., 10., 10.],\n",
      "        [10., 10., 10., 10.]])\n"
     ]
    }
   ],
   "source": [
    "#torch.mul(input, other, out=None)\n",
    "#input是一个tensor, other是一个数，表示把other这个数乘以tensor中的每一个元素\n",
    "\n",
    "a = torch.ones(3,4)\n",
    "b = torch.mul(a,10)\n",
    "print(\"b is:\",b)\n",
    "\n"
   ]
  },
  {
   "cell_type": "code",
   "execution_count": null,
   "metadata": {},
   "outputs": [],
   "source": []
  }
 ],
 "metadata": {
  "kernelspec": {
   "display_name": "Python 3",
   "language": "python",
   "name": "python3"
  },
  "language_info": {
   "codemirror_mode": {
    "name": "ipython",
    "version": 3
   },
   "file_extension": ".py",
   "mimetype": "text/x-python",
   "name": "python",
   "nbconvert_exporter": "python",
   "pygments_lexer": "ipython3",
   "version": "3.7.3"
  }
 },
 "nbformat": 4,
 "nbformat_minor": 2
}
