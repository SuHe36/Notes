{
 "cells": [
  {
   "cell_type": "raw",
   "metadata": {},
   "source": [
    "torch.squeeze(num)表示第num维的维度值为1，则去掉该维度，如果第num维的维度值不为1，则该tensor不变。\n"
   ]
  },
  {
   "cell_type": "code",
   "execution_count": 8,
   "metadata": {},
   "outputs": [
    {
     "name": "stdout",
     "output_type": "stream",
     "text": [
      "a.size is: torch.Size([1, 3])\n",
      "b.size is: torch.Size([3])\n",
      "c.size is: torch.Size([1, 3])\n"
     ]
    }
   ],
   "source": [
    "import torch\n",
    "\n",
    "a = torch.randn(1,3)\n",
    "print(\"a.size is:\",a.size())\n",
    "b = a.squeeze(0)\n",
    "print(\"b.size is:\", b.size())\n",
    "c = a.squeeze(1)\n",
    "print(\"c.size is:\", c.size())\n"
   ]
  },
  {
   "cell_type": "raw",
   "metadata": {},
   "source": [
    "torch.unsqueeze(num)与torch.squeeze(num)的作用相反，表示在第num维度上增加一个维度值为1的维度"
   ]
  },
  {
   "cell_type": "code",
   "execution_count": 16,
   "metadata": {},
   "outputs": [
    {
     "name": "stdout",
     "output_type": "stream",
     "text": [
      "a.size is: torch.Size([3])\n",
      "b.size is: torch.Size([1, 3])\n",
      "c.size is: torch.Size([3, 1])\n",
      "d is: tensor([[ 1.0000,  0.6997, -0.5615],\n",
      "        [ 1.6878, -0.6874, -1.4084]])\n",
      "d.size is: torch.Size([2, 3])\n",
      "e is: tensor([[[ 1.0000,  0.6997, -0.5615],\n",
      "         [ 1.6878, -0.6874, -1.4084]]])\n",
      "e.size is: torch.Size([1, 2, 3])\n",
      "f is: tensor([[[ 1.0000,  0.6997, -0.5615]],\n",
      "\n",
      "        [[ 1.6878, -0.6874, -1.4084]]])\n",
      "f.size is: torch.Size([2, 1, 3])\n",
      "g is: tensor([[[ 1.0000],\n",
      "         [ 0.6997],\n",
      "         [-0.5615]],\n",
      "\n",
      "        [[ 1.6878],\n",
      "         [-0.6874],\n",
      "         [-1.4084]]])\n",
      "g.size is: torch.Size([2, 3, 1])\n"
     ]
    }
   ],
   "source": [
    "import torch\n",
    "\n",
    "a = torch.randn(3)\n",
    "print(\"a.size is:\",a.size())\n",
    "\n",
    "b = a.unsqueeze(0)\n",
    "print(\"b.size is:\", b.size())\n",
    "\n",
    "c = a.unsqueeze(1)\n",
    "print(\"c.size is:\", c.size())\n",
    "\n",
    "\n",
    "d = torch.randn(2,3)\n",
    "print(\"d is:\", d)\n",
    "print(\"d.size is:\", d.size())\n",
    "\n",
    "e = d.unsqueeze(0)\n",
    "print(\"e is:\", e)\n",
    "print(\"e.size is:\", e.size())\n",
    "\n",
    "f = d.unsqueeze(1)\n",
    "print(\"f is:\",f)\n",
    "print(\"f.size is:\", f.size())\n",
    "\n",
    "g = d.unsqueeze(2)\n",
    "print(\"g is:\",g)\n",
    "print(\"g.size is:\", g.size())"
   ]
  },
  {
   "cell_type": "code",
   "execution_count": null,
   "metadata": {},
   "outputs": [],
   "source": []
  }
 ],
 "metadata": {
  "kernelspec": {
   "display_name": "Python 3",
   "language": "python",
   "name": "python3"
  },
  "language_info": {
   "codemirror_mode": {
    "name": "ipython",
    "version": 3
   },
   "file_extension": ".py",
   "mimetype": "text/x-python",
   "name": "python",
   "nbconvert_exporter": "python",
   "pygments_lexer": "ipython3",
   "version": "3.7.8"
  }
 },
 "nbformat": 4,
 "nbformat_minor": 2
}
