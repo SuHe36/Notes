{
 "cells": [
  {
   "cell_type": "code",
   "execution_count": 1,
   "metadata": {},
   "outputs": [
    {
     "name": "stdout",
     "output_type": "stream",
     "text": [
      "numpy: [[0 1 2]\n",
      " [3 4 5]]\n",
      "torch: tensor([[0, 1, 2],\n",
      "        [3, 4, 5]])\n",
      "tensor2array: [[0 1 2]\n",
      " [3 4 5]]\n"
     ]
    }
   ],
   "source": [
    "import torch\n",
    "import numpy as np\n",
    "#tensor和numpy的互相转换\n",
    "\n",
    "np_data = np.arange(6).reshape((2,3))\n",
    "torch_data = torch.from_numpy(np_data)\n",
    "tensor2array = torch_data.numpy()\n",
    "print('numpy:',np_data)\n",
    "print('torch:', torch_data)\n",
    "print(\"tensor2array:\", tensor2array)"
   ]
  },
  {
   "cell_type": "code",
   "execution_count": 2,
   "metadata": {},
   "outputs": [],
   "source": [
    "#tensor的一些运算\n",
    "\n",
    "#abs,add,mean等\n",
    "\n",
    "\n"
   ]
  },
  {
   "cell_type": "code",
   "execution_count": 3,
   "metadata": {},
   "outputs": [
    {
     "name": "stdout",
     "output_type": "stream",
     "text": [
      "\n",
      "numpy_matmul: [[ 7 10]\n",
      " [15 22]] \n",
      "torch_mm: tensor([[ 7., 10.],\n",
      "        [15., 22.]])\n",
      "\n",
      "numpy_dot: [[ 7 10]\n",
      " [15 22]]\n"
     ]
    }
   ],
   "source": [
    "#numpy和tensor的矩阵乘法\n",
    "data = [[1,2],[3,4]]\n",
    "tensor = torch.FloatTensor(data)#32bit floating point\n",
    "data = np.array(data)\n",
    "\n",
    "print(\n",
    "    \"\\nnumpy_matmul:\", np.matmul(data, data),\n",
    "    \"\\ntorch_mm:\",torch.mm(tensor, tensor)\n",
    ")\n",
    "\n",
    "print(\n",
    "    \"\\nnumpy_dot:\", data.dot(data),\n",
    "    #\"\\ntorch_dot:\",tensor.dot(tensor)#这里新版本只能进行一维矩阵的点积，以前上课的版本是把多维的展平到一维\n",
    ")"
   ]
  },
  {
   "cell_type": "code",
   "execution_count": null,
   "metadata": {},
   "outputs": [],
   "source": []
  }
 ],
 "metadata": {
  "kernelspec": {
   "display_name": "Python 3",
   "language": "python",
   "name": "python3"
  },
  "language_info": {
   "codemirror_mode": {
    "name": "ipython",
    "version": 3
   },
   "file_extension": ".py",
   "mimetype": "text/x-python",
   "name": "python",
   "nbconvert_exporter": "python",
   "pygments_lexer": "ipython3",
   "version": "3.7.3"
  }
 },
 "nbformat": 4,
 "nbformat_minor": 2
}
