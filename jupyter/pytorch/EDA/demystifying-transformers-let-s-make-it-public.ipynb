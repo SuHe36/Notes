{
 "cells": [
  {
   "cell_type": "markdown",
   "metadata": {
    "papermill": {
     "duration": 0.031364,
     "end_time": "2020-11-20T16:43:48.808585",
     "exception": false,
     "start_time": "2020-11-20T16:43:48.777221",
     "status": "completed"
    },
    "tags": []
   },
   "source": [
    "# Transformer Encoder model"
   ]
  },
  {
   "cell_type": "markdown",
   "metadata": {
    "papermill": {
     "duration": 0.027398,
     "end_time": "2020-11-20T16:43:48.864734",
     "exception": false,
     "start_time": "2020-11-20T16:43:48.837336",
     "status": "completed"
    },
    "tags": []
   },
   "source": [
    "In this notebook I will share a chunk of my solution, using the encoder of a Transformer. My solution isn't exactly like this but very close, I'm still trying to improve it. ~~~This notebook will only cover the training part, but it won't be hard to adpat the inference part. If it gets attention ;) I will add the inference portion of the code.~~\n",
    "\n",
    "I'll try to make things easy to understand, meaning that I will copy-paste almost everything of the code from public resources where you can refer to. Also, the little code I'll develop will be both simple and scalable for you to be able to make something great from it.\n",
    "\n",
    "If you have any suggestions I will be grateful :).\n",
    "\n",
    "The majority of the model stuff is already implemented in multiple frameworks. We will use here some code in Tensorflow from [the official Transformer tutorial](https://www.tensorflow.org/tutorials/text/transformer).\n",
    "\n",
    "We are taking into account the information given in our host's papers ([https://arxiv.org/abs/2002.07033](https://arxiv.org/abs/2002.07033), [https://arxiv.org/abs/2010.12042](https://arxiv.org/abs/2010.12042)), implementing a light version of their model. \n",
    "\n",
    "We will use embeddings for the following columns: \n",
    "\n",
    "- answered_correctly\n",
    "- content_id\n",
    "- task_container_id\n",
    "- prior_elapsed_time (this one as continuous encoding)\n",
    "- part\n",
    "\n",
    "And also we will add some information about the position in a fixed sinusoidal fashion.\n",
    "\n",
    "\n",
    "EDIT: As promised, I'm adding the inference portion of the code. Thanks for paying attention to my work."
   ]
  },
  {
   "cell_type": "code",
   "execution_count": 1,
   "metadata": {
    "_cell_guid": "b1076dfc-b9ad-4769-8c92-a6c4dae69d19",
    "_uuid": "8f2839f25d086af736a60e9eeb907d3b93b6e0e5",
    "execution": {
     "iopub.execute_input": "2020-11-20T16:43:48.931825Z",
     "iopub.status.busy": "2020-11-20T16:43:48.930798Z",
     "iopub.status.idle": "2020-11-20T16:43:48.937514Z",
     "shell.execute_reply": "2020-11-20T16:43:48.938190Z"
    },
    "papermill": {
     "duration": 0.044857,
     "end_time": "2020-11-20T16:43:48.938345",
     "exception": false,
     "start_time": "2020-11-20T16:43:48.893488",
     "status": "completed"
    },
    "tags": []
   },
   "outputs": [
    {
     "name": "stdout",
     "output_type": "stream",
     "text": [
      "/kaggle/input/riiid-test-answer-prediction/lectures.csv\n",
      "/kaggle/input/riiid-test-answer-prediction/example_sample_submission.csv\n",
      "/kaggle/input/riiid-test-answer-prediction/example_test.csv\n",
      "/kaggle/input/riiid-test-answer-prediction/questions.csv\n",
      "/kaggle/input/riiid-test-answer-prediction/train.csv\n",
      "/kaggle/input/riiid-test-answer-prediction/riiideducation/__init__.py\n",
      "/kaggle/input/riiid-test-answer-prediction/riiideducation/competition.cpython-37m-x86_64-linux-gnu.so\n"
     ]
    }
   ],
   "source": [
    "# This Python 3 environment comes with many helpful analytics libraries installed\n",
    "# It is defined by the kaggle/python Docker image: https://github.com/kaggle/docker-python\n",
    "# For example, here's several helpful packages to load\n",
    "\n",
    "import numpy as np # linear algebra\n",
    "import pandas as pd # data processing, CSV file I/O (e.g. pd.read_csv)\n",
    "\n",
    "# Input data files are available in the read-only \"../input/\" directory\n",
    "# For example, running this (by clicking run or pressing Shift+Enter) will list all files under the input directory\n",
    "\n",
    "import os\n",
    "for dirname, _, filenames in os.walk('/kaggle/input'):\n",
    "    for filename in filenames:\n",
    "        print(os.path.join(dirname, filename))\n",
    "\n",
    "# You can write up to 20GB to the current directory (/kaggle/working/) that gets preserved as output when you create a version using \"Save & Run All\" \n",
    "# You can also write temporary files to /kaggle/temp/, but they won't be saved outside of the current session"
   ]
  },
  {
   "cell_type": "code",
   "execution_count": 2,
   "metadata": {
    "execution": {
     "iopub.execute_input": "2020-11-20T16:43:49.008607Z",
     "iopub.status.busy": "2020-11-20T16:43:49.007796Z",
     "iopub.status.idle": "2020-11-20T16:43:49.010401Z",
     "shell.execute_reply": "2020-11-20T16:43:49.011011Z"
    },
    "papermill": {
     "duration": 0.040169,
     "end_time": "2020-11-20T16:43:49.011131",
     "exception": false,
     "start_time": "2020-11-20T16:43:48.970962",
     "status": "completed"
    },
    "tags": []
   },
   "outputs": [],
   "source": [
    "dtype = {\n",
    "    'answered_correctly': 'int8',\n",
    "    # 'row_id': 'int64',\n",
    "    # 'timestamp': 'int64',\n",
    "    'user_id': 'int32',\n",
    "    'content_id': 'int16',\n",
    "    # 'content_type_id': 'int8',\n",
    "    'task_container_id': 'int16',\n",
    "    # 'user_answer': 'int8',\n",
    "    'prior_question_elapsed_time': 'float32',\n",
    "    # 'prior_question_had_explanation': 'boolean'\n",
    "}\n",
    "\n",
    "dtype_questions = {\n",
    "    'question_id': 'int32',\n",
    "    # 'bundle_id': 'int32',\n",
    "    # 'correct_answer': 'int8',\n",
    "    'part': 'int8',\n",
    "    # 'tags': 'object',\n",
    "}"
   ]
  },
  {
   "cell_type": "markdown",
   "metadata": {
    "papermill": {
     "duration": 0.030222,
     "end_time": "2020-11-20T16:43:49.071411",
     "exception": false,
     "start_time": "2020-11-20T16:43:49.041189",
     "status": "completed"
    },
    "tags": []
   },
   "source": [
    "## Data"
   ]
  },
  {
   "cell_type": "markdown",
   "metadata": {
    "papermill": {
     "duration": 0.028878,
     "end_time": "2020-11-20T16:43:49.130534",
     "exception": false,
     "start_time": "2020-11-20T16:43:49.101656",
     "status": "completed"
    },
    "tags": []
   },
   "source": [
    "We drop lectures, we are not using them here. Also we drop those interactions above 1500th. This can be changed if pleased."
   ]
  },
  {
   "cell_type": "code",
   "execution_count": 3,
   "metadata": {
    "execution": {
     "iopub.execute_input": "2020-11-20T16:43:49.201908Z",
     "iopub.status.busy": "2020-11-20T16:43:49.201251Z",
     "iopub.status.idle": "2020-11-20T16:43:50.448601Z",
     "shell.execute_reply": "2020-11-20T16:43:50.447728Z"
    },
    "papermill": {
     "duration": 1.287056,
     "end_time": "2020-11-20T16:43:50.448772",
     "exception": false,
     "start_time": "2020-11-20T16:43:49.161716",
     "status": "completed"
    },
    "tags": []
   },
   "outputs": [],
   "source": [
    "df = pd.read_csv(\n",
    "    '/kaggle/input/riiid-test-answer-prediction/train.csv',\n",
    "    usecols=dtype.keys(),\n",
    "    dtype=dtype,\n",
    "    nrows=10**6\n",
    ")\n",
    "df = df[df.answered_correctly!=-1]\n",
    "df = df.groupby('user_id').head(1500)\n",
    "\n",
    "questions = pd.read_csv(\n",
    "    '/kaggle/input/riiid-test-answer-prediction/questions.csv', \n",
    "    dtype=dtype_questions,\n",
    "    usecols=dtype_questions.keys(),\n",
    "    index_col='question_id'\n",
    ")"
   ]
  },
  {
   "cell_type": "markdown",
   "metadata": {
    "papermill": {
     "duration": 0.041557,
     "end_time": "2020-11-20T16:43:50.533805",
     "exception": false,
     "start_time": "2020-11-20T16:43:50.492248",
     "status": "completed"
    },
    "tags": []
   },
   "source": [
    "### Basic transformation functions"
   ]
  },
  {
   "cell_type": "markdown",
   "metadata": {
    "papermill": {
     "duration": 0.043905,
     "end_time": "2020-11-20T16:43:50.619084",
     "exception": false,
     "start_time": "2020-11-20T16:43:50.575179",
     "status": "completed"
    },
    "tags": []
   },
   "source": [
    "We'll need to add one unit to the future embedding columns which has zero in them, as we are going to use the zero as the padding token. Then some non-fancy things."
   ]
  },
  {
   "cell_type": "code",
   "execution_count": 4,
   "metadata": {
    "execution": {
     "iopub.execute_input": "2020-11-20T16:43:50.731753Z",
     "iopub.status.busy": "2020-11-20T16:43:50.730128Z",
     "iopub.status.idle": "2020-11-20T16:43:50.733478Z",
     "shell.execute_reply": "2020-11-20T16:43:50.733011Z"
    },
    "papermill": {
     "duration": 0.054065,
     "end_time": "2020-11-20T16:43:50.733576",
     "exception": false,
     "start_time": "2020-11-20T16:43:50.679511",
     "status": "completed"
    },
    "tags": []
   },
   "outputs": [],
   "source": [
    "def transform_questions(questions):\n",
    "  part_ids = questions.part.max()+1\n",
    "  return questions, part_ids\n",
    "\n",
    "\n",
    "def transform_df(df, questions):\n",
    "    df['prior_question_elapsed_time'] = df['prior_question_elapsed_time'].fillna(0).astype(np.float32)/300000\n",
    "    content_ids = questions.index.max()+2\n",
    "    df = df.join(questions, on='content_id')\n",
    "    df['content_id'] += 1\n",
    "    df['task_container_id'] += 1\n",
    "    task_container_ids = 10001\n",
    "    return df, content_ids, task_container_ids"
   ]
  },
  {
   "cell_type": "code",
   "execution_count": 5,
   "metadata": {
    "execution": {
     "iopub.execute_input": "2020-11-20T16:43:50.832733Z",
     "iopub.status.busy": "2020-11-20T16:43:50.831732Z",
     "iopub.status.idle": "2020-11-20T16:43:50.901898Z",
     "shell.execute_reply": "2020-11-20T16:43:50.902435Z"
    },
    "papermill": {
     "duration": 0.110931,
     "end_time": "2020-11-20T16:43:50.902582",
     "exception": false,
     "start_time": "2020-11-20T16:43:50.791651",
     "status": "completed"
    },
    "tags": []
   },
   "outputs": [
    {
     "data": {
      "text/plain": [
       "Index(['user_id', 'content_id', 'task_container_id', 'answered_correctly',\n",
       "       'prior_question_elapsed_time', 'part'],\n",
       "      dtype='object')"
      ]
     },
     "execution_count": 5,
     "metadata": {},
     "output_type": "execute_result"
    }
   ],
   "source": [
    "questions, part_ids = transform_questions(questions)\n",
    "df, content_ids, task_container_ids = transform_df(df, questions)\n",
    "df.columns"
   ]
  },
  {
   "cell_type": "markdown",
   "metadata": {
    "papermill": {
     "duration": 0.030252,
     "end_time": "2020-11-20T16:43:50.965375",
     "exception": false,
     "start_time": "2020-11-20T16:43:50.935123",
     "status": "completed"
    },
    "tags": []
   },
   "source": [
    "### Grouping rows by user id and putting them in a hashtable"
   ]
  },
  {
   "cell_type": "markdown",
   "metadata": {
    "papermill": {
     "duration": 0.030326,
     "end_time": "2020-11-20T16:43:51.026458",
     "exception": false,
     "start_time": "2020-11-20T16:43:50.996132",
     "status": "completed"
    },
    "tags": []
   },
   "source": [
    "Maybe there's a better way to do this, please tell me!"
   ]
  },
  {
   "cell_type": "code",
   "execution_count": 6,
   "metadata": {
    "execution": {
     "iopub.execute_input": "2020-11-20T16:43:51.091827Z",
     "iopub.status.busy": "2020-11-20T16:43:51.090940Z",
     "iopub.status.idle": "2020-11-20T16:43:54.682960Z",
     "shell.execute_reply": "2020-11-20T16:43:54.682284Z"
    },
    "papermill": {
     "duration": 3.62684,
     "end_time": "2020-11-20T16:43:54.683087",
     "exception": false,
     "start_time": "2020-11-20T16:43:51.056247",
     "status": "completed"
    },
    "tags": []
   },
   "outputs": [],
   "source": [
    "df = {uid: u.drop(columns='user_id') for uid, u in df.groupby('user_id')}"
   ]
  },
  {
   "cell_type": "markdown",
   "metadata": {
    "papermill": {
     "duration": 0.029948,
     "end_time": "2020-11-20T16:43:54.743629",
     "exception": false,
     "start_time": "2020-11-20T16:43:54.713681",
     "status": "completed"
    },
    "tags": []
   },
   "source": [
    "## Data generator"
   ]
  },
  {
   "cell_type": "markdown",
   "metadata": {
    "papermill": {
     "duration": 0.038834,
     "end_time": "2020-11-20T16:43:54.814047",
     "exception": false,
     "start_time": "2020-11-20T16:43:54.775213",
     "status": "completed"
    },
    "tags": []
   },
   "source": [
    "We need a way to feed the data in the model. I'm subclassing here tf.keras.utils.Sequence. I think it can be faster/better with tf.data but I don't have much experience handling DataFrames with it. You're welcome again to help me here!\n",
    "\n",
    "EDIT (inference addition): We are reusing the RiidSequence to store last windows_size users' interactions later in the inference part. For that, we need to add to new methods to it. We add a new property too to trace the column answered_correctly, so we can then know where to insert new values during the test iterations (prior_answered_correctly). Notice that we are now dealing directly with numpy arrays instead of DataFrames to inference faster. We transform DataFrames to numpy arrays on the fly when updating the users.\n",
    "\n",
    "Also, we need something to shift our answer_correctly and something to make a time series from our user data. \n",
    "\n",
    "Notice that what we are doing is transforming a 2D tensor (one user interactions) to a 3D tensor by padding and then windowing the user. A user will serve then as a whole batch for the model.\n",
    "\n",
    "For example, let's transform a random 2D tensor [5, 4] into a batch with window size of 3 [5, 3, 4]:\n",
    "\n",
    "1.- User interaction:\n",
    "```\n",
    "array([[0.32147631, 0.21259791, 0.95322964, 0.82263467],\n",
    "       [0.4595167 , 0.69536323, 0.64991227, 0.63098329],\n",
    "       [0.34540743, 0.25885106, 0.57766127, 0.38967852],\n",
    "       [0.26470928, 0.24314868, 0.86343302, 0.06009916],\n",
    "       [0.72159549, 0.96692088, 0.18604403, 0.46528594]])\n",
    "```       \n",
    "2.- Add pad:\n",
    "```\n",
    "array([[0.        , 0.        , 0.        , 0.        ],\n",
    "       [0.        , 0.        , 0.        , 0.        ],\n",
    "       [0.32147631, 0.21259791, 0.95322964, 0.82263467],\n",
    "       [0.4595167 , 0.69536323, 0.64991227, 0.63098329],\n",
    "       [0.34540743, 0.25885106, 0.57766127, 0.38967852],\n",
    "       [0.26470928, 0.24314868, 0.86343302, 0.06009916],\n",
    "       [0.72159549, 0.96692088, 0.18604403, 0.46528594]])\n",
    "```\n",
    "3.- Roll a window to get a batch:\n",
    "```\n",
    "array([[[0.        , 0.        , 0.        , 0.        ],\n",
    "        [0.        , 0.        , 0.        , 0.        ],\n",
    "        [0.32147631, 0.21259791, 0.95322964, 0.82263467]],\n",
    "\n",
    "       [[0.        , 0.        , 0.        , 0.        ],\n",
    "        [0.32147631, 0.21259791, 0.95322964, 0.82263467],\n",
    "        [0.4595167 , 0.69536323, 0.64991227, 0.63098329]],\n",
    "\n",
    "       [[0.32147631, 0.21259791, 0.95322964, 0.82263467],\n",
    "        [0.4595167 , 0.69536323, 0.64991227, 0.63098329],\n",
    "        [0.34540743, 0.25885106, 0.57766127, 0.38967852]],\n",
    "\n",
    "       [[0.4595167 , 0.69536323, 0.64991227, 0.63098329],\n",
    "        [0.34540743, 0.25885106, 0.57766127, 0.38967852],\n",
    "        [0.26470928, 0.24314868, 0.86343302, 0.06009916]],\n",
    "\n",
    "       [[0.34540743, 0.25885106, 0.57766127, 0.38967852],\n",
    "        [0.26470928, 0.24314868, 0.86343302, 0.06009916],\n",
    "        [0.72159549, 0.96692088, 0.18604403, 0.46528594]]])\n",
    "```"
   ]
  },
  {
   "cell_type": "code",
   "execution_count": 7,
   "metadata": {
    "execution": {
     "iopub.execute_input": "2020-11-20T16:43:54.899630Z",
     "iopub.status.busy": "2020-11-20T16:43:54.898847Z",
     "iopub.status.idle": "2020-11-20T16:43:59.803533Z",
     "shell.execute_reply": "2020-11-20T16:43:59.802523Z"
    },
    "papermill": {
     "duration": 4.942473,
     "end_time": "2020-11-20T16:43:59.803677",
     "exception": false,
     "start_time": "2020-11-20T16:43:54.861204",
     "status": "completed"
    },
    "tags": []
   },
   "outputs": [],
   "source": [
    "import tensorflow as tf"
   ]
  },
  {
   "cell_type": "code",
   "execution_count": 8,
   "metadata": {
    "execution": {
     "iopub.execute_input": "2020-11-20T16:43:59.890965Z",
     "iopub.status.busy": "2020-11-20T16:43:59.875014Z",
     "iopub.status.idle": "2020-11-20T16:43:59.897836Z",
     "shell.execute_reply": "2020-11-20T16:43:59.897190Z"
    },
    "papermill": {
     "duration": 0.062436,
     "end_time": "2020-11-20T16:43:59.897946",
     "exception": false,
     "start_time": "2020-11-20T16:43:59.835510",
     "status": "completed"
    },
    "tags": []
   },
   "outputs": [],
   "source": [
    "# just some stuff I ctrl C ctrl V from StackOverflow (with little changes)\n",
    "# [1,2,3,4] --- w = 2 --[[1,2], [2,3], [3,4]] but 2D to 3D\n",
    "def rolling_window(a, w):\n",
    "    s0, s1 = a.strides\n",
    "    m, n = a.shape\n",
    "    return np.lib.stride_tricks.as_strided(\n",
    "        a, \n",
    "        shape=(m-w+1, w, n), \n",
    "        strides=(s0, s0, s1)\n",
    "    )\n",
    "\n",
    "\n",
    "def make_time_series(x, windows_size):\n",
    "  x = np.pad(x, [[ windows_size-1, 0], [0, 0]], constant_values=0)\n",
    "  x = rolling_window(x, windows_size)\n",
    "  return x\n",
    "\n",
    "\n",
    "def add_features_to_user(user):\n",
    "    # We add one to the column in order to have zeros as padding values\n",
    "    # Start Of Sentence (SOS) token will be 3. \n",
    "    user['answered_correctly'] = user['answered_correctly'].shift(fill_value=2)+1\n",
    "    return user\n",
    "\n",
    "\n",
    "class RiidSequence(tf.keras.utils.Sequence):\n",
    "\n",
    "  def __init__(self, \n",
    "               users, \n",
    "               windows_size,\n",
    "               batch_size=256,\n",
    "               start=0,\n",
    "               end=None):\n",
    "    self.users = users # {'user_id': user_df, ...}\n",
    "    self.windows_size = windows_size\n",
    "    # to convert indices to our keys\n",
    "    self.mapper = dict(zip(range(len(users)), users.keys()))\n",
    "    # start and end to easy generate training and validation\n",
    "    self.start = start\n",
    "    self.end = end if end else len(users)\n",
    "    # To know where the answered_correctly_column is\n",
    "    self.answered_correctly_index = list(self.user_example().columns).index('answered_correctly')\n",
    "        \n",
    "  def __len__(self):\n",
    "    return self.end-self.start\n",
    "\n",
    "  def __getitem__(self, idx):\n",
    "    uid = self.mapper[idx+self.start]\n",
    "    user = self.users[uid].copy()\n",
    "    y = user['answered_correctly'].to_numpy().copy()\n",
    "    x = add_features_to_user(user)\n",
    "    return make_time_series(x, self.windows_size), y\n",
    "\n",
    "  def user_example(self):\n",
    "    \"\"\"Just to check what we have till' now.\"\"\"\n",
    "    uid = self.mapper[self.start]\n",
    "    return add_features_to_user(self.users[uid].copy())\n",
    "\n",
    "  # INFERENCE PART    \n",
    "  def get_user_for_inference(self, user_row):\n",
    "    \"\"\"Picks a new user row and concats it to previous interactions \n",
    "    if it was already stored.\n",
    "    \n",
    "    Maybe the biggest trick in the notebook is here. We reuse the user_id column to \n",
    "    insert the answered_correctly SOS token because we previously placed the column \n",
    "    there on purpose.\n",
    "    \n",
    "    After it, we roll that column and then crop it if it was bigger than the window\n",
    "    size, making the SOS token disapear if out of the sequence.\n",
    "    \n",
    "    If the sequence if shorter than the window size, then we pad it.\n",
    "    \"\"\"\n",
    "    uid = user_row[self.answered_correctly_index]\n",
    "    user_row[self.answered_correctly_index] = 2 # SOS token\n",
    "    user_row = user_row[np.newaxis, ...]\n",
    "    if uid in self.users:\n",
    "      x = np.concatenate([self.users[uid], user_row])\n",
    "      # same as in training, we need to add one!!!\n",
    "      x[:, self.answered_correctly_index] = np.roll(x[:, self.answered_correctly_index], 1) + 1\n",
    "    else:\n",
    "      x = user_row\n",
    "     \n",
    "    if x.shape[0] < self.windows_size:\n",
    "      return np.pad(x, [[self.windows_size-x.shape[0], 0], [0, 0]])\n",
    "    elif x.shape[0] > self.windows_size:\n",
    "      return x[-self.windows_size:]\n",
    "    else:\n",
    "      return x\n",
    "\n",
    "  def update_user(self, uid, user):\n",
    "    \"\"\"Concat the new user's interactions to the old ones if already stored.\"\"\"\n",
    "    if uid in self.users:\n",
    "      self.users[uid] = \\\n",
    "        np.concatenate([self.users[uid], user])[-self.windows_size:]\n",
    "    else:\n",
    "      self.users[uid] = user"
   ]
  },
  {
   "cell_type": "code",
   "execution_count": 9,
   "metadata": {
    "execution": {
     "iopub.execute_input": "2020-11-20T16:43:59.971210Z",
     "iopub.status.busy": "2020-11-20T16:43:59.970221Z",
     "iopub.status.idle": "2020-11-20T16:43:59.979403Z",
     "shell.execute_reply": "2020-11-20T16:43:59.978845Z"
    },
    "papermill": {
     "duration": 0.05036,
     "end_time": "2020-11-20T16:43:59.979530",
     "exception": false,
     "start_time": "2020-11-20T16:43:59.929170",
     "status": "completed"
    },
    "tags": []
   },
   "outputs": [
    {
     "data": {
      "text/html": [
       "<div>\n",
       "<style scoped>\n",
       "    .dataframe tbody tr th:only-of-type {\n",
       "        vertical-align: middle;\n",
       "    }\n",
       "\n",
       "    .dataframe tbody tr th {\n",
       "        vertical-align: top;\n",
       "    }\n",
       "\n",
       "    .dataframe thead th {\n",
       "        text-align: right;\n",
       "    }\n",
       "</style>\n",
       "<table border=\"1\" class=\"dataframe\">\n",
       "  <thead>\n",
       "    <tr style=\"text-align: right;\">\n",
       "      <th></th>\n",
       "      <th>content_id</th>\n",
       "      <th>task_container_id</th>\n",
       "      <th>answered_correctly</th>\n",
       "      <th>prior_question_elapsed_time</th>\n",
       "      <th>part</th>\n",
       "    </tr>\n",
       "  </thead>\n",
       "  <tbody>\n",
       "    <tr>\n",
       "      <th>0</th>\n",
       "      <td>5693</td>\n",
       "      <td>2</td>\n",
       "      <td>3</td>\n",
       "      <td>0.000000</td>\n",
       "      <td>5</td>\n",
       "    </tr>\n",
       "    <tr>\n",
       "      <th>1</th>\n",
       "      <td>5717</td>\n",
       "      <td>3</td>\n",
       "      <td>2</td>\n",
       "      <td>0.123333</td>\n",
       "      <td>5</td>\n",
       "    </tr>\n",
       "    <tr>\n",
       "      <th>2</th>\n",
       "      <td>129</td>\n",
       "      <td>1</td>\n",
       "      <td>2</td>\n",
       "      <td>0.183333</td>\n",
       "      <td>1</td>\n",
       "    </tr>\n",
       "    <tr>\n",
       "      <th>3</th>\n",
       "      <td>7861</td>\n",
       "      <td>4</td>\n",
       "      <td>2</td>\n",
       "      <td>0.063333</td>\n",
       "      <td>1</td>\n",
       "    </tr>\n",
       "    <tr>\n",
       "      <th>4</th>\n",
       "      <td>7923</td>\n",
       "      <td>5</td>\n",
       "      <td>2</td>\n",
       "      <td>0.036667</td>\n",
       "      <td>1</td>\n",
       "    </tr>\n",
       "  </tbody>\n",
       "</table>\n",
       "</div>"
      ],
      "text/plain": [
       "   content_id  task_container_id  answered_correctly  \\\n",
       "0        5693                  2                   3   \n",
       "1        5717                  3                   2   \n",
       "2         129                  1                   2   \n",
       "3        7861                  4                   2   \n",
       "4        7923                  5                   2   \n",
       "\n",
       "   prior_question_elapsed_time  part  \n",
       "0                     0.000000     5  \n",
       "1                     0.123333     5  \n",
       "2                     0.183333     1  \n",
       "3                     0.063333     1  \n",
       "4                     0.036667     1  "
      ]
     },
     "execution_count": 9,
     "metadata": {},
     "output_type": "execute_result"
    }
   ],
   "source": [
    "RiidSequence(df, 64).user_example().head()"
   ]
  },
  {
   "cell_type": "code",
   "execution_count": 10,
   "metadata": {
    "execution": {
     "iopub.execute_input": "2020-11-20T16:44:00.057192Z",
     "iopub.status.busy": "2020-11-20T16:44:00.056110Z",
     "iopub.status.idle": "2020-11-20T16:44:00.060743Z",
     "shell.execute_reply": "2020-11-20T16:44:00.060196Z"
    },
    "papermill": {
     "duration": 0.047627,
     "end_time": "2020-11-20T16:44:00.060853",
     "exception": false,
     "start_time": "2020-11-20T16:44:00.013226",
     "status": "completed"
    },
    "tags": []
   },
   "outputs": [
    {
     "data": {
      "text/plain": [
       "((46, 64, 5), (46,))"
      ]
     },
     "execution_count": 10,
     "metadata": {},
     "output_type": "execute_result"
    }
   ],
   "source": [
    "x, y = RiidSequence(df, 64)[0]\n",
    "x.shape, y.shape"
   ]
  },
  {
   "cell_type": "markdown",
   "metadata": {
    "papermill": {
     "duration": 0.030728,
     "end_time": "2020-11-20T16:44:00.123783",
     "exception": false,
     "start_time": "2020-11-20T16:44:00.093055",
     "status": "completed"
    },
    "tags": []
   },
   "source": [
    "So far so good."
   ]
  },
  {
   "cell_type": "markdown",
   "metadata": {
    "papermill": {
     "duration": 0.034563,
     "end_time": "2020-11-20T16:44:00.190970",
     "exception": false,
     "start_time": "2020-11-20T16:44:00.156407",
     "status": "completed"
    },
    "tags": []
   },
   "source": [
    "## Modeling (fancy part)"
   ]
  },
  {
   "cell_type": "markdown",
   "metadata": {
    "papermill": {
     "duration": 0.033399,
     "end_time": "2020-11-20T16:44:00.259112",
     "exception": false,
     "start_time": "2020-11-20T16:44:00.225713",
     "status": "completed"
    },
    "tags": []
   },
   "source": [
    "I will copy paste some stuff we need from the page I linked at the beginning ([https://www.tensorflow.org/tutorials/text/transformer](https://www.tensorflow.org/tutorials/text/transformer)). I will only clean comments for readability."
   ]
  },
  {
   "cell_type": "code",
   "execution_count": 11,
   "metadata": {
    "execution": {
     "iopub.execute_input": "2020-11-20T16:44:00.356908Z",
     "iopub.status.busy": "2020-11-20T16:44:00.355975Z",
     "iopub.status.idle": "2020-11-20T16:44:00.358471Z",
     "shell.execute_reply": "2020-11-20T16:44:00.359043Z"
    },
    "papermill": {
     "duration": 0.06874,
     "end_time": "2020-11-20T16:44:00.359166",
     "exception": false,
     "start_time": "2020-11-20T16:44:00.290426",
     "status": "completed"
    },
    "tags": []
   },
   "outputs": [],
   "source": [
    "# POSITION ENCODING\n",
    "\n",
    "def get_angles(pos, i, d_model):\n",
    "  angle_rates = 1 / np.power(10000, (2 * (i//2)) / np.float32(d_model))\n",
    "  return pos * angle_rates\n",
    "\n",
    "\n",
    "def positional_encoding(position, d_model):\n",
    "  angle_rads = get_angles(np.arange(position)[:, np.newaxis],\n",
    "                          np.arange(d_model)[np.newaxis, :],\n",
    "                          d_model)\n",
    "  angle_rads[:, 0::2] = np.sin(angle_rads[:, 0::2])\n",
    "  angle_rads[:, 1::2] = np.cos(angle_rads[:, 1::2])\n",
    "\n",
    "  pos_encoding = angle_rads[np.newaxis, ...]\n",
    "\n",
    "  return tf.cast(pos_encoding, dtype=tf.float32)\n",
    "\n",
    "# NN THINGS\n",
    "def scaled_dot_product_attention(q, k, v, mask):\n",
    "  matmul_qk = tf.matmul(q, k, transpose_b=True)\n",
    "  dk = tf.cast(tf.shape(k)[-1], tf.float32)\n",
    "  scaled_attention_logits = matmul_qk / tf.math.sqrt(dk)\n",
    "  if mask is not None:\n",
    "    scaled_attention_logits += (mask * -1e9)  \n",
    "  attention_weights = tf.nn.softmax(scaled_attention_logits, axis=-1)\n",
    "  output = tf.matmul(attention_weights, v)\n",
    "  return output, attention_weights\n",
    "\n",
    "    \n",
    "class MultiHeadAttention(tf.keras.layers.Layer):\n",
    "  def __init__(self, d_model, num_heads):\n",
    "    super(MultiHeadAttention, self).__init__()\n",
    "    self.num_heads = num_heads\n",
    "    self.d_model = d_model\n",
    "    \n",
    "    assert d_model % self.num_heads == 0\n",
    "    \n",
    "    self.depth = d_model // self.num_heads\n",
    "    \n",
    "    self.wq = tf.keras.layers.Dense(d_model)\n",
    "    self.wk = tf.keras.layers.Dense(d_model)\n",
    "    self.wv = tf.keras.layers.Dense(d_model)\n",
    "    \n",
    "    self.dense = tf.keras.layers.Dense(d_model)\n",
    "\n",
    "  def split_heads(self, x, batch_size):\n",
    "    x = tf.reshape(x, (batch_size, -1, self.num_heads, self.depth))\n",
    "    return tf.transpose(x, perm=[0, 2, 1, 3])\n",
    "\n",
    "  def call(self, v, k, q, mask):\n",
    "    batch_size = tf.shape(q)[0]\n",
    "    q = self.wq(q)\n",
    "    k = self.wk(k)\n",
    "    v = self.wv(v)\n",
    "\n",
    "    q = self.split_heads(q, batch_size)\n",
    "    k = self.split_heads(k, batch_size)\n",
    "    v = self.split_heads(v, batch_size)\n",
    "\n",
    "    scaled_attention, attention_weights = scaled_dot_product_attention(\n",
    "        q, k, v, mask)\n",
    "\n",
    "    scaled_attention = tf.transpose(scaled_attention, perm=[0, 2, 1, 3])\n",
    "\n",
    "    concat_attention = tf.reshape(scaled_attention, \n",
    "                                  (batch_size, -1, self.d_model))\n",
    "\n",
    "    output = self.dense(concat_attention)\n",
    "\n",
    "    return output, attention_weights\n",
    "\n",
    "\n",
    "def point_wise_feed_forward_network(d_model, dff):\n",
    "  return tf.keras.Sequential([\n",
    "      tf.keras.layers.Dense(dff, activation='relu'),\n",
    "      tf.keras.layers.Dense(d_model)\n",
    "  ])\n",
    "\n",
    "\n",
    "class EncoderLayer(tf.keras.layers.Layer):\n",
    "  def __init__(self, d_model, num_heads, dff, rate=0.1):\n",
    "    super(EncoderLayer, self).__init__()\n",
    "\n",
    "    self.mha = MultiHeadAttention(d_model, num_heads)\n",
    "    self.ffn = point_wise_feed_forward_network(d_model, dff)\n",
    "\n",
    "    self.layernorm1 = tf.keras.layers.LayerNormalization(epsilon=1e-6)\n",
    "    self.layernorm2 = tf.keras.layers.LayerNormalization(epsilon=1e-6)\n",
    "\n",
    "    self.dropout1 = tf.keras.layers.Dropout(rate)\n",
    "    self.dropout2 = tf.keras.layers.Dropout(rate)\n",
    "\n",
    "  def call(self, x, training, mask):\n",
    "\n",
    "    attn_output, _ = self.mha(x, x, x, mask) \n",
    "    attn_output = self.dropout1(attn_output, training=training)\n",
    "    out1 = self.layernorm1(x + attn_output) \n",
    "\n",
    "    ffn_output = self.ffn(out1)\n",
    "    ffn_output = self.dropout2(ffn_output, training=training)\n",
    "    out2 = self.layernorm2(out1 + ffn_output) \n",
    "\n",
    "    return out2"
   ]
  },
  {
   "cell_type": "markdown",
   "metadata": {
    "papermill": {
     "duration": 0.03185,
     "end_time": "2020-11-20T16:44:00.423121",
     "exception": false,
     "start_time": "2020-11-20T16:44:00.391271",
     "status": "completed"
    },
    "tags": []
   },
   "source": [
    "This is a little more tricky. To create padding mask with Multivariate Time Series oriented data (3D) we will slightly modify the function from the reference link."
   ]
  },
  {
   "cell_type": "code",
   "execution_count": 12,
   "metadata": {
    "execution": {
     "iopub.execute_input": "2020-11-20T16:44:00.491358Z",
     "iopub.status.busy": "2020-11-20T16:44:00.490573Z",
     "iopub.status.idle": "2020-11-20T16:44:00.493185Z",
     "shell.execute_reply": "2020-11-20T16:44:00.493787Z"
    },
    "papermill": {
     "duration": 0.040017,
     "end_time": "2020-11-20T16:44:00.493901",
     "exception": false,
     "start_time": "2020-11-20T16:44:00.453884",
     "status": "completed"
    },
    "tags": []
   },
   "outputs": [],
   "source": [
    "def create_padding_mask(seqs):\n",
    "  # We mask only those vectors of the sequence in which we have all zeroes \n",
    "  # (this is more scalable for some situations).\n",
    "  mask = tf.cast(tf.reduce_all(tf.math.equal(seqs, 0), axis=-1), tf.float32)\n",
    "  return mask[:, tf.newaxis, tf.newaxis, :]  # (batch_size, 1, 1, seq_len)"
   ]
  },
  {
   "cell_type": "markdown",
   "metadata": {
    "papermill": {
     "duration": 0.031188,
     "end_time": "2020-11-20T16:44:00.557143",
     "exception": false,
     "start_time": "2020-11-20T16:44:00.525955",
     "status": "completed"
    },
    "tags": []
   },
   "source": [
    "And now our model. We are using the functional API for simplicity. We could also subclass tf.keras.Model for it, which is cleaner. \n",
    "\n",
    "To implement it, we will recall the columns we had before."
   ]
  },
  {
   "cell_type": "code",
   "execution_count": 13,
   "metadata": {
    "execution": {
     "iopub.execute_input": "2020-11-20T16:44:00.636358Z",
     "iopub.status.busy": "2020-11-20T16:44:00.635209Z",
     "iopub.status.idle": "2020-11-20T16:44:00.644339Z",
     "shell.execute_reply": "2020-11-20T16:44:00.643685Z"
    },
    "papermill": {
     "duration": 0.055923,
     "end_time": "2020-11-20T16:44:00.644442",
     "exception": false,
     "start_time": "2020-11-20T16:44:00.588519",
     "status": "completed"
    },
    "tags": []
   },
   "outputs": [
    {
     "data": {
      "text/plain": [
       "['content_id',\n",
       " 'task_container_id',\n",
       " 'answered_correctly',\n",
       " 'prior_question_elapsed_time',\n",
       " 'part']"
      ]
     },
     "execution_count": 13,
     "metadata": {},
     "output_type": "execute_result"
    }
   ],
   "source": [
    "columns = list(RiidSequence(df, 64).user_example().columns)\n",
    "columns"
   ]
  },
  {
   "cell_type": "code",
   "execution_count": 14,
   "metadata": {
    "execution": {
     "iopub.execute_input": "2020-11-20T16:44:00.726292Z",
     "iopub.status.busy": "2020-11-20T16:44:00.725357Z",
     "iopub.status.idle": "2020-11-20T16:44:00.728096Z",
     "shell.execute_reply": "2020-11-20T16:44:00.727621Z"
    },
    "papermill": {
     "duration": 0.050991,
     "end_time": "2020-11-20T16:44:00.728191",
     "exception": false,
     "start_time": "2020-11-20T16:44:00.677200",
     "status": "completed"
    },
    "tags": []
   },
   "outputs": [],
   "source": [
    "def get_series_model(\n",
    "        n_features,\n",
    "        content_ids,\n",
    "        task_container_ids,\n",
    "        part_ids,\n",
    "        windows_size=64,\n",
    "        d_model=24,\n",
    "        num_heads=4,\n",
    "        n_encoder_layers = 2\n",
    "    ):\n",
    "    # Input\n",
    "    inputs = tf.keras.Input(shape=(windows_size, n_features), name='inputs')\n",
    "    mask = create_padding_mask(inputs)\n",
    "    pos_enc = positional_encoding(windows_size, d_model)    \n",
    "    \n",
    "    # Divide branches\n",
    "    content_id = inputs[..., 0]\n",
    "    task_container_id = inputs[..., 1]\n",
    "    answered_correctly = inputs[..., 2]\n",
    "    elapsed_time = inputs[..., 3]\n",
    "    part = inputs[..., 4]\n",
    "    \n",
    "    # Create embeddings\n",
    "    content_embeddings = tf.keras.layers.Embedding(content_ids, d_model)(content_id)\n",
    "    task_embeddings = tf.keras.layers.Embedding(task_container_ids, d_model)(task_container_id)\n",
    "    answered_correctly_embeddings = tf.keras.layers.Embedding(4, d_model)(answered_correctly)\n",
    "    # Continuous! Only a learnable layer for it.\n",
    "    elapsed_time_embeddings = tf.keras.layers.Dense(d_model, use_bias=False)(elapsed_time)\n",
    "    part_embeddings = tf.keras.layers.Embedding(part_ids, d_model)(part)\n",
    "    \n",
    "    # Add embeddings\n",
    "    x = tf.keras.layers.Add()([\n",
    "        pos_enc,\n",
    "        content_embeddings,\n",
    "        task_embeddings,\n",
    "        answered_correctly_embeddings,\n",
    "        elapsed_time_embeddings,\n",
    "        part_embeddings,\n",
    "    ])\n",
    "\n",
    "    for _ in range(n_encoder_layers):\n",
    "        x = EncoderLayer(d_model=d_model, num_heads=num_heads, dff=d_model*4, rate=0.1)(x, mask=mask)\n",
    "\n",
    "    x = tf.keras.layers.GlobalAveragePooling1D()(x)\n",
    "    x = tf.keras.layers.Dropout(0.2)(x)    \n",
    "    output = tf.keras.layers.Dense(1, activation='sigmoid', name='output')(x)\n",
    "    return tf.keras.Model(inputs, output, name='model')"
   ]
  },
  {
   "cell_type": "markdown",
   "metadata": {
    "papermill": {
     "duration": 0.03314,
     "end_time": "2020-11-20T16:44:00.793607",
     "exception": false,
     "start_time": "2020-11-20T16:44:00.760467",
     "status": "completed"
    },
    "tags": []
   },
   "source": [
    "As you can see, we have adapted the Encoder to output only one value per sequence, in oposition to the original implementation which outputs an entire sequence per every input sequence. That's why we don't have to add a look ahead mask."
   ]
  },
  {
   "cell_type": "markdown",
   "metadata": {
    "papermill": {
     "duration": 0.033628,
     "end_time": "2020-11-20T16:44:00.861870",
     "exception": false,
     "start_time": "2020-11-20T16:44:00.828242",
     "status": "completed"
    },
    "tags": []
   },
   "source": [
    "## TRAIN!"
   ]
  },
  {
   "cell_type": "markdown",
   "metadata": {
    "papermill": {
     "duration": 0.033265,
     "end_time": "2020-11-20T16:44:00.928521",
     "exception": false,
     "start_time": "2020-11-20T16:44:00.895256",
     "status": "completed"
    },
    "tags": []
   },
   "source": [
    "In my implementation I have a learning rate scheduler. I removed it for simplicity. Feel free to add it.\n",
    "\n",
    "For the example we will have a very little model just to show that it works!"
   ]
  },
  {
   "cell_type": "code",
   "execution_count": 15,
   "metadata": {
    "execution": {
     "iopub.execute_input": "2020-11-20T16:44:01.021610Z",
     "iopub.status.busy": "2020-11-20T16:44:01.019720Z",
     "iopub.status.idle": "2020-11-20T16:44:01.022325Z",
     "shell.execute_reply": "2020-11-20T16:44:01.022818Z"
    },
    "papermill": {
     "duration": 0.054283,
     "end_time": "2020-11-20T16:44:01.022957",
     "exception": false,
     "start_time": "2020-11-20T16:44:00.968674",
     "status": "completed"
    },
    "tags": []
   },
   "outputs": [],
   "source": [
    "train_idx = int(len(df)*0.8)\n",
    "windows_size = 64\n",
    "epochs = 300\n",
    "patience = 2\n",
    "d_model = 32\n",
    "num_heads = 4\n",
    "n_encoder_layers = 2"
   ]
  },
  {
   "cell_type": "code",
   "execution_count": 16,
   "metadata": {
    "execution": {
     "iopub.execute_input": "2020-11-20T16:44:01.099255Z",
     "iopub.status.busy": "2020-11-20T16:44:01.098248Z",
     "iopub.status.idle": "2020-11-20T16:44:04.928708Z",
     "shell.execute_reply": "2020-11-20T16:44:04.928183Z"
    },
    "papermill": {
     "duration": 3.873172,
     "end_time": "2020-11-20T16:44:04.928825",
     "exception": false,
     "start_time": "2020-11-20T16:44:01.055653",
     "status": "completed"
    },
    "tags": []
   },
   "outputs": [],
   "source": [
    "s_train = RiidSequence(df, windows_size, start=0, end=train_idx)\n",
    "s_val = RiidSequence(df, windows_size, start=train_idx)\n",
    "\n",
    "n_features = s_train[0][0].shape[-1]\n",
    "\n",
    "tf.keras.backend.clear_session()\n",
    "model = get_series_model(\n",
    "        n_features,\n",
    "        content_ids,\n",
    "        task_container_ids,\n",
    "        part_ids,\n",
    "        windows_size=windows_size,\n",
    "        d_model=d_model,\n",
    "        num_heads=num_heads,\n",
    "        n_encoder_layers=n_encoder_layers\n",
    "    )\n",
    "\n",
    "model.compile(\n",
    "    optimizer='adam', \n",
    "    loss='binary_crossentropy', \n",
    "    metrics=[tf.keras.metrics.AUC(name='AUC'), tf.keras.metrics.BinaryAccuracy(name='acc')]\n",
    ")"
   ]
  },
  {
   "cell_type": "code",
   "execution_count": 17,
   "metadata": {
    "execution": {
     "iopub.execute_input": "2020-11-20T16:44:05.000570Z",
     "iopub.status.busy": "2020-11-20T16:44:04.999836Z",
     "iopub.status.idle": "2020-11-20T16:44:05.635362Z",
     "shell.execute_reply": "2020-11-20T16:44:05.635862Z"
    },
    "papermill": {
     "duration": 0.674916,
     "end_time": "2020-11-20T16:44:05.636018",
     "exception": false,
     "start_time": "2020-11-20T16:44:04.961102",
     "status": "completed"
    },
    "tags": []
   },
   "outputs": [
    {
     "data": {
      "image/png": "[encoded data removed]",
      "text/plain": [
       "<IPython.core.display.Image object>"
      ]
     },
     "execution_count": 17,
     "metadata": {},
     "output_type": "execute_result"
    }
   ],
   "source": [
    "tf.keras.utils.plot_model(model)"
   ]
  },
  {
   "cell_type": "code",
   "execution_count": 18,
   "metadata": {
    "execution": {
     "iopub.execute_input": "2020-11-20T16:44:05.721490Z",
     "iopub.status.busy": "2020-11-20T16:44:05.720823Z",
     "iopub.status.idle": "2020-11-20T16:44:05.738292Z",
     "shell.execute_reply": "2020-11-20T16:44:05.737330Z"
    },
    "papermill": {
     "duration": 0.066993,
     "end_time": "2020-11-20T16:44:05.738400",
     "exception": false,
     "start_time": "2020-11-20T16:44:05.671407",
     "status": "completed"
    },
    "tags": []
   },
   "outputs": [
    {
     "name": "stdout",
     "output_type": "stream",
     "text": [
      "Model: \"model\"\n",
      "__________________________________________________________________________________________________\n",
      "Layer (type)                    Output Shape         Param #     Connected to                     \n",
      "==================================================================================================\n",
      "inputs (InputLayer)             [(None, 64, 5)]      0                                            \n",
      "__________________________________________________________________________________________________\n",
      "tf_op_layer_strided_slice_1 (Te [(None, 64)]         0           inputs[0][0]                     \n",
      "__________________________________________________________________________________________________\n",
      "embedding (Embedding)           (None, 64, 32)       432768      tf_op_layer_strided_slice_1[0][0]\n",
      "__________________________________________________________________________________________________\n",
      "tf_op_layer_strided_slice_2 (Te [(None, 64)]         0           inputs[0][0]                     \n",
      "__________________________________________________________________________________________________\n",
      "tf_op_layer_AddV2 (TensorFlowOp [(None, 64, 32)]     0           embedding[0][0]                  \n",
      "__________________________________________________________________________________________________\n",
      "embedding_1 (Embedding)         (None, 64, 32)       320032      tf_op_layer_strided_slice_2[0][0]\n",
      "__________________________________________________________________________________________________\n",
      "tf_op_layer_strided_slice_3 (Te [(None, 64)]         0           inputs[0][0]                     \n",
      "__________________________________________________________________________________________________\n",
      "tf_op_layer_strided_slice_4 (Te [(None, 64)]         0           inputs[0][0]                     \n",
      "__________________________________________________________________________________________________\n",
      "tf_op_layer_AddV2_1 (TensorFlow [(None, 64, 32)]     0           tf_op_layer_AddV2[0][0]          \n",
      "                                                                 embedding_1[0][0]                \n",
      "__________________________________________________________________________________________________\n",
      "embedding_2 (Embedding)         (None, 64, 32)       128         tf_op_layer_strided_slice_3[0][0]\n",
      "__________________________________________________________________________________________________\n",
      "dense (Dense)                   (None, 32)           2048        tf_op_layer_strided_slice_4[0][0]\n",
      "__________________________________________________________________________________________________\n",
      "tf_op_layer_Equal (TensorFlowOp [(None, 64, 5)]      0           inputs[0][0]                     \n",
      "__________________________________________________________________________________________________\n",
      "tf_op_layer_AddV2_2 (TensorFlow [(None, 64, 32)]     0           tf_op_layer_AddV2_1[0][0]        \n",
      "                                                                 embedding_2[0][0]                \n",
      "__________________________________________________________________________________________________\n",
      "tf_op_layer_ExpandDims (TensorF [(None, 1, 32)]      0           dense[0][0]                      \n",
      "__________________________________________________________________________________________________\n",
      "tf_op_layer_strided_slice_5 (Te [(None, 64)]         0           inputs[0][0]                     \n",
      "__________________________________________________________________________________________________\n",
      "tf_op_layer_All (TensorFlowOpLa [(None, 64)]         0           tf_op_layer_Equal[0][0]          \n",
      "__________________________________________________________________________________________________\n",
      "tf_op_layer_AddV2_3 (TensorFlow [(None, 64, 32)]     0           tf_op_layer_AddV2_2[0][0]        \n",
      "                                                                 tf_op_layer_ExpandDims[0][0]     \n",
      "__________________________________________________________________________________________________\n",
      "embedding_3 (Embedding)         (None, 64, 32)       256         tf_op_layer_strided_slice_5[0][0]\n",
      "__________________________________________________________________________________________________\n",
      "tf_op_layer_Cast (TensorFlowOpL [(None, 64)]         0           tf_op_layer_All[0][0]            \n",
      "__________________________________________________________________________________________________\n",
      "tf_op_layer_AddV2_4 (TensorFlow [(None, 64, 32)]     0           tf_op_layer_AddV2_3[0][0]        \n",
      "                                                                 embedding_3[0][0]                \n",
      "__________________________________________________________________________________________________\n",
      "tf_op_layer_strided_slice (Tens [(None, 1, 1, 64)]   0           tf_op_layer_Cast[0][0]           \n",
      "__________________________________________________________________________________________________\n",
      "encoder_layer (EncoderLayer)    (None, 64, 32)       12704       tf_op_layer_AddV2_4[0][0]        \n",
      "                                                                 tf_op_layer_strided_slice[0][0]  \n",
      "__________________________________________________________________________________________________\n",
      "encoder_layer_1 (EncoderLayer)  (None, 64, 32)       12704       encoder_layer[0][0]              \n",
      "                                                                 tf_op_layer_strided_slice[0][0]  \n",
      "__________________________________________________________________________________________________\n",
      "global_average_pooling1d (Globa (None, 32)           0           encoder_layer_1[0][0]            \n",
      "__________________________________________________________________________________________________\n",
      "dropout_4 (Dropout)             (None, 32)           0           global_average_pooling1d[0][0]   \n",
      "__________________________________________________________________________________________________\n",
      "output (Dense)                  (None, 1)            33          dropout_4[0][0]                  \n",
      "==================================================================================================\n",
      "Total params: 780,673\n",
      "Trainable params: 780,673\n",
      "Non-trainable params: 0\n",
      "__________________________________________________________________________________________________\n"
     ]
    }
   ],
   "source": [
    "model.summary()"
   ]
  },
  {
   "cell_type": "code",
   "execution_count": 19,
   "metadata": {
    "execution": {
     "iopub.execute_input": "2020-11-20T16:44:05.817742Z",
     "iopub.status.busy": "2020-11-20T16:44:05.816791Z",
     "iopub.status.idle": "2020-11-20T16:50:28.145996Z",
     "shell.execute_reply": "2020-11-20T16:50:28.144796Z"
    },
    "papermill": {
     "duration": 382.370478,
     "end_time": "2020-11-20T16:50:28.146133",
     "exception": false,
     "start_time": "2020-11-20T16:44:05.775655",
     "status": "completed"
    },
    "tags": []
   },
   "outputs": [
    {
     "name": "stdout",
     "output_type": "stream",
     "text": [
      "Epoch 1/300\n",
      "3059/3059 [==============================] - 93s 30ms/step - loss: 0.6312 - AUC: 0.6179 - acc: 0.6584 - val_loss: 0.5943 - val_AUC: 0.7090 - val_acc: 0.6839\n",
      "Epoch 2/300\n",
      "3059/3059 [==============================] - 95s 31ms/step - loss: 0.5850 - AUC: 0.7136 - acc: 0.6951 - val_loss: 0.5834 - val_AUC: 0.7246 - val_acc: 0.6974\n",
      "Epoch 3/300\n",
      "3059/3059 [==============================] - 95s 31ms/step - loss: 0.5712 - AUC: 0.7339 - acc: 0.7056 - val_loss: 0.5915 - val_AUC: 0.7214 - val_acc: 0.6950\n",
      "Epoch 4/300\n",
      "3059/3059 [==============================] - 95s 31ms/step - loss: 0.5645 - AUC: 0.7425 - acc: 0.7098 - val_loss: 0.5900 - val_AUC: 0.7193 - val_acc: 0.6884\n"
     ]
    }
   ],
   "source": [
    "model.fit(\n",
    "    s_train,\n",
    "    validation_data=s_val,\n",
    "    epochs=epochs,\n",
    "    workers=4,\n",
    "    shuffle=True,\n",
    "    use_multiprocessing=True,\n",
    "    callbacks=tf.keras.callbacks.EarlyStopping(patience=patience, monitor='val_AUC', mode='max', restore_best_weights=True),\n",
    "    verbose=1\n",
    ")\n",
    "model.save_weights('model.h5')"
   ]
  },
  {
   "cell_type": "markdown",
   "metadata": {
    "papermill": {
     "duration": 1.805289,
     "end_time": "2020-11-20T16:50:32.046873",
     "exception": false,
     "start_time": "2020-11-20T16:50:30.241584",
     "status": "completed"
    },
    "tags": []
   },
   "source": [
    "## Inference"
   ]
  },
  {
   "cell_type": "markdown",
   "metadata": {
    "papermill": {
     "duration": 1.808506,
     "end_time": "2020-11-20T16:50:35.645980",
     "exception": false,
     "start_time": "2020-11-20T16:50:33.837474",
     "status": "completed"
    },
    "tags": []
   },
   "source": [
    "First, we load again the training data, but this time we load everything and then tail the users to the last window size interactions.\n",
    "\n",
    "We apply the same operations than we did before to the training data in this new DataFrame, and also to the test. Also, we develop a logic to add the previous_answered_correctly. \n",
    "\n",
    "The only thing we need to make sure is the user_id column in the test dfs is in the same place than the answered_correctly in the train df to make the trick after it in the RiidSequence."
   ]
  },
  {
   "cell_type": "code",
   "execution_count": 20,
   "metadata": {
    "execution": {
     "iopub.execute_input": "2020-11-20T16:50:39.328816Z",
     "iopub.status.busy": "2020-11-20T16:50:39.326477Z",
     "iopub.status.idle": "2020-11-20T16:50:39.329714Z",
     "shell.execute_reply": "2020-11-20T16:50:39.330465Z"
    },
    "papermill": {
     "duration": 1.889924,
     "end_time": "2020-11-20T16:50:39.330698",
     "exception": false,
     "start_time": "2020-11-20T16:50:37.440774",
     "status": "completed"
    },
    "tags": []
   },
   "outputs": [],
   "source": [
    "import gc"
   ]
  },
  {
   "cell_type": "code",
   "execution_count": 21,
   "metadata": {
    "execution": {
     "iopub.execute_input": "2020-11-20T16:50:43.853152Z",
     "iopub.status.busy": "2020-11-20T16:50:43.852171Z",
     "iopub.status.idle": "2020-11-20T16:50:43.858092Z",
     "shell.execute_reply": "2020-11-20T16:50:43.858571Z"
    },
    "papermill": {
     "duration": 2.121143,
     "end_time": "2020-11-20T16:50:43.858709",
     "exception": false,
     "start_time": "2020-11-20T16:50:41.737566",
     "status": "completed"
    },
    "tags": []
   },
   "outputs": [
    {
     "data": {
      "text/plain": [
       "119"
      ]
     },
     "execution_count": 21,
     "metadata": {},
     "output_type": "execute_result"
    }
   ],
   "source": [
    "del s_val\n",
    "del df\n",
    "gc.collect()"
   ]
  },
  {
   "cell_type": "code",
   "execution_count": 22,
   "metadata": {
    "execution": {
     "iopub.execute_input": "2020-11-20T16:50:47.513178Z",
     "iopub.status.busy": "2020-11-20T16:50:47.512301Z",
     "iopub.status.idle": "2020-11-20T16:52:28.609672Z",
     "shell.execute_reply": "2020-11-20T16:52:28.608523Z"
    },
    "papermill": {
     "duration": 102.936617,
     "end_time": "2020-11-20T16:52:28.609812",
     "exception": false,
     "start_time": "2020-11-20T16:50:45.673195",
     "status": "completed"
    },
    "tags": []
   },
   "outputs": [],
   "source": [
    "df = pd.read_csv(\n",
    "    '../input/riiid-test-answer-prediction/train.csv',\n",
    "    usecols=dtype.keys(),\n",
    "    dtype=dtype,\n",
    "    # nrows=10**6\n",
    ")\n",
    "df = df[df.answered_correctly!=-1]\n",
    "df = df.groupby('user_id').tail(windows_size)"
   ]
  },
  {
   "cell_type": "code",
   "execution_count": 23,
   "metadata": {
    "execution": {
     "iopub.execute_input": "2020-11-20T16:52:32.582088Z",
     "iopub.status.busy": "2020-11-20T16:52:32.580870Z",
     "iopub.status.idle": "2020-11-20T16:58:30.244449Z",
     "shell.execute_reply": "2020-11-20T16:58:30.243614Z"
    },
    "papermill": {
     "duration": 359.52177,
     "end_time": "2020-11-20T16:58:30.244586",
     "exception": false,
     "start_time": "2020-11-20T16:52:30.722816",
     "status": "completed"
    },
    "tags": []
   },
   "outputs": [],
   "source": [
    "df, _, _ = transform_df(df, questions)\n",
    "df = {uid: u.drop(columns='user_id') for uid, u in df.groupby('user_id')}"
   ]
  },
  {
   "cell_type": "code",
   "execution_count": 24,
   "metadata": {
    "execution": {
     "iopub.execute_input": "2020-11-20T16:58:34.203852Z",
     "iopub.status.busy": "2020-11-20T16:58:34.202901Z",
     "iopub.status.idle": "2020-11-20T16:58:34.215355Z",
     "shell.execute_reply": "2020-11-20T16:58:34.214799Z"
    },
    "papermill": {
     "duration": 2.133703,
     "end_time": "2020-11-20T16:58:34.215468",
     "exception": false,
     "start_time": "2020-11-20T16:58:32.081765",
     "status": "completed"
    },
    "tags": []
   },
   "outputs": [],
   "source": [
    "import riiideducation"
   ]
  },
  {
   "cell_type": "code",
   "execution_count": 25,
   "metadata": {
    "execution": {
     "iopub.execute_input": "2020-11-20T16:58:37.916214Z",
     "iopub.status.busy": "2020-11-20T16:58:37.914225Z",
     "iopub.status.idle": "2020-11-20T16:58:37.916913Z",
     "shell.execute_reply": "2020-11-20T16:58:37.917451Z"
    },
    "papermill": {
     "duration": 1.861846,
     "end_time": "2020-11-20T16:58:37.917586",
     "exception": false,
     "start_time": "2020-11-20T16:58:36.055740",
     "status": "completed"
    },
    "tags": []
   },
   "outputs": [],
   "source": [
    "env = riiideducation.make_env()\n",
    "iter_test = env.iter_test()"
   ]
  },
  {
   "cell_type": "code",
   "execution_count": 26,
   "metadata": {
    "execution": {
     "iopub.execute_input": "2020-11-20T16:58:42.071394Z",
     "iopub.status.busy": "2020-11-20T16:58:42.070509Z",
     "iopub.status.idle": "2020-11-20T16:58:42.074027Z",
     "shell.execute_reply": "2020-11-20T16:58:42.074714Z"
    },
    "papermill": {
     "duration": 2.287704,
     "end_time": "2020-11-20T16:58:42.074864",
     "exception": false,
     "start_time": "2020-11-20T16:58:39.787160",
     "status": "completed"
    },
    "tags": []
   },
   "outputs": [
    {
     "data": {
      "text/plain": [
       "['content_id',\n",
       " 'task_container_id',\n",
       " 'user_id',\n",
       " 'prior_question_elapsed_time',\n",
       " 'row_id']"
      ]
     },
     "execution_count": 26,
     "metadata": {},
     "output_type": "execute_result"
    }
   ],
   "source": [
    "columns[columns.index('answered_correctly')] = 'user_id'\n",
    "columns = [c for c in columns if c not in questions.columns] + ['row_id']\n",
    "columns"
   ]
  },
  {
   "cell_type": "code",
   "execution_count": 27,
   "metadata": {
    "execution": {
     "iopub.execute_input": "2020-11-20T16:58:46.125305Z",
     "iopub.status.busy": "2020-11-20T16:58:46.124253Z",
     "iopub.status.idle": "2020-11-20T16:58:47.791787Z",
     "shell.execute_reply": "2020-11-20T16:58:47.790634Z"
    },
    "papermill": {
     "duration": 3.604737,
     "end_time": "2020-11-20T16:58:47.791918",
     "exception": false,
     "start_time": "2020-11-20T16:58:44.187181",
     "status": "completed"
    },
    "tags": []
   },
   "outputs": [],
   "source": [
    "for test, sample_prediction in iter_test:\n",
    "    \n",
    "    try:\n",
    "        prior_correct = eval(test['prior_group_answers_correct'].iloc[0])\n",
    "        prior_correct = [a for a in prior_correct if a != -1]\n",
    "    except:\n",
    "        prior_correct = []\n",
    "    \n",
    "    # Add prior correct to test and update stored users\n",
    "    if prior_correct:\n",
    "        prior_test.insert(s_train.answered_correctly_index, 'answered_correctly', prior_correct)\n",
    "        for uid, user in prior_test.groupby('user_id'):\n",
    "            s_train.update_user(\n",
    "                uid, user.drop(columns='user_id').to_numpy())\n",
    "\n",
    "    # Filter test\n",
    "    test = test.loc[\n",
    "        test['content_type_id'] == 0,\n",
    "        columns\n",
    "    ]\n",
    "\n",
    "    # Add global features\n",
    "    test, _, _ = transform_df(test, questions)\n",
    "\n",
    "    # Save test for later\n",
    "    prior_test = test.drop(columns='row_id').copy()\n",
    "\n",
    "    # Make x\n",
    "    x = np.apply_along_axis(\n",
    "        s_train.get_user_for_inference,\n",
    "        1,\n",
    "        test.drop(columns='row_id').to_numpy()\n",
    "    )\n",
    "\n",
    "    # Predict\n",
    "    test['answered_correctly'] = model.predict(x, batch_size=x.shape[0])\n",
    "    \n",
    "    env.predict(test[['row_id', 'answered_correctly']])"
   ]
  },
  {
   "cell_type": "markdown",
   "metadata": {
    "papermill": {
     "duration": 2.458512,
     "end_time": "2020-11-20T16:58:52.114536",
     "exception": false,
     "start_time": "2020-11-20T16:58:49.656024",
     "status": "completed"
    },
    "tags": []
   },
   "source": [
    "Luckily with this contribution we can make the highest positions more competitive. Feel free to make use of this, fellas. Also, if you find interesting to make a team, just tell me!\n",
    "\n",
    "If you feel like there's something I can explain or extend let me know, please, it's a real quick sketch."
   ]
  }
 ],
 "metadata": {
  "kernelspec": {
   "display_name": "Python 3",
   "language": "python",
   "name": "python3"
  },
  "language_info": {
   "codemirror_mode": {
    "name": "ipython",
    "version": 3
   },
   "file_extension": ".py",
   "mimetype": "text/x-python",
   "name": "python",
   "nbconvert_exporter": "python",
   "pygments_lexer": "ipython3",
   "version": "3.7.8"
  },
  "papermill": {
   "duration": 911.930129,
   "end_time": "2020-11-20T16:58:56.287100",
   "environment_variables": {},
   "exception": null,
   "input_path": "__notebook__.ipynb",
   "output_path": "__notebook__.ipynb",
   "parameters": {},
   "start_time": "2020-11-20T16:43:44.356971",
   "version": "2.1.0"
  }
 },
 "nbformat": 4,
 "nbformat_minor": 4
}
