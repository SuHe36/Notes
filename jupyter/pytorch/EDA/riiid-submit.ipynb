{
 "cells": [
  {
   "cell_type": "markdown",
   "metadata": {
    "papermill": {
     "duration": 0.024102,
     "end_time": "2020-11-15T17:17:03.793578",
     "exception": false,
     "start_time": "2020-11-15T17:17:03.769476",
     "status": "completed"
    },
    "tags": []
   },
   "source": [
    "## Source Kernel\n",
    "This kernel generates and submits predictions using the model and features developed in the kernel titled [RIIID: BigQuery-XGBoost End-to-End](https://www.kaggle.com/calebeverett/riiid-bigquery-xgboost-end-to-end)."
   ]
  },
  {
   "cell_type": "code",
   "execution_count": 1,
   "metadata": {
    "execution": {
     "iopub.execute_input": "2020-11-15T17:17:03.846416Z",
     "iopub.status.busy": "2020-11-15T17:17:03.845456Z",
     "iopub.status.idle": "2020-11-15T17:17:05.976150Z",
     "shell.execute_reply": "2020-11-15T17:17:05.975475Z"
    },
    "papermill": {
     "duration": 2.159326,
     "end_time": "2020-11-15T17:17:05.976288",
     "exception": false,
     "start_time": "2020-11-15T17:17:03.816962",
     "status": "completed"
    },
    "tags": []
   },
   "outputs": [],
   "source": [
    "import gc\n",
    "import json\n",
    "import pandas as pd\n",
    "from pathlib import Path\n",
    "import sqlite3\n",
    "import riiideducation\n",
    "import time\n",
    "import xgboost as xgb"
   ]
  },
  {
   "cell_type": "code",
   "execution_count": 2,
   "metadata": {
    "execution": {
     "iopub.execute_input": "2020-11-15T17:17:06.029668Z",
     "iopub.status.busy": "2020-11-15T17:17:06.028709Z",
     "iopub.status.idle": "2020-11-15T17:17:06.032309Z",
     "shell.execute_reply": "2020-11-15T17:17:06.031561Z"
    },
    "papermill": {
     "duration": 0.032584,
     "end_time": "2020-11-15T17:17:06.032433",
     "exception": false,
     "start_time": "2020-11-15T17:17:05.999849",
     "status": "completed"
    },
    "tags": []
   },
   "outputs": [],
   "source": [
    "env = riiideducation.make_env()\n",
    "iter_test = env.iter_test()"
   ]
  },
  {
   "cell_type": "markdown",
   "metadata": {
    "papermill": {
     "duration": 0.023274,
     "end_time": "2020-11-15T17:17:06.079073",
     "exception": false,
     "start_time": "2020-11-15T17:17:06.055799",
     "status": "completed"
    },
    "tags": []
   },
   "source": [
    "## Load Model"
   ]
  },
  {
   "cell_type": "code",
   "execution_count": 3,
   "metadata": {
    "execution": {
     "iopub.execute_input": "2020-11-15T17:17:06.131750Z",
     "iopub.status.busy": "2020-11-15T17:17:06.130623Z",
     "iopub.status.idle": "2020-11-15T17:17:06.133906Z",
     "shell.execute_reply": "2020-11-15T17:17:06.133271Z"
    },
    "papermill": {
     "duration": 0.031788,
     "end_time": "2020-11-15T17:17:06.134066",
     "exception": false,
     "start_time": "2020-11-15T17:17:06.102278",
     "status": "completed"
    },
    "tags": []
   },
   "outputs": [],
   "source": [
    "PATH = Path('../input/riiid-submission')"
   ]
  },
  {
   "cell_type": "code",
   "execution_count": 4,
   "metadata": {
    "_kg_hide-output": true,
    "execution": {
     "iopub.execute_input": "2020-11-15T17:17:06.188764Z",
     "iopub.status.busy": "2020-11-15T17:17:06.187922Z",
     "iopub.status.idle": "2020-11-15T17:17:06.204285Z",
     "shell.execute_reply": "2020-11-15T17:17:06.203312Z"
    },
    "papermill": {
     "duration": 0.045693,
     "end_time": "2020-11-15T17:17:06.204474",
     "exception": false,
     "start_time": "2020-11-15T17:17:06.158781",
     "status": "completed"
    },
    "tags": []
   },
   "outputs": [
    {
     "name": "stdout",
     "output_type": "stream",
     "text": [
      "model loaded\n"
     ]
    }
   ],
   "source": [
    "model = xgb.Booster(model_file=PATH/'model.xgb')\n",
    "print('model loaded')"
   ]
  },
  {
   "cell_type": "markdown",
   "metadata": {
    "papermill": {
     "duration": 0.024924,
     "end_time": "2020-11-15T17:17:06.265595",
     "exception": false,
     "start_time": "2020-11-15T17:17:06.240671",
     "status": "completed"
    },
    "tags": []
   },
   "source": [
    "## Load State"
   ]
  },
  {
   "cell_type": "code",
   "execution_count": 5,
   "metadata": {
    "execution": {
     "iopub.execute_input": "2020-11-15T17:17:06.332433Z",
     "iopub.status.busy": "2020-11-15T17:17:06.331412Z",
     "iopub.status.idle": "2020-11-15T17:17:06.337807Z",
     "shell.execute_reply": "2020-11-15T17:17:06.337169Z"
    },
    "papermill": {
     "duration": 0.047767,
     "end_time": "2020-11-15T17:17:06.337973",
     "exception": false,
     "start_time": "2020-11-15T17:17:06.290206",
     "status": "completed"
    },
    "tags": []
   },
   "outputs": [
    {
     "name": "stdout",
     "output_type": "stream",
     "text": [
      "test_cols:\n",
      "answered_correctly_content_id_cumsum\n",
      "answered_correctly_cumsum\n",
      "answered_correctly_cumsum_pct\n",
      "answered_incorrectly_content_id_cumsum\n",
      "answered_incorrectly_cumsum\n",
      "part\n",
      "part_correct_pct\n",
      "question_id_correct_pct\n",
      "tag__0\n",
      "tag__0_correct_pct\n",
      "task_container_id\n",
      "timestamp\n"
     ]
    }
   ],
   "source": [
    "dtypes = {\n",
    "    'answered_correctly': 'int8',\n",
    "    'answered_correctly_content_id_cumsum': 'int16',\n",
    "    'answered_correctly_content_id_cumsum_pct': 'int16',\n",
    "    'answered_correctly_cumsum': 'int16',\n",
    "    'answered_correctly_cumsum_pct': 'int8',\n",
    "    'answered_correctly_cumsum_upto': 'int8',\n",
    "    'answered_correctly_rollsum': 'int8',\n",
    "    'answered_correctly_rollsum_pct': 'int8',\n",
    "    'answered_incorrectly': 'int8',\n",
    "    'answered_incorrectly_content_id_cumsum': 'int16',\n",
    "    'answered_incorrectly_cumsum': 'int16',\n",
    "    'answered_incorrectly_rollsum': 'int8',\n",
    "    'bundle_id': 'uint16',\n",
    "    'content_id': 'int16',\n",
    "    'content_type_id': 'int8',\n",
    "    'correct_answer': 'uint8',\n",
    "    'lecture_id': 'uint16',\n",
    "    'lectures_cumcount': 'int16',\n",
    "    'part': 'uint8',\n",
    "    'part_correct_pct': 'uint8',\n",
    "    'prior_question_elapsed_time': 'float32',\n",
    "    'prior_question_elapsed_time_rollavg': 'float32',\n",
    "    'prior_question_had_explanation': 'bool',\n",
    "    'question_id': 'uint16',\n",
    "    'question_id_correct_pct': 'uint8',\n",
    "    'row_id': 'int64',\n",
    "    'tag': 'uint8',\n",
    "    'tag__0': 'uint8',\n",
    "    'tag__0_correct_pct': 'uint8',\n",
    "    'tags': 'str',\n",
    "    'task_container_id': 'int16',\n",
    "    'task_container_id_orig': 'int16',\n",
    "    'timestamp': 'int64',\n",
    "    'type_of': 'str',\n",
    "    'user_answer': 'int8',\n",
    "    'user_id': 'int32'\n",
    "}\n",
    "\n",
    "batch_cols_all = [\n",
    "    'user_id',\n",
    "    'content_id',\n",
    "    'row_id',\n",
    "    'task_container_id',\n",
    "    'timestamp',\n",
    "    'prior_question_elapsed_time',\n",
    "    'prior_question_had_explanation'\n",
    "]\n",
    "\n",
    "batch_cols_prior = [\n",
    "    'user_id',\n",
    "    'content_id',\n",
    "    'content_type_id'\n",
    "]\n",
    "\n",
    "with open(PATH/'columns.json') as cj:\n",
    "    test_cols = json.load(cj)\n",
    "\n",
    "batch_cols = ['user_id', 'content_id', 'row_id'] + [c for c in batch_cols_all if c in test_cols]\n",
    "\n",
    "print('test_cols:')\n",
    "_ = list(map(print, test_cols))\n",
    "\n",
    "dtypes_test = {k: v for k,v in dtypes.items() if k in test_cols}\n",
    "dtypes_test = {**dtypes_test, **{'user_id': 'int32', 'content_id': 'int16'}}"
   ]
  },
  {
   "cell_type": "markdown",
   "metadata": {
    "papermill": {
     "duration": 0.025049,
     "end_time": "2020-11-15T17:17:06.388365",
     "exception": false,
     "start_time": "2020-11-15T17:17:06.363316",
     "status": "completed"
    },
    "tags": []
   },
   "source": [
    "### Load Users-Content"
   ]
  },
  {
   "cell_type": "code",
   "execution_count": 6,
   "metadata": {
    "execution": {
     "iopub.execute_input": "2020-11-15T17:17:06.444525Z",
     "iopub.status.busy": "2020-11-15T17:17:06.443616Z",
     "iopub.status.idle": "2020-11-15T17:17:10.428437Z",
     "shell.execute_reply": "2020-11-15T17:17:10.427645Z"
    },
    "papermill": {
     "duration": 4.015138,
     "end_time": "2020-11-15T17:17:10.428567",
     "exception": false,
     "start_time": "2020-11-15T17:17:06.413429",
     "status": "completed"
    },
    "tags": []
   },
   "outputs": [
    {
     "data": {
      "text/html": [
       "<div>\n",
       "<style scoped>\n",
       "    .dataframe tbody tr th:only-of-type {\n",
       "        vertical-align: middle;\n",
       "    }\n",
       "\n",
       "    .dataframe tbody tr th {\n",
       "        vertical-align: top;\n",
       "    }\n",
       "\n",
       "    .dataframe thead th {\n",
       "        text-align: right;\n",
       "    }\n",
       "</style>\n",
       "<table border=\"1\" class=\"dataframe\">\n",
       "  <thead>\n",
       "    <tr style=\"text-align: right;\">\n",
       "      <th></th>\n",
       "      <th>user_id</th>\n",
       "      <th>content_id</th>\n",
       "      <th>answered_correctly</th>\n",
       "      <th>answered_incorrectly</th>\n",
       "    </tr>\n",
       "  </thead>\n",
       "  <tbody>\n",
       "    <tr>\n",
       "      <th>0</th>\n",
       "      <td>115</td>\n",
       "      <td>4</td>\n",
       "      <td>0</td>\n",
       "      <td>1</td>\n",
       "    </tr>\n",
       "    <tr>\n",
       "      <th>1</th>\n",
       "      <td>115</td>\n",
       "      <td>6</td>\n",
       "      <td>1</td>\n",
       "      <td>0</td>\n",
       "    </tr>\n",
       "    <tr>\n",
       "      <th>2</th>\n",
       "      <td>115</td>\n",
       "      <td>25</td>\n",
       "      <td>1</td>\n",
       "      <td>0</td>\n",
       "    </tr>\n",
       "    <tr>\n",
       "      <th>3</th>\n",
       "      <td>115</td>\n",
       "      <td>45</td>\n",
       "      <td>0</td>\n",
       "      <td>1</td>\n",
       "    </tr>\n",
       "    <tr>\n",
       "      <th>4</th>\n",
       "      <td>115</td>\n",
       "      <td>50</td>\n",
       "      <td>1</td>\n",
       "      <td>0</td>\n",
       "    </tr>\n",
       "  </tbody>\n",
       "</table>\n",
       "</div>"
      ],
      "text/plain": [
       "   user_id  content_id  answered_correctly  answered_incorrectly\n",
       "0      115           4                   0                     1\n",
       "1      115           6                   1                     0\n",
       "2      115          25                   1                     0\n",
       "3      115          45                   0                     1\n",
       "4      115          50                   1                     0"
      ]
     },
     "execution_count": 6,
     "metadata": {},
     "output_type": "execute_result"
    }
   ],
   "source": [
    "df_users_content = pd.read_pickle(PATH/'df_users_content.pkl')\n",
    "df_users_content.head()"
   ]
  },
  {
   "cell_type": "markdown",
   "metadata": {
    "papermill": {
     "duration": 0.026255,
     "end_time": "2020-11-15T17:17:10.481826",
     "exception": false,
     "start_time": "2020-11-15T17:17:10.455571",
     "status": "completed"
    },
    "tags": []
   },
   "source": [
    "### Create Users Dataframe"
   ]
  },
  {
   "cell_type": "code",
   "execution_count": 7,
   "metadata": {
    "execution": {
     "iopub.execute_input": "2020-11-15T17:17:10.997573Z",
     "iopub.status.busy": "2020-11-15T17:17:10.996394Z",
     "iopub.status.idle": "2020-11-15T17:17:16.825867Z",
     "shell.execute_reply": "2020-11-15T17:17:16.825285Z"
    },
    "papermill": {
     "duration": 6.318293,
     "end_time": "2020-11-15T17:17:16.826032",
     "exception": false,
     "start_time": "2020-11-15T17:17:10.507739",
     "status": "completed"
    },
    "tags": []
   },
   "outputs": [
    {
     "data": {
      "text/html": [
       "<div>\n",
       "<style scoped>\n",
       "    .dataframe tbody tr th:only-of-type {\n",
       "        vertical-align: middle;\n",
       "    }\n",
       "\n",
       "    .dataframe tbody tr th {\n",
       "        vertical-align: top;\n",
       "    }\n",
       "\n",
       "    .dataframe thead th {\n",
       "        text-align: right;\n",
       "    }\n",
       "</style>\n",
       "<table border=\"1\" class=\"dataframe\">\n",
       "  <thead>\n",
       "    <tr style=\"text-align: right;\">\n",
       "      <th></th>\n",
       "      <th>user_id</th>\n",
       "      <th>answered_correctly</th>\n",
       "      <th>answered_incorrectly</th>\n",
       "    </tr>\n",
       "  </thead>\n",
       "  <tbody>\n",
       "    <tr>\n",
       "      <th>0</th>\n",
       "      <td>115</td>\n",
       "      <td>32</td>\n",
       "      <td>14</td>\n",
       "    </tr>\n",
       "    <tr>\n",
       "      <th>1</th>\n",
       "      <td>124</td>\n",
       "      <td>7</td>\n",
       "      <td>23</td>\n",
       "    </tr>\n",
       "    <tr>\n",
       "      <th>2</th>\n",
       "      <td>2746</td>\n",
       "      <td>11</td>\n",
       "      <td>8</td>\n",
       "    </tr>\n",
       "    <tr>\n",
       "      <th>3</th>\n",
       "      <td>5382</td>\n",
       "      <td>84</td>\n",
       "      <td>41</td>\n",
       "    </tr>\n",
       "    <tr>\n",
       "      <th>4</th>\n",
       "      <td>8623</td>\n",
       "      <td>70</td>\n",
       "      <td>39</td>\n",
       "    </tr>\n",
       "  </tbody>\n",
       "</table>\n",
       "</div>"
      ],
      "text/plain": [
       "   user_id  answered_correctly  answered_incorrectly\n",
       "0      115                  32                    14\n",
       "1      124                   7                    23\n",
       "2     2746                  11                     8\n",
       "3     5382                  84                    41\n",
       "4     8623                  70                    39"
      ]
     },
     "execution_count": 7,
     "metadata": {},
     "output_type": "execute_result"
    }
   ],
   "source": [
    "df_users = df_users_content[['user_id', 'answered_correctly', 'answered_incorrectly']].groupby('user_id').sum().reset_index()\n",
    "df_users = df_users.astype({'user_id': 'int32', 'answered_correctly': 'int16', 'answered_incorrectly': 'int16'})\n",
    "df_users.head()"
   ]
  },
  {
   "cell_type": "markdown",
   "metadata": {
    "papermill": {
     "duration": 0.025866,
     "end_time": "2020-11-15T17:17:16.878154",
     "exception": false,
     "start_time": "2020-11-15T17:17:16.852288",
     "status": "completed"
    },
    "tags": []
   },
   "source": [
    "### Load Questions\n",
    "Question related features joined with batches received from competition api prior to making predictions."
   ]
  },
  {
   "cell_type": "code",
   "execution_count": 8,
   "metadata": {
    "execution": {
     "iopub.execute_input": "2020-11-15T17:17:16.935881Z",
     "iopub.status.busy": "2020-11-15T17:17:16.935133Z",
     "iopub.status.idle": "2020-11-15T17:17:16.956495Z",
     "shell.execute_reply": "2020-11-15T17:17:16.955692Z"
    },
    "papermill": {
     "duration": 0.052453,
     "end_time": "2020-11-15T17:17:16.956618",
     "exception": false,
     "start_time": "2020-11-15T17:17:16.904165",
     "status": "completed"
    },
    "tags": []
   },
   "outputs": [
    {
     "data": {
      "text/html": [
       "<div>\n",
       "<style scoped>\n",
       "    .dataframe tbody tr th:only-of-type {\n",
       "        vertical-align: middle;\n",
       "    }\n",
       "\n",
       "    .dataframe tbody tr th {\n",
       "        vertical-align: top;\n",
       "    }\n",
       "\n",
       "    .dataframe thead th {\n",
       "        text-align: right;\n",
       "    }\n",
       "</style>\n",
       "<table border=\"1\" class=\"dataframe\">\n",
       "  <thead>\n",
       "    <tr style=\"text-align: right;\">\n",
       "      <th></th>\n",
       "      <th>question_id</th>\n",
       "      <th>bundle_id</th>\n",
       "      <th>correct_answer</th>\n",
       "      <th>part</th>\n",
       "      <th>tags</th>\n",
       "      <th>tag__0</th>\n",
       "      <th>part_correct_pct</th>\n",
       "      <th>tag__0_correct_pct</th>\n",
       "      <th>question_id_correct_pct</th>\n",
       "    </tr>\n",
       "  </thead>\n",
       "  <tbody>\n",
       "    <tr>\n",
       "      <th>808</th>\n",
       "      <td>0</td>\n",
       "      <td>0</td>\n",
       "      <td>0</td>\n",
       "      <td>1</td>\n",
       "      <td>[51, 131, 162, 38]</td>\n",
       "      <td>51</td>\n",
       "      <td>75</td>\n",
       "      <td>80</td>\n",
       "      <td>91</td>\n",
       "    </tr>\n",
       "    <tr>\n",
       "      <th>6089</th>\n",
       "      <td>1</td>\n",
       "      <td>1</td>\n",
       "      <td>1</td>\n",
       "      <td>1</td>\n",
       "      <td>[131, 36, 81]</td>\n",
       "      <td>131</td>\n",
       "      <td>75</td>\n",
       "      <td>80</td>\n",
       "      <td>89</td>\n",
       "    </tr>\n",
       "    <tr>\n",
       "      <th>2645</th>\n",
       "      <td>2</td>\n",
       "      <td>2</td>\n",
       "      <td>0</td>\n",
       "      <td>1</td>\n",
       "      <td>[131, 101, 162, 92]</td>\n",
       "      <td>131</td>\n",
       "      <td>75</td>\n",
       "      <td>80</td>\n",
       "      <td>55</td>\n",
       "    </tr>\n",
       "    <tr>\n",
       "      <th>2696</th>\n",
       "      <td>3</td>\n",
       "      <td>3</td>\n",
       "      <td>0</td>\n",
       "      <td>1</td>\n",
       "      <td>[131, 149, 162, 29]</td>\n",
       "      <td>131</td>\n",
       "      <td>75</td>\n",
       "      <td>80</td>\n",
       "      <td>78</td>\n",
       "    </tr>\n",
       "    <tr>\n",
       "      <th>12456</th>\n",
       "      <td>4</td>\n",
       "      <td>4</td>\n",
       "      <td>3</td>\n",
       "      <td>1</td>\n",
       "      <td>[131, 5, 162, 38]</td>\n",
       "      <td>131</td>\n",
       "      <td>75</td>\n",
       "      <td>80</td>\n",
       "      <td>61</td>\n",
       "    </tr>\n",
       "  </tbody>\n",
       "</table>\n",
       "</div>"
      ],
      "text/plain": [
       "       question_id  bundle_id  correct_answer  part                 tags  \\\n",
       "808              0          0               0     1   [51, 131, 162, 38]   \n",
       "6089             1          1               1     1        [131, 36, 81]   \n",
       "2645             2          2               0     1  [131, 101, 162, 92]   \n",
       "2696             3          3               0     1  [131, 149, 162, 29]   \n",
       "12456            4          4               3     1    [131, 5, 162, 38]   \n",
       "\n",
       "       tag__0  part_correct_pct  tag__0_correct_pct  question_id_correct_pct  \n",
       "808        51                75                  80                       91  \n",
       "6089      131                75                  80                       89  \n",
       "2645      131                75                  80                       55  \n",
       "2696      131                75                  80                       78  \n",
       "12456     131                75                  80                       61  "
      ]
     },
     "execution_count": 8,
     "metadata": {},
     "output_type": "execute_result"
    }
   ],
   "source": [
    "df_questions = pd.read_pickle(PATH/'df_questions.pkl')\n",
    "df_questions.head()"
   ]
  },
  {
   "cell_type": "markdown",
   "metadata": {
    "papermill": {
     "duration": 0.026525,
     "end_time": "2020-11-15T17:17:17.010125",
     "exception": false,
     "start_time": "2020-11-15T17:17:16.983600",
     "status": "completed"
    },
    "tags": []
   },
   "source": [
    "## Create Database"
   ]
  },
  {
   "cell_type": "code",
   "execution_count": 9,
   "metadata": {
    "execution": {
     "iopub.execute_input": "2020-11-15T17:17:17.069676Z",
     "iopub.status.busy": "2020-11-15T17:17:17.068689Z",
     "iopub.status.idle": "2020-11-15T17:17:17.072881Z",
     "shell.execute_reply": "2020-11-15T17:17:17.072093Z"
    },
    "papermill": {
     "duration": 0.036026,
     "end_time": "2020-11-15T17:17:17.073039",
     "exception": false,
     "start_time": "2020-11-15T17:17:17.037013",
     "status": "completed"
    },
    "tags": []
   },
   "outputs": [],
   "source": [
    "conn = sqlite3.connect(':memory:')\n",
    "cursor = conn.cursor()"
   ]
  },
  {
   "cell_type": "markdown",
   "metadata": {
    "papermill": {
     "duration": 0.028095,
     "end_time": "2020-11-15T17:17:17.128430",
     "exception": false,
     "start_time": "2020-11-15T17:17:17.100335",
     "status": "completed"
    },
    "tags": []
   },
   "source": [
    "### Create Users-Content Table"
   ]
  },
  {
   "cell_type": "code",
   "execution_count": 10,
   "metadata": {
    "execution": {
     "iopub.execute_input": "2020-11-15T17:17:17.198709Z",
     "iopub.status.busy": "2020-11-15T17:17:17.193907Z",
     "iopub.status.idle": "2020-11-15T17:21:01.740177Z",
     "shell.execute_reply": "2020-11-15T17:21:01.739291Z"
    },
    "papermill": {
     "duration": 224.583224,
     "end_time": "2020-11-15T17:21:01.740354",
     "exception": false,
     "start_time": "2020-11-15T17:17:17.157130",
     "status": "completed"
    },
    "tags": []
   },
   "outputs": [
    {
     "name": "stdout",
     "output_type": "stream",
     "text": [
      "CPU times: user 3min 31s, sys: 13.3 s, total: 3min 44s\n",
      "Wall time: 3min 44s\n"
     ]
    },
    {
     "data": {
      "text/plain": [
       "0"
      ]
     },
     "execution_count": 10,
     "metadata": {},
     "output_type": "execute_result"
    }
   ],
   "source": [
    "%%time\n",
    "\n",
    "chunk_size = 20000\n",
    "total = len(df_users_content)\n",
    "n_chunks = (total // chunk_size + 1)\n",
    "\n",
    "i = 0\n",
    "while i < n_chunks:\n",
    "    df_users_content.iloc[i * chunk_size:(i + 1) * chunk_size].to_sql('users_content', conn, method='multi', if_exists='append', index=False)\n",
    "    i += 1\n",
    "\n",
    "conn.execute('CREATE UNIQUE INDEX users_content_index ON users_content (user_id, content_id)')\n",
    "del df_users_content\n",
    "gc.collect()"
   ]
  },
  {
   "cell_type": "code",
   "execution_count": 11,
   "metadata": {
    "execution": {
     "iopub.execute_input": "2020-11-15T17:21:01.803468Z",
     "iopub.status.busy": "2020-11-15T17:21:01.802336Z",
     "iopub.status.idle": "2020-11-15T17:21:01.816621Z",
     "shell.execute_reply": "2020-11-15T17:21:01.815970Z"
    },
    "papermill": {
     "duration": 0.047869,
     "end_time": "2020-11-15T17:21:01.816746",
     "exception": false,
     "start_time": "2020-11-15T17:21:01.768877",
     "status": "completed"
    },
    "tags": []
   },
   "outputs": [
    {
     "name": "stdout",
     "output_type": "stream",
     "text": [
      "CPU times: user 3.3 ms, sys: 26 µs, total: 3.33 ms\n",
      "Wall time: 3.49 ms\n"
     ]
    },
    {
     "data": {
      "text/html": [
       "<div>\n",
       "<style scoped>\n",
       "    .dataframe tbody tr th:only-of-type {\n",
       "        vertical-align: middle;\n",
       "    }\n",
       "\n",
       "    .dataframe tbody tr th {\n",
       "        vertical-align: top;\n",
       "    }\n",
       "\n",
       "    .dataframe thead th {\n",
       "        text-align: right;\n",
       "    }\n",
       "</style>\n",
       "<table border=\"1\" class=\"dataframe\">\n",
       "  <thead>\n",
       "    <tr style=\"text-align: right;\">\n",
       "      <th></th>\n",
       "      <th>user_id</th>\n",
       "      <th>content_id</th>\n",
       "      <th>answered_correctly</th>\n",
       "      <th>answered_incorrectly</th>\n",
       "    </tr>\n",
       "  </thead>\n",
       "  <tbody>\n",
       "    <tr>\n",
       "      <th>0</th>\n",
       "      <td>115</td>\n",
       "      <td>4</td>\n",
       "      <td>0</td>\n",
       "      <td>1</td>\n",
       "    </tr>\n",
       "    <tr>\n",
       "      <th>1</th>\n",
       "      <td>115</td>\n",
       "      <td>6</td>\n",
       "      <td>1</td>\n",
       "      <td>0</td>\n",
       "    </tr>\n",
       "    <tr>\n",
       "      <th>2</th>\n",
       "      <td>115</td>\n",
       "      <td>25</td>\n",
       "      <td>1</td>\n",
       "      <td>0</td>\n",
       "    </tr>\n",
       "    <tr>\n",
       "      <th>3</th>\n",
       "      <td>115</td>\n",
       "      <td>45</td>\n",
       "      <td>0</td>\n",
       "      <td>1</td>\n",
       "    </tr>\n",
       "    <tr>\n",
       "      <th>4</th>\n",
       "      <td>115</td>\n",
       "      <td>50</td>\n",
       "      <td>1</td>\n",
       "      <td>0</td>\n",
       "    </tr>\n",
       "  </tbody>\n",
       "</table>\n",
       "</div>"
      ],
      "text/plain": [
       "   user_id  content_id  answered_correctly  answered_incorrectly\n",
       "0      115           4                   0                     1\n",
       "1      115           6                   1                     0\n",
       "2      115          25                   1                     0\n",
       "3      115          45                   0                     1\n",
       "4      115          50                   1                     0"
      ]
     },
     "execution_count": 11,
     "metadata": {},
     "output_type": "execute_result"
    }
   ],
   "source": [
    "%%time\n",
    "pd.read_sql('SELECT * from users_content LIMIT 5', conn)"
   ]
  },
  {
   "cell_type": "markdown",
   "metadata": {
    "papermill": {
     "duration": 0.02939,
     "end_time": "2020-11-15T17:21:01.875661",
     "exception": false,
     "start_time": "2020-11-15T17:21:01.846271",
     "status": "completed"
    },
    "tags": []
   },
   "source": [
    "### Create Users Table"
   ]
  },
  {
   "cell_type": "code",
   "execution_count": 12,
   "metadata": {
    "execution": {
     "iopub.execute_input": "2020-11-15T17:21:01.942810Z",
     "iopub.status.busy": "2020-11-15T17:21:01.941880Z",
     "iopub.status.idle": "2020-11-15T17:21:02.895875Z",
     "shell.execute_reply": "2020-11-15T17:21:02.895198Z"
    },
    "papermill": {
     "duration": 0.990856,
     "end_time": "2020-11-15T17:21:02.896028",
     "exception": false,
     "start_time": "2020-11-15T17:21:01.905172",
     "status": "completed"
    },
    "tags": []
   },
   "outputs": [
    {
     "name": "stdout",
     "output_type": "stream",
     "text": [
      "CPU times: user 914 ms, sys: 34.9 ms, total: 949 ms\n",
      "Wall time: 948 ms\n"
     ]
    },
    {
     "data": {
      "text/plain": [
       "0"
      ]
     },
     "execution_count": 12,
     "metadata": {},
     "output_type": "execute_result"
    }
   ],
   "source": [
    "%%time\n",
    "\n",
    "chunk_size = 20000\n",
    "total = len(df_users)\n",
    "n_chunks = (total // chunk_size + 1)\n",
    "\n",
    "i = 0\n",
    "while i < n_chunks:\n",
    "    df_users.iloc[i * chunk_size:(i + 1) * chunk_size].to_sql('users', conn, method='multi', if_exists='append', index=False)\n",
    "    i += 1\n",
    "\n",
    "_ = conn.execute('CREATE UNIQUE INDEX users_index ON users (user_id)')\n",
    "del df_users\n",
    "gc.collect()"
   ]
  },
  {
   "cell_type": "code",
   "execution_count": 13,
   "metadata": {
    "execution": {
     "iopub.execute_input": "2020-11-15T17:21:02.964495Z",
     "iopub.status.busy": "2020-11-15T17:21:02.963617Z",
     "iopub.status.idle": "2020-11-15T17:21:02.976344Z",
     "shell.execute_reply": "2020-11-15T17:21:02.975555Z"
    },
    "papermill": {
     "duration": 0.049103,
     "end_time": "2020-11-15T17:21:02.976476",
     "exception": false,
     "start_time": "2020-11-15T17:21:02.927373",
     "status": "completed"
    },
    "tags": []
   },
   "outputs": [
    {
     "name": "stdout",
     "output_type": "stream",
     "text": [
      "CPU times: user 1.7 ms, sys: 859 µs, total: 2.56 ms\n",
      "Wall time: 2.03 ms\n"
     ]
    },
    {
     "data": {
      "text/html": [
       "<div>\n",
       "<style scoped>\n",
       "    .dataframe tbody tr th:only-of-type {\n",
       "        vertical-align: middle;\n",
       "    }\n",
       "\n",
       "    .dataframe tbody tr th {\n",
       "        vertical-align: top;\n",
       "    }\n",
       "\n",
       "    .dataframe thead th {\n",
       "        text-align: right;\n",
       "    }\n",
       "</style>\n",
       "<table border=\"1\" class=\"dataframe\">\n",
       "  <thead>\n",
       "    <tr style=\"text-align: right;\">\n",
       "      <th></th>\n",
       "      <th>user_id</th>\n",
       "      <th>answered_correctly</th>\n",
       "      <th>answered_incorrectly</th>\n",
       "    </tr>\n",
       "  </thead>\n",
       "  <tbody>\n",
       "    <tr>\n",
       "      <th>0</th>\n",
       "      <td>115</td>\n",
       "      <td>32</td>\n",
       "      <td>14</td>\n",
       "    </tr>\n",
       "    <tr>\n",
       "      <th>1</th>\n",
       "      <td>124</td>\n",
       "      <td>7</td>\n",
       "      <td>23</td>\n",
       "    </tr>\n",
       "    <tr>\n",
       "      <th>2</th>\n",
       "      <td>2746</td>\n",
       "      <td>11</td>\n",
       "      <td>8</td>\n",
       "    </tr>\n",
       "    <tr>\n",
       "      <th>3</th>\n",
       "      <td>5382</td>\n",
       "      <td>84</td>\n",
       "      <td>41</td>\n",
       "    </tr>\n",
       "    <tr>\n",
       "      <th>4</th>\n",
       "      <td>8623</td>\n",
       "      <td>70</td>\n",
       "      <td>39</td>\n",
       "    </tr>\n",
       "  </tbody>\n",
       "</table>\n",
       "</div>"
      ],
      "text/plain": [
       "   user_id  answered_correctly  answered_incorrectly\n",
       "0      115                  32                    14\n",
       "1      124                   7                    23\n",
       "2     2746                  11                     8\n",
       "3     5382                  84                    41\n",
       "4     8623                  70                    39"
      ]
     },
     "execution_count": 13,
     "metadata": {},
     "output_type": "execute_result"
    }
   ],
   "source": [
    "%%time\n",
    "pd.read_sql('SELECT * from users LIMIT 5', conn)"
   ]
  },
  {
   "cell_type": "markdown",
   "metadata": {
    "papermill": {
     "duration": 0.031135,
     "end_time": "2020-11-15T17:21:03.039471",
     "exception": false,
     "start_time": "2020-11-15T17:21:03.008336",
     "status": "completed"
    },
    "tags": []
   },
   "source": [
    "### Create Questions Table"
   ]
  },
  {
   "cell_type": "code",
   "execution_count": 14,
   "metadata": {
    "execution": {
     "iopub.execute_input": "2020-11-15T17:21:03.112502Z",
     "iopub.status.busy": "2020-11-15T17:21:03.111738Z",
     "iopub.status.idle": "2020-11-15T17:21:03.306140Z",
     "shell.execute_reply": "2020-11-15T17:21:03.307056Z"
    },
    "papermill": {
     "duration": 0.235883,
     "end_time": "2020-11-15T17:21:03.307235",
     "exception": false,
     "start_time": "2020-11-15T17:21:03.071352",
     "status": "completed"
    },
    "tags": []
   },
   "outputs": [
    {
     "name": "stdout",
     "output_type": "stream",
     "text": [
      "CPU times: user 183 ms, sys: 8.07 ms, total: 191 ms\n",
      "Wall time: 190 ms\n"
     ]
    },
    {
     "data": {
      "text/plain": [
       "0"
      ]
     },
     "execution_count": 14,
     "metadata": {},
     "output_type": "execute_result"
    }
   ],
   "source": [
    "%%time\n",
    "\n",
    "q_cols = [\n",
    "    'question_id',\n",
    "    'part',\n",
    "    'tag__0',\n",
    "    'part_correct_pct',\n",
    "    'tag__0_correct_pct',\n",
    "    'question_id_correct_pct'\n",
    "]\n",
    "\n",
    "df_questions[q_cols].to_sql('questions', conn, method='multi', index=False)\n",
    "_ = conn.execute('CREATE UNIQUE INDEX question_id_index ON questions (question_id)')\n",
    "del df_questions\n",
    "gc.collect()"
   ]
  },
  {
   "cell_type": "code",
   "execution_count": 15,
   "metadata": {
    "execution": {
     "iopub.execute_input": "2020-11-15T17:21:03.379875Z",
     "iopub.status.busy": "2020-11-15T17:21:03.378658Z",
     "iopub.status.idle": "2020-11-15T17:21:03.400104Z",
     "shell.execute_reply": "2020-11-15T17:21:03.399147Z"
    },
    "papermill": {
     "duration": 0.060079,
     "end_time": "2020-11-15T17:21:03.400279",
     "exception": false,
     "start_time": "2020-11-15T17:21:03.340200",
     "status": "completed"
    },
    "tags": []
   },
   "outputs": [
    {
     "name": "stdout",
     "output_type": "stream",
     "text": [
      "CPU times: user 3.74 ms, sys: 0 ns, total: 3.74 ms\n",
      "Wall time: 3.28 ms\n"
     ]
    },
    {
     "data": {
      "text/html": [
       "<div>\n",
       "<style scoped>\n",
       "    .dataframe tbody tr th:only-of-type {\n",
       "        vertical-align: middle;\n",
       "    }\n",
       "\n",
       "    .dataframe tbody tr th {\n",
       "        vertical-align: top;\n",
       "    }\n",
       "\n",
       "    .dataframe thead th {\n",
       "        text-align: right;\n",
       "    }\n",
       "</style>\n",
       "<table border=\"1\" class=\"dataframe\">\n",
       "  <thead>\n",
       "    <tr style=\"text-align: right;\">\n",
       "      <th></th>\n",
       "      <th>question_id</th>\n",
       "      <th>part</th>\n",
       "      <th>tag__0</th>\n",
       "      <th>part_correct_pct</th>\n",
       "      <th>tag__0_correct_pct</th>\n",
       "      <th>question_id_correct_pct</th>\n",
       "    </tr>\n",
       "  </thead>\n",
       "  <tbody>\n",
       "    <tr>\n",
       "      <th>0</th>\n",
       "      <td>0</td>\n",
       "      <td>1</td>\n",
       "      <td>51</td>\n",
       "      <td>75</td>\n",
       "      <td>80</td>\n",
       "      <td>91</td>\n",
       "    </tr>\n",
       "    <tr>\n",
       "      <th>1</th>\n",
       "      <td>1</td>\n",
       "      <td>1</td>\n",
       "      <td>131</td>\n",
       "      <td>75</td>\n",
       "      <td>80</td>\n",
       "      <td>89</td>\n",
       "    </tr>\n",
       "    <tr>\n",
       "      <th>2</th>\n",
       "      <td>2</td>\n",
       "      <td>1</td>\n",
       "      <td>131</td>\n",
       "      <td>75</td>\n",
       "      <td>80</td>\n",
       "      <td>55</td>\n",
       "    </tr>\n",
       "    <tr>\n",
       "      <th>3</th>\n",
       "      <td>3</td>\n",
       "      <td>1</td>\n",
       "      <td>131</td>\n",
       "      <td>75</td>\n",
       "      <td>80</td>\n",
       "      <td>78</td>\n",
       "    </tr>\n",
       "    <tr>\n",
       "      <th>4</th>\n",
       "      <td>4</td>\n",
       "      <td>1</td>\n",
       "      <td>131</td>\n",
       "      <td>75</td>\n",
       "      <td>80</td>\n",
       "      <td>61</td>\n",
       "    </tr>\n",
       "  </tbody>\n",
       "</table>\n",
       "</div>"
      ],
      "text/plain": [
       "   question_id  part  tag__0  part_correct_pct  tag__0_correct_pct  \\\n",
       "0            0     1      51                75                  80   \n",
       "1            1     1     131                75                  80   \n",
       "2            2     1     131                75                  80   \n",
       "3            3     1     131                75                  80   \n",
       "4            4     1     131                75                  80   \n",
       "\n",
       "   question_id_correct_pct  \n",
       "0                       91  \n",
       "1                       89  \n",
       "2                       55  \n",
       "3                       78  \n",
       "4                       61  "
      ]
     },
     "execution_count": 15,
     "metadata": {},
     "output_type": "execute_result"
    }
   ],
   "source": [
    "%%time\n",
    "pd.read_sql('SELECT * from questions LIMIT 5', conn)"
   ]
  },
  {
   "cell_type": "code",
   "execution_count": 16,
   "metadata": {
    "execution": {
     "iopub.execute_input": "2020-11-15T17:21:03.484955Z",
     "iopub.status.busy": "2020-11-15T17:21:03.483719Z",
     "iopub.status.idle": "2020-11-15T17:21:03.490525Z",
     "shell.execute_reply": "2020-11-15T17:21:03.491173Z"
    },
    "papermill": {
     "duration": 0.046918,
     "end_time": "2020-11-15T17:21:03.491353",
     "exception": false,
     "start_time": "2020-11-15T17:21:03.444435",
     "status": "completed"
    },
    "tags": []
   },
   "outputs": [
    {
     "name": "stdout",
     "output_type": "stream",
     "text": [
      "Total size of database is: 3.061 GB\n"
     ]
    }
   ],
   "source": [
    "db_size = pd.read_sql('SELECT page_count * page_size as size FROM pragma_page_count(), pragma_page_size()', conn)['size'][0]\n",
    "print(f'Total size of database is: {db_size/1e9:0.3f} GB')"
   ]
  },
  {
   "cell_type": "code",
   "execution_count": 17,
   "metadata": {
    "execution": {
     "iopub.execute_input": "2020-11-15T17:21:03.576704Z",
     "iopub.status.busy": "2020-11-15T17:21:03.575607Z",
     "iopub.status.idle": "2020-11-15T17:21:03.578922Z",
     "shell.execute_reply": "2020-11-15T17:21:03.578213Z"
    },
    "papermill": {
     "duration": 0.053174,
     "end_time": "2020-11-15T17:21:03.579063",
     "exception": false,
     "start_time": "2020-11-15T17:21:03.525889",
     "status": "completed"
    },
    "tags": []
   },
   "outputs": [],
   "source": [
    "import sys\n",
    "if True:\n",
    "    local_vars = list(locals().items())\n",
    "    for var, obj in local_vars:\n",
    "        size = sys.getsizeof(obj)\n",
    "        if size > 1e7:\n",
    "            print(f'{var:<18}{size/1e6:>10,.1f} MB')"
   ]
  },
  {
   "cell_type": "markdown",
   "metadata": {
    "papermill": {
     "duration": 0.034058,
     "end_time": "2020-11-15T17:21:03.647921",
     "exception": false,
     "start_time": "2020-11-15T17:21:03.613863",
     "status": "completed"
    },
    "tags": []
   },
   "source": [
    "## Predict"
   ]
  },
  {
   "cell_type": "markdown",
   "metadata": {
    "papermill": {
     "duration": 0.033934,
     "end_time": "2020-11-15T17:21:03.717148",
     "exception": false,
     "start_time": "2020-11-15T17:21:03.683214",
     "status": "completed"
    },
    "tags": []
   },
   "source": [
    "### Get State"
   ]
  },
  {
   "cell_type": "code",
   "execution_count": 18,
   "metadata": {
    "execution": {
     "iopub.execute_input": "2020-11-15T17:21:03.794836Z",
     "iopub.status.busy": "2020-11-15T17:21:03.793658Z",
     "iopub.status.idle": "2020-11-15T17:21:03.797307Z",
     "shell.execute_reply": "2020-11-15T17:21:03.796523Z"
    },
    "papermill": {
     "duration": 0.046064,
     "end_time": "2020-11-15T17:21:03.797437",
     "exception": false,
     "start_time": "2020-11-15T17:21:03.751373",
     "status": "completed"
    },
    "tags": []
   },
   "outputs": [],
   "source": [
    "def select_state(batch_cols, records):\n",
    "    return f\"\"\"\n",
    "        WITH b ({(', ').join(batch_cols)}) AS (\n",
    "        VALUES {(', ').join(list(map(str, records)))}\n",
    "        )\n",
    "        SELECT\n",
    "            {(', ').join([f'b.{col}' for col in batch_cols])},\n",
    "            IFNULL(answered_correctly_cumsum, 0) answered_correctly_cumsum, \n",
    "            IFNULL(answered_incorrectly_cumsum, 0) answered_incorrectly_cumsum,\n",
    "            IIF(\n",
    "                (answered_correctly_cumsum + answered_incorrectly_cumsum) > 0,\n",
    "                answered_correctly_cumsum * 100 / (answered_correctly_cumsum + answered_incorrectly_cumsum),\n",
    "                0\n",
    "            ) answered_correctly_cumsum_pct,\n",
    "            IFNULL(answered_correctly_content_id_cumsum, 0) answered_correctly_content_id_cumsum,\n",
    "            IFNULL(answered_incorrectly_content_id_cumsum, 0) answered_incorrectly_content_id_cumsum,\n",
    "            {(', ').join(q_cols)}\n",
    "        FROM b\n",
    "        LEFT JOIN (\n",
    "            SELECT user_id, answered_correctly answered_correctly_cumsum,\n",
    "                answered_incorrectly answered_incorrectly_cumsum\n",
    "            FROM users\n",
    "            WHERE {(' OR ').join([f'user_id = {r[0]}' for r in records])}\n",
    "        ) u ON (u.user_id = b.user_id)\n",
    "        LEFT JOIN (\n",
    "            SELECT user_id, content_id, answered_correctly answered_correctly_content_id_cumsum, \n",
    "            answered_incorrectly answered_incorrectly_content_id_cumsum\n",
    "            FROM users_content uc\n",
    "            WHERE {(' OR ').join([f'(user_id = {r[0]} AND content_id = {r[1]})' for r in records])}\n",
    "        ) uc ON (uc.user_id = b.user_id AND uc.content_id = b.content_id)\n",
    "        LEFT JOIN (\n",
    "            SELECT {(', ').join(q_cols)}\n",
    "            FROM questions\n",
    "        ) q ON (q.question_id = b.content_id)\n",
    "    \"\"\""
   ]
  },
  {
   "cell_type": "markdown",
   "metadata": {
    "papermill": {
     "duration": 0.034101,
     "end_time": "2020-11-15T17:21:03.866480",
     "exception": false,
     "start_time": "2020-11-15T17:21:03.832379",
     "status": "completed"
    },
    "tags": []
   },
   "source": [
    "### Update State"
   ]
  },
  {
   "cell_type": "code",
   "execution_count": 19,
   "metadata": {
    "execution": {
     "iopub.execute_input": "2020-11-15T17:21:03.944595Z",
     "iopub.status.busy": "2020-11-15T17:21:03.943705Z",
     "iopub.status.idle": "2020-11-15T17:21:03.946829Z",
     "shell.execute_reply": "2020-11-15T17:21:03.946090Z"
    },
    "papermill": {
     "duration": 0.045738,
     "end_time": "2020-11-15T17:21:03.946979",
     "exception": false,
     "start_time": "2020-11-15T17:21:03.901241",
     "status": "completed"
    },
    "tags": []
   },
   "outputs": [],
   "source": [
    "def update_state(df):\n",
    "    \n",
    "    def get_select_params(r):\n",
    "        values_uc = f'({r.user_id}, {r.content_id}, {r.answered_correctly}, {1-r.answered_correctly})'\n",
    "        values_u = f'({r.user_id}, {r.answered_correctly}, {1-r.answered_correctly})'\n",
    "        return values_uc, values_u\n",
    "    \n",
    "    values = df.apply(get_select_params, axis=1, result_type='expand')\n",
    "    \n",
    "    return f\"\"\"\n",
    "        INSERT INTO users_content(user_id, content_id, answered_correctly, answered_incorrectly)\n",
    "        VALUES {(',').join(values[0])}\n",
    "        ON CONFLICT(user_id, content_id) DO UPDATE SET\n",
    "            answered_correctly = answered_correctly + excluded.answered_correctly,\n",
    "            answered_incorrectly = answered_incorrectly + excluded.answered_incorrectly;\n",
    "             \n",
    "        INSERT INTO users(user_id, answered_correctly, answered_incorrectly)\n",
    "        VALUES {(',').join(values[1])}\n",
    "        ON CONFLICT(user_id) DO UPDATE SET\n",
    "            answered_correctly = answered_correctly + excluded.answered_correctly,\n",
    "            answered_incorrectly = answered_incorrectly + excluded.answered_incorrectly;\n",
    "    \"\"\""
   ]
  },
  {
   "cell_type": "code",
   "execution_count": 20,
   "metadata": {
    "execution": {
     "iopub.execute_input": "2020-11-15T17:21:04.029255Z",
     "iopub.status.busy": "2020-11-15T17:21:04.028406Z",
     "iopub.status.idle": "2020-11-15T17:21:04.225029Z",
     "shell.execute_reply": "2020-11-15T17:21:04.225859Z"
    },
    "papermill": {
     "duration": 0.244017,
     "end_time": "2020-11-15T17:21:04.226072",
     "exception": false,
     "start_time": "2020-11-15T17:21:03.982055",
     "status": "completed"
    },
    "tags": []
   },
   "outputs": [
    {
     "name": "stdout",
     "output_type": "stream",
     "text": [
      "CPU times: user 479 ms, sys: 17 ms, total: 496 ms\n",
      "Wall time: 195 ms\n"
     ]
    }
   ],
   "source": [
    "%%time\n",
    "df_batch_prior = None\n",
    "counter = 0\n",
    "\n",
    "for test_batch in iter_test:\n",
    "    counter += 1\n",
    "\n",
    "    # update state\n",
    "    if df_batch_prior is not None:\n",
    "        answers = eval(test_batch[0]['prior_group_answers_correct'].iloc[0])\n",
    "        df_batch_prior['answered_correctly'] = answers\n",
    "        cursor.executescript(update_state(df_batch_prior[df_batch_prior.content_type_id == 0]))\n",
    "\n",
    "        if not counter % 100:\n",
    "            conn.commit()\n",
    "\n",
    "    # save prior batch for state update\n",
    "    df_batch_prior = test_batch[0][batch_cols_prior].astype({k: dtypes[k] for k in batch_cols_prior})\n",
    "\n",
    "    # get state\n",
    "    df_batch = test_batch[0][test_batch[0].content_type_id == 0]\n",
    "    records = df_batch[batch_cols].fillna(0).to_records(index=False)\n",
    "    df_batch = pd.read_sql(select_state(batch_cols, records), conn)\n",
    "\n",
    "    # predict\n",
    "    predictions = model.predict(xgb.DMatrix(df_batch[test_cols]))\n",
    "    df_batch['answered_correctly'] = predictions\n",
    "\n",
    "    #submit\n",
    "    env.predict(df_batch[['row_id', 'answered_correctly']])"
   ]
  }
 ],
 "metadata": {
  "kernelspec": {
   "display_name": "Python 3",
   "language": "python",
   "name": "python3"
  },
  "language_info": {
   "codemirror_mode": {
    "name": "ipython",
    "version": 3
   },
   "file_extension": ".py",
   "mimetype": "text/x-python",
   "name": "python",
   "nbconvert_exporter": "python",
   "pygments_lexer": "ipython3",
   "version": "3.7.8"
  },
  "papermill": {
   "duration": 246.174704,
   "end_time": "2020-11-15T17:21:04.615677",
   "environment_variables": {},
   "exception": null,
   "input_path": "__notebook__.ipynb",
   "output_path": "__notebook__.ipynb",
   "parameters": {},
   "start_time": "2020-11-15T17:16:58.440973",
   "version": "2.1.0"
  }
 },
 "nbformat": 4,
 "nbformat_minor": 4
}
