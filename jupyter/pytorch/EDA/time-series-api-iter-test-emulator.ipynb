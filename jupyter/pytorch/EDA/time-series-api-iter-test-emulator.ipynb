{
 "cells": [
  {
   "cell_type": "markdown",
   "metadata": {
    "papermill": {
     "duration": 0.011926,
     "end_time": "2020-11-13T13:58:07.847827",
     "exception": false,
     "start_time": "2020-11-13T13:58:07.835901",
     "status": "completed"
    },
    "tags": []
   },
   "source": [
    "## Time-series API (iter_test) Emulator \n",
    "\n",
    "This script emulate all the features that have been officially announced about Time-series API:\n",
    "<pre>\n",
    "The hidden test set contains new users but not new questions.\n",
    "The test data follows chronologically after the train data. The test iterations give interactions of users chronologically.\n",
    "Each group will contain interactions from many different users, but no more than one task_container_id of questions from any single user. \n",
    "Each group has between 1 and 1000 users.\n",
    "Expect to see roughly 2.5 million questions in the hidden test set.\n",
    "The API will also consume roughly 15 minutes of runtime for loading and serving the data.\n",
    "The API loads the data using the types specified in Data Description page.\n",
    "</pre>\n",
    "\n",
    "I hope this helps to validation, especially for reducing \"Submission Scoring Error\".\n",
    "\n",
    "This emulator may help to check following which can't check with official visible test:\n",
    "* Memory usage\n",
    "* Disk size consumed\n",
    "* The time it took to inference\n",
    "* Handling of New Users\n",
    "* Handling of not only questions but also lectures.\n",
    "* etc.\n",
    "\n",
    "To deal with \"Submission Scoring Error\", you'd better to refer to [this discussion](https://www.kaggle.com/c/riiid-test-answer-prediction/discussion/192124).\n",
    "\n",
    "And, of course, this will help you to check your validation score.\n"
   ]
  },
  {
   "cell_type": "code",
   "execution_count": 12,
   "metadata": {
    "_cell_guid": "b1076dfc-b9ad-4769-8c92-a6c4dae69d19",
    "_uuid": "8f2839f25d086af736a60e9eeb907d3b93b6e0e5",
    "execution": {
     "iopub.execute_input": "2020-11-13T13:58:07.876468Z",
     "iopub.status.busy": "2020-11-13T13:58:07.875730Z",
     "iopub.status.idle": "2020-11-13T13:58:08.979286Z",
     "shell.execute_reply": "2020-11-13T13:58:08.978529Z"
    },
    "papermill": {
     "duration": 1.120161,
     "end_time": "2020-11-13T13:58:08.979430",
     "exception": false,
     "start_time": "2020-11-13T13:58:07.859269",
     "status": "completed"
    },
    "tags": []
   },
   "outputs": [],
   "source": [
    "import pandas as pd\n",
    "import numpy as np\n",
    "from tqdm.notebook import tqdm\n",
    "import time\n",
    "from sklearn.metrics import roc_auc_score"
   ]
  },
  {
   "cell_type": "markdown",
   "metadata": {
    "papermill": {
     "duration": 0.015995,
     "end_time": "2020-11-13T13:58:09.011611",
     "exception": false,
     "start_time": "2020-11-13T13:58:08.995616",
     "status": "completed"
    },
    "tags": []
   },
   "source": [
    "## loading validation file.\n",
    "This file is made by following notebook:\n",
    "https://www.kaggle.com/its7171/cv-strategy\n",
    "\n"
   ]
  },
  {
   "cell_type": "code",
   "execution_count": 13,
   "metadata": {
    "execution": {
     "iopub.execute_input": "2020-11-13T13:58:09.045382Z",
     "iopub.status.busy": "2020-11-13T13:58:09.044503Z",
     "iopub.status.idle": "2020-11-13T13:58:25.791175Z",
     "shell.execute_reply": "2020-11-13T13:58:25.790216Z"
    },
    "papermill": {
     "duration": 16.764074,
     "end_time": "2020-11-13T13:58:25.791356",
     "exception": false,
     "start_time": "2020-11-13T13:58:09.027282",
     "status": "completed"
    },
    "tags": []
   },
   "outputs": [],
   "source": [
    "target_df = pd.read_pickle('/Users/hesu/Documents/KT/riiid/cv1_train.pickle')"
   ]
  },
  {
   "cell_type": "code",
   "execution_count": 14,
   "metadata": {
    "execution": {
     "iopub.execute_input": "2020-11-13T13:58:25.855451Z",
     "iopub.status.busy": "2020-11-13T13:58:25.854277Z",
     "iopub.status.idle": "2020-11-13T13:58:25.860991Z",
     "shell.execute_reply": "2020-11-13T13:58:25.860097Z"
    },
    "papermill": {
     "duration": 0.0463,
     "end_time": "2020-11-13T13:58:25.861174",
     "exception": false,
     "start_time": "2020-11-13T13:58:25.814874",
     "status": "completed"
    },
    "tags": []
   },
   "outputs": [],
   "source": [
    "# I use the middle 2.5M range here.\n",
    "target_df = target_df[50_000_000:52_500_000]"
   ]
  },
  {
   "cell_type": "markdown",
   "metadata": {
    "papermill": {
     "duration": 0.015346,
     "end_time": "2020-11-13T13:58:25.892415",
     "exception": false,
     "start_time": "2020-11-13T13:58:25.877069",
     "status": "completed"
    },
    "tags": []
   },
   "source": [
    "## iter_test emulator\n",
    "This class emulate iter_test()"
   ]
  },
  {
   "cell_type": "code",
   "execution_count": 15,
   "metadata": {
    "_cell_guid": "79c7e3d0-c299-4dcb-8224-4455121ee9b0",
    "_uuid": "d629ff2d2480ee46fbb7e2d37f6b5fab8052498a",
    "execution": {
     "iopub.execute_input": "2020-11-13T13:58:25.947617Z",
     "iopub.status.busy": "2020-11-13T13:58:25.946240Z",
     "iopub.status.idle": "2020-11-13T13:58:25.949148Z",
     "shell.execute_reply": "2020-11-13T13:58:25.949774Z"
    },
    "papermill": {
     "duration": 0.045849,
     "end_time": "2020-11-13T13:58:25.949972",
     "exception": false,
     "start_time": "2020-11-13T13:58:25.904123",
     "status": "completed"
    },
    "tags": []
   },
   "outputs": [],
   "source": [
    "class Iter_Valid(object):\n",
    "    def __init__(self, df, max_user=1000):\n",
    "        df = df.reset_index(drop=True)\n",
    "        self.df = df\n",
    "        self.user_answer = df['user_answer'].astype(str).values\n",
    "        self.answered_correctly = df['answered_correctly'].astype(str).values\n",
    "        df['prior_group_responses'] = \"[]\"\n",
    "        df['prior_group_answers_correct'] = \"[]\"\n",
    "        self.sample_df = df[df['content_type_id'] == 0][['row_id']]\n",
    "        self.sample_df['answered_correctly'] = 0\n",
    "        self.len = len(df)\n",
    "        self.user_id = df.user_id.values\n",
    "        self.task_container_id = df.task_container_id.values\n",
    "        self.content_type_id = df.content_type_id.values\n",
    "        self.max_user = max_user\n",
    "        self.current = 0\n",
    "        self.pre_user_answer_list = []\n",
    "        self.pre_answered_correctly_list = []\n",
    "\n",
    "    def __iter__(self):\n",
    "        return self\n",
    "    \n",
    "    def fix_df(self, user_answer_list, answered_correctly_list, pre_start):\n",
    "        df= self.df[pre_start:self.current].copy()\n",
    "        sample_df = self.sample_df[pre_start:self.current].copy()\n",
    "        df.loc[pre_start,'prior_group_responses'] = '[' + \",\".join(self.pre_user_answer_list) + ']'\n",
    "        df.loc[pre_start,'prior_group_answers_correct'] = '[' + \",\".join(self.pre_answered_correctly_list) + ']'\n",
    "        self.pre_user_answer_list = user_answer_list\n",
    "        self.pre_answered_correctly_list = answered_correctly_list\n",
    "        return df, sample_df\n",
    "\n",
    "    def __next__(self):\n",
    "        added_user = set()\n",
    "        pre_start = self.current\n",
    "        pre_added_user = -1\n",
    "        pre_task_container_id = -1\n",
    "        pre_content_type_id = -1\n",
    "        user_answer_list = []\n",
    "        answered_correctly_list = []\n",
    "        while self.current < self.len:\n",
    "            crr_user_id = self.user_id[self.current]\n",
    "            crr_task_container_id = self.task_container_id[self.current]\n",
    "            crr_content_type_id = self.content_type_id[self.current]\n",
    "            if crr_user_id in added_user and (crr_user_id != pre_added_user or (crr_task_container_id != pre_task_container_id and crr_content_type_id == 0 and pre_content_type_id == 0)):\n",
    "                # known user(not prev user or (differnt task container and both question))\n",
    "                return self.fix_df(user_answer_list, answered_correctly_list, pre_start)\n",
    "            if len(added_user) == self.max_user:\n",
    "                if  crr_user_id == pre_added_user and (crr_task_container_id == pre_task_container_id or crr_content_type_id == 1):\n",
    "                    user_answer_list.append(self.user_answer[self.current])\n",
    "                    answered_correctly_list.append(self.answered_correctly[self.current])\n",
    "                    self.current += 1\n",
    "                    continue\n",
    "                else:\n",
    "                    return self.fix_df(user_answer_list, answered_correctly_list, pre_start)\n",
    "            added_user.add(crr_user_id)\n",
    "            pre_added_user = crr_user_id\n",
    "            pre_task_container_id = crr_task_container_id\n",
    "            pre_content_type_id = crr_content_type_id\n",
    "            user_answer_list.append(self.user_answer[self.current])\n",
    "            answered_correctly_list.append(self.answered_correctly[self.current])\n",
    "            self.current += 1\n",
    "        if pre_start < self.current:\n",
    "            return self.fix_df(user_answer_list, answered_correctly_list, pre_start)\n",
    "        else:\n",
    "            raise StopIteration()"
   ]
  },
  {
   "cell_type": "markdown",
   "metadata": {
    "papermill": {
     "duration": 0.016222,
     "end_time": "2020-11-13T13:58:25.982376",
     "exception": false,
     "start_time": "2020-11-13T13:58:25.966154",
     "status": "completed"
    },
    "tags": []
   },
   "source": [
    "## emulator setting"
   ]
  },
  {
   "cell_type": "code",
   "execution_count": 16,
   "metadata": {
    "execution": {
     "iopub.execute_input": "2020-11-13T13:58:26.015795Z",
     "iopub.status.busy": "2020-11-13T13:58:26.014933Z",
     "iopub.status.idle": "2020-11-13T13:58:33.597245Z",
     "shell.execute_reply": "2020-11-13T13:58:33.596452Z"
    },
    "papermill": {
     "duration": 7.602863,
     "end_time": "2020-11-13T13:58:33.597374",
     "exception": false,
     "start_time": "2020-11-13T13:58:25.994511",
     "status": "completed"
    },
    "tags": []
   },
   "outputs": [],
   "source": [
    "validaten_flg = True\n",
    "if validaten_flg:\n",
    "    iter_test = Iter_Valid(target_df,max_user=1000)\n",
    "    predicted = []\n",
    "    def set_predict(df):\n",
    "        predicted.append(df)\n",
    "else:\n",
    "    import riiideducation\n",
    "    env = riiideducation.make_env()\n",
    "    iter_test = env.iter_test()\n",
    "    set_predict = env.predict"
   ]
  },
  {
   "cell_type": "markdown",
   "metadata": {
    "papermill": {
     "duration": 0.01144,
     "end_time": "2020-11-13T13:58:33.620933",
     "exception": false,
     "start_time": "2020-11-13T13:58:33.609493",
     "status": "completed"
    },
    "tags": []
   },
   "source": [
    "## iterator\n",
    "Now we can use iter_test(wrapper for env.iter_test) and set_predict(wrapper for env.predict) as usual."
   ]
  },
  {
   "cell_type": "code",
   "execution_count": 17,
   "metadata": {
    "execution": {
     "iopub.execute_input": "2020-11-13T13:58:33.655110Z",
     "iopub.status.busy": "2020-11-13T13:58:33.654268Z",
     "iopub.status.idle": "2020-11-13T14:06:20.067987Z",
     "shell.execute_reply": "2020-11-13T14:06:20.067153Z"
    },
    "papermill": {
     "duration": 466.435487,
     "end_time": "2020-11-13T14:06:20.068150",
     "exception": false,
     "start_time": "2020-11-13T13:58:33.632663",
     "status": "completed"
    },
    "tags": []
   },
   "outputs": [
    {
     "data": {
      "application/vnd.jupyter.widget-view+json": {
       "model_id": "7b0146fc229348fb8105ce990da116b4",
       "version_major": 2,
       "version_minor": 0
      },
      "text/plain": [
       "HBox(children=(FloatProgress(value=0.0, max=2500000.0), HTML(value='')))"
      ]
     },
     "metadata": {},
     "output_type": "display_data"
    }
   ],
   "source": [
    "pbar = tqdm(total=2500000)\n",
    "previous_test_df = None\n",
    "for (current_test, current_prediction_df) in iter_test:\n",
    "    if previous_test_df is not None:\n",
    "        answers = eval(current_test[\"prior_group_answers_correct\"].iloc[0])\n",
    "        responses = eval(current_test[\"prior_group_responses\"].iloc[0])\n",
    "        previous_test_df['answered_correctly'] = answers\n",
    "        previous_test_df['user_answer'] = responses\n",
    "        # your feature extraction and model training code here\n",
    "    previous_test_df = current_test.copy()\n",
    "    current_test = current_test[current_test.content_type_id == 0]\n",
    "    # your prediction code here\n",
    "    current_test['answered_correctly'] = 0.5\n",
    "    set_predict(current_test.loc[:,['row_id', 'answered_correctly']])\n",
    "    pbar.update(len(current_test))"
   ]
  },
  {
   "cell_type": "code",
   "execution_count": 18,
   "metadata": {
    "execution": {
     "iopub.execute_input": "2020-11-13T14:06:20.102491Z",
     "iopub.status.busy": "2020-11-13T14:06:20.101699Z",
     "iopub.status.idle": "2020-11-13T14:06:46.591375Z",
     "shell.execute_reply": "2020-11-13T14:06:46.592577Z"
    },
    "papermill": {
     "duration": 26.51071,
     "end_time": "2020-11-13T14:06:46.592800",
     "exception": false,
     "start_time": "2020-11-13T14:06:20.082090",
     "status": "completed"
    },
    "tags": []
   },
   "outputs": [
    {
     "ename": "ValueError",
     "evalue": "No objects to concatenate",
     "output_type": "error",
     "traceback": [
      "\u001b[0;31m---------------------------------------------------------------------------\u001b[0m",
      "\u001b[0;31mValueError\u001b[0m                                Traceback (most recent call last)",
      "\u001b[0;32m<ipython-input-18-cc76bbe123e5>\u001b[0m in \u001b[0;36m<module>\u001b[0;34m\u001b[0m\n\u001b[1;32m      2\u001b[0m     \u001b[0;31m#validation score\u001b[0m\u001b[0;34m\u001b[0m\u001b[0;34m\u001b[0m\u001b[0;34m\u001b[0m\u001b[0m\n\u001b[1;32m      3\u001b[0m     \u001b[0my_true\u001b[0m \u001b[0;34m=\u001b[0m \u001b[0mtarget_df\u001b[0m\u001b[0;34m[\u001b[0m\u001b[0mtarget_df\u001b[0m\u001b[0;34m.\u001b[0m\u001b[0mcontent_type_id\u001b[0m \u001b[0;34m==\u001b[0m \u001b[0;36m0\u001b[0m\u001b[0;34m]\u001b[0m\u001b[0;34m.\u001b[0m\u001b[0manswered_correctly\u001b[0m\u001b[0;34m\u001b[0m\u001b[0;34m\u001b[0m\u001b[0m\n\u001b[0;32m----> 4\u001b[0;31m     \u001b[0my_pred\u001b[0m \u001b[0;34m=\u001b[0m \u001b[0mpd\u001b[0m\u001b[0;34m.\u001b[0m\u001b[0mconcat\u001b[0m\u001b[0;34m(\u001b[0m\u001b[0mpredicted\u001b[0m\u001b[0;34m)\u001b[0m\u001b[0;34m.\u001b[0m\u001b[0manswered_correctly\u001b[0m\u001b[0;34m\u001b[0m\u001b[0;34m\u001b[0m\u001b[0m\n\u001b[0m\u001b[1;32m      5\u001b[0m     \u001b[0mprint\u001b[0m\u001b[0;34m(\u001b[0m\u001b[0;34m'validation auc:'\u001b[0m\u001b[0;34m,\u001b[0m\u001b[0mroc_auc_score\u001b[0m\u001b[0;34m(\u001b[0m\u001b[0my_true\u001b[0m\u001b[0;34m,\u001b[0m \u001b[0my_pred\u001b[0m\u001b[0;34m)\u001b[0m\u001b[0;34m)\u001b[0m\u001b[0;34m\u001b[0m\u001b[0;34m\u001b[0m\u001b[0m\n",
      "\u001b[0;32m/anaconda3/envs/torch1.4/lib/python3.7/site-packages/pandas/core/reshape/concat.py\u001b[0m in \u001b[0;36mconcat\u001b[0;34m(objs, axis, join, ignore_index, keys, levels, names, verify_integrity, sort, copy)\u001b[0m\n\u001b[1;32m    282\u001b[0m         \u001b[0mverify_integrity\u001b[0m\u001b[0;34m=\u001b[0m\u001b[0mverify_integrity\u001b[0m\u001b[0;34m,\u001b[0m\u001b[0;34m\u001b[0m\u001b[0;34m\u001b[0m\u001b[0m\n\u001b[1;32m    283\u001b[0m         \u001b[0mcopy\u001b[0m\u001b[0;34m=\u001b[0m\u001b[0mcopy\u001b[0m\u001b[0;34m,\u001b[0m\u001b[0;34m\u001b[0m\u001b[0;34m\u001b[0m\u001b[0m\n\u001b[0;32m--> 284\u001b[0;31m         \u001b[0msort\u001b[0m\u001b[0;34m=\u001b[0m\u001b[0msort\u001b[0m\u001b[0;34m,\u001b[0m\u001b[0;34m\u001b[0m\u001b[0;34m\u001b[0m\u001b[0m\n\u001b[0m\u001b[1;32m    285\u001b[0m     )\n\u001b[1;32m    286\u001b[0m \u001b[0;34m\u001b[0m\u001b[0m\n",
      "\u001b[0;32m/anaconda3/envs/torch1.4/lib/python3.7/site-packages/pandas/core/reshape/concat.py\u001b[0m in \u001b[0;36m__init__\u001b[0;34m(self, objs, axis, join, keys, levels, names, ignore_index, verify_integrity, copy, sort)\u001b[0m\n\u001b[1;32m    329\u001b[0m \u001b[0;34m\u001b[0m\u001b[0m\n\u001b[1;32m    330\u001b[0m         \u001b[0;32mif\u001b[0m \u001b[0mlen\u001b[0m\u001b[0;34m(\u001b[0m\u001b[0mobjs\u001b[0m\u001b[0;34m)\u001b[0m \u001b[0;34m==\u001b[0m \u001b[0;36m0\u001b[0m\u001b[0;34m:\u001b[0m\u001b[0;34m\u001b[0m\u001b[0;34m\u001b[0m\u001b[0m\n\u001b[0;32m--> 331\u001b[0;31m             \u001b[0;32mraise\u001b[0m \u001b[0mValueError\u001b[0m\u001b[0;34m(\u001b[0m\u001b[0;34m\"No objects to concatenate\"\u001b[0m\u001b[0;34m)\u001b[0m\u001b[0;34m\u001b[0m\u001b[0;34m\u001b[0m\u001b[0m\n\u001b[0m\u001b[1;32m    332\u001b[0m \u001b[0;34m\u001b[0m\u001b[0m\n\u001b[1;32m    333\u001b[0m         \u001b[0;32mif\u001b[0m \u001b[0mkeys\u001b[0m \u001b[0;32mis\u001b[0m \u001b[0;32mNone\u001b[0m\u001b[0;34m:\u001b[0m\u001b[0;34m\u001b[0m\u001b[0;34m\u001b[0m\u001b[0m\n",
      "\u001b[0;31mValueError\u001b[0m: No objects to concatenate"
     ]
    }
   ],
   "source": [
    "if validaten_flg:\n",
    "    #validation score\n",
    "    y_true = target_df[target_df.content_type_id == 0].answered_correctly\n",
    "    y_pred = pd.concat(predicted).answered_correctly\n",
    "    print('validation auc:',roc_auc_score(y_true, y_pred))"
   ]
  },
  {
   "cell_type": "code",
   "execution_count": 19,
   "metadata": {
    "execution": {
     "iopub.execute_input": "2020-11-13T14:06:46.625668Z",
     "iopub.status.busy": "2020-11-13T14:06:46.624753Z",
     "iopub.status.idle": "2020-11-13T14:06:46.628002Z",
     "shell.execute_reply": "2020-11-13T14:06:46.628592Z"
    },
    "papermill": {
     "duration": 0.022167,
     "end_time": "2020-11-13T14:06:46.628743",
     "exception": false,
     "start_time": "2020-11-13T14:06:46.606576",
     "status": "completed"
    },
    "tags": []
   },
   "outputs": [
    {
     "name": "stdout",
     "output_type": "stream",
     "text": [
      "the number of iterations: 0\n"
     ]
    }
   ],
   "source": [
    "print('the number of iterations:', len(predicted))"
   ]
  },
  {
   "cell_type": "markdown",
   "metadata": {
    "papermill": {
     "duration": 0.01315,
     "end_time": "2020-11-13T14:06:46.655445",
     "exception": false,
     "start_time": "2020-11-13T14:06:46.642295",
     "status": "completed"
    },
    "tags": []
   },
   "source": [
    "According to [@tomooinubushi's experiment](https://www.kaggle.com/tomooinubushi/inference-must-be-0-55-sec-iter), the number of iterations is approximately 58,909.\n",
    "I think this difference(58,909 vs 96,545) is an issue that depends on the sort order of the data."
   ]
  }
 ],
 "metadata": {
  "kernelspec": {
   "display_name": "Python 3",
   "language": "python",
   "name": "python3"
  },
  "language_info": {
   "codemirror_mode": {
    "name": "ipython",
    "version": 3
   },
   "file_extension": ".py",
   "mimetype": "text/x-python",
   "name": "python",
   "nbconvert_exporter": "python",
   "pygments_lexer": "ipython3",
   "version": "3.7.8"
  },
  "papermill": {
   "duration": 525.179165,
   "end_time": "2020-11-13T14:06:47.930296",
   "environment_variables": {},
   "exception": null,
   "input_path": "__notebook__.ipynb",
   "output_path": "__notebook__.ipynb",
   "parameters": {},
   "start_time": "2020-11-13T13:58:02.751131",
   "version": "2.1.0"
  },
  "widgets": {
   "application/vnd.jupyter.widget-state+json": {
    "state": {
     "23585dc91ae14646814e46153d3a989e": {
      "model_module": "@jupyter-widgets/base",
      "model_module_version": "1.2.0",
      "model_name": "LayoutModel",
      "state": {
       "_model_module": "@jupyter-widgets/base",
       "_model_module_version": "1.2.0",
       "_model_name": "LayoutModel",
       "_view_count": null,
       "_view_module": "@jupyter-widgets/base",
       "_view_module_version": "1.2.0",
       "_view_name": "LayoutView",
       "align_content": null,
       "align_items": null,
       "align_self": null,
       "border": null,
       "bottom": null,
       "display": null,
       "flex": null,
       "flex_flow": null,
       "grid_area": null,
       "grid_auto_columns": null,
       "grid_auto_flow": null,
       "grid_auto_rows": null,
       "grid_column": null,
       "grid_gap": null,
       "grid_row": null,
       "grid_template_areas": null,
       "grid_template_columns": null,
       "grid_template_rows": null,
       "height": null,
       "justify_content": null,
       "justify_items": null,
       "left": null,
       "margin": null,
       "max_height": null,
       "max_width": null,
       "min_height": null,
       "min_width": null,
       "object_fit": null,
       "object_position": null,
       "order": null,
       "overflow": null,
       "overflow_x": null,
       "overflow_y": null,
       "padding": null,
       "right": null,
       "top": null,
       "visibility": null,
       "width": null
      }
     },
     "34186a838b1842708f81f14d2f407952": {
      "model_module": "@jupyter-widgets/base",
      "model_module_version": "1.2.0",
      "model_name": "LayoutModel",
      "state": {
       "_model_module": "@jupyter-widgets/base",
       "_model_module_version": "1.2.0",
       "_model_name": "LayoutModel",
       "_view_count": null,
       "_view_module": "@jupyter-widgets/base",
       "_view_module_version": "1.2.0",
       "_view_name": "LayoutView",
       "align_content": null,
       "align_items": null,
       "align_self": null,
       "border": null,
       "bottom": null,
       "display": null,
       "flex": null,
       "flex_flow": null,
       "grid_area": null,
       "grid_auto_columns": null,
       "grid_auto_flow": null,
       "grid_auto_rows": null,
       "grid_column": null,
       "grid_gap": null,
       "grid_row": null,
       "grid_template_areas": null,
       "grid_template_columns": null,
       "grid_template_rows": null,
       "height": null,
       "justify_content": null,
       "justify_items": null,
       "left": null,
       "margin": null,
       "max_height": null,
       "max_width": null,
       "min_height": null,
       "min_width": null,
       "object_fit": null,
       "object_position": null,
       "order": null,
       "overflow": null,
       "overflow_x": null,
       "overflow_y": null,
       "padding": null,
       "right": null,
       "top": null,
       "visibility": null,
       "width": null
      }
     },
     "3e8d792800e241beb1409403b85ac871": {
      "model_module": "@jupyter-widgets/base",
      "model_module_version": "1.2.0",
      "model_name": "LayoutModel",
      "state": {
       "_model_module": "@jupyter-widgets/base",
       "_model_module_version": "1.2.0",
       "_model_name": "LayoutModel",
       "_view_count": null,
       "_view_module": "@jupyter-widgets/base",
       "_view_module_version": "1.2.0",
       "_view_name": "LayoutView",
       "align_content": null,
       "align_items": null,
       "align_self": null,
       "border": null,
       "bottom": null,
       "display": null,
       "flex": null,
       "flex_flow": null,
       "grid_area": null,
       "grid_auto_columns": null,
       "grid_auto_flow": null,
       "grid_auto_rows": null,
       "grid_column": null,
       "grid_gap": null,
       "grid_row": null,
       "grid_template_areas": null,
       "grid_template_columns": null,
       "grid_template_rows": null,
       "height": null,
       "justify_content": null,
       "justify_items": null,
       "left": null,
       "margin": null,
       "max_height": null,
       "max_width": null,
       "min_height": null,
       "min_width": null,
       "object_fit": null,
       "object_position": null,
       "order": null,
       "overflow": null,
       "overflow_x": null,
       "overflow_y": null,
       "padding": null,
       "right": null,
       "top": null,
       "visibility": null,
       "width": null
      }
     },
     "614f958567864ea7a838503effc87c74": {
      "model_module": "@jupyter-widgets/controls",
      "model_module_version": "1.5.0",
      "model_name": "ProgressStyleModel",
      "state": {
       "_model_module": "@jupyter-widgets/controls",
       "_model_module_version": "1.5.0",
       "_model_name": "ProgressStyleModel",
       "_view_count": null,
       "_view_module": "@jupyter-widgets/base",
       "_view_module_version": "1.2.0",
       "_view_name": "StyleView",
       "bar_color": null,
       "description_width": "initial"
      }
     },
     "74917f7b98324284aa12125320b1daa5": {
      "model_module": "@jupyter-widgets/controls",
      "model_module_version": "1.5.0",
      "model_name": "DescriptionStyleModel",
      "state": {
       "_model_module": "@jupyter-widgets/controls",
       "_model_module_version": "1.5.0",
       "_model_name": "DescriptionStyleModel",
       "_view_count": null,
       "_view_module": "@jupyter-widgets/base",
       "_view_module_version": "1.2.0",
       "_view_name": "StyleView",
       "description_width": ""
      }
     },
     "d225489c20a34cfe9e10c29bdac3f00f": {
      "model_module": "@jupyter-widgets/controls",
      "model_module_version": "1.5.0",
      "model_name": "HBoxModel",
      "state": {
       "_dom_classes": [],
       "_model_module": "@jupyter-widgets/controls",
       "_model_module_version": "1.5.0",
       "_model_name": "HBoxModel",
       "_view_count": null,
       "_view_module": "@jupyter-widgets/controls",
       "_view_module_version": "1.5.0",
       "_view_name": "HBoxView",
       "box_style": "",
       "children": [
        "IPY_MODEL_fade1a6c0e3b4d42a12c9be6e836b3c6",
        "IPY_MODEL_f6be5a540d8747efb9af5c8383eb39bb"
       ],
       "layout": "IPY_MODEL_3e8d792800e241beb1409403b85ac871"
      }
     },
     "f6be5a540d8747efb9af5c8383eb39bb": {
      "model_module": "@jupyter-widgets/controls",
      "model_module_version": "1.5.0",
      "model_name": "HTMLModel",
      "state": {
       "_dom_classes": [],
       "_model_module": "@jupyter-widgets/controls",
       "_model_module_version": "1.5.0",
       "_model_name": "HTMLModel",
       "_view_count": null,
       "_view_module": "@jupyter-widgets/controls",
       "_view_module_version": "1.5.0",
       "_view_name": "HTMLView",
       "description": "",
       "description_tooltip": null,
       "layout": "IPY_MODEL_34186a838b1842708f81f14d2f407952",
       "placeholder": "​",
       "style": "IPY_MODEL_74917f7b98324284aa12125320b1daa5",
       "value": " 2451190/2500000 [08:00&lt;00:08, 5690.93it/s]"
      }
     },
     "fade1a6c0e3b4d42a12c9be6e836b3c6": {
      "model_module": "@jupyter-widgets/controls",
      "model_module_version": "1.5.0",
      "model_name": "FloatProgressModel",
      "state": {
       "_dom_classes": [],
       "_model_module": "@jupyter-widgets/controls",
       "_model_module_version": "1.5.0",
       "_model_name": "FloatProgressModel",
       "_view_count": null,
       "_view_module": "@jupyter-widgets/controls",
       "_view_module_version": "1.5.0",
       "_view_name": "ProgressView",
       "bar_style": "",
       "description": " 98%",
       "description_tooltip": null,
       "layout": "IPY_MODEL_23585dc91ae14646814e46153d3a989e",
       "max": 2500000,
       "min": 0,
       "orientation": "horizontal",
       "style": "IPY_MODEL_614f958567864ea7a838503effc87c74",
       "value": 2451190
      }
     }
    },
    "version_major": 2,
    "version_minor": 0
   }
  }
 },
 "nbformat": 4,
 "nbformat_minor": 4
}
