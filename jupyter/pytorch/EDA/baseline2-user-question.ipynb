{
 "cells": [
  {
   "cell_type": "code",
   "execution_count": 1,
   "metadata": {
    "execution": {
     "iopub.execute_input": "2020-11-01T15:51:26.180156Z",
     "iopub.status.busy": "2020-11-01T15:51:26.179150Z",
     "iopub.status.idle": "2020-11-01T15:51:27.285450Z",
     "shell.execute_reply": "2020-11-01T15:51:27.284709Z"
    },
    "papermill": {
     "duration": 1.162991,
     "end_time": "2020-11-01T15:51:27.285629",
     "exception": false,
     "start_time": "2020-11-01T15:51:26.122638",
     "status": "completed"
    },
    "tags": []
   },
   "outputs": [],
   "source": [
    "import riiideducation\n",
    "import pandas as pd\n",
    "import numpy as np\n",
    "from sklearn.metrics import roc_auc_score\n",
    "env = riiideducation.make_env()"
   ]
  },
  {
   "cell_type": "code",
   "execution_count": 2,
   "metadata": {
    "execution": {
     "iopub.execute_input": "2020-11-01T15:51:27.393693Z",
     "iopub.status.busy": "2020-11-01T15:51:27.392743Z",
     "iopub.status.idle": "2020-11-01T15:56:29.654854Z",
     "shell.execute_reply": "2020-11-01T15:56:29.653983Z"
    },
    "papermill": {
     "duration": 302.319929,
     "end_time": "2020-11-01T15:56:29.655007",
     "exception": false,
     "start_time": "2020-11-01T15:51:27.335078",
     "status": "completed"
    },
    "tags": []
   },
   "outputs": [],
   "source": [
    "train = pd.read_csv('/kaggle/input/riiid-test-answer-prediction/train.csv',\n",
    "                   usecols = [1,2,3,4,7,8,9],\n",
    "                   dtype={'timestamp':'int64',\n",
    "                         'used_id':'int32',\n",
    "                         'content_id':'int16',\n",
    "                         'content_type_id':'int8',\n",
    "                         'answered_correctly':'int8',\n",
    "                         'prior_question_elapsed_time':'float32',\n",
    "                         'prior_question_had_explanation':'boolean'})"
   ]
  },
  {
   "cell_type": "code",
   "execution_count": 3,
   "metadata": {
    "execution": {
     "iopub.execute_input": "2020-11-01T15:56:29.766091Z",
     "iopub.status.busy": "2020-11-01T15:56:29.763770Z",
     "iopub.status.idle": "2020-11-01T15:57:03.260335Z",
     "shell.execute_reply": "2020-11-01T15:57:03.260962Z"
    },
    "papermill": {
     "duration": 33.556548,
     "end_time": "2020-11-01T15:57:03.261115",
     "exception": false,
     "start_time": "2020-11-01T15:56:29.704567",
     "status": "completed"
    },
    "tags": []
   },
   "outputs": [
    {
     "data": {
      "text/html": [
       "<div>\n",
       "<style scoped>\n",
       "    .dataframe tbody tr th:only-of-type {\n",
       "        vertical-align: middle;\n",
       "    }\n",
       "\n",
       "    .dataframe tbody tr th {\n",
       "        vertical-align: top;\n",
       "    }\n",
       "\n",
       "    .dataframe thead th {\n",
       "        text-align: right;\n",
       "    }\n",
       "</style>\n",
       "<table border=\"1\" class=\"dataframe\">\n",
       "  <thead>\n",
       "    <tr style=\"text-align: right;\">\n",
       "      <th></th>\n",
       "      <th>timestamp</th>\n",
       "      <th>user_id</th>\n",
       "      <th>content_id</th>\n",
       "      <th>content_type_id</th>\n",
       "      <th>answered_correctly</th>\n",
       "      <th>prior_question_elapsed_time</th>\n",
       "      <th>prior_question_had_explanation</th>\n",
       "    </tr>\n",
       "  </thead>\n",
       "  <tbody>\n",
       "    <tr>\n",
       "      <th>0</th>\n",
       "      <td>0</td>\n",
       "      <td>115</td>\n",
       "      <td>5692</td>\n",
       "      <td>0</td>\n",
       "      <td>1</td>\n",
       "      <td>NaN</td>\n",
       "      <td>&lt;NA&gt;</td>\n",
       "    </tr>\n",
       "    <tr>\n",
       "      <th>1</th>\n",
       "      <td>0</td>\n",
       "      <td>1805962620</td>\n",
       "      <td>5547</td>\n",
       "      <td>0</td>\n",
       "      <td>0</td>\n",
       "      <td>NaN</td>\n",
       "      <td>&lt;NA&gt;</td>\n",
       "    </tr>\n",
       "    <tr>\n",
       "      <th>2</th>\n",
       "      <td>0</td>\n",
       "      <td>2015251289</td>\n",
       "      <td>4024</td>\n",
       "      <td>0</td>\n",
       "      <td>1</td>\n",
       "      <td>NaN</td>\n",
       "      <td>&lt;NA&gt;</td>\n",
       "    </tr>\n",
       "    <tr>\n",
       "      <th>3</th>\n",
       "      <td>0</td>\n",
       "      <td>867941388</td>\n",
       "      <td>6659</td>\n",
       "      <td>0</td>\n",
       "      <td>1</td>\n",
       "      <td>NaN</td>\n",
       "      <td>&lt;NA&gt;</td>\n",
       "    </tr>\n",
       "    <tr>\n",
       "      <th>4</th>\n",
       "      <td>0</td>\n",
       "      <td>867946278</td>\n",
       "      <td>3977</td>\n",
       "      <td>0</td>\n",
       "      <td>1</td>\n",
       "      <td>NaN</td>\n",
       "      <td>&lt;NA&gt;</td>\n",
       "    </tr>\n",
       "    <tr>\n",
       "      <th>5</th>\n",
       "      <td>0</td>\n",
       "      <td>867947333</td>\n",
       "      <td>7900</td>\n",
       "      <td>0</td>\n",
       "      <td>1</td>\n",
       "      <td>NaN</td>\n",
       "      <td>&lt;NA&gt;</td>\n",
       "    </tr>\n",
       "    <tr>\n",
       "      <th>6</th>\n",
       "      <td>0</td>\n",
       "      <td>1440786713</td>\n",
       "      <td>3889</td>\n",
       "      <td>0</td>\n",
       "      <td>1</td>\n",
       "      <td>NaN</td>\n",
       "      <td>&lt;NA&gt;</td>\n",
       "    </tr>\n",
       "    <tr>\n",
       "      <th>7</th>\n",
       "      <td>0</td>\n",
       "      <td>1805972720</td>\n",
       "      <td>5796</td>\n",
       "      <td>0</td>\n",
       "      <td>0</td>\n",
       "      <td>NaN</td>\n",
       "      <td>&lt;NA&gt;</td>\n",
       "    </tr>\n",
       "    <tr>\n",
       "      <th>8</th>\n",
       "      <td>0</td>\n",
       "      <td>579725075</td>\n",
       "      <td>7900</td>\n",
       "      <td>0</td>\n",
       "      <td>1</td>\n",
       "      <td>NaN</td>\n",
       "      <td>&lt;NA&gt;</td>\n",
       "    </tr>\n",
       "    <tr>\n",
       "      <th>9</th>\n",
       "      <td>0</td>\n",
       "      <td>390617956</td>\n",
       "      <td>4867</td>\n",
       "      <td>0</td>\n",
       "      <td>1</td>\n",
       "      <td>NaN</td>\n",
       "      <td>&lt;NA&gt;</td>\n",
       "    </tr>\n",
       "  </tbody>\n",
       "</table>\n",
       "</div>"
      ],
      "text/plain": [
       "   timestamp     user_id  content_id  content_type_id  answered_correctly  \\\n",
       "0          0         115        5692                0                   1   \n",
       "1          0  1805962620        5547                0                   0   \n",
       "2          0  2015251289        4024                0                   1   \n",
       "3          0   867941388        6659                0                   1   \n",
       "4          0   867946278        3977                0                   1   \n",
       "5          0   867947333        7900                0                   1   \n",
       "6          0  1440786713        3889                0                   1   \n",
       "7          0  1805972720        5796                0                   0   \n",
       "8          0   579725075        7900                0                   1   \n",
       "9          0   390617956        4867                0                   1   \n",
       "\n",
       "   prior_question_elapsed_time  prior_question_had_explanation  \n",
       "0                          NaN                            <NA>  \n",
       "1                          NaN                            <NA>  \n",
       "2                          NaN                            <NA>  \n",
       "3                          NaN                            <NA>  \n",
       "4                          NaN                            <NA>  \n",
       "5                          NaN                            <NA>  \n",
       "6                          NaN                            <NA>  \n",
       "7                          NaN                            <NA>  \n",
       "8                          NaN                            <NA>  \n",
       "9                          NaN                            <NA>  "
      ]
     },
     "execution_count": 3,
     "metadata": {},
     "output_type": "execute_result"
    }
   ],
   "source": [
    "train = train[train.content_type_id == False]\n",
    "\n",
    "train = train.sort_values(['timestamp'],ascending=True).reset_index(drop=True)\n",
    "train.head(10)"
   ]
  },
  {
   "cell_type": "code",
   "execution_count": 4,
   "metadata": {
    "execution": {
     "iopub.execute_input": "2020-11-01T15:57:04.081519Z",
     "iopub.status.busy": "2020-11-01T15:57:04.080701Z",
     "iopub.status.idle": "2020-11-01T15:57:07.599098Z",
     "shell.execute_reply": "2020-11-01T15:57:07.599711Z"
    },
    "papermill": {
     "duration": 4.287655,
     "end_time": "2020-11-01T15:57:07.599909",
     "exception": false,
     "start_time": "2020-11-01T15:57:03.312254",
     "status": "completed"
    },
    "tags": []
   },
   "outputs": [
    {
     "data": {
      "text/html": [
       "<div>\n",
       "<style scoped>\n",
       "    .dataframe tbody tr th:only-of-type {\n",
       "        vertical-align: middle;\n",
       "    }\n",
       "\n",
       "    .dataframe tbody tr th {\n",
       "        vertical-align: top;\n",
       "    }\n",
       "\n",
       "    .dataframe thead tr th {\n",
       "        text-align: left;\n",
       "    }\n",
       "\n",
       "    .dataframe thead tr:last-of-type th {\n",
       "        text-align: right;\n",
       "    }\n",
       "</style>\n",
       "<table border=\"1\" class=\"dataframe\">\n",
       "  <thead>\n",
       "    <tr>\n",
       "      <th></th>\n",
       "      <th>answered_correctly</th>\n",
       "    </tr>\n",
       "    <tr>\n",
       "      <th></th>\n",
       "      <th>mean</th>\n",
       "    </tr>\n",
       "    <tr>\n",
       "      <th>content_id</th>\n",
       "      <th></th>\n",
       "    </tr>\n",
       "  </thead>\n",
       "  <tbody>\n",
       "    <tr>\n",
       "      <th>0</th>\n",
       "      <td>0.907721</td>\n",
       "    </tr>\n",
       "    <tr>\n",
       "      <th>1</th>\n",
       "      <td>0.890646</td>\n",
       "    </tr>\n",
       "    <tr>\n",
       "      <th>2</th>\n",
       "      <td>0.554281</td>\n",
       "    </tr>\n",
       "    <tr>\n",
       "      <th>3</th>\n",
       "      <td>0.779437</td>\n",
       "    </tr>\n",
       "    <tr>\n",
       "      <th>4</th>\n",
       "      <td>0.613215</td>\n",
       "    </tr>\n",
       "    <tr>\n",
       "      <th>5</th>\n",
       "      <td>0.861828</td>\n",
       "    </tr>\n",
       "    <tr>\n",
       "      <th>6</th>\n",
       "      <td>0.474545</td>\n",
       "    </tr>\n",
       "    <tr>\n",
       "      <th>7</th>\n",
       "      <td>0.866024</td>\n",
       "    </tr>\n",
       "    <tr>\n",
       "      <th>8</th>\n",
       "      <td>0.906620</td>\n",
       "    </tr>\n",
       "    <tr>\n",
       "      <th>9</th>\n",
       "      <td>0.303912</td>\n",
       "    </tr>\n",
       "  </tbody>\n",
       "</table>\n",
       "</div>"
      ],
      "text/plain": [
       "           answered_correctly\n",
       "                         mean\n",
       "content_id                   \n",
       "0                    0.907721\n",
       "1                    0.890646\n",
       "2                    0.554281\n",
       "3                    0.779437\n",
       "4                    0.613215\n",
       "5                    0.861828\n",
       "6                    0.474545\n",
       "7                    0.866024\n",
       "8                    0.906620\n",
       "9                    0.303912"
      ]
     },
     "execution_count": 4,
     "metadata": {},
     "output_type": "execute_result"
    }
   ],
   "source": [
    "result_c_final = train[['content_id','answered_correctly']].groupby(['content_id']).agg(['mean'])\n",
    "result_c_final.head(10)\n"
   ]
  },
  {
   "cell_type": "code",
   "execution_count": 5,
   "metadata": {
    "execution": {
     "iopub.execute_input": "2020-11-01T15:57:07.715276Z",
     "iopub.status.busy": "2020-11-01T15:57:07.714298Z",
     "iopub.status.idle": "2020-11-01T15:57:07.718634Z",
     "shell.execute_reply": "2020-11-01T15:57:07.719348Z"
    },
    "papermill": {
     "duration": 0.067707,
     "end_time": "2020-11-01T15:57:07.719526",
     "exception": false,
     "start_time": "2020-11-01T15:57:07.651819",
     "status": "completed"
    },
    "tags": []
   },
   "outputs": [
    {
     "data": {
      "text/html": [
       "<div>\n",
       "<style scoped>\n",
       "    .dataframe tbody tr th:only-of-type {\n",
       "        vertical-align: middle;\n",
       "    }\n",
       "\n",
       "    .dataframe tbody tr th {\n",
       "        vertical-align: top;\n",
       "    }\n",
       "\n",
       "    .dataframe thead th {\n",
       "        text-align: right;\n",
       "    }\n",
       "</style>\n",
       "<table border=\"1\" class=\"dataframe\">\n",
       "  <thead>\n",
       "    <tr style=\"text-align: right;\">\n",
       "      <th></th>\n",
       "      <th>answered_correctly_content</th>\n",
       "    </tr>\n",
       "    <tr>\n",
       "      <th>content_id</th>\n",
       "      <th></th>\n",
       "    </tr>\n",
       "  </thead>\n",
       "  <tbody>\n",
       "    <tr>\n",
       "      <th>0</th>\n",
       "      <td>0.907721</td>\n",
       "    </tr>\n",
       "    <tr>\n",
       "      <th>1</th>\n",
       "      <td>0.890646</td>\n",
       "    </tr>\n",
       "    <tr>\n",
       "      <th>2</th>\n",
       "      <td>0.554281</td>\n",
       "    </tr>\n",
       "    <tr>\n",
       "      <th>3</th>\n",
       "      <td>0.779437</td>\n",
       "    </tr>\n",
       "    <tr>\n",
       "      <th>4</th>\n",
       "      <td>0.613215</td>\n",
       "    </tr>\n",
       "    <tr>\n",
       "      <th>5</th>\n",
       "      <td>0.861828</td>\n",
       "    </tr>\n",
       "    <tr>\n",
       "      <th>6</th>\n",
       "      <td>0.474545</td>\n",
       "    </tr>\n",
       "    <tr>\n",
       "      <th>7</th>\n",
       "      <td>0.866024</td>\n",
       "    </tr>\n",
       "    <tr>\n",
       "      <th>8</th>\n",
       "      <td>0.906620</td>\n",
       "    </tr>\n",
       "    <tr>\n",
       "      <th>9</th>\n",
       "      <td>0.303912</td>\n",
       "    </tr>\n",
       "  </tbody>\n",
       "</table>\n",
       "</div>"
      ],
      "text/plain": [
       "            answered_correctly_content\n",
       "content_id                            \n",
       "0                             0.907721\n",
       "1                             0.890646\n",
       "2                             0.554281\n",
       "3                             0.779437\n",
       "4                             0.613215\n",
       "5                             0.861828\n",
       "6                             0.474545\n",
       "7                             0.866024\n",
       "8                             0.906620\n",
       "9                             0.303912"
      ]
     },
     "execution_count": 5,
     "metadata": {},
     "output_type": "execute_result"
    }
   ],
   "source": [
    "result_c_final.columns = ['answered_correctly_content']\n",
    "result_c_final.head(10)"
   ]
  },
  {
   "cell_type": "code",
   "execution_count": 6,
   "metadata": {
    "execution": {
     "iopub.execute_input": "2020-11-01T15:57:08.110030Z",
     "iopub.status.busy": "2020-11-01T15:57:08.109043Z",
     "iopub.status.idle": "2020-11-01T15:57:16.249568Z",
     "shell.execute_reply": "2020-11-01T15:57:16.248938Z"
    },
    "papermill": {
     "duration": 8.478518,
     "end_time": "2020-11-01T15:57:16.249708",
     "exception": false,
     "start_time": "2020-11-01T15:57:07.771190",
     "status": "completed"
    },
    "tags": []
   },
   "outputs": [
    {
     "data": {
      "text/html": [
       "<div>\n",
       "<style scoped>\n",
       "    .dataframe tbody tr th:only-of-type {\n",
       "        vertical-align: middle;\n",
       "    }\n",
       "\n",
       "    .dataframe tbody tr th {\n",
       "        vertical-align: top;\n",
       "    }\n",
       "\n",
       "    .dataframe thead th {\n",
       "        text-align: right;\n",
       "    }\n",
       "</style>\n",
       "<table border=\"1\" class=\"dataframe\">\n",
       "  <thead>\n",
       "    <tr style=\"text-align: right;\">\n",
       "      <th></th>\n",
       "      <th>answered_correctly_user</th>\n",
       "      <th>sum</th>\n",
       "      <th>count</th>\n",
       "    </tr>\n",
       "    <tr>\n",
       "      <th>user_id</th>\n",
       "      <th></th>\n",
       "      <th></th>\n",
       "      <th></th>\n",
       "    </tr>\n",
       "  </thead>\n",
       "  <tbody>\n",
       "    <tr>\n",
       "      <th>115</th>\n",
       "      <td>0.695652</td>\n",
       "      <td>32.0</td>\n",
       "      <td>46</td>\n",
       "    </tr>\n",
       "    <tr>\n",
       "      <th>124</th>\n",
       "      <td>0.233333</td>\n",
       "      <td>7.0</td>\n",
       "      <td>30</td>\n",
       "    </tr>\n",
       "    <tr>\n",
       "      <th>2746</th>\n",
       "      <td>0.578947</td>\n",
       "      <td>11.0</td>\n",
       "      <td>19</td>\n",
       "    </tr>\n",
       "    <tr>\n",
       "      <th>5382</th>\n",
       "      <td>0.672000</td>\n",
       "      <td>84.0</td>\n",
       "      <td>125</td>\n",
       "    </tr>\n",
       "    <tr>\n",
       "      <th>8623</th>\n",
       "      <td>0.642202</td>\n",
       "      <td>70.0</td>\n",
       "      <td>109</td>\n",
       "    </tr>\n",
       "    <tr>\n",
       "      <th>8701</th>\n",
       "      <td>0.588235</td>\n",
       "      <td>10.0</td>\n",
       "      <td>17</td>\n",
       "    </tr>\n",
       "    <tr>\n",
       "      <th>12741</th>\n",
       "      <td>0.573585</td>\n",
       "      <td>152.0</td>\n",
       "      <td>265</td>\n",
       "    </tr>\n",
       "    <tr>\n",
       "      <th>13134</th>\n",
       "      <td>0.706356</td>\n",
       "      <td>878.0</td>\n",
       "      <td>1243</td>\n",
       "    </tr>\n",
       "    <tr>\n",
       "      <th>24418</th>\n",
       "      <td>0.690275</td>\n",
       "      <td>4337.0</td>\n",
       "      <td>6283</td>\n",
       "    </tr>\n",
       "    <tr>\n",
       "      <th>24600</th>\n",
       "      <td>0.340000</td>\n",
       "      <td>17.0</td>\n",
       "      <td>50</td>\n",
       "    </tr>\n",
       "  </tbody>\n",
       "</table>\n",
       "</div>"
      ],
      "text/plain": [
       "         answered_correctly_user     sum  count\n",
       "user_id                                        \n",
       "115                     0.695652    32.0     46\n",
       "124                     0.233333     7.0     30\n",
       "2746                    0.578947    11.0     19\n",
       "5382                    0.672000    84.0    125\n",
       "8623                    0.642202    70.0    109\n",
       "8701                    0.588235    10.0     17\n",
       "12741                   0.573585   152.0    265\n",
       "13134                   0.706356   878.0   1243\n",
       "24418                   0.690275  4337.0   6283\n",
       "24600                   0.340000    17.0     50"
      ]
     },
     "execution_count": 6,
     "metadata": {},
     "output_type": "execute_result"
    }
   ],
   "source": [
    "result_u_final = train[['user_id','answered_correctly']].groupby(['user_id']).agg(['mean','sum','count'])\n",
    "result_u_final.columns = ['answered_correctly_user','sum','count']\n",
    "result_u_final.head(10)"
   ]
  },
  {
   "cell_type": "code",
   "execution_count": 7,
   "metadata": {
    "execution": {
     "iopub.execute_input": "2020-11-01T15:57:16.361237Z",
     "iopub.status.busy": "2020-11-01T15:57:16.360413Z",
     "iopub.status.idle": "2020-11-01T15:57:16.519055Z",
     "shell.execute_reply": "2020-11-01T15:57:16.519654Z"
    },
    "papermill": {
     "duration": 0.218025,
     "end_time": "2020-11-01T15:57:16.519835",
     "exception": false,
     "start_time": "2020-11-01T15:57:16.301810",
     "status": "completed"
    },
    "tags": []
   },
   "outputs": [],
   "source": [
    "elapsed_mean = train.prior_question_elapsed_time.mean()"
   ]
  },
  {
   "cell_type": "code",
   "execution_count": 8,
   "metadata": {
    "execution": {
     "iopub.execute_input": "2020-11-01T15:57:16.632613Z",
     "iopub.status.busy": "2020-11-01T15:57:16.631538Z",
     "iopub.status.idle": "2020-11-01T15:57:16.636368Z",
     "shell.execute_reply": "2020-11-01T15:57:16.635651Z"
    },
    "papermill": {
     "duration": 0.062888,
     "end_time": "2020-11-01T15:57:16.636515",
     "exception": false,
     "start_time": "2020-11-01T15:57:16.573627",
     "status": "completed"
    },
    "tags": []
   },
   "outputs": [
    {
     "data": {
      "text/plain": [
       "13238.587890625"
      ]
     },
     "execution_count": 8,
     "metadata": {},
     "output_type": "execute_result"
    }
   ],
   "source": [
    "elapsed_mean"
   ]
  },
  {
   "cell_type": "code",
   "execution_count": null,
   "metadata": {
    "papermill": {
     "duration": 0.052979,
     "end_time": "2020-11-01T15:57:16.742961",
     "exception": false,
     "start_time": "2020-11-01T15:57:16.689982",
     "status": "completed"
    },
    "tags": []
   },
   "outputs": [],
   "source": []
  },
  {
   "cell_type": "code",
   "execution_count": 9,
   "metadata": {
    "execution": {
     "iopub.execute_input": "2020-11-01T15:57:16.871209Z",
     "iopub.status.busy": "2020-11-01T15:57:16.870007Z",
     "iopub.status.idle": "2020-11-01T15:57:17.211342Z",
     "shell.execute_reply": "2020-11-01T15:57:17.210656Z"
    },
    "papermill": {
     "duration": 0.410606,
     "end_time": "2020-11-01T15:57:17.211515",
     "exception": false,
     "start_time": "2020-11-01T15:57:16.800909",
     "status": "completed"
    },
    "tags": []
   },
   "outputs": [
    {
     "data": {
      "text/plain": [
       "0.6787809364253148"
      ]
     },
     "execution_count": 9,
     "metadata": {},
     "output_type": "execute_result"
    }
   ],
   "source": [
    "train.loc[(train.timestamp == 0)].answered_correctly.mean()"
   ]
  },
  {
   "cell_type": "code",
   "execution_count": 10,
   "metadata": {
    "execution": {
     "iopub.execute_input": "2020-11-01T15:57:17.336302Z",
     "iopub.status.busy": "2020-11-01T15:57:17.335064Z",
     "iopub.status.idle": "2020-11-01T15:57:21.530925Z",
     "shell.execute_reply": "2020-11-01T15:57:21.529807Z"
    },
    "papermill": {
     "duration": 4.265228,
     "end_time": "2020-11-01T15:57:21.531083",
     "exception": false,
     "start_time": "2020-11-01T15:57:17.265855",
     "status": "completed"
    },
    "tags": []
   },
   "outputs": [
    {
     "data": {
      "text/plain": [
       "0.6571491814363561"
      ]
     },
     "execution_count": 10,
     "metadata": {},
     "output_type": "execute_result"
    }
   ],
   "source": [
    "train.loc[(train.timestamp != 0)].answered_correctly.mean()"
   ]
  },
  {
   "cell_type": "code",
   "execution_count": 11,
   "metadata": {
    "execution": {
     "iopub.execute_input": "2020-11-01T15:57:21.648605Z",
     "iopub.status.busy": "2020-11-01T15:57:21.647383Z",
     "iopub.status.idle": "2020-11-01T15:57:22.123141Z",
     "shell.execute_reply": "2020-11-01T15:57:22.122381Z"
    },
    "papermill": {
     "duration": 0.537534,
     "end_time": "2020-11-01T15:57:22.123277",
     "exception": false,
     "start_time": "2020-11-01T15:57:21.585743",
     "status": "completed"
    },
    "tags": []
   },
   "outputs": [
    {
     "data": {
      "text/plain": [
       "0.4760203372564661"
      ]
     },
     "execution_count": 11,
     "metadata": {},
     "output_type": "execute_result"
    }
   ],
   "source": [
    "train.loc[(train.timestamp < 1000000) & (train.timestamp > 0)].answered_correctly.mean()"
   ]
  },
  {
   "cell_type": "code",
   "execution_count": 12,
   "metadata": {
    "execution": {
     "iopub.execute_input": "2020-11-01T15:57:22.240287Z",
     "iopub.status.busy": "2020-11-01T15:57:22.239367Z",
     "iopub.status.idle": "2020-11-01T15:57:55.133202Z",
     "shell.execute_reply": "2020-11-01T15:57:55.133935Z"
    },
    "papermill": {
     "duration": 32.955855,
     "end_time": "2020-11-01T15:57:55.134105",
     "exception": false,
     "start_time": "2020-11-01T15:57:22.178250",
     "status": "completed"
    },
    "tags": []
   },
   "outputs": [
    {
     "data": {
      "text/plain": [
       "True     89685560\n",
       "False     9193234\n",
       "Name: prior_question_had_explanation, dtype: Int64"
      ]
     },
     "execution_count": 12,
     "metadata": {},
     "output_type": "execute_result"
    }
   ],
   "source": [
    "train.prior_question_had_explanation.value_counts()"
   ]
  },
  {
   "cell_type": "code",
   "execution_count": 13,
   "metadata": {
    "execution": {
     "iopub.execute_input": "2020-11-01T15:57:55.268717Z",
     "iopub.status.busy": "2020-11-01T15:57:55.267748Z",
     "iopub.status.idle": "2020-11-01T15:57:55.439430Z",
     "shell.execute_reply": "2020-11-01T15:57:55.437207Z"
    },
    "papermill": {
     "duration": 0.24147,
     "end_time": "2020-11-01T15:57:55.440150",
     "exception": false,
     "start_time": "2020-11-01T15:57:55.198680",
     "status": "completed"
    },
    "tags": []
   },
   "outputs": [
    {
     "data": {
      "text/plain": [
       "0.6572355454194717"
      ]
     },
     "execution_count": 13,
     "metadata": {},
     "output_type": "execute_result"
    }
   ],
   "source": [
    "train.answered_correctly.mean()"
   ]
  },
  {
   "cell_type": "code",
   "execution_count": 14,
   "metadata": {
    "execution": {
     "iopub.execute_input": "2020-11-01T15:57:56.814732Z",
     "iopub.status.busy": "2020-11-01T15:57:56.813940Z",
     "iopub.status.idle": "2020-11-01T15:57:56.817171Z",
     "shell.execute_reply": "2020-11-01T15:57:56.817808Z"
    },
    "papermill": {
     "duration": 1.277501,
     "end_time": "2020-11-01T15:57:56.817971",
     "exception": false,
     "start_time": "2020-11-01T15:57:55.540470",
     "status": "completed"
    },
    "tags": []
   },
   "outputs": [],
   "source": [
    "train.drop(['timestamp','content_type_id'], axis=1, inplace=True)\n",
    "# 删除timestamp和content_type_id这两列"
   ]
  },
  {
   "cell_type": "markdown",
   "metadata": {
    "papermill": {
     "duration": 0.055684,
     "end_time": "2020-11-01T15:57:56.930353",
     "exception": false,
     "start_time": "2020-11-01T15:57:56.874669",
     "status": "completed"
    },
    "tags": []
   },
   "source": [
    "# 创建验证集"
   ]
  },
  {
   "cell_type": "code",
   "execution_count": 15,
   "metadata": {
    "execution": {
     "iopub.execute_input": "2020-11-01T15:57:57.053183Z",
     "iopub.status.busy": "2020-11-01T15:57:57.052185Z",
     "iopub.status.idle": "2020-11-01T15:57:57.055637Z",
     "shell.execute_reply": "2020-11-01T15:57:57.054895Z"
    },
    "papermill": {
     "duration": 0.069342,
     "end_time": "2020-11-01T15:57:57.055778",
     "exception": false,
     "start_time": "2020-11-01T15:57:56.986436",
     "status": "completed"
    },
    "tags": []
   },
   "outputs": [],
   "source": [
    "valid = pd.DataFrame()"
   ]
  },
  {
   "cell_type": "code",
   "execution_count": 16,
   "metadata": {
    "execution": {
     "iopub.execute_input": "2020-11-01T15:57:57.179528Z",
     "iopub.status.busy": "2020-11-01T15:57:57.178716Z",
     "iopub.status.idle": "2020-11-01T15:59:00.657164Z",
     "shell.execute_reply": "2020-11-01T15:59:00.657830Z"
    },
    "papermill": {
     "duration": 63.544458,
     "end_time": "2020-11-01T15:59:00.658050",
     "exception": false,
     "start_time": "2020-11-01T15:57:57.113592",
     "status": "completed"
    },
    "tags": []
   },
   "outputs": [],
   "source": [
    "for i in range(4):\n",
    "    last_records = train.drop_duplicates('user_id',keep='last')\n",
    "    # 按照user_id那列的内容删除重复列，并且保存最后一个元素，也就是取每个user的最后时刻的做题记录\n",
    "    train = train[~train.index.isin(last_records.index)]\n",
    "    # train.index.isin(last_recoreds.index)就是去train中检索当前index是否在last_records.index里面\n",
    "    # 如果在返回true，如果不在返回false。但是前面还有个~，所以进行了反向索引。\n",
    "    # 也就是最后留下的train里面不包含last_records的内容\n",
    "    valid = valid.append(last_records)\n",
    "    # 迭代了4次，也就是说最后valid里面存储了每个用户的最后4条做题记录\n"
   ]
  },
  {
   "cell_type": "code",
   "execution_count": 17,
   "metadata": {
    "execution": {
     "iopub.execute_input": "2020-11-01T15:59:00.779168Z",
     "iopub.status.busy": "2020-11-01T15:59:00.778051Z",
     "iopub.status.idle": "2020-11-01T15:59:00.782609Z",
     "shell.execute_reply": "2020-11-01T15:59:00.782017Z"
    },
    "papermill": {
     "duration": 0.067666,
     "end_time": "2020-11-01T15:59:00.782762",
     "exception": false,
     "start_time": "2020-11-01T15:59:00.715096",
     "status": "completed"
    },
    "tags": []
   },
   "outputs": [
    {
     "data": {
      "text/plain": [
       "97697098"
      ]
     },
     "execution_count": 17,
     "metadata": {},
     "output_type": "execute_result"
    }
   ],
   "source": [
    "len(train)\n"
   ]
  },
  {
   "cell_type": "code",
   "execution_count": 18,
   "metadata": {
    "execution": {
     "iopub.execute_input": "2020-11-01T15:59:00.912123Z",
     "iopub.status.busy": "2020-11-01T15:59:00.911233Z",
     "iopub.status.idle": "2020-11-01T15:59:00.916321Z",
     "shell.execute_reply": "2020-11-01T15:59:00.915584Z"
    },
    "papermill": {
     "duration": 0.07605,
     "end_time": "2020-11-01T15:59:00.916450",
     "exception": false,
     "start_time": "2020-11-01T15:59:00.840400",
     "status": "completed"
    },
    "tags": []
   },
   "outputs": [
    {
     "data": {
      "text/html": [
       "<div>\n",
       "<style scoped>\n",
       "    .dataframe tbody tr th:only-of-type {\n",
       "        vertical-align: middle;\n",
       "    }\n",
       "\n",
       "    .dataframe tbody tr th {\n",
       "        vertical-align: top;\n",
       "    }\n",
       "\n",
       "    .dataframe thead th {\n",
       "        text-align: right;\n",
       "    }\n",
       "</style>\n",
       "<table border=\"1\" class=\"dataframe\">\n",
       "  <thead>\n",
       "    <tr style=\"text-align: right;\">\n",
       "      <th></th>\n",
       "      <th>user_id</th>\n",
       "      <th>content_id</th>\n",
       "      <th>answered_correctly</th>\n",
       "      <th>prior_question_elapsed_time</th>\n",
       "      <th>prior_question_had_explanation</th>\n",
       "    </tr>\n",
       "  </thead>\n",
       "  <tbody>\n",
       "    <tr>\n",
       "      <th>0</th>\n",
       "      <td>115</td>\n",
       "      <td>5692</td>\n",
       "      <td>1</td>\n",
       "      <td>NaN</td>\n",
       "      <td>&lt;NA&gt;</td>\n",
       "    </tr>\n",
       "    <tr>\n",
       "      <th>1</th>\n",
       "      <td>1805962620</td>\n",
       "      <td>5547</td>\n",
       "      <td>0</td>\n",
       "      <td>NaN</td>\n",
       "      <td>&lt;NA&gt;</td>\n",
       "    </tr>\n",
       "    <tr>\n",
       "      <th>2</th>\n",
       "      <td>2015251289</td>\n",
       "      <td>4024</td>\n",
       "      <td>1</td>\n",
       "      <td>NaN</td>\n",
       "      <td>&lt;NA&gt;</td>\n",
       "    </tr>\n",
       "    <tr>\n",
       "      <th>3</th>\n",
       "      <td>867941388</td>\n",
       "      <td>6659</td>\n",
       "      <td>1</td>\n",
       "      <td>NaN</td>\n",
       "      <td>&lt;NA&gt;</td>\n",
       "    </tr>\n",
       "    <tr>\n",
       "      <th>4</th>\n",
       "      <td>867946278</td>\n",
       "      <td>3977</td>\n",
       "      <td>1</td>\n",
       "      <td>NaN</td>\n",
       "      <td>&lt;NA&gt;</td>\n",
       "    </tr>\n",
       "    <tr>\n",
       "      <th>5</th>\n",
       "      <td>867947333</td>\n",
       "      <td>7900</td>\n",
       "      <td>1</td>\n",
       "      <td>NaN</td>\n",
       "      <td>&lt;NA&gt;</td>\n",
       "    </tr>\n",
       "    <tr>\n",
       "      <th>6</th>\n",
       "      <td>1440786713</td>\n",
       "      <td>3889</td>\n",
       "      <td>1</td>\n",
       "      <td>NaN</td>\n",
       "      <td>&lt;NA&gt;</td>\n",
       "    </tr>\n",
       "    <tr>\n",
       "      <th>7</th>\n",
       "      <td>1805972720</td>\n",
       "      <td>5796</td>\n",
       "      <td>0</td>\n",
       "      <td>NaN</td>\n",
       "      <td>&lt;NA&gt;</td>\n",
       "    </tr>\n",
       "    <tr>\n",
       "      <th>8</th>\n",
       "      <td>579725075</td>\n",
       "      <td>7900</td>\n",
       "      <td>1</td>\n",
       "      <td>NaN</td>\n",
       "      <td>&lt;NA&gt;</td>\n",
       "    </tr>\n",
       "    <tr>\n",
       "      <th>9</th>\n",
       "      <td>390617956</td>\n",
       "      <td>4867</td>\n",
       "      <td>1</td>\n",
       "      <td>NaN</td>\n",
       "      <td>&lt;NA&gt;</td>\n",
       "    </tr>\n",
       "  </tbody>\n",
       "</table>\n",
       "</div>"
      ],
      "text/plain": [
       "      user_id  content_id  answered_correctly  prior_question_elapsed_time  \\\n",
       "0         115        5692                   1                          NaN   \n",
       "1  1805962620        5547                   0                          NaN   \n",
       "2  2015251289        4024                   1                          NaN   \n",
       "3   867941388        6659                   1                          NaN   \n",
       "4   867946278        3977                   1                          NaN   \n",
       "5   867947333        7900                   1                          NaN   \n",
       "6  1440786713        3889                   1                          NaN   \n",
       "7  1805972720        5796                   0                          NaN   \n",
       "8   579725075        7900                   1                          NaN   \n",
       "9   390617956        4867                   1                          NaN   \n",
       "\n",
       "   prior_question_had_explanation  \n",
       "0                            <NA>  \n",
       "1                            <NA>  \n",
       "2                            <NA>  \n",
       "3                            <NA>  \n",
       "4                            <NA>  \n",
       "5                            <NA>  \n",
       "6                            <NA>  \n",
       "7                            <NA>  \n",
       "8                            <NA>  \n",
       "9                            <NA>  "
      ]
     },
     "execution_count": 18,
     "metadata": {},
     "output_type": "execute_result"
    }
   ],
   "source": [
    "train.head(10)"
   ]
  },
  {
   "cell_type": "code",
   "execution_count": 19,
   "metadata": {
    "execution": {
     "iopub.execute_input": "2020-11-01T15:59:01.038779Z",
     "iopub.status.busy": "2020-11-01T15:59:01.037701Z",
     "iopub.status.idle": "2020-11-01T15:59:01.042065Z",
     "shell.execute_reply": "2020-11-01T15:59:01.041421Z"
    },
    "papermill": {
     "duration": 0.067881,
     "end_time": "2020-11-01T15:59:01.042205",
     "exception": false,
     "start_time": "2020-11-01T15:59:00.974324",
     "status": "completed"
    },
    "tags": []
   },
   "outputs": [
    {
     "data": {
      "text/plain": [
       "1574202"
      ]
     },
     "execution_count": 19,
     "metadata": {},
     "output_type": "execute_result"
    }
   ],
   "source": [
    "len(valid)"
   ]
  },
  {
   "cell_type": "code",
   "execution_count": 20,
   "metadata": {
    "execution": {
     "iopub.execute_input": "2020-11-01T15:59:01.169008Z",
     "iopub.status.busy": "2020-11-01T15:59:01.167838Z",
     "iopub.status.idle": "2020-11-01T15:59:01.175602Z",
     "shell.execute_reply": "2020-11-01T15:59:01.174851Z"
    },
    "papermill": {
     "duration": 0.074171,
     "end_time": "2020-11-01T15:59:01.175732",
     "exception": false,
     "start_time": "2020-11-01T15:59:01.101561",
     "status": "completed"
    },
    "tags": []
   },
   "outputs": [
    {
     "data": {
      "text/plain": [
       "0.5335192052862339"
      ]
     },
     "execution_count": 20,
     "metadata": {},
     "output_type": "execute_result"
    }
   ],
   "source": [
    "valid.answered_correctly.mean()"
   ]
  },
  {
   "cell_type": "code",
   "execution_count": 21,
   "metadata": {
    "execution": {
     "iopub.execute_input": "2020-11-01T15:59:01.301312Z",
     "iopub.status.busy": "2020-11-01T15:59:01.300449Z",
     "iopub.status.idle": "2020-11-01T15:59:01.382509Z",
     "shell.execute_reply": "2020-11-01T15:59:01.381274Z"
    },
    "papermill": {
     "duration": 0.147372,
     "end_time": "2020-11-01T15:59:01.382773",
     "exception": false,
     "start_time": "2020-11-01T15:59:01.235401",
     "status": "completed"
    },
    "tags": []
   },
   "outputs": [
    {
     "data": {
      "text/plain": [
       "0.6592289977743249"
      ]
     },
     "execution_count": 21,
     "metadata": {},
     "output_type": "execute_result"
    }
   ],
   "source": [
    "train.answered_correctly.mean()"
   ]
  },
  {
   "cell_type": "markdown",
   "metadata": {
    "papermill": {
     "duration": 0.05993,
     "end_time": "2020-11-01T15:59:01.504334",
     "exception": false,
     "start_time": "2020-11-01T15:59:01.444404",
     "status": "completed"
    },
    "tags": []
   },
   "source": [
    "# 构建训练数据"
   ]
  },
  {
   "cell_type": "code",
   "execution_count": 22,
   "metadata": {
    "execution": {
     "iopub.execute_input": "2020-11-01T15:59:01.632254Z",
     "iopub.status.busy": "2020-11-01T15:59:01.631385Z",
     "iopub.status.idle": "2020-11-01T15:59:01.635963Z",
     "shell.execute_reply": "2020-11-01T15:59:01.635092Z"
    },
    "papermill": {
     "duration": 0.071134,
     "end_time": "2020-11-01T15:59:01.636109",
     "exception": false,
     "start_time": "2020-11-01T15:59:01.564975",
     "status": "completed"
    },
    "tags": []
   },
   "outputs": [],
   "source": [
    "x = pd.DataFrame()"
   ]
  },
  {
   "cell_type": "code",
   "execution_count": 23,
   "metadata": {
    "execution": {
     "iopub.execute_input": "2020-11-01T15:59:01.768787Z",
     "iopub.status.busy": "2020-11-01T15:59:01.767888Z",
     "iopub.status.idle": "2020-11-01T16:02:48.661907Z",
     "shell.execute_reply": "2020-11-01T16:02:48.660990Z"
    },
    "papermill": {
     "duration": 226.962774,
     "end_time": "2020-11-01T16:02:48.662052",
     "exception": false,
     "start_time": "2020-11-01T15:59:01.699278",
     "status": "completed"
    },
    "tags": []
   },
   "outputs": [],
   "source": [
    "for i in range(15):\n",
    "    last_records = train.drop_duplicates('user_id',keep='last')\n",
    "    train = train[~train.index.isin(last_records.index)]\n",
    "    x = x.append(last_records)\n",
    "    "
   ]
  },
  {
   "cell_type": "code",
   "execution_count": 24,
   "metadata": {
    "execution": {
     "iopub.execute_input": "2020-11-01T16:02:48.797147Z",
     "iopub.status.busy": "2020-11-01T16:02:48.795962Z",
     "iopub.status.idle": "2020-11-01T16:02:48.801511Z",
     "shell.execute_reply": "2020-11-01T16:02:48.800831Z"
    },
    "papermill": {
     "duration": 0.077436,
     "end_time": "2020-11-01T16:02:48.801690",
     "exception": false,
     "start_time": "2020-11-01T16:02:48.724254",
     "status": "completed"
    },
    "tags": []
   },
   "outputs": [
    {
     "data": {
      "text/plain": [
       "5688652"
      ]
     },
     "execution_count": 24,
     "metadata": {},
     "output_type": "execute_result"
    }
   ],
   "source": [
    "len(x)"
   ]
  },
  {
   "cell_type": "code",
   "execution_count": 25,
   "metadata": {
    "execution": {
     "iopub.execute_input": "2020-11-01T16:02:48.933063Z",
     "iopub.status.busy": "2020-11-01T16:02:48.932059Z",
     "iopub.status.idle": "2020-11-01T16:02:48.937290Z",
     "shell.execute_reply": "2020-11-01T16:02:48.936533Z"
    },
    "papermill": {
     "duration": 0.072404,
     "end_time": "2020-11-01T16:02:48.937422",
     "exception": false,
     "start_time": "2020-11-01T16:02:48.865018",
     "status": "completed"
    },
    "tags": []
   },
   "outputs": [
    {
     "data": {
      "text/plain": [
       "92008446"
      ]
     },
     "execution_count": 25,
     "metadata": {},
     "output_type": "execute_result"
    }
   ],
   "source": [
    "len(train)"
   ]
  },
  {
   "cell_type": "code",
   "execution_count": 26,
   "metadata": {
    "execution": {
     "iopub.execute_input": "2020-11-01T16:02:49.079424Z",
     "iopub.status.busy": "2020-11-01T16:02:49.078581Z",
     "iopub.status.idle": "2020-11-01T16:02:49.089856Z",
     "shell.execute_reply": "2020-11-01T16:02:49.089028Z"
    },
    "papermill": {
     "duration": 0.089729,
     "end_time": "2020-11-01T16:02:49.090017",
     "exception": false,
     "start_time": "2020-11-01T16:02:49.000288",
     "status": "completed"
    },
    "tags": []
   },
   "outputs": [
    {
     "data": {
      "text/plain": [
       "0.5565163768147533"
      ]
     },
     "execution_count": 26,
     "metadata": {},
     "output_type": "execute_result"
    }
   ],
   "source": [
    "x.answered_correctly.mean()"
   ]
  },
  {
   "cell_type": "code",
   "execution_count": 27,
   "metadata": {
    "execution": {
     "iopub.execute_input": "2020-11-01T16:02:49.230291Z",
     "iopub.status.busy": "2020-11-01T16:02:49.229433Z",
     "iopub.status.idle": "2020-11-01T16:02:49.313292Z",
     "shell.execute_reply": "2020-11-01T16:02:49.312384Z"
    },
    "papermill": {
     "duration": 0.154258,
     "end_time": "2020-11-01T16:02:49.313429",
     "exception": false,
     "start_time": "2020-11-01T16:02:49.159171",
     "status": "completed"
    },
    "tags": []
   },
   "outputs": [
    {
     "data": {
      "text/plain": [
       "0.6655794621289441"
      ]
     },
     "execution_count": 27,
     "metadata": {},
     "output_type": "execute_result"
    }
   ],
   "source": [
    "train.answered_correctly.mean()"
   ]
  },
  {
   "cell_type": "markdown",
   "metadata": {
    "papermill": {
     "duration": 0.066923,
     "end_time": "2020-11-01T16:02:49.444476",
     "exception": false,
     "start_time": "2020-11-01T16:02:49.377553",
     "status": "completed"
    },
    "tags": []
   },
   "source": [
    "# 合成数据"
   ]
  },
  {
   "cell_type": "code",
   "execution_count": 28,
   "metadata": {
    "execution": {
     "iopub.execute_input": "2020-11-01T16:02:50.221836Z",
     "iopub.status.busy": "2020-11-01T16:02:49.920742Z",
     "iopub.status.idle": "2020-11-01T16:03:04.983394Z",
     "shell.execute_reply": "2020-11-01T16:03:04.982142Z"
    },
    "papermill": {
     "duration": 15.475239,
     "end_time": "2020-11-01T16:03:04.983634",
     "exception": false,
     "start_time": "2020-11-01T16:02:49.508395",
     "status": "completed"
    },
    "tags": []
   },
   "outputs": [],
   "source": [
    "results_c = train[['content_id','answered_correctly']].groupby(['content_id']).agg(['mean'])"
   ]
  },
  {
   "cell_type": "code",
   "execution_count": 29,
   "metadata": {
    "execution": {
     "iopub.execute_input": "2020-11-01T16:03:05.128889Z",
     "iopub.status.busy": "2020-11-01T16:03:05.127776Z",
     "iopub.status.idle": "2020-11-01T16:03:05.131109Z",
     "shell.execute_reply": "2020-11-01T16:03:05.130444Z"
    },
    "papermill": {
     "duration": 0.077189,
     "end_time": "2020-11-01T16:03:05.131237",
     "exception": false,
     "start_time": "2020-11-01T16:03:05.054048",
     "status": "completed"
    },
    "tags": []
   },
   "outputs": [],
   "source": [
    "results_c.columns = [\"answered_correctly_content\"]"
   ]
  },
  {
   "cell_type": "code",
   "execution_count": 30,
   "metadata": {
    "execution": {
     "iopub.execute_input": "2020-11-01T16:03:06.083149Z",
     "iopub.status.busy": "2020-11-01T16:03:05.770321Z",
     "iopub.status.idle": "2020-11-01T16:03:13.518427Z",
     "shell.execute_reply": "2020-11-01T16:03:13.517809Z"
    },
    "papermill": {
     "duration": 8.323137,
     "end_time": "2020-11-01T16:03:13.518583",
     "exception": false,
     "start_time": "2020-11-01T16:03:05.195446",
     "status": "completed"
    },
    "tags": []
   },
   "outputs": [],
   "source": [
    "results_u = train[['user_id','answered_correctly']].groupby(['user_id']).agg(['mean','sum','count'])"
   ]
  },
  {
   "cell_type": "code",
   "execution_count": 31,
   "metadata": {
    "execution": {
     "iopub.execute_input": "2020-11-01T16:03:13.654076Z",
     "iopub.status.busy": "2020-11-01T16:03:13.653050Z",
     "iopub.status.idle": "2020-11-01T16:03:13.656576Z",
     "shell.execute_reply": "2020-11-01T16:03:13.655795Z"
    },
    "papermill": {
     "duration": 0.072689,
     "end_time": "2020-11-01T16:03:13.656711",
     "exception": false,
     "start_time": "2020-11-01T16:03:13.584022",
     "status": "completed"
    },
    "tags": []
   },
   "outputs": [],
   "source": [
    "results_u.columns = [\"answered_correctly_user\",\"sum\",\"count\"]"
   ]
  },
  {
   "cell_type": "code",
   "execution_count": 32,
   "metadata": {
    "execution": {
     "iopub.execute_input": "2020-11-01T16:03:13.903905Z",
     "iopub.status.busy": "2020-11-01T16:03:13.902738Z",
     "iopub.status.idle": "2020-11-01T16:03:13.907030Z",
     "shell.execute_reply": "2020-11-01T16:03:13.906235Z"
    },
    "papermill": {
     "duration": 0.186373,
     "end_time": "2020-11-01T16:03:13.907160",
     "exception": false,
     "start_time": "2020-11-01T16:03:13.720787",
     "status": "completed"
    },
    "tags": []
   },
   "outputs": [],
   "source": [
    "del(train)"
   ]
  },
  {
   "cell_type": "code",
   "execution_count": 33,
   "metadata": {
    "execution": {
     "iopub.execute_input": "2020-11-01T16:03:14.056922Z",
     "iopub.status.busy": "2020-11-01T16:03:14.055545Z",
     "iopub.status.idle": "2020-11-01T16:03:14.061970Z",
     "shell.execute_reply": "2020-11-01T16:03:14.060934Z"
    },
    "papermill": {
     "duration": 0.090923,
     "end_time": "2020-11-01T16:03:14.062180",
     "exception": false,
     "start_time": "2020-11-01T16:03:13.971257",
     "status": "completed"
    },
    "tags": []
   },
   "outputs": [
    {
     "data": {
      "text/html": [
       "<div>\n",
       "<style scoped>\n",
       "    .dataframe tbody tr th:only-of-type {\n",
       "        vertical-align: middle;\n",
       "    }\n",
       "\n",
       "    .dataframe tbody tr th {\n",
       "        vertical-align: top;\n",
       "    }\n",
       "\n",
       "    .dataframe thead th {\n",
       "        text-align: right;\n",
       "    }\n",
       "</style>\n",
       "<table border=\"1\" class=\"dataframe\">\n",
       "  <thead>\n",
       "    <tr style=\"text-align: right;\">\n",
       "      <th></th>\n",
       "      <th>user_id</th>\n",
       "      <th>content_id</th>\n",
       "      <th>answered_correctly</th>\n",
       "      <th>prior_question_elapsed_time</th>\n",
       "      <th>prior_question_had_explanation</th>\n",
       "    </tr>\n",
       "  </thead>\n",
       "  <tbody>\n",
       "    <tr>\n",
       "      <th>18701</th>\n",
       "      <td>888540983</td>\n",
       "      <td>6269</td>\n",
       "      <td>1</td>\n",
       "      <td>NaN</td>\n",
       "      <td>&lt;NA&gt;</td>\n",
       "    </tr>\n",
       "    <tr>\n",
       "      <th>20413</th>\n",
       "      <td>1418755930</td>\n",
       "      <td>5314</td>\n",
       "      <td>1</td>\n",
       "      <td>NaN</td>\n",
       "      <td>&lt;NA&gt;</td>\n",
       "    </tr>\n",
       "    <tr>\n",
       "      <th>21067</th>\n",
       "      <td>2004252207</td>\n",
       "      <td>128</td>\n",
       "      <td>1</td>\n",
       "      <td>NaN</td>\n",
       "      <td>&lt;NA&gt;</td>\n",
       "    </tr>\n",
       "    <tr>\n",
       "      <th>31307</th>\n",
       "      <td>825864574</td>\n",
       "      <td>8440</td>\n",
       "      <td>1</td>\n",
       "      <td>NaN</td>\n",
       "      <td>&lt;NA&gt;</td>\n",
       "    </tr>\n",
       "    <tr>\n",
       "      <th>36833</th>\n",
       "      <td>1646232520</td>\n",
       "      <td>4357</td>\n",
       "      <td>1</td>\n",
       "      <td>NaN</td>\n",
       "      <td>&lt;NA&gt;</td>\n",
       "    </tr>\n",
       "    <tr>\n",
       "      <th>112442</th>\n",
       "      <td>938282142</td>\n",
       "      <td>3623</td>\n",
       "      <td>0</td>\n",
       "      <td>NaN</td>\n",
       "      <td>&lt;NA&gt;</td>\n",
       "    </tr>\n",
       "    <tr>\n",
       "      <th>173745</th>\n",
       "      <td>466117571</td>\n",
       "      <td>5958</td>\n",
       "      <td>0</td>\n",
       "      <td>NaN</td>\n",
       "      <td>&lt;NA&gt;</td>\n",
       "    </tr>\n",
       "    <tr>\n",
       "      <th>178181</th>\n",
       "      <td>659362682</td>\n",
       "      <td>5118</td>\n",
       "      <td>0</td>\n",
       "      <td>NaN</td>\n",
       "      <td>&lt;NA&gt;</td>\n",
       "    </tr>\n",
       "    <tr>\n",
       "      <th>211578</th>\n",
       "      <td>1639083714</td>\n",
       "      <td>5970</td>\n",
       "      <td>0</td>\n",
       "      <td>NaN</td>\n",
       "      <td>&lt;NA&gt;</td>\n",
       "    </tr>\n",
       "    <tr>\n",
       "      <th>211823</th>\n",
       "      <td>790143287</td>\n",
       "      <td>5007</td>\n",
       "      <td>0</td>\n",
       "      <td>NaN</td>\n",
       "      <td>&lt;NA&gt;</td>\n",
       "    </tr>\n",
       "  </tbody>\n",
       "</table>\n",
       "</div>"
      ],
      "text/plain": [
       "           user_id  content_id  answered_correctly  \\\n",
       "18701    888540983        6269                   1   \n",
       "20413   1418755930        5314                   1   \n",
       "21067   2004252207         128                   1   \n",
       "31307    825864574        8440                   1   \n",
       "36833   1646232520        4357                   1   \n",
       "112442   938282142        3623                   0   \n",
       "173745   466117571        5958                   0   \n",
       "178181   659362682        5118                   0   \n",
       "211578  1639083714        5970                   0   \n",
       "211823   790143287        5007                   0   \n",
       "\n",
       "        prior_question_elapsed_time  prior_question_had_explanation  \n",
       "18701                           NaN                            <NA>  \n",
       "20413                           NaN                            <NA>  \n",
       "21067                           NaN                            <NA>  \n",
       "31307                           NaN                            <NA>  \n",
       "36833                           NaN                            <NA>  \n",
       "112442                          NaN                            <NA>  \n",
       "173745                          NaN                            <NA>  \n",
       "178181                          NaN                            <NA>  \n",
       "211578                          NaN                            <NA>  \n",
       "211823                          NaN                            <NA>  "
      ]
     },
     "execution_count": 33,
     "metadata": {},
     "output_type": "execute_result"
    }
   ],
   "source": [
    "x.head(10)"
   ]
  },
  {
   "cell_type": "code",
   "execution_count": 34,
   "metadata": {
    "execution": {
     "iopub.execute_input": "2020-11-01T16:03:14.212341Z",
     "iopub.status.busy": "2020-11-01T16:03:14.211188Z",
     "iopub.status.idle": "2020-11-01T16:03:14.215668Z",
     "shell.execute_reply": "2020-11-01T16:03:14.216307Z"
    },
    "papermill": {
     "duration": 0.086329,
     "end_time": "2020-11-01T16:03:14.216498",
     "exception": false,
     "start_time": "2020-11-01T16:03:14.130169",
     "status": "completed"
    },
    "tags": []
   },
   "outputs": [
    {
     "data": {
      "text/html": [
       "<div>\n",
       "<style scoped>\n",
       "    .dataframe tbody tr th:only-of-type {\n",
       "        vertical-align: middle;\n",
       "    }\n",
       "\n",
       "    .dataframe tbody tr th {\n",
       "        vertical-align: top;\n",
       "    }\n",
       "\n",
       "    .dataframe thead th {\n",
       "        text-align: right;\n",
       "    }\n",
       "</style>\n",
       "<table border=\"1\" class=\"dataframe\">\n",
       "  <thead>\n",
       "    <tr style=\"text-align: right;\">\n",
       "      <th></th>\n",
       "      <th>answered_correctly_user</th>\n",
       "      <th>sum</th>\n",
       "      <th>count</th>\n",
       "    </tr>\n",
       "    <tr>\n",
       "      <th>user_id</th>\n",
       "      <th></th>\n",
       "      <th></th>\n",
       "      <th></th>\n",
       "    </tr>\n",
       "  </thead>\n",
       "  <tbody>\n",
       "    <tr>\n",
       "      <th>115</th>\n",
       "      <td>0.703704</td>\n",
       "      <td>19.0</td>\n",
       "      <td>27</td>\n",
       "    </tr>\n",
       "    <tr>\n",
       "      <th>124</th>\n",
       "      <td>0.272727</td>\n",
       "      <td>3.0</td>\n",
       "      <td>11</td>\n",
       "    </tr>\n",
       "    <tr>\n",
       "      <th>5382</th>\n",
       "      <td>0.669811</td>\n",
       "      <td>71.0</td>\n",
       "      <td>106</td>\n",
       "    </tr>\n",
       "    <tr>\n",
       "      <th>8623</th>\n",
       "      <td>0.611111</td>\n",
       "      <td>55.0</td>\n",
       "      <td>90</td>\n",
       "    </tr>\n",
       "    <tr>\n",
       "      <th>12741</th>\n",
       "      <td>0.556911</td>\n",
       "      <td>137.0</td>\n",
       "      <td>246</td>\n",
       "    </tr>\n",
       "    <tr>\n",
       "      <th>13134</th>\n",
       "      <td>0.709150</td>\n",
       "      <td>868.0</td>\n",
       "      <td>1224</td>\n",
       "    </tr>\n",
       "    <tr>\n",
       "      <th>24418</th>\n",
       "      <td>0.690294</td>\n",
       "      <td>4324.0</td>\n",
       "      <td>6264</td>\n",
       "    </tr>\n",
       "    <tr>\n",
       "      <th>24600</th>\n",
       "      <td>0.225806</td>\n",
       "      <td>7.0</td>\n",
       "      <td>31</td>\n",
       "    </tr>\n",
       "    <tr>\n",
       "      <th>32421</th>\n",
       "      <td>0.545455</td>\n",
       "      <td>6.0</td>\n",
       "      <td>11</td>\n",
       "    </tr>\n",
       "    <tr>\n",
       "      <th>40828</th>\n",
       "      <td>0.616438</td>\n",
       "      <td>45.0</td>\n",
       "      <td>73</td>\n",
       "    </tr>\n",
       "  </tbody>\n",
       "</table>\n",
       "</div>"
      ],
      "text/plain": [
       "         answered_correctly_user     sum  count\n",
       "user_id                                        \n",
       "115                     0.703704    19.0     27\n",
       "124                     0.272727     3.0     11\n",
       "5382                    0.669811    71.0    106\n",
       "8623                    0.611111    55.0     90\n",
       "12741                   0.556911   137.0    246\n",
       "13134                   0.709150   868.0   1224\n",
       "24418                   0.690294  4324.0   6264\n",
       "24600                   0.225806     7.0     31\n",
       "32421                   0.545455     6.0     11\n",
       "40828                   0.616438    45.0     73"
      ]
     },
     "execution_count": 34,
     "metadata": {},
     "output_type": "execute_result"
    }
   ],
   "source": [
    "results_u.head(10)"
   ]
  },
  {
   "cell_type": "code",
   "execution_count": 35,
   "metadata": {
    "execution": {
     "iopub.execute_input": "2020-11-01T16:03:14.357565Z",
     "iopub.status.busy": "2020-11-01T16:03:14.356678Z",
     "iopub.status.idle": "2020-11-01T16:03:16.759506Z",
     "shell.execute_reply": "2020-11-01T16:03:16.760275Z"
    },
    "papermill": {
     "duration": 2.47589,
     "end_time": "2020-11-01T16:03:16.760451",
     "exception": false,
     "start_time": "2020-11-01T16:03:14.284561",
     "status": "completed"
    },
    "tags": []
   },
   "outputs": [
    {
     "data": {
      "text/html": [
       "<div>\n",
       "<style scoped>\n",
       "    .dataframe tbody tr th:only-of-type {\n",
       "        vertical-align: middle;\n",
       "    }\n",
       "\n",
       "    .dataframe tbody tr th {\n",
       "        vertical-align: top;\n",
       "    }\n",
       "\n",
       "    .dataframe thead th {\n",
       "        text-align: right;\n",
       "    }\n",
       "</style>\n",
       "<table border=\"1\" class=\"dataframe\">\n",
       "  <thead>\n",
       "    <tr style=\"text-align: right;\">\n",
       "      <th></th>\n",
       "      <th>user_id</th>\n",
       "      <th>content_id</th>\n",
       "      <th>answered_correctly</th>\n",
       "      <th>prior_question_elapsed_time</th>\n",
       "      <th>prior_question_had_explanation</th>\n",
       "      <th>answered_correctly_user</th>\n",
       "      <th>sum</th>\n",
       "      <th>count</th>\n",
       "      <th>answered_correctly_content</th>\n",
       "    </tr>\n",
       "  </thead>\n",
       "  <tbody>\n",
       "    <tr>\n",
       "      <th>0</th>\n",
       "      <td>888540983</td>\n",
       "      <td>6269</td>\n",
       "      <td>1</td>\n",
       "      <td>NaN</td>\n",
       "      <td>&lt;NA&gt;</td>\n",
       "      <td>NaN</td>\n",
       "      <td>NaN</td>\n",
       "      <td>NaN</td>\n",
       "      <td>0.821711</td>\n",
       "    </tr>\n",
       "    <tr>\n",
       "      <th>1</th>\n",
       "      <td>1418755930</td>\n",
       "      <td>5314</td>\n",
       "      <td>1</td>\n",
       "      <td>NaN</td>\n",
       "      <td>&lt;NA&gt;</td>\n",
       "      <td>NaN</td>\n",
       "      <td>NaN</td>\n",
       "      <td>NaN</td>\n",
       "      <td>0.783144</td>\n",
       "    </tr>\n",
       "    <tr>\n",
       "      <th>2</th>\n",
       "      <td>2004252207</td>\n",
       "      <td>128</td>\n",
       "      <td>1</td>\n",
       "      <td>NaN</td>\n",
       "      <td>&lt;NA&gt;</td>\n",
       "      <td>NaN</td>\n",
       "      <td>NaN</td>\n",
       "      <td>NaN</td>\n",
       "      <td>0.966869</td>\n",
       "    </tr>\n",
       "    <tr>\n",
       "      <th>3</th>\n",
       "      <td>825864574</td>\n",
       "      <td>8440</td>\n",
       "      <td>1</td>\n",
       "      <td>NaN</td>\n",
       "      <td>&lt;NA&gt;</td>\n",
       "      <td>NaN</td>\n",
       "      <td>NaN</td>\n",
       "      <td>NaN</td>\n",
       "      <td>0.953749</td>\n",
       "    </tr>\n",
       "    <tr>\n",
       "      <th>4</th>\n",
       "      <td>1646232520</td>\n",
       "      <td>4357</td>\n",
       "      <td>1</td>\n",
       "      <td>NaN</td>\n",
       "      <td>&lt;NA&gt;</td>\n",
       "      <td>NaN</td>\n",
       "      <td>NaN</td>\n",
       "      <td>NaN</td>\n",
       "      <td>0.764535</td>\n",
       "    </tr>\n",
       "    <tr>\n",
       "      <th>5</th>\n",
       "      <td>938282142</td>\n",
       "      <td>3623</td>\n",
       "      <td>0</td>\n",
       "      <td>NaN</td>\n",
       "      <td>&lt;NA&gt;</td>\n",
       "      <td>NaN</td>\n",
       "      <td>NaN</td>\n",
       "      <td>NaN</td>\n",
       "      <td>0.502464</td>\n",
       "    </tr>\n",
       "    <tr>\n",
       "      <th>6</th>\n",
       "      <td>466117571</td>\n",
       "      <td>5958</td>\n",
       "      <td>0</td>\n",
       "      <td>NaN</td>\n",
       "      <td>&lt;NA&gt;</td>\n",
       "      <td>NaN</td>\n",
       "      <td>NaN</td>\n",
       "      <td>NaN</td>\n",
       "      <td>0.459773</td>\n",
       "    </tr>\n",
       "    <tr>\n",
       "      <th>7</th>\n",
       "      <td>659362682</td>\n",
       "      <td>5118</td>\n",
       "      <td>0</td>\n",
       "      <td>NaN</td>\n",
       "      <td>&lt;NA&gt;</td>\n",
       "      <td>NaN</td>\n",
       "      <td>NaN</td>\n",
       "      <td>NaN</td>\n",
       "      <td>0.730798</td>\n",
       "    </tr>\n",
       "    <tr>\n",
       "      <th>8</th>\n",
       "      <td>1639083714</td>\n",
       "      <td>5970</td>\n",
       "      <td>0</td>\n",
       "      <td>NaN</td>\n",
       "      <td>&lt;NA&gt;</td>\n",
       "      <td>NaN</td>\n",
       "      <td>NaN</td>\n",
       "      <td>NaN</td>\n",
       "      <td>0.427269</td>\n",
       "    </tr>\n",
       "    <tr>\n",
       "      <th>9</th>\n",
       "      <td>790143287</td>\n",
       "      <td>5007</td>\n",
       "      <td>0</td>\n",
       "      <td>NaN</td>\n",
       "      <td>&lt;NA&gt;</td>\n",
       "      <td>NaN</td>\n",
       "      <td>NaN</td>\n",
       "      <td>NaN</td>\n",
       "      <td>0.688170</td>\n",
       "    </tr>\n",
       "  </tbody>\n",
       "</table>\n",
       "</div>"
      ],
      "text/plain": [
       "      user_id  content_id  answered_correctly  prior_question_elapsed_time  \\\n",
       "0   888540983        6269                   1                          NaN   \n",
       "1  1418755930        5314                   1                          NaN   \n",
       "2  2004252207         128                   1                          NaN   \n",
       "3   825864574        8440                   1                          NaN   \n",
       "4  1646232520        4357                   1                          NaN   \n",
       "5   938282142        3623                   0                          NaN   \n",
       "6   466117571        5958                   0                          NaN   \n",
       "7   659362682        5118                   0                          NaN   \n",
       "8  1639083714        5970                   0                          NaN   \n",
       "9   790143287        5007                   0                          NaN   \n",
       "\n",
       "   prior_question_had_explanation  answered_correctly_user  sum  count  \\\n",
       "0                            <NA>                      NaN  NaN    NaN   \n",
       "1                            <NA>                      NaN  NaN    NaN   \n",
       "2                            <NA>                      NaN  NaN    NaN   \n",
       "3                            <NA>                      NaN  NaN    NaN   \n",
       "4                            <NA>                      NaN  NaN    NaN   \n",
       "5                            <NA>                      NaN  NaN    NaN   \n",
       "6                            <NA>                      NaN  NaN    NaN   \n",
       "7                            <NA>                      NaN  NaN    NaN   \n",
       "8                            <NA>                      NaN  NaN    NaN   \n",
       "9                            <NA>                      NaN  NaN    NaN   \n",
       "\n",
       "   answered_correctly_content  \n",
       "0                    0.821711  \n",
       "1                    0.783144  \n",
       "2                    0.966869  \n",
       "3                    0.953749  \n",
       "4                    0.764535  \n",
       "5                    0.502464  \n",
       "6                    0.459773  \n",
       "7                    0.730798  \n",
       "8                    0.427269  \n",
       "9                    0.688170  "
      ]
     },
     "execution_count": 35,
     "metadata": {},
     "output_type": "execute_result"
    }
   ],
   "source": [
    "x = pd.merge(x, results_u, on=['user_id'], how='left')\n",
    "x = pd.merge(x, result_c_final, on=['content_id'],how='left')\n",
    "# 这里是把当前训练集和user的做题准确率等和题目总体的准确率等信息合并起来，\n",
    "# 这里的user的做题信息，采取的是用户除了这15个最近的做题日之外的做题的准确率\n",
    "# 而题目的准确率信息则是全局整体的做题记录分析出的\n",
    "x.head(10)"
   ]
  },
  {
   "cell_type": "code",
   "execution_count": 36,
   "metadata": {
    "execution": {
     "iopub.execute_input": "2020-11-01T16:03:16.902258Z",
     "iopub.status.busy": "2020-11-01T16:03:16.901377Z",
     "iopub.status.idle": "2020-11-01T16:03:17.568550Z",
     "shell.execute_reply": "2020-11-01T16:03:17.567894Z"
    },
    "papermill": {
     "duration": 0.739615,
     "end_time": "2020-11-01T16:03:17.568693",
     "exception": false,
     "start_time": "2020-11-01T16:03:16.829078",
     "status": "completed"
    },
    "tags": []
   },
   "outputs": [],
   "source": [
    "valid = pd.merge(valid, results_u, on=['user_id'],how='left')\n",
    "valid = pd.merge(valid, result_c_final, on=['content_id'], how='left')"
   ]
  },
  {
   "cell_type": "markdown",
   "metadata": {
    "papermill": {
     "duration": 0.065345,
     "end_time": "2020-11-01T16:03:17.700690",
     "exception": false,
     "start_time": "2020-11-01T16:03:17.635345",
     "status": "completed"
    },
    "tags": []
   },
   "source": [
    "# 数据预处理"
   ]
  },
  {
   "cell_type": "code",
   "execution_count": 37,
   "metadata": {
    "execution": {
     "iopub.execute_input": "2020-11-01T16:03:17.843569Z",
     "iopub.status.busy": "2020-11-01T16:03:17.842730Z",
     "iopub.status.idle": "2020-11-01T16:03:20.729213Z",
     "shell.execute_reply": "2020-11-01T16:03:20.728417Z"
    },
    "papermill": {
     "duration": 2.962215,
     "end_time": "2020-11-01T16:03:20.729343",
     "exception": false,
     "start_time": "2020-11-01T16:03:17.767128",
     "status": "completed"
    },
    "tags": []
   },
   "outputs": [],
   "source": [
    "from sklearn.preprocessing import LabelEncoder\n",
    "\n",
    "lb_make = LabelEncoder()\n",
    "\n",
    "x.prior_question_had_explanation.fillna(False, inplace=True)\n",
    "valid.prior_question_had_explanation.fillna(False, inplace=True)\n",
    "\n",
    "valid[\"prior_question_had_explanation_enc\"] = lb_make.fit_transform(valid[\"prior_question_had_explanation\"])\n",
    "x[\"prior_question_had_explanation_enc\"] = lb_make.fit_transform(x[\"prior_question_had_explanation\"])\n",
    "# LabelEncoder.fit_transform()相当于将其他的不适合模型训练的值，比如布尔值，种类类别如cat,dog等，\n",
    "# 转换成对应的0~num_class-1的数值，方便进行模型训练"
   ]
  },
  {
   "cell_type": "code",
   "execution_count": 38,
   "metadata": {
    "execution": {
     "iopub.execute_input": "2020-11-01T16:03:20.871924Z",
     "iopub.status.busy": "2020-11-01T16:03:20.868187Z",
     "iopub.status.idle": "2020-11-01T16:03:20.893722Z",
     "shell.execute_reply": "2020-11-01T16:03:20.894259Z"
    },
    "papermill": {
     "duration": 0.09875,
     "end_time": "2020-11-01T16:03:20.894433",
     "exception": false,
     "start_time": "2020-11-01T16:03:20.795683",
     "status": "completed"
    },
    "tags": []
   },
   "outputs": [
    {
     "data": {
      "text/html": [
       "<div>\n",
       "<style scoped>\n",
       "    .dataframe tbody tr th:only-of-type {\n",
       "        vertical-align: middle;\n",
       "    }\n",
       "\n",
       "    .dataframe tbody tr th {\n",
       "        vertical-align: top;\n",
       "    }\n",
       "\n",
       "    .dataframe thead th {\n",
       "        text-align: right;\n",
       "    }\n",
       "</style>\n",
       "<table border=\"1\" class=\"dataframe\">\n",
       "  <thead>\n",
       "    <tr style=\"text-align: right;\">\n",
       "      <th></th>\n",
       "      <th>user_id</th>\n",
       "      <th>content_id</th>\n",
       "      <th>answered_correctly</th>\n",
       "      <th>prior_question_elapsed_time</th>\n",
       "      <th>prior_question_had_explanation</th>\n",
       "      <th>answered_correctly_user</th>\n",
       "      <th>sum</th>\n",
       "      <th>count</th>\n",
       "      <th>answered_correctly_content</th>\n",
       "      <th>prior_question_had_explanation_enc</th>\n",
       "    </tr>\n",
       "  </thead>\n",
       "  <tbody>\n",
       "    <tr>\n",
       "      <th>0</th>\n",
       "      <td>888540983</td>\n",
       "      <td>6269</td>\n",
       "      <td>1</td>\n",
       "      <td>NaN</td>\n",
       "      <td>False</td>\n",
       "      <td>NaN</td>\n",
       "      <td>NaN</td>\n",
       "      <td>NaN</td>\n",
       "      <td>0.821711</td>\n",
       "      <td>0</td>\n",
       "    </tr>\n",
       "    <tr>\n",
       "      <th>1</th>\n",
       "      <td>1418755930</td>\n",
       "      <td>5314</td>\n",
       "      <td>1</td>\n",
       "      <td>NaN</td>\n",
       "      <td>False</td>\n",
       "      <td>NaN</td>\n",
       "      <td>NaN</td>\n",
       "      <td>NaN</td>\n",
       "      <td>0.783144</td>\n",
       "      <td>0</td>\n",
       "    </tr>\n",
       "    <tr>\n",
       "      <th>2</th>\n",
       "      <td>2004252207</td>\n",
       "      <td>128</td>\n",
       "      <td>1</td>\n",
       "      <td>NaN</td>\n",
       "      <td>False</td>\n",
       "      <td>NaN</td>\n",
       "      <td>NaN</td>\n",
       "      <td>NaN</td>\n",
       "      <td>0.966869</td>\n",
       "      <td>0</td>\n",
       "    </tr>\n",
       "    <tr>\n",
       "      <th>3</th>\n",
       "      <td>825864574</td>\n",
       "      <td>8440</td>\n",
       "      <td>1</td>\n",
       "      <td>NaN</td>\n",
       "      <td>False</td>\n",
       "      <td>NaN</td>\n",
       "      <td>NaN</td>\n",
       "      <td>NaN</td>\n",
       "      <td>0.953749</td>\n",
       "      <td>0</td>\n",
       "    </tr>\n",
       "    <tr>\n",
       "      <th>4</th>\n",
       "      <td>1646232520</td>\n",
       "      <td>4357</td>\n",
       "      <td>1</td>\n",
       "      <td>NaN</td>\n",
       "      <td>False</td>\n",
       "      <td>NaN</td>\n",
       "      <td>NaN</td>\n",
       "      <td>NaN</td>\n",
       "      <td>0.764535</td>\n",
       "      <td>0</td>\n",
       "    </tr>\n",
       "    <tr>\n",
       "      <th>...</th>\n",
       "      <td>...</td>\n",
       "      <td>...</td>\n",
       "      <td>...</td>\n",
       "      <td>...</td>\n",
       "      <td>...</td>\n",
       "      <td>...</td>\n",
       "      <td>...</td>\n",
       "      <td>...</td>\n",
       "      <td>...</td>\n",
       "      <td>...</td>\n",
       "    </tr>\n",
       "    <tr>\n",
       "      <th>95</th>\n",
       "      <td>528969551</td>\n",
       "      <td>11535</td>\n",
       "      <td>1</td>\n",
       "      <td>13000.0</td>\n",
       "      <td>False</td>\n",
       "      <td>NaN</td>\n",
       "      <td>NaN</td>\n",
       "      <td>NaN</td>\n",
       "      <td>0.368267</td>\n",
       "      <td>0</td>\n",
       "    </tr>\n",
       "    <tr>\n",
       "      <th>96</th>\n",
       "      <td>30683589</td>\n",
       "      <td>5976</td>\n",
       "      <td>0</td>\n",
       "      <td>9000.0</td>\n",
       "      <td>False</td>\n",
       "      <td>NaN</td>\n",
       "      <td>NaN</td>\n",
       "      <td>NaN</td>\n",
       "      <td>0.431772</td>\n",
       "      <td>0</td>\n",
       "    </tr>\n",
       "    <tr>\n",
       "      <th>97</th>\n",
       "      <td>619663752</td>\n",
       "      <td>6266</td>\n",
       "      <td>0</td>\n",
       "      <td>18000.0</td>\n",
       "      <td>False</td>\n",
       "      <td>NaN</td>\n",
       "      <td>NaN</td>\n",
       "      <td>NaN</td>\n",
       "      <td>0.514274</td>\n",
       "      <td>0</td>\n",
       "    </tr>\n",
       "    <tr>\n",
       "      <th>98</th>\n",
       "      <td>1762919069</td>\n",
       "      <td>5190</td>\n",
       "      <td>1</td>\n",
       "      <td>13000.0</td>\n",
       "      <td>False</td>\n",
       "      <td>NaN</td>\n",
       "      <td>NaN</td>\n",
       "      <td>NaN</td>\n",
       "      <td>0.712399</td>\n",
       "      <td>0</td>\n",
       "    </tr>\n",
       "    <tr>\n",
       "      <th>99</th>\n",
       "      <td>8343734</td>\n",
       "      <td>4439</td>\n",
       "      <td>1</td>\n",
       "      <td>17000.0</td>\n",
       "      <td>False</td>\n",
       "      <td>NaN</td>\n",
       "      <td>NaN</td>\n",
       "      <td>NaN</td>\n",
       "      <td>0.226079</td>\n",
       "      <td>0</td>\n",
       "    </tr>\n",
       "  </tbody>\n",
       "</table>\n",
       "<p>100 rows × 10 columns</p>\n",
       "</div>"
      ],
      "text/plain": [
       "       user_id  content_id  answered_correctly  prior_question_elapsed_time  \\\n",
       "0    888540983        6269                   1                          NaN   \n",
       "1   1418755930        5314                   1                          NaN   \n",
       "2   2004252207         128                   1                          NaN   \n",
       "3    825864574        8440                   1                          NaN   \n",
       "4   1646232520        4357                   1                          NaN   \n",
       "..         ...         ...                 ...                          ...   \n",
       "95   528969551       11535                   1                      13000.0   \n",
       "96    30683589        5976                   0                       9000.0   \n",
       "97   619663752        6266                   0                      18000.0   \n",
       "98  1762919069        5190                   1                      13000.0   \n",
       "99     8343734        4439                   1                      17000.0   \n",
       "\n",
       "    prior_question_had_explanation  answered_correctly_user  sum  count  \\\n",
       "0                            False                      NaN  NaN    NaN   \n",
       "1                            False                      NaN  NaN    NaN   \n",
       "2                            False                      NaN  NaN    NaN   \n",
       "3                            False                      NaN  NaN    NaN   \n",
       "4                            False                      NaN  NaN    NaN   \n",
       "..                             ...                      ...  ...    ...   \n",
       "95                           False                      NaN  NaN    NaN   \n",
       "96                           False                      NaN  NaN    NaN   \n",
       "97                           False                      NaN  NaN    NaN   \n",
       "98                           False                      NaN  NaN    NaN   \n",
       "99                           False                      NaN  NaN    NaN   \n",
       "\n",
       "    answered_correctly_content  prior_question_had_explanation_enc  \n",
       "0                     0.821711                                   0  \n",
       "1                     0.783144                                   0  \n",
       "2                     0.966869                                   0  \n",
       "3                     0.953749                                   0  \n",
       "4                     0.764535                                   0  \n",
       "..                         ...                                 ...  \n",
       "95                    0.368267                                   0  \n",
       "96                    0.431772                                   0  \n",
       "97                    0.514274                                   0  \n",
       "98                    0.712399                                   0  \n",
       "99                    0.226079                                   0  \n",
       "\n",
       "[100 rows x 10 columns]"
      ]
     },
     "execution_count": 38,
     "metadata": {},
     "output_type": "execute_result"
    }
   ],
   "source": [
    "x.head(100)\n"
   ]
  },
  {
   "cell_type": "markdown",
   "metadata": {
    "papermill": {
     "duration": 0.068056,
     "end_time": "2020-11-01T16:03:21.029424",
     "exception": false,
     "start_time": "2020-11-01T16:03:20.961368",
     "status": "completed"
    },
    "tags": []
   },
   "source": [
    "# 读取question.csv"
   ]
  },
  {
   "cell_type": "code",
   "execution_count": 39,
   "metadata": {
    "execution": {
     "iopub.execute_input": "2020-11-01T16:03:21.173265Z",
     "iopub.status.busy": "2020-11-01T16:03:21.172303Z",
     "iopub.status.idle": "2020-11-01T16:03:21.185029Z",
     "shell.execute_reply": "2020-11-01T16:03:21.184200Z"
    },
    "papermill": {
     "duration": 0.088225,
     "end_time": "2020-11-01T16:03:21.185164",
     "exception": false,
     "start_time": "2020-11-01T16:03:21.096939",
     "status": "completed"
    },
    "tags": []
   },
   "outputs": [],
   "source": [
    "questions_df = pd.read_csv('/kaggle/input/riiid-test-answer-prediction/questions.csv',\n",
    "                          usecols=[0,3],\n",
    "                          dtype={'question_id':'int16',\n",
    "                                'part':'int8'})"
   ]
  },
  {
   "cell_type": "code",
   "execution_count": 40,
   "metadata": {
    "execution": {
     "iopub.execute_input": "2020-11-01T16:03:21.331693Z",
     "iopub.status.busy": "2020-11-01T16:03:21.330600Z",
     "iopub.status.idle": "2020-11-01T16:03:21.335061Z",
     "shell.execute_reply": "2020-11-01T16:03:21.334456Z"
    },
    "papermill": {
     "duration": 0.081467,
     "end_time": "2020-11-01T16:03:21.335187",
     "exception": false,
     "start_time": "2020-11-01T16:03:21.253720",
     "status": "completed"
    },
    "tags": []
   },
   "outputs": [
    {
     "data": {
      "text/html": [
       "<div>\n",
       "<style scoped>\n",
       "    .dataframe tbody tr th:only-of-type {\n",
       "        vertical-align: middle;\n",
       "    }\n",
       "\n",
       "    .dataframe tbody tr th {\n",
       "        vertical-align: top;\n",
       "    }\n",
       "\n",
       "    .dataframe thead th {\n",
       "        text-align: right;\n",
       "    }\n",
       "</style>\n",
       "<table border=\"1\" class=\"dataframe\">\n",
       "  <thead>\n",
       "    <tr style=\"text-align: right;\">\n",
       "      <th></th>\n",
       "      <th>question_id</th>\n",
       "      <th>part</th>\n",
       "    </tr>\n",
       "  </thead>\n",
       "  <tbody>\n",
       "    <tr>\n",
       "      <th>0</th>\n",
       "      <td>0</td>\n",
       "      <td>1</td>\n",
       "    </tr>\n",
       "    <tr>\n",
       "      <th>1</th>\n",
       "      <td>1</td>\n",
       "      <td>1</td>\n",
       "    </tr>\n",
       "    <tr>\n",
       "      <th>2</th>\n",
       "      <td>2</td>\n",
       "      <td>1</td>\n",
       "    </tr>\n",
       "    <tr>\n",
       "      <th>3</th>\n",
       "      <td>3</td>\n",
       "      <td>1</td>\n",
       "    </tr>\n",
       "    <tr>\n",
       "      <th>4</th>\n",
       "      <td>4</td>\n",
       "      <td>1</td>\n",
       "    </tr>\n",
       "    <tr>\n",
       "      <th>5</th>\n",
       "      <td>5</td>\n",
       "      <td>1</td>\n",
       "    </tr>\n",
       "    <tr>\n",
       "      <th>6</th>\n",
       "      <td>6</td>\n",
       "      <td>1</td>\n",
       "    </tr>\n",
       "    <tr>\n",
       "      <th>7</th>\n",
       "      <td>7</td>\n",
       "      <td>1</td>\n",
       "    </tr>\n",
       "    <tr>\n",
       "      <th>8</th>\n",
       "      <td>8</td>\n",
       "      <td>1</td>\n",
       "    </tr>\n",
       "    <tr>\n",
       "      <th>9</th>\n",
       "      <td>9</td>\n",
       "      <td>1</td>\n",
       "    </tr>\n",
       "  </tbody>\n",
       "</table>\n",
       "</div>"
      ],
      "text/plain": [
       "   question_id  part\n",
       "0            0     1\n",
       "1            1     1\n",
       "2            2     1\n",
       "3            3     1\n",
       "4            4     1\n",
       "5            5     1\n",
       "6            6     1\n",
       "7            7     1\n",
       "8            8     1\n",
       "9            9     1"
      ]
     },
     "execution_count": 40,
     "metadata": {},
     "output_type": "execute_result"
    }
   ],
   "source": [
    "questions_df.head(10)"
   ]
  },
  {
   "cell_type": "code",
   "execution_count": 41,
   "metadata": {
    "execution": {
     "iopub.execute_input": "2020-11-01T16:03:21.491228Z",
     "iopub.status.busy": "2020-11-01T16:03:21.490309Z",
     "iopub.status.idle": "2020-11-01T16:03:21.496179Z",
     "shell.execute_reply": "2020-11-01T16:03:21.495460Z"
    },
    "papermill": {
     "duration": 0.092412,
     "end_time": "2020-11-01T16:03:21.496313",
     "exception": false,
     "start_time": "2020-11-01T16:03:21.403901",
     "status": "completed"
    },
    "tags": []
   },
   "outputs": [
    {
     "data": {
      "text/html": [
       "<div>\n",
       "<style scoped>\n",
       "    .dataframe tbody tr th:only-of-type {\n",
       "        vertical-align: middle;\n",
       "    }\n",
       "\n",
       "    .dataframe tbody tr th {\n",
       "        vertical-align: top;\n",
       "    }\n",
       "\n",
       "    .dataframe thead th {\n",
       "        text-align: right;\n",
       "    }\n",
       "</style>\n",
       "<table border=\"1\" class=\"dataframe\">\n",
       "  <thead>\n",
       "    <tr style=\"text-align: right;\">\n",
       "      <th></th>\n",
       "      <th>user_id</th>\n",
       "      <th>content_id</th>\n",
       "      <th>answered_correctly</th>\n",
       "      <th>prior_question_elapsed_time</th>\n",
       "      <th>prior_question_had_explanation</th>\n",
       "      <th>answered_correctly_user</th>\n",
       "      <th>sum</th>\n",
       "      <th>count</th>\n",
       "      <th>answered_correctly_content</th>\n",
       "      <th>prior_question_had_explanation_enc</th>\n",
       "    </tr>\n",
       "  </thead>\n",
       "  <tbody>\n",
       "    <tr>\n",
       "      <th>0</th>\n",
       "      <td>888540983</td>\n",
       "      <td>6269</td>\n",
       "      <td>1</td>\n",
       "      <td>NaN</td>\n",
       "      <td>False</td>\n",
       "      <td>NaN</td>\n",
       "      <td>NaN</td>\n",
       "      <td>NaN</td>\n",
       "      <td>0.821711</td>\n",
       "      <td>0</td>\n",
       "    </tr>\n",
       "    <tr>\n",
       "      <th>1</th>\n",
       "      <td>1418755930</td>\n",
       "      <td>5314</td>\n",
       "      <td>1</td>\n",
       "      <td>NaN</td>\n",
       "      <td>False</td>\n",
       "      <td>NaN</td>\n",
       "      <td>NaN</td>\n",
       "      <td>NaN</td>\n",
       "      <td>0.783144</td>\n",
       "      <td>0</td>\n",
       "    </tr>\n",
       "    <tr>\n",
       "      <th>2</th>\n",
       "      <td>2004252207</td>\n",
       "      <td>128</td>\n",
       "      <td>1</td>\n",
       "      <td>NaN</td>\n",
       "      <td>False</td>\n",
       "      <td>NaN</td>\n",
       "      <td>NaN</td>\n",
       "      <td>NaN</td>\n",
       "      <td>0.966869</td>\n",
       "      <td>0</td>\n",
       "    </tr>\n",
       "    <tr>\n",
       "      <th>3</th>\n",
       "      <td>825864574</td>\n",
       "      <td>8440</td>\n",
       "      <td>1</td>\n",
       "      <td>NaN</td>\n",
       "      <td>False</td>\n",
       "      <td>NaN</td>\n",
       "      <td>NaN</td>\n",
       "      <td>NaN</td>\n",
       "      <td>0.953749</td>\n",
       "      <td>0</td>\n",
       "    </tr>\n",
       "    <tr>\n",
       "      <th>4</th>\n",
       "      <td>1646232520</td>\n",
       "      <td>4357</td>\n",
       "      <td>1</td>\n",
       "      <td>NaN</td>\n",
       "      <td>False</td>\n",
       "      <td>NaN</td>\n",
       "      <td>NaN</td>\n",
       "      <td>NaN</td>\n",
       "      <td>0.764535</td>\n",
       "      <td>0</td>\n",
       "    </tr>\n",
       "    <tr>\n",
       "      <th>5</th>\n",
       "      <td>938282142</td>\n",
       "      <td>3623</td>\n",
       "      <td>0</td>\n",
       "      <td>NaN</td>\n",
       "      <td>False</td>\n",
       "      <td>NaN</td>\n",
       "      <td>NaN</td>\n",
       "      <td>NaN</td>\n",
       "      <td>0.502464</td>\n",
       "      <td>0</td>\n",
       "    </tr>\n",
       "    <tr>\n",
       "      <th>6</th>\n",
       "      <td>466117571</td>\n",
       "      <td>5958</td>\n",
       "      <td>0</td>\n",
       "      <td>NaN</td>\n",
       "      <td>False</td>\n",
       "      <td>NaN</td>\n",
       "      <td>NaN</td>\n",
       "      <td>NaN</td>\n",
       "      <td>0.459773</td>\n",
       "      <td>0</td>\n",
       "    </tr>\n",
       "    <tr>\n",
       "      <th>7</th>\n",
       "      <td>659362682</td>\n",
       "      <td>5118</td>\n",
       "      <td>0</td>\n",
       "      <td>NaN</td>\n",
       "      <td>False</td>\n",
       "      <td>NaN</td>\n",
       "      <td>NaN</td>\n",
       "      <td>NaN</td>\n",
       "      <td>0.730798</td>\n",
       "      <td>0</td>\n",
       "    </tr>\n",
       "    <tr>\n",
       "      <th>8</th>\n",
       "      <td>1639083714</td>\n",
       "      <td>5970</td>\n",
       "      <td>0</td>\n",
       "      <td>NaN</td>\n",
       "      <td>False</td>\n",
       "      <td>NaN</td>\n",
       "      <td>NaN</td>\n",
       "      <td>NaN</td>\n",
       "      <td>0.427269</td>\n",
       "      <td>0</td>\n",
       "    </tr>\n",
       "    <tr>\n",
       "      <th>9</th>\n",
       "      <td>790143287</td>\n",
       "      <td>5007</td>\n",
       "      <td>0</td>\n",
       "      <td>NaN</td>\n",
       "      <td>False</td>\n",
       "      <td>NaN</td>\n",
       "      <td>NaN</td>\n",
       "      <td>NaN</td>\n",
       "      <td>0.688170</td>\n",
       "      <td>0</td>\n",
       "    </tr>\n",
       "  </tbody>\n",
       "</table>\n",
       "</div>"
      ],
      "text/plain": [
       "      user_id  content_id  answered_correctly  prior_question_elapsed_time  \\\n",
       "0   888540983        6269                   1                          NaN   \n",
       "1  1418755930        5314                   1                          NaN   \n",
       "2  2004252207         128                   1                          NaN   \n",
       "3   825864574        8440                   1                          NaN   \n",
       "4  1646232520        4357                   1                          NaN   \n",
       "5   938282142        3623                   0                          NaN   \n",
       "6   466117571        5958                   0                          NaN   \n",
       "7   659362682        5118                   0                          NaN   \n",
       "8  1639083714        5970                   0                          NaN   \n",
       "9   790143287        5007                   0                          NaN   \n",
       "\n",
       "   prior_question_had_explanation  answered_correctly_user  sum  count  \\\n",
       "0                           False                      NaN  NaN    NaN   \n",
       "1                           False                      NaN  NaN    NaN   \n",
       "2                           False                      NaN  NaN    NaN   \n",
       "3                           False                      NaN  NaN    NaN   \n",
       "4                           False                      NaN  NaN    NaN   \n",
       "5                           False                      NaN  NaN    NaN   \n",
       "6                           False                      NaN  NaN    NaN   \n",
       "7                           False                      NaN  NaN    NaN   \n",
       "8                           False                      NaN  NaN    NaN   \n",
       "9                           False                      NaN  NaN    NaN   \n",
       "\n",
       "   answered_correctly_content  prior_question_had_explanation_enc  \n",
       "0                    0.821711                                   0  \n",
       "1                    0.783144                                   0  \n",
       "2                    0.966869                                   0  \n",
       "3                    0.953749                                   0  \n",
       "4                    0.764535                                   0  \n",
       "5                    0.502464                                   0  \n",
       "6                    0.459773                                   0  \n",
       "7                    0.730798                                   0  \n",
       "8                    0.427269                                   0  \n",
       "9                    0.688170                                   0  "
      ]
     },
     "execution_count": 41,
     "metadata": {},
     "output_type": "execute_result"
    }
   ],
   "source": [
    "x.head(10)"
   ]
  },
  {
   "cell_type": "code",
   "execution_count": 42,
   "metadata": {
    "execution": {
     "iopub.execute_input": "2020-11-01T16:03:21.642939Z",
     "iopub.status.busy": "2020-11-01T16:03:21.641757Z",
     "iopub.status.idle": "2020-11-01T16:03:22.863721Z",
     "shell.execute_reply": "2020-11-01T16:03:22.863064Z"
    },
    "papermill": {
     "duration": 1.29792,
     "end_time": "2020-11-01T16:03:22.863864",
     "exception": false,
     "start_time": "2020-11-01T16:03:21.565944",
     "status": "completed"
    },
    "tags": []
   },
   "outputs": [],
   "source": [
    "x = pd.merge(x, questions_df, left_on='content_id',right_on='question_id',how='left')"
   ]
  },
  {
   "cell_type": "code",
   "execution_count": 43,
   "metadata": {
    "execution": {
     "iopub.execute_input": "2020-11-01T16:03:23.028871Z",
     "iopub.status.busy": "2020-11-01T16:03:23.027464Z",
     "iopub.status.idle": "2020-11-01T16:03:23.033856Z",
     "shell.execute_reply": "2020-11-01T16:03:23.033024Z"
    },
    "papermill": {
     "duration": 0.100133,
     "end_time": "2020-11-01T16:03:23.034006",
     "exception": false,
     "start_time": "2020-11-01T16:03:22.933873",
     "status": "completed"
    },
    "tags": []
   },
   "outputs": [
    {
     "data": {
      "text/html": [
       "<div>\n",
       "<style scoped>\n",
       "    .dataframe tbody tr th:only-of-type {\n",
       "        vertical-align: middle;\n",
       "    }\n",
       "\n",
       "    .dataframe tbody tr th {\n",
       "        vertical-align: top;\n",
       "    }\n",
       "\n",
       "    .dataframe thead th {\n",
       "        text-align: right;\n",
       "    }\n",
       "</style>\n",
       "<table border=\"1\" class=\"dataframe\">\n",
       "  <thead>\n",
       "    <tr style=\"text-align: right;\">\n",
       "      <th></th>\n",
       "      <th>user_id</th>\n",
       "      <th>content_id</th>\n",
       "      <th>answered_correctly</th>\n",
       "      <th>prior_question_elapsed_time</th>\n",
       "      <th>prior_question_had_explanation</th>\n",
       "      <th>answered_correctly_user</th>\n",
       "      <th>sum</th>\n",
       "      <th>count</th>\n",
       "      <th>answered_correctly_content</th>\n",
       "      <th>prior_question_had_explanation_enc</th>\n",
       "      <th>question_id</th>\n",
       "      <th>part</th>\n",
       "    </tr>\n",
       "  </thead>\n",
       "  <tbody>\n",
       "    <tr>\n",
       "      <th>0</th>\n",
       "      <td>888540983</td>\n",
       "      <td>6269</td>\n",
       "      <td>1</td>\n",
       "      <td>NaN</td>\n",
       "      <td>False</td>\n",
       "      <td>NaN</td>\n",
       "      <td>NaN</td>\n",
       "      <td>NaN</td>\n",
       "      <td>0.821711</td>\n",
       "      <td>0</td>\n",
       "      <td>6269</td>\n",
       "      <td>5</td>\n",
       "    </tr>\n",
       "    <tr>\n",
       "      <th>1</th>\n",
       "      <td>1418755930</td>\n",
       "      <td>5314</td>\n",
       "      <td>1</td>\n",
       "      <td>NaN</td>\n",
       "      <td>False</td>\n",
       "      <td>NaN</td>\n",
       "      <td>NaN</td>\n",
       "      <td>NaN</td>\n",
       "      <td>0.783144</td>\n",
       "      <td>0</td>\n",
       "      <td>5314</td>\n",
       "      <td>5</td>\n",
       "    </tr>\n",
       "    <tr>\n",
       "      <th>2</th>\n",
       "      <td>2004252207</td>\n",
       "      <td>128</td>\n",
       "      <td>1</td>\n",
       "      <td>NaN</td>\n",
       "      <td>False</td>\n",
       "      <td>NaN</td>\n",
       "      <td>NaN</td>\n",
       "      <td>NaN</td>\n",
       "      <td>0.966869</td>\n",
       "      <td>0</td>\n",
       "      <td>128</td>\n",
       "      <td>1</td>\n",
       "    </tr>\n",
       "    <tr>\n",
       "      <th>3</th>\n",
       "      <td>825864574</td>\n",
       "      <td>8440</td>\n",
       "      <td>1</td>\n",
       "      <td>NaN</td>\n",
       "      <td>False</td>\n",
       "      <td>NaN</td>\n",
       "      <td>NaN</td>\n",
       "      <td>NaN</td>\n",
       "      <td>0.953749</td>\n",
       "      <td>0</td>\n",
       "      <td>8440</td>\n",
       "      <td>5</td>\n",
       "    </tr>\n",
       "    <tr>\n",
       "      <th>4</th>\n",
       "      <td>1646232520</td>\n",
       "      <td>4357</td>\n",
       "      <td>1</td>\n",
       "      <td>NaN</td>\n",
       "      <td>False</td>\n",
       "      <td>NaN</td>\n",
       "      <td>NaN</td>\n",
       "      <td>NaN</td>\n",
       "      <td>0.764535</td>\n",
       "      <td>0</td>\n",
       "      <td>4357</td>\n",
       "      <td>5</td>\n",
       "    </tr>\n",
       "    <tr>\n",
       "      <th>5</th>\n",
       "      <td>938282142</td>\n",
       "      <td>3623</td>\n",
       "      <td>0</td>\n",
       "      <td>NaN</td>\n",
       "      <td>False</td>\n",
       "      <td>NaN</td>\n",
       "      <td>NaN</td>\n",
       "      <td>NaN</td>\n",
       "      <td>0.502464</td>\n",
       "      <td>0</td>\n",
       "      <td>3623</td>\n",
       "      <td>5</td>\n",
       "    </tr>\n",
       "    <tr>\n",
       "      <th>6</th>\n",
       "      <td>466117571</td>\n",
       "      <td>5958</td>\n",
       "      <td>0</td>\n",
       "      <td>NaN</td>\n",
       "      <td>False</td>\n",
       "      <td>NaN</td>\n",
       "      <td>NaN</td>\n",
       "      <td>NaN</td>\n",
       "      <td>0.459773</td>\n",
       "      <td>0</td>\n",
       "      <td>5958</td>\n",
       "      <td>5</td>\n",
       "    </tr>\n",
       "    <tr>\n",
       "      <th>7</th>\n",
       "      <td>659362682</td>\n",
       "      <td>5118</td>\n",
       "      <td>0</td>\n",
       "      <td>NaN</td>\n",
       "      <td>False</td>\n",
       "      <td>NaN</td>\n",
       "      <td>NaN</td>\n",
       "      <td>NaN</td>\n",
       "      <td>0.730798</td>\n",
       "      <td>0</td>\n",
       "      <td>5118</td>\n",
       "      <td>5</td>\n",
       "    </tr>\n",
       "    <tr>\n",
       "      <th>8</th>\n",
       "      <td>1639083714</td>\n",
       "      <td>5970</td>\n",
       "      <td>0</td>\n",
       "      <td>NaN</td>\n",
       "      <td>False</td>\n",
       "      <td>NaN</td>\n",
       "      <td>NaN</td>\n",
       "      <td>NaN</td>\n",
       "      <td>0.427269</td>\n",
       "      <td>0</td>\n",
       "      <td>5970</td>\n",
       "      <td>5</td>\n",
       "    </tr>\n",
       "    <tr>\n",
       "      <th>9</th>\n",
       "      <td>790143287</td>\n",
       "      <td>5007</td>\n",
       "      <td>0</td>\n",
       "      <td>NaN</td>\n",
       "      <td>False</td>\n",
       "      <td>NaN</td>\n",
       "      <td>NaN</td>\n",
       "      <td>NaN</td>\n",
       "      <td>0.688170</td>\n",
       "      <td>0</td>\n",
       "      <td>5007</td>\n",
       "      <td>5</td>\n",
       "    </tr>\n",
       "  </tbody>\n",
       "</table>\n",
       "</div>"
      ],
      "text/plain": [
       "      user_id  content_id  answered_correctly  prior_question_elapsed_time  \\\n",
       "0   888540983        6269                   1                          NaN   \n",
       "1  1418755930        5314                   1                          NaN   \n",
       "2  2004252207         128                   1                          NaN   \n",
       "3   825864574        8440                   1                          NaN   \n",
       "4  1646232520        4357                   1                          NaN   \n",
       "5   938282142        3623                   0                          NaN   \n",
       "6   466117571        5958                   0                          NaN   \n",
       "7   659362682        5118                   0                          NaN   \n",
       "8  1639083714        5970                   0                          NaN   \n",
       "9   790143287        5007                   0                          NaN   \n",
       "\n",
       "   prior_question_had_explanation  answered_correctly_user  sum  count  \\\n",
       "0                           False                      NaN  NaN    NaN   \n",
       "1                           False                      NaN  NaN    NaN   \n",
       "2                           False                      NaN  NaN    NaN   \n",
       "3                           False                      NaN  NaN    NaN   \n",
       "4                           False                      NaN  NaN    NaN   \n",
       "5                           False                      NaN  NaN    NaN   \n",
       "6                           False                      NaN  NaN    NaN   \n",
       "7                           False                      NaN  NaN    NaN   \n",
       "8                           False                      NaN  NaN    NaN   \n",
       "9                           False                      NaN  NaN    NaN   \n",
       "\n",
       "   answered_correctly_content  prior_question_had_explanation_enc  \\\n",
       "0                    0.821711                                   0   \n",
       "1                    0.783144                                   0   \n",
       "2                    0.966869                                   0   \n",
       "3                    0.953749                                   0   \n",
       "4                    0.764535                                   0   \n",
       "5                    0.502464                                   0   \n",
       "6                    0.459773                                   0   \n",
       "7                    0.730798                                   0   \n",
       "8                    0.427269                                   0   \n",
       "9                    0.688170                                   0   \n",
       "\n",
       "   question_id  part  \n",
       "0         6269     5  \n",
       "1         5314     5  \n",
       "2          128     1  \n",
       "3         8440     5  \n",
       "4         4357     5  \n",
       "5         3623     5  \n",
       "6         5958     5  \n",
       "7         5118     5  \n",
       "8         5970     5  \n",
       "9         5007     5  "
      ]
     },
     "execution_count": 43,
     "metadata": {},
     "output_type": "execute_result"
    }
   ],
   "source": [
    "x.head(10)"
   ]
  },
  {
   "cell_type": "code",
   "execution_count": 44,
   "metadata": {
    "execution": {
     "iopub.execute_input": "2020-11-01T16:03:23.183533Z",
     "iopub.status.busy": "2020-11-01T16:03:23.182729Z",
     "iopub.status.idle": "2020-11-01T16:03:23.475257Z",
     "shell.execute_reply": "2020-11-01T16:03:23.474426Z"
    },
    "papermill": {
     "duration": 0.370302,
     "end_time": "2020-11-01T16:03:23.475389",
     "exception": false,
     "start_time": "2020-11-01T16:03:23.105087",
     "status": "completed"
    },
    "tags": []
   },
   "outputs": [],
   "source": [
    "valid = pd.merge(valid, questions_df, left_on='content_id',right_on='question_id',how='left')"
   ]
  },
  {
   "cell_type": "code",
   "execution_count": 45,
   "metadata": {
    "execution": {
     "iopub.execute_input": "2020-11-01T16:03:23.625543Z",
     "iopub.status.busy": "2020-11-01T16:03:23.623669Z",
     "iopub.status.idle": "2020-11-01T16:03:23.705940Z",
     "shell.execute_reply": "2020-11-01T16:03:23.705187Z"
    },
    "papermill": {
     "duration": 0.159432,
     "end_time": "2020-11-01T16:03:23.706070",
     "exception": false,
     "start_time": "2020-11-01T16:03:23.546638",
     "status": "completed"
    },
    "tags": []
   },
   "outputs": [
    {
     "data": {
      "text/plain": [
       "4    2949470\n",
       "1    1154514\n",
       "5     519617\n",
       "3     454899\n",
       "0     274922\n",
       "6     178413\n",
       "2     156817\n",
       "Name: part, dtype: int64"
      ]
     },
     "execution_count": 45,
     "metadata": {},
     "output_type": "execute_result"
    }
   ],
   "source": [
    "x.part = x.part-1\n",
    "valid.part = valid.part - 1\n",
    "# 让part值的起始值为0\n",
    "\n",
    "x.part.value_counts()"
   ]
  },
  {
   "cell_type": "code",
   "execution_count": 46,
   "metadata": {
    "execution": {
     "iopub.execute_input": "2020-11-01T16:03:23.896626Z",
     "iopub.status.busy": "2020-11-01T16:03:23.894993Z",
     "iopub.status.idle": "2020-11-01T16:03:24.284534Z",
     "shell.execute_reply": "2020-11-01T16:03:24.283669Z"
    },
    "papermill": {
     "duration": 0.493277,
     "end_time": "2020-11-01T16:03:24.284695",
     "exception": false,
     "start_time": "2020-11-01T16:03:23.791418",
     "status": "completed"
    },
    "tags": []
   },
   "outputs": [
    {
     "data": {
      "text/html": [
       "<div>\n",
       "<style scoped>\n",
       "    .dataframe tbody tr th:only-of-type {\n",
       "        vertical-align: middle;\n",
       "    }\n",
       "\n",
       "    .dataframe tbody tr th {\n",
       "        vertical-align: top;\n",
       "    }\n",
       "\n",
       "    .dataframe thead th {\n",
       "        text-align: right;\n",
       "    }\n",
       "</style>\n",
       "<table border=\"1\" class=\"dataframe\">\n",
       "  <thead>\n",
       "    <tr style=\"text-align: right;\">\n",
       "      <th></th>\n",
       "      <th>user_id</th>\n",
       "      <th>content_id</th>\n",
       "      <th>prior_question_elapsed_time</th>\n",
       "      <th>prior_question_had_explanation</th>\n",
       "      <th>answered_correctly_user</th>\n",
       "      <th>sum</th>\n",
       "      <th>count</th>\n",
       "      <th>answered_correctly_content</th>\n",
       "      <th>prior_question_had_explanation_enc</th>\n",
       "      <th>question_id</th>\n",
       "      <th>part</th>\n",
       "    </tr>\n",
       "  </thead>\n",
       "  <tbody>\n",
       "    <tr>\n",
       "      <th>0</th>\n",
       "      <td>888540983</td>\n",
       "      <td>6269</td>\n",
       "      <td>NaN</td>\n",
       "      <td>False</td>\n",
       "      <td>NaN</td>\n",
       "      <td>NaN</td>\n",
       "      <td>NaN</td>\n",
       "      <td>0.821711</td>\n",
       "      <td>0</td>\n",
       "      <td>6269</td>\n",
       "      <td>4</td>\n",
       "    </tr>\n",
       "    <tr>\n",
       "      <th>1</th>\n",
       "      <td>1418755930</td>\n",
       "      <td>5314</td>\n",
       "      <td>NaN</td>\n",
       "      <td>False</td>\n",
       "      <td>NaN</td>\n",
       "      <td>NaN</td>\n",
       "      <td>NaN</td>\n",
       "      <td>0.783144</td>\n",
       "      <td>0</td>\n",
       "      <td>5314</td>\n",
       "      <td>4</td>\n",
       "    </tr>\n",
       "    <tr>\n",
       "      <th>2</th>\n",
       "      <td>2004252207</td>\n",
       "      <td>128</td>\n",
       "      <td>NaN</td>\n",
       "      <td>False</td>\n",
       "      <td>NaN</td>\n",
       "      <td>NaN</td>\n",
       "      <td>NaN</td>\n",
       "      <td>0.966869</td>\n",
       "      <td>0</td>\n",
       "      <td>128</td>\n",
       "      <td>0</td>\n",
       "    </tr>\n",
       "    <tr>\n",
       "      <th>3</th>\n",
       "      <td>825864574</td>\n",
       "      <td>8440</td>\n",
       "      <td>NaN</td>\n",
       "      <td>False</td>\n",
       "      <td>NaN</td>\n",
       "      <td>NaN</td>\n",
       "      <td>NaN</td>\n",
       "      <td>0.953749</td>\n",
       "      <td>0</td>\n",
       "      <td>8440</td>\n",
       "      <td>4</td>\n",
       "    </tr>\n",
       "    <tr>\n",
       "      <th>4</th>\n",
       "      <td>1646232520</td>\n",
       "      <td>4357</td>\n",
       "      <td>NaN</td>\n",
       "      <td>False</td>\n",
       "      <td>NaN</td>\n",
       "      <td>NaN</td>\n",
       "      <td>NaN</td>\n",
       "      <td>0.764535</td>\n",
       "      <td>0</td>\n",
       "      <td>4357</td>\n",
       "      <td>4</td>\n",
       "    </tr>\n",
       "    <tr>\n",
       "      <th>5</th>\n",
       "      <td>938282142</td>\n",
       "      <td>3623</td>\n",
       "      <td>NaN</td>\n",
       "      <td>False</td>\n",
       "      <td>NaN</td>\n",
       "      <td>NaN</td>\n",
       "      <td>NaN</td>\n",
       "      <td>0.502464</td>\n",
       "      <td>0</td>\n",
       "      <td>3623</td>\n",
       "      <td>4</td>\n",
       "    </tr>\n",
       "    <tr>\n",
       "      <th>6</th>\n",
       "      <td>466117571</td>\n",
       "      <td>5958</td>\n",
       "      <td>NaN</td>\n",
       "      <td>False</td>\n",
       "      <td>NaN</td>\n",
       "      <td>NaN</td>\n",
       "      <td>NaN</td>\n",
       "      <td>0.459773</td>\n",
       "      <td>0</td>\n",
       "      <td>5958</td>\n",
       "      <td>4</td>\n",
       "    </tr>\n",
       "    <tr>\n",
       "      <th>7</th>\n",
       "      <td>659362682</td>\n",
       "      <td>5118</td>\n",
       "      <td>NaN</td>\n",
       "      <td>False</td>\n",
       "      <td>NaN</td>\n",
       "      <td>NaN</td>\n",
       "      <td>NaN</td>\n",
       "      <td>0.730798</td>\n",
       "      <td>0</td>\n",
       "      <td>5118</td>\n",
       "      <td>4</td>\n",
       "    </tr>\n",
       "    <tr>\n",
       "      <th>8</th>\n",
       "      <td>1639083714</td>\n",
       "      <td>5970</td>\n",
       "      <td>NaN</td>\n",
       "      <td>False</td>\n",
       "      <td>NaN</td>\n",
       "      <td>NaN</td>\n",
       "      <td>NaN</td>\n",
       "      <td>0.427269</td>\n",
       "      <td>0</td>\n",
       "      <td>5970</td>\n",
       "      <td>4</td>\n",
       "    </tr>\n",
       "    <tr>\n",
       "      <th>9</th>\n",
       "      <td>790143287</td>\n",
       "      <td>5007</td>\n",
       "      <td>NaN</td>\n",
       "      <td>False</td>\n",
       "      <td>NaN</td>\n",
       "      <td>NaN</td>\n",
       "      <td>NaN</td>\n",
       "      <td>0.688170</td>\n",
       "      <td>0</td>\n",
       "      <td>5007</td>\n",
       "      <td>4</td>\n",
       "    </tr>\n",
       "  </tbody>\n",
       "</table>\n",
       "</div>"
      ],
      "text/plain": [
       "      user_id  content_id  prior_question_elapsed_time  \\\n",
       "0   888540983        6269                          NaN   \n",
       "1  1418755930        5314                          NaN   \n",
       "2  2004252207         128                          NaN   \n",
       "3   825864574        8440                          NaN   \n",
       "4  1646232520        4357                          NaN   \n",
       "5   938282142        3623                          NaN   \n",
       "6   466117571        5958                          NaN   \n",
       "7   659362682        5118                          NaN   \n",
       "8  1639083714        5970                          NaN   \n",
       "9   790143287        5007                          NaN   \n",
       "\n",
       "   prior_question_had_explanation  answered_correctly_user  sum  count  \\\n",
       "0                           False                      NaN  NaN    NaN   \n",
       "1                           False                      NaN  NaN    NaN   \n",
       "2                           False                      NaN  NaN    NaN   \n",
       "3                           False                      NaN  NaN    NaN   \n",
       "4                           False                      NaN  NaN    NaN   \n",
       "5                           False                      NaN  NaN    NaN   \n",
       "6                           False                      NaN  NaN    NaN   \n",
       "7                           False                      NaN  NaN    NaN   \n",
       "8                           False                      NaN  NaN    NaN   \n",
       "9                           False                      NaN  NaN    NaN   \n",
       "\n",
       "   answered_correctly_content  prior_question_had_explanation_enc  \\\n",
       "0                    0.821711                                   0   \n",
       "1                    0.783144                                   0   \n",
       "2                    0.966869                                   0   \n",
       "3                    0.953749                                   0   \n",
       "4                    0.764535                                   0   \n",
       "5                    0.502464                                   0   \n",
       "6                    0.459773                                   0   \n",
       "7                    0.730798                                   0   \n",
       "8                    0.427269                                   0   \n",
       "9                    0.688170                                   0   \n",
       "\n",
       "   question_id  part  \n",
       "0         6269     4  \n",
       "1         5314     4  \n",
       "2          128     0  \n",
       "3         8440     4  \n",
       "4         4357     4  \n",
       "5         3623     4  \n",
       "6         5958     4  \n",
       "7         5118     4  \n",
       "8         5970     4  \n",
       "9         5007     4  "
      ]
     },
     "execution_count": 46,
     "metadata": {},
     "output_type": "execute_result"
    }
   ],
   "source": [
    "y = x['answered_correctly']\n",
    "x = x.drop(['answered_correctly'],axis=1)\n",
    "x.head(10)"
   ]
  },
  {
   "cell_type": "code",
   "execution_count": 47,
   "metadata": {
    "execution": {
     "iopub.execute_input": "2020-11-01T16:03:24.437601Z",
     "iopub.status.busy": "2020-11-01T16:03:24.435674Z",
     "iopub.status.idle": "2020-11-01T16:03:24.527228Z",
     "shell.execute_reply": "2020-11-01T16:03:24.526555Z"
    },
    "papermill": {
     "duration": 0.170106,
     "end_time": "2020-11-01T16:03:24.527369",
     "exception": false,
     "start_time": "2020-11-01T16:03:24.357263",
     "status": "completed"
    },
    "tags": []
   },
   "outputs": [],
   "source": [
    "y_val = valid['answered_correctly']\n",
    "x_val = valid.drop(['answered_correctly'],axis=1)"
   ]
  },
  {
   "cell_type": "code",
   "execution_count": 48,
   "metadata": {
    "execution": {
     "iopub.execute_input": "2020-11-01T16:03:24.831332Z",
     "iopub.status.busy": "2020-11-01T16:03:24.742344Z",
     "iopub.status.idle": "2020-11-01T16:03:24.836205Z",
     "shell.execute_reply": "2020-11-01T16:03:24.835472Z"
    },
    "papermill": {
     "duration": 0.236033,
     "end_time": "2020-11-01T16:03:24.836337",
     "exception": false,
     "start_time": "2020-11-01T16:03:24.600304",
     "status": "completed"
    },
    "tags": []
   },
   "outputs": [],
   "source": [
    "x = x[['answered_correctly_user', 'answered_correctly_content', 'sum', 'count',\n",
    "       'prior_question_elapsed_time','prior_question_had_explanation_enc', 'part']]\n",
    "x_val = x_val[['answered_correctly_user', 'answered_correctly_content', 'sum', 'count',\n",
    "       'prior_question_elapsed_time','prior_question_had_explanation_enc', 'part']]"
   ]
  },
  {
   "cell_type": "code",
   "execution_count": 49,
   "metadata": {
    "execution": {
     "iopub.execute_input": "2020-11-01T16:03:24.990431Z",
     "iopub.status.busy": "2020-11-01T16:03:24.989616Z",
     "iopub.status.idle": "2020-11-01T16:03:25.064294Z",
     "shell.execute_reply": "2020-11-01T16:03:25.063634Z"
    },
    "papermill": {
     "duration": 0.155548,
     "end_time": "2020-11-01T16:03:25.064424",
     "exception": false,
     "start_time": "2020-11-01T16:03:24.908876",
     "status": "completed"
    },
    "tags": []
   },
   "outputs": [],
   "source": [
    "x['answered_correctly_user'].fillna(0.5, inplace=True)\n",
    "x['answered_correctly_content'].fillna(0.5, inplace=True)\n",
    "\n",
    "x['part'].fillna(4,inplace=True)\n",
    "x['sum'].fillna(0,inplace=True)\n",
    "x['count'].fillna(0, inplace=True)\n",
    "x['prior_question_elapsed_time'].fillna(elapsed_mean, inplace=True)\n",
    "x['prior_question_had_explanation_enc'].fillna(0, inplace=True)\n"
   ]
  },
  {
   "cell_type": "code",
   "execution_count": 50,
   "metadata": {
    "execution": {
     "iopub.execute_input": "2020-11-01T16:03:25.219721Z",
     "iopub.status.busy": "2020-11-01T16:03:25.218889Z",
     "iopub.status.idle": "2020-11-01T16:03:25.247275Z",
     "shell.execute_reply": "2020-11-01T16:03:25.246475Z"
    },
    "papermill": {
     "duration": 0.109349,
     "end_time": "2020-11-01T16:03:25.247404",
     "exception": false,
     "start_time": "2020-11-01T16:03:25.138055",
     "status": "completed"
    },
    "tags": []
   },
   "outputs": [],
   "source": [
    "x_val['answered_correctly_user'].fillna(0.5,  inplace=True)\n",
    "x_val['answered_correctly_content'].fillna(0.5,  inplace=True)\n",
    "\n",
    "x_val['part'].fillna(4, inplace = True)\n",
    "x_val['count'].fillna(0, inplace = True)\n",
    "x_val['sum'].fillna(0, inplace = True)\n",
    "x_val['prior_question_elapsed_time'].fillna(elapsed_mean, inplace = True)\n",
    "x_val['prior_question_had_explanation_enc'].fillna(0, inplace = True)"
   ]
  },
  {
   "cell_type": "markdown",
   "metadata": {
    "papermill": {
     "duration": 0.072978,
     "end_time": "2020-11-01T16:03:25.394650",
     "exception": false,
     "start_time": "2020-11-01T16:03:25.321672",
     "status": "completed"
    },
    "tags": []
   },
   "source": [
    "# 模型训练"
   ]
  },
  {
   "cell_type": "code",
   "execution_count": 51,
   "metadata": {
    "execution": {
     "iopub.execute_input": "2020-11-01T16:03:25.546752Z",
     "iopub.status.busy": "2020-11-01T16:03:25.545829Z",
     "iopub.status.idle": "2020-11-01T16:03:25.616980Z",
     "shell.execute_reply": "2020-11-01T16:03:25.616306Z"
    },
    "papermill": {
     "duration": 0.149516,
     "end_time": "2020-11-01T16:03:25.617139",
     "exception": false,
     "start_time": "2020-11-01T16:03:25.467623",
     "status": "completed"
    },
    "tags": []
   },
   "outputs": [],
   "source": [
    "import lightgbm as lgb\n",
    "\n",
    "params = {\n",
    "    'objective':'binary',\n",
    "    'max_bin':700,\n",
    "    'learning_rate':0.0175,\n",
    "    'num_leaves':80\n",
    "}"
   ]
  },
  {
   "cell_type": "code",
   "execution_count": 52,
   "metadata": {
    "execution": {
     "iopub.execute_input": "2020-11-01T16:03:25.770768Z",
     "iopub.status.busy": "2020-11-01T16:03:25.769773Z",
     "iopub.status.idle": "2020-11-01T16:03:25.773205Z",
     "shell.execute_reply": "2020-11-01T16:03:25.772428Z"
    },
    "papermill": {
     "duration": 0.082906,
     "end_time": "2020-11-01T16:03:25.773331",
     "exception": false,
     "start_time": "2020-11-01T16:03:25.690425",
     "status": "completed"
    },
    "tags": []
   },
   "outputs": [],
   "source": [
    "lgb_train = lgb.Dataset(x,y, categorical_feature=['part','prior_question_had_explanation_enc'])\n",
    "lgb_eval = lgb.Dataset(x_val, y_val, categorical_feature=['part','prior_question_had_explanation_enc'],\n",
    "                      reference=lgb_train)"
   ]
  },
  {
   "cell_type": "code",
   "execution_count": 53,
   "metadata": {
    "execution": {
     "iopub.execute_input": "2020-11-01T16:03:25.927676Z",
     "iopub.status.busy": "2020-11-01T16:03:25.926844Z",
     "iopub.status.idle": "2020-11-01T16:12:53.950698Z",
     "shell.execute_reply": "2020-11-01T16:12:53.952108Z"
    },
    "papermill": {
     "duration": 568.105199,
     "end_time": "2020-11-01T16:12:53.952411",
     "exception": false,
     "start_time": "2020-11-01T16:03:25.847212",
     "status": "completed"
    },
    "tags": []
   },
   "outputs": [
    {
     "name": "stderr",
     "output_type": "stream",
     "text": [
      "/opt/conda/lib/python3.7/site-packages/lightgbm/basic.py:1291: UserWarning: Using categorical_feature in Dataset.\n",
      "  warnings.warn('Using categorical_feature in Dataset.')\n"
     ]
    },
    {
     "name": "stdout",
     "output_type": "stream",
     "text": [
      "Training until validation scores don't improve for 12 rounds\n",
      "[50]\ttraining's binary_logloss: 0.613885\tvalid_1's binary_logloss: 0.630455\n",
      "[100]\ttraining's binary_logloss: 0.597501\tvalid_1's binary_logloss: 0.617506\n",
      "[150]\ttraining's binary_logloss: 0.593094\tvalid_1's binary_logloss: 0.614234\n",
      "[200]\ttraining's binary_logloss: 0.591459\tvalid_1's binary_logloss: 0.612883\n",
      "[250]\ttraining's binary_logloss: 0.590664\tvalid_1's binary_logloss: 0.612151\n",
      "[300]\ttraining's binary_logloss: 0.590152\tvalid_1's binary_logloss: 0.611606\n",
      "[350]\ttraining's binary_logloss: 0.589803\tvalid_1's binary_logloss: 0.611247\n",
      "[400]\ttraining's binary_logloss: 0.58954\tvalid_1's binary_logloss: 0.61108\n",
      "[450]\ttraining's binary_logloss: 0.589368\tvalid_1's binary_logloss: 0.610988\n",
      "[500]\ttraining's binary_logloss: 0.589226\tvalid_1's binary_logloss: 0.610898\n",
      "[550]\ttraining's binary_logloss: 0.589091\tvalid_1's binary_logloss: 0.610829\n",
      "[600]\ttraining's binary_logloss: 0.58898\tvalid_1's binary_logloss: 0.610781\n",
      "[650]\ttraining's binary_logloss: 0.588875\tvalid_1's binary_logloss: 0.610742\n",
      "[700]\ttraining's binary_logloss: 0.588774\tvalid_1's binary_logloss: 0.61071\n",
      "[750]\ttraining's binary_logloss: 0.588674\tvalid_1's binary_logloss: 0.610661\n",
      "[800]\ttraining's binary_logloss: 0.58858\tvalid_1's binary_logloss: 0.610622\n",
      "[850]\ttraining's binary_logloss: 0.588489\tvalid_1's binary_logloss: 0.61059\n",
      "[900]\ttraining's binary_logloss: 0.5884\tvalid_1's binary_logloss: 0.610562\n",
      "[950]\ttraining's binary_logloss: 0.588302\tvalid_1's binary_logloss: 0.610528\n",
      "Early stopping, best iteration is:\n",
      "[977]\ttraining's binary_logloss: 0.588248\tvalid_1's binary_logloss: 0.61051\n"
     ]
    }
   ],
   "source": [
    "model = lgb.train(\n",
    "        params, lgb_train,\n",
    "        valid_sets=[lgb_train, lgb_eval],\n",
    "        verbose_eval=50,\n",
    "        num_boost_round=10000,\n",
    "        early_stopping_rounds=12\n",
    ")"
   ]
  },
  {
   "cell_type": "code",
   "execution_count": 54,
   "metadata": {
    "execution": {
     "iopub.execute_input": "2020-11-01T16:12:54.157703Z",
     "iopub.status.busy": "2020-11-01T16:12:54.156880Z",
     "iopub.status.idle": "2020-11-01T16:14:04.258204Z",
     "shell.execute_reply": "2020-11-01T16:14:04.258860Z"
    },
    "papermill": {
     "duration": 70.201461,
     "end_time": "2020-11-01T16:14:04.259066",
     "exception": false,
     "start_time": "2020-11-01T16:12:54.057605",
     "status": "completed"
    },
    "tags": []
   },
   "outputs": [
    {
     "data": {
      "text/plain": [
       "0.7260482266520388"
      ]
     },
     "execution_count": 54,
     "metadata": {},
     "output_type": "execute_result"
    }
   ],
   "source": [
    "y_pred = model.predict(x_val)\n",
    "y_true = np.array(y_val)\n",
    "roc_auc_score(y_true, y_pred)"
   ]
  },
  {
   "cell_type": "markdown",
   "metadata": {
    "papermill": {
     "duration": 0.083223,
     "end_time": "2020-11-01T16:14:04.425147",
     "exception": false,
     "start_time": "2020-11-01T16:14:04.341924",
     "status": "completed"
    },
    "tags": []
   },
   "source": [
    "# 查看哪些feature最重要"
   ]
  },
  {
   "cell_type": "code",
   "execution_count": 55,
   "metadata": {
    "execution": {
     "iopub.execute_input": "2020-11-01T16:14:04.599233Z",
     "iopub.status.busy": "2020-11-01T16:14:04.598366Z",
     "iopub.status.idle": "2020-11-01T16:14:04.734247Z",
     "shell.execute_reply": "2020-11-01T16:14:04.733401Z"
    },
    "papermill": {
     "duration": 0.224502,
     "end_time": "2020-11-01T16:14:04.734383",
     "exception": false,
     "start_time": "2020-11-01T16:14:04.509881",
     "status": "completed"
    },
    "tags": []
   },
   "outputs": [],
   "source": [
    "import matplotlib.pyplot as plt\n",
    "import seaborn as sns"
   ]
  },
  {
   "cell_type": "code",
   "execution_count": 56,
   "metadata": {
    "execution": {
     "iopub.execute_input": "2020-11-01T16:14:04.907343Z",
     "iopub.status.busy": "2020-11-01T16:14:04.906520Z",
     "iopub.status.idle": "2020-11-01T16:14:05.173392Z",
     "shell.execute_reply": "2020-11-01T16:14:05.172640Z"
    },
    "papermill": {
     "duration": 0.35482,
     "end_time": "2020-11-01T16:14:05.173551",
     "exception": false,
     "start_time": "2020-11-01T16:14:04.818731",
     "status": "completed"
    },
    "tags": []
   },
   "outputs": [
    {
     "data": {
      "image/png": "[encoded data removed]",
      "text/plain": [
       "<Figure size 432x288 with 1 Axes>"
      ]
     },
     "metadata": {
      "needs_background": "light"
     },
     "output_type": "display_data"
    }
   ],
   "source": [
    "lgb.plot_importance(model)\n",
    "plt.show()"
   ]
  },
  {
   "cell_type": "markdown",
   "metadata": {
    "papermill": {
     "duration": 0.084079,
     "end_time": "2020-11-01T16:14:05.342660",
     "exception": false,
     "start_time": "2020-11-01T16:14:05.258581",
     "status": "completed"
    },
    "tags": []
   },
   "source": [
    "# 对于测试数据做预测"
   ]
  },
  {
   "cell_type": "markdown",
   "metadata": {
    "papermill": {
     "duration": 0.085054,
     "end_time": "2020-11-01T16:14:05.513295",
     "exception": false,
     "start_time": "2020-11-01T16:14:05.428241",
     "status": "completed"
    },
    "tags": []
   },
   "source": []
  },
  {
   "cell_type": "code",
   "execution_count": 57,
   "metadata": {
    "execution": {
     "iopub.execute_input": "2020-11-01T16:14:05.689314Z",
     "iopub.status.busy": "2020-11-01T16:14:05.688155Z",
     "iopub.status.idle": "2020-11-01T16:14:05.691803Z",
     "shell.execute_reply": "2020-11-01T16:14:05.691157Z"
    },
    "papermill": {
     "duration": 0.093477,
     "end_time": "2020-11-01T16:14:05.691939",
     "exception": false,
     "start_time": "2020-11-01T16:14:05.598462",
     "status": "completed"
    },
    "tags": []
   },
   "outputs": [],
   "source": [
    "iter_test = env.iter_test()"
   ]
  },
  {
   "cell_type": "code",
   "execution_count": 58,
   "metadata": {
    "execution": {
     "iopub.execute_input": "2020-11-01T16:14:05.878382Z",
     "iopub.status.busy": "2020-11-01T16:14:05.877616Z",
     "iopub.status.idle": "2020-11-01T16:14:06.923252Z",
     "shell.execute_reply": "2020-11-01T16:14:06.921791Z"
    },
    "papermill": {
     "duration": 1.146341,
     "end_time": "2020-11-01T16:14:06.923413",
     "exception": false,
     "start_time": "2020-11-01T16:14:05.777072",
     "status": "completed"
    },
    "tags": []
   },
   "outputs": [],
   "source": [
    "\n",
    "for(test_df, sample_prediction_df) in iter_test:\n",
    "    test_df = pd.merge(test_df, questions_df, left_on='content_id',\n",
    "                       right_on='question_id',how='left')\n",
    "    test_df = pd.merge(test_df, result_u_final, on=['user_id'],how='left')\n",
    "    test_df = pd.merge(test_df, result_c_final, on=['content_id'],how='left')\n",
    "    test_df['answered_correctly_user'].fillna(0.5, inplace=True)\n",
    "    test_df['answered_correctly_content'].fillna(0.5, inplace=True)\n",
    "    test_df['part'] = test_df.part-1\n",
    "    \n",
    "    test_df['part'].fillna(4, inplace=True)\n",
    "    test_df['sum'].fillna(0,inplace=True)\n",
    "    test_df['count'].fillna(0,inplace=True)\n",
    "    test_df['prior_question_elapsed_time'].fillna(elapsed_mean, inplace = True)\n",
    "    test_df['prior_question_had_explanation'].fillna(False, inplace=True)\n",
    "    test_df[\"prior_question_had_explanation_enc\"] = lb_make.fit_transform(test_df[\"prior_question_had_explanation\"])\n",
    "    test_df['answered_correctly'] =  model.predict(test_df[['answered_correctly_user', 'answered_correctly_content', 'sum', 'count',\n",
    "                                                                  'prior_question_elapsed_time','prior_question_had_explanation_enc', 'part']])\n",
    "   \n",
    "    \n",
    "    env.predict(test_df.loc[test_df['content_type_id']==0, ['row_id','answered_correctly']])\n",
    "    \n",
    "    "
   ]
  },
  {
   "cell_type": "code",
   "execution_count": null,
   "metadata": {
    "papermill": {
     "duration": 0.086476,
     "end_time": "2020-11-01T16:14:07.098025",
     "exception": false,
     "start_time": "2020-11-01T16:14:07.011549",
     "status": "completed"
    },
    "tags": []
   },
   "outputs": [],
   "source": []
  }
 ],
 "metadata": {
  "kernelspec": {
   "display_name": "Python 3",
   "language": "python",
   "name": "python3"
  },
  "language_info": {
   "codemirror_mode": {
    "name": "ipython",
    "version": 3
   },
   "file_extension": ".py",
   "mimetype": "text/x-python",
   "name": "python",
   "nbconvert_exporter": "python",
   "pygments_lexer": "ipython3",
   "version": "3.7.8"
  },
  "papermill": {
   "duration": 1366.351175,
   "end_time": "2020-11-01T16:14:07.293290",
   "environment_variables": {},
   "exception": null,
   "input_path": "__notebook__.ipynb",
   "output_path": "__notebook__.ipynb",
   "parameters": {},
   "start_time": "2020-11-01T15:51:20.942115",
   "version": "2.1.0"
  }
 },
 "nbformat": 4,
 "nbformat_minor": 4
}
