{
 "cells": [
  {
   "cell_type": "markdown",
   "metadata": {
    "papermill": {
     "duration": 0.012427,
     "end_time": "2020-11-04T13:12:18.644775",
     "exception": false,
     "start_time": "2020-11-04T13:12:18.632348",
     "status": "completed"
    },
    "tags": []
   },
   "source": [
    "I'd like to share my train/valid split script."
   ]
  },
  {
   "cell_type": "code",
   "execution_count": 15,
   "metadata": {
    "execution": {
     "iopub.execute_input": "2020-11-04T13:12:18.673739Z",
     "iopub.status.busy": "2020-11-04T13:12:18.672961Z",
     "iopub.status.idle": "2020-11-04T13:12:18.676622Z",
     "shell.execute_reply": "2020-11-04T13:12:18.675966Z"
    },
    "papermill": {
     "duration": 0.02041,
     "end_time": "2020-11-04T13:12:18.676767",
     "exception": false,
     "start_time": "2020-11-04T13:12:18.656357",
     "status": "completed"
    },
    "tags": []
   },
   "outputs": [],
   "source": [
    "import pandas as pd\n",
    "import random\n",
    "import gc\n",
    "\n",
    "random.seed(1)"
   ]
  },
  {
   "cell_type": "code",
   "execution_count": 16,
   "metadata": {
    "_cell_guid": "b1076dfc-b9ad-4769-8c92-a6c4dae69d19",
    "_uuid": "8f2839f25d086af736a60e9eeb907d3b93b6e0e5",
    "execution": {
     "iopub.execute_input": "2020-11-04T13:12:18.709089Z",
     "iopub.status.busy": "2020-11-04T13:12:18.708124Z",
     "iopub.status.idle": "2020-11-04T13:17:24.645297Z",
     "shell.execute_reply": "2020-11-04T13:17:24.644554Z"
    },
    "papermill": {
     "duration": 305.956806,
     "end_time": "2020-11-04T13:17:24.645438",
     "exception": false,
     "start_time": "2020-11-04T13:12:18.688632",
     "status": "completed"
    },
    "tags": []
   },
   "outputs": [],
   "source": [
    "train = pd.read_csv('/Users/hesu/Documents/KT/riiid/train.csv',\n",
    "                   dtype={'row_id': 'int64',\n",
    "                          'timestamp': 'int64',\n",
    "                          'user_id': 'int32',\n",
    "                          'content_id': 'int16',\n",
    "                          'content_type_id': 'int8',\n",
    "                          'task_container_id': 'int16',\n",
    "                          'user_answer': 'int8',\n",
    "                          'answered_correctly':'int8',\n",
    "                          'prior_question_elapsed_time': 'float32',\n",
    "                          'prior_question_had_explanation': 'boolean'}\n",
    "                   )"
   ]
  },
  {
   "cell_type": "markdown",
   "metadata": {
    "papermill": {
     "duration": 0.01103,
     "end_time": "2020-11-04T13:17:24.668335",
     "exception": false,
     "start_time": "2020-11-04T13:17:24.657305",
     "status": "completed"
    },
    "tags": []
   },
   "source": [
    "Using last several entry for each user as validation data is easy and doesn't look too bad.\n",
    "However, this split method may be focusing too much on light users over heavy users.\n",
    "As a result, the average percentage of correct answers become lower, and there may be a risk of leading us in the wrong direction."
   ]
  },
  {
   "cell_type": "code",
   "execution_count": 17,
   "metadata": {
    "execution": {
     "iopub.execute_input": "2020-11-04T13:17:24.703897Z",
     "iopub.status.busy": "2020-11-04T13:17:24.703157Z",
     "iopub.status.idle": "2020-11-04T13:17:52.108789Z",
     "shell.execute_reply": "2020-11-04T13:17:52.109568Z"
    },
    "papermill": {
     "duration": 27.430313,
     "end_time": "2020-11-04T13:17:52.109820",
     "exception": false,
     "start_time": "2020-11-04T13:17:24.679507",
     "status": "completed"
    },
    "tags": []
   },
   "outputs": [
    {
     "name": "stdout",
     "output_type": "stream",
     "text": [
      "0.660 0.541\n"
     ]
    }
   ],
   "source": [
    "valid_split1 = train.groupby('user_id').tail(5)\n",
    "train_split1 = train[~train.row_id.isin(valid_split1.row_id)]\n",
    "valid_split1 = valid_split1[valid_split1.content_type_id == 0]\n",
    "train_split1 = train_split1[train_split1.content_type_id == 0]\n",
    "print(f'{train_split1.answered_correctly.mean():.3f} {valid_split1.answered_correctly.mean():.3f}')"
   ]
  },
  {
   "cell_type": "code",
   "execution_count": 18,
   "metadata": {},
   "outputs": [
    {
     "data": {
      "text/html": [
       "<div>\n",
       "<style scoped>\n",
       "    .dataframe tbody tr th:only-of-type {\n",
       "        vertical-align: middle;\n",
       "    }\n",
       "\n",
       "    .dataframe tbody tr th {\n",
       "        vertical-align: top;\n",
       "    }\n",
       "\n",
       "    .dataframe thead th {\n",
       "        text-align: right;\n",
       "    }\n",
       "</style>\n",
       "<table border=\"1\" class=\"dataframe\">\n",
       "  <thead>\n",
       "    <tr style=\"text-align: right;\">\n",
       "      <th></th>\n",
       "      <th>row_id</th>\n",
       "      <th>timestamp</th>\n",
       "      <th>user_id</th>\n",
       "      <th>content_id</th>\n",
       "      <th>content_type_id</th>\n",
       "      <th>task_container_id</th>\n",
       "      <th>user_answer</th>\n",
       "      <th>answered_correctly</th>\n",
       "      <th>prior_question_elapsed_time</th>\n",
       "      <th>prior_question_had_explanation</th>\n",
       "    </tr>\n",
       "  </thead>\n",
       "  <tbody>\n",
       "    <tr>\n",
       "      <th>0</th>\n",
       "      <td>0</td>\n",
       "      <td>0</td>\n",
       "      <td>115</td>\n",
       "      <td>5692</td>\n",
       "      <td>0</td>\n",
       "      <td>1</td>\n",
       "      <td>3</td>\n",
       "      <td>1</td>\n",
       "      <td>NaN</td>\n",
       "      <td>&lt;NA&gt;</td>\n",
       "    </tr>\n",
       "    <tr>\n",
       "      <th>1</th>\n",
       "      <td>1</td>\n",
       "      <td>56943</td>\n",
       "      <td>115</td>\n",
       "      <td>5716</td>\n",
       "      <td>0</td>\n",
       "      <td>2</td>\n",
       "      <td>2</td>\n",
       "      <td>1</td>\n",
       "      <td>37000.0</td>\n",
       "      <td>False</td>\n",
       "    </tr>\n",
       "    <tr>\n",
       "      <th>2</th>\n",
       "      <td>2</td>\n",
       "      <td>118363</td>\n",
       "      <td>115</td>\n",
       "      <td>128</td>\n",
       "      <td>0</td>\n",
       "      <td>0</td>\n",
       "      <td>0</td>\n",
       "      <td>1</td>\n",
       "      <td>55000.0</td>\n",
       "      <td>False</td>\n",
       "    </tr>\n",
       "    <tr>\n",
       "      <th>3</th>\n",
       "      <td>3</td>\n",
       "      <td>131167</td>\n",
       "      <td>115</td>\n",
       "      <td>7860</td>\n",
       "      <td>0</td>\n",
       "      <td>3</td>\n",
       "      <td>0</td>\n",
       "      <td>1</td>\n",
       "      <td>19000.0</td>\n",
       "      <td>False</td>\n",
       "    </tr>\n",
       "    <tr>\n",
       "      <th>4</th>\n",
       "      <td>4</td>\n",
       "      <td>137965</td>\n",
       "      <td>115</td>\n",
       "      <td>7922</td>\n",
       "      <td>0</td>\n",
       "      <td>4</td>\n",
       "      <td>1</td>\n",
       "      <td>1</td>\n",
       "      <td>11000.0</td>\n",
       "      <td>False</td>\n",
       "    </tr>\n",
       "    <tr>\n",
       "      <th>5</th>\n",
       "      <td>5</td>\n",
       "      <td>157063</td>\n",
       "      <td>115</td>\n",
       "      <td>156</td>\n",
       "      <td>0</td>\n",
       "      <td>5</td>\n",
       "      <td>2</td>\n",
       "      <td>1</td>\n",
       "      <td>5000.0</td>\n",
       "      <td>False</td>\n",
       "    </tr>\n",
       "    <tr>\n",
       "      <th>6</th>\n",
       "      <td>6</td>\n",
       "      <td>176092</td>\n",
       "      <td>115</td>\n",
       "      <td>51</td>\n",
       "      <td>0</td>\n",
       "      <td>6</td>\n",
       "      <td>0</td>\n",
       "      <td>1</td>\n",
       "      <td>17000.0</td>\n",
       "      <td>False</td>\n",
       "    </tr>\n",
       "    <tr>\n",
       "      <th>7</th>\n",
       "      <td>7</td>\n",
       "      <td>194190</td>\n",
       "      <td>115</td>\n",
       "      <td>50</td>\n",
       "      <td>0</td>\n",
       "      <td>7</td>\n",
       "      <td>3</td>\n",
       "      <td>1</td>\n",
       "      <td>17000.0</td>\n",
       "      <td>False</td>\n",
       "    </tr>\n",
       "    <tr>\n",
       "      <th>8</th>\n",
       "      <td>8</td>\n",
       "      <td>212463</td>\n",
       "      <td>115</td>\n",
       "      <td>7896</td>\n",
       "      <td>0</td>\n",
       "      <td>8</td>\n",
       "      <td>2</td>\n",
       "      <td>1</td>\n",
       "      <td>16000.0</td>\n",
       "      <td>False</td>\n",
       "    </tr>\n",
       "    <tr>\n",
       "      <th>9</th>\n",
       "      <td>9</td>\n",
       "      <td>230983</td>\n",
       "      <td>115</td>\n",
       "      <td>7863</td>\n",
       "      <td>0</td>\n",
       "      <td>9</td>\n",
       "      <td>0</td>\n",
       "      <td>1</td>\n",
       "      <td>16000.0</td>\n",
       "      <td>False</td>\n",
       "    </tr>\n",
       "  </tbody>\n",
       "</table>\n",
       "</div>"
      ],
      "text/plain": [
       "   row_id  timestamp  user_id  content_id  content_type_id  task_container_id  \\\n",
       "0       0          0      115        5692                0                  1   \n",
       "1       1      56943      115        5716                0                  2   \n",
       "2       2     118363      115         128                0                  0   \n",
       "3       3     131167      115        7860                0                  3   \n",
       "4       4     137965      115        7922                0                  4   \n",
       "5       5     157063      115         156                0                  5   \n",
       "6       6     176092      115          51                0                  6   \n",
       "7       7     194190      115          50                0                  7   \n",
       "8       8     212463      115        7896                0                  8   \n",
       "9       9     230983      115        7863                0                  9   \n",
       "\n",
       "   user_answer  answered_correctly  prior_question_elapsed_time  \\\n",
       "0            3                   1                          NaN   \n",
       "1            2                   1                      37000.0   \n",
       "2            0                   1                      55000.0   \n",
       "3            0                   1                      19000.0   \n",
       "4            1                   1                      11000.0   \n",
       "5            2                   1                       5000.0   \n",
       "6            0                   1                      17000.0   \n",
       "7            3                   1                      17000.0   \n",
       "8            2                   1                      16000.0   \n",
       "9            0                   1                      16000.0   \n",
       "\n",
       "   prior_question_had_explanation  \n",
       "0                            <NA>  \n",
       "1                           False  \n",
       "2                           False  \n",
       "3                           False  \n",
       "4                           False  \n",
       "5                           False  \n",
       "6                           False  \n",
       "7                           False  \n",
       "8                           False  \n",
       "9                           False  "
      ]
     },
     "execution_count": 18,
     "metadata": {},
     "output_type": "execute_result"
    }
   ],
   "source": [
    "train_split1.head(10)"
   ]
  },
  {
   "cell_type": "code",
   "execution_count": 19,
   "metadata": {},
   "outputs": [
    {
     "data": {
      "text/html": [
       "<div>\n",
       "<style scoped>\n",
       "    .dataframe tbody tr th:only-of-type {\n",
       "        vertical-align: middle;\n",
       "    }\n",
       "\n",
       "    .dataframe tbody tr th {\n",
       "        vertical-align: top;\n",
       "    }\n",
       "\n",
       "    .dataframe thead th {\n",
       "        text-align: right;\n",
       "    }\n",
       "</style>\n",
       "<table border=\"1\" class=\"dataframe\">\n",
       "  <thead>\n",
       "    <tr style=\"text-align: right;\">\n",
       "      <th></th>\n",
       "      <th>row_id</th>\n",
       "      <th>timestamp</th>\n",
       "      <th>user_id</th>\n",
       "      <th>content_id</th>\n",
       "      <th>content_type_id</th>\n",
       "      <th>task_container_id</th>\n",
       "      <th>user_answer</th>\n",
       "      <th>answered_correctly</th>\n",
       "      <th>prior_question_elapsed_time</th>\n",
       "      <th>prior_question_had_explanation</th>\n",
       "    </tr>\n",
       "  </thead>\n",
       "  <tbody>\n",
       "    <tr>\n",
       "      <th>41</th>\n",
       "      <td>41</td>\n",
       "      <td>667971812</td>\n",
       "      <td>115</td>\n",
       "      <td>2064</td>\n",
       "      <td>0</td>\n",
       "      <td>40</td>\n",
       "      <td>1</td>\n",
       "      <td>1</td>\n",
       "      <td>17000.0</td>\n",
       "      <td>False</td>\n",
       "    </tr>\n",
       "    <tr>\n",
       "      <th>42</th>\n",
       "      <td>42</td>\n",
       "      <td>667971812</td>\n",
       "      <td>115</td>\n",
       "      <td>2063</td>\n",
       "      <td>0</td>\n",
       "      <td>40</td>\n",
       "      <td>3</td>\n",
       "      <td>0</td>\n",
       "      <td>17000.0</td>\n",
       "      <td>False</td>\n",
       "    </tr>\n",
       "    <tr>\n",
       "      <th>43</th>\n",
       "      <td>43</td>\n",
       "      <td>668090043</td>\n",
       "      <td>115</td>\n",
       "      <td>3363</td>\n",
       "      <td>0</td>\n",
       "      <td>41</td>\n",
       "      <td>1</td>\n",
       "      <td>0</td>\n",
       "      <td>14333.0</td>\n",
       "      <td>False</td>\n",
       "    </tr>\n",
       "    <tr>\n",
       "      <th>44</th>\n",
       "      <td>44</td>\n",
       "      <td>668090043</td>\n",
       "      <td>115</td>\n",
       "      <td>3365</td>\n",
       "      <td>0</td>\n",
       "      <td>41</td>\n",
       "      <td>0</td>\n",
       "      <td>0</td>\n",
       "      <td>14333.0</td>\n",
       "      <td>False</td>\n",
       "    </tr>\n",
       "    <tr>\n",
       "      <th>45</th>\n",
       "      <td>45</td>\n",
       "      <td>668090043</td>\n",
       "      <td>115</td>\n",
       "      <td>3364</td>\n",
       "      <td>0</td>\n",
       "      <td>41</td>\n",
       "      <td>1</td>\n",
       "      <td>1</td>\n",
       "      <td>14333.0</td>\n",
       "      <td>False</td>\n",
       "    </tr>\n",
       "    <tr>\n",
       "      <th>71</th>\n",
       "      <td>71</td>\n",
       "      <td>554504</td>\n",
       "      <td>124</td>\n",
       "      <td>6911</td>\n",
       "      <td>0</td>\n",
       "      <td>14</td>\n",
       "      <td>2</td>\n",
       "      <td>0</td>\n",
       "      <td>7000.0</td>\n",
       "      <td>False</td>\n",
       "    </tr>\n",
       "    <tr>\n",
       "      <th>72</th>\n",
       "      <td>72</td>\n",
       "      <td>571323</td>\n",
       "      <td>124</td>\n",
       "      <td>7218</td>\n",
       "      <td>0</td>\n",
       "      <td>15</td>\n",
       "      <td>3</td>\n",
       "      <td>0</td>\n",
       "      <td>6500.0</td>\n",
       "      <td>False</td>\n",
       "    </tr>\n",
       "    <tr>\n",
       "      <th>73</th>\n",
       "      <td>73</td>\n",
       "      <td>571323</td>\n",
       "      <td>124</td>\n",
       "      <td>7216</td>\n",
       "      <td>0</td>\n",
       "      <td>15</td>\n",
       "      <td>0</td>\n",
       "      <td>0</td>\n",
       "      <td>6500.0</td>\n",
       "      <td>False</td>\n",
       "    </tr>\n",
       "    <tr>\n",
       "      <th>74</th>\n",
       "      <td>74</td>\n",
       "      <td>571323</td>\n",
       "      <td>124</td>\n",
       "      <td>7217</td>\n",
       "      <td>0</td>\n",
       "      <td>15</td>\n",
       "      <td>3</td>\n",
       "      <td>0</td>\n",
       "      <td>6500.0</td>\n",
       "      <td>False</td>\n",
       "    </tr>\n",
       "    <tr>\n",
       "      <th>75</th>\n",
       "      <td>75</td>\n",
       "      <td>571323</td>\n",
       "      <td>124</td>\n",
       "      <td>7219</td>\n",
       "      <td>0</td>\n",
       "      <td>15</td>\n",
       "      <td>1</td>\n",
       "      <td>0</td>\n",
       "      <td>6500.0</td>\n",
       "      <td>False</td>\n",
       "    </tr>\n",
       "  </tbody>\n",
       "</table>\n",
       "</div>"
      ],
      "text/plain": [
       "    row_id  timestamp  user_id  content_id  content_type_id  \\\n",
       "41      41  667971812      115        2064                0   \n",
       "42      42  667971812      115        2063                0   \n",
       "43      43  668090043      115        3363                0   \n",
       "44      44  668090043      115        3365                0   \n",
       "45      45  668090043      115        3364                0   \n",
       "71      71     554504      124        6911                0   \n",
       "72      72     571323      124        7218                0   \n",
       "73      73     571323      124        7216                0   \n",
       "74      74     571323      124        7217                0   \n",
       "75      75     571323      124        7219                0   \n",
       "\n",
       "    task_container_id  user_answer  answered_correctly  \\\n",
       "41                 40            1                   1   \n",
       "42                 40            3                   0   \n",
       "43                 41            1                   0   \n",
       "44                 41            0                   0   \n",
       "45                 41            1                   1   \n",
       "71                 14            2                   0   \n",
       "72                 15            3                   0   \n",
       "73                 15            0                   0   \n",
       "74                 15            3                   0   \n",
       "75                 15            1                   0   \n",
       "\n",
       "    prior_question_elapsed_time  prior_question_had_explanation  \n",
       "41                      17000.0                           False  \n",
       "42                      17000.0                           False  \n",
       "43                      14333.0                           False  \n",
       "44                      14333.0                           False  \n",
       "45                      14333.0                           False  \n",
       "71                       7000.0                           False  \n",
       "72                       6500.0                           False  \n",
       "73                       6500.0                           False  \n",
       "74                       6500.0                           False  \n",
       "75                       6500.0                           False  "
      ]
     },
     "execution_count": 19,
     "metadata": {},
     "output_type": "execute_result"
    }
   ],
   "source": [
    "valid_split1.head(10)"
   ]
  },
  {
   "cell_type": "code",
   "execution_count": 20,
   "metadata": {
    "_kg_hide-input": true,
    "_kg_hide-output": true,
    "execution": {
     "iopub.execute_input": "2020-11-04T13:17:52.321915Z",
     "iopub.status.busy": "2020-11-04T13:17:52.320816Z",
     "iopub.status.idle": "2020-11-04T13:17:52.325818Z",
     "shell.execute_reply": "2020-11-04T13:17:52.325067Z"
    },
    "papermill": {
     "duration": 0.200515,
     "end_time": "2020-11-04T13:17:52.325945",
     "exception": false,
     "start_time": "2020-11-04T13:17:52.125430",
     "status": "completed"
    },
    "tags": []
   },
   "outputs": [
    {
     "data": {
      "text/plain": [
       "80"
      ]
     },
     "execution_count": 20,
     "metadata": {},
     "output_type": "execute_result"
    }
   ],
   "source": [
    "del valid_split1, train_split1\n",
    "gc.collect()"
   ]
  },
  {
   "cell_type": "markdown",
   "metadata": {
    "papermill": {
     "duration": 0.012658,
     "end_time": "2020-11-04T13:17:52.351707",
     "exception": false,
     "start_time": "2020-11-04T13:17:52.339049",
     "status": "completed"
    },
    "tags": []
   },
   "source": [
    "Since training data and test data are split by time, the validation data should also be split by time.\n",
    "However, the given timestamp is the time that has elapsed since the user's first event, not the actual time.\n",
    "So I set a random first access time for each user within a certain interval."
   ]
  },
  {
   "cell_type": "code",
   "execution_count": 21,
   "metadata": {
    "execution": {
     "iopub.execute_input": "2020-11-04T13:17:53.548839Z",
     "iopub.status.busy": "2020-11-04T13:17:53.547471Z",
     "iopub.status.idle": "2020-11-04T13:17:56.436737Z",
     "shell.execute_reply": "2020-11-04T13:17:56.437382Z"
    },
    "papermill": {
     "duration": 4.072748,
     "end_time": "2020-11-04T13:17:56.437556",
     "exception": false,
     "start_time": "2020-11-04T13:17:52.364808",
     "status": "completed"
    },
    "tags": []
   },
   "outputs": [],
   "source": [
    "max_timestamp_u = train[['user_id','timestamp']].groupby(['user_id']).agg(['max']).reset_index()\n",
    "max_timestamp_u.columns = ['user_id', 'max_time_stamp']\n",
    "MAX_TIME_STAMP = max_timestamp_u.max_time_stamp.max()"
   ]
  },
  {
   "cell_type": "code",
   "execution_count": 22,
   "metadata": {},
   "outputs": [
    {
     "data": {
      "text/html": [
       "<div>\n",
       "<style scoped>\n",
       "    .dataframe tbody tr th:only-of-type {\n",
       "        vertical-align: middle;\n",
       "    }\n",
       "\n",
       "    .dataframe tbody tr th {\n",
       "        vertical-align: top;\n",
       "    }\n",
       "\n",
       "    .dataframe thead th {\n",
       "        text-align: right;\n",
       "    }\n",
       "</style>\n",
       "<table border=\"1\" class=\"dataframe\">\n",
       "  <thead>\n",
       "    <tr style=\"text-align: right;\">\n",
       "      <th></th>\n",
       "      <th>user_id</th>\n",
       "      <th>max_time_stamp</th>\n",
       "    </tr>\n",
       "  </thead>\n",
       "  <tbody>\n",
       "    <tr>\n",
       "      <th>0</th>\n",
       "      <td>115</td>\n",
       "      <td>668090043</td>\n",
       "    </tr>\n",
       "    <tr>\n",
       "      <th>1</th>\n",
       "      <td>124</td>\n",
       "      <td>571323</td>\n",
       "    </tr>\n",
       "    <tr>\n",
       "      <th>2</th>\n",
       "      <td>2746</td>\n",
       "      <td>835457</td>\n",
       "    </tr>\n",
       "    <tr>\n",
       "      <th>3</th>\n",
       "      <td>5382</td>\n",
       "      <td>2101551456</td>\n",
       "    </tr>\n",
       "    <tr>\n",
       "      <th>4</th>\n",
       "      <td>8623</td>\n",
       "      <td>862338736</td>\n",
       "    </tr>\n",
       "    <tr>\n",
       "      <th>5</th>\n",
       "      <td>8701</td>\n",
       "      <td>1571291</td>\n",
       "    </tr>\n",
       "    <tr>\n",
       "      <th>6</th>\n",
       "      <td>12741</td>\n",
       "      <td>4465486358</td>\n",
       "    </tr>\n",
       "    <tr>\n",
       "      <th>7</th>\n",
       "      <td>13134</td>\n",
       "      <td>18122046414</td>\n",
       "    </tr>\n",
       "    <tr>\n",
       "      <th>8</th>\n",
       "      <td>24418</td>\n",
       "      <td>14243735782</td>\n",
       "    </tr>\n",
       "    <tr>\n",
       "      <th>9</th>\n",
       "      <td>24600</td>\n",
       "      <td>1550831</td>\n",
       "    </tr>\n",
       "  </tbody>\n",
       "</table>\n",
       "</div>"
      ],
      "text/plain": [
       "   user_id  max_time_stamp\n",
       "0      115       668090043\n",
       "1      124          571323\n",
       "2     2746          835457\n",
       "3     5382      2101551456\n",
       "4     8623       862338736\n",
       "5     8701         1571291\n",
       "6    12741      4465486358\n",
       "7    13134     18122046414\n",
       "8    24418     14243735782\n",
       "9    24600         1550831"
      ]
     },
     "execution_count": 22,
     "metadata": {},
     "output_type": "execute_result"
    }
   ],
   "source": [
    "max_timestamp_u.head(10)"
   ]
  },
  {
   "cell_type": "markdown",
   "metadata": {
    "papermill": {
     "duration": 0.012869,
     "end_time": "2020-11-04T13:17:56.463919",
     "exception": false,
     "start_time": "2020-11-04T13:17:56.451050",
     "status": "completed"
    },
    "tags": []
   },
   "source": [
    "`(MAX_TIME_STAMP for all users) - (max_time_stamp for each user)` is used for this interval."
   ]
  },
  {
   "cell_type": "code",
   "execution_count": 23,
   "metadata": {
    "execution": {
     "iopub.execute_input": "2020-11-04T13:17:56.498381Z",
     "iopub.status.busy": "2020-11-04T13:17:56.497563Z",
     "iopub.status.idle": "2020-11-04T13:18:13.475554Z",
     "shell.execute_reply": "2020-11-04T13:18:13.474803Z"
    },
    "papermill": {
     "duration": 16.998562,
     "end_time": "2020-11-04T13:18:13.475695",
     "exception": false,
     "start_time": "2020-11-04T13:17:56.477133",
     "status": "completed"
    },
    "tags": []
   },
   "outputs": [],
   "source": [
    "def rand_time(max_time_stamp):\n",
    "    interval = MAX_TIME_STAMP - max_time_stamp\n",
    "    rand_time_stamp = random.randint(0,interval)\n",
    "    return rand_time_stamp\n",
    "\n",
    "max_timestamp_u['rand_time_stamp'] = max_timestamp_u.max_time_stamp.apply(rand_time)\n",
    "# 这个rand_time_stamp是构建的每个user的随机起始时间\n",
    "# 所以下面的viretual_time_stamp可以看做是每个用户的真实交互时间\n",
    "train = train.merge(max_timestamp_u, on='user_id', how='left')\n",
    "train['viretual_time_stamp'] = train.timestamp + train['rand_time_stamp']"
   ]
  },
  {
   "cell_type": "code",
   "execution_count": 24,
   "metadata": {
    "_kg_hide-input": true,
    "_kg_hide-output": true,
    "execution": {
     "iopub.execute_input": "2020-11-04T13:18:13.508424Z",
     "iopub.status.busy": "2020-11-04T13:18:13.507086Z",
     "iopub.status.idle": "2020-11-04T13:18:13.890305Z",
     "shell.execute_reply": "2020-11-04T13:18:13.889684Z"
    },
    "papermill": {
     "duration": 0.401525,
     "end_time": "2020-11-04T13:18:13.890435",
     "exception": false,
     "start_time": "2020-11-04T13:18:13.488910",
     "status": "completed"
    },
    "tags": []
   },
   "outputs": [
    {
     "data": {
      "text/plain": [
       "80"
      ]
     },
     "execution_count": 24,
     "metadata": {},
     "output_type": "execute_result"
    }
   ],
   "source": [
    "del train['max_time_stamp']\n",
    "del train['rand_time_stamp']\n",
    "del max_timestamp_u\n",
    "gc.collect()"
   ]
  },
  {
   "cell_type": "code",
   "execution_count": 25,
   "metadata": {
    "execution": {
     "iopub.execute_input": "2020-11-04T13:18:13.925257Z",
     "iopub.status.busy": "2020-11-04T13:18:13.924494Z",
     "iopub.status.idle": "2020-11-04T13:18:24.981577Z",
     "shell.execute_reply": "2020-11-04T13:18:24.980717Z"
    },
    "papermill": {
     "duration": 11.077264,
     "end_time": "2020-11-04T13:18:24.981741",
     "exception": false,
     "start_time": "2020-11-04T13:18:13.904477",
     "status": "completed"
    },
    "tags": []
   },
   "outputs": [],
   "source": [
    "kaggle_env = True\n",
    "if kaggle_env:\n",
    "    # Full dataframe can not be sorted on kaggle kernel due to lack of memory.\n",
    "    train = train[:10000000]\n",
    "train = train.sort_values(['viretual_time_stamp', 'row_id']).reset_index(drop=True)"
   ]
  },
  {
   "cell_type": "markdown",
   "metadata": {
    "papermill": {
     "duration": 0.013621,
     "end_time": "2020-11-04T13:18:25.010215",
     "exception": false,
     "start_time": "2020-11-04T13:18:24.996594",
     "status": "completed"
    },
    "tags": []
   },
   "source": [
    "Now we have sorted dataframe by viretual_time_stamp, we can easly split dataframe by time."
   ]
  },
  {
   "cell_type": "code",
   "execution_count": 26,
   "metadata": {
    "execution": {
     "iopub.execute_input": "2020-11-04T13:18:25.049478Z",
     "iopub.status.busy": "2020-11-04T13:18:25.048704Z",
     "iopub.status.idle": "2020-11-04T13:18:34.161397Z",
     "shell.execute_reply": "2020-11-04T13:18:34.160555Z"
    },
    "papermill": {
     "duration": 9.137361,
     "end_time": "2020-11-04T13:18:34.161528",
     "exception": false,
     "start_time": "2020-11-04T13:18:25.024167",
     "status": "completed"
    },
    "tags": []
   },
   "outputs": [
    {
     "name": "stdout",
     "output_type": "stream",
     "text": [
      "cv0 0.659 0.657 1392 0\n",
      "cv1 0.658 0.668 1142 0\n",
      "cv2 0.659 0.644 1015 0\n",
      "cv3 0.659 0.661 1014 0\n",
      "cv4 0.659 0.667 815 3\n"
     ]
    }
   ],
   "source": [
    "if kaggle_env:\n",
    "    val_size = 250000\n",
    "else:\n",
    "    val_size = 2500000\n",
    "\n",
    "for cv in range(5):\n",
    "    valid = train[-val_size:]\n",
    "    train = train[:-val_size]\n",
    "    # check new users and new contents\n",
    "    new_users = len(valid[~valid.user_id.isin(train.user_id)].user_id.unique())\n",
    "    valid_question = valid[valid.content_type_id == 0]\n",
    "    train_question = train[train.content_type_id == 0]\n",
    "    new_contents = len(valid_question[~valid_question.content_id.isin(train_question.content_id)].content_id.unique())    \n",
    "    print(f'cv{cv} {train_question.answered_correctly.mean():.3f} {valid_question.answered_correctly.mean():.3f} {new_users} {new_contents}')\n",
    "    valid.to_pickle(f'/Users/hesu/Documents/KT/riiid/cv{cv+1}_valid.pickle')\n",
    "    train.to_pickle(f'/Users/hesu/Documents/KT/riiid/cv{cv+1}_train.pickle')"
   ]
  },
  {
   "cell_type": "markdown",
   "metadata": {
    "papermill": {
     "duration": 0.0915,
     "end_time": "2020-11-04T13:18:34.285436",
     "exception": false,
     "start_time": "2020-11-04T13:18:34.193936",
     "status": "completed"
    },
    "tags": []
   },
   "source": [
    "For full data, this would be:\n",
    "<pre>\n",
    "cv0 0.658 0.642 15119 0\n",
    "cv1 0.658 0.651 11198 0\n",
    "cv2 0.658 0.647 10159 0\n",
    "cv3 0.658 0.651 9687 3\n",
    "cv4 0.658 0.655 9184 0\n",
    "</pre>\n",
    "Average percentage of correct answers seems match better now!\n",
    "\n",
    "\n",
    "These files can be downloaded from:\n",
    "https://www.kaggle.com/its7171/riiid-cross-validation-files\n",
    "\n",
    "This notebook is a sample that uses this dataset:\n",
    "https://www.kaggle.com/its7171/iter-test-emulator"
   ]
  },
  {
   "cell_type": "code",
   "execution_count": null,
   "metadata": {},
   "outputs": [],
   "source": []
  },
  {
   "cell_type": "code",
   "execution_count": null,
   "metadata": {},
   "outputs": [],
   "source": []
  }
 ],
 "metadata": {
  "kernelspec": {
   "display_name": "Python 3",
   "language": "python",
   "name": "python3"
  },
  "language_info": {
   "codemirror_mode": {
    "name": "ipython",
    "version": 3
   },
   "file_extension": ".py",
   "mimetype": "text/x-python",
   "name": "python",
   "nbconvert_exporter": "python",
   "pygments_lexer": "ipython3",
   "version": "3.7.8"
  },
  "papermill": {
   "duration": 380.581649,
   "end_time": "2020-11-04T13:18:34.416602",
   "environment_variables": {},
   "exception": null,
   "input_path": "__notebook__.ipynb",
   "output_path": "__notebook__.ipynb",
   "parameters": {},
   "start_time": "2020-11-04T13:12:13.834953",
   "version": "2.1.0"
  }
 },
 "nbformat": 4,
 "nbformat_minor": 4
}
