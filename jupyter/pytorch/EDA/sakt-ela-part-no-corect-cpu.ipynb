{
 "cells": [
  {
   "cell_type": "markdown",
   "metadata": {
    "papermill": {
     "duration": 0.04253,
     "end_time": "2020-12-14T13:13:44.680572",
     "exception": false,
     "start_time": "2020-12-14T13:13:44.638042",
     "status": "completed"
    },
    "tags": []
   },
   "source": [
    "* Base Source: https://www.kaggle.com/wangsg/a-self-attentive-model-for-knowledge-tracing\n",
    "* My First Work: https://www.kaggle.com/leadbest/sakt-self-attentive-knowledge-tracing-submitter"
   ]
  },
  {
   "cell_type": "code",
   "execution_count": 1,
   "metadata": {
    "_cell_guid": "b1076dfc-b9ad-4769-8c92-a6c4dae69d19",
    "_uuid": "8f2839f25d086af736a60e9eeb907d3b93b6e0e5",
    "execution": {
     "iopub.execute_input": "2020-12-14T13:13:44.769965Z",
     "iopub.status.busy": "2020-12-14T13:13:44.769199Z",
     "iopub.status.idle": "2020-12-14T13:13:44.788378Z",
     "shell.execute_reply": "2020-12-14T13:13:44.787493Z"
    },
    "papermill": {
     "duration": 0.066391,
     "end_time": "2020-12-14T13:13:44.788518",
     "exception": false,
     "start_time": "2020-12-14T13:13:44.722127",
     "status": "completed"
    },
    "tags": []
   },
   "outputs": [
    {
     "name": "stdout",
     "output_type": "stream",
     "text": [
      "/kaggle/input/saktmodel/valid_2.csv\n",
      "/kaggle/input/saktmodel/best_model_ela_part.pt\n",
      "/kaggle/input/saktmodel/train_200_valid_2.csv\n",
      "/kaggle/input/saktmodel/train_100_valid_2.csv\n",
      "/kaggle/input/riiid-test-answer-prediction/example_sample_submission.csv\n",
      "/kaggle/input/riiid-test-answer-prediction/example_test.csv\n",
      "/kaggle/input/riiid-test-answer-prediction/questions.csv\n",
      "/kaggle/input/riiid-test-answer-prediction/train.csv\n",
      "/kaggle/input/riiid-test-answer-prediction/lectures.csv\n",
      "/kaggle/input/riiid-test-answer-prediction/riiideducation/competition.cpython-37m-x86_64-linux-gnu.so\n",
      "/kaggle/input/riiid-test-answer-prediction/riiideducation/__init__.py\n"
     ]
    }
   ],
   "source": [
    "# This Python 3 environment comes with many helpful analytics libraries installed\n",
    "# It is defined by the kaggle/python Docker image: https://github.com/kaggle/docker-python\n",
    "# For example, here's several helpful packages to load\n",
    "\n",
    "import numpy as np # linear algebra\n",
    "import pandas as pd # data processing, CSV file I/O (e.g. pd.read_csv)\n",
    "\n",
    "# Input data files are available in the read-only \"../input/\" directory\n",
    "# For example, running this (by clicking run or pressing Shift+Enter) will list all files under the input directory\n",
    "\n",
    "import os\n",
    "for dirname, _, filenames in os.walk('/kaggle/input'):\n",
    "    for filename in filenames:\n",
    "        print(os.path.join(dirname, filename))\n",
    "\n",
    "# You can write up to 20GB to the current directory (/kaggle/working/) that gets preserved as output when you create a version using \"Save & Run All\" \n",
    "# You can also write temporary files to /kaggle/temp/, but they won't be saved outside of the current session"
   ]
  },
  {
   "cell_type": "code",
   "execution_count": 2,
   "metadata": {
    "execution": {
     "iopub.execute_input": "2020-12-14T13:13:44.879640Z",
     "iopub.status.busy": "2020-12-14T13:13:44.878945Z",
     "iopub.status.idle": "2020-12-14T13:13:44.883122Z",
     "shell.execute_reply": "2020-12-14T13:13:44.882550Z"
    },
    "papermill": {
     "duration": 0.05102,
     "end_time": "2020-12-14T13:13:44.883241",
     "exception": false,
     "start_time": "2020-12-14T13:13:44.832221",
     "status": "completed"
    },
    "tags": []
   },
   "outputs": [],
   "source": [
    "# !curl https://raw.githubusercontent.com/pytorch/xla/master/contrib/scripts/env-setup.py -o pytorch-xla-env-setup.py\n",
    "# !python pytorch-xla-env-setup.py --version nightly --apt-packages libomp5 libopenblas-dev"
   ]
  },
  {
   "cell_type": "code",
   "execution_count": 3,
   "metadata": {
    "_cell_guid": "79c7e3d0-c299-4dcb-8224-4455121ee9b0",
    "_uuid": "d629ff2d2480ee46fbb7e2d37f6b5fab8052498a",
    "execution": {
     "iopub.execute_input": "2020-12-14T13:13:44.971379Z",
     "iopub.status.busy": "2020-12-14T13:13:44.970478Z",
     "iopub.status.idle": "2020-12-14T13:13:46.999297Z",
     "shell.execute_reply": "2020-12-14T13:13:46.998617Z"
    },
    "papermill": {
     "duration": 2.073654,
     "end_time": "2020-12-14T13:13:46.999407",
     "exception": false,
     "start_time": "2020-12-14T13:13:44.925753",
     "status": "completed"
    },
    "tags": []
   },
   "outputs": [],
   "source": [
    "import gc\n",
    "import random\n",
    "from tqdm import tqdm\n",
    "from sklearn.metrics import roc_auc_score\n",
    "from sklearn.model_selection import train_test_split\n",
    "\n",
    "import seaborn as sns\n",
    "import matplotlib.pyplot as plt\n",
    "\n",
    "import torch\n",
    "import torch.nn as nn\n",
    "import torch.nn.utils.rnn as rnn_utils\n",
    "from torch.autograd import Variable\n",
    "from torch.utils.data import Dataset, DataLoader\n",
    "# import torch_xla\n",
    "# import torch_xla.core.xla_model as xm"
   ]
  },
  {
   "cell_type": "code",
   "execution_count": 4,
   "metadata": {
    "execution": {
     "iopub.execute_input": "2020-12-14T13:13:47.090716Z",
     "iopub.status.busy": "2020-12-14T13:13:47.090122Z",
     "iopub.status.idle": "2020-12-14T13:13:47.094126Z",
     "shell.execute_reply": "2020-12-14T13:13:47.094577Z"
    },
    "papermill": {
     "duration": 0.051565,
     "end_time": "2020-12-14T13:13:47.094703",
     "exception": false,
     "start_time": "2020-12-14T13:13:47.043138",
     "status": "completed"
    },
    "tags": []
   },
   "outputs": [],
   "source": [
    "#HDKIM\n",
    "MAX_SEQ = 160\n",
    "#HDKIMHDKIM"
   ]
  },
  {
   "cell_type": "markdown",
   "metadata": {
    "papermill": {
     "duration": 0.043339,
     "end_time": "2020-12-14T13:13:47.186239",
     "exception": false,
     "start_time": "2020-12-14T13:13:47.142900",
     "status": "completed"
    },
    "tags": []
   },
   "source": [
    "## Load data"
   ]
  },
  {
   "cell_type": "code",
   "execution_count": 5,
   "metadata": {
    "execution": {
     "iopub.execute_input": "2020-12-14T13:13:47.281684Z",
     "iopub.status.busy": "2020-12-14T13:13:47.281060Z",
     "iopub.status.idle": "2020-12-14T13:14:20.521554Z",
     "shell.execute_reply": "2020-12-14T13:14:20.520967Z"
    },
    "papermill": {
     "duration": 33.29156,
     "end_time": "2020-12-14T13:14:20.521663",
     "exception": false,
     "start_time": "2020-12-14T13:13:47.230103",
     "status": "completed"
    },
    "tags": []
   },
   "outputs": [
    {
     "name": "stdout",
     "output_type": "stream",
     "text": [
      "CPU times: user 19.6 s, sys: 1.49 s, total: 21.1 s\n",
      "Wall time: 33.2 s\n"
     ]
    },
    {
     "data": {
      "text/html": [
       "<div>\n",
       "<style scoped>\n",
       "    .dataframe tbody tr th:only-of-type {\n",
       "        vertical-align: middle;\n",
       "    }\n",
       "\n",
       "    .dataframe tbody tr th {\n",
       "        vertical-align: top;\n",
       "    }\n",
       "\n",
       "    .dataframe thead th {\n",
       "        text-align: right;\n",
       "    }\n",
       "</style>\n",
       "<table border=\"1\" class=\"dataframe\">\n",
       "  <thead>\n",
       "    <tr style=\"text-align: right;\">\n",
       "      <th></th>\n",
       "      <th>timestamp</th>\n",
       "      <th>user_id</th>\n",
       "      <th>content_id</th>\n",
       "      <th>content_type_id</th>\n",
       "      <th>answered_correctly</th>\n",
       "      <th>prior_question_elapsed_time</th>\n",
       "    </tr>\n",
       "  </thead>\n",
       "  <tbody>\n",
       "    <tr>\n",
       "      <th>0</th>\n",
       "      <td>0</td>\n",
       "      <td>841499248</td>\n",
       "      <td>6054</td>\n",
       "      <td>0</td>\n",
       "      <td>0</td>\n",
       "      <td>NaN</td>\n",
       "    </tr>\n",
       "    <tr>\n",
       "      <th>1</th>\n",
       "      <td>0</td>\n",
       "      <td>1722355108</td>\n",
       "      <td>4260</td>\n",
       "      <td>0</td>\n",
       "      <td>1</td>\n",
       "      <td>NaN</td>\n",
       "    </tr>\n",
       "    <tr>\n",
       "      <th>2</th>\n",
       "      <td>0</td>\n",
       "      <td>1973833483</td>\n",
       "      <td>5629</td>\n",
       "      <td>0</td>\n",
       "      <td>1</td>\n",
       "      <td>NaN</td>\n",
       "    </tr>\n",
       "    <tr>\n",
       "      <th>3</th>\n",
       "      <td>0</td>\n",
       "      <td>488555728</td>\n",
       "      <td>5527</td>\n",
       "      <td>0</td>\n",
       "      <td>1</td>\n",
       "      <td>NaN</td>\n",
       "    </tr>\n",
       "    <tr>\n",
       "      <th>4</th>\n",
       "      <td>0</td>\n",
       "      <td>1413146787</td>\n",
       "      <td>7900</td>\n",
       "      <td>0</td>\n",
       "      <td>1</td>\n",
       "      <td>NaN</td>\n",
       "    </tr>\n",
       "  </tbody>\n",
       "</table>\n",
       "</div>"
      ],
      "text/plain": [
       "   timestamp     user_id  content_id  content_type_id  answered_correctly  \\\n",
       "0          0   841499248        6054                0                   0   \n",
       "1          0  1722355108        4260                0                   1   \n",
       "2          0  1973833483        5629                0                   1   \n",
       "3          0   488555728        5527                0                   1   \n",
       "4          0  1413146787        7900                0                   1   \n",
       "\n",
       "   prior_question_elapsed_time  \n",
       "0                          NaN  \n",
       "1                          NaN  \n",
       "2                          NaN  \n",
       "3                          NaN  \n",
       "4                          NaN  "
      ]
     },
     "execution_count": 5,
     "metadata": {},
     "output_type": "execute_result"
    }
   ],
   "source": [
    "%%time\n",
    "dtype = {'timestamp': 'int64', \n",
    "         'user_id': 'int64' ,\n",
    "         'content_id': 'int16',\n",
    "         'content_type_id': 'int8',\n",
    "         'answered_correctly':'int8',\n",
    "         'prior_question_elapsed_time':'float64'}\n",
    "\n",
    "train_df = pd.read_csv('/kaggle/input/saktmodel/train_200_valid_2.csv', usecols=[1,2,3,4,7,8], dtype=dtype)\n",
    "train_df.head()\n"
   ]
  },
  {
   "cell_type": "code",
   "execution_count": 6,
   "metadata": {
    "execution": {
     "iopub.execute_input": "2020-12-14T13:14:20.617275Z",
     "iopub.status.busy": "2020-12-14T13:14:20.616179Z",
     "iopub.status.idle": "2020-12-14T13:14:25.971851Z",
     "shell.execute_reply": "2020-12-14T13:14:25.971246Z"
    },
    "papermill": {
     "duration": 5.405091,
     "end_time": "2020-12-14T13:14:25.971962",
     "exception": false,
     "start_time": "2020-12-14T13:14:20.566871",
     "status": "completed"
    },
    "tags": []
   },
   "outputs": [],
   "source": [
    "train_df = train_df[train_df.content_type_id == False]\n",
    "\n",
    "#arrange by timestamp\n",
    "train_df = train_df.sort_values(['timestamp'], ascending=True).reset_index(drop = True)"
   ]
  },
  {
   "cell_type": "code",
   "execution_count": 7,
   "metadata": {
    "execution": {
     "iopub.execute_input": "2020-12-14T13:14:26.069502Z",
     "iopub.status.busy": "2020-12-14T13:14:26.068834Z",
     "iopub.status.idle": "2020-12-14T13:14:27.104548Z",
     "shell.execute_reply": "2020-12-14T13:14:27.104031Z"
    },
    "papermill": {
     "duration": 1.089338,
     "end_time": "2020-12-14T13:14:27.104650",
     "exception": false,
     "start_time": "2020-12-14T13:14:26.015312",
     "status": "completed"
    },
    "tags": []
   },
   "outputs": [
    {
     "data": {
      "text/html": [
       "<div>\n",
       "<style scoped>\n",
       "    .dataframe tbody tr th:only-of-type {\n",
       "        vertical-align: middle;\n",
       "    }\n",
       "\n",
       "    .dataframe tbody tr th {\n",
       "        vertical-align: top;\n",
       "    }\n",
       "\n",
       "    .dataframe thead th {\n",
       "        text-align: right;\n",
       "    }\n",
       "</style>\n",
       "<table border=\"1\" class=\"dataframe\">\n",
       "  <thead>\n",
       "    <tr style=\"text-align: right;\">\n",
       "      <th></th>\n",
       "      <th>timestamp</th>\n",
       "      <th>user_id</th>\n",
       "      <th>content_id</th>\n",
       "      <th>content_type_id</th>\n",
       "      <th>answered_correctly</th>\n",
       "      <th>prior_question_elapsed_time</th>\n",
       "    </tr>\n",
       "  </thead>\n",
       "  <tbody>\n",
       "    <tr>\n",
       "      <th>0</th>\n",
       "      <td>0</td>\n",
       "      <td>866605366</td>\n",
       "      <td>6267</td>\n",
       "      <td>0</td>\n",
       "      <td>1</td>\n",
       "      <td>NaN</td>\n",
       "    </tr>\n",
       "    <tr>\n",
       "      <th>1</th>\n",
       "      <td>0</td>\n",
       "      <td>1436067548</td>\n",
       "      <td>3709</td>\n",
       "      <td>0</td>\n",
       "      <td>1</td>\n",
       "      <td>NaN</td>\n",
       "    </tr>\n",
       "    <tr>\n",
       "      <th>2</th>\n",
       "      <td>0</td>\n",
       "      <td>2119645200</td>\n",
       "      <td>7900</td>\n",
       "      <td>0</td>\n",
       "      <td>1</td>\n",
       "      <td>NaN</td>\n",
       "    </tr>\n",
       "    <tr>\n",
       "      <th>3</th>\n",
       "      <td>0</td>\n",
       "      <td>2019867894</td>\n",
       "      <td>4421</td>\n",
       "      <td>0</td>\n",
       "      <td>0</td>\n",
       "      <td>NaN</td>\n",
       "    </tr>\n",
       "    <tr>\n",
       "      <th>4</th>\n",
       "      <td>0</td>\n",
       "      <td>1801712607</td>\n",
       "      <td>5137</td>\n",
       "      <td>0</td>\n",
       "      <td>1</td>\n",
       "      <td>NaN</td>\n",
       "    </tr>\n",
       "    <tr>\n",
       "      <th>5</th>\n",
       "      <td>0</td>\n",
       "      <td>863504442</td>\n",
       "      <td>5554</td>\n",
       "      <td>0</td>\n",
       "      <td>1</td>\n",
       "      <td>NaN</td>\n",
       "    </tr>\n",
       "    <tr>\n",
       "      <th>6</th>\n",
       "      <td>0</td>\n",
       "      <td>220576717</td>\n",
       "      <td>4660</td>\n",
       "      <td>0</td>\n",
       "      <td>1</td>\n",
       "      <td>NaN</td>\n",
       "    </tr>\n",
       "    <tr>\n",
       "      <th>7</th>\n",
       "      <td>0</td>\n",
       "      <td>108605579</td>\n",
       "      <td>5067</td>\n",
       "      <td>0</td>\n",
       "      <td>0</td>\n",
       "      <td>NaN</td>\n",
       "    </tr>\n",
       "    <tr>\n",
       "      <th>8</th>\n",
       "      <td>0</td>\n",
       "      <td>811433702</td>\n",
       "      <td>4517</td>\n",
       "      <td>0</td>\n",
       "      <td>0</td>\n",
       "      <td>NaN</td>\n",
       "    </tr>\n",
       "    <tr>\n",
       "      <th>9</th>\n",
       "      <td>0</td>\n",
       "      <td>38532797</td>\n",
       "      <td>6479</td>\n",
       "      <td>0</td>\n",
       "      <td>0</td>\n",
       "      <td>NaN</td>\n",
       "    </tr>\n",
       "  </tbody>\n",
       "</table>\n",
       "</div>"
      ],
      "text/plain": [
       "   timestamp     user_id  content_id  content_type_id  answered_correctly  \\\n",
       "0          0   866605366        6267                0                   1   \n",
       "1          0  1436067548        3709                0                   1   \n",
       "2          0  2119645200        7900                0                   1   \n",
       "3          0  2019867894        4421                0                   0   \n",
       "4          0  1801712607        5137                0                   1   \n",
       "5          0   863504442        5554                0                   1   \n",
       "6          0   220576717        4660                0                   1   \n",
       "7          0   108605579        5067                0                   0   \n",
       "8          0   811433702        4517                0                   0   \n",
       "9          0    38532797        6479                0                   0   \n",
       "\n",
       "   prior_question_elapsed_time  \n",
       "0                          NaN  \n",
       "1                          NaN  \n",
       "2                          NaN  \n",
       "3                          NaN  \n",
       "4                          NaN  \n",
       "5                          NaN  \n",
       "6                          NaN  \n",
       "7                          NaN  \n",
       "8                          NaN  \n",
       "9                          NaN  "
      ]
     },
     "execution_count": 7,
     "metadata": {},
     "output_type": "execute_result"
    }
   ],
   "source": [
    "valid = pd.read_csv('/kaggle/input/saktmodel/valid_2.csv', usecols=[ 2, 3,4,5,8,9], dtype=dtype)\n",
    "valid = valid[valid.content_type_id == False]\n",
    "\n",
    "valid.head(10)"
   ]
  },
  {
   "cell_type": "code",
   "execution_count": 8,
   "metadata": {
    "execution": {
     "iopub.execute_input": "2020-12-14T13:14:27.201052Z",
     "iopub.status.busy": "2020-12-14T13:14:27.200272Z",
     "iopub.status.idle": "2020-12-14T13:14:27.203436Z",
     "shell.execute_reply": "2020-12-14T13:14:27.203986Z"
    },
    "papermill": {
     "duration": 0.052434,
     "end_time": "2020-12-14T13:14:27.204109",
     "exception": false,
     "start_time": "2020-12-14T13:14:27.151675",
     "status": "completed"
    },
    "tags": []
   },
   "outputs": [],
   "source": [
    "# valid = pd.DataFrame()\n",
    "# for i in range(2):\n",
    "#     last_records = train_df.drop_duplicates('user_id',keep='last')\n",
    "#     train_df = train_df[~train_df.index.isin(last_records.index)]\n",
    "#     valid = valid.append(last_records)"
   ]
  },
  {
   "cell_type": "code",
   "execution_count": 9,
   "metadata": {
    "execution": {
     "iopub.execute_input": "2020-12-14T13:14:27.299150Z",
     "iopub.status.busy": "2020-12-14T13:14:27.298419Z",
     "iopub.status.idle": "2020-12-14T13:14:27.303109Z",
     "shell.execute_reply": "2020-12-14T13:14:27.302544Z"
    },
    "papermill": {
     "duration": 0.053586,
     "end_time": "2020-12-14T13:14:27.303209",
     "exception": false,
     "start_time": "2020-12-14T13:14:27.249623",
     "status": "completed"
    },
    "tags": []
   },
   "outputs": [],
   "source": [
    "# train = pd.DataFrame()\n",
    "# for i in range(100):\n",
    "#     last_records = train_df.drop_duplicates('user_id',keep='last')\n",
    "#     train_df = train_df[~train_df.index.isin(last_records.index)]\n",
    "#     train = train.append(last_records)"
   ]
  },
  {
   "cell_type": "code",
   "execution_count": 10,
   "metadata": {
    "execution": {
     "iopub.execute_input": "2020-12-14T13:14:27.397993Z",
     "iopub.status.busy": "2020-12-14T13:14:27.397153Z",
     "iopub.status.idle": "2020-12-14T13:14:27.400973Z",
     "shell.execute_reply": "2020-12-14T13:14:27.400382Z"
    },
    "papermill": {
     "duration": 0.052777,
     "end_time": "2020-12-14T13:14:27.401073",
     "exception": false,
     "start_time": "2020-12-14T13:14:27.348296",
     "status": "completed"
    },
    "tags": []
   },
   "outputs": [],
   "source": [
    "# del train_df\n",
    "# gc.collect()"
   ]
  },
  {
   "cell_type": "code",
   "execution_count": 11,
   "metadata": {
    "execution": {
     "iopub.execute_input": "2020-12-14T13:14:27.499696Z",
     "iopub.status.busy": "2020-12-14T13:14:27.499062Z",
     "iopub.status.idle": "2020-12-14T13:14:27.517681Z",
     "shell.execute_reply": "2020-12-14T13:14:27.517029Z"
    },
    "papermill": {
     "duration": 0.071249,
     "end_time": "2020-12-14T13:14:27.517821",
     "exception": false,
     "start_time": "2020-12-14T13:14:27.446572",
     "status": "completed"
    },
    "tags": []
   },
   "outputs": [],
   "source": [
    "question_df = pd.read_csv('/kaggle/input/riiid-test-answer-prediction/questions.csv')\n",
    "question_df['part'].fillna(1, inplace=True)\n",
    "question_df['part'] = question_df['part']-1"
   ]
  },
  {
   "cell_type": "code",
   "execution_count": 12,
   "metadata": {
    "execution": {
     "iopub.execute_input": "2020-12-14T13:14:27.615673Z",
     "iopub.status.busy": "2020-12-14T13:14:27.614857Z",
     "iopub.status.idle": "2020-12-14T13:14:27.621590Z",
     "shell.execute_reply": "2020-12-14T13:14:27.620866Z"
    },
    "papermill": {
     "duration": 0.058756,
     "end_time": "2020-12-14T13:14:27.621719",
     "exception": false,
     "start_time": "2020-12-14T13:14:27.562963",
     "status": "completed"
    },
    "tags": []
   },
   "outputs": [
    {
     "name": "stdout",
     "output_type": "stream",
     "text": [
      "part is: [0 1 2 3 4 5 6]\n",
      "number part skills 7\n"
     ]
    }
   ],
   "source": [
    "part_skill = question_df['part'].unique()\n",
    "print(\"part is:\",part_skill)\n",
    "n_part_skill = len(part_skill)\n",
    "print(\"number part skills\", n_part_skill)"
   ]
  },
  {
   "cell_type": "code",
   "execution_count": null,
   "metadata": {
    "papermill": {
     "duration": 0.067905,
     "end_time": "2020-12-14T13:14:27.758570",
     "exception": false,
     "start_time": "2020-12-14T13:14:27.690665",
     "status": "completed"
    },
    "tags": []
   },
   "outputs": [],
   "source": []
  },
  {
   "cell_type": "code",
   "execution_count": 13,
   "metadata": {
    "execution": {
     "iopub.execute_input": "2020-12-14T13:14:27.908554Z",
     "iopub.status.busy": "2020-12-14T13:14:27.907508Z",
     "iopub.status.idle": "2020-12-14T13:14:27.914087Z",
     "shell.execute_reply": "2020-12-14T13:14:27.913243Z"
    },
    "papermill": {
     "duration": 0.087202,
     "end_time": "2020-12-14T13:14:27.914216",
     "exception": false,
     "start_time": "2020-12-14T13:14:27.827014",
     "status": "completed"
    },
    "tags": []
   },
   "outputs": [
    {
     "data": {
      "text/html": [
       "<div>\n",
       "<style scoped>\n",
       "    .dataframe tbody tr th:only-of-type {\n",
       "        vertical-align: middle;\n",
       "    }\n",
       "\n",
       "    .dataframe tbody tr th {\n",
       "        vertical-align: top;\n",
       "    }\n",
       "\n",
       "    .dataframe thead th {\n",
       "        text-align: right;\n",
       "    }\n",
       "</style>\n",
       "<table border=\"1\" class=\"dataframe\">\n",
       "  <thead>\n",
       "    <tr style=\"text-align: right;\">\n",
       "      <th></th>\n",
       "      <th>timestamp</th>\n",
       "      <th>user_id</th>\n",
       "      <th>content_id</th>\n",
       "      <th>content_type_id</th>\n",
       "      <th>answered_correctly</th>\n",
       "      <th>prior_question_elapsed_time</th>\n",
       "    </tr>\n",
       "  </thead>\n",
       "  <tbody>\n",
       "    <tr>\n",
       "      <th>0</th>\n",
       "      <td>0</td>\n",
       "      <td>841499248</td>\n",
       "      <td>6054</td>\n",
       "      <td>0</td>\n",
       "      <td>0</td>\n",
       "      <td>NaN</td>\n",
       "    </tr>\n",
       "    <tr>\n",
       "      <th>1</th>\n",
       "      <td>0</td>\n",
       "      <td>896388566</td>\n",
       "      <td>7900</td>\n",
       "      <td>0</td>\n",
       "      <td>1</td>\n",
       "      <td>NaN</td>\n",
       "    </tr>\n",
       "    <tr>\n",
       "      <th>2</th>\n",
       "      <td>0</td>\n",
       "      <td>1419221657</td>\n",
       "      <td>7900</td>\n",
       "      <td>0</td>\n",
       "      <td>0</td>\n",
       "      <td>NaN</td>\n",
       "    </tr>\n",
       "    <tr>\n",
       "      <th>3</th>\n",
       "      <td>0</td>\n",
       "      <td>896454545</td>\n",
       "      <td>5420</td>\n",
       "      <td>0</td>\n",
       "      <td>1</td>\n",
       "      <td>NaN</td>\n",
       "    </tr>\n",
       "    <tr>\n",
       "      <th>4</th>\n",
       "      <td>0</td>\n",
       "      <td>225221674</td>\n",
       "      <td>4526</td>\n",
       "      <td>0</td>\n",
       "      <td>1</td>\n",
       "      <td>NaN</td>\n",
       "    </tr>\n",
       "    <tr>\n",
       "      <th>5</th>\n",
       "      <td>0</td>\n",
       "      <td>1419550785</td>\n",
       "      <td>7900</td>\n",
       "      <td>0</td>\n",
       "      <td>1</td>\n",
       "      <td>NaN</td>\n",
       "    </tr>\n",
       "    <tr>\n",
       "      <th>6</th>\n",
       "      <td>0</td>\n",
       "      <td>1418591718</td>\n",
       "      <td>4876</td>\n",
       "      <td>0</td>\n",
       "      <td>0</td>\n",
       "      <td>NaN</td>\n",
       "    </tr>\n",
       "    <tr>\n",
       "      <th>7</th>\n",
       "      <td>0</td>\n",
       "      <td>572214480</td>\n",
       "      <td>7900</td>\n",
       "      <td>0</td>\n",
       "      <td>1</td>\n",
       "      <td>NaN</td>\n",
       "    </tr>\n",
       "    <tr>\n",
       "      <th>8</th>\n",
       "      <td>0</td>\n",
       "      <td>2004185079</td>\n",
       "      <td>5796</td>\n",
       "      <td>0</td>\n",
       "      <td>0</td>\n",
       "      <td>NaN</td>\n",
       "    </tr>\n",
       "    <tr>\n",
       "      <th>9</th>\n",
       "      <td>0</td>\n",
       "      <td>1419270263</td>\n",
       "      <td>4391</td>\n",
       "      <td>0</td>\n",
       "      <td>0</td>\n",
       "      <td>NaN</td>\n",
       "    </tr>\n",
       "  </tbody>\n",
       "</table>\n",
       "</div>"
      ],
      "text/plain": [
       "   timestamp     user_id  content_id  content_type_id  answered_correctly  \\\n",
       "0          0   841499248        6054                0                   0   \n",
       "1          0   896388566        7900                0                   1   \n",
       "2          0  1419221657        7900                0                   0   \n",
       "3          0   896454545        5420                0                   1   \n",
       "4          0   225221674        4526                0                   1   \n",
       "5          0  1419550785        7900                0                   1   \n",
       "6          0  1418591718        4876                0                   0   \n",
       "7          0   572214480        7900                0                   1   \n",
       "8          0  2004185079        5796                0                   0   \n",
       "9          0  1419270263        4391                0                   0   \n",
       "\n",
       "   prior_question_elapsed_time  \n",
       "0                          NaN  \n",
       "1                          NaN  \n",
       "2                          NaN  \n",
       "3                          NaN  \n",
       "4                          NaN  \n",
       "5                          NaN  \n",
       "6                          NaN  \n",
       "7                          NaN  \n",
       "8                          NaN  \n",
       "9                          NaN  "
      ]
     },
     "execution_count": 13,
     "metadata": {},
     "output_type": "execute_result"
    }
   ],
   "source": [
    "train_df.head(10)"
   ]
  },
  {
   "cell_type": "code",
   "execution_count": 14,
   "metadata": {
    "execution": {
     "iopub.execute_input": "2020-12-14T13:14:28.059384Z",
     "iopub.status.busy": "2020-12-14T13:14:28.058395Z",
     "iopub.status.idle": "2020-12-14T13:14:28.062469Z",
     "shell.execute_reply": "2020-12-14T13:14:28.061617Z"
    },
    "papermill": {
     "duration": 0.078171,
     "end_time": "2020-12-14T13:14:28.062593",
     "exception": false,
     "start_time": "2020-12-14T13:14:27.984422",
     "status": "completed"
    },
    "tags": []
   },
   "outputs": [],
   "source": [
    "# train_df.drop(['timestamp'],axis=1)"
   ]
  },
  {
   "cell_type": "code",
   "execution_count": 15,
   "metadata": {
    "execution": {
     "iopub.execute_input": "2020-12-14T13:14:28.213058Z",
     "iopub.status.busy": "2020-12-14T13:14:28.212420Z",
     "iopub.status.idle": "2020-12-14T13:14:28.217274Z",
     "shell.execute_reply": "2020-12-14T13:14:28.216755Z"
    },
    "papermill": {
     "duration": 0.083931,
     "end_time": "2020-12-14T13:14:28.217385",
     "exception": false,
     "start_time": "2020-12-14T13:14:28.133454",
     "status": "completed"
    },
    "tags": []
   },
   "outputs": [
    {
     "data": {
      "text/plain": [
       "31597701"
      ]
     },
     "execution_count": 15,
     "metadata": {},
     "output_type": "execute_result"
    }
   ],
   "source": [
    "len(train_df)"
   ]
  },
  {
   "cell_type": "code",
   "execution_count": 16,
   "metadata": {
    "execution": {
     "iopub.execute_input": "2020-12-14T13:14:28.315221Z",
     "iopub.status.busy": "2020-12-14T13:14:28.314558Z",
     "iopub.status.idle": "2020-12-14T13:14:28.362177Z",
     "shell.execute_reply": "2020-12-14T13:14:28.362737Z"
    },
    "papermill": {
     "duration": 0.097797,
     "end_time": "2020-12-14T13:14:28.362907",
     "exception": false,
     "start_time": "2020-12-14T13:14:28.265110",
     "status": "completed"
    },
    "tags": []
   },
   "outputs": [
    {
     "data": {
      "text/plain": [
       "24430.802356914817"
      ]
     },
     "execution_count": 16,
     "metadata": {},
     "output_type": "execute_result"
    }
   ],
   "source": [
    "elapsed_mean = train_df.prior_question_elapsed_time.mean()\n",
    "elapsed_mean"
   ]
  },
  {
   "cell_type": "code",
   "execution_count": 17,
   "metadata": {
    "execution": {
     "iopub.execute_input": "2020-12-14T13:14:28.459453Z",
     "iopub.status.busy": "2020-12-14T13:14:28.458866Z",
     "iopub.status.idle": "2020-12-14T13:14:28.510356Z",
     "shell.execute_reply": "2020-12-14T13:14:28.509757Z"
    },
    "papermill": {
     "duration": 0.100604,
     "end_time": "2020-12-14T13:14:28.510462",
     "exception": false,
     "start_time": "2020-12-14T13:14:28.409858",
     "status": "completed"
    },
    "tags": []
   },
   "outputs": [],
   "source": [
    "train_df['prior_question_elapsed_time'].fillna(elapsed_mean, inplace=True)\n"
   ]
  },
  {
   "cell_type": "code",
   "execution_count": 18,
   "metadata": {
    "execution": {
     "iopub.execute_input": "2020-12-14T13:14:28.610485Z",
     "iopub.status.busy": "2020-12-14T13:14:28.609611Z",
     "iopub.status.idle": "2020-12-14T13:14:28.611988Z",
     "shell.execute_reply": "2020-12-14T13:14:28.612478Z"
    },
    "papermill": {
     "duration": 0.054885,
     "end_time": "2020-12-14T13:14:28.612598",
     "exception": false,
     "start_time": "2020-12-14T13:14:28.557713",
     "status": "completed"
    },
    "tags": []
   },
   "outputs": [],
   "source": [
    "def get_elapsed_time(ela):\n",
    "    ela = ela // 1000\n",
    "    if ela > 300:\n",
    "        return 300\n",
    "    else:\n",
    "        return ela"
   ]
  },
  {
   "cell_type": "code",
   "execution_count": 19,
   "metadata": {
    "execution": {
     "iopub.execute_input": "2020-12-14T13:14:28.710071Z",
     "iopub.status.busy": "2020-12-14T13:14:28.709174Z",
     "iopub.status.idle": "2020-12-14T13:14:48.698716Z",
     "shell.execute_reply": "2020-12-14T13:14:48.699244Z"
    },
    "papermill": {
     "duration": 20.03962,
     "end_time": "2020-12-14T13:14:48.699386",
     "exception": false,
     "start_time": "2020-12-14T13:14:28.659766",
     "status": "completed"
    },
    "tags": []
   },
   "outputs": [],
   "source": [
    "train_df['prior_question_elapsed_time'] = train_df['prior_question_elapsed_time'].apply(lambda x: get_elapsed_time(x))"
   ]
  },
  {
   "cell_type": "code",
   "execution_count": 20,
   "metadata": {
    "execution": {
     "iopub.execute_input": "2020-12-14T13:14:48.803183Z",
     "iopub.status.busy": "2020-12-14T13:14:48.802469Z",
     "iopub.status.idle": "2020-12-14T13:14:54.093221Z",
     "shell.execute_reply": "2020-12-14T13:14:54.093846Z"
    },
    "papermill": {
     "duration": 5.345589,
     "end_time": "2020-12-14T13:14:54.093995",
     "exception": false,
     "start_time": "2020-12-14T13:14:48.748406",
     "status": "completed"
    },
    "tags": []
   },
   "outputs": [],
   "source": [
    "train_df = pd.merge(train_df, question_df, left_on='content_id',right_on='question_id',how='left')\n",
    "valid = pd.merge(valid, question_df, left_on='content_id',right_on='question_id',how='left')"
   ]
  },
  {
   "cell_type": "markdown",
   "metadata": {
    "papermill": {
     "duration": 0.048908,
     "end_time": "2020-12-14T13:14:54.193451",
     "exception": false,
     "start_time": "2020-12-14T13:14:54.144543",
     "status": "completed"
    },
    "tags": []
   },
   "source": [
    "## Preprocess"
   ]
  },
  {
   "cell_type": "code",
   "execution_count": 21,
   "metadata": {
    "execution": {
     "iopub.execute_input": "2020-12-14T13:14:54.296725Z",
     "iopub.status.busy": "2020-12-14T13:14:54.296039Z",
     "iopub.status.idle": "2020-12-14T13:14:54.300731Z",
     "shell.execute_reply": "2020-12-14T13:14:54.299933Z"
    },
    "papermill": {
     "duration": 0.058618,
     "end_time": "2020-12-14T13:14:54.300918",
     "exception": false,
     "start_time": "2020-12-14T13:14:54.242300",
     "status": "completed"
    },
    "tags": []
   },
   "outputs": [
    {
     "name": "stdout",
     "output_type": "stream",
     "text": [
      "number skills 13523\n"
     ]
    }
   ],
   "source": [
    "# skills = train_df[\"content_id\"].unique()\n",
    "n_skill = 13523\n",
    "print(\"number skills\", n_skill)"
   ]
  },
  {
   "cell_type": "code",
   "execution_count": 22,
   "metadata": {
    "execution": {
     "iopub.execute_input": "2020-12-14T13:14:54.404254Z",
     "iopub.status.busy": "2020-12-14T13:14:54.403427Z",
     "iopub.status.idle": "2020-12-14T13:14:54.407094Z",
     "shell.execute_reply": "2020-12-14T13:14:54.406565Z"
    },
    "papermill": {
     "duration": 0.056499,
     "end_time": "2020-12-14T13:14:54.407200",
     "exception": false,
     "start_time": "2020-12-14T13:14:54.350701",
     "status": "completed"
    },
    "tags": []
   },
   "outputs": [],
   "source": [
    "# part_skill = question_df['part'].unique()\n",
    "# n_part_skill = len(part_skill)\n",
    "# print(\"number part skills\", n_part_skill)\n",
    "# print(\"part is:\",part_skill)"
   ]
  },
  {
   "cell_type": "code",
   "execution_count": 23,
   "metadata": {
    "execution": {
     "iopub.execute_input": "2020-12-14T13:14:54.509660Z",
     "iopub.status.busy": "2020-12-14T13:14:54.508896Z",
     "iopub.status.idle": "2020-12-14T13:14:54.806643Z",
     "shell.execute_reply": "2020-12-14T13:14:54.807306Z"
    },
    "papermill": {
     "duration": 0.351728,
     "end_time": "2020-12-14T13:14:54.807476",
     "exception": false,
     "start_time": "2020-12-14T13:14:54.455748",
     "status": "completed"
    },
    "tags": []
   },
   "outputs": [
    {
     "name": "stdout",
     "output_type": "stream",
     "text": [
      "number ela skills 301\n",
      "ela is: [ 24.   5.  17.  83.  21.  51.  48.  29.  30.  69. 101.  34.  31.  55.\n",
      "  20.   6.  56.  42.  19.  27.  67.  36.  46.  25.  13.  26.  22.  50.\n",
      "  61.  70.  14.  47.  52.   0.  64.  76.  28.  86.  41.  15.  33.   1.\n",
      "  58.  23.  54.  82.  75.   3.  11.  59.   4.  45.  32.  37.   2.  16.\n",
      "  38.  74.  18.  71.  10.   9.  63.  81.   7.  60.  53.  62.  35.  72.\n",
      "  39.  65.  40.  68.  57.  43.  78.  12.  90.  49.  77.  93.   8.  87.\n",
      "  89.  44.  84. 121.  91.  79.  94. 109. 162. 300. 187. 188. 155. 170.\n",
      " 156. 160. 126. 100. 134. 217. 218.  73. 183. 216. 204.  80.  98. 108.\n",
      " 129.  96. 154. 148. 141. 241. 221. 124.  95. 202. 186. 180.  97. 127.\n",
      " 104.  85. 181. 208. 210. 172. 106. 266. 167. 232.  66. 115. 152. 143.\n",
      " 244.  88. 297. 193. 132. 133. 110. 116. 196. 215. 179. 219. 139. 228.\n",
      " 117. 105. 113.  99. 112. 102.  92. 225. 136. 174. 250. 159. 207. 138.\n",
      " 251. 213. 201. 175. 114. 199. 197. 192. 128. 107. 264. 246. 171. 125.\n",
      " 165. 120. 119. 149. 230. 135. 206. 111. 191. 158. 103. 209. 123. 131.\n",
      " 198. 286. 118. 157. 281. 194. 249. 223. 220. 146. 261. 214. 122. 203.\n",
      " 140. 277. 184. 130. 231. 161. 166. 173. 226. 147. 272. 242. 293. 276.\n",
      " 211. 282. 260. 200. 164. 137. 256. 145. 275. 178. 205. 176. 268. 294.\n",
      " 153. 235. 222. 168. 212. 262. 142. 258. 259. 195. 279. 238. 289. 227.\n",
      " 284. 150. 239. 288. 185. 254. 237. 240. 252. 189. 182. 257. 248. 224.\n",
      " 151. 265. 234. 190. 144. 229. 247. 169. 245. 298. 236. 274. 163. 233.\n",
      " 273. 292. 177. 267. 243. 296. 283. 299. 295. 255. 271. 280. 278. 253.\n",
      " 269. 291. 285. 270. 287. 263. 290.]\n"
     ]
    }
   ],
   "source": [
    "ela_skill = train_df['prior_question_elapsed_time'].unique()\n",
    "n_ela_skill = 301\n",
    "print(\"number ela skills\", n_ela_skill)\n",
    "print(\"ela is:\", ela_skill)"
   ]
  },
  {
   "cell_type": "code",
   "execution_count": null,
   "metadata": {
    "papermill": {
     "duration": 0.049058,
     "end_time": "2020-12-14T13:14:54.906001",
     "exception": false,
     "start_time": "2020-12-14T13:14:54.856943",
     "status": "completed"
    },
    "tags": []
   },
   "outputs": [],
   "source": []
  },
  {
   "cell_type": "code",
   "execution_count": null,
   "metadata": {
    "papermill": {
     "duration": 0.048413,
     "end_time": "2020-12-14T13:14:55.004395",
     "exception": false,
     "start_time": "2020-12-14T13:14:54.955982",
     "status": "completed"
    },
    "tags": []
   },
   "outputs": [],
   "source": []
  },
  {
   "cell_type": "code",
   "execution_count": 24,
   "metadata": {
    "execution": {
     "iopub.execute_input": "2020-12-14T13:14:55.107121Z",
     "iopub.status.busy": "2020-12-14T13:14:55.106357Z",
     "iopub.status.idle": "2020-12-14T13:14:55.626980Z",
     "shell.execute_reply": "2020-12-14T13:14:55.626279Z"
    },
    "papermill": {
     "duration": 0.574203,
     "end_time": "2020-12-14T13:14:55.627090",
     "exception": false,
     "start_time": "2020-12-14T13:14:55.052887",
     "status": "completed"
    },
    "tags": []
   },
   "outputs": [],
   "source": [
    "valid['prior_question_elapsed_time'].fillna(elapsed_mean, inplace=True)\n",
    "valid['prior_question_elapsed_time'] = valid['prior_question_elapsed_time'].apply(lambda x: get_elapsed_time(x))"
   ]
  },
  {
   "cell_type": "code",
   "execution_count": 25,
   "metadata": {
    "execution": {
     "iopub.execute_input": "2020-12-14T13:14:55.731188Z",
     "iopub.status.busy": "2020-12-14T13:14:55.730586Z",
     "iopub.status.idle": "2020-12-14T13:14:55.734654Z",
     "shell.execute_reply": "2020-12-14T13:14:55.734051Z"
    },
    "papermill": {
     "duration": 0.058248,
     "end_time": "2020-12-14T13:14:55.734752",
     "exception": false,
     "start_time": "2020-12-14T13:14:55.676504",
     "status": "completed"
    },
    "tags": []
   },
   "outputs": [
    {
     "data": {
      "text/plain": [
       "31597701"
      ]
     },
     "execution_count": 25,
     "metadata": {},
     "output_type": "execute_result"
    }
   ],
   "source": [
    "len(train_df)"
   ]
  },
  {
   "cell_type": "code",
   "execution_count": 26,
   "metadata": {
    "execution": {
     "iopub.execute_input": "2020-12-14T13:14:55.837892Z",
     "iopub.status.busy": "2020-12-14T13:14:55.837296Z",
     "iopub.status.idle": "2020-12-14T13:14:55.841179Z",
     "shell.execute_reply": "2020-12-14T13:14:55.841764Z"
    },
    "papermill": {
     "duration": 0.057978,
     "end_time": "2020-12-14T13:14:55.841908",
     "exception": false,
     "start_time": "2020-12-14T13:14:55.783930",
     "status": "completed"
    },
    "tags": []
   },
   "outputs": [
    {
     "data": {
      "text/plain": [
       "787225"
      ]
     },
     "execution_count": 26,
     "metadata": {},
     "output_type": "execute_result"
    }
   ],
   "source": [
    "len(valid)"
   ]
  },
  {
   "cell_type": "code",
   "execution_count": 27,
   "metadata": {
    "execution": {
     "iopub.execute_input": "2020-12-14T13:14:55.946884Z",
     "iopub.status.busy": "2020-12-14T13:14:55.946227Z",
     "iopub.status.idle": "2020-12-14T13:14:55.949713Z",
     "shell.execute_reply": "2020-12-14T13:14:55.949098Z"
    },
    "papermill": {
     "duration": 0.057701,
     "end_time": "2020-12-14T13:14:55.949835",
     "exception": false,
     "start_time": "2020-12-14T13:14:55.892134",
     "status": "completed"
    },
    "tags": []
   },
   "outputs": [],
   "source": [
    "# train_df = pd.merge(train_df, question_df, left_on='content_id',right_on='question_id',how='left')"
   ]
  },
  {
   "cell_type": "code",
   "execution_count": 28,
   "metadata": {
    "execution": {
     "iopub.execute_input": "2020-12-14T13:14:56.057687Z",
     "iopub.status.busy": "2020-12-14T13:14:56.057089Z",
     "iopub.status.idle": "2020-12-14T13:15:50.289576Z",
     "shell.execute_reply": "2020-12-14T13:15:50.288820Z"
    },
    "papermill": {
     "duration": 54.29008,
     "end_time": "2020-12-14T13:15:50.289726",
     "exception": false,
     "start_time": "2020-12-14T13:14:55.999646",
     "status": "completed"
    },
    "tags": []
   },
   "outputs": [],
   "source": [
    "group = train_df[['user_id', 'part','content_id', 'answered_correctly','prior_question_elapsed_time']].groupby('user_id').apply(lambda r: (\n",
    "            r['content_id'].values,\n",
    "            r['answered_correctly'].values,\n",
    "            r['prior_question_elapsed_time'].values,\n",
    "            r['part'].values))\n",
    "\n"
   ]
  },
  {
   "cell_type": "code",
   "execution_count": 29,
   "metadata": {
    "execution": {
     "iopub.execute_input": "2020-12-14T13:15:50.658011Z",
     "iopub.status.busy": "2020-12-14T13:15:50.531615Z",
     "iopub.status.idle": "2020-12-14T13:15:50.663145Z",
     "shell.execute_reply": "2020-12-14T13:15:50.662510Z"
    },
    "papermill": {
     "duration": 0.315015,
     "end_time": "2020-12-14T13:15:50.663258",
     "exception": false,
     "start_time": "2020-12-14T13:15:50.348243",
     "status": "completed"
    },
    "tags": []
   },
   "outputs": [
    {
     "data": {
      "text/plain": [
       "20"
      ]
     },
     "execution_count": 29,
     "metadata": {},
     "output_type": "execute_result"
    }
   ],
   "source": [
    "del train_df\n",
    "gc.collect()"
   ]
  },
  {
   "cell_type": "code",
   "execution_count": 30,
   "metadata": {
    "execution": {
     "iopub.execute_input": "2020-12-14T13:15:50.797533Z",
     "iopub.status.busy": "2020-12-14T13:15:50.792557Z",
     "iopub.status.idle": "2020-12-14T13:15:50.827052Z",
     "shell.execute_reply": "2020-12-14T13:15:50.826521Z"
    },
    "papermill": {
     "duration": 0.112616,
     "end_time": "2020-12-14T13:15:50.827160",
     "exception": false,
     "start_time": "2020-12-14T13:15:50.714544",
     "status": "completed"
    },
    "tags": []
   },
   "outputs": [
    {
     "data": {
      "text/plain": [
       "user_id\n",
       "115      ([5692, 5716, 128, 7860, 7922, 156, 51, 50, 78...\n",
       "124      ([7900, 7876, 175, 1278, 2063, 2065, 2064, 336...\n",
       "2746     ([5273, 758, 5976, 236, 404, 382, 405, 873, 53...\n",
       "5382     ([5000, 3944, 217, 5844, 5965, 4990, 5235, 605...\n",
       "8623     ([3915, 4750, 6456, 3968, 6104, 5738, 6435, 54...\n",
       "8701     ([3901, 6671, 4963, 6143, 8279, 3964, 4002, 75...\n",
       "12741    ([8750, 5952, 9133, 6016, 11183, 4424, 11280, ...\n",
       "13134    ([12137, 12119, 12124, 12215, 11916, 12194, 12...\n",
       "24418    ([3951, 8469, 6081, 9796, 6299, 4174, 4612, 47...\n",
       "24600    ([7900, 7876, 175, 1278, 2064, 2065, 2063, 336...\n",
       "dtype: object"
      ]
     },
     "execution_count": 30,
     "metadata": {},
     "output_type": "execute_result"
    }
   ],
   "source": [
    "group.head(10)"
   ]
  },
  {
   "cell_type": "code",
   "execution_count": null,
   "metadata": {
    "papermill": {
     "duration": 0.055758,
     "end_time": "2020-12-14T13:15:50.939134",
     "exception": false,
     "start_time": "2020-12-14T13:15:50.883376",
     "status": "completed"
    },
    "tags": []
   },
   "outputs": [],
   "source": []
  },
  {
   "cell_type": "code",
   "execution_count": 31,
   "metadata": {
    "execution": {
     "iopub.execute_input": "2020-12-14T13:15:51.056260Z",
     "iopub.status.busy": "2020-12-14T13:15:51.055483Z",
     "iopub.status.idle": "2020-12-14T13:15:51.058192Z",
     "shell.execute_reply": "2020-12-14T13:15:51.057486Z"
    },
    "papermill": {
     "duration": 0.062919,
     "end_time": "2020-12-14T13:15:51.058307",
     "exception": false,
     "start_time": "2020-12-14T13:15:50.995388",
     "status": "completed"
    },
    "tags": []
   },
   "outputs": [],
   "source": [
    "# num = 0\n",
    "# for user_id in group.index:\n",
    "#     nums = group[user_id]\n",
    "#     if len(nums) != 3:\n",
    "#         num += 1\n",
    "#         print('user_id is:{}'.format(user_id))\n",
    "# print(\"Total_num is:{}\".format(num))"
   ]
  },
  {
   "cell_type": "code",
   "execution_count": 32,
   "metadata": {
    "execution": {
     "iopub.execute_input": "2020-12-14T13:15:51.173539Z",
     "iopub.status.busy": "2020-12-14T13:15:51.172926Z",
     "iopub.status.idle": "2020-12-14T13:15:51.176526Z",
     "shell.execute_reply": "2020-12-14T13:15:51.175686Z"
    },
    "papermill": {
     "duration": 0.063243,
     "end_time": "2020-12-14T13:15:51.176652",
     "exception": false,
     "start_time": "2020-12-14T13:15:51.113409",
     "status": "completed"
    },
    "tags": []
   },
   "outputs": [],
   "source": [
    "# train_df.loc[train_df['user_id']==288641214]"
   ]
  },
  {
   "cell_type": "code",
   "execution_count": 33,
   "metadata": {
    "execution": {
     "iopub.execute_input": "2020-12-14T13:15:51.339734Z",
     "iopub.status.busy": "2020-12-14T13:15:51.338843Z",
     "iopub.status.idle": "2020-12-14T13:15:51.343574Z",
     "shell.execute_reply": "2020-12-14T13:15:51.342931Z"
    },
    "papermill": {
     "duration": 0.088319,
     "end_time": "2020-12-14T13:15:51.343673",
     "exception": false,
     "start_time": "2020-12-14T13:15:51.255354",
     "status": "completed"
    },
    "tags": []
   },
   "outputs": [],
   "source": [
    "# valid = pd.merge(valid, question_df, left_on='content_id',right_on='question_id',how='left')"
   ]
  },
  {
   "cell_type": "code",
   "execution_count": null,
   "metadata": {
    "papermill": {
     "duration": 0.053595,
     "end_time": "2020-12-14T13:15:51.450875",
     "exception": false,
     "start_time": "2020-12-14T13:15:51.397280",
     "status": "completed"
    },
    "tags": []
   },
   "outputs": [],
   "source": []
  },
  {
   "cell_type": "code",
   "execution_count": 34,
   "metadata": {
    "execution": {
     "iopub.execute_input": "2020-12-14T13:15:51.602469Z",
     "iopub.status.busy": "2020-12-14T13:15:51.601669Z",
     "iopub.status.idle": "2020-12-14T13:15:51.605052Z",
     "shell.execute_reply": "2020-12-14T13:15:51.604467Z"
    },
    "papermill": {
     "duration": 0.100401,
     "end_time": "2020-12-14T13:15:51.605153",
     "exception": false,
     "start_time": "2020-12-14T13:15:51.504752",
     "status": "completed"
    },
    "tags": []
   },
   "outputs": [],
   "source": [
    "import random\n",
    "random.seed(1)"
   ]
  },
  {
   "cell_type": "code",
   "execution_count": 35,
   "metadata": {
    "execution": {
     "iopub.execute_input": "2020-12-14T13:15:51.722234Z",
     "iopub.status.busy": "2020-12-14T13:15:51.721235Z",
     "iopub.status.idle": "2020-12-14T13:15:51.751989Z",
     "shell.execute_reply": "2020-12-14T13:15:51.752590Z"
    },
    "papermill": {
     "duration": 0.093582,
     "end_time": "2020-12-14T13:15:51.752734",
     "exception": false,
     "start_time": "2020-12-14T13:15:51.659152",
     "status": "completed"
    },
    "tags": []
   },
   "outputs": [],
   "source": [
    "class SAKTDataset(Dataset):\n",
    "    def __init__(self, group, n_skill,n_ela_skill, max_seq=MAX_SEQ): #HDKIM 100\n",
    "        super(SAKTDataset, self).__init__()\n",
    "        self.max_seq = max_seq\n",
    "        self.n_skill = n_skill\n",
    "        self.n_ela_skill = n_ela_skill\n",
    "        self.samples = group\n",
    "        \n",
    "#         self.user_ids = [x for x in group.index]\n",
    "        self.user_ids = []\n",
    "        for user_id in group.index:\n",
    "            q, qa,ela,part = group[user_id]\n",
    "            if len(q) < 2: #HDKIM 10\n",
    "                continue\n",
    "            self.user_ids.append(user_id)\n",
    "            \n",
    "            #HDKIM Memory reduction\n",
    "#             if len(q)>self.max_seq:\n",
    "#                 group[user_id] = (q[-self.max_seq:],qa[-self.max_seq:], ela[-self.max_seq:])\n",
    "\n",
    "    def __len__(self):\n",
    "        return len(self.user_ids)\n",
    "\n",
    "    def __getitem__(self, index):\n",
    "        user_id = self.user_ids[index]\n",
    "        q_, qa_,ela_,part_ = self.samples[user_id]\n",
    "        seq_len = len(q_)\n",
    "\n",
    "        q = np.zeros(self.max_seq, dtype=int)\n",
    "        qa = np.zeros(self.max_seq, dtype=int)\n",
    "        ela = np.zeros(self.max_seq, dtype=int)\n",
    "        part = np.zeros(self.max_seq, dtype=int)\n",
    "\n",
    "        if seq_len >= self.max_seq:\n",
    "            if random.random() >0.1:\n",
    "                start = random.randint(0, (seq_len-self.max_seq))\n",
    "                end = start + self.max_seq\n",
    "                q[:] = q_[start:end]\n",
    "                qa[:] = qa_[start:end]\n",
    "                ela[:] = ela_[start:end]\n",
    "                part[:] = part_[start:end]\n",
    "\n",
    "            else:   \n",
    "                q[:] = q_[-self.max_seq:]\n",
    "                qa[:] = qa_[-self.max_seq:]\n",
    "                ela[:] = ela_[-self.max_seq:]\n",
    "                part[:] = part_[-self.max_seq:]\n",
    "                \n",
    "        else:\n",
    "            if random.random() > 0.1:\n",
    "                start = 0\n",
    "                end = random.randint(2, seq_len)\n",
    "                seq_len = end -start\n",
    "                q[-seq_len:] = q_[0:seq_len]\n",
    "                qa[-seq_len:] = qa_[0:seq_len]\n",
    "                ela[-seq_len:] = ela_[0:seq_len]\n",
    "                part[-seq_len:] = part_[0:seq_len]\n",
    "                \n",
    "            else:\n",
    "                q[-seq_len:] = q_\n",
    "                qa[-seq_len:] = qa_\n",
    "                ela[-seq_len:] = ela_   \n",
    "                part[-seq_len:] = part_   \n",
    "            \n",
    "        target_id = q[1:]\n",
    "        label = qa[1:]\n",
    "        ela_target = ela[1:]\n",
    "        part_target = part[1:]\n",
    "\n",
    "        x = np.zeros(self.max_seq-1, dtype=int)\n",
    "        x = q[:-1].copy()\n",
    "        x += (qa[:-1] == 1) * self.n_skill\n",
    "        \n",
    "        ela_x = np.zeros(self.max_seq-1, dtype=int)\n",
    "        ela_x = ela[:-1].copy()\n",
    "        \n",
    "        part_x = np.zeros(self.max_seq-1, dtype=int)\n",
    "        part_x = part[:-1].copy()        \n",
    "        \n",
    "#         ela_x += (qa[:-1]==1) * self.n_ela_skill\n",
    "\n",
    "        return x, target_id,ela_x,ela_target,part_x,part_target,label\n",
    "    # x和target_id都是来自于q，存在一个错位，x比target_id提前一个位置\n",
    "    # 所以我们可以尝试将ela 也分为ela_x和ela_target_id"
   ]
  },
  {
   "cell_type": "code",
   "execution_count": 36,
   "metadata": {
    "execution": {
     "iopub.execute_input": "2020-12-14T13:15:51.860830Z",
     "iopub.status.busy": "2020-12-14T13:15:51.860193Z",
     "iopub.status.idle": "2020-12-14T13:15:54.562881Z",
     "shell.execute_reply": "2020-12-14T13:15:54.562299Z"
    },
    "papermill": {
     "duration": 2.757635,
     "end_time": "2020-12-14T13:15:54.562999",
     "exception": false,
     "start_time": "2020-12-14T13:15:51.805364",
     "status": "completed"
    },
    "tags": []
   },
   "outputs": [],
   "source": [
    "dataset = SAKTDataset(group, n_skill, n_ela_skill)\n",
    "dataloader = DataLoader(dataset, batch_size=2048, shuffle=True,num_workers=8)\n",
    "\n",
    "item = dataset.__getitem__(5)\n"
   ]
  },
  {
   "cell_type": "code",
   "execution_count": 37,
   "metadata": {
    "execution": {
     "iopub.execute_input": "2020-12-14T13:15:54.674971Z",
     "iopub.status.busy": "2020-12-14T13:15:54.674054Z",
     "iopub.status.idle": "2020-12-14T13:15:54.678173Z",
     "shell.execute_reply": "2020-12-14T13:15:54.677533Z"
    },
    "papermill": {
     "duration": 0.062365,
     "end_time": "2020-12-14T13:15:54.678276",
     "exception": false,
     "start_time": "2020-12-14T13:15:54.615911",
     "status": "completed"
    },
    "tags": []
   },
   "outputs": [],
   "source": [
    "# print(len(item[0]))\n",
    "# print(len(item[1]))\n",
    "# print(len(item[2]))\n",
    "# print(len(item[3]))\n",
    "# print(len(item[4]))\n"
   ]
  },
  {
   "cell_type": "code",
   "execution_count": 38,
   "metadata": {
    "execution": {
     "iopub.execute_input": "2020-12-14T13:15:54.789253Z",
     "iopub.status.busy": "2020-12-14T13:15:54.788504Z",
     "iopub.status.idle": "2020-12-14T13:15:54.791446Z",
     "shell.execute_reply": "2020-12-14T13:15:54.791936Z"
    },
    "papermill": {
     "duration": 0.060426,
     "end_time": "2020-12-14T13:15:54.792084",
     "exception": false,
     "start_time": "2020-12-14T13:15:54.731658",
     "status": "completed"
    },
    "tags": []
   },
   "outputs": [],
   "source": [
    "# print(item[0])\n",
    "# print(item[1])\n",
    "# print(item[2])\n",
    "# print(item[3])\n",
    "# print(item[4])"
   ]
  },
  {
   "cell_type": "code",
   "execution_count": 39,
   "metadata": {
    "execution": {
     "iopub.execute_input": "2020-12-14T13:15:54.913511Z",
     "iopub.status.busy": "2020-12-14T13:15:54.908398Z",
     "iopub.status.idle": "2020-12-14T13:15:54.928152Z",
     "shell.execute_reply": "2020-12-14T13:15:54.927470Z"
    },
    "papermill": {
     "duration": 0.082191,
     "end_time": "2020-12-14T13:15:54.928259",
     "exception": false,
     "start_time": "2020-12-14T13:15:54.846068",
     "status": "completed"
    },
    "tags": []
   },
   "outputs": [],
   "source": [
    "class ValidDataset(Dataset):\n",
    "    def __init__(self, samples, test_df, n_skill,n_ela_skill, max_seq=MAX_SEQ): #HDKIM 100\n",
    "        super(ValidDataset, self).__init__()\n",
    "        self.samples = samples\n",
    "        self.user_ids = [x for x in test_df[\"user_id\"].unique()]\n",
    "        self.test_df = test_df\n",
    "        self.n_ela_skill = n_ela_skill\n",
    "        self.n_skill = n_skill\n",
    "        self.max_seq = max_seq\n",
    "\n",
    "    def __len__(self):\n",
    "        return self.test_df.shape[0]\n",
    "\n",
    "    def __getitem__(self, index):\n",
    "        test_info = self.test_df.iloc[index]\n",
    "\n",
    "        user_id = test_info[\"user_id\"]\n",
    "        target_id = test_info[\"content_id\"]\n",
    "        ela_target_id = test_info[\"prior_question_elapsed_time\"]\n",
    "        part_target_id = test_info[\"part\"]\n",
    "        \n",
    "        label = test_info['answered_correctly']\n",
    "\n",
    "        q = np.zeros(self.max_seq, dtype=int)\n",
    "        qa = np.zeros(self.max_seq, dtype=int)\n",
    "        ela = np.zeros(self.max_seq, dtype=int)\n",
    "        part = np.zeros(self.max_seq, dtype=int)\n",
    "\n",
    "        if user_id in self.samples.index:\n",
    "            q_, qa_, ela_, part_ = self.samples[user_id]\n",
    "            \n",
    "            seq_len = len(q_)\n",
    "\n",
    "            if seq_len >= self.max_seq:\n",
    "                q = q_[-self.max_seq:]\n",
    "                qa = qa_[-self.max_seq:]\n",
    "                ela = ela_[-self.max_seq:]\n",
    "                part = part_[-self.max_seq:]\n",
    "                \n",
    "            else:\n",
    "                q[-seq_len:] = q_\n",
    "                qa[-seq_len:] = qa_       \n",
    "                ela[-seq_len:] = ela_\n",
    "                part[-seq_len:] = part_\n",
    "        \n",
    "        x = np.zeros(self.max_seq-1, dtype=int)\n",
    "        x = q[1:].copy()\n",
    "        x += (qa[1:] == 1) * self.n_skill\n",
    "        \n",
    "        questions = np.append(q[2:], [target_id])\n",
    "        \n",
    "        ela_x = np.zeros(self.max_seq-1, dtype=int)\n",
    "        ela_x = ela[1:].copy()\n",
    "#         ela_x += (qa[1:] == 1) * self.n_ela_skill\n",
    "        \n",
    "        ela_target = np.append(ela[2:],[ela_target_id])\n",
    "        \n",
    "        part_x = np.zeros(self.max_seq-1, dtype=int)\n",
    "        part_x = part[1:].copy()\n",
    "        \n",
    "        part_target = np.append(part[2:],[part_target_id])\n",
    "\n",
    "#         return x, questions, ela_x, ela_target, np.array([label])\n",
    "        return torch.LongTensor(x), torch.LongTensor(questions),\\\n",
    "            torch.LongTensor(ela_x), torch.LongTensor(ela_target),\\\n",
    "            torch.LongTensor(part_x), torch.LongTensor(part_target),\\\n",
    "            torch.FloatTensor(np.array([label]))"
   ]
  },
  {
   "cell_type": "code",
   "execution_count": 40,
   "metadata": {
    "execution": {
     "iopub.execute_input": "2020-12-14T13:15:55.041631Z",
     "iopub.status.busy": "2020-12-14T13:15:55.041010Z",
     "iopub.status.idle": "2020-12-14T13:15:55.097842Z",
     "shell.execute_reply": "2020-12-14T13:15:55.097127Z"
    },
    "papermill": {
     "duration": 0.115541,
     "end_time": "2020-12-14T13:15:55.097952",
     "exception": false,
     "start_time": "2020-12-14T13:15:54.982411",
     "status": "completed"
    },
    "tags": []
   },
   "outputs": [],
   "source": [
    "test_dataset = ValidDataset(group, valid, n_skill, n_ela_skill)\n",
    "test_dataloader = DataLoader(test_dataset, batch_size=3000, shuffle=False,num_workers=8)"
   ]
  },
  {
   "cell_type": "code",
   "execution_count": null,
   "metadata": {
    "papermill": {
     "duration": 0.05362,
     "end_time": "2020-12-14T13:15:55.207004",
     "exception": false,
     "start_time": "2020-12-14T13:15:55.153384",
     "status": "completed"
    },
    "tags": []
   },
   "outputs": [],
   "source": []
  },
  {
   "cell_type": "code",
   "execution_count": null,
   "metadata": {
    "papermill": {
     "duration": 0.053172,
     "end_time": "2020-12-14T13:15:55.313504",
     "exception": false,
     "start_time": "2020-12-14T13:15:55.260332",
     "status": "completed"
    },
    "tags": []
   },
   "outputs": [],
   "source": []
  },
  {
   "cell_type": "markdown",
   "metadata": {
    "papermill": {
     "duration": 0.054045,
     "end_time": "2020-12-14T13:15:55.422422",
     "exception": false,
     "start_time": "2020-12-14T13:15:55.368377",
     "status": "completed"
    },
    "tags": []
   },
   "source": [
    "## Define model"
   ]
  },
  {
   "cell_type": "code",
   "execution_count": 41,
   "metadata": {
    "execution": {
     "iopub.execute_input": "2020-12-14T13:15:55.547155Z",
     "iopub.status.busy": "2020-12-14T13:15:55.541716Z",
     "iopub.status.idle": "2020-12-14T13:15:55.567150Z",
     "shell.execute_reply": "2020-12-14T13:15:55.567642Z"
    },
    "papermill": {
     "duration": 0.090475,
     "end_time": "2020-12-14T13:15:55.567817",
     "exception": false,
     "start_time": "2020-12-14T13:15:55.477342",
     "status": "completed"
    },
    "tags": []
   },
   "outputs": [],
   "source": [
    "class FFN(nn.Module):\n",
    "    def __init__(self, state_size=200):\n",
    "        super(FFN, self).__init__()\n",
    "        self.state_size = state_size\n",
    "\n",
    "        self.lr1 = nn.Linear(state_size, state_size)\n",
    "        self.relu = nn.ReLU()\n",
    "        self.lr2 = nn.Linear(state_size, state_size)\n",
    "        self.dropout = nn.Dropout(0.2)\n",
    "    \n",
    "    def forward(self, x):\n",
    "        x = self.lr1(x)\n",
    "        x = self.relu(x)\n",
    "        x = self.lr2(x)\n",
    "        return self.dropout(x)\n",
    "\n",
    "def future_mask(seq_length):\n",
    "    future_mask = np.triu(np.ones((seq_length, seq_length)), k=1).astype('bool')\n",
    "    return torch.from_numpy(future_mask)\n",
    "\n",
    "\n",
    "class SAKTModel(nn.Module):\n",
    "    def __init__(self, n_skill,n_ela_skill,n_part_skill, max_seq=MAX_SEQ, embed_dim=128): #HDKIM 100\n",
    "        super(SAKTModel, self).__init__()\n",
    "        self.n_skill = n_skill\n",
    "        self.n_ela_skill = n_ela_skill\n",
    "        self.n_part_skill = n_part_skill\n",
    "        self.embed_dim = embed_dim\n",
    "\n",
    "        self.embedding = nn.Embedding(2*n_skill+1, embed_dim)\n",
    "        self.pos_embedding = nn.Embedding(max_seq-1, embed_dim)\n",
    "        self.e_embedding = nn.Embedding(n_skill+1, embed_dim)\n",
    "        \n",
    "        self.ela_ans_embedding = nn.Embedding(2*n_ela_skill+1, embed_dim)\n",
    "        self.ela_embedding = nn.Embedding(n_ela_skill+1, embed_dim)\n",
    "\n",
    "        self.part_embedding = nn.Embedding(n_part_skill+1, embed_dim)\n",
    "        \n",
    "        self.multi_att = nn.MultiheadAttention(embed_dim=embed_dim, num_heads=8, dropout=0.2)\n",
    "\n",
    "        self.dropout = nn.Dropout(0.2)\n",
    "        self.layer_normal = nn.LayerNorm(embed_dim) \n",
    "\n",
    "        self.ffn = FFN(embed_dim)\n",
    "        self.pred = nn.Linear(embed_dim, 1)\n",
    "    \n",
    "    def forward(self, x, question_ids, ela_x, ela_target_ids, part_x, part_target_ids):\n",
    "        device = x.device   \n",
    "#         print(\"x shape is:{}\".format(x.shape))\n",
    "#         print(\"x is:{}\\n\".format(x))\n",
    "        x = self.embedding(x)\n",
    "#         print(\"x.size(1) is:{}\".format(x.size(1)))\n",
    "        pos_id = torch.arange(x.size(1)).unsqueeze(0).to(device)\n",
    "        \n",
    "        pos_x = self.pos_embedding(pos_id)\n",
    "#         ela_x = self.ela_ans_embedding(ela_x)\n",
    "        ela_x = self.ela_embedding(ela_x)\n",
    "        part_x = self.part_embedding(part_x)\n",
    "        \n",
    "        x = x + ela_x + pos_x + part_x\n",
    "\n",
    "        e = self.e_embedding(question_ids)\n",
    "        ela = self.ela_embedding(ela_target_ids)\n",
    "        part = self.part_embedding(part_target_ids)\n",
    "        e = e + ela + part\n",
    "        \n",
    "        x = x.permute(1, 0, 2) # x: [bs, s_len, embed] => [s_len, bs, embed]\n",
    "        e = e.permute(1, 0, 2)\n",
    "        att_mask = future_mask(x.size(0)).to(device)\n",
    "        att_output, att_weight = self.multi_att(e, x, x, attn_mask=att_mask)\n",
    "        # 这个att_output其实是x的一个attention表示\n",
    "        att_output = self.layer_normal(att_output + e)\n",
    "        att_output = att_output.permute(1, 0, 2) # att_output: [s_len, bs, embed] => [bs, s_len, embed]\n",
    "\n",
    "        x = self.ffn(att_output)\n",
    "        x = self.layer_normal(x + att_output)\n",
    "        x = self.pred(x)\n",
    "\n",
    "        return x.squeeze(-1), att_weight"
   ]
  },
  {
   "cell_type": "code",
   "execution_count": 42,
   "metadata": {
    "execution": {
     "iopub.execute_input": "2020-12-14T13:15:55.681390Z",
     "iopub.status.busy": "2020-12-14T13:15:55.680685Z",
     "iopub.status.idle": "2020-12-14T13:15:55.785010Z",
     "shell.execute_reply": "2020-12-14T13:15:55.785539Z"
    },
    "papermill": {
     "duration": 0.164769,
     "end_time": "2020-12-14T13:15:55.785671",
     "exception": false,
     "start_time": "2020-12-14T13:15:55.620902",
     "status": "completed"
    },
    "tags": []
   },
   "outputs": [
    {
     "data": {
      "text/plain": [
       "BCEWithLogitsLoss()"
      ]
     },
     "execution_count": 42,
     "metadata": {},
     "output_type": "execute_result"
    }
   ],
   "source": [
    "device = torch.device(\"cuda:0\" if torch.cuda.is_available() else \"cpu\")\n",
    "# device = xm.xla_device()\n",
    "\n",
    "model = SAKTModel(n_skill,n_ela_skill,n_part_skill, embed_dim=128)\n",
    "# optimizer = torch.optim.SGD(model.parameters(), lr=1e-3, momentum=0.99, weight_decay=0.005)\n",
    "optimizer = torch.optim.Adam(model.parameters(), lr=1e-3)\n",
    "criterion = nn.BCEWithLogitsLoss()\n",
    "\n",
    "model.to(device)\n",
    "criterion.to(device)"
   ]
  },
  {
   "cell_type": "code",
   "execution_count": 43,
   "metadata": {
    "execution": {
     "iopub.execute_input": "2020-12-14T13:15:55.896613Z",
     "iopub.status.busy": "2020-12-14T13:15:55.895743Z",
     "iopub.status.idle": "2020-12-14T13:15:55.909868Z",
     "shell.execute_reply": "2020-12-14T13:15:55.910568Z"
    },
    "papermill": {
     "duration": 0.071647,
     "end_time": "2020-12-14T13:15:55.910725",
     "exception": false,
     "start_time": "2020-12-14T13:15:55.839078",
     "status": "completed"
    },
    "tags": []
   },
   "outputs": [],
   "source": [
    "def train_epoch(model, train_iterator, optim, criterion, device=\"cpu\"):\n",
    "    model.train()\n",
    "\n",
    "    train_loss = []\n",
    "    num_corrects = 0\n",
    "    num_total = 0\n",
    "    labels = []\n",
    "    outs = []\n",
    "\n",
    "    tbar = tqdm(train_iterator)\n",
    "    for item in tbar:\n",
    "        x = item[0].to(device).long()\n",
    "        target_id = item[1].to(device).long()\n",
    "        ela_x = item[2].to(device).long()\n",
    "        ela_target = item[3].to(device).long()\n",
    "        part_x = item[4].to(device).long()\n",
    "        part_target = item[5].to(device).long()  \n",
    "        \n",
    "        label = item[6].to(device).float()\n",
    "\n",
    "        optim.zero_grad()\n",
    "        output, atten_weight = model(x, target_id, ela_x, ela_target, part_x, part_target)\n",
    "        loss = criterion(output, label)\n",
    "        loss.backward()\n",
    "        optim.step()\n",
    "#         xm.mark_step()\n",
    "        train_loss.append(loss.item())\n",
    "\n",
    "        output = output[:, -1]\n",
    "        label = label[:, -1] \n",
    "        pred = (torch.sigmoid(output) >= 0.5).long()\n",
    "        \n",
    "        num_corrects += (pred == label).sum().item()\n",
    "        num_total += len(label)\n",
    "\n",
    "        labels.extend(label.view(-1).data.cpu().numpy())\n",
    "        outs.extend(output.view(-1).data.cpu().numpy())\n",
    "\n",
    "        tbar.set_description('loss - {:.4f}'.format(loss))\n",
    "\n",
    "    acc = num_corrects / num_total\n",
    "    auc = roc_auc_score(labels, outs)\n",
    "    loss = np.mean(train_loss)\n",
    "\n",
    "    return loss, acc, auc"
   ]
  },
  {
   "cell_type": "code",
   "execution_count": 44,
   "metadata": {
    "execution": {
     "iopub.execute_input": "2020-12-14T13:15:56.075720Z",
     "iopub.status.busy": "2020-12-14T13:15:56.074907Z",
     "iopub.status.idle": "2020-12-14T13:15:56.088919Z",
     "shell.execute_reply": "2020-12-14T13:15:56.089453Z"
    },
    "papermill": {
     "duration": 0.098659,
     "end_time": "2020-12-14T13:15:56.089596",
     "exception": false,
     "start_time": "2020-12-14T13:15:55.990937",
     "status": "completed"
    },
    "tags": []
   },
   "outputs": [],
   "source": [
    "def evaluate_epoch(model, test_dataloader, criterion, device=\"cpu\"):\n",
    "    model.eval()\n",
    "    eval_loss = []\n",
    "    num_corrects = 0\n",
    "    num_total = 0\n",
    "    labels = []\n",
    "    outs = []\n",
    "    \n",
    "    with torch.no_grad():\n",
    "        for item in tqdm(test_dataloader):\n",
    "            x = item[0].to(device).long()\n",
    "            target_id = item[1].to(device).long()\n",
    "            ela_x = item[2].to(device).long()\n",
    "            ela_target = item[3].to(device).long()\n",
    "            part_x = item[4].to(device).long()\n",
    "            part_target = item[5].to(device).long()\n",
    "            \n",
    "            label = item[6].to(device).float()\n",
    "#             print(\"In evaluation x shape is:{}\\t taret_id shape is:{}\\t label shape is:{}\".format(x.shape, target_id.shape,label.shape))\n",
    "            \n",
    "            output, atten_weight = model(x, target_id, ela_x, ela_target, part_x, part_target)\n",
    "            \n",
    "            output_loss = output[:, -1:]\n",
    "#             print(\"Output shape is:{}\\tlabel shape is:{}\".format(output.shape, label.shape))\n",
    "            loss = criterion(output_loss, label)\n",
    "            eval_loss.append(loss.item())\n",
    "            \n",
    "            output = output[:,-1]\n",
    "            label = label[:, -1] \n",
    "            pred = (torch.sigmoid(output) >= 0.5).long()\n",
    "            \n",
    "            num_corrects += (pred == label).sum().item()\n",
    "            num_total += len(label)\n",
    "\n",
    "            labels.extend(label.view(-1).data.cpu().numpy())\n",
    "            outs.extend(output.view(-1).data.cpu().numpy())\n",
    "\n",
    "    acc = num_corrects / num_total\n",
    "#     print(\"In evaluate labels is:{}\\t outs is:{}\\t\".format(labels, outs))\n",
    "\n",
    "    auc = roc_auc_score(labels, outs)\n",
    "#     auc = 0\n",
    "\n",
    "    loss = np.mean(eval_loss)   \n",
    "    \n",
    "    return loss, acc, auc"
   ]
  },
  {
   "cell_type": "code",
   "execution_count": 45,
   "metadata": {
    "execution": {
     "iopub.execute_input": "2020-12-14T13:15:56.202010Z",
     "iopub.status.busy": "2020-12-14T13:15:56.201352Z",
     "iopub.status.idle": "2020-12-14T13:15:56.204652Z",
     "shell.execute_reply": "2020-12-14T13:15:56.205184Z"
    },
    "papermill": {
     "duration": 0.060752,
     "end_time": "2020-12-14T13:15:56.205303",
     "exception": false,
     "start_time": "2020-12-14T13:15:56.144551",
     "status": "completed"
    },
    "tags": []
   },
   "outputs": [],
   "source": [
    "# epochs = 60\n",
    "# best_auc = 0.0\n",
    "# for epoch in range(epochs):\n",
    "#     loss, acc, auc = train_epoch(model, dataloader, optimizer, criterion, device)\n",
    "#     print(\"epoch - {} train_loss - {:.2f} acc - {:.3f} auc - {:.3f}\".format(epoch, loss, acc, auc))\n",
    "    \n",
    "#     if epoch %10 == 0 or epoch == 59:\n",
    "#         eval_loss, eval_acc, eval_auc = evaluate_epoch(model, test_dataloader, criterion, device)\n",
    "#         print(\"epoch - {} eval_loss - {:.2f} eval acc - {:.3f} eval auc - {:.3f}\".format(epoch, eval_loss, eval_acc, eval_auc))\n",
    "#         if best_auc < eval_auc: \n",
    "#             best_auc = eval_auc\n",
    "#             torch.save(model.state_dict(),'best_model.pt')\n",
    "#         xm.save(model.state_dict(),'best_model.pt')"
   ]
  },
  {
   "cell_type": "code",
   "execution_count": null,
   "metadata": {
    "papermill": {
     "duration": 0.05466,
     "end_time": "2020-12-14T13:15:56.313734",
     "exception": false,
     "start_time": "2020-12-14T13:15:56.259074",
     "status": "completed"
    },
    "tags": []
   },
   "outputs": [],
   "source": []
  },
  {
   "cell_type": "code",
   "execution_count": 46,
   "metadata": {
    "execution": {
     "iopub.execute_input": "2020-12-14T13:15:56.426114Z",
     "iopub.status.busy": "2020-12-14T13:15:56.425503Z",
     "iopub.status.idle": "2020-12-14T13:15:56.508574Z",
     "shell.execute_reply": "2020-12-14T13:15:56.509085Z"
    },
    "papermill": {
     "duration": 0.140002,
     "end_time": "2020-12-14T13:15:56.509243",
     "exception": false,
     "start_time": "2020-12-14T13:15:56.369241",
     "status": "completed"
    },
    "tags": []
   },
   "outputs": [
    {
     "data": {
      "text/plain": [
       "60"
      ]
     },
     "execution_count": 46,
     "metadata": {},
     "output_type": "execute_result"
    }
   ],
   "source": [
    "import gc\n",
    "del dataset\n",
    "gc.collect()"
   ]
  },
  {
   "cell_type": "markdown",
   "metadata": {
    "papermill": {
     "duration": 0.054792,
     "end_time": "2020-12-14T13:15:56.618762",
     "exception": false,
     "start_time": "2020-12-14T13:15:56.563970",
     "status": "completed"
    },
    "tags": []
   },
   "source": [
    "## Test"
   ]
  },
  {
   "cell_type": "code",
   "execution_count": 47,
   "metadata": {
    "execution": {
     "iopub.execute_input": "2020-12-14T13:15:56.732723Z",
     "iopub.status.busy": "2020-12-14T13:15:56.732090Z",
     "iopub.status.idle": "2020-12-14T13:15:56.751298Z",
     "shell.execute_reply": "2020-12-14T13:15:56.751853Z"
    },
    "papermill": {
     "duration": 0.077965,
     "end_time": "2020-12-14T13:15:56.751992",
     "exception": false,
     "start_time": "2020-12-14T13:15:56.674027",
     "status": "completed"
    },
    "tags": []
   },
   "outputs": [],
   "source": [
    "class TestDataset(Dataset):\n",
    "    def __init__(self, samples, test_df, n_skill, n_ela_skill,n_part_skill,max_seq=MAX_SEQ): #HDKIM 100\n",
    "        super(TestDataset, self).__init__()\n",
    "        self.samples = samples\n",
    "        self.user_ids = [x for x in test_df[\"user_id\"].unique()]\n",
    "        self.test_df = test_df\n",
    "        self.n_ela_skill = n_ela_skill\n",
    "        self.n_part_skill = n_part_skill\n",
    "        self.n_skill = n_skill\n",
    "        self.max_seq = max_seq\n",
    "\n",
    "    def __len__(self):\n",
    "        return self.test_df.shape[0]\n",
    "\n",
    "    def __getitem__(self, index):\n",
    "        test_info = self.test_df.iloc[index]\n",
    "\n",
    "        user_id = test_info[\"user_id\"]\n",
    "        target_id = test_info[\"content_id\"]\n",
    "        ela_target_id = test_info[\"prior_question_elapsed_time\"]\n",
    "        part_target_id = test_info[\"part\"]\n",
    "\n",
    "        q = np.zeros(self.max_seq, dtype=int)\n",
    "        qa = np.zeros(self.max_seq, dtype=int)\n",
    "        ela = np.zeros(self.max_seq, dtype=int)\n",
    "        part = np.zeros(self.max_seq, dtype=int)\n",
    "\n",
    "        if user_id in self.samples.index:\n",
    "#             print(\"self.samples[user_id] is:{}\\n length is:{}\".format(\n",
    "#                 self.samples[user_id], len(self.samples[user_id])))\n",
    "            q_, qa_, ela_,part_ = self.samples[user_id]\n",
    "            seq_len = len(q_)\n",
    "\n",
    "            if seq_len >= self.max_seq:\n",
    "                q = q_[-self.max_seq:]\n",
    "                qa = qa_[-self.max_seq:]\n",
    "                ela = ela_[-self.max_seq:]\n",
    "                part = part_[-self.max_seq:]\n",
    "\n",
    "            else:\n",
    "                q[-seq_len:] = q_\n",
    "                qa[-seq_len:] = qa_          \n",
    "                ela[-seq_len:] = ela_\n",
    "                part[-seq_len:] = part_\n",
    "\n",
    "                \n",
    "        x = np.zeros(self.max_seq-1, dtype=int)\n",
    "        x = q[1:].copy()\n",
    "        x += (qa[1:] == 1) * self.n_skill\n",
    "        \n",
    "        questions = np.append(q[2:], [target_id])\n",
    "        \n",
    "        ela_x = np.zeros(self.max_seq-1, dtype=int)\n",
    "        ela_x = ela[1:].copy()\n",
    "#         ela_x += (qa[1:] == 1) * self.n_ela_skill\n",
    "        \n",
    "        ela_target = np.append(ela[2:],[ela_target_id])  \n",
    "        \n",
    "        part_x = np.zeros(self.max_seq-1, dtype=int)\n",
    "        part_x = part[1:].copy()\n",
    "        \n",
    "        part_target = np.append(part[2:],[part_target_id])        \n",
    "#         return x, questions,ela_x, ela_target\n",
    "        return torch.LongTensor(x), torch.LongTensor(questions),\\\n",
    "            torch.LongTensor(ela_x), torch.LongTensor(ela_target),\\\n",
    "            torch.LongTensor(part_x), torch.LongTensor(part_target)\n",
    "\n",
    "        "
   ]
  },
  {
   "cell_type": "code",
   "execution_count": null,
   "metadata": {
    "papermill": {
     "duration": 0.054526,
     "end_time": "2020-12-14T13:15:56.861202",
     "exception": false,
     "start_time": "2020-12-14T13:15:56.806676",
     "status": "completed"
    },
    "tags": []
   },
   "outputs": [],
   "source": []
  },
  {
   "cell_type": "code",
   "execution_count": 48,
   "metadata": {
    "execution": {
     "iopub.execute_input": "2020-12-14T13:15:56.975886Z",
     "iopub.status.busy": "2020-12-14T13:15:56.975240Z",
     "iopub.status.idle": "2020-12-14T13:15:57.228393Z",
     "shell.execute_reply": "2020-12-14T13:15:57.227808Z"
    },
    "papermill": {
     "duration": 0.31295,
     "end_time": "2020-12-14T13:15:57.228514",
     "exception": false,
     "start_time": "2020-12-14T13:15:56.915564",
     "status": "completed"
    },
    "tags": []
   },
   "outputs": [
    {
     "data": {
      "text/plain": [
       "SAKTModel(\n",
       "  (embedding): Embedding(27047, 128)\n",
       "  (pos_embedding): Embedding(159, 128)\n",
       "  (e_embedding): Embedding(13524, 128)\n",
       "  (ela_ans_embedding): Embedding(603, 128)\n",
       "  (ela_embedding): Embedding(302, 128)\n",
       "  (part_embedding): Embedding(8, 128)\n",
       "  (multi_att): MultiheadAttention(\n",
       "    (out_proj): _LinearWithBias(in_features=128, out_features=128, bias=True)\n",
       "  )\n",
       "  (dropout): Dropout(p=0.2, inplace=False)\n",
       "  (layer_normal): LayerNorm((128,), eps=1e-05, elementwise_affine=True)\n",
       "  (ffn): FFN(\n",
       "    (lr1): Linear(in_features=128, out_features=128, bias=True)\n",
       "    (relu): ReLU()\n",
       "    (lr2): Linear(in_features=128, out_features=128, bias=True)\n",
       "    (dropout): Dropout(p=0.2, inplace=False)\n",
       "  )\n",
       "  (pred): Linear(in_features=128, out_features=1, bias=True)\n",
       ")"
      ]
     },
     "execution_count": 48,
     "metadata": {},
     "output_type": "execute_result"
    }
   ],
   "source": [
    "model = SAKTModel(n_skill,n_ela_skill,n_part_skill,embed_dim=128)\n",
    "model.load_state_dict(torch.load('/kaggle/input/saktmodel/best_model_ela_part.pt',map_location=device))\n",
    "model.to(device)"
   ]
  },
  {
   "cell_type": "code",
   "execution_count": 49,
   "metadata": {
    "execution": {
     "iopub.execute_input": "2020-12-14T13:15:57.348362Z",
     "iopub.status.busy": "2020-12-14T13:15:57.347293Z",
     "iopub.status.idle": "2020-12-14T14:06:49.397019Z",
     "shell.execute_reply": "2020-12-14T14:06:49.397699Z"
    },
    "papermill": {
     "duration": 3052.11276,
     "end_time": "2020-12-14T14:06:49.397916",
     "exception": false,
     "start_time": "2020-12-14T13:15:57.285156",
     "status": "completed"
    },
    "tags": []
   },
   "outputs": [
    {
     "name": "stderr",
     "output_type": "stream",
     "text": [
      "100%|██████████| 263/263 [50:51<00:00, 11.60s/it]\n"
     ]
    },
    {
     "ename": "NameError",
     "evalue": "name 'epoch' is not defined",
     "output_type": "error",
     "traceback": [
      "\u001b[0;31m---------------------------------------------------------------------------\u001b[0m",
      "\u001b[0;31mNameError\u001b[0m                                 Traceback (most recent call last)",
      "\u001b[0;32m<ipython-input-49-7ff7ca4e2eb5>\u001b[0m in \u001b[0;36m<module>\u001b[0;34m\u001b[0m\n\u001b[1;32m      1\u001b[0m \u001b[0meval_loss\u001b[0m\u001b[0;34m,\u001b[0m \u001b[0meval_acc\u001b[0m\u001b[0;34m,\u001b[0m \u001b[0meval_auc\u001b[0m \u001b[0;34m=\u001b[0m \u001b[0mevaluate_epoch\u001b[0m\u001b[0;34m(\u001b[0m\u001b[0mmodel\u001b[0m\u001b[0;34m,\u001b[0m \u001b[0mtest_dataloader\u001b[0m\u001b[0;34m,\u001b[0m \u001b[0mcriterion\u001b[0m\u001b[0;34m,\u001b[0m \u001b[0mdevice\u001b[0m\u001b[0;34m)\u001b[0m\u001b[0;34m\u001b[0m\u001b[0;34m\u001b[0m\u001b[0m\n\u001b[0;32m----> 2\u001b[0;31m \u001b[0mprint\u001b[0m\u001b[0;34m(\u001b[0m\u001b[0;34m\"epoch - {} eval_loss - {:.2f} eval acc - {:.3f} eval auc - {:.3f}\"\u001b[0m\u001b[0;34m.\u001b[0m\u001b[0mformat\u001b[0m\u001b[0;34m(\u001b[0m\u001b[0mepoch\u001b[0m\u001b[0;34m,\u001b[0m \u001b[0meval_loss\u001b[0m\u001b[0;34m,\u001b[0m \u001b[0meval_acc\u001b[0m\u001b[0;34m,\u001b[0m \u001b[0meval_auc\u001b[0m\u001b[0;34m)\u001b[0m\u001b[0;34m)\u001b[0m\u001b[0;34m\u001b[0m\u001b[0;34m\u001b[0m\u001b[0m\n\u001b[0m",
      "\u001b[0;31mNameError\u001b[0m: name 'epoch' is not defined"
     ]
    }
   ],
   "source": [
    "eval_loss, eval_acc, eval_auc = evaluate_epoch(model, test_dataloader, criterion, device)\n",
    "print(\"epoch - {} eval_loss - {:.2f} eval acc - {:.3f} eval auc - {:.3f}\".format(epoch, eval_loss, eval_acc, eval_auc))\n"
   ]
  },
  {
   "cell_type": "code",
   "execution_count": null,
   "metadata": {
    "papermill": {
     "duration": 0.145784,
     "end_time": "2020-12-14T14:06:49.690606",
     "exception": false,
     "start_time": "2020-12-14T14:06:49.544822",
     "status": "completed"
    },
    "tags": []
   },
   "outputs": [],
   "source": []
  },
  {
   "cell_type": "code",
   "execution_count": 50,
   "metadata": {
    "execution": {
     "iopub.execute_input": "2020-12-14T14:06:50.002170Z",
     "iopub.status.busy": "2020-12-14T14:06:49.996861Z",
     "iopub.status.idle": "2020-12-14T14:06:50.143022Z",
     "shell.execute_reply": "2020-12-14T14:06:50.142325Z"
    },
    "papermill": {
     "duration": 0.306127,
     "end_time": "2020-12-14T14:06:50.143130",
     "exception": false,
     "start_time": "2020-12-14T14:06:49.837003",
     "status": "completed"
    },
    "tags": []
   },
   "outputs": [
    {
     "name": "stderr",
     "output_type": "stream",
     "text": [
      "0it [00:00, ?it/s]\n",
      "  0%|          | 0/1 [00:00<?, ?it/s]\n",
      "0it [00:00, ?it/s]\n"
     ]
    },
    {
     "ename": "TypeError",
     "evalue": "forward() missing 2 required positional arguments: 'part_x' and 'part_target_ids'",
     "output_type": "error",
     "traceback": [
      "\u001b[0;31m---------------------------------------------------------------------------\u001b[0m",
      "\u001b[0;31mTypeError\u001b[0m                                 Traceback (most recent call last)",
      "\u001b[0;32m<ipython-input-50-ac053fc3e3a2>\u001b[0m in \u001b[0;36m<module>\u001b[0;34m\u001b[0m\n\u001b[1;32m     66\u001b[0m \u001b[0;34m\u001b[0m\u001b[0m\n\u001b[1;32m     67\u001b[0m         \u001b[0;32mwith\u001b[0m \u001b[0mtorch\u001b[0m\u001b[0;34m.\u001b[0m\u001b[0mno_grad\u001b[0m\u001b[0;34m(\u001b[0m\u001b[0;34m)\u001b[0m\u001b[0;34m:\u001b[0m\u001b[0;34m\u001b[0m\u001b[0;34m\u001b[0m\u001b[0m\n\u001b[0;32m---> 68\u001b[0;31m             \u001b[0moutput\u001b[0m\u001b[0;34m,\u001b[0m \u001b[0matt_weight\u001b[0m \u001b[0;34m=\u001b[0m \u001b[0mmodel\u001b[0m\u001b[0;34m(\u001b[0m\u001b[0mx\u001b[0m\u001b[0;34m,\u001b[0m \u001b[0mtarget_id\u001b[0m\u001b[0;34m,\u001b[0m\u001b[0mela_x\u001b[0m\u001b[0;34m,\u001b[0m \u001b[0mela_target\u001b[0m\u001b[0;34m)\u001b[0m\u001b[0;34m\u001b[0m\u001b[0;34m\u001b[0m\u001b[0m\n\u001b[0m\u001b[1;32m     69\u001b[0m \u001b[0;34m\u001b[0m\u001b[0m\n\u001b[1;32m     70\u001b[0m \u001b[0;34m\u001b[0m\u001b[0m\n",
      "\u001b[0;32m/opt/conda/lib/python3.7/site-packages/torch/nn/modules/module.py\u001b[0m in \u001b[0;36m_call_impl\u001b[0;34m(self, *input, **kwargs)\u001b[0m\n\u001b[1;32m    720\u001b[0m             \u001b[0mresult\u001b[0m \u001b[0;34m=\u001b[0m \u001b[0mself\u001b[0m\u001b[0;34m.\u001b[0m\u001b[0m_slow_forward\u001b[0m\u001b[0;34m(\u001b[0m\u001b[0;34m*\u001b[0m\u001b[0minput\u001b[0m\u001b[0;34m,\u001b[0m \u001b[0;34m**\u001b[0m\u001b[0mkwargs\u001b[0m\u001b[0;34m)\u001b[0m\u001b[0;34m\u001b[0m\u001b[0;34m\u001b[0m\u001b[0m\n\u001b[1;32m    721\u001b[0m         \u001b[0;32melse\u001b[0m\u001b[0;34m:\u001b[0m\u001b[0;34m\u001b[0m\u001b[0;34m\u001b[0m\u001b[0m\n\u001b[0;32m--> 722\u001b[0;31m             \u001b[0mresult\u001b[0m \u001b[0;34m=\u001b[0m \u001b[0mself\u001b[0m\u001b[0;34m.\u001b[0m\u001b[0mforward\u001b[0m\u001b[0;34m(\u001b[0m\u001b[0;34m*\u001b[0m\u001b[0minput\u001b[0m\u001b[0;34m,\u001b[0m \u001b[0;34m**\u001b[0m\u001b[0mkwargs\u001b[0m\u001b[0;34m)\u001b[0m\u001b[0;34m\u001b[0m\u001b[0;34m\u001b[0m\u001b[0m\n\u001b[0m\u001b[1;32m    723\u001b[0m         for hook in itertools.chain(\n\u001b[1;32m    724\u001b[0m                 \u001b[0m_global_forward_hooks\u001b[0m\u001b[0;34m.\u001b[0m\u001b[0mvalues\u001b[0m\u001b[0;34m(\u001b[0m\u001b[0;34m)\u001b[0m\u001b[0;34m,\u001b[0m\u001b[0;34m\u001b[0m\u001b[0;34m\u001b[0m\u001b[0m\n",
      "\u001b[0;31mTypeError\u001b[0m: forward() missing 2 required positional arguments: 'part_x' and 'part_target_ids'"
     ]
    }
   ],
   "source": [
    "import riiideducation\n",
    "\n",
    "env = riiideducation.make_env()\n",
    "iter_test = env.iter_test()\n",
    "import psutil\n",
    "model.eval()\n",
    "\n",
    "#HDKIM\n",
    "prev_test_df = None\n",
    "#HDKIMHDKIM\n",
    "\n",
    "for (test_df, sample_prediction_df) in tqdm(iter_test):\n",
    "    #HDKIM\n",
    "    if (prev_test_df is not None) & (psutil.virtual_memory().percent<90):\n",
    "        print(psutil.virtual_memory().percent)\n",
    "        prev_test_df['answered_correctly'] = eval(test_df['prior_group_answers_correct'].iloc[0])\n",
    "        prev_test_df = prev_test_df[prev_test_df.content_type_id == False]\n",
    "        prev_group = prev_test_df[['user_id', 'part','content_id', 'answered_correctly','prior_question_elapsed_time']].groupby('user_id').apply(lambda r: (\n",
    "            r['content_id'].values,\n",
    "            r['answered_correctly'].values,\n",
    "            r['prior_question_elapsed_time'].values,\n",
    "            r['part'].values))\n",
    "        for prev_user_id in prev_group.index:\n",
    "            prev_group_content = prev_group[prev_user_id][0]\n",
    "            prev_group_ac = prev_group[prev_user_id][1]\n",
    "            prev_group_ela = prev_group[prev_user_id][2]\n",
    "            prev_group_part = prev_group[prev_user_id][3]\n",
    "\n",
    "            if prev_user_id in group.index:\n",
    "                group[prev_user_id] = (np.append(group[prev_user_id][0],prev_group_content), \n",
    "                                       np.append(group[prev_user_id][1],prev_group_ac),\n",
    "                                       np.append(group[prev_user_id][2],prev_group_ela),\n",
    "                                       np.append(group[prev_user_id][3],prev_group_part))\n",
    " \n",
    "            else:\n",
    "                group[prev_user_id] = (prev_group_content,prev_group_ac, prev_group_ela,prev_group_part)\n",
    "            if len(group[prev_user_id][0])>MAX_SEQ:\n",
    "                new_group_content = group[prev_user_id][0][-MAX_SEQ:]\n",
    "                new_group_ac = group[prev_user_id][1][-MAX_SEQ:]\n",
    "                new_group_ela = group[prev_user_id][2][-MAX_SEQ:]\n",
    "                new_group_part = group[prev_user_id][3][-MAX_SEQ:]\n",
    "\n",
    "                group[prev_user_id] = (new_group_content,new_group_ac,new_group_ela,new_group_part)\n",
    "\n",
    "    test_df['prior_question_elapsed_time'].fillna(elapsed_mean, inplace=True)\n",
    "    test_df['prior_question_elapsed_time'] = test_df['prior_question_elapsed_time'].apply(lambda x: get_elapsed_time(x))\n",
    "             \n",
    "    test_df = pd.merge(test_df, question_df, left_on='content_id',right_on='question_id',how='left')\n",
    "    prev_test_df = test_df.copy()\n",
    " \n",
    "    #HDKIMHDKIM\n",
    "    \n",
    "    test_df = test_df[test_df.content_type_id == False]\n",
    "   \n",
    "    test_dataset = TestDataset(group, test_df, n_skill, n_ela_skill, n_part_skill)\n",
    "    test_dataloader = DataLoader(test_dataset, batch_size=51200, \n",
    "                                 shuffle=False)\n",
    "    \n",
    "    outs = []\n",
    "\n",
    "    for item in tqdm(test_dataloader):\n",
    "        x = item[0].to(device).long()\n",
    "        target_id = item[1].to(device).long()\n",
    "        ela_x = item[2].to(device).long()\n",
    "        ela_target = item[3].to(device).long()\n",
    "\n",
    "        with torch.no_grad():\n",
    "            output, att_weight = model(x, target_id,ela_x, ela_target)\n",
    "        \n",
    "        \n",
    "        output = torch.sigmoid(output)\n",
    "        output = output[:, -1]\n",
    "\n",
    "        # pred = (output >= 0.5).long()\n",
    "        # loss = criterion(output, label)\n",
    "\n",
    "        # val_loss.append(loss.item())\n",
    "        # num_corrects += (pred == label).sum().item()\n",
    "        # num_total += len(label)\n",
    "\n",
    "        # labels.extend(label.squeeze(-1).data.cpu().numpy())\n",
    "        outs.extend(output.view(-1).data.cpu().numpy())\n",
    "        \n",
    "    test_df['answered_correctly'] =  outs\n",
    "    \n",
    "    env.predict(test_df.loc[test_df['content_type_id'] == 0, ['row_id', 'answered_correctly']])"
   ]
  },
  {
   "cell_type": "code",
   "execution_count": null,
   "metadata": {
    "papermill": {
     "duration": 0.151728,
     "end_time": "2020-12-14T14:06:50.446679",
     "exception": false,
     "start_time": "2020-12-14T14:06:50.294951",
     "status": "completed"
    },
    "tags": []
   },
   "outputs": [],
   "source": []
  },
  {
   "cell_type": "code",
   "execution_count": null,
   "metadata": {
    "papermill": {
     "duration": 0.152155,
     "end_time": "2020-12-14T14:06:50.750481",
     "exception": false,
     "start_time": "2020-12-14T14:06:50.598326",
     "status": "completed"
    },
    "tags": []
   },
   "outputs": [],
   "source": []
  }
 ],
 "metadata": {
  "kernelspec": {
   "display_name": "Python 3",
   "language": "python",
   "name": "python3"
  },
  "language_info": {
   "codemirror_mode": {
    "name": "ipython",
    "version": 3
   },
   "file_extension": ".py",
   "mimetype": "text/x-python",
   "name": "python",
   "nbconvert_exporter": "python",
   "pygments_lexer": "ipython3",
   "version": "3.7.2"
  },
  "papermill": {
   "duration": 3190.597068,
   "end_time": "2020-12-14T14:06:51.010658",
   "environment_variables": {},
   "exception": null,
   "input_path": "__notebook__.ipynb",
   "output_path": "__notebook__.ipynb",
   "parameters": {},
   "start_time": "2020-12-14T13:13:40.413590",
   "version": "2.1.0"
  }
 },
 "nbformat": 4,
 "nbformat_minor": 4
}
