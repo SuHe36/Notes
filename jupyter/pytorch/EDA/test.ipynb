{
 "cells": [
  {
   "cell_type": "code",
   "execution_count": 2,
   "metadata": {},
   "outputs": [],
   "source": [
    "import pandas as pd\n",
    "import numpy as np"
   ]
  },
  {
   "cell_type": "code",
   "execution_count": 3,
   "metadata": {},
   "outputs": [],
   "source": [
    "train_df = pd.read_csv('/Users/hesu/Documents/KT/riiid/train.csv')"
   ]
  },
  {
   "cell_type": "code",
   "execution_count": 4,
   "metadata": {},
   "outputs": [
    {
     "data": {
      "text/html": [
       "<div>\n",
       "<style scoped>\n",
       "    .dataframe tbody tr th:only-of-type {\n",
       "        vertical-align: middle;\n",
       "    }\n",
       "\n",
       "    .dataframe tbody tr th {\n",
       "        vertical-align: top;\n",
       "    }\n",
       "\n",
       "    .dataframe thead th {\n",
       "        text-align: right;\n",
       "    }\n",
       "</style>\n",
       "<table border=\"1\" class=\"dataframe\">\n",
       "  <thead>\n",
       "    <tr style=\"text-align: right;\">\n",
       "      <th></th>\n",
       "      <th>row_id</th>\n",
       "      <th>timestamp</th>\n",
       "      <th>user_id</th>\n",
       "      <th>content_id</th>\n",
       "      <th>content_type_id</th>\n",
       "      <th>task_container_id</th>\n",
       "      <th>user_answer</th>\n",
       "      <th>answered_correctly</th>\n",
       "      <th>prior_question_elapsed_time</th>\n",
       "      <th>prior_question_had_explanation</th>\n",
       "    </tr>\n",
       "  </thead>\n",
       "  <tbody>\n",
       "    <tr>\n",
       "      <th>0</th>\n",
       "      <td>0</td>\n",
       "      <td>0</td>\n",
       "      <td>115</td>\n",
       "      <td>5692</td>\n",
       "      <td>0</td>\n",
       "      <td>1</td>\n",
       "      <td>3</td>\n",
       "      <td>1</td>\n",
       "      <td>NaN</td>\n",
       "      <td>NaN</td>\n",
       "    </tr>\n",
       "    <tr>\n",
       "      <th>1</th>\n",
       "      <td>1</td>\n",
       "      <td>56943</td>\n",
       "      <td>115</td>\n",
       "      <td>5716</td>\n",
       "      <td>0</td>\n",
       "      <td>2</td>\n",
       "      <td>2</td>\n",
       "      <td>1</td>\n",
       "      <td>37000.0</td>\n",
       "      <td>False</td>\n",
       "    </tr>\n",
       "    <tr>\n",
       "      <th>2</th>\n",
       "      <td>2</td>\n",
       "      <td>118363</td>\n",
       "      <td>115</td>\n",
       "      <td>128</td>\n",
       "      <td>0</td>\n",
       "      <td>0</td>\n",
       "      <td>0</td>\n",
       "      <td>1</td>\n",
       "      <td>55000.0</td>\n",
       "      <td>False</td>\n",
       "    </tr>\n",
       "    <tr>\n",
       "      <th>3</th>\n",
       "      <td>3</td>\n",
       "      <td>131167</td>\n",
       "      <td>115</td>\n",
       "      <td>7860</td>\n",
       "      <td>0</td>\n",
       "      <td>3</td>\n",
       "      <td>0</td>\n",
       "      <td>1</td>\n",
       "      <td>19000.0</td>\n",
       "      <td>False</td>\n",
       "    </tr>\n",
       "    <tr>\n",
       "      <th>4</th>\n",
       "      <td>4</td>\n",
       "      <td>137965</td>\n",
       "      <td>115</td>\n",
       "      <td>7922</td>\n",
       "      <td>0</td>\n",
       "      <td>4</td>\n",
       "      <td>1</td>\n",
       "      <td>1</td>\n",
       "      <td>11000.0</td>\n",
       "      <td>False</td>\n",
       "    </tr>\n",
       "    <tr>\n",
       "      <th>5</th>\n",
       "      <td>5</td>\n",
       "      <td>157063</td>\n",
       "      <td>115</td>\n",
       "      <td>156</td>\n",
       "      <td>0</td>\n",
       "      <td>5</td>\n",
       "      <td>2</td>\n",
       "      <td>1</td>\n",
       "      <td>5000.0</td>\n",
       "      <td>False</td>\n",
       "    </tr>\n",
       "    <tr>\n",
       "      <th>6</th>\n",
       "      <td>6</td>\n",
       "      <td>176092</td>\n",
       "      <td>115</td>\n",
       "      <td>51</td>\n",
       "      <td>0</td>\n",
       "      <td>6</td>\n",
       "      <td>0</td>\n",
       "      <td>1</td>\n",
       "      <td>17000.0</td>\n",
       "      <td>False</td>\n",
       "    </tr>\n",
       "    <tr>\n",
       "      <th>7</th>\n",
       "      <td>7</td>\n",
       "      <td>194190</td>\n",
       "      <td>115</td>\n",
       "      <td>50</td>\n",
       "      <td>0</td>\n",
       "      <td>7</td>\n",
       "      <td>3</td>\n",
       "      <td>1</td>\n",
       "      <td>17000.0</td>\n",
       "      <td>False</td>\n",
       "    </tr>\n",
       "    <tr>\n",
       "      <th>8</th>\n",
       "      <td>8</td>\n",
       "      <td>212463</td>\n",
       "      <td>115</td>\n",
       "      <td>7896</td>\n",
       "      <td>0</td>\n",
       "      <td>8</td>\n",
       "      <td>2</td>\n",
       "      <td>1</td>\n",
       "      <td>16000.0</td>\n",
       "      <td>False</td>\n",
       "    </tr>\n",
       "    <tr>\n",
       "      <th>9</th>\n",
       "      <td>9</td>\n",
       "      <td>230983</td>\n",
       "      <td>115</td>\n",
       "      <td>7863</td>\n",
       "      <td>0</td>\n",
       "      <td>9</td>\n",
       "      <td>0</td>\n",
       "      <td>1</td>\n",
       "      <td>16000.0</td>\n",
       "      <td>False</td>\n",
       "    </tr>\n",
       "  </tbody>\n",
       "</table>\n",
       "</div>"
      ],
      "text/plain": [
       "   row_id  timestamp  user_id  content_id  content_type_id  task_container_id  \\\n",
       "0       0          0      115        5692                0                  1   \n",
       "1       1      56943      115        5716                0                  2   \n",
       "2       2     118363      115         128                0                  0   \n",
       "3       3     131167      115        7860                0                  3   \n",
       "4       4     137965      115        7922                0                  4   \n",
       "5       5     157063      115         156                0                  5   \n",
       "6       6     176092      115          51                0                  6   \n",
       "7       7     194190      115          50                0                  7   \n",
       "8       8     212463      115        7896                0                  8   \n",
       "9       9     230983      115        7863                0                  9   \n",
       "\n",
       "   user_answer  answered_correctly  prior_question_elapsed_time  \\\n",
       "0            3                   1                          NaN   \n",
       "1            2                   1                      37000.0   \n",
       "2            0                   1                      55000.0   \n",
       "3            0                   1                      19000.0   \n",
       "4            1                   1                      11000.0   \n",
       "5            2                   1                       5000.0   \n",
       "6            0                   1                      17000.0   \n",
       "7            3                   1                      17000.0   \n",
       "8            2                   1                      16000.0   \n",
       "9            0                   1                      16000.0   \n",
       "\n",
       "  prior_question_had_explanation  \n",
       "0                            NaN  \n",
       "1                          False  \n",
       "2                          False  \n",
       "3                          False  \n",
       "4                          False  \n",
       "5                          False  \n",
       "6                          False  \n",
       "7                          False  \n",
       "8                          False  \n",
       "9                          False  "
      ]
     },
     "execution_count": 4,
     "metadata": {},
     "output_type": "execute_result"
    }
   ],
   "source": [
    "train_df.head(10)"
   ]
  },
  {
   "cell_type": "code",
   "execution_count": 5,
   "metadata": {},
   "outputs": [],
   "source": [
    "test_df = train_df.head(100)"
   ]
  },
  {
   "cell_type": "code",
   "execution_count": 15,
   "metadata": {},
   "outputs": [
    {
     "data": {
      "text/html": [
       "<div>\n",
       "<style scoped>\n",
       "    .dataframe tbody tr th:only-of-type {\n",
       "        vertical-align: middle;\n",
       "    }\n",
       "\n",
       "    .dataframe tbody tr th {\n",
       "        vertical-align: top;\n",
       "    }\n",
       "\n",
       "    .dataframe thead th {\n",
       "        text-align: right;\n",
       "    }\n",
       "</style>\n",
       "<table border=\"1\" class=\"dataframe\">\n",
       "  <thead>\n",
       "    <tr style=\"text-align: right;\">\n",
       "      <th></th>\n",
       "      <th>row_id</th>\n",
       "      <th>timestamp</th>\n",
       "      <th>user_id</th>\n",
       "      <th>content_id</th>\n",
       "      <th>content_type_id</th>\n",
       "      <th>task_container_id</th>\n",
       "      <th>user_answer</th>\n",
       "      <th>answered_correctly</th>\n",
       "      <th>prior_question_elapsed_time</th>\n",
       "      <th>prior_question_had_explanation</th>\n",
       "      <th>new_qid</th>\n",
       "    </tr>\n",
       "  </thead>\n",
       "  <tbody>\n",
       "    <tr>\n",
       "      <th>0</th>\n",
       "      <td>0</td>\n",
       "      <td>0</td>\n",
       "      <td>115</td>\n",
       "      <td>5692</td>\n",
       "      <td>0</td>\n",
       "      <td>1</td>\n",
       "      <td>3</td>\n",
       "      <td>1</td>\n",
       "      <td>NaN</td>\n",
       "      <td>NaN</td>\n",
       "      <td>5692</td>\n",
       "    </tr>\n",
       "    <tr>\n",
       "      <th>1</th>\n",
       "      <td>1</td>\n",
       "      <td>56943</td>\n",
       "      <td>115</td>\n",
       "      <td>5716</td>\n",
       "      <td>0</td>\n",
       "      <td>2</td>\n",
       "      <td>2</td>\n",
       "      <td>1</td>\n",
       "      <td>37000.0</td>\n",
       "      <td>False</td>\n",
       "      <td>5716</td>\n",
       "    </tr>\n",
       "    <tr>\n",
       "      <th>2</th>\n",
       "      <td>2</td>\n",
       "      <td>118363</td>\n",
       "      <td>115</td>\n",
       "      <td>128</td>\n",
       "      <td>0</td>\n",
       "      <td>0</td>\n",
       "      <td>0</td>\n",
       "      <td>1</td>\n",
       "      <td>55000.0</td>\n",
       "      <td>False</td>\n",
       "      <td>128</td>\n",
       "    </tr>\n",
       "    <tr>\n",
       "      <th>3</th>\n",
       "      <td>3</td>\n",
       "      <td>131167</td>\n",
       "      <td>115</td>\n",
       "      <td>7860</td>\n",
       "      <td>0</td>\n",
       "      <td>3</td>\n",
       "      <td>0</td>\n",
       "      <td>1</td>\n",
       "      <td>19000.0</td>\n",
       "      <td>False</td>\n",
       "      <td>7860</td>\n",
       "    </tr>\n",
       "    <tr>\n",
       "      <th>4</th>\n",
       "      <td>4</td>\n",
       "      <td>137965</td>\n",
       "      <td>115</td>\n",
       "      <td>7922</td>\n",
       "      <td>0</td>\n",
       "      <td>4</td>\n",
       "      <td>1</td>\n",
       "      <td>1</td>\n",
       "      <td>11000.0</td>\n",
       "      <td>False</td>\n",
       "      <td>7922</td>\n",
       "    </tr>\n",
       "    <tr>\n",
       "      <th>...</th>\n",
       "      <td>...</td>\n",
       "      <td>...</td>\n",
       "      <td>...</td>\n",
       "      <td>...</td>\n",
       "      <td>...</td>\n",
       "      <td>...</td>\n",
       "      <td>...</td>\n",
       "      <td>...</td>\n",
       "      <td>...</td>\n",
       "      <td>...</td>\n",
       "      <td>...</td>\n",
       "    </tr>\n",
       "    <tr>\n",
       "      <th>95</th>\n",
       "      <td>95</td>\n",
       "      <td>835457</td>\n",
       "      <td>2746</td>\n",
       "      <td>484</td>\n",
       "      <td>0</td>\n",
       "      <td>19</td>\n",
       "      <td>0</td>\n",
       "      <td>1</td>\n",
       "      <td>20000.0</td>\n",
       "      <td>True</td>\n",
       "      <td>484</td>\n",
       "    </tr>\n",
       "    <tr>\n",
       "      <th>96</th>\n",
       "      <td>96</td>\n",
       "      <td>0</td>\n",
       "      <td>5382</td>\n",
       "      <td>5000</td>\n",
       "      <td>0</td>\n",
       "      <td>0</td>\n",
       "      <td>0</td>\n",
       "      <td>1</td>\n",
       "      <td>NaN</td>\n",
       "      <td>NaN</td>\n",
       "      <td>5000</td>\n",
       "    </tr>\n",
       "    <tr>\n",
       "      <th>97</th>\n",
       "      <td>97</td>\n",
       "      <td>39828</td>\n",
       "      <td>5382</td>\n",
       "      <td>3944</td>\n",
       "      <td>0</td>\n",
       "      <td>1</td>\n",
       "      <td>1</td>\n",
       "      <td>0</td>\n",
       "      <td>24000.0</td>\n",
       "      <td>False</td>\n",
       "      <td>17467</td>\n",
       "    </tr>\n",
       "    <tr>\n",
       "      <th>98</th>\n",
       "      <td>98</td>\n",
       "      <td>132189</td>\n",
       "      <td>5382</td>\n",
       "      <td>217</td>\n",
       "      <td>0</td>\n",
       "      <td>2</td>\n",
       "      <td>0</td>\n",
       "      <td>1</td>\n",
       "      <td>35000.0</td>\n",
       "      <td>False</td>\n",
       "      <td>217</td>\n",
       "    </tr>\n",
       "    <tr>\n",
       "      <th>99</th>\n",
       "      <td>99</td>\n",
       "      <td>153727</td>\n",
       "      <td>5382</td>\n",
       "      <td>5844</td>\n",
       "      <td>0</td>\n",
       "      <td>3</td>\n",
       "      <td>1</td>\n",
       "      <td>0</td>\n",
       "      <td>88000.0</td>\n",
       "      <td>False</td>\n",
       "      <td>19367</td>\n",
       "    </tr>\n",
       "  </tbody>\n",
       "</table>\n",
       "<p>100 rows × 11 columns</p>\n",
       "</div>"
      ],
      "text/plain": [
       "    row_id  timestamp  user_id  content_id  content_type_id  \\\n",
       "0        0          0      115        5692                0   \n",
       "1        1      56943      115        5716                0   \n",
       "2        2     118363      115         128                0   \n",
       "3        3     131167      115        7860                0   \n",
       "4        4     137965      115        7922                0   \n",
       "..     ...        ...      ...         ...              ...   \n",
       "95      95     835457     2746         484                0   \n",
       "96      96          0     5382        5000                0   \n",
       "97      97      39828     5382        3944                0   \n",
       "98      98     132189     5382         217                0   \n",
       "99      99     153727     5382        5844                0   \n",
       "\n",
       "    task_container_id  user_answer  answered_correctly  \\\n",
       "0                   1            3                   1   \n",
       "1                   2            2                   1   \n",
       "2                   0            0                   1   \n",
       "3                   3            0                   1   \n",
       "4                   4            1                   1   \n",
       "..                ...          ...                 ...   \n",
       "95                 19            0                   1   \n",
       "96                  0            0                   1   \n",
       "97                  1            1                   0   \n",
       "98                  2            0                   1   \n",
       "99                  3            1                   0   \n",
       "\n",
       "    prior_question_elapsed_time prior_question_had_explanation  new_qid  \n",
       "0                           NaN                            NaN     5692  \n",
       "1                       37000.0                          False     5716  \n",
       "2                       55000.0                          False      128  \n",
       "3                       19000.0                          False     7860  \n",
       "4                       11000.0                          False     7922  \n",
       "..                          ...                            ...      ...  \n",
       "95                      20000.0                           True      484  \n",
       "96                          NaN                            NaN     5000  \n",
       "97                      24000.0                          False    17467  \n",
       "98                      35000.0                          False      217  \n",
       "99                      88000.0                          False    19367  \n",
       "\n",
       "[100 rows x 11 columns]"
      ]
     },
     "execution_count": 15,
     "metadata": {},
     "output_type": "execute_result"
    }
   ],
   "source": [
    "test_df"
   ]
  },
  {
   "cell_type": "code",
   "execution_count": 16,
   "metadata": {},
   "outputs": [
    {
     "name": "stderr",
     "output_type": "stream",
     "text": [
      "/anaconda3/envs/torch1.4/lib/python3.7/site-packages/pandas/core/indexing.py:1745: SettingWithCopyWarning: \n",
      "A value is trying to be set on a copy of a slice from a DataFrame.\n",
      "Try using .loc[row_indexer,col_indexer] = value instead\n",
      "\n",
      "See the caveats in the documentation: https://pandas.pydata.org/pandas-docs/stable/user_guide/indexing.html#returning-a-view-versus-a-copy\n",
      "  isetter(ilocs[0], value)\n"
     ]
    }
   ],
   "source": [
    "test_df.loc[test_df['answered_correctly']==0, 'content_id'] = test_df['content_id'] + 13523"
   ]
  },
  {
   "cell_type": "code",
   "execution_count": 17,
   "metadata": {},
   "outputs": [
    {
     "data": {
      "text/html": [
       "<div>\n",
       "<style scoped>\n",
       "    .dataframe tbody tr th:only-of-type {\n",
       "        vertical-align: middle;\n",
       "    }\n",
       "\n",
       "    .dataframe tbody tr th {\n",
       "        vertical-align: top;\n",
       "    }\n",
       "\n",
       "    .dataframe thead th {\n",
       "        text-align: right;\n",
       "    }\n",
       "</style>\n",
       "<table border=\"1\" class=\"dataframe\">\n",
       "  <thead>\n",
       "    <tr style=\"text-align: right;\">\n",
       "      <th></th>\n",
       "      <th>row_id</th>\n",
       "      <th>timestamp</th>\n",
       "      <th>user_id</th>\n",
       "      <th>content_id</th>\n",
       "      <th>content_type_id</th>\n",
       "      <th>task_container_id</th>\n",
       "      <th>user_answer</th>\n",
       "      <th>answered_correctly</th>\n",
       "      <th>prior_question_elapsed_time</th>\n",
       "      <th>prior_question_had_explanation</th>\n",
       "      <th>new_qid</th>\n",
       "    </tr>\n",
       "  </thead>\n",
       "  <tbody>\n",
       "    <tr>\n",
       "      <th>0</th>\n",
       "      <td>0</td>\n",
       "      <td>0</td>\n",
       "      <td>115</td>\n",
       "      <td>5692</td>\n",
       "      <td>0</td>\n",
       "      <td>1</td>\n",
       "      <td>3</td>\n",
       "      <td>1</td>\n",
       "      <td>NaN</td>\n",
       "      <td>NaN</td>\n",
       "      <td>5692</td>\n",
       "    </tr>\n",
       "    <tr>\n",
       "      <th>1</th>\n",
       "      <td>1</td>\n",
       "      <td>56943</td>\n",
       "      <td>115</td>\n",
       "      <td>5716</td>\n",
       "      <td>0</td>\n",
       "      <td>2</td>\n",
       "      <td>2</td>\n",
       "      <td>1</td>\n",
       "      <td>37000.0</td>\n",
       "      <td>False</td>\n",
       "      <td>5716</td>\n",
       "    </tr>\n",
       "    <tr>\n",
       "      <th>2</th>\n",
       "      <td>2</td>\n",
       "      <td>118363</td>\n",
       "      <td>115</td>\n",
       "      <td>128</td>\n",
       "      <td>0</td>\n",
       "      <td>0</td>\n",
       "      <td>0</td>\n",
       "      <td>1</td>\n",
       "      <td>55000.0</td>\n",
       "      <td>False</td>\n",
       "      <td>128</td>\n",
       "    </tr>\n",
       "    <tr>\n",
       "      <th>3</th>\n",
       "      <td>3</td>\n",
       "      <td>131167</td>\n",
       "      <td>115</td>\n",
       "      <td>7860</td>\n",
       "      <td>0</td>\n",
       "      <td>3</td>\n",
       "      <td>0</td>\n",
       "      <td>1</td>\n",
       "      <td>19000.0</td>\n",
       "      <td>False</td>\n",
       "      <td>7860</td>\n",
       "    </tr>\n",
       "    <tr>\n",
       "      <th>4</th>\n",
       "      <td>4</td>\n",
       "      <td>137965</td>\n",
       "      <td>115</td>\n",
       "      <td>7922</td>\n",
       "      <td>0</td>\n",
       "      <td>4</td>\n",
       "      <td>1</td>\n",
       "      <td>1</td>\n",
       "      <td>11000.0</td>\n",
       "      <td>False</td>\n",
       "      <td>7922</td>\n",
       "    </tr>\n",
       "    <tr>\n",
       "      <th>...</th>\n",
       "      <td>...</td>\n",
       "      <td>...</td>\n",
       "      <td>...</td>\n",
       "      <td>...</td>\n",
       "      <td>...</td>\n",
       "      <td>...</td>\n",
       "      <td>...</td>\n",
       "      <td>...</td>\n",
       "      <td>...</td>\n",
       "      <td>...</td>\n",
       "      <td>...</td>\n",
       "    </tr>\n",
       "    <tr>\n",
       "      <th>95</th>\n",
       "      <td>95</td>\n",
       "      <td>835457</td>\n",
       "      <td>2746</td>\n",
       "      <td>484</td>\n",
       "      <td>0</td>\n",
       "      <td>19</td>\n",
       "      <td>0</td>\n",
       "      <td>1</td>\n",
       "      <td>20000.0</td>\n",
       "      <td>True</td>\n",
       "      <td>484</td>\n",
       "    </tr>\n",
       "    <tr>\n",
       "      <th>96</th>\n",
       "      <td>96</td>\n",
       "      <td>0</td>\n",
       "      <td>5382</td>\n",
       "      <td>5000</td>\n",
       "      <td>0</td>\n",
       "      <td>0</td>\n",
       "      <td>0</td>\n",
       "      <td>1</td>\n",
       "      <td>NaN</td>\n",
       "      <td>NaN</td>\n",
       "      <td>5000</td>\n",
       "    </tr>\n",
       "    <tr>\n",
       "      <th>97</th>\n",
       "      <td>97</td>\n",
       "      <td>39828</td>\n",
       "      <td>5382</td>\n",
       "      <td>17467</td>\n",
       "      <td>0</td>\n",
       "      <td>1</td>\n",
       "      <td>1</td>\n",
       "      <td>0</td>\n",
       "      <td>24000.0</td>\n",
       "      <td>False</td>\n",
       "      <td>17467</td>\n",
       "    </tr>\n",
       "    <tr>\n",
       "      <th>98</th>\n",
       "      <td>98</td>\n",
       "      <td>132189</td>\n",
       "      <td>5382</td>\n",
       "      <td>217</td>\n",
       "      <td>0</td>\n",
       "      <td>2</td>\n",
       "      <td>0</td>\n",
       "      <td>1</td>\n",
       "      <td>35000.0</td>\n",
       "      <td>False</td>\n",
       "      <td>217</td>\n",
       "    </tr>\n",
       "    <tr>\n",
       "      <th>99</th>\n",
       "      <td>99</td>\n",
       "      <td>153727</td>\n",
       "      <td>5382</td>\n",
       "      <td>19367</td>\n",
       "      <td>0</td>\n",
       "      <td>3</td>\n",
       "      <td>1</td>\n",
       "      <td>0</td>\n",
       "      <td>88000.0</td>\n",
       "      <td>False</td>\n",
       "      <td>19367</td>\n",
       "    </tr>\n",
       "  </tbody>\n",
       "</table>\n",
       "<p>100 rows × 11 columns</p>\n",
       "</div>"
      ],
      "text/plain": [
       "    row_id  timestamp  user_id  content_id  content_type_id  \\\n",
       "0        0          0      115        5692                0   \n",
       "1        1      56943      115        5716                0   \n",
       "2        2     118363      115         128                0   \n",
       "3        3     131167      115        7860                0   \n",
       "4        4     137965      115        7922                0   \n",
       "..     ...        ...      ...         ...              ...   \n",
       "95      95     835457     2746         484                0   \n",
       "96      96          0     5382        5000                0   \n",
       "97      97      39828     5382       17467                0   \n",
       "98      98     132189     5382         217                0   \n",
       "99      99     153727     5382       19367                0   \n",
       "\n",
       "    task_container_id  user_answer  answered_correctly  \\\n",
       "0                   1            3                   1   \n",
       "1                   2            2                   1   \n",
       "2                   0            0                   1   \n",
       "3                   3            0                   1   \n",
       "4                   4            1                   1   \n",
       "..                ...          ...                 ...   \n",
       "95                 19            0                   1   \n",
       "96                  0            0                   1   \n",
       "97                  1            1                   0   \n",
       "98                  2            0                   1   \n",
       "99                  3            1                   0   \n",
       "\n",
       "    prior_question_elapsed_time prior_question_had_explanation  new_qid  \n",
       "0                           NaN                            NaN     5692  \n",
       "1                       37000.0                          False     5716  \n",
       "2                       55000.0                          False      128  \n",
       "3                       19000.0                          False     7860  \n",
       "4                       11000.0                          False     7922  \n",
       "..                          ...                            ...      ...  \n",
       "95                      20000.0                           True      484  \n",
       "96                          NaN                            NaN     5000  \n",
       "97                      24000.0                          False    17467  \n",
       "98                      35000.0                          False      217  \n",
       "99                      88000.0                          False    19367  \n",
       "\n",
       "[100 rows x 11 columns]"
      ]
     },
     "execution_count": 17,
     "metadata": {},
     "output_type": "execute_result"
    }
   ],
   "source": [
    "test_df"
   ]
  },
  {
   "cell_type": "code",
   "execution_count": null,
   "metadata": {},
   "outputs": [],
   "source": []
  },
  {
   "cell_type": "code",
   "execution_count": 7,
   "metadata": {},
   "outputs": [],
   "source": [
    "def get_qid(qid, ans):\n",
    "    if ans == 1:\n",
    "        return qid\n",
    "    else:\n",
    "        return qid + 13523"
   ]
  },
  {
   "cell_type": "code",
   "execution_count": 10,
   "metadata": {},
   "outputs": [
    {
     "data": {
      "text/plain": [
       "Index(['row_id', 'timestamp', 'user_id', 'content_id', 'content_type_id',\n",
       "       'task_container_id', 'user_answer', 'answered_correctly',\n",
       "       'prior_question_elapsed_time', 'prior_question_had_explanation'],\n",
       "      dtype='object')"
      ]
     },
     "execution_count": 10,
     "metadata": {},
     "output_type": "execute_result"
    }
   ],
   "source": [
    "test_df.columns"
   ]
  },
  {
   "cell_type": "code",
   "execution_count": 12,
   "metadata": {},
   "outputs": [
    {
     "name": "stderr",
     "output_type": "stream",
     "text": [
      "/anaconda3/envs/torch1.4/lib/python3.7/site-packages/ipykernel_launcher.py:1: SettingWithCopyWarning: \n",
      "A value is trying to be set on a copy of a slice from a DataFrame.\n",
      "Try using .loc[row_indexer,col_indexer] = value instead\n",
      "\n",
      "See the caveats in the documentation: https://pandas.pydata.org/pandas-docs/stable/user_guide/indexing.html#returning-a-view-versus-a-copy\n",
      "  \"\"\"Entry point for launching an IPython kernel.\n"
     ]
    }
   ],
   "source": [
    "test_df['new_qid'] = test_df.apply(lambda x: get_qid(x.content_id, x.answered_correctly), axis=1)"
   ]
  },
  {
   "cell_type": "code",
   "execution_count": 13,
   "metadata": {},
   "outputs": [
    {
     "data": {
      "text/html": [
       "<div>\n",
       "<style scoped>\n",
       "    .dataframe tbody tr th:only-of-type {\n",
       "        vertical-align: middle;\n",
       "    }\n",
       "\n",
       "    .dataframe tbody tr th {\n",
       "        vertical-align: top;\n",
       "    }\n",
       "\n",
       "    .dataframe thead th {\n",
       "        text-align: right;\n",
       "    }\n",
       "</style>\n",
       "<table border=\"1\" class=\"dataframe\">\n",
       "  <thead>\n",
       "    <tr style=\"text-align: right;\">\n",
       "      <th></th>\n",
       "      <th>row_id</th>\n",
       "      <th>timestamp</th>\n",
       "      <th>user_id</th>\n",
       "      <th>content_id</th>\n",
       "      <th>content_type_id</th>\n",
       "      <th>task_container_id</th>\n",
       "      <th>user_answer</th>\n",
       "      <th>answered_correctly</th>\n",
       "      <th>prior_question_elapsed_time</th>\n",
       "      <th>prior_question_had_explanation</th>\n",
       "      <th>new_qid</th>\n",
       "    </tr>\n",
       "  </thead>\n",
       "  <tbody>\n",
       "    <tr>\n",
       "      <th>0</th>\n",
       "      <td>0</td>\n",
       "      <td>0</td>\n",
       "      <td>115</td>\n",
       "      <td>5692</td>\n",
       "      <td>0</td>\n",
       "      <td>1</td>\n",
       "      <td>3</td>\n",
       "      <td>1</td>\n",
       "      <td>NaN</td>\n",
       "      <td>NaN</td>\n",
       "      <td>5692</td>\n",
       "    </tr>\n",
       "    <tr>\n",
       "      <th>1</th>\n",
       "      <td>1</td>\n",
       "      <td>56943</td>\n",
       "      <td>115</td>\n",
       "      <td>5716</td>\n",
       "      <td>0</td>\n",
       "      <td>2</td>\n",
       "      <td>2</td>\n",
       "      <td>1</td>\n",
       "      <td>37000.0</td>\n",
       "      <td>False</td>\n",
       "      <td>5716</td>\n",
       "    </tr>\n",
       "    <tr>\n",
       "      <th>2</th>\n",
       "      <td>2</td>\n",
       "      <td>118363</td>\n",
       "      <td>115</td>\n",
       "      <td>128</td>\n",
       "      <td>0</td>\n",
       "      <td>0</td>\n",
       "      <td>0</td>\n",
       "      <td>1</td>\n",
       "      <td>55000.0</td>\n",
       "      <td>False</td>\n",
       "      <td>128</td>\n",
       "    </tr>\n",
       "    <tr>\n",
       "      <th>3</th>\n",
       "      <td>3</td>\n",
       "      <td>131167</td>\n",
       "      <td>115</td>\n",
       "      <td>7860</td>\n",
       "      <td>0</td>\n",
       "      <td>3</td>\n",
       "      <td>0</td>\n",
       "      <td>1</td>\n",
       "      <td>19000.0</td>\n",
       "      <td>False</td>\n",
       "      <td>7860</td>\n",
       "    </tr>\n",
       "    <tr>\n",
       "      <th>4</th>\n",
       "      <td>4</td>\n",
       "      <td>137965</td>\n",
       "      <td>115</td>\n",
       "      <td>7922</td>\n",
       "      <td>0</td>\n",
       "      <td>4</td>\n",
       "      <td>1</td>\n",
       "      <td>1</td>\n",
       "      <td>11000.0</td>\n",
       "      <td>False</td>\n",
       "      <td>7922</td>\n",
       "    </tr>\n",
       "    <tr>\n",
       "      <th>...</th>\n",
       "      <td>...</td>\n",
       "      <td>...</td>\n",
       "      <td>...</td>\n",
       "      <td>...</td>\n",
       "      <td>...</td>\n",
       "      <td>...</td>\n",
       "      <td>...</td>\n",
       "      <td>...</td>\n",
       "      <td>...</td>\n",
       "      <td>...</td>\n",
       "      <td>...</td>\n",
       "    </tr>\n",
       "    <tr>\n",
       "      <th>95</th>\n",
       "      <td>95</td>\n",
       "      <td>835457</td>\n",
       "      <td>2746</td>\n",
       "      <td>484</td>\n",
       "      <td>0</td>\n",
       "      <td>19</td>\n",
       "      <td>0</td>\n",
       "      <td>1</td>\n",
       "      <td>20000.0</td>\n",
       "      <td>True</td>\n",
       "      <td>484</td>\n",
       "    </tr>\n",
       "    <tr>\n",
       "      <th>96</th>\n",
       "      <td>96</td>\n",
       "      <td>0</td>\n",
       "      <td>5382</td>\n",
       "      <td>5000</td>\n",
       "      <td>0</td>\n",
       "      <td>0</td>\n",
       "      <td>0</td>\n",
       "      <td>1</td>\n",
       "      <td>NaN</td>\n",
       "      <td>NaN</td>\n",
       "      <td>5000</td>\n",
       "    </tr>\n",
       "    <tr>\n",
       "      <th>97</th>\n",
       "      <td>97</td>\n",
       "      <td>39828</td>\n",
       "      <td>5382</td>\n",
       "      <td>3944</td>\n",
       "      <td>0</td>\n",
       "      <td>1</td>\n",
       "      <td>1</td>\n",
       "      <td>0</td>\n",
       "      <td>24000.0</td>\n",
       "      <td>False</td>\n",
       "      <td>17467</td>\n",
       "    </tr>\n",
       "    <tr>\n",
       "      <th>98</th>\n",
       "      <td>98</td>\n",
       "      <td>132189</td>\n",
       "      <td>5382</td>\n",
       "      <td>217</td>\n",
       "      <td>0</td>\n",
       "      <td>2</td>\n",
       "      <td>0</td>\n",
       "      <td>1</td>\n",
       "      <td>35000.0</td>\n",
       "      <td>False</td>\n",
       "      <td>217</td>\n",
       "    </tr>\n",
       "    <tr>\n",
       "      <th>99</th>\n",
       "      <td>99</td>\n",
       "      <td>153727</td>\n",
       "      <td>5382</td>\n",
       "      <td>5844</td>\n",
       "      <td>0</td>\n",
       "      <td>3</td>\n",
       "      <td>1</td>\n",
       "      <td>0</td>\n",
       "      <td>88000.0</td>\n",
       "      <td>False</td>\n",
       "      <td>19367</td>\n",
       "    </tr>\n",
       "  </tbody>\n",
       "</table>\n",
       "<p>100 rows × 11 columns</p>\n",
       "</div>"
      ],
      "text/plain": [
       "    row_id  timestamp  user_id  content_id  content_type_id  \\\n",
       "0        0          0      115        5692                0   \n",
       "1        1      56943      115        5716                0   \n",
       "2        2     118363      115         128                0   \n",
       "3        3     131167      115        7860                0   \n",
       "4        4     137965      115        7922                0   \n",
       "..     ...        ...      ...         ...              ...   \n",
       "95      95     835457     2746         484                0   \n",
       "96      96          0     5382        5000                0   \n",
       "97      97      39828     5382        3944                0   \n",
       "98      98     132189     5382         217                0   \n",
       "99      99     153727     5382        5844                0   \n",
       "\n",
       "    task_container_id  user_answer  answered_correctly  \\\n",
       "0                   1            3                   1   \n",
       "1                   2            2                   1   \n",
       "2                   0            0                   1   \n",
       "3                   3            0                   1   \n",
       "4                   4            1                   1   \n",
       "..                ...          ...                 ...   \n",
       "95                 19            0                   1   \n",
       "96                  0            0                   1   \n",
       "97                  1            1                   0   \n",
       "98                  2            0                   1   \n",
       "99                  3            1                   0   \n",
       "\n",
       "    prior_question_elapsed_time prior_question_had_explanation  new_qid  \n",
       "0                           NaN                            NaN     5692  \n",
       "1                       37000.0                          False     5716  \n",
       "2                       55000.0                          False      128  \n",
       "3                       19000.0                          False     7860  \n",
       "4                       11000.0                          False     7922  \n",
       "..                          ...                            ...      ...  \n",
       "95                      20000.0                           True      484  \n",
       "96                          NaN                            NaN     5000  \n",
       "97                      24000.0                          False    17467  \n",
       "98                      35000.0                          False      217  \n",
       "99                      88000.0                          False    19367  \n",
       "\n",
       "[100 rows x 11 columns]"
      ]
     },
     "execution_count": 13,
     "metadata": {},
     "output_type": "execute_result"
    }
   ],
   "source": [
    "test_df"
   ]
  },
  {
   "cell_type": "code",
   "execution_count": 14,
   "metadata": {},
   "outputs": [
    {
     "ename": "SyntaxError",
     "evalue": "unexpected EOF while parsing (<ipython-input-14-5dd2a2b22bcf>, line 6)",
     "output_type": "error",
     "traceback": [
      "\u001b[0;36m  File \u001b[0;32m\"<ipython-input-14-5dd2a2b22bcf>\"\u001b[0;36m, line \u001b[0;32m6\u001b[0m\n\u001b[0;31m    def __getitem__(self, index):\u001b[0m\n\u001b[0m                                 ^\u001b[0m\n\u001b[0;31mSyntaxError\u001b[0m\u001b[0;31m:\u001b[0m unexpected EOF while parsing\n"
     ]
    }
   ],
   "source": [
    "class Rii_dataset_train(Dataset):\n",
    "    def __init__(self,df ):\n",
    "        self.df = df\n",
    "    def __len__(self):\n",
    "        return len(self.df)\n",
    "    def __getitem__(self, index):\n"
   ]
  },
  {
   "cell_type": "code",
   "execution_count": 18,
   "metadata": {},
   "outputs": [],
   "source": [
    "import torch"
   ]
  },
  {
   "cell_type": "code",
   "execution_count": 19,
   "metadata": {},
   "outputs": [],
   "source": [
    "a = torch.randn([2,4,6])"
   ]
  },
  {
   "cell_type": "code",
   "execution_count": 20,
   "metadata": {},
   "outputs": [
    {
     "data": {
      "text/plain": [
       "torch.Size([2, 4, 6])"
      ]
     },
     "execution_count": 20,
     "metadata": {},
     "output_type": "execute_result"
    }
   ],
   "source": [
    "a.shape"
   ]
  },
  {
   "cell_type": "code",
   "execution_count": 21,
   "metadata": {},
   "outputs": [
    {
     "data": {
      "text/plain": [
       "3"
      ]
     },
     "execution_count": 21,
     "metadata": {},
     "output_type": "execute_result"
    }
   ],
   "source": [
    "a.dim()"
   ]
  },
  {
   "cell_type": "code",
   "execution_count": 22,
   "metadata": {},
   "outputs": [],
   "source": [
    "a = torch.randn(48,1)\n",
    "b = torch.randn(48, 50264)"
   ]
  },
  {
   "cell_type": "code",
   "execution_count": 23,
   "metadata": {},
   "outputs": [
    {
     "data": {
      "text/plain": [
       "2"
      ]
     },
     "execution_count": 23,
     "metadata": {},
     "output_type": "execute_result"
    }
   ],
   "source": [
    "a.dim()"
   ]
  },
  {
   "cell_type": "code",
   "execution_count": 24,
   "metadata": {},
   "outputs": [
    {
     "data": {
      "text/plain": [
       "2"
      ]
     },
     "execution_count": 24,
     "metadata": {},
     "output_type": "execute_result"
    }
   ],
   "source": [
    "b.dim()"
   ]
  },
  {
   "cell_type": "code",
   "execution_count": 25,
   "metadata": {},
   "outputs": [],
   "source": [
    "a = torch.randint(50264,(48,1))"
   ]
  },
  {
   "cell_type": "code",
   "execution_count": 26,
   "metadata": {},
   "outputs": [
    {
     "data": {
      "text/plain": [
       "tensor([[ 9460],\n",
       "        [33971],\n",
       "        [19977],\n",
       "        [38437],\n",
       "        [36321],\n",
       "        [47649],\n",
       "        [27892],\n",
       "        [ 6467],\n",
       "        [ 5620],\n",
       "        [18891],\n",
       "        [ 6523],\n",
       "        [39622],\n",
       "        [39383],\n",
       "        [42366],\n",
       "        [25763],\n",
       "        [19363],\n",
       "        [25903],\n",
       "        [43773],\n",
       "        [38717],\n",
       "        [17224],\n",
       "        [42966],\n",
       "        [49133],\n",
       "        [19322],\n",
       "        [39505],\n",
       "        [33618],\n",
       "        [18271],\n",
       "        [35313],\n",
       "        [13477],\n",
       "        [  610],\n",
       "        [14867],\n",
       "        [35068],\n",
       "        [24321],\n",
       "        [44824],\n",
       "        [34093],\n",
       "        [ 2187],\n",
       "        [ 9185],\n",
       "        [37946],\n",
       "        [49003],\n",
       "        [ 2582],\n",
       "        [15831],\n",
       "        [45086],\n",
       "        [15563],\n",
       "        [  639],\n",
       "        [ 9565],\n",
       "        [20334],\n",
       "        [16557],\n",
       "        [29046],\n",
       "        [32947]])"
      ]
     },
     "execution_count": 26,
     "metadata": {},
     "output_type": "execute_result"
    }
   ],
   "source": [
    "a"
   ]
  },
  {
   "cell_type": "code",
   "execution_count": 27,
   "metadata": {},
   "outputs": [
    {
     "data": {
      "text/plain": [
       "torch.Size([48, 1])"
      ]
     },
     "execution_count": 27,
     "metadata": {},
     "output_type": "execute_result"
    }
   ],
   "source": [
    "a.shape"
   ]
  },
  {
   "cell_type": "code",
   "execution_count": 28,
   "metadata": {},
   "outputs": [],
   "source": [
    "target = torch.randint(50264, (48,1))"
   ]
  },
  {
   "cell_type": "code",
   "execution_count": 29,
   "metadata": {},
   "outputs": [],
   "source": [
    "lprobs = torch.rand([48,50264])"
   ]
  },
  {
   "cell_type": "code",
   "execution_count": 30,
   "metadata": {},
   "outputs": [
    {
     "data": {
      "text/plain": [
       "torch.Size([48, 50264])"
      ]
     },
     "execution_count": 30,
     "metadata": {},
     "output_type": "execute_result"
    }
   ],
   "source": [
    "lprobs.shape"
   ]
  },
  {
   "cell_type": "code",
   "execution_count": 31,
   "metadata": {},
   "outputs": [
    {
     "data": {
      "text/plain": [
       "tensor([[0.0127, 0.4663, 0.5933,  ..., 0.4461, 0.6927, 0.7143],\n",
       "        [0.6527, 0.0757, 0.7406,  ..., 0.7533, 0.0894, 0.1856],\n",
       "        [0.5865, 0.1540, 0.5221,  ..., 0.3686, 0.8813, 0.8366],\n",
       "        ...,\n",
       "        [0.4942, 0.9205, 0.2240,  ..., 0.7193, 0.8629, 0.4389],\n",
       "        [0.2202, 0.9485, 0.9802,  ..., 0.0835, 0.1157, 0.2907],\n",
       "        [0.3521, 0.9785, 0.3581,  ..., 0.9012, 0.3303, 0.3006]])"
      ]
     },
     "execution_count": 31,
     "metadata": {},
     "output_type": "execute_result"
    }
   ],
   "source": [
    "lprobs"
   ]
  },
  {
   "cell_type": "code",
   "execution_count": 32,
   "metadata": {},
   "outputs": [],
   "source": [
    "nll_loss = lprobs.gather(dim=-1, index=target)"
   ]
  },
  {
   "cell_type": "code",
   "execution_count": 33,
   "metadata": {},
   "outputs": [
    {
     "data": {
      "text/plain": [
       "tensor([[0.2601],\n",
       "        [0.1393],\n",
       "        [0.8423],\n",
       "        [0.8845],\n",
       "        [0.7558],\n",
       "        [0.7334],\n",
       "        [0.3009],\n",
       "        [0.1727],\n",
       "        [0.2303],\n",
       "        [0.5292],\n",
       "        [0.8180],\n",
       "        [0.1596],\n",
       "        [0.9755],\n",
       "        [0.6182],\n",
       "        [0.5205],\n",
       "        [0.2599],\n",
       "        [0.1628],\n",
       "        [0.4998],\n",
       "        [0.8561],\n",
       "        [0.9199],\n",
       "        [0.3897],\n",
       "        [0.3733],\n",
       "        [0.5948],\n",
       "        [0.8170],\n",
       "        [0.2105],\n",
       "        [0.5066],\n",
       "        [0.2212],\n",
       "        [0.6646],\n",
       "        [0.3409],\n",
       "        [0.6873],\n",
       "        [0.3400],\n",
       "        [0.8953],\n",
       "        [0.0752],\n",
       "        [0.2194],\n",
       "        [0.9777],\n",
       "        [0.7289],\n",
       "        [0.0071],\n",
       "        [0.9153],\n",
       "        [0.2209],\n",
       "        [0.0525],\n",
       "        [0.4050],\n",
       "        [0.2847],\n",
       "        [0.1110],\n",
       "        [0.5877],\n",
       "        [0.6400],\n",
       "        [0.4380],\n",
       "        [0.9183],\n",
       "        [0.1358]])"
      ]
     },
     "execution_count": 33,
     "metadata": {},
     "output_type": "execute_result"
    }
   ],
   "source": [
    "nll_loss"
   ]
  },
  {
   "cell_type": "code",
   "execution_count": 34,
   "metadata": {},
   "outputs": [
    {
     "data": {
      "text/plain": [
       "torch.Size([48, 1])"
      ]
     },
     "execution_count": 34,
     "metadata": {},
     "output_type": "execute_result"
    }
   ],
   "source": [
    "nll_loss.shape"
   ]
  },
  {
   "cell_type": "code",
   "execution_count": 35,
   "metadata": {},
   "outputs": [
    {
     "data": {
      "text/plain": [
       "tensor([[0.0127, 0.4663, 0.5933,  ..., 0.4461, 0.6927, 0.7143],\n",
       "        [0.6527, 0.0757, 0.7406,  ..., 0.7533, 0.0894, 0.1856],\n",
       "        [0.5865, 0.1540, 0.5221,  ..., 0.3686, 0.8813, 0.8366],\n",
       "        ...,\n",
       "        [0.4942, 0.9205, 0.2240,  ..., 0.7193, 0.8629, 0.4389],\n",
       "        [0.2202, 0.9485, 0.9802,  ..., 0.0835, 0.1157, 0.2907],\n",
       "        [0.3521, 0.9785, 0.3581,  ..., 0.9012, 0.3303, 0.3006]])"
      ]
     },
     "execution_count": 35,
     "metadata": {},
     "output_type": "execute_result"
    }
   ],
   "source": [
    "lprobs"
   ]
  },
  {
   "cell_type": "code",
   "execution_count": 37,
   "metadata": {},
   "outputs": [
    {
     "data": {
      "text/plain": [
       "tensor(0.2601)"
      ]
     },
     "execution_count": 37,
     "metadata": {},
     "output_type": "execute_result"
    }
   ],
   "source": [
    "lprobs[0][40141]"
   ]
  },
  {
   "cell_type": "code",
   "execution_count": 36,
   "metadata": {},
   "outputs": [
    {
     "data": {
      "text/plain": [
       "tensor([[40141],\n",
       "        [30400],\n",
       "        [20171],\n",
       "        [ 6766],\n",
       "        [17560],\n",
       "        [27963],\n",
       "        [22304],\n",
       "        [ 3376],\n",
       "        [36573],\n",
       "        [12049],\n",
       "        [32356],\n",
       "        [17995],\n",
       "        [44983],\n",
       "        [36669],\n",
       "        [ 8441],\n",
       "        [21711],\n",
       "        [11671],\n",
       "        [35674],\n",
       "        [26128],\n",
       "        [37249],\n",
       "        [30130],\n",
       "        [44052],\n",
       "        [42702],\n",
       "        [36845],\n",
       "        [ 5338],\n",
       "        [24073],\n",
       "        [41857],\n",
       "        [34329],\n",
       "        [29322],\n",
       "        [17812],\n",
       "        [40213],\n",
       "        [31753],\n",
       "        [37606],\n",
       "        [17477],\n",
       "        [24506],\n",
       "        [ 1649],\n",
       "        [49382],\n",
       "        [32912],\n",
       "        [ 7455],\n",
       "        [ 3301],\n",
       "        [17950],\n",
       "        [41766],\n",
       "        [24892],\n",
       "        [15552],\n",
       "        [39079],\n",
       "        [30028],\n",
       "        [33040],\n",
       "        [ 8153]])"
      ]
     },
     "execution_count": 36,
     "metadata": {},
     "output_type": "execute_result"
    }
   ],
   "source": [
    "target"
   ]
  },
  {
   "cell_type": "code",
   "execution_count": 38,
   "metadata": {},
   "outputs": [],
   "source": [
    "pad_mask= target.eq(8153)"
   ]
  },
  {
   "cell_type": "code",
   "execution_count": 39,
   "metadata": {},
   "outputs": [
    {
     "data": {
      "text/plain": [
       "tensor([[False],\n",
       "        [False],\n",
       "        [False],\n",
       "        [False],\n",
       "        [False],\n",
       "        [False],\n",
       "        [False],\n",
       "        [False],\n",
       "        [False],\n",
       "        [False],\n",
       "        [False],\n",
       "        [False],\n",
       "        [False],\n",
       "        [False],\n",
       "        [False],\n",
       "        [False],\n",
       "        [False],\n",
       "        [False],\n",
       "        [False],\n",
       "        [False],\n",
       "        [False],\n",
       "        [False],\n",
       "        [False],\n",
       "        [False],\n",
       "        [False],\n",
       "        [False],\n",
       "        [False],\n",
       "        [False],\n",
       "        [False],\n",
       "        [False],\n",
       "        [False],\n",
       "        [False],\n",
       "        [False],\n",
       "        [False],\n",
       "        [False],\n",
       "        [False],\n",
       "        [False],\n",
       "        [False],\n",
       "        [False],\n",
       "        [False],\n",
       "        [False],\n",
       "        [False],\n",
       "        [False],\n",
       "        [False],\n",
       "        [False],\n",
       "        [False],\n",
       "        [False],\n",
       "        [ True]])"
      ]
     },
     "execution_count": 39,
     "metadata": {},
     "output_type": "execute_result"
    }
   ],
   "source": [
    "pad_mask"
   ]
  },
  {
   "cell_type": "code",
   "execution_count": 40,
   "metadata": {},
   "outputs": [
    {
     "data": {
      "text/plain": [
       "tensor([[0.2601],\n",
       "        [0.1393],\n",
       "        [0.8423],\n",
       "        [0.8845],\n",
       "        [0.7558],\n",
       "        [0.7334],\n",
       "        [0.3009],\n",
       "        [0.1727],\n",
       "        [0.2303],\n",
       "        [0.5292],\n",
       "        [0.8180],\n",
       "        [0.1596],\n",
       "        [0.9755],\n",
       "        [0.6182],\n",
       "        [0.5205],\n",
       "        [0.2599],\n",
       "        [0.1628],\n",
       "        [0.4998],\n",
       "        [0.8561],\n",
       "        [0.9199],\n",
       "        [0.3897],\n",
       "        [0.3733],\n",
       "        [0.5948],\n",
       "        [0.8170],\n",
       "        [0.2105],\n",
       "        [0.5066],\n",
       "        [0.2212],\n",
       "        [0.6646],\n",
       "        [0.3409],\n",
       "        [0.6873],\n",
       "        [0.3400],\n",
       "        [0.8953],\n",
       "        [0.0752],\n",
       "        [0.2194],\n",
       "        [0.9777],\n",
       "        [0.7289],\n",
       "        [0.0071],\n",
       "        [0.9153],\n",
       "        [0.2209],\n",
       "        [0.0525],\n",
       "        [0.4050],\n",
       "        [0.2847],\n",
       "        [0.1110],\n",
       "        [0.5877],\n",
       "        [0.6400],\n",
       "        [0.4380],\n",
       "        [0.9183],\n",
       "        [0.1358]])"
      ]
     },
     "execution_count": 40,
     "metadata": {},
     "output_type": "execute_result"
    }
   ],
   "source": [
    "nll_loss"
   ]
  },
  {
   "cell_type": "code",
   "execution_count": 41,
   "metadata": {},
   "outputs": [
    {
     "data": {
      "text/plain": [
       "tensor([[0.2601],\n",
       "        [0.1393],\n",
       "        [0.8423],\n",
       "        [0.8845],\n",
       "        [0.7558],\n",
       "        [0.7334],\n",
       "        [0.3009],\n",
       "        [0.1727],\n",
       "        [0.2303],\n",
       "        [0.5292],\n",
       "        [0.8180],\n",
       "        [0.1596],\n",
       "        [0.9755],\n",
       "        [0.6182],\n",
       "        [0.5205],\n",
       "        [0.2599],\n",
       "        [0.1628],\n",
       "        [0.4998],\n",
       "        [0.8561],\n",
       "        [0.9199],\n",
       "        [0.3897],\n",
       "        [0.3733],\n",
       "        [0.5948],\n",
       "        [0.8170],\n",
       "        [0.2105],\n",
       "        [0.5066],\n",
       "        [0.2212],\n",
       "        [0.6646],\n",
       "        [0.3409],\n",
       "        [0.6873],\n",
       "        [0.3400],\n",
       "        [0.8953],\n",
       "        [0.0752],\n",
       "        [0.2194],\n",
       "        [0.9777],\n",
       "        [0.7289],\n",
       "        [0.0071],\n",
       "        [0.9153],\n",
       "        [0.2209],\n",
       "        [0.0525],\n",
       "        [0.4050],\n",
       "        [0.2847],\n",
       "        [0.1110],\n",
       "        [0.5877],\n",
       "        [0.6400],\n",
       "        [0.4380],\n",
       "        [0.9183],\n",
       "        [0.0000]])"
      ]
     },
     "execution_count": 41,
     "metadata": {},
     "output_type": "execute_result"
    }
   ],
   "source": [
    "nll_loss.masked_fill_(pad_mask,0.0)"
   ]
  },
  {
   "cell_type": "code",
   "execution_count": 42,
   "metadata": {},
   "outputs": [],
   "source": [
    "w = torch.empty(3,5)"
   ]
  },
  {
   "cell_type": "code",
   "execution_count": 43,
   "metadata": {},
   "outputs": [
    {
     "data": {
      "text/plain": [
       "tensor([[0.0000e+00, 0.0000e+00, 7.1037e+09, 2.0005e+00, 1.1210e-44],\n",
       "        [0.0000e+00, 0.0000e+00, 0.0000e+00, 0.0000e+00, 0.0000e+00],\n",
       "        [0.0000e+00, 0.0000e+00, 0.0000e+00, 0.0000e+00, 0.0000e+00]])"
      ]
     },
     "execution_count": 43,
     "metadata": {},
     "output_type": "execute_result"
    }
   ],
   "source": [
    "w"
   ]
  },
  {
   "cell_type": "code",
   "execution_count": 44,
   "metadata": {},
   "outputs": [],
   "source": [
    "w = torch.empty(1)"
   ]
  },
  {
   "cell_type": "code",
   "execution_count": 45,
   "metadata": {},
   "outputs": [
    {
     "data": {
      "text/plain": [
       "tensor([0.])"
      ]
     },
     "execution_count": 45,
     "metadata": {},
     "output_type": "execute_result"
    }
   ],
   "source": [
    "w"
   ]
  },
  {
   "cell_type": "code",
   "execution_count": 47,
   "metadata": {},
   "outputs": [
    {
     "data": {
      "text/plain": [
       "tensor([0.1916])"
      ]
     },
     "execution_count": 47,
     "metadata": {},
     "output_type": "execute_result"
    }
   ],
   "source": [
    "torch.nn.init.uniform_(w)"
   ]
  },
  {
   "cell_type": "code",
   "execution_count": 48,
   "metadata": {},
   "outputs": [],
   "source": [
    "emb = torch.randn([2,3,46])"
   ]
  },
  {
   "cell_type": "code",
   "execution_count": 49,
   "metadata": {},
   "outputs": [
    {
     "data": {
      "text/plain": [
       "tensor([[[ 1.1996e+00, -1.5580e+00,  2.0268e-01,  5.2686e-02,  7.6731e-01,\n",
       "           6.0023e-01,  8.1248e-02,  7.5454e-01,  3.9815e-01,  2.0955e-01,\n",
       "           1.7664e-01, -1.2472e-01,  1.0662e+00, -6.8378e-01,  2.4561e-01,\n",
       "           1.5582e+00, -8.3121e-01,  1.3526e+00, -1.3202e+00,  1.1542e+00,\n",
       "          -8.7792e-01,  6.4724e-01, -4.4402e-01,  2.5612e-01,  6.8766e-01,\n",
       "          -2.8318e+00,  9.2781e-01, -3.4088e-01,  4.4471e-02,  1.0628e+00,\n",
       "           5.5053e-01,  1.0512e-01,  1.2656e+00, -5.0288e-01,  5.0880e-01,\n",
       "           3.8443e-01,  5.6463e-01,  5.2456e-01, -2.6841e-01, -3.9559e-01,\n",
       "           7.7989e-01,  3.8371e-01,  1.7162e-01, -5.5135e-01,  8.6088e-01,\n",
       "           1.0989e+00],\n",
       "         [-4.1473e-01, -1.6013e+00, -2.1530e-02,  2.2680e+00,  8.5087e-01,\n",
       "           1.3420e+00,  8.8448e-01, -1.1135e+00, -1.2012e-01,  3.2434e-01,\n",
       "          -1.2372e+00,  5.8207e-01,  1.1579e+00, -3.6937e-01,  8.0025e-01,\n",
       "          -1.9785e+00,  7.5390e-01,  1.1327e+00,  1.2340e+00,  1.2962e+00,\n",
       "           1.5665e+00, -1.8068e-01, -1.1478e+00,  6.5683e-01,  7.4204e-01,\n",
       "          -2.1554e+00, -9.4355e-01,  7.3348e-03,  1.9994e-01, -8.0998e-01,\n",
       "           5.4958e-01, -5.2530e-01,  7.9301e-01,  1.2964e+00,  1.5118e+00,\n",
       "           4.5593e-01, -1.2331e-01,  9.2954e-01, -8.5484e-01, -5.4182e-01,\n",
       "           1.1964e-01,  1.0728e+00,  3.4915e-01, -3.7529e-01, -2.1567e-01,\n",
       "           2.8453e-01],\n",
       "         [-2.1114e-01,  5.9978e-01, -3.7273e-01, -3.8947e-01, -5.7316e-01,\n",
       "           7.0842e-01, -1.2096e+00, -4.9783e-01,  1.6215e+00,  1.3443e+00,\n",
       "           3.9178e-01, -4.8627e-01, -5.7538e-01,  1.8136e+00, -7.2631e-01,\n",
       "           1.4276e-03,  8.1610e-01,  3.3909e-02,  9.9393e-01, -1.8286e+00,\n",
       "           1.5358e+00, -5.1487e-01, -3.0526e-01,  2.1135e+00, -9.0306e-02,\n",
       "           1.3548e+00,  1.0272e+00,  7.7931e-01,  1.1607e+00,  4.4151e-01,\n",
       "          -1.6271e+00,  2.7094e-01, -1.9117e+00, -6.5129e-01,  2.8378e-01,\n",
       "           1.7623e-01, -9.3763e-01,  1.0545e+00, -1.1876e+00, -2.1281e+00,\n",
       "          -1.0709e+00, -8.2858e-01, -2.9415e+00, -1.2881e-01,  6.8817e-02,\n",
       "           4.7839e-01]],\n",
       "\n",
       "        [[ 1.3553e+00,  2.6337e-02, -6.1741e-02, -3.2755e-01,  1.2199e+00,\n",
       "          -8.5909e-01, -8.4430e-01,  1.1762e+00,  3.0433e-01,  3.9800e-01,\n",
       "           8.1037e-01,  1.2134e+00, -1.4164e+00, -9.0292e-01, -1.3968e+00,\n",
       "           1.2898e+00,  6.3994e-01, -6.4929e-01, -5.3087e-01, -1.1955e+00,\n",
       "           9.2064e-01, -3.1186e-01,  1.7078e+00,  1.4271e+00,  1.3509e+00,\n",
       "           4.6934e-01,  2.1782e+00, -4.4576e-01,  1.5622e+00, -1.1168e+00,\n",
       "          -8.3606e-02,  8.5102e-01, -1.7573e+00,  1.4033e+00,  6.5881e-01,\n",
       "           1.1528e+00,  3.9799e-01,  8.4401e-01,  6.0327e-01, -2.8840e-01,\n",
       "           9.0919e-02, -8.4116e-01, -3.2775e-01, -1.4511e-01,  5.9782e-01,\n",
       "           3.9254e-01],\n",
       "         [-8.3809e-01, -4.9231e-01, -1.6709e+00,  1.6764e-01,  6.3588e-01,\n",
       "          -4.4401e-01,  5.3104e-01, -1.1779e+00, -1.5307e+00, -1.5648e+00,\n",
       "           2.5453e-01,  1.7892e-01, -2.8810e-01, -5.0582e-01, -1.2712e-01,\n",
       "          -1.5657e+00, -9.1807e-01,  3.3500e-01,  1.7509e+00, -5.8940e-01,\n",
       "           1.3416e+00, -2.0973e-01, -5.8252e-01, -4.0153e-01,  1.1731e+00,\n",
       "           3.5085e+00, -7.2006e-01, -8.8168e-02,  4.3370e-01,  2.1911e-01,\n",
       "          -2.5658e+00, -6.2175e-01,  8.6745e-01, -1.8169e+00, -2.7999e-01,\n",
       "           9.8111e-01,  1.9032e+00,  5.6665e-01, -1.8373e+00, -7.8638e-01,\n",
       "           1.0352e+00, -1.7106e+00, -1.4647e+00, -1.0257e+00,  5.2309e-01,\n",
       "           1.4392e+00],\n",
       "         [ 4.0517e-01,  1.6282e-01,  1.7775e-01,  8.2556e-02, -2.3933e+00,\n",
       "           6.0763e-01,  1.9621e+00,  1.3358e+00,  1.8703e-01,  1.6154e+00,\n",
       "          -3.9430e-01,  2.2339e-01,  1.3274e+00,  3.3682e-01, -8.5089e-02,\n",
       "           8.8334e-01, -1.7772e-01,  1.8017e+00,  1.1074e+00, -5.5006e-01,\n",
       "           5.7409e-01, -9.9698e-01,  8.5528e-01,  1.4939e+00, -5.8999e-01,\n",
       "           7.2751e-01,  1.3012e+00, -4.1951e-01, -2.6589e-02,  6.7975e-01,\n",
       "           1.5838e-01,  2.0363e-01,  8.8182e-02,  5.0759e-01,  5.6227e-01,\n",
       "          -3.4190e-01,  1.3994e+00,  4.6458e-01, -2.1651e+00, -8.4269e-01,\n",
       "           7.7241e-01,  2.6450e-01,  2.6165e-02, -1.4216e-01, -1.8344e+00,\n",
       "          -1.6712e+00]]])"
      ]
     },
     "execution_count": 49,
     "metadata": {},
     "output_type": "execute_result"
    }
   ],
   "source": [
    "emb"
   ]
  },
  {
   "cell_type": "code",
   "execution_count": 50,
   "metadata": {},
   "outputs": [],
   "source": [
    "c = emb * w"
   ]
  },
  {
   "cell_type": "code",
   "execution_count": 51,
   "metadata": {},
   "outputs": [
    {
     "data": {
      "text/plain": [
       "tensor([[[ 2.2984e-01, -2.9850e-01,  3.8832e-02,  1.0094e-02,  1.4701e-01,\n",
       "           1.1500e-01,  1.5567e-02,  1.4457e-01,  7.6285e-02,  4.0149e-02,\n",
       "           3.3843e-02, -2.3896e-02,  2.0428e-01, -1.3101e-01,  4.7058e-02,\n",
       "           2.9854e-01, -1.5926e-01,  2.5915e-01, -2.5295e-01,  2.2113e-01,\n",
       "          -1.6821e-01,  1.2401e-01, -8.5073e-02,  4.9072e-02,  1.3175e-01,\n",
       "          -5.4256e-01,  1.7776e-01, -6.5310e-02,  8.5204e-03,  2.0363e-01,\n",
       "           1.0548e-01,  2.0141e-02,  2.4248e-01, -9.6350e-02,  9.7484e-02,\n",
       "           7.3655e-02,  1.0818e-01,  1.0050e-01, -5.1426e-02, -7.5794e-02,\n",
       "           1.4942e-01,  7.3517e-02,  3.2881e-02, -1.0564e-01,  1.6494e-01,\n",
       "           2.1055e-01],\n",
       "         [-7.9461e-02, -3.0681e-01, -4.1250e-03,  4.3453e-01,  1.6302e-01,\n",
       "           2.5713e-01,  1.6946e-01, -2.1334e-01, -2.3014e-02,  6.2142e-02,\n",
       "          -2.3704e-01,  1.1152e-01,  2.2184e-01, -7.0771e-02,  1.5332e-01,\n",
       "          -3.7907e-01,  1.4444e-01,  2.1702e-01,  2.3642e-01,  2.4835e-01,\n",
       "           3.0014e-01, -3.4618e-02, -2.1991e-01,  1.2585e-01,  1.4217e-01,\n",
       "          -4.1297e-01, -1.8078e-01,  1.4053e-03,  3.8307e-02, -1.5519e-01,\n",
       "           1.0530e-01, -1.0064e-01,  1.5194e-01,  2.4839e-01,  2.8965e-01,\n",
       "           8.7354e-02, -2.3625e-02,  1.7810e-01, -1.6378e-01, -1.0381e-01,\n",
       "           2.2922e-02,  2.0555e-01,  6.6896e-02, -7.1904e-02, -4.1322e-02,\n",
       "           5.4516e-02],\n",
       "         [-4.0453e-02,  1.1492e-01, -7.1413e-02, -7.4621e-02, -1.0982e-01,\n",
       "           1.3573e-01, -2.3176e-01, -9.5383e-02,  3.1068e-01,  2.5756e-01,\n",
       "           7.5064e-02, -9.3168e-02, -1.1024e-01,  3.4748e-01, -1.3916e-01,\n",
       "           2.7352e-04,  1.5636e-01,  6.4968e-03,  1.9043e-01, -3.5036e-01,\n",
       "           2.9425e-01, -9.8647e-02, -5.8487e-02,  4.0493e-01, -1.7302e-02,\n",
       "           2.5957e-01,  1.9681e-01,  1.4931e-01,  2.2239e-01,  8.4592e-02,\n",
       "          -3.1174e-01,  5.1911e-02, -3.6628e-01, -1.2478e-01,  5.4371e-02,\n",
       "           3.3764e-02, -1.7965e-01,  2.0205e-01, -2.2754e-01, -4.0773e-01,\n",
       "          -2.0519e-01, -1.5875e-01, -5.6357e-01, -2.4679e-02,  1.3185e-02,\n",
       "           9.1658e-02]],\n",
       "\n",
       "        [[ 2.5967e-01,  5.0461e-03, -1.1829e-02, -6.2758e-02,  2.3373e-01,\n",
       "          -1.6460e-01, -1.6177e-01,  2.2535e-01,  5.8308e-02,  7.6256e-02,\n",
       "           1.5526e-01,  2.3248e-01, -2.7138e-01, -1.7300e-01, -2.6763e-01,\n",
       "           2.4713e-01,  1.2261e-01, -1.2440e-01, -1.0171e-01, -2.2905e-01,\n",
       "           1.7639e-01, -5.9752e-02,  3.2720e-01,  2.7343e-01,  2.5883e-01,\n",
       "           8.9923e-02,  4.1734e-01, -8.5406e-02,  2.9931e-01, -2.1397e-01,\n",
       "          -1.6019e-02,  1.6305e-01, -3.3668e-01,  2.6887e-01,  1.2623e-01,\n",
       "           2.2087e-01,  7.6254e-02,  1.6171e-01,  1.1558e-01, -5.5255e-02,\n",
       "           1.7420e-02, -1.6116e-01, -6.2796e-02, -2.7803e-02,  1.1454e-01,\n",
       "           7.5209e-02],\n",
       "         [-1.6058e-01, -9.4325e-02, -3.2013e-01,  3.2120e-02,  1.2183e-01,\n",
       "          -8.5071e-02,  1.0175e-01, -2.2568e-01, -2.9328e-01, -2.9981e-01,\n",
       "           4.8768e-02,  3.4281e-02, -5.5199e-02, -9.6912e-02, -2.4355e-02,\n",
       "          -2.9999e-01, -1.7590e-01,  6.4184e-02,  3.3547e-01, -1.1293e-01,\n",
       "           2.5705e-01, -4.0184e-02, -1.1161e-01, -7.6931e-02,  2.2476e-01,\n",
       "           6.7222e-01, -1.3796e-01, -1.6893e-02,  8.3096e-02,  4.1980e-02,\n",
       "          -4.9160e-01, -1.1912e-01,  1.6620e-01, -3.4811e-01, -5.3646e-02,\n",
       "           1.8798e-01,  3.6465e-01,  1.0857e-01, -3.5203e-01, -1.5067e-01,\n",
       "           1.9835e-01, -3.2775e-01, -2.8063e-01, -1.9652e-01,  1.0022e-01,\n",
       "           2.7574e-01],\n",
       "         [ 7.7628e-02,  3.1195e-02,  3.4056e-02,  1.5817e-02, -4.5854e-01,\n",
       "           1.1642e-01,  3.7593e-01,  2.5593e-01,  3.5833e-02,  3.0950e-01,\n",
       "          -7.5547e-02,  4.2800e-02,  2.5432e-01,  6.4533e-02, -1.6303e-02,\n",
       "           1.6924e-01, -3.4050e-02,  3.4521e-01,  2.1218e-01, -1.0539e-01,\n",
       "           1.0999e-01, -1.9102e-01,  1.6387e-01,  2.8623e-01, -1.1304e-01,\n",
       "           1.3939e-01,  2.4931e-01, -8.0376e-02, -5.0944e-03,  1.3024e-01,\n",
       "           3.0346e-02,  3.9015e-02,  1.6895e-02,  9.7252e-02,  1.0773e-01,\n",
       "          -6.5506e-02,  2.6812e-01,  8.9012e-02, -4.1483e-01, -1.6145e-01,\n",
       "           1.4799e-01,  5.0676e-02,  5.0130e-03, -2.7237e-02, -3.5147e-01,\n",
       "          -3.2020e-01]]])"
      ]
     },
     "execution_count": 51,
     "metadata": {},
     "output_type": "execute_result"
    }
   ],
   "source": [
    "c"
   ]
  },
  {
   "cell_type": "code",
   "execution_count": 52,
   "metadata": {},
   "outputs": [
    {
     "ename": "AttributeError",
     "evalue": "module 'torch' has no attribute 'uniform'",
     "output_type": "error",
     "traceback": [
      "\u001b[0;31m---------------------------------------------------------------------------\u001b[0m",
      "\u001b[0;31mAttributeError\u001b[0m                            Traceback (most recent call last)",
      "\u001b[0;32m<ipython-input-52-bedcea6d2905>\u001b[0m in \u001b[0;36m<module>\u001b[0;34m\u001b[0m\n\u001b[0;32m----> 1\u001b[0;31m \u001b[0ma\u001b[0m \u001b[0;34m=\u001b[0m \u001b[0mtorch\u001b[0m\u001b[0;34m.\u001b[0m\u001b[0muniform\u001b[0m\u001b[0;34m(\u001b[0m\u001b[0;36m1\u001b[0m\u001b[0;34m)\u001b[0m\u001b[0;34m\u001b[0m\u001b[0;34m\u001b[0m\u001b[0m\n\u001b[0m",
      "\u001b[0;31mAttributeError\u001b[0m: module 'torch' has no attribute 'uniform'"
     ]
    }
   ],
   "source": []
  },
  {
   "cell_type": "code",
   "execution_count": 53,
   "metadata": {},
   "outputs": [],
   "source": [
    "import torch"
   ]
  },
  {
   "cell_type": "code",
   "execution_count": 54,
   "metadata": {},
   "outputs": [
    {
     "ename": "AttributeError",
     "evalue": "module 'torch' has no attribute 'uniform'",
     "output_type": "error",
     "traceback": [
      "\u001b[0;31m---------------------------------------------------------------------------\u001b[0m",
      "\u001b[0;31mAttributeError\u001b[0m                            Traceback (most recent call last)",
      "\u001b[0;32m<ipython-input-54-bedcea6d2905>\u001b[0m in \u001b[0;36m<module>\u001b[0;34m\u001b[0m\n\u001b[0;32m----> 1\u001b[0;31m \u001b[0ma\u001b[0m \u001b[0;34m=\u001b[0m \u001b[0mtorch\u001b[0m\u001b[0;34m.\u001b[0m\u001b[0muniform\u001b[0m\u001b[0;34m(\u001b[0m\u001b[0;36m1\u001b[0m\u001b[0;34m)\u001b[0m\u001b[0;34m\u001b[0m\u001b[0;34m\u001b[0m\u001b[0m\n\u001b[0m",
      "\u001b[0;31mAttributeError\u001b[0m: module 'torch' has no attribute 'uniform'"
     ]
    }
   ],
   "source": [
    "a = torch.uniform(1)"
   ]
  },
  {
   "cell_type": "code",
   "execution_count": 55,
   "metadata": {},
   "outputs": [],
   "source": [
    "a = torch.randn(1)"
   ]
  },
  {
   "cell_type": "code",
   "execution_count": 56,
   "metadata": {},
   "outputs": [
    {
     "data": {
      "text/plain": [
       "tensor([-0.2613])"
      ]
     },
     "execution_count": 56,
     "metadata": {},
     "output_type": "execute_result"
    }
   ],
   "source": [
    "a"
   ]
  },
  {
   "cell_type": "code",
   "execution_count": 58,
   "metadata": {},
   "outputs": [
    {
     "data": {
      "text/plain": [
       "tensor([0.5064])"
      ]
     },
     "execution_count": 58,
     "metadata": {},
     "output_type": "execute_result"
    }
   ],
   "source": [
    "torch.nn.init.uniform_(a)"
   ]
  },
  {
   "cell_type": "code",
   "execution_count": 59,
   "metadata": {},
   "outputs": [
    {
     "data": {
      "text/plain": [
       "tensor([0.5064])"
      ]
     },
     "execution_count": 59,
     "metadata": {},
     "output_type": "execute_result"
    }
   ],
   "source": [
    "a"
   ]
  },
  {
   "cell_type": "code",
   "execution_count": 60,
   "metadata": {},
   "outputs": [],
   "source": [
    "b = torch.nn.init.uniform_(a)"
   ]
  },
  {
   "cell_type": "code",
   "execution_count": 61,
   "metadata": {},
   "outputs": [
    {
     "data": {
      "text/plain": [
       "tensor([0.1381])"
      ]
     },
     "execution_count": 61,
     "metadata": {},
     "output_type": "execute_result"
    }
   ],
   "source": [
    "b"
   ]
  },
  {
   "cell_type": "code",
   "execution_count": 62,
   "metadata": {},
   "outputs": [
    {
     "data": {
      "text/plain": [
       "tensor([0.1381])"
      ]
     },
     "execution_count": 62,
     "metadata": {},
     "output_type": "execute_result"
    }
   ],
   "source": [
    "b"
   ]
  },
  {
   "cell_type": "code",
   "execution_count": 64,
   "metadata": {},
   "outputs": [],
   "source": [
    "c = torch.LongTensor(b.long())"
   ]
  },
  {
   "cell_type": "code",
   "execution_count": 65,
   "metadata": {},
   "outputs": [
    {
     "data": {
      "text/plain": [
       "tensor([0])"
      ]
     },
     "execution_count": 65,
     "metadata": {},
     "output_type": "execute_result"
    }
   ],
   "source": [
    "c"
   ]
  },
  {
   "cell_type": "code",
   "execution_count": null,
   "metadata": {},
   "outputs": [],
   "source": []
  },
  {
   "cell_type": "code",
   "execution_count": 66,
   "metadata": {},
   "outputs": [],
   "source": [
    "from difflib import SequenceMatcher"
   ]
  },
  {
   "cell_type": "code",
   "execution_count": 67,
   "metadata": {},
   "outputs": [],
   "source": [
    "src = [3276,531,5,882,8,6,2156]\n",
    "trg = [3276,531,8,5,882,6,302]"
   ]
  },
  {
   "cell_type": "code",
   "execution_count": 68,
   "metadata": {},
   "outputs": [],
   "source": [
    "matcher = SequenceMatcher(None, src, trg)"
   ]
  },
  {
   "cell_type": "code",
   "execution_count": 69,
   "metadata": {},
   "outputs": [],
   "source": [
    "diffs = list(matcher.get_opcodes())"
   ]
  },
  {
   "cell_type": "code",
   "execution_count": 70,
   "metadata": {},
   "outputs": [
    {
     "name": "stdout",
     "output_type": "stream",
     "text": [
      "('equal', 0, 2, 0, 2)\n",
      "('insert', 2, 2, 2, 3)\n",
      "('equal', 2, 4, 3, 5)\n",
      "('delete', 4, 5, 5, 5)\n",
      "('equal', 5, 6, 5, 6)\n",
      "('replace', 6, 7, 6, 7)\n"
     ]
    }
   ],
   "source": [
    "for diff in diffs:\n",
    "    print(diff)"
   ]
  },
  {
   "cell_type": "code",
   "execution_count": 72,
   "metadata": {},
   "outputs": [],
   "source": [
    "import torch"
   ]
  },
  {
   "cell_type": "code",
   "execution_count": 73,
   "metadata": {},
   "outputs": [],
   "source": [
    "a = torch.tensor([3276,531,5,882,8,6,2156])"
   ]
  },
  {
   "cell_type": "code",
   "execution_count": 74,
   "metadata": {},
   "outputs": [
    {
     "data": {
      "text/plain": [
       "tensor([3276,  531,    5,  882,    8,    6, 2156])"
      ]
     },
     "execution_count": 74,
     "metadata": {},
     "output_type": "execute_result"
    }
   ],
   "source": [
    "a"
   ]
  },
  {
   "cell_type": "code",
   "execution_count": 75,
   "metadata": {},
   "outputs": [],
   "source": [
    "b = torch.tensor([3276,531,8,5,882,6,302])"
   ]
  },
  {
   "cell_type": "code",
   "execution_count": 76,
   "metadata": {},
   "outputs": [],
   "source": [
    "matcher2 = SequenceMatcher(None, a, b)"
   ]
  },
  {
   "cell_type": "code",
   "execution_count": 77,
   "metadata": {},
   "outputs": [],
   "source": [
    "diffs2 = list(matcher2.get_opcodes())"
   ]
  },
  {
   "cell_type": "code",
   "execution_count": 78,
   "metadata": {},
   "outputs": [
    {
     "name": "stdout",
     "output_type": "stream",
     "text": [
      "('equal', 0, 2, 0, 2)\n",
      "('replace', 2, 7, 2, 7)\n"
     ]
    }
   ],
   "source": [
    "for diff in diffs2:\n",
    "    print(diff)"
   ]
  },
  {
   "cell_type": "code",
   "execution_count": 79,
   "metadata": {},
   "outputs": [
    {
     "data": {
      "text/plain": [
       "tensor([3276,  531,    5,  882,    8,    6, 2156])"
      ]
     },
     "execution_count": 79,
     "metadata": {},
     "output_type": "execute_result"
    }
   ],
   "source": [
    "a"
   ]
  },
  {
   "cell_type": "code",
   "execution_count": 80,
   "metadata": {},
   "outputs": [
    {
     "data": {
      "text/plain": [
       "tensor([3276,  531,    8,    5,  882,    6,  302])"
      ]
     },
     "execution_count": 80,
     "metadata": {},
     "output_type": "execute_result"
    }
   ],
   "source": [
    "b"
   ]
  },
  {
   "cell_type": "code",
   "execution_count": 81,
   "metadata": {},
   "outputs": [],
   "source": [
    "a = torch.tensor([[1,2,3],[4,5,6]])"
   ]
  },
  {
   "cell_type": "code",
   "execution_count": 86,
   "metadata": {},
   "outputs": [],
   "source": [
    "c = a.tolist()"
   ]
  },
  {
   "cell_type": "code",
   "execution_count": 87,
   "metadata": {},
   "outputs": [
    {
     "data": {
      "text/plain": [
       "[[1, 2, 3], [4, 5, 6]]"
      ]
     },
     "execution_count": 87,
     "metadata": {},
     "output_type": "execute_result"
    }
   ],
   "source": [
    "c"
   ]
  },
  {
   "cell_type": "code",
   "execution_count": 89,
   "metadata": {},
   "outputs": [],
   "source": [
    "a = torch.tensor([[2,2,2,0,0,0],[2,2,0,0,0,0]])"
   ]
  },
  {
   "cell_type": "code",
   "execution_count": 90,
   "metadata": {},
   "outputs": [],
   "source": [
    "tgt_lengths = torch.LongTensor([e.ne(0).long().sum() for e in a] )"
   ]
  },
  {
   "cell_type": "code",
   "execution_count": 91,
   "metadata": {},
   "outputs": [
    {
     "data": {
      "text/plain": [
       "tensor([3, 2])"
      ]
     },
     "execution_count": 91,
     "metadata": {},
     "output_type": "execute_result"
    }
   ],
   "source": [
    "tgt_lengths"
   ]
  },
  {
   "cell_type": "code",
   "execution_count": 92,
   "metadata": {},
   "outputs": [],
   "source": [
    "srcs = torch.tensor([[3276,531,5,882,8,6,2156],[3276,531,5,882,8,6,2156]])\n",
    "trgs = torch.tensor([[3276,531,8,5,882,6,302],[3276,531,8,5,882,6,302]])"
   ]
  },
  {
   "cell_type": "code",
   "execution_count": 93,
   "metadata": {},
   "outputs": [],
   "source": [
    "srcs_list = srcs.tolist()"
   ]
  },
  {
   "cell_type": "code",
   "execution_count": 94,
   "metadata": {},
   "outputs": [],
   "source": [
    "trgs_list = trgs.tolist()"
   ]
  },
  {
   "cell_type": "code",
   "execution_count": 95,
   "metadata": {},
   "outputs": [
    {
     "data": {
      "text/plain": [
       "[[3276, 531, 5, 882, 8, 6, 2156], [3276, 531, 5, 882, 8, 6, 2156]]"
      ]
     },
     "execution_count": 95,
     "metadata": {},
     "output_type": "execute_result"
    }
   ],
   "source": [
    "srcs_list"
   ]
  },
  {
   "cell_type": "code",
   "execution_count": 96,
   "metadata": {},
   "outputs": [
    {
     "data": {
      "text/plain": [
       "[[3276, 531, 8, 5, 882, 6, 302], [3276, 531, 8, 5, 882, 6, 302]]"
      ]
     },
     "execution_count": 96,
     "metadata": {},
     "output_type": "execute_result"
    }
   ],
   "source": [
    "trgs_list"
   ]
  },
  {
   "cell_type": "code",
   "execution_count": 97,
   "metadata": {},
   "outputs": [],
   "source": [
    "res = []"
   ]
  },
  {
   "cell_type": "code",
   "execution_count": 99,
   "metadata": {},
   "outputs": [
    {
     "name": "stdout",
     "output_type": "stream",
     "text": [
      "('equal', 0, 2, 0, 2)\n",
      "('insert', 2, 2, 2, 3)\n",
      "('equal', 2, 4, 3, 5)\n",
      "('delete', 4, 5, 5, 5)\n",
      "('equal', 5, 6, 5, 6)\n",
      "('replace', 6, 7, 6, 7)\n",
      "\n",
      "\n",
      "\n",
      "('equal', 0, 2, 0, 2)\n",
      "('insert', 2, 2, 2, 3)\n",
      "('equal', 2, 4, 3, 5)\n",
      "('delete', 4, 5, 5, 5)\n",
      "('equal', 5, 6, 5, 6)\n",
      "('replace', 6, 7, 6, 7)\n",
      "\n",
      "\n",
      "\n"
     ]
    }
   ],
   "source": [
    "for i in range(len(srcs_list)):\n",
    "    src = srcs_list[i]\n",
    "    trg = trgs_list[i]\n",
    "    \n",
    "    matcher = SequenceMatcher(None, src, trg)\n",
    "    diffs = list(matcher.get_opcodes())\n",
    "    \n",
    "    ans = [1 for _ in range(len(trg))]\n",
    "    for diff in diffs:\n",
    "        print(diff)\n",
    "        tag,i1,i2,j1,j2 = diff\n",
    "        if tag != 'equal':\n",
    "            ans[j1:j2] = [2 for _ in range(j2-j1)]\n",
    "    res.append(ans)\n",
    "    print(\"\\n\\n\")"
   ]
  },
  {
   "cell_type": "code",
   "execution_count": 100,
   "metadata": {},
   "outputs": [
    {
     "data": {
      "text/plain": [
       "[[1, 1, 2, 1, 1, 1, 2], [1, 1, 2, 1, 1, 1, 2]]"
      ]
     },
     "execution_count": 100,
     "metadata": {},
     "output_type": "execute_result"
    }
   ],
   "source": [
    "res"
   ]
  },
  {
   "cell_type": "code",
   "execution_count": 101,
   "metadata": {},
   "outputs": [],
   "source": [
    "res_tensor = torch.LongTensor(res)"
   ]
  },
  {
   "cell_type": "code",
   "execution_count": 102,
   "metadata": {},
   "outputs": [
    {
     "data": {
      "text/plain": [
       "tensor([[1, 1, 2, 1, 1, 1, 2],\n",
       "        [1, 1, 2, 1, 1, 1, 2]])"
      ]
     },
     "execution_count": 102,
     "metadata": {},
     "output_type": "execute_result"
    }
   ],
   "source": [
    "res_tensor"
   ]
  },
  {
   "cell_type": "code",
   "execution_count": 110,
   "metadata": {},
   "outputs": [],
   "source": [
    "c = [torch.tensor([2,3,4,5,6]), torch.tensor([4,5,6,7,8])]"
   ]
  },
  {
   "cell_type": "code",
   "execution_count": 111,
   "metadata": {},
   "outputs": [],
   "source": [
    "size = max(v.size(0) for v in c)"
   ]
  },
  {
   "cell_type": "code",
   "execution_count": 112,
   "metadata": {},
   "outputs": [],
   "source": [
    "res = c[0].new(len(c), size).fill_(1)"
   ]
  },
  {
   "cell_type": "code",
   "execution_count": 113,
   "metadata": {},
   "outputs": [
    {
     "data": {
      "text/plain": [
       "tensor([[1, 1, 1, 1, 1],\n",
       "        [1, 1, 1, 1, 1]])"
      ]
     },
     "execution_count": 113,
     "metadata": {},
     "output_type": "execute_result"
    }
   ],
   "source": [
    "res"
   ]
  },
  {
   "cell_type": "code",
   "execution_count": 114,
   "metadata": {},
   "outputs": [],
   "source": [
    "res[1][2:4] = 4"
   ]
  },
  {
   "cell_type": "code",
   "execution_count": 115,
   "metadata": {},
   "outputs": [
    {
     "data": {
      "text/plain": [
       "tensor([[1, 1, 1, 1, 1],\n",
       "        [1, 1, 4, 4, 1]])"
      ]
     },
     "execution_count": 115,
     "metadata": {},
     "output_type": "execute_result"
    }
   ],
   "source": [
    "res"
   ]
  },
  {
   "cell_type": "code",
   "execution_count": 116,
   "metadata": {},
   "outputs": [],
   "source": [
    "nll_loss = torch.randn(48,1)"
   ]
  },
  {
   "cell_type": "code",
   "execution_count": 117,
   "metadata": {},
   "outputs": [
    {
     "data": {
      "text/plain": [
       "torch.Size([48, 1])"
      ]
     },
     "execution_count": 117,
     "metadata": {},
     "output_type": "execute_result"
    }
   ],
   "source": [
    "nll_loss.shape"
   ]
  },
  {
   "cell_type": "code",
   "execution_count": 118,
   "metadata": {},
   "outputs": [],
   "source": [
    "nll_loss = torch.tensor([1,2,3])"
   ]
  },
  {
   "cell_type": "code",
   "execution_count": 119,
   "metadata": {},
   "outputs": [],
   "source": [
    "weight = torch.tensor([1,1,2])"
   ]
  },
  {
   "cell_type": "code",
   "execution_count": 120,
   "metadata": {},
   "outputs": [],
   "source": [
    "res = nll_loss * weight"
   ]
  },
  {
   "cell_type": "code",
   "execution_count": 121,
   "metadata": {},
   "outputs": [
    {
     "data": {
      "text/plain": [
       "tensor([1, 2, 6])"
      ]
     },
     "execution_count": 121,
     "metadata": {},
     "output_type": "execute_result"
    }
   ],
   "source": [
    "res"
   ]
  },
  {
   "cell_type": "code",
   "execution_count": 127,
   "metadata": {},
   "outputs": [],
   "source": [
    "a = torch.randint(1,10,(2,3))"
   ]
  },
  {
   "cell_type": "code",
   "execution_count": 128,
   "metadata": {},
   "outputs": [
    {
     "data": {
      "text/plain": [
       "tensor([[9, 8, 2],\n",
       "        [1, 6, 7]])"
      ]
     },
     "execution_count": 128,
     "metadata": {},
     "output_type": "execute_result"
    }
   ],
   "source": [
    "a"
   ]
  },
  {
   "cell_type": "code",
   "execution_count": 130,
   "metadata": {},
   "outputs": [],
   "source": [
    "mask = torch.tensor([1,0])"
   ]
  },
  {
   "cell_type": "code",
   "execution_count": 132,
   "metadata": {},
   "outputs": [],
   "source": [
    "a = a.permute(1,0)"
   ]
  },
  {
   "cell_type": "code",
   "execution_count": 133,
   "metadata": {},
   "outputs": [
    {
     "data": {
      "text/plain": [
       "tensor([[9, 1],\n",
       "        [8, 6],\n",
       "        [2, 7]])"
      ]
     },
     "execution_count": 133,
     "metadata": {},
     "output_type": "execute_result"
    }
   ],
   "source": [
    "a"
   ]
  },
  {
   "cell_type": "code",
   "execution_count": 134,
   "metadata": {},
   "outputs": [],
   "source": [
    "c = a*mask"
   ]
  },
  {
   "cell_type": "code",
   "execution_count": 135,
   "metadata": {},
   "outputs": [
    {
     "data": {
      "text/plain": [
       "tensor([[9, 0],\n",
       "        [8, 0],\n",
       "        [2, 0]])"
      ]
     },
     "execution_count": 135,
     "metadata": {},
     "output_type": "execute_result"
    }
   ],
   "source": [
    "c"
   ]
  },
  {
   "cell_type": "code",
   "execution_count": 136,
   "metadata": {},
   "outputs": [],
   "source": [
    "c = c.permute(1,0)"
   ]
  },
  {
   "cell_type": "code",
   "execution_count": 137,
   "metadata": {},
   "outputs": [
    {
     "data": {
      "text/plain": [
       "tensor([[9, 8, 2],\n",
       "        [0, 0, 0]])"
      ]
     },
     "execution_count": 137,
     "metadata": {},
     "output_type": "execute_result"
    }
   ],
   "source": [
    "c"
   ]
  },
  {
   "cell_type": "code",
   "execution_count": 138,
   "metadata": {},
   "outputs": [
    {
     "ename": "SyntaxError",
     "evalue": "invalid syntax (<ipython-input-138-3f0b25fec70b>, line 2)",
     "output_type": "error",
     "traceback": [
      "\u001b[0;36m  File \u001b[0;32m\"<ipython-input-138-3f0b25fec70b>\"\u001b[0;36m, line \u001b[0;32m2\u001b[0m\n\u001b[0;31m    680             label = item[3].to(device).float()\u001b[0m\n\u001b[0m                        ^\u001b[0m\n\u001b[0;31mSyntaxError\u001b[0m\u001b[0;31m:\u001b[0m invalid syntax\n"
     ]
    }
   ],
   "source": [
    "679\n",
    "680             label = item[3].to(device).float()\n",
    "681\n",
    "682 #             print(\"In evaluation x shape is:{}\\t taret_id shape is:{}\\t label shape is:{}\".format(x.shape, ta    rget_id.shape,label.shape))\n",
    "683\n",
    "684             output = model(enc_que, enc_part, dec_ans)\n",
    "685 #             print(\"Output shape is:{}\\tlabel shape is:{}\".format(output.shape, label.shape))\n",
    "686\n",
    "687             output_loss = output[:, -1:]\n",
    "688             loss = criterion(output_loss, label)\n",
    "689             eval_loss.append(loss.item())\n",
    "690\n",
    "691             output = output[:,-1]\n",
    "692             label = label[:, -1]\n",
    "693             pred = (torch.sigmoid(output) >= 0.5).long()\n",
    "694\n",
    "695             num_corrects += (pred == label).sum().item()\n",
    "696             num_total += len(label)"
   ]
  },
  {
   "cell_type": "code",
   "execution_count": null,
   "metadata": {},
   "outputs": [],
   "source": [
    "class SAKTDataset(Dataset):\n",
    "    def __init__(self, group, n_skill,n_ela_skill, max_seq=MAX_SEQ): #HDKIM 100\n",
    "        super(SAKTDataset, self).__init__()\n",
    "        self.max_seq = max_seq\n",
    "        self.n_skill = n_skill\n",
    "        self.n_ela_skill = n_ela_skill\n",
    "        self.samples = group\n",
    "        \n",
    "#         self.user_ids = [x for x in group.index]\n",
    "        self.enc_que = []\n",
    "        self.enc_part = []\n",
    "        self.dec_ans = []\n",
    "        self.label = []\n",
    "\n",
    "        self.user_ids = []\n",
    "        for user_id in group.index:\n",
    "            q_, qa_,ela_,part_,com_ = group[user_id]\n",
    "            if len(q_) < 2: #HDKIM 10\n",
    "                continue\n",
    "            self.user_ids.append(user_id)\n",
    "            \n",
    "            #HDKIM Memory reduction\n",
    "#             if len(q)>self.max_seq:\n",
    "#                 group[user_id] = (q[-self.max_seq:],qa[-self.max_seq:], ela[-self.max_seq:])\n",
    "            length = min(self.max_seq, len(q_))\n",
    "            for i in range(2,length):\n",
    "                \n",
    "                q = np.ones(self.max_seq, dtype=int)*13523\n",
    "                qa = np.zeros(self.max_seq, dtype=int)\n",
    "                ela = np.ones(self.max_seq, dtype=int)*301\n",
    "                part = np.ones(self.max_seq, dtype=int)*7\n",
    "                com = np.ones(self.max_seq, dtype=int)*4\n",
    "\n",
    "                q[-i:] = q_[:i].copy()\n",
    "                qa[-i:] = qa_[:i].copy()\n",
    "                ela[-i:] = ela_[:i].copy()                \n",
    "                part[-i:] = part_[:i].copy()                \n",
    "                com[-i:] = com_[:i].copy()                \n",
    "  \n",
    "                self.enc_que.append(q)\n",
    "                self.enc_part.append(qa)\n",
    "                self.dec_ans.append()\n",
    "    \n",
    "    def __len__(self):\n",
    "        return len(self.user_ids)\n",
    "\n",
    "        \n",
    "    \n",
    "    def __getitem__(self, index):\n",
    "        user_id = self.user_ids[index]\n",
    "        q_, qa_,ela_,part_,com_ = self.samples[user_id]\n",
    "        seq_len = len(q_)\n",
    "\n",
    "        q = np.ones(self.max_seq, dtype=int)*13523\n",
    "        qa = np.zeros(self.max_seq, dtype=int)\n",
    "        ela = np.ones(self.max_seq, dtype=int)*301\n",
    "        part = np.ones(self.max_seq, dtype=int)*7\n",
    "        com = np.ones(self.max_seq, dtype=int)*4\n",
    "\n",
    "        if seq_len >= self.max_seq:\n",
    "            if random.random() >0.1:\n",
    "                start = random.randint(0, (seq_len-self.max_seq))\n",
    "                end = start + self.max_seq\n",
    "                q[:] = q_[start:end]\n",
    "                qa[:] = qa_[start:end]\n",
    "                ela[:] = ela_[start:end]\n",
    "                part[:] = part_[start:end]\n",
    "                com[:] = com_[start:end]\n",
    "\n",
    "            else:   \n",
    "                q[:] = q_[-self.max_seq:]\n",
    "                qa[:] = qa_[-self.max_seq:]\n",
    "                ela[:] = ela_[-self.max_seq:]\n",
    "                part[:] = part_[-self.max_seq:]\n",
    "                com[:] = com_[-self.max_seq:]\n",
    "                \n",
    "                \n",
    "        else:\n",
    "            if random.random() > 0.1:\n",
    "                start = 0\n",
    "                end = random.randint(2, seq_len)\n",
    "                seq_len = end -start\n",
    "                q[-seq_len:] = q_[0:seq_len]\n",
    "                qa[-seq_len:] = qa_[0:seq_len]\n",
    "                ela[-seq_len:] = ela_[0:seq_len]\n",
    "                part[-seq_len:] = part_[0:seq_len]\n",
    "                com[-seq_len:] = com_[0:seq_len]\n",
    "                \n",
    "            else:\n",
    "                q[-seq_len:] = q_\n",
    "                qa[-seq_len:] = qa_\n",
    "                ela[-seq_len:] = ela_   \n",
    "                part[-seq_len:] = part_   \n",
    "                com[-seq_len:] = com_   \n",
    "            \n",
    "        label = qa[:]\n",
    "        \n",
    "        # encoder输入，从0开始一直到len \n",
    "        enc_que = np.ones(self.max_seq, dtype=int)*13523\n",
    "        enc_que = q[:].copy()\n",
    "        \n",
    "        enc_part = np.ones(self.max_seq, dtype=int)*7\n",
    "        enc_part = part[:].copy()\n",
    "        \n",
    "        enc_com = np.ones(self.max_seq, dtype=int)*4\n",
    "        enc_com = com[:].copy()\n",
    "        \n",
    "        # decoder输入， 先在左边pad一个位置，然后从0一直到len-1\n",
    "        dec_ela = np.ones(self.max_seq, dtype=int)*301\n",
    "        dec_ela[1:] = ela[:-1].copy()\n",
    "        \n",
    "        dec_ans = np.zeros(self.max_seq, dtype=int)\n",
    "        dec_ans[1:] = qa[:-1].copy()\n",
    "        \n",
    "\n",
    "        \n",
    "        return enc_que, enc_part, enc_com, dec_ans,  label\n",
    "        \n",
    "        \n",
    "#         return x, target_id,ela_x,ela_target,part_x,part_target,com_x,com_target,ans_x,label\n",
    "    # x和target_id都是来自于q，存在一个错位，x比target_id提前一个位置\n",
    "    # 所以我们可以尝试将ela 也分为ela_x和ela_target_id"
   ]
  },
  {
   "cell_type": "code",
   "execution_count": null,
   "metadata": {},
   "outputs": [],
   "source": [
    "class SAKTDataset(Dataset):\n",
    "247     def __init__(self, group, n_skill,n_ela_skill, max_seq=MAX_SEQ): #HDKIM 100\n",
    "248         super(SAKTDataset, self).__init__()\n",
    "249         self.max_seq = max_seq\n",
    "250         self.n_skill = n_skill\n",
    "251         self.n_ela_skill = n_ela_skill\n",
    "252         self.samples = group\n",
    "253\n",
    "254 #         self.user_ids = [x for x in group.index]\n",
    "255         self.user_ids = []\n",
    "256         for user_id in group.index:\n",
    "257             q, qa,ela = group[user_id]\n",
    "258             if len(q) < 5: #HDKIM 10\n",
    "259                 continue\n",
    "260             self.user_ids.append(user_id)\n",
    "261\n",
    "262             #HDKIM Memory reduction\n",
    "263             if len(q)>self.max_seq:\n",
    "264                 group[user_id] = (q[-self.max_seq:],qa[-self.max_seq:], ela[-self.max_seq:])\n",
    "265\n",
    "266     def __len__(self):\n",
    "267         return len(self.user_ids)\n",
    "268\n",
    "269     def __getitem__(self, index):\n",
    "270         user_id = self.user_ids[index]\n",
    "271         q_, qa_,ela_ = self.samples[user_id]\n",
    "272         seq_len = len(q_)\n",
    "\n",
    "274         q = np.zeros(self.max_seq, dtype=int)\n",
    "275         qa = np.zeros(self.max_seq, dtype=int)\n",
    "276         ela = np.zeros(self.max_seq, dtype=int)\n",
    "277\n",
    "278         if seq_len >= self.max_seq:\n",
    "279             q[:] = q_[-self.max_seq:]\n",
    "280             qa[:] = qa_[-self.max_seq:]\n",
    "281             ela[:] = ela_[-self.max_seq:]\n",
    "282         else:\n",
    "283             q[-seq_len:] = q_\n",
    "284             qa[-seq_len:] = qa_\n",
    "285             ela[-seq_len:] = ela_\n",
    "286\n",
    "287         target_id = q[1:]\n",
    "288         label = qa[1:]\n",
    "289         ela_target = ela[1:]\n",
    "290\n",
    "291         x = np.zeros(self.max_seq-1, dtype=int)\n",
    "292         x = q[:-1].copy()\n",
    "293         x += (qa[:-1] == 1) * self.n_skill\n",
    "294\n",
    "295         ela_x = np.zeros(self.max_seq-1, dtype=int)\n",
    "296         ela_x = ela[:-1].copy()\n",
    "297         ela_x += (qa[:-1]==1) * self.n_ela_skill\n",
    "298\n",
    "299         return x, target_id,ela_x,ela_target,label"
   ]
  },
  {
   "cell_type": "code",
   "execution_count": null,
   "metadata": {},
   "outputs": [],
   "source": []
  },
  {
   "cell_type": "code",
   "execution_count": 141,
   "metadata": {},
   "outputs": [],
   "source": [
    "a = torch.randint(0,10,(2,4,10))"
   ]
  },
  {
   "cell_type": "code",
   "execution_count": 142,
   "metadata": {},
   "outputs": [
    {
     "data": {
      "text/plain": [
       "tensor([[[7, 3, 0, 6, 2, 5, 7, 4, 6, 8],\n",
       "         [4, 9, 9, 7, 2, 5, 1, 9, 0, 3],\n",
       "         [4, 0, 7, 7, 7, 2, 5, 8, 3, 4],\n",
       "         [5, 7, 1, 4, 8, 8, 7, 8, 8, 5]],\n",
       "\n",
       "        [[3, 4, 5, 0, 0, 5, 4, 9, 0, 9],\n",
       "         [2, 3, 6, 4, 5, 2, 4, 4, 5, 3],\n",
       "         [2, 6, 3, 8, 9, 0, 4, 2, 0, 6],\n",
       "         [4, 5, 7, 2, 5, 0, 0, 5, 8, 3]]])"
      ]
     },
     "execution_count": 142,
     "metadata": {},
     "output_type": "execute_result"
    }
   ],
   "source": [
    "a"
   ]
  },
  {
   "cell_type": "code",
   "execution_count": 163,
   "metadata": {},
   "outputs": [],
   "source": [
    "adj = torch.randint(0,2,(4,4))"
   ]
  },
  {
   "cell_type": "code",
   "execution_count": 164,
   "metadata": {},
   "outputs": [
    {
     "data": {
      "text/plain": [
       "tensor([[1, 1, 0, 0],\n",
       "        [0, 0, 1, 1],\n",
       "        [1, 1, 0, 1],\n",
       "        [1, 1, 1, 1]])"
      ]
     },
     "execution_count": 164,
     "metadata": {},
     "output_type": "execute_result"
    }
   ],
   "source": [
    "adj"
   ]
  },
  {
   "cell_type": "code",
   "execution_count": 158,
   "metadata": {},
   "outputs": [],
   "source": [
    "w = torch.randn(10,10)"
   ]
  },
  {
   "cell_type": "code",
   "execution_count": 159,
   "metadata": {},
   "outputs": [],
   "source": [
    "w = w.long()"
   ]
  },
  {
   "cell_type": "code",
   "execution_count": 161,
   "metadata": {},
   "outputs": [],
   "source": [
    "w_a = torch.matmul(a, w)"
   ]
  },
  {
   "cell_type": "code",
   "execution_count": 162,
   "metadata": {},
   "outputs": [
    {
     "data": {
      "text/plain": [
       "tensor([[[  9,  14,  18,  -1,  -7,  12,   2,   5,   4,  13],\n",
       "         [  8,  25,  30, -13,   1,  32,  -2,  -6, -11,  15],\n",
       "         [  9,   9,  11,   3,  -3,  -3,  -1,   4,  -5,   5],\n",
       "         [ 12,  17,  38,  -8,  -8,  11,  -4,  -2,   4,  12]],\n",
       "\n",
       "        [[ 14,  18,  18,  -5,  -6,  25,  -9,   5,  19,  27],\n",
       "         [ 10,  10,  15,  -1,  -6,  -1,   0,   0,   0,  -3],\n",
       "         [ 25,  28,  21,  -2,  -4,  -2,   6,   0,  -2,  -2],\n",
       "         [ 12,   3,  15,  -5,  -7,   1,  -3,  -2,  -2,  -7]]])"
      ]
     },
     "execution_count": 162,
     "metadata": {},
     "output_type": "execute_result"
    }
   ],
   "source": [
    "w_a"
   ]
  },
  {
   "cell_type": "code",
   "execution_count": 165,
   "metadata": {},
   "outputs": [],
   "source": [
    "res = torch.matmul(adj, w_a)"
   ]
  },
  {
   "cell_type": "code",
   "execution_count": 166,
   "metadata": {},
   "outputs": [
    {
     "data": {
      "text/plain": [
       "tensor([[[ 17,  39,  48, -14,  -6,  44,   0,  -1,  -7,  28],\n",
       "         [ 21,  26,  49,  -5, -11,   8,  -5,   2,  -1,  17],\n",
       "         [ 29,  56,  86, -22, -14,  55,  -4,  -3,  -3,  40],\n",
       "         [ 38,  65,  97, -19, -17,  52,  -5,   1,  -8,  45]],\n",
       "\n",
       "        [[ 24,  28,  33,  -6, -12,  24,  -9,   5,  19,  24],\n",
       "         [ 37,  31,  36,  -7, -11,  -1,   3,  -2,  -4,  -9],\n",
       "         [ 36,  31,  48, -11, -19,  25, -12,   3,  17,  17],\n",
       "         [ 61,  59,  69, -13, -23,  23,  -6,   3,  15,  15]]])"
      ]
     },
     "execution_count": 166,
     "metadata": {},
     "output_type": "execute_result"
    }
   ],
   "source": [
    "res"
   ]
  },
  {
   "cell_type": "code",
   "execution_count": 167,
   "metadata": {},
   "outputs": [],
   "source": [
    "eye = torch.eye(4)"
   ]
  },
  {
   "cell_type": "code",
   "execution_count": 168,
   "metadata": {},
   "outputs": [
    {
     "data": {
      "text/plain": [
       "tensor([[1., 0., 0., 0.],\n",
       "        [0., 1., 0., 0.],\n",
       "        [0., 0., 1., 0.],\n",
       "        [0., 0., 0., 1.]])"
      ]
     },
     "execution_count": 168,
     "metadata": {},
     "output_type": "execute_result"
    }
   ],
   "source": [
    "eye"
   ]
  },
  {
   "cell_type": "code",
   "execution_count": 169,
   "metadata": {},
   "outputs": [
    {
     "ename": "SyntaxError",
     "evalue": "unexpected EOF while parsing (<ipython-input-169-6f30bfe17eed>, line 6)",
     "output_type": "error",
     "traceback": [
      "\u001b[0;36m  File \u001b[0;32m\"<ipython-input-169-6f30bfe17eed>\"\u001b[0;36m, line \u001b[0;32m6\u001b[0m\n\u001b[0;31m    \u001b[0m\n\u001b[0m    ^\u001b[0m\n\u001b[0;31mSyntaxError\u001b[0m\u001b[0;31m:\u001b[0m unexpected EOF while parsing\n"
     ]
    }
   ],
   "source": [
    "a = torch.randn(2,3\n",
    "               \\\n",
    "                \n",
    "                \n",
    "                \n",
    "                            "
   ]
  },
  {
   "cell_type": "code",
   "execution_count": 174,
   "metadata": {},
   "outputs": [],
   "source": [
    "a = torch.randn(2,3,1)"
   ]
  },
  {
   "cell_type": "code",
   "execution_count": 175,
   "metadata": {},
   "outputs": [],
   "source": [
    "c = a.squeeze(-1)"
   ]
  },
  {
   "cell_type": "code",
   "execution_count": 176,
   "metadata": {},
   "outputs": [
    {
     "data": {
      "text/plain": [
       "tensor([[ 0.4876,  0.7969,  1.1045],\n",
       "        [ 0.9932, -0.0494, -0.1053]])"
      ]
     },
     "execution_count": 176,
     "metadata": {},
     "output_type": "execute_result"
    }
   ],
   "source": [
    "c"
   ]
  },
  {
   "cell_type": "code",
   "execution_count": 177,
   "metadata": {},
   "outputs": [
    {
     "data": {
      "text/plain": [
       "torch.Size([2, 3])"
      ]
     },
     "execution_count": 177,
     "metadata": {},
     "output_type": "execute_result"
    }
   ],
   "source": [
    "c.shape"
   ]
  },
  {
   "cell_type": "code",
   "execution_count": 178,
   "metadata": {},
   "outputs": [],
   "source": [
    "train_df = pd.read_csv('/Users/hesu/Documents/KT/riiid/user_seq/train_200_valid_2_more_data.csv')"
   ]
  },
  {
   "cell_type": "code",
   "execution_count": 179,
   "metadata": {},
   "outputs": [
    {
     "data": {
      "text/plain": [
       "Index(['user_id', 'values'], dtype='object')"
      ]
     },
     "execution_count": 179,
     "metadata": {},
     "output_type": "execute_result"
    }
   ],
   "source": [
    "train_df.columns"
   ]
  },
  {
   "cell_type": "code",
   "execution_count": 181,
   "metadata": {},
   "outputs": [
    {
     "data": {
      "text/html": [
       "<div>\n",
       "<style scoped>\n",
       "    .dataframe tbody tr th:only-of-type {\n",
       "        vertical-align: middle;\n",
       "    }\n",
       "\n",
       "    .dataframe tbody tr th {\n",
       "        vertical-align: top;\n",
       "    }\n",
       "\n",
       "    .dataframe thead th {\n",
       "        text-align: right;\n",
       "    }\n",
       "</style>\n",
       "<table border=\"1\" class=\"dataframe\">\n",
       "  <thead>\n",
       "    <tr style=\"text-align: right;\">\n",
       "      <th></th>\n",
       "      <th>user_id</th>\n",
       "      <th>values</th>\n",
       "    </tr>\n",
       "  </thead>\n",
       "  <tbody>\n",
       "    <tr>\n",
       "      <th>0</th>\n",
       "      <td>115</td>\n",
       "      <td>(array([5692, 5716,  128, 7860, 7922,  156,   ...</td>\n",
       "    </tr>\n",
       "    <tr>\n",
       "      <th>1</th>\n",
       "      <td>124</td>\n",
       "      <td>(array([7900, 7876,  175, 1278, 2063, 2065, 20...</td>\n",
       "    </tr>\n",
       "    <tr>\n",
       "      <th>2</th>\n",
       "      <td>2746</td>\n",
       "      <td>(array([ 5273,   758,  5976,   236,   404,   3...</td>\n",
       "    </tr>\n",
       "    <tr>\n",
       "      <th>3</th>\n",
       "      <td>5382</td>\n",
       "      <td>(array([ 5000,  3944,   217,  5844,  5965,  49...</td>\n",
       "    </tr>\n",
       "    <tr>\n",
       "      <th>4</th>\n",
       "      <td>8623</td>\n",
       "      <td>(array([ 3915,  4750,  6456,  3968,  6104,  57...</td>\n",
       "    </tr>\n",
       "    <tr>\n",
       "      <th>5</th>\n",
       "      <td>8701</td>\n",
       "      <td>(array([ 3901,  6671,  4963,  6143,  8279,  39...</td>\n",
       "    </tr>\n",
       "    <tr>\n",
       "      <th>6</th>\n",
       "      <td>12741</td>\n",
       "      <td>(array([ 8750,  5952,  9133,  6016, 11183,  44...</td>\n",
       "    </tr>\n",
       "    <tr>\n",
       "      <th>7</th>\n",
       "      <td>13134</td>\n",
       "      <td>(array([12137, 12119, 12124, 12215, 11916, 121...</td>\n",
       "    </tr>\n",
       "    <tr>\n",
       "      <th>8</th>\n",
       "      <td>24418</td>\n",
       "      <td>(array([ 3951,  8469,  6081,  9796,  6299,  41...</td>\n",
       "    </tr>\n",
       "    <tr>\n",
       "      <th>9</th>\n",
       "      <td>24600</td>\n",
       "      <td>(array([ 7900,  7876,   175,  1278,  2064,  20...</td>\n",
       "    </tr>\n",
       "  </tbody>\n",
       "</table>\n",
       "</div>"
      ],
      "text/plain": [
       "   user_id                                             values\n",
       "0      115  (array([5692, 5716,  128, 7860, 7922,  156,   ...\n",
       "1      124  (array([7900, 7876,  175, 1278, 2063, 2065, 20...\n",
       "2     2746  (array([ 5273,   758,  5976,   236,   404,   3...\n",
       "3     5382  (array([ 5000,  3944,   217,  5844,  5965,  49...\n",
       "4     8623  (array([ 3915,  4750,  6456,  3968,  6104,  57...\n",
       "5     8701  (array([ 3901,  6671,  4963,  6143,  8279,  39...\n",
       "6    12741  (array([ 8750,  5952,  9133,  6016, 11183,  44...\n",
       "7    13134  (array([12137, 12119, 12124, 12215, 11916, 121...\n",
       "8    24418  (array([ 3951,  8469,  6081,  9796,  6299,  41...\n",
       "9    24600  (array([ 7900,  7876,   175,  1278,  2064,  20..."
      ]
     },
     "execution_count": 181,
     "metadata": {},
     "output_type": "execute_result"
    }
   ],
   "source": [
    "train_df.head(10)"
   ]
  },
  {
   "cell_type": "code",
   "execution_count": 183,
   "metadata": {},
   "outputs": [],
   "source": [
    "user_id = train_df.iloc[0,0]"
   ]
  },
  {
   "cell_type": "code",
   "execution_count": 184,
   "metadata": {},
   "outputs": [
    {
     "data": {
      "text/plain": [
       "115"
      ]
     },
     "execution_count": 184,
     "metadata": {},
     "output_type": "execute_result"
    }
   ],
   "source": [
    "user_id"
   ]
  },
  {
   "cell_type": "code",
   "execution_count": 185,
   "metadata": {},
   "outputs": [
    {
     "name": "stdout",
     "output_type": "stream",
     "text": [
      "<class 'numpy.int64'>\n"
     ]
    }
   ],
   "source": [
    "print(type(user_id))"
   ]
  },
  {
   "cell_type": "code",
   "execution_count": 186,
   "metadata": {},
   "outputs": [],
   "source": [
    "values = train_df.iloc[0,1]"
   ]
  },
  {
   "cell_type": "code",
   "execution_count": 187,
   "metadata": {},
   "outputs": [
    {
     "data": {
      "text/plain": [
       "'(array([5692, 5716,  128, 7860, 7922,  156,   51,   50, 7896, 7863,  152,\\n        104,  108, 7900, 7901, 7971,   25,  183, 7926, 7927,    4, 7984,\\n         45,  185,   55, 7876,    6,  172, 7898,  175,  100, 7859,   57,\\n       7948,  151,  167, 7897, 7882, 7962, 1278, 2065, 2063, 2064, 3363],\\n      dtype=int16), array([1, 1, 1, 1, 1, 1, 1, 1, 1, 1, 0, 0, 0, 1, 1, 1, 1, 0, 1, 1, 0, 0,\\n       0, 0, 1, 1, 1, 1, 1, 0, 1, 0, 1, 1, 1, 1, 0, 1, 1, 1, 1, 0, 1, 0],\\n      dtype=int8), array([24., 37., 55., 19., 11.,  5., 17., 17., 16., 16., 17., 22., 23.,\\n       21., 24., 22., 21., 20., 18., 17., 29., 20., 19., 21., 22., 16.,\\n       20., 22., 22., 23., 20., 15., 20., 20., 22., 19., 17., 20., 17.,\\n       21., 17., 17., 17., 14.]), array([4, 4, 0, 0, 0, 0, 0, 0, 0, 0, 0, 0, 0, 0, 0, 0, 0, 0, 0, 0, 0, 0,\\n       0, 0, 0, 0, 0, 0, 0, 0, 0, 0, 0, 0, 0, 0, 0, 0, 0, 1, 2, 2, 2, 3]))'"
      ]
     },
     "execution_count": 187,
     "metadata": {},
     "output_type": "execute_result"
    }
   ],
   "source": [
    "values"
   ]
  },
  {
   "cell_type": "code",
   "execution_count": 188,
   "metadata": {},
   "outputs": [
    {
     "name": "stdout",
     "output_type": "stream",
     "text": [
      "<class 'str'>\n"
     ]
    }
   ],
   "source": [
    "print(type(values))"
   ]
  },
  {
   "cell_type": "code",
   "execution_count": 189,
   "metadata": {},
   "outputs": [
    {
     "name": "stderr",
     "output_type": "stream",
     "text": [
      "/anaconda3/envs/torch1.4/lib/python3.7/site-packages/ipykernel_launcher.py:1: DeprecationWarning: The binary mode of fromstring is deprecated, as it behaves surprisingly on unicode inputs. Use frombuffer instead\n",
      "  \"\"\"Entry point for launching an IPython kernel.\n"
     ]
    },
    {
     "ename": "ValueError",
     "evalue": "string size must be a multiple of element size",
     "output_type": "error",
     "traceback": [
      "\u001b[0;31m---------------------------------------------------------------------------\u001b[0m",
      "\u001b[0;31mValueError\u001b[0m                                Traceback (most recent call last)",
      "\u001b[0;32m<ipython-input-189-16778d5d92d0>\u001b[0m in \u001b[0;36m<module>\u001b[0;34m\u001b[0m\n\u001b[0;32m----> 1\u001b[0;31m \u001b[0mv\u001b[0m \u001b[0;34m=\u001b[0m \u001b[0mnp\u001b[0m\u001b[0;34m.\u001b[0m\u001b[0mfromstring\u001b[0m\u001b[0;34m(\u001b[0m\u001b[0mvalues\u001b[0m\u001b[0;34m)\u001b[0m\u001b[0;34m\u001b[0m\u001b[0;34m\u001b[0m\u001b[0m\n\u001b[0m",
      "\u001b[0;31mValueError\u001b[0m: string size must be a multiple of element size"
     ]
    }
   ],
   "source": [
    "v = np.fromstring(values)"
   ]
  },
  {
   "cell_type": "code",
   "execution_count": 190,
   "metadata": {},
   "outputs": [
    {
     "data": {
      "text/plain": [
       "'(array([5692, 5716,  128, 7860, 7922,  156,   51,   50, 7896, 7863,  152,\\n        104,  108, 7900, 7901, 7971,   25,  183, 7926, 7927,    4, 7984,\\n         45,  185,   55, 7876,    6,  172, 7898,  175,  100, 7859,   57,\\n       7948,  151,  167, 7897, 7882, 7962, 1278, 2065, 2063, 2064, 3363],\\n      dtype=int16), array([1, 1, 1, 1, 1, 1, 1, 1, 1, 1, 0, 0, 0, 1, 1, 1, 1, 0, 1, 1, 0, 0,\\n       0, 0, 1, 1, 1, 1, 1, 0, 1, 0, 1, 1, 1, 1, 0, 1, 1, 1, 1, 0, 1, 0],\\n      dtype=int8), array([24., 37., 55., 19., 11.,  5., 17., 17., 16., 16., 17., 22., 23.,\\n       21., 24., 22., 21., 20., 18., 17., 29., 20., 19., 21., 22., 16.,\\n       20., 22., 22., 23., 20., 15., 20., 20., 22., 19., 17., 20., 17.,\\n       21., 17., 17., 17., 14.]), array([4, 4, 0, 0, 0, 0, 0, 0, 0, 0, 0, 0, 0, 0, 0, 0, 0, 0, 0, 0, 0, 0,\\n       0, 0, 0, 0, 0, 0, 0, 0, 0, 0, 0, 0, 0, 0, 0, 0, 0, 1, 2, 2, 2, 3]))'"
      ]
     },
     "execution_count": 190,
     "metadata": {},
     "output_type": "execute_result"
    }
   ],
   "source": [
    "values"
   ]
  },
  {
   "cell_type": "code",
   "execution_count": 199,
   "metadata": {},
   "outputs": [],
   "source": [
    "splits = values.replace(\"(\",\"\").replace(\")\",\"\").replace(\"\\n\",\"\").replace(\" dtype=int16,\",\"\").replace(\"dtype=int8,\",\"\").replace(\"[\",\"\").replace(\"]\",\"\")"
   ]
  },
  {
   "cell_type": "code",
   "execution_count": 200,
   "metadata": {},
   "outputs": [
    {
     "data": {
      "text/plain": [
       "'array5692, 5716,  128, 7860, 7922,  156,   51,   50, 7896, 7863,  152,        104,  108, 7900, 7901, 7971,   25,  183, 7926, 7927,    4, 7984,         45,  185,   55, 7876,    6,  172, 7898,  175,  100, 7859,   57,       7948,  151,  167, 7897, 7882, 7962, 1278, 2065, 2063, 2064, 3363,      array1, 1, 1, 1, 1, 1, 1, 1, 1, 1, 0, 0, 0, 1, 1, 1, 1, 0, 1, 1, 0, 0,       0, 0, 1, 1, 1, 1, 1, 0, 1, 0, 1, 1, 1, 1, 0, 1, 1, 1, 1, 0, 1, 0,       array24., 37., 55., 19., 11.,  5., 17., 17., 16., 16., 17., 22., 23.,       21., 24., 22., 21., 20., 18., 17., 29., 20., 19., 21., 22., 16.,       20., 22., 22., 23., 20., 15., 20., 20., 22., 19., 17., 20., 17.,       21., 17., 17., 17., 14., array4, 4, 0, 0, 0, 0, 0, 0, 0, 0, 0, 0, 0, 0, 0, 0, 0, 0, 0, 0, 0, 0,       0, 0, 0, 0, 0, 0, 0, 0, 0, 0, 0, 0, 0, 0, 0, 0, 0, 1, 2, 2, 2, 3'"
      ]
     },
     "execution_count": 200,
     "metadata": {},
     "output_type": "execute_result"
    }
   ],
   "source": [
    "splits"
   ]
  },
  {
   "cell_type": "code",
   "execution_count": 201,
   "metadata": {},
   "outputs": [],
   "source": [
    "arrays = splits.split('array')"
   ]
  },
  {
   "cell_type": "code",
   "execution_count": 202,
   "metadata": {},
   "outputs": [
    {
     "data": {
      "text/plain": [
       "['',\n",
       " '5692, 5716,  128, 7860, 7922,  156,   51,   50, 7896, 7863,  152,        104,  108, 7900, 7901, 7971,   25,  183, 7926, 7927,    4, 7984,         45,  185,   55, 7876,    6,  172, 7898,  175,  100, 7859,   57,       7948,  151,  167, 7897, 7882, 7962, 1278, 2065, 2063, 2064, 3363,      ',\n",
       " '1, 1, 1, 1, 1, 1, 1, 1, 1, 1, 0, 0, 0, 1, 1, 1, 1, 0, 1, 1, 0, 0,       0, 0, 1, 1, 1, 1, 1, 0, 1, 0, 1, 1, 1, 1, 0, 1, 1, 1, 1, 0, 1, 0,       ',\n",
       " '24., 37., 55., 19., 11.,  5., 17., 17., 16., 16., 17., 22., 23.,       21., 24., 22., 21., 20., 18., 17., 29., 20., 19., 21., 22., 16.,       20., 22., 22., 23., 20., 15., 20., 20., 22., 19., 17., 20., 17.,       21., 17., 17., 17., 14., ',\n",
       " '4, 4, 0, 0, 0, 0, 0, 0, 0, 0, 0, 0, 0, 0, 0, 0, 0, 0, 0, 0, 0, 0,       0, 0, 0, 0, 0, 0, 0, 0, 0, 0, 0, 0, 0, 0, 0, 0, 0, 1, 2, 2, 2, 3']"
      ]
     },
     "execution_count": 202,
     "metadata": {},
     "output_type": "execute_result"
    }
   ],
   "source": [
    "arrays"
   ]
  },
  {
   "cell_type": "code",
   "execution_count": 205,
   "metadata": {},
   "outputs": [],
   "source": [
    "arrs = arrays[1:]"
   ]
  },
  {
   "cell_type": "code",
   "execution_count": 206,
   "metadata": {},
   "outputs": [
    {
     "data": {
      "text/plain": [
       "['5692, 5716,  128, 7860, 7922,  156,   51,   50, 7896, 7863,  152,        104,  108, 7900, 7901, 7971,   25,  183, 7926, 7927,    4, 7984,         45,  185,   55, 7876,    6,  172, 7898,  175,  100, 7859,   57,       7948,  151,  167, 7897, 7882, 7962, 1278, 2065, 2063, 2064, 3363,      ',\n",
       " '1, 1, 1, 1, 1, 1, 1, 1, 1, 1, 0, 0, 0, 1, 1, 1, 1, 0, 1, 1, 0, 0,       0, 0, 1, 1, 1, 1, 1, 0, 1, 0, 1, 1, 1, 1, 0, 1, 1, 1, 1, 0, 1, 0,       ',\n",
       " '24., 37., 55., 19., 11.,  5., 17., 17., 16., 16., 17., 22., 23.,       21., 24., 22., 21., 20., 18., 17., 29., 20., 19., 21., 22., 16.,       20., 22., 22., 23., 20., 15., 20., 20., 22., 19., 17., 20., 17.,       21., 17., 17., 17., 14., ',\n",
       " '4, 4, 0, 0, 0, 0, 0, 0, 0, 0, 0, 0, 0, 0, 0, 0, 0, 0, 0, 0, 0, 0,       0, 0, 0, 0, 0, 0, 0, 0, 0, 0, 0, 0, 0, 0, 0, 0, 0, 1, 2, 2, 2, 3']"
      ]
     },
     "execution_count": 206,
     "metadata": {},
     "output_type": "execute_result"
    }
   ],
   "source": [
    "arrs"
   ]
  },
  {
   "cell_type": "code",
   "execution_count": 215,
   "metadata": {},
   "outputs": [],
   "source": [
    "num1 = arrs[1]\n",
    "nums = num1.strip().split(',')"
   ]
  },
  {
   "cell_type": "code",
   "execution_count": 216,
   "metadata": {},
   "outputs": [
    {
     "data": {
      "text/plain": [
       "['1',\n",
       " ' 1',\n",
       " ' 1',\n",
       " ' 1',\n",
       " ' 1',\n",
       " ' 1',\n",
       " ' 1',\n",
       " ' 1',\n",
       " ' 1',\n",
       " ' 1',\n",
       " ' 0',\n",
       " ' 0',\n",
       " ' 0',\n",
       " ' 1',\n",
       " ' 1',\n",
       " ' 1',\n",
       " ' 1',\n",
       " ' 0',\n",
       " ' 1',\n",
       " ' 1',\n",
       " ' 0',\n",
       " ' 0',\n",
       " '       0',\n",
       " ' 0',\n",
       " ' 1',\n",
       " ' 1',\n",
       " ' 1',\n",
       " ' 1',\n",
       " ' 1',\n",
       " ' 0',\n",
       " ' 1',\n",
       " ' 0',\n",
       " ' 1',\n",
       " ' 1',\n",
       " ' 1',\n",
       " ' 1',\n",
       " ' 0',\n",
       " ' 1',\n",
       " ' 1',\n",
       " ' 1',\n",
       " ' 1',\n",
       " ' 0',\n",
       " ' 1',\n",
       " ' 0',\n",
       " '']"
      ]
     },
     "execution_count": 216,
     "metadata": {},
     "output_type": "execute_result"
    }
   ],
   "source": [
    "nums"
   ]
  },
  {
   "cell_type": "code",
   "execution_count": 217,
   "metadata": {},
   "outputs": [],
   "source": [
    "nums = [int(e.strip()) for e in nums[:-1]]"
   ]
  },
  {
   "cell_type": "code",
   "execution_count": 218,
   "metadata": {},
   "outputs": [
    {
     "data": {
      "text/plain": [
       "[1,\n",
       " 1,\n",
       " 1,\n",
       " 1,\n",
       " 1,\n",
       " 1,\n",
       " 1,\n",
       " 1,\n",
       " 1,\n",
       " 1,\n",
       " 0,\n",
       " 0,\n",
       " 0,\n",
       " 1,\n",
       " 1,\n",
       " 1,\n",
       " 1,\n",
       " 0,\n",
       " 1,\n",
       " 1,\n",
       " 0,\n",
       " 0,\n",
       " 0,\n",
       " 0,\n",
       " 1,\n",
       " 1,\n",
       " 1,\n",
       " 1,\n",
       " 1,\n",
       " 0,\n",
       " 1,\n",
       " 0,\n",
       " 1,\n",
       " 1,\n",
       " 1,\n",
       " 1,\n",
       " 0,\n",
       " 1,\n",
       " 1,\n",
       " 1,\n",
       " 1,\n",
       " 0,\n",
       " 1,\n",
       " 0]"
      ]
     },
     "execution_count": 218,
     "metadata": {},
     "output_type": "execute_result"
    }
   ],
   "source": [
    "nums"
   ]
  },
  {
   "cell_type": "code",
   "execution_count": 219,
   "metadata": {},
   "outputs": [
    {
     "data": {
      "text/plain": [
       "44"
      ]
     },
     "execution_count": 219,
     "metadata": {},
     "output_type": "execute_result"
    }
   ],
   "source": [
    "len(nums)"
   ]
  },
  {
   "cell_type": "code",
   "execution_count": 220,
   "metadata": {},
   "outputs": [
    {
     "data": {
      "text/plain": [
       "3223939"
      ]
     },
     "execution_count": 220,
     "metadata": {},
     "output_type": "execute_result"
    }
   ],
   "source": [
    "len(train_df)"
   ]
  },
  {
   "cell_type": "code",
   "execution_count": 223,
   "metadata": {},
   "outputs": [
    {
     "data": {
      "text/plain": [
       "0                 115\n",
       "1                 124\n",
       "2                2746\n",
       "3                5382\n",
       "4                8623\n",
       "              ...    \n",
       "3223934   -2147482273\n",
       "3223935   -2147482892\n",
       "3223936   -2147482889\n",
       "3223937   -2147482903\n",
       "3223938   -2147482901\n",
       "Name: user_id, Length: 3223939, dtype: int64"
      ]
     },
     "execution_count": 223,
     "metadata": {},
     "output_type": "execute_result"
    }
   ],
   "source": [
    "train_df['user_id']"
   ]
  },
  {
   "cell_type": "code",
   "execution_count": null,
   "metadata": {},
   "outputs": [],
   "source": [
    "dict_country = data.set_index('project').T.to_dict('list')\n"
   ]
  },
  {
   "cell_type": "code",
   "execution_count": 224,
   "metadata": {},
   "outputs": [
    {
     "ename": "KeyboardInterrupt",
     "evalue": "",
     "output_type": "error",
     "traceback": [
      "\u001b[0;31m---------------------------------------------------------------------------\u001b[0m",
      "\u001b[0;31mKeyboardInterrupt\u001b[0m                         Traceback (most recent call last)",
      "\u001b[0;32m<ipython-input-224-21886878cccb>\u001b[0m in \u001b[0;36m<module>\u001b[0;34m\u001b[0m\n\u001b[0;32m----> 1\u001b[0;31m \u001b[0md\u001b[0m \u001b[0;34m=\u001b[0m \u001b[0mtrain_df\u001b[0m\u001b[0;34m.\u001b[0m\u001b[0mset_index\u001b[0m\u001b[0;34m(\u001b[0m\u001b[0;34m'user_id'\u001b[0m\u001b[0;34m)\u001b[0m\u001b[0;34m.\u001b[0m\u001b[0mT\u001b[0m\u001b[0;34m.\u001b[0m\u001b[0mto_list\u001b[0m\u001b[0;34m(\u001b[0m\u001b[0;34m'list'\u001b[0m\u001b[0;34m)\u001b[0m\u001b[0;34m\u001b[0m\u001b[0;34m\u001b[0m\u001b[0m\n\u001b[0m",
      "\u001b[0;32m/anaconda3/envs/torch1.4/lib/python3.7/site-packages/pandas/core/frame.py\u001b[0m in \u001b[0;36mT\u001b[0;34m(self)\u001b[0m\n\u001b[1;32m   2809\u001b[0m     \u001b[0;34m@\u001b[0m\u001b[0mproperty\u001b[0m\u001b[0;34m\u001b[0m\u001b[0;34m\u001b[0m\u001b[0m\n\u001b[1;32m   2810\u001b[0m     \u001b[0;32mdef\u001b[0m \u001b[0mT\u001b[0m\u001b[0;34m(\u001b[0m\u001b[0mself\u001b[0m\u001b[0;34m)\u001b[0m \u001b[0;34m->\u001b[0m \u001b[0;34m\"DataFrame\"\u001b[0m\u001b[0;34m:\u001b[0m\u001b[0;34m\u001b[0m\u001b[0;34m\u001b[0m\u001b[0m\n\u001b[0;32m-> 2811\u001b[0;31m         \u001b[0;32mreturn\u001b[0m \u001b[0mself\u001b[0m\u001b[0;34m.\u001b[0m\u001b[0mtranspose\u001b[0m\u001b[0;34m(\u001b[0m\u001b[0;34m)\u001b[0m\u001b[0;34m\u001b[0m\u001b[0;34m\u001b[0m\u001b[0m\n\u001b[0m\u001b[1;32m   2812\u001b[0m \u001b[0;34m\u001b[0m\u001b[0m\n\u001b[1;32m   2813\u001b[0m     \u001b[0;31m# ----------------------------------------------------------------------\u001b[0m\u001b[0;34m\u001b[0m\u001b[0;34m\u001b[0m\u001b[0;34m\u001b[0m\u001b[0m\n",
      "\u001b[0;32m/anaconda3/envs/torch1.4/lib/python3.7/site-packages/pandas/core/frame.py\u001b[0m in \u001b[0;36mtranspose\u001b[0;34m(self, copy, *args)\u001b[0m\n\u001b[1;32m   2802\u001b[0m                 \u001b[0mnew_values\u001b[0m \u001b[0;34m=\u001b[0m \u001b[0mnew_values\u001b[0m\u001b[0;34m.\u001b[0m\u001b[0mcopy\u001b[0m\u001b[0;34m(\u001b[0m\u001b[0;34m)\u001b[0m\u001b[0;34m\u001b[0m\u001b[0;34m\u001b[0m\u001b[0m\n\u001b[1;32m   2803\u001b[0m             result = self._constructor(\n\u001b[0;32m-> 2804\u001b[0;31m                 \u001b[0mnew_values\u001b[0m\u001b[0;34m,\u001b[0m \u001b[0mindex\u001b[0m\u001b[0;34m=\u001b[0m\u001b[0mself\u001b[0m\u001b[0;34m.\u001b[0m\u001b[0mcolumns\u001b[0m\u001b[0;34m,\u001b[0m \u001b[0mcolumns\u001b[0m\u001b[0;34m=\u001b[0m\u001b[0mself\u001b[0m\u001b[0;34m.\u001b[0m\u001b[0mindex\u001b[0m\u001b[0;34m\u001b[0m\u001b[0;34m\u001b[0m\u001b[0m\n\u001b[0m\u001b[1;32m   2805\u001b[0m             )\n\u001b[1;32m   2806\u001b[0m \u001b[0;34m\u001b[0m\u001b[0m\n",
      "\u001b[0;32m/anaconda3/envs/torch1.4/lib/python3.7/site-packages/pandas/core/frame.py\u001b[0m in \u001b[0;36m__init__\u001b[0;34m(self, data, index, columns, dtype, copy)\u001b[0m\n\u001b[1;32m    495\u001b[0m                 \u001b[0mmgr\u001b[0m \u001b[0;34m=\u001b[0m \u001b[0minit_dict\u001b[0m\u001b[0;34m(\u001b[0m\u001b[0;34m{\u001b[0m\u001b[0mdata\u001b[0m\u001b[0;34m.\u001b[0m\u001b[0mname\u001b[0m\u001b[0;34m:\u001b[0m \u001b[0mdata\u001b[0m\u001b[0;34m}\u001b[0m\u001b[0;34m,\u001b[0m \u001b[0mindex\u001b[0m\u001b[0;34m,\u001b[0m \u001b[0mcolumns\u001b[0m\u001b[0;34m,\u001b[0m \u001b[0mdtype\u001b[0m\u001b[0;34m=\u001b[0m\u001b[0mdtype\u001b[0m\u001b[0;34m)\u001b[0m\u001b[0;34m\u001b[0m\u001b[0;34m\u001b[0m\u001b[0m\n\u001b[1;32m    496\u001b[0m             \u001b[0;32melse\u001b[0m\u001b[0;34m:\u001b[0m\u001b[0;34m\u001b[0m\u001b[0;34m\u001b[0m\u001b[0m\n\u001b[0;32m--> 497\u001b[0;31m                 \u001b[0mmgr\u001b[0m \u001b[0;34m=\u001b[0m \u001b[0minit_ndarray\u001b[0m\u001b[0;34m(\u001b[0m\u001b[0mdata\u001b[0m\u001b[0;34m,\u001b[0m \u001b[0mindex\u001b[0m\u001b[0;34m,\u001b[0m \u001b[0mcolumns\u001b[0m\u001b[0;34m,\u001b[0m \u001b[0mdtype\u001b[0m\u001b[0;34m=\u001b[0m\u001b[0mdtype\u001b[0m\u001b[0;34m,\u001b[0m \u001b[0mcopy\u001b[0m\u001b[0;34m=\u001b[0m\u001b[0mcopy\u001b[0m\u001b[0;34m)\u001b[0m\u001b[0;34m\u001b[0m\u001b[0;34m\u001b[0m\u001b[0m\n\u001b[0m\u001b[1;32m    498\u001b[0m \u001b[0;34m\u001b[0m\u001b[0m\n\u001b[1;32m    499\u001b[0m         \u001b[0;31m# For data is list-like, or Iterable (will consume into list)\u001b[0m\u001b[0;34m\u001b[0m\u001b[0;34m\u001b[0m\u001b[0;34m\u001b[0m\u001b[0m\n",
      "\u001b[0;32m/anaconda3/envs/torch1.4/lib/python3.7/site-packages/pandas/core/internals/construction.py\u001b[0m in \u001b[0;36minit_ndarray\u001b[0;34m(values, index, columns, dtype, copy)\u001b[0m\n\u001b[1;32m    223\u001b[0m             \u001b[0;31m# TODO: What about re-joining object columns?\u001b[0m\u001b[0;34m\u001b[0m\u001b[0;34m\u001b[0m\u001b[0;34m\u001b[0m\u001b[0m\n\u001b[1;32m    224\u001b[0m             block_values = [\n\u001b[0;32m--> 225\u001b[0;31m                 \u001b[0mmake_block\u001b[0m\u001b[0;34m(\u001b[0m\u001b[0mdvals_list\u001b[0m\u001b[0;34m[\u001b[0m\u001b[0mn\u001b[0m\u001b[0;34m]\u001b[0m\u001b[0;34m,\u001b[0m \u001b[0mplacement\u001b[0m\u001b[0;34m=\u001b[0m\u001b[0;34m[\u001b[0m\u001b[0mn\u001b[0m\u001b[0;34m]\u001b[0m\u001b[0;34m)\u001b[0m \u001b[0;32mfor\u001b[0m \u001b[0mn\u001b[0m \u001b[0;32min\u001b[0m \u001b[0mrange\u001b[0m\u001b[0;34m(\u001b[0m\u001b[0mlen\u001b[0m\u001b[0;34m(\u001b[0m\u001b[0mdvals_list\u001b[0m\u001b[0;34m)\u001b[0m\u001b[0;34m)\u001b[0m\u001b[0;34m\u001b[0m\u001b[0;34m\u001b[0m\u001b[0m\n\u001b[0m\u001b[1;32m    226\u001b[0m             ]\n\u001b[1;32m    227\u001b[0m \u001b[0;34m\u001b[0m\u001b[0m\n",
      "\u001b[0;32m/anaconda3/envs/torch1.4/lib/python3.7/site-packages/pandas/core/internals/construction.py\u001b[0m in \u001b[0;36m<listcomp>\u001b[0;34m(.0)\u001b[0m\n\u001b[1;32m    223\u001b[0m             \u001b[0;31m# TODO: What about re-joining object columns?\u001b[0m\u001b[0;34m\u001b[0m\u001b[0;34m\u001b[0m\u001b[0;34m\u001b[0m\u001b[0m\n\u001b[1;32m    224\u001b[0m             block_values = [\n\u001b[0;32m--> 225\u001b[0;31m                 \u001b[0mmake_block\u001b[0m\u001b[0;34m(\u001b[0m\u001b[0mdvals_list\u001b[0m\u001b[0;34m[\u001b[0m\u001b[0mn\u001b[0m\u001b[0;34m]\u001b[0m\u001b[0;34m,\u001b[0m \u001b[0mplacement\u001b[0m\u001b[0;34m=\u001b[0m\u001b[0;34m[\u001b[0m\u001b[0mn\u001b[0m\u001b[0;34m]\u001b[0m\u001b[0;34m)\u001b[0m \u001b[0;32mfor\u001b[0m \u001b[0mn\u001b[0m \u001b[0;32min\u001b[0m \u001b[0mrange\u001b[0m\u001b[0;34m(\u001b[0m\u001b[0mlen\u001b[0m\u001b[0;34m(\u001b[0m\u001b[0mdvals_list\u001b[0m\u001b[0;34m)\u001b[0m\u001b[0;34m)\u001b[0m\u001b[0;34m\u001b[0m\u001b[0;34m\u001b[0m\u001b[0m\n\u001b[0m\u001b[1;32m    226\u001b[0m             ]\n\u001b[1;32m    227\u001b[0m \u001b[0;34m\u001b[0m\u001b[0m\n",
      "\u001b[0;32m/anaconda3/envs/torch1.4/lib/python3.7/site-packages/pandas/core/internals/blocks.py\u001b[0m in \u001b[0;36mmake_block\u001b[0;34m(values, placement, klass, ndim, dtype)\u001b[0m\n\u001b[1;32m   2717\u001b[0m         \u001b[0mvalues\u001b[0m \u001b[0;34m=\u001b[0m \u001b[0mDatetimeArray\u001b[0m\u001b[0;34m.\u001b[0m\u001b[0m_simple_new\u001b[0m\u001b[0;34m(\u001b[0m\u001b[0mvalues\u001b[0m\u001b[0;34m,\u001b[0m \u001b[0mdtype\u001b[0m\u001b[0;34m=\u001b[0m\u001b[0mdtype\u001b[0m\u001b[0;34m)\u001b[0m\u001b[0;34m\u001b[0m\u001b[0;34m\u001b[0m\u001b[0m\n\u001b[1;32m   2718\u001b[0m \u001b[0;34m\u001b[0m\u001b[0m\n\u001b[0;32m-> 2719\u001b[0;31m     \u001b[0;32mreturn\u001b[0m \u001b[0mklass\u001b[0m\u001b[0;34m(\u001b[0m\u001b[0mvalues\u001b[0m\u001b[0;34m,\u001b[0m \u001b[0mndim\u001b[0m\u001b[0;34m=\u001b[0m\u001b[0mndim\u001b[0m\u001b[0;34m,\u001b[0m \u001b[0mplacement\u001b[0m\u001b[0;34m=\u001b[0m\u001b[0mplacement\u001b[0m\u001b[0;34m)\u001b[0m\u001b[0;34m\u001b[0m\u001b[0;34m\u001b[0m\u001b[0m\n\u001b[0m\u001b[1;32m   2720\u001b[0m \u001b[0;34m\u001b[0m\u001b[0m\n\u001b[1;32m   2721\u001b[0m \u001b[0;34m\u001b[0m\u001b[0m\n",
      "\u001b[0;32m/anaconda3/envs/torch1.4/lib/python3.7/site-packages/pandas/core/internals/blocks.py\u001b[0m in \u001b[0;36m__init__\u001b[0;34m(self, values, placement, ndim)\u001b[0m\n\u001b[1;32m   2373\u001b[0m             \u001b[0mvalues\u001b[0m \u001b[0;34m=\u001b[0m \u001b[0mnp\u001b[0m\u001b[0;34m.\u001b[0m\u001b[0marray\u001b[0m\u001b[0;34m(\u001b[0m\u001b[0mvalues\u001b[0m\u001b[0;34m,\u001b[0m \u001b[0mdtype\u001b[0m\u001b[0;34m=\u001b[0m\u001b[0mobject\u001b[0m\u001b[0;34m)\u001b[0m\u001b[0;34m\u001b[0m\u001b[0;34m\u001b[0m\u001b[0m\n\u001b[1;32m   2374\u001b[0m \u001b[0;34m\u001b[0m\u001b[0m\n\u001b[0;32m-> 2375\u001b[0;31m         \u001b[0msuper\u001b[0m\u001b[0;34m(\u001b[0m\u001b[0;34m)\u001b[0m\u001b[0;34m.\u001b[0m\u001b[0m__init__\u001b[0m\u001b[0;34m(\u001b[0m\u001b[0mvalues\u001b[0m\u001b[0;34m,\u001b[0m \u001b[0mndim\u001b[0m\u001b[0;34m=\u001b[0m\u001b[0mndim\u001b[0m\u001b[0;34m,\u001b[0m \u001b[0mplacement\u001b[0m\u001b[0;34m=\u001b[0m\u001b[0mplacement\u001b[0m\u001b[0;34m)\u001b[0m\u001b[0;34m\u001b[0m\u001b[0;34m\u001b[0m\u001b[0m\n\u001b[0m\u001b[1;32m   2376\u001b[0m \u001b[0;34m\u001b[0m\u001b[0m\n\u001b[1;32m   2377\u001b[0m     \u001b[0;34m@\u001b[0m\u001b[0mproperty\u001b[0m\u001b[0;34m\u001b[0m\u001b[0;34m\u001b[0m\u001b[0m\n",
      "\u001b[0;32m/anaconda3/envs/torch1.4/lib/python3.7/site-packages/pandas/core/internals/blocks.py\u001b[0m in \u001b[0;36m__init__\u001b[0;34m(self, values, placement, ndim)\u001b[0m\n\u001b[1;32m    123\u001b[0m     \u001b[0;32mdef\u001b[0m \u001b[0m__init__\u001b[0m\u001b[0;34m(\u001b[0m\u001b[0mself\u001b[0m\u001b[0;34m,\u001b[0m \u001b[0mvalues\u001b[0m\u001b[0;34m,\u001b[0m \u001b[0mplacement\u001b[0m\u001b[0;34m,\u001b[0m \u001b[0mndim\u001b[0m\u001b[0;34m=\u001b[0m\u001b[0;32mNone\u001b[0m\u001b[0;34m)\u001b[0m\u001b[0;34m:\u001b[0m\u001b[0;34m\u001b[0m\u001b[0;34m\u001b[0m\u001b[0m\n\u001b[1;32m    124\u001b[0m         \u001b[0mself\u001b[0m\u001b[0;34m.\u001b[0m\u001b[0mndim\u001b[0m \u001b[0;34m=\u001b[0m \u001b[0mself\u001b[0m\u001b[0;34m.\u001b[0m\u001b[0m_check_ndim\u001b[0m\u001b[0;34m(\u001b[0m\u001b[0mvalues\u001b[0m\u001b[0;34m,\u001b[0m \u001b[0mndim\u001b[0m\u001b[0;34m)\u001b[0m\u001b[0;34m\u001b[0m\u001b[0;34m\u001b[0m\u001b[0m\n\u001b[0;32m--> 125\u001b[0;31m         \u001b[0mself\u001b[0m\u001b[0;34m.\u001b[0m\u001b[0mmgr_locs\u001b[0m \u001b[0;34m=\u001b[0m \u001b[0mplacement\u001b[0m\u001b[0;34m\u001b[0m\u001b[0;34m\u001b[0m\u001b[0m\n\u001b[0m\u001b[1;32m    126\u001b[0m         \u001b[0mself\u001b[0m\u001b[0;34m.\u001b[0m\u001b[0mvalues\u001b[0m \u001b[0;34m=\u001b[0m \u001b[0mvalues\u001b[0m\u001b[0;34m\u001b[0m\u001b[0;34m\u001b[0m\u001b[0m\n\u001b[1;32m    127\u001b[0m \u001b[0;34m\u001b[0m\u001b[0m\n",
      "\u001b[0;32m/anaconda3/envs/torch1.4/lib/python3.7/site-packages/pandas/core/internals/blocks.py\u001b[0m in \u001b[0;36mmgr_locs\u001b[0;34m(self, new_mgr_locs)\u001b[0m\n\u001b[1;32m    237\u001b[0m     \u001b[0;32mdef\u001b[0m \u001b[0mmgr_locs\u001b[0m\u001b[0;34m(\u001b[0m\u001b[0mself\u001b[0m\u001b[0;34m,\u001b[0m \u001b[0mnew_mgr_locs\u001b[0m\u001b[0;34m)\u001b[0m\u001b[0;34m:\u001b[0m\u001b[0;34m\u001b[0m\u001b[0;34m\u001b[0m\u001b[0m\n\u001b[1;32m    238\u001b[0m         \u001b[0;32mif\u001b[0m \u001b[0;32mnot\u001b[0m \u001b[0misinstance\u001b[0m\u001b[0;34m(\u001b[0m\u001b[0mnew_mgr_locs\u001b[0m\u001b[0;34m,\u001b[0m \u001b[0mlibinternals\u001b[0m\u001b[0;34m.\u001b[0m\u001b[0mBlockPlacement\u001b[0m\u001b[0;34m)\u001b[0m\u001b[0;34m:\u001b[0m\u001b[0;34m\u001b[0m\u001b[0;34m\u001b[0m\u001b[0m\n\u001b[0;32m--> 239\u001b[0;31m             \u001b[0mnew_mgr_locs\u001b[0m \u001b[0;34m=\u001b[0m \u001b[0mlibinternals\u001b[0m\u001b[0;34m.\u001b[0m\u001b[0mBlockPlacement\u001b[0m\u001b[0;34m(\u001b[0m\u001b[0mnew_mgr_locs\u001b[0m\u001b[0;34m)\u001b[0m\u001b[0;34m\u001b[0m\u001b[0;34m\u001b[0m\u001b[0m\n\u001b[0m\u001b[1;32m    240\u001b[0m \u001b[0;34m\u001b[0m\u001b[0m\n\u001b[1;32m    241\u001b[0m         \u001b[0mself\u001b[0m\u001b[0;34m.\u001b[0m\u001b[0m_mgr_locs\u001b[0m \u001b[0;34m=\u001b[0m \u001b[0mnew_mgr_locs\u001b[0m\u001b[0;34m\u001b[0m\u001b[0;34m\u001b[0m\u001b[0m\n",
      "\u001b[0;32mpandas/_libs/internals.pyx\u001b[0m in \u001b[0;36mpandas._libs.internals.BlockPlacement.__init__\u001b[0;34m()\u001b[0m\n",
      "\u001b[0;32m/anaconda3/envs/torch1.4/lib/python3.7/site-packages/numpy/core/_asarray.py\u001b[0m in \u001b[0;36mrequire\u001b[0;34m(a, dtype, requirements)\u001b[0m\n\u001b[1;32m    219\u001b[0m \u001b[0;34m\u001b[0m\u001b[0m\n\u001b[1;32m    220\u001b[0m \u001b[0;34m\u001b[0m\u001b[0m\n\u001b[0;32m--> 221\u001b[0;31m \u001b[0;34m@\u001b[0m\u001b[0mset_module\u001b[0m\u001b[0;34m(\u001b[0m\u001b[0;34m'numpy'\u001b[0m\u001b[0;34m)\u001b[0m\u001b[0;34m\u001b[0m\u001b[0;34m\u001b[0m\u001b[0m\n\u001b[0m\u001b[1;32m    222\u001b[0m \u001b[0;32mdef\u001b[0m \u001b[0mrequire\u001b[0m\u001b[0;34m(\u001b[0m\u001b[0ma\u001b[0m\u001b[0;34m,\u001b[0m \u001b[0mdtype\u001b[0m\u001b[0;34m=\u001b[0m\u001b[0;32mNone\u001b[0m\u001b[0;34m,\u001b[0m \u001b[0mrequirements\u001b[0m\u001b[0;34m=\u001b[0m\u001b[0;32mNone\u001b[0m\u001b[0;34m)\u001b[0m\u001b[0;34m:\u001b[0m\u001b[0;34m\u001b[0m\u001b[0;34m\u001b[0m\u001b[0m\n\u001b[1;32m    223\u001b[0m     \"\"\"\n",
      "\u001b[0;31mKeyboardInterrupt\u001b[0m: "
     ]
    }
   ],
   "source": [
    "d = train_df.set_index('user_id').T.to_list('list')"
   ]
  },
  {
   "cell_type": "code",
   "execution_count": 225,
   "metadata": {},
   "outputs": [],
   "source": [
    "df = train_df.head(100)"
   ]
  },
  {
   "cell_type": "code",
   "execution_count": 227,
   "metadata": {},
   "outputs": [],
   "source": [
    "d = df.set_index('user_id').T"
   ]
  },
  {
   "cell_type": "code",
   "execution_count": 229,
   "metadata": {},
   "outputs": [],
   "source": [
    "def get_v(values):\n",
    "    a = []\n",
    "    splits = values.replace(\"(\",\"\").replace(\")\",\"\").replace(\"\\n\",\"\").replace(\" dtype=int16,\",\"\").replace(\"dtype=int8,\",\"\").replace(\"[\",\"\").replace(\"]\",\"\")\n",
    "    \n",
    "    arrays = splits.split('array')\n",
    "    \n",
    "    for i in range(1, len(arrays)):\n",
    "        num1 = arrays[i]\n",
    "        nums = num1.strip().split(',')  \n",
    "        nums = [int(e.strip()) for e in nums[:-1]]\n",
    "        a.append(nums)\n",
    "        print(len(nums))\n",
    "    print(\"####\")"
   ]
  },
  {
   "cell_type": "code",
   "execution_count": 228,
   "metadata": {},
   "outputs": [
    {
     "data": {
      "text/html": [
       "<div>\n",
       "<style scoped>\n",
       "    .dataframe tbody tr th:only-of-type {\n",
       "        vertical-align: middle;\n",
       "    }\n",
       "\n",
       "    .dataframe tbody tr th {\n",
       "        vertical-align: top;\n",
       "    }\n",
       "\n",
       "    .dataframe thead th {\n",
       "        text-align: right;\n",
       "    }\n",
       "</style>\n",
       "<table border=\"1\" class=\"dataframe\">\n",
       "  <thead>\n",
       "    <tr style=\"text-align: right;\">\n",
       "      <th>user_id</th>\n",
       "      <th>115</th>\n",
       "      <th>124</th>\n",
       "      <th>2746</th>\n",
       "      <th>5382</th>\n",
       "      <th>8623</th>\n",
       "      <th>8701</th>\n",
       "      <th>12741</th>\n",
       "      <th>13134</th>\n",
       "      <th>24418</th>\n",
       "      <th>24600</th>\n",
       "      <th>...</th>\n",
       "      <th>469162</th>\n",
       "      <th>475020</th>\n",
       "      <th>478631</th>\n",
       "      <th>480368</th>\n",
       "      <th>496840</th>\n",
       "      <th>508795</th>\n",
       "      <th>510560</th>\n",
       "      <th>513434</th>\n",
       "      <th>531584</th>\n",
       "      <th>537732</th>\n",
       "    </tr>\n",
       "  </thead>\n",
       "  <tbody>\n",
       "    <tr>\n",
       "      <th>values</th>\n",
       "      <td>(array([5692, 5716,  128, 7860, 7922,  156,   ...</td>\n",
       "      <td>(array([7900, 7876,  175, 1278, 2063, 2065, 20...</td>\n",
       "      <td>(array([ 5273,   758,  5976,   236,   404,   3...</td>\n",
       "      <td>(array([ 5000,  3944,   217,  5844,  5965,  49...</td>\n",
       "      <td>(array([ 3915,  4750,  6456,  3968,  6104,  57...</td>\n",
       "      <td>(array([ 3901,  6671,  4963,  6143,  8279,  39...</td>\n",
       "      <td>(array([ 8750,  5952,  9133,  6016, 11183,  44...</td>\n",
       "      <td>(array([12137, 12119, 12124, 12215, 11916, 121...</td>\n",
       "      <td>(array([ 3951,  8469,  6081,  9796,  6299,  41...</td>\n",
       "      <td>(array([ 7900,  7876,   175,  1278,  2064,  20...</td>\n",
       "      <td>...</td>\n",
       "      <td>(array([ 7900,  7876,   175,  1278,  2065,  20...</td>\n",
       "      <td>(array([ 2017,  2015,  1136, 10149, 10150, 101...</td>\n",
       "      <td>(array([ 3961,  4239,  8284,  4458,  5324,  92...</td>\n",
       "      <td>(array([ 3819,   910,  5511,   218,   296,  42...</td>\n",
       "      <td>(array([  126, 10517,    69,  7934,   129, 104...</td>\n",
       "      <td>(array([ 5960,  4830,  5465,  5269,  5592,  58...</td>\n",
       "      <td>(array([ 4753,  3923,  5509,  6309,  3684,  51...</td>\n",
       "      <td>(array([ 5576,  6099,  6208,  4665,   379,  40...</td>\n",
       "      <td>(array([ 5464,  4265,  3988,  3986,  3654,  47...</td>\n",
       "      <td>(array([6278, 5761, 9261, 5123, 5844, 5177, 38...</td>\n",
       "    </tr>\n",
       "  </tbody>\n",
       "</table>\n",
       "<p>1 rows × 100 columns</p>\n",
       "</div>"
      ],
      "text/plain": [
       "user_id                                             115     \\\n",
       "values   (array([5692, 5716,  128, 7860, 7922,  156,   ...   \n",
       "\n",
       "user_id                                             124     \\\n",
       "values   (array([7900, 7876,  175, 1278, 2063, 2065, 20...   \n",
       "\n",
       "user_id                                             2746    \\\n",
       "values   (array([ 5273,   758,  5976,   236,   404,   3...   \n",
       "\n",
       "user_id                                             5382    \\\n",
       "values   (array([ 5000,  3944,   217,  5844,  5965,  49...   \n",
       "\n",
       "user_id                                             8623    \\\n",
       "values   (array([ 3915,  4750,  6456,  3968,  6104,  57...   \n",
       "\n",
       "user_id                                             8701    \\\n",
       "values   (array([ 3901,  6671,  4963,  6143,  8279,  39...   \n",
       "\n",
       "user_id                                             12741   \\\n",
       "values   (array([ 8750,  5952,  9133,  6016, 11183,  44...   \n",
       "\n",
       "user_id                                             13134   \\\n",
       "values   (array([12137, 12119, 12124, 12215, 11916, 121...   \n",
       "\n",
       "user_id                                             24418   \\\n",
       "values   (array([ 3951,  8469,  6081,  9796,  6299,  41...   \n",
       "\n",
       "user_id                                             24600   ...  \\\n",
       "values   (array([ 7900,  7876,   175,  1278,  2064,  20...  ...   \n",
       "\n",
       "user_id                                             469162  \\\n",
       "values   (array([ 7900,  7876,   175,  1278,  2065,  20...   \n",
       "\n",
       "user_id                                             475020  \\\n",
       "values   (array([ 2017,  2015,  1136, 10149, 10150, 101...   \n",
       "\n",
       "user_id                                             478631  \\\n",
       "values   (array([ 3961,  4239,  8284,  4458,  5324,  92...   \n",
       "\n",
       "user_id                                             480368  \\\n",
       "values   (array([ 3819,   910,  5511,   218,   296,  42...   \n",
       "\n",
       "user_id                                             496840  \\\n",
       "values   (array([  126, 10517,    69,  7934,   129, 104...   \n",
       "\n",
       "user_id                                             508795  \\\n",
       "values   (array([ 5960,  4830,  5465,  5269,  5592,  58...   \n",
       "\n",
       "user_id                                             510560  \\\n",
       "values   (array([ 4753,  3923,  5509,  6309,  3684,  51...   \n",
       "\n",
       "user_id                                             513434  \\\n",
       "values   (array([ 5576,  6099,  6208,  4665,   379,  40...   \n",
       "\n",
       "user_id                                             531584  \\\n",
       "values   (array([ 5464,  4265,  3988,  3986,  3654,  47...   \n",
       "\n",
       "user_id                                             537732  \n",
       "values   (array([6278, 5761, 9261, 5123, 5844, 5177, 38...  \n",
       "\n",
       "[1 rows x 100 columns]"
      ]
     },
     "execution_count": 228,
     "metadata": {},
     "output_type": "execute_result"
    }
   ],
   "source": [
    "d"
   ]
  },
  {
   "cell_type": "code",
   "execution_count": 237,
   "metadata": {},
   "outputs": [
    {
     "name": "stdout",
     "output_type": "stream",
     "text": [
      "<class 'pandas.core.series.Series'>\n",
      "(array([5692, 5716,  128, 7860, 7922,  156,   51,   50, 7896, 7863,  152,\n",
      "        104,  108, 7900, 7901, 7971,   25,  183, 7926, 7927,    4, 7984,\n",
      "         45,  185,   55, 7876,    6,  172, 7898,  175,  100, 7859,   57,\n",
      "       7948,  151,  167, 7897, 7882, 7962, 1278, 2065, 2063, 2064, 3363],\n",
      "      dtype=int16), array([1, 1, 1, 1, 1, 1, 1, 1, 1, 1, 0, 0, 0, 1, 1, 1, 1, 0, 1, 1, 0, 0,\n",
      "       0, 0, 1, 1, 1, 1, 1, 0, 1, 0, 1, 1, 1, 1, 0, 1, 1, 1, 1, 0, 1, 0],\n",
      "      dtype=int8), array([24., 37., 55., 19., 11.,  5., 17., 17., 16., 16., 17., 22., 23.,\n",
      "       21., 24., 22., 21., 20., 18., 17., 29., 20., 19., 21., 22., 16.,\n",
      "       20., 22., 22., 23., 20., 15., 20., 20., 22., 19., 17., 20., 17.,\n",
      "       21., 17., 17., 17., 14.]), array([4, 4, 0, 0, 0, 0, 0, 0, 0, 0, 0, 0, 0, 0, 0, 0, 0, 0, 0, 0, 0, 0,\n",
      "       0, 0, 0, 0, 0, 0, 0, 0, 0, 0, 0, 0, 0, 0, 0, 0, 0, 1, 2, 2, 2, 3]))\n",
      "<class 'pandas.core.series.Series'>\n",
      "(array([7900, 7876,  175, 1278, 2063, 2065, 2064, 3364, 3363, 3365, 2946,\n",
      "       2947, 2948, 2594, 2593, 2595, 4492, 4120, 4696, 6116, 6173, 6370,\n",
      "       6909, 6908, 6910, 6911, 7218, 7217], dtype=int16), array([1, 0, 1, 0, 0, 1, 0, 0, 0, 0, 0, 1, 0, 0, 0, 1, 0, 0, 0, 1, 0, 0,\n",
      "       1, 0, 0, 0, 0, 0], dtype=int8), array([24., 26., 29., 26., 18., 18., 18., 33., 33., 33., 21., 21., 21.,\n",
      "       21., 21., 21., 15., 32., 23., 27., 14., 17.,  7.,  7.,  7.,  7.,\n",
      "        6.,  6.]), array([0, 0, 0, 1, 2, 2, 2, 3, 3, 3, 3, 3, 3, 3, 3, 3, 4, 4, 4, 4, 4, 4,\n",
      "       5, 5, 5, 5, 6, 6]))\n",
      "<class 'pandas.core.series.Series'>\n",
      "(array([ 5273,   758,  5976,   236,   404,   382,   405,   873,   531,\n",
      "         775,   294,   714,   297,   297,   775,  1295, 10684],\n",
      "      dtype=int16), array([0, 0, 0, 1, 0, 1, 1, 1, 1, 0, 1, 1, 0, 1, 0, 1, 1], dtype=int8), array([24., 28., 17., 24., 20., 16., 16., 19., 18., 18., 20., 13., 13.,\n",
      "       16., 15., 16., 17.]), array([4, 1, 4, 1, 1, 1, 1, 1, 1, 1, 1, 1, 1, 1, 1, 1, 1]))\n",
      "<class 'pandas.core.series.Series'>\n",
      "(array([ 5000,  3944,   217,  5844,  5965,  4990,  5235,  6050,  5721,\n",
      "        5580,  6039,  7934,  7945,    18, 10626,    64,   185,  7979,\n",
      "       10612,   130,   118,  7945,  7965,  5563,  6673,  3859,  9778,\n",
      "        3644,  4640,  6155,  9636,  4030,  6318,  4470,  7999,  4418,\n",
      "        4318,  5861,  9462,  5687,  6081,  3978,  8417,  8219,  5104,\n",
      "        4411,  8807,  3878,  5581,  4849,   270,   877,   565, 10684,\n",
      "         949,   886,   577, 10685,  1266,  1366,  1176, 10688,   329,\n",
      "        1229,   615,  8954,  4236,  5199,  8487,  8830, 10686,   796,\n",
      "         401,  1181,   294,   438,  1334,   209, 10687,   996,   901,\n",
      "         261,   446,   379,   828,   451,  6438,  5339,  5412,  9179,\n",
      "        5165,  4108,  4848,  5239,  3961,  5253,  3759,  8700,  4141,\n",
      "        4244,  3633,  8962,  4103,  6078,  5673,  8841,  5442,  4664,\n",
      "        4258,  4198,  4993,  5706,  5328,  8632, 10577,  3859,  4103,\n",
      "        4447,  5339,  6106,  6106,  6372,  8699], dtype=int16), array([1, 0, 1, 0, 1, 1, 1, 1, 0, 0, 0, 1, 0, 1, 1, 1, 1, 0, 1, 1, 0, 0,\n",
      "       0, 1, 1, 0, 1, 1, 0, 0, 1, 1, 0, 0, 1, 1, 1, 1, 0, 1, 0, 1, 1, 1,\n",
      "       1, 1, 1, 1, 1, 1, 1, 1, 1, 0, 0, 0, 1, 1, 0, 1, 1, 1, 0, 1, 1, 1,\n",
      "       0, 1, 1, 1, 1, 1, 1, 1, 1, 1, 0, 0, 1, 1, 1, 1, 1, 1, 1, 1, 1, 0,\n",
      "       1, 1, 0, 1, 0, 1, 1, 1, 0, 0, 1, 0, 1, 0, 0, 1, 0, 0, 1, 1, 0, 1,\n",
      "       1, 1, 1, 0, 1, 1, 1, 1, 1, 0, 1, 1, 0], dtype=int8), array([ 24.,  24.,  35.,  88.,  18.,  12.,   5.,  92.,  70.,  14.,  79.,\n",
      "        66.,  30.,  27.,  26.,  22.,  34.,  23.,  22.,  22.,  26.,  25.,\n",
      "        24.,  23.,  78.,  36.,  43.,  38.,  30.,  64.,  27.,  38.,  55.,\n",
      "        61.,  82.,  33.,  17.,  50.,   9.,  57.,  30.,  15.,  85.,  20.,\n",
      "        64.,  81.,  11.,  21.,  88.,  53.,  43.,  17.,  35.,  16.,  25.,\n",
      "        22.,  24.,  18.,  22.,  17.,  22.,  17.,  19.,  25.,  25.,  20.,\n",
      "        49.,  19.,  25.,  57.,  27.,  22.,  18.,  17.,  19.,  16.,  19.,\n",
      "        20.,  18.,  17.,  19.,  19.,  18.,  17.,  19.,  16.,  17.,  16.,\n",
      "        90.,  48.,  34.,  33.,  38.,  90.,  62.,  51.,  93.,  35.,  61.,\n",
      "        48., 201.,  21.,  41.,  22.,  24.,  23.,  24.,  43.,   5.,  72.,\n",
      "        39.,  43.,  21.,  48.,  38.,  25.,  20.,  38.,  33.,  26.,  54.,\n",
      "        20.,  20.]), array([4, 4, 1, 4, 4, 4, 4, 4, 4, 4, 4, 0, 0, 0, 0, 0, 0, 0, 0, 0, 0, 0,\n",
      "       0, 4, 4, 4, 4, 4, 4, 4, 4, 4, 4, 4, 4, 4, 4, 4, 4, 4, 4, 4, 4, 4,\n",
      "       4, 4, 4, 4, 4, 4, 1, 1, 1, 1, 1, 1, 1, 1, 1, 1, 1, 1, 1, 1, 1, 4,\n",
      "       4, 4, 4, 4, 1, 1, 1, 1, 1, 1, 1, 1, 1, 1, 1, 1, 1, 1, 1, 1, 4, 4,\n",
      "       4, 4, 4, 4, 4, 4, 4, 4, 4, 4, 4, 4, 4, 4, 4, 4, 4, 4, 4, 4, 4, 4,\n",
      "       4, 4, 4, 4, 0, 4, 4, 4, 4, 4, 4, 4, 4]))\n",
      "<class 'pandas.core.series.Series'>\n",
      "(array([ 3915,  4750,  6456,  3968,  6104,  5738,  6435,  5498,  6102,\n",
      "        4078,  4536,  1291,  1131,  1145, 10686,   405,  6058,  4519,\n",
      "        5216,  8712,  5791,  6119,  3903,  8172,  5615,  6136,  1071,\n",
      "         731, 10687,   651,   335,   763,   294,  1265,   675,  1202,\n",
      "       10684,   556,   757,  1093, 10688,   675,   651,  7748,  7744,\n",
      "        7745,  7746,  7747,  7194,  7193,  7192,  7191,  7190,  7422,\n",
      "        7424,  7425,  7423,  7421,    39,   130,  7942, 10618,    64,\n",
      "          61,    18, 10595,  7964,  7913,   194, 10405,  7974,   130,\n",
      "        7965,  7920, 10440,  7934,     9,  3636,  9192,  5350,  3965,\n",
      "        3647, 11415,  5038,  3878,  4464, 11331,   762,   773,  1315,\n",
      "       10685,   831,  1296,  1369,   644,   660,   587,   763,   587,\n",
      "         999,  1100,   412,   560,  1239,   834,   724,   920],\n",
      "      dtype=int16), array([1, 1, 1, 1, 1, 1, 1, 0, 0, 1, 1, 0, 0, 1, 1, 0, 1, 1, 1, 0, 0, 1,\n",
      "       1, 0, 1, 1, 1, 0, 1, 0, 1, 0, 1, 1, 0, 1, 1, 1, 1, 0, 0, 1, 1, 1,\n",
      "       1, 1, 1, 1, 0, 0, 0, 1, 0, 1, 0, 0, 0, 0, 0, 0, 1, 1, 0, 0, 1, 1,\n",
      "       0, 1, 1, 0, 1, 1, 1, 0, 1, 1, 0, 1, 1, 0, 0, 0, 0, 1, 0, 1, 1, 1,\n",
      "       1, 1, 1, 1, 1, 0, 1, 1, 0, 1, 1, 1, 1, 1, 0, 1, 1, 0, 1],\n",
      "      dtype=int8), array([24., 16., 33., 30., 40., 35., 30., 29., 15., 19., 14., 38., 21.,\n",
      "       17., 16., 21., 23., 11., 13., 17., 12., 57., 19.,  5., 12., 12.,\n",
      "       22., 16., 20., 11., 18., 18., 46., 20., 22., 20., 18., 22., 21.,\n",
      "       17., 16., 18., 17., 17., 17., 17., 17., 17., 77., 77., 77., 77.,\n",
      "       77., 58., 58., 58., 58., 58., 74., 23., 11., 22., 24., 32., 23.,\n",
      "       25., 23., 27., 25., 21., 21., 27., 18., 20., 22., 13., 23., 26.,\n",
      "       10., 20., 95., 20., 13., 58., 18., 20., 13., 37., 19., 18., 17.,\n",
      "       17., 10., 14., 15., 16., 18., 17., 15., 10., 16., 16., 17., 26.,\n",
      "       20., 23., 16.]), array([4, 4, 4, 4, 4, 4, 4, 4, 4, 4, 4, 1, 1, 1, 1, 1, 4, 4, 4, 4, 4, 4,\n",
      "       4, 4, 4, 4, 1, 1, 1, 1, 1, 1, 1, 1, 1, 1, 1, 1, 1, 1, 1, 1, 1, 6,\n",
      "       6, 6, 6, 6, 6, 6, 6, 6, 6, 6, 6, 6, 6, 6, 0, 0, 0, 0, 0, 0, 0, 0,\n",
      "       0, 0, 0, 0, 0, 0, 0, 0, 0, 0, 0, 4, 4, 4, 4, 4, 4, 4, 4, 4, 4, 1,\n",
      "       1, 1, 1, 1, 1, 1, 1, 1, 1, 1, 1, 1, 1, 1, 1, 1, 1, 1, 1]))\n",
      "<class 'pandas.core.series.Series'>\n",
      "(array([ 3901,  6671,  4963,  6143,  8279,  3964,  4002,   754,  1110,\n",
      "         770, 10688,  1229,  1387,  1336, 10687], dtype=int16), array([1, 1, 1, 0, 1, 0, 0, 0, 1, 0, 0, 1, 1, 1, 0], dtype=int8), array([24., 13., 15., 24., 25., 44., 17., 39., 16., 18., 18., 18., 18.,\n",
      "       22., 16.]), array([4, 4, 4, 4, 4, 4, 4, 1, 1, 1, 1, 1, 1, 1, 1]))\n",
      "<class 'pandas.core.series.Series'>\n",
      "(array([ 8750,  5952,  9133,  6016, 11183,  4424, 11280,  9909, 10831,\n",
      "       10834, 10832, 10833, 10282, 10280, 10283, 10281, 11119, 11120,\n",
      "       11121, 11122, 11148, 11149, 11147, 11150,  7485,  7487,  7484,\n",
      "        7488,  7486,  7765,  7764,  7766,  8144,  8145,  8148,  8146,\n",
      "        8147, 10049, 10048, 10046, 10047, 10311, 10310, 10308, 10309,\n",
      "       10315, 10312, 10313, 10314,  6612,  6610,  6611,  6609,  3483,\n",
      "        3485,  3484,  2862,  2863,  2864, 10718, 10717, 10716,  3117,\n",
      "        3119,  3118,  2907,  2909,  2908,  3271,  3272,  3270,  3123,\n",
      "        3125,  3124,  2630,  2631,  2629,  2874,  2876,  2875,  3215,\n",
      "        3213,  3214, 10814, 10811, 10812, 10813,  6880,  6879,  6878,\n",
      "        6877, 10231, 10228, 10230, 10229,  6833,  6834,  6836,  6835,\n",
      "        7398,  7396,  7397,  7399,  7400,  7438,  7439,  7269,  7268,\n",
      "        7265,  7267,  7266,  3543,  3545,  3544,  3139,  3138,  3140,\n",
      "        2703,  2701,  2702, 10734, 10736, 10735,  2584,  2585,  2586,\n",
      "        7425,  7422,  7424,  7423,  7421,  7713,  7711,  7710,  7712,\n",
      "        7709,  7401,  7404,  7405,  7402,  7403,  3484,  3485,  3483,\n",
      "       10717, 10718, 10716,  3118,  3117,  3119,  2909,  2908,  2907,\n",
      "        3272,  3270,  3271, 10699, 10700, 10698,  2627,  2628,  2626,\n",
      "       10727, 10725, 10726,  3474,  3475,  3476, 10126, 10124, 10125,\n",
      "       11044, 11043, 11045, 11046,  6914,  6913,  6915,  6912, 11171,\n",
      "       11173, 11174, 11172, 10091, 10090, 10093, 10092,  7745,  7747,\n",
      "        7748,  7746,  7744,  7328,  7329,  7330,  7327,  7326, 11871,\n",
      "       11872, 11868], dtype=int16), array([1, 0, 0, 1, 0, 0, 0, 0, 1, 1, 0, 0, 1, 1, 0, 1, 1, 1, 1, 0, 0, 1,\n",
      "       1, 1, 0, 0, 1, 1, 1, 1, 1, 0, 1, 1, 1, 1, 1, 0, 1, 0, 1, 1, 1, 0,\n",
      "       1, 1, 1, 1, 1, 0, 1, 0, 1, 1, 1, 0, 1, 1, 1, 0, 0, 1, 0, 0, 0, 1,\n",
      "       0, 1, 1, 0, 0, 1, 0, 0, 1, 1, 0, 1, 0, 0, 0, 0, 1, 1, 1, 1, 1, 0,\n",
      "       0, 1, 0, 1, 0, 1, 1, 1, 1, 0, 1, 1, 0, 1, 0, 0, 1, 0, 0, 1, 0, 1,\n",
      "       1, 1, 1, 1, 0, 1, 0, 1, 0, 0, 1, 0, 0, 0, 1, 0, 1, 0, 0, 0, 0, 1,\n",
      "       1, 1, 1, 1, 0, 0, 1, 0, 1, 0, 0, 1, 0, 1, 1, 1, 0, 1, 1, 1, 1, 1,\n",
      "       0, 1, 1, 0, 1, 1, 0, 1, 0, 1, 0, 1, 0, 1, 0, 0, 1, 0, 1, 1, 1, 1,\n",
      "       1, 1, 1, 0, 0, 1, 1, 1, 0, 1, 1, 1, 1, 1, 1, 0, 1, 0, 1, 1, 1, 1,\n",
      "       0, 1], dtype=int8), array([ 43.,  45.,  22.,  23.,  19.,  36.,  33.,  49.,  29.,  29.,  29.,\n",
      "        29.,  41.,  41.,  41.,  41.,  37.,  37.,  37.,  37.,  40.,  40.,\n",
      "        40.,  40.,  31.,  31.,  31.,  31.,  31.,  78.,  78.,  78.,  70.,\n",
      "        70.,  70.,  70.,  70.,  64.,  64.,  64.,  64.,  48.,  48.,  48.,\n",
      "        48.,  27.,  27.,  27.,  27.,  33.,  33.,  33.,  33.,  40.,  40.,\n",
      "        40.,  33.,  33.,  33.,  32.,  32.,  32.,  32.,  32.,  32.,  26.,\n",
      "        26.,  26.,  35.,  35.,  35.,  30.,  30.,  30.,  24.,  24.,  24.,\n",
      "        24.,  24.,  24.,  26.,  26.,  26.,  27.,  27.,  27.,  27.,  30.,\n",
      "        30.,  30.,  30.,  27.,  27.,  27.,  27.,  39.,  39.,  39.,  39.,\n",
      "        36.,  36.,  36.,  36.,  36.,  70.,  70.,  51.,  51.,  51.,  51.,\n",
      "        51.,  74.,  74.,  74.,  24.,  24.,  24.,  32.,  32.,  32.,  35.,\n",
      "        35.,  35.,  35.,  35.,  35.,  35.,  35.,  35.,  35.,  35.,  88.,\n",
      "        88.,  88.,  88.,  88.,  51.,  51.,  51.,  51.,  51.,  75.,  75.,\n",
      "        75.,  30.,  30.,  30.,  32.,  32.,  32.,  25.,  25.,  25.,  23.,\n",
      "        23.,  23.,  31.,  31.,  31.,  23.,  23.,  23.,  28.,  28.,  28.,\n",
      "        26.,  26.,  26.,  31.,  31.,  31.,  25.,  25.,  25.,  25.,  39.,\n",
      "        39.,  39.,  39.,  50.,  50.,  50.,  50.,  33.,  33.,  33.,  33.,\n",
      "        32.,  32.,  32.,  32.,  32., 103., 103., 103., 103., 103.,  56.,\n",
      "        56.,  56.]), array([4, 4, 4, 4, 4, 4, 4, 4, 5, 5, 5, 5, 5, 5, 5, 5, 5, 5, 5, 5, 5, 5,\n",
      "       5, 5, 6, 6, 6, 6, 6, 6, 6, 6, 6, 6, 6, 6, 6, 5, 5, 5, 5, 5, 5, 5,\n",
      "       5, 5, 5, 5, 5, 5, 5, 5, 5, 3, 3, 3, 3, 3, 3, 3, 3, 3, 3, 3, 3, 3,\n",
      "       3, 3, 3, 3, 3, 3, 3, 3, 3, 3, 3, 3, 3, 3, 3, 3, 3, 5, 5, 5, 5, 5,\n",
      "       5, 5, 5, 5, 5, 5, 5, 5, 5, 5, 5, 6, 6, 6, 6, 6, 6, 6, 6, 6, 6, 6,\n",
      "       6, 3, 3, 3, 3, 3, 3, 3, 3, 3, 3, 3, 3, 3, 3, 3, 6, 6, 6, 6, 6, 6,\n",
      "       6, 6, 6, 6, 6, 6, 6, 6, 6, 3, 3, 3, 3, 3, 3, 3, 3, 3, 3, 3, 3, 3,\n",
      "       3, 3, 3, 3, 3, 3, 3, 3, 3, 3, 3, 3, 3, 3, 3, 3, 3, 5, 5, 5, 5, 5,\n",
      "       5, 5, 5, 5, 5, 5, 5, 5, 5, 5, 5, 6, 6, 6, 6, 6, 6, 6, 6, 6, 6, 6,\n",
      "       6, 6]))\n",
      "<class 'pandas.core.series.Series'>\n",
      "(array([12137, 12119, 12124, 12215, 11916, 12194, 12054, 11941,  3173,\n",
      "        3172,  3171,   157, 12707, 10640,  7903,    55, 12692, 10426,\n",
      "       10568, 10431, 12745, 10418, 11932, 12203, 12164, 12243, 12011,\n",
      "       12013, 12236, 12257, 12115, 13060, 13058, 13059,  9247,  9129,\n",
      "       11909,  5202, 12095, 12029, 12206, 11994, 12093, 12157, 12238,\n",
      "       12149, 11997, 11951,  3061,  3062,  3060,  2555,  2556,  2554,\n",
      "        3251,  3249,  3250, 13503,  3852,  9234,  8613, 13317,  8810,\n",
      "        8629,  5603, 13403,  8767,  8400,  8397, 13325,  5264,  8645,\n",
      "       12014, 12074, 12142, 12094, 11946, 12125, 12077, 12057, 12168,\n",
      "       12140, 11879, 12078,  4995, 13494,  3642,  3955,  3958, 13361,\n",
      "        3717, 11476, 11431, 13519,  4585,  4421,  9153, 13455,  4215,\n",
      "       11422, 11247, 12067, 12005, 12089, 11874, 11956, 12221, 12051,\n",
      "       11981, 12100, 11906, 13173, 13172, 13174,  3135,  3136,  3137,\n",
      "       10126, 10124, 10125, 10723, 10724, 10722, 13089, 13088, 13090,\n",
      "        3341,  3340,  3339, 10666, 10512, 12655, 10534, 10514, 10522,\n",
      "       12774, 10622, 10458, 10449, 13449,  6460,  9682,  6649, 12117,\n",
      "       12027, 11920, 12052, 12248, 12225, 11945, 12204, 12187, 11968,\n",
      "       11955,  3115,  3116,  3114,  3349,  3350,  3348, 13063, 13061,\n",
      "       13062,  3178,  3179,  3177, 12022, 11930, 12180, 12000, 12188,\n",
      "       11882, 12133, 12219, 12182, 11940, 12223, 12228, 11926, 12049,\n",
      "       11924, 12267, 12144, 12590, 10627,   186,     6, 13310,  4987,\n",
      "        3878,  8632, 13442, 11231, 12691, 10660,   174,  3967, 12090,\n",
      "        8262, 11911], dtype=int16), array([1, 1, 1, 1, 1, 1, 1, 0, 1, 0, 1, 0, 1, 1, 0, 1, 1, 1, 1, 1, 1, 0,\n",
      "       1, 1, 1, 1, 1, 1, 1, 1, 1, 0, 0, 0, 0, 1, 1, 1, 1, 1, 1, 1, 1, 1,\n",
      "       1, 1, 1, 1, 1, 0, 1, 0, 1, 1, 1, 1, 1, 0, 0, 0, 1, 0, 0, 1, 1, 1,\n",
      "       0, 1, 0, 1, 1, 1, 1, 1, 1, 1, 1, 1, 1, 1, 1, 1, 1, 0, 1, 1, 1, 1,\n",
      "       1, 1, 1, 1, 1, 1, 1, 0, 1, 1, 0, 1, 0, 1, 1, 1, 1, 1, 1, 1, 1, 0,\n",
      "       0, 1, 0, 1, 1, 1, 0, 0, 1, 1, 1, 1, 1, 1, 1, 1, 0, 1, 1, 1, 0, 1,\n",
      "       1, 1, 1, 1, 0, 1, 1, 1, 0, 1, 0, 1, 1, 1, 1, 1, 1, 1, 1, 1, 1, 0,\n",
      "       1, 1, 0, 1, 1, 1, 1, 1, 1, 0, 0, 1, 1, 1, 1, 0, 1, 1, 1, 1, 1, 1,\n",
      "       1, 1, 0, 1, 1, 1, 0, 1, 0, 0, 0, 1, 0, 0, 0, 1, 0, 1, 1, 0, 0, 1,\n",
      "       1, 1], dtype=int8), array([20., 18., 17., 20., 15., 18., 13., 13., 18., 18., 18., 33., 23.,\n",
      "       21., 18., 22., 31., 21., 28., 23., 27., 21., 28., 16., 18., 15.,\n",
      "       11., 15., 18., 22., 19., 17., 17., 17., 35., 15., 12., 14., 24.,\n",
      "       18., 10., 22., 16., 20., 18., 21., 17., 10., 17., 17., 17., 29.,\n",
      "       29., 29., 31., 31., 31., 29., 11., 13., 10.,  9., 26., 36.,  6.,\n",
      "       13., 15.,  9., 43., 44., 15., 26., 37., 20., 18., 18., 18., 26.,\n",
      "       14., 15., 19., 18., 11., 23., 23.,  2., 13., 26., 13., 18., 30.,\n",
      "       12.,  3.,  8., 32., 16.,  7., 14., 13., 17.,  5., 21., 15., 17.,\n",
      "       18., 23., 12., 18., 25., 18., 19., 12., 12., 12., 24., 24., 24.,\n",
      "       27., 27., 27., 26., 26., 26., 27., 27., 27., 33., 33., 33., 28.,\n",
      "       24., 30., 24., 22., 24., 26., 22., 22., 23., 11., 20., 24., 20.,\n",
      "       34., 16., 17., 14., 12., 23., 16., 15., 13., 16., 13., 19., 19.,\n",
      "       19., 27., 27., 27., 29., 29., 29., 27., 27., 27., 32., 15., 16.,\n",
      "       11., 19., 18., 19., 20., 19., 17., 20., 20., 17., 22., 18., 20.,\n",
      "       18., 21., 14., 29., 33., 20., 36., 35., 15., 12., 23., 11., 27.,\n",
      "       10., 26., 30., 20., 21.]), array([1, 1, 1, 1, 1, 1, 1, 1, 3, 3, 3, 0, 0, 0, 0, 0, 0, 0, 0, 0, 0, 0,\n",
      "       1, 1, 1, 1, 1, 1, 1, 1, 1, 3, 3, 3, 4, 4, 1, 4, 1, 1, 1, 1, 1, 1,\n",
      "       1, 1, 1, 1, 3, 3, 3, 3, 3, 3, 3, 3, 3, 4, 4, 4, 4, 4, 4, 4, 4, 4,\n",
      "       4, 4, 4, 4, 4, 4, 1, 1, 1, 1, 1, 1, 1, 1, 1, 1, 1, 1, 4, 4, 4, 4,\n",
      "       4, 4, 4, 4, 4, 4, 4, 4, 4, 4, 4, 4, 4, 1, 1, 1, 1, 1, 1, 1, 1, 1,\n",
      "       1, 3, 3, 3, 3, 3, 3, 3, 3, 3, 3, 3, 3, 3, 3, 3, 3, 3, 3, 0, 0, 0,\n",
      "       0, 0, 0, 0, 0, 0, 0, 4, 4, 4, 4, 1, 1, 1, 1, 1, 1, 1, 1, 1, 1, 1,\n",
      "       3, 3, 3, 3, 3, 3, 3, 3, 3, 3, 3, 3, 1, 1, 1, 1, 1, 1, 1, 1, 1, 1,\n",
      "       1, 1, 1, 1, 1, 1, 1, 0, 0, 0, 0, 4, 4, 4, 4, 4, 4, 0, 0, 0, 4, 1,\n",
      "       4, 1]))\n",
      "<class 'pandas.core.series.Series'>\n",
      "(array([ 3951,  8469,  6081,  9796,  6299,  4174,  4612,  4736,  4673,\n",
      "        4163, 10090, 10091, 10092, 10093,  4589,  9321,  8747,  3619,\n",
      "        5923,  8474,  9539,  3887,  3887,  3962,  6081,  4050,  4076,\n",
      "        7904,   149, 10548,  7894,   180,  7951, 10570,   159,  7974,\n",
      "           2,   263,   608,   263,   328,  1314,  1309,  1340,   495,\n",
      "       10620,    69,    12,    56, 10618,  7981,  7876,  7969,   246,\n",
      "        1381,  1381,   499,   997,   482,   781,   689,  1042,   705,\n",
      "         827,   264,   635,  1066,   339,  6401,  3736,  8325,  5049,\n",
      "        5314,  5354,  8709,  6304,  7320,  7319,  7318,  8120,  8119,\n",
      "        8121,  8122,  8123,  7356,  7357,  7360,  7358,  7359,  7811,\n",
      "        7810,  7808,  7809,  7520,  7519,  7518,  5595,  6006,  9872,\n",
      "        8457,  5851,  5375,  9432,  5060,  8484,  6037,  8674,  4364,\n",
      "        3889,  9256,  8927,  5414,  6055,  5508,  6670,  6674,  4691,\n",
      "        5508,  5928,  8960,  4195,  4117,  5584,  5172,  5281,  5588,\n",
      "       10662,  7983,   172,     9,    58,  7904,  7951,   172,    55,\n",
      "       10539,  1153,  1243,   569,   504,   879,  1231,   657,  2281,\n",
      "        2282,  2283,  1610,  1612,  1611,  1682,  1684,  1683,  4723,\n",
      "        5406,  9400,  8481,  5044,  8246,  5735,  3776,  3776,  6135,\n",
      "        5619,  4127,  9127,  3648,  4693,  5494,  7993,  5967,  5406,\n",
      "        5414,  6284,  5849,  8555,  3791,    64,    52,    15, 10681,\n",
      "        7984,  3716,  9698,  9470,  3891,  5954,  5496,  8822,  5431,\n",
      "        4801,  4148,  9356,  3669,  5642,  5830,  8895,  5016,  4673,\n",
      "        4174,  4736], dtype=int16), array([1, 1, 0, 0, 0, 1, 1, 1, 1, 1, 0, 1, 1, 1, 1, 1, 1, 0, 0, 1, 0, 0,\n",
      "       1, 1, 1, 1, 1, 0, 0, 1, 1, 1, 0, 1, 1, 0, 1, 0, 1, 1, 1, 0, 0, 1,\n",
      "       1, 1, 1, 1, 1, 1, 1, 1, 1, 1, 0, 1, 0, 0, 1, 0, 1, 1, 0, 1, 0, 1,\n",
      "       1, 1, 1, 0, 0, 1, 1, 0, 0, 1, 1, 1, 1, 1, 1, 1, 1, 1, 1, 1, 1, 1,\n",
      "       1, 0, 1, 1, 1, 0, 1, 1, 0, 1, 1, 0, 1, 1, 1, 0, 0, 0, 1, 1, 0, 1,\n",
      "       0, 0, 0, 0, 1, 0, 1, 1, 1, 1, 1, 0, 0, 1, 1, 1, 1, 1, 0, 1, 1, 0,\n",
      "       1, 1, 1, 1, 1, 1, 1, 1, 0, 0, 1, 1, 1, 0, 0, 0, 0, 1, 1, 1, 1, 0,\n",
      "       0, 1, 1, 1, 1, 0, 1, 1, 1, 1, 1, 1, 1, 0, 1, 0, 1, 1, 1, 1, 1, 1,\n",
      "       0, 1, 1, 1, 1, 1, 1, 1, 1, 0, 0, 1, 0, 1, 1, 0, 1, 1, 1, 0, 1, 0,\n",
      "       1, 1], dtype=int8), array([13., 15., 44., 24., 30., 22., 18.,  5.,  4., 20.,  7.,  7.,  7.,\n",
      "        7., 35., 16., 25., 10., 16., 15., 13., 21., 22.,  2., 12.,  7.,\n",
      "       15.,  5., 19., 20., 12., 22., 20., 24., 17., 21., 24., 20., 17.,\n",
      "       14.,  8., 16., 18., 17., 16., 15., 19., 23., 25., 19., 20., 21.,\n",
      "       22., 22., 17., 18., 15., 17., 18., 14., 16., 13., 16., 16., 20.,\n",
      "       15., 16., 15., 17., 12., 12., 29., 13.,  5., 34., 13., 13., 13.,\n",
      "       13., 46., 46., 46., 46., 46., 27., 27., 27., 27., 27., 40., 40.,\n",
      "       40., 40., 36., 36., 36., 31., 34., 11., 12., 34., 12., 15.,  7.,\n",
      "       13., 26., 10., 11., 15., 20., 17.,  5., 15., 12., 14., 12., 13.,\n",
      "       17.,  6.,  9., 11.,  8., 16., 12., 16., 24., 30., 11., 23., 23.,\n",
      "       21., 20., 19., 11.,  7., 19.,  8., 16., 17., 17., 21., 16., 14.,\n",
      "       14., 14., 14., 24., 24., 24., 23., 23., 23., 23., 14., 26., 29.,\n",
      "       15., 14., 24., 15., 23.,  5., 14.,  6., 11., 13., 17., 10., 16.,\n",
      "        9., 10., 12.,  7., 18.,  7., 25., 12., 22., 20., 20., 20., 19.,\n",
      "       17., 24., 13.,  8., 10., 16., 16., 11.,  8., 16., 22., 14., 23.,\n",
      "       38., 26.,  9., 27., 17.]), array([4, 4, 4, 4, 4, 4, 4, 4, 4, 4, 5, 5, 5, 5, 4, 4, 4, 4, 4, 4, 4, 4,\n",
      "       4, 4, 4, 4, 4, 0, 0, 0, 0, 0, 0, 0, 0, 0, 0, 1, 1, 1, 1, 1, 1, 1,\n",
      "       1, 0, 0, 0, 0, 0, 0, 0, 0, 1, 1, 1, 1, 1, 1, 1, 1, 1, 1, 1, 1, 1,\n",
      "       1, 1, 4, 4, 4, 4, 4, 4, 4, 4, 6, 6, 6, 6, 6, 6, 6, 6, 6, 6, 6, 6,\n",
      "       6, 6, 6, 6, 6, 6, 6, 6, 4, 4, 4, 4, 4, 4, 4, 4, 4, 4, 4, 4, 4, 4,\n",
      "       4, 4, 4, 4, 4, 4, 4, 4, 4, 4, 4, 4, 4, 4, 4, 4, 0, 0, 0, 0, 0, 0,\n",
      "       0, 0, 0, 0, 1, 1, 1, 1, 1, 1, 1, 2, 2, 2, 2, 2, 2, 2, 2, 2, 4, 4,\n",
      "       4, 4, 4, 4, 4, 4, 4, 4, 4, 4, 4, 4, 4, 4, 4, 4, 4, 4, 4, 4, 4, 4,\n",
      "       0, 0, 0, 0, 0, 4, 4, 4, 4, 4, 4, 4, 4, 4, 4, 4, 4, 4, 4, 4, 4, 4,\n",
      "       4, 4]))\n",
      "<class 'pandas.core.series.Series'>\n",
      "(array([ 7900,  7876,   175,  1278,  2064,  2065,  2063,  3363,  3364,\n",
      "        3365,  2948,  2946,  2947,  2595,  2594,  2593,  4492,  4120,\n",
      "        4696,  6116,  6173,  6370,  6880,  6879,  6877,  6878,  7216,\n",
      "        7217,  7219,  7218,  4476,  4981,  6172,  9887,  5028,  4716,\n",
      "        3719,  9821,  4473,  4108,   646,  1067,   940, 10685,   817,\n",
      "        1262,  1348, 10686], dtype=int16), array([1, 0, 1, 1, 0, 1, 0, 0, 0, 0, 0, 0, 0, 0, 0, 0, 0, 0, 1, 0, 0, 0,\n",
      "       0, 0, 0, 0, 0, 1, 0, 0, 1, 1, 1, 0, 1, 1, 0, 0, 0, 0, 1, 1, 0, 1,\n",
      "       1, 0, 1, 0], dtype=int8), array([24., 24., 23., 22., 18., 18., 18., 24., 24., 24., 22., 22., 22.,\n",
      "       15., 15., 15., 19., 10.,  9.,  7., 15.,  8., 42., 42., 42., 42.,\n",
      "       34., 34., 34., 34., 51., 19., 21., 15., 12., 16., 10., 13., 27.,\n",
      "       54., 29., 30., 18., 16., 18., 16., 19., 14.]), array([0, 0, 0, 1, 2, 2, 2, 3, 3, 3, 3, 3, 3, 3, 3, 3, 4, 4, 4, 4, 4, 4,\n",
      "       5, 5, 5, 5, 6, 6, 6, 6, 4, 4, 4, 4, 4, 4, 4, 4, 4, 4, 1, 1, 1, 1,\n",
      "       1, 1, 1, 1]))\n",
      "<class 'pandas.core.series.Series'>\n",
      "(array([7900, 7876,  175, 1278, 2063, 2065, 2064, 3365, 3364, 3363, 2948,\n",
      "       2946, 2947, 2595, 2594, 2593, 4492, 4120, 4696, 6116, 6173, 6370,\n",
      "       6909, 6910, 6911, 6908, 7219, 7217], dtype=int16), array([1, 0, 0, 1, 0, 1, 1, 0, 1, 0, 1, 0, 0, 1, 1, 1, 0, 0, 1, 0, 1, 0,\n",
      "       1, 1, 0, 0, 0, 0], dtype=int8), array([24., 24., 24., 25., 18., 18., 18., 33., 33., 33., 28., 28., 28.,\n",
      "       21., 21., 21., 28., 27., 25., 13., 16., 32., 27., 27., 27., 27.,\n",
      "       42., 42.]), array([0, 0, 0, 1, 2, 2, 2, 3, 3, 3, 3, 3, 3, 3, 3, 3, 4, 4, 4, 4, 4, 4,\n",
      "       5, 5, 5, 5, 6, 6]))\n",
      "<class 'pandas.core.series.Series'>\n",
      "(array([7900, 7876,  175, 1278, 2064, 2063, 2065, 3363, 3364, 3365, 2946,\n",
      "       2947, 2948, 2595, 2593, 2594, 4492, 4120, 4696, 6116, 6173, 6370,\n",
      "       6877, 6878, 6879, 6880, 7216, 7218, 7219, 7217, 3733, 4451, 4433,\n",
      "       5664, 6193, 6119, 5347, 4691, 5039, 4464, 5975, 5717, 6079, 3698,\n",
      "       8467, 6247, 5620, 3878, 6004, 4027, 4244, 4501, 4589, 5029, 5351,\n",
      "       5585, 4807, 6058, 6429, 6114, 6462, 6043, 3881,  609, 1148,  479,\n",
      "        294, 1360, 1103,  979,  556, 1131,  756, 4782, 4975, 9536, 3859,\n",
      "       5618, 6265, 8910,  414,  661,  536, 1138,  955,  666,  965,  475,\n",
      "       1381,  830], dtype=int16), array([1, 0, 1, 1, 1, 0, 1, 0, 0, 0, 0, 0, 0, 1, 1, 0, 0, 1, 0, 0, 0, 1,\n",
      "       1, 1, 1, 0, 1, 1, 1, 1, 1, 1, 1, 1, 0, 1, 0, 1, 0, 1, 0, 1, 1, 1,\n",
      "       0, 1, 1, 0, 1, 0, 1, 1, 1, 1, 0, 1, 1, 0, 1, 1, 0, 1, 0, 1, 1, 1,\n",
      "       1, 1, 1, 0, 1, 0, 0, 0, 1, 1, 0, 1, 1, 1, 1, 1, 0, 1, 0, 0, 1, 1,\n",
      "       1, 1], dtype=int8), array([24., 17., 20., 21., 17., 17., 17.,  9.,  9.,  9., 20., 20., 20.,\n",
      "       19., 19., 19., 30., 44., 32., 22., 17., 16., 16., 16., 16., 16.,\n",
      "       33., 33., 33., 33., 70., 25., 23., 41., 30., 22., 13., 39., 15.,\n",
      "       20., 31., 13., 13., 45., 17., 45., 23., 24., 37., 39., 31., 50.,\n",
      "       13., 31., 28., 43., 69., 25., 29., 48., 37., 24., 36., 42., 22.,\n",
      "       13., 16., 14., 16., 17., 17., 19., 17., 15., 18., 36., 28., 40.,\n",
      "       31.,  9., 23., 18., 16., 17., 14., 24., 16., 16., 17., 16.]), array([0, 0, 0, 1, 2, 2, 2, 3, 3, 3, 3, 3, 3, 3, 3, 3, 4, 4, 4, 4, 4, 4,\n",
      "       5, 5, 5, 5, 6, 6, 6, 6, 4, 4, 4, 4, 4, 4, 4, 4, 4, 4, 4, 4, 4, 4,\n",
      "       4, 4, 4, 4, 4, 4, 4, 4, 4, 4, 4, 4, 4, 4, 4, 4, 4, 4, 4, 1, 1, 1,\n",
      "       1, 1, 1, 1, 1, 1, 1, 4, 4, 4, 4, 4, 4, 4, 1, 1, 1, 1, 1, 1, 1, 1,\n",
      "       1, 1]))\n",
      "<class 'pandas.core.series.Series'>\n",
      "(array([10687,  1335,  1387,   546, 10686,  2996,  2994,  2995,  2722,\n",
      "        2724,  2723,  2692,  2693,  2694,  6908,  6911,  6909,  6910,\n",
      "        6922,  6921,  6923,  6920,  3864,  4690,  3642, 10681,   119,\n",
      "        7936,   136, 10673,    80,  7865,  7918, 10479, 10127, 10129,\n",
      "       10128,  1857,  1856,  1858,  2230,  2231,  2232,  2337,  2336,\n",
      "        2335,  1479,  1478,  1480,  1826,  1827,  1828,  2098,  2097,\n",
      "        2096,  2350,  2352,  2351,  1728,  1727,  1729,  1513,  1512,\n",
      "        1511,  2679,  2678,  2677,  8010,  3771,  4435,  6662,  9432,\n",
      "        2358,  2357,  2356,  6394,  8284,  6078,  9532,  4836,  4416,\n",
      "        4430,  8364,  5171,  5030,  5698,  9615,  4666,  5324,  5313,\n",
      "        9040,  5523,  5615,  4432,  9479,  7883,  7913,    36, 10603,\n",
      "          50,  7927,   123, 10482,   151,  7879,  7858, 10405,  7923,\n",
      "        7889,  7875, 10651,   184,  7887,    98, 10547,  1795,  1794,\n",
      "        1793,  2129,  2130,  2131,  1403,  1404,  1405,  8502,  5658,\n",
      "        5609,  9113,  4284,  4181,  6314,  9761,  6185,  3878,  9293,\n",
      "        9839,  6380,  4800,  4919,  8824,  4755,  4067,  4100,  9500,\n",
      "        4683,  3115,  3116,  3114,  3050,  3048,  3049,  3017,  3015,\n",
      "        3016,  3368,  3366,  3367,  3307,  3308,  3306,  3181,  3180,\n",
      "        3182,  7923,  7936,  9432,  9761,  2722,  2724,  2723,   164,\n",
      "       10403,  6078,   262,  3368,  3366,  3367,  1511,  1513,  1512,\n",
      "        5597,  8010,  7877,  1795,  1793,  1794,    19,  7913, 10687,\n",
      "        9293,  6910,  6909,  6911,  6908,  3306,  3308,  3307,  6099,\n",
      "       10394,  1403], dtype=int16), array([0, 1, 1, 1, 0, 1, 0, 0, 1, 0, 0, 1, 1, 1, 0, 0, 0, 1, 1, 1, 1, 0,\n",
      "       0, 1, 1, 1, 1, 1, 1, 0, 1, 1, 1, 1, 1, 0, 1, 0, 1, 1, 1, 1, 0, 0,\n",
      "       0, 1, 0, 0, 0, 0, 1, 1, 1, 0, 1, 1, 0, 1, 1, 1, 0, 1, 0, 0, 1, 1,\n",
      "       1, 0, 1, 1, 0, 1, 1, 1, 0, 1, 1, 0, 0, 1, 1, 0, 1, 1, 1, 0, 1, 1,\n",
      "       1, 1, 1, 0, 0, 0, 0, 1, 1, 1, 0, 1, 1, 0, 1, 1, 0, 1, 0, 1, 0, 1,\n",
      "       1, 1, 1, 0, 1, 1, 1, 0, 0, 1, 0, 0, 1, 1, 1, 0, 1, 0, 0, 1, 1, 0,\n",
      "       0, 0, 1, 0, 1, 1, 1, 1, 0, 0, 1, 1, 1, 1, 1, 0, 1, 0, 0, 0, 1, 0,\n",
      "       0, 1, 0, 1, 1, 0, 0, 0, 1, 1, 1, 1, 1, 1, 1, 1, 1, 0, 1, 0, 0, 1,\n",
      "       0, 1, 1, 0, 1, 1, 1, 0, 1, 1, 1, 1, 1, 1, 0, 1, 1, 0, 1, 0, 1, 1,\n",
      "       1, 1], dtype=int8), array([ 19.,  17.,  19.,  17.,   9.,  23.,  23.,  23.,  31.,  31.,  31.,\n",
      "        21.,  21.,  21.,  25.,  25.,  25.,  25.,  53.,  53.,  53.,  53.,\n",
      "        44.,  47.,  43.,  69.,  19.,  19.,  24.,  19.,  23.,  22.,  28.,\n",
      "        21.,  20.,  20.,  20.,  32.,  32.,  32.,  34.,  34.,  34.,  29.,\n",
      "        29.,  29.,  32.,  32.,  32.,  32.,  32.,  32.,  32.,  32.,  32.,\n",
      "        25.,  25.,  25.,  36.,  36.,  36.,  30.,  30.,  30.,  36.,  36.,\n",
      "        36.,  22.,  39.,  16.,  20.,  45.,  23.,  23.,  23.,  31., 300.,\n",
      "        20.,  40.,  46.,  31.,  15.,  47.,  67.,  20.,  96.,  31.,  52.,\n",
      "        25.,  21.,   7.,  21.,   9.,  27.,  33.,  30.,  23.,  20.,  23.,\n",
      "        22.,  19.,  23.,  22.,  21.,  19.,  21.,  21.,  24.,  18.,  22.,\n",
      "        20.,  19.,  19.,  22.,  22.,  22.,  22.,  22.,  45.,  45.,  45.,\n",
      "        33.,  33.,  33.,  24.,  18.,  23., 244.,  46.,  22.,  18.,  26.,\n",
      "        41.,  24.,  20.,  17.,  19.,  24.,  63.,  28.,  37.,  52.,  62.,\n",
      "        18.,  27.,  25.,  25.,  25.,  24.,  24.,  24.,  33.,  33.,  33.,\n",
      "        31.,  31.,  31.,  33.,  33.,  33.,  24.,  24.,  24.,  25.,  18.,\n",
      "        22.,  17.,  33.,  33.,  33.,  28.,  20.,  25.,  34.,  15.,  15.,\n",
      "        15.,  24.,  24.,  24.,  27.,  30.,  28.,  21.,  21.,  21.,  31.,\n",
      "        20.,  20.,  16.,  34.,  34.,  34.,  34.,  39.,  39.,  39.,  27.,\n",
      "        51.,  20.]), array([1, 1, 1, 1, 1, 3, 3, 3, 3, 3, 3, 3, 3, 3, 5, 5, 5, 5, 5, 5, 5, 5,\n",
      "       4, 4, 4, 0, 0, 0, 0, 0, 0, 0, 0, 0, 3, 3, 3, 2, 2, 2, 2, 2, 2, 2,\n",
      "       2, 2, 2, 2, 2, 2, 2, 2, 2, 2, 2, 2, 2, 2, 2, 2, 2, 2, 2, 2, 3, 3,\n",
      "       3, 4, 4, 4, 4, 4, 2, 2, 2, 4, 4, 4, 4, 4, 4, 4, 4, 4, 4, 4, 4, 4,\n",
      "       4, 4, 4, 4, 4, 4, 4, 0, 0, 0, 0, 0, 0, 0, 0, 0, 0, 0, 0, 0, 0, 0,\n",
      "       0, 0, 0, 0, 0, 2, 2, 2, 2, 2, 2, 2, 2, 2, 4, 4, 4, 4, 4, 4, 4, 4,\n",
      "       4, 4, 4, 4, 4, 4, 4, 4, 4, 4, 4, 4, 4, 3, 3, 3, 3, 3, 3, 3, 3, 3,\n",
      "       3, 3, 3, 3, 3, 3, 3, 3, 3, 0, 0, 4, 4, 3, 3, 3, 0, 0, 4, 1, 3, 3,\n",
      "       3, 2, 2, 2, 4, 4, 0, 2, 2, 2, 0, 0, 1, 4, 5, 5, 5, 5, 3, 3, 3, 4,\n",
      "       0, 2]))\n",
      "<class 'pandas.core.series.Series'>\n",
      "(array([7900, 7876,  175, 1278, 2065, 2064, 2063, 3364, 3363, 3365, 2948,\n",
      "       2947, 2946, 2594, 2595, 2593, 4492, 4120, 4696, 6116, 6173, 6370,\n",
      "       6879, 6880, 6878, 6877, 7218, 7216], dtype=int16), array([0, 0, 1, 0, 0, 0, 1, 0, 0, 0, 0, 0, 0, 0, 1, 1, 0, 0, 0, 0, 1, 0,\n",
      "       0, 1, 1, 0, 0, 0], dtype=int8), array([24., 24., 19., 18., 15., 15., 15., 13., 13., 13.,  1.,  1.,  1.,\n",
      "        1.,  1.,  1.,  1.,  6.,  9., 11.,  2.,  1.,  1.,  1.,  1.,  1.,\n",
      "        2.,  2.]), array([0, 0, 0, 1, 2, 2, 2, 3, 3, 3, 3, 3, 3, 3, 3, 3, 4, 4, 4, 4, 4, 4,\n",
      "       5, 5, 5, 5, 6, 6]))\n",
      "<class 'pandas.core.series.Series'>\n",
      "(array([ 5059,  1207,  5880,  4777,  6417,  6407,  4527,  5995,  5600,\n",
      "        4473,  7990,  3858,  5388,  4478,  8952,  3646,  3717,   791,\n",
      "         538,   791,   538,  1213, 10688,  1235,   734,   836,   294,\n",
      "         288,   870,   471, 10685,  1056,  1039,   592,  6431,  8663,\n",
      "        5694,  5717,  6125,  8180,  3693,  5397], dtype=int16), array([1, 0, 0, 0, 0, 1, 0, 0, 1, 1, 1, 1, 1, 1, 0, 0, 1, 0, 0, 1, 1, 0,\n",
      "       0, 1, 0, 1, 1, 0, 1, 1, 0, 1, 1, 1, 1, 1, 1, 1, 0, 1, 1, 1],\n",
      "      dtype=int8), array([24., 19., 17., 21., 20., 38., 26., 15., 38., 12., 15., 27., 17.,\n",
      "        7.,  8., 39., 17., 10., 20., 16., 18.,  9., 16., 19., 15., 17.,\n",
      "       21., 15., 15., 22., 19., 18., 16., 15., 17., 22., 12.,  7.,  6.,\n",
      "        7., 15.,  9.]), array([4, 1, 4, 4, 4, 4, 4, 4, 4, 4, 4, 4, 4, 4, 4, 4, 4, 1, 1, 1, 1, 1,\n",
      "       1, 1, 1, 1, 1, 1, 1, 1, 1, 1, 1, 1, 4, 4, 4, 4, 4, 4, 4, 4]))\n",
      "<class 'pandas.core.series.Series'>\n",
      "(array([ 4485,  4913,  9261,  5681,  5165,  3903,  6411,  5318,  4046,\n",
      "        5612,  6017,  1364,   497,   369, 10687,  4067,  4844,  4432,\n",
      "       11435,   313,  4406,  1181,   401, 10686,  6422,  4667, 11256,\n",
      "        5433,  5924,   226,  4718,  7992,  6444,  4253,  4429,  8905,\n",
      "        3769,  6281,  6115, 11523,  5342,  3681,  5450,  8421,  5315,\n",
      "        6041,  5032,  8679,  1179,  3717,  3628,   277, 10688,   251,\n",
      "        5460,  9763,  4100,  5713,  4476,  9539,  4075,  6394,  4988,\n",
      "       11322,  3643,  5169,  6141,  8767,  6257,  4407,  3878,  9452],\n",
      "      dtype=int16), array([0, 0, 1, 1, 1, 0, 1, 0, 1, 0, 1, 1, 1, 1, 0, 1, 1, 0, 0, 0, 1, 1,\n",
      "       1, 1, 0, 1, 0, 1, 1, 1, 1, 0, 1, 1, 0, 1, 0, 0, 1, 1, 1, 1, 1, 0,\n",
      "       0, 0, 0, 1, 1, 1, 1, 0, 0, 0, 1, 1, 0, 1, 0, 1, 0, 1, 1, 1, 1, 1,\n",
      "       1, 0, 1, 1, 0, 1], dtype=int8), array([24., 13., 21., 12., 32., 12., 15., 33., 20., 39., 31., 15., 15.,\n",
      "       17., 17., 16., 15., 16., 15., 16., 14., 17., 18., 16., 18., 27.,\n",
      "       24., 18.,  7.,  9., 16., 17., 29., 29., 14., 37., 41., 15., 22.,\n",
      "        3., 14., 34., 12., 20., 28., 31., 18., 31., 29., 13., 18., 32.,\n",
      "       17., 17., 16., 20., 25., 25., 15., 11., 25., 37.,  5., 19., 24.,\n",
      "       12., 20., 22., 20., 24., 39., 43.]), array([4, 4, 4, 4, 4, 4, 4, 4, 4, 4, 4, 1, 1, 1, 1, 4, 4, 4, 4, 1, 4, 1,\n",
      "       1, 1, 4, 4, 4, 4, 4, 1, 4, 4, 4, 4, 4, 4, 4, 4, 4, 4, 4, 4, 4, 4,\n",
      "       4, 4, 4, 4, 1, 4, 4, 1, 1, 1, 4, 4, 4, 4, 4, 4, 4, 4, 4, 4, 4, 4,\n",
      "       4, 4, 4, 4, 4, 4]))\n",
      "<class 'pandas.core.series.Series'>\n",
      "(array([ 5692,  4512,  3566,  5811,  5132,  4466,  5183,   888,   288,\n",
      "        1320, 10688,   497,   423,   365, 10686,  1066,  1320,  1066,\n",
      "        1232,  4807], dtype=int16), array([1, 1, 0, 0, 1, 0, 1, 1, 0, 0, 1, 1, 0, 1, 1, 0, 1, 1, 1, 0],\n",
      "      dtype=int8), array([24., 49., 19., 17., 19., 48., 29., 30., 16., 15., 16., 26., 18.,\n",
      "       18., 18., 20., 15.,  8.,  7., 17.]), array([4, 4, 4, 4, 4, 4, 4, 1, 1, 1, 1, 1, 1, 1, 1, 1, 1, 1, 1, 4]))\n",
      "<class 'pandas.core.series.Series'>\n",
      "(array([7900, 7876,  175, 1278, 2064, 2063, 2065, 3364, 3363, 3365, 2947,\n",
      "       2946, 2948, 2595, 2594, 2593, 4492, 4120, 4696, 6116, 6173, 6370,\n",
      "       6880, 6878, 6877, 6879, 7217, 7216], dtype=int16), array([1, 0, 0, 0, 1, 0, 0, 0, 1, 0, 0, 0, 0, 0, 1, 0, 0, 0, 1, 0, 0, 1,\n",
      "       0, 1, 0, 0, 0, 0], dtype=int8), array([24., 16., 18., 17., 15., 15., 15., 16., 16., 16., 14., 14., 14.,\n",
      "       12., 12., 12., 24., 17., 35., 13., 10., 12., 29., 29., 29., 29.,\n",
      "       23., 23.]), array([0, 0, 0, 1, 2, 2, 2, 3, 3, 3, 3, 3, 3, 3, 3, 3, 4, 4, 4, 4, 4, 4,\n",
      "       5, 5, 5, 5, 6, 6]))\n",
      "<class 'pandas.core.series.Series'>\n",
      "(array([3802,  993, 5516,  376, 5033, 4037, 6417, 5177, 6422, 4089, 8179,\n",
      "       5220, 5166, 4477, 8542], dtype=int16), array([0, 0, 0, 1, 0, 1, 1, 1, 0, 0, 1, 1, 0, 1, 1], dtype=int8), array([24., 18., 22., 13., 16., 17., 17., 26., 20., 21., 22., 17., 18.,\n",
      "       20.,  4.]), array([4, 1, 4, 1, 4, 4, 4, 4, 4, 4, 4, 4, 4, 4, 4]))\n",
      "<class 'pandas.core.series.Series'>\n",
      "(array([7900, 7876,  175, 1278, 2063, 2065, 2064, 3365, 3363, 3364, 2946,\n",
      "       2947, 2948, 2594, 2593, 2595, 4492, 4120, 4696, 6116, 6173, 6370,\n",
      "       6877, 6879, 6880, 6878, 7219, 7216], dtype=int16), array([1, 1, 0, 1, 0, 0, 0, 0, 1, 0, 0, 0, 0, 1, 1, 1, 1, 0, 1, 0, 1, 1,\n",
      "       0, 1, 0, 0, 0, 0], dtype=int8), array([24.,  8., 18., 19., 15., 15., 15., 17., 17., 17., 12., 12., 12.,\n",
      "       12., 12., 12., 13., 24., 22.,  8.,  9.,  7., 19., 19., 19., 19.,\n",
      "       29., 29.]), array([0, 0, 0, 1, 2, 2, 2, 3, 3, 3, 3, 3, 3, 3, 3, 3, 4, 4, 4, 4, 4, 4,\n",
      "       5, 5, 5, 5, 6, 6]))\n",
      "<class 'pandas.core.series.Series'>\n",
      "(array([ 9272,  5959,  6042,  9059,  4701,  6043,  6012,  8459,  6012,\n",
      "        9733,  4530,  9686,   193,     6,   187, 10397,  7933,    64,\n",
      "          12, 10430,    37,  7983,   483,   456,  1192,   702,  1124,\n",
      "         702,   263,   835,   454,  1196,   647,  1239,  1256,  1239,\n",
      "        1256,  1313,  1185,  1276,   868,  1196,  1302,   868,   476,\n",
      "        1239,  1374,   802,   506,  1374,  1239,  1222,   981,   454,\n",
      "        1062,  1059,   901,  1209,  1127,   412,   893,   608,   263,\n",
      "        1124,   608,   412,   702,   311,   339,  1137,   358,   413,\n",
      "        3589,  9679,  6264,  4418,  4994,  9663,  6122,  3885,  4998,\n",
      "        9512,  6680,  4772,  4166,  8710,  6436,  6436,  4427,  5716,\n",
      "        5716,  4409,  4994,  4985,  4292,  5325,  4240,  5029,  5325,\n",
      "        5180,  5326,  8904,  5660,  6113,  5266,  8940,  3618,  4322,\n",
      "        4687,  8679,  6004,  8494,  3841,  4734,  5173,  8378,  5598,\n",
      "        4212,  4054,  9677,  5219,  9283,  5160, 10003,  3713,  5700,\n",
      "        6044,  9488,  4465,  5990,  5007,  9752,  5968,  6437,  3803,\n",
      "        8889,  5252,  4669,  6381,  9255,  5571,  4181,  5037,  9910,\n",
      "        5172,  5017,  5193,  9349,  5157,  5258,  6151,  9016,  4037,\n",
      "        3601,  5847,  8660,  3895,  6249,  4215,  8716,  3920,  3665,\n",
      "        5215,  9422,  5249,  5103,  6057,  8897,  4009,  4313,  5307,\n",
      "        8647,  5345,  5207,  8494,  5207,  3627,  9734,  6449,  1876,\n",
      "        1875,  1874,  2530,  2532,  2531,  1526,  1528,  1527,  2002,\n",
      "        2001,  2000,  1428,  1429,  1427,  2213,  2212,  2214,  8222,\n",
      "        6031,  8739], dtype=int16), array([0, 1, 1, 1, 0, 1, 0, 1, 1, 0, 1, 1, 1, 0, 1, 0, 1, 1, 1, 1, 1, 0,\n",
      "       1, 1, 1, 0, 1, 1, 1, 1, 0, 0, 1, 0, 0, 1, 1, 1, 1, 1, 0, 1, 1, 1,\n",
      "       1, 1, 0, 1, 0, 1, 1, 0, 0, 1, 1, 1, 1, 1, 0, 0, 0, 0, 1, 1, 1, 1,\n",
      "       1, 0, 1, 0, 1, 1, 0, 1, 1, 1, 0, 1, 1, 1, 0, 0, 1, 0, 0, 0, 0, 1,\n",
      "       0, 0, 1, 1, 1, 1, 1, 0, 1, 1, 1, 1, 0, 1, 0, 0, 1, 0, 0, 0, 0, 1,\n",
      "       0, 1, 1, 1, 0, 0, 1, 1, 1, 1, 1, 1, 1, 0, 0, 0, 1, 0, 0, 1, 1, 0,\n",
      "       1, 1, 0, 0, 1, 1, 0, 0, 0, 1, 0, 1, 0, 0, 0, 0, 0, 0, 0, 0, 1, 1,\n",
      "       0, 0, 1, 1, 1, 1, 1, 1, 1, 0, 0, 1, 0, 1, 0, 1, 1, 0, 0, 0, 1, 1,\n",
      "       1, 0, 0, 0, 0, 0, 1, 1, 1, 0, 1, 1, 1, 1, 0, 1, 1, 1, 1, 1, 1, 1,\n",
      "       1, 0], dtype=int8), array([15.,  8.,  7., 12., 12., 10., 26., 17., 10.,  8., 23., 26., 29.,\n",
      "       19., 21., 20., 20., 23., 24., 23., 21., 20., 50., 14., 14., 16.,\n",
      "       18., 16., 19., 17., 15., 14., 18., 18., 17., 18., 16., 19., 17.,\n",
      "       16., 14., 16., 17., 17., 16., 16., 17., 19., 15., 17., 18., 16.,\n",
      "       17., 18., 15., 18., 14., 16., 13., 16., 16., 16., 20., 15., 17.,\n",
      "       17., 17., 16., 13., 17., 19., 16., 16., 15., 12., 14., 27., 11.,\n",
      "       22., 21., 14., 12., 17., 10., 22., 38., 19., 11., 13.,  9., 11.,\n",
      "        3.,  8.,  5., 12., 11., 17., 12., 10.,  6., 19., 13., 15., 15.,\n",
      "        7., 36., 30., 19., 11., 16., 18., 15.,  9.,  5., 27., 22., 15.,\n",
      "       16., 21., 16., 17., 12., 24., 22., 44., 28., 38., 10.,  5., 13.,\n",
      "       10., 13., 27., 11., 21., 17., 21., 10., 15., 17., 15., 14., 13.,\n",
      "       12., 13.,  8., 19., 14., 12., 14., 27., 88.,  9., 19., 14., 13.,\n",
      "       18., 19.,  8., 14.,  7., 72., 38., 20., 11., 15., 12., 20., 21.,\n",
      "       16., 24., 24., 17., 31., 27.,  4.,  6., 10., 20., 18., 18., 18.,\n",
      "       28., 28., 28., 22., 22., 22., 24., 24., 24., 25., 25., 25., 18.,\n",
      "       18., 18., 24., 13., 14.]), array([4, 4, 4, 4, 4, 4, 4, 4, 4, 4, 4, 4, 0, 0, 0, 0, 0, 0, 0, 0, 0, 0,\n",
      "       1, 1, 1, 1, 1, 1, 1, 1, 1, 1, 1, 1, 1, 1, 1, 1, 1, 1, 1, 1, 1, 1,\n",
      "       1, 1, 1, 1, 1, 1, 1, 1, 1, 1, 1, 1, 1, 1, 1, 1, 1, 1, 1, 1, 1, 1,\n",
      "       1, 1, 1, 1, 1, 1, 4, 4, 4, 4, 4, 4, 4, 4, 4, 4, 4, 4, 4, 4, 4, 4,\n",
      "       4, 4, 4, 4, 4, 4, 4, 4, 4, 4, 4, 4, 4, 4, 4, 4, 4, 4, 4, 4, 4, 4,\n",
      "       4, 4, 4, 4, 4, 4, 4, 4, 4, 4, 4, 4, 4, 4, 4, 4, 4, 4, 4, 4, 4, 4,\n",
      "       4, 4, 4, 4, 4, 4, 4, 4, 4, 4, 4, 4, 4, 4, 4, 4, 4, 4, 4, 4, 4, 4,\n",
      "       4, 4, 4, 4, 4, 4, 4, 4, 4, 4, 4, 4, 4, 4, 4, 4, 4, 4, 4, 4, 4, 4,\n",
      "       4, 4, 4, 2, 2, 2, 2, 2, 2, 2, 2, 2, 2, 2, 2, 2, 2, 2, 2, 2, 2, 4,\n",
      "       4, 4]))\n",
      "<class 'pandas.core.series.Series'>\n",
      "(array([ 4295,  4567,    98,  3968,  5738,  5673,  5192,  4264,  5177,\n",
      "        5444,  9054,  3843,  5266,  4130,  8416,  5703,  4696,  1239,\n",
      "         824,   501, 10688,   972,   665,   638, 10685], dtype=int16), array([1, 1, 1, 0, 0, 1, 1, 1, 0, 1, 1, 1, 1, 1, 1, 0, 1, 1, 1, 1, 1, 1,\n",
      "       0, 1, 1], dtype=int8), array([24., 33., 28., 21., 34., 13., 27., 20., 22., 17., 14., 28., 13.,\n",
      "       13., 24., 11., 27., 21., 17., 17., 17., 17., 17., 18., 19.]), array([4, 4, 0, 4, 4, 4, 4, 4, 4, 4, 4, 4, 4, 4, 4, 4, 4, 1, 1, 1, 1, 1,\n",
      "       1, 1, 1]))\n",
      "<class 'pandas.core.series.Series'>\n",
      "(array([  122, 10430, 10435,  4062,  8454,  9016,  4128,  6479,  4434,\n",
      "        8991,  6155,  4068,  4465,  8398,  6033,  5246,  5679,  9935,\n",
      "        4536,  6467,  4402,  9859,  5544,  5651,  6427,  9998,  6687,\n",
      "        6430, 10403,  4469,  9620,  5508,  4384,  5092,  3643,  9649,\n",
      "        6002,  6104,  5979,  9098,  6291,  5273,  3636,  9812,  4782,\n",
      "        5928,  6426,  8331,  6649,  4975,  6107,  8597,  4080, 10550,\n",
      "       10412, 10554, 10490, 10487, 10632,   758,   371,  1036,  1202,\n",
      "        1393,   757,  1373,  1043,   698,   983,   260,   628,  1158,\n",
      "         645,  1118,   845,   384,   798,   723,   270,   255,   239,\n",
      "         269,  1250,   621,  4236,  6460,  9920,  5970,  4813,  6130,\n",
      "       10565, 10396, 10675, 10436, 10638, 10517, 10486, 10546, 10532,\n",
      "       10670, 10652, 10634, 10674, 10682, 10385,   642,   525,   374,\n",
      "         530,  1194,   997,   396,  1114,   368,   915,   426,   507,\n",
      "         337,  1372,   213,   743,   433,   650,   391,  1068,   529,\n",
      "        1087,   379,   258,  1188,  1330,  3070,  3071,  3069,  3232,\n",
      "        3233,  3231,  2898,  2900,  2899,  3530,  3528,  3529,  2750,\n",
      "        2749,  2751,  2625,  2624,  2623,  2673,  2672,  2671, 10112,\n",
      "       10113, 10114,  2928,  2929,  2930,  3472,  3471,  3473,  9093,\n",
      "        3749,  6670,  5658,  8522,  4836,  5498,  4117,  8518,  6184,\n",
      "        4424,  6171,  5765,  4419,  5788,  4388,  9849,  5011,  3968,\n",
      "        5618,  9826,  4418,  3998,  4129,  9464,  3744,  4026,  5178,\n",
      "        9089,  5855,  6083,  3651,  9352,  4931,  5481,  5095,  8828,\n",
      "        4691,  4370], dtype=int16), array([1, 1, 1, 1, 1, 1, 0, 1, 1, 1, 1, 0, 1, 1, 1, 1, 0, 0, 1, 1, 0, 1,\n",
      "       1, 1, 1, 1, 1, 1, 1, 0, 1, 0, 1, 0, 1, 1, 0, 1, 0, 1, 1, 1, 0, 0,\n",
      "       1, 1, 1, 1, 0, 0, 1, 0, 1, 1, 1, 1, 1, 1, 1, 1, 1, 0, 1, 1, 1, 1,\n",
      "       1, 1, 1, 1, 1, 1, 1, 1, 0, 1, 1, 1, 1, 1, 1, 1, 1, 1, 1, 1, 1, 0,\n",
      "       0, 1, 0, 1, 1, 1, 1, 1, 1, 1, 1, 1, 1, 1, 1, 1, 1, 1, 1, 1, 1, 1,\n",
      "       1, 1, 1, 1, 1, 1, 1, 1, 1, 1, 1, 1, 1, 1, 1, 1, 1, 1, 1, 1, 1, 1,\n",
      "       1, 1, 1, 1, 1, 1, 1, 1, 0, 1, 1, 1, 1, 0, 1, 0, 1, 1, 1, 1, 1, 1,\n",
      "       1, 1, 1, 1, 1, 1, 1, 0, 1, 1, 1, 1, 1, 1, 1, 1, 0, 0, 0, 1, 1, 1,\n",
      "       1, 1, 1, 1, 1, 1, 1, 1, 1, 0, 1, 1, 1, 1, 0, 1, 1, 1, 0, 0, 0, 0,\n",
      "       1, 1], dtype=int8), array([15., 16., 24., 14., 13.,  9.,  6., 12., 26.,  9., 26., 23., 13.,\n",
      "       27., 25., 28., 31., 33., 95., 15., 20., 17.,  9.,  8.,  9.,  7.,\n",
      "       17., 29., 30., 20., 24., 17., 29., 16.,  6., 24.,  7., 39., 40.,\n",
      "       32., 25., 39., 16., 20., 39., 13., 53.,  9.,  5., 43., 31., 56.,\n",
      "        9., 54., 10., 21., 21., 22., 25., 16., 18., 16., 17., 16., 10.,\n",
      "       18., 19., 12., 13., 15., 18., 10., 18., 20., 19., 19., 16., 13.,\n",
      "       18., 21., 20., 18., 12., 21., 18.,  8., 19., 19., 50., 95., 10.,\n",
      "       20., 18., 23., 23., 21., 16., 14., 20., 11., 18., 19., 17., 18.,\n",
      "       21., 19., 17., 21., 17., 21., 17., 17., 17., 21., 19., 20., 14.,\n",
      "       17., 46., 20., 20., 17., 19., 12., 18., 22., 30., 17., 15., 18.,\n",
      "       16., 15., 15., 15., 18., 18., 18., 27., 27., 27., 15., 15., 15.,\n",
      "       18., 18., 18., 25., 25., 25., 28., 28., 28., 23., 23., 23., 18.,\n",
      "       18., 18., 42., 42., 42., 49.,  9., 24., 57., 31., 20., 11., 30.,\n",
      "       30., 13., 20., 16., 34., 18., 15., 16., 18., 12., 30., 28., 11.,\n",
      "       48.,  9., 41., 13., 30., 11., 16., 11., 17., 60., 27., 42., 12.,\n",
      "       16., 12., 25., 18.,  8.]), array([0, 0, 0, 4, 4, 4, 4, 4, 4, 4, 4, 4, 4, 4, 4, 4, 4, 4, 4, 4, 4, 4,\n",
      "       4, 4, 4, 4, 4, 4, 0, 4, 4, 4, 4, 4, 4, 4, 4, 4, 4, 4, 4, 4, 4, 4,\n",
      "       4, 4, 4, 4, 4, 4, 4, 4, 4, 0, 0, 0, 0, 0, 0, 1, 1, 1, 1, 1, 1, 1,\n",
      "       1, 1, 1, 1, 1, 1, 1, 1, 1, 1, 1, 1, 1, 1, 1, 1, 1, 1, 4, 4, 4, 4,\n",
      "       4, 4, 0, 0, 0, 0, 0, 0, 0, 0, 0, 0, 0, 0, 0, 0, 0, 1, 1, 1, 1, 1,\n",
      "       1, 1, 1, 1, 1, 1, 1, 1, 1, 1, 1, 1, 1, 1, 1, 1, 1, 1, 1, 1, 1, 3,\n",
      "       3, 3, 3, 3, 3, 3, 3, 3, 3, 3, 3, 3, 3, 3, 3, 3, 3, 3, 3, 3, 3, 3,\n",
      "       3, 3, 3, 3, 3, 3, 3, 4, 4, 4, 4, 4, 4, 4, 4, 4, 4, 4, 4, 4, 4, 4,\n",
      "       4, 4, 4, 4, 4, 4, 4, 4, 4, 4, 4, 4, 4, 4, 4, 4, 4, 4, 4, 4, 4, 4,\n",
      "       4, 4]))\n",
      "<class 'pandas.core.series.Series'>\n",
      "(array([ 3734,  4276,  3654,  4026,  6435,  6659,  4554,  4476,  6325,\n",
      "        5001,  9446,  4491,  5708,  4467,  9626,  3639,  5616,  7975,\n",
      "        7967,  7905, 10482,  7957,  7981,    76, 10551,   163,  7901,\n",
      "        7887,   689,   436,  1192, 10686,   703,  6771,  6772],\n",
      "      dtype=int16), array([0, 1, 1, 0, 0, 0, 1, 1, 1, 1, 1, 1, 0, 1, 1, 1, 0, 0, 1, 0, 1, 1,\n",
      "       0, 1, 1, 1, 1, 1, 1, 1, 1, 1, 1, 1, 1], dtype=int8), array([24., 12., 26., 15., 18., 15.,  8., 11., 10.,  8.,  9.,  6., 12.,\n",
      "       30., 11., 11., 12., 12., 26., 23., 22., 15., 22., 23., 22., 17.,\n",
      "       21., 10., 18.,  8., 19., 17., 20., 16., 16.]), array([4, 4, 4, 4, 4, 4, 4, 4, 4, 4, 4, 4, 4, 4, 4, 4, 4, 0, 0, 0, 0, 0,\n",
      "       0, 0, 0, 0, 0, 0, 1, 1, 1, 1, 1, 5, 5]))\n",
      "<class 'pandas.core.series.Series'>\n",
      "(array([7900, 7876,  175, 1278, 2064, 2063, 2065, 3363, 3364, 3365, 2947,\n",
      "       2948, 2946, 2594, 2593, 2595, 4492, 4120, 4696, 6116, 6173, 6370,\n",
      "       6908, 6911, 6909, 6910, 7218, 7216], dtype=int16), array([1, 0, 0, 1, 1, 0, 1, 0, 1, 0, 0, 0, 0, 0, 0, 0, 0, 0, 0, 1, 0, 0,\n",
      "       0, 1, 1, 1, 1, 0], dtype=int8), array([24., 33., 21., 22., 17., 17., 17., 31., 31., 31., 28., 28., 28.,\n",
      "       22., 22., 22., 26., 26., 17., 10., 10., 13., 13., 13., 13., 13.,\n",
      "       18., 18.]), array([0, 0, 0, 1, 2, 2, 2, 3, 3, 3, 3, 3, 3, 3, 3, 3, 4, 4, 4, 4, 4, 4,\n",
      "       5, 5, 5, 5, 6, 6]))\n",
      "<class 'pandas.core.series.Series'>\n",
      "(array([ 7900,  7876,   175,  1278,  2063,  2064,  2065,  3364,  3363,\n",
      "        3365,  2946,  2948,  2947,  2595,  2594,  2593,  4492,  4120,\n",
      "        4696,  6116,  6173,  6370,  6879,  6880,  6877,  6878,  7219,\n",
      "        7218,  7216,  7217,   225,  1184,   829, 10687,   894,   793,\n",
      "        1165, 10686,   832,  1146,  3717,  4118,  5928,  8798,  5005,\n",
      "        3609,  4476,  9144], dtype=int16), array([1, 0, 0, 0, 0, 0, 0, 0, 0, 1, 0, 0, 0, 0, 0, 1, 1, 0, 1, 1, 1, 0,\n",
      "       0, 0, 0, 0, 0, 0, 1, 0, 0, 0, 1, 0, 1, 0, 0, 0, 1, 1, 1, 0, 1, 1,\n",
      "       0, 0, 1, 0], dtype=int8), array([24., 25., 22., 21., 17., 17., 17., 36., 36., 36., 29., 29., 29.,\n",
      "       28., 28., 28., 23., 20., 20., 25.,  5., 17., 25., 25., 25., 25.,\n",
      "       36., 36., 36., 36., 10., 20., 17., 19., 18., 18., 17., 17., 19.,\n",
      "       17., 15., 22.,  7., 41., 40., 46., 18.,  7.]), array([0, 0, 0, 1, 2, 2, 2, 3, 3, 3, 3, 3, 3, 3, 3, 3, 4, 4, 4, 4, 4, 4,\n",
      "       5, 5, 5, 5, 6, 6, 6, 6, 1, 1, 1, 1, 1, 1, 1, 1, 1, 1, 4, 4, 4, 4,\n",
      "       4, 4, 4, 4]))\n",
      "<class 'pandas.core.series.Series'>\n",
      "(array([ 1032,   716,   617,   695,   402,   580,   360,   886,   741,\n",
      "        1008,   385,   325,  1006,   905,  1258,   772,  1156,   620,\n",
      "         761,   624,   868,   454,   697,   234,   996,   731,  4692,\n",
      "        8804,  4709,  4265,  4026,  9514,  6117,  4102,  6427,  8961,\n",
      "        6663,  5095,  4970,  9665,  3630,  3941,  6268,  8770,  4230,\n",
      "        4539,  1285,  1091,   367,   247,   261,   818,   544,  1109,\n",
      "        1248,  1158,  4117,  9766,  3854,  5273,  6136,  9739,  3728,\n",
      "        5679,  3744,  8519,   923,  1107,   476,  1318,   397,  1236,\n",
      "        1337,   509,   280,   220,   270,   672,   883,   643,   770,\n",
      "         574,   498,   549,  1088,   678,  5167,  3988,  5351,  9621,\n",
      "        5900,  6033,  8473,  9586,  4094,  5394,  6125,  9983,  4457,\n",
      "        4433,  6428,  9148,  5836,  5362,  4779,  9924,  6475,  9145,\n",
      "        5665,  6469,  4992,  8865,  4190,  4737,  4811,  8687,  1144,\n",
      "        1116,   949,  1050,  1224,   736,  1372,  1309,   592,   692,\n",
      "        6045,  3791,  5330,  9613,  6018,  6429,  3749,  9075,  5256,\n",
      "        3643,  5175,  5424,  4854,  9404,  3968,  3990,  4402,  8768,\n",
      "        6107,  6071,  6062,  9878,  6095,  5404,  4768,  9868,  5432,\n",
      "        8811,  4128,  4608,  5254,  8387,  3906,  3967,  4421,  8694,\n",
      "        6430,  4931,  6670,  9113,  4079,  5000,  3609,  8833,  4254,\n",
      "        6260,  5954,  9583,  6340,  3632,  4529, 11458,  6686,  3983,\n",
      "        4244,  9357,  5389,  4077,  4384,  9666,  4129,  5281,  4179,\n",
      "        8616,  4437,  4388,  1307,   985,   249,   894,   606,   352,\n",
      "        1200,  1053], dtype=int16), array([0, 1, 1, 0, 0, 1, 0, 0, 1, 1, 1, 1, 1, 0, 1, 1, 0, 1, 1, 1, 0, 1,\n",
      "       0, 1, 0, 0, 1, 1, 1, 0, 1, 1, 0, 1, 1, 1, 1, 0, 0, 1, 0, 1, 1, 1,\n",
      "       0, 1, 1, 1, 1, 1, 1, 0, 0, 1, 1, 1, 1, 1, 1, 1, 1, 0, 1, 1, 1, 1,\n",
      "       1, 1, 1, 1, 1, 0, 1, 0, 1, 1, 1, 1, 1, 1, 0, 1, 0, 1, 1, 0, 1, 1,\n",
      "       1, 1, 0, 1, 1, 1, 0, 1, 1, 0, 1, 1, 0, 1, 1, 1, 0, 1, 0, 1, 1, 0,\n",
      "       1, 0, 0, 1, 1, 1, 1, 0, 1, 1, 1, 1, 1, 1, 0, 0, 1, 1, 1, 1, 1, 1,\n",
      "       1, 1, 1, 0, 0, 1, 1, 1, 1, 0, 0, 1, 1, 1, 1, 1, 1, 1, 1, 0, 0, 1,\n",
      "       1, 0, 1, 1, 0, 1, 1, 1, 1, 0, 1, 1, 0, 1, 1, 0, 1, 0, 0, 1, 1, 1,\n",
      "       1, 1, 0, 1, 1, 0, 1, 1, 1, 1, 0, 0, 0, 1, 1, 1, 0, 1, 1, 0, 0, 1,\n",
      "       0, 1], dtype=int8), array([17., 25., 17., 17., 26., 18., 17., 18., 19., 18., 18., 17., 17.,\n",
      "       20., 16., 22., 24., 23., 17., 18., 18., 16., 18., 20., 22., 26.,\n",
      "       22., 17., 10., 28., 35., 29., 21., 83., 10., 11., 21., 38., 16.,\n",
      "       15., 15., 19., 22., 24., 12., 32., 18., 13., 17., 16., 16., 17.,\n",
      "       19., 20., 17., 21., 17., 68., 15., 24.,  7., 28., 14., 12., 16.,\n",
      "       14., 26., 22., 21., 21., 20., 16., 18., 16., 21., 17., 21., 18.,\n",
      "       18., 19., 18., 19., 23., 16., 20., 19., 18., 14., 21., 17., 31.,\n",
      "       46., 17., 49., 36., 66.,  9., 20., 15., 31., 38., 36., 26., 52.,\n",
      "        7., 18., 18., 38., 21., 12., 56., 31., 21., 14., 24., 14., 15.,\n",
      "       16., 18., 17., 19., 17., 20., 19., 19., 29., 25., 17., 28., 58.,\n",
      "       11., 16., 12., 33., 21., 22., 27., 18.,  6., 31., 21., 27., 24.,\n",
      "       36., 27., 24., 11., 31., 20., 29., 18., 20., 34., 12., 22., 50.,\n",
      "       26.,  9., 13., 24., 14., 14., 13., 16., 10., 22., 27., 14.,  8.,\n",
      "        7., 35., 41., 44., 22., 16., 19., 10., 39., 15., 32., 30., 44.,\n",
      "       14., 19., 15., 19.,  8., 21., 39., 24., 17., 11., 34., 23., 19.,\n",
      "       25., 20., 23., 18., 24.]), array([1, 1, 1, 1, 1, 1, 1, 1, 1, 1, 1, 1, 1, 1, 1, 1, 1, 1, 1, 1, 1, 1,\n",
      "       1, 1, 1, 1, 4, 4, 4, 4, 4, 4, 4, 4, 4, 4, 4, 4, 4, 4, 4, 4, 4, 4,\n",
      "       4, 4, 1, 1, 1, 1, 1, 1, 1, 1, 1, 1, 4, 4, 4, 4, 4, 4, 4, 4, 4, 4,\n",
      "       1, 1, 1, 1, 1, 1, 1, 1, 1, 1, 1, 1, 1, 1, 1, 1, 1, 1, 1, 1, 4, 4,\n",
      "       4, 4, 4, 4, 4, 4, 4, 4, 4, 4, 4, 4, 4, 4, 4, 4, 4, 4, 4, 4, 4, 4,\n",
      "       4, 4, 4, 4, 4, 4, 1, 1, 1, 1, 1, 1, 1, 1, 1, 1, 4, 4, 4, 4, 4, 4,\n",
      "       4, 4, 4, 4, 4, 4, 4, 4, 4, 4, 4, 4, 4, 4, 4, 4, 4, 4, 4, 4, 4, 4,\n",
      "       4, 4, 4, 4, 4, 4, 4, 4, 4, 4, 4, 4, 4, 4, 4, 4, 4, 4, 4, 4, 4, 4,\n",
      "       4, 4, 4, 4, 4, 4, 4, 4, 4, 4, 4, 4, 4, 4, 4, 4, 1, 1, 1, 1, 1, 1,\n",
      "       1, 1]))\n",
      "<class 'pandas.core.series.Series'>\n",
      "(array([7900, 7876,  175, 1278, 2064, 2065, 2063, 3363, 3364, 3365, 2946,\n",
      "       2948, 2947, 2593, 2595, 2594, 4492, 4120, 4696, 6116, 6173, 6370,\n",
      "       6878, 6877, 6880, 6879, 7219, 7216, 7218, 7217, 5218, 4598, 3731,\n",
      "       4533, 3974, 5582, 8460, 5266], dtype=int16), array([1, 0, 0, 1, 0, 1, 0, 0, 0, 0, 0, 1, 0, 0, 0, 1, 1, 0, 0, 0, 1, 1,\n",
      "       0, 1, 0, 0, 0, 1, 1, 0, 1, 1, 0, 0, 1, 1, 0, 1], dtype=int8), array([24., 23., 21., 23., 17., 17., 17., 16., 16., 16.,  8.,  8.,  8.,\n",
      "       10., 10., 10.,  8., 26., 10., 17.,  8.,  5., 36., 36., 36., 36.,\n",
      "       24., 24., 24., 24., 44., 15., 19., 21., 46.,  7.,  7., 19.]), array([0, 0, 0, 1, 2, 2, 2, 3, 3, 3, 3, 3, 3, 3, 3, 3, 4, 4, 4, 4, 4, 4,\n",
      "       5, 5, 5, 5, 6, 6, 6, 6, 4, 4, 4, 4, 4, 4, 4, 4]))\n",
      "<class 'pandas.core.series.Series'>\n",
      "(array([6660, 3932, 1217,  834,  757, 1373,  920,  773, 1145,  284, 1249,\n",
      "       1265,  920,  279, 1373, 1358, 4000, 5608, 5439, 9357, 3855, 4500,\n",
      "       4740, 8358, 6472, 4728, 5833, 9874,  731,  834,  819, 1344, 1322,\n",
      "        369, 1002,  721,  260,  427,  385,  644, 1369,  371,  208,  668,\n",
      "        421,  307,  482,  795,  258, 1372, 5307, 5371, 4462, 3609, 5952,\n",
      "       8774, 5297, 4130, 5925, 9668, 3935, 4992, 3598, 8439, 6094, 4860,\n",
      "       5598, 6211, 4701, 6161, 4152, 8915, 6324, 4155, 4272, 9755, 5423,\n",
      "       5890, 6426, 9397, 4457, 5990, 4394, 9852, 5012, 5973, 8459, 9005,\n",
      "       5787, 5963, 6419, 9650, 4701, 5307, 5963, 4728, 5371, 4780, 5428,\n",
      "       4474, 9239, 4994, 4510, 6437, 9243, 5450, 3780, 4701, 5963, 5428,\n",
      "       4728, 5450, 5245, 6426, 4096, 8718, 5430, 3907, 5942, 9779, 5994,\n",
      "       6003, 6393, 9610, 5602, 4102, 3861, 8989, 5013, 5881, 5876, 8609,\n",
      "       8262, 4703, 4182, 8294, 4413, 6475, 5870, 8182, 6292, 5287, 6016,\n",
      "       9649, 4182, 3780, 5691, 4436, 4057, 3861, 6393, 4500, 6132, 4425,\n",
      "       6663, 8622, 3672, 6057, 4072, 9100, 5590, 5712, 4692, 8352, 4437,\n",
      "       5243, 6390, 8567, 5385, 5256, 4451, 9762, 5380, 5096, 4370, 9232,\n",
      "       5267, 6187, 5201, 9593, 6431, 5658, 5700, 9033, 6268, 5902, 9306,\n",
      "       8422, 5001, 3648, 4987, 8619,  589, 1359,  996, 1029,  756,  526,\n",
      "        582,  423], dtype=int16), array([1, 1, 1, 0, 1, 0, 0, 1, 1, 0, 1, 1, 0, 1, 1, 1, 1, 1, 1, 0, 1, 0,\n",
      "       0, 0, 0, 0, 1, 0, 0, 1, 1, 1, 1, 1, 1, 0, 1, 1, 0, 1, 1, 1, 1, 1,\n",
      "       0, 1, 1, 1, 0, 1, 1, 1, 0, 1, 1, 1, 1, 0, 1, 0, 1, 1, 1, 1, 1, 1,\n",
      "       1, 1, 0, 1, 1, 1, 1, 1, 0, 1, 1, 1, 0, 0, 1, 1, 1, 1, 0, 1, 0, 1,\n",
      "       1, 0, 1, 0, 1, 1, 1, 0, 0, 1, 0, 1, 1, 1, 1, 1, 1, 0, 0, 1, 1, 1,\n",
      "       1, 1, 1, 1, 1, 1, 0, 1, 1, 1, 1, 1, 0, 1, 1, 0, 0, 0, 0, 1, 1, 1,\n",
      "       1, 1, 0, 1, 1, 0, 1, 1, 0, 0, 0, 1, 1, 0, 0, 0, 1, 1, 0, 0, 1, 1,\n",
      "       1, 1, 1, 1, 0, 1, 0, 0, 1, 0, 1, 1, 0, 0, 0, 0, 0, 0, 1, 1, 1, 0,\n",
      "       0, 0, 0, 1, 0, 0, 0, 1, 1, 1, 1, 1, 1, 1, 1, 1, 1, 0, 1, 1, 1, 1,\n",
      "       1, 1], dtype=int8), array([22.,  7., 20., 11., 15., 15., 15., 15., 17., 15., 19., 13., 15.,\n",
      "       18., 12., 15., 11., 12., 20., 18., 26., 30., 12.,  9., 11., 19.,\n",
      "       19., 29., 29., 19., 13., 18., 15.,  9., 16., 19., 15., 18., 18.,\n",
      "       19., 17., 14., 15., 19., 17., 10., 15., 15.,  9., 16., 16., 14.,\n",
      "       20.,  8.,  8., 11., 14., 24., 18., 19., 41., 18., 10., 13., 13.,\n",
      "       10.,  4., 53., 46., 22.,  7.,  9., 16., 17.,  4., 12., 11., 18.,\n",
      "       12., 20., 41.,  6., 12.,  8., 12.,  5., 16.,  9.,  7., 13., 14.,\n",
      "        4., 11.,  7., 25., 13., 12.,  5., 20.,  8., 32., 37.,  7., 19.,\n",
      "       53., 14., 13., 16.,  4.,  9., 11., 14., 13., 11.,  6., 11., 10.,\n",
      "        9.,  4.,  5.,  6.,  9., 10.,  9.,  7., 14., 10.,  9., 17., 19.,\n",
      "       11., 62., 11., 29., 23., 23.,  9., 13., 46., 11.,  8., 21., 27.,\n",
      "       15.,  9., 13.,  9.,  7.,  6., 10., 12., 18.,  9., 11., 39., 14.,\n",
      "       11., 16., 21., 20., 12., 13., 45., 16., 13., 13., 13., 18., 17.,\n",
      "       19., 23.,  5.,  6., 15., 30., 34., 24., 22., 24., 22., 13., 62.,\n",
      "       11., 10.,  6., 18., 37., 12., 13., 13., 47., 16., 18., 18., 16.,\n",
      "       18., 13., 16., 18., 12.]), array([4, 4, 1, 1, 1, 1, 1, 1, 1, 1, 1, 1, 1, 1, 1, 1, 4, 4, 4, 4, 4, 4,\n",
      "       4, 4, 4, 4, 4, 4, 1, 1, 1, 1, 1, 1, 1, 1, 1, 1, 1, 1, 1, 1, 1, 1,\n",
      "       1, 1, 1, 1, 1, 1, 4, 4, 4, 4, 4, 4, 4, 4, 4, 4, 4, 4, 4, 4, 4, 4,\n",
      "       4, 4, 4, 4, 4, 4, 4, 4, 4, 4, 4, 4, 4, 4, 4, 4, 4, 4, 4, 4, 4, 4,\n",
      "       4, 4, 4, 4, 4, 4, 4, 4, 4, 4, 4, 4, 4, 4, 4, 4, 4, 4, 4, 4, 4, 4,\n",
      "       4, 4, 4, 4, 4, 4, 4, 4, 4, 4, 4, 4, 4, 4, 4, 4, 4, 4, 4, 4, 4, 4,\n",
      "       4, 4, 4, 4, 4, 4, 4, 4, 4, 4, 4, 4, 4, 4, 4, 4, 4, 4, 4, 4, 4, 4,\n",
      "       4, 4, 4, 4, 4, 4, 4, 4, 4, 4, 4, 4, 4, 4, 4, 4, 4, 4, 4, 4, 4, 4,\n",
      "       4, 4, 4, 4, 4, 4, 4, 4, 4, 4, 4, 4, 4, 4, 4, 4, 1, 1, 1, 1, 1, 1,\n",
      "       1, 1]))\n",
      "<class 'pandas.core.series.Series'>\n",
      "(array([ 5841,  4839, 11261,  8590,  7933,  6251, 10657,  8638,  5141,\n",
      "        4568,  5589], dtype=int16), array([1, 1, 0, 0, 0, 0, 1, 0, 1, 0, 0], dtype=int8), array([24., 20., 41., 14., 25., 23., 29., 20., 16., 17., 17.]), array([4, 4, 4, 4, 0, 4, 0, 4, 4, 4, 4]))\n",
      "<class 'pandas.core.series.Series'>\n",
      "(array([7900, 7876,  175, 1278, 2065, 2064, 2063, 3365, 3364, 3363, 2947,\n",
      "       2946, 2948, 2595, 2594, 2593, 4492, 4120, 4696, 6116, 6173, 6370,\n",
      "       6877, 6879, 6880, 6878, 7216, 7217, 7219, 7218, 5218, 4473, 5472,\n",
      "       9729, 4412, 3971, 4261, 8895, 5324, 4342, 5247, 6226, 5155, 5720,\n",
      "       4664, 9631, 5198, 5992], dtype=int16), array([1, 1, 0, 1, 1, 0, 0, 1, 0, 0, 1, 0, 1, 0, 1, 1, 0, 1, 1, 0, 0, 1,\n",
      "       1, 0, 1, 0, 0, 1, 0, 1, 1, 1, 1, 1, 1, 1, 0, 0, 1, 1, 1, 1, 1, 1,\n",
      "       1, 0, 1, 0], dtype=int8), array([ 24.,  26.,  20.,  31.,  15.,  15.,  15.,  13.,  13.,  13.,  12.,\n",
      "        12.,  12.,  15.,  15.,  15.,  26.,  37.,  30.,  18.,   6.,  14.,\n",
      "         7.,   7.,   7.,   7.,  40.,  40.,  40.,  40., 115.,  19.,  34.,\n",
      "         6.,  20.,  24.,  15.,  26.,  21.,   9.,   8.,   8.,  21.,   7.,\n",
      "         4.,   8.,  18.,  12.]), array([0, 0, 0, 1, 2, 2, 2, 3, 3, 3, 3, 3, 3, 3, 3, 3, 4, 4, 4, 4, 4, 4,\n",
      "       5, 5, 5, 5, 6, 6, 6, 6, 4, 4, 4, 4, 4, 4, 4, 4, 4, 4, 4, 4, 4, 4,\n",
      "       4, 4, 4, 4]))\n",
      "<class 'pandas.core.series.Series'>\n",
      "(array([7900, 7876,  175, 1278, 2063, 2065, 2064, 3365, 3363, 3364, 2946,\n",
      "       2948, 2947, 2594, 2595, 2593, 4492, 4120, 4696, 6116, 6173, 6370,\n",
      "       6878, 6880, 6877, 6879, 7217, 7218], dtype=int16), array([1, 0, 0, 1, 0, 1, 1, 0, 0, 0, 0, 0, 0, 1, 1, 0, 1, 1, 0, 1, 0, 0,\n",
      "       1, 1, 0, 0, 0, 0], dtype=int8), array([24., 12., 18., 19., 15., 15., 15., 28., 28., 28., 19., 19., 19.,\n",
      "       16., 16., 16., 24., 23., 19., 13., 10., 29., 11., 11., 11., 11.,\n",
      "       55., 55.]), array([0, 0, 0, 1, 2, 2, 2, 3, 3, 3, 3, 3, 3, 3, 3, 3, 4, 4, 4, 4, 4, 4,\n",
      "       5, 5, 5, 5, 6, 6]))\n",
      "<class 'pandas.core.series.Series'>\n",
      "(array([7900, 7876,  175, 1278, 2064, 2065, 2063, 3365, 3363, 3364, 2947,\n",
      "       2948, 2946, 2595, 2594, 2593, 4492, 4120, 4696, 6116, 6173, 6370,\n",
      "       6911, 6910, 6909, 6908, 7217, 7219, 7218, 7216, 7218, 7216, 7217,\n",
      "       7219, 6908, 6909, 6911, 6910, 6370, 6173, 6116, 4696, 4120, 4492,\n",
      "       2593, 2595, 2594, 2946, 2947, 2948, 3364, 3363, 3365, 2064, 2063,\n",
      "       2065, 1278,  175], dtype=int16), array([1, 0, 0, 1, 1, 1, 0, 1, 0, 1, 0, 0, 0, 0, 0, 1, 1, 1, 1, 0, 0, 1,\n",
      "       1, 1, 1, 0, 0, 1, 1, 0, 0, 0, 1, 0, 0, 0, 0, 0, 1, 0, 0, 1, 1, 1,\n",
      "       0, 0, 0, 1, 0, 1, 1, 0, 0, 1, 0, 0, 1, 1], dtype=int8), array([24., 18., 25., 21., 16., 16., 16., 41., 41., 41., 26., 26., 26.,\n",
      "       24., 24., 24., 28., 12., 13.,  6.,  6., 15., 18., 18., 18., 18.,\n",
      "       20., 20., 20., 20., 33., 33., 33., 33.,  9.,  9.,  9.,  9.,  4.,\n",
      "        9., 10.,  6.,  6., 18.,  5.,  5.,  5.,  4.,  4.,  4.,  2.,  2.,\n",
      "        2.,  4.,  4.,  4.,  6., 17.]), array([0, 0, 0, 1, 2, 2, 2, 3, 3, 3, 3, 3, 3, 3, 3, 3, 4, 4, 4, 4, 4, 4,\n",
      "       5, 5, 5, 5, 6, 6, 6, 6, 6, 6, 6, 6, 5, 5, 5, 5, 4, 4, 4, 4, 4, 4,\n",
      "       3, 3, 3, 3, 3, 3, 3, 3, 3, 2, 2, 2, 1, 0]))\n",
      "<class 'pandas.core.series.Series'>\n",
      "(array([3716, 3988, 9261,  325, 4754, 4380, 4674, 5844, 6400, 5589, 4406,\n",
      "       3871], dtype=int16), array([0, 0, 0, 0, 0, 1, 0, 0, 0, 0, 1, 0], dtype=int8), array([24., 27., 25., 33., 23., 27., 14., 20., 21., 22., 13., 11.]), array([4, 4, 4, 1, 4, 4, 4, 4, 4, 4, 4, 4]))\n",
      "<class 'pandas.core.series.Series'>\n",
      "(array([ 8212,  5387,  6650,  5651,  5035,  5170,  9700,  6114,  4064,\n",
      "        5703, 11282,  4966,  4992,  5222,  9097,  5498,  4416,  4451,\n",
      "        8643,  3636,  6087,  3731,  9423,  5038,  4818,  6180,  8930,\n",
      "        4987,  4406,  6173,  9818,  4779,  4419,  5181,  8957,  5592,\n",
      "        4120,   446,   587,  1131, 10687,  1315,   279,   809, 10686,\n",
      "        1265,   665,  4975,  8765,  6435,  6116,  6381,  9040,  6453,\n",
      "        5177,  3609,  8830,  3791,  4145,  6393,  9551,  5717,  6437,\n",
      "        6673, 11299,  5588,  5621,  4732, 11246,  6097,  4117,  4078,\n",
      "        9092,  6256,  5619,  5562,  4078,  5562,  9214,  6688,  3854,\n",
      "        5551,  9535,  4821,  3862,  6659,  9492,  4417,  4258,  3878,\n",
      "        8553,  5266,  6102,  3965,  9219,  4026,  6143,  3986,  9569,\n",
      "        6002,  6151,  5660,  8982,  4384,  3859,  5262,  9437,  4851,\n",
      "        5267,  3645,  8754,  5670,  6093,  3899,  4119,  5043,  4065,\n",
      "        4428,  8671], dtype=int16), array([1, 0, 0, 1, 1, 1, 1, 1, 0, 0, 1, 0, 1, 0, 0, 0, 1, 1, 0, 0, 0, 1,\n",
      "       0, 1, 1, 1, 0, 1, 1, 1, 1, 0, 1, 0, 0, 1, 0, 1, 1, 1, 1, 0, 0, 1,\n",
      "       1, 0, 0, 1, 1, 0, 0, 1, 1, 0, 0, 1, 1, 1, 0, 1, 0, 1, 0, 1, 0, 1,\n",
      "       1, 1, 1, 1, 1, 0, 1, 1, 1, 0, 1, 1, 1, 0, 1, 0, 1, 1, 1, 0, 1, 0,\n",
      "       0, 0, 1, 1, 0, 0, 1, 1, 1, 0, 1, 1, 1, 1, 1, 1, 0, 1, 1, 1, 0, 1,\n",
      "       0, 1, 1, 1, 1, 0, 1, 1, 1], dtype=int8), array([24., 52., 20., 20., 22., 13., 20., 16., 17., 34., 18., 13., 11.,\n",
      "       61., 19., 17., 10.,  6., 28., 26., 12.,  7., 21., 13., 32., 17.,\n",
      "       10., 23., 22., 16., 22., 16., 10., 20., 16., 44., 11., 11., 18.,\n",
      "       20., 18., 16., 18., 19., 32., 19., 18., 19., 26., 15., 19.,  9.,\n",
      "       15., 10., 26., 16.,  8., 15., 17., 12., 15., 44.,  4., 16., 12.,\n",
      "       24., 10., 19., 29., 23., 43., 34., 53., 24., 25., 13., 32.,  6.,\n",
      "        5., 18., 18., 17., 16.,  9., 10., 15., 24., 13., 15., 60.,  9.,\n",
      "       41., 20., 18., 14.,  9., 20., 22., 33., 15., 37., 19., 28., 41.,\n",
      "       18., 10., 15.,  6., 15., 33.,  8., 23., 12., 11., 12., 14.,  8.,\n",
      "       31., 10.]), array([4, 4, 4, 4, 4, 4, 4, 4, 4, 4, 4, 4, 4, 4, 4, 4, 4, 4, 4, 4, 4, 4,\n",
      "       4, 4, 4, 4, 4, 4, 4, 4, 4, 4, 4, 4, 4, 4, 4, 1, 1, 1, 1, 1, 1, 1,\n",
      "       1, 1, 1, 4, 4, 4, 4, 4, 4, 4, 4, 4, 4, 4, 4, 4, 4, 4, 4, 4, 4, 4,\n",
      "       4, 4, 4, 4, 4, 4, 4, 4, 4, 4, 4, 4, 4, 4, 4, 4, 4, 4, 4, 4, 4, 4,\n",
      "       4, 4, 4, 4, 4, 4, 4, 4, 4, 4, 4, 4, 4, 4, 4, 4, 4, 4, 4, 4, 4, 4,\n",
      "       4, 4, 4, 4, 4, 4, 4, 4, 4]))\n",
      "<class 'pandas.core.series.Series'>\n",
      "(array([11405,  8501,  4481,  4406,  1282, 12130,   761,   934,   373,\n",
      "       12139,  1077,   300,   635, 11882,  9796,  5007,  4975,  5961,\n",
      "        8530,  5857,  4414,  4058,  5207,  8620,   984,  1007,  1373,\n",
      "       11905,  1318,   216,   490, 12206,  1381,   860,  8623,  9041,\n",
      "        5284,  5000,  6041,  4101,  4827,  8706,  6441,  9934,  4723,\n",
      "        8638,  4161,  8645,  8625,  6151,  5963,  9093,  5197, 11713,\n",
      "        1341, 12183,   640,   583,  1296, 11919,   235, 10686,   981,\n",
      "       12080,   569,   877,  1158, 12241,  1072,  1391,   277, 12267,\n",
      "        1166,   954,  6342,  9574,  8823,  9502,  5508,  8524, 11424,\n",
      "        8398,  9035,  9083,   505, 12068,  1149,   677,   390, 11977,\n",
      "         352,   358,   604, 12082, 11516,  6173,  8632,  9497,  8464,\n",
      "       11412,  5225, 11321,  9105,  3880,   245,   470,  1011, 11906,\n",
      "         879,   467,   577, 12110,   891,   667, 11280,  8726,  5338,\n",
      "        6659,  6428,  8609,  4093,  9395,  8335,  4231,   622, 12042,\n",
      "         643,   918,  1207, 12045,   795,  1383,  1049, 12016,   580,\n",
      "         853,  1194, 12266,   738,  1279,  1267, 11893,   707,   691,\n",
      "        9097,  9085,  4702,  3639,  5958, 11498,  4417,  9745,  8754,\n",
      "        9632,  8643,  9473,  5624,  8626,  9780,  8400,  8393,  5616,\n",
      "        6688,  5985,  4376,  4979,  3933,  4569,  3635,  6668,  5216,\n",
      "        5026,  4108,  9241,  7997, 13269,  4065,  4292,  3878, 13363,\n",
      "        9086,  5465,  4013, 13510,  4768,  4496,  9102, 13429, 11208,\n",
      "        5713,  5598, 13355,  3854,  3865,  5974, 13464,  5262,  4571,\n",
      "        4831, 13319], dtype=int16), array([0, 0, 1, 1, 0, 0, 0, 1, 0, 0, 0, 1, 1, 1, 1, 0, 0, 1, 1, 0, 1, 1,\n",
      "       0, 1, 0, 1, 1, 1, 0, 0, 0, 0, 1, 0, 1, 1, 0, 0, 1, 1, 1, 1, 0, 1,\n",
      "       0, 0, 0, 1, 1, 0, 0, 0, 0, 0, 0, 1, 0, 0, 0, 0, 1, 0, 0, 0, 1, 0,\n",
      "       0, 0, 1, 1, 0, 0, 0, 0, 0, 0, 0, 1, 0, 0, 0, 0, 0, 0, 1, 1, 0, 0,\n",
      "       1, 1, 0, 0, 1, 0, 0, 1, 0, 0, 0, 0, 0, 0, 0, 0, 0, 1, 1, 1, 0, 0,\n",
      "       1, 0, 1, 0, 0, 1, 1, 0, 1, 1, 0, 1, 0, 0, 0, 1, 1, 0, 1, 0, 1, 0,\n",
      "       0, 1, 0, 0, 1, 0, 0, 1, 0, 0, 1, 0, 1, 0, 0, 0, 0, 0, 0, 0, 1, 0,\n",
      "       0, 0, 1, 1, 0, 0, 0, 0, 0, 0, 1, 0, 1, 1, 0, 0, 0, 0, 0, 0, 0, 0,\n",
      "       0, 0, 0, 1, 0, 0, 0, 1, 0, 0, 1, 1, 0, 0, 1, 0, 0, 0, 0, 0, 1, 0,\n",
      "       0, 0], dtype=int8), array([26., 12., 57., 16., 14., 22., 21., 19., 18., 26., 19., 19., 16.,\n",
      "       18., 19., 37., 32., 40., 46., 13., 31.,  5., 28., 40.,  9., 22.,\n",
      "       18., 18., 25., 21., 27., 20., 22., 22., 19., 11., 22., 54., 10.,\n",
      "       25.,  9., 30., 26., 78., 18., 19., 25., 21., 45., 25., 31., 31.,\n",
      "       15., 32., 37., 19., 19., 22., 23., 19., 20., 21., 22., 22., 22.,\n",
      "       25., 19., 19., 20., 18., 21., 24., 18., 26., 16., 28., 36., 40.,\n",
      "       44., 49., 49.,  7., 16., 70., 28., 25., 30., 26., 23., 24., 18.,\n",
      "       19., 22., 21., 22., 27., 38., 37., 42., 29., 44., 41., 20., 17.,\n",
      "       23., 21., 31., 16., 20., 19., 21., 19., 24., 26., 18., 25., 23.,\n",
      "       33., 74., 18., 37., 20., 45., 40., 17., 20., 19., 21., 21., 24.,\n",
      "       22., 17., 20., 18., 22., 19., 19., 19., 25., 17., 18., 23., 21.,\n",
      "       22., 21., 11., 35., 18., 12., 26., 33., 27., 32.,  9., 18., 23.,\n",
      "       15., 39.,  6., 41., 45., 17., 21., 11., 25., 18., 26., 34., 32.,\n",
      "       30., 50., 28., 10., 13., 47., 37., 24., 52., 12., 44., 33., 58.,\n",
      "       56., 32., 45., 62., 27., 29., 10., 37.,  7., 40., 48., 31., 33.,\n",
      "       38., 28., 42., 27., 44.]), array([4, 4, 4, 4, 1, 1, 1, 1, 1, 1, 1, 1, 1, 1, 4, 4, 4, 4, 4, 4, 4, 4,\n",
      "       4, 4, 1, 1, 1, 1, 1, 1, 1, 1, 1, 1, 4, 4, 4, 4, 4, 4, 4, 4, 4, 4,\n",
      "       4, 4, 4, 4, 4, 4, 4, 4, 4, 4, 1, 1, 1, 1, 1, 1, 1, 1, 1, 1, 1, 1,\n",
      "       1, 1, 1, 1, 1, 1, 1, 1, 4, 4, 4, 4, 4, 4, 4, 4, 4, 4, 1, 1, 1, 1,\n",
      "       1, 1, 1, 1, 1, 1, 4, 4, 4, 4, 4, 4, 4, 4, 4, 4, 1, 1, 1, 1, 1, 1,\n",
      "       1, 1, 1, 1, 4, 4, 4, 4, 4, 4, 4, 4, 4, 4, 1, 1, 1, 1, 1, 1, 1, 1,\n",
      "       1, 1, 1, 1, 1, 1, 1, 1, 1, 1, 1, 1, 4, 4, 4, 4, 4, 4, 4, 4, 4, 4,\n",
      "       4, 4, 4, 4, 4, 4, 4, 4, 4, 4, 4, 4, 4, 4, 4, 4, 4, 4, 4, 4, 4, 4,\n",
      "       4, 4, 4, 4, 4, 4, 4, 4, 4, 4, 4, 4, 4, 4, 4, 4, 4, 4, 4, 4, 4, 4,\n",
      "       4, 4]))\n",
      "<class 'pandas.core.series.Series'>\n",
      "(array([4108, 4802, 9136, 7942, 5037, 3947, 4228, 1111, 1313,  975],\n",
      "      dtype=int16), array([1, 0, 0, 1, 1, 0, 1, 1, 0, 0], dtype=int8), array([24., 51., 20., 23., 35., 10., 28., 32., 18., 19.]), array([4, 4, 4, 0, 4, 4, 4, 1, 1, 1]))\n",
      "<class 'pandas.core.series.Series'>\n",
      "(array([7900, 7876,  175, 1278, 2065, 2063, 2064, 3365, 3364, 3363, 2947,\n",
      "       2946, 2948, 2594, 2593, 2595, 4492, 4120, 4696, 6116, 6173, 6370,\n",
      "       6878, 6880, 6877, 6879, 7217, 7216], dtype=int16), array([1, 1, 0, 0, 0, 1, 1, 0, 0, 0, 0, 0, 0, 0, 0, 0, 0, 1, 0, 1, 1, 0,\n",
      "       1, 0, 0, 0, 0, 0], dtype=int8), array([24., 23., 35., 29., 20., 20., 20.,  2.,  2.,  2., 22., 22., 22.,\n",
      "        2.,  2.,  2.,  1., 54., 68., 15., 24., 52., 55., 55., 55., 55.,\n",
      "       24., 24.]), array([0, 0, 0, 1, 2, 2, 2, 3, 3, 3, 3, 3, 3, 3, 3, 3, 4, 4, 4, 4, 4, 4,\n",
      "       5, 5, 5, 5, 6, 6]))\n",
      "<class 'pandas.core.series.Series'>\n",
      "(array([ 5312,  5159, 10457,  8987,  4761,  3608,  4951,   156,  7900,\n",
      "         108,   239,   787,   284, 10573,    60,   127,  7873, 10576,\n",
      "       10434,   168,    98,   112,   152,    43,   187, 10463, 10463,\n",
      "          60,  7883, 10646,  7860,   135,    38,    67, 10488,   128,\n",
      "          46,   109,   178,  7869,   132,    86, 10488,    86,    78,\n",
      "          20, 10641,    18, 10489, 10542, 10418,  7863,    44,  7852,\n",
      "        7906,  7926,  7952,  1953,  1954,  1952,  1559,  1560,  1561],\n",
      "      dtype=int16), array([0, 0, 0, 0, 0, 0, 0, 1, 1, 1, 1, 1, 0, 1, 0, 0, 0, 1, 0, 1, 1, 1,\n",
      "       1, 1, 1, 0, 1, 0, 0, 0, 1, 1, 1, 0, 0, 1, 0, 1, 1, 1, 1, 0, 1, 1,\n",
      "       1, 1, 1, 0, 1, 1, 0, 0, 1, 1, 1, 0, 1, 0, 0, 0, 1, 0, 1],\n",
      "      dtype=int8), array([24., 43., 36., 24., 13., 29., 34., 30., 24., 22., 25., 20., 18.,\n",
      "       12., 25., 30., 27., 29., 28., 23., 21., 24., 24., 24., 22., 23.,\n",
      "       29., 26., 26., 28., 24., 25., 24., 24., 25., 23., 21., 24., 22.,\n",
      "       22., 28., 24., 30., 14.,  3., 26., 32., 21., 23., 24., 25., 23.,\n",
      "       24., 22., 21., 20., 25., 23., 23., 23.,  2.,  2.,  2.]), array([4, 4, 0, 4, 4, 4, 4, 0, 0, 0, 1, 1, 1, 0, 0, 0, 0, 0, 0, 0, 0, 0,\n",
      "       0, 0, 0, 0, 0, 0, 0, 0, 0, 0, 0, 0, 0, 0, 0, 0, 0, 0, 0, 0, 0, 0,\n",
      "       0, 0, 0, 0, 0, 0, 0, 0, 0, 0, 0, 0, 0, 2, 2, 2, 2, 2, 2]))\n",
      "<class 'pandas.core.series.Series'>\n",
      "(array([ 7900,  7876,   175,  1278,  2063,  2065,  2064,  3365,  3363,\n",
      "        3364,  2948,  2946,  2947,  2593,  2594,  2595,  4492,  4120,\n",
      "        4696,  6116,  6173,  6370,  6911,  6908,  6910,  6909,  7219,\n",
      "        7216,  7218,  7217,   646,   833,   203, 10686,   980,  1072,\n",
      "         324,   294,  1319,   944,  5719,  3970,  5627,  9500,  4408,\n",
      "        3665,  5034,  8539,  6368,  5003,  9695,  9092], dtype=int16), array([1, 1, 1, 0, 0, 1, 1, 0, 1, 0, 0, 1, 0, 1, 0, 0, 0, 0, 0, 0, 0, 0,\n",
      "       0, 0, 1, 1, 0, 0, 1, 1, 1, 1, 1, 0, 1, 1, 1, 1, 1, 0, 0, 1, 1, 0,\n",
      "       0, 0, 0, 1, 1, 0, 0, 0], dtype=int8), array([24., 21., 21., 22., 18., 18., 18., 27., 27., 27., 36., 36., 36.,\n",
      "       31., 31., 31., 32., 44., 20., 50., 19., 29., 21., 21., 21., 21.,\n",
      "       25., 25., 25., 25., 51., 18., 17., 19., 18., 16., 16., 15., 14.,\n",
      "       13., 15., 44., 34., 37., 29.,  9., 44., 21., 22., 14., 10., 12.]), array([0, 0, 0, 1, 2, 2, 2, 3, 3, 3, 3, 3, 3, 3, 3, 3, 4, 4, 4, 4, 4, 4,\n",
      "       5, 5, 5, 5, 6, 6, 6, 6, 1, 1, 1, 1, 1, 1, 1, 1, 1, 1, 4, 4, 4, 4,\n",
      "       4, 4, 4, 4, 4, 4, 4, 4]))\n",
      "<class 'pandas.core.series.Series'>\n",
      "(array([ 7900,  7876,   175,  1278,  2065,  2063,  2064,  3365,  3363,\n",
      "        3364,  2947,  2946,  2948,  2593,  2594,  2595,  4492,  4120,\n",
      "        4696,  6116,  6173,  6370,  6879,  6877,  6880,  6878,  7217,\n",
      "        7218,  7216,  7219,   343,   666,   543,   294,   949,  1128,\n",
      "        1384, 10684,   621,  1218,  4494,  3717,  6429,  8408,  9296,\n",
      "        4432,  4427,  4008], dtype=int16), array([1, 1, 0, 1, 0, 0, 1, 0, 0, 0, 1, 0, 1, 0, 0, 1, 1, 0, 1, 0, 1, 1,\n",
      "       0, 0, 0, 1, 0, 1, 1, 1, 1, 1, 1, 1, 1, 1, 0, 1, 1, 1, 1, 1, 1, 1,\n",
      "       1, 1, 1, 1], dtype=int8), array([24., 19., 20., 38., 16., 16., 16., 25., 25., 25., 23., 23., 23.,\n",
      "       16., 16., 16., 16., 22., 10.,  5.,  9., 19., 13., 13., 13., 13.,\n",
      "       35., 35., 35., 35., 54., 15., 16., 16., 14., 15., 17., 18., 20.,\n",
      "       18., 16., 14., 11., 14., 12.,  7.,  7., 12.]), array([0, 0, 0, 1, 2, 2, 2, 3, 3, 3, 3, 3, 3, 3, 3, 3, 4, 4, 4, 4, 4, 4,\n",
      "       5, 5, 5, 5, 6, 6, 6, 6, 1, 1, 1, 1, 1, 1, 1, 1, 1, 1, 4, 4, 4, 4,\n",
      "       4, 4, 4, 4]))\n",
      "<class 'pandas.core.series.Series'>\n",
      "(array([7900, 7876,  175, 1278, 2065, 2064, 2063, 3363, 3365, 3364, 2946,\n",
      "       2947, 2948, 2593, 2594, 2595, 4492, 4120, 4696, 6116, 6173, 6370,\n",
      "       6880, 6879, 6877, 6878, 7217, 7219, 7218, 7216, 6117, 4718, 5703,\n",
      "       9596, 5324, 4473, 4470, 8296], dtype=int16), array([0, 0, 0, 1, 1, 1, 0, 1, 0, 0, 1, 0, 0, 1, 1, 0, 0, 1, 1, 1, 0, 0,\n",
      "       0, 0, 0, 0, 0, 0, 0, 1, 1, 1, 0, 0, 0, 1, 0, 0], dtype=int8), array([24., 22., 23., 21., 17., 17., 17., 18., 18., 18., 11., 11., 11.,\n",
      "       14., 14., 14., 15., 10., 10.,  6., 13., 24., 27., 27., 27., 27.,\n",
      "       12., 12., 12., 12.,  1., 20.,  5., 20., 17., 17.,  6., 12.]), array([0, 0, 0, 1, 2, 2, 2, 3, 3, 3, 3, 3, 3, 3, 3, 3, 4, 4, 4, 4, 4, 4,\n",
      "       5, 5, 5, 5, 6, 6, 6, 6, 4, 4, 4, 4, 4, 4, 4, 4]))\n",
      "<class 'pandas.core.series.Series'>\n",
      "(array([ 2155,  2418,  2416,  2417, 10638, 10606, 10589, 10652, 10484,\n",
      "       10560, 10450, 10525, 10489, 10613,  1184,   572,   572,   939,\n",
      "         446,   236,   447,  1372,   593,  1372,   704,   403,   704,\n",
      "         216,   599,   802,   260,   955,  7750,  7751,  7749,  7752,\n",
      "        7753,  5628,  5703,  9790,  6058,  4836,  6260,  8916,  5660,\n",
      "        6283,  4975, 10545, 10567, 10553, 10583, 10491, 10588, 10495,\n",
      "       10662, 10663, 10578,  8884,  3731,  4478,  4236,  8850,  6268,\n",
      "        6441,  4480,  9237,  4818,  4818,  4519,  3940,  4481,  9741,\n",
      "        5172,  6125,   698,  1107,   319,  1068,   423,  1158,  1186,\n",
      "         725,   654,   441,   583,   703,  1338,  1202,   625,   549,\n",
      "       10085, 10082, 10083, 10084,  6586,  6585,  6587,  6588, 11178,\n",
      "       11175, 11177, 11176,  6700,  6697,  6698,  6699,  6796,  6794,\n",
      "        6793,  6795,  2207,  2208,  2206,  1830,  1831,  1829,  2173,\n",
      "        2171,  2172,  2040,  2041,  2039,  1732,  1731,  1730,  3159,\n",
      "        3161,  3160,  3318,  3320,  3319,  2895,  2897,  2896,  3392,\n",
      "        3390,  3391,  2623,  2624,  2625,  7148,  7147,  7146,  7145,\n",
      "        7149,  7683,  7682,  7681, 10458, 10449, 10665, 10498, 10681,\n",
      "       10448, 10523, 10614, 10656, 10407, 10501, 10392, 10561, 10415,\n",
      "       10435, 10557, 10437, 10429, 10441, 10631,   423,   849,  1068,\n",
      "         260,   433,   475,   437,  6136,  9734,  3767,  6477,  4779,\n",
      "        9182,  6005,  5173,  5267,  9564,  6184,  6151,  4237,  7997,\n",
      "        6688,  4987,  4380,  3950,  6431,  5352,  9432,  3855,  4608,\n",
      "        4702,  8953], dtype=int16), array([0, 1, 0, 1, 1, 1, 1, 1, 1, 1, 1, 1, 1, 1, 1, 1, 0, 1, 0, 1, 1, 0,\n",
      "       1, 1, 0, 0, 1, 1, 1, 0, 0, 1, 1, 1, 1, 0, 0, 1, 1, 1, 0, 1, 1, 1,\n",
      "       1, 0, 1, 1, 1, 1, 1, 1, 1, 1, 1, 1, 1, 1, 1, 0, 1, 0, 1, 1, 1, 1,\n",
      "       0, 1, 0, 1, 1, 1, 0, 1, 1, 1, 1, 0, 0, 1, 1, 1, 1, 1, 1, 0, 1, 1,\n",
      "       0, 1, 1, 0, 1, 1, 0, 1, 1, 1, 1, 1, 1, 1, 0, 1, 1, 1, 1, 1, 0, 1,\n",
      "       1, 1, 1, 1, 1, 1, 1, 1, 1, 1, 1, 1, 0, 1, 1, 1, 0, 1, 1, 1, 1, 0,\n",
      "       1, 1, 1, 1, 1, 0, 0, 1, 0, 1, 0, 1, 1, 0, 1, 1, 1, 0, 1, 1, 1, 1,\n",
      "       0, 1, 1, 1, 1, 1, 1, 0, 1, 1, 1, 0, 1, 1, 1, 1, 1, 1, 0, 0, 0, 0,\n",
      "       1, 1, 0, 1, 1, 1, 1, 1, 1, 0, 0, 0, 1, 0, 0, 1, 0, 1, 0, 1, 1, 1,\n",
      "       1, 0], dtype=int8), array([16., 24., 24., 24., 23., 20., 21., 23., 20., 20., 21., 19., 21.,\n",
      "       20., 23., 19.,  6., 15., 17., 17., 18., 18., 18., 15., 16., 18.,\n",
      "       16., 14., 18., 17., 15., 17., 19., 19., 19., 19., 19., 56., 31.,\n",
      "       38., 12., 30., 14., 42., 21., 28., 37.,  3., 21., 19., 20., 21.,\n",
      "       21., 23., 19., 22., 22., 20., 20., 22., 19., 13., 48., 44., 38.,\n",
      "       26., 16., 38.,  2., 22., 30., 49., 37., 20., 24., 16., 15., 19.,\n",
      "       19., 24., 17., 21., 16., 25., 15., 17., 16., 18., 16., 27., 23.,\n",
      "       23., 23., 23., 47., 47., 47., 47., 65., 65., 65., 65., 41., 41.,\n",
      "       41., 41., 58., 58., 58., 58., 69., 69., 69., 25., 25., 25., 30.,\n",
      "       30., 30., 25., 25., 25., 30., 30., 30., 25., 25., 25., 32., 32.,\n",
      "       32., 25., 25., 25., 25., 25., 25., 30., 30., 30., 21., 21., 21.,\n",
      "       21., 21., 82., 82., 82., 92., 21., 23., 18., 22., 20., 19., 25.,\n",
      "       19., 20., 21., 21., 20., 21., 25., 18., 19., 20., 23., 19., 19.,\n",
      "       15., 13., 17., 17., 20., 17., 17., 31., 18., 20., 41., 20., 17.,\n",
      "       18., 24., 58., 35., 47., 24., 32., 39., 34.,  8., 37., 36., 45.,\n",
      "       59., 13., 31., 20., 21.]), array([2, 2, 2, 2, 0, 0, 0, 0, 0, 0, 0, 0, 0, 0, 1, 1, 1, 1, 1, 1, 1, 1,\n",
      "       1, 1, 1, 1, 1, 1, 1, 1, 1, 1, 6, 6, 6, 6, 6, 4, 4, 4, 4, 4, 4, 4,\n",
      "       4, 4, 4, 0, 0, 0, 0, 0, 0, 0, 0, 0, 0, 4, 4, 4, 4, 4, 4, 4, 4, 4,\n",
      "       4, 4, 4, 4, 4, 4, 4, 4, 1, 1, 1, 1, 1, 1, 1, 1, 1, 1, 1, 1, 1, 1,\n",
      "       1, 1, 5, 5, 5, 5, 5, 5, 5, 5, 5, 5, 5, 5, 5, 5, 5, 5, 5, 5, 5, 5,\n",
      "       2, 2, 2, 2, 2, 2, 2, 2, 2, 2, 2, 2, 2, 2, 2, 3, 3, 3, 3, 3, 3, 3,\n",
      "       3, 3, 3, 3, 3, 3, 3, 3, 6, 6, 6, 6, 6, 6, 6, 6, 0, 0, 0, 0, 0, 0,\n",
      "       0, 0, 0, 0, 0, 0, 0, 0, 0, 0, 0, 0, 0, 0, 1, 1, 1, 1, 1, 1, 1, 4,\n",
      "       4, 4, 4, 4, 4, 4, 4, 4, 4, 4, 4, 4, 4, 4, 4, 4, 4, 4, 4, 4, 4, 4,\n",
      "       4, 4]))\n",
      "<class 'pandas.core.series.Series'>\n",
      "(array([ 7900,  7876,   175,  1278,  2063,  2065,  2064,  3363,  3364,\n",
      "        3365,  2948,  2946,  2947,  2593,  2595,  2594,  4492,  4120,\n",
      "        4696,  6116,  6173,  6370,  6880,  6878,  6877,  6879,  7217,\n",
      "        7218,  7219,  7216,   400, 10685,   737,  1078,   457, 10686,\n",
      "         962,   522,   236,   294,  9633,  5255,  4236,  9700,  8782],\n",
      "      dtype=int16), array([0, 0, 1, 1, 0, 0, 1, 0, 0, 0, 0, 0, 0, 0, 0, 0, 0, 0, 0, 0, 0, 0,\n",
      "       0, 0, 1, 0, 0, 0, 0, 0, 1, 1, 1, 1, 1, 1, 0, 1, 0, 1, 0, 1, 1, 0,\n",
      "       1], dtype=int8), array([24., 17., 19., 19., 16., 16., 16., 23., 23., 23., 21., 21., 21.,\n",
      "       17., 17., 17., 22., 11., 27., 11.,  6., 18., 26., 26., 26., 26.,\n",
      "       19., 19., 19., 19., 13., 14., 18., 19., 15., 14., 20., 15., 20.,\n",
      "       21., 15., 15., 19., 23., 34.]), array([0, 0, 0, 1, 2, 2, 2, 3, 3, 3, 3, 3, 3, 3, 3, 3, 4, 4, 4, 4, 4, 4,\n",
      "       5, 5, 5, 5, 6, 6, 6, 6, 1, 1, 1, 1, 1, 1, 1, 1, 1, 1, 4, 4, 4, 4,\n",
      "       4]))\n",
      "<class 'pandas.core.series.Series'>\n",
      "(array([7900, 7876,  175, 1278, 2063, 2064, 2065, 3363, 3365, 3364, 2947,\n",
      "       2946, 2948, 2593, 2595, 2594, 4492, 4120, 4696, 6116, 6173, 6370,\n",
      "       6880, 6877, 6878, 6879, 7217, 7218], dtype=int16), array([1, 0, 0, 1, 0, 1, 1, 0, 0, 1, 0, 0, 0, 1, 1, 1, 1, 1, 0, 0, 0, 1,\n",
      "       0, 0, 1, 0, 1, 1], dtype=int8), array([24., 28., 21., 22., 22., 22., 22., 25., 25., 25., 26., 26., 26.,\n",
      "       20., 20., 20., 27., 35., 16., 46., 20., 63., 45., 45., 45., 45.,\n",
      "       48., 48.]), array([0, 0, 0, 1, 2, 2, 2, 3, 3, 3, 3, 3, 3, 3, 3, 3, 4, 4, 4, 4, 4, 4,\n",
      "       5, 5, 5, 5, 6, 6]))\n",
      "<class 'pandas.core.series.Series'>\n",
      "(array([ 6425,  5657,  5748,   376,  6409,  6106,  5044,  6372,  3827,\n",
      "        6422,  5372,  4978,  7992,  5609,  5002,  6280,  9174,  3717,\n",
      "        5243,  1151,   333,   891, 10684,   229,  1205,   921, 10686,\n",
      "        1189,   385,  5363,  9868,  6031,  6475,  6475,  6031,  5169,\n",
      "        8917,  4756,  5600,  6383,  9530,   711,   294,  1146,   913,\n",
      "        1269, 10687,  1276,  1248,  1173, 10685,  4476,  3642,  5350,\n",
      "        8528,  6438,  6185,  4425,  8921,  3664,  5968,   951,   538,\n",
      "         834, 10688,   482,   762,   279,   824,   981,  1100,  5704,\n",
      "        9607,  4426,  4516,  5017,  8764,  5597,  6119,  4533,  5350,\n",
      "        4533,  9134,   291,  1192,   589,   506,   396,   199,   665,\n",
      "         587,   403,  1029,   762,  1029,  6452,  5029,  3831,  9948,\n",
      "        5110,  8257,  5421,  9001,  6172,  5720,   335,  1315,   762,\n",
      "        1315,   258,   795,  1114,   593,   421,   731,   438,   999,\n",
      "         999,   981,  4412,  9373,  4376,  5692,  3873,  8193,  5264,\n",
      "        4278,  5624,  9733,   972,   447,  1249,   724,  1389,   762,\n",
      "         447,   379,  1002,   651,   651,   724], dtype=int16), array([0, 1, 1, 1, 1, 1, 0, 0, 1, 0, 0, 0, 0, 1, 0, 1, 0, 0, 1, 1, 1, 1,\n",
      "       1, 1, 1, 1, 1, 1, 1, 1, 0, 0, 0, 1, 1, 1, 1, 1, 0, 1, 1, 1, 1, 1,\n",
      "       1, 1, 1, 1, 1, 1, 1, 0, 1, 0, 1, 1, 0, 1, 0, 1, 1, 1, 1, 0, 1, 1,\n",
      "       0, 1, 1, 0, 1, 1, 1, 1, 0, 1, 1, 1, 0, 0, 1, 1, 0, 1, 1, 1, 1, 0,\n",
      "       1, 1, 1, 1, 0, 1, 1, 1, 0, 1, 1, 0, 1, 1, 0, 1, 1, 1, 0, 1, 1, 1,\n",
      "       1, 1, 1, 0, 1, 1, 0, 1, 0, 1, 0, 1, 1, 1, 0, 0, 1, 1, 1, 1, 0, 0,\n",
      "       0, 0, 1, 1, 1, 1, 0, 1, 0], dtype=int8), array([ 24.,  94.,  15.,  16.,  17.,  19.,  25.,  29.,  26.,  12.,  44.,\n",
      "        20.,  48.,  19.,  11.,  44.,   6.,  10.,  12.,  11.,  15.,  22.,\n",
      "        21.,  20.,  15.,  14.,  18.,  17.,  16.,  16.,   7.,  68.,  76.,\n",
      "       149.,  34.,  31.,  35.,  20.,  85., 105.,  17.,  47.,  15.,  15.,\n",
      "        13.,  12.,  15.,   8.,  13.,  21.,  16.,  17.,  54.,  99., 114.,\n",
      "       155.,  94., 105.,  59., 132., 106.,   9.,  13.,  18.,  29.,  16.,\n",
      "        16.,  21.,  16.,  17.,  20.,  16., 205.,  35.,  87.,  76.,  40.,\n",
      "        67.,  75., 138.,  66.,  62.,  14.,  14.,  16.,  16.,  19.,  15.,\n",
      "        17.,  17.,  18.,  17.,  16.,  19.,  20.,  17.,  14., 252.,  46.,\n",
      "        12.,  88., 175.,  18.,  30., 113., 272.,  16.,  18.,  17.,  17.,\n",
      "        15.,  14.,   5.,  15.,  16.,  18.,  17.,  12.,  14.,  20., 231.,\n",
      "        40.,  17.,  11.,  19.,  20.,  14.,  27.,  13.,  15.,  16.,  36.,\n",
      "        16.,  16.,  16.,  16.,  17.,  18.,  19.,  16.,  17.]), array([4, 4, 4, 1, 4, 4, 4, 4, 4, 4, 4, 4, 4, 4, 4, 4, 4, 4, 4, 1, 1, 1,\n",
      "       1, 1, 1, 1, 1, 1, 1, 4, 4, 4, 4, 4, 4, 4, 4, 4, 4, 4, 4, 1, 1, 1,\n",
      "       1, 1, 1, 1, 1, 1, 1, 4, 4, 4, 4, 4, 4, 4, 4, 4, 4, 1, 1, 1, 1, 1,\n",
      "       1, 1, 1, 1, 1, 4, 4, 4, 4, 4, 4, 4, 4, 4, 4, 4, 4, 1, 1, 1, 1, 1,\n",
      "       1, 1, 1, 1, 1, 1, 1, 4, 4, 4, 4, 4, 4, 4, 4, 4, 4, 1, 1, 1, 1, 1,\n",
      "       1, 1, 1, 1, 1, 1, 1, 1, 1, 4, 4, 4, 4, 4, 4, 4, 4, 4, 4, 1, 1, 1,\n",
      "       1, 1, 1, 1, 1, 1, 1, 1, 1]))\n",
      "<class 'pandas.core.series.Series'>\n",
      "(array([6386, 4691, 4078, 3684, 4231, 5976, 4730, 9300, 4420, 6108, 5350,\n",
      "       9035, 5613, 6291, 3890, 9642], dtype=int16), array([1, 0, 0, 0, 0, 0, 0, 1, 1, 0, 0, 0, 0, 1, 1, 0], dtype=int8), array([24., 16., 15., 26., 21., 21., 11., 26., 13.,  8., 10., 13.,  9.,\n",
      "       16., 20., 10.]), array([4, 4, 4, 4, 4, 4, 4, 4, 4, 4, 4, 4, 4, 4, 4, 4]))\n",
      "<class 'pandas.core.series.Series'>\n",
      "(array([7900, 7876,  175, 1278, 2063, 2065, 2064, 3363, 3364, 3365, 2947,\n",
      "       2946, 2948, 2594, 2595, 2593, 4492, 4120, 4696, 6116, 6173, 6370,\n",
      "       6909, 6908, 6910, 6911, 7218, 7216, 7217], dtype=int16), array([0, 0, 0, 0, 0, 0, 1, 0, 1, 0, 0, 0, 1, 0, 0, 1, 0, 0, 0, 0, 0, 0,\n",
      "       0, 0, 1, 0, 1, 0, 0], dtype=int8), array([24., 29., 22., 22., 18., 18., 18., 34., 34., 34., 27., 27., 27.,\n",
      "       21., 21., 21., 37., 19., 23., 21., 11., 24., 10., 10., 10., 10.,\n",
      "       43., 43., 43.]), array([0, 0, 0, 1, 2, 2, 2, 3, 3, 3, 3, 3, 3, 3, 3, 3, 4, 4, 4, 4, 4, 4,\n",
      "       5, 5, 5, 5, 6, 6, 6]))\n",
      "<class 'pandas.core.series.Series'>\n",
      "(array([ 6347,  3977,  6659,  3968,  5498,   217,  6104,  9715,  6206,\n",
      "        1330,  1260,   587, 10686,  1239,  1239,  1330,   439,   773,\n",
      "       10684,   582,   291,  9260,  6106,  5298,  8518,  5671,  4161,\n",
      "        6430,  9869,  8484,  3893,  5250,  8194,  4065,  4065,  5250,\n",
      "        4818,  3868,  9806,  4265,  6143,  5544, 11378,   589,   294,\n",
      "         853,  1367,   335, 10685,   258,   749], dtype=int16), array([1, 1, 1, 1, 0, 1, 0, 0, 1, 0, 1, 0, 1, 1, 0, 1, 1, 1, 1, 1, 1, 1,\n",
      "       1, 1, 1, 1, 1, 1, 1, 1, 0, 0, 1, 1, 0, 1, 0, 1, 1, 1, 0, 0, 0, 0,\n",
      "       1, 0, 1, 1, 0, 1, 1], dtype=int8), array([24., 20.,  8., 47., 44., 35., 17., 71., 27., 43., 22., 18., 26.,\n",
      "       25., 17., 19., 19., 21., 19., 23., 21., 16., 37., 55., 19., 43.,\n",
      "       53., 16., 28., 19., 22., 24., 19., 11.,  3., 31.,  5., 30., 19.,\n",
      "        9., 32., 62., 17., 48., 18., 16., 17., 19., 18., 23., 16.]), array([4, 4, 4, 4, 4, 1, 4, 4, 4, 1, 1, 1, 1, 1, 1, 1, 1, 1, 1, 1, 1, 4,\n",
      "       4, 4, 4, 4, 4, 4, 4, 4, 4, 4, 4, 4, 4, 4, 4, 4, 4, 4, 4, 4, 4, 1,\n",
      "       1, 1, 1, 1, 1, 1, 1]))\n",
      "<class 'pandas.core.series.Series'>\n",
      "(array([ 6791,  6792,  6790,  6581,  6584,  6583,  6582, 10142, 10140,\n",
      "       10143, 10141,  6718,  6719,  6717,  6720,  6605,  6608,  6607,\n",
      "        6606,  6897,  6898,  6899,  6896, 10290, 10291, 10289, 10288,\n",
      "        6720,  6719,  6717,  6718,  6702,  6703,  6704,  6701,  6596,\n",
      "        6595,  6594,  6593,  6771,  6769,  6770,  6772, 10369, 10368,\n",
      "       10370, 10371,  6707,  6706,  6708,  6705,  6874,  6873,  6875,\n",
      "        6876,  6889,  6890,  6891,  1062,   277,   647,   454,  1233,\n",
      "         430,   421,  1039,   704,   392,   609,   678,   276,   914,\n",
      "        1191,   809,   236,   661,  1366,   402,  1056,  2239,  2241,\n",
      "        2240,  2190,  2188,  2189,  2083,  2081,  2082,  2257,  2259,\n",
      "        2258,  1850,  1852,  1851,  2342,  2341,  2343,  4494,  4257,\n",
      "        9640,  3961,  4727,  3854,  9759,  5696,  4768,  5683,  8403,\n",
      "        6016,  6393,  6668,  8743,  5348,  5386,  5987,  8755,  5590,\n",
      "        4740,  4319,  5503,  5963,  4256,  6292,  9057,  9722,  3772,\n",
      "        6382,  8836,  5673,  3641,  6202,  7988,  6135,  3852,  5350,\n",
      "        9190,  3644,  5712,  6085,  8439,  4013,  3582,  4244,  9022,\n",
      "        5443,  6119,  5698,  8987,  4995,  3128,  3127,  3126,  4996,\n",
      "        5712,  8284,  4195,  9414,  6105,  5784,  4584,  8391,  6373,\n",
      "        6155,  6184,  9647,  3841,  4423,  5163,  9624,  4689,  4992,\n",
      "        6364,  8937,  6045,  6422,  3759,  8415,  6179,  5291,  5339,\n",
      "        8381,  4843,  5030,  5627,  8611,  5664,  6429,  8314,  5628,\n",
      "        4258,  3748,  9746,  4188,  6100,  8468,  9880,   678,   525,\n",
      "         396,  1002], dtype=int16), array([1, 1, 1, 1, 1, 1, 0, 1, 1, 1, 1, 1, 0, 1, 1, 1, 1, 1, 1, 1, 1, 1,\n",
      "       1, 1, 1, 1, 1, 1, 1, 1, 1, 1, 1, 1, 0, 1, 1, 1, 1, 1, 1, 1, 1, 1,\n",
      "       1, 1, 1, 1, 1, 0, 1, 1, 1, 1, 1, 1, 1, 0, 1, 1, 1, 1, 1, 0, 0, 1,\n",
      "       1, 1, 1, 0, 1, 1, 1, 0, 1, 1, 1, 1, 0, 1, 1, 1, 1, 1, 1, 1, 0, 1,\n",
      "       1, 1, 1, 1, 1, 1, 1, 1, 0, 0, 1, 1, 1, 1, 1, 1, 1, 1, 1, 1, 1, 0,\n",
      "       1, 1, 1, 1, 1, 0, 1, 1, 1, 1, 1, 1, 1, 1, 1, 1, 1, 1, 0, 1, 1, 1,\n",
      "       1, 1, 1, 1, 0, 0, 1, 1, 1, 1, 1, 1, 1, 0, 1, 1, 0, 1, 1, 1, 1, 1,\n",
      "       1, 1, 1, 1, 1, 1, 1, 1, 1, 1, 1, 1, 1, 0, 1, 1, 1, 1, 1, 1, 1, 0,\n",
      "       0, 1, 1, 1, 1, 0, 1, 1, 1, 1, 1, 1, 1, 0, 1, 1, 0, 1, 0, 1, 0, 1,\n",
      "       1, 1], dtype=int8), array([37., 37., 37., 27., 27., 27., 27., 28., 28., 28., 28., 24., 24.,\n",
      "       24., 24., 29., 29., 29., 29., 19., 19., 19., 19., 24., 24., 24.,\n",
      "       24., 14., 14., 14., 14.,  2.,  2.,  2.,  2., 38., 38., 38., 38.,\n",
      "       24., 24., 24., 24., 35., 35., 35., 35., 21., 21., 21., 21., 29.,\n",
      "       29., 29., 29., 35., 35., 35., 17., 40., 17., 17., 14., 15., 17.,\n",
      "       15., 15., 18., 19., 16., 16., 16., 12., 22., 24., 18., 15., 17.,\n",
      "       19., 17., 17., 17., 25., 25., 25., 25., 25., 25., 23., 23., 23.,\n",
      "       23., 23., 23., 24., 24., 24., 25., 22., 29., 14., 19., 20., 26.,\n",
      "       30., 15., 20., 19., 24., 24., 23., 39., 31., 12.,  6., 17., 31.,\n",
      "        7., 12., 12., 19., 15., 13., 14., 16., 18., 11., 12., 15., 44.,\n",
      "       10.,  8., 15., 14., 27., 24., 19.,  7., 68., 43., 27., 40., 11.,\n",
      "       27., 41.,  9., 22., 25., 11., 36., 36., 36., 25., 11., 20.,  8.,\n",
      "       25., 29., 11., 12., 14., 13., 19., 30., 69.,  8., 10., 53., 31.,\n",
      "       23., 22., 17., 17., 27., 23., 17., 12., 25., 18., 11., 13., 54.,\n",
      "       15., 11., 34., 15.,  9., 24., 11., 38., 40., 18.,  8., 24., 34.,\n",
      "       45., 20., 17., 17., 16.]), array([5, 5, 5, 5, 5, 5, 5, 5, 5, 5, 5, 5, 5, 5, 5, 5, 5, 5, 5, 5, 5, 5,\n",
      "       5, 5, 5, 5, 5, 5, 5, 5, 5, 5, 5, 5, 5, 5, 5, 5, 5, 5, 5, 5, 5, 5,\n",
      "       5, 5, 5, 5, 5, 5, 5, 5, 5, 5, 5, 5, 5, 5, 1, 1, 1, 1, 1, 1, 1, 1,\n",
      "       1, 1, 1, 1, 1, 1, 1, 1, 1, 1, 1, 1, 1, 2, 2, 2, 2, 2, 2, 2, 2, 2,\n",
      "       2, 2, 2, 2, 2, 2, 2, 2, 2, 4, 4, 4, 4, 4, 4, 4, 4, 4, 4, 4, 4, 4,\n",
      "       4, 4, 4, 4, 4, 4, 4, 4, 4, 4, 4, 4, 4, 4, 4, 4, 4, 4, 4, 4, 4, 4,\n",
      "       4, 4, 4, 4, 4, 4, 4, 4, 4, 4, 4, 4, 4, 4, 4, 4, 4, 3, 3, 3, 4, 4,\n",
      "       4, 4, 4, 4, 4, 4, 4, 4, 4, 4, 4, 4, 4, 4, 4, 4, 4, 4, 4, 4, 4, 4,\n",
      "       4, 4, 4, 4, 4, 4, 4, 4, 4, 4, 4, 4, 4, 4, 4, 4, 4, 4, 4, 4, 1, 1,\n",
      "       1, 1]))\n",
      "<class 'pandas.core.series.Series'>\n",
      "(array([ 7900,  7876,   175,  1278,  2064,  2065,  2063,  3364,  3363,\n",
      "        3365,  2948,  2947,  2946,  2594,  2595,  2593,  4492,  4120,\n",
      "        4696,  6116,  6173,  6370,  6909,  6908,  6910,  6911,  7216,\n",
      "        7219,  7217,  7218,  5215,  3871,  5180,  9642,  4784,  4260,\n",
      "        4978,  9384,  5945,  6347,  3871,  3870,  9062,    76,   134,\n",
      "         107, 10614,  7892,  4108,   876], dtype=int16), array([1, 1, 0, 1, 1, 1, 0, 1, 0, 0, 0, 1, 1, 0, 1, 0, 0, 0, 1, 0, 0, 1,\n",
      "       1, 1, 1, 0, 1, 0, 1, 1, 1, 0, 1, 1, 0, 1, 1, 0, 1, 1, 1, 0, 1, 0,\n",
      "       0, 0, 1, 1, 0, 0], dtype=int8), array([24., 29., 25., 25., 19., 19., 19., 25., 25., 25., 24., 24., 24.,\n",
      "       22., 22., 22., 26., 24., 20.,  8., 21., 50., 44., 44., 44., 44.,\n",
      "       33., 33., 33., 33., 26., 30., 13., 22., 37., 25., 24., 42., 19.,\n",
      "       13., 24.,  3., 27., 14., 27., 25., 22., 23., 21., 11.]), array([0, 0, 0, 1, 2, 2, 2, 3, 3, 3, 3, 3, 3, 3, 3, 3, 4, 4, 4, 4, 4, 4,\n",
      "       5, 5, 5, 5, 6, 6, 6, 6, 4, 4, 4, 4, 4, 4, 4, 4, 4, 4, 4, 4, 4, 0,\n",
      "       0, 0, 0, 0, 4, 1]))\n",
      "<class 'pandas.core.series.Series'>\n",
      "(array([ 6654,  6418,   488,  5474,  4067,  4748,  4088,   716,   715,\n",
      "         966, 10688,  1245,  1280,   915, 10687], dtype=int16), array([0, 1, 0, 1, 1, 0, 1, 0, 1, 1, 1, 0, 1, 0, 1], dtype=int8), array([24., 46., 29., 18., 28., 23., 17., 35., 18., 21., 14., 18., 17.,\n",
      "       18., 27.]), array([4, 4, 1, 4, 4, 4, 4, 1, 1, 1, 1, 1, 1, 1, 1]))\n",
      "<class 'pandas.core.series.Series'>\n",
      "(array([7900, 7876,  175, 1278, 2064, 2063, 2065, 3363, 3365, 3364, 2946,\n",
      "       2947, 2948, 2594, 2593, 2595, 4492, 4120, 4696, 6116, 6173, 6370,\n",
      "       6909, 6908, 6910, 6911, 7218, 7219], dtype=int16), array([0, 0, 0, 1, 1, 0, 1, 0, 1, 0, 0, 0, 0, 0, 0, 1, 0, 1, 1, 0, 0, 0,\n",
      "       0, 1, 1, 0, 0, 0], dtype=int8), array([24., 26., 22., 28., 24., 24., 24., 37., 37., 37., 29., 29., 29.,\n",
      "       24., 24., 24., 27., 35., 19., 25., 18., 35., 24., 24., 24., 24.,\n",
      "       55., 55.]), array([0, 0, 0, 1, 2, 2, 2, 3, 3, 3, 3, 3, 3, 3, 3, 3, 4, 4, 4, 4, 4, 4,\n",
      "       5, 5, 5, 5, 6, 6]))\n",
      "<class 'pandas.core.series.Series'>\n",
      "(array([3560, 4207,  218, 3925, 5358, 4954, 8216, 6050, 5163, 4231, 4496,\n",
      "       3774, 5616], dtype=int16), array([0, 1, 1, 0, 0, 0, 1, 1, 1, 1, 1, 1, 0], dtype=int8), array([ 24., 300.,  18.,  18.,  16.,  30.,  19.,  26.,  22.,  15.,  17.,\n",
      "         9.,  12.]), array([4, 4, 1, 4, 4, 4, 4, 4, 4, 4, 4, 4, 4]))\n",
      "<class 'pandas.core.series.Series'>\n",
      "(array([ 128, 7860, 7922,  156,   51,   50, 7896, 7863,  152,  104,  108,\n",
      "       7900, 7901, 7971,   25,  183, 7926, 7927,    4, 7984,   45,  185,\n",
      "         55, 7876,    6,  172, 7898,  175], dtype=int16), array([1, 1, 1, 1, 1, 1, 1, 1, 1, 1, 1, 1, 1, 1, 1, 1, 1, 1, 0, 1, 1, 1,\n",
      "       1, 1, 1, 0, 0, 1], dtype=int8), array([24., 19., 22., 20., 21., 19., 20., 18., 18., 23., 19., 21., 23.,\n",
      "       35., 67., 21., 23., 21., 22., 22., 25., 24., 21., 20., 26., 23.,\n",
      "       30., 44.]), array([0, 0, 0, 0, 0, 0, 0, 0, 0, 0, 0, 0, 0, 0, 0, 0, 0, 0, 0, 0, 0, 0,\n",
      "       0, 0, 0, 0, 0, 0]))\n",
      "<class 'pandas.core.series.Series'>\n",
      "(array([3931, 6665, 6208, 3641, 4575, 6374, 5335, 6017, 4057, 4750, 6203,\n",
      "       4206, 3644, 5273, 6318, 9306, 4179, 5173, 3986, 5177, 6116, 6246,\n",
      "       5620, 3880, 3767, 4996, 5212, 9312, 5197, 5861, 5029, 4709, 4821,\n",
      "       3634, 4966, 5165, 5272, 4997, 4664, 3942, 4702, 3931, 4575, 6374,\n",
      "       5335, 4057, 6203, 4206, 3644, 5273, 6318, 4179, 5173, 4997, 3880,\n",
      "       4996, 5272, 6116, 6318, 6374, 3942, 9306, 5481, 4118, 4446, 5325,\n",
      "       4414, 3859, 5680, 6668, 3731, 9283, 6005, 3749, 4050, 6381, 4451,\n",
      "       3986, 5620, 3767, 5212, 9312, 4709, 4821, 3634, 4966, 5165, 3931,\n",
      "       4575, 6002, 6152, 3854, 4496, 5339, 5589, 4476, 6435, 3636, 5181,\n",
      "       5928, 4454, 4975, 5158, 6114, 3974, 3710, 4987, 6264, 5254, 4409,\n",
      "       5565, 3852, 3944, 4464, 5664, 9315, 4388, 3635, 6155, 4519, 4221,\n",
      "       5005, 5673, 6143, 4740, 3988, 5615, 9259, 6120, 4094, 3841, 6083,\n",
      "       5038, 5183, 3609, 5199, 4818, 4469, 3642, 4433, 6125, 4078, 4040,\n",
      "       4064, 5703, 4984, 4964], dtype=int16), array([0, 1, 1, 1, 0, 0, 0, 1, 0, 1, 0, 0, 0, 0, 0, 1, 0, 0, 0, 1, 1, 1,\n",
      "       0, 0, 0, 0, 0, 0, 1, 1, 1, 0, 0, 0, 0, 0, 1, 0, 1, 0, 1, 0, 0, 0,\n",
      "       0, 0, 0, 1, 0, 0, 1, 1, 1, 1, 1, 1, 1, 1, 1, 1, 1, 1, 0, 0, 1, 0,\n",
      "       0, 0, 0, 0, 1, 0, 0, 1, 1, 0, 1, 1, 1, 1, 1, 1, 1, 0, 1, 1, 1, 1,\n",
      "       1, 0, 0, 0, 0, 0, 1, 0, 0, 0, 0, 0, 0, 1, 0, 0, 0, 0, 0, 0, 1, 0,\n",
      "       1, 0, 0, 0, 0, 0, 0, 1, 0, 0, 1, 0, 0, 1, 0, 0, 1, 0, 0, 0, 0, 0,\n",
      "       0, 0, 1, 1, 0, 0, 0, 0, 0, 0, 1, 0, 0, 1, 0], dtype=int8), array([ 24.,  53.,  31.,  38.,  62.,  52.,  27.,  41.,  60.,  30.,  52.,\n",
      "        34.,  24.,  38.,  40., 196., 205.,  94., 101., 160., 136.,  47.,\n",
      "        78., 217., 126.,  78.,  85.,  81.,  52.,  60.,  71.,  23.,  42.,\n",
      "       102., 150.,  39.,  37.,  80.,  80.,  37.,  40., 110.,  23.,  37.,\n",
      "        18., 139.,  10.,  74.,  16.,  52.,  27.,  20.,  19.,  11.,  12.,\n",
      "        46.,  19.,  79.,  24.,  48.,  30.,  32.,  29.,  47.,  40., 101.,\n",
      "       217.,  34.,  52.,  51.,  40.,  24.,  66.,   6.,  24., 155.,  47.,\n",
      "        71.,  12.,  50.,  19., 103.,  90.,   1.,  71.,  40.,  59.,   6.,\n",
      "         9.,  19.,  49.,  62.,  18.,  45.,  74., 109.,  49.,  58.,  71.,\n",
      "        57.,  54.,  80.,  62.,  45., 110.,  72.,  70., 181.,  48.,  96.,\n",
      "        97.,  37.,  95.,  54., 113., 121.,  82.,  36.,  74.,  64.,  62.,\n",
      "        26.,  42.,  51.,  79.,  98.,  43.,  47.,  36.,  19.,  70.,  39.,\n",
      "        48.,  51.,  75.,  28.,  13.,  36.,  92.,  64.,  76.,  21.,  57.,\n",
      "        33.,  49.,  83.,  16.]), array([4, 4, 4, 4, 4, 4, 4, 4, 4, 4, 4, 4, 4, 4, 4, 4, 4, 4, 4, 4, 4, 4,\n",
      "       4, 4, 4, 4, 4, 4, 4, 4, 4, 4, 4, 4, 4, 4, 4, 4, 4, 4, 4, 4, 4, 4,\n",
      "       4, 4, 4, 4, 4, 4, 4, 4, 4, 4, 4, 4, 4, 4, 4, 4, 4, 4, 4, 4, 4, 4,\n",
      "       4, 4, 4, 4, 4, 4, 4, 4, 4, 4, 4, 4, 4, 4, 4, 4, 4, 4, 4, 4, 4, 4,\n",
      "       4, 4, 4, 4, 4, 4, 4, 4, 4, 4, 4, 4, 4, 4, 4, 4, 4, 4, 4, 4, 4, 4,\n",
      "       4, 4, 4, 4, 4, 4, 4, 4, 4, 4, 4, 4, 4, 4, 4, 4, 4, 4, 4, 4, 4, 4,\n",
      "       4, 4, 4, 4, 4, 4, 4, 4, 4, 4, 4, 4, 4, 4, 4]))\n",
      "<class 'pandas.core.series.Series'>\n",
      "(array([9703, 5519, 5511, 4231, 6173, 5018, 3731, 8497, 6154, 5257, 5030],\n",
      "      dtype=int16), array([0, 1, 1, 0, 0, 0, 0, 1, 1, 1, 1], dtype=int8), array([24., 19., 22.,  8., 18., 12., 30., 11., 10., 17., 15.]), array([4, 4, 4, 4, 4, 4, 4, 4, 4, 4, 4]))\n",
      "<class 'pandas.core.series.Series'>\n",
      "(array([7900, 7876,  175, 1278, 2063, 2065, 2064, 3363, 3364, 3365, 2947,\n",
      "       2946, 2948, 2595, 2593, 2594, 4492, 4120, 4696, 6116, 6173, 6370,\n",
      "       6878, 6877, 6880, 6879, 7218, 7219], dtype=int16), array([1, 0, 1, 0, 1, 1, 1, 0, 1, 0, 0, 0, 1, 1, 1, 1, 1, 1, 0, 0, 0, 1,\n",
      "       1, 1, 0, 0, 1, 0], dtype=int8), array([24., 13., 19., 21., 16., 16., 16., 21., 21., 21., 20., 20., 20.,\n",
      "       16., 16., 16., 21., 29., 20.,  8., 16., 22., 23., 23., 23., 23.,\n",
      "       19., 19.]), array([0, 0, 0, 1, 2, 2, 2, 3, 3, 3, 3, 3, 3, 3, 3, 3, 4, 4, 4, 4, 4, 4,\n",
      "       5, 5, 5, 5, 6, 6]))\n",
      "<class 'pandas.core.series.Series'>\n",
      "(array([ 4041,    14,  4730,  5163,  5156,  4483,  5202,  3871,  9283,\n",
      "        3878,  9070,  5165,  6106,  6334,  9466,  5415,  5348,  6362,\n",
      "        8337,  4414,  4978,  6660,  9527,  5316,  6005,  5698,  8733,\n",
      "         513,  1140,   842, 10688,  1018,   809,   513,   460,   460,\n",
      "       10686,   470,   638,   506, 10687], dtype=int16), array([0, 1, 0, 0, 0, 1, 0, 1, 0, 0, 1, 0, 1, 0, 0, 0, 0, 0, 0, 1, 1, 1,\n",
      "       0, 0, 1, 0, 0, 0, 0, 0, 0, 1, 1, 1, 0, 1, 0, 0, 0, 1, 0],\n",
      "      dtype=int8), array([ 24.,  26.,  24.,  20.,  23.,  49.,  35.,  53.,  48.,  90.,  94.,\n",
      "        10.,  35.,  44.,  71.,  28.,  39.,  35.,  28.,  20.,  14.,  17.,\n",
      "        27., 116.,  39.,  46.,  56.,  31.,  20.,  18.,  16.,  18.,  16.,\n",
      "        23.,  17.,  16.,  18.,  19.,  16.,  20.,  16.]), array([4, 0, 4, 4, 4, 4, 4, 4, 4, 4, 4, 4, 4, 4, 4, 4, 4, 4, 4, 4, 4, 4,\n",
      "       4, 4, 4, 4, 4, 1, 1, 1, 1, 1, 1, 1, 1, 1, 1, 1, 1, 1, 1]))\n",
      "<class 'pandas.core.series.Series'>\n",
      "(array([ 4159,  1334,  9232,  6280,  6117,  8503,  8593,  9780,  9549,\n",
      "        9502,  9897, 10197, 10199, 10196, 10198, 10827, 10828, 10829,\n",
      "       10830,  6575,  6573,  6574,  6576, 11624, 11626, 11623, 11625,\n",
      "        7709,  7711,  7712,  7713,  7710,  7274,  7271,  7273,  7272,\n",
      "        7270,  7488,  7486,  7484,  7487,  7485,   393,  1105,  1186,\n",
      "       12253,   608,  1328,   638, 12213,  1262,   369,   750, 12194,\n",
      "        1276,  1184,   807, 11927,   637,   775,   423, 12007,  5503,\n",
      "        8628,  5712,  6106, 11707,  6002, 13518,  5262], dtype=int16), array([1, 0, 0, 1, 0, 1, 0, 0, 1, 0, 1, 0, 1, 1, 1, 1, 1, 1, 0, 0, 0, 0,\n",
      "       1, 1, 0, 1, 1, 1, 1, 0, 1, 1, 1, 1, 0, 0, 1, 0, 1, 1, 0, 1, 1, 1,\n",
      "       0, 0, 0, 1, 1, 1, 1, 0, 0, 0, 1, 1, 1, 1, 0, 0, 1, 1, 0, 1, 0, 0,\n",
      "       1, 0, 1, 0], dtype=int8), array([24., 22., 23., 25., 19., 44., 25., 15., 27., 18., 33., 96., 96.,\n",
      "       96., 96., 38., 38., 38., 38., 35., 35., 35., 35., 35., 35., 35.,\n",
      "       35., 85., 85., 85., 85., 85., 68., 68., 68., 68., 68., 65., 65.,\n",
      "       65., 65., 65., 76., 19., 19., 16., 22., 19., 16., 20., 17., 16.,\n",
      "       17., 17., 17., 14., 11., 15., 31., 15., 16., 17., 12., 21., 15.,\n",
      "       27., 27., 12., 39.,  8.]), array([4, 1, 4, 4, 4, 4, 4, 4, 4, 4, 4, 5, 5, 5, 5, 5, 5, 5, 5, 5, 5, 5,\n",
      "       5, 5, 5, 5, 5, 6, 6, 6, 6, 6, 6, 6, 6, 6, 6, 6, 6, 6, 6, 6, 1, 1,\n",
      "       1, 1, 1, 1, 1, 1, 1, 1, 1, 1, 1, 1, 1, 1, 1, 1, 1, 1, 4, 4, 4, 4,\n",
      "       4, 4, 4, 4]))\n",
      "<class 'pandas.core.series.Series'>\n",
      "(array([7900, 7876,  175, 1278, 2064, 2063, 2065, 3365, 3364, 3363, 2947,\n",
      "       2946, 2948, 2593, 2594, 2595, 4492, 4120, 4696, 6116, 6173, 6370,\n",
      "       6880, 6877, 6879, 6878, 7218, 7217], dtype=int16), array([1, 1, 0, 1, 0, 0, 1, 1, 1, 0, 0, 0, 0, 0, 0, 0, 0, 0, 0, 0, 1, 0,\n",
      "       0, 0, 0, 0, 0, 0], dtype=int8), array([24., 30., 22., 23., 21., 21., 21., 25., 25., 25., 22., 22., 22.,\n",
      "       20., 20., 20., 29., 28., 16., 27., 23., 15., 21., 21., 21., 21.,\n",
      "       51., 51.]), array([0, 0, 0, 1, 2, 2, 2, 3, 3, 3, 3, 3, 3, 3, 3, 3, 4, 4, 4, 4, 4, 4,\n",
      "       5, 5, 5, 5, 6, 6]))\n",
      "<class 'pandas.core.series.Series'>\n",
      "(array([ 7900,  7876,   175,  1278,  2065,  2063,  2064,  3364,  3363,\n",
      "        3365,  2946,  2948,  2947,  2593,  2594,  2595,  4492,  4120,\n",
      "        4696,  6116,  6173,  6370,  6880,  6877,  6879,  6878,  7217,\n",
      "        7219,  7216,  7218,   319,  1078,   361, 10685,  1132,   708,\n",
      "        1110, 10687,  1329,  1339,  3846,  4428,  5005,  9369,  3985,\n",
      "        6444,  6257,  9491,  6106,  4055,   450, 10688,  1274,   323,\n",
      "        1299, 10686,   912,  1201,   295, 10684,  6038,  8777,  3933,\n",
      "        5323,  4412,  8553,  5297,  9687], dtype=int16), array([1, 0, 1, 0, 1, 0, 1, 0, 0, 1, 0, 0, 0, 1, 0, 0, 1, 0, 0, 0, 0, 0,\n",
      "       0, 0, 0, 1, 1, 0, 1, 0, 1, 1, 1, 1, 1, 1, 0, 1, 0, 1, 1, 1, 0, 1,\n",
      "       0, 1, 1, 1, 0, 1, 1, 1, 1, 1, 1, 0, 1, 1, 1, 1, 1, 0, 1, 1, 1, 0,\n",
      "       1, 0], dtype=int8), array([24., 20., 20., 23., 21., 21., 21., 28., 28., 28., 28., 28., 28.,\n",
      "       18., 18., 18., 28., 30., 18., 16., 15., 20., 19., 19., 19., 19.,\n",
      "       43., 43., 43., 43., 58., 19., 15., 10., 17., 13., 11., 17., 14.,\n",
      "       16., 12., 28., 11., 12., 26., 39., 17., 25., 22., 21., 25., 14.,\n",
      "       56., 20.,  9., 14., 19., 13., 12., 15., 22., 31., 37., 33., 16.,\n",
      "       19., 32., 37.]), array([0, 0, 0, 1, 2, 2, 2, 3, 3, 3, 3, 3, 3, 3, 3, 3, 4, 4, 4, 4, 4, 4,\n",
      "       5, 5, 5, 5, 6, 6, 6, 6, 1, 1, 1, 1, 1, 1, 1, 1, 1, 1, 4, 4, 4, 4,\n",
      "       4, 4, 4, 4, 4, 4, 1, 1, 1, 1, 1, 1, 1, 1, 1, 1, 4, 4, 4, 4, 4, 4,\n",
      "       4, 4]))\n",
      "<class 'pandas.core.series.Series'>\n",
      "(array([ 3710,  4767,  9994,  6120,  6179,  9136,  8334,   805,  1080,\n",
      "         542, 12068,  1068,   988], dtype=int16), array([1, 1, 0, 0, 1, 0, 0, 0, 0, 0, 0, 1, 1], dtype=int8), array([24., 54., 36., 57., 25., 22., 26., 44., 29., 18., 19., 23., 22.]), array([4, 4, 4, 4, 4, 4, 4, 1, 1, 1, 1, 1, 1]))\n",
      "<class 'pandas.core.series.Series'>\n",
      "(array([ 5696,  5590,  5582,  9788,  3731,  4120,  6183,  9515,   556,\n",
      "         981,   435, 11678,   853,   823,   570, 11767,   386,  1016,\n",
      "        5671,  5853,  5446,  9060,  6127,  5197,  4455,  8878,  8489,\n",
      "        4244,  5179, 11416,  4432,  3609,  4528,  8883,  6311,  4031,\n",
      "        4130,  8893,  4118,  4033,  5349,  6226,  3851,  6682,  4533,\n",
      "        8300,  4099,  4450,  4707,  9967,  4975,  4975,  4533,  3644,\n",
      "        4409,  9399,  4058,  6469,  4550,  3674,  4707,  9433,  1246,\n",
      "        1206,   909,   329,   865,   456,   761,  1248,   544,   690,\n",
      "        3984,  6037,  6472,  9926,  6276,  4071,  5348,  9556,  5460,\n",
      "        5327,  4860,  8407,  4847,  8502,  6431,  9889,  4039,  6161,\n",
      "        4010,  9824,  4422,  5326,  6147,  9645,  5005,  5165,  4462,\n",
      "        8966,  3705,  4992,   501,  1099,  1227,   757,  1152,   474,\n",
      "         325,  1278,   937,  1103,  4222, 11410,  5156,  5708,  4540,\n",
      "        9141,   925,  1100,  1088,   526,   538,   264,  1230,   636,\n",
      "         628,   402,  5033,  5216,  5885,  8909,  4630,  5964,  4342,\n",
      "        9239,  3941,  4292,  6652,  8309,  3695,  5717,   488,   451,\n",
      "         874,   575,   632,   385,  1198,   606,   498,   716,   244,\n",
      "       12214,  1326,   307,   520, 11999,   422,   902,   852, 12012,\n",
      "        9900,  8535,  8337,  9480,  9033,  9998,  8166,  9773,  8628,\n",
      "        9461,  5861, 11703,  5192,  8521,  9254,  9058,  9082,  8396,\n",
      "        8393,  4119,  9020, 13350,  6078,  5154,  9275, 13389,  4494,\n",
      "        5948,  4419, 13408,   903,   553,   758, 12118,  1010,   644,\n",
      "        1188, 11945], dtype=int16), array([1, 1, 1, 1, 1, 0, 1, 0, 1, 0, 1, 1, 0, 1, 1, 1, 0, 1, 1, 0, 1, 1,\n",
      "       1, 1, 1, 1, 1, 1, 1, 1, 1, 1, 1, 1, 1, 1, 0, 1, 1, 1, 1, 0, 0, 1,\n",
      "       0, 1, 1, 1, 0, 1, 0, 1, 0, 0, 1, 0, 0, 1, 0, 1, 1, 1, 1, 1, 0, 1,\n",
      "       0, 1, 1, 0, 1, 0, 0, 1, 0, 0, 1, 1, 1, 1, 0, 0, 0, 1, 1, 1, 0, 1,\n",
      "       0, 0, 1, 1, 0, 1, 1, 0, 1, 0, 1, 0, 1, 0, 1, 0, 1, 0, 0, 0, 0, 1,\n",
      "       0, 0, 0, 1, 0, 0, 0, 1, 1, 1, 1, 0, 1, 1, 0, 1, 0, 0, 0, 1, 1, 1,\n",
      "       1, 1, 1, 1, 1, 0, 1, 0, 1, 1, 1, 1, 1, 1, 1, 1, 0, 1, 0, 0, 1, 1,\n",
      "       1, 1, 1, 1, 1, 1, 1, 1, 1, 1, 1, 0, 1, 1, 1, 1, 1, 1, 0, 1, 1, 1,\n",
      "       1, 1, 1, 1, 0, 1, 1, 1, 1, 0, 1, 0, 1, 0, 0, 1, 1, 1, 1, 1, 1, 0,\n",
      "       1, 1], dtype=int8), array([13., 25., 24.,  8., 19., 36., 19., 22., 44., 19., 19., 17., 18.,\n",
      "       15., 16., 15., 17., 18., 17., 43., 14.,  9.,  8., 24., 19., 17.,\n",
      "       25., 22., 24., 32., 15., 11., 23., 25., 15., 20., 13., 32., 18.,\n",
      "        8.,  8., 23., 12., 26., 19., 28., 40., 16., 24., 25.,  7., 18.,\n",
      "        8., 23., 14., 13., 22., 20., 34., 18., 14., 15., 19., 16., 16.,\n",
      "       17., 22., 17., 15., 20., 22., 18., 17., 26., 23., 33., 36., 18.,\n",
      "       32., 18., 24., 15., 20., 11., 35., 16., 47., 29., 17., 56., 31.,\n",
      "       25., 15., 48., 11., 17., 30., 31., 17., 25., 27.,  9., 24., 17.,\n",
      "       16., 18., 16., 16., 19., 17., 15., 16., 19., 28., 19., 26., 53.,\n",
      "       17., 14., 15., 16., 17., 16., 16., 14., 16., 16., 16., 17., 12.,\n",
      "       15., 15., 16., 11., 30., 24., 34., 27., 14., 16., 18., 18., 26.,\n",
      "       17., 16., 17., 17., 15., 18., 14., 17., 16., 17., 17., 16., 15.,\n",
      "       18., 18., 17., 16., 14., 17., 15., 19., 12., 20., 35., 42., 65.,\n",
      "       14., 18., 29., 14., 18., 13., 16., 10., 15.,  7.,  8., 13., 29.,\n",
      "       25., 13., 14., 18., 17., 30., 22., 18., 21., 14., 22., 15., 18.,\n",
      "       18., 17., 16., 17., 16.]), array([4, 4, 4, 4, 4, 4, 4, 4, 1, 1, 1, 1, 1, 1, 1, 1, 1, 1, 4, 4, 4, 4,\n",
      "       4, 4, 4, 4, 4, 4, 4, 4, 4, 4, 4, 4, 4, 4, 4, 4, 4, 4, 4, 4, 4, 4,\n",
      "       4, 4, 4, 4, 4, 4, 4, 4, 4, 4, 4, 4, 4, 4, 4, 4, 4, 4, 1, 1, 1, 1,\n",
      "       1, 1, 1, 1, 1, 1, 4, 4, 4, 4, 4, 4, 4, 4, 4, 4, 4, 4, 4, 4, 4, 4,\n",
      "       4, 4, 4, 4, 4, 4, 4, 4, 4, 4, 4, 4, 4, 4, 1, 1, 1, 1, 1, 1, 1, 1,\n",
      "       1, 1, 4, 4, 4, 4, 4, 4, 1, 1, 1, 1, 1, 1, 1, 1, 1, 1, 4, 4, 4, 4,\n",
      "       4, 4, 4, 4, 4, 4, 4, 4, 4, 4, 1, 1, 1, 1, 1, 1, 1, 1, 1, 1, 1, 1,\n",
      "       1, 1, 1, 1, 1, 1, 1, 1, 4, 4, 4, 4, 4, 4, 4, 4, 4, 4, 4, 4, 4, 4,\n",
      "       4, 4, 4, 4, 4, 4, 4, 4, 4, 4, 4, 4, 4, 4, 4, 4, 1, 1, 1, 1, 1, 1,\n",
      "       1, 1]))\n",
      "<class 'pandas.core.series.Series'>\n",
      "(array([ 5971,   111,  5899,  5708,  6372,  3827,  7910,   423,   952,\n",
      "         979, 10688,   943,   579,   426,   294], dtype=int16), array([1, 1, 0, 0, 0, 1, 1, 1, 1, 0, 0, 1, 0, 1, 1], dtype=int8), array([24., 44., 31., 39., 52., 15., 15., 20., 20., 17., 18., 22., 16.,\n",
      "       18., 16.]), array([4, 0, 4, 4, 4, 4, 0, 1, 1, 1, 1, 1, 1, 1, 1]))\n",
      "<class 'pandas.core.series.Series'>\n",
      "(array([ 7900,  7876,   175,  1278,  2063,  2065,  2064,  3365,  3364,\n",
      "        3363,  2946,  2947,  2948,  2593,  2595,  2594,  4492,  4120,\n",
      "        4696,  6116,  6173,  6370,  6879,  6878,  6880,  6877,  7219,\n",
      "        7218,  7216,  7217,  1212,   342,   202, 10686,   316,   225,\n",
      "         964,   294,  1184,  1300,  1173,   726,   197,   956,  1339,\n",
      "         457,  1208,  1216,   286,  1314,   404,  1314,   202,   219,\n",
      "         962,   345,  1085,   387,   641,   212,  1286], dtype=int16), array([1, 0, 0, 0, 0, 0, 1, 0, 1, 0, 0, 1, 0, 0, 0, 0, 0, 0, 0, 0, 0, 0,\n",
      "       0, 1, 1, 0, 0, 0, 0, 0, 1, 1, 0, 0, 1, 1, 0, 0, 1, 1, 1, 1, 1, 1,\n",
      "       1, 1, 1, 1, 1, 0, 1, 1, 1, 1, 0, 1, 1, 1, 1, 1, 1], dtype=int8), array([24., 24., 22., 27., 22., 22., 22., 11., 11., 11.,  1.,  1.,  1.,\n",
      "        1.,  1.,  1.,  1.,  3.,  1.,  1.,  1.,  1.,  1.,  1.,  1.,  1.,\n",
      "        2.,  2.,  2.,  2.,  1., 22., 15., 16., 27., 15., 18., 21., 16.,\n",
      "       16., 18., 15., 14., 16., 15., 18., 14., 15., 17., 20., 21., 15.,\n",
      "       18., 19., 17., 15.,  9., 12., 16., 15., 16.]), array([0, 0, 0, 1, 2, 2, 2, 3, 3, 3, 3, 3, 3, 3, 3, 3, 4, 4, 4, 4, 4, 4,\n",
      "       5, 5, 5, 5, 6, 6, 6, 6, 1, 1, 1, 1, 1, 1, 1, 1, 1, 1, 1, 1, 1, 1,\n",
      "       1, 1, 1, 1, 1, 1, 1, 1, 1, 1, 1, 1, 1, 1, 1, 1, 1]))\n",
      "<class 'pandas.core.series.Series'>\n",
      "(array([7900, 7876,  175, 1278, 2063, 2064, 2065, 3363, 3364, 3365, 2947,\n",
      "       2946, 2948, 2594, 2593, 2595, 4492, 4120, 4696, 6116, 6173, 6370,\n",
      "       6908, 6909, 6910, 6911, 7219, 7217, 7216, 7218, 3841, 5388, 4075,\n",
      "       9137, 4774, 3731, 4838, 8002], dtype=int16), array([0, 0, 1, 1, 0, 1, 0, 0, 1, 1, 0, 0, 0, 1, 1, 1, 1, 0, 0, 0, 0, 0,\n",
      "       0, 0, 1, 1, 0, 1, 0, 1, 0, 0, 1, 1, 1, 0, 1, 1], dtype=int8), array([24., 32., 27., 24., 39., 39., 39., 32., 32., 32., 27., 27., 27.,\n",
      "       25., 25., 25., 33., 47., 25., 14., 11., 11., 20., 20., 20., 20.,\n",
      "       28., 28., 28., 28., 84., 16., 11., 24., 21., 19., 41., 27.]), array([0, 0, 0, 1, 2, 2, 2, 3, 3, 3, 3, 3, 3, 3, 3, 3, 4, 4, 4, 4, 4, 4,\n",
      "       5, 5, 5, 5, 6, 6, 6, 6, 4, 4, 4, 4, 4, 4, 4, 4]))\n",
      "<class 'pandas.core.series.Series'>\n",
      "(array([6819, 6820, 6818, 6817, 6609, 6611, 6610, 6612, 6599, 6600, 6598,\n",
      "       6597, 6822, 6824, 6823, 6821, 6878, 6880, 6877, 6879, 6693, 6696,\n",
      "       6695, 6694, 6855, 6856, 6854, 6853, 6701, 6704, 6702, 6703, 8154,\n",
      "       8158, 8157, 8155, 8156, 7369, 7366, 7367, 7368, 7370, 7186, 7184,\n",
      "       7185, 7218, 7216, 7217, 7219, 7669, 7670, 7631, 7632, 7506, 7508,\n",
      "       7505, 7507, 7504, 7737, 7738, 7735, 7736, 7734, 7900, 7876],\n",
      "      dtype=int16), array([1, 0, 0, 1, 1, 0, 1, 1, 1, 1, 0, 0, 1, 1, 1, 0, 1, 1, 1, 0, 1, 0,\n",
      "       1, 0, 0, 0, 0, 0, 0, 1, 0, 1, 1, 1, 0, 1, 1, 0, 0, 1, 1, 0, 1, 1,\n",
      "       1, 1, 1, 0, 0, 1, 1, 1, 1, 0, 1, 1, 1, 1, 1, 1, 1, 0, 0, 0, 0],\n",
      "      dtype=int8), array([ 47.,  47.,  47.,  47.,  47.,  47.,  47.,  47.,  46.,  46.,  46.,\n",
      "        46.,  60.,  60.,  60.,  60.,  60.,  60.,  60.,  60.,  29.,  29.,\n",
      "        29.,  29.,  79.,  79.,  79.,  79.,  44.,  44.,  44.,  44.,  54.,\n",
      "        54.,  54.,  54.,  54.,  48.,  48.,  48.,  48.,  48.,  70.,  70.,\n",
      "        70.,  44.,  44.,  44.,  44.,  73.,  73.,  24.,  24., 156., 156.,\n",
      "       156., 156., 156.,  63.,  63.,  63.,  63.,  63.,  53.,  28.]), array([5, 5, 5, 5, 5, 5, 5, 5, 5, 5, 5, 5, 5, 5, 5, 5, 5, 5, 5, 5, 5, 5,\n",
      "       5, 5, 5, 5, 5, 5, 5, 5, 5, 5, 6, 6, 6, 6, 6, 6, 6, 6, 6, 6, 6, 6,\n",
      "       6, 6, 6, 6, 6, 6, 6, 6, 6, 6, 6, 6, 6, 6, 6, 6, 6, 6, 6, 0, 0]))\n",
      "<class 'pandas.core.series.Series'>\n",
      "(array([ 6436,  6333,  5880,  4728,  5355,  3839,   325,  1010,   447,\n",
      "        1309, 10688,   914,   728,   354,   354,   728, 10684,   250,\n",
      "        1212], dtype=int16), array([0, 0, 0, 0, 0, 0, 0, 1, 1, 0, 0, 1, 0, 0, 1, 1, 1, 0, 0],\n",
      "      dtype=int8), array([24., 96., 83., 37., 11., 38., 36., 46., 30., 23., 18., 34., 23.,\n",
      "       21., 17., 19., 15., 25., 21.]), array([4, 4, 4, 4, 4, 4, 1, 1, 1, 1, 1, 1, 1, 1, 1, 1, 1, 1, 1]))\n",
      "<class 'pandas.core.series.Series'>\n",
      "(array([ 3620,   717,  9232, 11537,  8351,  3986,  8406,  8599,  4529,\n",
      "        3817,  4094,  8468,  5592,  4248, 13422,  9172,  5250,  9658,\n",
      "       13482,  4120,  9942,   762,   847,  1256, 11933,   402,  1313,\n",
      "         738, 11994,  1333,  1335,   402,   762,  1315, 11978, 10686,\n",
      "         322,   588, 12062,  1118,   948,   279, 12054,  5390, 13403,\n",
      "        3734,  6151,  5508, 13335,  5070,  4002,  9496, 13417,  4128,\n",
      "        9097, 11231, 13411,  9574,  4190, 11386, 13462, 11183,  9283,\n",
      "       11231,  5070,   446,   407,   447, 12188,   994,   589,  1036,\n",
      "       11921,   795,  1362,   407,  1256,  1359, 12253,   853,   234,\n",
      "         427, 12055,   834,   981,  1194, 12036,  4476, 13332,  8724,\n",
      "        3859,  8175, 13495,  5207,  8632,  8750, 13388,  1335,  4248,\n",
      "        1194,  1111,   920,  6112,  9221,  9044, 13310,  5836,  4171,\n",
      "        9974, 13320,  4728,  6058,  9974,  9942,  4821, 13407,  5038,\n",
      "        5660,  4732, 13398,  4258,  9614,  4998, 13306,   291, 12182,\n",
      "         904,  1028,  6125,  5698,  9253, 13418, 11464,  9227,  4863,\n",
      "       13330,  6173, 11260,  4863,  9614,  6173,  5038,   915, 12215,\n",
      "        1373,   414,   915,  1028,  1194,   595, 12075,  1236,  1314,\n",
      "         862, 11894,   473, 12159, 11966, 12189,  5339, 13333,  4012,\n",
      "        5595,  6310, 13436,  6083,  5703,  8636, 13504,  4187,  5562,\n",
      "        6120, 13387,  5181,  6429,  5663, 13280,  5939,  4959,  4863,\n",
      "        5562,  6120,  5339, 11962, 12172, 11892, 12013, 12162, 12256,\n",
      "       12110, 12124], dtype=int16), array([1, 1, 1, 1, 0, 0, 0, 0, 1, 1, 0, 1, 0, 1, 0, 1, 1, 0, 1, 0, 0, 0,\n",
      "       1, 0, 1, 0, 1, 0, 1, 1, 1, 1, 1, 1, 1, 1, 1, 1, 1, 1, 1, 1, 0, 1,\n",
      "       1, 1, 1, 1, 1, 0, 0, 1, 1, 1, 0, 0, 1, 1, 0, 1, 1, 0, 1, 1, 0, 1,\n",
      "       0, 1, 1, 1, 1, 1, 1, 0, 1, 1, 0, 1, 1, 1, 1, 1, 1, 0, 0, 0, 1, 0,\n",
      "       1, 0, 0, 0, 1, 1, 0, 0, 0, 1, 0, 1, 0, 1, 0, 1, 1, 1, 0, 0, 0, 1,\n",
      "       0, 0, 1, 1, 1, 0, 0, 1, 1, 1, 1, 0, 0, 1, 1, 1, 0, 0, 1, 1, 1, 1,\n",
      "       1, 0, 0, 1, 0, 1, 1, 1, 1, 1, 0, 1, 1, 1, 1, 1, 1, 1, 1, 1, 1, 1,\n",
      "       1, 0, 1, 1, 1, 0, 0, 0, 1, 1, 1, 0, 0, 1, 1, 0, 0, 0, 1, 1, 1, 0,\n",
      "       0, 1, 1, 1, 1, 1, 1, 1, 1, 1, 0, 1, 0, 1, 1], dtype=int8), array([24., 25., 27., 29., 26., 25., 50., 39., 35., 42., 38., 75., 46.,\n",
      "       24., 25., 17., 20., 24., 20., 45., 16., 28., 29., 25., 22., 13.,\n",
      "       14., 26., 17., 17., 19., 24., 19., 19., 22., 33., 22., 21., 21.,\n",
      "       20., 23., 25., 29., 21., 22., 18., 25., 18., 17., 18., 26., 18.,\n",
      "       33., 12., 11., 33., 31., 10., 34., 31., 16., 26., 64., 16.,  9.,\n",
      "       15., 17., 26., 19., 18., 15., 22., 19., 22., 16., 17., 17., 28.,\n",
      "       17., 29., 18., 27., 19., 18., 19., 22., 11., 19.,  9.,  9., 46.,\n",
      "       14., 27., 10., 32., 27., 39., 15., 19., 45.,  9., 24., 18., 15.,\n",
      "       43., 19., 16., 34., 38., 22., 10., 55., 29.,  4., 27., 18., 48.,\n",
      "       38., 37., 32., 37., 79., 23., 37., 40., 20., 10., 18., 27., 16.,\n",
      "       17., 32., 15., 17., 45., 32., 14., 21., 18., 12.,  7.,  8.,  8.,\n",
      "       21., 16., 17., 18., 19., 20., 20., 17., 18., 17., 27., 19., 16.,\n",
      "       12., 17., 18., 14., 19., 26., 36., 25., 15., 19., 43., 36., 19.,\n",
      "       13., 12., 16., 16.,  7., 49.,  8., 44., 43., 32., 46.,  2.,  3.,\n",
      "        9., 26., 11., 16., 17., 18., 17., 14., 20.]), array([4, 1, 4, 4, 4, 4, 4, 4, 4, 4, 4, 4, 4, 4, 4, 4, 4, 4, 4, 4, 4, 1,\n",
      "       1, 1, 1, 1, 1, 1, 1, 1, 1, 1, 1, 1, 1, 1, 1, 1, 1, 1, 1, 1, 1, 4,\n",
      "       4, 4, 4, 4, 4, 4, 4, 4, 4, 4, 4, 4, 4, 4, 4, 4, 4, 4, 4, 4, 4, 1,\n",
      "       1, 1, 1, 1, 1, 1, 1, 1, 1, 1, 1, 1, 1, 1, 1, 1, 1, 1, 1, 1, 1, 4,\n",
      "       4, 4, 4, 4, 4, 4, 4, 4, 4, 1, 4, 1, 1, 1, 4, 4, 4, 4, 4, 4, 4, 4,\n",
      "       4, 4, 4, 4, 4, 4, 4, 4, 4, 4, 4, 4, 4, 4, 1, 1, 1, 1, 4, 4, 4, 4,\n",
      "       4, 4, 4, 4, 4, 4, 4, 4, 4, 4, 1, 1, 1, 1, 1, 1, 1, 1, 1, 1, 1, 1,\n",
      "       1, 1, 1, 1, 1, 4, 4, 4, 4, 4, 4, 4, 4, 4, 4, 4, 4, 4, 4, 4, 4, 4,\n",
      "       4, 4, 4, 4, 4, 4, 4, 1, 1, 1, 1, 1, 1, 1, 1]))\n",
      "<class 'pandas.core.series.Series'>\n",
      "(array([ 4391,  5342,  4128,  4535,  6400,  3577,   197,  3878,  4757,\n",
      "        4443,  9075,  4556,  5701,  4476,  9022,  8491,  5267,  4470,\n",
      "        8694,  6651,  8469,  5592,  9906,  5644,  5791,  5582,  7993,\n",
      "         526,   817,   672, 10685,   980,  1339,   869, 10687],\n",
      "      dtype=int16), array([1, 1, 0, 0, 0, 1, 0, 0, 1, 0, 1, 1, 1, 1, 0, 1, 0, 1, 1, 1, 1, 0,\n",
      "       0, 1, 0, 0, 0, 1, 1, 1, 0, 1, 1, 1, 1], dtype=int8), array([24., 21., 42., 27., 14., 31., 34., 19., 13., 35., 40., 14., 18.,\n",
      "       15., 21., 53., 24., 38., 19., 19., 12., 44., 14., 37., 34., 35.,\n",
      "       11., 29., 20., 18., 19., 23., 18., 18., 17.]), array([4, 4, 4, 4, 4, 4, 1, 4, 4, 4, 4, 4, 4, 4, 4, 4, 4, 4, 4, 4, 4, 4,\n",
      "       4, 4, 4, 4, 4, 1, 1, 1, 1, 1, 1, 1, 1]))\n",
      "<class 'pandas.core.series.Series'>\n",
      "(array([3951, 3830, 9771, 5126, 8811, 6397, 3941,  309,  335, 1168,  442,\n",
      "       1058,  638, 1228,  908], dtype=int16), array([1, 1, 1, 0, 1, 1, 0, 0, 1, 1, 1, 1, 1, 1, 1], dtype=int8), array([24., 27., 21., 26., 35., 25., 19., 39., 25., 18., 15., 16., 13.,\n",
      "       19., 13.]), array([4, 4, 4, 4, 4, 4, 4, 1, 1, 1, 1, 1, 1, 1, 1]))\n",
      "<class 'pandas.core.series.Series'>\n",
      "(array([ 5087,  5931,  6650,  5738,  6659,  4128,  6327,  4853,  4248,\n",
      "        6487,  6485,  6488,  6486,  6765,  6768,  6766,  6767,  6781,\n",
      "        6782,  6783,  6784, 10275, 10274, 10272, 10273,  6730,  6731,\n",
      "        6729,  6732,   246,   640,   231, 10687,   786,   984,   205,\n",
      "         468, 12132,   801,   889,   294, 12160,   940,  1282,  6045,\n",
      "        9105, 10002,  8011,  4074,  8257, 11224,  9244], dtype=int16), array([1, 1, 0, 1, 0, 0, 1, 0, 1, 1, 1, 1, 0, 1, 0, 1, 1, 1, 1, 1, 1, 1,\n",
      "       1, 0, 0, 1, 1, 0, 1, 1, 0, 1, 0, 0, 0, 1, 1, 1, 1, 1, 1, 1, 1, 1,\n",
      "       1, 0, 0, 0, 1, 0, 1, 1], dtype=int8), array([24., 16., 28., 27., 14., 18., 19., 25., 28., 20., 20., 20., 20.,\n",
      "       31., 31., 31., 31., 52., 52., 52., 52., 34., 34., 34., 34., 31.,\n",
      "       31., 31., 31., 50., 20., 19., 19., 36., 17., 19., 17., 20., 18.,\n",
      "       17., 17., 17., 17., 17., 18., 16., 14., 18., 10., 14., 15.,  9.]), array([4, 4, 4, 4, 4, 4, 4, 4, 4, 5, 5, 5, 5, 5, 5, 5, 5, 5, 5, 5, 5, 5,\n",
      "       5, 5, 5, 5, 5, 5, 5, 1, 1, 1, 1, 1, 1, 1, 1, 1, 1, 1, 1, 1, 1, 1,\n",
      "       4, 4, 4, 4, 4, 4, 4, 4]))\n",
      "<class 'pandas.core.series.Series'>\n",
      "(array([7900, 7876,  175, 1278, 2063, 2065, 2064, 3365, 3364, 3363, 2946,\n",
      "       2947, 2948, 2595, 2593, 2594, 4492, 4120, 4696, 6116, 6173, 6370,\n",
      "       6879, 6880, 6877, 6878, 7218, 7219, 7217, 7216, 1146, 1329,  526,\n",
      "        294,  460, 1203,  638,  236,  543,  378, 6038, 9289, 5776, 9563,\n",
      "       5658, 4100, 3635, 9654, 3633, 9289], dtype=int16), array([0, 0, 1, 1, 1, 1, 0, 0, 0, 0, 0, 0, 0, 0, 0, 0, 1, 0, 0, 0, 0, 0,\n",
      "       0, 0, 1, 0, 0, 0, 0, 0, 1, 1, 0, 1, 0, 1, 0, 0, 1, 1, 0, 0, 0, 1,\n",
      "       0, 0, 0, 0, 0, 0], dtype=int8), array([24., 30., 23., 22., 17., 17., 17., 27., 27., 27., 24., 24., 24.,\n",
      "       20., 20., 20., 16., 19.,  9.,  9., 13., 19., 12., 12., 12., 12.,\n",
      "       27., 27., 27., 27., 50.,  4., 18., 19., 14., 16., 16., 18., 20.,\n",
      "       16., 15., 16., 12., 13., 11., 38., 27., 16., 14.,  8.]), array([0, 0, 0, 1, 2, 2, 2, 3, 3, 3, 3, 3, 3, 3, 3, 3, 4, 4, 4, 4, 4, 4,\n",
      "       5, 5, 5, 5, 6, 6, 6, 6, 1, 1, 1, 1, 1, 1, 1, 1, 1, 1, 4, 4, 4, 4,\n",
      "       4, 4, 4, 4, 4, 4]))\n",
      "<class 'pandas.core.series.Series'>\n",
      "(array([ 7492,  7493,  7490,  7491,  7882,  7918,  7878, 10498,    32,\n",
      "        9153,  5623,  5671,  5671,  3853,  3878, 11341,  4935,  6422,\n",
      "        3635,  9802,  5581,  5051,  5242,  4402,  3731,  5038,  5836,\n",
      "        4414,  4604,  4992,  5378,  5616,  6437,  4464,  3965,  8461,\n",
      "        3350,  3348,  3349,  3177,  3178,  3179,  3262,  3261,  3263,\n",
      "        2908,  2907,  2909,  3160,  3159,  3161,  7387,  7389,  7388,\n",
      "        7386,  7390,  8079,  8080,  8083,  8082,  8081,  7712,  7709,\n",
      "        7713,  7710,  7711,  6673,  3742,  8501,  8468,  5250,  5596,\n",
      "        3776,  5673,  4190,  3928,  6453,  6155,  4244,  6688,  4094,\n",
      "        7263,  7261,  7264,  7260,  7262,  7753,  7752,  7750,  7749,\n",
      "        7751,  7219,  7218,  7216,  7217,  5173,  4123,  5708,  5615,\n",
      "        5980,  9259,  4078,  5718,  4424,  4003,  6091,  5270,  4064,\n",
      "        3974,  4454,  3852,  8076,  8075,  8077,  8074,  8078,  7149,\n",
      "        7146,  7145,  7148,  7147,  7687,  7685,  7688,  7686,  7684,\n",
      "        5427,  4421,  5243,  9315,  5563,  4002,  5660,  4240,  5975,\n",
      "        6107,  4117,  5262,  3727,  6312,  5362,  6942,  6943,  6944,\n",
      "        6940,  6941,  7772,  7770,  7773,  7771,  7774,  7405,  7402,\n",
      "        7403,  7404,  7401,  6867,  6868,  6865,  6866,  6915,  6912,\n",
      "        6913,  6914,  6895,  6893,  6894,  6892,  6855,  6856,  6853,\n",
      "        6854,  3773,  3645,  6435,  5181,  6180,  6430,  5213,  5979,\n",
      "        6469,  4537,  3988,  5158,  4467,  4040,  6367,  8017,  8016,\n",
      "        8015,  8014,  8018,  7265,  7267,  7266,  7268,  7269,  7426,\n",
      "        7427,  7430], dtype=int16), array([1, 1, 1, 1, 1, 1, 1, 1, 1, 1, 0, 0, 1, 0, 0, 1, 1, 0, 1, 1, 1, 1,\n",
      "       0, 0, 0, 0, 0, 0, 0, 1, 1, 0, 0, 1, 0, 1, 1, 1, 1, 1, 1, 1, 1, 1,\n",
      "       1, 1, 0, 1, 1, 1, 1, 1, 1, 1, 1, 1, 1, 1, 1, 1, 1, 1, 1, 1, 1, 1,\n",
      "       0, 1, 0, 1, 0, 0, 1, 0, 0, 0, 1, 0, 1, 0, 1, 0, 0, 0, 1, 0, 0, 0,\n",
      "       1, 1, 1, 0, 1, 1, 0, 0, 1, 0, 1, 0, 0, 0, 1, 0, 0, 1, 0, 0, 1, 1,\n",
      "       0, 1, 1, 1, 0, 1, 1, 1, 1, 1, 1, 0, 1, 0, 1, 1, 0, 0, 1, 0, 0, 0,\n",
      "       1, 0, 0, 0, 0, 0, 1, 1, 0, 1, 0, 0, 1, 1, 0, 0, 1, 1, 1, 1, 0, 0,\n",
      "       0, 1, 1, 1, 1, 1, 1, 1, 1, 1, 1, 1, 1, 0, 1, 1, 1, 0, 1, 1, 0, 1,\n",
      "       0, 1, 1, 0, 0, 0, 0, 0, 0, 0, 1, 1, 1, 1, 1, 1, 1, 1, 1, 1, 1, 0,\n",
      "       0, 1], dtype=int8), array([71., 71., 71., 71., 45., 20., 13., 21., 21., 19., 13., 43., 33.,\n",
      "       35., 11.,  9.,  9.,  6., 18., 19., 11., 13., 16., 17., 30., 14.,\n",
      "       18., 24., 12., 11., 34., 31., 29., 33., 39., 12., 34., 34., 34.,\n",
      "       40., 40., 40., 26., 26., 26., 17., 17., 17., 22., 22., 22., 23.,\n",
      "       23., 23., 23., 23., 53., 53., 53., 53., 53., 70., 70., 70., 70.,\n",
      "       70., 56., 15., 12., 21., 32., 20., 29., 23., 19., 31., 10., 33.,\n",
      "       40.,  7., 30., 23., 23., 23., 23., 23., 76., 76., 76., 76., 76.,\n",
      "       55., 55., 55., 55., 25., 12., 13., 34., 13., 13., 13., 40.,  9.,\n",
      "       15., 12., 24., 13., 20.,  8., 18., 12., 12., 12., 12., 12., 20.,\n",
      "       20., 20., 20., 20., 38., 38., 38., 38., 38., 29.,  6., 13., 11.,\n",
      "       16., 13., 39., 15., 26., 18., 19., 31., 35., 20., 32., 11., 11.,\n",
      "       11., 11., 11., 14., 14., 14., 14., 14., 59., 59., 59., 59., 59.,\n",
      "       57., 57., 57., 57., 51., 51., 51., 51., 20., 20., 20., 20., 35.,\n",
      "       35., 35., 35., 38.,  7.,  8., 12., 22., 12., 12.,  5.,  8., 32.,\n",
      "        8., 12.,  7., 14., 11.,  9.,  9.,  9.,  9.,  9., 50., 50., 50.,\n",
      "       50., 50., 49., 49., 49.]), array([6, 6, 6, 6, 0, 0, 0, 0, 0, 4, 4, 4, 4, 4, 4, 4, 4, 4, 4, 4, 4, 4,\n",
      "       4, 4, 4, 4, 4, 4, 4, 4, 4, 4, 4, 4, 4, 4, 3, 3, 3, 3, 3, 3, 3, 3,\n",
      "       3, 3, 3, 3, 3, 3, 3, 6, 6, 6, 6, 6, 6, 6, 6, 6, 6, 6, 6, 6, 6, 6,\n",
      "       4, 4, 4, 4, 4, 4, 4, 4, 4, 4, 4, 4, 4, 4, 4, 6, 6, 6, 6, 6, 6, 6,\n",
      "       6, 6, 6, 6, 6, 6, 6, 4, 4, 4, 4, 4, 4, 4, 4, 4, 4, 4, 4, 4, 4, 4,\n",
      "       4, 6, 6, 6, 6, 6, 6, 6, 6, 6, 6, 6, 6, 6, 6, 6, 4, 4, 4, 4, 4, 4,\n",
      "       4, 4, 4, 4, 4, 4, 4, 4, 4, 6, 6, 6, 6, 6, 6, 6, 6, 6, 6, 6, 6, 6,\n",
      "       6, 6, 5, 5, 5, 5, 5, 5, 5, 5, 5, 5, 5, 5, 5, 5, 5, 5, 4, 4, 4, 4,\n",
      "       4, 4, 4, 4, 4, 4, 4, 4, 4, 4, 4, 6, 6, 6, 6, 6, 6, 6, 6, 6, 6, 6,\n",
      "       6, 6]))\n",
      "<class 'pandas.core.series.Series'>\n",
      "(array([ 4060,  3840,   189,  6143,  3964,  6318,  4046,  4937,  5358,\n",
      "        6327,  5338,  1249,  1238,  1103, 10688,   695,  6698,  6699,\n",
      "        6700,  6697,  6759,  6757,  6758,  6760,  6866,  6867,  6868,\n",
      "        6865, 10744, 10745, 10746, 10743,  6770,  6771,  6769,  6772,\n",
      "        6769,  6771,  6770,  6772,  6875,  6874,  6876,  6873,  6767,\n",
      "        6768,  6765,  6766, 10054, 10057, 10056, 10055,  6580,  6579,\n",
      "        6577,  6578,  6577,  6579,  6578,  6580,  6751,  6750,  6752,\n",
      "        6749,  4123,  5265,  8216,  8388,  3731,  4130,  5378,  8573,\n",
      "        5434,  8473,  9330, 11335,  4454,  4844,  4437, 11529,  5496,\n",
      "        6324,  5713,  8678,  4074,  5624,  4470,  9584,  5247,  6005,\n",
      "        6034,  9849,  5614,  5199,  3693,  8906,  4504,  6324,  4504,\n",
      "        4766,  4411,  8966,  9259,  4995], dtype=int16), array([1, 0, 1, 0, 0, 1, 1, 1, 0, 0, 1, 1, 0, 1, 1, 0, 0, 1, 1, 0, 1, 1,\n",
      "       0, 1, 0, 1, 0, 0, 0, 0, 1, 0, 0, 0, 1, 0, 1, 0, 0, 0, 1, 0, 0, 1,\n",
      "       0, 1, 1, 1, 1, 1, 1, 0, 0, 1, 0, 0, 1, 1, 0, 0, 1, 0, 0, 1, 0, 0,\n",
      "       0, 1, 0, 0, 1, 1, 0, 0, 1, 1, 0, 1, 1, 1, 1, 0, 0, 1, 0, 0, 1, 0,\n",
      "       0, 1, 0, 1, 1, 0, 1, 0, 0, 0, 1, 0, 1, 0, 0, 0], dtype=int8), array([24., 23., 21., 26., 34., 19., 25., 39., 16., 21., 37., 21., 32.,\n",
      "       24., 19., 21., 24., 24., 24., 24., 48., 48., 48., 48., 45., 45.,\n",
      "       45., 45., 28., 28., 28., 28., 31., 31., 31., 31., 33., 33., 33.,\n",
      "       33., 20., 20., 20., 20., 19., 19., 19., 19., 52., 52., 52., 52.,\n",
      "       32., 32., 32., 32., 46., 46., 46., 46., 25., 25., 25., 25., 41.,\n",
      "       15., 21., 91., 33., 30., 52., 18., 56., 37., 38., 38., 21., 25.,\n",
      "       41., 42., 56., 26., 64., 36., 22., 45., 51., 23., 20.,  6., 49.,\n",
      "       77., 60., 72., 54., 59., 90., 49., 22., 18., 23., 88., 57., 58.]), array([4, 4, 0, 4, 4, 4, 4, 4, 4, 4, 4, 1, 1, 1, 1, 1, 5, 5, 5, 5, 5, 5,\n",
      "       5, 5, 5, 5, 5, 5, 5, 5, 5, 5, 5, 5, 5, 5, 5, 5, 5, 5, 5, 5, 5, 5,\n",
      "       5, 5, 5, 5, 5, 5, 5, 5, 5, 5, 5, 5, 5, 5, 5, 5, 5, 5, 5, 5, 4, 4,\n",
      "       4, 4, 4, 4, 4, 4, 4, 4, 4, 4, 4, 4, 4, 4, 4, 4, 4, 4, 4, 4, 4, 4,\n",
      "       4, 4, 4, 4, 4, 4, 4, 4, 4, 4, 4, 4, 4, 4, 4, 4]))\n",
      "<class 'pandas.core.series.Series'>\n",
      "(array([  905,  1364,   772,  6138,  4418,  5175,  5546,  4985,  6130,\n",
      "        6004,  5595,  5697,  4966,  3613,  3628,  8488,  5348,  4486,\n",
      "        3868,  5628,  6252,  6151,  5624,  4212,  5349,  3717,  4433,\n",
      "        5192,  6180,  5197,  5717,  6318,  4025,  6583,  6584,  6581,\n",
      "        6582,  6874,  6873,  6875,  6876,  6891,  6890,  6889,  6844,\n",
      "        6843,  6841,  6842,  4059,  3780,  4540,  5573,  6138,  5175,\n",
      "        5546,  4985,  6130,  6004,  5595,  5697,  5350,  4021,  5026,\n",
      "        6292,  3869,  6104,  6427,  6259,  5588,  5704,  3715,  4492,\n",
      "        4779,  3731,  4406,  7935,  7867,  7942,  7951,   134,  7908,\n",
      "        4966,  3613,  3628,  8488,  5348,  4486,  3868,  5628,  6252,\n",
      "        6151,  5624,  5349,  7927,  7948,    93, 10657,   111,    68,\n",
      "        7945, 10548,  7886,   160,  7912, 10397,  7854,     7,  7879,\n",
      "       10384,  7887,    66,    67, 10451,  6815,  6816,  6813,  6814,\n",
      "        6913,  6912,  6914,  6915,  6630,  6632,  6629,  6631,  6592,\n",
      "        6591,  6590,  6589,  2041,  2039,  2040,  1674,  1673,  1675,\n",
      "        1604,  1605,  1606,  1542,  1543,  1541,  2164,  2162,  2163,\n",
      "        2956,  2955,  2957,  3000,  3002,  3001,  3422,  3420,  3421,\n",
      "        3496,  3497,  3495,  3208,  3207,  3209,  6871,  6870,  6872,\n",
      "        6869,  6922,  6921,  6923,  6920, 10079, 10078, 10080, 10081,\n",
      "        6784,  6782,  6783,  6781,  4771,  5351,  8454,  5971,  6119,\n",
      "        4737,  5310,  4818,  4496,  4501,  6117,  3657,  3758,  4992,\n",
      "        3632,  7745,  7744,  7748,  7746,  7747,  7417,  7419,  7420,\n",
      "        7418,  7416], dtype=int16), array([1, 1, 0, 0, 1, 0, 0, 0, 0, 0, 0, 0, 0, 0, 0, 0, 0, 0, 0, 0, 0, 0,\n",
      "       0, 1, 0, 0, 1, 0, 0, 0, 1, 1, 0, 1, 0, 0, 1, 1, 0, 0, 0, 0, 0, 1,\n",
      "       0, 1, 0, 1, 0, 1, 0, 1, 0, 0, 1, 1, 1, 0, 0, 0, 0, 0, 1, 1, 1, 0,\n",
      "       0, 1, 1, 1, 0, 0, 0, 0, 0, 1, 0, 0, 1, 1, 1, 0, 1, 1, 0, 0, 0, 1,\n",
      "       0, 0, 0, 0, 0, 1, 1, 1, 0, 1, 1, 1, 1, 1, 1, 1, 1, 1, 1, 1, 1, 1,\n",
      "       1, 1, 1, 0, 0, 1, 0, 0, 1, 0, 0, 0, 0, 1, 0, 1, 1, 0, 0, 1, 0, 1,\n",
      "       1, 1, 0, 1, 0, 1, 0, 0, 1, 0, 1, 1, 1, 0, 0, 0, 0, 0, 1, 1, 1, 0,\n",
      "       1, 1, 0, 0, 1, 0, 0, 1, 0, 0, 0, 0, 0, 0, 1, 1, 0, 0, 1, 1, 1, 0,\n",
      "       0, 1, 0, 1, 0, 0, 0, 0, 0, 0, 1, 0, 0, 0, 0, 0, 0, 1, 0, 0, 0, 0,\n",
      "       0, 1], dtype=int8), array([ 16.,  15.,  15.,  21.,  61.,  17.,  15.,  19.,   8.,  13.,   6.,\n",
      "         8.,  11.,   9.,   8.,   7.,   8.,   7.,   5.,  54.,  33.,  31.,\n",
      "        34.,  22.,  22.,  46.,  29.,  13., 218.,  24.,  14.,  19.,  94.,\n",
      "        28.,  28.,  28.,  28.,  31.,  31.,  31.,  31.,  34.,  34.,  34.,\n",
      "        25.,  25.,  25.,  25.,  31.,  70.,  16.,  16.,  18.,  17.,  28.,\n",
      "        29.,  23.,  12.,  36.,   9.,   5.,  31.,  14.,  22.,  18.,  14.,\n",
      "        45.,  21.,  33.,  25.,  17.,  12.,  30.,   9.,  24.,  20.,  27.,\n",
      "        20.,  20.,  19.,  26.,  18.,  14.,  16.,  14.,  22.,  37.,  25.,\n",
      "        20.,  49.,  38.,  12.,  11.,   3.,  20.,  12.,  19.,  19.,  19.,\n",
      "        22.,  20.,  13.,  23.,  20.,  18.,  21.,  20.,  20.,  22.,  17.,\n",
      "        18.,  19.,  12.,  12.,  12.,  12.,  12.,  34.,  34.,  34.,  34.,\n",
      "        36.,  36.,  36.,  36.,  29.,  29.,  29.,  29.,  40.,  40.,  40.,\n",
      "        52.,  52.,  52.,  35.,  35.,  35.,  39.,  39.,  39.,  39.,  39.,\n",
      "        39.,  28.,  28.,  28.,  31.,  31.,  31.,  36.,  36.,  36.,  26.,\n",
      "        26.,  26.,  29.,  29.,  29.,  48.,  48.,  48.,  48.,  34.,  34.,\n",
      "        34.,  34.,  31.,  31.,  31.,  31., 110., 110., 110., 110.,  59.,\n",
      "         7.,  12.,  36.,  15.,   9.,  14.,  24.,   8.,  22.,  11.,  11.,\n",
      "         2.,  18.,  16.,   7.,   7.,   7.,   7.,   7.,  37.,  37.,  37.,\n",
      "        37.,  37.]), array([1, 1, 1, 4, 4, 4, 4, 4, 4, 4, 4, 4, 4, 4, 4, 4, 4, 4, 4, 4, 4, 4,\n",
      "       4, 4, 4, 4, 4, 4, 4, 4, 4, 4, 4, 5, 5, 5, 5, 5, 5, 5, 5, 5, 5, 5,\n",
      "       5, 5, 5, 5, 4, 4, 4, 4, 4, 4, 4, 4, 4, 4, 4, 4, 4, 4, 4, 4, 4, 4,\n",
      "       4, 4, 4, 4, 4, 4, 4, 4, 4, 0, 0, 0, 0, 0, 0, 4, 4, 4, 4, 4, 4, 4,\n",
      "       4, 4, 4, 4, 4, 0, 0, 0, 0, 0, 0, 0, 0, 0, 0, 0, 0, 0, 0, 0, 0, 0,\n",
      "       0, 0, 0, 5, 5, 5, 5, 5, 5, 5, 5, 5, 5, 5, 5, 5, 5, 5, 5, 2, 2, 2,\n",
      "       2, 2, 2, 2, 2, 2, 2, 2, 2, 2, 2, 2, 3, 3, 3, 3, 3, 3, 3, 3, 3, 3,\n",
      "       3, 3, 3, 3, 3, 5, 5, 5, 5, 5, 5, 5, 5, 5, 5, 5, 5, 5, 5, 5, 5, 4,\n",
      "       4, 4, 4, 4, 4, 4, 4, 4, 4, 4, 4, 4, 4, 4, 6, 6, 6, 6, 6, 6, 6, 6,\n",
      "       6, 6]))\n",
      "<class 'pandas.core.series.Series'>\n",
      "(array([ 6351,  5354,  4067,  3827,  3968,    98,  5581,  5695,  1129,\n",
      "        1357,   763,   294,   639,   524,  1365, 10684,  1258,  1261,\n",
      "        3871,  4221,  5717,  9742,  4496,  6258,  6002,  9005,  6133,\n",
      "        5834,  4241,  9249,  5672,  5620,  4142,  9560,  4667,  4768,\n",
      "        5240,  8619,  4568,  4467,  5620,  4467,  4781,  8013,  6032,\n",
      "        4771,  4501, 11338,  4140,  4982,  5410,  9387,  5339,  4463,\n",
      "        4427], dtype=int16), array([0, 1, 1, 1, 0, 0, 1, 0, 1, 1, 1, 0, 1, 0, 1, 1, 0, 0, 0, 0, 1, 0,\n",
      "       1, 0, 1, 1, 0, 0, 1, 0, 0, 0, 1, 1, 1, 1, 1, 1, 1, 0, 1, 1, 1, 1,\n",
      "       1, 0, 0, 1, 1, 0, 1, 1, 0, 1, 0], dtype=int8), array([24., 46., 21., 17., 15., 16., 24., 24., 21., 20., 19., 14., 17.,\n",
      "       19., 22., 20., 23., 24., 17., 26., 21.,  9., 48., 28., 49., 26.,\n",
      "       19., 26., 46., 30., 29., 41., 29., 17., 21., 37., 19., 33., 27.,\n",
      "       16., 31., 18.,  7., 34., 40., 24., 69., 20., 25., 40., 27., 29.,\n",
      "       21., 30., 27.]), array([4, 4, 4, 4, 4, 0, 4, 4, 1, 1, 1, 1, 1, 1, 1, 1, 1, 1, 4, 4, 4, 4,\n",
      "       4, 4, 4, 4, 4, 4, 4, 4, 4, 4, 4, 4, 4, 4, 4, 4, 4, 4, 4, 4, 4, 4,\n",
      "       4, 4, 4, 4, 4, 4, 4, 4, 4, 4, 4]))\n",
      "<class 'pandas.core.series.Series'>\n",
      "(array([ 3911,   230,  7870,  5580,  6681,  5200,  4088,  6186,   446,\n",
      "        1363,  1109, 10684,   951,   249,   617, 10687,  1154,   405,\n",
      "        4421,  6099,  4476,  9815,  4130,  5273,  4969,  9948,  5717,\n",
      "        6265,    65,     2,  7970, 10523,   124,   124,  7970,  7891,\n",
      "        7964, 10644,   120,  7898,   536,   844,   767, 10688,   877,\n",
      "        1372,  1272,   294,   786,   498,  5668,  3717,  4305, 11390,\n",
      "        6173,  3635,  4946,  8943,  3998,  3639,  5861,  9677,  4123,\n",
      "        4414,  4589,  9194,  5713,  5582,  6116,  9079,  5437,  3878,\n",
      "        5257, 11309,  5243,  4118,  4412,  9863,  5017,  3943,  6069,\n",
      "        9091,  4821,  6184,  6049,   442, 10686,   939,   744,   352,\n",
      "       10685,  1014,  1261,   572,  1170,  8834,  5616,  3932,  5705,\n",
      "       11458,  6760,  6757,  6759,  6758,  6906,  6904,  6905,  6907,\n",
      "        4108,  3731,  6660,  9227,  4539,  5173,  5585,  8506,  6281,\n",
      "        6678,   454,  1158,   550,   236,  1007,   326,   766,   615,\n",
      "         585,   628,  4141,  8940,  5350,  5472,  3697,  9584,  4676,\n",
      "        6167,  3855,  8301,  3998,  1261,  5580,  6681,  5200,  4088,\n",
      "        6099,  4130,  5273,  9259,  4995,  4418,  4128,  6067,  4120,\n",
      "        6381,  6033,  6120,  5399,  5360,  4519,  5664,  6668,  3854,\n",
      "        6091,  5267,  4065,  6441,  3903,  6318,  4818,  6256,  5703,\n",
      "        6430], dtype=int16), array([1, 1, 1, 0, 0, 0, 0, 1, 1, 1, 1, 1, 0, 1, 0, 1, 1, 0, 1, 0, 1, 1,\n",
      "       0, 0, 1, 0, 1, 1, 1, 0, 0, 1, 1, 0, 1, 1, 1, 1, 1, 0, 0, 1, 0, 1,\n",
      "       0, 1, 1, 1, 0, 1, 1, 1, 1, 1, 0, 0, 0, 1, 0, 1, 0, 1, 1, 1, 1, 1,\n",
      "       1, 1, 0, 1, 1, 0, 1, 1, 0, 1, 1, 1, 0, 1, 1, 1, 1, 0, 0, 1, 0, 0,\n",
      "       1, 0, 1, 1, 1, 1, 1, 0, 0, 0, 0, 0, 0, 1, 1, 1, 1, 0, 0, 0, 1, 1,\n",
      "       0, 0, 0, 0, 1, 1, 0, 1, 1, 0, 1, 1, 0, 1, 0, 1, 1, 1, 1, 1, 0, 1,\n",
      "       1, 1, 1, 1, 1, 0, 1, 0, 1, 1, 1, 0, 0, 1, 0, 0, 1, 0, 0, 1, 0, 0,\n",
      "       1, 0, 0, 0, 1, 1, 1, 0, 0, 1, 1, 1, 1, 1, 0, 0, 0, 1], dtype=int8), array([24., 16., 16., 21., 14., 24., 18., 10., 30., 25., 16., 17., 21.,\n",
      "       14., 15., 15., 16., 15., 18.,  8., 14.,  9., 14., 34.,  8., 11.,\n",
      "       11.,  5.,  6., 24., 21., 20., 23., 13., 26., 19., 21., 27., 24.,\n",
      "       22., 25., 18., 18., 15., 18., 16., 19., 16., 14., 15., 16., 50.,\n",
      "       10., 16., 33., 18., 24., 15., 17., 14.,  9., 15., 15., 21.,  8.,\n",
      "       15., 10., 12.,  7., 18., 10., 11., 16., 37., 17., 15.,  4., 25.,\n",
      "       14., 63., 18., 22., 19., 17., 25., 16., 16., 19., 17., 15., 19.,\n",
      "       17., 10., 16., 18., 17., 18., 10., 27., 26., 21., 21., 21., 21.,\n",
      "       27., 27., 27., 27., 22.,  8.,  8., 16., 19., 26., 20., 44.,  9.,\n",
      "       34., 20., 14., 17., 18., 19., 19., 16., 15., 15., 15., 18., 12.,\n",
      "        9., 24.,  9.,  8., 13., 14., 22., 24., 10., 17., 16., 12., 16.,\n",
      "        6., 12., 14.,  8., 16., 35., 19., 24., 30., 32., 11., 27., 15.,\n",
      "       18., 19., 18., 23., 22., 12., 19., 29., 24., 27., 44., 11., 32.,\n",
      "        8., 26., 15.]), array([4, 1, 0, 4, 4, 4, 4, 4, 1, 1, 1, 1, 1, 1, 1, 1, 1, 1, 4, 4, 4, 4,\n",
      "       4, 4, 4, 4, 4, 4, 0, 0, 0, 0, 0, 0, 0, 0, 0, 0, 0, 0, 1, 1, 1, 1,\n",
      "       1, 1, 1, 1, 1, 1, 4, 4, 4, 4, 4, 4, 4, 4, 4, 4, 4, 4, 4, 4, 4, 4,\n",
      "       4, 4, 4, 4, 4, 4, 4, 4, 4, 4, 4, 4, 4, 4, 4, 4, 4, 4, 4, 1, 1, 1,\n",
      "       1, 1, 1, 1, 1, 1, 1, 4, 4, 4, 4, 4, 5, 5, 5, 5, 5, 5, 5, 5, 4, 4,\n",
      "       4, 4, 4, 4, 4, 4, 4, 4, 1, 1, 1, 1, 1, 1, 1, 1, 1, 1, 4, 4, 4, 4,\n",
      "       4, 4, 4, 4, 4, 4, 4, 1, 4, 4, 4, 4, 4, 4, 4, 4, 4, 4, 4, 4, 4, 4,\n",
      "       4, 4, 4, 4, 4, 4, 4, 4, 4, 4, 4, 4, 4, 4, 4, 4, 4, 4]))\n",
      "<class 'pandas.core.series.Series'>\n",
      "(array([ 3611,  5399,   376,  6096,  5481,  6186,  5355,  5968,  4756,\n",
      "        3644,  5609,  4773,  9620,  6335,  6012,  8481,  8416,  6668,\n",
      "        3702,  1005,   295,   942, 10684,   474,  1330,   725, 10686,\n",
      "         919,   919,   295,   988,  6394,  9219,  4411,  5671,  4123,\n",
      "        9986,  4228,  4019,  5104,  9254,  4256,  6122,  5692,  9672,\n",
      "        5272,  4490,  4408,  8721,  5709,  4085,  1336, 10687,  1192,\n",
      "        1034,   496,   294,   305,   951,   901, 10685,  3974,  4260,\n",
      "        4237,  8994,  6006,  4502,  4702,  8566,  4431,  5280,  5961,\n",
      "        9095,  6164,  5177,  4724,  9831,  3878,  5329,  5847,  8959,\n",
      "        5262,  4340], dtype=int16), array([0, 0, 0, 0, 1, 0, 0, 1, 1, 0, 1, 1, 1, 1, 1, 1, 1, 1, 1, 1, 0, 1,\n",
      "       1, 1, 1, 1, 0, 0, 0, 1, 1, 1, 0, 0, 0, 1, 1, 1, 0, 1, 1, 1, 1, 1,\n",
      "       1, 0, 1, 1, 1, 0, 1, 0, 1, 1, 1, 0, 1, 1, 1, 1, 1, 1, 1, 1, 1, 1,\n",
      "       1, 0, 1, 1, 1, 1, 1, 0, 0, 1, 0, 0, 1, 1, 1, 0, 1], dtype=int8), array([24., 33., 13., 22., 22., 12., 19., 13., 21., 22., 10.,  6.,  7.,\n",
      "       26., 13., 20., 18., 29.,  5., 19., 15., 17., 18., 22., 20., 18.,\n",
      "       18., 20., 19., 17., 16.,  8., 10., 14., 33., 25.,  6., 28., 20.,\n",
      "       35., 25.,  9.,  9., 19., 16., 29., 32., 16.,  7., 32., 32.,  9.,\n",
      "       16., 10., 17., 12., 18., 16., 15., 16., 12., 18., 35., 14., 20.,\n",
      "       22., 62.,  9., 12., 11., 22., 21., 14., 51., 49., 23., 16., 18.,\n",
      "        6., 18.,  7., 30., 28.]), array([4, 4, 1, 4, 4, 4, 4, 4, 4, 4, 4, 4, 4, 4, 4, 4, 4, 4, 4, 1, 1, 1,\n",
      "       1, 1, 1, 1, 1, 1, 1, 1, 1, 4, 4, 4, 4, 4, 4, 4, 4, 4, 4, 4, 4, 4,\n",
      "       4, 4, 4, 4, 4, 4, 4, 1, 1, 1, 1, 1, 1, 1, 1, 1, 1, 4, 4, 4, 4, 4,\n",
      "       4, 4, 4, 4, 4, 4, 4, 4, 4, 4, 4, 4, 4, 4, 4, 4, 4]))\n",
      "<class 'pandas.core.series.Series'>\n",
      "(array([ 6845, 10327, 10326, 10325, 10324,  6612,  6611,  6609,  6610,\n",
      "        7889,  7922,  7954, 10581,   112,   142,   184, 10509,     5,\n",
      "          72,    52, 10617,  7883,  7879,  7865, 10637,   160,   126,\n",
      "        7942, 10539,    59,   187,    31, 10658,  7916,   176,  7884,\n",
      "        6817,  6818,  6820,  6819,  6771,  6770,  6769,  6772,   889,\n",
      "         345,  1274, 10686,  1399,  1299,   538, 10684,   750,   656,\n",
      "        1351, 10687,   877,  1337,   316, 10688,  1025,   389,  1110,\n",
      "         294,   429,   420,   438, 10685,  1272,   398,   725,   461,\n",
      "        1320,   995,   951,  1080,   262,   266,  1395,   769,   217,\n",
      "         948,  1224,   289,  1010,   660,   620,  1301,   332,   424,\n",
      "         380,   288, 10632,   174,  7927,    22, 10411,   165,   139,\n",
      "        7899, 10388,   135,    77,   123, 10544,   120,    37,   148,\n",
      "       10514,   131,   185,  7864, 10610,  7924,  7898,     0, 10465,\n",
      "        7939,  7851,     6, 10462,  7915,    76,  2129,  2130,  2131,\n",
      "        2550,  2548,  2549,  1849,  1848,  1847,  1852,  1851,  1850,\n",
      "        1525,  1524,  1523,  9881,  3720,  5624,  4467,  9101,  5262,\n",
      "        6376,  4720,  9073,  4996,  5190,  7980, 10557,  7936,    45,\n",
      "         130, 10502,     8,    83,    84, 10589,    18,     2,   163,\n",
      "       10614,   141,    95,    85, 10667,    32,   191,    89, 10618,\n",
      "         110,     9,  7859, 10601,   144,  7920,    64, 10621,  7871,\n",
      "        7972,  7903, 10575,  5164,  8567,  5691,  3609,  9259,  3916,\n",
      "        4976,  6154,  5400,  5400,  5367,  8696,  4434,  4434,  5691,\n",
      "        6318,  5760], dtype=int16), array([1, 1, 1, 0, 1, 1, 0, 0, 1, 1, 1, 1, 1, 0, 1, 1, 1, 1, 1, 0, 1, 1,\n",
      "       1, 1, 1, 1, 1, 0, 1, 1, 1, 1, 1, 1, 1, 1, 1, 1, 1, 1, 1, 1, 1, 0,\n",
      "       1, 1, 1, 1, 1, 1, 1, 1, 1, 0, 1, 1, 1, 0, 1, 1, 0, 1, 1, 1, 1, 1,\n",
      "       1, 1, 1, 1, 1, 0, 1, 1, 1, 1, 1, 1, 1, 1, 1, 0, 1, 1, 1, 0, 0, 0,\n",
      "       1, 1, 1, 1, 1, 1, 1, 1, 0, 0, 1, 1, 1, 1, 1, 1, 1, 1, 0, 0, 1, 1,\n",
      "       0, 1, 1, 1, 1, 1, 1, 1, 1, 0, 1, 1, 1, 1, 0, 1, 1, 1, 1, 0, 1, 1,\n",
      "       1, 1, 1, 0, 1, 1, 1, 1, 1, 1, 1, 0, 1, 1, 1, 0, 1, 0, 1, 1, 1, 1,\n",
      "       1, 1, 0, 1, 1, 1, 1, 1, 1, 1, 1, 1, 1, 1, 1, 1, 1, 1, 0, 0, 0, 1,\n",
      "       0, 1, 1, 1, 1, 0, 1, 1, 1, 0, 1, 1, 0, 0, 1, 0, 1, 1, 0, 0, 1, 1,\n",
      "       0, 1], dtype=int8), array([38., 31., 31., 31., 31., 26., 26., 26., 26., 29., 20., 26., 19.,\n",
      "       27., 21., 21., 10., 21., 22., 27., 22., 20., 22., 23., 19., 19.,\n",
      "       19., 20., 20.,  9., 19., 18., 22., 23., 19., 21., 20., 20., 20.,\n",
      "       20., 34., 34., 34., 34., 52., 15., 14., 16., 21., 16., 15., 15.,\n",
      "       21., 16., 26.,  7., 15., 20., 17., 15., 20., 21., 17., 15., 15.,\n",
      "       20., 16., 17., 18., 17., 14., 16., 16.,  9., 16., 14., 17., 15.,\n",
      "       15., 15., 16., 17., 19., 17., 14., 16., 17., 19., 20., 21., 18.,\n",
      "       17., 13., 14., 12., 24., 21., 24., 22., 21., 21., 19., 16., 24.,\n",
      "       22., 19., 22., 20., 24., 27., 18., 25., 12., 19., 22., 21., 18.,\n",
      "       22., 19., 16., 23., 21., 27., 23., 23., 23., 29., 29., 29., 28.,\n",
      "       28., 28., 24., 24., 24., 31., 31., 31., 34., 11., 16., 62., 32.,\n",
      "       17., 41., 12., 32., 29., 20., 16., 21., 19., 23., 24., 26., 20.,\n",
      "       22., 23., 23., 26., 20., 25., 22., 22., 20., 20., 22., 22., 22.,\n",
      "       21., 24., 20., 28., 22., 24., 22., 26., 22., 23., 18., 19., 21.,\n",
      "       19., 23., 23., 21., 29., 34., 41., 31., 44., 28., 16.,  4.,  9.,\n",
      "       28., 33.,  5.,  7., 23.]), array([5, 5, 5, 5, 5, 5, 5, 5, 5, 0, 0, 0, 0, 0, 0, 0, 0, 0, 0, 0, 0, 0,\n",
      "       0, 0, 0, 0, 0, 0, 0, 0, 0, 0, 0, 0, 0, 0, 5, 5, 5, 5, 5, 5, 5, 5,\n",
      "       1, 1, 1, 1, 1, 1, 1, 1, 1, 1, 1, 1, 1, 1, 1, 1, 1, 1, 1, 1, 1, 1,\n",
      "       1, 1, 1, 1, 1, 1, 1, 1, 1, 1, 1, 1, 1, 1, 1, 1, 1, 1, 1, 1, 1, 1,\n",
      "       1, 1, 1, 1, 0, 0, 0, 0, 0, 0, 0, 0, 0, 0, 0, 0, 0, 0, 0, 0, 0, 0,\n",
      "       0, 0, 0, 0, 0, 0, 0, 0, 0, 0, 0, 0, 0, 2, 2, 2, 2, 2, 2, 2, 2, 2,\n",
      "       2, 2, 2, 2, 2, 2, 4, 4, 4, 4, 4, 4, 4, 4, 4, 4, 4, 0, 0, 0, 0, 0,\n",
      "       0, 0, 0, 0, 0, 0, 0, 0, 0, 0, 0, 0, 0, 0, 0, 0, 0, 0, 0, 0, 0, 0,\n",
      "       0, 0, 0, 0, 0, 0, 0, 4, 4, 4, 4, 4, 4, 4, 4, 4, 4, 4, 4, 4, 4, 4,\n",
      "       4, 4]))\n",
      "<class 'pandas.core.series.Series'>\n",
      "(array([ 4978,  3634,  7956,  5355,  4546,  4073,  5212,  4037,  4039,\n",
      "        6318,  6422,  9846,  5604,  5657,   539,   735,  1139,   294,\n",
      "         541,  1161,   851, 10685], dtype=int16), array([0, 0, 1, 0, 1, 0, 0, 1, 1, 0, 0, 0, 0, 0, 1, 0, 1, 1, 1, 0, 1, 1],\n",
      "      dtype=int8), array([24., 28., 23., 21., 19., 23., 31., 12., 31., 89., 68., 64., 34.,\n",
      "       47., 21., 27., 20., 21., 18., 17., 19., 21.]), array([4, 4, 0, 4, 4, 4, 4, 4, 4, 4, 4, 4, 4, 4, 1, 1, 1, 1, 1, 1, 1, 1]))\n",
      "<class 'pandas.core.series.Series'>\n",
      "(array([6391,  592, 5199, 5350, 4005, 5414, 4094, 5227, 9728], dtype=int16), array([0, 1, 1, 1, 1, 0, 0, 0, 0], dtype=int8), array([24., 27., 22., 38., 41., 22., 30., 34., 35.]), array([4, 1, 4, 4, 4, 4, 4, 4, 4]))\n",
      "<class 'pandas.core.series.Series'>\n",
      "(array([ 4098,  6299,  4067,  4931,  8225,    98,  6188,    64,     9,\n",
      "        7981, 10532,   110,    55,  7901, 10518,   189,    14,   249,\n",
      "        1124,   249,  5049,  4501,  5529, 11512,  9260,  6095,  3781,\n",
      "        9931,  4304,  4842,  5347,  9458,  4979,  3746,  5334,  9764,\n",
      "        4258,  3852,  3944, 11533,  4256,  4501,  4366,  7876,   359,\n",
      "        6578,  6577,  6579,  6580,  3928,  9584,  6455,  1632,  1633,\n",
      "        1631,  2713,  2715,  2714,  6324,  5178,  8892,  5961,  5262,\n",
      "        5671, 10576,  6759,  6757,  6758,  6760, 11297,  5460,  4129,\n",
      "         153,  7892,   173, 10550, 10687,   429,  7073,  7074,  7075,\n",
      "        7076,  6914,  6912,  6913,  6915,  5177,  7910,  8527,  3644,\n",
      "        5266,  4589, 11203,  5385,   149,  6002,  7047,  7045,  7049,\n",
      "        7046,  7048,  4918,  8670,    58,  5892,  1192,  5003,  4310,\n",
      "        8644,  4463,  3862,  6005,  6226,  5829,  4494,  5153, 10471,\n",
      "         134,   297, 10685,  1252,  1344,   934,   294,   984,  1096,\n",
      "        1037, 10688,   290,   721,  9834,  5581,  3688,  4995,  8446,\n",
      "        9323,  4109,  6422,  9844,  4466,  4466,  5178,  6438,  4476,\n",
      "        9103,  5713,  6354,  3717, 11187,  3855,  7492,  7490,  7489,\n",
      "        7491,  7493,  4204,  4454,  6152,  9335,  5701,  4212,  3880,\n",
      "        5582,  5358,  4542,  6031,  8182,  8757], dtype=int16), array([0, 1, 1, 0, 1, 1, 1, 1, 1, 1, 0, 1, 0, 1, 0, 1, 0, 0, 0, 1, 0, 0,\n",
      "       0, 0, 1, 1, 0, 0, 1, 1, 0, 0, 0, 1, 0, 0, 0, 0, 0, 0, 0, 1, 0, 0,\n",
      "       1, 0, 0, 0, 1, 0, 0, 0, 0, 0, 0, 1, 0, 0, 0, 0, 0, 0, 0, 0, 0, 0,\n",
      "       0, 1, 0, 0, 0, 0, 1, 1, 1, 0, 0, 1, 1, 0, 1, 0, 0, 1, 1, 0, 1, 0,\n",
      "       1, 0, 0, 0, 0, 1, 1, 0, 0, 0, 0, 0, 0, 0, 0, 0, 0, 1, 1, 0, 0, 0,\n",
      "       0, 0, 0, 0, 1, 0, 1, 0, 0, 0, 0, 0, 1, 1, 0, 0, 0, 1, 0, 0, 1, 0,\n",
      "       0, 0, 0, 0, 1, 0, 0, 0, 1, 0, 0, 0, 1, 0, 0, 0, 0, 0, 1, 1, 1, 1,\n",
      "       0, 1, 0, 1, 0, 0, 0, 0, 0, 0, 1, 0, 1, 0], dtype=int8), array([24., 26., 42., 68., 28., 32., 28., 55., 22., 24., 33., 46., 30.,\n",
      "       21., 23., 21., 28., 23., 22., 20., 19., 12., 34., 16., 10., 29.,\n",
      "       17., 32., 23., 38., 54., 17., 28., 16., 23., 32., 38., 24., 33.,\n",
      "       32., 22., 25., 19., 17., 27., 16., 16., 16., 16., 46., 42., 45.,\n",
      "       41., 41., 41., 26., 26., 26., 33., 12., 30., 29., 19., 43., 34.,\n",
      "       24., 24., 24., 24., 28., 31.,  6., 35., 25., 25., 26., 41., 19.,\n",
      "       20., 20., 20., 20., 21., 21., 21., 21., 19., 29., 22.,  7., 11.,\n",
      "       24., 17., 20., 10., 61., 13., 13., 13., 13., 13., 40., 11., 24.,\n",
      "       26., 14., 18., 14., 32., 39., 27., 41., 24., 26., 45., 27., 23.,\n",
      "       21., 25., 15., 18., 16., 17., 16., 15., 25., 18., 14., 21., 15.,\n",
      "       17., 20., 20., 38.,  9., 41., 27., 25., 47., 14., 49., 16., 33.,\n",
      "       40., 21., 29., 25., 20., 21., 23., 33., 33., 33., 33., 33., 67.,\n",
      "       30.,  7., 34., 20., 31., 54., 42., 46., 16., 67., 52., 32.]), array([4, 4, 4, 4, 4, 0, 4, 0, 0, 0, 0, 0, 0, 0, 0, 0, 0, 1, 1, 1, 4, 4,\n",
      "       4, 4, 4, 4, 4, 4, 4, 4, 4, 4, 4, 4, 4, 4, 4, 4, 4, 4, 4, 4, 4, 0,\n",
      "       1, 5, 5, 5, 5, 4, 4, 4, 2, 2, 2, 3, 3, 3, 4, 4, 4, 4, 4, 4, 0, 5,\n",
      "       5, 5, 5, 4, 4, 4, 0, 0, 0, 0, 1, 1, 6, 6, 6, 6, 5, 5, 5, 5, 4, 0,\n",
      "       4, 4, 4, 4, 4, 4, 0, 4, 6, 6, 6, 6, 6, 4, 4, 0, 4, 1, 4, 4, 4, 4,\n",
      "       4, 4, 4, 4, 4, 4, 0, 0, 1, 1, 1, 1, 1, 1, 1, 1, 1, 1, 1, 1, 4, 4,\n",
      "       4, 4, 4, 4, 4, 4, 4, 4, 4, 4, 4, 4, 4, 4, 4, 4, 4, 4, 6, 6, 6, 6,\n",
      "       6, 4, 4, 4, 4, 4, 4, 4, 4, 4, 4, 4, 4, 4]))\n",
      "<class 'pandas.core.series.Series'>\n",
      "(array([7900, 7876,  175, 1278, 2065, 2064, 2063, 3363, 3364, 3365, 2948,\n",
      "       2946, 2947, 2593, 2594, 2595, 4492, 4120, 4696, 6116, 6173, 6370,\n",
      "       6909, 6911, 6908, 6910, 7216, 7217, 7219, 7218, 4667, 3871, 4725,\n",
      "       9817, 4514, 6126, 5335, 9524, 4412], dtype=int16), array([1, 0, 0, 1, 0, 0, 0, 0, 0, 1, 0, 1, 0, 1, 0, 1, 0, 0, 1, 0, 0, 0,\n",
      "       0, 1, 0, 1, 0, 0, 0, 0, 0, 0, 1, 0, 0, 1, 1, 0, 0], dtype=int8), array([24., 35., 26., 28., 17., 17., 17., 33., 33., 33., 26., 26., 26.,\n",
      "       28., 28., 28., 25., 15., 20., 14.,  9., 10.,  3.,  3.,  3.,  3.,\n",
      "       13., 13., 13., 13., 18., 23., 14., 11., 24., 12., 18.,  8., 13.]), array([0, 0, 0, 1, 2, 2, 2, 3, 3, 3, 3, 3, 3, 3, 3, 3, 4, 4, 4, 4, 4, 4,\n",
      "       5, 5, 5, 5, 6, 6, 6, 6, 4, 4, 4, 4, 4, 4, 4, 4, 4]))\n",
      "<class 'pandas.core.series.Series'>\n",
      "(array([ 3673,  6256,  3893,  6050,  5159,   214,  5163,   540,   405,\n",
      "         581,   294,   753,   740,   691, 10687,  1045,  1287,  5186,\n",
      "        5821,  4169,  8386,  9312,  3697,  6183, 11200,  5435,  3878,\n",
      "         600, 10686,   562,   613,   875, 10688,   541,   469,   420,\n",
      "       10684,  5671,  9886,  6114,  6407,  4989,  8443,  4807,  5949,\n",
      "        9258,  8812,   444,   844,   320, 10685,  1027,   856,   794,\n",
      "         715], dtype=int16), array([1, 0, 0, 0, 0, 0, 1, 1, 0, 0, 1, 1, 1, 0, 1, 0, 1, 1, 0, 1, 1, 0,\n",
      "       0, 1, 0, 1, 0, 1, 1, 1, 1, 1, 1, 1, 1, 1, 1, 0, 1, 0, 0, 0, 1, 0,\n",
      "       0, 1, 1, 0, 1, 1, 0, 1, 1, 1, 0], dtype=int8), array([ 24.,  85.,  58.,  45.,  39.,  81.,  28.,  96.,  33.,  20.,  19.,\n",
      "        16.,  16.,  21.,  18.,  17.,  17.,  17.,  69.,  43.,  57., 106.,\n",
      "       106.,  75.,  69.,  26.,  75.,  87.,  14.,  23.,  17.,  19.,  18.,\n",
      "        18.,  18.,  15.,  18.,  22.,  67.,  91.,  51.,  90., 110.,  74.,\n",
      "        56., 125., 101.,  79.,  19.,  16.,  18.,  23.,  18.,  20.,  17.]), array([4, 4, 4, 4, 4, 1, 4, 1, 1, 1, 1, 1, 1, 1, 1, 1, 1, 4, 4, 4, 4, 4,\n",
      "       4, 4, 4, 4, 4, 1, 1, 1, 1, 1, 1, 1, 1, 1, 1, 4, 4, 4, 4, 4, 4, 4,\n",
      "       4, 4, 4, 1, 1, 1, 1, 1, 1, 1, 1]))\n",
      "<class 'pandas.core.series.Series'>\n",
      "(array([5906, 3739, 8641, 5942, 4773, 6313, 5975, 5720, 5632, 9649, 5523,\n",
      "       8730, 8649, 4434], dtype=int16), array([0, 0, 0, 0, 0, 0, 0, 1, 1, 0, 1, 0, 0, 0], dtype=int8), array([24., 19., 17., 18., 15., 14., 22., 25., 21., 21., 23., 18.,  7.,\n",
      "       34.]), array([4, 4, 4, 4, 4, 4, 4, 4, 4, 4, 4, 4, 4, 4]))\n",
      "<class 'pandas.core.series.Series'>\n",
      "(array([7900, 7876,  175, 1278, 2065, 2064, 2063, 3365, 3364, 3363, 2947,\n",
      "       2948, 2946, 2595, 2594, 2593, 4492, 4120, 4696, 6116, 6173, 6370,\n",
      "       6909, 6910, 6911, 6908, 7216, 7217], dtype=int16), array([1, 0, 1, 0, 0, 0, 0, 0, 0, 0, 0, 0, 0, 0, 0, 1, 0, 0, 1, 0, 0, 0,\n",
      "       0, 0, 0, 0, 0, 0], dtype=int8), array([24., 26., 35., 25., 17., 17., 17., 28., 28., 28., 21., 21., 21.,\n",
      "       30., 30., 30.,  2.,  3., 32., 17., 12., 20., 34., 34., 34., 34.,\n",
      "       20., 20.]), array([0, 0, 0, 1, 2, 2, 2, 3, 3, 3, 3, 3, 3, 3, 3, 3, 4, 4, 4, 4, 4, 4,\n",
      "       5, 5, 5, 5, 6, 6]))\n",
      "<class 'pandas.core.series.Series'>\n",
      "(array([7900, 7876,  175, 1278, 2063, 2064, 2065, 3363, 3365, 3364, 2948,\n",
      "       2947, 2946, 2593, 2595, 2594, 4492, 4120, 4696, 6116, 6173, 6370,\n",
      "       6908, 6910, 6909, 6911, 7216, 7219], dtype=int16), array([0, 0, 1, 0, 1, 1, 0, 0, 0, 1, 0, 0, 0, 0, 1, 1, 0, 0, 0, 0, 0, 0,\n",
      "       0, 0, 0, 0, 0, 1], dtype=int8), array([24.,  3.,  1.,  1.,  1.,  1.,  1.,  1.,  1.,  1.,  0.,  0.,  0.,\n",
      "        0.,  0.,  0.,  1.,  1.,  1.,  0.,  7.,  2.,  2.,  2.,  2.,  2.,\n",
      "        0.,  0.]), array([0, 0, 0, 1, 2, 2, 2, 3, 3, 3, 3, 3, 3, 3, 3, 3, 4, 4, 4, 4, 4, 4,\n",
      "       5, 5, 5, 5, 6, 6]))\n",
      "<class 'pandas.core.series.Series'>\n",
      "(array([ 7784,  7783,  6976,  6979,  6978,  6980,  6977, 10154, 10155,\n",
      "       10153, 10152,  6831,  6829,  6830,  6832,  6709,  6712,  6710,\n",
      "        6711,  5347,  6226,  5691,  4367,  4147,  8850,  4425,  6042,\n",
      "        4421,  9445,  5691,  6261,  6154,  5388,  6316,  8183,  4340,\n",
      "        5988,  3853,  9407,  5029,  5921,  4530,  9639,  5713,  4329,\n",
      "        5927,  8715,   680,   294,  1275,   635,  1210,  1125,   708,\n",
      "        1368,  1304,   885,  2095,  2093,  2094,  1700,  1702,  1701,\n",
      "        2179,  2178,  2177,  2370,  2369,  2368,  1748,  1749,  1750,\n",
      "        1801,  1800,  1799,  1840,  1839,  1838,   359,  1399,   228,\n",
      "        1089,   562,   452,   806,   649,   919,   849,  2717,  2716,\n",
      "        2718,  3366,  3367,  3368,  3192,  3193,  3194,  2757,  2756,\n",
      "        2755,  2559,  2557,  2558,  3078,  3080,  3079,  5329,  5347,\n",
      "        4144,  6438,  5717,  8606,  3753,  3789,  4458,  9749,  6119,\n",
      "        6119,  5582,  5255,  3731,  9130,  7751,  7753,  7750,  7752,\n",
      "        7749,  6940,  6941,  6944,  6942,  6943,  8077,  8074,  8075,\n",
      "        8078,  8076,  5449,  5096,  3824,  9753,  5984,  4292,  3112,\n",
      "        3111,  3113,  3524,  3523,  3522,  5344,  9572,  6108,  5672,\n",
      "        3969,  9201,  9259,  4428,  3761,  8517,  6126,  4436,  6078,\n",
      "        8876,  9270,  3886,  5995,  9051,  5335,  3735,  9690,  8434,\n",
      "        8455,  5192,  4734,  4241,  9030,  4417,  4704,  5090,  9369,\n",
      "        5883,  6393,  6224,  9852,  4984,  4864,  3605,  9982,  4258,\n",
      "        4146,  4982,  9378,  4244,  3632,  5600,  9225,  5495,  5009,\n",
      "        3852,  8389], dtype=int16), array([1, 1, 1, 1, 1, 1, 0, 1, 1, 1, 1, 1, 1, 1, 1, 1, 1, 1, 1, 0, 1, 0,\n",
      "       1, 0, 1, 1, 1, 1, 0, 1, 1, 1, 1, 1, 0, 1, 1, 1, 1, 1, 1, 0, 1, 1,\n",
      "       1, 1, 1, 1, 1, 1, 1, 1, 1, 1, 1, 1, 1, 1, 1, 1, 1, 1, 1, 1, 1, 1,\n",
      "       1, 1, 1, 1, 0, 1, 1, 1, 1, 1, 1, 1, 1, 1, 1, 1, 1, 1, 1, 1, 1, 1,\n",
      "       1, 1, 0, 1, 0, 1, 0, 1, 1, 1, 0, 0, 1, 1, 1, 0, 1, 1, 1, 1, 1, 1,\n",
      "       1, 1, 1, 1, 1, 0, 1, 0, 1, 1, 1, 0, 1, 0, 1, 0, 1, 1, 1, 1, 1, 1,\n",
      "       1, 1, 1, 1, 1, 1, 1, 1, 1, 1, 1, 0, 1, 1, 1, 0, 1, 0, 1, 1, 0, 1,\n",
      "       1, 1, 1, 1, 1, 1, 1, 1, 1, 1, 1, 1, 1, 1, 1, 1, 1, 1, 0, 1, 1, 1,\n",
      "       0, 1, 1, 1, 0, 1, 1, 0, 1, 0, 1, 1, 0, 1, 1, 1, 1, 1, 1, 0, 1, 1,\n",
      "       1, 1], dtype=int8), array([27., 27., 40., 40., 40., 40., 40., 58., 58., 58., 58., 21., 21.,\n",
      "       21., 21., 29., 29., 29., 29., 27., 16.,  8.,  5.,  5., 27., 18.,\n",
      "       30., 15., 17., 24.,  6.,  7., 10.,  6., 30., 18.,  7., 17., 25.,\n",
      "       19., 20., 17., 32., 17., 10.,  8., 14., 16., 14., 15., 14., 16.,\n",
      "       15., 14., 14., 17., 17., 20., 20., 20., 16., 16., 16., 17., 17.,\n",
      "       17., 19., 19., 19., 19., 19., 19., 29., 29., 29., 18., 18., 18.,\n",
      "       22., 17., 17., 13., 12., 16., 13., 14., 15., 16., 11., 11., 11.,\n",
      "       15., 15., 15., 17., 17., 17., 19., 19., 19., 26., 26., 26., 22.,\n",
      "       22., 22., 21., 12., 33.,  6.,  8.,  8., 30.,  8.,  6.,  9.,  9.,\n",
      "        8., 13., 34., 10., 20., 15., 15., 15., 15., 15., 67., 67., 67.,\n",
      "       67., 67., 49., 49., 49., 49., 49., 47.,  7., 16., 41., 29.,  6.,\n",
      "        8.,  8.,  8., 19., 19., 19., 17.,  8.,  9., 12., 84., 16., 31.,\n",
      "       38.,  5., 23.,  6., 11., 16., 23., 23.,  7., 13., 10., 34., 41.,\n",
      "       16., 18., 22., 11., 13., 62., 19., 37.,  9., 17., 18., 46., 18.,\n",
      "       25., 11., 12.,  4., 22., 24., 11., 26., 11., 11., 13., 22., 11.,\n",
      "        5., 11., 16., 17., 43.]), array([6, 6, 6, 6, 6, 6, 6, 5, 5, 5, 5, 5, 5, 5, 5, 5, 5, 5, 5, 4, 4, 4,\n",
      "       4, 4, 4, 4, 4, 4, 4, 4, 4, 4, 4, 4, 4, 4, 4, 4, 4, 4, 4, 4, 4, 4,\n",
      "       4, 4, 4, 1, 1, 1, 1, 1, 1, 1, 1, 1, 1, 2, 2, 2, 2, 2, 2, 2, 2, 2,\n",
      "       2, 2, 2, 2, 2, 2, 2, 2, 2, 2, 2, 2, 1, 1, 1, 1, 1, 1, 1, 1, 1, 1,\n",
      "       3, 3, 3, 3, 3, 3, 3, 3, 3, 3, 3, 3, 3, 3, 3, 3, 3, 3, 4, 4, 4, 4,\n",
      "       4, 4, 4, 4, 4, 4, 4, 4, 4, 4, 4, 4, 6, 6, 6, 6, 6, 6, 6, 6, 6, 6,\n",
      "       6, 6, 6, 6, 6, 4, 4, 4, 4, 4, 4, 3, 3, 3, 3, 3, 3, 4, 4, 4, 4, 4,\n",
      "       4, 4, 4, 4, 4, 4, 4, 4, 4, 4, 4, 4, 4, 4, 4, 4, 4, 4, 4, 4, 4, 4,\n",
      "       4, 4, 4, 4, 4, 4, 4, 4, 4, 4, 4, 4, 4, 4, 4, 4, 4, 4, 4, 4, 4, 4,\n",
      "       4, 4]))\n",
      "<class 'pandas.core.series.Series'>\n",
      "(array([ 7900,  7876,   175,  1278,  2065,  2063,  2064,  3365,  3364,\n",
      "        3363,  2947,  2948,  2946,  2593,  2595,  2594,  4492,  4120,\n",
      "        4696,  6116,  6173,  6370,  6909,  6910,  6908,  6911,  7216,\n",
      "        7218,  7217,  7219,   729,  1236,   854, 10687,   660,  1334,\n",
      "        1252,   294,   694,   263,  5236,  3878,  5460,  8718,  4569,\n",
      "        6323,  4673,  8837,  4689,  5614,  6173,  6908,  6911,  6910,\n",
      "        6909,  2065,  2064,  2063], dtype=int16), array([1, 0, 0, 1, 1, 0, 1, 0, 1, 1, 0, 0, 0, 1, 1, 1, 1, 0, 0, 1, 1, 0,\n",
      "       1, 1, 1, 0, 1, 1, 1, 1, 1, 0, 1, 1, 1, 1, 1, 0, 1, 1, 1, 0, 0, 0,\n",
      "       1, 0, 1, 1, 1, 0, 1, 0, 0, 0, 0, 0, 1, 0], dtype=int8), array([24., 21., 21., 23., 16., 16., 16., 29., 29., 29., 38., 38., 38.,\n",
      "       30., 30., 30., 48., 28., 15., 19.,  4., 11., 31., 31., 31., 31.,\n",
      "       17., 17., 17., 17., 54., 16., 16., 16., 19., 17., 18., 14., 17.,\n",
      "       16., 16., 15.,  7., 11., 14., 12., 11., 12., 18.,  5.,  9., 12.,\n",
      "       12., 12., 12., 13., 13., 13.]), array([0, 0, 0, 1, 2, 2, 2, 3, 3, 3, 3, 3, 3, 3, 3, 3, 4, 4, 4, 4, 4, 4,\n",
      "       5, 5, 5, 5, 6, 6, 6, 6, 1, 1, 1, 1, 1, 1, 1, 1, 1, 1, 4, 4, 4, 4,\n",
      "       4, 4, 4, 4, 4, 4, 4, 5, 5, 5, 5, 2, 2, 2]))\n",
      "<class 'pandas.core.series.Series'>\n",
      "(array([ 2017,  2015,  1136, 10149, 10150, 10148, 10151, 10790, 10789,\n",
      "       10788, 10787,  7260,  7264,  7261,  7262,  7263,  7421,  7422,\n",
      "        7425,  7423,  7424,  7396,  7398,  7399,  7400,  7397, 12988,\n",
      "       12986, 12987,  1501,  1499,  1500,  2246,  2247,  2245,  2344,\n",
      "        2345,  2346, 13238, 13240, 13239,  7490,  7493,  7489,  7491,\n",
      "        7492,  7441,  7440,  7747,  7748,  7744,  7746,  7745, 10138,\n",
      "       10137, 10139, 10136, 10935, 10936, 10938, 10937, 10986, 10984,\n",
      "       10983, 10985,  6540,  6537,  6538,  6539,  6616,  6615,  6614,\n",
      "        6613,  3986,  6002,  9085, 11300,  9574,  3970,  8395,  9133,\n",
      "        5981, 11241,  6091,  6686,  6155,  8501,  9961,  2480,  2481,\n",
      "        2479,  1407,  1406,  1408,  1799,  1800,  1801,  1313,  1511,\n",
      "        1512,  1513,  2354,  2355,  2353,  1978,  1976,  1977,  1735,\n",
      "        1734,  1733,  1710,  1711,  1709,  2388,  2386,  2387,  1730,\n",
      "        1731,  1732,  2549,  2548,  2550,  2364,  2363,  2362,  1788,\n",
      "        1789,  1787, 11160, 11162, 11159, 11161,  7245,  7247,  7244,\n",
      "        7246,  7710,  7709,  7713,  7712,  7711,  7779,  7777,  7775,\n",
      "        7776,  7778,  6701,  6703,  6704,  6702, 10895, 10896, 10897,\n",
      "       10898,  6734,  6733,  6736,  6735, 10060, 10061, 10058, 10059,\n",
      "       13235, 13237, 13236,  1503,  1504,  1502,  1477,  1475,  1476,\n",
      "         414, 11929,  1529,  1531,  1530,  1616,  1618,  1617,  2442,\n",
      "        2441,  2440,  2391,  2389,  2390,  1753,  1752,  1751,  7004,\n",
      "        7003,  7005,  7001,  7002,  7292,  7294,  7293,  7291,  7265,\n",
      "        7266,  7267], dtype=int16), array([1, 1, 1, 1, 0, 1, 1, 1, 1, 1, 1, 1, 1, 0, 0, 1, 0, 1, 1, 0, 0, 1,\n",
      "       0, 1, 0, 1, 1, 1, 1, 1, 1, 1, 1, 1, 1, 1, 1, 1, 1, 1, 1, 1, 1, 1,\n",
      "       1, 1, 1, 1, 1, 1, 1, 1, 0, 0, 1, 1, 1, 1, 1, 1, 1, 0, 0, 0, 1, 1,\n",
      "       0, 1, 1, 1, 1, 0, 1, 0, 1, 1, 0, 0, 1, 1, 0, 0, 1, 1, 0, 0, 1, 0,\n",
      "       0, 0, 1, 1, 1, 1, 1, 1, 1, 1, 1, 0, 0, 1, 1, 1, 1, 0, 0, 0, 1, 1,\n",
      "       1, 1, 0, 0, 0, 1, 1, 0, 0, 1, 1, 1, 1, 1, 1, 0, 1, 1, 0, 0, 1, 1,\n",
      "       1, 1, 1, 0, 1, 1, 1, 0, 1, 0, 1, 1, 1, 0, 1, 1, 1, 1, 1, 1, 0, 0,\n",
      "       1, 1, 1, 1, 1, 1, 1, 0, 0, 1, 1, 0, 0, 1, 1, 1, 1, 1, 0, 0, 1, 1,\n",
      "       1, 1, 1, 1, 1, 0, 1, 1, 1, 0, 1, 1, 1, 0, 0, 0, 1, 0, 1, 1, 1, 1,\n",
      "       0, 0], dtype=int8), array([ 34.,  34.,  36.,  20.,  20.,  20.,  20.,  30.,  30.,  30.,  30.,\n",
      "        26.,  26.,  26.,  26.,  26., 156., 156., 156., 156., 156.,  98.,\n",
      "        98.,  98.,  98.,  98.,  77.,  77.,  77.,  23.,  23.,  23.,  31.,\n",
      "        31.,  31.,  23.,  23.,  23.,  25.,  25.,  25.,  31.,  31.,  31.,\n",
      "        31.,  31.,  86.,  86., 109., 109., 109., 109., 109.,  99.,  99.,\n",
      "        99.,  99.,  30.,  30.,  30.,  30.,  30.,  30.,  30.,  30.,  32.,\n",
      "        32.,  32.,  32.,  40.,  40.,  40.,  40.,  71.,  46.,  28.,  67.,\n",
      "        42.,  25.,  11.,  40.,  37.,   9.,  91.,  38.,  37.,  36.,  58.,\n",
      "        24.,  24.,  24.,  32.,  32.,  32.,  25.,  25.,  25.,  27.,  47.,\n",
      "        47.,  47.,  27.,  27.,  27.,  36.,  36.,  36.,  29.,  29.,  29.,\n",
      "        28.,  28.,  28.,  73.,  73.,  73.,  34.,  34.,  34.,  35.,  35.,\n",
      "        35.,  30.,  30.,  30.,  24.,  24.,  24.,  29.,  29.,  29.,  29.,\n",
      "        48.,  48.,  48.,  48.,  46.,  46.,  46.,  46.,  46.,  84.,  84.,\n",
      "        84.,  84.,  84.,  69.,  69.,  69.,  69.,  37.,  37.,  37.,  37.,\n",
      "        33.,  33.,  33.,  33.,  45.,  45.,  45.,  45.,  68.,  68.,  68.,\n",
      "        23.,  23.,  23.,  35.,  35.,  35.,  30.,  36.,  30.,  30.,  30.,\n",
      "        31.,  31.,  31.,  29.,  29.,  29.,  27.,  27.,  27.,  38.,  38.,\n",
      "        38.,  37.,  37.,  37.,  37.,  37.,  88.,  88.,  88.,  88.,  76.,\n",
      "        76.,  76.]), array([2, 2, 1, 5, 5, 5, 5, 5, 5, 5, 5, 6, 6, 6, 6, 6, 6, 6, 6, 6, 6, 6,\n",
      "       6, 6, 6, 6, 2, 2, 2, 2, 2, 2, 2, 2, 2, 2, 2, 2, 2, 2, 2, 6, 6, 6,\n",
      "       6, 6, 6, 6, 6, 6, 6, 6, 6, 5, 5, 5, 5, 5, 5, 5, 5, 5, 5, 5, 5, 5,\n",
      "       5, 5, 5, 5, 5, 5, 5, 4, 4, 4, 4, 4, 4, 4, 4, 4, 4, 4, 4, 4, 4, 4,\n",
      "       2, 2, 2, 2, 2, 2, 2, 2, 2, 1, 2, 2, 2, 2, 2, 2, 2, 2, 2, 2, 2, 2,\n",
      "       2, 2, 2, 2, 2, 2, 2, 2, 2, 2, 2, 2, 2, 2, 2, 2, 2, 2, 5, 5, 5, 5,\n",
      "       6, 6, 6, 6, 6, 6, 6, 6, 6, 6, 6, 6, 6, 6, 5, 5, 5, 5, 5, 5, 5, 5,\n",
      "       5, 5, 5, 5, 5, 5, 5, 5, 2, 2, 2, 2, 2, 2, 2, 2, 2, 1, 1, 2, 2, 2,\n",
      "       2, 2, 2, 2, 2, 2, 2, 2, 2, 2, 2, 2, 6, 6, 6, 6, 6, 6, 6, 6, 6, 6,\n",
      "       6, 6]))\n",
      "<class 'pandas.core.series.Series'>\n",
      "(array([ 3961,  4239,  8284,  4458,  5324,  9240,  4476,  4414,   893,\n",
      "         829,   930,   220,   989,  1007,  1278,   702,  1117,   602,\n",
      "        3872,  5681,  3872,  7990,  6316,  6361,  5341,  8551,  4405,\n",
      "        4147,  4367,  8616,  1191,  1321,  1070,  1118,   625,   394,\n",
      "         620,   199,   571,   402,  4428,  4995,  6185,  9654,  6152,\n",
      "        5001,  5356,  9862,   269,   865,   790,   967,  1053,   584,\n",
      "         835,  1050,  1235,  1337,  4984,  5589,  6281,  9659,   712,\n",
      "         637,   994,   372,   249,  1341,  1163,   966,  1139,   576,\n",
      "        4756,  4512,  6455,  8329,   808,  1185,   807,   608,  1257,\n",
      "         252,   775,  1044,   559,   741,  5045,  6396,  5911,  8613,\n",
      "        5464,  5620,  1156,   693,   298,   640,   276,   309,   453,\n",
      "        1049,   509,   981,  4181,  8571,  4716,  3841,  6118,  3902,\n",
      "        5847,  4412,   823,   783,   819,  1098,   853,   237,  1265,\n",
      "         811,   666,  1330,  4412,  4995,  4467,  9581,  4498,  5141,\n",
      "        6146,  9443,  5216,  4720,  5250,  9781,  1101,   639,   558,\n",
      "         434,  1051,  1065,   498,   683,  1153,   235,  5616,  9260,\n",
      "        3635,  9954,  4086,  5953,  5183,  8304,  4110,  6249,   231,\n",
      "        1363,   636,  1359,   579,   465,  1116,   289,   690,   825,\n",
      "        4114,  9844,  3626,  4311,  5717,  1360,  1354,  1255,   995,\n",
      "         422,   772,   258,   319,   614,   983,  8655,  5989,  5046,\n",
      "        6120,  8973,   872,   501,   318,  1162,   371,  1281,  1141,\n",
      "         622,   621,   564,  9101,  5831,  5413, 13490,  6406, 11463,\n",
      "        4025, 13423], dtype=int16), array([0, 1, 1, 1, 1, 0, 0, 1, 1, 0, 1, 1, 0, 1, 1, 1, 1, 0, 0, 1, 1, 1,\n",
      "       1, 1, 1, 1, 0, 1, 1, 1, 1, 1, 1, 1, 1, 1, 0, 0, 1, 1, 1, 0, 1, 0,\n",
      "       1, 1, 1, 0, 1, 0, 1, 1, 1, 1, 0, 1, 0, 0, 1, 1, 0, 0, 1, 1, 0, 1,\n",
      "       0, 0, 1, 1, 1, 1, 0, 1, 0, 0, 1, 1, 0, 1, 1, 1, 0, 1, 1, 1, 0, 1,\n",
      "       0, 1, 0, 0, 0, 1, 0, 0, 0, 1, 0, 0, 1, 0, 1, 1, 1, 0, 0, 1, 1, 0,\n",
      "       1, 1, 0, 1, 0, 1, 0, 0, 1, 1, 1, 1, 1, 0, 1, 1, 1, 0, 1, 1, 1, 0,\n",
      "       0, 1, 0, 1, 1, 1, 0, 0, 1, 0, 0, 0, 0, 1, 0, 1, 0, 0, 1, 1, 0, 1,\n",
      "       0, 1, 1, 0, 1, 1, 0, 1, 1, 0, 1, 1, 1, 0, 0, 1, 1, 0, 0, 0, 1, 0,\n",
      "       0, 1, 1, 1, 0, 1, 1, 1, 1, 0, 1, 1, 1, 0, 0, 0, 1, 1, 0, 1, 0, 1,\n",
      "       0, 0], dtype=int8), array([30., 16., 24., 19., 11.,  9., 38., 10.,  7., 16., 20., 17., 24.,\n",
      "       18., 16., 18., 19., 20., 19., 31., 33., 18., 34., 20., 14., 29.,\n",
      "       23., 28., 21., 15., 29., 25., 18., 15., 25., 22., 17., 18., 18.,\n",
      "       14., 21., 17., 28., 19., 28., 44., 13., 44., 40., 15., 22., 17.,\n",
      "       20., 16., 16., 18., 15., 20., 16., 15., 17.,  9., 10., 22., 16.,\n",
      "       17., 16., 21., 17., 16., 14., 19., 18., 19.,  8., 23.,  9., 14.,\n",
      "       18., 50., 18., 21., 18., 21., 17., 24., 20., 10., 19., 29., 21.,\n",
      "       15., 31., 18., 21., 15., 16., 15., 20., 15., 14., 18., 19.,  5.,\n",
      "       17., 14., 14., 10., 24., 51., 23., 18., 14., 20., 15., 16., 13.,\n",
      "       17., 16., 16., 19., 16., 26., 21., 43., 31., 37., 38., 47., 28.,\n",
      "       35., 69., 88., 28., 20., 21., 17., 23., 17., 17., 16., 15., 23.,\n",
      "       12., 21., 23., 20., 33., 13., 26., 16., 10.,  9., 17., 18., 18.,\n",
      "       18., 19., 19., 16., 15., 18., 15., 13., 21., 14., 18.,  9., 19.,\n",
      "       76., 19., 20., 16., 15., 15., 21., 19., 14., 22., 34., 15., 19.,\n",
      "       12., 16., 18., 19., 11., 14., 15., 17., 16., 17., 19., 13., 29.,\n",
      "       48., 16., 55., 23., 33.]), array([4, 4, 4, 4, 4, 4, 4, 4, 1, 1, 1, 1, 1, 1, 1, 1, 1, 1, 4, 4, 4, 4,\n",
      "       4, 4, 4, 4, 4, 4, 4, 4, 1, 1, 1, 1, 1, 1, 1, 1, 1, 1, 4, 4, 4, 4,\n",
      "       4, 4, 4, 4, 1, 1, 1, 1, 1, 1, 1, 1, 1, 1, 4, 4, 4, 4, 1, 1, 1, 1,\n",
      "       1, 1, 1, 1, 1, 1, 4, 4, 4, 4, 1, 1, 1, 1, 1, 1, 1, 1, 1, 1, 4, 4,\n",
      "       4, 4, 4, 4, 1, 1, 1, 1, 1, 1, 1, 1, 1, 1, 4, 4, 4, 4, 4, 4, 4, 4,\n",
      "       1, 1, 1, 1, 1, 1, 1, 1, 1, 1, 4, 4, 4, 4, 4, 4, 4, 4, 4, 4, 4, 4,\n",
      "       1, 1, 1, 1, 1, 1, 1, 1, 1, 1, 4, 4, 4, 4, 4, 4, 4, 4, 4, 4, 1, 1,\n",
      "       1, 1, 1, 1, 1, 1, 1, 1, 4, 4, 4, 4, 4, 1, 1, 1, 1, 1, 1, 1, 1, 1,\n",
      "       1, 4, 4, 4, 4, 4, 1, 1, 1, 1, 1, 1, 1, 1, 1, 1, 4, 4, 4, 4, 4, 4,\n",
      "       4, 4]))\n",
      "<class 'pandas.core.series.Series'>\n",
      "(array([ 3819,   910,  5511,   218,   296,  4231,  4748,  7978,  3878,\n",
      "        5554,  3974,  5625,  6180,  6440,  6130,  3642,    51,     2,\n",
      "        7877,     6,  7867,  7898,    15,  7967,    56, 10673,   194,\n",
      "         185,   140, 10486,    26,   135,  7964, 10504,   149,   189,\n",
      "          52, 10441,  1273,  1326,   854, 10687,   700,  1218,   787,\n",
      "       10684,   424,  1355,   405,  5980,  8980, 11386], dtype=int16), array([0, 1, 1, 0, 1, 1, 0, 1, 0, 0, 1, 1, 1, 0, 1, 0, 1, 0, 1, 0, 1, 1,\n",
      "       1, 1, 0, 1, 1, 1, 1, 1, 1, 1, 1, 1, 1, 0, 1, 1, 0, 1, 0, 1, 1, 1,\n",
      "       1, 1, 1, 1, 0, 0, 1, 1], dtype=int8), array([ 24.,  39.,  15.,   9.,  18.,  22.,  17.,  22.,  25.,   9.,  13.,\n",
      "       181.,   9.,   7.,   8.,  11.,  17.,  19.,  24.,  22.,  17.,  20.,\n",
      "        25.,  20.,  23.,  23.,  18.,  20.,  24.,  12.,  21.,  21.,  20.,\n",
      "        27.,  21.,  24.,  22.,  19.,  21.,  21.,  14.,  18.,   9.,  13.,\n",
      "        14.,  16.,  20.,  18.,  15.,  17.,   4.,  10.]), array([4, 1, 4, 1, 1, 4, 4, 0, 4, 4, 4, 4, 4, 4, 4, 4, 0, 0, 0, 0, 0, 0,\n",
      "       0, 0, 0, 0, 0, 0, 0, 0, 0, 0, 0, 0, 0, 0, 0, 0, 1, 1, 1, 1, 1, 1,\n",
      "       1, 1, 1, 1, 1, 4, 4, 4]))\n",
      "<class 'pandas.core.series.Series'>\n",
      "(array([  126, 10517,    69,  7934,   129, 10472, 10524, 10469, 10640,\n",
      "       10457, 10656,   593,  5673,  4454,  9959,  4380,  4959,  4291,\n",
      "        9220,  6136,  8501,  6475, 10421, 10513, 10526, 10602, 10430,\n",
      "         876,  1313,   668, 10734, 10735, 10736,  9757,  5243,  4954,\n",
      "        5006,  8350,  5352,  4813,  4970,  8546,  3636,  5223,  5621,\n",
      "        9376,  6246,  6002,  3990, 11390,  6441,   572,  3647,  3642,\n",
      "        8714,  5056,  6655,  3609, 11227,  5327,  4402,  6087,  9148,\n",
      "       10612, 10445, 10454, 10598, 10412, 10637, 10664, 10626,   291,\n",
      "        1296,   981,   762,   766,   284,  1239,   426,   724,  1393,\n",
      "         437,   396,  1250,   809,  1068,  1029,  1334,  5216,  4624,\n",
      "        6663,  9191,  1186,  5712,  4254,  5455,  8411,  4431,  3852,\n",
      "        6151, 10464, 10547, 10572, 10442, 10438, 10494, 10519,   222,\n",
      "        1318,   250,   729,   441,   877,  1475,  1476,  1477,  1754,\n",
      "        1756,  1755,  1610,  1611,  1612,  2808,  2807,  2806,  3352,\n",
      "        3351,  3353,  2815,  2817,  2816,  8331,  4020,  6102,  5447,\n",
      "        8905,  4417,  5101,  6256,  8735,  6471,  4992,  4265,  9676,\n",
      "        6124,  3727,  5558,  9082,  4866,  3773,  4478,  8927,  6670,\n",
      "       10405, 10535, 10679, 10406, 10577, 10398, 10649, 10675, 10450,\n",
      "       10585, 10504, 10623, 10475,   422,  1065,   599,  1083,   556,\n",
      "        1326,   972,   525,   729,   611,  6155,  5508,  9088,  4077,\n",
      "        3862,  5836, 10433, 10420, 10496, 10571, 10489, 10620, 10683,\n",
      "       10520, 10659, 10622,  1202,   642,   538,   731,   322,   439,\n",
      "         368,   756], dtype=int16), array([1, 1, 1, 1, 1, 1, 1, 1, 1, 0, 1, 1, 1, 1, 1, 1, 1, 1, 1, 1, 1, 1,\n",
      "       0, 1, 1, 1, 1, 1, 0, 0, 1, 1, 1, 1, 1, 1, 1, 0, 0, 1, 0, 1, 1, 1,\n",
      "       1, 1, 1, 1, 1, 1, 1, 1, 1, 1, 1, 0, 1, 1, 1, 0, 1, 1, 1, 1, 1, 1,\n",
      "       1, 1, 1, 1, 1, 1, 1, 0, 1, 0, 1, 1, 0, 1, 0, 0, 1, 1, 0, 1, 1, 1,\n",
      "       1, 1, 1, 1, 0, 1, 1, 1, 1, 1, 1, 0, 1, 1, 0, 0, 0, 1, 1, 1, 1, 1,\n",
      "       0, 1, 1, 1, 1, 1, 1, 0, 1, 1, 1, 1, 1, 1, 1, 1, 1, 1, 1, 1, 1, 1,\n",
      "       1, 0, 1, 1, 1, 0, 0, 1, 1, 1, 1, 1, 1, 1, 1, 1, 0, 0, 1, 1, 1, 1,\n",
      "       1, 1, 1, 0, 1, 1, 1, 1, 1, 1, 1, 1, 1, 1, 1, 1, 1, 1, 1, 0, 1, 1,\n",
      "       1, 1, 1, 1, 1, 0, 1, 1, 1, 1, 1, 1, 1, 1, 1, 1, 1, 1, 1, 0, 1, 1,\n",
      "       1, 0], dtype=int8), array([ 23.,  22.,  22.,  24.,  23.,  23.,  23.,  31.,  24.,  21.,  19.,\n",
      "        22.,  17.,  54.,  16.,  12., 123.,  28.,  16.,  89.,  22.,  45.,\n",
      "        28.,  26.,  21.,  21.,  22.,  23.,  20.,  21.,  20.,  20.,  20.,\n",
      "        27.,  43.,  49.,  48.,  17.,  56.,  62.,  40.,  52.,  17.,  31.,\n",
      "        40.,  49.,  41.,  32.,  19.,  45.,  17., 228.,  17.,  34., 132.,\n",
      "         3.,  60.,  46.,  12.,  48.,  46.,  16.,  17., 157.,  25.,  22.,\n",
      "        23.,  23.,  23.,  20.,  23.,  56.,  16.,  19.,  10.,  19.,  15.,\n",
      "        20.,  17.,  19.,  17.,   2.,  20.,  19.,  23.,  25.,  24.,  20.,\n",
      "        21.,  10.,  24.,  23.,  27.,  18.,  49.,  62.,   6.,  42.,  62.,\n",
      "        50.,  58.,  23.,  23.,  26.,  28.,  25.,  24.,  23.,  19.,  16.,\n",
      "        20.,  18.,  19.,  19.,  19.,  19.,  26.,  26.,  26.,  31.,  31.,\n",
      "        31.,  34.,  34.,  34.,  29.,  29.,  29.,  31.,  31.,  31.,  26.,\n",
      "        11.,  55., 300.,  12.,  44.,  62.,  34.,  20.,   8.,  95.,  43.,\n",
      "       104., 105., 103.,  22.,  14.,  21.,  22.,  32.,  73., 134.,  11.,\n",
      "        24.,  20.,  23.,   3.,  22.,  26.,  26.,  24.,  23.,  24.,  32.,\n",
      "        23.,  21.,  17.,  17.,  19.,  16.,  19.,  16.,  19.,  19.,  12.,\n",
      "        19.,  26.,   8.,  11.,  31.,  26.,  21.,  22.,  22.,  26.,  23.,\n",
      "        24.,  22.,  23.,  24.,  25.,  19.,  17.,  17.,  18.,  21.,  21.,\n",
      "        19.,  20.]), array([0, 0, 0, 0, 0, 0, 0, 0, 0, 0, 0, 1, 4, 4, 4, 4, 4, 4, 4, 4, 4, 4,\n",
      "       0, 0, 0, 0, 0, 1, 1, 1, 3, 3, 3, 4, 4, 4, 4, 4, 4, 4, 4, 4, 4, 4,\n",
      "       4, 4, 4, 4, 4, 4, 4, 1, 4, 4, 4, 4, 4, 4, 4, 4, 4, 4, 4, 0, 0, 0,\n",
      "       0, 0, 0, 0, 0, 1, 1, 1, 1, 1, 1, 1, 1, 1, 1, 1, 1, 1, 1, 1, 1, 1,\n",
      "       4, 4, 4, 4, 1, 4, 4, 4, 4, 4, 4, 4, 0, 0, 0, 0, 0, 0, 0, 1, 1, 1,\n",
      "       1, 1, 1, 2, 2, 2, 2, 2, 2, 2, 2, 2, 3, 3, 3, 3, 3, 3, 3, 3, 3, 4,\n",
      "       4, 4, 4, 4, 4, 4, 4, 4, 4, 4, 4, 4, 4, 4, 4, 4, 4, 4, 4, 4, 4, 0,\n",
      "       0, 0, 0, 0, 0, 0, 0, 0, 0, 0, 0, 0, 1, 1, 1, 1, 1, 1, 1, 1, 1, 1,\n",
      "       4, 4, 4, 4, 4, 4, 0, 0, 0, 0, 0, 0, 0, 0, 0, 0, 1, 1, 1, 1, 1, 1,\n",
      "       1, 1]))\n",
      "<class 'pandas.core.series.Series'>\n",
      "(array([ 5960,  4830,  5465,  5269,  5592,  5881,  5156,  1045,   862,\n",
      "         288, 10686,   810,  1011,   288,  1011,   554, 10685,   984,\n",
      "         638,   288,    89,    37,  7901, 10470,    98,  7896,    53,\n",
      "       10659,   123,  7905,  7975, 10416,   130,    73,  7869, 10484,\n",
      "         166,  7877,  7933, 10441,  7866,    12], dtype=int16), array([0, 1, 1, 0, 0, 1, 1, 1, 1, 0, 0, 0, 0, 1, 1, 0, 1, 0, 0, 1, 0, 0,\n",
      "       1, 0, 1, 1, 0, 1, 1, 1, 1, 1, 1, 0, 1, 1, 1, 1, 1, 0, 0, 1],\n",
      "      dtype=int8), array([24., 36., 38., 17.,  9., 17., 21., 24., 21., 19., 17., 19., 19.,\n",
      "        8., 15., 11., 22., 15.,  6., 15., 13., 29., 26., 10., 22., 10.,\n",
      "       19., 26., 22., 23., 22., 17., 16., 17., 23., 23., 14.,  9., 16.,\n",
      "       26., 21., 26.]), array([4, 4, 4, 4, 4, 4, 4, 1, 1, 1, 1, 1, 1, 1, 1, 1, 1, 1, 1, 1, 0, 0,\n",
      "       0, 0, 0, 0, 0, 0, 0, 0, 0, 0, 0, 0, 0, 0, 0, 0, 0, 0, 0, 0]))\n",
      "<class 'pandas.core.series.Series'>\n",
      "(array([ 4753,  3923,  5509,  6309,  3684,  5159,  4854,  4074,  6687,\n",
      "        4623,  5182,  1319,   551,   437, 10688,   241], dtype=int16), array([0, 0, 1, 1, 1, 1, 0, 1, 0, 0, 1, 0, 1, 0, 1, 0], dtype=int8), array([24., 18., 24., 20., 20., 10., 32., 14., 21., 25., 13., 32., 24.,\n",
      "        6., 20., 20.]), array([4, 4, 4, 4, 4, 4, 4, 4, 4, 4, 4, 1, 1, 1, 1, 1]))\n",
      "<class 'pandas.core.series.Series'>\n",
      "(array([ 5576,  6099,  6208,  4665,   379,  4077,  3658,  9711,  5626,\n",
      "         113,  7853,  7872, 10484,  7884,    70,   108, 10525,  7879,\n",
      "        7965,  7906, 10607,    34,  7963,    56, 10670,   168,  7911,\n",
      "        7946, 10412,  1389,  1364,  1166, 10686,   949,  1179,   295,\n",
      "         294,   279,  1208,   488,  2315,  2314,  2316,  1535,  1537,\n",
      "        1536,  2266,  2268,  2267,  3134,  3133,  3132,  2932,  2933,\n",
      "        2931,  3360,  3361,  3362,  2975,  2973,  2974,  3878,  5713,\n",
      "        5989,  8001,  5597,  6652,  4432, 11537,  3871,  5213,  5106,\n",
      "        8611,  4067,  5624,  9260,  8969,  8465,  6469,  6114,  9072,\n",
      "        4130,  5326,  4085,  8412,  4273,  3713,  5991,  9348,  5348,\n",
      "        4019,  6917,  6919,  6918,  6916,  6782,  6781,  6783,  6784,\n",
      "        6774,  6773,  6775,  6776, 10280, 10282, 10281], dtype=int16), array([0, 0, 1, 0, 1, 1, 0, 1, 1, 1, 1, 1, 1, 1, 1, 1, 1, 1, 1, 1, 1, 1,\n",
      "       1, 1, 1, 1, 1, 1, 0, 1, 1, 1, 1, 0, 1, 1, 1, 1, 1, 1, 1, 1, 1, 1,\n",
      "       0, 1, 1, 0, 1, 1, 1, 1, 1, 1, 1, 1, 1, 0, 1, 1, 1, 1, 1, 1, 0, 1,\n",
      "       1, 0, 0, 1, 0, 1, 0, 1, 1, 0, 0, 1, 1, 1, 1, 0, 0, 0, 1, 1, 1, 1,\n",
      "       1, 0, 1, 0, 1, 1, 1, 1, 1, 1, 1, 0, 1, 0, 0, 1, 1, 0], dtype=int8), array([24., 53., 13., 14.,  6., 19., 15., 14., 18., 10., 26., 20., 23.,\n",
      "       24., 24., 21., 23., 24., 23., 20., 19., 22., 25., 24., 21., 22.,\n",
      "       20., 24., 20., 22., 17., 16., 17., 23., 20., 14., 16., 16., 20.,\n",
      "       18., 21., 21., 21., 33., 33., 33., 28., 28., 28., 37., 37., 37.,\n",
      "       45., 45., 45., 28., 28., 28., 32., 32., 32., 29., 28., 16., 22.,\n",
      "       17., 23.,  9., 20., 19., 11., 42.,  9., 24., 25., 20., 14., 21.,\n",
      "       25., 31., 15., 16., 23., 29., 18., 16., 14., 31., 23., 14., 30.,\n",
      "       26., 26., 26., 26., 31., 31., 31., 31., 26., 26., 26., 26., 30.,\n",
      "       30., 30.]), array([4, 4, 4, 4, 1, 4, 4, 4, 4, 0, 0, 0, 0, 0, 0, 0, 0, 0, 0, 0, 0, 0,\n",
      "       0, 0, 0, 0, 0, 0, 0, 1, 1, 1, 1, 1, 1, 1, 1, 1, 1, 1, 2, 2, 2, 2,\n",
      "       2, 2, 2, 2, 2, 3, 3, 3, 3, 3, 3, 3, 3, 3, 3, 3, 3, 4, 4, 4, 4, 4,\n",
      "       4, 4, 4, 4, 4, 4, 4, 4, 4, 4, 4, 4, 4, 4, 4, 4, 4, 4, 4, 4, 4, 4,\n",
      "       4, 4, 4, 5, 5, 5, 5, 5, 5, 5, 5, 5, 5, 5, 5, 5, 5, 5]))\n",
      "<class 'pandas.core.series.Series'>\n",
      "(array([ 5464,  4265,  3988,  3986,  3654,  4746,  4732,  9301,  4750,\n",
      "         922,  1108,   512, 10684,  1037,   659,   673,   294,   777,\n",
      "        1020,  5581,  5243,  3954], dtype=int16), array([1, 1, 0, 0, 0, 0, 0, 1, 0, 1, 1, 0, 1, 1, 1, 1, 1, 1, 1, 0, 0, 1],\n",
      "      dtype=int8), array([24., 33., 19., 54., 25., 28., 12., 20., 62., 32., 16., 16., 15.,\n",
      "       20., 14., 10., 15., 15., 15., 16., 13., 55.]), array([4, 4, 4, 4, 4, 4, 4, 4, 4, 1, 1, 1, 1, 1, 1, 1, 1, 1, 1, 4, 4, 4]))\n",
      "<class 'pandas.core.series.Series'>\n",
      "(array([6278, 5761, 9261, 5123, 5844, 5177, 3827,  966, 7903, 6017, 6278,\n",
      "       6278, 6017, 7903,  966, 3827, 5177, 5844, 5123], dtype=int16), array([0, 0, 1, 1, 1, 0, 1, 1, 0, 0, 0, 1, 0, 0, 0, 1, 0, 1, 1],\n",
      "      dtype=int8), array([24., 23., 20., 17., 16., 14., 22., 12., 18., 22., 19., 29.,  2.,\n",
      "        3.,  5., 17.,  3.,  6.,  2.]), array([4, 4, 4, 4, 4, 4, 4, 1, 0, 4, 4, 4, 4, 0, 1, 4, 4, 4, 4]))\n"
     ]
    }
   ],
   "source": [
    "for k in d.keys():\n",
    "    v = d[k]\n",
    "#     v = str(v)\n",
    "    t = np.array(v)\n",
    "    print(type(v))\n",
    "    print(t[0])\n",
    "#     v = get_v(v)"
   ]
  },
  {
   "cell_type": "code",
   "execution_count": null,
   "metadata": {},
   "outputs": [],
   "source": [
    "group = train_df[['user_id','values']].groupby('user_id').apply(lambda r:(r['values'].values))"
   ]
  },
  {
   "cell_type": "code",
   "execution_count": null,
   "metadata": {},
   "outputs": [],
   "source": [
    "def get_values(values):\n",
    "    values = values.replace(\"(\",\"\").replace(\")\",\"\").replace(\"\\n\",\"\").replace(\" dtype=int16,\",\"\").replace(\"dtype=int8,\",\"\").replace(\"[\",\"\").replace(\"]\",\"\")\n",
    "    splits = values.split('array')\n",
    "    \n",
    "    res = []\n",
    "    for i in range(1, len(splits)-1):\n",
    "        nums = splits[i]\n",
    "        num = nums.strip().split(',')  \n",
    "        num = [int(e.strip().replace(\".\",\"\")) for e in num[:-1]]\n",
    "        res.append(num)\n",
    "#         print(len(num))\n",
    "    nums = splits[-1]\n",
    "    num = nums.strip().split(',')  \n",
    "    num = [int(e.strip().replace(\".\",\"\")) for e in num]\n",
    "    res.append(num)\n",
    "#     print(len(num))\n",
    "    return np.array(res)"
   ]
  },
  {
   "cell_type": "code",
   "execution_count": 238,
   "metadata": {},
   "outputs": [],
   "source": [
    "df = pd.read_csv('/Users/hesu/Documents/KT/riiid/user_seq/train_200_valid_2_4values.csv')"
   ]
  },
  {
   "cell_type": "code",
   "execution_count": 239,
   "metadata": {},
   "outputs": [
    {
     "data": {
      "text/html": [
       "<div>\n",
       "<style scoped>\n",
       "    .dataframe tbody tr th:only-of-type {\n",
       "        vertical-align: middle;\n",
       "    }\n",
       "\n",
       "    .dataframe tbody tr th {\n",
       "        vertical-align: top;\n",
       "    }\n",
       "\n",
       "    .dataframe thead th {\n",
       "        text-align: right;\n",
       "    }\n",
       "</style>\n",
       "<table border=\"1\" class=\"dataframe\">\n",
       "  <thead>\n",
       "    <tr style=\"text-align: right;\">\n",
       "      <th></th>\n",
       "      <th>user_id</th>\n",
       "      <th>value1</th>\n",
       "      <th>value2</th>\n",
       "      <th>value3</th>\n",
       "      <th>value4</th>\n",
       "    </tr>\n",
       "  </thead>\n",
       "  <tbody>\n",
       "    <tr>\n",
       "      <th>0</th>\n",
       "      <td>115</td>\n",
       "      <td>[5692 5716  128 7860 7922  156   51   50 7896 ...</td>\n",
       "      <td>[1 1 1 1 1 1 1 1 1 1 0 0 0 1 1 1 1 0 1 1 0 0 0...</td>\n",
       "      <td>[24 37 55 19 11  5 17 17 16 16 17 22 23 21 24 ...</td>\n",
       "      <td>[4 4 0 0 0 0 0 0 0 0 0 0 0 0 0 0 0 0 0 0 0 0 0...</td>\n",
       "    </tr>\n",
       "    <tr>\n",
       "      <th>1</th>\n",
       "      <td>124</td>\n",
       "      <td>[7900 7876  175 1278 2063 2065 2064 3364 3363 ...</td>\n",
       "      <td>[1 0 1 0 0 1 0 0 0 0 0 1 0 0 0 1 0 0 0 1 0 0 1...</td>\n",
       "      <td>[24 26 29 26 18 18 18 33 33 33 21 21 21 21 21 ...</td>\n",
       "      <td>[0 0 0 1 2 2 2 3 3 3 3 3 3 3 3 3 4 4 4 4 4 4 5...</td>\n",
       "    </tr>\n",
       "    <tr>\n",
       "      <th>2</th>\n",
       "      <td>2746</td>\n",
       "      <td>[ 5273   758  5976   236   404   382   405   8...</td>\n",
       "      <td>[0 0 0 1 0 1 1 1 1 0 1 1 0 1 0 1 1]</td>\n",
       "      <td>[24 28 17 24 20 16 16 19 18 18 20 13 13 16 15 ...</td>\n",
       "      <td>[4 1 4 1 1 1 1 1 1 1 1 1 1 1 1 1 1]</td>\n",
       "    </tr>\n",
       "    <tr>\n",
       "      <th>3</th>\n",
       "      <td>5382</td>\n",
       "      <td>[ 5000  3944   217  5844  5965  4990  5235  60...</td>\n",
       "      <td>[1 0 1 0 1 1 1 1 0 0 0 1 0 1 1 1 1 0 1 1 0 0 0...</td>\n",
       "      <td>[ 24  24  35  88  18  12   5  92  70  14  79  ...</td>\n",
       "      <td>[4 4 1 4 4 4 4 4 4 4 4 0 0 0 0 0 0 0 0 0 0 0 0...</td>\n",
       "    </tr>\n",
       "    <tr>\n",
       "      <th>4</th>\n",
       "      <td>8623</td>\n",
       "      <td>[ 3915  4750  6456  3968  6104  5738  6435  54...</td>\n",
       "      <td>[1 1 1 1 1 1 1 0 0 1 1 0 0 1 1 0 1 1 1 0 0 1 1...</td>\n",
       "      <td>[24 16 33 30 40 35 30 29 15 19 14 38 21 17 16 ...</td>\n",
       "      <td>[4 4 4 4 4 4 4 4 4 4 4 1 1 1 1 1 4 4 4 4 4 4 4...</td>\n",
       "    </tr>\n",
       "    <tr>\n",
       "      <th>5</th>\n",
       "      <td>8701</td>\n",
       "      <td>[ 3901  6671  4963  6143  8279  3964  4002   7...</td>\n",
       "      <td>[1 1 1 0 1 0 0 0 1 0 0 1 1 1 0]</td>\n",
       "      <td>[24 13 15 24 25 44 17 39 16 18 18 18 18 22 16]</td>\n",
       "      <td>[4 4 4 4 4 4 4 1 1 1 1 1 1 1 1]</td>\n",
       "    </tr>\n",
       "    <tr>\n",
       "      <th>6</th>\n",
       "      <td>12741</td>\n",
       "      <td>[ 8750  5952  9133  6016 11183  4424 11280  99...</td>\n",
       "      <td>[1 0 0 1 0 0 0 0 1 1 0 0 1 1 0 1 1 1 1 0 0 1 1...</td>\n",
       "      <td>[ 43  45  22  23  19  36  33  49  29  29  29  ...</td>\n",
       "      <td>[4 4 4 4 4 4 4 4 5 5 5 5 5 5 5 5 5 5 5 5 5 5 5...</td>\n",
       "    </tr>\n",
       "    <tr>\n",
       "      <th>7</th>\n",
       "      <td>13134</td>\n",
       "      <td>[12137 12119 12124 12215 11916 12194 12054 119...</td>\n",
       "      <td>[1 1 1 1 1 1 1 0 1 0 1 0 1 1 0 1 1 1 1 1 1 0 1...</td>\n",
       "      <td>[20 18 17 20 15 18 13 13 18 18 18 33 23 21 18 ...</td>\n",
       "      <td>[1 1 1 1 1 1 1 1 3 3 3 0 0 0 0 0 0 0 0 0 0 0 1...</td>\n",
       "    </tr>\n",
       "    <tr>\n",
       "      <th>8</th>\n",
       "      <td>24418</td>\n",
       "      <td>[ 3951  8469  6081  9796  6299  4174  4612  47...</td>\n",
       "      <td>[1 1 0 0 0 1 1 1 1 1 0 1 1 1 1 1 1 0 0 1 0 0 1...</td>\n",
       "      <td>[13 15 44 24 30 22 18  5  4 20  7  7  7  7 35 ...</td>\n",
       "      <td>[4 4 4 4 4 4 4 4 4 4 5 5 5 5 4 4 4 4 4 4 4 4 4...</td>\n",
       "    </tr>\n",
       "    <tr>\n",
       "      <th>9</th>\n",
       "      <td>24600</td>\n",
       "      <td>[ 7900  7876   175  1278  2064  2065  2063  33...</td>\n",
       "      <td>[1 0 1 1 0 1 0 0 0 0 0 0 0 0 0 0 0 0 1 0 0 0 0...</td>\n",
       "      <td>[24 24 23 22 18 18 18 24 24 24 22 22 22 15 15 ...</td>\n",
       "      <td>[0 0 0 1 2 2 2 3 3 3 3 3 3 3 3 3 4 4 4 4 4 4 5...</td>\n",
       "    </tr>\n",
       "  </tbody>\n",
       "</table>\n",
       "</div>"
      ],
      "text/plain": [
       "   user_id                                             value1  \\\n",
       "0      115  [5692 5716  128 7860 7922  156   51   50 7896 ...   \n",
       "1      124  [7900 7876  175 1278 2063 2065 2064 3364 3363 ...   \n",
       "2     2746  [ 5273   758  5976   236   404   382   405   8...   \n",
       "3     5382  [ 5000  3944   217  5844  5965  4990  5235  60...   \n",
       "4     8623  [ 3915  4750  6456  3968  6104  5738  6435  54...   \n",
       "5     8701  [ 3901  6671  4963  6143  8279  3964  4002   7...   \n",
       "6    12741  [ 8750  5952  9133  6016 11183  4424 11280  99...   \n",
       "7    13134  [12137 12119 12124 12215 11916 12194 12054 119...   \n",
       "8    24418  [ 3951  8469  6081  9796  6299  4174  4612  47...   \n",
       "9    24600  [ 7900  7876   175  1278  2064  2065  2063  33...   \n",
       "\n",
       "                                              value2  \\\n",
       "0  [1 1 1 1 1 1 1 1 1 1 0 0 0 1 1 1 1 0 1 1 0 0 0...   \n",
       "1  [1 0 1 0 0 1 0 0 0 0 0 1 0 0 0 1 0 0 0 1 0 0 1...   \n",
       "2                [0 0 0 1 0 1 1 1 1 0 1 1 0 1 0 1 1]   \n",
       "3  [1 0 1 0 1 1 1 1 0 0 0 1 0 1 1 1 1 0 1 1 0 0 0...   \n",
       "4  [1 1 1 1 1 1 1 0 0 1 1 0 0 1 1 0 1 1 1 0 0 1 1...   \n",
       "5                    [1 1 1 0 1 0 0 0 1 0 0 1 1 1 0]   \n",
       "6  [1 0 0 1 0 0 0 0 1 1 0 0 1 1 0 1 1 1 1 0 0 1 1...   \n",
       "7  [1 1 1 1 1 1 1 0 1 0 1 0 1 1 0 1 1 1 1 1 1 0 1...   \n",
       "8  [1 1 0 0 0 1 1 1 1 1 0 1 1 1 1 1 1 0 0 1 0 0 1...   \n",
       "9  [1 0 1 1 0 1 0 0 0 0 0 0 0 0 0 0 0 0 1 0 0 0 0...   \n",
       "\n",
       "                                              value3  \\\n",
       "0  [24 37 55 19 11  5 17 17 16 16 17 22 23 21 24 ...   \n",
       "1  [24 26 29 26 18 18 18 33 33 33 21 21 21 21 21 ...   \n",
       "2  [24 28 17 24 20 16 16 19 18 18 20 13 13 16 15 ...   \n",
       "3  [ 24  24  35  88  18  12   5  92  70  14  79  ...   \n",
       "4  [24 16 33 30 40 35 30 29 15 19 14 38 21 17 16 ...   \n",
       "5     [24 13 15 24 25 44 17 39 16 18 18 18 18 22 16]   \n",
       "6  [ 43  45  22  23  19  36  33  49  29  29  29  ...   \n",
       "7  [20 18 17 20 15 18 13 13 18 18 18 33 23 21 18 ...   \n",
       "8  [13 15 44 24 30 22 18  5  4 20  7  7  7  7 35 ...   \n",
       "9  [24 24 23 22 18 18 18 24 24 24 22 22 22 15 15 ...   \n",
       "\n",
       "                                              value4  \n",
       "0  [4 4 0 0 0 0 0 0 0 0 0 0 0 0 0 0 0 0 0 0 0 0 0...  \n",
       "1  [0 0 0 1 2 2 2 3 3 3 3 3 3 3 3 3 4 4 4 4 4 4 5...  \n",
       "2                [4 1 4 1 1 1 1 1 1 1 1 1 1 1 1 1 1]  \n",
       "3  [4 4 1 4 4 4 4 4 4 4 4 0 0 0 0 0 0 0 0 0 0 0 0...  \n",
       "4  [4 4 4 4 4 4 4 4 4 4 4 1 1 1 1 1 4 4 4 4 4 4 4...  \n",
       "5                    [4 4 4 4 4 4 4 1 1 1 1 1 1 1 1]  \n",
       "6  [4 4 4 4 4 4 4 4 5 5 5 5 5 5 5 5 5 5 5 5 5 5 5...  \n",
       "7  [1 1 1 1 1 1 1 1 3 3 3 0 0 0 0 0 0 0 0 0 0 0 1...  \n",
       "8  [4 4 4 4 4 4 4 4 4 4 5 5 5 5 4 4 4 4 4 4 4 4 4...  \n",
       "9  [0 0 0 1 2 2 2 3 3 3 3 3 3 3 3 3 4 4 4 4 4 4 5...  "
      ]
     },
     "execution_count": 239,
     "metadata": {},
     "output_type": "execute_result"
    }
   ],
   "source": [
    "df.head(10)"
   ]
  },
  {
   "cell_type": "code",
   "execution_count": 274,
   "metadata": {},
   "outputs": [],
   "source": [
    "one = df.iloc[0,4]"
   ]
  },
  {
   "cell_type": "code",
   "execution_count": 275,
   "metadata": {},
   "outputs": [
    {
     "data": {
      "text/plain": [
       "'[4 4 0 0 0 0 0 0 0 0 0 0 0 0 0 0 0 0 0 0 0 0 0 0 0 0 0 0 0 0 0 0 0 0 0 0 0\\n 0 0 1 2 2 2 3]'"
      ]
     },
     "execution_count": 275,
     "metadata": {},
     "output_type": "execute_result"
    }
   ],
   "source": [
    "one"
   ]
  },
  {
   "cell_type": "code",
   "execution_count": 276,
   "metadata": {},
   "outputs": [
    {
     "data": {
      "text/plain": [
       "str"
      ]
     },
     "execution_count": 276,
     "metadata": {},
     "output_type": "execute_result"
    }
   ],
   "source": [
    "type(one)"
   ]
  },
  {
   "cell_type": "code",
   "execution_count": 277,
   "metadata": {},
   "outputs": [],
   "source": [
    "def from_np_array(array_string):\n",
    "    array_string = ','.join(array_string.replace('[ ', '[').split())\n",
    "    return np.array(ast.literal_eval(array_string))"
   ]
  },
  {
   "cell_type": "code",
   "execution_count": 278,
   "metadata": {},
   "outputs": [],
   "source": [
    "def get_values(values):\n",
    "    values = values.replace(\"(\",\"\").replace(\")\",\"\").replace(\"\\n\",\"\").replace(\" dtype=int16,\",\"\").replace(\"dtype=int8,\",\"\").replace(\"[\",\"\").replace(\"]\",\"\")\n",
    "    splits = values.split('array')\n",
    "    \n",
    "    res = []\n",
    "    for i in range(1, len(splits)-1):\n",
    "        nums = splits[i]\n",
    "        num = nums.strip().split(',')  \n",
    "        num = [int(e.strip().replace(\".\",\"\")) for e in num[:-1]]\n",
    "        res.append(num)\n",
    "#         print(len(num))\n",
    "    nums = splits[-1]\n",
    "    num = nums.strip().split(',')  \n",
    "    num = [int(e.strip().replace(\".\",\"\")) for e in num]\n",
    "    res.append(num)\n",
    "#     print(len(num))\n",
    "    return np.array(res)"
   ]
  },
  {
   "cell_type": "code",
   "execution_count": null,
   "metadata": {},
   "outputs": [],
   "source": [
    "def get_values(value):\n",
    "    value = value.replace(\"[\",\"\").replace(\"]\",\"\").replace(\"\\n\",\"\")\n",
    "    nums = one.strip().split()\n",
    "    nums = [int(e) for e in nums]\n",
    "    \n",
    "    return nums"
   ]
  },
  {
   "cell_type": "code",
   "execution_count": 279,
   "metadata": {},
   "outputs": [],
   "source": [
    "one = one.replace(\"[\",\"\").replace(\"]\",\"\").replace(\"\\n\",\"\")"
   ]
  },
  {
   "cell_type": "code",
   "execution_count": 280,
   "metadata": {},
   "outputs": [
    {
     "data": {
      "text/plain": [
       "'4 4 0 0 0 0 0 0 0 0 0 0 0 0 0 0 0 0 0 0 0 0 0 0 0 0 0 0 0 0 0 0 0 0 0 0 0 0 0 1 2 2 2 3'"
      ]
     },
     "execution_count": 280,
     "metadata": {},
     "output_type": "execute_result"
    }
   ],
   "source": [
    "one"
   ]
  },
  {
   "cell_type": "code",
   "execution_count": 281,
   "metadata": {},
   "outputs": [],
   "source": [
    "nums = one.strip().split()"
   ]
  },
  {
   "cell_type": "code",
   "execution_count": 282,
   "metadata": {},
   "outputs": [],
   "source": [
    "nums = [int(e) for e in nums]"
   ]
  },
  {
   "cell_type": "code",
   "execution_count": 283,
   "metadata": {},
   "outputs": [
    {
     "data": {
      "text/plain": [
       "44"
      ]
     },
     "execution_count": 283,
     "metadata": {},
     "output_type": "execute_result"
    }
   ],
   "source": [
    "len(nums)"
   ]
  },
  {
   "cell_type": "code",
   "execution_count": 284,
   "metadata": {},
   "outputs": [
    {
     "data": {
      "text/plain": [
       "[4,\n",
       " 4,\n",
       " 0,\n",
       " 0,\n",
       " 0,\n",
       " 0,\n",
       " 0,\n",
       " 0,\n",
       " 0,\n",
       " 0,\n",
       " 0,\n",
       " 0,\n",
       " 0,\n",
       " 0,\n",
       " 0,\n",
       " 0,\n",
       " 0,\n",
       " 0,\n",
       " 0,\n",
       " 0,\n",
       " 0,\n",
       " 0,\n",
       " 0,\n",
       " 0,\n",
       " 0,\n",
       " 0,\n",
       " 0,\n",
       " 0,\n",
       " 0,\n",
       " 0,\n",
       " 0,\n",
       " 0,\n",
       " 0,\n",
       " 0,\n",
       " 0,\n",
       " 0,\n",
       " 0,\n",
       " 0,\n",
       " 0,\n",
       " 1,\n",
       " 2,\n",
       " 2,\n",
       " 2,\n",
       " 3]"
      ]
     },
     "execution_count": 284,
     "metadata": {},
     "output_type": "execute_result"
    }
   ],
   "source": [
    "nums"
   ]
  },
  {
   "cell_type": "code",
   "execution_count": 309,
   "metadata": {},
   "outputs": [],
   "source": [
    "import gc"
   ]
  },
  {
   "cell_type": "code",
   "execution_count": null,
   "metadata": {},
   "outputs": [],
   "source": []
  },
  {
   "cell_type": "code",
   "execution_count": null,
   "metadata": {},
   "outputs": [],
   "source": []
  },
  {
   "cell_type": "code",
   "execution_count": 310,
   "metadata": {},
   "outputs": [],
   "source": [
    "def get_values(value):\n",
    "    value = value.replace(\"[\",\"\").replace(\"]\",\"\").replace(\"\\n\",\"\")\n",
    "    nums = value.strip().split()\n",
    "#     nums = [int(e) for e in nums]\n",
    "#     gc.collect()\n",
    "    nums = np.array(nums)\n",
    "    nums = nums.astype(np.int16)\n",
    "#     gc.collect()\n",
    "    return nums"
   ]
  },
  {
   "cell_type": "code",
   "execution_count": 311,
   "metadata": {},
   "outputs": [],
   "source": [
    "df = pd.read_csv('/Users/hesu/Documents/KT/riiid/user_seq/train_200_valid_2_4values.csv',\n",
    "                converters={'value1':get_values,'value2':get_values,'value3':get_values,'value4':get_values,})"
   ]
  },
  {
   "cell_type": "code",
   "execution_count": 292,
   "metadata": {},
   "outputs": [
    {
     "data": {
      "text/html": [
       "<div>\n",
       "<style scoped>\n",
       "    .dataframe tbody tr th:only-of-type {\n",
       "        vertical-align: middle;\n",
       "    }\n",
       "\n",
       "    .dataframe tbody tr th {\n",
       "        vertical-align: top;\n",
       "    }\n",
       "\n",
       "    .dataframe thead th {\n",
       "        text-align: right;\n",
       "    }\n",
       "</style>\n",
       "<table border=\"1\" class=\"dataframe\">\n",
       "  <thead>\n",
       "    <tr style=\"text-align: right;\">\n",
       "      <th></th>\n",
       "      <th>user_id</th>\n",
       "      <th>value1</th>\n",
       "      <th>value2</th>\n",
       "      <th>value3</th>\n",
       "      <th>value4</th>\n",
       "    </tr>\n",
       "  </thead>\n",
       "  <tbody>\n",
       "    <tr>\n",
       "      <th>0</th>\n",
       "      <td>115</td>\n",
       "      <td>[5692, 5716, 128, 7860, 7922, 156, 51, 50, 789...</td>\n",
       "      <td>[1, 1, 1, 1, 1, 1, 1, 1, 1, 1, 0, 0, 0, 1, 1, ...</td>\n",
       "      <td>[24, 37, 55, 19, 11, 5, 17, 17, 16, 16, 17, 22...</td>\n",
       "      <td>[4, 4, 0, 0, 0, 0, 0, 0, 0, 0, 0, 0, 0, 0, 0, ...</td>\n",
       "    </tr>\n",
       "    <tr>\n",
       "      <th>1</th>\n",
       "      <td>124</td>\n",
       "      <td>[7900, 7876, 175, 1278, 2063, 2065, 2064, 3364...</td>\n",
       "      <td>[1, 0, 1, 0, 0, 1, 0, 0, 0, 0, 0, 1, 0, 0, 0, ...</td>\n",
       "      <td>[24, 26, 29, 26, 18, 18, 18, 33, 33, 33, 21, 2...</td>\n",
       "      <td>[0, 0, 0, 1, 2, 2, 2, 3, 3, 3, 3, 3, 3, 3, 3, ...</td>\n",
       "    </tr>\n",
       "    <tr>\n",
       "      <th>2</th>\n",
       "      <td>2746</td>\n",
       "      <td>[5273, 758, 5976, 236, 404, 382, 405, 873, 531...</td>\n",
       "      <td>[0, 0, 0, 1, 0, 1, 1, 1, 1, 0, 1, 1, 0, 1, 0, ...</td>\n",
       "      <td>[24, 28, 17, 24, 20, 16, 16, 19, 18, 18, 20, 1...</td>\n",
       "      <td>[4, 1, 4, 1, 1, 1, 1, 1, 1, 1, 1, 1, 1, 1, 1, ...</td>\n",
       "    </tr>\n",
       "    <tr>\n",
       "      <th>3</th>\n",
       "      <td>5382</td>\n",
       "      <td>[5000, 3944, 217, 5844, 5965, 4990, 5235, 6050...</td>\n",
       "      <td>[1, 0, 1, 0, 1, 1, 1, 1, 0, 0, 0, 1, 0, 1, 1, ...</td>\n",
       "      <td>[24, 24, 35, 88, 18, 12, 5, 92, 70, 14, 79, 66...</td>\n",
       "      <td>[4, 4, 1, 4, 4, 4, 4, 4, 4, 4, 4, 0, 0, 0, 0, ...</td>\n",
       "    </tr>\n",
       "    <tr>\n",
       "      <th>4</th>\n",
       "      <td>8623</td>\n",
       "      <td>[3915, 4750, 6456, 3968, 6104, 5738, 6435, 549...</td>\n",
       "      <td>[1, 1, 1, 1, 1, 1, 1, 0, 0, 1, 1, 0, 0, 1, 1, ...</td>\n",
       "      <td>[24, 16, 33, 30, 40, 35, 30, 29, 15, 19, 14, 3...</td>\n",
       "      <td>[4, 4, 4, 4, 4, 4, 4, 4, 4, 4, 4, 1, 1, 1, 1, ...</td>\n",
       "    </tr>\n",
       "    <tr>\n",
       "      <th>5</th>\n",
       "      <td>8701</td>\n",
       "      <td>[3901, 6671, 4963, 6143, 8279, 3964, 4002, 754...</td>\n",
       "      <td>[1, 1, 1, 0, 1, 0, 0, 0, 1, 0, 0, 1, 1, 1, 0]</td>\n",
       "      <td>[24, 13, 15, 24, 25, 44, 17, 39, 16, 18, 18, 1...</td>\n",
       "      <td>[4, 4, 4, 4, 4, 4, 4, 1, 1, 1, 1, 1, 1, 1, 1]</td>\n",
       "    </tr>\n",
       "    <tr>\n",
       "      <th>6</th>\n",
       "      <td>12741</td>\n",
       "      <td>[8750, 5952, 9133, 6016, 11183, 4424, 11280, 9...</td>\n",
       "      <td>[1, 0, 0, 1, 0, 0, 0, 0, 1, 1, 0, 0, 1, 1, 0, ...</td>\n",
       "      <td>[43, 45, 22, 23, 19, 36, 33, 49, 29, 29, 29, 2...</td>\n",
       "      <td>[4, 4, 4, 4, 4, 4, 4, 4, 5, 5, 5, 5, 5, 5, 5, ...</td>\n",
       "    </tr>\n",
       "    <tr>\n",
       "      <th>7</th>\n",
       "      <td>13134</td>\n",
       "      <td>[12137, 12119, 12124, 12215, 11916, 12194, 120...</td>\n",
       "      <td>[1, 1, 1, 1, 1, 1, 1, 0, 1, 0, 1, 0, 1, 1, 0, ...</td>\n",
       "      <td>[20, 18, 17, 20, 15, 18, 13, 13, 18, 18, 18, 3...</td>\n",
       "      <td>[1, 1, 1, 1, 1, 1, 1, 1, 3, 3, 3, 0, 0, 0, 0, ...</td>\n",
       "    </tr>\n",
       "    <tr>\n",
       "      <th>8</th>\n",
       "      <td>24418</td>\n",
       "      <td>[3951, 8469, 6081, 9796, 6299, 4174, 4612, 473...</td>\n",
       "      <td>[1, 1, 0, 0, 0, 1, 1, 1, 1, 1, 0, 1, 1, 1, 1, ...</td>\n",
       "      <td>[13, 15, 44, 24, 30, 22, 18, 5, 4, 20, 7, 7, 7...</td>\n",
       "      <td>[4, 4, 4, 4, 4, 4, 4, 4, 4, 4, 5, 5, 5, 5, 4, ...</td>\n",
       "    </tr>\n",
       "    <tr>\n",
       "      <th>9</th>\n",
       "      <td>24600</td>\n",
       "      <td>[7900, 7876, 175, 1278, 2064, 2065, 2063, 3363...</td>\n",
       "      <td>[1, 0, 1, 1, 0, 1, 0, 0, 0, 0, 0, 0, 0, 0, 0, ...</td>\n",
       "      <td>[24, 24, 23, 22, 18, 18, 18, 24, 24, 24, 22, 2...</td>\n",
       "      <td>[0, 0, 0, 1, 2, 2, 2, 3, 3, 3, 3, 3, 3, 3, 3, ...</td>\n",
       "    </tr>\n",
       "  </tbody>\n",
       "</table>\n",
       "</div>"
      ],
      "text/plain": [
       "   user_id                                             value1  \\\n",
       "0      115  [5692, 5716, 128, 7860, 7922, 156, 51, 50, 789...   \n",
       "1      124  [7900, 7876, 175, 1278, 2063, 2065, 2064, 3364...   \n",
       "2     2746  [5273, 758, 5976, 236, 404, 382, 405, 873, 531...   \n",
       "3     5382  [5000, 3944, 217, 5844, 5965, 4990, 5235, 6050...   \n",
       "4     8623  [3915, 4750, 6456, 3968, 6104, 5738, 6435, 549...   \n",
       "5     8701  [3901, 6671, 4963, 6143, 8279, 3964, 4002, 754...   \n",
       "6    12741  [8750, 5952, 9133, 6016, 11183, 4424, 11280, 9...   \n",
       "7    13134  [12137, 12119, 12124, 12215, 11916, 12194, 120...   \n",
       "8    24418  [3951, 8469, 6081, 9796, 6299, 4174, 4612, 473...   \n",
       "9    24600  [7900, 7876, 175, 1278, 2064, 2065, 2063, 3363...   \n",
       "\n",
       "                                              value2  \\\n",
       "0  [1, 1, 1, 1, 1, 1, 1, 1, 1, 1, 0, 0, 0, 1, 1, ...   \n",
       "1  [1, 0, 1, 0, 0, 1, 0, 0, 0, 0, 0, 1, 0, 0, 0, ...   \n",
       "2  [0, 0, 0, 1, 0, 1, 1, 1, 1, 0, 1, 1, 0, 1, 0, ...   \n",
       "3  [1, 0, 1, 0, 1, 1, 1, 1, 0, 0, 0, 1, 0, 1, 1, ...   \n",
       "4  [1, 1, 1, 1, 1, 1, 1, 0, 0, 1, 1, 0, 0, 1, 1, ...   \n",
       "5      [1, 1, 1, 0, 1, 0, 0, 0, 1, 0, 0, 1, 1, 1, 0]   \n",
       "6  [1, 0, 0, 1, 0, 0, 0, 0, 1, 1, 0, 0, 1, 1, 0, ...   \n",
       "7  [1, 1, 1, 1, 1, 1, 1, 0, 1, 0, 1, 0, 1, 1, 0, ...   \n",
       "8  [1, 1, 0, 0, 0, 1, 1, 1, 1, 1, 0, 1, 1, 1, 1, ...   \n",
       "9  [1, 0, 1, 1, 0, 1, 0, 0, 0, 0, 0, 0, 0, 0, 0, ...   \n",
       "\n",
       "                                              value3  \\\n",
       "0  [24, 37, 55, 19, 11, 5, 17, 17, 16, 16, 17, 22...   \n",
       "1  [24, 26, 29, 26, 18, 18, 18, 33, 33, 33, 21, 2...   \n",
       "2  [24, 28, 17, 24, 20, 16, 16, 19, 18, 18, 20, 1...   \n",
       "3  [24, 24, 35, 88, 18, 12, 5, 92, 70, 14, 79, 66...   \n",
       "4  [24, 16, 33, 30, 40, 35, 30, 29, 15, 19, 14, 3...   \n",
       "5  [24, 13, 15, 24, 25, 44, 17, 39, 16, 18, 18, 1...   \n",
       "6  [43, 45, 22, 23, 19, 36, 33, 49, 29, 29, 29, 2...   \n",
       "7  [20, 18, 17, 20, 15, 18, 13, 13, 18, 18, 18, 3...   \n",
       "8  [13, 15, 44, 24, 30, 22, 18, 5, 4, 20, 7, 7, 7...   \n",
       "9  [24, 24, 23, 22, 18, 18, 18, 24, 24, 24, 22, 2...   \n",
       "\n",
       "                                              value4  \n",
       "0  [4, 4, 0, 0, 0, 0, 0, 0, 0, 0, 0, 0, 0, 0, 0, ...  \n",
       "1  [0, 0, 0, 1, 2, 2, 2, 3, 3, 3, 3, 3, 3, 3, 3, ...  \n",
       "2  [4, 1, 4, 1, 1, 1, 1, 1, 1, 1, 1, 1, 1, 1, 1, ...  \n",
       "3  [4, 4, 1, 4, 4, 4, 4, 4, 4, 4, 4, 0, 0, 0, 0, ...  \n",
       "4  [4, 4, 4, 4, 4, 4, 4, 4, 4, 4, 4, 1, 1, 1, 1, ...  \n",
       "5      [4, 4, 4, 4, 4, 4, 4, 1, 1, 1, 1, 1, 1, 1, 1]  \n",
       "6  [4, 4, 4, 4, 4, 4, 4, 4, 5, 5, 5, 5, 5, 5, 5, ...  \n",
       "7  [1, 1, 1, 1, 1, 1, 1, 1, 3, 3, 3, 0, 0, 0, 0, ...  \n",
       "8  [4, 4, 4, 4, 4, 4, 4, 4, 4, 4, 5, 5, 5, 5, 4, ...  \n",
       "9  [0, 0, 0, 1, 2, 2, 2, 3, 3, 3, 3, 3, 3, 3, 3, ...  "
      ]
     },
     "execution_count": 292,
     "metadata": {},
     "output_type": "execute_result"
    }
   ],
   "source": [
    "df.head(10)"
   ]
  },
  {
   "cell_type": "code",
   "execution_count": 299,
   "metadata": {},
   "outputs": [],
   "source": [
    "one = df.iloc[0,4]"
   ]
  },
  {
   "cell_type": "code",
   "execution_count": 300,
   "metadata": {},
   "outputs": [
    {
     "data": {
      "text/plain": [
       "array([4, 4, 0, 0, 0, 0, 0, 0, 0, 0, 0, 0, 0, 0, 0, 0, 0, 0, 0, 0, 0, 0,\n",
       "       0, 0, 0, 0, 0, 0, 0, 0, 0, 0, 0, 0, 0, 0, 0, 0, 0, 1, 2, 2, 2, 3],\n",
       "      dtype=int16)"
      ]
     },
     "execution_count": 300,
     "metadata": {},
     "output_type": "execute_result"
    }
   ],
   "source": [
    "one"
   ]
  },
  {
   "cell_type": "code",
   "execution_count": 301,
   "metadata": {},
   "outputs": [
    {
     "ename": "ModuleNotFoundError",
     "evalue": "No module named 'cudf'",
     "output_type": "error",
     "traceback": [
      "\u001b[0;31m---------------------------------------------------------------------------\u001b[0m",
      "\u001b[0;31mModuleNotFoundError\u001b[0m                       Traceback (most recent call last)",
      "\u001b[0;32m<ipython-input-301-e13365c50bc4>\u001b[0m in \u001b[0;36m<module>\u001b[0;34m\u001b[0m\n\u001b[0;32m----> 1\u001b[0;31m \u001b[0;32mimport\u001b[0m \u001b[0mcudf\u001b[0m\u001b[0;34m\u001b[0m\u001b[0;34m\u001b[0m\u001b[0m\n\u001b[0m",
      "\u001b[0;31mModuleNotFoundError\u001b[0m: No module named 'cudf'"
     ]
    }
   ],
   "source": [
    "import cudf"
   ]
  },
  {
   "cell_type": "code",
   "execution_count": 302,
   "metadata": {},
   "outputs": [
    {
     "name": "stdout",
     "output_type": "stream",
     "text": [
      "Collecting cudf\n",
      "  Downloading cudf-0.6.1.post1.tar.gz (1.1 kB)\n",
      "Building wheels for collected packages: cudf\n",
      "  Building wheel for cudf (setup.py) ... \u001b[?25lerror\n",
      "\u001b[31m  ERROR: Command errored out with exit status 1:\n",
      "   command: /anaconda3/envs/torch1.4/bin/python3.7 -u -c 'import sys, setuptools, tokenize; sys.argv[0] = '\"'\"'/private/var/folders/vn/9lmrj0994cngv302ddhb6j0h0000gn/T/pip-install-to9206ma/cudf/setup.py'\"'\"'; __file__='\"'\"'/private/var/folders/vn/9lmrj0994cngv302ddhb6j0h0000gn/T/pip-install-to9206ma/cudf/setup.py'\"'\"';f=getattr(tokenize, '\"'\"'open'\"'\"', open)(__file__);code=f.read().replace('\"'\"'\\r\\n'\"'\"', '\"'\"'\\n'\"'\"');f.close();exec(compile(code, __file__, '\"'\"'exec'\"'\"'))' bdist_wheel -d /private/var/folders/vn/9lmrj0994cngv302ddhb6j0h0000gn/T/pip-wheel-1gw2v11a\n",
      "       cwd: /private/var/folders/vn/9lmrj0994cngv302ddhb6j0h0000gn/T/pip-install-to9206ma/cudf/\n",
      "  Complete output (25 lines):\n",
      "  running bdist_wheel\n",
      "  running build\n",
      "  installing to build/bdist.macosx-10.9-x86_64/wheel\n",
      "  running install\n",
      "  Traceback (most recent call last):\n",
      "    File \"<string>\", line 1, in <module>\n",
      "    File \"/private/var/folders/vn/9lmrj0994cngv302ddhb6j0h0000gn/T/pip-install-to9206ma/cudf/setup.py\", line 35, in <module>\n",
      "      cmdclass={'install': InstallWrapper},\n",
      "    File \"/anaconda3/envs/torch1.4/lib/python3.7/site-packages/setuptools/__init__.py\", line 165, in setup\n",
      "      return distutils.core.setup(**attrs)\n",
      "    File \"/anaconda3/envs/torch1.4/lib/python3.7/distutils/core.py\", line 148, in setup\n",
      "      dist.run_commands()\n",
      "    File \"/anaconda3/envs/torch1.4/lib/python3.7/distutils/dist.py\", line 966, in run_commands\n",
      "      self.run_command(cmd)\n",
      "    File \"/anaconda3/envs/torch1.4/lib/python3.7/distutils/dist.py\", line 985, in run_command\n",
      "      cmd_obj.run()\n",
      "    File \"/anaconda3/envs/torch1.4/lib/python3.7/site-packages/wheel/bdist_wheel.py\", line 259, in run\n",
      "      self.run_command('install')\n",
      "    File \"/anaconda3/envs/torch1.4/lib/python3.7/distutils/cmd.py\", line 313, in run_command\n",
      "      self.distribution.run_command(command)\n",
      "    File \"/anaconda3/envs/torch1.4/lib/python3.7/distutils/dist.py\", line 985, in run_command\n",
      "      cmd_obj.run()\n",
      "    File \"/private/var/folders/vn/9lmrj0994cngv302ddhb6j0h0000gn/T/pip-install-to9206ma/cudf/setup.py\", line 15, in run\n",
      "      raise Exception(long_description)\n",
      "  Exception: Please install cudf via the rapidsai conda channel. See https://rapids.ai/start.html for instructions.\n",
      "  ----------------------------------------\u001b[0m\n",
      "\u001b[31m  ERROR: Failed building wheel for cudf\u001b[0m\n",
      "\u001b[?25h  Running setup.py clean for cudf\n",
      "Failed to build cudf\n",
      "\u001b[33mDEPRECATION: Could not build wheels for cudf which do not use PEP 517. pip will fall back to legacy 'setup.py install' for these. pip 21.0 will remove support for this functionality. A possible replacement is to fix the wheel build issue reported above. You can find discussion regarding this at https://github.com/pypa/pip/issues/8368.\u001b[0m\n",
      "Installing collected packages: cudf\n",
      "    Running setup.py install for cudf ... \u001b[?25lerror\n",
      "\u001b[31m    ERROR: Command errored out with exit status 1:\n",
      "     command: /anaconda3/envs/torch1.4/bin/python3.7 -u -c 'import sys, setuptools, tokenize; sys.argv[0] = '\"'\"'/private/var/folders/vn/9lmrj0994cngv302ddhb6j0h0000gn/T/pip-install-to9206ma/cudf/setup.py'\"'\"'; __file__='\"'\"'/private/var/folders/vn/9lmrj0994cngv302ddhb6j0h0000gn/T/pip-install-to9206ma/cudf/setup.py'\"'\"';f=getattr(tokenize, '\"'\"'open'\"'\"', open)(__file__);code=f.read().replace('\"'\"'\\r\\n'\"'\"', '\"'\"'\\n'\"'\"');f.close();exec(compile(code, __file__, '\"'\"'exec'\"'\"'))' install --record /private/var/folders/vn/9lmrj0994cngv302ddhb6j0h0000gn/T/pip-record-96xp6yqg/install-record.txt --single-version-externally-managed --compile --install-headers /anaconda3/envs/torch1.4/include/python3.7m/cudf\n",
      "         cwd: /private/var/folders/vn/9lmrj0994cngv302ddhb6j0h0000gn/T/pip-install-to9206ma/cudf/\n",
      "    Complete output (16 lines):\n",
      "    running install\n",
      "    Traceback (most recent call last):\n",
      "      File \"<string>\", line 1, in <module>\n",
      "      File \"/private/var/folders/vn/9lmrj0994cngv302ddhb6j0h0000gn/T/pip-install-to9206ma/cudf/setup.py\", line 35, in <module>\n",
      "        cmdclass={'install': InstallWrapper},\n",
      "      File \"/anaconda3/envs/torch1.4/lib/python3.7/site-packages/setuptools/__init__.py\", line 165, in setup\n",
      "        return distutils.core.setup(**attrs)\n",
      "      File \"/anaconda3/envs/torch1.4/lib/python3.7/distutils/core.py\", line 148, in setup\n",
      "        dist.run_commands()\n",
      "      File \"/anaconda3/envs/torch1.4/lib/python3.7/distutils/dist.py\", line 966, in run_commands\n",
      "        self.run_command(cmd)\n",
      "      File \"/anaconda3/envs/torch1.4/lib/python3.7/distutils/dist.py\", line 985, in run_command\n",
      "        cmd_obj.run()\n",
      "      File \"/private/var/folders/vn/9lmrj0994cngv302ddhb6j0h0000gn/T/pip-install-to9206ma/cudf/setup.py\", line 15, in run\n",
      "        raise Exception(long_description)\n",
      "    Exception: Please install cudf via the rapidsai conda channel. See https://rapids.ai/start.html for instructions.\n",
      "    ----------------------------------------\u001b[0m\n",
      "\u001b[31mERROR: Command errored out with exit status 1: /anaconda3/envs/torch1.4/bin/python3.7 -u -c 'import sys, setuptools, tokenize; sys.argv[0] = '\"'\"'/private/var/folders/vn/9lmrj0994cngv302ddhb6j0h0000gn/T/pip-install-to9206ma/cudf/setup.py'\"'\"'; __file__='\"'\"'/private/var/folders/vn/9lmrj0994cngv302ddhb6j0h0000gn/T/pip-install-to9206ma/cudf/setup.py'\"'\"';f=getattr(tokenize, '\"'\"'open'\"'\"', open)(__file__);code=f.read().replace('\"'\"'\\r\\n'\"'\"', '\"'\"'\\n'\"'\"');f.close();exec(compile(code, __file__, '\"'\"'exec'\"'\"'))' install --record /private/var/folders/vn/9lmrj0994cngv302ddhb6j0h0000gn/T/pip-record-96xp6yqg/install-record.txt --single-version-externally-managed --compile --install-headers /anaconda3/envs/torch1.4/include/python3.7m/cudf Check the logs for full command output.\u001b[0m\n",
      "\u001b[?25h"
     ]
    }
   ],
   "source": [
    "!pip install cudf"
   ]
  },
  {
   "cell_type": "code",
   "execution_count": null,
   "metadata": {},
   "outputs": [],
   "source": []
  },
  {
   "cell_type": "code",
   "execution_count": 313,
   "metadata": {},
   "outputs": [],
   "source": [
    "import torch"
   ]
  },
  {
   "cell_type": "code",
   "execution_count": 316,
   "metadata": {},
   "outputs": [],
   "source": [
    "logits = torch.randn(2,2,2)"
   ]
  },
  {
   "cell_type": "code",
   "execution_count": 317,
   "metadata": {},
   "outputs": [
    {
     "data": {
      "text/plain": [
       "tensor([[[-0.2381,  0.4857],\n",
       "         [-0.4578,  0.0118]],\n",
       "\n",
       "        [[ 0.6282,  0.0636],\n",
       "         [-1.0967, -0.0796]]])"
      ]
     },
     "execution_count": 317,
     "metadata": {},
     "output_type": "execute_result"
    }
   ],
   "source": [
    "logits"
   ]
  },
  {
   "cell_type": "code",
   "execution_count": 319,
   "metadata": {},
   "outputs": [
    {
     "data": {
      "text/plain": [
       "torch.Size([2, 2, 2])"
      ]
     },
     "execution_count": 319,
     "metadata": {},
     "output_type": "execute_result"
    }
   ],
   "source": [
    "targets.shape"
   ]
  },
  {
   "cell_type": "code",
   "execution_count": 320,
   "metadata": {},
   "outputs": [],
   "source": [
    "targets = torch.tensor([[1,1],[0,1]])"
   ]
  },
  {
   "cell_type": "code",
   "execution_count": 321,
   "metadata": {},
   "outputs": [
    {
     "data": {
      "text/plain": [
       "torch.Size([2, 2])"
      ]
     },
     "execution_count": 321,
     "metadata": {},
     "output_type": "execute_result"
    }
   ],
   "source": [
    "targets.shape"
   ]
  },
  {
   "cell_type": "code",
   "execution_count": 337,
   "metadata": {},
   "outputs": [],
   "source": []
  },
  {
   "cell_type": "code",
   "execution_count": 323,
   "metadata": {},
   "outputs": [],
   "source": [
    "logits_flat = logits.view(-1, logits.size(-1))"
   ]
  },
  {
   "cell_type": "code",
   "execution_count": 324,
   "metadata": {},
   "outputs": [
    {
     "data": {
      "text/plain": [
       "torch.Size([4, 2])"
      ]
     },
     "execution_count": 324,
     "metadata": {},
     "output_type": "execute_result"
    }
   ],
   "source": [
    "logits_flat.shape"
   ]
  },
  {
   "cell_type": "code",
   "execution_count": 325,
   "metadata": {},
   "outputs": [],
   "source": [
    "log_probs_flat = torch.nn.functional.log_softmax(logits_flat, dim=-1)\n"
   ]
  },
  {
   "cell_type": "code",
   "execution_count": 326,
   "metadata": {},
   "outputs": [
    {
     "data": {
      "text/plain": [
       "tensor([[-1.1192, -0.3954],\n",
       "        [-0.9553, -0.4856],\n",
       "        [-0.4502, -1.0148],\n",
       "        [-1.3258, -0.3087]])"
      ]
     },
     "execution_count": 326,
     "metadata": {},
     "output_type": "execute_result"
    }
   ],
   "source": [
    "log_probs_flat"
   ]
  },
  {
   "cell_type": "code",
   "execution_count": 327,
   "metadata": {},
   "outputs": [
    {
     "data": {
      "text/plain": [
       "torch.Size([4, 2])"
      ]
     },
     "execution_count": 327,
     "metadata": {},
     "output_type": "execute_result"
    }
   ],
   "source": [
    "log_probs_flat.shape"
   ]
  },
  {
   "cell_type": "code",
   "execution_count": 328,
   "metadata": {},
   "outputs": [],
   "source": [
    "targets_flat = targets.view(-1, 1).long()\n"
   ]
  },
  {
   "cell_type": "code",
   "execution_count": 329,
   "metadata": {},
   "outputs": [
    {
     "data": {
      "text/plain": [
       "torch.Size([4, 1])"
      ]
     },
     "execution_count": 329,
     "metadata": {},
     "output_type": "execute_result"
    }
   ],
   "source": [
    "targets_flat.shape"
   ]
  },
  {
   "cell_type": "code",
   "execution_count": 330,
   "metadata": {},
   "outputs": [],
   "source": [
    "negative_log_likelihood_flat = - torch.gather(log_probs_flat, dim=1, index=targets_flat)\n"
   ]
  },
  {
   "cell_type": "code",
   "execution_count": 331,
   "metadata": {},
   "outputs": [
    {
     "data": {
      "text/plain": [
       "tensor([[0.3954],\n",
       "        [0.4856],\n",
       "        [0.4502],\n",
       "        [0.3087]])"
      ]
     },
     "execution_count": 331,
     "metadata": {},
     "output_type": "execute_result"
    }
   ],
   "source": [
    "negative_log_likelihood_flat"
   ]
  },
  {
   "cell_type": "code",
   "execution_count": 332,
   "metadata": {},
   "outputs": [
    {
     "data": {
      "text/plain": [
       "torch.Size([4, 1])"
      ]
     },
     "execution_count": 332,
     "metadata": {},
     "output_type": "execute_result"
    }
   ],
   "source": [
    "negative_log_likelihood_flat.shape"
   ]
  },
  {
   "cell_type": "code",
   "execution_count": 333,
   "metadata": {},
   "outputs": [],
   "source": [
    "negative_log_likelihood = negative_log_likelihood_flat.view(*targets.size())\n"
   ]
  },
  {
   "cell_type": "code",
   "execution_count": 334,
   "metadata": {},
   "outputs": [
    {
     "data": {
      "text/plain": [
       "tensor([[0.3954, 0.4856],\n",
       "        [0.4502, 0.3087]])"
      ]
     },
     "execution_count": 334,
     "metadata": {},
     "output_type": "execute_result"
    }
   ],
   "source": [
    "negative_log_likelihood"
   ]
  },
  {
   "cell_type": "code",
   "execution_count": 335,
   "metadata": {},
   "outputs": [
    {
     "data": {
      "text/plain": [
       "torch.Size([2, 2])"
      ]
     },
     "execution_count": 335,
     "metadata": {},
     "output_type": "execute_result"
    }
   ],
   "source": [
    "negative_log_likelihood.shape"
   ]
  },
  {
   "cell_type": "code",
   "execution_count": 340,
   "metadata": {},
   "outputs": [],
   "source": [
    "weights = torch.tensor([[1,1],[1,0]])"
   ]
  },
  {
   "cell_type": "code",
   "execution_count": 341,
   "metadata": {},
   "outputs": [],
   "source": [
    "negative_log_likelihood = negative_log_likelihood * weights.float()\n"
   ]
  },
  {
   "cell_type": "code",
   "execution_count": 342,
   "metadata": {},
   "outputs": [
    {
     "data": {
      "text/plain": [
       "tensor([[0.3954, 0.4856],\n",
       "        [0.4502, 0.0000]])"
      ]
     },
     "execution_count": 342,
     "metadata": {},
     "output_type": "execute_result"
    }
   ],
   "source": [
    "negative_log_likelihood"
   ]
  },
  {
   "cell_type": "code",
   "execution_count": 344,
   "metadata": {},
   "outputs": [
    {
     "data": {
      "text/plain": [
       "tensor([0.4405, 0.4502])"
      ]
     },
     "execution_count": 344,
     "metadata": {},
     "output_type": "execute_result"
    }
   ],
   "source": [
    "per_batch_loss = negative_log_likelihood.sum(1) / (weights.sum(1).float() + 1e-13)\n",
    "per_batch_loss"
   ]
  },
  {
   "cell_type": "code",
   "execution_count": 345,
   "metadata": {},
   "outputs": [
    {
     "data": {
      "text/plain": [
       "tensor(2.)"
      ]
     },
     "execution_count": 345,
     "metadata": {},
     "output_type": "execute_result"
    }
   ],
   "source": [
    "num_non_empty_sequences = ((weights.sum(1) > 0).float().sum() + 1e-13)\n",
    "num_non_empty_sequences"
   ]
  },
  {
   "cell_type": "code",
   "execution_count": 347,
   "metadata": {},
   "outputs": [
    {
     "data": {
      "text/plain": [
       "tensor(0.4453)"
      ]
     },
     "execution_count": 347,
     "metadata": {},
     "output_type": "execute_result"
    }
   ],
   "source": [
    "loss = per_batch_loss.sum() / num_non_empty_sequences\n",
    "loss"
   ]
  },
  {
   "cell_type": "code",
   "execution_count": 349,
   "metadata": {},
   "outputs": [],
   "source": [
    "output = torch.randn(16,100)"
   ]
  },
  {
   "cell_type": "code",
   "execution_count": 350,
   "metadata": {},
   "outputs": [],
   "source": [
    "output = output[:,-1]"
   ]
  },
  {
   "cell_type": "code",
   "execution_count": 351,
   "metadata": {},
   "outputs": [
    {
     "data": {
      "text/plain": [
       "torch.Size([16])"
      ]
     },
     "execution_count": 351,
     "metadata": {},
     "output_type": "execute_result"
    }
   ],
   "source": [
    "output.shape"
   ]
  },
  {
   "cell_type": "code",
   "execution_count": 352,
   "metadata": {},
   "outputs": [
    {
     "data": {
      "text/plain": [
       "tensor([ 0.3317, -0.2669,  0.4234, -0.6401, -0.6972,  1.3790, -0.4424, -0.2122,\n",
       "        -0.5731,  0.6453,  1.2340,  0.0071, -1.9100,  0.2001, -0.6717,  0.3526])"
      ]
     },
     "execution_count": 352,
     "metadata": {},
     "output_type": "execute_result"
    }
   ],
   "source": [
    "output"
   ]
  },
  {
   "cell_type": "code",
   "execution_count": 353,
   "metadata": {},
   "outputs": [],
   "source": [
    "pred = (torch.sigmoid(output) >=0.5).long()"
   ]
  },
  {
   "cell_type": "code",
   "execution_count": 354,
   "metadata": {},
   "outputs": [
    {
     "data": {
      "text/plain": [
       "tensor([1, 0, 1, 0, 0, 1, 0, 0, 0, 1, 1, 1, 0, 1, 0, 1])"
      ]
     },
     "execution_count": 354,
     "metadata": {},
     "output_type": "execute_result"
    }
   ],
   "source": [
    "pred"
   ]
  },
  {
   "cell_type": "code",
   "execution_count": 357,
   "metadata": {},
   "outputs": [],
   "source": [
    "label = torch.randint(0,2,(16,))"
   ]
  },
  {
   "cell_type": "code",
   "execution_count": 358,
   "metadata": {},
   "outputs": [
    {
     "data": {
      "text/plain": [
       "tensor([1, 0, 0, 1, 1, 1, 0, 1, 0, 1, 1, 1, 1, 1, 1, 0])"
      ]
     },
     "execution_count": 358,
     "metadata": {},
     "output_type": "execute_result"
    }
   ],
   "source": [
    "label"
   ]
  },
  {
   "cell_type": "code",
   "execution_count": 359,
   "metadata": {},
   "outputs": [],
   "source": [
    "num_corrects = (pred == label).sum().item()"
   ]
  },
  {
   "cell_type": "code",
   "execution_count": 360,
   "metadata": {},
   "outputs": [
    {
     "data": {
      "text/plain": [
       "9"
      ]
     },
     "execution_count": 360,
     "metadata": {},
     "output_type": "execute_result"
    }
   ],
   "source": [
    "num_corrects"
   ]
  },
  {
   "cell_type": "code",
   "execution_count": null,
   "metadata": {},
   "outputs": [],
   "source": []
  },
  {
   "cell_type": "code",
   "execution_count": null,
   "metadata": {},
   "outputs": [],
   "source": []
  },
  {
   "cell_type": "code",
   "execution_count": null,
   "metadata": {},
   "outputs": [],
   "source": []
  },
  {
   "cell_type": "code",
   "execution_count": 366,
   "metadata": {},
   "outputs": [],
   "source": [
    "import torch.nn.functional as F\n"
   ]
  },
  {
   "cell_type": "markdown",
   "metadata": {},
   "source": [
    "# train"
   ]
  },
  {
   "cell_type": "code",
   "execution_count": 361,
   "metadata": {},
   "outputs": [
    {
     "data": {
      "text/plain": [
       "tensor([ 0.3317, -0.2669,  0.4234, -0.6401, -0.6972,  1.3790, -0.4424, -0.2122,\n",
       "        -0.5731,  0.6453,  1.2340,  0.0071, -1.9100,  0.2001, -0.6717,  0.3526])"
      ]
     },
     "execution_count": 361,
     "metadata": {},
     "output_type": "execute_result"
    }
   ],
   "source": [
    "output"
   ]
  },
  {
   "cell_type": "code",
   "execution_count": 362,
   "metadata": {},
   "outputs": [
    {
     "data": {
      "text/plain": [
       "torch.Size([16])"
      ]
     },
     "execution_count": 362,
     "metadata": {},
     "output_type": "execute_result"
    }
   ],
   "source": [
    "output.shape"
   ]
  },
  {
   "cell_type": "code",
   "execution_count": 425,
   "metadata": {},
   "outputs": [],
   "source": [
    "output = torch.randn(16,100,2)"
   ]
  },
  {
   "cell_type": "code",
   "execution_count": 426,
   "metadata": {},
   "outputs": [
    {
     "data": {
      "text/plain": [
       "torch.Size([16, 100, 2])"
      ]
     },
     "execution_count": 426,
     "metadata": {},
     "output_type": "execute_result"
    }
   ],
   "source": [
    "output.shape"
   ]
  },
  {
   "cell_type": "code",
   "execution_count": 427,
   "metadata": {},
   "outputs": [],
   "source": [
    "output = output[:,-1,:]"
   ]
  },
  {
   "cell_type": "code",
   "execution_count": 428,
   "metadata": {},
   "outputs": [],
   "source": [
    "class_probs = F.softmax(output, dim=-1)"
   ]
  },
  {
   "cell_type": "code",
   "execution_count": 429,
   "metadata": {},
   "outputs": [
    {
     "data": {
      "text/plain": [
       "torch.Size([16, 2])"
      ]
     },
     "execution_count": 429,
     "metadata": {},
     "output_type": "execute_result"
    }
   ],
   "source": [
    "class_probs.shape"
   ]
  },
  {
   "cell_type": "code",
   "execution_count": 467,
   "metadata": {},
   "outputs": [],
   "source": [
    "max_vals = torch.max(class_probs, dim=-1)"
   ]
  },
  {
   "cell_type": "code",
   "execution_count": 468,
   "metadata": {},
   "outputs": [],
   "source": [
    "idx = max_vals[1]"
   ]
  },
  {
   "cell_type": "code",
   "execution_count": 469,
   "metadata": {},
   "outputs": [
    {
     "data": {
      "text/plain": [
       "tensor([1, 0, 0, 0, 0, 1, 1, 0, 1, 1, 0, 1, 0, 1, 0, 1])"
      ]
     },
     "execution_count": 469,
     "metadata": {},
     "output_type": "execute_result"
    }
   ],
   "source": [
    "idx"
   ]
  },
  {
   "cell_type": "code",
   "execution_count": 431,
   "metadata": {},
   "outputs": [],
   "source": [
    "idx = max_vals[1].tolist()\n",
    "idx = torch.LongTensor(idx)"
   ]
  },
  {
   "cell_type": "code",
   "execution_count": 432,
   "metadata": {},
   "outputs": [
    {
     "data": {
      "text/plain": [
       "tensor([1, 0, 0, 0, 0, 1, 1, 0, 1, 1, 0, 1, 0, 1, 0, 1])"
      ]
     },
     "execution_count": 432,
     "metadata": {},
     "output_type": "execute_result"
    }
   ],
   "source": [
    "idx"
   ]
  },
  {
   "cell_type": "code",
   "execution_count": 433,
   "metadata": {},
   "outputs": [
    {
     "data": {
      "text/plain": [
       "torch.Size([16])"
      ]
     },
     "execution_count": 433,
     "metadata": {},
     "output_type": "execute_result"
    }
   ],
   "source": [
    "idx.shape"
   ]
  },
  {
   "cell_type": "code",
   "execution_count": 434,
   "metadata": {},
   "outputs": [],
   "source": [
    "pred = idx"
   ]
  },
  {
   "cell_type": "code",
   "execution_count": 435,
   "metadata": {},
   "outputs": [],
   "source": [
    "label = torch.randint(0,2,(16,100))"
   ]
  },
  {
   "cell_type": "code",
   "execution_count": 436,
   "metadata": {},
   "outputs": [],
   "source": [
    "label = label[:,-1]"
   ]
  },
  {
   "cell_type": "code",
   "execution_count": 437,
   "metadata": {},
   "outputs": [
    {
     "data": {
      "text/plain": [
       "tensor([1, 1, 1, 0, 1, 1, 1, 1, 1, 1, 0, 1, 0, 0, 0, 1])"
      ]
     },
     "execution_count": 437,
     "metadata": {},
     "output_type": "execute_result"
    }
   ],
   "source": [
    "label"
   ]
  },
  {
   "cell_type": "code",
   "execution_count": 480,
   "metadata": {},
   "outputs": [
    {
     "data": {
      "text/plain": [
       "torch.Tensor"
      ]
     },
     "execution_count": 480,
     "metadata": {},
     "output_type": "execute_result"
    }
   ],
   "source": [
    "type(label)"
   ]
  },
  {
   "cell_type": "code",
   "execution_count": 438,
   "metadata": {},
   "outputs": [],
   "source": [
    "num_corrects = (pred == label).sum().item()"
   ]
  },
  {
   "cell_type": "code",
   "execution_count": null,
   "metadata": {},
   "outputs": [],
   "source": []
  },
  {
   "cell_type": "code",
   "execution_count": null,
   "metadata": {},
   "outputs": [],
   "source": []
  },
  {
   "cell_type": "code",
   "execution_count": null,
   "metadata": {},
   "outputs": [],
   "source": []
  },
  {
   "cell_type": "code",
   "execution_count": 439,
   "metadata": {},
   "outputs": [
    {
     "data": {
      "text/plain": [
       "11"
      ]
     },
     "execution_count": 439,
     "metadata": {},
     "output_type": "execute_result"
    }
   ],
   "source": [
    "num_corrects"
   ]
  },
  {
   "cell_type": "code",
   "execution_count": 440,
   "metadata": {},
   "outputs": [
    {
     "data": {
      "text/plain": [
       "tensor([[ 1.5550,  1.7018],\n",
       "        [ 0.2340, -1.9665],\n",
       "        [ 1.9392,  1.7009],\n",
       "        [ 0.2210, -0.2310],\n",
       "        [ 0.3684, -0.2880],\n",
       "        [ 0.5676,  1.1496],\n",
       "        [-0.4225, -0.1491],\n",
       "        [ 0.1394, -0.0851],\n",
       "        [-1.6651, -0.2104],\n",
       "        [-0.0787,  1.4250],\n",
       "        [ 0.3141, -0.0566],\n",
       "        [-3.4404, -0.1952],\n",
       "        [ 0.1833, -1.6470],\n",
       "        [-3.1230, -1.6080],\n",
       "        [ 2.0295, -0.4522],\n",
       "        [ 0.2354,  1.6667]])"
      ]
     },
     "execution_count": 440,
     "metadata": {},
     "output_type": "execute_result"
    }
   ],
   "source": [
    "output"
   ]
  },
  {
   "cell_type": "code",
   "execution_count": 441,
   "metadata": {},
   "outputs": [
    {
     "data": {
      "text/plain": [
       "torch.Size([16, 2])"
      ]
     },
     "execution_count": 441,
     "metadata": {},
     "output_type": "execute_result"
    }
   ],
   "source": [
    "output.shape"
   ]
  },
  {
   "cell_type": "code",
   "execution_count": 442,
   "metadata": {},
   "outputs": [],
   "source": [
    "output = output[:,1:]"
   ]
  },
  {
   "cell_type": "code",
   "execution_count": 444,
   "metadata": {},
   "outputs": [],
   "source": [
    "output = output.view(-1)"
   ]
  },
  {
   "cell_type": "code",
   "execution_count": 445,
   "metadata": {},
   "outputs": [
    {
     "data": {
      "text/plain": [
       "tensor([ 1.7018, -1.9665,  1.7009, -0.2310, -0.2880,  1.1496, -0.1491, -0.0851,\n",
       "        -0.2104,  1.4250, -0.0566, -0.1952, -1.6470, -1.6080, -0.4522,  1.6667])"
      ]
     },
     "execution_count": 445,
     "metadata": {},
     "output_type": "execute_result"
    }
   ],
   "source": [
    "output"
   ]
  },
  {
   "cell_type": "code",
   "execution_count": 446,
   "metadata": {},
   "outputs": [],
   "source": [
    "outs = []\n",
    "labels = []"
   ]
  },
  {
   "cell_type": "code",
   "execution_count": 447,
   "metadata": {},
   "outputs": [],
   "source": [
    "labels.extend(label.view(-1).data.cpu().numpy())\n",
    "outs.extend(output.view(-1).data.cpu().numpy())"
   ]
  },
  {
   "cell_type": "code",
   "execution_count": 448,
   "metadata": {},
   "outputs": [],
   "source": [
    "from sklearn.metrics import roc_auc_score\n"
   ]
  },
  {
   "cell_type": "code",
   "execution_count": 450,
   "metadata": {},
   "outputs": [
    {
     "data": {
      "text/plain": [
       "0.8"
      ]
     },
     "execution_count": 450,
     "metadata": {},
     "output_type": "execute_result"
    }
   ],
   "source": [
    "auc = roc_auc_score(labels, outs)\n",
    "auc"
   ]
  },
  {
   "cell_type": "markdown",
   "metadata": {},
   "source": [
    "# test"
   ]
  },
  {
   "cell_type": "code",
   "execution_count": 385,
   "metadata": {},
   "outputs": [],
   "source": [
    "output = torch.randn(16,100)"
   ]
  },
  {
   "cell_type": "code",
   "execution_count": 386,
   "metadata": {},
   "outputs": [],
   "source": [
    "output = output[:,-1]"
   ]
  },
  {
   "cell_type": "code",
   "execution_count": 388,
   "metadata": {},
   "outputs": [],
   "source": [
    "output = torch.sigmoid(output)"
   ]
  },
  {
   "cell_type": "code",
   "execution_count": 389,
   "metadata": {},
   "outputs": [
    {
     "data": {
      "text/plain": [
       "tensor([0.5491, 0.7929, 0.2460, 0.7689, 0.3423, 0.3294, 0.3081, 0.2488, 0.3526,\n",
       "        0.8859, 0.5860, 0.2312, 0.6373, 0.1621, 0.5325, 0.7266])"
      ]
     },
     "execution_count": 389,
     "metadata": {},
     "output_type": "execute_result"
    }
   ],
   "source": [
    "output"
   ]
  },
  {
   "cell_type": "code",
   "execution_count": null,
   "metadata": {},
   "outputs": [],
   "source": []
  },
  {
   "cell_type": "code",
   "execution_count": 390,
   "metadata": {},
   "outputs": [],
   "source": [
    "output = torch.randn(16,100,2)"
   ]
  },
  {
   "cell_type": "code",
   "execution_count": 391,
   "metadata": {},
   "outputs": [],
   "source": [
    "output = output[:,-1,:]"
   ]
  },
  {
   "cell_type": "code",
   "execution_count": 392,
   "metadata": {},
   "outputs": [],
   "source": [
    "class_probs = F.softmax(output, dim=-1)"
   ]
  },
  {
   "cell_type": "code",
   "execution_count": 393,
   "metadata": {},
   "outputs": [
    {
     "data": {
      "text/plain": [
       "torch.Size([16, 2])"
      ]
     },
     "execution_count": 393,
     "metadata": {},
     "output_type": "execute_result"
    }
   ],
   "source": [
    "class_probs.shape"
   ]
  },
  {
   "cell_type": "code",
   "execution_count": 394,
   "metadata": {},
   "outputs": [
    {
     "data": {
      "text/plain": [
       "tensor([[0.7549, 0.2451],\n",
       "        [0.2537, 0.7463],\n",
       "        [0.1222, 0.8778],\n",
       "        [0.3047, 0.6953],\n",
       "        [0.3182, 0.6818],\n",
       "        [0.7168, 0.2832],\n",
       "        [0.8103, 0.1897],\n",
       "        [0.3765, 0.6235],\n",
       "        [0.5192, 0.4808],\n",
       "        [0.6284, 0.3716],\n",
       "        [0.2558, 0.7442],\n",
       "        [0.5656, 0.4344],\n",
       "        [0.1527, 0.8473],\n",
       "        [0.6987, 0.3013],\n",
       "        [0.6283, 0.3717],\n",
       "        [0.0869, 0.9131]])"
      ]
     },
     "execution_count": 394,
     "metadata": {},
     "output_type": "execute_result"
    }
   ],
   "source": [
    "class_probs"
   ]
  },
  {
   "cell_type": "code",
   "execution_count": 408,
   "metadata": {},
   "outputs": [],
   "source": [
    "target_index = torch.ones(class_probs.size(0)).long()"
   ]
  },
  {
   "cell_type": "code",
   "execution_count": 409,
   "metadata": {},
   "outputs": [
    {
     "data": {
      "text/plain": [
       "tensor([1, 1, 1, 1, 1, 1, 1, 1, 1, 1, 1, 1, 1, 1, 1, 1])"
      ]
     },
     "execution_count": 409,
     "metadata": {},
     "output_type": "execute_result"
    }
   ],
   "source": [
    "target_index"
   ]
  },
  {
   "cell_type": "code",
   "execution_count": 410,
   "metadata": {},
   "outputs": [
    {
     "ename": "TypeError",
     "evalue": "gather() received an invalid combination of arguments - got (Tensor, index=Tensor), but expected one of:\n * (Tensor input, name dim, Tensor index, bool sparse_grad, Tensor out)\n * (Tensor input, int dim, Tensor index, bool sparse_grad, Tensor out)\n",
     "output_type": "error",
     "traceback": [
      "\u001b[0;31m---------------------------------------------------------------------------\u001b[0m",
      "\u001b[0;31mTypeError\u001b[0m                                 Traceback (most recent call last)",
      "\u001b[0;32m<ipython-input-410-ed7eaa47ddc9>\u001b[0m in \u001b[0;36m<module>\u001b[0;34m\u001b[0m\n\u001b[0;32m----> 1\u001b[0;31m \u001b[0mans\u001b[0m \u001b[0;34m=\u001b[0m \u001b[0mtorch\u001b[0m\u001b[0;34m.\u001b[0m\u001b[0mgather\u001b[0m\u001b[0;34m(\u001b[0m\u001b[0mclass_probs\u001b[0m\u001b[0;34m,\u001b[0m \u001b[0mindex\u001b[0m\u001b[0;34m=\u001b[0m\u001b[0mtarget_index\u001b[0m\u001b[0;34m)\u001b[0m\u001b[0;34m\u001b[0m\u001b[0;34m\u001b[0m\u001b[0m\n\u001b[0m",
      "\u001b[0;31mTypeError\u001b[0m: gather() received an invalid combination of arguments - got (Tensor, index=Tensor), but expected one of:\n * (Tensor input, name dim, Tensor index, bool sparse_grad, Tensor out)\n * (Tensor input, int dim, Tensor index, bool sparse_grad, Tensor out)\n"
     ]
    }
   ],
   "source": [
    "ans = torch.gather(class_probs, index=target_index)"
   ]
  },
  {
   "cell_type": "code",
   "execution_count": 396,
   "metadata": {},
   "outputs": [],
   "source": [
    "a = torch.ones(4)"
   ]
  },
  {
   "cell_type": "code",
   "execution_count": 397,
   "metadata": {},
   "outputs": [
    {
     "data": {
      "text/plain": [
       "tensor([1., 1., 1., 1.])"
      ]
     },
     "execution_count": 397,
     "metadata": {},
     "output_type": "execute_result"
    }
   ],
   "source": [
    "a"
   ]
  },
  {
   "cell_type": "code",
   "execution_count": 398,
   "metadata": {},
   "outputs": [
    {
     "data": {
      "text/plain": [
       "16"
      ]
     },
     "execution_count": 398,
     "metadata": {},
     "output_type": "execute_result"
    }
   ],
   "source": [
    "class_probs.size(0)"
   ]
  },
  {
   "cell_type": "code",
   "execution_count": 411,
   "metadata": {},
   "outputs": [
    {
     "data": {
      "text/plain": [
       "tensor([[0.7549, 0.2451],\n",
       "        [0.2537, 0.7463],\n",
       "        [0.1222, 0.8778],\n",
       "        [0.3047, 0.6953],\n",
       "        [0.3182, 0.6818],\n",
       "        [0.7168, 0.2832],\n",
       "        [0.8103, 0.1897],\n",
       "        [0.3765, 0.6235],\n",
       "        [0.5192, 0.4808],\n",
       "        [0.6284, 0.3716],\n",
       "        [0.2558, 0.7442],\n",
       "        [0.5656, 0.4344],\n",
       "        [0.1527, 0.8473],\n",
       "        [0.6987, 0.3013],\n",
       "        [0.6283, 0.3717],\n",
       "        [0.0869, 0.9131]])"
      ]
     },
     "execution_count": 411,
     "metadata": {},
     "output_type": "execute_result"
    }
   ],
   "source": [
    "class_probs"
   ]
  },
  {
   "cell_type": "code",
   "execution_count": 412,
   "metadata": {},
   "outputs": [],
   "source": [
    "ans = class_probs[:,1:]"
   ]
  },
  {
   "cell_type": "code",
   "execution_count": 413,
   "metadata": {},
   "outputs": [
    {
     "data": {
      "text/plain": [
       "tensor([[0.2451],\n",
       "        [0.7463],\n",
       "        [0.8778],\n",
       "        [0.6953],\n",
       "        [0.6818],\n",
       "        [0.2832],\n",
       "        [0.1897],\n",
       "        [0.6235],\n",
       "        [0.4808],\n",
       "        [0.3716],\n",
       "        [0.7442],\n",
       "        [0.4344],\n",
       "        [0.8473],\n",
       "        [0.3013],\n",
       "        [0.3717],\n",
       "        [0.9131]])"
      ]
     },
     "execution_count": 413,
     "metadata": {},
     "output_type": "execute_result"
    }
   ],
   "source": [
    "ans"
   ]
  },
  {
   "cell_type": "code",
   "execution_count": 415,
   "metadata": {},
   "outputs": [],
   "source": [
    "ans = ans.squeeze(1)"
   ]
  },
  {
   "cell_type": "code",
   "execution_count": 416,
   "metadata": {},
   "outputs": [
    {
     "data": {
      "text/plain": [
       "tensor([0.2451, 0.7463, 0.8778, 0.6953, 0.6818, 0.2832, 0.1897, 0.6235, 0.4808,\n",
       "        0.3716, 0.7442, 0.4344, 0.8473, 0.3013, 0.3717, 0.9131])"
      ]
     },
     "execution_count": 416,
     "metadata": {},
     "output_type": "execute_result"
    }
   ],
   "source": [
    "ans"
   ]
  },
  {
   "cell_type": "code",
   "execution_count": 478,
   "metadata": {},
   "outputs": [
    {
     "data": {
      "text/plain": [
       "torch.Size([16, 1])"
      ]
     },
     "execution_count": 478,
     "metadata": {},
     "output_type": "execute_result"
    }
   ],
   "source": [
    "clas = torch.randn(16,1)\n",
    "clas.shape"
   ]
  },
  {
   "cell_type": "code",
   "execution_count": 479,
   "metadata": {},
   "outputs": [
    {
     "data": {
      "text/plain": [
       "torch.Size([16])"
      ]
     },
     "execution_count": 479,
     "metadata": {},
     "output_type": "execute_result"
    }
   ],
   "source": [
    "clas = clas.view(-1)\n",
    "clas.shape"
   ]
  },
  {
   "cell_type": "code",
   "execution_count": null,
   "metadata": {},
   "outputs": [],
   "source": []
  },
  {
   "cell_type": "code",
   "execution_count": null,
   "metadata": {},
   "outputs": [],
   "source": []
  },
  {
   "cell_type": "code",
   "execution_count": 417,
   "metadata": {},
   "outputs": [],
   "source": [
    "import numpy as np"
   ]
  },
  {
   "cell_type": "code",
   "execution_count": 418,
   "metadata": {},
   "outputs": [],
   "source": [
    "mask = np.zeros(20)"
   ]
  },
  {
   "cell_type": "code",
   "execution_count": 419,
   "metadata": {},
   "outputs": [
    {
     "data": {
      "text/plain": [
       "array([0., 0., 0., 0., 0., 0., 0., 0., 0., 0., 0., 0., 0., 0., 0., 0., 0.,\n",
       "       0., 0., 0.])"
      ]
     },
     "execution_count": 419,
     "metadata": {},
     "output_type": "execute_result"
    }
   ],
   "source": [
    "mask\n"
   ]
  },
  {
   "cell_type": "code",
   "execution_count": 420,
   "metadata": {},
   "outputs": [],
   "source": [
    "mask[2:] = 1\n"
   ]
  },
  {
   "cell_type": "code",
   "execution_count": 421,
   "metadata": {},
   "outputs": [
    {
     "data": {
      "text/plain": [
       "array([0., 0., 1., 1., 1., 1., 1., 1., 1., 1., 1., 1., 1., 1., 1., 1., 1.,\n",
       "       1., 1., 1.])"
      ]
     },
     "execution_count": 421,
     "metadata": {},
     "output_type": "execute_result"
    }
   ],
   "source": [
    "mask"
   ]
  },
  {
   "cell_type": "code",
   "execution_count": 422,
   "metadata": {},
   "outputs": [],
   "source": [
    "mask = np.zeros(20)"
   ]
  },
  {
   "cell_type": "code",
   "execution_count": 423,
   "metadata": {},
   "outputs": [],
   "source": [
    "mask[:] = 1"
   ]
  },
  {
   "cell_type": "code",
   "execution_count": 424,
   "metadata": {},
   "outputs": [
    {
     "data": {
      "text/plain": [
       "array([1., 1., 1., 1., 1., 1., 1., 1., 1., 1., 1., 1., 1., 1., 1., 1., 1.,\n",
       "       1., 1., 1.])"
      ]
     },
     "execution_count": 424,
     "metadata": {},
     "output_type": "execute_result"
    }
   ],
   "source": [
    "mask"
   ]
  },
  {
   "cell_type": "code",
   "execution_count": null,
   "metadata": {},
   "outputs": [],
   "source": []
  },
  {
   "cell_type": "code",
   "execution_count": null,
   "metadata": {},
   "outputs": [],
   "source": []
  },
  {
   "cell_type": "code",
   "execution_count": 453,
   "metadata": {},
   "outputs": [],
   "source": [
    "a = torch.randn(3,4,2)"
   ]
  },
  {
   "cell_type": "code",
   "execution_count": 454,
   "metadata": {},
   "outputs": [
    {
     "data": {
      "text/plain": [
       "tensor([[[ 0.1959, -0.2011],\n",
       "         [ 1.0990,  0.5011],\n",
       "         [ 0.8962,  1.9840],\n",
       "         [-0.5949, -0.6264]],\n",
       "\n",
       "        [[ 2.2909,  0.8240],\n",
       "         [-0.0499, -1.5752],\n",
       "         [-0.2488,  0.5502],\n",
       "         [-0.6318, -1.1781]],\n",
       "\n",
       "        [[-0.6960, -0.2128],\n",
       "         [-1.0061,  0.9668],\n",
       "         [ 0.1989, -2.0364],\n",
       "         [-1.3643, -0.9495]]])"
      ]
     },
     "execution_count": 454,
     "metadata": {},
     "output_type": "execute_result"
    }
   ],
   "source": [
    "a"
   ]
  },
  {
   "cell_type": "code",
   "execution_count": 455,
   "metadata": {},
   "outputs": [],
   "source": [
    "output_loss = a[:,-1:,:]"
   ]
  },
  {
   "cell_type": "code",
   "execution_count": 456,
   "metadata": {},
   "outputs": [
    {
     "data": {
      "text/plain": [
       "tensor([[[-0.5949, -0.6264]],\n",
       "\n",
       "        [[-0.6318, -1.1781]],\n",
       "\n",
       "        [[-1.3643, -0.9495]]])"
      ]
     },
     "execution_count": 456,
     "metadata": {},
     "output_type": "execute_result"
    }
   ],
   "source": [
    "output_loss"
   ]
  },
  {
   "cell_type": "code",
   "execution_count": 457,
   "metadata": {},
   "outputs": [
    {
     "data": {
      "text/plain": [
       "torch.Size([3, 1, 2])"
      ]
     },
     "execution_count": 457,
     "metadata": {},
     "output_type": "execute_result"
    }
   ],
   "source": [
    "output_loss.shape"
   ]
  },
  {
   "cell_type": "code",
   "execution_count": 461,
   "metadata": {},
   "outputs": [],
   "source": [
    "label = torch.randint(0,2,(3,1))"
   ]
  },
  {
   "cell_type": "code",
   "execution_count": 462,
   "metadata": {},
   "outputs": [
    {
     "data": {
      "text/plain": [
       "torch.Size([3, 1])"
      ]
     },
     "execution_count": 462,
     "metadata": {},
     "output_type": "execute_result"
    }
   ],
   "source": [
    "label.shape"
   ]
  },
  {
   "cell_type": "code",
   "execution_count": 463,
   "metadata": {},
   "outputs": [
    {
     "data": {
      "text/plain": [
       "tensor([[0],\n",
       "        [0],\n",
       "        [0]])"
      ]
     },
     "execution_count": 463,
     "metadata": {},
     "output_type": "execute_result"
    }
   ],
   "source": [
    "label"
   ]
  },
  {
   "cell_type": "code",
   "execution_count": 464,
   "metadata": {},
   "outputs": [],
   "source": [
    "label = label.unsqueeze(1)"
   ]
  },
  {
   "cell_type": "code",
   "execution_count": 465,
   "metadata": {},
   "outputs": [
    {
     "data": {
      "text/plain": [
       "tensor([[[0]],\n",
       "\n",
       "        [[0]],\n",
       "\n",
       "        [[0]]])"
      ]
     },
     "execution_count": 465,
     "metadata": {},
     "output_type": "execute_result"
    }
   ],
   "source": [
    "label"
   ]
  },
  {
   "cell_type": "code",
   "execution_count": 466,
   "metadata": {},
   "outputs": [
    {
     "data": {
      "text/plain": [
       "torch.Size([3, 1, 1])"
      ]
     },
     "execution_count": 466,
     "metadata": {},
     "output_type": "execute_result"
    }
   ],
   "source": [
    "label.shape"
   ]
  },
  {
   "cell_type": "code",
   "execution_count": 470,
   "metadata": {},
   "outputs": [],
   "source": [
    "weight = torch.ones(label.size(0),1,1)"
   ]
  },
  {
   "cell_type": "code",
   "execution_count": 471,
   "metadata": {},
   "outputs": [
    {
     "data": {
      "text/plain": [
       "torch.Size([3, 1, 1])"
      ]
     },
     "execution_count": 471,
     "metadata": {},
     "output_type": "execute_result"
    }
   ],
   "source": [
    "weight.shape"
   ]
  },
  {
   "cell_type": "code",
   "execution_count": null,
   "metadata": {},
   "outputs": [],
   "source": []
  },
  {
   "cell_type": "code",
   "execution_count": null,
   "metadata": {},
   "outputs": [],
   "source": []
  },
  {
   "cell_type": "code",
   "execution_count": null,
   "metadata": {},
   "outputs": [],
   "source": [
    "def train_epoch(model, train_iterator, optim, criterion, device=\"cpu\"):\n",
    "    model.train()\n",
    "\n",
    "    train_loss = []\n",
    "    num_corrects = 0\n",
    "    num_total = 0\n",
    "    labels = []\n",
    "    outs = []\n",
    "\n",
    "    tbar = tqdm(train_iterator)\n",
    "    for item in tbar:\n",
    "        x = item[0].to(device).long()\n",
    "        target_id = item[1].to(device).long()\n",
    "        ela_x = item[2].to(device).long()\n",
    "        ela_target = item[3].to(device).long()\n",
    "        part_x = item[4].to(device).long()\n",
    "        part_target = item[5].to(device).long()\n",
    "          \n",
    "            \n",
    "        ans_x = item[6].to(device).long()\n",
    "        label = item[7].to(device).float()        \n",
    "        weight = item[8].to(device).long()        \n",
    "\n",
    "        optim.zero_grad()\n",
    "        output, atten_weight = model(x, target_id, ela_x, ela_target,\n",
    "                                     part_x, part_target,ans_x)\n",
    "#         loss = criterion(output, label)\n",
    "        loss = get_loss(output, label, weight)\n",
    "        loss.backward()\n",
    "        optim.step()\n",
    "#         xm.mark_step()\n",
    "        train_loss.append(loss.item())\n",
    "\n",
    "        output = output[:,-1,:]\n",
    "        label = label[:,-1]\n",
    "        class_probs = F.softmax(output, dim=-1)\n",
    "        output = output[:,1:]\n",
    "        \n",
    "        max_vals = torch.max(class_probs, dim=-1)\n",
    "        idx = max_vals[1].tolist()\n",
    "        pred = torch.LongTensor(idx)\n",
    "        \n",
    "        num_corrects = (pred == label).sum().item()\n",
    "        num_total += len(label)\n",
    "\n",
    "        labels.extend(label.view(-1).data.cpu().numpy())\n",
    "        outs.extend(output.view(-1).data.cpu().numpy())\n",
    "\n",
    "        tbar.set_description('loss - {:.4f}'.format(loss))\n",
    "\n",
    "    acc = num_corrects / num_total\n",
    "    auc = roc_auc_score(labels, outs)\n",
    "    loss = np.mean(train_loss)\n",
    "\n",
    "    return loss, acc, auc"
   ]
  },
  {
   "cell_type": "code",
   "execution_count": 473,
   "metadata": {},
   "outputs": [],
   "source": [
    "output = torch.randn(2,4,2)"
   ]
  },
  {
   "cell_type": "code",
   "execution_count": 474,
   "metadata": {},
   "outputs": [
    {
     "data": {
      "text/plain": [
       "torch.Size([2, 4, 2])"
      ]
     },
     "execution_count": 474,
     "metadata": {},
     "output_type": "execute_result"
    }
   ],
   "source": [
    "output.shape"
   ]
  },
  {
   "cell_type": "code",
   "execution_count": 475,
   "metadata": {},
   "outputs": [],
   "source": [
    "output = output[:,-1,1:]"
   ]
  },
  {
   "cell_type": "code",
   "execution_count": 476,
   "metadata": {},
   "outputs": [
    {
     "data": {
      "text/plain": [
       "torch.Size([2, 1])"
      ]
     },
     "execution_count": 476,
     "metadata": {},
     "output_type": "execute_result"
    }
   ],
   "source": [
    "output.shape"
   ]
  },
  {
   "cell_type": "code",
   "execution_count": null,
   "metadata": {},
   "outputs": [],
   "source": [
    "def evaluate_epoch(model, test_dataloader, criterion, device=\"cpu\"):\n",
    "    model.eval()\n",
    "    eval_loss = []\n",
    "    num_corrects = 0\n",
    "    num_total = 0\n",
    "    labels = []\n",
    "    outs = []\n",
    "    \n",
    "    with torch.no_grad():\n",
    "        for item in tqdm(test_dataloader):\n",
    "            x = item[0].to(device).long()\n",
    "            target_id = item[1].to(device).long()\n",
    "            ela_x = item[2].to(device).long()\n",
    "            ela_target = item[3].to(device).long()\n",
    "            part_x = item[4].to(device).long()\n",
    "            part_target = item[5].to(device).long()\n",
    "        \n",
    "            \n",
    "            ans_x = item[6].to(device).long()\n",
    "            label = item[7].to(device).float()\n",
    "#             print(\"In evaluation x shape is:{}\\t taret_id shape is:{}\\t label shape is:{}\".format(x.shape, target_id.shape,label.shape))\n",
    "            \n",
    "            output, atten_weight = model(x, target_id, ela_x, ela_target,\n",
    "                                         part_x, part_target, ans_x)\n",
    "            \n",
    "            output_loss = output[:, -1:,:]\n",
    "            label_loss = label.unsqueeze(1)\n",
    "            weights = torch.ones(label.size(0),1,1).to(device).long()        \n",
    "\n",
    "#             print(\"Output shape is:{}\\tlabel shape is:{}\".format(output.shape, label.shape))\n",
    "            loss = get_loss(output_loss, label_loss,weights)\n",
    "\n",
    "            eval_loss.append(loss.item())\n",
    "            \n",
    "            output = output[:,-1,:]\n",
    "            label = label[:,-1]\n",
    "            class_probs = F.softmax(output, dim=-1)\n",
    "            output = output[:,1:]\n",
    "        \n",
    "            max_vals = torch.max(class_probs, dim=-1)\n",
    "            pred = max_vals[1]\n",
    " \n",
    "            num_corrects += (pred == label).sum().item()\n",
    "            num_total += len(label)\n",
    "\n",
    "            labels.extend(label.view(-1).data.cpu().numpy())\n",
    "            outs.extend(output.view(-1).data.cpu().numpy())\n",
    "\n",
    "    acc = num_corrects / num_total\n",
    "#     print(\"In evaluate labels is:{}\\t outs is:{}\\t\".format(labels, outs))\n",
    "\n",
    "    auc = roc_auc_score(labels, outs)\n",
    "\n",
    "    loss = np.mean(eval_loss)   \n",
    "    \n",
    "    return loss, acc, auc"
   ]
  },
  {
   "cell_type": "code",
   "execution_count": null,
   "metadata": {},
   "outputs": [],
   "source": []
  },
  {
   "cell_type": "code",
   "execution_count": null,
   "metadata": {},
   "outputs": [],
   "source": [
    "        output = output[:,-1,:]\n",
    "        label = label[:,-1]\n",
    "        class_probs = F.softmax(output, dim=-1)\n",
    "        output = output[:,1:]\n",
    "        \n",
    "        max_vals = torch.max(class_probs, dim=-1)\n",
    "        pred = max_vals[1]\n",
    "        print(\"pred is:{}\\t pred type is:{}\".format(pred, type(pred)))\n",
    "        print(\"label is:{}\\t label type is:{}\".format(label, type(label)))\n",
    "        \n",
    "        num_corrects = (pred == label).sum().item()\n",
    "        num_total += len(label)"
   ]
  },
  {
   "cell_type": "code",
   "execution_count": null,
   "metadata": {},
   "outputs": [],
   "source": []
  },
  {
   "cell_type": "code",
   "execution_count": 481,
   "metadata": {},
   "outputs": [
    {
     "ename": "IndexError",
     "evalue": "too many indices for tensor of dimension 2",
     "output_type": "error",
     "traceback": [
      "\u001b[0;31m---------------------------------------------------------------------------\u001b[0m",
      "\u001b[0;31mIndexError\u001b[0m                                Traceback (most recent call last)",
      "\u001b[0;32m<ipython-input-481-27c22f23ad62>\u001b[0m in \u001b[0;36m<module>\u001b[0;34m\u001b[0m\n\u001b[0;32m----> 1\u001b[0;31m \u001b[0moutput\u001b[0m \u001b[0;34m=\u001b[0m \u001b[0moutput\u001b[0m\u001b[0;34m[\u001b[0m\u001b[0;34m:\u001b[0m\u001b[0;34m,\u001b[0m\u001b[0;34m-\u001b[0m\u001b[0;36m1\u001b[0m\u001b[0;34m,\u001b[0m\u001b[0;34m:\u001b[0m\u001b[0;34m]\u001b[0m\u001b[0;34m\u001b[0m\u001b[0;34m\u001b[0m\u001b[0m\n\u001b[0m\u001b[1;32m      2\u001b[0m \u001b[0mlabel\u001b[0m \u001b[0;34m=\u001b[0m \u001b[0mlabel\u001b[0m\u001b[0;34m[\u001b[0m\u001b[0;34m:\u001b[0m\u001b[0;34m,\u001b[0m\u001b[0;34m-\u001b[0m\u001b[0;36m1\u001b[0m\u001b[0;34m]\u001b[0m\u001b[0;34m\u001b[0m\u001b[0;34m\u001b[0m\u001b[0m\n\u001b[1;32m      3\u001b[0m \u001b[0mclass_probs\u001b[0m \u001b[0;34m=\u001b[0m \u001b[0mF\u001b[0m\u001b[0;34m.\u001b[0m\u001b[0msoftmax\u001b[0m\u001b[0;34m(\u001b[0m\u001b[0moutput\u001b[0m\u001b[0;34m,\u001b[0m \u001b[0mdim\u001b[0m\u001b[0;34m=\u001b[0m\u001b[0;34m-\u001b[0m\u001b[0;36m1\u001b[0m\u001b[0;34m)\u001b[0m\u001b[0;34m\u001b[0m\u001b[0;34m\u001b[0m\u001b[0m\n\u001b[1;32m      4\u001b[0m \u001b[0moutput\u001b[0m \u001b[0;34m=\u001b[0m \u001b[0moutput\u001b[0m\u001b[0;34m[\u001b[0m\u001b[0;34m:\u001b[0m\u001b[0;34m,\u001b[0m\u001b[0;36m1\u001b[0m\u001b[0;34m:\u001b[0m\u001b[0;34m]\u001b[0m\u001b[0;34m\u001b[0m\u001b[0;34m\u001b[0m\u001b[0m\n\u001b[1;32m      5\u001b[0m \u001b[0;34m\u001b[0m\u001b[0m\n",
      "\u001b[0;31mIndexError\u001b[0m: too many indices for tensor of dimension 2"
     ]
    }
   ],
   "source": [
    "            output = output[:,-1,:]\n",
    "            label = label[:,-1]\n",
    "            class_probs = F.softmax(output, dim=-1)\n",
    "            output = output[:,1:]\n",
    "        \n",
    "            max_vals = torch.max(class_probs, dim=-1)\n",
    "            pred = max_vals[1]\n",
    " \n",
    "            num_corrects += (pred == label).sum().item()\n",
    "            num_total += len(label)"
   ]
  },
  {
   "cell_type": "code",
   "execution_count": null,
   "metadata": {},
   "outputs": [],
   "source": []
  },
  {
   "cell_type": "code",
   "execution_count": 484,
   "metadata": {},
   "outputs": [
    {
     "data": {
      "text/plain": [
       "0.6666666666666666"
      ]
     },
     "execution_count": 484,
     "metadata": {},
     "output_type": "execute_result"
    }
   ],
   "source": [
    "2/3"
   ]
  },
  {
   "cell_type": "code",
   "execution_count": 482,
   "metadata": {},
   "outputs": [],
   "source": [
    "pred = [\"c\",\"c\",\"i\",\"i\",\"c\",\"i\"]\n",
    "gold = [\"c\",\"i\",\"c\",\"i\",\"c\",\"c\"]"
   ]
  },
  {
   "cell_type": "code",
   "execution_count": 489,
   "metadata": {},
   "outputs": [],
   "source": [
    "total_num = 0\n",
    "right_num = 0\n",
    "\n",
    "total_wrong_num = 0\n",
    "pred_wrong_num = 0"
   ]
  },
  {
   "cell_type": "code",
   "execution_count": 490,
   "metadata": {},
   "outputs": [
    {
     "name": "stdout",
     "output_type": "stream",
     "text": [
      "The total num is:6, the right num is:3, the acc is:0.5\n",
      "The total wrong num is:2, the pred wrong num is:1, the acc is:0.5\n"
     ]
    }
   ],
   "source": [
    "total_num = len(pred)\n",
    "\n",
    "for i in range(len(pred)):\n",
    "    if pred[i] == gold[i]:\n",
    "        right_num += 1\n",
    "    \n",
    "    if gold[i] == 'i':\n",
    "        total_wrong_num += 1\n",
    "        \n",
    "        if pred[i] == 'i':\n",
    "            pred_wrong_num += 1\n",
    "\n",
    "acc = right_num /total_num\n",
    "recall = pred_wrong_num / total_wrong_num\n",
    "\n",
    "print('The total num is:{}, the right num is:{}, the acc is:{}'.format(total_num, right_num, acc))\n",
    "print('The total wrong num is:{}, the pred wrong num is:{}, the acc is:{}'.format(total_wrong_num, pred_wrong_num, recall))\n",
    "        \n",
    "    "
   ]
  },
  {
   "cell_type": "code",
   "execution_count": 488,
   "metadata": {},
   "outputs": [
    {
     "data": {
      "text/plain": [
       "0.6666666666666666"
      ]
     },
     "execution_count": 488,
     "metadata": {},
     "output_type": "execute_result"
    }
   ],
   "source": [
    "6/9"
   ]
  },
  {
   "cell_type": "code",
   "execution_count": null,
   "metadata": {},
   "outputs": [],
   "source": []
  },
  {
   "cell_type": "code",
   "execution_count": null,
   "metadata": {},
   "outputs": [],
   "source": []
  },
  {
   "cell_type": "code",
   "execution_count": null,
   "metadata": {},
   "outputs": [],
   "source": []
  },
  {
   "cell_type": "code",
   "execution_count": 491,
   "metadata": {},
   "outputs": [
    {
     "ename": "SyntaxError",
     "evalue": "invalid syntax (<ipython-input-491-9fa6b3e79135>, line 1)",
     "output_type": "error",
     "traceback": [
      "\u001b[0;36m  File \u001b[0;32m\"<ipython-input-491-9fa6b3e79135>\"\u001b[0;36m, line \u001b[0;32m1\u001b[0m\n\u001b[0;31m    class Solution {\u001b[0m\n\u001b[0m                   ^\u001b[0m\n\u001b[0;31mSyntaxError\u001b[0m\u001b[0;31m:\u001b[0m invalid syntax\n"
     ]
    }
   ],
   "source": [
    "class Solution {\n",
    "    List<List<String>> res = new ArrayList<List<String>>();\n",
    "    public List<List<String>> solveNQueens(int n) {\n",
    "        dfs(new int[n], 0, n);\n",
    "        return res;\n",
    "    }\n",
    "    \n",
    "    public void dfs(int[] pos, int row, int n ){\n",
    "        if (row == n){\n",
    "            ArrayList<String> t = getBoard(pos, n);\n",
    "            res.add(new ArrayList<>(t));\n",
    "            return;\n",
    "        }\n",
    "        \n",
    "        for (int i = 0; i<n;i++){\n",
    "            pos[row] = i;\n",
    "            if(isValid(pos, row, n)){\n",
    "                dfs(pos, row+1, n);\n",
    "            }\n",
    "        }\n",
    "        \n",
    "        return;\n",
    "    }\n",
    "    \n",
    "    public Boolean isValid(int[] pos, int r, int n){\n",
    "        for (int i =0; i<r;i++){\n",
    "            if(pos[r] == pos[i] || Math.abs(pos[r] -pos[i]) == r-i ){\n",
    "                return false;\n",
    "            }\n",
    "        }\n",
    "        return true;\n",
    "        \n",
    "    }\n",
    "    \n",
    "    public ArrayList<String> getBoard(int[] pos, int n){\n",
    "        ArrayList<String> solution = new ArrayList<String>();\n",
    "        for(int i =0; i<n;i++){\n",
    "            StringBuilder sb = new StringBuilder();\n",
    "            for (int j=0; j<n-1;j++){\n",
    "                sb.append('.');\n",
    "            }\n",
    "            sb.insert(pos[i],'Q');\n",
    "            solution.add(sb.toString());\n",
    "        }\n",
    "        return solution;\n",
    "    }\n",
    "}"
   ]
  },
  {
   "cell_type": "code",
   "execution_count": 492,
   "metadata": {},
   "outputs": [],
   "source": [
    "a = [5,4,8,6,5,3,2]"
   ]
  },
  {
   "cell_type": "code",
   "execution_count": 493,
   "metadata": {},
   "outputs": [
    {
     "data": {
      "text/plain": [
       "5168650832"
      ]
     },
     "execution_count": 493,
     "metadata": {},
     "output_type": "execute_result"
    }
   ],
   "source": [
    "id(a)"
   ]
  },
  {
   "cell_type": "code",
   "execution_count": 494,
   "metadata": {},
   "outputs": [],
   "source": [
    "r = sorted(a[2:])"
   ]
  },
  {
   "cell_type": "code",
   "execution_count": 495,
   "metadata": {},
   "outputs": [],
   "source": [
    "a[2:] = r"
   ]
  },
  {
   "cell_type": "code",
   "execution_count": 496,
   "metadata": {},
   "outputs": [
    {
     "data": {
      "text/plain": [
       "[5, 4, 2, 3, 5, 6, 8]"
      ]
     },
     "execution_count": 496,
     "metadata": {},
     "output_type": "execute_result"
    }
   ],
   "source": [
    "a"
   ]
  },
  {
   "cell_type": "code",
   "execution_count": 497,
   "metadata": {},
   "outputs": [
    {
     "data": {
      "text/plain": [
       "5168650832"
      ]
     },
     "execution_count": 497,
     "metadata": {},
     "output_type": "execute_result"
    }
   ],
   "source": [
    "id(a)"
   ]
  },
  {
   "cell_type": "code",
   "execution_count": null,
   "metadata": {},
   "outputs": [],
   "source": []
  }
 ],
 "metadata": {
  "kernelspec": {
   "display_name": "Python 3",
   "language": "python",
   "name": "python3"
  },
  "language_info": {
   "codemirror_mode": {
    "name": "ipython",
    "version": 3
   },
   "file_extension": ".py",
   "mimetype": "text/x-python",
   "name": "python",
   "nbconvert_exporter": "python",
   "pygments_lexer": "ipython3",
   "version": "3.7.8"
  }
 },
 "nbformat": 4,
 "nbformat_minor": 4
}
