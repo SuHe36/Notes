{
 "cells": [
  {
   "cell_type": "markdown",
   "metadata": {
    "papermill": {
     "duration": 0.026279,
     "end_time": "2020-12-15T16:17:58.574415",
     "exception": false,
     "start_time": "2020-12-15T16:17:58.548136",
     "status": "completed"
    },
    "tags": []
   },
   "source": [
    "###### * Base Source: https://www.kaggle.com/wangsg/a-self-attentive-model-for-knowledge-tracing\n",
    "* My First Work: https://www.kaggle.com/leadbest/sakt-self-attentive-knowledge-tracing-submitter\n",
    "\n",
    "1. Version 1: State Updates -> LB 0.765\n",
    "2. Version 3: Random Selection of User Interactions -> LB 0.768\n",
    "3. Version 6: Small Optimization -> LB 0.771?"
   ]
  },
  {
   "cell_type": "code",
   "execution_count": 1,
   "metadata": {
    "_cell_guid": "b1076dfc-b9ad-4769-8c92-a6c4dae69d19",
    "_uuid": "8f2839f25d086af736a60e9eeb907d3b93b6e0e5",
    "execution": {
     "iopub.execute_input": "2020-12-15T16:17:58.631822Z",
     "iopub.status.busy": "2020-12-15T16:17:58.630972Z",
     "iopub.status.idle": "2020-12-15T16:17:58.648515Z",
     "shell.execute_reply": "2020-12-15T16:17:58.647929Z"
    },
    "papermill": {
     "duration": 0.048898,
     "end_time": "2020-12-15T16:17:58.648617",
     "exception": false,
     "start_time": "2020-12-15T16:17:58.599719",
     "status": "completed"
    },
    "tags": []
   },
   "outputs": [
    {
     "name": "stdout",
     "output_type": "stream",
     "text": [
      "/kaggle/input/riiid-test-answer-prediction/example_sample_submission.csv\n",
      "/kaggle/input/riiid-test-answer-prediction/example_test.csv\n",
      "/kaggle/input/riiid-test-answer-prediction/questions.csv\n",
      "/kaggle/input/riiid-test-answer-prediction/train.csv\n",
      "/kaggle/input/riiid-test-answer-prediction/lectures.csv\n",
      "/kaggle/input/riiid-test-answer-prediction/riiideducation/competition.cpython-37m-x86_64-linux-gnu.so\n",
      "/kaggle/input/riiid-test-answer-prediction/riiideducation/__init__.py\n",
      "/kaggle/input/saktmodel/valid_2.csv\n",
      "/kaggle/input/saktmodel/best_model_ela_part.pt\n",
      "/kaggle/input/saktmodel/train_200_valid_2.csv\n",
      "/kaggle/input/saktmodel/train_100_valid_2.csv\n"
     ]
    }
   ],
   "source": [
    "# This Python 3 environment comes with many helpful analytics libraries installed\n",
    "# It is defined by the kaggle/python Docker image: https://github.com/kaggle/docker-python\n",
    "# For example, here's several helpful packages to load\n",
    "\n",
    "import numpy as np # linear algebra\n",
    "import pandas as pd # data processing, CSV file I/O (e.g. pd.read_csv)\n",
    "\n",
    "# Input data files are available in the read-only \"../input/\" directory\n",
    "# For example, running this (by clicking run or pressing Shift+Enter) will list all files under the input directory\n",
    "\n",
    "import os\n",
    "for dirname, _, filenames in os.walk('/kaggle/input'):\n",
    "    for filename in filenames:\n",
    "        print(os.path.join(dirname, filename))\n",
    "\n",
    "# You can write up to 20GB to the current directory (/kaggle/working/) that gets preserved as output when you create a version using \"Save & Run All\" \n",
    "# You can also write temporary files to /kaggle/temp/, but they won't be saved outside of the current session"
   ]
  },
  {
   "cell_type": "code",
   "execution_count": 2,
   "metadata": {
    "_cell_guid": "79c7e3d0-c299-4dcb-8224-4455121ee9b0",
    "_uuid": "d629ff2d2480ee46fbb7e2d37f6b5fab8052498a",
    "execution": {
     "iopub.execute_input": "2020-12-15T16:17:58.707945Z",
     "iopub.status.busy": "2020-12-15T16:17:58.707245Z",
     "iopub.status.idle": "2020-12-15T16:18:01.334571Z",
     "shell.execute_reply": "2020-12-15T16:18:01.334008Z"
    },
    "papermill": {
     "duration": 2.659472,
     "end_time": "2020-12-15T16:18:01.334702",
     "exception": false,
     "start_time": "2020-12-15T16:17:58.675230",
     "status": "completed"
    },
    "tags": []
   },
   "outputs": [],
   "source": [
    "import gc\n",
    "import random\n",
    "from tqdm import tqdm\n",
    "from sklearn.metrics import roc_auc_score\n",
    "from sklearn.model_selection import train_test_split\n",
    "\n",
    "import seaborn as sns\n",
    "import matplotlib.pyplot as plt\n",
    "\n",
    "import torch\n",
    "import torch.nn as nn\n",
    "import torch.nn.utils.rnn as rnn_utils\n",
    "from torch.autograd import Variable\n",
    "from torch.utils.data import Dataset, DataLoader"
   ]
  },
  {
   "cell_type": "code",
   "execution_count": 3,
   "metadata": {
    "execution": {
     "iopub.execute_input": "2020-12-15T16:18:01.391402Z",
     "iopub.status.busy": "2020-12-15T16:18:01.390808Z",
     "iopub.status.idle": "2020-12-15T16:18:01.394965Z",
     "shell.execute_reply": "2020-12-15T16:18:01.394490Z"
    },
    "papermill": {
     "duration": 0.033607,
     "end_time": "2020-12-15T16:18:01.395064",
     "exception": false,
     "start_time": "2020-12-15T16:18:01.361457",
     "status": "completed"
    },
    "tags": []
   },
   "outputs": [],
   "source": [
    "#HDKIM\n",
    "MAX_SEQ = 160\n",
    "#HDKIMHDKIM"
   ]
  },
  {
   "cell_type": "markdown",
   "metadata": {
    "papermill": {
     "duration": 0.026467,
     "end_time": "2020-12-15T16:18:01.447746",
     "exception": false,
     "start_time": "2020-12-15T16:18:01.421279",
     "status": "completed"
    },
    "tags": []
   },
   "source": [
    "## Load data"
   ]
  },
  {
   "cell_type": "code",
   "execution_count": 4,
   "metadata": {
    "execution": {
     "iopub.execute_input": "2020-12-15T16:18:01.509243Z",
     "iopub.status.busy": "2020-12-15T16:18:01.508555Z",
     "iopub.status.idle": "2020-12-15T16:18:43.520128Z",
     "shell.execute_reply": "2020-12-15T16:18:43.519564Z"
    },
    "papermill": {
     "duration": 42.045537,
     "end_time": "2020-12-15T16:18:43.520242",
     "exception": false,
     "start_time": "2020-12-15T16:18:01.474705",
     "status": "completed"
    },
    "tags": []
   },
   "outputs": [
    {
     "name": "stdout",
     "output_type": "stream",
     "text": [
      "CPU times: user 23.8 s, sys: 1.46 s, total: 25.3 s\n",
      "Wall time: 42 s\n"
     ]
    },
    {
     "data": {
      "text/html": [
       "<div>\n",
       "<style scoped>\n",
       "    .dataframe tbody tr th:only-of-type {\n",
       "        vertical-align: middle;\n",
       "    }\n",
       "\n",
       "    .dataframe tbody tr th {\n",
       "        vertical-align: top;\n",
       "    }\n",
       "\n",
       "    .dataframe thead th {\n",
       "        text-align: right;\n",
       "    }\n",
       "</style>\n",
       "<table border=\"1\" class=\"dataframe\">\n",
       "  <thead>\n",
       "    <tr style=\"text-align: right;\">\n",
       "      <th></th>\n",
       "      <th>timestamp</th>\n",
       "      <th>user_id</th>\n",
       "      <th>content_id</th>\n",
       "      <th>content_type_id</th>\n",
       "      <th>answered_correctly</th>\n",
       "      <th>prior_question_elapsed_time</th>\n",
       "    </tr>\n",
       "  </thead>\n",
       "  <tbody>\n",
       "    <tr>\n",
       "      <th>0</th>\n",
       "      <td>0</td>\n",
       "      <td>841499248</td>\n",
       "      <td>6054</td>\n",
       "      <td>0</td>\n",
       "      <td>0</td>\n",
       "      <td>NaN</td>\n",
       "    </tr>\n",
       "    <tr>\n",
       "      <th>1</th>\n",
       "      <td>0</td>\n",
       "      <td>1722355108</td>\n",
       "      <td>4260</td>\n",
       "      <td>0</td>\n",
       "      <td>1</td>\n",
       "      <td>NaN</td>\n",
       "    </tr>\n",
       "    <tr>\n",
       "      <th>2</th>\n",
       "      <td>0</td>\n",
       "      <td>1973833483</td>\n",
       "      <td>5629</td>\n",
       "      <td>0</td>\n",
       "      <td>1</td>\n",
       "      <td>NaN</td>\n",
       "    </tr>\n",
       "    <tr>\n",
       "      <th>3</th>\n",
       "      <td>0</td>\n",
       "      <td>488555728</td>\n",
       "      <td>5527</td>\n",
       "      <td>0</td>\n",
       "      <td>1</td>\n",
       "      <td>NaN</td>\n",
       "    </tr>\n",
       "    <tr>\n",
       "      <th>4</th>\n",
       "      <td>0</td>\n",
       "      <td>1413146787</td>\n",
       "      <td>7900</td>\n",
       "      <td>0</td>\n",
       "      <td>1</td>\n",
       "      <td>NaN</td>\n",
       "    </tr>\n",
       "  </tbody>\n",
       "</table>\n",
       "</div>"
      ],
      "text/plain": [
       "   timestamp     user_id  content_id  content_type_id  answered_correctly  \\\n",
       "0          0   841499248        6054                0                   0   \n",
       "1          0  1722355108        4260                0                   1   \n",
       "2          0  1973833483        5629                0                   1   \n",
       "3          0   488555728        5527                0                   1   \n",
       "4          0  1413146787        7900                0                   1   \n",
       "\n",
       "   prior_question_elapsed_time  \n",
       "0                          NaN  \n",
       "1                          NaN  \n",
       "2                          NaN  \n",
       "3                          NaN  \n",
       "4                          NaN  "
      ]
     },
     "execution_count": 4,
     "metadata": {},
     "output_type": "execute_result"
    }
   ],
   "source": [
    "%%time\n",
    "dtype = {'timestamp': 'int64', \n",
    "         'user_id': 'int64' ,\n",
    "         'content_id': 'int16',\n",
    "         'content_type_id': 'int8',\n",
    "         'answered_correctly':'int8',\n",
    "         'prior_question_elapsed_time':'float64'}\n",
    "\n",
    "train_df = pd.read_csv('/kaggle/input/saktmodel/train_200_valid_2.csv', usecols=[1,2,3,4,7,8], dtype=dtype)\n",
    "train_df.head()\n"
   ]
  },
  {
   "cell_type": "code",
   "execution_count": 5,
   "metadata": {
    "execution": {
     "iopub.execute_input": "2020-12-15T16:18:43.580298Z",
     "iopub.status.busy": "2020-12-15T16:18:43.579736Z",
     "iopub.status.idle": "2020-12-15T16:18:49.960147Z",
     "shell.execute_reply": "2020-12-15T16:18:49.959506Z"
    },
    "papermill": {
     "duration": 6.412121,
     "end_time": "2020-12-15T16:18:49.960268",
     "exception": false,
     "start_time": "2020-12-15T16:18:43.548147",
     "status": "completed"
    },
    "tags": []
   },
   "outputs": [],
   "source": [
    "train_df = train_df[train_df.content_type_id == False]\n",
    "\n",
    "#arrange by timestamp\n",
    "train_df = train_df.sort_values(['timestamp'], ascending=True).reset_index(drop = True)"
   ]
  },
  {
   "cell_type": "code",
   "execution_count": 6,
   "metadata": {
    "execution": {
     "iopub.execute_input": "2020-12-15T16:18:50.026039Z",
     "iopub.status.busy": "2020-12-15T16:18:50.025430Z",
     "iopub.status.idle": "2020-12-15T16:18:51.290689Z",
     "shell.execute_reply": "2020-12-15T16:18:51.290180Z"
    },
    "papermill": {
     "duration": 1.302522,
     "end_time": "2020-12-15T16:18:51.290802",
     "exception": false,
     "start_time": "2020-12-15T16:18:49.988280",
     "status": "completed"
    },
    "tags": []
   },
   "outputs": [
    {
     "data": {
      "text/html": [
       "<div>\n",
       "<style scoped>\n",
       "    .dataframe tbody tr th:only-of-type {\n",
       "        vertical-align: middle;\n",
       "    }\n",
       "\n",
       "    .dataframe tbody tr th {\n",
       "        vertical-align: top;\n",
       "    }\n",
       "\n",
       "    .dataframe thead th {\n",
       "        text-align: right;\n",
       "    }\n",
       "</style>\n",
       "<table border=\"1\" class=\"dataframe\">\n",
       "  <thead>\n",
       "    <tr style=\"text-align: right;\">\n",
       "      <th></th>\n",
       "      <th>timestamp</th>\n",
       "      <th>user_id</th>\n",
       "      <th>content_id</th>\n",
       "      <th>content_type_id</th>\n",
       "      <th>answered_correctly</th>\n",
       "      <th>prior_question_elapsed_time</th>\n",
       "    </tr>\n",
       "  </thead>\n",
       "  <tbody>\n",
       "    <tr>\n",
       "      <th>0</th>\n",
       "      <td>0</td>\n",
       "      <td>866605366</td>\n",
       "      <td>6267</td>\n",
       "      <td>0</td>\n",
       "      <td>1</td>\n",
       "      <td>NaN</td>\n",
       "    </tr>\n",
       "    <tr>\n",
       "      <th>1</th>\n",
       "      <td>0</td>\n",
       "      <td>1436067548</td>\n",
       "      <td>3709</td>\n",
       "      <td>0</td>\n",
       "      <td>1</td>\n",
       "      <td>NaN</td>\n",
       "    </tr>\n",
       "    <tr>\n",
       "      <th>2</th>\n",
       "      <td>0</td>\n",
       "      <td>2119645200</td>\n",
       "      <td>7900</td>\n",
       "      <td>0</td>\n",
       "      <td>1</td>\n",
       "      <td>NaN</td>\n",
       "    </tr>\n",
       "    <tr>\n",
       "      <th>3</th>\n",
       "      <td>0</td>\n",
       "      <td>2019867894</td>\n",
       "      <td>4421</td>\n",
       "      <td>0</td>\n",
       "      <td>0</td>\n",
       "      <td>NaN</td>\n",
       "    </tr>\n",
       "    <tr>\n",
       "      <th>4</th>\n",
       "      <td>0</td>\n",
       "      <td>1801712607</td>\n",
       "      <td>5137</td>\n",
       "      <td>0</td>\n",
       "      <td>1</td>\n",
       "      <td>NaN</td>\n",
       "    </tr>\n",
       "    <tr>\n",
       "      <th>5</th>\n",
       "      <td>0</td>\n",
       "      <td>863504442</td>\n",
       "      <td>5554</td>\n",
       "      <td>0</td>\n",
       "      <td>1</td>\n",
       "      <td>NaN</td>\n",
       "    </tr>\n",
       "    <tr>\n",
       "      <th>6</th>\n",
       "      <td>0</td>\n",
       "      <td>220576717</td>\n",
       "      <td>4660</td>\n",
       "      <td>0</td>\n",
       "      <td>1</td>\n",
       "      <td>NaN</td>\n",
       "    </tr>\n",
       "    <tr>\n",
       "      <th>7</th>\n",
       "      <td>0</td>\n",
       "      <td>108605579</td>\n",
       "      <td>5067</td>\n",
       "      <td>0</td>\n",
       "      <td>0</td>\n",
       "      <td>NaN</td>\n",
       "    </tr>\n",
       "    <tr>\n",
       "      <th>8</th>\n",
       "      <td>0</td>\n",
       "      <td>811433702</td>\n",
       "      <td>4517</td>\n",
       "      <td>0</td>\n",
       "      <td>0</td>\n",
       "      <td>NaN</td>\n",
       "    </tr>\n",
       "    <tr>\n",
       "      <th>9</th>\n",
       "      <td>0</td>\n",
       "      <td>38532797</td>\n",
       "      <td>6479</td>\n",
       "      <td>0</td>\n",
       "      <td>0</td>\n",
       "      <td>NaN</td>\n",
       "    </tr>\n",
       "  </tbody>\n",
       "</table>\n",
       "</div>"
      ],
      "text/plain": [
       "   timestamp     user_id  content_id  content_type_id  answered_correctly  \\\n",
       "0          0   866605366        6267                0                   1   \n",
       "1          0  1436067548        3709                0                   1   \n",
       "2          0  2119645200        7900                0                   1   \n",
       "3          0  2019867894        4421                0                   0   \n",
       "4          0  1801712607        5137                0                   1   \n",
       "5          0   863504442        5554                0                   1   \n",
       "6          0   220576717        4660                0                   1   \n",
       "7          0   108605579        5067                0                   0   \n",
       "8          0   811433702        4517                0                   0   \n",
       "9          0    38532797        6479                0                   0   \n",
       "\n",
       "   prior_question_elapsed_time  \n",
       "0                          NaN  \n",
       "1                          NaN  \n",
       "2                          NaN  \n",
       "3                          NaN  \n",
       "4                          NaN  \n",
       "5                          NaN  \n",
       "6                          NaN  \n",
       "7                          NaN  \n",
       "8                          NaN  \n",
       "9                          NaN  "
      ]
     },
     "execution_count": 6,
     "metadata": {},
     "output_type": "execute_result"
    }
   ],
   "source": [
    "valid = pd.read_csv('/kaggle/input/saktmodel/valid_2.csv', usecols=[ 2, 3,4,5,8,9], dtype=dtype)\n",
    "valid = valid[valid.content_type_id == False]\n",
    "\n",
    "valid.head(10)"
   ]
  },
  {
   "cell_type": "code",
   "execution_count": 7,
   "metadata": {
    "execution": {
     "iopub.execute_input": "2020-12-15T16:18:51.354685Z",
     "iopub.status.busy": "2020-12-15T16:18:51.354071Z",
     "iopub.status.idle": "2020-12-15T16:18:51.371028Z",
     "shell.execute_reply": "2020-12-15T16:18:51.370277Z"
    },
    "papermill": {
     "duration": 0.051464,
     "end_time": "2020-12-15T16:18:51.371127",
     "exception": false,
     "start_time": "2020-12-15T16:18:51.319663",
     "status": "completed"
    },
    "tags": []
   },
   "outputs": [],
   "source": [
    "question_df = pd.read_csv('/kaggle/input/riiid-test-answer-prediction/questions.csv')\n",
    "question_df['part'].fillna(1, inplace=True)\n",
    "question_df['part'] = question_df['part']-1"
   ]
  },
  {
   "cell_type": "code",
   "execution_count": 8,
   "metadata": {
    "execution": {
     "iopub.execute_input": "2020-12-15T16:18:51.433385Z",
     "iopub.status.busy": "2020-12-15T16:18:51.432601Z",
     "iopub.status.idle": "2020-12-15T16:18:51.436626Z",
     "shell.execute_reply": "2020-12-15T16:18:51.437093Z"
    },
    "papermill": {
     "duration": 0.03764,
     "end_time": "2020-12-15T16:18:51.437202",
     "exception": false,
     "start_time": "2020-12-15T16:18:51.399562",
     "status": "completed"
    },
    "tags": []
   },
   "outputs": [
    {
     "name": "stdout",
     "output_type": "stream",
     "text": [
      "part is: [0 1 2 3 4 5 6]\n",
      "number part skills 7\n"
     ]
    }
   ],
   "source": [
    "part_skill = question_df['part'].unique()\n",
    "print(\"part is:\",part_skill)\n",
    "n_part_skill = len(part_skill)\n",
    "print(\"number part skills\", n_part_skill)"
   ]
  },
  {
   "cell_type": "code",
   "execution_count": 9,
   "metadata": {
    "execution": {
     "iopub.execute_input": "2020-12-15T16:18:51.498706Z",
     "iopub.status.busy": "2020-12-15T16:18:51.497903Z",
     "iopub.status.idle": "2020-12-15T16:18:51.547322Z",
     "shell.execute_reply": "2020-12-15T16:18:51.547821Z"
    },
    "papermill": {
     "duration": 0.081831,
     "end_time": "2020-12-15T16:18:51.547936",
     "exception": false,
     "start_time": "2020-12-15T16:18:51.466105",
     "status": "completed"
    },
    "tags": []
   },
   "outputs": [
    {
     "data": {
      "text/plain": [
       "24430.802356914817"
      ]
     },
     "execution_count": 9,
     "metadata": {},
     "output_type": "execute_result"
    }
   ],
   "source": [
    "elapsed_mean = train_df.prior_question_elapsed_time.mean()\n",
    "elapsed_mean"
   ]
  },
  {
   "cell_type": "code",
   "execution_count": 10,
   "metadata": {
    "execution": {
     "iopub.execute_input": "2020-12-15T16:18:51.611125Z",
     "iopub.status.busy": "2020-12-15T16:18:51.610161Z",
     "iopub.status.idle": "2020-12-15T16:18:51.670157Z",
     "shell.execute_reply": "2020-12-15T16:18:51.669700Z"
    },
    "papermill": {
     "duration": 0.093045,
     "end_time": "2020-12-15T16:18:51.670250",
     "exception": false,
     "start_time": "2020-12-15T16:18:51.577205",
     "status": "completed"
    },
    "tags": []
   },
   "outputs": [],
   "source": [
    "train_df['prior_question_elapsed_time'].fillna(elapsed_mean, inplace=True)\n"
   ]
  },
  {
   "cell_type": "code",
   "execution_count": 11,
   "metadata": {
    "execution": {
     "iopub.execute_input": "2020-12-15T16:18:51.733835Z",
     "iopub.status.busy": "2020-12-15T16:18:51.732373Z",
     "iopub.status.idle": "2020-12-15T16:18:51.734993Z",
     "shell.execute_reply": "2020-12-15T16:18:51.735492Z"
    },
    "papermill": {
     "duration": 0.036317,
     "end_time": "2020-12-15T16:18:51.735625",
     "exception": false,
     "start_time": "2020-12-15T16:18:51.699308",
     "status": "completed"
    },
    "tags": []
   },
   "outputs": [],
   "source": [
    "def get_elapsed_time(ela):\n",
    "    ela = ela // 1000\n",
    "    if ela > 300:\n",
    "        return 300\n",
    "    else:\n",
    "        return ela"
   ]
  },
  {
   "cell_type": "code",
   "execution_count": 12,
   "metadata": {
    "execution": {
     "iopub.execute_input": "2020-12-15T16:18:51.800706Z",
     "iopub.status.busy": "2020-12-15T16:18:51.799303Z",
     "iopub.status.idle": "2020-12-15T16:19:21.742252Z",
     "shell.execute_reply": "2020-12-15T16:19:21.741063Z"
    },
    "papermill": {
     "duration": 29.97665,
     "end_time": "2020-12-15T16:19:21.742376",
     "exception": false,
     "start_time": "2020-12-15T16:18:51.765726",
     "status": "completed"
    },
    "tags": []
   },
   "outputs": [],
   "source": [
    "train_df['prior_question_elapsed_time'] = train_df['prior_question_elapsed_time'].apply(lambda x: get_elapsed_time(x))"
   ]
  },
  {
   "cell_type": "code",
   "execution_count": 13,
   "metadata": {
    "execution": {
     "iopub.execute_input": "2020-12-15T16:19:21.809271Z",
     "iopub.status.busy": "2020-12-15T16:19:21.807816Z",
     "iopub.status.idle": "2020-12-15T16:19:27.389284Z",
     "shell.execute_reply": "2020-12-15T16:19:27.388752Z"
    },
    "papermill": {
     "duration": 5.616695,
     "end_time": "2020-12-15T16:19:27.389403",
     "exception": false,
     "start_time": "2020-12-15T16:19:21.772708",
     "status": "completed"
    },
    "tags": []
   },
   "outputs": [],
   "source": [
    "train_df = pd.merge(train_df, question_df, left_on='content_id',right_on='question_id',how='left')\n",
    "valid = pd.merge(valid, question_df, left_on='content_id',right_on='question_id',how='left')"
   ]
  },
  {
   "cell_type": "code",
   "execution_count": null,
   "metadata": {
    "papermill": {
     "duration": 0.030404,
     "end_time": "2020-12-15T16:19:27.450971",
     "exception": false,
     "start_time": "2020-12-15T16:19:27.420567",
     "status": "completed"
    },
    "tags": []
   },
   "outputs": [],
   "source": []
  },
  {
   "cell_type": "markdown",
   "metadata": {
    "papermill": {
     "duration": 0.029019,
     "end_time": "2020-12-15T16:19:27.509498",
     "exception": false,
     "start_time": "2020-12-15T16:19:27.480479",
     "status": "completed"
    },
    "tags": []
   },
   "source": [
    "## Preprocess"
   ]
  },
  {
   "cell_type": "code",
   "execution_count": 14,
   "metadata": {
    "execution": {
     "iopub.execute_input": "2020-12-15T16:19:27.574993Z",
     "iopub.status.busy": "2020-12-15T16:19:27.574307Z",
     "iopub.status.idle": "2020-12-15T16:19:27.579327Z",
     "shell.execute_reply": "2020-12-15T16:19:27.578825Z"
    },
    "papermill": {
     "duration": 0.039501,
     "end_time": "2020-12-15T16:19:27.579419",
     "exception": false,
     "start_time": "2020-12-15T16:19:27.539918",
     "status": "completed"
    },
    "tags": []
   },
   "outputs": [
    {
     "name": "stdout",
     "output_type": "stream",
     "text": [
      "number skills 13523\n"
     ]
    }
   ],
   "source": [
    "# skills = train_df[\"content_id\"].unique()\n",
    "n_skill = 13523\n",
    "print(\"number skills\", n_skill)"
   ]
  },
  {
   "cell_type": "code",
   "execution_count": 15,
   "metadata": {
    "execution": {
     "iopub.execute_input": "2020-12-15T16:19:27.643499Z",
     "iopub.status.busy": "2020-12-15T16:19:27.642701Z",
     "iopub.status.idle": "2020-12-15T16:19:27.881202Z",
     "shell.execute_reply": "2020-12-15T16:19:27.881927Z"
    },
    "papermill": {
     "duration": 0.273046,
     "end_time": "2020-12-15T16:19:27.882118",
     "exception": false,
     "start_time": "2020-12-15T16:19:27.609072",
     "status": "completed"
    },
    "tags": []
   },
   "outputs": [
    {
     "name": "stdout",
     "output_type": "stream",
     "text": [
      "number ela skills 301\n",
      "ela is: [ 24.   5.  17.  83.  21.  51.  48.  29.  30.  69. 101.  34.  31.  55.\n",
      "  20.   6.  56.  42.  19.  27.  67.  36.  46.  25.  13.  26.  22.  50.\n",
      "  61.  70.  14.  47.  52.   0.  64.  76.  28.  86.  41.  15.  33.   1.\n",
      "  58.  23.  54.  82.  75.   3.  11.  59.   4.  45.  32.  37.   2.  16.\n",
      "  38.  74.  18.  71.  10.   9.  63.  81.   7.  60.  53.  62.  35.  72.\n",
      "  39.  65.  40.  68.  57.  43.  78.  12.  90.  49.  77.  93.   8.  87.\n",
      "  89.  44.  84. 121.  91.  79.  94. 109. 162. 300. 187. 188. 155. 170.\n",
      " 156. 160. 126. 100. 134. 217. 218.  73. 183. 216. 204.  80.  98. 108.\n",
      " 129.  96. 154. 148. 141. 241. 221. 124.  95. 202. 186. 180.  97. 127.\n",
      " 104.  85. 181. 208. 210. 172. 106. 266. 167. 232.  66. 115. 152. 143.\n",
      " 244.  88. 297. 193. 132. 133. 110. 116. 196. 215. 179. 219. 139. 228.\n",
      " 117. 105. 113.  99. 112. 102.  92. 225. 136. 174. 250. 159. 207. 138.\n",
      " 251. 213. 201. 175. 114. 199. 197. 192. 128. 107. 264. 246. 171. 125.\n",
      " 165. 120. 119. 149. 230. 135. 206. 111. 191. 158. 103. 209. 123. 131.\n",
      " 198. 286. 118. 157. 281. 194. 249. 223. 220. 146. 261. 214. 122. 203.\n",
      " 140. 277. 184. 130. 231. 161. 166. 173. 226. 147. 272. 242. 293. 276.\n",
      " 211. 282. 260. 200. 164. 137. 256. 145. 275. 178. 205. 176. 268. 294.\n",
      " 153. 235. 222. 168. 212. 262. 142. 258. 259. 195. 279. 238. 289. 227.\n",
      " 284. 150. 239. 288. 185. 254. 237. 240. 252. 189. 182. 257. 248. 224.\n",
      " 151. 265. 234. 190. 144. 229. 247. 169. 245. 298. 236. 274. 163. 233.\n",
      " 273. 292. 177. 267. 243. 296. 283. 299. 295. 255. 271. 280. 278. 253.\n",
      " 269. 291. 285. 270. 287. 263. 290.]\n"
     ]
    }
   ],
   "source": [
    "ela_skill = train_df['prior_question_elapsed_time'].unique()\n",
    "n_ela_skill = 301\n",
    "print(\"number ela skills\", n_ela_skill)\n",
    "print(\"ela is:\", ela_skill)"
   ]
  },
  {
   "cell_type": "code",
   "execution_count": 16,
   "metadata": {
    "execution": {
     "iopub.execute_input": "2020-12-15T16:19:27.951575Z",
     "iopub.status.busy": "2020-12-15T16:19:27.950772Z",
     "iopub.status.idle": "2020-12-15T16:19:28.634510Z",
     "shell.execute_reply": "2020-12-15T16:19:28.633969Z"
    },
    "papermill": {
     "duration": 0.72012,
     "end_time": "2020-12-15T16:19:28.634628",
     "exception": false,
     "start_time": "2020-12-15T16:19:27.914508",
     "status": "completed"
    },
    "tags": []
   },
   "outputs": [],
   "source": [
    "valid['prior_question_elapsed_time'].fillna(elapsed_mean, inplace=True)\n",
    "valid['prior_question_elapsed_time'] = valid['prior_question_elapsed_time'].apply(lambda x: get_elapsed_time(x))"
   ]
  },
  {
   "cell_type": "code",
   "execution_count": 17,
   "metadata": {
    "execution": {
     "iopub.execute_input": "2020-12-15T16:19:28.704339Z",
     "iopub.status.busy": "2020-12-15T16:19:28.703135Z",
     "iopub.status.idle": "2020-12-15T16:20:28.747554Z",
     "shell.execute_reply": "2020-12-15T16:20:28.748047Z"
    },
    "papermill": {
     "duration": 60.082686,
     "end_time": "2020-12-15T16:20:28.748178",
     "exception": false,
     "start_time": "2020-12-15T16:19:28.665492",
     "status": "completed"
    },
    "tags": []
   },
   "outputs": [
    {
     "data": {
      "text/plain": [
       "0"
      ]
     },
     "execution_count": 17,
     "metadata": {},
     "output_type": "execute_result"
    }
   ],
   "source": [
    "group = train_df[['user_id', 'part','content_id', 'answered_correctly','prior_question_elapsed_time']].groupby('user_id').apply(lambda r: (\n",
    "            r['content_id'].values,\n",
    "            r['answered_correctly'].values,\n",
    "            r['prior_question_elapsed_time'].values,\n",
    "            r['part'].values))\n",
    "\n",
    "\n",
    "\n",
    "del train_df\n",
    "gc.collect()"
   ]
  },
  {
   "cell_type": "code",
   "execution_count": 18,
   "metadata": {
    "execution": {
     "iopub.execute_input": "2020-12-15T16:20:28.815591Z",
     "iopub.status.busy": "2020-12-15T16:20:28.814953Z",
     "iopub.status.idle": "2020-12-15T16:20:28.819202Z",
     "shell.execute_reply": "2020-12-15T16:20:28.818642Z"
    },
    "papermill": {
     "duration": 0.039324,
     "end_time": "2020-12-15T16:20:28.819299",
     "exception": false,
     "start_time": "2020-12-15T16:20:28.779975",
     "status": "completed"
    },
    "tags": []
   },
   "outputs": [],
   "source": [
    "#HDKIM\n",
    "import random\n",
    "random.seed(1)\n",
    "#HDKIMHDKIM"
   ]
  },
  {
   "cell_type": "code",
   "execution_count": 19,
   "metadata": {
    "execution": {
     "iopub.execute_input": "2020-12-15T16:20:28.909210Z",
     "iopub.status.busy": "2020-12-15T16:20:28.894564Z",
     "iopub.status.idle": "2020-12-15T16:20:28.911973Z",
     "shell.execute_reply": "2020-12-15T16:20:28.911427Z"
    },
    "papermill": {
     "duration": 0.061299,
     "end_time": "2020-12-15T16:20:28.912071",
     "exception": false,
     "start_time": "2020-12-15T16:20:28.850772",
     "status": "completed"
    },
    "tags": []
   },
   "outputs": [],
   "source": [
    "class SAKTDataset(Dataset):\n",
    "    def __init__(self, group, n_skill,n_ela_skill, max_seq=MAX_SEQ): #HDKIM 100\n",
    "        super(SAKTDataset, self).__init__()\n",
    "        self.max_seq = max_seq\n",
    "        self.n_skill = n_skill\n",
    "        self.n_ela_skill = n_ela_skill\n",
    "        self.samples = group\n",
    "        \n",
    "#         self.user_ids = [x for x in group.index]\n",
    "        self.user_ids = []\n",
    "        for user_id in group.index:\n",
    "            q, qa,ela,part = group[user_id]\n",
    "            if len(q) < 2: #HDKIM 10\n",
    "                continue\n",
    "            self.user_ids.append(user_id)\n",
    "            \n",
    "            #HDKIM Memory reduction\n",
    "#             if len(q)>self.max_seq:\n",
    "#                 group[user_id] = (q[-self.max_seq:],qa[-self.max_seq:], ela[-self.max_seq:])\n",
    "\n",
    "    def __len__(self):\n",
    "        return len(self.user_ids)\n",
    "\n",
    "    def __getitem__(self, index):\n",
    "        user_id = self.user_ids[index]\n",
    "        q_, qa_,ela_,part_ = self.samples[user_id]\n",
    "        seq_len = len(q_)\n",
    "\n",
    "        q = np.zeros(self.max_seq, dtype=int)\n",
    "        qa = np.zeros(self.max_seq, dtype=int)\n",
    "        ela = np.zeros(self.max_seq, dtype=int)\n",
    "        part = np.zeros(self.max_seq, dtype=int)\n",
    "\n",
    "        if seq_len >= self.max_seq:\n",
    "            if random.random() >0.1:\n",
    "                start = random.randint(0, (seq_len-self.max_seq))\n",
    "                end = start + self.max_seq\n",
    "                q[:] = q_[start:end]\n",
    "                qa[:] = qa_[start:end]\n",
    "                ela[:] = ela_[start:end]\n",
    "                part[:] = part_[start:end]\n",
    "\n",
    "            else:   \n",
    "                q[:] = q_[-self.max_seq:]\n",
    "                qa[:] = qa_[-self.max_seq:]\n",
    "                ela[:] = ela_[-self.max_seq:]\n",
    "                part[:] = part_[-self.max_seq:]\n",
    "                \n",
    "        else:\n",
    "            if random.random() > 0.1:\n",
    "                start = 0\n",
    "                end = random.randint(2, seq_len)\n",
    "                seq_len = end -start\n",
    "                q[-seq_len:] = q_[0:seq_len]\n",
    "                qa[-seq_len:] = qa_[0:seq_len]\n",
    "                ela[-seq_len:] = ela_[0:seq_len]\n",
    "                part[-seq_len:] = part_[0:seq_len]\n",
    "                \n",
    "            else:\n",
    "                q[-seq_len:] = q_\n",
    "                qa[-seq_len:] = qa_\n",
    "                ela[-seq_len:] = ela_   \n",
    "                part[-seq_len:] = part_   \n",
    "            \n",
    "        target_id = q[1:]\n",
    "        label = qa[1:]\n",
    "        ela_target = ela[1:]\n",
    "        part_target = part[1:]\n",
    "\n",
    "        x = np.zeros(self.max_seq-1, dtype=int)\n",
    "        x = q[:-1].copy()\n",
    "#         x += (qa[:-1] == 1) * self.n_skill\n",
    "        \n",
    "        ela_x = np.zeros(self.max_seq-1, dtype=int)\n",
    "        ela_x = ela[:-1].copy()\n",
    "        \n",
    "        part_x = np.zeros(self.max_seq-1, dtype=int)\n",
    "        part_x = part[:-1].copy()        \n",
    "        \n",
    "        ans_x = np.zeros(self.max_seq-1, dtype=int)\n",
    "        ans_x = qa[:-1].copy()\n",
    "#         ela_x += (qa[:-1]==1) * self.n_ela_skill\n",
    "\n",
    "        return x, target_id,ela_x,ela_target,part_x,part_target,ans_x,label\n",
    "    # x和target_id都是来自于q，存在一个错位，x比target_id提前一个位置\n",
    "    # 所以我们可以尝试将ela 也分为ela_x和ela_target_id"
   ]
  },
  {
   "cell_type": "code",
   "execution_count": 20,
   "metadata": {
    "execution": {
     "iopub.execute_input": "2020-12-15T16:20:28.980945Z",
     "iopub.status.busy": "2020-12-15T16:20:28.980142Z",
     "iopub.status.idle": "2020-12-15T16:20:32.408213Z",
     "shell.execute_reply": "2020-12-15T16:20:32.407065Z"
    },
    "papermill": {
     "duration": 3.463632,
     "end_time": "2020-12-15T16:20:32.408374",
     "exception": false,
     "start_time": "2020-12-15T16:20:28.944742",
     "status": "completed"
    },
    "tags": []
   },
   "outputs": [],
   "source": [
    "dataset = SAKTDataset(group, n_skill, n_ela_skill)\n",
    "dataloader = DataLoader(dataset, batch_size=2048, shuffle=True,num_workers=16)\n",
    "\n",
    "item = dataset.__getitem__(5)\n"
   ]
  },
  {
   "cell_type": "code",
   "execution_count": 21,
   "metadata": {
    "execution": {
     "iopub.execute_input": "2020-12-15T16:20:32.501824Z",
     "iopub.status.busy": "2020-12-15T16:20:32.499792Z",
     "iopub.status.idle": "2020-12-15T16:20:32.502606Z",
     "shell.execute_reply": "2020-12-15T16:20:32.503160Z"
    },
    "papermill": {
     "duration": 0.062757,
     "end_time": "2020-12-15T16:20:32.503295",
     "exception": false,
     "start_time": "2020-12-15T16:20:32.440538",
     "status": "completed"
    },
    "tags": []
   },
   "outputs": [],
   "source": [
    "class ValidDataset(Dataset):\n",
    "    def __init__(self, samples, test_df, n_skill,n_ela_skill, max_seq=MAX_SEQ): #HDKIM 100\n",
    "        super(ValidDataset, self).__init__()\n",
    "        self.samples = samples\n",
    "        self.user_ids = [x for x in test_df[\"user_id\"].unique()]\n",
    "        self.test_df = test_df\n",
    "        self.n_ela_skill = n_ela_skill\n",
    "        self.n_skill = n_skill\n",
    "        self.max_seq = max_seq\n",
    "\n",
    "    def __len__(self):\n",
    "        return self.test_df.shape[0]\n",
    "\n",
    "    def __getitem__(self, index):\n",
    "        test_info = self.test_df.iloc[index]\n",
    "\n",
    "        user_id = test_info[\"user_id\"]\n",
    "        target_id = test_info[\"content_id\"]\n",
    "        ela_target_id = test_info[\"prior_question_elapsed_time\"]\n",
    "        part_target_id = test_info[\"part\"]\n",
    "        \n",
    "        label = test_info['answered_correctly']\n",
    "\n",
    "        q = np.zeros(self.max_seq, dtype=int)\n",
    "        qa = np.zeros(self.max_seq, dtype=int)\n",
    "        ela = np.zeros(self.max_seq, dtype=int)\n",
    "        part = np.zeros(self.max_seq, dtype=int)\n",
    "\n",
    "        if user_id in self.samples.index:\n",
    "            q_, qa_, ela_, part_ = self.samples[user_id]\n",
    "            \n",
    "            seq_len = len(q_)\n",
    "\n",
    "            if seq_len >= self.max_seq:\n",
    "                q = q_[-self.max_seq:]\n",
    "                qa = qa_[-self.max_seq:]\n",
    "                ela = ela_[-self.max_seq:]\n",
    "                part = part_[-self.max_seq:]\n",
    "                \n",
    "            else:\n",
    "                q[-seq_len:] = q_\n",
    "                qa[-seq_len:] = qa_       \n",
    "                ela[-seq_len:] = ela_\n",
    "                part[-seq_len:] = part_\n",
    "        \n",
    "        x = np.zeros(self.max_seq-1, dtype=int)\n",
    "        x = q[1:].copy()\n",
    "#         x += (qa[1:] == 1) * self.n_skill\n",
    "        \n",
    "        questions = np.append(q[2:], [target_id])\n",
    "        \n",
    "        ela_x = np.zeros(self.max_seq-1, dtype=int)\n",
    "        ela_x = ela[1:].copy()\n",
    "#         ela_x += (qa[1:] == 1) * self.n_ela_skill\n",
    "        \n",
    "        ela_target = np.append(ela[2:],[ela_target_id])\n",
    "        \n",
    "        part_x = np.zeros(self.max_seq-1, dtype=int)\n",
    "        part_x = part[1:].copy()\n",
    "        \n",
    "        part_target = np.append(part[2:],[part_target_id])\n",
    "\n",
    "        ans_x = np.zeros(self.max_seq-1, dtype=int)\n",
    "        ans_x = qa[1:].copy()\n",
    "#         return x, questions, ela_x, ela_target, np.array([label])\n",
    "        return torch.LongTensor(x), torch.LongTensor(questions),\\\n",
    "            torch.LongTensor(ela_x), torch.LongTensor(ela_target),\\\n",
    "            torch.LongTensor(part_x), torch.LongTensor(part_target),\\\n",
    "            torch.LongTensor(ans_x),\\\n",
    "            torch.FloatTensor(np.array([label]))"
   ]
  },
  {
   "cell_type": "code",
   "execution_count": 22,
   "metadata": {
    "execution": {
     "iopub.execute_input": "2020-12-15T16:20:32.579629Z",
     "iopub.status.busy": "2020-12-15T16:20:32.578983Z",
     "iopub.status.idle": "2020-12-15T16:20:32.643097Z",
     "shell.execute_reply": "2020-12-15T16:20:32.642603Z"
    },
    "papermill": {
     "duration": 0.105194,
     "end_time": "2020-12-15T16:20:32.643207",
     "exception": false,
     "start_time": "2020-12-15T16:20:32.538013",
     "status": "completed"
    },
    "tags": []
   },
   "outputs": [],
   "source": [
    "test_dataset = ValidDataset(group, valid, n_skill, n_ela_skill)\n",
    "test_dataloader = DataLoader(test_dataset, batch_size=2048, shuffle=False,num_workers=8)"
   ]
  },
  {
   "cell_type": "code",
   "execution_count": null,
   "metadata": {
    "papermill": {
     "duration": 0.031284,
     "end_time": "2020-12-15T16:20:32.706507",
     "exception": false,
     "start_time": "2020-12-15T16:20:32.675223",
     "status": "completed"
    },
    "tags": []
   },
   "outputs": [],
   "source": []
  },
  {
   "cell_type": "markdown",
   "metadata": {
    "papermill": {
     "duration": 0.032173,
     "end_time": "2020-12-15T16:20:32.770184",
     "exception": false,
     "start_time": "2020-12-15T16:20:32.738011",
     "status": "completed"
    },
    "tags": []
   },
   "source": [
    "## Define model"
   ]
  },
  {
   "cell_type": "code",
   "execution_count": 23,
   "metadata": {
    "execution": {
     "iopub.execute_input": "2020-12-15T16:20:32.871925Z",
     "iopub.status.busy": "2020-12-15T16:20:32.856396Z",
     "iopub.status.idle": "2020-12-15T16:20:32.876622Z",
     "shell.execute_reply": "2020-12-15T16:20:32.876091Z"
    },
    "papermill": {
     "duration": 0.073939,
     "end_time": "2020-12-15T16:20:32.876723",
     "exception": false,
     "start_time": "2020-12-15T16:20:32.802784",
     "status": "completed"
    },
    "tags": []
   },
   "outputs": [],
   "source": [
    "class FFN(nn.Module):\n",
    "    def __init__(self, state_size=200):\n",
    "        super(FFN, self).__init__()\n",
    "        self.state_size = state_size\n",
    "\n",
    "        self.lr1 = nn.Linear(state_size, state_size)\n",
    "        self.relu = nn.ReLU()\n",
    "        self.lr2 = nn.Linear(state_size, state_size)\n",
    "        self.dropout = nn.Dropout(0.2)\n",
    "    \n",
    "    def forward(self, x):\n",
    "        x = self.lr1(x)\n",
    "        x = self.relu(x)\n",
    "        x = self.lr2(x)\n",
    "        return self.dropout(x)\n",
    "\n",
    "def future_mask(seq_length):\n",
    "    future_mask = np.triu(np.ones((seq_length, seq_length)), k=1).astype('bool')\n",
    "    return torch.from_numpy(future_mask)\n",
    "\n",
    "\n",
    "class SAKTModel(nn.Module):\n",
    "    def __init__(self, n_skill,n_ela_skill,n_part_skill, max_seq=MAX_SEQ, embed_dim=128): #HDKIM 100\n",
    "        super(SAKTModel, self).__init__()\n",
    "        self.n_skill = n_skill\n",
    "        self.n_ela_skill = n_ela_skill\n",
    "        self.n_part_skill = n_part_skill\n",
    "        self.embed_dim = embed_dim\n",
    "\n",
    "        self.embedding = nn.Embedding(2*n_skill+1, embed_dim)\n",
    "        self.pos_embedding = nn.Embedding(max_seq-1, embed_dim)\n",
    "        self.e_embedding = nn.Embedding(n_skill+1, embed_dim)\n",
    "        \n",
    "        self.ela_ans_embedding = nn.Embedding(2*n_ela_skill+1, embed_dim)\n",
    "        self.ela_embedding = nn.Embedding(n_ela_skill+1, embed_dim)\n",
    "\n",
    "        self.part_embedding = nn.Embedding(n_part_skill+1, embed_dim)\n",
    "        self.ans_embedding = nn.Embedding(2, embed_dim)\n",
    "        \n",
    "        self.multi_att = nn.MultiheadAttention(embed_dim=embed_dim, num_heads=8, dropout=0.2)\n",
    "\n",
    "        self.dropout = nn.Dropout(0.2)\n",
    "        self.layer_normal = nn.LayerNorm(embed_dim) \n",
    "\n",
    "        self.ffn = FFN(embed_dim)\n",
    "        self.pred = nn.Linear(embed_dim, 1)\n",
    "    \n",
    "    def forward(self, x, question_ids, ela_x, ela_target_ids, part_x, part_target_ids,ans_x):\n",
    "        device = x.device   \n",
    "#         print(\"x shape is:{}\".format(x.shape))\n",
    "#         print(\"x is:{}\\n\".format(x))\n",
    "#         x = self.embedding(x)\n",
    "        x = self.e_embedding(x)\n",
    "        pos_id = torch.arange(x.size(1)).unsqueeze(0).to(device)\n",
    "        \n",
    "        ans_x = self.ans_embedding(ans_x)\n",
    "        pos_x = self.pos_embedding(pos_id)\n",
    "#         ela_x = self.ela_ans_embedding(ela_x)\n",
    "        ela_x = self.ela_embedding(ela_x)\n",
    "        part_x = self.part_embedding(part_x)\n",
    "        \n",
    "        x = x + ela_x + pos_x + part_x + ans_x\n",
    "\n",
    "        e = self.e_embedding(question_ids)\n",
    "        ela = self.ela_embedding(ela_target_ids)\n",
    "        part = self.part_embedding(part_target_ids)\n",
    "        e = e + ela + part\n",
    "        \n",
    "        x = x.permute(1, 0, 2) # x: [bs, s_len, embed] => [s_len, bs, embed]\n",
    "        e = e.permute(1, 0, 2)\n",
    "        att_mask = future_mask(x.size(0)).to(device)\n",
    "        att_output, att_weight = self.multi_att(e, x, x, attn_mask=att_mask)\n",
    "        # 这个att_output其实是x的一个attention表示\n",
    "        att_output = self.layer_normal(att_output + e)\n",
    "        att_output = att_output.permute(1, 0, 2) # att_output: [s_len, bs, embed] => [bs, s_len, embed]\n",
    "\n",
    "        x = self.ffn(att_output)\n",
    "        x = self.layer_normal(x + att_output)\n",
    "        x = self.pred(x)\n",
    "\n",
    "        return x.squeeze(-1), att_weight"
   ]
  },
  {
   "cell_type": "code",
   "execution_count": 24,
   "metadata": {
    "execution": {
     "iopub.execute_input": "2020-12-15T16:20:33.303352Z",
     "iopub.status.busy": "2020-12-15T16:20:33.300398Z",
     "iopub.status.idle": "2020-12-15T16:20:38.010853Z",
     "shell.execute_reply": "2020-12-15T16:20:38.010304Z"
    },
    "papermill": {
     "duration": 5.101909,
     "end_time": "2020-12-15T16:20:38.010970",
     "exception": false,
     "start_time": "2020-12-15T16:20:32.909061",
     "status": "completed"
    },
    "tags": []
   },
   "outputs": [
    {
     "data": {
      "text/plain": [
       "BCEWithLogitsLoss()"
      ]
     },
     "execution_count": 24,
     "metadata": {},
     "output_type": "execute_result"
    }
   ],
   "source": [
    "device = torch.device(\"cuda:0\" if torch.cuda.is_available() else \"cpu\")\n",
    "# device = xm.xla_device()\n",
    "\n",
    "model = SAKTModel(n_skill,n_ela_skill,n_part_skill, embed_dim=128)\n",
    "# optimizer = torch.optim.SGD(model.parameters(), lr=1e-3, momentum=0.99, weight_decay=0.005)\n",
    "optimizer = torch.optim.Adam(model.parameters(), lr=1e-3)\n",
    "criterion = nn.BCEWithLogitsLoss()\n",
    "\n",
    "model.to(device)\n",
    "criterion.to(device)"
   ]
  },
  {
   "cell_type": "code",
   "execution_count": 25,
   "metadata": {
    "execution": {
     "iopub.execute_input": "2020-12-15T16:20:38.095466Z",
     "iopub.status.busy": "2020-12-15T16:20:38.094138Z",
     "iopub.status.idle": "2020-12-15T16:20:38.096765Z",
     "shell.execute_reply": "2020-12-15T16:20:38.097240Z"
    },
    "papermill": {
     "duration": 0.05309,
     "end_time": "2020-12-15T16:20:38.097355",
     "exception": false,
     "start_time": "2020-12-15T16:20:38.044265",
     "status": "completed"
    },
    "tags": []
   },
   "outputs": [],
   "source": [
    "def train_epoch(model, train_iterator, optim, criterion, device=\"cpu\"):\n",
    "    model.train()\n",
    "\n",
    "    train_loss = []\n",
    "    num_corrects = 0\n",
    "    num_total = 0\n",
    "    labels = []\n",
    "    outs = []\n",
    "\n",
    "    tbar = tqdm(train_iterator)\n",
    "    for item in tbar:\n",
    "        x = item[0].to(device).long()\n",
    "        target_id = item[1].to(device).long()\n",
    "        ela_x = item[2].to(device).long()\n",
    "        ela_target = item[3].to(device).long()\n",
    "        part_x = item[4].to(device).long()\n",
    "        part_target = item[5].to(device).long()  \n",
    "        ans_x = item[6].to(device).long()  \n",
    "\n",
    "        label = item[7].to(device).float()\n",
    "\n",
    "        optim.zero_grad()\n",
    "        output, atten_weight = model(x, target_id, ela_x, ela_target, part_x, part_target,ans_x)\n",
    "        loss = criterion(output, label)\n",
    "        loss.backward()\n",
    "        optim.step()\n",
    "#         xm.mark_step()\n",
    "        train_loss.append(loss.item())\n",
    "\n",
    "        output = output[:, -1]\n",
    "        label = label[:, -1] \n",
    "        pred = (torch.sigmoid(output) >= 0.5).long()\n",
    "        \n",
    "        num_corrects += (pred == label).sum().item()\n",
    "        num_total += len(label)\n",
    "\n",
    "        labels.extend(label.view(-1).data.cpu().numpy())\n",
    "        outs.extend(output.view(-1).data.cpu().numpy())\n",
    "\n",
    "        tbar.set_description('loss - {:.4f}'.format(loss))\n",
    "\n",
    "    acc = num_corrects / num_total\n",
    "    auc = roc_auc_score(labels, outs)\n",
    "    loss = np.mean(train_loss)\n",
    "\n",
    "    return loss, acc, auc"
   ]
  },
  {
   "cell_type": "code",
   "execution_count": 26,
   "metadata": {
    "execution": {
     "iopub.execute_input": "2020-12-15T16:20:38.184183Z",
     "iopub.status.busy": "2020-12-15T16:20:38.179753Z",
     "iopub.status.idle": "2020-12-15T16:20:38.186622Z",
     "shell.execute_reply": "2020-12-15T16:20:38.186131Z"
    },
    "papermill": {
     "duration": 0.052987,
     "end_time": "2020-12-15T16:20:38.186724",
     "exception": false,
     "start_time": "2020-12-15T16:20:38.133737",
     "status": "completed"
    },
    "tags": []
   },
   "outputs": [],
   "source": [
    "def evaluate_epoch(model, test_dataloader, criterion, device=\"cpu\"):\n",
    "    model.eval()\n",
    "    eval_loss = []\n",
    "    num_corrects = 0\n",
    "    num_total = 0\n",
    "    labels = []\n",
    "    outs = []\n",
    "    \n",
    "    with torch.no_grad():\n",
    "        for item in tqdm(test_dataloader):\n",
    "            x = item[0].to(device).long()\n",
    "            target_id = item[1].to(device).long()\n",
    "            ela_x = item[2].to(device).long()\n",
    "            ela_target = item[3].to(device).long()\n",
    "            part_x = item[4].to(device).long()\n",
    "            part_target = item[5].to(device).long()\n",
    "            ans_x = item[6].to(device).long()\n",
    "            \n",
    "            label = item[7].to(device).float()\n",
    "#             print(\"In evaluation x shape is:{}\\t taret_id shape is:{}\\t label shape is:{}\".format(x.shape, target_id.shape,label.shape))\n",
    "            \n",
    "            output, atten_weight = model(x, target_id, ela_x, ela_target, part_x, part_target, ans_x)\n",
    "            \n",
    "            output_loss = output[:, -1:]\n",
    "#             print(\"Output shape is:{}\\tlabel shape is:{}\".format(output.shape, label.shape))\n",
    "            loss = criterion(output_loss, label)\n",
    "            eval_loss.append(loss.item())\n",
    "            \n",
    "            output = output[:,-1]\n",
    "            label = label[:, -1] \n",
    "            pred = (torch.sigmoid(output) >= 0.5).long()\n",
    "            \n",
    "            num_corrects += (pred == label).sum().item()\n",
    "            num_total += len(label)\n",
    "\n",
    "            labels.extend(label.view(-1).data.cpu().numpy())\n",
    "            outs.extend(output.view(-1).data.cpu().numpy())\n",
    "\n",
    "    acc = num_corrects / num_total\n",
    "#     print(\"In evaluate labels is:{}\\t outs is:{}\\t\".format(labels, outs))\n",
    "\n",
    "    auc = roc_auc_score(labels, outs)\n",
    "#     auc = 0\n",
    "\n",
    "    loss = np.mean(eval_loss)   \n",
    "    \n",
    "    return loss, acc, auc"
   ]
  },
  {
   "cell_type": "code",
   "execution_count": 27,
   "metadata": {
    "execution": {
     "iopub.execute_input": "2020-12-15T16:20:38.262430Z",
     "iopub.status.busy": "2020-12-15T16:20:38.261810Z",
     "iopub.status.idle": "2020-12-15T18:06:48.052167Z",
     "shell.execute_reply": "2020-12-15T18:06:48.051553Z"
    },
    "papermill": {
     "duration": 6369.832149,
     "end_time": "2020-12-15T18:06:48.052308",
     "exception": false,
     "start_time": "2020-12-15T16:20:38.220159",
     "status": "completed"
    },
    "tags": []
   },
   "outputs": [
    {
     "name": "stderr",
     "output_type": "stream",
     "text": [
      "loss - 0.2014: 100%|██████████| 193/193 [01:09<00:00,  2.78it/s]\n",
      "  0%|          | 0/385 [00:00<?, ?it/s]"
     ]
    },
    {
     "name": "stdout",
     "output_type": "stream",
     "text": [
      "epoch - 0 train_loss - 0.23 acc - 0.626 auc - 0.668\n"
     ]
    },
    {
     "name": "stderr",
     "output_type": "stream",
     "text": [
      "100%|██████████| 385/385 [04:55<00:00,  1.30it/s]\n",
      "  0%|          | 0/193 [00:00<?, ?it/s]"
     ]
    },
    {
     "name": "stdout",
     "output_type": "stream",
     "text": [
      "epoch - 0 eval_loss - 0.63 eval acc - 0.645 eval auc - 0.704\n"
     ]
    },
    {
     "name": "stderr",
     "output_type": "stream",
     "text": [
      "loss - 0.1906: 100%|██████████| 193/193 [01:07<00:00,  2.84it/s]\n",
      "  0%|          | 0/193 [00:00<?, ?it/s]"
     ]
    },
    {
     "name": "stdout",
     "output_type": "stream",
     "text": [
      "epoch - 1 train_loss - 0.21 acc - 0.676 auc - 0.738\n"
     ]
    },
    {
     "name": "stderr",
     "output_type": "stream",
     "text": [
      "loss - 0.2017: 100%|██████████| 193/193 [01:08<00:00,  2.81it/s]\n",
      "  0%|          | 0/193 [00:00<?, ?it/s]"
     ]
    },
    {
     "name": "stdout",
     "output_type": "stream",
     "text": [
      "epoch - 2 train_loss - 0.20 acc - 0.684 auc - 0.749\n"
     ]
    },
    {
     "name": "stderr",
     "output_type": "stream",
     "text": [
      "loss - 0.1857: 100%|██████████| 193/193 [01:08<00:00,  2.80it/s]\n",
      "  0%|          | 0/193 [00:00<?, ?it/s]"
     ]
    },
    {
     "name": "stdout",
     "output_type": "stream",
     "text": [
      "epoch - 3 train_loss - 0.20 acc - 0.688 auc - 0.754\n"
     ]
    },
    {
     "name": "stderr",
     "output_type": "stream",
     "text": [
      "loss - 0.2027: 100%|██████████| 193/193 [01:08<00:00,  2.82it/s]\n",
      "  0%|          | 0/193 [00:00<?, ?it/s]"
     ]
    },
    {
     "name": "stdout",
     "output_type": "stream",
     "text": [
      "epoch - 4 train_loss - 0.20 acc - 0.687 auc - 0.754\n"
     ]
    },
    {
     "name": "stderr",
     "output_type": "stream",
     "text": [
      "loss - 0.1903: 100%|██████████| 193/193 [01:08<00:00,  2.81it/s]\n",
      "  0%|          | 0/193 [00:00<?, ?it/s]"
     ]
    },
    {
     "name": "stdout",
     "output_type": "stream",
     "text": [
      "epoch - 5 train_loss - 0.20 acc - 0.688 auc - 0.754\n"
     ]
    },
    {
     "name": "stderr",
     "output_type": "stream",
     "text": [
      "loss - 0.1941: 100%|██████████| 193/193 [01:08<00:00,  2.80it/s]\n",
      "  0%|          | 0/193 [00:00<?, ?it/s]"
     ]
    },
    {
     "name": "stdout",
     "output_type": "stream",
     "text": [
      "epoch - 6 train_loss - 0.20 acc - 0.689 auc - 0.755\n"
     ]
    },
    {
     "name": "stderr",
     "output_type": "stream",
     "text": [
      "loss - 0.1958: 100%|██████████| 193/193 [01:08<00:00,  2.81it/s]\n",
      "  0%|          | 0/193 [00:00<?, ?it/s]"
     ]
    },
    {
     "name": "stdout",
     "output_type": "stream",
     "text": [
      "epoch - 7 train_loss - 0.20 acc - 0.689 auc - 0.755\n"
     ]
    },
    {
     "name": "stderr",
     "output_type": "stream",
     "text": [
      "loss - 0.1902: 100%|██████████| 193/193 [01:08<00:00,  2.81it/s]\n",
      "  0%|          | 0/193 [00:00<?, ?it/s]"
     ]
    },
    {
     "name": "stdout",
     "output_type": "stream",
     "text": [
      "epoch - 8 train_loss - 0.20 acc - 0.690 auc - 0.757\n"
     ]
    },
    {
     "name": "stderr",
     "output_type": "stream",
     "text": [
      "loss - 0.2090: 100%|██████████| 193/193 [01:09<00:00,  2.77it/s]\n",
      "  0%|          | 0/193 [00:00<?, ?it/s]"
     ]
    },
    {
     "name": "stdout",
     "output_type": "stream",
     "text": [
      "epoch - 9 train_loss - 0.20 acc - 0.691 auc - 0.759\n"
     ]
    },
    {
     "name": "stderr",
     "output_type": "stream",
     "text": [
      "loss - 0.1845: 100%|██████████| 193/193 [01:09<00:00,  2.79it/s]\n",
      "  0%|          | 0/385 [00:00<?, ?it/s]"
     ]
    },
    {
     "name": "stdout",
     "output_type": "stream",
     "text": [
      "epoch - 10 train_loss - 0.20 acc - 0.690 auc - 0.757\n"
     ]
    },
    {
     "name": "stderr",
     "output_type": "stream",
     "text": [
      "100%|██████████| 385/385 [04:55<00:00,  1.30it/s]\n",
      "  0%|          | 0/193 [00:00<?, ?it/s]"
     ]
    },
    {
     "name": "stdout",
     "output_type": "stream",
     "text": [
      "epoch - 10 eval_loss - 0.60 eval acc - 0.677 eval auc - 0.747\n"
     ]
    },
    {
     "name": "stderr",
     "output_type": "stream",
     "text": [
      "loss - 0.2010: 100%|██████████| 193/193 [01:08<00:00,  2.81it/s]\n",
      "  0%|          | 0/193 [00:00<?, ?it/s]"
     ]
    },
    {
     "name": "stdout",
     "output_type": "stream",
     "text": [
      "epoch - 11 train_loss - 0.20 acc - 0.691 auc - 0.758\n"
     ]
    },
    {
     "name": "stderr",
     "output_type": "stream",
     "text": [
      "loss - 0.1892: 100%|██████████| 193/193 [01:09<00:00,  2.79it/s]\n",
      "  0%|          | 0/193 [00:00<?, ?it/s]"
     ]
    },
    {
     "name": "stdout",
     "output_type": "stream",
     "text": [
      "epoch - 12 train_loss - 0.20 acc - 0.691 auc - 0.758\n"
     ]
    },
    {
     "name": "stderr",
     "output_type": "stream",
     "text": [
      "loss - 0.2059: 100%|██████████| 193/193 [01:08<00:00,  2.81it/s]\n",
      "  0%|          | 0/193 [00:00<?, ?it/s]"
     ]
    },
    {
     "name": "stdout",
     "output_type": "stream",
     "text": [
      "epoch - 13 train_loss - 0.20 acc - 0.691 auc - 0.758\n"
     ]
    },
    {
     "name": "stderr",
     "output_type": "stream",
     "text": [
      "loss - 0.1924: 100%|██████████| 193/193 [01:08<00:00,  2.82it/s]\n",
      "  0%|          | 0/193 [00:00<?, ?it/s]"
     ]
    },
    {
     "name": "stdout",
     "output_type": "stream",
     "text": [
      "epoch - 14 train_loss - 0.20 acc - 0.692 auc - 0.760\n"
     ]
    },
    {
     "name": "stderr",
     "output_type": "stream",
     "text": [
      "loss - 0.2074: 100%|██████████| 193/193 [01:09<00:00,  2.80it/s]\n",
      "  0%|          | 0/193 [00:00<?, ?it/s]"
     ]
    },
    {
     "name": "stdout",
     "output_type": "stream",
     "text": [
      "epoch - 15 train_loss - 0.20 acc - 0.692 auc - 0.760\n"
     ]
    },
    {
     "name": "stderr",
     "output_type": "stream",
     "text": [
      "loss - 0.1944: 100%|██████████| 193/193 [01:09<00:00,  2.77it/s]\n",
      "  0%|          | 0/193 [00:00<?, ?it/s]"
     ]
    },
    {
     "name": "stdout",
     "output_type": "stream",
     "text": [
      "epoch - 16 train_loss - 0.20 acc - 0.693 auc - 0.761\n"
     ]
    },
    {
     "name": "stderr",
     "output_type": "stream",
     "text": [
      "loss - 0.1783: 100%|██████████| 193/193 [01:08<00:00,  2.81it/s]\n",
      "  0%|          | 0/193 [00:00<?, ?it/s]"
     ]
    },
    {
     "name": "stdout",
     "output_type": "stream",
     "text": [
      "epoch - 17 train_loss - 0.20 acc - 0.693 auc - 0.760\n"
     ]
    },
    {
     "name": "stderr",
     "output_type": "stream",
     "text": [
      "loss - 0.2015: 100%|██████████| 193/193 [01:09<00:00,  2.77it/s]\n",
      "  0%|          | 0/193 [00:00<?, ?it/s]"
     ]
    },
    {
     "name": "stdout",
     "output_type": "stream",
     "text": [
      "epoch - 18 train_loss - 0.20 acc - 0.692 auc - 0.760\n"
     ]
    },
    {
     "name": "stderr",
     "output_type": "stream",
     "text": [
      "loss - 0.2427: 100%|██████████| 193/193 [01:09<00:00,  2.79it/s]\n",
      "  0%|          | 0/193 [00:00<?, ?it/s]"
     ]
    },
    {
     "name": "stdout",
     "output_type": "stream",
     "text": [
      "epoch - 19 train_loss - 0.20 acc - 0.694 auc - 0.761\n"
     ]
    },
    {
     "name": "stderr",
     "output_type": "stream",
     "text": [
      "loss - 0.1998: 100%|██████████| 193/193 [01:08<00:00,  2.81it/s]\n",
      "  0%|          | 0/385 [00:00<?, ?it/s]"
     ]
    },
    {
     "name": "stdout",
     "output_type": "stream",
     "text": [
      "epoch - 20 train_loss - 0.20 acc - 0.694 auc - 0.761\n"
     ]
    },
    {
     "name": "stderr",
     "output_type": "stream",
     "text": [
      "100%|██████████| 385/385 [04:55<00:00,  1.30it/s]\n",
      "  0%|          | 0/193 [00:00<?, ?it/s]"
     ]
    },
    {
     "name": "stdout",
     "output_type": "stream",
     "text": [
      "epoch - 20 eval_loss - 0.59 eval acc - 0.682 eval auc - 0.751\n"
     ]
    },
    {
     "name": "stderr",
     "output_type": "stream",
     "text": [
      "loss - 0.2146: 100%|██████████| 193/193 [01:09<00:00,  2.77it/s]\n",
      "  0%|          | 0/193 [00:00<?, ?it/s]"
     ]
    },
    {
     "name": "stdout",
     "output_type": "stream",
     "text": [
      "epoch - 21 train_loss - 0.20 acc - 0.693 auc - 0.761\n"
     ]
    },
    {
     "name": "stderr",
     "output_type": "stream",
     "text": [
      "loss - 0.1860: 100%|██████████| 193/193 [01:08<00:00,  2.81it/s]\n",
      "  0%|          | 0/193 [00:00<?, ?it/s]"
     ]
    },
    {
     "name": "stdout",
     "output_type": "stream",
     "text": [
      "epoch - 22 train_loss - 0.20 acc - 0.694 auc - 0.761\n"
     ]
    },
    {
     "name": "stderr",
     "output_type": "stream",
     "text": [
      "loss - 0.1938: 100%|██████████| 193/193 [01:09<00:00,  2.78it/s]\n",
      "  0%|          | 0/193 [00:00<?, ?it/s]"
     ]
    },
    {
     "name": "stdout",
     "output_type": "stream",
     "text": [
      "epoch - 23 train_loss - 0.20 acc - 0.694 auc - 0.761\n"
     ]
    },
    {
     "name": "stderr",
     "output_type": "stream",
     "text": [
      "loss - 0.2005: 100%|██████████| 193/193 [01:07<00:00,  2.84it/s]\n",
      "  0%|          | 0/193 [00:00<?, ?it/s]"
     ]
    },
    {
     "name": "stdout",
     "output_type": "stream",
     "text": [
      "epoch - 24 train_loss - 0.20 acc - 0.693 auc - 0.761\n"
     ]
    },
    {
     "name": "stderr",
     "output_type": "stream",
     "text": [
      "loss - 0.1746: 100%|██████████| 193/193 [01:08<00:00,  2.80it/s]\n",
      "  0%|          | 0/193 [00:00<?, ?it/s]"
     ]
    },
    {
     "name": "stdout",
     "output_type": "stream",
     "text": [
      "epoch - 25 train_loss - 0.20 acc - 0.691 auc - 0.760\n"
     ]
    },
    {
     "name": "stderr",
     "output_type": "stream",
     "text": [
      "loss - 0.2059: 100%|██████████| 193/193 [01:07<00:00,  2.84it/s]\n",
      "  0%|          | 0/193 [00:00<?, ?it/s]"
     ]
    },
    {
     "name": "stdout",
     "output_type": "stream",
     "text": [
      "epoch - 26 train_loss - 0.20 acc - 0.695 auc - 0.763\n"
     ]
    },
    {
     "name": "stderr",
     "output_type": "stream",
     "text": [
      "loss - 0.1903: 100%|██████████| 193/193 [01:08<00:00,  2.83it/s]\n",
      "  0%|          | 0/193 [00:00<?, ?it/s]"
     ]
    },
    {
     "name": "stdout",
     "output_type": "stream",
     "text": [
      "epoch - 27 train_loss - 0.20 acc - 0.695 auc - 0.762\n"
     ]
    },
    {
     "name": "stderr",
     "output_type": "stream",
     "text": [
      "loss - 0.1968: 100%|██████████| 193/193 [01:09<00:00,  2.78it/s]\n",
      "  0%|          | 0/193 [00:00<?, ?it/s]"
     ]
    },
    {
     "name": "stdout",
     "output_type": "stream",
     "text": [
      "epoch - 28 train_loss - 0.20 acc - 0.693 auc - 0.761\n"
     ]
    },
    {
     "name": "stderr",
     "output_type": "stream",
     "text": [
      "loss - 0.2069: 100%|██████████| 193/193 [01:08<00:00,  2.81it/s]\n",
      "  0%|          | 0/193 [00:00<?, ?it/s]"
     ]
    },
    {
     "name": "stdout",
     "output_type": "stream",
     "text": [
      "epoch - 29 train_loss - 0.20 acc - 0.693 auc - 0.761\n"
     ]
    },
    {
     "name": "stderr",
     "output_type": "stream",
     "text": [
      "loss - 0.2036: 100%|██████████| 193/193 [01:09<00:00,  2.78it/s]\n",
      "  0%|          | 0/385 [00:00<?, ?it/s]"
     ]
    },
    {
     "name": "stdout",
     "output_type": "stream",
     "text": [
      "epoch - 30 train_loss - 0.20 acc - 0.694 auc - 0.762\n"
     ]
    },
    {
     "name": "stderr",
     "output_type": "stream",
     "text": [
      "100%|██████████| 385/385 [04:55<00:00,  1.30it/s]\n",
      "  0%|          | 0/193 [00:00<?, ?it/s]"
     ]
    },
    {
     "name": "stdout",
     "output_type": "stream",
     "text": [
      "epoch - 30 eval_loss - 0.60 eval acc - 0.677 eval auc - 0.752\n"
     ]
    },
    {
     "name": "stderr",
     "output_type": "stream",
     "text": [
      "loss - 0.2065: 100%|██████████| 193/193 [01:08<00:00,  2.83it/s]\n",
      "  0%|          | 0/193 [00:00<?, ?it/s]"
     ]
    },
    {
     "name": "stdout",
     "output_type": "stream",
     "text": [
      "epoch - 31 train_loss - 0.20 acc - 0.693 auc - 0.761\n"
     ]
    },
    {
     "name": "stderr",
     "output_type": "stream",
     "text": [
      "loss - 0.1981: 100%|██████████| 193/193 [01:09<00:00,  2.78it/s]\n",
      "  0%|          | 0/193 [00:00<?, ?it/s]"
     ]
    },
    {
     "name": "stdout",
     "output_type": "stream",
     "text": [
      "epoch - 32 train_loss - 0.20 acc - 0.694 auc - 0.762\n"
     ]
    },
    {
     "name": "stderr",
     "output_type": "stream",
     "text": [
      "loss - 0.2012: 100%|██████████| 193/193 [01:08<00:00,  2.82it/s]\n",
      "  0%|          | 0/193 [00:00<?, ?it/s]"
     ]
    },
    {
     "name": "stdout",
     "output_type": "stream",
     "text": [
      "epoch - 33 train_loss - 0.20 acc - 0.695 auc - 0.763\n"
     ]
    },
    {
     "name": "stderr",
     "output_type": "stream",
     "text": [
      "loss - 0.1915: 100%|██████████| 193/193 [01:07<00:00,  2.84it/s]\n",
      "  0%|          | 0/193 [00:00<?, ?it/s]"
     ]
    },
    {
     "name": "stdout",
     "output_type": "stream",
     "text": [
      "epoch - 34 train_loss - 0.20 acc - 0.695 auc - 0.763\n"
     ]
    },
    {
     "name": "stderr",
     "output_type": "stream",
     "text": [
      "loss - 0.1808: 100%|██████████| 193/193 [01:09<00:00,  2.79it/s]\n",
      "  0%|          | 0/193 [00:00<?, ?it/s]"
     ]
    },
    {
     "name": "stdout",
     "output_type": "stream",
     "text": [
      "epoch - 35 train_loss - 0.20 acc - 0.694 auc - 0.762\n"
     ]
    },
    {
     "name": "stderr",
     "output_type": "stream",
     "text": [
      "loss - 0.1989: 100%|██████████| 193/193 [01:09<00:00,  2.79it/s]\n",
      "  0%|          | 0/193 [00:00<?, ?it/s]"
     ]
    },
    {
     "name": "stdout",
     "output_type": "stream",
     "text": [
      "epoch - 36 train_loss - 0.20 acc - 0.694 auc - 0.762\n"
     ]
    },
    {
     "name": "stderr",
     "output_type": "stream",
     "text": [
      "loss - 0.2092: 100%|██████████| 193/193 [01:08<00:00,  2.80it/s]\n",
      "  0%|          | 0/193 [00:00<?, ?it/s]"
     ]
    },
    {
     "name": "stdout",
     "output_type": "stream",
     "text": [
      "epoch - 37 train_loss - 0.20 acc - 0.696 auc - 0.764\n"
     ]
    },
    {
     "name": "stderr",
     "output_type": "stream",
     "text": [
      "loss - 0.1924: 100%|██████████| 193/193 [01:07<00:00,  2.84it/s]\n",
      "  0%|          | 0/193 [00:00<?, ?it/s]"
     ]
    },
    {
     "name": "stdout",
     "output_type": "stream",
     "text": [
      "epoch - 38 train_loss - 0.20 acc - 0.695 auc - 0.763\n"
     ]
    },
    {
     "name": "stderr",
     "output_type": "stream",
     "text": [
      "loss - 0.1962: 100%|██████████| 193/193 [01:10<00:00,  2.76it/s]\n",
      "  0%|          | 0/193 [00:00<?, ?it/s]"
     ]
    },
    {
     "name": "stdout",
     "output_type": "stream",
     "text": [
      "epoch - 39 train_loss - 0.20 acc - 0.696 auc - 0.764\n"
     ]
    },
    {
     "name": "stderr",
     "output_type": "stream",
     "text": [
      "loss - 0.1922: 100%|██████████| 193/193 [01:08<00:00,  2.83it/s]\n",
      "  0%|          | 0/385 [00:00<?, ?it/s]"
     ]
    },
    {
     "name": "stdout",
     "output_type": "stream",
     "text": [
      "epoch - 40 train_loss - 0.20 acc - 0.695 auc - 0.764\n"
     ]
    },
    {
     "name": "stderr",
     "output_type": "stream",
     "text": [
      "100%|██████████| 385/385 [04:55<00:00,  1.30it/s]\n",
      "  0%|          | 0/193 [00:00<?, ?it/s]"
     ]
    },
    {
     "name": "stdout",
     "output_type": "stream",
     "text": [
      "epoch - 40 eval_loss - 0.59 eval acc - 0.684 eval auc - 0.756\n"
     ]
    },
    {
     "name": "stderr",
     "output_type": "stream",
     "text": [
      "loss - 0.1997: 100%|██████████| 193/193 [01:08<00:00,  2.83it/s]\n",
      "  0%|          | 0/193 [00:00<?, ?it/s]"
     ]
    },
    {
     "name": "stdout",
     "output_type": "stream",
     "text": [
      "epoch - 41 train_loss - 0.20 acc - 0.697 auc - 0.765\n"
     ]
    },
    {
     "name": "stderr",
     "output_type": "stream",
     "text": [
      "loss - 0.1991: 100%|██████████| 193/193 [01:09<00:00,  2.77it/s]\n",
      "  0%|          | 0/193 [00:00<?, ?it/s]"
     ]
    },
    {
     "name": "stdout",
     "output_type": "stream",
     "text": [
      "epoch - 42 train_loss - 0.20 acc - 0.698 auc - 0.766\n"
     ]
    },
    {
     "name": "stderr",
     "output_type": "stream",
     "text": [
      "loss - 0.1905: 100%|██████████| 193/193 [01:10<00:00,  2.74it/s]\n",
      "  0%|          | 0/193 [00:00<?, ?it/s]"
     ]
    },
    {
     "name": "stdout",
     "output_type": "stream",
     "text": [
      "epoch - 43 train_loss - 0.20 acc - 0.696 auc - 0.765\n"
     ]
    },
    {
     "name": "stderr",
     "output_type": "stream",
     "text": [
      "loss - 0.1593: 100%|██████████| 193/193 [01:08<00:00,  2.82it/s]\n",
      "  0%|          | 0/193 [00:00<?, ?it/s]"
     ]
    },
    {
     "name": "stdout",
     "output_type": "stream",
     "text": [
      "epoch - 44 train_loss - 0.20 acc - 0.697 auc - 0.765\n"
     ]
    },
    {
     "name": "stderr",
     "output_type": "stream",
     "text": [
      "loss - 0.1806: 100%|██████████| 193/193 [01:08<00:00,  2.81it/s]\n",
      "  0%|          | 0/193 [00:00<?, ?it/s]"
     ]
    },
    {
     "name": "stdout",
     "output_type": "stream",
     "text": [
      "epoch - 45 train_loss - 0.20 acc - 0.697 auc - 0.766\n"
     ]
    },
    {
     "name": "stderr",
     "output_type": "stream",
     "text": [
      "loss - 0.1974: 100%|██████████| 193/193 [01:09<00:00,  2.79it/s]\n",
      "  0%|          | 0/193 [00:00<?, ?it/s]"
     ]
    },
    {
     "name": "stdout",
     "output_type": "stream",
     "text": [
      "epoch - 46 train_loss - 0.20 acc - 0.697 auc - 0.765\n"
     ]
    },
    {
     "name": "stderr",
     "output_type": "stream",
     "text": [
      "loss - 0.1866: 100%|██████████| 193/193 [01:08<00:00,  2.82it/s]\n",
      "  0%|          | 0/193 [00:00<?, ?it/s]"
     ]
    },
    {
     "name": "stdout",
     "output_type": "stream",
     "text": [
      "epoch - 47 train_loss - 0.20 acc - 0.697 auc - 0.766\n"
     ]
    },
    {
     "name": "stderr",
     "output_type": "stream",
     "text": [
      "loss - 0.2029: 100%|██████████| 193/193 [01:09<00:00,  2.79it/s]\n",
      "  0%|          | 0/193 [00:00<?, ?it/s]"
     ]
    },
    {
     "name": "stdout",
     "output_type": "stream",
     "text": [
      "epoch - 48 train_loss - 0.20 acc - 0.696 auc - 0.765\n"
     ]
    },
    {
     "name": "stderr",
     "output_type": "stream",
     "text": [
      "loss - 0.2104: 100%|██████████| 193/193 [01:08<00:00,  2.80it/s]\n",
      "  0%|          | 0/193 [00:00<?, ?it/s]"
     ]
    },
    {
     "name": "stdout",
     "output_type": "stream",
     "text": [
      "epoch - 49 train_loss - 0.20 acc - 0.696 auc - 0.765\n"
     ]
    },
    {
     "name": "stderr",
     "output_type": "stream",
     "text": [
      "loss - 0.2119: 100%|██████████| 193/193 [01:10<00:00,  2.74it/s]\n",
      "  0%|          | 0/385 [00:00<?, ?it/s]"
     ]
    },
    {
     "name": "stdout",
     "output_type": "stream",
     "text": [
      "epoch - 50 train_loss - 0.20 acc - 0.699 auc - 0.768\n"
     ]
    },
    {
     "name": "stderr",
     "output_type": "stream",
     "text": [
      "100%|██████████| 385/385 [04:59<00:00,  1.28it/s]\n",
      "  0%|          | 0/193 [00:00<?, ?it/s]"
     ]
    },
    {
     "name": "stdout",
     "output_type": "stream",
     "text": [
      "epoch - 50 eval_loss - 0.58 eval acc - 0.689 eval auc - 0.759\n"
     ]
    },
    {
     "name": "stderr",
     "output_type": "stream",
     "text": [
      "loss - 0.1766: 100%|██████████| 193/193 [01:10<00:00,  2.73it/s]\n",
      "  0%|          | 0/193 [00:00<?, ?it/s]"
     ]
    },
    {
     "name": "stdout",
     "output_type": "stream",
     "text": [
      "epoch - 51 train_loss - 0.20 acc - 0.698 auc - 0.767\n"
     ]
    },
    {
     "name": "stderr",
     "output_type": "stream",
     "text": [
      "loss - 0.1682: 100%|██████████| 193/193 [01:11<00:00,  2.72it/s]\n",
      "  0%|          | 0/193 [00:00<?, ?it/s]"
     ]
    },
    {
     "name": "stdout",
     "output_type": "stream",
     "text": [
      "epoch - 52 train_loss - 0.20 acc - 0.698 auc - 0.768\n"
     ]
    },
    {
     "name": "stderr",
     "output_type": "stream",
     "text": [
      "loss - 0.2035: 100%|██████████| 193/193 [01:10<00:00,  2.72it/s]\n",
      "  0%|          | 0/193 [00:00<?, ?it/s]"
     ]
    },
    {
     "name": "stdout",
     "output_type": "stream",
     "text": [
      "epoch - 53 train_loss - 0.20 acc - 0.699 auc - 0.768\n"
     ]
    },
    {
     "name": "stderr",
     "output_type": "stream",
     "text": [
      "loss - 0.2155: 100%|██████████| 193/193 [01:16<00:00,  2.52it/s]\n",
      "  0%|          | 0/193 [00:00<?, ?it/s]"
     ]
    },
    {
     "name": "stdout",
     "output_type": "stream",
     "text": [
      "epoch - 54 train_loss - 0.20 acc - 0.699 auc - 0.768\n"
     ]
    },
    {
     "name": "stderr",
     "output_type": "stream",
     "text": [
      "loss - 0.2038: 100%|██████████| 193/193 [01:14<00:00,  2.60it/s]\n",
      "  0%|          | 0/193 [00:00<?, ?it/s]"
     ]
    },
    {
     "name": "stdout",
     "output_type": "stream",
     "text": [
      "epoch - 55 train_loss - 0.20 acc - 0.698 auc - 0.767\n"
     ]
    },
    {
     "name": "stderr",
     "output_type": "stream",
     "text": [
      "loss - 0.1928: 100%|██████████| 193/193 [01:14<00:00,  2.59it/s]\n",
      "  0%|          | 0/193 [00:00<?, ?it/s]"
     ]
    },
    {
     "name": "stdout",
     "output_type": "stream",
     "text": [
      "epoch - 56 train_loss - 0.20 acc - 0.699 auc - 0.768\n"
     ]
    },
    {
     "name": "stderr",
     "output_type": "stream",
     "text": [
      "loss - 0.1755: 100%|██████████| 193/193 [01:16<00:00,  2.54it/s]\n",
      "  0%|          | 0/193 [00:00<?, ?it/s]"
     ]
    },
    {
     "name": "stdout",
     "output_type": "stream",
     "text": [
      "epoch - 57 train_loss - 0.20 acc - 0.699 auc - 0.768\n"
     ]
    },
    {
     "name": "stderr",
     "output_type": "stream",
     "text": [
      "loss - 0.1690: 100%|██████████| 193/193 [01:15<00:00,  2.56it/s]\n",
      "  0%|          | 0/193 [00:00<?, ?it/s]"
     ]
    },
    {
     "name": "stdout",
     "output_type": "stream",
     "text": [
      "epoch - 58 train_loss - 0.20 acc - 0.699 auc - 0.768\n"
     ]
    },
    {
     "name": "stderr",
     "output_type": "stream",
     "text": [
      "loss - 0.1937: 100%|██████████| 193/193 [01:14<00:00,  2.58it/s]\n",
      "  0%|          | 0/385 [00:00<?, ?it/s]"
     ]
    },
    {
     "name": "stdout",
     "output_type": "stream",
     "text": [
      "epoch - 59 train_loss - 0.20 acc - 0.699 auc - 0.768\n"
     ]
    },
    {
     "name": "stderr",
     "output_type": "stream",
     "text": [
      "100%|██████████| 385/385 [06:13<00:00,  1.03it/s]\n"
     ]
    },
    {
     "name": "stdout",
     "output_type": "stream",
     "text": [
      "epoch - 59 eval_loss - 0.59 eval acc - 0.687 eval auc - 0.760\n"
     ]
    }
   ],
   "source": [
    "epochs = 60\n",
    "best_auc = 0.0\n",
    "for epoch in range(epochs):\n",
    "    loss, acc, auc = train_epoch(model, dataloader, optimizer, criterion, device)\n",
    "    print(\"epoch - {} train_loss - {:.2f} acc - {:.3f} auc - {:.3f}\".format(epoch, loss, acc, auc))\n",
    "    \n",
    "    if epoch %10 == 0 or epoch == 59:\n",
    "        eval_loss, eval_acc, eval_auc = evaluate_epoch(model, test_dataloader, criterion, device)\n",
    "        print(\"epoch - {} eval_loss - {:.2f} eval acc - {:.3f} eval auc - {:.3f}\".format(epoch, eval_loss, eval_acc, eval_auc))\n",
    "        if best_auc < eval_auc: \n",
    "            best_auc = eval_auc\n",
    "            torch.save(model.state_dict(),'best_model.pt')\n"
   ]
  },
  {
   "cell_type": "code",
   "execution_count": null,
   "metadata": {
    "papermill": {
     "duration": 11.605314,
     "end_time": "2020-12-15T18:07:11.194910",
     "exception": false,
     "start_time": "2020-12-15T18:06:59.589596",
     "status": "completed"
    },
    "tags": []
   },
   "outputs": [],
   "source": []
  },
  {
   "cell_type": "code",
   "execution_count": 28,
   "metadata": {
    "execution": {
     "iopub.execute_input": "2020-12-15T18:07:33.161560Z",
     "iopub.status.busy": "2020-12-15T18:07:33.159674Z",
     "iopub.status.idle": "2020-12-15T18:07:33.165101Z",
     "shell.execute_reply": "2020-12-15T18:07:33.165679Z"
    },
    "papermill": {
     "duration": 10.976474,
     "end_time": "2020-12-15T18:07:33.165836",
     "exception": false,
     "start_time": "2020-12-15T18:07:22.189362",
     "status": "completed"
    },
    "tags": []
   },
   "outputs": [
    {
     "data": {
      "text/plain": [
       "20"
      ]
     },
     "execution_count": 28,
     "metadata": {},
     "output_type": "execute_result"
    }
   ],
   "source": [
    "import gc\n",
    "del dataset\n",
    "gc.collect()"
   ]
  },
  {
   "cell_type": "markdown",
   "metadata": {
    "papermill": {
     "duration": 10.79048,
     "end_time": "2020-12-15T18:07:55.172245",
     "exception": false,
     "start_time": "2020-12-15T18:07:44.381765",
     "status": "completed"
    },
    "tags": []
   },
   "source": [
    "## Test"
   ]
  },
  {
   "cell_type": "code",
   "execution_count": 29,
   "metadata": {
    "execution": {
     "iopub.execute_input": "2020-12-15T18:08:18.874471Z",
     "iopub.status.busy": "2020-12-15T18:08:18.864053Z",
     "iopub.status.idle": "2020-12-15T18:08:18.887282Z",
     "shell.execute_reply": "2020-12-15T18:08:18.888085Z"
    },
    "papermill": {
     "duration": 11.460314,
     "end_time": "2020-12-15T18:08:18.888275",
     "exception": false,
     "start_time": "2020-12-15T18:08:07.427961",
     "status": "completed"
    },
    "tags": []
   },
   "outputs": [],
   "source": [
    "class TestDataset(Dataset):\n",
    "    def __init__(self, samples, test_df, n_skill, n_ela_skill,n_part_skill,max_seq=MAX_SEQ): #HDKIM 100\n",
    "        super(TestDataset, self).__init__()\n",
    "        self.samples = samples\n",
    "        self.user_ids = [x for x in test_df[\"user_id\"].unique()]\n",
    "        self.test_df = test_df\n",
    "        self.n_ela_skill = n_ela_skill\n",
    "        self.n_part_skill = n_part_skill\n",
    "        self.n_skill = n_skill\n",
    "        self.max_seq = max_seq\n",
    "\n",
    "    def __len__(self):\n",
    "        return self.test_df.shape[0]\n",
    "\n",
    "    def __getitem__(self, index):\n",
    "        test_info = self.test_df.iloc[index]\n",
    "\n",
    "        user_id = test_info[\"user_id\"]\n",
    "        target_id = test_info[\"content_id\"]\n",
    "        ela_target_id = test_info[\"prior_question_elapsed_time\"]\n",
    "        part_target_id = test_info[\"part\"]\n",
    "\n",
    "        q = np.zeros(self.max_seq, dtype=int)\n",
    "        qa = np.zeros(self.max_seq, dtype=int)\n",
    "        ela = np.zeros(self.max_seq, dtype=int)\n",
    "        part = np.zeros(self.max_seq, dtype=int)\n",
    "\n",
    "        if user_id in self.samples.index:\n",
    "#             print(\"self.samples[user_id] is:{}\\n length is:{}\".format(\n",
    "#                 self.samples[user_id], len(self.samples[user_id])))\n",
    "            q_, qa_, ela_,part_ = self.samples[user_id]\n",
    "            seq_len = len(q_)\n",
    "\n",
    "            if seq_len >= self.max_seq:\n",
    "                q = q_[-self.max_seq:]\n",
    "                qa = qa_[-self.max_seq:]\n",
    "                ela = ela_[-self.max_seq:]\n",
    "                part = part_[-self.max_seq:]\n",
    "\n",
    "            else:\n",
    "                q[-seq_len:] = q_\n",
    "                qa[-seq_len:] = qa_          \n",
    "                ela[-seq_len:] = ela_\n",
    "                part[-seq_len:] = part_\n",
    "\n",
    "                \n",
    "        x = np.zeros(self.max_seq-1, dtype=int)\n",
    "        x = q[1:].copy()\n",
    "#         x += (qa[1:] == 1) * self.n_skill\n",
    "        \n",
    "        questions = np.append(q[2:], [target_id])\n",
    "        \n",
    "        ela_x = np.zeros(self.max_seq-1, dtype=int)\n",
    "        ela_x = ela[1:].copy()\n",
    "#         ela_x += (qa[1:] == 1) * self.n_ela_skill\n",
    "        \n",
    "        ela_target = np.append(ela[2:],[ela_target_id])  \n",
    "        \n",
    "        part_x = np.zeros(self.max_seq-1, dtype=int)\n",
    "        part_x = part[1:].copy()\n",
    "        \n",
    "        part_target = np.append(part[2:],[part_target_id])     \n",
    "        \n",
    "        ans_x = np.zeros(self.max_seq-1, dtype=int)\n",
    "        ans_x = qa[1:].copy()\n",
    "        return torch.LongTensor(x), torch.LongTensor(questions),\\\n",
    "            torch.LongTensor(ela_x), torch.LongTensor(ela_target),\\\n",
    "            torch.LongTensor(part_x), torch.LongTensor(part_target),\\\n",
    "            torch.LongTensor(ans_x)\n"
   ]
  },
  {
   "cell_type": "code",
   "execution_count": 30,
   "metadata": {
    "execution": {
     "iopub.execute_input": "2020-12-15T18:08:40.735414Z",
     "iopub.status.busy": "2020-12-15T18:08:40.734491Z",
     "iopub.status.idle": "2020-12-15T18:08:40.839996Z",
     "shell.execute_reply": "2020-12-15T18:08:40.839372Z"
    },
    "papermill": {
     "duration": 11.043929,
     "end_time": "2020-12-15T18:08:40.840129",
     "exception": false,
     "start_time": "2020-12-15T18:08:29.796200",
     "status": "completed"
    },
    "tags": []
   },
   "outputs": [
    {
     "data": {
      "text/plain": [
       "SAKTModel(\n",
       "  (embedding): Embedding(27047, 128)\n",
       "  (pos_embedding): Embedding(159, 128)\n",
       "  (e_embedding): Embedding(13524, 128)\n",
       "  (ela_ans_embedding): Embedding(603, 128)\n",
       "  (ela_embedding): Embedding(302, 128)\n",
       "  (part_embedding): Embedding(8, 128)\n",
       "  (ans_embedding): Embedding(2, 128)\n",
       "  (multi_att): MultiheadAttention(\n",
       "    (out_proj): _LinearWithBias(in_features=128, out_features=128, bias=True)\n",
       "  )\n",
       "  (dropout): Dropout(p=0.2, inplace=False)\n",
       "  (layer_normal): LayerNorm((128,), eps=1e-05, elementwise_affine=True)\n",
       "  (ffn): FFN(\n",
       "    (lr1): Linear(in_features=128, out_features=128, bias=True)\n",
       "    (relu): ReLU()\n",
       "    (lr2): Linear(in_features=128, out_features=128, bias=True)\n",
       "    (dropout): Dropout(p=0.2, inplace=False)\n",
       "  )\n",
       "  (pred): Linear(in_features=128, out_features=1, bias=True)\n",
       ")"
      ]
     },
     "execution_count": 30,
     "metadata": {},
     "output_type": "execute_result"
    }
   ],
   "source": [
    "model = SAKTModel(n_skill,n_ela_skill,n_part_skill,embed_dim=128)\n",
    "model.load_state_dict(torch.load('best_model.pt',map_location=device))\n",
    "model.to(device)"
   ]
  },
  {
   "cell_type": "code",
   "execution_count": 31,
   "metadata": {
    "execution": {
     "iopub.execute_input": "2020-12-15T18:09:03.544860Z",
     "iopub.status.busy": "2020-12-15T18:09:03.529134Z",
     "iopub.status.idle": "2020-12-15T18:09:04.710042Z",
     "shell.execute_reply": "2020-12-15T18:09:04.708771Z"
    },
    "papermill": {
     "duration": 13.092068,
     "end_time": "2020-12-15T18:09:04.710190",
     "exception": false,
     "start_time": "2020-12-15T18:08:51.618122",
     "status": "completed"
    },
    "tags": []
   },
   "outputs": [
    {
     "name": "stderr",
     "output_type": "stream",
     "text": [
      "0it [00:00, ?it/s]\n",
      "100%|██████████| 1/1 [00:00<00:00, 37.94it/s]\n",
      "1it [00:00,  5.21it/s]\n",
      "100%|██████████| 1/1 [00:00<00:00, 37.27it/s]\n",
      "2it [00:00,  5.37it/s]\n",
      "  0%|          | 0/1 [00:00<?, ?it/s]"
     ]
    },
    {
     "name": "stdout",
     "output_type": "stream",
     "text": [
      "29.0\n",
      "29.0\n"
     ]
    },
    {
     "name": "stderr",
     "output_type": "stream",
     "text": [
      "100%|██████████| 1/1 [00:00<00:00, 46.93it/s]\n",
      "\n",
      "100%|██████████| 1/1 [00:00<00:00, 38.18it/s]\n",
      "4it [00:00,  6.55it/s]"
     ]
    },
    {
     "name": "stdout",
     "output_type": "stream",
     "text": [
      "29.0\n"
     ]
    },
    {
     "name": "stderr",
     "output_type": "stream",
     "text": [
      "4it [00:01,  3.62it/s]\n"
     ]
    }
   ],
   "source": [
    "import riiideducation\n",
    "\n",
    "env = riiideducation.make_env()\n",
    "iter_test = env.iter_test()\n",
    "import psutil\n",
    "model.eval()\n",
    "\n",
    "#HDKIM\n",
    "prev_test_df = None\n",
    "#HDKIMHDKIM\n",
    "\n",
    "for (test_df, sample_prediction_df) in tqdm(iter_test):\n",
    "    #HDKIM\n",
    "    if (prev_test_df is not None) & (psutil.virtual_memory().percent<90):\n",
    "        print(psutil.virtual_memory().percent)\n",
    "        prev_test_df['answered_correctly'] = eval(test_df['prior_group_answers_correct'].iloc[0])\n",
    "        prev_test_df = prev_test_df[prev_test_df.content_type_id == False]\n",
    "        prev_group = prev_test_df[['user_id', 'part','content_id', 'answered_correctly','prior_question_elapsed_time']].groupby('user_id').apply(lambda r: (\n",
    "            r['content_id'].values,\n",
    "            r['answered_correctly'].values,\n",
    "            r['prior_question_elapsed_time'].values,\n",
    "            r['part'].values))\n",
    "        for prev_user_id in prev_group.index:\n",
    "            prev_group_content = prev_group[prev_user_id][0]\n",
    "            prev_group_ac = prev_group[prev_user_id][1]\n",
    "            prev_group_ela = prev_group[prev_user_id][2]\n",
    "            prev_group_part = prev_group[prev_user_id][3]\n",
    "\n",
    "            if prev_user_id in group.index:\n",
    "                group[prev_user_id] = (np.append(group[prev_user_id][0],prev_group_content), \n",
    "                                       np.append(group[prev_user_id][1],prev_group_ac),\n",
    "                                       np.append(group[prev_user_id][2],prev_group_ela),\n",
    "                                       np.append(group[prev_user_id][3],prev_group_part))\n",
    " \n",
    "            else:\n",
    "                group[prev_user_id] = (prev_group_content,prev_group_ac, prev_group_ela,prev_group_part)\n",
    "            if len(group[prev_user_id][0])>MAX_SEQ:\n",
    "                new_group_content = group[prev_user_id][0][-MAX_SEQ:]\n",
    "                new_group_ac = group[prev_user_id][1][-MAX_SEQ:]\n",
    "                new_group_ela = group[prev_user_id][2][-MAX_SEQ:]\n",
    "                new_group_part = group[prev_user_id][3][-MAX_SEQ:]\n",
    "\n",
    "                group[prev_user_id] = (new_group_content,new_group_ac,new_group_ela,new_group_part)\n",
    "\n",
    "    test_df['prior_question_elapsed_time'].fillna(elapsed_mean, inplace=True)\n",
    "    test_df['prior_question_elapsed_time'] = test_df['prior_question_elapsed_time'].apply(lambda x: get_elapsed_time(x))\n",
    "             \n",
    "    test_df = pd.merge(test_df, question_df, left_on='content_id',right_on='question_id',how='left')\n",
    "    prev_test_df = test_df.copy()\n",
    " \n",
    "    #HDKIMHDKIM\n",
    "    \n",
    "    test_df = test_df[test_df.content_type_id == False]\n",
    "   \n",
    "    test_dataset = TestDataset(group, test_df, n_skill, n_ela_skill, n_part_skill)\n",
    "    test_dataloader = DataLoader(test_dataset, batch_size=51200, \n",
    "                                 shuffle=False)\n",
    "    \n",
    "    outs = []\n",
    "\n",
    "    for item in tqdm(test_dataloader):\n",
    "        x = item[0].to(device).long()\n",
    "        target_id = item[1].to(device).long()\n",
    "        ela_x = item[2].to(device).long()\n",
    "        ela_target = item[3].to(device).long()\n",
    "        part_x = item[4].to(device).long()\n",
    "        part_target = item[5].to(device).long()  \n",
    "        ans_x = item[6].to(device).long()  \n",
    "        \n",
    "        with torch.no_grad():\n",
    "            output, att_weight = model(x, target_id,ela_x, ela_target,part_x, part_target,ans_x)\n",
    "        \n",
    "        \n",
    "        output = torch.sigmoid(output)\n",
    "        output = output[:, -1]\n",
    "\n",
    "        # pred = (output >= 0.5).long()\n",
    "        # loss = criterion(output, label)\n",
    "\n",
    "        # val_loss.append(loss.item())\n",
    "        # num_corrects += (pred == label).sum().item()\n",
    "        # num_total += len(label)\n",
    "\n",
    "        # labels.extend(label.squeeze(-1).data.cpu().numpy())\n",
    "        outs.extend(output.view(-1).data.cpu().numpy())\n",
    "        \n",
    "    test_df['answered_correctly'] =  outs\n",
    "    \n",
    "    env.predict(test_df.loc[test_df['content_type_id'] == 0, ['row_id', 'answered_correctly']])"
   ]
  },
  {
   "cell_type": "code",
   "execution_count": null,
   "metadata": {
    "papermill": {
     "duration": 10.308754,
     "end_time": "2020-12-15T18:09:25.788150",
     "exception": false,
     "start_time": "2020-12-15T18:09:15.479396",
     "status": "completed"
    },
    "tags": []
   },
   "outputs": [],
   "source": []
  }
 ],
 "metadata": {
  "kernelspec": {
   "display_name": "Python 3",
   "language": "python",
   "name": "python3"
  },
  "language_info": {
   "codemirror_mode": {
    "name": "ipython",
    "version": 3
   },
   "file_extension": ".py",
   "mimetype": "text/x-python",
   "name": "python",
   "nbconvert_exporter": "python",
   "pygments_lexer": "ipython3",
   "version": "3.7.8"
  },
  "papermill": {
   "duration": 6703.893837,
   "end_time": "2020-12-15T18:09:37.960652",
   "environment_variables": {},
   "exception": null,
   "input_path": "__notebook__.ipynb",
   "output_path": "__notebook__.ipynb",
   "parameters": {},
   "start_time": "2020-12-15T16:17:54.066815",
   "version": "2.1.0"
  }
 },
 "nbformat": 4,
 "nbformat_minor": 4
}
