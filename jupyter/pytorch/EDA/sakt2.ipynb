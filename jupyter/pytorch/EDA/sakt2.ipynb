{
 "cells": [
  {
   "cell_type": "markdown",
   "metadata": {
    "papermill": {
     "duration": 0.034068,
     "end_time": "2020-12-12T11:01:04.261726",
     "exception": false,
     "start_time": "2020-12-12T11:01:04.227658",
     "status": "completed"
    },
    "tags": []
   },
   "source": [
    "* Base Source: https://www.kaggle.com/wangsg/a-self-attentive-model-for-knowledge-tracing\n",
    "* My First Work: https://www.kaggle.com/leadbest/sakt-self-attentive-knowledge-tracing-submitter"
   ]
  },
  {
   "cell_type": "code",
   "execution_count": 34,
   "metadata": {
    "_cell_guid": "b1076dfc-b9ad-4769-8c92-a6c4dae69d19",
    "_uuid": "8f2839f25d086af736a60e9eeb907d3b93b6e0e5",
    "execution": {
     "iopub.execute_input": "2020-12-12T11:01:04.332919Z",
     "iopub.status.busy": "2020-12-12T11:01:04.331992Z",
     "iopub.status.idle": "2020-12-12T11:01:04.343081Z",
     "shell.execute_reply": "2020-12-12T11:01:04.343535Z"
    },
    "papermill": {
     "duration": 0.049606,
     "end_time": "2020-12-12T11:01:04.343667",
     "exception": false,
     "start_time": "2020-12-12T11:01:04.294061",
     "status": "completed"
    },
    "tags": []
   },
   "outputs": [],
   "source": [
    "# This Python 3 environment comes with many helpful analytics libraries installed\n",
    "# It is defined by the kaggle/python Docker image: https://github.com/kaggle/docker-python\n",
    "# For example, here's several helpful packages to load\n",
    "\n",
    "import numpy as np # linear algebra\n",
    "import pandas as pd # data processing, CSV file I/O (e.g. pd.read_csv)\n",
    "\n",
    "# Input data files are available in the read-only \"../input/\" directory\n",
    "# For example, running this (by clicking run or pressing Shift+Enter) will list all files under the input directory\n",
    "\n",
    "\n",
    "# You can write up to 20GB to the current directory (/kaggle/working/) that gets preserved as output when you create a version using \"Save & Run All\" \n",
    "# You can also write temporary files to /kaggle/temp/, but they won't be saved outside of the current session"
   ]
  },
  {
   "cell_type": "code",
   "execution_count": 35,
   "metadata": {
    "_cell_guid": "79c7e3d0-c299-4dcb-8224-4455121ee9b0",
    "_uuid": "d629ff2d2480ee46fbb7e2d37f6b5fab8052498a",
    "execution": {
     "iopub.execute_input": "2020-12-12T11:01:04.416738Z",
     "iopub.status.busy": "2020-12-12T11:01:04.415963Z",
     "iopub.status.idle": "2020-12-12T11:01:07.181408Z",
     "shell.execute_reply": "2020-12-12T11:01:07.182662Z"
    },
    "papermill": {
     "duration": 2.805706,
     "end_time": "2020-12-12T11:01:07.182862",
     "exception": false,
     "start_time": "2020-12-12T11:01:04.377156",
     "status": "completed"
    },
    "tags": []
   },
   "outputs": [],
   "source": [
    "import gc\n",
    "import random\n",
    "from tqdm import tqdm\n",
    "from sklearn.metrics import roc_auc_score\n",
    "from sklearn.model_selection import train_test_split\n",
    "\n",
    "# import seaborn as sns\n",
    "import matplotlib.pyplot as plt\n",
    "\n",
    "import torch\n",
    "import torch.nn as nn\n",
    "import torch.nn.utils.rnn as rnn_utils\n",
    "from torch.autograd import Variable\n",
    "from torch.utils.data import Dataset, DataLoader"
   ]
  },
  {
   "cell_type": "code",
   "execution_count": 36,
   "metadata": {
    "execution": {
     "iopub.execute_input": "2020-12-12T11:01:07.299881Z",
     "iopub.status.busy": "2020-12-12T11:01:07.298944Z",
     "iopub.status.idle": "2020-12-12T11:01:07.301366Z",
     "shell.execute_reply": "2020-12-12T11:01:07.300662Z"
    },
    "papermill": {
     "duration": 0.059944,
     "end_time": "2020-12-12T11:01:07.301495",
     "exception": false,
     "start_time": "2020-12-12T11:01:07.241551",
     "status": "completed"
    },
    "tags": []
   },
   "outputs": [],
   "source": [
    "#HDKIM\n",
    "MAX_SEQ = 100\n",
    "#HDKIMHDKIM"
   ]
  },
  {
   "cell_type": "markdown",
   "metadata": {
    "papermill": {
     "duration": 0.04698,
     "end_time": "2020-12-12T11:01:07.395756",
     "exception": false,
     "start_time": "2020-12-12T11:01:07.348776",
     "status": "completed"
    },
    "tags": []
   },
   "source": [
    "## Load data"
   ]
  },
  {
   "cell_type": "code",
   "execution_count": 51,
   "metadata": {
    "execution": {
     "iopub.execute_input": "2020-12-12T11:01:07.512257Z",
     "iopub.status.busy": "2020-12-12T11:01:07.509628Z",
     "iopub.status.idle": "2020-12-12T11:03:22.500147Z",
     "shell.execute_reply": "2020-12-12T11:03:22.499505Z"
    },
    "papermill": {
     "duration": 135.054509,
     "end_time": "2020-12-12T11:03:22.500260",
     "exception": false,
     "start_time": "2020-12-12T11:01:07.445751",
     "status": "completed"
    },
    "tags": []
   },
   "outputs": [
    {
     "name": "stdout",
     "output_type": "stream",
     "text": [
      "CPU times: user 9.4 s, sys: 972 ms, total: 10.4 s\n",
      "Wall time: 10.5 s\n"
     ]
    }
   ],
   "source": [
    "%%time\n",
    "dtype = {'timestamp': 'int64', \n",
    "         'user_id': 'int32' ,\n",
    "         'content_id': 'int16',\n",
    "         'content_type_id': 'int8',\n",
    "         'answered_correctly':'int8',\n",
    "         'prior_question_elapsed_time':'float32'}\n",
    "\n",
    "train_df = pd.read_csv('/Users/hesu/Documents/kaggle/riiid/riiid-test-answer-prediction/user_seq/train_100_valid_2.csv', usecols=[ 2, 3,4,5,8,9], dtype=dtype)\n",
    "train_df.head()"
   ]
  },
  {
   "cell_type": "code",
   "execution_count": 52,
   "metadata": {
    "execution": {
     "iopub.execute_input": "2020-12-12T11:03:22.580072Z",
     "iopub.status.busy": "2020-12-12T11:03:22.579167Z",
     "iopub.status.idle": "2020-12-12T11:03:52.280305Z",
     "shell.execute_reply": "2020-12-12T11:03:52.279666Z"
    },
    "papermill": {
     "duration": 29.744138,
     "end_time": "2020-12-12T11:03:52.280433",
     "exception": false,
     "start_time": "2020-12-12T11:03:22.536295",
     "status": "completed"
    },
    "tags": []
   },
   "outputs": [],
   "source": [
    "train_df = train_df[train_df.content_type_id == False]\n",
    "\n",
    "#arrange by timestamp\n",
    "train_df = train_df.sort_values(['timestamp'], ascending=True).reset_index(drop = True)"
   ]
  },
  {
   "cell_type": "code",
   "execution_count": 53,
   "metadata": {},
   "outputs": [
    {
     "data": {
      "text/html": [
       "<div>\n",
       "<style scoped>\n",
       "    .dataframe tbody tr th:only-of-type {\n",
       "        vertical-align: middle;\n",
       "    }\n",
       "\n",
       "    .dataframe tbody tr th {\n",
       "        vertical-align: top;\n",
       "    }\n",
       "\n",
       "    .dataframe thead th {\n",
       "        text-align: right;\n",
       "    }\n",
       "</style>\n",
       "<table border=\"1\" class=\"dataframe\">\n",
       "  <thead>\n",
       "    <tr style=\"text-align: right;\">\n",
       "      <th></th>\n",
       "      <th>timestamp</th>\n",
       "      <th>user_id</th>\n",
       "      <th>content_id</th>\n",
       "      <th>content_type_id</th>\n",
       "      <th>answered_correctly</th>\n",
       "      <th>prior_question_elapsed_time</th>\n",
       "    </tr>\n",
       "  </thead>\n",
       "  <tbody>\n",
       "    <tr>\n",
       "      <th>0</th>\n",
       "      <td>0</td>\n",
       "      <td>841499248</td>\n",
       "      <td>6054</td>\n",
       "      <td>0</td>\n",
       "      <td>0</td>\n",
       "      <td>NaN</td>\n",
       "    </tr>\n",
       "    <tr>\n",
       "      <th>1</th>\n",
       "      <td>0</td>\n",
       "      <td>1123190515</td>\n",
       "      <td>5609</td>\n",
       "      <td>0</td>\n",
       "      <td>1</td>\n",
       "      <td>NaN</td>\n",
       "    </tr>\n",
       "    <tr>\n",
       "      <th>2</th>\n",
       "      <td>0</td>\n",
       "      <td>1122899488</td>\n",
       "      <td>3969</td>\n",
       "      <td>0</td>\n",
       "      <td>1</td>\n",
       "      <td>NaN</td>\n",
       "    </tr>\n",
       "    <tr>\n",
       "      <th>3</th>\n",
       "      <td>0</td>\n",
       "      <td>1122885826</td>\n",
       "      <td>6314</td>\n",
       "      <td>0</td>\n",
       "      <td>1</td>\n",
       "      <td>NaN</td>\n",
       "    </tr>\n",
       "    <tr>\n",
       "      <th>4</th>\n",
       "      <td>0</td>\n",
       "      <td>1874157579</td>\n",
       "      <td>4427</td>\n",
       "      <td>0</td>\n",
       "      <td>1</td>\n",
       "      <td>NaN</td>\n",
       "    </tr>\n",
       "    <tr>\n",
       "      <th>5</th>\n",
       "      <td>0</td>\n",
       "      <td>1123820777</td>\n",
       "      <td>3757</td>\n",
       "      <td>0</td>\n",
       "      <td>0</td>\n",
       "      <td>NaN</td>\n",
       "    </tr>\n",
       "    <tr>\n",
       "      <th>6</th>\n",
       "      <td>0</td>\n",
       "      <td>1921197508</td>\n",
       "      <td>4102</td>\n",
       "      <td>0</td>\n",
       "      <td>0</td>\n",
       "      <td>NaN</td>\n",
       "    </tr>\n",
       "    <tr>\n",
       "      <th>7</th>\n",
       "      <td>0</td>\n",
       "      <td>1123946933</td>\n",
       "      <td>6036</td>\n",
       "      <td>0</td>\n",
       "      <td>1</td>\n",
       "      <td>NaN</td>\n",
       "    </tr>\n",
       "    <tr>\n",
       "      <th>8</th>\n",
       "      <td>0</td>\n",
       "      <td>276104471</td>\n",
       "      <td>4181</td>\n",
       "      <td>0</td>\n",
       "      <td>0</td>\n",
       "      <td>NaN</td>\n",
       "    </tr>\n",
       "    <tr>\n",
       "      <th>9</th>\n",
       "      <td>0</td>\n",
       "      <td>1123723759</td>\n",
       "      <td>4561</td>\n",
       "      <td>0</td>\n",
       "      <td>1</td>\n",
       "      <td>NaN</td>\n",
       "    </tr>\n",
       "  </tbody>\n",
       "</table>\n",
       "</div>"
      ],
      "text/plain": [
       "   timestamp     user_id  content_id  content_type_id  answered_correctly  \\\n",
       "0          0   841499248        6054                0                   0   \n",
       "1          0  1123190515        5609                0                   1   \n",
       "2          0  1122899488        3969                0                   1   \n",
       "3          0  1122885826        6314                0                   1   \n",
       "4          0  1874157579        4427                0                   1   \n",
       "5          0  1123820777        3757                0                   0   \n",
       "6          0  1921197508        4102                0                   0   \n",
       "7          0  1123946933        6036                0                   1   \n",
       "8          0   276104471        4181                0                   0   \n",
       "9          0  1123723759        4561                0                   1   \n",
       "\n",
       "   prior_question_elapsed_time  \n",
       "0                          NaN  \n",
       "1                          NaN  \n",
       "2                          NaN  \n",
       "3                          NaN  \n",
       "4                          NaN  \n",
       "5                          NaN  \n",
       "6                          NaN  \n",
       "7                          NaN  \n",
       "8                          NaN  \n",
       "9                          NaN  "
      ]
     },
     "execution_count": 53,
     "metadata": {},
     "output_type": "execute_result"
    }
   ],
   "source": [
    "train_df.head(10)"
   ]
  },
  {
   "cell_type": "code",
   "execution_count": null,
   "metadata": {
    "papermill": {
     "duration": 0.049656,
     "end_time": "2020-12-12T11:03:52.380352",
     "exception": false,
     "start_time": "2020-12-12T11:03:52.330696",
     "status": "completed"
    },
    "tags": []
   },
   "outputs": [],
   "source": []
  },
  {
   "cell_type": "code",
   "execution_count": null,
   "metadata": {},
   "outputs": [],
   "source": []
  },
  {
   "cell_type": "code",
   "execution_count": null,
   "metadata": {},
   "outputs": [],
   "source": []
  },
  {
   "cell_type": "code",
   "execution_count": 54,
   "metadata": {
    "execution": {
     "iopub.execute_input": "2020-12-12T11:03:52.495206Z",
     "iopub.status.busy": "2020-12-12T11:03:52.494108Z",
     "iopub.status.idle": "2020-12-12T11:03:52.695850Z",
     "shell.execute_reply": "2020-12-12T11:03:52.696563Z"
    },
    "papermill": {
     "duration": 0.26545,
     "end_time": "2020-12-12T11:03:52.696755",
     "exception": false,
     "start_time": "2020-12-12T11:03:52.431305",
     "status": "completed"
    },
    "tags": []
   },
   "outputs": [],
   "source": [
    "elapsed_mean = train_df.prior_question_elapsed_time.mean()"
   ]
  },
  {
   "cell_type": "code",
   "execution_count": 55,
   "metadata": {
    "execution": {
     "iopub.execute_input": "2020-12-12T11:03:52.888417Z",
     "iopub.status.busy": "2020-12-12T11:03:52.887526Z",
     "iopub.status.idle": "2020-12-12T11:03:53.021489Z",
     "shell.execute_reply": "2020-12-12T11:03:53.020382Z"
    },
    "papermill": {
     "duration": 0.258951,
     "end_time": "2020-12-12T11:03:53.021643",
     "exception": false,
     "start_time": "2020-12-12T11:03:52.762692",
     "status": "completed"
    },
    "tags": []
   },
   "outputs": [],
   "source": [
    "train_df['prior_question_elapsed_time'].fillna(elapsed_mean, inplace=True)\n"
   ]
  },
  {
   "cell_type": "code",
   "execution_count": 56,
   "metadata": {
    "execution": {
     "iopub.execute_input": "2020-12-12T11:03:53.119634Z",
     "iopub.status.busy": "2020-12-12T11:03:53.118756Z",
     "iopub.status.idle": "2020-12-12T11:03:53.121014Z",
     "shell.execute_reply": "2020-12-12T11:03:53.120340Z"
    },
    "papermill": {
     "duration": 0.056258,
     "end_time": "2020-12-12T11:03:53.121144",
     "exception": false,
     "start_time": "2020-12-12T11:03:53.064886",
     "status": "completed"
    },
    "tags": []
   },
   "outputs": [],
   "source": [
    "def get_elapsed_time(ela):\n",
    "    ela = ela // 1000\n",
    "    if ela > 300:\n",
    "        return 300\n",
    "    else:\n",
    "        return ela"
   ]
  },
  {
   "cell_type": "code",
   "execution_count": 57,
   "metadata": {
    "execution": {
     "iopub.execute_input": "2020-12-12T11:03:53.222811Z",
     "iopub.status.busy": "2020-12-12T11:03:53.221835Z",
     "iopub.status.idle": "2020-12-12T11:03:53.224375Z",
     "shell.execute_reply": "2020-12-12T11:03:53.223649Z"
    },
    "papermill": {
     "duration": 0.056062,
     "end_time": "2020-12-12T11:03:53.224490",
     "exception": false,
     "start_time": "2020-12-12T11:03:53.168428",
     "status": "completed"
    },
    "tags": []
   },
   "outputs": [],
   "source": [
    "train_df['prior_question_elapsed_time'] = train_df['prior_question_elapsed_time'].apply(lambda x: get_elapsed_time(x))"
   ]
  },
  {
   "cell_type": "code",
   "execution_count": 58,
   "metadata": {
    "execution": {
     "iopub.execute_input": "2020-12-12T11:04:23.437263Z",
     "iopub.status.busy": "2020-12-12T11:04:23.435210Z",
     "iopub.status.idle": "2020-12-12T11:04:23.437929Z",
     "shell.execute_reply": "2020-12-12T11:04:23.438410Z"
    },
    "papermill": {
     "duration": 0.043499,
     "end_time": "2020-12-12T11:04:23.438530",
     "exception": false,
     "start_time": "2020-12-12T11:04:23.395031",
     "status": "completed"
    },
    "tags": []
   },
   "outputs": [],
   "source": [
    "# question_df = pd.read_csv('/kaggle/input/riiid-test-answer-prediction/questions.csv')\n",
    "# question_df['part'] = question_df['part'] - 1\n",
    "# train_df = pd.merge(train_df, question_df, left_on='content_id',right_on='question_id',how='left')\n",
    "# train_df['part'].fillna(4, inplace=True)"
   ]
  },
  {
   "cell_type": "code",
   "execution_count": 59,
   "metadata": {
    "execution": {
     "iopub.execute_input": "2020-12-12T11:04:23.520471Z",
     "iopub.status.busy": "2020-12-12T11:04:23.519833Z",
     "iopub.status.idle": "2020-12-12T11:04:23.538492Z",
     "shell.execute_reply": "2020-12-12T11:04:23.537194Z"
    },
    "papermill": {
     "duration": 0.064374,
     "end_time": "2020-12-12T11:04:23.538592",
     "exception": false,
     "start_time": "2020-12-12T11:04:23.474218",
     "status": "completed"
    },
    "tags": []
   },
   "outputs": [],
   "source": [
    "question_df = pd.read_csv('/Users/hesu/Documents/kaggle/riiid/riiid-test-answer-prediction/questions.csv',usecols=[0,3])\n",
    "question_df['part'].fillna(4, inplace=True)\n",
    "question_df['part'] = question_df['part']-1"
   ]
  },
  {
   "cell_type": "markdown",
   "metadata": {
    "papermill": {
     "duration": 0.039297,
     "end_time": "2020-12-12T11:04:23.613616",
     "exception": false,
     "start_time": "2020-12-12T11:04:23.574319",
     "status": "completed"
    },
    "tags": []
   },
   "source": [
    "## Preprocess"
   ]
  },
  {
   "cell_type": "code",
   "execution_count": 60,
   "metadata": {
    "execution": {
     "iopub.execute_input": "2020-12-12T11:04:23.701815Z",
     "iopub.status.busy": "2020-12-12T11:04:23.700446Z",
     "iopub.status.idle": "2020-12-12T11:04:24.447139Z",
     "shell.execute_reply": "2020-12-12T11:04:24.447662Z"
    },
    "papermill": {
     "duration": 0.792557,
     "end_time": "2020-12-12T11:04:24.447826",
     "exception": false,
     "start_time": "2020-12-12T11:04:23.655269",
     "status": "completed"
    },
    "tags": []
   },
   "outputs": [
    {
     "name": "stdout",
     "output_type": "stream",
     "text": [
      "number skills 13516\n"
     ]
    }
   ],
   "source": [
    "skills = train_df[\"content_id\"].unique()\n",
    "n_skill = 13523\n",
    "print(\"number skills\", len(skills))"
   ]
  },
  {
   "cell_type": "code",
   "execution_count": 61,
   "metadata": {
    "execution": {
     "iopub.execute_input": "2020-12-12T11:04:24.538349Z",
     "iopub.status.busy": "2020-12-12T11:04:24.537464Z",
     "iopub.status.idle": "2020-12-12T11:04:24.543033Z",
     "shell.execute_reply": "2020-12-12T11:04:24.542453Z"
    },
    "papermill": {
     "duration": 0.052911,
     "end_time": "2020-12-12T11:04:24.543148",
     "exception": false,
     "start_time": "2020-12-12T11:04:24.490237",
     "status": "completed"
    },
    "tags": []
   },
   "outputs": [
    {
     "name": "stdout",
     "output_type": "stream",
     "text": [
      "number part skills 7\n",
      "part is: [0 1 2 3 4 5 6]\n"
     ]
    }
   ],
   "source": [
    "part_skill = question_df['part'].unique()\n",
    "n_part_skill = len(part_skill)\n",
    "print(\"number part skills\", n_part_skill)\n",
    "print(\"part is:\",part_skill)"
   ]
  },
  {
   "cell_type": "code",
   "execution_count": 62,
   "metadata": {
    "execution": {
     "iopub.execute_input": "2020-12-12T11:04:24.633428Z",
     "iopub.status.busy": "2020-12-12T11:04:24.632255Z",
     "iopub.status.idle": "2020-12-12T11:04:25.966124Z",
     "shell.execute_reply": "2020-12-12T11:04:25.967102Z"
    },
    "papermill": {
     "duration": 1.381684,
     "end_time": "2020-12-12T11:04:25.967267",
     "exception": false,
     "start_time": "2020-12-12T11:04:24.585583",
     "status": "completed"
    },
    "tags": []
   },
   "outputs": [
    {
     "name": "stdout",
     "output_type": "stream",
     "text": [
      "number ela skills 301\n",
      "ela is: [ 24.  89.  19.  23.  70.  83.  30.   4.  68.  25.  47.  18.  58.  40.\n",
      "  33.  69.  48.  44.  32.  36.  22.   7.   6.  34.  21.  17.  31.  16.\n",
      "  62.  37.  20.  26.  27.  29.  43.   1.  81.   5.  78.  71.  84.  60.\n",
      "  56.  46.  67.  13.  55.   2.  72.  54.  15.  28.  38.  35. 162.   0.\n",
      "  45.  52.  61.  39.  11.  10.  12.  14.  64.   3.  57.  91.  41.  50.\n",
      "  93.  82.  49.  42.   8.  63.   9.  53.  90.  94.  74.  75.  76.  65.\n",
      "  59.  77.  51. 300. 187. 188. 155. 170. 156. 160.  86. 126. 100. 134.\n",
      " 217. 218.  73. 183. 216. 204.  80.  98.  87.  96. 154. 148. 141. 241.\n",
      " 221. 124.  95. 202. 186. 180. 127. 104.  85. 181. 208. 210. 172. 106.\n",
      " 129. 266. 167. 232.  66. 115. 152. 244.  88. 297. 193. 132. 110. 116.\n",
      " 196. 215. 219. 139.  79. 228. 179. 117. 105. 113.  99. 112. 102.  92.\n",
      " 225. 136. 174. 250. 159. 207. 138. 251. 213. 201. 175. 199. 192. 128.\n",
      " 107. 264. 246. 171. 125. 165. 120. 119. 149.  97. 230. 135. 206. 114.\n",
      " 109. 111. 191. 158. 103. 209. 123. 131. 198. 286. 118. 281. 194. 249.\n",
      " 223. 220. 146. 261. 214. 122. 203. 133. 140. 277. 108. 130. 231. 166.\n",
      " 173. 226. 147. 272. 242. 293. 197. 276. 211. 282. 260. 200. 164. 101.\n",
      " 121. 137. 256. 275. 178. 176. 268. 184. 294. 153. 235. 222. 168. 212.\n",
      " 262. 142. 258. 259. 195. 279. 238. 289. 284. 145. 150. 157. 239. 227.\n",
      " 288. 185. 254. 237. 240. 252. 189. 182. 257. 205. 248. 224. 161. 151.\n",
      " 234. 190. 144. 229. 247. 169. 245. 236. 274. 233. 273. 292. 177. 267.\n",
      " 163. 243. 296. 283. 143. 299. 295. 255. 271. 265. 298. 280. 278. 253.\n",
      " 269. 291. 270. 287. 285. 263. 290.]\n"
     ]
    }
   ],
   "source": [
    "ela_skill = train_df['prior_question_elapsed_time'].unique()\n",
    "n_ela_skill = len(ela_skill)\n",
    "print(\"number ela skills\", n_ela_skill)\n",
    "print(\"ela is:\", ela_skill)"
   ]
  },
  {
   "cell_type": "code",
   "execution_count": null,
   "metadata": {
    "papermill": {
     "duration": 0.05826,
     "end_time": "2020-12-12T11:04:26.077883",
     "exception": false,
     "start_time": "2020-12-12T11:04:26.019623",
     "status": "completed"
    },
    "tags": []
   },
   "outputs": [],
   "source": []
  },
  {
   "cell_type": "code",
   "execution_count": null,
   "metadata": {
    "papermill": {
     "duration": 0.063132,
     "end_time": "2020-12-12T11:04:26.202413",
     "exception": false,
     "start_time": "2020-12-12T11:04:26.139281",
     "status": "completed"
    },
    "tags": []
   },
   "outputs": [],
   "source": []
  },
  {
   "cell_type": "code",
   "execution_count": 63,
   "metadata": {
    "execution": {
     "iopub.execute_input": "2020-12-12T11:04:26.310367Z",
     "iopub.status.busy": "2020-12-12T11:04:26.309544Z",
     "iopub.status.idle": "2020-12-12T11:04:26.313229Z",
     "shell.execute_reply": "2020-12-12T11:04:26.313701Z"
    },
    "papermill": {
     "duration": 0.047667,
     "end_time": "2020-12-12T11:04:26.313836",
     "exception": false,
     "start_time": "2020-12-12T11:04:26.266169",
     "status": "completed"
    },
    "tags": []
   },
   "outputs": [
    {
     "data": {
      "text/plain": [
       "21537330"
      ]
     },
     "execution_count": 63,
     "metadata": {},
     "output_type": "execute_result"
    }
   ],
   "source": [
    "len(train_df)"
   ]
  },
  {
   "cell_type": "code",
   "execution_count": null,
   "metadata": {
    "execution": {
     "iopub.execute_input": "2020-12-12T11:04:26.398022Z",
     "iopub.status.busy": "2020-12-12T11:04:26.396914Z",
     "iopub.status.idle": "2020-12-12T11:04:56.150566Z",
     "shell.execute_reply": "2020-12-12T11:04:56.149964Z"
    },
    "papermill": {
     "duration": 29.798844,
     "end_time": "2020-12-12T11:04:56.150682",
     "exception": false,
     "start_time": "2020-12-12T11:04:26.351838",
     "status": "completed"
    },
    "tags": []
   },
   "outputs": [],
   "source": []
  },
  {
   "cell_type": "code",
   "execution_count": 64,
   "metadata": {
    "execution": {
     "iopub.execute_input": "2020-12-12T11:04:56.231955Z",
     "iopub.status.busy": "2020-12-12T11:04:56.231261Z",
     "iopub.status.idle": "2020-12-12T11:04:56.236874Z",
     "shell.execute_reply": "2020-12-12T11:04:56.236350Z"
    },
    "papermill": {
     "duration": 0.047461,
     "end_time": "2020-12-12T11:04:56.237003",
     "exception": false,
     "start_time": "2020-12-12T11:04:56.189542",
     "status": "completed"
    },
    "tags": []
   },
   "outputs": [
    {
     "data": {
      "text/plain": [
       "21537330"
      ]
     },
     "execution_count": 64,
     "metadata": {},
     "output_type": "execute_result"
    }
   ],
   "source": [
    "len(train_df)"
   ]
  },
  {
   "cell_type": "code",
   "execution_count": 65,
   "metadata": {
    "execution": {
     "iopub.execute_input": "2020-12-12T11:04:56.407743Z",
     "iopub.status.busy": "2020-12-12T11:04:56.406452Z",
     "iopub.status.idle": "2020-12-12T11:05:14.936946Z",
     "shell.execute_reply": "2020-12-12T11:05:14.936405Z"
    },
    "papermill": {
     "duration": 18.573964,
     "end_time": "2020-12-12T11:05:14.937066",
     "exception": false,
     "start_time": "2020-12-12T11:04:56.363102",
     "status": "completed"
    },
    "tags": []
   },
   "outputs": [],
   "source": [
    "train_df = pd.merge(train_df, question_df, left_on='content_id',right_on='question_id',how='left')"
   ]
  },
  {
   "cell_type": "code",
   "execution_count": 66,
   "metadata": {
    "execution": {
     "iopub.execute_input": "2020-12-12T11:05:15.024968Z",
     "iopub.status.busy": "2020-12-12T11:05:15.023699Z",
     "iopub.status.idle": "2020-12-12T11:06:14.855035Z",
     "shell.execute_reply": "2020-12-12T11:06:14.853821Z"
    },
    "papermill": {
     "duration": 59.878425,
     "end_time": "2020-12-12T11:06:14.855164",
     "exception": false,
     "start_time": "2020-12-12T11:05:14.976739",
     "status": "completed"
    },
    "tags": []
   },
   "outputs": [],
   "source": [
    "group = train_df[['user_id', 'content_id', 'answered_correctly','prior_question_elapsed_time']].groupby('user_id').apply(lambda r: (\n",
    "            r['content_id'].values,\n",
    "            r['answered_correctly'].values,\n",
    "            r['prior_question_elapsed_time'].values))\n",
    "\n"
   ]
  },
  {
   "cell_type": "code",
   "execution_count": 67,
   "metadata": {
    "execution": {
     "iopub.execute_input": "2020-12-12T11:06:15.135166Z",
     "iopub.status.busy": "2020-12-12T11:06:15.134082Z",
     "iopub.status.idle": "2020-12-12T11:06:15.154749Z",
     "shell.execute_reply": "2020-12-12T11:06:15.155472Z"
    },
    "papermill": {
     "duration": 0.243754,
     "end_time": "2020-12-12T11:06:15.155669",
     "exception": false,
     "start_time": "2020-12-12T11:06:14.911915",
     "status": "completed"
    },
    "tags": []
   },
   "outputs": [
    {
     "data": {
      "text/plain": [
       "120"
      ]
     },
     "execution_count": 67,
     "metadata": {},
     "output_type": "execute_result"
    }
   ],
   "source": [
    "del train_df\n",
    "gc.collect()"
   ]
  },
  {
   "cell_type": "code",
   "execution_count": 68,
   "metadata": {
    "execution": {
     "iopub.execute_input": "2020-12-12T11:06:15.357366Z",
     "iopub.status.busy": "2020-12-12T11:06:15.356429Z",
     "iopub.status.idle": "2020-12-12T11:06:15.459280Z",
     "shell.execute_reply": "2020-12-12T11:06:15.457555Z"
    },
    "papermill": {
     "duration": 0.219472,
     "end_time": "2020-12-12T11:06:15.459452",
     "exception": false,
     "start_time": "2020-12-12T11:06:15.239980",
     "status": "completed"
    },
    "tags": []
   },
   "outputs": [
    {
     "data": {
      "text/plain": [
       "user_id\n",
       "115      ([5692, 5716, 128, 7860, 7922, 156, 51, 50, 78...\n",
       "124      ([7900, 7876, 175, 1278, 2063, 2064, 2065, 336...\n",
       "2746     ([5273, 758, 5976, 236, 404, 382, 405, 873, 53...\n",
       "5382     ([5563, 6673, 3859, 9778, 3644, 4640, 6155, 96...\n",
       "8623     ([5498, 6102, 4078, 4536, 1291, 1131, 1145, 10...\n",
       "8701     ([3901, 6671, 4963, 6143, 8279, 3964, 4002, 75...\n",
       "12741    ([7399, 7396, 7397, 7398, 7438, 7439, 7265, 72...\n",
       "13134    ([11247, 12067, 12005, 12089, 11874, 11956, 12...\n",
       "24418    ([5851, 5375, 9432, 5060, 8484, 6037, 8674, 43...\n",
       "24600    ([7900, 7876, 175, 1278, 2065, 2063, 2064, 336...\n",
       "dtype: object"
      ]
     },
     "execution_count": 68,
     "metadata": {},
     "output_type": "execute_result"
    }
   ],
   "source": [
    "group.head(10)"
   ]
  },
  {
   "cell_type": "code",
   "execution_count": 69,
   "metadata": {
    "execution": {
     "iopub.execute_input": "2020-12-12T11:06:15.697983Z",
     "iopub.status.busy": "2020-12-12T11:06:15.697152Z",
     "iopub.status.idle": "2020-12-12T11:06:16.070187Z",
     "shell.execute_reply": "2020-12-12T11:06:16.069060Z"
    },
    "papermill": {
     "duration": 0.498816,
     "end_time": "2020-12-12T11:06:16.070388",
     "exception": false,
     "start_time": "2020-12-12T11:06:15.571572",
     "status": "completed"
    },
    "tags": []
   },
   "outputs": [],
   "source": [
    "valid = pd.read_csv('/Users/hesu/Documents/kaggle/riiid/riiid-test-answer-prediction/user_seq/valid_2.csv', usecols=[2,3,4,5,8,9], dtype=dtype)\n",
    "\n",
    "valid = pd.merge(valid, question_df, left_on='content_id',right_on='question_id',how='left')"
   ]
  },
  {
   "cell_type": "code",
   "execution_count": null,
   "metadata": {
    "papermill": {
     "duration": 0.125232,
     "end_time": "2020-12-12T11:06:16.348177",
     "exception": false,
     "start_time": "2020-12-12T11:06:16.222945",
     "status": "completed"
    },
    "tags": []
   },
   "outputs": [],
   "source": []
  },
  {
   "cell_type": "code",
   "execution_count": null,
   "metadata": {
    "papermill": {
     "duration": 0.056962,
     "end_time": "2020-12-12T11:06:16.493247",
     "exception": false,
     "start_time": "2020-12-12T11:06:16.436285",
     "status": "completed"
    },
    "tags": []
   },
   "outputs": [],
   "source": []
  },
  {
   "cell_type": "code",
   "execution_count": 70,
   "metadata": {
    "execution": {
     "iopub.execute_input": "2020-12-12T11:06:16.631744Z",
     "iopub.status.busy": "2020-12-12T11:06:16.629969Z",
     "iopub.status.idle": "2020-12-12T11:06:16.632397Z",
     "shell.execute_reply": "2020-12-12T11:06:16.632860Z"
    },
    "papermill": {
     "duration": 0.0705,
     "end_time": "2020-12-12T11:06:16.632993",
     "exception": false,
     "start_time": "2020-12-12T11:06:16.562493",
     "status": "completed"
    },
    "tags": []
   },
   "outputs": [],
   "source": [
    "class SAKTDataset(Dataset):\n",
    "    def __init__(self, group, n_skill,n_ela_skill, max_seq=MAX_SEQ): #HDKIM 100\n",
    "        super(SAKTDataset, self).__init__()\n",
    "        self.max_seq = max_seq\n",
    "        self.n_skill = n_skill\n",
    "        self.n_ela_skill = n_ela_skill\n",
    "        self.samples = group\n",
    "        \n",
    "#         self.user_ids = [x for x in group.index]\n",
    "        self.user_ids = []\n",
    "        for user_id in group.index:\n",
    "            q, qa,ela = group[user_id]\n",
    "            if len(q) < 5: #HDKIM 10\n",
    "                continue\n",
    "            self.user_ids.append(user_id)\n",
    "            \n",
    "            #HDKIM Memory reduction\n",
    "            if len(q)>self.max_seq:\n",
    "                group[user_id] = (q[-self.max_seq:],qa[-self.max_seq:], ela[-self.max_seq:])\n",
    "\n",
    "    def __len__(self):\n",
    "        return len(self.user_ids)\n",
    "\n",
    "    def __getitem__(self, index):\n",
    "        user_id = self.user_ids[index]\n",
    "        q_, qa_,ela_ = self.samples[user_id]\n",
    "        seq_len = len(q_)\n",
    "\n",
    "        q = np.zeros(self.max_seq, dtype=int)\n",
    "        qa = np.zeros(self.max_seq, dtype=int)\n",
    "        ela = np.zeros(self.max_seq, dtype=int)\n",
    "\n",
    "        if seq_len >= self.max_seq:\n",
    "            q[:] = q_[-self.max_seq:]\n",
    "            qa[:] = qa_[-self.max_seq:]\n",
    "            ela[:] = ela_[-self.max_seq:]\n",
    "        else:\n",
    "            q[-seq_len:] = q_\n",
    "            qa[-seq_len:] = qa_\n",
    "            ela[-seq_len:] = ela_   \n",
    "            \n",
    "        target_id = q[1:]\n",
    "        label = qa[1:]\n",
    "        ela_target = ela[1:]\n",
    "\n",
    "        x = np.zeros(self.max_seq-1, dtype=int)\n",
    "        x = q[:-1].copy()\n",
    "        x += (qa[:-1] == 1) * self.n_skill\n",
    "        \n",
    "        ela_x = np.zeros(self.max_seq-1, dtype=int)\n",
    "        ela_x = ela[:-1].copy()\n",
    "        ela_x += (qa[:-1]==1) * self.n_ela_skill\n",
    "\n",
    "        return x, target_id,ela_x,ela_target,label\n",
    "    # x和target_id都是来自于q，存在一个错位，x比target_id提前一个位置\n",
    "    # 所以我们可以尝试将ela 也分为ela_x和ela_target_id"
   ]
  },
  {
   "cell_type": "code",
   "execution_count": 71,
   "metadata": {
    "execution": {
     "iopub.execute_input": "2020-12-12T11:06:16.719963Z",
     "iopub.status.busy": "2020-12-12T11:06:16.719108Z",
     "iopub.status.idle": "2020-12-12T11:06:21.018840Z",
     "shell.execute_reply": "2020-12-12T11:06:21.018285Z"
    },
    "papermill": {
     "duration": 4.345435,
     "end_time": "2020-12-12T11:06:21.018968",
     "exception": false,
     "start_time": "2020-12-12T11:06:16.673533",
     "status": "completed"
    },
    "tags": []
   },
   "outputs": [],
   "source": [
    "dataset = SAKTDataset(group, n_skill, n_ela_skill)\n",
    "dataloader = DataLoader(dataset, batch_size=2, shuffle=True, num_workers=8)\n",
    "\n",
    "item = dataset.__getitem__(5)\n"
   ]
  },
  {
   "cell_type": "code",
   "execution_count": 72,
   "metadata": {
    "execution": {
     "iopub.execute_input": "2020-12-12T11:06:21.112844Z",
     "iopub.status.busy": "2020-12-12T11:06:21.111817Z",
     "iopub.status.idle": "2020-12-12T11:06:21.115141Z",
     "shell.execute_reply": "2020-12-12T11:06:21.114585Z"
    },
    "papermill": {
     "duration": 0.052141,
     "end_time": "2020-12-12T11:06:21.115256",
     "exception": false,
     "start_time": "2020-12-12T11:06:21.063115",
     "status": "completed"
    },
    "tags": []
   },
   "outputs": [
    {
     "name": "stdout",
     "output_type": "stream",
     "text": [
      "99\n",
      "99\n",
      "99\n",
      "99\n",
      "99\n"
     ]
    }
   ],
   "source": [
    "print(len(item[0]))\n",
    "print(len(item[1]))\n",
    "print(len(item[2]))\n",
    "print(len(item[3]))\n",
    "print(len(item[4]))"
   ]
  },
  {
   "cell_type": "code",
   "execution_count": 73,
   "metadata": {
    "execution": {
     "iopub.execute_input": "2020-12-12T11:06:21.265356Z",
     "iopub.status.busy": "2020-12-12T11:06:21.263508Z",
     "iopub.status.idle": "2020-12-12T11:06:21.266256Z",
     "shell.execute_reply": "2020-12-12T11:06:21.266725Z"
    },
    "papermill": {
     "duration": 0.107282,
     "end_time": "2020-12-12T11:06:21.266848",
     "exception": false,
     "start_time": "2020-12-12T11:06:21.159566",
     "status": "completed"
    },
    "tags": []
   },
   "outputs": [],
   "source": [
    "class ValidDataset(Dataset):\n",
    "    def __init__(self, samples, test_df, n_skill,n_ela_skill, max_seq=MAX_SEQ): #HDKIM 100\n",
    "        super(ValidDataset, self).__init__()\n",
    "        self.samples = samples\n",
    "        self.user_ids = [x for x in test_df[\"user_id\"].unique()]\n",
    "        self.test_df = test_df\n",
    "        self.n_ela_skill = n_ela_skill\n",
    "        self.n_skill = n_skill\n",
    "        self.max_seq = max_seq\n",
    "\n",
    "    def __len__(self):\n",
    "        return self.test_df.shape[0]\n",
    "\n",
    "    def __getitem__(self, index):\n",
    "        test_info = self.test_df.iloc[index]\n",
    "\n",
    "        user_id = test_info[\"user_id\"]\n",
    "        target_id = test_info[\"content_id\"]\n",
    "        ela_target_id = test_info[\"prior_question_elapsed_time\"]\n",
    "        label = test_info['answered_correctly']\n",
    "\n",
    "        q = np.zeros(self.max_seq, dtype=int)\n",
    "        qa = np.zeros(self.max_seq, dtype=int)\n",
    "        ela = np.zeros(self.max_seq, dtype=int)\n",
    "\n",
    "        if user_id in self.samples.index:\n",
    "            q_, qa_, ela_ = self.samples[user_id]\n",
    "            \n",
    "            seq_len = len(q_)\n",
    "\n",
    "            if seq_len >= self.max_seq:\n",
    "                q = q_[-self.max_seq:]\n",
    "                qa = qa_[-self.max_seq:]\n",
    "                ela = ela_[-self.max_seq:]\n",
    "            else:\n",
    "                q[-seq_len:] = q_\n",
    "                qa[-seq_len:] = qa_       \n",
    "                ela[-seq_len:] = ela_\n",
    "        \n",
    "        x = np.zeros(self.max_seq-1, dtype=int)\n",
    "        x = q[1:].copy()\n",
    "        x += (qa[1:] == 1) * self.n_skill\n",
    "        \n",
    "        questions = np.append(q[2:], [target_id])\n",
    "        \n",
    "        ela_x = np.zeros(self.max_seq-1, dtype=int)\n",
    "        ela_x = ela[1:].copy()\n",
    "        ela_x += (qa[1:] == 1) * self.n_ela_skill\n",
    "        \n",
    "        ela_target = np.append(ela[2:],[ela_target_id])\n",
    "        \n",
    "        return x, questions, ela_x, ela_target, np.array([label])"
   ]
  },
  {
   "cell_type": "code",
   "execution_count": 74,
   "metadata": {
    "execution": {
     "iopub.execute_input": "2020-12-12T11:06:21.353127Z",
     "iopub.status.busy": "2020-12-12T11:06:21.352255Z",
     "iopub.status.idle": "2020-12-12T11:06:21.417833Z",
     "shell.execute_reply": "2020-12-12T11:06:21.417336Z"
    },
    "papermill": {
     "duration": 0.1106,
     "end_time": "2020-12-12T11:06:21.417953",
     "exception": false,
     "start_time": "2020-12-12T11:06:21.307353",
     "status": "completed"
    },
    "tags": []
   },
   "outputs": [],
   "source": [
    "test_dataset = ValidDataset(group, valid, n_skill, n_ela_skill)\n",
    "test_dataloader = DataLoader(test_dataset, batch_size=2, shuffle=False)"
   ]
  },
  {
   "cell_type": "code",
   "execution_count": null,
   "metadata": {
    "papermill": {
     "duration": 0.040917,
     "end_time": "2020-12-12T11:06:21.500493",
     "exception": false,
     "start_time": "2020-12-12T11:06:21.459576",
     "status": "completed"
    },
    "tags": []
   },
   "outputs": [],
   "source": []
  },
  {
   "cell_type": "code",
   "execution_count": null,
   "metadata": {},
   "outputs": [],
   "source": []
  },
  {
   "cell_type": "code",
   "execution_count": null,
   "metadata": {},
   "outputs": [],
   "source": []
  },
  {
   "cell_type": "markdown",
   "metadata": {
    "papermill": {
     "duration": 0.04055,
     "end_time": "2020-12-12T11:06:21.662605",
     "exception": false,
     "start_time": "2020-12-12T11:06:21.622055",
     "status": "completed"
    },
    "tags": []
   },
   "source": [
    "## Define model"
   ]
  },
  {
   "cell_type": "code",
   "execution_count": 80,
   "metadata": {
    "execution": {
     "iopub.execute_input": "2020-12-12T11:06:21.773458Z",
     "iopub.status.busy": "2020-12-12T11:06:21.772656Z",
     "iopub.status.idle": "2020-12-12T11:06:21.776140Z",
     "shell.execute_reply": "2020-12-12T11:06:21.775645Z"
    },
    "papermill": {
     "duration": 0.073032,
     "end_time": "2020-12-12T11:06:21.776239",
     "exception": false,
     "start_time": "2020-12-12T11:06:21.703207",
     "status": "completed"
    },
    "tags": []
   },
   "outputs": [],
   "source": [
    "class FFN(nn.Module):\n",
    "    def __init__(self, state_size=200):\n",
    "        super(FFN, self).__init__()\n",
    "        self.state_size = state_size\n",
    "\n",
    "        self.lr1 = nn.Linear(state_size, state_size)\n",
    "        self.relu = nn.ReLU()\n",
    "        self.lr2 = nn.Linear(state_size, state_size)\n",
    "        self.dropout = nn.Dropout(0.2)\n",
    "    \n",
    "    def forward(self, x):\n",
    "        x = self.lr1(x)\n",
    "        x = self.relu(x)\n",
    "        x = self.lr2(x)\n",
    "        return self.dropout(x)\n",
    "\n",
    "def future_mask(seq_length):\n",
    "    future_mask = np.triu(np.ones((seq_length, seq_length)), k=1).astype('bool')\n",
    "    return torch.from_numpy(future_mask)\n",
    "\n",
    "\n",
    "class SAKTModel(nn.Module):\n",
    "    def __init__(self, n_skill,n_ela_skill, max_seq=MAX_SEQ, embed_dim=128): #HDKIM 100\n",
    "        super(SAKTModel, self).__init__()\n",
    "        self.n_skill = n_skill\n",
    "        self.n_ela_skill = n_ela_skill\n",
    "        self.embed_dim = embed_dim\n",
    "\n",
    "        self.embedding = nn.Embedding(2*n_skill+1, embed_dim)\n",
    "        self.pos_embedding = nn.Embedding(max_seq-1, embed_dim)\n",
    "        self.e_embedding = nn.Embedding(n_skill+1, embed_dim)\n",
    "        \n",
    "        self.ela_ans_embedding = nn.Embedding(2*n_ela_skill+1, embed_dim)\n",
    "        self.ela_embedding = nn.Embedding(n_ela_skill+1, embed_dim)\n",
    "\n",
    "        self.multi_att = nn.MultiheadAttention(embed_dim=embed_dim, num_heads=8, dropout=0.2)\n",
    "\n",
    "        self.dropout = nn.Dropout(0.2)\n",
    "        self.layer_normal = nn.LayerNorm(embed_dim) \n",
    "\n",
    "        self.ffn = FFN(embed_dim)\n",
    "        self.pred = nn.Linear(embed_dim, 1)\n",
    "    \n",
    "    def forward(self, x, question_ids, ela_x, ela_target_ids):\n",
    "        device = x.device        \n",
    "        print(\"x.size(1) is:{}\".format(x.size(1)))\n",
    "        x = self.embedding(x)\n",
    "        pos_id = torch.arange(x.size(1)).unsqueeze(0).to(device)\n",
    "        \n",
    "        pos_x = self.pos_embedding(pos_id)\n",
    "        ela_x = self.ela_ans_embedding(ela_x)\n",
    "        \n",
    "        x = x + ela_x + pos_x\n",
    "\n",
    "        e = self.e_embedding(question_ids)\n",
    "        ela = self.ela_embedding(ela_target_ids)\n",
    "        e = e + ela\n",
    "        \n",
    "        x = x.permute(1, 0, 2) # x: [bs, s_len, embed] => [s_len, bs, embed]\n",
    "        e = e.permute(1, 0, 2)\n",
    "        att_mask = future_mask(x.size(0)).to(device)\n",
    "        att_output, att_weight = self.multi_att(e, x, x, attn_mask=att_mask)\n",
    "        # 这个att_output其实是x的一个attention表示\n",
    "        att_output = self.layer_normal(att_output + e)\n",
    "        att_output = att_output.permute(1, 0, 2) # att_output: [s_len, bs, embed] => [bs, s_len, embed]\n",
    "\n",
    "        x = self.ffn(att_output)\n",
    "        x = self.layer_normal(x + att_output)\n",
    "        x = self.pred(x)\n",
    "\n",
    "        return x.squeeze(-1), att_weight"
   ]
  },
  {
   "cell_type": "code",
   "execution_count": 81,
   "metadata": {
    "execution": {
     "iopub.execute_input": "2020-12-12T11:06:22.246117Z",
     "iopub.status.busy": "2020-12-12T11:06:22.245346Z",
     "iopub.status.idle": "2020-12-12T11:06:26.827257Z",
     "shell.execute_reply": "2020-12-12T11:06:26.826375Z"
    },
    "papermill": {
     "duration": 5.009879,
     "end_time": "2020-12-12T11:06:26.827388",
     "exception": false,
     "start_time": "2020-12-12T11:06:21.817509",
     "status": "completed"
    },
    "tags": []
   },
   "outputs": [
    {
     "data": {
      "text/plain": [
       "BCEWithLogitsLoss()"
      ]
     },
     "execution_count": 81,
     "metadata": {},
     "output_type": "execute_result"
    }
   ],
   "source": [
    "device = torch.device(\"cuda\" if torch.cuda.is_available() else \"cpu\")\n",
    "\n",
    "model = SAKTModel(n_skill,n_ela_skill, embed_dim=128)\n",
    "# optimizer = torch.optim.SGD(model.parameters(), lr=1e-3, momentum=0.99, weight_decay=0.005)\n",
    "optimizer = torch.optim.Adam(model.parameters(), lr=1e-3)\n",
    "criterion = nn.BCEWithLogitsLoss()\n",
    "\n",
    "model.to(device)\n",
    "criterion.to(device)"
   ]
  },
  {
   "cell_type": "code",
   "execution_count": 82,
   "metadata": {
    "execution": {
     "iopub.execute_input": "2020-12-12T11:06:26.937445Z",
     "iopub.status.busy": "2020-12-12T11:06:26.936670Z",
     "iopub.status.idle": "2020-12-12T11:06:26.941056Z",
     "shell.execute_reply": "2020-12-12T11:06:26.940395Z"
    },
    "papermill": {
     "duration": 0.067248,
     "end_time": "2020-12-12T11:06:26.941164",
     "exception": false,
     "start_time": "2020-12-12T11:06:26.873916",
     "status": "completed"
    },
    "tags": []
   },
   "outputs": [],
   "source": [
    "def train_epoch(model, train_iterator, optim, criterion, device=\"cpu\"):\n",
    "    model.train()\n",
    "\n",
    "    train_loss = []\n",
    "    num_corrects = 0\n",
    "    num_total = 0\n",
    "    labels = []\n",
    "    outs = []\n",
    "\n",
    "    tbar = tqdm(train_iterator)\n",
    "    for item in tbar:\n",
    "        x = item[0].to(device).long()\n",
    "        target_id = item[1].to(device).long()\n",
    "        ela_x = item[2].to(device).long()\n",
    "        ela_target = item[3].to(device).long()\n",
    "        \n",
    "        label = item[4].to(device).float()\n",
    "\n",
    "        optim.zero_grad()\n",
    "        output, atten_weight = model(x, target_id, ela_x, ela_target)\n",
    "        loss = criterion(output, label)\n",
    "        loss.backward()\n",
    "        optim.step()\n",
    "        train_loss.append(loss.item())\n",
    "\n",
    "        output = output[:, -1]\n",
    "        label = label[:, -1] \n",
    "        pred = (torch.sigmoid(output) >= 0.5).long()\n",
    "        \n",
    "        num_corrects += (pred == label).sum().item()\n",
    "        num_total += len(label)\n",
    "\n",
    "        labels.extend(label.view(-1).data.cpu().numpy())\n",
    "        outs.extend(output.view(-1).data.cpu().numpy())\n",
    "\n",
    "        tbar.set_description('loss - {:.4f}'.format(loss))\n",
    "\n",
    "    acc = num_corrects / num_total\n",
    "    auc = roc_auc_score(labels, outs)\n",
    "    loss = np.mean(train_loss)\n",
    "\n",
    "    return loss, acc, auc"
   ]
  },
  {
   "cell_type": "code",
   "execution_count": 83,
   "metadata": {
    "execution": {
     "iopub.execute_input": "2020-12-12T11:06:27.045777Z",
     "iopub.status.busy": "2020-12-12T11:06:27.044343Z",
     "iopub.status.idle": "2020-12-12T11:06:27.047103Z",
     "shell.execute_reply": "2020-12-12T11:06:27.047567Z"
    },
    "papermill": {
     "duration": 0.061315,
     "end_time": "2020-12-12T11:06:27.047677",
     "exception": false,
     "start_time": "2020-12-12T11:06:26.986362",
     "status": "completed"
    },
    "tags": []
   },
   "outputs": [],
   "source": [
    "def evaluate_epoch(model, test_dataloader, criterion, device=\"cpu\"):\n",
    "    model.eval()\n",
    "    eval_loss = []\n",
    "    num_corrects = 0\n",
    "    num_total = 0\n",
    "    labels = []\n",
    "    outs = []\n",
    "    \n",
    "    with torch.no_grad():\n",
    "        for item in tqdm(test_dataloader):\n",
    "            x = item[0].to(device).long()\n",
    "            target_id = item[1].to(device).long()\n",
    "            ela_x = item[2].to(device).long()\n",
    "            ela_target = item[3].to(device).long()\n",
    "        \n",
    "            label = item[4].to(device).float()\n",
    "#             print(\"In evaluation x shape is:{}\\t taret_id shape is:{}\\t label shape is:{}\".format(x.shape, target_id.shape,label.shape))\n",
    "            \n",
    "            output, atten_weight = model(x, target_id, ela_x, ela_target)\n",
    "            \n",
    "            output_loss = output[:, -1:]\n",
    "#             print(\"Output shape is:{}\\tlabel shape is:{}\".format(output.shape, label.shape))\n",
    "            loss = criterion(output_loss, label)\n",
    "            eval_loss.append(loss.item())\n",
    "            \n",
    "            output = output[:,-1]\n",
    "            label = label[:, -1] \n",
    "            pred = (torch.sigmoid(output) >= 0.5).long()\n",
    "            \n",
    "            num_corrects += (pred == label).sum().item()\n",
    "            num_total += len(label)\n",
    "\n",
    "            labels.extend(label.view(-1).data.cpu().numpy())\n",
    "            outs.extend(output.view(-1).data.cpu().numpy())\n",
    "\n",
    "    acc = num_corrects / num_total\n",
    "#     print(\"In evaluate labels is:{}\\t outs is:{}\\t\".format(labels, outs))\n",
    "\n",
    "    auc = roc_auc_score(labels, outs)\n",
    "#     auc = 0\n",
    "\n",
    "    loss = np.mean(eval_loss)   \n",
    "    \n",
    "    return loss, acc, auc"
   ]
  },
  {
   "cell_type": "code",
   "execution_count": null,
   "metadata": {},
   "outputs": [],
   "source": []
  },
  {
   "cell_type": "code",
   "execution_count": 85,
   "metadata": {
    "execution": {
     "iopub.execute_input": "2020-12-12T11:06:27.141078Z",
     "iopub.status.busy": "2020-12-12T11:06:27.140433Z",
     "iopub.status.idle": "2020-12-12T11:06:30.059537Z",
     "shell.execute_reply": "2020-12-12T11:06:30.060972Z"
    },
    "papermill": {
     "duration": 2.972135,
     "end_time": "2020-12-12T11:06:30.061176",
     "exception": false,
     "start_time": "2020-12-12T11:06:27.089041",
     "status": "completed"
    },
    "tags": []
   },
   "outputs": [
    {
     "name": "stderr",
     "output_type": "stream",
     "text": [
      "\n",
      "\n",
      "\n",
      "\n",
      "  0%|          | 0/196682 [00:00<?, ?it/s]\u001b[A\u001b[A\u001b[A\u001b[A\n",
      "\n",
      "\n",
      "\n",
      "loss - 0.3862:   0%|          | 0/196682 [00:00<?, ?it/s]\u001b[A\u001b[A\u001b[A\u001b[A"
     ]
    },
    {
     "name": "stdout",
     "output_type": "stream",
     "text": [
      "x.size(1) is:99\n"
     ]
    },
    {
     "name": "stderr",
     "output_type": "stream",
     "text": [
      "\n",
      "\n",
      "\n",
      "\n",
      "loss - 0.3862:   0%|          | 1/196682 [00:00<18:11:03,  3.00it/s]\u001b[A\u001b[A\u001b[A\u001b[A\n",
      "\n",
      "\n",
      "\n",
      "loss - 0.1930:   0%|          | 1/196682 [00:00<18:11:03,  3.00it/s]\u001b[A\u001b[A\u001b[A\u001b[A\n",
      "\n",
      "\n",
      "\n",
      "loss - 0.3650:   0%|          | 1/196682 [00:00<18:11:03,  3.00it/s]\u001b[A\u001b[A\u001b[A\u001b[A\n",
      "\n",
      "\n",
      "\n",
      "loss - 0.3650:   0%|          | 3/196682 [00:00<13:52:20,  3.94it/s]\u001b[A\u001b[A\u001b[A\u001b[A\n",
      "\n",
      "\n",
      "\n",
      "loss - 0.0685:   0%|          | 3/196682 [00:00<13:52:20,  3.94it/s]\u001b[A\u001b[A\u001b[A\u001b[A"
     ]
    },
    {
     "name": "stdout",
     "output_type": "stream",
     "text": [
      "x.size(1) is:99\n",
      "x.size(1) is:99\n",
      "x.size(1) is:99\n"
     ]
    },
    {
     "name": "stderr",
     "output_type": "stream",
     "text": [
      "\n",
      "\n",
      "\n",
      "\n",
      "loss - 0.2506:   0%|          | 3/196682 [00:00<13:52:20,  3.94it/s]\u001b[A\u001b[A\u001b[A\u001b[A\n",
      "\n",
      "\n",
      "\n",
      "loss - 0.2506:   0%|          | 5/196682 [00:00<10:48:41,  5.05it/s]\u001b[A\u001b[A\u001b[A\u001b[A\n",
      "\n",
      "\n",
      "\n",
      "loss - 0.3326:   0%|          | 5/196682 [00:00<10:48:41,  5.05it/s]\u001b[A\u001b[A\u001b[A\u001b[A"
     ]
    },
    {
     "name": "stdout",
     "output_type": "stream",
     "text": [
      "x.size(1) is:99\n",
      "x.size(1) is:99\n",
      "x.size(1) is:99\n"
     ]
    },
    {
     "name": "stderr",
     "output_type": "stream",
     "text": [
      "\n",
      "\n",
      "\n",
      "\n",
      "loss - 0.3178:   0%|          | 5/196682 [00:00<10:48:41,  5.05it/s]\u001b[A\u001b[A\u001b[A\u001b[A\n",
      "\n",
      "\n",
      "\n",
      "loss - 0.3178:   0%|          | 7/196682 [00:00<8:47:46,  6.21it/s] \u001b[A\u001b[A\u001b[A\u001b[A\n",
      "\n",
      "\n",
      "\n",
      "loss - 0.2321:   0%|          | 7/196682 [00:00<8:47:46,  6.21it/s]\u001b[A\u001b[A\u001b[A\u001b[A\n",
      "\n",
      "\n",
      "\n",
      "loss - 0.1669:   0%|          | 7/196682 [00:00<8:47:46,  6.21it/s]\u001b[A\u001b[A\u001b[A\u001b[A\n",
      "\n",
      "\n",
      "\n",
      "loss - 0.1669:   0%|          | 9/196682 [00:00<7:24:03,  7.38it/s]\u001b[A\u001b[A\u001b[A\u001b[A"
     ]
    },
    {
     "name": "stdout",
     "output_type": "stream",
     "text": [
      "x.size(1) is:99\n",
      "x.size(1) is:99\n",
      "x.size(1) is:99\n"
     ]
    },
    {
     "name": "stderr",
     "output_type": "stream",
     "text": [
      "\n",
      "\n",
      "\n",
      "\n",
      "loss - 0.3353:   0%|          | 9/196682 [00:00<7:24:03,  7.38it/s]\u001b[A\u001b[A\u001b[A\u001b[A\n",
      "\n",
      "\n",
      "\n",
      "loss - 0.4143:   0%|          | 9/196682 [00:01<7:24:03,  7.38it/s]\u001b[A\u001b[A\u001b[A\u001b[A\n",
      "\n",
      "\n",
      "\n",
      "loss - 0.4143:   0%|          | 11/196682 [00:01<6:28:19,  8.44it/s]\u001b[A\u001b[A\u001b[A\u001b[A\n",
      "\n",
      "\n",
      "\n",
      "loss - 0.5372:   0%|          | 11/196682 [00:01<6:28:19,  8.44it/s]\u001b[A\u001b[A\u001b[A\u001b[A"
     ]
    },
    {
     "name": "stdout",
     "output_type": "stream",
     "text": [
      "x.size(1) is:99\n",
      "x.size(1) is:99\n",
      "x.size(1) is:99\n"
     ]
    },
    {
     "name": "stderr",
     "output_type": "stream",
     "text": [
      "\n",
      "\n",
      "\n",
      "\n",
      "loss - 0.2898:   0%|          | 11/196682 [00:01<6:28:19,  8.44it/s]\u001b[A\u001b[A\u001b[A\u001b[A\n",
      "\n",
      "\n",
      "\n",
      "loss - 0.2898:   0%|          | 13/196682 [00:01<5:45:33,  9.49it/s]\u001b[A\u001b[A\u001b[A\u001b[A\n",
      "\n",
      "\n",
      "\n",
      "loss - 0.1747:   0%|          | 13/196682 [00:01<5:45:33,  9.49it/s]\u001b[A\u001b[A\u001b[A\u001b[A\n",
      "\n",
      "\n",
      "\n",
      "loss - 0.0864:   0%|          | 13/196682 [00:01<5:45:33,  9.49it/s]\u001b[A\u001b[A\u001b[A\u001b[A\n",
      "\n",
      "\n",
      "\n",
      "loss - 0.0864:   0%|          | 15/196682 [00:01<5:18:59, 10.28it/s]\u001b[A\u001b[A\u001b[A\u001b[A"
     ]
    },
    {
     "name": "stdout",
     "output_type": "stream",
     "text": [
      "x.size(1) is:99\n",
      "x.size(1) is:99\n",
      "x.size(1) is:99\n"
     ]
    },
    {
     "name": "stderr",
     "output_type": "stream",
     "text": [
      "\n",
      "\n",
      "\n",
      "\n",
      "loss - 0.1405:   0%|          | 15/196682 [00:01<5:18:59, 10.28it/s]\u001b[A\u001b[A\u001b[A\u001b[A\n",
      "\n",
      "\n",
      "\n",
      "loss - 0.1794:   0%|          | 15/196682 [00:01<5:18:59, 10.28it/s]\u001b[A\u001b[A\u001b[A\u001b[A\n",
      "\n",
      "\n",
      "\n",
      "loss - 0.1794:   0%|          | 17/196682 [00:01<4:52:13, 11.22it/s]\u001b[A\u001b[A\u001b[A\u001b[A\n",
      "\n",
      "\n",
      "\n",
      "loss - 0.2376:   0%|          | 17/196682 [00:01<4:52:13, 11.22it/s]\u001b[A\u001b[A\u001b[A\u001b[A"
     ]
    },
    {
     "name": "stdout",
     "output_type": "stream",
     "text": [
      "x.size(1) is:99\n",
      "x.size(1) is:99\n",
      "x.size(1) is:99\n"
     ]
    },
    {
     "name": "stderr",
     "output_type": "stream",
     "text": [
      "\n",
      "\n",
      "\n",
      "\n",
      "loss - 0.5224:   0%|          | 17/196682 [00:01<4:52:13, 11.22it/s]\u001b[A\u001b[A\u001b[A\u001b[A\n",
      "\n",
      "\n",
      "\n",
      "loss - 0.5224:   0%|          | 19/196682 [00:01<4:33:35, 11.98it/s]\u001b[A\u001b[A\u001b[A\u001b[A\n",
      "\n",
      "\n",
      "\n",
      "loss - 0.2367:   0%|          | 19/196682 [00:01<4:33:35, 11.98it/s]\u001b[A\u001b[A\u001b[A\u001b[A\n",
      "\n",
      "\n",
      "\n",
      "loss - 0.3197:   0%|          | 19/196682 [00:01<4:33:35, 11.98it/s]\u001b[A\u001b[A\u001b[A\u001b[A\n",
      "\n",
      "\n",
      "\n",
      "loss - 0.3197:   0%|          | 21/196682 [00:01<4:16:46, 12.76it/s]\u001b[A\u001b[A\u001b[A\u001b[A\n",
      "\n",
      "\n",
      "\n",
      "loss - 0.3232:   0%|          | 21/196682 [00:01<4:16:46, 12.76it/s]\u001b[A\u001b[A\u001b[A\u001b[A"
     ]
    },
    {
     "name": "stdout",
     "output_type": "stream",
     "text": [
      "x.size(1) is:99\n",
      "x.size(1) is:99\n",
      "x.size(1) is:99\n",
      "x.size(1) is:99\n"
     ]
    },
    {
     "name": "stderr",
     "output_type": "stream",
     "text": [
      "\n",
      "\n",
      "\n",
      "\n",
      "loss - 0.1305:   0%|          | 21/196682 [00:01<4:16:46, 12.76it/s]\u001b[A\u001b[A\u001b[A\u001b[A\n",
      "\n",
      "\n",
      "\n",
      "loss - 0.1305:   0%|          | 23/196682 [00:01<4:06:07, 13.32it/s]\u001b[A\u001b[A\u001b[A\u001b[A\n",
      "\n",
      "\n",
      "\n",
      "loss - 0.2133:   0%|          | 23/196682 [00:01<4:06:07, 13.32it/s]\u001b[A\u001b[A\u001b[A\u001b[A\n",
      "\n",
      "\n",
      "\n",
      "loss - 0.3793:   0%|          | 23/196682 [00:02<4:06:07, 13.32it/s]\u001b[A\u001b[A\u001b[A\u001b[A\n",
      "\n",
      "\n",
      "\n",
      "loss - 0.3793:   0%|          | 25/196682 [00:02<3:56:48, 13.84it/s]\u001b[A\u001b[A\u001b[A\u001b[A\n",
      "\n",
      "\n",
      "\n",
      "loss - 0.0960:   0%|          | 25/196682 [00:02<3:56:48, 13.84it/s]\u001b[A\u001b[A\u001b[A\u001b[A"
     ]
    },
    {
     "name": "stdout",
     "output_type": "stream",
     "text": [
      "x.size(1) is:99\n",
      "x.size(1) is:99\n",
      "x.size(1) is:99\n"
     ]
    },
    {
     "name": "stderr",
     "output_type": "stream",
     "text": [
      "\n",
      "\n",
      "\n",
      "\n",
      "loss - 0.3343:   0%|          | 25/196682 [00:02<3:56:48, 13.84it/s]\u001b[A\u001b[A\u001b[A\u001b[A\n",
      "\n",
      "\n",
      "\n",
      "loss - 0.3343:   0%|          | 27/196682 [00:02<3:53:47, 14.02it/s]\u001b[A\u001b[A\u001b[A\u001b[A\n",
      "\n",
      "\n",
      "\n",
      "loss - 0.0969:   0%|          | 27/196682 [00:02<3:53:47, 14.02it/s]\u001b[A\u001b[A\u001b[A\u001b[A\n",
      "\n",
      "\n",
      "\n",
      "loss - 0.2757:   0%|          | 27/196682 [00:02<3:53:47, 14.02it/s]\u001b[A\u001b[A\u001b[A\u001b[A\n",
      "\n",
      "\n",
      "\n",
      "loss - 0.2757:   0%|          | 29/196682 [00:02<3:51:10, 14.18it/s]\u001b[A\u001b[A\u001b[A\u001b[A"
     ]
    },
    {
     "name": "stdout",
     "output_type": "stream",
     "text": [
      "x.size(1) is:99\n",
      "x.size(1) is:99\n",
      "x.size(1) is:99\n"
     ]
    },
    {
     "name": "stderr",
     "output_type": "stream",
     "text": [
      "\n",
      "\n",
      "\n",
      "\n",
      "loss - 0.3701:   0%|          | 29/196682 [00:02<3:51:10, 14.18it/s]\u001b[A\u001b[A\u001b[A\u001b[A\n",
      "\n",
      "\n",
      "\n",
      "loss - 0.3355:   0%|          | 29/196682 [00:02<3:51:10, 14.18it/s]\u001b[A\u001b[A\u001b[A\u001b[A\n",
      "\n",
      "\n",
      "\n",
      "loss - 0.3355:   0%|          | 31/196682 [00:02<3:47:45, 14.39it/s]\u001b[A\u001b[A\u001b[A\u001b[A\n",
      "\n",
      "\n",
      "\n",
      "loss - 0.4320:   0%|          | 31/196682 [00:02<3:47:45, 14.39it/s]\u001b[A\u001b[A\u001b[A\u001b[A"
     ]
    },
    {
     "name": "stdout",
     "output_type": "stream",
     "text": [
      "x.size(1) is:99\n",
      "x.size(1) is:99\n",
      "x.size(1) is:99\n",
      "x.size(1) is:99\n"
     ]
    },
    {
     "name": "stderr",
     "output_type": "stream",
     "text": [
      "\n",
      "\n",
      "\n",
      "\n",
      "loss - 0.1625:   0%|          | 31/196682 [00:02<3:47:45, 14.39it/s]\u001b[A\u001b[A\u001b[A\u001b[A\n",
      "\n",
      "\n",
      "\n",
      "loss - 0.1625:   0%|          | 33/196682 [00:02<3:46:50, 14.45it/s]\u001b[A\u001b[A\u001b[A\u001b[A\n",
      "\n",
      "\n",
      "\n",
      "loss - 0.3369:   0%|          | 33/196682 [00:02<3:46:50, 14.45it/s]\u001b[A\u001b[A\u001b[A\u001b[A\n",
      "\n",
      "\n",
      "\n",
      "loss - 0.3680:   0%|          | 33/196682 [00:02<3:46:50, 14.45it/s]\u001b[A\u001b[A\u001b[A\u001b[A\n",
      "\n",
      "\n",
      "\n",
      "loss - 0.3680:   0%|          | 35/196682 [00:02<3:50:51, 14.20it/s]\u001b[A\u001b[A\u001b[A\u001b[A"
     ]
    },
    {
     "name": "stdout",
     "output_type": "stream",
     "text": [
      "x.size(1) is:99\n",
      "x.size(1) is:99\n",
      "x.size(1) is:99\n"
     ]
    },
    {
     "name": "stderr",
     "output_type": "stream",
     "text": [
      "\n",
      "\n",
      "\n",
      "\n",
      "loss - 0.4826:   0%|          | 35/196682 [00:02<3:50:51, 14.20it/s]\u001b[A\u001b[A\u001b[A\u001b[A\n",
      "\n",
      "\n",
      "\n",
      "loss - 0.1509:   0%|          | 35/196682 [00:02<3:50:51, 14.20it/s]\u001b[A\u001b[A\u001b[A\u001b[A\n",
      "\n",
      "\n",
      "\n",
      "loss - 0.1509:   0%|          | 37/196682 [00:02<3:46:44, 14.45it/s]\u001b[A\u001b[A\u001b[A\u001b[A\n",
      "\n",
      "\n",
      "\n",
      "loss - 0.3574:   0%|          | 37/196682 [00:02<3:46:44, 14.45it/s]\u001b[A\u001b[A\u001b[A\u001b[A\n",
      "\n",
      "\n",
      "\n",
      "loss - 0.3175:   0%|          | 37/196682 [00:03<3:46:44, 14.45it/s]\u001b[A\u001b[A\u001b[A\u001b[A\n",
      "\n",
      "\n",
      "\n",
      "loss - 0.3175:   0%|          | 39/196682 [00:03<3:44:05, 14.63it/s]\u001b[A\u001b[A\u001b[A\u001b[A"
     ]
    },
    {
     "name": "stdout",
     "output_type": "stream",
     "text": [
      "x.size(1) is:99\n",
      "x.size(1) is:99\n",
      "x.size(1) is:99\n",
      "x.size(1) is:99\n"
     ]
    },
    {
     "name": "stderr",
     "output_type": "stream",
     "text": [
      "\n",
      "\n",
      "\n",
      "\n",
      "loss - 0.1103:   0%|          | 39/196682 [00:03<3:44:05, 14.63it/s]\u001b[A\u001b[A\u001b[A\u001b[A\n",
      "\n",
      "\n",
      "\n",
      "loss - 0.1536:   0%|          | 39/196682 [00:03<3:44:05, 14.63it/s]\u001b[A\u001b[A\u001b[A\u001b[A\n",
      "\n",
      "\n",
      "\n",
      "loss - 0.1536:   0%|          | 41/196682 [00:03<3:42:41, 14.72it/s]\u001b[A\u001b[A\u001b[A\u001b[A\n",
      "\n",
      "\n",
      "\n",
      "loss - 0.1137:   0%|          | 41/196682 [00:03<3:42:41, 14.72it/s]\u001b[A\u001b[A\u001b[A\u001b[A\n",
      "\n",
      "\n",
      "\n",
      "loss - 0.6092:   0%|          | 41/196682 [00:03<3:42:41, 14.72it/s]\u001b[A\u001b[A\u001b[A\u001b[A\n",
      "\n",
      "\n",
      "\n",
      "loss - 0.6092:   0%|          | 43/196682 [00:03<3:43:00, 14.70it/s]\u001b[A\u001b[A\u001b[A\u001b[A"
     ]
    },
    {
     "name": "stdout",
     "output_type": "stream",
     "text": [
      "x.size(1) is:99\n",
      "x.size(1) is:99\n",
      "x.size(1) is:99\n"
     ]
    },
    {
     "name": "stderr",
     "output_type": "stream",
     "text": [
      "\n",
      "\n",
      "\n",
      "\n",
      "loss - 0.2179:   0%|          | 43/196682 [00:03<3:43:00, 14.70it/s]\u001b[A\u001b[A\u001b[A\u001b[A\n",
      "\n",
      "\n",
      "\n",
      "loss - 0.3852:   0%|          | 43/196682 [00:03<3:43:00, 14.70it/s]\u001b[A\u001b[A\u001b[A\u001b[A\n",
      "\n",
      "\n",
      "\n",
      "loss - 0.3852:   0%|          | 45/196682 [00:03<3:44:39, 14.59it/s]\u001b[A\u001b[A\u001b[A\u001b[A"
     ]
    },
    {
     "name": "stdout",
     "output_type": "stream",
     "text": [
      "x.size(1) is:99\n",
      "x.size(1) is:99\n",
      "x.size(1) is:99\n"
     ]
    },
    {
     "name": "stderr",
     "output_type": "stream",
     "text": [
      "\n",
      "\n",
      "\n",
      "\n",
      "loss - 0.6487:   0%|          | 45/196682 [00:03<3:44:39, 14.59it/s]\u001b[A\u001b[A\u001b[A\u001b[A\n",
      "\n",
      "\n",
      "\n",
      "loss - 0.6625:   0%|          | 45/196682 [00:03<3:44:39, 14.59it/s]\u001b[A\u001b[A\u001b[A\u001b[A\n",
      "\n",
      "\n",
      "\n",
      "loss - 0.6625:   0%|          | 47/196682 [00:03<3:48:16, 14.36it/s]\u001b[A\u001b[A\u001b[A\u001b[A\n",
      "\n",
      "\n",
      "\n",
      "loss - 0.1051:   0%|          | 47/196682 [00:03<3:48:16, 14.36it/s]\u001b[A\u001b[A\u001b[A\u001b[A\n",
      "\n",
      "\n",
      "\n",
      "loss - 0.1404:   0%|          | 47/196682 [00:03<3:48:16, 14.36it/s]\u001b[A\u001b[A\u001b[A\u001b[A\n",
      "\n",
      "\n",
      "\n",
      "loss - 0.1404:   0%|          | 49/196682 [00:03<3:46:33, 14.46it/s]\u001b[A\u001b[A\u001b[A\u001b[A"
     ]
    },
    {
     "name": "stdout",
     "output_type": "stream",
     "text": [
      "x.size(1) is:99\n",
      "x.size(1) is:99\n",
      "x.size(1) is:99\n"
     ]
    },
    {
     "name": "stderr",
     "output_type": "stream",
     "text": [
      "\n",
      "\n",
      "\n",
      "\n",
      "loss - 0.4637:   0%|          | 49/196682 [00:03<3:46:33, 14.46it/s]\u001b[A\u001b[A\u001b[A\u001b[A\n",
      "\n",
      "\n",
      "\n",
      "loss - 0.3007:   0%|          | 49/196682 [00:03<3:46:33, 14.46it/s]\u001b[A\u001b[A\u001b[A\u001b[A\n",
      "\n",
      "\n",
      "\n",
      "loss - 0.3007:   0%|          | 51/196682 [00:03<3:46:06, 14.49it/s]\u001b[A\u001b[A\u001b[A\u001b[A\n",
      "\n",
      "\n",
      "\n",
      "loss - 0.1772:   0%|          | 51/196682 [00:03<3:46:06, 14.49it/s]\u001b[A\u001b[A\u001b[A\u001b[A"
     ]
    },
    {
     "name": "stdout",
     "output_type": "stream",
     "text": [
      "x.size(1) is:99\n",
      "x.size(1) is:99\n",
      "x.size(1) is:99\n"
     ]
    },
    {
     "name": "stderr",
     "output_type": "stream",
     "text": [
      "\n",
      "\n",
      "\n",
      "\n",
      "loss - 0.3605:   0%|          | 51/196682 [00:03<3:46:06, 14.49it/s]\u001b[A\u001b[A\u001b[A\u001b[A\n",
      "\n",
      "\n",
      "\n",
      "loss - 0.3605:   0%|          | 53/196682 [00:03<3:49:39, 14.27it/s]\u001b[A\u001b[A\u001b[A\u001b[A\n",
      "\n",
      "\n",
      "\n",
      "loss - 0.1270:   0%|          | 53/196682 [00:04<3:49:39, 14.27it/s]\u001b[A\u001b[A\u001b[A\u001b[A"
     ]
    },
    {
     "name": "stdout",
     "output_type": "stream",
     "text": [
      "x.size(1) is:99\n",
      "x.size(1) is:99\n",
      "x.size(1) is:99\n"
     ]
    },
    {
     "name": "stderr",
     "output_type": "stream",
     "text": [
      "\n",
      "\n",
      "\n",
      "\n",
      "loss - 0.1477:   0%|          | 53/196682 [00:04<3:49:39, 14.27it/s]\u001b[A\u001b[A\u001b[A\u001b[A\n",
      "\n",
      "\n",
      "\n",
      "loss - 0.1477:   0%|          | 55/196682 [00:04<3:47:07, 14.43it/s]\u001b[A\u001b[A\u001b[A\u001b[A\n",
      "\n",
      "\n",
      "\n",
      "loss - 0.3510:   0%|          | 55/196682 [00:04<3:47:07, 14.43it/s]\u001b[A\u001b[A\u001b[A\u001b[A\n",
      "\n",
      "\n",
      "\n",
      "loss - 0.1925:   0%|          | 55/196682 [00:04<3:47:07, 14.43it/s]\u001b[A\u001b[A\u001b[A\u001b[A\n",
      "\n",
      "\n",
      "\n",
      "loss - 0.1925:   0%|          | 57/196682 [00:04<4:02:53, 13.49it/s]\u001b[A\u001b[A\u001b[A\u001b[A"
     ]
    },
    {
     "name": "stdout",
     "output_type": "stream",
     "text": [
      "x.size(1) is:99\n",
      "x.size(1) is:99\n",
      "x.size(1) is:99\n"
     ]
    },
    {
     "name": "stderr",
     "output_type": "stream",
     "text": [
      "\n",
      "\n",
      "\n",
      "\n",
      "loss - 0.1179:   0%|          | 57/196682 [00:04<4:02:53, 13.49it/s]\u001b[A\u001b[A\u001b[A\u001b[A\n",
      "\n",
      "\n",
      "\n",
      "loss - 0.3768:   0%|          | 57/196682 [00:04<4:02:53, 13.49it/s]\u001b[A\u001b[A\u001b[A\u001b[A\n",
      "\n",
      "\n",
      "\n",
      "loss - 0.3768:   0%|          | 59/196682 [00:04<4:13:36, 12.92it/s]\u001b[A\u001b[A\u001b[A\u001b[A\n",
      "\n",
      "\n",
      "\n",
      "loss - 0.3629:   0%|          | 59/196682 [00:04<4:13:36, 12.92it/s]\u001b[A\u001b[A\u001b[A\u001b[A"
     ]
    },
    {
     "name": "stdout",
     "output_type": "stream",
     "text": [
      "x.size(1) is:99\n",
      "x.size(1) is:99\n",
      "x.size(1) is:99\n"
     ]
    },
    {
     "name": "stderr",
     "output_type": "stream",
     "text": [
      "\n",
      "\n",
      "\n",
      "\n",
      "loss - 0.4259:   0%|          | 59/196682 [00:04<4:13:36, 12.92it/s]\u001b[A\u001b[A\u001b[A\u001b[A\n",
      "\n",
      "\n",
      "\n",
      "loss - 0.4259:   0%|          | 61/196682 [00:04<4:21:40, 12.52it/s]\u001b[A\u001b[A\u001b[A\u001b[A\n",
      "\n",
      "\n",
      "\n",
      "loss - 0.1935:   0%|          | 61/196682 [00:04<4:21:40, 12.52it/s]\u001b[A\u001b[A\u001b[A\u001b[A\n",
      "\n",
      "\n",
      "\n",
      "loss - 0.3532:   0%|          | 61/196682 [00:04<4:21:40, 12.52it/s]\u001b[A\u001b[A\u001b[A\u001b[A\n",
      "\n",
      "\n",
      "\n",
      "loss - 0.3532:   0%|          | 63/196682 [00:04<4:22:32, 12.48it/s]\u001b[A\u001b[A\u001b[A\u001b[A"
     ]
    },
    {
     "name": "stdout",
     "output_type": "stream",
     "text": [
      "x.size(1) is:99\n",
      "x.size(1) is:99\n",
      "x.size(1) is:99\n"
     ]
    },
    {
     "name": "stderr",
     "output_type": "stream",
     "text": [
      "\n",
      "\n",
      "\n",
      "\n",
      "loss - 0.1203:   0%|          | 63/196682 [00:04<4:22:32, 12.48it/s]\u001b[A\u001b[A\u001b[A\u001b[A\n",
      "\n",
      "\n",
      "\n",
      "loss - 0.1841:   0%|          | 63/196682 [00:04<4:22:32, 12.48it/s]\u001b[A\u001b[A\u001b[A\u001b[A\n",
      "\n",
      "\n",
      "\n",
      "loss - 0.1841:   0%|          | 65/196682 [00:04<4:12:43, 12.97it/s]\u001b[A\u001b[A\u001b[A\u001b[A\n",
      "\n",
      "\n",
      "\n",
      "loss - 0.4053:   0%|          | 65/196682 [00:05<4:12:43, 12.97it/s]\u001b[A\u001b[A\u001b[A\u001b[A"
     ]
    },
    {
     "name": "stdout",
     "output_type": "stream",
     "text": [
      "x.size(1) is:99\n",
      "x.size(1) is:99\n",
      "x.size(1) is:99\n"
     ]
    },
    {
     "name": "stderr",
     "output_type": "stream",
     "text": [
      "\n",
      "\n",
      "\n",
      "\n",
      "loss - 0.4900:   0%|          | 65/196682 [00:05<4:12:43, 12.97it/s]\u001b[A\u001b[A\u001b[A\u001b[A\n",
      "\n",
      "\n",
      "\n",
      "loss - 0.4900:   0%|          | 67/196682 [00:05<4:07:41, 13.23it/s]\u001b[A\u001b[A\u001b[A\u001b[A\n",
      "\n",
      "\n",
      "\n",
      "loss - 0.5064:   0%|          | 67/196682 [00:05<4:07:41, 13.23it/s]\u001b[A\u001b[A\u001b[A\u001b[A\n",
      "\n",
      "\n",
      "\n",
      "loss - 0.1408:   0%|          | 67/196682 [00:05<4:07:41, 13.23it/s]\u001b[A\u001b[A\u001b[A\u001b[A\n",
      "\n",
      "\n",
      "\n",
      "loss - 0.1408:   0%|          | 69/196682 [00:05<4:00:11, 13.64it/s]\u001b[A\u001b[A\u001b[A\u001b[A\n",
      "\n",
      "\n",
      "\n",
      "loss - 0.2588:   0%|          | 69/196682 [00:05<4:00:11, 13.64it/s]\u001b[A\u001b[A\u001b[A\u001b[A"
     ]
    },
    {
     "name": "stdout",
     "output_type": "stream",
     "text": [
      "x.size(1) is:99\n",
      "x.size(1) is:99\n",
      "x.size(1) is:99\n"
     ]
    },
    {
     "name": "stderr",
     "output_type": "stream",
     "text": [
      "\n",
      "\n",
      "\n",
      "\n",
      "loss - 0.4824:   0%|          | 69/196682 [00:05<4:00:11, 13.64it/s]\u001b[A\u001b[A\u001b[A\u001b[A\n",
      "\n",
      "\n",
      "\n",
      "loss - 0.4824:   0%|          | 71/196682 [00:05<3:56:20, 13.86it/s]\u001b[A\u001b[A\u001b[A\u001b[A\n",
      "\n",
      "\n",
      "\n",
      "loss - 0.2919:   0%|          | 71/196682 [00:05<3:56:20, 13.86it/s]\u001b[A\u001b[A\u001b[A\u001b[A\n",
      "\n",
      "\n",
      "\n",
      "loss - 0.3691:   0%|          | 71/196682 [00:05<3:56:20, 13.86it/s]\u001b[A\u001b[A\u001b[A\u001b[A\n",
      "\n",
      "\n",
      "\n",
      "loss - 0.3691:   0%|          | 73/196682 [00:05<3:49:45, 14.26it/s]\u001b[A\u001b[A\u001b[A\u001b[A"
     ]
    },
    {
     "name": "stdout",
     "output_type": "stream",
     "text": [
      "x.size(1) is:99\n",
      "x.size(1) is:99\n",
      "x.size(1) is:99\n"
     ]
    },
    {
     "name": "stderr",
     "output_type": "stream",
     "text": [
      "\n",
      "\n",
      "\n",
      "\n",
      "loss - 0.3208:   0%|          | 73/196682 [00:05<3:49:45, 14.26it/s]\u001b[A\u001b[A\u001b[A\u001b[A\n",
      "\n",
      "\n",
      "\n",
      "loss - 0.2055:   0%|          | 73/196682 [00:05<3:49:45, 14.26it/s]\u001b[A\u001b[A\u001b[A\u001b[A\n",
      "\n",
      "\n",
      "\n",
      "loss - 0.2055:   0%|          | 75/196682 [00:05<3:48:56, 14.31it/s]\u001b[A\u001b[A\u001b[A\u001b[A\n",
      "\n",
      "\n",
      "\n",
      "loss - 0.2935:   0%|          | 75/196682 [00:05<3:48:56, 14.31it/s]\u001b[A\u001b[A\u001b[A\u001b[A"
     ]
    },
    {
     "name": "stdout",
     "output_type": "stream",
     "text": [
      "x.size(1) is:99\n",
      "x.size(1) is:99\n",
      "x.size(1) is:99\n"
     ]
    },
    {
     "name": "stderr",
     "output_type": "stream",
     "text": [
      "\n",
      "\n",
      "\n",
      "\n",
      "loss - 0.4012:   0%|          | 75/196682 [00:05<3:48:56, 14.31it/s]\u001b[A\u001b[A\u001b[A\u001b[A\n",
      "\n",
      "\n",
      "\n",
      "loss - 0.4012:   0%|          | 77/196682 [00:05<3:45:46, 14.51it/s]\u001b[A\u001b[A\u001b[A\u001b[A\n",
      "\n",
      "\n",
      "\n",
      "loss - 0.5152:   0%|          | 77/196682 [00:05<3:45:46, 14.51it/s]\u001b[A\u001b[A\u001b[A\u001b[A\n",
      "\n",
      "\n",
      "\n",
      "loss - 0.3461:   0%|          | 77/196682 [00:05<3:45:46, 14.51it/s]\u001b[A\u001b[A\u001b[A\u001b[A\n",
      "\n",
      "\n",
      "\n",
      "loss - 0.3461:   0%|          | 79/196682 [00:05<3:42:32, 14.72it/s]\u001b[A\u001b[A\u001b[A\u001b[A"
     ]
    },
    {
     "name": "stdout",
     "output_type": "stream",
     "text": [
      "x.size(1) is:99\n",
      "x.size(1) is:99\n",
      "x.size(1) is:99\n",
      "x.size(1) is:99\n"
     ]
    },
    {
     "name": "stderr",
     "output_type": "stream",
     "text": [
      "\n",
      "\n",
      "\n",
      "\n",
      "loss - 0.3667:   0%|          | 79/196682 [00:05<3:42:32, 14.72it/s]\u001b[A\u001b[A\u001b[A\u001b[A\n",
      "\n",
      "\n",
      "\n",
      "loss - 0.2054:   0%|          | 79/196682 [00:06<3:42:32, 14.72it/s]\u001b[A\u001b[A\u001b[A\u001b[A\n",
      "\n",
      "\n",
      "\n",
      "loss - 0.2054:   0%|          | 81/196682 [00:06<3:44:05, 14.62it/s]\u001b[A\u001b[A\u001b[A\u001b[A\n",
      "\n",
      "\n",
      "\n",
      "loss - 0.3784:   0%|          | 81/196682 [00:06<3:44:05, 14.62it/s]\u001b[A\u001b[A\u001b[A\u001b[A\n",
      "\n",
      "\n",
      "\n",
      "loss - 0.4430:   0%|          | 81/196682 [00:06<3:44:05, 14.62it/s]\u001b[A\u001b[A\u001b[A\u001b[A\n",
      "\n",
      "\n",
      "\n",
      "loss - 0.4430:   0%|          | 83/196682 [00:06<3:41:12, 14.81it/s]\u001b[A\u001b[A\u001b[A\u001b[A"
     ]
    },
    {
     "name": "stdout",
     "output_type": "stream",
     "text": [
      "x.size(1) is:99\n",
      "x.size(1) is:99\n",
      "x.size(1) is:99\n",
      "x.size(1) is:99\n"
     ]
    },
    {
     "name": "stderr",
     "output_type": "stream",
     "text": [
      "\n",
      "\n",
      "\n",
      "\n",
      "loss - 0.4319:   0%|          | 83/196682 [00:06<3:41:12, 14.81it/s]\u001b[A\u001b[A\u001b[A\u001b[A\n",
      "\n",
      "\n",
      "\n",
      "loss - 0.1064:   0%|          | 83/196682 [00:06<3:41:12, 14.81it/s]\u001b[A\u001b[A\u001b[A\u001b[A\n",
      "\n",
      "\n",
      "\n",
      "loss - 0.1064:   0%|          | 85/196682 [00:06<3:43:09, 14.68it/s]\u001b[A\u001b[A\u001b[A\u001b[A\n",
      "\n",
      "\n",
      "\n",
      "loss - 0.3383:   0%|          | 85/196682 [00:06<3:43:09, 14.68it/s]\u001b[A\u001b[A\u001b[A\u001b[A"
     ]
    },
    {
     "name": "stdout",
     "output_type": "stream",
     "text": [
      "x.size(1) is:99\n",
      "x.size(1) is:99\n",
      "x.size(1) is:99\n"
     ]
    },
    {
     "name": "stderr",
     "output_type": "stream",
     "text": [
      "\n",
      "\n",
      "\n",
      "\n",
      "loss - 0.4126:   0%|          | 85/196682 [00:06<3:43:09, 14.68it/s]\u001b[A\u001b[A\u001b[A\u001b[A\n",
      "\n",
      "\n",
      "\n",
      "loss - 0.4126:   0%|          | 87/196682 [00:06<3:45:46, 14.51it/s]\u001b[A\u001b[A\u001b[A\u001b[A\n",
      "\n",
      "\n",
      "\n",
      "loss - 0.3675:   0%|          | 87/196682 [00:06<3:45:46, 14.51it/s]\u001b[A\u001b[A\u001b[A\u001b[A\n",
      "\n",
      "\n",
      "\n",
      "loss - 0.1348:   0%|          | 87/196682 [00:06<3:45:46, 14.51it/s]\u001b[A\u001b[A\u001b[A\u001b[A\n",
      "\n",
      "\n",
      "\n",
      "loss - 0.1348:   0%|          | 89/196682 [00:06<3:44:34, 14.59it/s]\u001b[A\u001b[A\u001b[A\u001b[A\n",
      "\n",
      "\n",
      "\n",
      "loss - 0.3062:   0%|          | 89/196682 [00:06<3:44:34, 14.59it/s]\u001b[A\u001b[A\u001b[A\u001b[A"
     ]
    },
    {
     "name": "stdout",
     "output_type": "stream",
     "text": [
      "x.size(1) is:99\n",
      "x.size(1) is:99\n",
      "x.size(1) is:99\n",
      "x.size(1) is:99\n"
     ]
    },
    {
     "name": "stderr",
     "output_type": "stream",
     "text": [
      "\n",
      "\n",
      "\n",
      "\n",
      "loss - 0.4392:   0%|          | 89/196682 [00:06<3:44:34, 14.59it/s]\u001b[A\u001b[A\u001b[A\u001b[A\n",
      "\n",
      "\n",
      "\n",
      "loss - 0.4392:   0%|          | 91/196682 [00:06<3:41:17, 14.81it/s]\u001b[A\u001b[A\u001b[A\u001b[A\n",
      "\n",
      "\n",
      "\n",
      "loss - 0.1788:   0%|          | 91/196682 [00:06<3:41:17, 14.81it/s]\u001b[A\u001b[A\u001b[A\u001b[A\n",
      "\n",
      "\n",
      "\n",
      "loss - 0.1876:   0%|          | 91/196682 [00:06<3:41:17, 14.81it/s]\u001b[A\u001b[A\u001b[A\u001b[A\n",
      "\n",
      "\n",
      "\n",
      "loss - 0.1876:   0%|          | 93/196682 [00:06<3:38:19, 15.01it/s]\u001b[A\u001b[A\u001b[A\u001b[A\n",
      "\n",
      "\n",
      "\n",
      "loss - 0.3498:   0%|          | 93/196682 [00:06<3:38:19, 15.01it/s]\u001b[A\u001b[A\u001b[A\u001b[A"
     ]
    },
    {
     "name": "stdout",
     "output_type": "stream",
     "text": [
      "x.size(1) is:99\n",
      "x.size(1) is:99\n",
      "x.size(1) is:99\n",
      "x.size(1) is:99\n"
     ]
    },
    {
     "name": "stderr",
     "output_type": "stream",
     "text": [
      "\n",
      "\n",
      "\n",
      "\n",
      "loss - 0.0854:   0%|          | 93/196682 [00:06<3:38:19, 15.01it/s]\u001b[A\u001b[A\u001b[A\u001b[A\n",
      "\n",
      "\n",
      "\n",
      "loss - 0.0854:   0%|          | 95/196682 [00:06<3:35:58, 15.17it/s]\u001b[A\u001b[A\u001b[A\u001b[A\n",
      "\n",
      "\n",
      "\n",
      "loss - 0.6440:   0%|          | 95/196682 [00:07<3:35:58, 15.17it/s]\u001b[A\u001b[A\u001b[A\u001b[A\n",
      "\n",
      "\n",
      "\n",
      "loss - 0.3736:   0%|          | 95/196682 [00:07<3:35:58, 15.17it/s]\u001b[A\u001b[A\u001b[A\u001b[A\n",
      "\n",
      "\n",
      "\n",
      "loss - 0.3736:   0%|          | 97/196682 [00:07<3:32:08, 15.45it/s]\u001b[A\u001b[A\u001b[A\u001b[A\n",
      "\n",
      "\n",
      "\n",
      "loss - 0.1907:   0%|          | 97/196682 [00:07<3:32:08, 15.45it/s]\u001b[A\u001b[A\u001b[A\u001b[A"
     ]
    },
    {
     "name": "stdout",
     "output_type": "stream",
     "text": [
      "x.size(1) is:99\n",
      "x.size(1) is:99\n",
      "x.size(1) is:99\n",
      "x.size(1) is:99\n"
     ]
    },
    {
     "name": "stderr",
     "output_type": "stream",
     "text": [
      "\n",
      "\n",
      "\n",
      "\n",
      "loss - 0.3949:   0%|          | 97/196682 [00:07<3:32:08, 15.45it/s]\u001b[A\u001b[A\u001b[A\u001b[A\n",
      "\n",
      "\n",
      "\n",
      "loss - 0.3949:   0%|          | 99/196682 [00:07<3:31:07, 15.52it/s]\u001b[A\u001b[A\u001b[A\u001b[A\n",
      "\n",
      "\n",
      "\n",
      "loss - 0.1289:   0%|          | 99/196682 [00:07<3:31:07, 15.52it/s]\u001b[A\u001b[A\u001b[A\u001b[A\n",
      "\n",
      "\n",
      "\n",
      "loss - 0.3160:   0%|          | 99/196682 [00:07<3:31:07, 15.52it/s]\u001b[A\u001b[A\u001b[A\u001b[A\n",
      "\n",
      "\n",
      "\n",
      "loss - 0.3160:   0%|          | 101/196682 [00:07<3:30:09, 15.59it/s]\u001b[A\u001b[A\u001b[A\u001b[A\n",
      "\n",
      "\n",
      "\n",
      "loss - 0.3284:   0%|          | 101/196682 [00:07<3:30:09, 15.59it/s]\u001b[A\u001b[A\u001b[A\u001b[A"
     ]
    },
    {
     "name": "stdout",
     "output_type": "stream",
     "text": [
      "x.size(1) is:99\n",
      "x.size(1) is:99\n",
      "x.size(1) is:99\n",
      "x.size(1) is:99\n"
     ]
    },
    {
     "name": "stderr",
     "output_type": "stream",
     "text": [
      "\n",
      "\n",
      "\n",
      "\n",
      "loss - 0.3955:   0%|          | 101/196682 [00:07<3:30:09, 15.59it/s]\u001b[A\u001b[A\u001b[A\u001b[A\n",
      "\n",
      "\n",
      "\n",
      "loss - 0.3955:   0%|          | 103/196682 [00:07<3:31:26, 15.50it/s]\u001b[A\u001b[A\u001b[A\u001b[A\n",
      "\n",
      "\n",
      "\n",
      "loss - 0.2478:   0%|          | 103/196682 [00:07<3:31:26, 15.50it/s]\u001b[A\u001b[A\u001b[A\u001b[A\n",
      "\n",
      "\n",
      "\n",
      "loss - 0.6149:   0%|          | 103/196682 [00:07<3:31:26, 15.50it/s]\u001b[A\u001b[A\u001b[A\u001b[A\n",
      "\n",
      "\n",
      "\n",
      "loss - 0.6149:   0%|          | 105/196682 [00:07<3:33:46, 15.33it/s]\u001b[A\u001b[A\u001b[A\u001b[A\n",
      "\n",
      "\n",
      "\n",
      "loss - 0.3685:   0%|          | 105/196682 [00:07<3:33:46, 15.33it/s]\u001b[A\u001b[A\u001b[A\u001b[A"
     ]
    },
    {
     "name": "stdout",
     "output_type": "stream",
     "text": [
      "x.size(1) is:99\n",
      "x.size(1) is:99\n",
      "x.size(1) is:99\n",
      "x.size(1) is:99\n"
     ]
    },
    {
     "name": "stderr",
     "output_type": "stream",
     "text": [
      "\n",
      "\n",
      "\n",
      "\n",
      "loss - 0.2071:   0%|          | 105/196682 [00:07<3:33:46, 15.33it/s]\u001b[A\u001b[A\u001b[A\u001b[A\n",
      "\n",
      "\n",
      "\n",
      "loss - 0.2071:   0%|          | 107/196682 [00:07<3:32:58, 15.38it/s]\u001b[A\u001b[A\u001b[A\u001b[A\n",
      "\n",
      "\n",
      "\n",
      "loss - 0.0846:   0%|          | 107/196682 [00:07<3:32:58, 15.38it/s]\u001b[A\u001b[A\u001b[A\u001b[A\n",
      "\n",
      "\n",
      "\n",
      "loss - 0.1109:   0%|          | 107/196682 [00:07<3:32:58, 15.38it/s]\u001b[A\u001b[A\u001b[A\u001b[A\n",
      "\n",
      "\n",
      "\n",
      "loss - 0.1109:   0%|          | 109/196682 [00:07<3:31:28, 15.49it/s]\u001b[A\u001b[A\u001b[A\u001b[A\n",
      "\n",
      "\n",
      "\n",
      "loss - 0.1011:   0%|          | 109/196682 [00:07<3:31:28, 15.49it/s]\u001b[A\u001b[A\u001b[A\u001b[A"
     ]
    },
    {
     "name": "stdout",
     "output_type": "stream",
     "text": [
      "x.size(1) is:99\n",
      "x.size(1) is:99\n",
      "x.size(1) is:99\n",
      "x.size(1) is:99\n"
     ]
    },
    {
     "name": "stderr",
     "output_type": "stream",
     "text": [
      "\n",
      "\n",
      "\n",
      "\n",
      "loss - 0.3944:   0%|          | 109/196682 [00:07<3:31:28, 15.49it/s]\u001b[A\u001b[A\u001b[A\u001b[A\n",
      "\n",
      "\n",
      "\n",
      "loss - 0.3944:   0%|          | 111/196682 [00:07<3:31:15, 15.51it/s]\u001b[A\u001b[A\u001b[A\u001b[A\n",
      "\n",
      "\n",
      "\n",
      "loss - 0.1236:   0%|          | 111/196682 [00:08<3:31:15, 15.51it/s]\u001b[A\u001b[A\u001b[A\u001b[A\n",
      "\n",
      "\n",
      "\n",
      "loss - 0.4000:   0%|          | 111/196682 [00:08<3:31:15, 15.51it/s]\u001b[A\u001b[A\u001b[A\u001b[A\n",
      "\n",
      "\n",
      "\n",
      "loss - 0.4000:   0%|          | 113/196682 [00:08<3:34:38, 15.26it/s]\u001b[A\u001b[A\u001b[A\u001b[A\n",
      "\n",
      "\n",
      "\n",
      "loss - 0.4455:   0%|          | 113/196682 [00:08<3:34:38, 15.26it/s]\u001b[A\u001b[A\u001b[A\u001b[A"
     ]
    },
    {
     "name": "stdout",
     "output_type": "stream",
     "text": [
      "x.size(1) is:99\n",
      "x.size(1) is:99\n",
      "x.size(1) is:99\n"
     ]
    },
    {
     "name": "stderr",
     "output_type": "stream",
     "text": [
      "\n",
      "\n",
      "\n",
      "\n",
      "loss - 0.2965:   0%|          | 113/196682 [00:08<3:34:38, 15.26it/s]\u001b[A\u001b[A\u001b[A\u001b[A\n",
      "\n",
      "\n",
      "\n",
      "loss - 0.2965:   0%|          | 115/196682 [00:08<3:33:53, 15.32it/s]\u001b[A\u001b[A\u001b[A\u001b[A\n",
      "\n",
      "\n",
      "\n",
      "loss - 0.3776:   0%|          | 115/196682 [00:08<3:33:53, 15.32it/s]\u001b[A\u001b[A\u001b[A\u001b[A\n",
      "\n",
      "\n",
      "\n",
      "loss - 0.6421:   0%|          | 115/196682 [00:08<3:33:53, 15.32it/s]\u001b[A\u001b[A\u001b[A\u001b[A"
     ]
    },
    {
     "name": "stdout",
     "output_type": "stream",
     "text": [
      "x.size(1) is:99\n",
      "x.size(1) is:99\n",
      "x.size(1) is:99\n"
     ]
    },
    {
     "name": "stderr",
     "output_type": "stream",
     "text": [
      "\n",
      "\n",
      "\n",
      "\n",
      "loss - 0.6421:   0%|          | 117/196682 [00:08<3:41:38, 14.78it/s]\u001b[A\u001b[A\u001b[A\u001b[A\n",
      "\n",
      "\n",
      "\n",
      "loss - 0.4100:   0%|          | 117/196682 [00:08<3:41:38, 14.78it/s]\u001b[A\u001b[A\u001b[A\u001b[A\n",
      "\n",
      "\n",
      "\n",
      "loss - 0.1954:   0%|          | 117/196682 [00:08<3:41:38, 14.78it/s]\u001b[A\u001b[A\u001b[A\u001b[A\n",
      "\n",
      "\n",
      "\n",
      "loss - 0.1954:   0%|          | 119/196682 [00:08<3:58:05, 13.76it/s]\u001b[A\u001b[A\u001b[A\u001b[A"
     ]
    },
    {
     "name": "stdout",
     "output_type": "stream",
     "text": [
      "x.size(1) is:99\n",
      "x.size(1) is:99\n",
      "x.size(1) is:99\n"
     ]
    },
    {
     "name": "stderr",
     "output_type": "stream",
     "text": [
      "\n",
      "\n",
      "\n",
      "\n",
      "loss - 0.3575:   0%|          | 119/196682 [00:08<3:58:05, 13.76it/s]\u001b[A\u001b[A\u001b[A\u001b[A\n",
      "\n",
      "\n",
      "\n",
      "loss - 0.1953:   0%|          | 119/196682 [00:08<3:58:05, 13.76it/s]\u001b[A\u001b[A\u001b[A\u001b[A\n",
      "\n",
      "\n",
      "\n",
      "loss - 0.1953:   0%|          | 121/196682 [00:08<3:57:09, 13.81it/s]\u001b[A\u001b[A\u001b[A\u001b[A\n",
      "\n",
      "\n",
      "\n",
      "loss - 0.4712:   0%|          | 121/196682 [00:08<3:57:09, 13.81it/s]\u001b[A\u001b[A\u001b[A\u001b[A\n",
      "\n",
      "\n",
      "\n",
      "loss - 0.4360:   0%|          | 121/196682 [00:08<3:57:09, 13.81it/s]\u001b[A\u001b[A\u001b[A\u001b[A\n",
      "\n",
      "\n",
      "\n",
      "loss - 0.4360:   0%|          | 123/196682 [00:08<3:52:05, 14.12it/s]\u001b[A\u001b[A\u001b[A\u001b[A"
     ]
    },
    {
     "name": "stdout",
     "output_type": "stream",
     "text": [
      "x.size(1) is:99\n",
      "x.size(1) is:99\n",
      "x.size(1) is:99\n"
     ]
    },
    {
     "name": "stderr",
     "output_type": "stream",
     "text": [
      "\n",
      "\n",
      "\n",
      "\n",
      "loss - 0.1933:   0%|          | 123/196682 [00:08<3:52:05, 14.12it/s]\u001b[A\u001b[A\u001b[A\u001b[A\n",
      "\n",
      "\n",
      "\n",
      "loss - 0.1573:   0%|          | 123/196682 [00:08<3:52:05, 14.12it/s]\u001b[A\u001b[A\u001b[A\u001b[A\n",
      "\n",
      "\n",
      "\n",
      "loss - 0.1573:   0%|          | 125/196682 [00:08<3:48:37, 14.33it/s]\u001b[A\u001b[A\u001b[A\u001b[A\n",
      "\n",
      "\n",
      "\n",
      "loss - 0.3471:   0%|          | 125/196682 [00:09<3:48:37, 14.33it/s]\u001b[A\u001b[A\u001b[A\u001b[A"
     ]
    },
    {
     "name": "stdout",
     "output_type": "stream",
     "text": [
      "x.size(1) is:99\n",
      "x.size(1) is:99\n",
      "x.size(1) is:99\n",
      "x.size(1) is:99\n"
     ]
    },
    {
     "name": "stderr",
     "output_type": "stream",
     "text": [
      "\n",
      "\n",
      "\n",
      "\n",
      "loss - 0.1518:   0%|          | 125/196682 [00:09<3:48:37, 14.33it/s]\u001b[A\u001b[A\u001b[A\u001b[A\n",
      "\n",
      "\n",
      "\n",
      "loss - 0.1518:   0%|          | 127/196682 [00:09<3:45:34, 14.52it/s]\u001b[A\u001b[A\u001b[A\u001b[A\n",
      "\n",
      "\n",
      "\n",
      "loss - 0.3372:   0%|          | 127/196682 [00:09<3:45:34, 14.52it/s]\u001b[A\u001b[A\u001b[A\u001b[A\n",
      "\n",
      "\n",
      "\n",
      "loss - 0.3403:   0%|          | 127/196682 [00:09<3:45:34, 14.52it/s]\u001b[A\u001b[A\u001b[A\u001b[A\n",
      "\n",
      "\n",
      "\n",
      "loss - 0.3403:   0%|          | 129/196682 [00:09<3:41:45, 14.77it/s]\u001b[A\u001b[A\u001b[A\u001b[A\n",
      "\n",
      "\n",
      "\n",
      "loss - 0.1409:   0%|          | 129/196682 [00:09<3:41:45, 14.77it/s]\u001b[A\u001b[A\u001b[A\u001b[A"
     ]
    },
    {
     "name": "stdout",
     "output_type": "stream",
     "text": [
      "x.size(1) is:99\n",
      "x.size(1) is:99\n",
      "x.size(1) is:99\n",
      "x.size(1) is:99\n"
     ]
    },
    {
     "name": "stderr",
     "output_type": "stream",
     "text": [
      "\n",
      "\n",
      "\n",
      "\n",
      "loss - 0.6661:   0%|          | 129/196682 [00:09<3:41:45, 14.77it/s]\u001b[A\u001b[A\u001b[A\u001b[A\n",
      "\n",
      "\n",
      "\n",
      "loss - 0.6661:   0%|          | 131/196682 [00:09<3:37:26, 15.06it/s]\u001b[A\u001b[A\u001b[A\u001b[A\n",
      "\n",
      "\n",
      "\n",
      "loss - 0.2639:   0%|          | 131/196682 [00:09<3:37:26, 15.06it/s]\u001b[A\u001b[A\u001b[A\u001b[A\n",
      "\n",
      "\n",
      "\n",
      "loss - 0.1181:   0%|          | 131/196682 [00:09<3:37:26, 15.06it/s]\u001b[A\u001b[A\u001b[A\u001b[A\n",
      "\n",
      "\n",
      "\n",
      "loss - 0.1181:   0%|          | 133/196682 [00:09<3:34:19, 15.28it/s]\u001b[A\u001b[A\u001b[A\u001b[A\n",
      "\n",
      "\n",
      "\n",
      "loss - 0.3769:   0%|          | 133/196682 [00:09<3:34:19, 15.28it/s]\u001b[A\u001b[A\u001b[A\u001b[A"
     ]
    },
    {
     "name": "stdout",
     "output_type": "stream",
     "text": [
      "x.size(1) is:99\n",
      "x.size(1) is:99\n",
      "x.size(1) is:99\n",
      "x.size(1) is:99\n"
     ]
    },
    {
     "name": "stderr",
     "output_type": "stream",
     "text": [
      "\n",
      "\n",
      "\n",
      "\n",
      "loss - 0.1848:   0%|          | 133/196682 [00:09<3:34:19, 15.28it/s]\u001b[A\u001b[A\u001b[A\u001b[A\n",
      "\n",
      "\n",
      "\n",
      "loss - 0.1848:   0%|          | 135/196682 [00:09<3:35:01, 15.23it/s]\u001b[A\u001b[A\u001b[A\u001b[A\n",
      "\n",
      "\n",
      "\n",
      "loss - 0.6006:   0%|          | 135/196682 [00:09<3:35:01, 15.23it/s]\u001b[A\u001b[A\u001b[A\u001b[A\n",
      "\n",
      "\n",
      "\n",
      "loss - 0.3906:   0%|          | 135/196682 [00:09<3:35:01, 15.23it/s]\u001b[A\u001b[A\u001b[A\u001b[A\n",
      "\n",
      "\n",
      "\n",
      "loss - 0.3906:   0%|          | 137/196682 [00:09<3:33:07, 15.37it/s]\u001b[A\u001b[A\u001b[A\u001b[A\n",
      "\n",
      "\n",
      "\n",
      "loss - 0.3231:   0%|          | 137/196682 [00:09<3:33:07, 15.37it/s]\u001b[A\u001b[A\u001b[A\u001b[A"
     ]
    },
    {
     "name": "stdout",
     "output_type": "stream",
     "text": [
      "x.size(1) is:99\n",
      "x.size(1) is:99\n",
      "x.size(1) is:99\n",
      "x.size(1) is:99\n"
     ]
    },
    {
     "name": "stderr",
     "output_type": "stream",
     "text": [
      "\n",
      "\n",
      "\n",
      "\n",
      "loss - 0.3842:   0%|          | 137/196682 [00:09<3:33:07, 15.37it/s]\u001b[A\u001b[A\u001b[A\u001b[A\n",
      "\n",
      "\n",
      "\n",
      "loss - 0.3842:   0%|          | 139/196682 [00:09<3:31:21, 15.50it/s]\u001b[A\u001b[A\u001b[A\u001b[A\n",
      "\n",
      "\n",
      "\n",
      "loss - 0.1510:   0%|          | 139/196682 [00:09<3:31:21, 15.50it/s]\u001b[A\u001b[A\u001b[A\u001b[A\n",
      "\n",
      "\n",
      "\n",
      "loss - 0.3962:   0%|          | 139/196682 [00:10<3:31:21, 15.50it/s]\u001b[A\u001b[A\u001b[A\u001b[A\n",
      "\n",
      "\n",
      "\n",
      "loss - 0.3962:   0%|          | 141/196682 [00:10<3:30:35, 15.56it/s]\u001b[A\u001b[A\u001b[A\u001b[A\n",
      "\n",
      "\n",
      "\n",
      "loss - 0.3259:   0%|          | 141/196682 [00:10<3:30:35, 15.56it/s]\u001b[A\u001b[A\u001b[A\u001b[A"
     ]
    },
    {
     "name": "stdout",
     "output_type": "stream",
     "text": [
      "x.size(1) is:99\n",
      "x.size(1) is:99\n",
      "x.size(1) is:99\n",
      "x.size(1) is:99\n"
     ]
    },
    {
     "name": "stderr",
     "output_type": "stream",
     "text": [
      "\n",
      "\n",
      "\n",
      "\n",
      "loss - 0.3083:   0%|          | 141/196682 [00:10<3:30:35, 15.56it/s]\u001b[A\u001b[A\u001b[A\u001b[A\n",
      "\n",
      "\n",
      "\n",
      "loss - 0.3083:   0%|          | 143/196682 [00:10<3:30:12, 15.58it/s]\u001b[A\u001b[A\u001b[A\u001b[A\n",
      "\n",
      "\n",
      "\n",
      "loss - 0.2618:   0%|          | 143/196682 [00:10<3:30:12, 15.58it/s]\u001b[A\u001b[A\u001b[A\u001b[A\n",
      "\n",
      "\n",
      "\n",
      "loss - 0.3952:   0%|          | 143/196682 [00:10<3:30:12, 15.58it/s]\u001b[A\u001b[A\u001b[A\u001b[A\n",
      "\n",
      "\n",
      "\n",
      "loss - 0.3952:   0%|          | 145/196682 [00:10<3:28:19, 15.72it/s]\u001b[A\u001b[A\u001b[A\u001b[A\n",
      "\n",
      "\n",
      "\n",
      "loss - 0.1282:   0%|          | 145/196682 [00:10<3:28:19, 15.72it/s]\u001b[A\u001b[A\u001b[A\u001b[A"
     ]
    },
    {
     "name": "stdout",
     "output_type": "stream",
     "text": [
      "x.size(1) is:99\n",
      "x.size(1) is:99\n",
      "x.size(1) is:99\n",
      "x.size(1) is:99\n"
     ]
    },
    {
     "name": "stderr",
     "output_type": "stream",
     "text": [
      "\n",
      "\n",
      "\n",
      "\n",
      "loss - 0.1104:   0%|          | 145/196682 [00:10<3:28:19, 15.72it/s]\u001b[A\u001b[A\u001b[A\u001b[A\n",
      "\n",
      "\n",
      "\n",
      "loss - 0.1104:   0%|          | 147/196682 [00:10<3:28:51, 15.68it/s]\u001b[A\u001b[A\u001b[A\u001b[A\n",
      "\n",
      "\n",
      "\n",
      "loss - 0.1475:   0%|          | 147/196682 [00:10<3:28:51, 15.68it/s]\u001b[A\u001b[A\u001b[A\u001b[A\n",
      "\n",
      "\n",
      "\n",
      "loss - 0.1147:   0%|          | 147/196682 [00:10<3:28:51, 15.68it/s]\u001b[A\u001b[A\u001b[A\u001b[A\n",
      "\n",
      "\n",
      "\n",
      "loss - 0.1147:   0%|          | 149/196682 [00:10<3:31:26, 15.49it/s]\u001b[A\u001b[A\u001b[A\u001b[A\n",
      "\n",
      "\n",
      "\n",
      "loss - 0.2393:   0%|          | 149/196682 [00:10<3:31:26, 15.49it/s]\u001b[A\u001b[A\u001b[A\u001b[A"
     ]
    },
    {
     "name": "stdout",
     "output_type": "stream",
     "text": [
      "x.size(1) is:99\n",
      "x.size(1) is:99\n",
      "x.size(1) is:99\n",
      "x.size(1) is:99\n"
     ]
    },
    {
     "name": "stderr",
     "output_type": "stream",
     "text": [
      "\n",
      "\n",
      "\n",
      "\n",
      "loss - 0.0784:   0%|          | 149/196682 [00:10<3:31:26, 15.49it/s]\u001b[A\u001b[A\u001b[A\u001b[A\n",
      "\n",
      "\n",
      "\n",
      "loss - 0.0784:   0%|          | 151/196682 [00:10<3:34:26, 15.27it/s]\u001b[A\u001b[A\u001b[A\u001b[A\n",
      "\n",
      "\n",
      "\n",
      "loss - 0.4256:   0%|          | 151/196682 [00:10<3:34:26, 15.27it/s]\u001b[A\u001b[A\u001b[A\u001b[A\n",
      "\n",
      "\n",
      "\n",
      "loss - 0.3155:   0%|          | 151/196682 [00:10<3:34:26, 15.27it/s]\u001b[A\u001b[A\u001b[A\u001b[A\n",
      "\n",
      "\n",
      "\n",
      "loss - 0.3155:   0%|          | 153/196682 [00:10<3:32:28, 15.42it/s]\u001b[A\u001b[A\u001b[A\u001b[A\n",
      "\n",
      "\n",
      "\n",
      "loss - 0.1511:   0%|          | 153/196682 [00:10<3:32:28, 15.42it/s]\u001b[A\u001b[A\u001b[A\u001b[A"
     ]
    },
    {
     "name": "stdout",
     "output_type": "stream",
     "text": [
      "x.size(1) is:99\n",
      "x.size(1) is:99\n",
      "x.size(1) is:99\n",
      "x.size(1) is:99\n"
     ]
    },
    {
     "name": "stderr",
     "output_type": "stream",
     "text": [
      "\n",
      "\n",
      "\n",
      "\n",
      "loss - 0.3800:   0%|          | 153/196682 [00:10<3:32:28, 15.42it/s]\u001b[A\u001b[A\u001b[A\u001b[A\n",
      "\n",
      "\n",
      "\n",
      "loss - 0.3800:   0%|          | 155/196682 [00:10<3:32:37, 15.41it/s]\u001b[A\u001b[A\u001b[A\u001b[A\n",
      "\n",
      "\n",
      "\n",
      "loss - 0.5535:   0%|          | 155/196682 [00:10<3:32:37, 15.41it/s]\u001b[A\u001b[A\u001b[A\u001b[A\n",
      "\n",
      "\n",
      "\n",
      "loss - 0.4695:   0%|          | 155/196682 [00:11<3:32:37, 15.41it/s]\u001b[A\u001b[A\u001b[A\u001b[A\n",
      "\n",
      "\n",
      "\n",
      "loss - 0.4695:   0%|          | 157/196682 [00:11<3:32:09, 15.44it/s]\u001b[A\u001b[A\u001b[A\u001b[A\n",
      "\n",
      "\n",
      "\n",
      "loss - 0.2210:   0%|          | 157/196682 [00:11<3:32:09, 15.44it/s]\u001b[A\u001b[A\u001b[A\u001b[A"
     ]
    },
    {
     "name": "stdout",
     "output_type": "stream",
     "text": [
      "x.size(1) is:99\n",
      "x.size(1) is:99\n",
      "x.size(1) is:99\n",
      "x.size(1) is:99\n"
     ]
    },
    {
     "name": "stderr",
     "output_type": "stream",
     "text": [
      "\n",
      "\n",
      "\n",
      "\n",
      "loss - 0.4624:   0%|          | 157/196682 [00:11<3:32:09, 15.44it/s]\u001b[A\u001b[A\u001b[A\u001b[A\n",
      "\n",
      "\n",
      "\n",
      "loss - 0.4624:   0%|          | 159/196682 [00:11<3:32:48, 15.39it/s]\u001b[A\u001b[A\u001b[A\u001b[A\n",
      "\n",
      "\n",
      "\n",
      "loss - 0.2876:   0%|          | 159/196682 [00:11<3:32:48, 15.39it/s]\u001b[A\u001b[A\u001b[A\u001b[A\n",
      "\n",
      "\n",
      "\n",
      "loss - 0.2026:   0%|          | 159/196682 [00:11<3:32:48, 15.39it/s]\u001b[A\u001b[A\u001b[A\u001b[A\n",
      "\n",
      "\n",
      "\n",
      "loss - 0.2026:   0%|          | 161/196682 [00:11<3:33:20, 15.35it/s]\u001b[A\u001b[A\u001b[A\u001b[A\n",
      "\n",
      "\n",
      "\n",
      "loss - 0.4633:   0%|          | 161/196682 [00:11<3:33:20, 15.35it/s]\u001b[A\u001b[A\u001b[A\u001b[A"
     ]
    },
    {
     "name": "stdout",
     "output_type": "stream",
     "text": [
      "x.size(1) is:99\n",
      "x.size(1) is:99\n",
      "x.size(1) is:99\n",
      "x.size(1) is:99\n"
     ]
    },
    {
     "name": "stderr",
     "output_type": "stream",
     "text": [
      "\n",
      "\n",
      "\n",
      "\n",
      "loss - 0.1512:   0%|          | 161/196682 [00:11<3:33:20, 15.35it/s]\u001b[A\u001b[A\u001b[A\u001b[A\n",
      "\n",
      "\n",
      "\n",
      "loss - 0.1512:   0%|          | 163/196682 [00:11<3:35:01, 15.23it/s]\u001b[A\u001b[A\u001b[A\u001b[A\n",
      "\n",
      "\n",
      "\n",
      "loss - 0.4494:   0%|          | 163/196682 [00:11<3:35:01, 15.23it/s]\u001b[A\u001b[A\u001b[A\u001b[A\n",
      "\n",
      "\n",
      "\n",
      "loss - 0.1063:   0%|          | 163/196682 [00:11<3:35:01, 15.23it/s]\u001b[A\u001b[A\u001b[A\u001b[A\n",
      "\n",
      "\n",
      "\n",
      "loss - 0.1063:   0%|          | 165/196682 [00:11<3:37:46, 15.04it/s]\u001b[A\u001b[A\u001b[A\u001b[A\n",
      "\n",
      "\n",
      "\n",
      "loss - 0.4114:   0%|          | 165/196682 [00:11<3:37:46, 15.04it/s]\u001b[A\u001b[A\u001b[A\u001b[A"
     ]
    },
    {
     "name": "stdout",
     "output_type": "stream",
     "text": [
      "x.size(1) is:99\n",
      "x.size(1) is:99\n",
      "x.size(1) is:99\n"
     ]
    },
    {
     "name": "stderr",
     "output_type": "stream",
     "text": [
      "\n",
      "\n",
      "\n",
      "\n",
      "loss - 0.3283:   0%|          | 165/196682 [00:11<3:37:46, 15.04it/s]\u001b[A\u001b[A\u001b[A\u001b[A\n",
      "\n",
      "\n",
      "\n",
      "loss - 0.3283:   0%|          | 167/196682 [00:11<3:38:18, 15.00it/s]\u001b[A\u001b[A\u001b[A\u001b[A\n",
      "\n",
      "\n",
      "\n",
      "loss - 0.6317:   0%|          | 167/196682 [00:11<3:38:18, 15.00it/s]\u001b[A\u001b[A\u001b[A\u001b[A\n",
      "\n",
      "\n",
      "\n",
      "loss - 0.1049:   0%|          | 167/196682 [00:11<3:38:18, 15.00it/s]\u001b[A\u001b[A\u001b[A\u001b[A\n",
      "\n",
      "\n",
      "\n",
      "loss - 0.1049:   0%|          | 169/196682 [00:11<3:36:27, 15.13it/s]\u001b[A\u001b[A\u001b[A\u001b[A"
     ]
    },
    {
     "name": "stdout",
     "output_type": "stream",
     "text": [
      "x.size(1) is:99\n",
      "x.size(1) is:99\n",
      "x.size(1) is:99\n",
      "x.size(1) is:99\n"
     ]
    },
    {
     "name": "stderr",
     "output_type": "stream",
     "text": [
      "\n",
      "\n",
      "\n",
      "\n",
      "loss - 0.3754:   0%|          | 169/196682 [00:11<3:36:27, 15.13it/s]\u001b[A\u001b[A\u001b[A\u001b[A\n",
      "\n",
      "\n",
      "\n",
      "loss - 0.1527:   0%|          | 169/196682 [00:11<3:36:27, 15.13it/s]\u001b[A\u001b[A\u001b[A\u001b[A\n",
      "\n",
      "\n",
      "\n",
      "loss - 0.1527:   0%|          | 171/196682 [00:11<3:35:18, 15.21it/s]\u001b[A\u001b[A\u001b[A\u001b[A\n",
      "\n",
      "\n",
      "\n",
      "loss - 0.1119:   0%|          | 171/196682 [00:12<3:35:18, 15.21it/s]\u001b[A\u001b[A\u001b[A\u001b[A\n",
      "\n",
      "\n",
      "\n",
      "loss - 0.1724:   0%|          | 171/196682 [00:12<3:35:18, 15.21it/s]\u001b[A\u001b[A\u001b[A\u001b[A\n",
      "\n",
      "\n",
      "\n",
      "loss - 0.1724:   0%|          | 173/196682 [00:12<3:35:54, 15.17it/s]\u001b[A\u001b[A\u001b[A\u001b[A"
     ]
    },
    {
     "name": "stdout",
     "output_type": "stream",
     "text": [
      "x.size(1) is:99\n",
      "x.size(1) is:99\n",
      "x.size(1) is:99\n",
      "x.size(1) is:99\n"
     ]
    },
    {
     "name": "stderr",
     "output_type": "stream",
     "text": [
      "\n",
      "\n",
      "\n",
      "\n",
      "loss - 0.5002:   0%|          | 173/196682 [00:12<3:35:54, 15.17it/s]\u001b[A\u001b[A\u001b[A\u001b[A\n",
      "\n",
      "\n",
      "\n",
      "loss - 0.0941:   0%|          | 173/196682 [00:12<3:35:54, 15.17it/s]\u001b[A\u001b[A\u001b[A\u001b[A\n",
      "\n",
      "\n",
      "\n",
      "loss - 0.0941:   0%|          | 175/196682 [00:12<3:39:49, 14.90it/s]\u001b[A\u001b[A\u001b[A\u001b[A\n",
      "\n",
      "\n",
      "\n",
      "loss - 0.4606:   0%|          | 175/196682 [00:12<3:39:49, 14.90it/s]\u001b[A\u001b[A\u001b[A\u001b[A"
     ]
    },
    {
     "name": "stdout",
     "output_type": "stream",
     "text": [
      "x.size(1) is:99\n",
      "x.size(1) is:99\n",
      "x.size(1) is:99\n"
     ]
    },
    {
     "name": "stderr",
     "output_type": "stream",
     "text": [
      "\n",
      "\n",
      "\n",
      "\n",
      "loss - 0.3532:   0%|          | 175/196682 [00:12<3:39:49, 14.90it/s]\u001b[A\u001b[A\u001b[A\u001b[A\n",
      "\n",
      "\n",
      "\n",
      "loss - 0.3532:   0%|          | 177/196682 [00:12<3:45:28, 14.53it/s]\u001b[A\u001b[A\u001b[A\u001b[A\n",
      "\n",
      "\n",
      "\n",
      "loss - 0.1970:   0%|          | 177/196682 [00:12<3:45:28, 14.53it/s]\u001b[A\u001b[A\u001b[A\u001b[A\n",
      "\n",
      "\n",
      "\n",
      "loss - 0.1508:   0%|          | 177/196682 [00:12<3:45:28, 14.53it/s]\u001b[A\u001b[A\u001b[A\u001b[A\n",
      "\n",
      "\n",
      "\n",
      "loss - 0.1508:   0%|          | 179/196682 [00:12<3:52:15, 14.10it/s]\u001b[A\u001b[A\u001b[A\u001b[A"
     ]
    },
    {
     "name": "stdout",
     "output_type": "stream",
     "text": [
      "x.size(1) is:99\n",
      "x.size(1) is:99\n",
      "x.size(1) is:99\n"
     ]
    },
    {
     "name": "stderr",
     "output_type": "stream",
     "text": [
      "\n",
      "\n",
      "\n",
      "\n",
      "loss - 0.1380:   0%|          | 179/196682 [00:12<3:52:15, 14.10it/s]\u001b[A\u001b[A\u001b[A\u001b[A\n",
      "\n",
      "\n",
      "\n",
      "loss - 0.1630:   0%|          | 179/196682 [00:12<3:52:15, 14.10it/s]\u001b[A\u001b[A\u001b[A\u001b[A\n",
      "\n",
      "\n",
      "\n",
      "loss - 0.1630:   0%|          | 181/196682 [00:12<4:00:17, 13.63it/s]\u001b[A\u001b[A\u001b[A\u001b[A\n",
      "\n",
      "\n",
      "\n",
      "loss - 0.4959:   0%|          | 181/196682 [00:12<4:00:17, 13.63it/s]\u001b[A\u001b[A\u001b[A\u001b[A\n",
      "\n",
      "\n",
      "\n",
      "loss - 0.2049:   0%|          | 181/196682 [00:12<4:00:17, 13.63it/s]\u001b[A\u001b[A\u001b[A\u001b[A\n",
      "\n",
      "\n",
      "\n",
      "loss - 0.2049:   0%|          | 183/196682 [00:12<3:52:13, 14.10it/s]\u001b[A\u001b[A\u001b[A\u001b[A"
     ]
    },
    {
     "name": "stdout",
     "output_type": "stream",
     "text": [
      "x.size(1) is:99\n",
      "x.size(1) is:99\n",
      "x.size(1) is:99\n"
     ]
    },
    {
     "name": "stderr",
     "output_type": "stream",
     "text": [
      "\n",
      "\n",
      "\n",
      "\n",
      "loss - 0.1160:   0%|          | 183/196682 [00:12<3:52:13, 14.10it/s]\u001b[A\u001b[A\u001b[A\u001b[A\n",
      "\n",
      "\n",
      "\n",
      "loss - 0.4772:   0%|          | 183/196682 [00:12<3:52:13, 14.10it/s]\u001b[A\u001b[A\u001b[A\u001b[A\n",
      "\n",
      "\n",
      "\n",
      "loss - 0.4772:   0%|          | 185/196682 [00:12<3:52:11, 14.10it/s]\u001b[A\u001b[A\u001b[A\u001b[A"
     ]
    },
    {
     "name": "stdout",
     "output_type": "stream",
     "text": [
      "x.size(1) is:99\n",
      "x.size(1) is:99\n",
      "x.size(1) is:99\n"
     ]
    },
    {
     "name": "stderr",
     "output_type": "stream",
     "text": [
      "\n",
      "\n",
      "\n",
      "\n",
      "loss - 0.3973:   0%|          | 185/196682 [00:13<3:52:11, 14.10it/s]\u001b[A\u001b[A\u001b[A\u001b[A\n",
      "\n",
      "\n",
      "\n",
      "loss - 0.3732:   0%|          | 185/196682 [00:13<3:52:11, 14.10it/s]\u001b[A\u001b[A\u001b[A\u001b[A\n",
      "\n",
      "\n",
      "\n",
      "loss - 0.3732:   0%|          | 187/196682 [00:13<3:55:06, 13.93it/s]\u001b[A\u001b[A\u001b[A\u001b[A\n",
      "\n",
      "\n",
      "\n",
      "loss - 0.4039:   0%|          | 187/196682 [00:13<3:55:06, 13.93it/s]\u001b[A\u001b[A\u001b[A\u001b[A"
     ]
    },
    {
     "name": "stdout",
     "output_type": "stream",
     "text": [
      "x.size(1) is:99\n",
      "x.size(1) is:99\n",
      "x.size(1) is:99\n"
     ]
    },
    {
     "name": "stderr",
     "output_type": "stream",
     "text": [
      "\n",
      "\n",
      "\n",
      "\n",
      "loss - 0.4990:   0%|          | 187/196682 [00:13<3:55:06, 13.93it/s]\u001b[A\u001b[A\u001b[A\u001b[A\n",
      "\n",
      "\n",
      "\n",
      "loss - 0.4990:   0%|          | 189/196682 [00:13<4:01:19, 13.57it/s]\u001b[A\u001b[A\u001b[A\u001b[A\n",
      "\n",
      "\n",
      "\n",
      "loss - 0.4433:   0%|          | 189/196682 [00:13<4:01:19, 13.57it/s]\u001b[A\u001b[A\u001b[A\u001b[A\n",
      "\n",
      "\n",
      "\n",
      "loss - 0.5029:   0%|          | 189/196682 [00:13<4:01:19, 13.57it/s]\u001b[A\u001b[A\u001b[A\u001b[A\n",
      "\n",
      "\n",
      "\n",
      "loss - 0.5029:   0%|          | 191/196682 [00:13<3:57:58, 13.76it/s]\u001b[A\u001b[A\u001b[A\u001b[A\n",
      "\n",
      "\n",
      "\n",
      "loss - 0.4186:   0%|          | 191/196682 [00:13<3:57:58, 13.76it/s]\u001b[A\u001b[A\u001b[A\u001b[A"
     ]
    },
    {
     "name": "stdout",
     "output_type": "stream",
     "text": [
      "x.size(1) is:99\n",
      "x.size(1) is:99\n",
      "x.size(1) is:99\n"
     ]
    },
    {
     "name": "stderr",
     "output_type": "stream",
     "text": [
      "\n",
      "\n",
      "\n",
      "\n",
      "loss - 0.2389:   0%|          | 191/196682 [00:13<3:57:58, 13.76it/s]\u001b[A\u001b[A\u001b[A\u001b[A\n",
      "\n",
      "\n",
      "\n",
      "loss - 0.2389:   0%|          | 193/196682 [00:13<3:51:30, 14.15it/s]\u001b[A\u001b[A\u001b[A\u001b[A\n",
      "\n",
      "\n",
      "\n",
      "loss - 0.6929:   0%|          | 193/196682 [00:13<3:51:30, 14.15it/s]\u001b[A\u001b[A\u001b[A\u001b[A\n",
      "\n",
      "\n",
      "\n",
      "loss - 0.2478:   0%|          | 193/196682 [00:13<3:51:30, 14.15it/s]\u001b[A\u001b[A\u001b[A\u001b[A\n",
      "\n",
      "\n",
      "\n",
      "loss - 0.2478:   0%|          | 195/196682 [00:13<3:46:52, 14.43it/s]\u001b[A\u001b[A\u001b[A\u001b[A"
     ]
    },
    {
     "name": "stdout",
     "output_type": "stream",
     "text": [
      "x.size(1) is:99\n",
      "x.size(1) is:99\n",
      "x.size(1) is:99\n",
      "x.size(1) is:99\n"
     ]
    },
    {
     "name": "stderr",
     "output_type": "stream",
     "text": [
      "\n",
      "\n",
      "\n",
      "\n",
      "loss - 0.1216:   0%|          | 195/196682 [00:13<3:46:52, 14.43it/s]\u001b[A\u001b[A\u001b[A\u001b[A\n",
      "\n",
      "\n",
      "\n",
      "loss - 0.6939:   0%|          | 195/196682 [00:13<3:46:52, 14.43it/s]\u001b[A\u001b[A\u001b[A\u001b[A\n",
      "\n",
      "\n",
      "\n",
      "loss - 0.6939:   0%|          | 197/196682 [00:13<3:43:55, 14.62it/s]\u001b[A\u001b[A\u001b[A\u001b[A\n",
      "\n",
      "\n",
      "\n",
      "loss - 0.4425:   0%|          | 197/196682 [00:13<3:43:55, 14.62it/s]\u001b[A\u001b[A\u001b[A\u001b[A\n",
      "\n",
      "\n",
      "\n",
      "loss - 0.1264:   0%|          | 197/196682 [00:13<3:43:55, 14.62it/s]\u001b[A\u001b[A\u001b[A\u001b[A\n",
      "\n",
      "\n",
      "\n",
      "loss - 0.1264:   0%|          | 199/196682 [00:13<3:41:37, 14.78it/s]\u001b[A\u001b[A\u001b[A\u001b[A"
     ]
    },
    {
     "name": "stdout",
     "output_type": "stream",
     "text": [
      "x.size(1) is:99\n",
      "x.size(1) is:99\n",
      "x.size(1) is:99\n",
      "x.size(1) is:99\n"
     ]
    },
    {
     "name": "stderr",
     "output_type": "stream",
     "text": [
      "\n",
      "\n",
      "\n",
      "\n",
      "loss - 0.1152:   0%|          | 199/196682 [00:14<3:41:37, 14.78it/s]\u001b[A\u001b[A\u001b[A\u001b[A\n",
      "\n",
      "\n",
      "\n",
      "loss - 0.1107:   0%|          | 199/196682 [00:14<3:41:37, 14.78it/s]\u001b[A\u001b[A\u001b[A\u001b[A\n",
      "\n",
      "\n",
      "\n",
      "loss - 0.1107:   0%|          | 201/196682 [00:14<3:40:20, 14.86it/s]\u001b[A\u001b[A\u001b[A\u001b[A\n",
      "\n",
      "\n",
      "\n",
      "loss - 0.5256:   0%|          | 201/196682 [00:14<3:40:20, 14.86it/s]\u001b[A\u001b[A\u001b[A\u001b[A\n",
      "\n",
      "\n",
      "\n",
      "loss - 0.1228:   0%|          | 201/196682 [00:14<3:40:20, 14.86it/s]\u001b[A\u001b[A\u001b[A\u001b[A\n",
      "\n",
      "\n",
      "\n",
      "loss - 0.1228:   0%|          | 203/196682 [00:14<3:38:36, 14.98it/s]\u001b[A\u001b[A\u001b[A\u001b[A"
     ]
    },
    {
     "name": "stdout",
     "output_type": "stream",
     "text": [
      "x.size(1) is:99\n",
      "x.size(1) is:99\n",
      "x.size(1) is:99\n",
      "x.size(1) is:99\n"
     ]
    },
    {
     "name": "stderr",
     "output_type": "stream",
     "text": [
      "\n",
      "\n",
      "\n",
      "\n",
      "loss - 0.1991:   0%|          | 203/196682 [00:14<3:38:36, 14.98it/s]\u001b[A\u001b[A\u001b[A\u001b[A\n",
      "\n",
      "\n",
      "\n",
      "loss - 0.3474:   0%|          | 203/196682 [00:14<3:38:36, 14.98it/s]\u001b[A\u001b[A\u001b[A\u001b[A\n",
      "\n",
      "\n",
      "\n",
      "loss - 0.3474:   0%|          | 205/196682 [00:14<3:37:16, 15.07it/s]\u001b[A\u001b[A\u001b[A\u001b[A\n",
      "\n",
      "\n",
      "\n",
      "loss - 0.0734:   0%|          | 205/196682 [00:14<3:37:16, 15.07it/s]\u001b[A\u001b[A\u001b[A\u001b[A\n",
      "\n",
      "\n",
      "\n",
      "loss - 0.3100:   0%|          | 205/196682 [00:14<3:37:16, 15.07it/s]\u001b[A\u001b[A\u001b[A\u001b[A\n",
      "\n",
      "\n",
      "\n",
      "loss - 0.3100:   0%|          | 207/196682 [00:14<3:40:49, 14.83it/s]\u001b[A\u001b[A\u001b[A\u001b[A"
     ]
    },
    {
     "name": "stdout",
     "output_type": "stream",
     "text": [
      "x.size(1) is:99\n",
      "x.size(1) is:99\n",
      "x.size(1) is:99\n"
     ]
    },
    {
     "name": "stderr",
     "output_type": "stream",
     "text": [
      "\n",
      "\n",
      "\n",
      "\n",
      "loss - 0.3741:   0%|          | 207/196682 [00:14<3:40:49, 14.83it/s]\u001b[A\u001b[A\u001b[A\u001b[A\n",
      "\n",
      "\n",
      "\n",
      "loss - 0.3272:   0%|          | 207/196682 [00:14<3:40:49, 14.83it/s]\u001b[A\u001b[A\u001b[A\u001b[A\n",
      "\n",
      "\n",
      "\n",
      "loss - 0.3272:   0%|          | 209/196682 [00:14<3:46:23, 14.46it/s]\u001b[A\u001b[A\u001b[A\u001b[A"
     ]
    },
    {
     "name": "stdout",
     "output_type": "stream",
     "text": [
      "x.size(1) is:99\n",
      "x.size(1) is:99\n",
      "x.size(1) is:99\n"
     ]
    },
    {
     "name": "stderr",
     "output_type": "stream",
     "text": [
      "\n",
      "\n",
      "\n",
      "\n",
      "loss - 0.1559:   0%|          | 209/196682 [00:14<3:46:23, 14.46it/s]\u001b[A\u001b[A\u001b[A\u001b[A\n",
      "\n",
      "\n",
      "\n",
      "loss - 0.3648:   0%|          | 209/196682 [00:14<3:46:23, 14.46it/s]\u001b[A\u001b[A\u001b[A\u001b[A\n",
      "\n",
      "\n",
      "\n",
      "loss - 0.3648:   0%|          | 211/196682 [00:14<4:01:21, 13.57it/s]\u001b[A\u001b[A\u001b[A\u001b[A\n",
      "\n",
      "\n",
      "\n",
      "loss - 0.1647:   0%|          | 211/196682 [00:14<4:01:21, 13.57it/s]\u001b[A\u001b[A\u001b[A\u001b[A"
     ]
    },
    {
     "name": "stdout",
     "output_type": "stream",
     "text": [
      "x.size(1) is:99\n",
      "x.size(1) is:99\n",
      "x.size(1) is:99\n"
     ]
    },
    {
     "name": "stderr",
     "output_type": "stream",
     "text": [
      "\n",
      "\n",
      "\n",
      "\n",
      "loss - 0.2427:   0%|          | 211/196682 [00:14<4:01:21, 13.57it/s]\u001b[A\u001b[A\u001b[A\u001b[A\n",
      "\n",
      "\n",
      "\n",
      "loss - 0.2427:   0%|          | 213/196682 [00:14<3:59:46, 13.66it/s]\u001b[A\u001b[A\u001b[A\u001b[A\n",
      "\n",
      "\n",
      "\n",
      "loss - 0.4049:   0%|          | 213/196682 [00:15<3:59:46, 13.66it/s]\u001b[A\u001b[A\u001b[A\u001b[A\n",
      "\n",
      "\n",
      "\n",
      "loss - 0.3531:   0%|          | 213/196682 [00:15<3:59:46, 13.66it/s]\u001b[A\u001b[A\u001b[A\u001b[A\n",
      "\n",
      "\n",
      "\n",
      "loss - 0.3531:   0%|          | 215/196682 [00:15<4:01:40, 13.55it/s]\u001b[A\u001b[A\u001b[A\u001b[A"
     ]
    },
    {
     "name": "stdout",
     "output_type": "stream",
     "text": [
      "x.size(1) is:99\n",
      "x.size(1) is:99\n",
      "x.size(1) is:99\n"
     ]
    },
    {
     "name": "stderr",
     "output_type": "stream",
     "text": [
      "\n",
      "\n",
      "\n",
      "\n",
      "loss - 0.2571:   0%|          | 215/196682 [00:15<4:01:40, 13.55it/s]\u001b[A\u001b[A\u001b[A\u001b[A\n",
      "\n",
      "\n",
      "\n",
      "loss - 0.1023:   0%|          | 215/196682 [00:15<4:01:40, 13.55it/s]\u001b[A\u001b[A\u001b[A\u001b[A\n",
      "\n",
      "\n",
      "\n",
      "loss - 0.1023:   0%|          | 217/196682 [00:15<4:00:18, 13.63it/s]\u001b[A\u001b[A\u001b[A\u001b[A\n",
      "\n",
      "\n",
      "\n",
      "loss - 0.1336:   0%|          | 217/196682 [00:15<4:00:18, 13.63it/s]\u001b[A\u001b[A\u001b[A\u001b[A"
     ]
    },
    {
     "name": "stdout",
     "output_type": "stream",
     "text": [
      "x.size(1) is:99\n",
      "x.size(1) is:99\n",
      "x.size(1) is:99\n"
     ]
    },
    {
     "name": "stderr",
     "output_type": "stream",
     "text": [
      "\n",
      "\n",
      "\n",
      "\n",
      "loss - 0.1593:   0%|          | 217/196682 [00:15<4:00:18, 13.63it/s]\u001b[A\u001b[A\u001b[A\u001b[A\n",
      "\n",
      "\n",
      "\n",
      "loss - 0.1593:   0%|          | 219/196682 [00:15<4:01:24, 13.56it/s]\u001b[A\u001b[A\u001b[A\u001b[A\n",
      "\n",
      "\n",
      "\n",
      "loss - 0.0758:   0%|          | 219/196682 [00:15<4:01:24, 13.56it/s]\u001b[A\u001b[A\u001b[A\u001b[A\n",
      "\n",
      "\n",
      "\n",
      "loss - 0.3594:   0%|          | 219/196682 [00:15<4:01:24, 13.56it/s]\u001b[A\u001b[A\u001b[A\u001b[A\n",
      "\n",
      "\n",
      "\n",
      "loss - 0.3594:   0%|          | 221/196682 [00:15<3:56:17, 13.86it/s]\u001b[A\u001b[A\u001b[A\u001b[A\n",
      "\n",
      "\n",
      "\n",
      "loss - 0.3812:   0%|          | 221/196682 [00:15<3:56:17, 13.86it/s]\u001b[A\u001b[A\u001b[A\u001b[A"
     ]
    },
    {
     "name": "stdout",
     "output_type": "stream",
     "text": [
      "x.size(1) is:99\n",
      "x.size(1) is:99\n",
      "x.size(1) is:99\n"
     ]
    },
    {
     "name": "stderr",
     "output_type": "stream",
     "text": [
      "\n",
      "\n",
      "\n",
      "\n",
      "loss - 0.3301:   0%|          | 221/196682 [00:15<3:56:17, 13.86it/s]\u001b[A\u001b[A\u001b[A\u001b[A\n",
      "\n",
      "\n",
      "\n",
      "loss - 0.3301:   0%|          | 223/196682 [00:15<3:51:08, 14.17it/s]\u001b[A\u001b[A\u001b[A\u001b[A\n",
      "\n",
      "\n",
      "\n",
      "loss - 0.1841:   0%|          | 223/196682 [00:15<3:51:08, 14.17it/s]\u001b[A\u001b[A\u001b[A\u001b[A"
     ]
    },
    {
     "name": "stdout",
     "output_type": "stream",
     "text": [
      "x.size(1) is:99\n",
      "x.size(1) is:99\n",
      "x.size(1) is:99\n"
     ]
    },
    {
     "name": "stderr",
     "output_type": "stream",
     "text": [
      "\n",
      "\n",
      "\n",
      "\n",
      "loss - 0.0484:   0%|          | 223/196682 [00:15<3:51:08, 14.17it/s]\u001b[A\u001b[A\u001b[A\u001b[A\n",
      "\n",
      "\n",
      "\n",
      "loss - 0.0484:   0%|          | 225/196682 [00:15<3:53:17, 14.04it/s]\u001b[A\u001b[A\u001b[A\u001b[A\n",
      "\n",
      "\n",
      "\n",
      "loss - 0.3195:   0%|          | 225/196682 [00:15<3:53:17, 14.04it/s]\u001b[A\u001b[A\u001b[A\u001b[A\n",
      "\n",
      "\n",
      "\n",
      "loss - 0.3334:   0%|          | 225/196682 [00:15<3:53:17, 14.04it/s]\u001b[A\u001b[A\u001b[A\u001b[A\n",
      "\n",
      "\n",
      "\n",
      "loss - 0.3334:   0%|          | 227/196682 [00:15<3:58:33, 13.73it/s]\u001b[A\u001b[A\u001b[A\u001b[A"
     ]
    },
    {
     "name": "stdout",
     "output_type": "stream",
     "text": [
      "x.size(1) is:99\n",
      "x.size(1) is:99\n",
      "x.size(1) is:99\n"
     ]
    },
    {
     "name": "stderr",
     "output_type": "stream",
     "text": [
      "\n",
      "\n",
      "\n",
      "\n",
      "loss - 0.1414:   0%|          | 227/196682 [00:16<3:58:33, 13.73it/s]\u001b[A\u001b[A\u001b[A\u001b[A\n",
      "\n",
      "\n",
      "\n",
      "loss - 0.5210:   0%|          | 227/196682 [00:16<3:58:33, 13.73it/s]\u001b[A\u001b[A\u001b[A\u001b[A\n",
      "\n",
      "\n",
      "\n",
      "loss - 0.5210:   0%|          | 229/196682 [00:16<4:01:15, 13.57it/s]\u001b[A\u001b[A\u001b[A\u001b[A\n",
      "\n",
      "\n",
      "\n",
      "loss - 0.1178:   0%|          | 229/196682 [00:16<4:01:15, 13.57it/s]\u001b[A\u001b[A\u001b[A\u001b[A"
     ]
    },
    {
     "name": "stdout",
     "output_type": "stream",
     "text": [
      "x.size(1) is:99\n",
      "x.size(1) is:99\n",
      "x.size(1) is:99\n"
     ]
    },
    {
     "name": "stderr",
     "output_type": "stream",
     "text": [
      "\n",
      "\n",
      "\n",
      "\n",
      "loss - 0.4003:   0%|          | 229/196682 [00:16<4:01:15, 13.57it/s]\u001b[A\u001b[A\u001b[A\u001b[A\n",
      "\n",
      "\n",
      "\n",
      "loss - 0.4003:   0%|          | 231/196682 [00:16<4:01:51, 13.54it/s]\u001b[A\u001b[A\u001b[A\u001b[A\n",
      "\n",
      "\n",
      "\n",
      "loss - 0.2088:   0%|          | 231/196682 [00:16<4:01:51, 13.54it/s]\u001b[A\u001b[A\u001b[A\u001b[A\n",
      "\n",
      "\n",
      "\n",
      "loss - 0.6842:   0%|          | 231/196682 [00:16<4:01:51, 13.54it/s]\u001b[A\u001b[A\u001b[A\u001b[A\n",
      "\n",
      "\n",
      "\n",
      "loss - 0.6842:   0%|          | 233/196682 [00:16<3:55:44, 13.89it/s]\u001b[A\u001b[A\u001b[A\u001b[A"
     ]
    },
    {
     "name": "stdout",
     "output_type": "stream",
     "text": [
      "x.size(1) is:99\n",
      "x.size(1) is:99\n",
      "x.size(1) is:99\n"
     ]
    },
    {
     "name": "stderr",
     "output_type": "stream",
     "text": [
      "\n",
      "\n",
      "\n",
      "\n",
      "loss - 0.4194:   0%|          | 233/196682 [00:16<3:55:44, 13.89it/s]\u001b[A\u001b[A\u001b[A\u001b[A\n",
      "\n",
      "\n",
      "\n",
      "loss - 0.1047:   0%|          | 233/196682 [00:16<3:55:44, 13.89it/s]\u001b[A\u001b[A\u001b[A\u001b[A\n",
      "\n",
      "\n",
      "\n",
      "loss - 0.1047:   0%|          | 235/196682 [00:16<4:02:15, 13.51it/s]\u001b[A\u001b[A\u001b[A\u001b[A\n",
      "\n",
      "\n",
      "\n",
      "loss - 0.1979:   0%|          | 235/196682 [00:16<4:02:15, 13.51it/s]\u001b[A\u001b[A\u001b[A\u001b[A"
     ]
    },
    {
     "name": "stdout",
     "output_type": "stream",
     "text": [
      "x.size(1) is:99\n",
      "x.size(1) is:99\n",
      "x.size(1) is:99\n"
     ]
    },
    {
     "name": "stderr",
     "output_type": "stream",
     "text": [
      "\n",
      "\n",
      "\n",
      "\n",
      "loss - 0.4483:   0%|          | 235/196682 [00:16<4:02:15, 13.51it/s]\u001b[A\u001b[A\u001b[A\u001b[A\n",
      "\n",
      "\n",
      "\n",
      "loss - 0.4483:   0%|          | 237/196682 [00:16<4:18:46, 12.65it/s]\u001b[A\u001b[A\u001b[A\u001b[A\n",
      "\n",
      "\n",
      "\n",
      "loss - 0.0857:   0%|          | 237/196682 [00:16<4:18:46, 12.65it/s]\u001b[A\u001b[A\u001b[A\u001b[A\n",
      "\n",
      "\n",
      "\n",
      "loss - 0.2187:   0%|          | 237/196682 [00:16<4:18:46, 12.65it/s]\u001b[A\u001b[A\u001b[A\u001b[A\n",
      "\n",
      "\n",
      "\n",
      "loss - 0.2187:   0%|          | 239/196682 [00:16<4:40:40, 11.66it/s]\u001b[A\u001b[A\u001b[A\u001b[A"
     ]
    },
    {
     "name": "stdout",
     "output_type": "stream",
     "text": [
      "x.size(1) is:99\n",
      "x.size(1) is:99\n",
      "x.size(1) is:99\n"
     ]
    },
    {
     "name": "stderr",
     "output_type": "stream",
     "text": [
      "\n",
      "\n",
      "\n",
      "\n",
      "loss - 0.0925:   0%|          | 239/196682 [00:16<4:40:40, 11.66it/s]\u001b[A\u001b[A\u001b[A\u001b[A\n",
      "\n",
      "\n",
      "\n",
      "loss - 0.2338:   0%|          | 239/196682 [00:17<4:40:40, 11.66it/s]\u001b[A\u001b[A\u001b[A\u001b[A\n",
      "\n",
      "\n",
      "\n",
      "loss - 0.2338:   0%|          | 241/196682 [00:17<4:24:53, 12.36it/s]\u001b[A\u001b[A\u001b[A\u001b[A\n",
      "\n",
      "\n",
      "\n",
      "loss - 0.3080:   0%|          | 241/196682 [00:17<4:24:53, 12.36it/s]\u001b[A\u001b[A\u001b[A\u001b[A"
     ]
    },
    {
     "name": "stdout",
     "output_type": "stream",
     "text": [
      "x.size(1) is:99\n",
      "x.size(1) is:99\n",
      "x.size(1) is:99\n"
     ]
    },
    {
     "name": "stderr",
     "output_type": "stream",
     "text": [
      "\n",
      "\n",
      "\n",
      "\n",
      "loss - 0.3092:   0%|          | 241/196682 [00:17<4:24:53, 12.36it/s]\u001b[A\u001b[A\u001b[A\u001b[A\n",
      "\n",
      "\n",
      "\n",
      "loss - 0.3092:   0%|          | 243/196682 [00:17<4:14:19, 12.87it/s]\u001b[A\u001b[A\u001b[A\u001b[A\n",
      "\n",
      "\n",
      "\n",
      "loss - 0.3077:   0%|          | 243/196682 [00:17<4:14:19, 12.87it/s]\u001b[A\u001b[A\u001b[A\u001b[A\n",
      "\n",
      "\n",
      "\n",
      "loss - 0.4673:   0%|          | 243/196682 [00:17<4:14:19, 12.87it/s]\u001b[A\u001b[A\u001b[A\u001b[A\n",
      "\n",
      "\n",
      "\n",
      "loss - 0.4673:   0%|          | 245/196682 [00:17<4:06:46, 13.27it/s]\u001b[A\u001b[A\u001b[A\u001b[A\n",
      "\n",
      "\n",
      "\n"
     ]
    },
    {
     "name": "stdout",
     "output_type": "stream",
     "text": [
      "x.size(1) is:99\n",
      "x.size(1) is:99\n",
      "x.size(1) is:99\n"
     ]
    },
    {
     "name": "stderr",
     "output_type": "stream",
     "text": [
      "loss - 0.4528:   0%|          | 245/196682 [00:17<4:06:46, 13.27it/s]\u001b[A\u001b[A\u001b[A\u001b[A\n",
      "\n",
      "\n",
      "\n",
      "loss - 0.3529:   0%|          | 245/196682 [00:17<4:06:46, 13.27it/s]\u001b[A\u001b[A\u001b[A\u001b[A\n",
      "\n",
      "\n",
      "\n",
      "loss - 0.3529:   0%|          | 247/196682 [00:17<4:00:29, 13.61it/s]\u001b[A\u001b[A\u001b[A\u001b[A\n",
      "\n",
      "\n",
      "\n",
      "loss - 0.2668:   0%|          | 247/196682 [00:17<4:00:29, 13.61it/s]\u001b[A\u001b[A\u001b[A\u001b[A\n",
      "\n",
      "\n",
      "\n",
      "loss - 0.3122:   0%|          | 247/196682 [00:17<4:00:29, 13.61it/s]\u001b[A\u001b[A\u001b[A\u001b[A\n",
      "\n",
      "\n",
      "\n",
      "loss - 0.3122:   0%|          | 249/196682 [00:17<3:55:12, 13.92it/s]\u001b[A\u001b[A\u001b[A\u001b[A"
     ]
    },
    {
     "name": "stdout",
     "output_type": "stream",
     "text": [
      "x.size(1) is:99\n",
      "x.size(1) is:99\n",
      "x.size(1) is:99\n"
     ]
    },
    {
     "name": "stderr",
     "output_type": "stream",
     "text": [
      "\n",
      "\n",
      "\n",
      "\n",
      "loss - 0.0838:   0%|          | 249/196682 [00:17<3:55:12, 13.92it/s]\u001b[A\u001b[A\u001b[A\u001b[A\n",
      "\n",
      "\n",
      "\n",
      "loss - 0.1522:   0%|          | 249/196682 [00:17<3:55:12, 13.92it/s]\u001b[A\u001b[A\u001b[A\u001b[A\n",
      "\n",
      "\n",
      "\n",
      "loss - 0.1522:   0%|          | 251/196682 [00:17<3:52:56, 14.05it/s]\u001b[A\u001b[A\u001b[A\u001b[A"
     ]
    },
    {
     "name": "stdout",
     "output_type": "stream",
     "text": [
      "x.size(1) is:99\n",
      "x.size(1) is:99\n",
      "x.size(1) is:99\n"
     ]
    },
    {
     "name": "stderr",
     "output_type": "stream",
     "text": [
      "\n",
      "\n",
      "\n",
      "\n",
      "loss - 0.2339:   0%|          | 251/196682 [00:17<3:52:56, 14.05it/s]\u001b[A\u001b[A\u001b[A\u001b[A\n",
      "\n",
      "\n",
      "\n",
      "loss - 0.2309:   0%|          | 251/196682 [00:17<3:52:56, 14.05it/s]\u001b[A\u001b[A\u001b[A\u001b[A\n",
      "\n",
      "\n",
      "\n",
      "loss - 0.2309:   0%|          | 253/196682 [00:17<3:56:46, 13.83it/s]\u001b[A\u001b[A\u001b[A\u001b[A\n",
      "\n",
      "\n",
      "\n",
      "loss - 0.3974:   0%|          | 253/196682 [00:17<3:56:46, 13.83it/s]\u001b[A\u001b[A\u001b[A\u001b[A"
     ]
    },
    {
     "name": "stdout",
     "output_type": "stream",
     "text": [
      "x.size(1) is:99\n",
      "x.size(1) is:99\n",
      "x.size(1) is:99\n"
     ]
    },
    {
     "name": "stderr",
     "output_type": "stream",
     "text": [
      "\n",
      "\n",
      "\n",
      "\n",
      "loss - 0.3808:   0%|          | 253/196682 [00:18<3:56:46, 13.83it/s]\u001b[A\u001b[A\u001b[A\u001b[A\n",
      "\n",
      "\n",
      "\n",
      "loss - 0.3808:   0%|          | 255/196682 [00:18<3:54:56, 13.93it/s]\u001b[A\u001b[A\u001b[A\u001b[A\n",
      "\n",
      "\n",
      "\n",
      "loss - 0.2433:   0%|          | 255/196682 [00:18<3:54:56, 13.93it/s]\u001b[A\u001b[A\u001b[A\u001b[A\n",
      "\n",
      "\n",
      "\n",
      "loss - 0.5339:   0%|          | 255/196682 [00:18<3:54:56, 13.93it/s]\u001b[A\u001b[A\u001b[A\u001b[A\n",
      "\n",
      "\n",
      "\n",
      "loss - 0.5339:   0%|          | 257/196682 [00:18<3:51:12, 14.16it/s]\u001b[A\u001b[A\u001b[A\u001b[A\n",
      "\n",
      "\n",
      "\n",
      "loss - 0.4320:   0%|          | 257/196682 [00:18<3:51:12, 14.16it/s]\u001b[A\u001b[A\u001b[A\u001b[A"
     ]
    },
    {
     "name": "stdout",
     "output_type": "stream",
     "text": [
      "x.size(1) is:99\n",
      "x.size(1) is:99\n",
      "x.size(1) is:99\n"
     ]
    },
    {
     "name": "stderr",
     "output_type": "stream",
     "text": [
      "\n",
      "\n",
      "\n",
      "\n",
      "loss - 0.3703:   0%|          | 257/196682 [00:18<3:51:12, 14.16it/s]\u001b[A\u001b[A\u001b[A\u001b[A\n",
      "\n",
      "\n",
      "\n",
      "loss - 0.3703:   0%|          | 259/196682 [00:18<3:49:51, 14.24it/s]\u001b[A\u001b[A\u001b[A\u001b[A\n",
      "\n",
      "\n",
      "\n",
      "loss - 0.6906:   0%|          | 259/196682 [00:18<3:49:51, 14.24it/s]\u001b[A\u001b[A\u001b[A\u001b[A\n",
      "\n",
      "\n",
      "\n",
      "loss - 0.3020:   0%|          | 259/196682 [00:18<3:49:51, 14.24it/s]\u001b[A\u001b[A\u001b[A\u001b[A\n",
      "\n",
      "\n",
      "\n",
      "loss - 0.3020:   0%|          | 261/196682 [00:18<3:48:39, 14.32it/s]"
     ]
    },
    {
     "name": "stdout",
     "output_type": "stream",
     "text": [
      "x.size(1) is:99\n",
      "x.size(1) is:99\n",
      "x.size(1) is:99\n"
     ]
    },
    {
     "name": "stderr",
     "output_type": "stream",
     "text": [
      "\u001b[A\u001b[A\u001b[A\u001b[A\n",
      "\n",
      "\n",
      "\n",
      "loss - 0.2045:   0%|          | 261/196682 [00:18<3:48:39, 14.32it/s]\u001b[A\u001b[A\u001b[A\u001b[A\n",
      "\n",
      "\n",
      "\n",
      "loss - 0.1913:   0%|          | 261/196682 [00:18<3:48:39, 14.32it/s]\u001b[A\u001b[A\u001b[A\u001b[A\n",
      "\n",
      "\n",
      "\n",
      "loss - 0.1913:   0%|          | 263/196682 [00:18<3:46:46, 14.44it/s]\u001b[A\u001b[A\u001b[A\u001b[A\n",
      "\n",
      "\n",
      "\n",
      "loss - 0.1019:   0%|          | 263/196682 [00:18<3:46:46, 14.44it/s]\u001b[A\u001b[A\u001b[A\u001b[A"
     ]
    },
    {
     "name": "stdout",
     "output_type": "stream",
     "text": [
      "x.size(1) is:99\n",
      "x.size(1) is:99\n",
      "x.size(1) is:99\n"
     ]
    },
    {
     "name": "stderr",
     "output_type": "stream",
     "text": [
      "\n",
      "\n",
      "\n",
      "\n",
      "loss - 0.2874:   0%|          | 263/196682 [00:18<3:46:46, 14.44it/s]\u001b[A\u001b[A\u001b[A\u001b[A\n",
      "\n",
      "\n",
      "\n",
      "loss - 0.2874:   0%|          | 265/196682 [00:18<3:46:52, 14.43it/s]\u001b[A\u001b[A\u001b[A\u001b[A\n",
      "\n",
      "\n",
      "\n",
      "loss - 0.2596:   0%|          | 265/196682 [00:18<3:46:52, 14.43it/s]\u001b[A\u001b[A\u001b[A\u001b[A"
     ]
    },
    {
     "name": "stdout",
     "output_type": "stream",
     "text": [
      "x.size(1) is:99\n",
      "x.size(1) is:99\n",
      "x.size(1) is:99\n"
     ]
    },
    {
     "name": "stderr",
     "output_type": "stream",
     "text": [
      "\n",
      "\n",
      "\n",
      "\n",
      "loss - 0.3631:   0%|          | 265/196682 [00:18<3:46:52, 14.43it/s]\u001b[A\u001b[A\u001b[A\u001b[A\n",
      "\n",
      "\n",
      "\n",
      "loss - 0.3631:   0%|          | 267/196682 [00:18<3:49:34, 14.26it/s]\u001b[A\u001b[A\u001b[A\u001b[A\n",
      "\n",
      "\n",
      "\n",
      "loss - 0.2009:   0%|          | 267/196682 [00:18<3:49:34, 14.26it/s]\u001b[A\u001b[A\u001b[A\u001b[A\n",
      "\n",
      "\n",
      "\n",
      "loss - 0.1377:   0%|          | 267/196682 [00:19<3:49:34, 14.26it/s]\u001b[A\u001b[A\u001b[A\u001b[A\n",
      "\n",
      "\n",
      "\n",
      "loss - 0.1377:   0%|          | 269/196682 [00:19<3:51:42, 14.13it/s]\u001b[A\u001b[A\u001b[A\u001b[A"
     ]
    },
    {
     "name": "stdout",
     "output_type": "stream",
     "text": [
      "x.size(1) is:99\n",
      "x.size(1) is:99\n",
      "x.size(1) is:99\n"
     ]
    },
    {
     "name": "stderr",
     "output_type": "stream",
     "text": [
      "\n",
      "\n",
      "\n",
      "\n",
      "loss - 0.3311:   0%|          | 269/196682 [00:19<3:51:42, 14.13it/s]\u001b[A\u001b[A\u001b[A\u001b[A\n",
      "\n",
      "\n",
      "\n",
      "loss - 0.1590:   0%|          | 269/196682 [00:19<3:51:42, 14.13it/s]\u001b[A\u001b[A\u001b[A\u001b[A\n",
      "\n",
      "\n",
      "\n",
      "loss - 0.1590:   0%|          | 271/196682 [00:19<3:49:52, 14.24it/s]\u001b[A\u001b[A\u001b[A\u001b[A\n",
      "\n",
      "\n",
      "\n",
      "loss - 0.2594:   0%|          | 271/196682 [00:19<3:49:52, 14.24it/s]\u001b[A\u001b[A\u001b[A\u001b[A"
     ]
    },
    {
     "name": "stdout",
     "output_type": "stream",
     "text": [
      "x.size(1) is:99\n",
      "x.size(1) is:99\n",
      "x.size(1) is:99\n"
     ]
    },
    {
     "name": "stderr",
     "output_type": "stream",
     "text": [
      "\n",
      "\n",
      "\n",
      "\n",
      "loss - 0.0366:   0%|          | 271/196682 [00:19<3:49:52, 14.24it/s]\u001b[A\u001b[A\u001b[A\u001b[A\n",
      "\n",
      "\n",
      "\n",
      "loss - 0.0366:   0%|          | 273/196682 [00:19<3:50:01, 14.23it/s]\u001b[A\u001b[A\u001b[A\u001b[A\n",
      "\n",
      "\n",
      "\n",
      "loss - 0.4720:   0%|          | 273/196682 [00:19<3:50:01, 14.23it/s]\u001b[A\u001b[A\u001b[A\u001b[A\n",
      "\n",
      "\n",
      "\n",
      "loss - 0.1349:   0%|          | 273/196682 [00:19<3:50:01, 14.23it/s]\u001b[A\u001b[A\u001b[A\u001b[A\n",
      "\n",
      "\n",
      "\n",
      "loss - 0.1349:   0%|          | 275/196682 [00:19<3:57:00, 13.81it/s]\u001b[A\u001b[A\u001b[A\u001b[A"
     ]
    },
    {
     "name": "stdout",
     "output_type": "stream",
     "text": [
      "x.size(1) is:99\n",
      "x.size(1) is:99\n",
      "x.size(1) is:99\n"
     ]
    },
    {
     "name": "stderr",
     "output_type": "stream",
     "text": [
      "\n",
      "\n",
      "\n",
      "\n",
      "loss - 0.2982:   0%|          | 275/196682 [00:19<3:57:00, 13.81it/s]\u001b[A\u001b[A\u001b[A\u001b[A\n",
      "\n",
      "\n",
      "\n",
      "loss - 0.1209:   0%|          | 275/196682 [00:19<3:57:00, 13.81it/s]\u001b[A\u001b[A\u001b[A\u001b[A\n",
      "\n",
      "\n",
      "\n",
      "loss - 0.1209:   0%|          | 277/196682 [00:19<3:58:47, 13.71it/s]\u001b[A\u001b[A\u001b[A\u001b[A\n",
      "\n",
      "\n",
      "\n",
      "loss - 0.5586:   0%|          | 277/196682 [00:19<3:58:47, 13.71it/s]\u001b[A\u001b[A\u001b[A\u001b[A"
     ]
    },
    {
     "name": "stdout",
     "output_type": "stream",
     "text": [
      "x.size(1) is:99\n",
      "x.size(1) is:99\n",
      "x.size(1) is:99\n"
     ]
    },
    {
     "name": "stderr",
     "output_type": "stream",
     "text": [
      "\n",
      "\n",
      "\n",
      "\n",
      "loss - 0.6312:   0%|          | 277/196682 [00:19<3:58:47, 13.71it/s]\u001b[A\u001b[A\u001b[A\u001b[A\n",
      "\n",
      "\n",
      "\n",
      "loss - 0.6312:   0%|          | 279/196682 [00:19<4:07:56, 13.20it/s]\u001b[A\u001b[A\u001b[A\u001b[A\n",
      "\n",
      "\n",
      "\n",
      "loss - 0.1517:   0%|          | 279/196682 [00:19<4:07:56, 13.20it/s]\u001b[A\u001b[A\u001b[A\u001b[A\n",
      "\n",
      "\n",
      "\n",
      "loss - 0.3411:   0%|          | 279/196682 [00:19<4:07:56, 13.20it/s]\u001b[A\u001b[A\u001b[A\u001b[A\n",
      "\n",
      "\n",
      "\n",
      "loss - 0.3411:   0%|          | 281/196682 [00:19<4:10:47, 13.05it/s]\u001b[A\u001b[A\u001b[A\u001b[A"
     ]
    },
    {
     "name": "stdout",
     "output_type": "stream",
     "text": [
      "x.size(1) is:99\n",
      "x.size(1) is:99\n",
      "x.size(1) is:99\n"
     ]
    },
    {
     "name": "stderr",
     "output_type": "stream",
     "text": [
      "\n",
      "\n",
      "\n",
      "\n",
      "loss - 0.1466:   0%|          | 281/196682 [00:20<4:10:47, 13.05it/s]\u001b[A\u001b[A\u001b[A\u001b[A\n",
      "\n",
      "\n",
      "\n",
      "loss - 0.3097:   0%|          | 281/196682 [00:20<4:10:47, 13.05it/s]\u001b[A\u001b[A\u001b[A\u001b[A\n",
      "\n",
      "\n",
      "\n",
      "loss - 0.3097:   0%|          | 283/196682 [00:20<4:06:51, 13.26it/s]\u001b[A\u001b[A\u001b[A\u001b[A\n",
      "\n",
      "\n",
      "\n",
      "loss - 0.4705:   0%|          | 283/196682 [00:20<4:06:51, 13.26it/s]\u001b[A\u001b[A\u001b[A\u001b[A"
     ]
    },
    {
     "name": "stdout",
     "output_type": "stream",
     "text": [
      "x.size(1) is:99\n",
      "x.size(1) is:99\n",
      "x.size(1) is:99\n"
     ]
    },
    {
     "name": "stderr",
     "output_type": "stream",
     "text": [
      "\n",
      "\n",
      "\n",
      "\n",
      "loss - 0.1621:   0%|          | 283/196682 [00:20<4:06:51, 13.26it/s]\u001b[A\u001b[A\u001b[A\u001b[A\n",
      "\n",
      "\n",
      "\n",
      "loss - 0.1621:   0%|          | 285/196682 [00:20<4:06:13, 13.29it/s]\u001b[A\u001b[A\u001b[A\u001b[A\n",
      "\n",
      "\n",
      "\n",
      "loss - 0.3631:   0%|          | 285/196682 [00:20<4:06:13, 13.29it/s]\u001b[A\u001b[A\u001b[A\u001b[A\n",
      "\n",
      "\n",
      "\n",
      "loss - 0.2497:   0%|          | 285/196682 [00:20<4:06:13, 13.29it/s]\u001b[A\u001b[A\u001b[A\u001b[A\n",
      "\n",
      "\n",
      "\n",
      "loss - 0.2497:   0%|          | 287/196682 [00:20<4:16:28, 12.76it/s]\u001b[A\u001b[A\u001b[A\u001b[A"
     ]
    },
    {
     "name": "stdout",
     "output_type": "stream",
     "text": [
      "x.size(1) is:99\n",
      "x.size(1) is:99\n",
      "x.size(1) is:99\n"
     ]
    },
    {
     "name": "stderr",
     "output_type": "stream",
     "text": [
      "\n",
      "\n",
      "\n",
      "\n",
      "loss - 0.4836:   0%|          | 287/196682 [00:20<4:16:28, 12.76it/s]\u001b[A\u001b[A\u001b[A\u001b[A\n",
      "\n",
      "\n",
      "\n",
      "loss - 0.4458:   0%|          | 287/196682 [00:20<4:16:28, 12.76it/s]\u001b[A\u001b[A\u001b[A\u001b[A\n",
      "\n",
      "\n",
      "\n",
      "loss - 0.4458:   0%|          | 289/196682 [00:20<4:09:38, 13.11it/s]\u001b[A\u001b[A\u001b[A\u001b[A\n",
      "\n",
      "\n",
      "\n",
      "loss - 0.2241:   0%|          | 289/196682 [00:20<4:09:38, 13.11it/s]\u001b[A\u001b[A\u001b[A\u001b[A"
     ]
    },
    {
     "name": "stdout",
     "output_type": "stream",
     "text": [
      "x.size(1) is:99\n",
      "x.size(1) is:99\n",
      "x.size(1) is:99\n"
     ]
    },
    {
     "name": "stderr",
     "output_type": "stream",
     "text": [
      "\n",
      "\n",
      "\n",
      "\n",
      "loss - 0.0962:   0%|          | 289/196682 [00:20<4:09:38, 13.11it/s]\u001b[A\u001b[A\u001b[A\u001b[A\n",
      "\n",
      "\n",
      "\n",
      "loss - 0.0962:   0%|          | 291/196682 [00:20<4:05:13, 13.35it/s]\u001b[A\u001b[A\u001b[A\u001b[A\n",
      "\n",
      "\n",
      "\n",
      "loss - 0.2023:   0%|          | 291/196682 [00:20<4:05:13, 13.35it/s]\u001b[A\u001b[A\u001b[A\u001b[A\n",
      "\n",
      "\n",
      "\n",
      "loss - 0.1118:   0%|          | 291/196682 [00:20<4:05:13, 13.35it/s]\u001b[A\u001b[A\u001b[A\u001b[A\n",
      "\n",
      "\n",
      "\n",
      "loss - 0.1118:   0%|          | 293/196682 [00:20<4:02:59, 13.47it/s]\u001b[A\u001b[A\u001b[A\u001b[A"
     ]
    },
    {
     "name": "stdout",
     "output_type": "stream",
     "text": [
      "x.size(1) is:99\n",
      "x.size(1) is:99\n",
      "x.size(1) is:99\n"
     ]
    },
    {
     "name": "stderr",
     "output_type": "stream",
     "text": [
      "\n",
      "\n",
      "\n",
      "\n",
      "loss - 0.3669:   0%|          | 293/196682 [00:20<4:02:59, 13.47it/s]\u001b[A\u001b[A\u001b[A\u001b[A\n",
      "\n",
      "\n",
      "\n",
      "loss - 0.2241:   0%|          | 293/196682 [00:21<4:02:59, 13.47it/s]\u001b[A\u001b[A\u001b[A\u001b[A\n",
      "\n",
      "\n",
      "\n",
      "loss - 0.2241:   0%|          | 295/196682 [00:21<4:18:02, 12.68it/s]\u001b[A\u001b[A\u001b[A\u001b[A\n",
      "\n",
      "\n",
      "\n",
      "loss - 0.4265:   0%|          | 295/196682 [00:21<4:18:02, 12.68it/s]\u001b[A\u001b[A\u001b[A\u001b[A"
     ]
    },
    {
     "name": "stdout",
     "output_type": "stream",
     "text": [
      "x.size(1) is:99\n",
      "x.size(1) is:99\n",
      "x.size(1) is:99\n"
     ]
    },
    {
     "name": "stderr",
     "output_type": "stream",
     "text": [
      "\n",
      "\n",
      "\n",
      "\n",
      "loss - 0.1070:   0%|          | 295/196682 [00:21<4:18:02, 12.68it/s]\u001b[A\u001b[A\u001b[A\u001b[A\n",
      "\n",
      "\n",
      "\n",
      "loss - 0.1070:   0%|          | 297/196682 [00:21<4:19:53, 12.59it/s]\u001b[A\u001b[A\u001b[A\u001b[A\n",
      "\n",
      "\n",
      "\n",
      "loss - 0.3378:   0%|          | 297/196682 [00:21<4:19:53, 12.59it/s]\u001b[A\u001b[A\u001b[A\u001b[A\n",
      "\n",
      "\n",
      "\n",
      "loss - 0.4282:   0%|          | 297/196682 [00:21<4:19:53, 12.59it/s]\u001b[A\u001b[A\u001b[A\u001b[A\n",
      "\n",
      "\n",
      "\n",
      "loss - 0.4282:   0%|          | 299/196682 [00:21<4:14:45, 12.85it/s]\u001b[A\u001b[A\u001b[A\u001b[A"
     ]
    },
    {
     "name": "stdout",
     "output_type": "stream",
     "text": [
      "x.size(1) is:99\n",
      "x.size(1) is:99\n",
      "x.size(1) is:99\n"
     ]
    },
    {
     "name": "stderr",
     "output_type": "stream",
     "text": [
      "\n",
      "\n",
      "\n",
      "\n",
      "loss - 0.5528:   0%|          | 299/196682 [00:21<4:14:45, 12.85it/s]\u001b[A\u001b[A\u001b[A\u001b[A\n",
      "\n",
      "\n",
      "\n",
      "loss - 0.0913:   0%|          | 299/196682 [00:21<4:14:45, 12.85it/s]\u001b[A\u001b[A\u001b[A\u001b[A\n",
      "\n",
      "\n",
      "\n",
      "loss - 0.0913:   0%|          | 301/196682 [00:21<4:09:26, 13.12it/s]\u001b[A\u001b[A\u001b[A\u001b[A\n",
      "\n",
      "\n",
      "\n",
      "loss - 0.3649:   0%|          | 301/196682 [00:21<4:09:26, 13.12it/s]\u001b[A\u001b[A\u001b[A\u001b[A"
     ]
    },
    {
     "name": "stdout",
     "output_type": "stream",
     "text": [
      "x.size(1) is:99\n",
      "x.size(1) is:99\n",
      "x.size(1) is:99\n"
     ]
    },
    {
     "name": "stderr",
     "output_type": "stream",
     "text": [
      "\n",
      "\n",
      "\n",
      "\n",
      "loss - 0.2088:   0%|          | 301/196682 [00:21<4:09:26, 13.12it/s]\u001b[A\u001b[A\u001b[A\u001b[A\n",
      "\n",
      "\n",
      "\n",
      "loss - 0.2088:   0%|          | 303/196682 [00:21<4:04:00, 13.41it/s]\u001b[A\u001b[A\u001b[A\u001b[A\n",
      "\n",
      "\n",
      "\n",
      "loss - 0.1591:   0%|          | 303/196682 [00:21<4:04:00, 13.41it/s]\u001b[A\u001b[A\u001b[A\u001b[A\n",
      "\n",
      "\n",
      "\n",
      "loss - 0.5653:   0%|          | 303/196682 [00:21<4:04:00, 13.41it/s]\u001b[A\u001b[A\u001b[A\u001b[A\n",
      "\n",
      "\n",
      "\n",
      "loss - 0.5653:   0%|          | 305/196682 [00:21<4:00:54, 13.59it/s]\u001b[A\u001b[A\u001b[A\u001b[A"
     ]
    },
    {
     "name": "stdout",
     "output_type": "stream",
     "text": [
      "x.size(1) is:99\n",
      "x.size(1) is:99\n",
      "x.size(1) is:99\n"
     ]
    },
    {
     "name": "stderr",
     "output_type": "stream",
     "text": [
      "\n",
      "\n",
      "\n",
      "\n",
      "loss - 0.1779:   0%|          | 305/196682 [00:21<4:00:54, 13.59it/s]\u001b[A\u001b[A\u001b[A\u001b[A\n",
      "\n",
      "\n",
      "\n",
      "loss - 0.1354:   0%|          | 305/196682 [00:21<4:00:54, 13.59it/s]\u001b[A\u001b[A\u001b[A\u001b[A\n",
      "\n",
      "\n",
      "\n",
      "loss - 0.1354:   0%|          | 307/196682 [00:21<4:01:02, 13.58it/s]\u001b[A\u001b[A\u001b[A\u001b[A\n",
      "\n",
      "\n",
      "\n",
      "loss - 0.3710:   0%|          | 307/196682 [00:21<4:01:02, 13.58it/s]\u001b[A\u001b[A\u001b[A\u001b[A"
     ]
    },
    {
     "name": "stdout",
     "output_type": "stream",
     "text": [
      "x.size(1) is:99\n",
      "x.size(1) is:99\n",
      "x.size(1) is:99\n"
     ]
    },
    {
     "name": "stderr",
     "output_type": "stream",
     "text": [
      "\n",
      "\n",
      "\n",
      "\n",
      "loss - 0.3243:   0%|          | 307/196682 [00:22<4:01:02, 13.58it/s]\u001b[A\u001b[A\u001b[A\u001b[A\n",
      "\n",
      "\n",
      "\n",
      "loss - 0.3243:   0%|          | 309/196682 [00:22<3:59:06, 13.69it/s]\u001b[A\u001b[A\u001b[A\u001b[A\n",
      "\n",
      "\n",
      "\n",
      "loss - 0.3614:   0%|          | 309/196682 [00:22<3:59:06, 13.69it/s]\u001b[A\u001b[A\u001b[A\u001b[A\n",
      "\n",
      "\n",
      "\n",
      "loss - 0.3573:   0%|          | 309/196682 [00:22<3:59:06, 13.69it/s]\u001b[A\u001b[A\u001b[A\u001b[A\n",
      "\n",
      "\n",
      "\n",
      "loss - 0.3573:   0%|          | 311/196682 [00:22<3:59:11, 13.68it/s]\u001b[A\u001b[A\u001b[A\u001b[A"
     ]
    },
    {
     "name": "stdout",
     "output_type": "stream",
     "text": [
      "x.size(1) is:99\n",
      "x.size(1) is:99\n",
      "x.size(1) is:99\n"
     ]
    },
    {
     "name": "stderr",
     "output_type": "stream",
     "text": [
      "\n",
      "\n",
      "\n",
      "\n",
      "loss - 0.5308:   0%|          | 311/196682 [00:22<3:59:11, 13.68it/s]\u001b[A\u001b[A\u001b[A\u001b[A\n",
      "\n",
      "\n",
      "\n",
      "loss - 0.1709:   0%|          | 311/196682 [00:22<3:59:11, 13.68it/s]\u001b[A\u001b[A\u001b[A\u001b[A\n",
      "\n",
      "\n",
      "\n",
      "loss - 0.1709:   0%|          | 313/196682 [00:22<4:00:29, 13.61it/s]\u001b[A\u001b[A\u001b[A\u001b[A\n",
      "\n",
      "\n",
      "\n",
      "loss - 0.1034:   0%|          | 313/196682 [00:22<4:00:29, 13.61it/s]\u001b[A\u001b[A\u001b[A\u001b[A"
     ]
    },
    {
     "name": "stdout",
     "output_type": "stream",
     "text": [
      "x.size(1) is:99\n",
      "x.size(1) is:99\n",
      "x.size(1) is:99\n"
     ]
    },
    {
     "name": "stderr",
     "output_type": "stream",
     "text": [
      "\n",
      "\n",
      "\n",
      "\n",
      "loss - 0.4590:   0%|          | 313/196682 [00:22<4:00:29, 13.61it/s]\u001b[A\u001b[A\u001b[A\u001b[A\n",
      "\n",
      "\n",
      "\n",
      "loss - 0.4590:   0%|          | 315/196682 [00:22<3:59:16, 13.68it/s]\u001b[A\u001b[A\u001b[A\u001b[A\n",
      "\n",
      "\n",
      "\n",
      "loss - 0.1183:   0%|          | 315/196682 [00:22<3:59:16, 13.68it/s]\u001b[A\u001b[A\u001b[A\u001b[A\n",
      "\n",
      "\n",
      "\n",
      "loss - 0.0802:   0%|          | 315/196682 [00:22<3:59:16, 13.68it/s]\u001b[A\u001b[A\u001b[A\u001b[A\n",
      "\n",
      "\n",
      "\n",
      "loss - 0.0802:   0%|          | 317/196682 [00:22<4:01:00, 13.58it/s]\u001b[A\u001b[A\u001b[A\u001b[A"
     ]
    },
    {
     "name": "stdout",
     "output_type": "stream",
     "text": [
      "x.size(1) is:99\n",
      "x.size(1) is:99\n",
      "x.size(1) is:99\n"
     ]
    },
    {
     "name": "stderr",
     "output_type": "stream",
     "text": [
      "\n",
      "\n",
      "\n",
      "\n",
      "loss - 0.2040:   0%|          | 317/196682 [00:22<4:01:00, 13.58it/s]\u001b[A\u001b[A\u001b[A\u001b[A\n",
      "\n",
      "\n",
      "\n",
      "loss - 0.3824:   0%|          | 317/196682 [00:22<4:01:00, 13.58it/s]\u001b[A\u001b[A\u001b[A\u001b[A\n",
      "\n",
      "\n",
      "\n",
      "loss - 0.3824:   0%|          | 319/196682 [00:22<4:01:15, 13.57it/s]\u001b[A\u001b[A\u001b[A\u001b[A\n",
      "\n",
      "\n",
      "\n",
      "loss - 0.4543:   0%|          | 319/196682 [00:22<4:01:15, 13.57it/s]\u001b[A\u001b[A\u001b[A\u001b[A"
     ]
    },
    {
     "name": "stdout",
     "output_type": "stream",
     "text": [
      "x.size(1) is:99\n",
      "x.size(1) is:99\n",
      "x.size(1) is:99\n"
     ]
    },
    {
     "name": "stderr",
     "output_type": "stream",
     "text": [
      "\n",
      "\n",
      "\n",
      "\n",
      "loss - 0.4010:   0%|          | 319/196682 [00:22<4:01:15, 13.57it/s]\u001b[A\u001b[A\u001b[A\u001b[A\n",
      "\n",
      "\n",
      "\n",
      "loss - 0.4010:   0%|          | 321/196682 [00:22<4:04:47, 13.37it/s]\u001b[A\u001b[A\u001b[A\u001b[A\n",
      "\n",
      "\n",
      "\n",
      "loss - 0.3809:   0%|          | 321/196682 [00:23<4:04:47, 13.37it/s]\u001b[A\u001b[A\u001b[A\u001b[A\n",
      "\n",
      "\n",
      "\n",
      "loss - 0.6723:   0%|          | 321/196682 [00:23<4:04:47, 13.37it/s]\u001b[A\u001b[A\u001b[A\u001b[A\n",
      "\n",
      "\n",
      "\n",
      "loss - 0.6723:   0%|          | 323/196682 [00:23<4:16:12, 12.77it/s]\u001b[A\u001b[A\u001b[A\u001b[A"
     ]
    },
    {
     "name": "stdout",
     "output_type": "stream",
     "text": [
      "x.size(1) is:99\n",
      "x.size(1) is:99\n",
      "x.size(1) is:99\n"
     ]
    },
    {
     "name": "stderr",
     "output_type": "stream",
     "text": [
      "\n",
      "\n",
      "\n",
      "\n",
      "loss - 0.3272:   0%|          | 323/196682 [00:23<4:16:12, 12.77it/s]\u001b[A\u001b[A\u001b[A\u001b[A\n",
      "\n",
      "\n",
      "\n",
      "loss - 0.1553:   0%|          | 323/196682 [00:23<4:16:12, 12.77it/s]\u001b[A\u001b[A\u001b[A\u001b[A\n",
      "\n",
      "\n",
      "\n",
      "loss - 0.1553:   0%|          | 325/196682 [00:23<4:14:59, 12.83it/s]\u001b[A\u001b[A\u001b[A\u001b[A\n",
      "\n",
      "\n",
      "\n",
      "loss - 0.3138:   0%|          | 325/196682 [00:23<4:14:59, 12.83it/s]\u001b[A\u001b[A\u001b[A\u001b[A"
     ]
    },
    {
     "name": "stdout",
     "output_type": "stream",
     "text": [
      "x.size(1) is:99\n",
      "x.size(1) is:99\n",
      "x.size(1) is:99\n"
     ]
    },
    {
     "name": "stderr",
     "output_type": "stream",
     "text": [
      "\n",
      "\n",
      "\n",
      "\n",
      "loss - 0.0907:   0%|          | 325/196682 [00:23<4:14:59, 12.83it/s]\u001b[A\u001b[A\u001b[A\u001b[A\n",
      "\n",
      "\n",
      "\n",
      "loss - 0.0907:   0%|          | 327/196682 [00:23<4:10:15, 13.08it/s]\u001b[A\u001b[A\u001b[A\u001b[A\n",
      "\n",
      "\n",
      "\n",
      "loss - 0.3367:   0%|          | 327/196682 [00:23<4:10:15, 13.08it/s]\u001b[A\u001b[A\u001b[A\u001b[A\n",
      "\n",
      "\n",
      "\n",
      "loss - 0.2668:   0%|          | 327/196682 [00:23<4:10:15, 13.08it/s]\u001b[A\u001b[A\u001b[A\u001b[A\n",
      "\n",
      "\n",
      "\n",
      "loss - 0.2668:   0%|          | 329/196682 [00:23<4:07:23, 13.23it/s]\u001b[A\u001b[A\u001b[A\u001b[A"
     ]
    },
    {
     "name": "stdout",
     "output_type": "stream",
     "text": [
      "x.size(1) is:99\n",
      "x.size(1) is:99\n",
      "x.size(1) is:99\n"
     ]
    },
    {
     "name": "stderr",
     "output_type": "stream",
     "text": [
      "\n",
      "\n",
      "\n",
      "\n",
      "loss - 0.2246:   0%|          | 329/196682 [00:23<4:07:23, 13.23it/s]\u001b[A\u001b[A\u001b[A\u001b[A\n",
      "\n",
      "\n",
      "\n",
      "loss - 0.3517:   0%|          | 329/196682 [00:23<4:07:23, 13.23it/s]\u001b[A\u001b[A\u001b[A\u001b[A\n",
      "\n",
      "\n",
      "\n",
      "loss - 0.3517:   0%|          | 331/196682 [00:23<4:03:20, 13.45it/s]\u001b[A\u001b[A\u001b[A\u001b[A\n",
      "\n",
      "\n",
      "\n",
      "loss - 0.3227:   0%|          | 331/196682 [00:23<4:03:20, 13.45it/s]\u001b[A\u001b[A\u001b[A\u001b[A"
     ]
    },
    {
     "name": "stdout",
     "output_type": "stream",
     "text": [
      "x.size(1) is:99\n",
      "x.size(1) is:99\n",
      "x.size(1) is:99\n"
     ]
    },
    {
     "name": "stderr",
     "output_type": "stream",
     "text": [
      "\n",
      "\n",
      "\n",
      "\n",
      "loss - 0.3325:   0%|          | 331/196682 [00:23<4:03:20, 13.45it/s]\u001b[A\u001b[A\u001b[A\u001b[A\n",
      "\n",
      "\n",
      "\n",
      "loss - 0.3325:   0%|          | 333/196682 [00:23<4:01:59, 13.52it/s]\u001b[A\u001b[A\u001b[A\u001b[A\n",
      "\n",
      "\n",
      "\n",
      "loss - 0.4184:   0%|          | 333/196682 [00:23<4:01:59, 13.52it/s]\u001b[A\u001b[A\u001b[A\u001b[A\n",
      "\n",
      "\n",
      "\n",
      "loss - 0.6598:   0%|          | 333/196682 [00:23<4:01:59, 13.52it/s]\u001b[A\u001b[A\u001b[A\u001b[A\n",
      "\n",
      "\n",
      "\n",
      "loss - 0.6598:   0%|          | 335/196682 [00:23<4:04:40, 13.37it/s]\u001b[A\u001b[A\u001b[A\u001b[A"
     ]
    },
    {
     "name": "stdout",
     "output_type": "stream",
     "text": [
      "x.size(1) is:99\n",
      "x.size(1) is:99\n",
      "x.size(1) is:99\n"
     ]
    },
    {
     "name": "stderr",
     "output_type": "stream",
     "text": [
      "\n",
      "\n",
      "\n",
      "\n",
      "loss - 0.3012:   0%|          | 335/196682 [00:24<4:04:40, 13.37it/s]\u001b[A\u001b[A\u001b[A\u001b[A\n",
      "\n",
      "\n",
      "\n",
      "loss - 0.1205:   0%|          | 335/196682 [00:24<4:04:40, 13.37it/s]\u001b[A\u001b[A\u001b[A\u001b[A\n",
      "\n",
      "\n",
      "\n",
      "loss - 0.1205:   0%|          | 337/196682 [00:24<4:02:53, 13.47it/s]\u001b[A\u001b[A\u001b[A\u001b[A\n",
      "\n",
      "\n",
      "\n",
      "loss - 0.3541:   0%|          | 337/196682 [00:24<4:02:53, 13.47it/s]\u001b[A\u001b[A\u001b[A\u001b[A"
     ]
    },
    {
     "name": "stdout",
     "output_type": "stream",
     "text": [
      "x.size(1) is:99\n",
      "x.size(1) is:99\n",
      "x.size(1) is:99\n"
     ]
    },
    {
     "name": "stderr",
     "output_type": "stream",
     "text": [
      "\n",
      "\n",
      "\n",
      "\n",
      "loss - 0.3258:   0%|          | 337/196682 [00:24<4:02:53, 13.47it/s]\u001b[A\u001b[A\u001b[A\u001b[A\n",
      "\n",
      "\n",
      "\n",
      "loss - 0.3258:   0%|          | 339/196682 [00:24<4:02:28, 13.50it/s]\u001b[A\u001b[A\u001b[A\u001b[A\n",
      "\n",
      "\n",
      "\n",
      "loss - 0.5042:   0%|          | 339/196682 [00:24<4:02:28, 13.50it/s]\u001b[A\u001b[A\u001b[A\u001b[A\n",
      "\n",
      "\n",
      "\n",
      "loss - 0.1089:   0%|          | 339/196682 [00:24<4:02:28, 13.50it/s]\u001b[A\u001b[A\u001b[A\u001b[A\n",
      "\n",
      "\n",
      "\n",
      "loss - 0.1089:   0%|          | 341/196682 [00:24<4:02:28, 13.50it/s]\u001b[A\u001b[A\u001b[A\u001b[A"
     ]
    },
    {
     "name": "stdout",
     "output_type": "stream",
     "text": [
      "x.size(1) is:99\n",
      "x.size(1) is:99\n",
      "x.size(1) is:99\n"
     ]
    },
    {
     "name": "stderr",
     "output_type": "stream",
     "text": [
      "\n",
      "\n",
      "\n",
      "\n",
      "loss - 0.0963:   0%|          | 341/196682 [00:24<4:02:28, 13.50it/s]\u001b[A\u001b[A\u001b[A\u001b[A\n",
      "\n",
      "\n",
      "\n",
      "loss - 0.2540:   0%|          | 341/196682 [00:24<4:02:28, 13.50it/s]\u001b[A\u001b[A\u001b[A\u001b[A\n",
      "\n",
      "\n",
      "\n",
      "loss - 0.2540:   0%|          | 343/196682 [00:24<4:01:53, 13.53it/s]\u001b[A\u001b[A\u001b[A\u001b[A\n",
      "\n",
      "\n",
      "\n",
      "loss - 0.0774:   0%|          | 343/196682 [00:24<4:01:53, 13.53it/s]\u001b[A\u001b[A\u001b[A\u001b[A"
     ]
    },
    {
     "name": "stdout",
     "output_type": "stream",
     "text": [
      "x.size(1) is:99\n",
      "x.size(1) is:99\n",
      "x.size(1) is:99\n"
     ]
    },
    {
     "name": "stderr",
     "output_type": "stream",
     "text": [
      "\n",
      "\n",
      "\n",
      "\n",
      "loss - 0.1029:   0%|          | 343/196682 [00:24<4:01:53, 13.53it/s]\u001b[A\u001b[A\u001b[A\u001b[A\n",
      "\n",
      "\n",
      "\n",
      "loss - 0.1029:   0%|          | 345/196682 [00:24<4:05:28, 13.33it/s]\u001b[A\u001b[A\u001b[A\u001b[A\n",
      "\n",
      "\n",
      "\n",
      "loss - 0.5438:   0%|          | 345/196682 [00:24<4:05:28, 13.33it/s]\u001b[A\u001b[A\u001b[A\u001b[A\n",
      "\n",
      "\n",
      "\n",
      "loss - 0.3370:   0%|          | 345/196682 [00:24<4:05:28, 13.33it/s]\u001b[A\u001b[A\u001b[A\u001b[A\n",
      "\n",
      "\n",
      "\n",
      "loss - 0.3370:   0%|          | 347/196682 [00:24<4:05:10, 13.35it/s]\u001b[A\u001b[A\u001b[A\u001b[A"
     ]
    },
    {
     "name": "stdout",
     "output_type": "stream",
     "text": [
      "x.size(1) is:99\n",
      "x.size(1) is:99\n",
      "x.size(1) is:99\n"
     ]
    },
    {
     "name": "stderr",
     "output_type": "stream",
     "text": [
      "\n",
      "\n",
      "\n",
      "\n",
      "loss - 0.2159:   0%|          | 347/196682 [00:24<4:05:10, 13.35it/s]\u001b[A\u001b[A\u001b[A\u001b[A\n",
      "\n",
      "\n",
      "\n",
      "loss - 0.0808:   0%|          | 347/196682 [00:25<4:05:10, 13.35it/s]\u001b[A\u001b[A\u001b[A\u001b[A\n",
      "\n",
      "\n",
      "\n",
      "loss - 0.0808:   0%|          | 349/196682 [00:25<4:03:55, 13.41it/s]\u001b[A\u001b[A\u001b[A\u001b[A\n",
      "\n",
      "\n",
      "\n",
      "loss - 0.1596:   0%|          | 349/196682 [00:25<4:03:55, 13.41it/s]\u001b[A\u001b[A\u001b[A\u001b[A"
     ]
    },
    {
     "name": "stdout",
     "output_type": "stream",
     "text": [
      "x.size(1) is:99\n",
      "x.size(1) is:99\n",
      "x.size(1) is:99\n"
     ]
    },
    {
     "name": "stderr",
     "output_type": "stream",
     "text": [
      "\n",
      "\n",
      "\n",
      "\n",
      "loss - 0.1928:   0%|          | 349/196682 [00:25<4:03:55, 13.41it/s]\u001b[A\u001b[A\u001b[A\u001b[A\n",
      "\n",
      "\n",
      "\n",
      "loss - 0.1928:   0%|          | 351/196682 [00:25<4:29:29, 12.14it/s]\u001b[A\u001b[A\u001b[A\u001b[A\n",
      "\n",
      "\n",
      "\n",
      "loss - 0.0596:   0%|          | 351/196682 [00:25<4:29:29, 12.14it/s]\u001b[A\u001b[A\u001b[A\u001b[A\n",
      "\n",
      "\n",
      "\n",
      "loss - 0.3660:   0%|          | 351/196682 [00:25<4:29:29, 12.14it/s]\u001b[A\u001b[A\u001b[A\u001b[A\n",
      "\n",
      "\n",
      "\n",
      "loss - 0.3660:   0%|          | 353/196682 [00:25<4:22:02, 12.49it/s]\u001b[A\u001b[A\u001b[A\u001b[A"
     ]
    },
    {
     "name": "stdout",
     "output_type": "stream",
     "text": [
      "x.size(1) is:99\n",
      "x.size(1) is:99\n",
      "x.size(1) is:99\n"
     ]
    },
    {
     "name": "stderr",
     "output_type": "stream",
     "text": [
      "\n",
      "\n",
      "\n",
      "\n",
      "loss - 0.1454:   0%|          | 353/196682 [00:25<4:22:02, 12.49it/s]\u001b[A\u001b[A\u001b[A\u001b[A\n",
      "\n",
      "\n",
      "\n",
      "loss - 0.0687:   0%|          | 353/196682 [00:25<4:22:02, 12.49it/s]\u001b[A\u001b[A\u001b[A\u001b[A\n",
      "\n",
      "\n",
      "\n",
      "loss - 0.0687:   0%|          | 355/196682 [00:25<4:15:40, 12.80it/s]\u001b[A\u001b[A\u001b[A\u001b[A\n",
      "\n",
      "\n",
      "\n",
      "loss - 0.3339:   0%|          | 355/196682 [00:25<4:15:40, 12.80it/s]\u001b[A\u001b[A\u001b[A\u001b[A"
     ]
    },
    {
     "name": "stdout",
     "output_type": "stream",
     "text": [
      "x.size(1) is:99\n",
      "x.size(1) is:99\n",
      "x.size(1) is:99\n"
     ]
    },
    {
     "name": "stderr",
     "output_type": "stream",
     "text": [
      "\n",
      "\n",
      "\n",
      "\n",
      "loss - 0.0588:   0%|          | 355/196682 [00:25<4:15:40, 12.80it/s]\u001b[A\u001b[A\u001b[A\u001b[A\n",
      "\n",
      "\n",
      "\n",
      "loss - 0.0588:   0%|          | 357/196682 [00:25<4:11:30, 13.01it/s]\u001b[A\u001b[A\u001b[A\u001b[A\n",
      "\n",
      "\n",
      "\n",
      "loss - 0.1515:   0%|          | 357/196682 [00:25<4:11:30, 13.01it/s]\u001b[A\u001b[A\u001b[A\u001b[A\n",
      "\n",
      "\n",
      "\n",
      "loss - 0.1401:   0%|          | 357/196682 [00:25<4:11:30, 13.01it/s]\u001b[A\u001b[A\u001b[A\u001b[A\n",
      "\n",
      "\n",
      "\n",
      "loss - 0.1401:   0%|          | 359/196682 [00:25<4:09:05, 13.14it/s]\u001b[A\u001b[A\u001b[A\u001b[A"
     ]
    },
    {
     "name": "stdout",
     "output_type": "stream",
     "text": [
      "x.size(1) is:99\n",
      "x.size(1) is:99\n",
      "x.size(1) is:99\n"
     ]
    },
    {
     "name": "stderr",
     "output_type": "stream",
     "text": [
      "\n",
      "\n",
      "\n",
      "\n",
      "loss - 0.1052:   0%|          | 359/196682 [00:25<4:09:05, 13.14it/s]\u001b[A\u001b[A\u001b[A\u001b[A\n",
      "\n",
      "\n",
      "\n",
      "loss - 0.3724:   0%|          | 359/196682 [00:25<4:09:05, 13.14it/s]\u001b[A\u001b[A\u001b[A\u001b[A\n",
      "\n",
      "\n",
      "\n",
      "loss - 0.3724:   0%|          | 361/196682 [00:25<4:08:24, 13.17it/s]\u001b[A\u001b[A\u001b[A\u001b[A\n",
      "\n",
      "\n",
      "\n",
      "loss - 0.5586:   0%|          | 361/196682 [00:26<4:08:24, 13.17it/s]\u001b[A\u001b[A\u001b[A\u001b[A"
     ]
    },
    {
     "name": "stdout",
     "output_type": "stream",
     "text": [
      "x.size(1) is:99\n",
      "x.size(1) is:99\n",
      "x.size(1) is:99\n"
     ]
    },
    {
     "name": "stderr",
     "output_type": "stream",
     "text": [
      "\n",
      "\n",
      "\n",
      "\n",
      "loss - 0.6955:   0%|          | 361/196682 [00:26<4:08:24, 13.17it/s]\u001b[A\u001b[A\u001b[A\u001b[A\n",
      "\n",
      "\n",
      "\n",
      "loss - 0.6955:   0%|          | 363/196682 [00:26<4:07:02, 13.24it/s]\u001b[A\u001b[A\u001b[A\u001b[A\n",
      "\n",
      "\n",
      "\n",
      "loss - 0.3174:   0%|          | 363/196682 [00:26<4:07:02, 13.24it/s]\u001b[A\u001b[A\u001b[A\u001b[A\n",
      "\n",
      "\n",
      "\n",
      "loss - 0.4231:   0%|          | 363/196682 [00:26<4:07:02, 13.24it/s]\u001b[A\u001b[A\u001b[A\u001b[A\n",
      "\n",
      "\n",
      "\n",
      "loss - 0.4231:   0%|          | 365/196682 [00:26<4:06:44, 13.26it/s]\u001b[A\u001b[A\u001b[A\u001b[A"
     ]
    },
    {
     "name": "stdout",
     "output_type": "stream",
     "text": [
      "x.size(1) is:99\n",
      "x.size(1) is:99\n",
      "x.size(1) is:99\n"
     ]
    },
    {
     "name": "stderr",
     "output_type": "stream",
     "text": [
      "\n",
      "\n",
      "\n",
      "\n",
      "loss - 0.5435:   0%|          | 365/196682 [00:26<4:06:44, 13.26it/s]\u001b[A\u001b[A\u001b[A\u001b[A\n",
      "\n",
      "\n",
      "\n",
      "loss - 0.6239:   0%|          | 365/196682 [00:26<4:06:44, 13.26it/s]\u001b[A\u001b[A\u001b[A\u001b[A\n",
      "\n",
      "\n",
      "\n",
      "loss - 0.6239:   0%|          | 367/196682 [00:26<4:05:30, 13.33it/s]\u001b[A\u001b[A\u001b[A\u001b[A\n",
      "\n",
      "\n",
      "\n",
      "loss - 0.3704:   0%|          | 367/196682 [00:26<4:05:30, 13.33it/s]\u001b[A\u001b[A\u001b[A\u001b[A"
     ]
    },
    {
     "name": "stdout",
     "output_type": "stream",
     "text": [
      "x.size(1) is:99\n",
      "x.size(1) is:99\n",
      "x.size(1) is:99\n"
     ]
    },
    {
     "name": "stderr",
     "output_type": "stream",
     "text": [
      "\n",
      "\n",
      "\n",
      "\n",
      "loss - 0.3365:   0%|          | 367/196682 [00:26<4:05:30, 13.33it/s]\u001b[A\u001b[A\u001b[A\u001b[A\n",
      "\n",
      "\n",
      "\n",
      "loss - 0.3365:   0%|          | 369/196682 [00:26<4:06:51, 13.25it/s]\u001b[A\u001b[A\u001b[A\u001b[A\n",
      "\n",
      "\n",
      "\n",
      "loss - 0.3421:   0%|          | 369/196682 [00:26<4:06:51, 13.25it/s]\u001b[A\u001b[A\u001b[A\u001b[A\n",
      "\n",
      "\n",
      "\n",
      "loss - 0.0976:   0%|          | 369/196682 [00:26<4:06:51, 13.25it/s]\u001b[A\u001b[A\u001b[A\u001b[A\n",
      "\n",
      "\n",
      "\n",
      "loss - 0.0976:   0%|          | 371/196682 [00:26<4:08:17, 13.18it/s]\u001b[A\u001b[A\u001b[A\u001b[A"
     ]
    },
    {
     "name": "stdout",
     "output_type": "stream",
     "text": [
      "x.size(1) is:99\n",
      "x.size(1) is:99\n",
      "x.size(1) is:99\n"
     ]
    },
    {
     "name": "stderr",
     "output_type": "stream",
     "text": [
      "\n",
      "\n",
      "\n",
      "\n",
      "loss - 0.3559:   0%|          | 371/196682 [00:26<4:08:17, 13.18it/s]\u001b[A\u001b[A\u001b[A\u001b[A\n",
      "\n",
      "\n",
      "\n",
      "loss - 0.6025:   0%|          | 371/196682 [00:26<4:08:17, 13.18it/s]\u001b[A\u001b[A\u001b[A\u001b[A\n",
      "\n",
      "\n",
      "\n",
      "loss - 0.6025:   0%|          | 373/196682 [00:26<4:07:10, 13.24it/s]\u001b[A\u001b[A\u001b[A\u001b[A\n",
      "\n",
      "\n",
      "\n",
      "loss - 0.1168:   0%|          | 373/196682 [00:26<4:07:10, 13.24it/s]\u001b[A\u001b[A\u001b[A\u001b[A"
     ]
    },
    {
     "name": "stdout",
     "output_type": "stream",
     "text": [
      "x.size(1) is:99\n",
      "x.size(1) is:99\n",
      "x.size(1) is:99\n"
     ]
    },
    {
     "name": "stderr",
     "output_type": "stream",
     "text": [
      "\n",
      "\n",
      "\n",
      "\n",
      "loss - 0.3975:   0%|          | 373/196682 [00:27<4:07:10, 13.24it/s]\u001b[A\u001b[A\u001b[A\u001b[A\n",
      "\n",
      "\n",
      "\n",
      "loss - 0.3975:   0%|          | 375/196682 [00:27<4:05:27, 13.33it/s]\u001b[A\u001b[A\u001b[A\u001b[A\n",
      "\n",
      "\n",
      "\n",
      "loss - 0.6351:   0%|          | 375/196682 [00:27<4:05:27, 13.33it/s]\u001b[A\u001b[A\u001b[A\u001b[A\n",
      "\n",
      "\n",
      "\n",
      "loss - 0.5585:   0%|          | 375/196682 [00:27<4:05:27, 13.33it/s]\u001b[A\u001b[A\u001b[A\u001b[A\n",
      "\n",
      "\n",
      "\n",
      "loss - 0.5585:   0%|          | 377/196682 [00:27<4:13:46, 12.89it/s]\u001b[A\u001b[A\u001b[A\u001b[A"
     ]
    },
    {
     "name": "stdout",
     "output_type": "stream",
     "text": [
      "x.size(1) is:99\n",
      "x.size(1) is:99\n",
      "x.size(1) is:99\n"
     ]
    },
    {
     "name": "stderr",
     "output_type": "stream",
     "text": [
      "\n",
      "\n",
      "\n",
      "\n",
      "loss - 0.1668:   0%|          | 377/196682 [00:27<4:13:46, 12.89it/s]\u001b[A\u001b[A\u001b[A\u001b[A\n",
      "\n",
      "\n",
      "\n",
      "loss - 0.3778:   0%|          | 377/196682 [00:27<4:13:46, 12.89it/s]\u001b[A\u001b[A\u001b[A\u001b[A\n",
      "\n",
      "\n",
      "\n",
      "loss - 0.3778:   0%|          | 379/196682 [00:27<4:23:55, 12.40it/s]\u001b[A\u001b[A\u001b[A\u001b[A\n",
      "\n",
      "\n",
      "\n",
      "loss - 0.0895:   0%|          | 379/196682 [00:27<4:23:55, 12.40it/s]\u001b[A\u001b[A\u001b[A\u001b[A"
     ]
    },
    {
     "name": "stdout",
     "output_type": "stream",
     "text": [
      "x.size(1) is:99\n",
      "x.size(1) is:99\n",
      "x.size(1) is:99\n"
     ]
    },
    {
     "name": "stderr",
     "output_type": "stream",
     "text": [
      "\n",
      "\n",
      "\n",
      "\n",
      "loss - 0.1374:   0%|          | 379/196682 [00:27<4:23:55, 12.40it/s]\u001b[A\u001b[A\u001b[A\u001b[A\n",
      "\n",
      "\n",
      "\n",
      "loss - 0.1374:   0%|          | 381/196682 [00:27<4:19:06, 12.63it/s]\u001b[A\u001b[A\u001b[A\u001b[A\n",
      "\n",
      "\n",
      "\n",
      "loss - 0.0996:   0%|          | 381/196682 [00:27<4:19:06, 12.63it/s]\u001b[A\u001b[A\u001b[A\u001b[A\n",
      "\n",
      "\n",
      "\n",
      "loss - 0.1063:   0%|          | 381/196682 [00:27<4:19:06, 12.63it/s]\u001b[A\u001b[A\u001b[A\u001b[A\n",
      "\n",
      "\n",
      "\n",
      "loss - 0.1063:   0%|          | 383/196682 [00:27<4:16:31, 12.75it/s]\u001b[A\u001b[A\u001b[A\u001b[A"
     ]
    },
    {
     "name": "stdout",
     "output_type": "stream",
     "text": [
      "x.size(1) is:99\n",
      "x.size(1) is:99\n",
      "x.size(1) is:99\n"
     ]
    },
    {
     "name": "stderr",
     "output_type": "stream",
     "text": [
      "\n",
      "\n",
      "\n",
      "\n",
      "loss - 0.1669:   0%|          | 383/196682 [00:27<4:16:31, 12.75it/s]\u001b[A\u001b[A\u001b[A\u001b[A\n",
      "\n",
      "\n",
      "\n",
      "loss - 0.4847:   0%|          | 383/196682 [00:27<4:16:31, 12.75it/s]\u001b[A\u001b[A\u001b[A\u001b[A\n",
      "\n",
      "\n",
      "\n",
      "loss - 0.4847:   0%|          | 385/196682 [00:27<4:13:25, 12.91it/s]\u001b[A\u001b[A\u001b[A\u001b[A\n",
      "\n",
      "\n",
      "\n",
      "loss - 0.0951:   0%|          | 385/196682 [00:27<4:13:25, 12.91it/s]\u001b[A\u001b[A\u001b[A\u001b[A"
     ]
    },
    {
     "name": "stdout",
     "output_type": "stream",
     "text": [
      "x.size(1) is:99\n",
      "x.size(1) is:99\n",
      "x.size(1) is:99\n"
     ]
    },
    {
     "name": "stderr",
     "output_type": "stream",
     "text": [
      "\n",
      "\n",
      "\n",
      "\n",
      "loss - 0.3166:   0%|          | 385/196682 [00:27<4:13:25, 12.91it/s]\u001b[A\u001b[A\u001b[A\u001b[A\n",
      "\n",
      "\n",
      "\n",
      "loss - 0.3166:   0%|          | 387/196682 [00:27<4:11:08, 13.03it/s]\u001b[A\u001b[A\u001b[A\u001b[A\n",
      "\n",
      "\n",
      "\n",
      "loss - 0.2528:   0%|          | 387/196682 [00:28<4:11:08, 13.03it/s]\u001b[A\u001b[A\u001b[A\u001b[A\n",
      "\n",
      "\n",
      "\n",
      "loss - 0.2240:   0%|          | 387/196682 [00:28<4:11:08, 13.03it/s]\u001b[A\u001b[A\u001b[A\u001b[A\n",
      "\n",
      "\n",
      "\n",
      "loss - 0.2240:   0%|          | 389/196682 [00:28<4:10:20, 13.07it/s]\u001b[A\u001b[A\u001b[A\u001b[A"
     ]
    },
    {
     "name": "stdout",
     "output_type": "stream",
     "text": [
      "x.size(1) is:99\n",
      "x.size(1) is:99\n",
      "x.size(1) is:99\n"
     ]
    },
    {
     "name": "stderr",
     "output_type": "stream",
     "text": [
      "\n",
      "\n",
      "\n",
      "\n",
      "loss - 0.2693:   0%|          | 389/196682 [00:28<4:10:20, 13.07it/s]\u001b[A\u001b[A\u001b[A\u001b[A\n",
      "\n",
      "\n",
      "\n",
      "loss - 0.3446:   0%|          | 389/196682 [00:28<4:10:20, 13.07it/s]\u001b[A\u001b[A\u001b[A\u001b[A\n",
      "\n",
      "\n",
      "\n",
      "loss - 0.3446:   0%|          | 391/196682 [00:28<4:10:11, 13.08it/s]\u001b[A\u001b[A\u001b[A\u001b[A\n",
      "\n",
      "\n",
      "\n",
      "loss - 0.2733:   0%|          | 391/196682 [00:28<4:10:11, 13.08it/s]\u001b[A\u001b[A\u001b[A\u001b[A"
     ]
    },
    {
     "name": "stdout",
     "output_type": "stream",
     "text": [
      "x.size(1) is:99\n",
      "x.size(1) is:99\n",
      "x.size(1) is:99\n"
     ]
    },
    {
     "name": "stderr",
     "output_type": "stream",
     "text": [
      "\n",
      "\n",
      "\n",
      "\n",
      "loss - 0.2752:   0%|          | 391/196682 [00:28<4:10:11, 13.08it/s]\u001b[A\u001b[A\u001b[A\u001b[A\n",
      "\n",
      "\n",
      "\n",
      "loss - 0.2752:   0%|          | 393/196682 [00:28<4:11:47, 12.99it/s]\u001b[A\u001b[A\u001b[A\u001b[A\n",
      "\n",
      "\n",
      "\n",
      "loss - 0.3621:   0%|          | 393/196682 [00:28<4:11:47, 12.99it/s]\u001b[A\u001b[A\u001b[A\u001b[A\n",
      "\n",
      "\n",
      "\n",
      "loss - 0.1095:   0%|          | 393/196682 [00:28<4:11:47, 12.99it/s]\u001b[A\u001b[A\u001b[A\u001b[A\n",
      "\n",
      "\n",
      "\n",
      "loss - 0.1095:   0%|          | 395/196682 [00:28<4:14:56, 12.83it/s]\u001b[A\u001b[A\u001b[A\u001b[A"
     ]
    },
    {
     "name": "stdout",
     "output_type": "stream",
     "text": [
      "x.size(1) is:99\n",
      "x.size(1) is:99\n",
      "x.size(1) is:99\n"
     ]
    },
    {
     "name": "stderr",
     "output_type": "stream",
     "text": [
      "\n",
      "\n",
      "\n",
      "\n",
      "loss - 0.5381:   0%|          | 395/196682 [00:28<4:14:56, 12.83it/s]\u001b[A\u001b[A\u001b[A\u001b[A\n",
      "\n",
      "\n",
      "\n",
      "loss - 0.4732:   0%|          | 395/196682 [00:28<4:14:56, 12.83it/s]\u001b[A\u001b[A\u001b[A\u001b[A\n",
      "\n",
      "\n",
      "\n",
      "loss - 0.4732:   0%|          | 397/196682 [00:28<4:12:44, 12.94it/s]\u001b[A\u001b[A\u001b[A\u001b[A\n",
      "\n",
      "\n",
      "\n",
      "loss - 0.3932:   0%|          | 397/196682 [00:28<4:12:44, 12.94it/s]\u001b[A\u001b[A\u001b[A\u001b[A"
     ]
    },
    {
     "name": "stdout",
     "output_type": "stream",
     "text": [
      "x.size(1) is:99\n",
      "x.size(1) is:99\n",
      "x.size(1) is:99\n"
     ]
    },
    {
     "name": "stderr",
     "output_type": "stream",
     "text": [
      "\n",
      "\n",
      "\n",
      "\n",
      "loss - 0.2794:   0%|          | 397/196682 [00:28<4:12:44, 12.94it/s]\u001b[A\u001b[A\u001b[A\u001b[A\n",
      "\n",
      "\n",
      "\n",
      "loss - 0.2794:   0%|          | 399/196682 [00:28<4:10:37, 13.05it/s]\u001b[A\u001b[A\u001b[A\u001b[A\n",
      "\n",
      "\n",
      "\n",
      "loss - 0.1839:   0%|          | 399/196682 [00:28<4:10:37, 13.05it/s]\u001b[A\u001b[A\u001b[A\u001b[A\n",
      "\n",
      "\n",
      "\n",
      "loss - 0.1318:   0%|          | 399/196682 [00:29<4:10:37, 13.05it/s]\u001b[A\u001b[A\u001b[A\u001b[A\n",
      "\n",
      "\n",
      "\n",
      "loss - 0.1318:   0%|          | 401/196682 [00:29<4:10:15, 13.07it/s]\u001b[A\u001b[A\u001b[A\u001b[A"
     ]
    },
    {
     "name": "stdout",
     "output_type": "stream",
     "text": [
      "x.size(1) is:99\n",
      "x.size(1) is:99\n",
      "x.size(1) is:99\n"
     ]
    },
    {
     "name": "stderr",
     "output_type": "stream",
     "text": [
      "\n",
      "\n",
      "\n",
      "\n",
      "loss - 0.3789:   0%|          | 401/196682 [00:29<4:10:15, 13.07it/s]\u001b[A\u001b[A\u001b[A\u001b[A\n",
      "\n",
      "\n",
      "\n",
      "loss - 0.6314:   0%|          | 401/196682 [00:29<4:10:15, 13.07it/s]\u001b[A\u001b[A\u001b[A\u001b[A\n",
      "\n",
      "\n",
      "\n",
      "loss - 0.6314:   0%|          | 403/196682 [00:29<4:16:18, 12.76it/s]\u001b[A\u001b[A\u001b[A\u001b[A\n",
      "\n",
      "\n",
      "\n",
      "loss - 0.3267:   0%|          | 403/196682 [00:29<4:16:18, 12.76it/s]\u001b[A\u001b[A\u001b[A\u001b[A"
     ]
    },
    {
     "name": "stdout",
     "output_type": "stream",
     "text": [
      "x.size(1) is:99\n",
      "x.size(1) is:99\n",
      "x.size(1) is:99\n"
     ]
    },
    {
     "name": "stderr",
     "output_type": "stream",
     "text": [
      "\n",
      "\n",
      "\n",
      "\n",
      "loss - 0.3026:   0%|          | 403/196682 [00:29<4:16:18, 12.76it/s]\u001b[A\u001b[A\u001b[A\u001b[A\n",
      "\n",
      "\n",
      "\n",
      "loss - 0.3026:   0%|          | 405/196682 [00:29<4:19:07, 12.62it/s]\u001b[A\u001b[A\u001b[A\u001b[A\n",
      "\n",
      "\n",
      "\n",
      "loss - 0.1079:   0%|          | 405/196682 [00:29<4:19:07, 12.62it/s]\u001b[A\u001b[A\u001b[A\u001b[A\n",
      "\n",
      "\n",
      "\n",
      "loss - 0.2823:   0%|          | 405/196682 [00:29<4:19:07, 12.62it/s]\u001b[A\u001b[A\u001b[A\u001b[A\n",
      "\n",
      "\n",
      "\n",
      "loss - 0.2823:   0%|          | 407/196682 [00:29<4:16:37, 12.75it/s]\u001b[A\u001b[A\u001b[A\u001b[A"
     ]
    },
    {
     "name": "stdout",
     "output_type": "stream",
     "text": [
      "x.size(1) is:99\n",
      "x.size(1) is:99\n",
      "x.size(1) is:99\n"
     ]
    },
    {
     "name": "stderr",
     "output_type": "stream",
     "text": [
      "\n",
      "\n",
      "\n",
      "\n",
      "loss - 0.6341:   0%|          | 407/196682 [00:29<4:16:37, 12.75it/s]\u001b[A\u001b[A\u001b[A\u001b[A\n",
      "\n",
      "\n",
      "\n",
      "loss - 0.3651:   0%|          | 407/196682 [00:29<4:16:37, 12.75it/s]\u001b[A\u001b[A\u001b[A\u001b[A\n",
      "\n",
      "\n",
      "\n",
      "loss - 0.3651:   0%|          | 409/196682 [00:29<4:17:49, 12.69it/s]\u001b[A\u001b[A\u001b[A\u001b[A\n",
      "\n",
      "\n",
      "\n",
      "loss - 0.3159:   0%|          | 409/196682 [00:29<4:17:49, 12.69it/s]\u001b[A\u001b[A\u001b[A\u001b[A"
     ]
    },
    {
     "name": "stdout",
     "output_type": "stream",
     "text": [
      "x.size(1) is:99\n",
      "x.size(1) is:99\n",
      "x.size(1) is:99\n"
     ]
    },
    {
     "name": "stderr",
     "output_type": "stream",
     "text": [
      "\n",
      "\n",
      "\n",
      "\n",
      "loss - 0.4131:   0%|          | 409/196682 [00:29<4:17:49, 12.69it/s]\u001b[A\u001b[A\u001b[A\u001b[A\n",
      "\n",
      "\n",
      "\n",
      "loss - 0.4131:   0%|          | 411/196682 [00:29<4:16:26, 12.76it/s]\u001b[A\u001b[A\u001b[A\u001b[A\n",
      "\n",
      "\n",
      "\n",
      "loss - 0.3437:   0%|          | 411/196682 [00:29<4:16:26, 12.76it/s]\u001b[A\u001b[A\u001b[A\u001b[A\n",
      "\n",
      "\n",
      "\n",
      "loss - 0.3958:   0%|          | 411/196682 [00:30<4:16:26, 12.76it/s]\u001b[A\u001b[A\u001b[A\u001b[A\n",
      "\n",
      "\n",
      "\n",
      "loss - 0.3958:   0%|          | 413/196682 [00:30<4:17:06, 12.72it/s]\u001b[A\u001b[A\u001b[A\u001b[A"
     ]
    },
    {
     "name": "stdout",
     "output_type": "stream",
     "text": [
      "x.size(1) is:99\n",
      "x.size(1) is:99\n",
      "x.size(1) is:99\n"
     ]
    },
    {
     "name": "stderr",
     "output_type": "stream",
     "text": [
      "\n",
      "\n",
      "\n",
      "\n",
      "loss - 0.3473:   0%|          | 413/196682 [00:30<4:17:06, 12.72it/s]\u001b[A\u001b[A\u001b[A\u001b[A\n",
      "\n",
      "\n",
      "\n",
      "loss - 0.3465:   0%|          | 413/196682 [00:30<4:17:06, 12.72it/s]\u001b[A\u001b[A\u001b[A\u001b[A\n",
      "\n",
      "\n",
      "\n",
      "loss - 0.3465:   0%|          | 415/196682 [00:30<4:18:41, 12.65it/s]\u001b[A\u001b[A\u001b[A\u001b[A\n",
      "\n",
      "\n",
      "\n",
      "loss - 0.1505:   0%|          | 415/196682 [00:30<4:18:41, 12.65it/s]\u001b[A\u001b[A\u001b[A\u001b[A"
     ]
    },
    {
     "name": "stdout",
     "output_type": "stream",
     "text": [
      "x.size(1) is:99\n",
      "x.size(1) is:99\n",
      "x.size(1) is:99\n"
     ]
    },
    {
     "name": "stderr",
     "output_type": "stream",
     "text": [
      "\n",
      "\n",
      "\n",
      "\n",
      "loss - 0.3032:   0%|          | 415/196682 [00:30<4:18:41, 12.65it/s]\u001b[A\u001b[A\u001b[A\u001b[A\n",
      "\n",
      "\n",
      "\n",
      "loss - 0.3032:   0%|          | 417/196682 [00:30<4:17:22, 12.71it/s]\u001b[A\u001b[A\u001b[A\u001b[A\n",
      "\n",
      "\n",
      "\n",
      "loss - 0.0623:   0%|          | 417/196682 [00:30<4:17:22, 12.71it/s]\u001b[A\u001b[A\u001b[A\u001b[A\n",
      "\n",
      "\n",
      "\n",
      "loss - 0.3820:   0%|          | 417/196682 [00:30<4:17:22, 12.71it/s]\u001b[A\u001b[A\u001b[A\u001b[A\n",
      "\n",
      "\n",
      "\n",
      "loss - 0.3820:   0%|          | 419/196682 [00:30<4:18:22, 12.66it/s]\u001b[A\u001b[A\u001b[A\u001b[A"
     ]
    },
    {
     "name": "stdout",
     "output_type": "stream",
     "text": [
      "x.size(1) is:99\n",
      "x.size(1) is:99\n",
      "x.size(1) is:99\n"
     ]
    },
    {
     "name": "stderr",
     "output_type": "stream",
     "text": [
      "\n",
      "\n",
      "\n",
      "\n",
      "loss - 0.3648:   0%|          | 419/196682 [00:30<4:18:22, 12.66it/s]\u001b[A\u001b[A\u001b[A\u001b[A\n",
      "\n",
      "\n",
      "\n",
      "loss - 0.0983:   0%|          | 419/196682 [00:30<4:18:22, 12.66it/s]\u001b[A\u001b[A\u001b[A\u001b[A\n",
      "\n",
      "\n",
      "\n",
      "loss - 0.0983:   0%|          | 421/196682 [00:30<4:17:31, 12.70it/s]\u001b[A\u001b[A\u001b[A\u001b[A\n",
      "\n",
      "\n",
      "\n",
      "loss - 0.6448:   0%|          | 421/196682 [00:30<4:17:31, 12.70it/s]\u001b[A\u001b[A\u001b[A\u001b[A"
     ]
    },
    {
     "name": "stdout",
     "output_type": "stream",
     "text": [
      "x.size(1) is:99\n",
      "x.size(1) is:99\n",
      "x.size(1) is:99\n"
     ]
    },
    {
     "name": "stderr",
     "output_type": "stream",
     "text": [
      "\n",
      "\n",
      "\n",
      "\n",
      "loss - 0.1980:   0%|          | 421/196682 [00:30<4:17:31, 12.70it/s]\u001b[A\u001b[A\u001b[A\u001b[A\n",
      "\n",
      "\n",
      "\n",
      "loss - 0.1980:   0%|          | 423/196682 [00:30<4:17:56, 12.68it/s]\u001b[A\u001b[A\u001b[A\u001b[A\n",
      "\n",
      "\n",
      "\n",
      "loss - 0.5330:   0%|          | 423/196682 [00:30<4:17:56, 12.68it/s]\u001b[A\u001b[A\u001b[A\u001b[A\n",
      "\n",
      "\n",
      "\n",
      "loss - 0.2251:   0%|          | 423/196682 [00:30<4:17:56, 12.68it/s]\u001b[A\u001b[A\u001b[A\u001b[A\n",
      "\n",
      "\n",
      "\n",
      "loss - 0.2251:   0%|          | 425/196682 [00:30<4:15:53, 12.78it/s]\u001b[A\u001b[A\u001b[A\u001b[A"
     ]
    },
    {
     "name": "stdout",
     "output_type": "stream",
     "text": [
      "x.size(1) is:99\n",
      "x.size(1) is:99\n",
      "x.size(1) is:99\n"
     ]
    },
    {
     "name": "stderr",
     "output_type": "stream",
     "text": [
      "\n",
      "\n",
      "\n",
      "\n",
      "loss - 0.4165:   0%|          | 425/196682 [00:31<4:15:53, 12.78it/s]\u001b[A\u001b[A\u001b[A\u001b[A\n",
      "\n",
      "\n",
      "\n",
      "loss - 0.3986:   0%|          | 425/196682 [00:31<4:15:53, 12.78it/s]\u001b[A\u001b[A\u001b[A\u001b[A\n",
      "\n",
      "\n",
      "\n",
      "loss - 0.3986:   0%|          | 427/196682 [00:31<4:14:00, 12.88it/s]\u001b[A\u001b[A\u001b[A\u001b[A\n",
      "\n",
      "\n",
      "\n",
      "loss - 0.1201:   0%|          | 427/196682 [00:31<4:14:00, 12.88it/s]\u001b[A\u001b[A\u001b[A\u001b[A"
     ]
    },
    {
     "name": "stdout",
     "output_type": "stream",
     "text": [
      "x.size(1) is:99\n",
      "x.size(1) is:99\n",
      "x.size(1) is:99\n"
     ]
    },
    {
     "name": "stderr",
     "output_type": "stream",
     "text": [
      "\n",
      "\n",
      "\n",
      "\n",
      "loss - 0.0864:   0%|          | 427/196682 [00:31<4:14:00, 12.88it/s]\u001b[A\u001b[A\u001b[A\u001b[A\n",
      "\n",
      "\n",
      "\n",
      "loss - 0.0864:   0%|          | 429/196682 [00:31<4:12:55, 12.93it/s]\u001b[A\u001b[A\u001b[A\u001b[A\n",
      "\n",
      "\n",
      "\n",
      "loss - 0.3481:   0%|          | 429/196682 [00:31<4:12:55, 12.93it/s]\u001b[A\u001b[A\u001b[A\u001b[A\n",
      "\n",
      "\n",
      "\n",
      "loss - 0.3117:   0%|          | 429/196682 [00:31<4:12:55, 12.93it/s]\u001b[A\u001b[A\u001b[A\u001b[A\n",
      "\n",
      "\n",
      "\n",
      "loss - 0.3117:   0%|          | 431/196682 [00:31<4:29:04, 12.16it/s]\u001b[A\u001b[A\u001b[A\u001b[A"
     ]
    },
    {
     "name": "stdout",
     "output_type": "stream",
     "text": [
      "x.size(1) is:99\n",
      "x.size(1) is:99\n",
      "x.size(1) is:99\n"
     ]
    },
    {
     "name": "stderr",
     "output_type": "stream",
     "text": [
      "\n",
      "\n",
      "\n",
      "\n",
      "loss - 0.1316:   0%|          | 431/196682 [00:31<4:29:04, 12.16it/s]\u001b[A\u001b[A\u001b[A\u001b[A\n",
      "\n",
      "\n",
      "\n",
      "loss - 0.4817:   0%|          | 431/196682 [00:31<4:29:04, 12.16it/s]\u001b[A\u001b[A\u001b[A\u001b[A\n",
      "\n",
      "\n",
      "\n",
      "loss - 0.4817:   0%|          | 433/196682 [00:31<4:33:04, 11.98it/s]\u001b[A\u001b[A\u001b[A\u001b[A\n",
      "\n",
      "\n",
      "\n",
      "loss - 0.3098:   0%|          | 433/196682 [00:31<4:33:04, 11.98it/s]\u001b[A\u001b[A\u001b[A\u001b[A"
     ]
    },
    {
     "name": "stdout",
     "output_type": "stream",
     "text": [
      "x.size(1) is:99\n",
      "x.size(1) is:99\n",
      "x.size(1) is:99\n"
     ]
    },
    {
     "name": "stderr",
     "output_type": "stream",
     "text": [
      "\n",
      "\n",
      "\n",
      "\n",
      "loss - 0.0950:   0%|          | 433/196682 [00:31<4:33:04, 11.98it/s]\u001b[A\u001b[A\u001b[A\u001b[A\n",
      "\n",
      "\n",
      "\n",
      "loss - 0.0950:   0%|          | 435/196682 [00:31<4:29:54, 12.12it/s]\u001b[A\u001b[A\u001b[A\u001b[A\n",
      "\n",
      "\n",
      "\n",
      "loss - 0.5132:   0%|          | 435/196682 [00:31<4:29:54, 12.12it/s]\u001b[A\u001b[A\u001b[A\u001b[A\n",
      "\n",
      "\n",
      "\n",
      "loss - 0.3457:   0%|          | 435/196682 [00:31<4:29:54, 12.12it/s]\u001b[A\u001b[A\u001b[A\u001b[A\n",
      "\n",
      "\n",
      "\n",
      "loss - 0.3457:   0%|          | 437/196682 [00:31<4:26:28, 12.27it/s]\u001b[A\u001b[A\u001b[A\u001b[A"
     ]
    },
    {
     "name": "stdout",
     "output_type": "stream",
     "text": [
      "x.size(1) is:99\n",
      "x.size(1) is:99\n",
      "x.size(1) is:99\n"
     ]
    },
    {
     "name": "stderr",
     "output_type": "stream",
     "text": [
      "\n",
      "\n",
      "\n",
      "\n",
      "loss - 0.0469:   0%|          | 437/196682 [00:32<4:26:28, 12.27it/s]\u001b[A\u001b[A\u001b[A\u001b[A\n",
      "\n",
      "\n",
      "\n",
      "loss - 0.1745:   0%|          | 437/196682 [00:32<4:26:28, 12.27it/s]\u001b[A\u001b[A\u001b[A\u001b[A\n",
      "\n",
      "\n",
      "\n",
      "loss - 0.1745:   0%|          | 439/196682 [00:32<4:25:08, 12.34it/s]\u001b[A\u001b[A\u001b[A\u001b[A\n",
      "\n",
      "\n",
      "\n",
      "loss - 0.3400:   0%|          | 439/196682 [00:32<4:25:08, 12.34it/s]\u001b[A\u001b[A\u001b[A\u001b[A"
     ]
    },
    {
     "name": "stdout",
     "output_type": "stream",
     "text": [
      "x.size(1) is:99\n",
      "x.size(1) is:99\n",
      "x.size(1) is:99\n"
     ]
    },
    {
     "name": "stderr",
     "output_type": "stream",
     "text": [
      "\n",
      "\n",
      "\n",
      "\n",
      "loss - 0.4540:   0%|          | 439/196682 [00:32<4:25:08, 12.34it/s]\u001b[A\u001b[A\u001b[A\u001b[A\n",
      "\n",
      "\n",
      "\n",
      "loss - 0.4540:   0%|          | 441/196682 [00:32<4:22:11, 12.47it/s]\u001b[A\u001b[A\u001b[A\u001b[A\n",
      "\n",
      "\n",
      "\n",
      "loss - 0.2170:   0%|          | 441/196682 [00:32<4:22:11, 12.47it/s]\u001b[A\u001b[A\u001b[A\u001b[A\n",
      "\n",
      "\n",
      "\n",
      "loss - 0.1446:   0%|          | 441/196682 [00:32<4:22:11, 12.47it/s]\u001b[A\u001b[A\u001b[A\u001b[A\n",
      "\n",
      "\n",
      "\n",
      "loss - 0.1446:   0%|          | 443/196682 [00:32<4:21:34, 12.50it/s]\u001b[A\u001b[A\u001b[A\u001b[A"
     ]
    },
    {
     "name": "stdout",
     "output_type": "stream",
     "text": [
      "x.size(1) is:99\n",
      "x.size(1) is:99\n",
      "x.size(1) is:99\n"
     ]
    },
    {
     "name": "stderr",
     "output_type": "stream",
     "text": [
      "\n",
      "\n",
      "\n",
      "\n",
      "loss - 0.0925:   0%|          | 443/196682 [00:32<4:21:34, 12.50it/s]\u001b[A\u001b[A\u001b[A\u001b[A\n",
      "\n",
      "\n",
      "\n",
      "loss - 0.1714:   0%|          | 443/196682 [00:32<4:21:34, 12.50it/s]\u001b[A\u001b[A\u001b[A\u001b[A\n",
      "\n",
      "\n",
      "\n",
      "loss - 0.1714:   0%|          | 445/196682 [00:32<4:22:52, 12.44it/s]\u001b[A\u001b[A\u001b[A\u001b[A\n",
      "\n",
      "\n",
      "\n",
      "loss - 0.2785:   0%|          | 445/196682 [00:32<4:22:52, 12.44it/s]\u001b[A\u001b[A\u001b[A\u001b[A"
     ]
    },
    {
     "name": "stdout",
     "output_type": "stream",
     "text": [
      "x.size(1) is:99\n",
      "x.size(1) is:99\n",
      "x.size(1) is:99\n"
     ]
    },
    {
     "name": "stderr",
     "output_type": "stream",
     "text": [
      "\n",
      "\n",
      "\n",
      "\n",
      "loss - 0.3719:   0%|          | 445/196682 [00:32<4:22:52, 12.44it/s]\u001b[A\u001b[A\u001b[A\u001b[A\n",
      "\n",
      "\n",
      "\n",
      "loss - 0.3719:   0%|          | 447/196682 [00:32<4:28:27, 12.18it/s]\u001b[A\u001b[A\u001b[A\u001b[A\n",
      "\n",
      "\n",
      "\n",
      "loss - 0.2884:   0%|          | 447/196682 [00:32<4:28:27, 12.18it/s]\u001b[A\u001b[A\u001b[A\u001b[A\n",
      "\n",
      "\n",
      "\n",
      "loss - 0.6790:   0%|          | 447/196682 [00:32<4:28:27, 12.18it/s]\u001b[A\u001b[A\u001b[A\u001b[A\n",
      "\n",
      "\n",
      "\n",
      "loss - 0.6790:   0%|          | 449/196682 [00:32<4:24:34, 12.36it/s]\u001b[A\u001b[A\u001b[A\u001b[A"
     ]
    },
    {
     "name": "stdout",
     "output_type": "stream",
     "text": [
      "x.size(1) is:99\n",
      "x.size(1) is:99\n",
      "x.size(1) is:99\n"
     ]
    },
    {
     "name": "stderr",
     "output_type": "stream",
     "text": [
      "\n",
      "\n",
      "\n",
      "\n",
      "loss - 0.2162:   0%|          | 449/196682 [00:32<4:24:34, 12.36it/s]\u001b[A\u001b[A\u001b[A\u001b[A\n",
      "\n",
      "\n",
      "\n",
      "loss - 0.1069:   0%|          | 449/196682 [00:33<4:24:34, 12.36it/s]\u001b[A\u001b[A\u001b[A\u001b[A\n",
      "\n",
      "\n",
      "\n",
      "loss - 0.1069:   0%|          | 451/196682 [00:33<4:25:16, 12.33it/s]\u001b[A\u001b[A\u001b[A\u001b[A\n",
      "\n",
      "\n",
      "\n",
      "loss - 0.6589:   0%|          | 451/196682 [00:33<4:25:16, 12.33it/s]\u001b[A\u001b[A\u001b[A\u001b[A"
     ]
    },
    {
     "name": "stdout",
     "output_type": "stream",
     "text": [
      "x.size(1) is:99\n",
      "x.size(1) is:99\n",
      "x.size(1) is:99\n"
     ]
    },
    {
     "name": "stderr",
     "output_type": "stream",
     "text": [
      "\n",
      "\n",
      "\n",
      "\n",
      "loss - 0.3006:   0%|          | 451/196682 [00:33<4:25:16, 12.33it/s]\u001b[A\u001b[A\u001b[A\u001b[A\n",
      "\n",
      "\n",
      "\n",
      "loss - 0.3006:   0%|          | 453/196682 [00:33<4:20:04, 12.58it/s]\u001b[A\u001b[A\u001b[A\u001b[A\n",
      "\n",
      "\n",
      "\n",
      "loss - 0.2672:   0%|          | 453/196682 [00:33<4:20:04, 12.58it/s]\u001b[A\u001b[A\u001b[A\u001b[A\n",
      "\n",
      "\n",
      "\n",
      "loss - 0.3715:   0%|          | 453/196682 [00:33<4:20:04, 12.58it/s]\u001b[A\u001b[A\u001b[A\u001b[A\n",
      "\n",
      "\n",
      "\n",
      "loss - 0.3715:   0%|          | 455/196682 [00:33<4:19:51, 12.59it/s]\u001b[A\u001b[A\u001b[A\u001b[A"
     ]
    },
    {
     "name": "stdout",
     "output_type": "stream",
     "text": [
      "x.size(1) is:99\n",
      "x.size(1) is:99\n",
      "x.size(1) is:99\n"
     ]
    },
    {
     "name": "stderr",
     "output_type": "stream",
     "text": [
      "\n",
      "\n",
      "\n",
      "\n",
      "loss - 0.2852:   0%|          | 455/196682 [00:33<4:19:51, 12.59it/s]\u001b[A\u001b[A\u001b[A\u001b[A\n",
      "\n",
      "\n",
      "\n",
      "loss - 0.6889:   0%|          | 455/196682 [00:33<4:19:51, 12.59it/s]\u001b[A\u001b[A\u001b[A\u001b[A\n",
      "\n",
      "\n",
      "\n",
      "loss - 0.6889:   0%|          | 457/196682 [00:33<4:27:16, 12.24it/s]\u001b[A\u001b[A\u001b[A\u001b[A\n",
      "\n",
      "\n",
      "\n",
      "loss - 0.4118:   0%|          | 457/196682 [00:33<4:27:16, 12.24it/s]\u001b[A\u001b[A\u001b[A\u001b[A"
     ]
    },
    {
     "name": "stdout",
     "output_type": "stream",
     "text": [
      "x.size(1) is:99\n",
      "x.size(1) is:99\n",
      "x.size(1) is:99\n"
     ]
    },
    {
     "name": "stderr",
     "output_type": "stream",
     "text": [
      "\n",
      "\n",
      "\n",
      "\n",
      "loss - 0.3491:   0%|          | 457/196682 [00:33<4:27:16, 12.24it/s]\u001b[A\u001b[A\u001b[A\u001b[A\n",
      "\n",
      "\n",
      "\n",
      "loss - 0.3491:   0%|          | 459/196682 [00:33<4:26:20, 12.28it/s]\u001b[A\u001b[A\u001b[A\u001b[A\n",
      "\n",
      "\n",
      "\n",
      "loss - 0.2466:   0%|          | 459/196682 [00:33<4:26:20, 12.28it/s]\u001b[A\u001b[A\u001b[A\u001b[A\n",
      "\n",
      "\n",
      "\n",
      "loss - 0.6312:   0%|          | 459/196682 [00:33<4:26:20, 12.28it/s]\u001b[A\u001b[A\u001b[A\u001b[A\n",
      "\n",
      "\n",
      "\n",
      "loss - 0.6312:   0%|          | 461/196682 [00:33<4:21:49, 12.49it/s]\u001b[A\u001b[A\u001b[A\u001b[A"
     ]
    },
    {
     "name": "stdout",
     "output_type": "stream",
     "text": [
      "x.size(1) is:99\n",
      "x.size(1) is:99\n",
      "x.size(1) is:99\n"
     ]
    },
    {
     "name": "stderr",
     "output_type": "stream",
     "text": [
      "\n",
      "\n",
      "\n",
      "\n",
      "loss - 0.3489:   0%|          | 461/196682 [00:33<4:21:49, 12.49it/s]\u001b[A\u001b[A\u001b[A\u001b[A\n",
      "\n",
      "\n",
      "\n",
      "loss - 0.3877:   0%|          | 461/196682 [00:34<4:21:49, 12.49it/s]\u001b[A\u001b[A\u001b[A\u001b[A\n",
      "\n",
      "\n",
      "\n",
      "loss - 0.3877:   0%|          | 463/196682 [00:34<4:23:16, 12.42it/s]\u001b[A\u001b[A\u001b[A\u001b[A\n",
      "\n",
      "\n",
      "\n",
      "loss - 0.1124:   0%|          | 463/196682 [00:34<4:23:16, 12.42it/s]\u001b[A\u001b[A\u001b[A\u001b[A"
     ]
    },
    {
     "name": "stdout",
     "output_type": "stream",
     "text": [
      "x.size(1) is:99\n",
      "x.size(1) is:99\n",
      "x.size(1) is:99\n"
     ]
    },
    {
     "name": "stderr",
     "output_type": "stream",
     "text": [
      "\n",
      "\n",
      "\n",
      "\n",
      "loss - 0.3801:   0%|          | 463/196682 [00:34<4:23:16, 12.42it/s]\u001b[A\u001b[A\u001b[A\u001b[A\n",
      "\n",
      "\n",
      "\n",
      "loss - 0.3801:   0%|          | 465/196682 [00:34<4:19:16, 12.61it/s]\u001b[A\u001b[A\u001b[A\u001b[A\n",
      "\n",
      "\n",
      "\n",
      "loss - 0.3786:   0%|          | 465/196682 [00:34<4:19:16, 12.61it/s]\u001b[A\u001b[A\u001b[A\u001b[A\n",
      "\n",
      "\n",
      "\n",
      "loss - 0.2406:   0%|          | 465/196682 [00:34<4:19:16, 12.61it/s]\u001b[A\u001b[A\u001b[A\u001b[A\n",
      "\n",
      "\n",
      "\n",
      "loss - 0.2406:   0%|          | 467/196682 [00:34<4:18:14, 12.66it/s]\u001b[A\u001b[A\u001b[A\u001b[A"
     ]
    },
    {
     "name": "stdout",
     "output_type": "stream",
     "text": [
      "x.size(1) is:99\n",
      "x.size(1) is:99\n",
      "x.size(1) is:99\n"
     ]
    },
    {
     "name": "stderr",
     "output_type": "stream",
     "text": [
      "\n",
      "\n",
      "\n",
      "\n",
      "loss - 0.3488:   0%|          | 467/196682 [00:34<4:18:14, 12.66it/s]\u001b[A\u001b[A\u001b[A\u001b[A\n",
      "\n",
      "\n",
      "\n",
      "loss - 0.1570:   0%|          | 467/196682 [00:34<4:18:14, 12.66it/s]\u001b[A\u001b[A\u001b[A\u001b[A\n",
      "\n",
      "\n",
      "\n",
      "loss - 0.1570:   0%|          | 469/196682 [00:34<4:16:51, 12.73it/s]\u001b[A\u001b[A\u001b[A\u001b[A\n",
      "\n",
      "\n",
      "\n",
      "loss - 0.3758:   0%|          | 469/196682 [00:34<4:16:51, 12.73it/s]\u001b[A\u001b[A\u001b[A\u001b[A"
     ]
    },
    {
     "name": "stdout",
     "output_type": "stream",
     "text": [
      "x.size(1) is:99\n",
      "x.size(1) is:99\n",
      "x.size(1) is:99\n"
     ]
    },
    {
     "name": "stderr",
     "output_type": "stream",
     "text": [
      "\n",
      "\n",
      "\n",
      "\n",
      "loss - 0.3277:   0%|          | 469/196682 [00:34<4:16:51, 12.73it/s]\u001b[A\u001b[A\u001b[A\u001b[A\n",
      "\n",
      "\n",
      "\n",
      "loss - 0.3277:   0%|          | 471/196682 [00:34<4:16:04, 12.77it/s]\u001b[A\u001b[A\u001b[A\u001b[A\n",
      "\n",
      "\n",
      "\n",
      "loss - 0.1076:   0%|          | 471/196682 [00:34<4:16:04, 12.77it/s]\u001b[A\u001b[A\u001b[A\u001b[A\n",
      "\n",
      "\n",
      "\n",
      "loss - 0.2014:   0%|          | 471/196682 [00:34<4:16:04, 12.77it/s]\u001b[A\u001b[A\u001b[A\u001b[A\n",
      "\n",
      "\n",
      "\n",
      "loss - 0.2014:   0%|          | 473/196682 [00:34<4:19:58, 12.58it/s]\u001b[A\u001b[A\u001b[A\u001b[A"
     ]
    },
    {
     "name": "stdout",
     "output_type": "stream",
     "text": [
      "x.size(1) is:99\n",
      "x.size(1) is:99\n",
      "x.size(1) is:99\n"
     ]
    },
    {
     "name": "stderr",
     "output_type": "stream",
     "text": [
      "\n",
      "\n",
      "\n",
      "\n",
      "loss - 0.4298:   0%|          | 473/196682 [00:34<4:19:58, 12.58it/s]\u001b[A\u001b[A\u001b[A\u001b[A\n",
      "\n",
      "\n",
      "\n",
      "loss - 0.6255:   0%|          | 473/196682 [00:34<4:19:58, 12.58it/s]\u001b[A\u001b[A\u001b[A\u001b[A\n",
      "\n",
      "\n",
      "\n",
      "loss - 0.6255:   0%|          | 475/196682 [00:34<4:19:33, 12.60it/s]\u001b[A\u001b[A\u001b[A\u001b[A\n",
      "\n",
      "\n",
      "\n",
      "loss - 0.1392:   0%|          | 475/196682 [00:35<4:19:33, 12.60it/s]\u001b[A\u001b[A\u001b[A\u001b[A"
     ]
    },
    {
     "name": "stdout",
     "output_type": "stream",
     "text": [
      "x.size(1) is:99\n",
      "x.size(1) is:99\n",
      "x.size(1) is:99\n"
     ]
    },
    {
     "name": "stderr",
     "output_type": "stream",
     "text": [
      "\n",
      "\n",
      "\n",
      "\n",
      "loss - 0.1970:   0%|          | 475/196682 [00:35<4:19:33, 12.60it/s]\u001b[A\u001b[A\u001b[A\u001b[A\n",
      "\n",
      "\n",
      "\n",
      "loss - 0.1970:   0%|          | 477/196682 [00:35<4:21:27, 12.51it/s]\u001b[A\u001b[A\u001b[A\u001b[A\n",
      "\n",
      "\n",
      "\n",
      "loss - 0.5362:   0%|          | 477/196682 [00:35<4:21:27, 12.51it/s]\u001b[A\u001b[A\u001b[A\u001b[A\n",
      "\n",
      "\n",
      "\n",
      "loss - 0.5933:   0%|          | 477/196682 [00:35<4:21:27, 12.51it/s]\u001b[A\u001b[A\u001b[A\u001b[A\n",
      "\n",
      "\n",
      "\n",
      "loss - 0.5933:   0%|          | 479/196682 [00:35<4:20:40, 12.54it/s]\u001b[A\u001b[A\u001b[A\u001b[A"
     ]
    },
    {
     "name": "stdout",
     "output_type": "stream",
     "text": [
      "x.size(1) is:99\n",
      "x.size(1) is:99\n",
      "x.size(1) is:99\n"
     ]
    },
    {
     "name": "stderr",
     "output_type": "stream",
     "text": [
      "\n",
      "\n",
      "\n",
      "\n",
      "loss - 0.4761:   0%|          | 479/196682 [00:35<4:20:40, 12.54it/s]\u001b[A\u001b[A\u001b[A\u001b[A\n",
      "\n",
      "\n",
      "\n",
      "loss - 0.1627:   0%|          | 479/196682 [00:35<4:20:40, 12.54it/s]\u001b[A\u001b[A\u001b[A\u001b[A\n",
      "\n",
      "\n",
      "\n",
      "loss - 0.1627:   0%|          | 481/196682 [00:35<4:20:32, 12.55it/s]\u001b[A\u001b[A\u001b[A\u001b[A\n",
      "\n",
      "\n",
      "\n",
      "loss - 0.1332:   0%|          | 481/196682 [00:35<4:20:32, 12.55it/s]\u001b[A\u001b[A\u001b[A\u001b[A"
     ]
    },
    {
     "name": "stdout",
     "output_type": "stream",
     "text": [
      "x.size(1) is:99\n",
      "x.size(1) is:99\n",
      "x.size(1) is:99\n"
     ]
    },
    {
     "name": "stderr",
     "output_type": "stream",
     "text": [
      "\n",
      "\n",
      "\n",
      "\n",
      "loss - 0.3892:   0%|          | 481/196682 [00:35<4:20:32, 12.55it/s]\u001b[A\u001b[A\u001b[A\u001b[A\n",
      "\n",
      "\n",
      "\n",
      "loss - 0.3892:   0%|          | 483/196682 [00:35<4:45:54, 11.44it/s]\u001b[A\u001b[A\u001b[A\u001b[A\n",
      "\n",
      "\n",
      "\n",
      "loss - 0.1076:   0%|          | 483/196682 [00:35<4:45:54, 11.44it/s]\u001b[A\u001b[A\u001b[A\u001b[A\n",
      "\n",
      "\n",
      "\n",
      "loss - 0.3607:   0%|          | 483/196682 [00:35<4:45:54, 11.44it/s]\u001b[A\u001b[A\u001b[A\u001b[A\n",
      "\n",
      "\n",
      "\n",
      "loss - 0.3607:   0%|          | 485/196682 [00:35<4:37:41, 11.78it/s]\u001b[A\u001b[A\u001b[A\u001b[A"
     ]
    },
    {
     "name": "stdout",
     "output_type": "stream",
     "text": [
      "x.size(1) is:99\n",
      "x.size(1) is:99\n",
      "x.size(1) is:99\n"
     ]
    },
    {
     "name": "stderr",
     "output_type": "stream",
     "text": [
      "\n",
      "\n",
      "\n",
      "\n",
      "loss - 0.3685:   0%|          | 485/196682 [00:35<4:37:41, 11.78it/s]\u001b[A\u001b[A\u001b[A\u001b[A\n",
      "\n",
      "\n",
      "\n",
      "loss - 0.2760:   0%|          | 485/196682 [00:35<4:37:41, 11.78it/s]\u001b[A\u001b[A\u001b[A\u001b[A\n",
      "\n",
      "\n",
      "\n",
      "loss - 0.2760:   0%|          | 487/196682 [00:35<4:33:38, 11.95it/s]\u001b[A\u001b[A\u001b[A\u001b[A\n",
      "\n",
      "\n",
      "\n",
      "loss - 0.3744:   0%|          | 487/196682 [00:36<4:33:38, 11.95it/s]\u001b[A\u001b[A\u001b[A\u001b[A"
     ]
    },
    {
     "name": "stdout",
     "output_type": "stream",
     "text": [
      "x.size(1) is:99\n",
      "x.size(1) is:99\n",
      "x.size(1) is:99\n"
     ]
    },
    {
     "name": "stderr",
     "output_type": "stream",
     "text": [
      "\n",
      "\n",
      "\n",
      "\n",
      "loss - 0.0622:   0%|          | 487/196682 [00:36<4:33:38, 11.95it/s]\u001b[A\u001b[A\u001b[A\u001b[A\n",
      "\n",
      "\n",
      "\n",
      "loss - 0.0622:   0%|          | 489/196682 [00:36<4:31:22, 12.05it/s]\u001b[A\u001b[A\u001b[A\u001b[A\n",
      "\n",
      "\n",
      "\n",
      "loss - 0.3033:   0%|          | 489/196682 [00:36<4:31:22, 12.05it/s]\u001b[A\u001b[A\u001b[A\u001b[A\n",
      "\n",
      "\n",
      "\n",
      "loss - 0.4630:   0%|          | 489/196682 [00:36<4:31:22, 12.05it/s]\u001b[A\u001b[A\u001b[A\u001b[A\n",
      "\n",
      "\n",
      "\n",
      "loss - 0.4630:   0%|          | 491/196682 [00:36<4:30:00, 12.11it/s]\u001b[A\u001b[A\u001b[A\u001b[A"
     ]
    },
    {
     "name": "stdout",
     "output_type": "stream",
     "text": [
      "x.size(1) is:99\n",
      "x.size(1) is:99\n",
      "x.size(1) is:99\n"
     ]
    },
    {
     "name": "stderr",
     "output_type": "stream",
     "text": [
      "\n",
      "\n",
      "\n",
      "\n",
      "loss - 0.2422:   0%|          | 491/196682 [00:36<4:30:00, 12.11it/s]\u001b[A\u001b[A\u001b[A\u001b[A\n",
      "\n",
      "\n",
      "\n",
      "loss - 0.3580:   0%|          | 491/196682 [00:36<4:30:00, 12.11it/s]\u001b[A\u001b[A\u001b[A\u001b[A\n",
      "\n",
      "\n",
      "\n",
      "loss - 0.3580:   0%|          | 493/196682 [00:36<4:29:40, 12.12it/s]\u001b[A\u001b[A\u001b[A\u001b[A\n",
      "\n",
      "\n",
      "\n",
      "loss - 0.1022:   0%|          | 493/196682 [00:36<4:29:40, 12.12it/s]\u001b[A\u001b[A\u001b[A\u001b[A"
     ]
    },
    {
     "name": "stdout",
     "output_type": "stream",
     "text": [
      "x.size(1) is:99\n",
      "x.size(1) is:99\n",
      "x.size(1) is:99\n"
     ]
    },
    {
     "name": "stderr",
     "output_type": "stream",
     "text": [
      "\n",
      "\n",
      "\n",
      "\n",
      "loss - 0.2670:   0%|          | 493/196682 [00:36<4:29:40, 12.12it/s]\u001b[A\u001b[A\u001b[A\u001b[A\n",
      "\n",
      "\n",
      "\n",
      "loss - 0.2670:   0%|          | 495/196682 [00:36<4:26:53, 12.25it/s]\u001b[A\u001b[A\u001b[A\u001b[A\n",
      "\n",
      "\n",
      "\n",
      "loss - 0.1471:   0%|          | 495/196682 [00:36<4:26:53, 12.25it/s]\u001b[A\u001b[A\u001b[A\u001b[A\n",
      "\n",
      "\n",
      "\n",
      "loss - 0.1551:   0%|          | 495/196682 [00:36<4:26:53, 12.25it/s]\u001b[A\u001b[A\u001b[A\u001b[A\n",
      "\n",
      "\n",
      "\n",
      "loss - 0.1551:   0%|          | 497/196682 [00:36<4:25:59, 12.29it/s]\u001b[A\u001b[A\u001b[A\u001b[A"
     ]
    },
    {
     "name": "stdout",
     "output_type": "stream",
     "text": [
      "x.size(1) is:99\n",
      "x.size(1) is:99\n",
      "x.size(1) is:99\n"
     ]
    },
    {
     "name": "stderr",
     "output_type": "stream",
     "text": [
      "\n",
      "\n",
      "\n",
      "\n",
      "loss - 0.4262:   0%|          | 497/196682 [00:36<4:25:59, 12.29it/s]\u001b[A\u001b[A\u001b[A\u001b[A\n",
      "\n",
      "\n",
      "\n",
      "loss - 0.2729:   0%|          | 497/196682 [00:36<4:25:59, 12.29it/s]\u001b[A\u001b[A\u001b[A\u001b[A\n",
      "\n",
      "\n",
      "\n",
      "loss - 0.2729:   0%|          | 499/196682 [00:36<4:24:22, 12.37it/s]\u001b[A\u001b[A\u001b[A\u001b[A\n",
      "\n",
      "\n",
      "\n",
      "loss - 0.1527:   0%|          | 499/196682 [00:37<4:24:22, 12.37it/s]\u001b[A\u001b[A\u001b[A\u001b[A"
     ]
    },
    {
     "name": "stdout",
     "output_type": "stream",
     "text": [
      "x.size(1) is:99\n",
      "x.size(1) is:99\n",
      "x.size(1) is:99\n"
     ]
    },
    {
     "name": "stderr",
     "output_type": "stream",
     "text": [
      "\n",
      "\n",
      "\n",
      "\n",
      "loss - 0.2175:   0%|          | 499/196682 [00:37<4:24:22, 12.37it/s]\u001b[A\u001b[A\u001b[A\u001b[A\n",
      "\n",
      "\n",
      "\n",
      "loss - 0.2175:   0%|          | 501/196682 [00:37<4:21:52, 12.49it/s]\u001b[A\u001b[A\u001b[A\u001b[A\n",
      "\n",
      "\n",
      "\n",
      "loss - 0.3295:   0%|          | 501/196682 [00:37<4:21:52, 12.49it/s]\u001b[A\u001b[A\u001b[A\u001b[A\n",
      "\n",
      "\n",
      "\n",
      "loss - 0.3805:   0%|          | 501/196682 [00:37<4:21:52, 12.49it/s]\u001b[A\u001b[A\u001b[A\u001b[A\n",
      "\n",
      "\n",
      "\n",
      "loss - 0.3805:   0%|          | 503/196682 [00:37<4:19:34, 12.60it/s]\u001b[A\u001b[A\u001b[A\u001b[A"
     ]
    },
    {
     "name": "stdout",
     "output_type": "stream",
     "text": [
      "x.size(1) is:99\n",
      "x.size(1) is:99\n",
      "x.size(1) is:99\n"
     ]
    },
    {
     "name": "stderr",
     "output_type": "stream",
     "text": [
      "\n",
      "\n",
      "\n",
      "\n",
      "loss - 0.1666:   0%|          | 503/196682 [00:37<4:19:34, 12.60it/s]\u001b[A\u001b[A\u001b[A\u001b[A\n",
      "\n",
      "\n",
      "\n",
      "loss - 0.3397:   0%|          | 503/196682 [00:37<4:19:34, 12.60it/s]\u001b[A\u001b[A\u001b[A\u001b[A\n",
      "\n",
      "\n",
      "\n",
      "loss - 0.3397:   0%|          | 505/196682 [00:37<4:20:55, 12.53it/s]\u001b[A\u001b[A\u001b[A\u001b[A\n",
      "\n",
      "\n",
      "\n",
      "loss - 0.2891:   0%|          | 505/196682 [00:37<4:20:55, 12.53it/s]\u001b[A\u001b[A\u001b[A\u001b[A"
     ]
    },
    {
     "name": "stdout",
     "output_type": "stream",
     "text": [
      "x.size(1) is:99\n",
      "x.size(1) is:99\n",
      "x.size(1) is:99\n"
     ]
    },
    {
     "name": "stderr",
     "output_type": "stream",
     "text": [
      "\n",
      "\n",
      "\n",
      "\n",
      "loss - 0.1594:   0%|          | 505/196682 [00:37<4:20:55, 12.53it/s]\u001b[A\u001b[A\u001b[A\u001b[A\n",
      "\n",
      "\n",
      "\n",
      "loss - 0.1594:   0%|          | 507/196682 [00:37<4:20:53, 12.53it/s]\u001b[A\u001b[A\u001b[A\u001b[A\n",
      "\n",
      "\n",
      "\n",
      "loss - 0.2382:   0%|          | 507/196682 [00:37<4:20:53, 12.53it/s]\u001b[A\u001b[A\u001b[A\u001b[A\n",
      "\n",
      "\n",
      "\n",
      "loss - 0.6026:   0%|          | 507/196682 [00:37<4:20:53, 12.53it/s]\u001b[A\u001b[A\u001b[A\u001b[A\n",
      "\n",
      "\n",
      "\n",
      "loss - 0.6026:   0%|          | 509/196682 [00:37<4:34:21, 11.92it/s]\u001b[A\u001b[A\u001b[A\u001b[A"
     ]
    },
    {
     "name": "stdout",
     "output_type": "stream",
     "text": [
      "x.size(1) is:99\n",
      "x.size(1) is:99\n",
      "x.size(1) is:99\n"
     ]
    },
    {
     "name": "stderr",
     "output_type": "stream",
     "text": [
      "\n",
      "\n",
      "\n",
      "\n",
      "loss - 0.2721:   0%|          | 509/196682 [00:37<4:34:21, 11.92it/s]\u001b[A\u001b[A\u001b[A\u001b[A\n",
      "\n",
      "\n",
      "\n",
      "loss - 0.5153:   0%|          | 509/196682 [00:37<4:34:21, 11.92it/s]\u001b[A\u001b[A\u001b[A\u001b[A\n",
      "\n",
      "\n",
      "\n",
      "loss - 0.5153:   0%|          | 511/196682 [00:37<4:28:58, 12.16it/s]\u001b[A\u001b[A\u001b[A\u001b[A\n",
      "\n",
      "\n",
      "\n",
      "loss - 0.3808:   0%|          | 511/196682 [00:38<4:28:58, 12.16it/s]\u001b[A\u001b[A\u001b[A\u001b[A"
     ]
    },
    {
     "name": "stdout",
     "output_type": "stream",
     "text": [
      "x.size(1) is:99\n",
      "x.size(1) is:99\n",
      "x.size(1) is:99\n"
     ]
    },
    {
     "name": "stderr",
     "output_type": "stream",
     "text": [
      "\n",
      "\n",
      "\n",
      "\n",
      "loss - 0.3179:   0%|          | 511/196682 [00:38<4:28:58, 12.16it/s]\u001b[A\u001b[A\u001b[A\u001b[A\n",
      "\n",
      "\n",
      "\n",
      "loss - 0.3179:   0%|          | 513/196682 [00:38<4:24:57, 12.34it/s]\u001b[A\u001b[A\u001b[A\u001b[A\n",
      "\n",
      "\n",
      "\n",
      "loss - 0.3163:   0%|          | 513/196682 [00:38<4:24:57, 12.34it/s]\u001b[A\u001b[A\u001b[A\u001b[A\n",
      "\n",
      "\n",
      "\n",
      "loss - 0.4799:   0%|          | 513/196682 [00:38<4:24:57, 12.34it/s]\u001b[A\u001b[A\u001b[A\u001b[A\n",
      "\n",
      "\n",
      "\n",
      "loss - 0.4799:   0%|          | 515/196682 [00:38<4:23:38, 12.40it/s]\u001b[A\u001b[A\u001b[A\u001b[A"
     ]
    },
    {
     "name": "stdout",
     "output_type": "stream",
     "text": [
      "x.size(1) is:99\n",
      "x.size(1) is:99\n",
      "x.size(1) is:99\n"
     ]
    },
    {
     "name": "stderr",
     "output_type": "stream",
     "text": [
      "\n",
      "\n",
      "\n",
      "\n",
      "loss - 0.1680:   0%|          | 515/196682 [00:38<4:23:38, 12.40it/s]\u001b[A\u001b[A\u001b[A\u001b[A\n",
      "\n",
      "\n",
      "\n",
      "loss - 0.5770:   0%|          | 515/196682 [00:38<4:23:38, 12.40it/s]\u001b[A\u001b[A\u001b[A\u001b[A\n",
      "\n",
      "\n",
      "\n",
      "loss - 0.5770:   0%|          | 517/196682 [00:38<4:21:25, 12.51it/s]\u001b[A\u001b[A\u001b[A\u001b[A\n",
      "\n",
      "\n",
      "\n",
      "loss - 0.1996:   0%|          | 517/196682 [00:38<4:21:25, 12.51it/s]\u001b[A\u001b[A\u001b[A\u001b[A"
     ]
    },
    {
     "name": "stdout",
     "output_type": "stream",
     "text": [
      "x.size(1) is:99\n",
      "x.size(1) is:99\n",
      "x.size(1) is:99\n"
     ]
    },
    {
     "name": "stderr",
     "output_type": "stream",
     "text": [
      "\n",
      "\n",
      "\n",
      "\n",
      "loss - 0.2678:   0%|          | 517/196682 [00:38<4:21:25, 12.51it/s]\u001b[A\u001b[A\u001b[A\u001b[A\n",
      "\n",
      "\n",
      "\n",
      "loss - 0.2678:   0%|          | 519/196682 [00:38<4:28:54, 12.16it/s]\u001b[A\u001b[A\u001b[A\u001b[A\n",
      "\n",
      "\n",
      "\n",
      "loss - 0.0658:   0%|          | 519/196682 [00:38<4:28:54, 12.16it/s]\u001b[A\u001b[A\u001b[A\u001b[A\n",
      "\n",
      "\n",
      "\n",
      "loss - 0.2332:   0%|          | 519/196682 [00:38<4:28:54, 12.16it/s]\u001b[A\u001b[A\u001b[A\u001b[A\n",
      "\n",
      "\n",
      "\n",
      "loss - 0.2332:   0%|          | 521/196682 [00:38<4:35:16, 11.88it/s]\u001b[A\u001b[A\u001b[A\u001b[A"
     ]
    },
    {
     "name": "stdout",
     "output_type": "stream",
     "text": [
      "x.size(1) is:99\n",
      "x.size(1) is:99\n",
      "x.size(1) is:99\n"
     ]
    },
    {
     "name": "stderr",
     "output_type": "stream",
     "text": [
      "\n",
      "\n",
      "\n",
      "\n",
      "loss - 0.1544:   0%|          | 521/196682 [00:38<4:35:16, 11.88it/s]\u001b[A\u001b[A\u001b[A\u001b[A\n",
      "\n",
      "\n",
      "\n",
      "loss - 0.2949:   0%|          | 521/196682 [00:38<4:35:16, 11.88it/s]\u001b[A\u001b[A\u001b[A\u001b[A\n",
      "\n",
      "\n",
      "\n",
      "loss - 0.2949:   0%|          | 523/196682 [00:38<4:41:33, 11.61it/s]\u001b[A\u001b[A\u001b[A\u001b[A\n",
      "\n",
      "\n",
      "\n",
      "loss - 0.4856:   0%|          | 523/196682 [00:39<4:41:33, 11.61it/s]\u001b[A\u001b[A\u001b[A\u001b[A"
     ]
    },
    {
     "name": "stdout",
     "output_type": "stream",
     "text": [
      "x.size(1) is:99\n",
      "x.size(1) is:99\n",
      "x.size(1) is:99\n"
     ]
    },
    {
     "name": "stderr",
     "output_type": "stream",
     "text": [
      "\n",
      "\n",
      "\n",
      "\n",
      "loss - 0.2934:   0%|          | 523/196682 [00:39<4:41:33, 11.61it/s]\u001b[A\u001b[A\u001b[A\u001b[A\n",
      "\n",
      "\n",
      "\n",
      "loss - 0.2934:   0%|          | 525/196682 [00:39<4:40:44, 11.65it/s]\u001b[A\u001b[A\u001b[A\u001b[A\n",
      "\n",
      "\n",
      "\n",
      "loss - 0.3549:   0%|          | 525/196682 [00:39<4:40:44, 11.65it/s]\u001b[A\u001b[A\u001b[A\u001b[A\n",
      "\n",
      "\n",
      "\n",
      "loss - 0.2994:   0%|          | 525/196682 [00:39<4:40:44, 11.65it/s]\u001b[A\u001b[A\u001b[A\u001b[A\n",
      "\n",
      "\n",
      "\n",
      "loss - 0.2994:   0%|          | 527/196682 [00:39<4:33:12, 11.97it/s]\u001b[A\u001b[A\u001b[A\u001b[A"
     ]
    },
    {
     "name": "stdout",
     "output_type": "stream",
     "text": [
      "x.size(1) is:99\n",
      "x.size(1) is:99\n",
      "x.size(1) is:99\n"
     ]
    },
    {
     "name": "stderr",
     "output_type": "stream",
     "text": [
      "\n",
      "\n",
      "\n",
      "\n",
      "loss - 0.6665:   0%|          | 527/196682 [00:39<4:33:12, 11.97it/s]\u001b[A\u001b[A\u001b[A\u001b[A\n",
      "\n",
      "\n",
      "\n",
      "loss - 0.4488:   0%|          | 527/196682 [00:39<4:33:12, 11.97it/s]\u001b[A\u001b[A\u001b[A\u001b[A\n",
      "\n",
      "\n",
      "\n",
      "loss - 0.4488:   0%|          | 529/196682 [00:39<4:29:53, 12.11it/s]\u001b[A\u001b[A\u001b[A\u001b[A\n",
      "\n",
      "\n",
      "\n",
      "loss - 0.0880:   0%|          | 529/196682 [00:39<4:29:53, 12.11it/s]\u001b[A\u001b[A\u001b[A\u001b[A"
     ]
    },
    {
     "name": "stdout",
     "output_type": "stream",
     "text": [
      "x.size(1) is:99\n",
      "x.size(1) is:99\n",
      "x.size(1) is:99\n"
     ]
    },
    {
     "name": "stderr",
     "output_type": "stream",
     "text": [
      "\n",
      "\n",
      "\n",
      "\n",
      "loss - 0.1438:   0%|          | 529/196682 [00:39<4:29:53, 12.11it/s]\u001b[A\u001b[A\u001b[A\u001b[A\n",
      "\n",
      "\n",
      "\n",
      "loss - 0.1438:   0%|          | 531/196682 [00:39<4:32:48, 11.98it/s]\u001b[A\u001b[A\u001b[A\u001b[A\n",
      "\n",
      "\n",
      "\n",
      "loss - 0.0811:   0%|          | 531/196682 [00:39<4:32:48, 11.98it/s]\u001b[A\u001b[A\u001b[A\u001b[A\n",
      "\n",
      "\n",
      "\n",
      "loss - 0.3919:   0%|          | 531/196682 [00:39<4:32:48, 11.98it/s]\u001b[A\u001b[A\u001b[A\u001b[A\n",
      "\n",
      "\n",
      "\n",
      "loss - 0.3919:   0%|          | 533/196682 [00:39<4:37:01, 11.80it/s]\u001b[A\u001b[A\u001b[A\u001b[A"
     ]
    },
    {
     "name": "stdout",
     "output_type": "stream",
     "text": [
      "x.size(1) is:99\n",
      "x.size(1) is:99\n",
      "x.size(1) is:99\n"
     ]
    },
    {
     "name": "stderr",
     "output_type": "stream",
     "text": [
      "\n",
      "\n",
      "\n",
      "\n",
      "loss - 0.2615:   0%|          | 533/196682 [00:39<4:37:01, 11.80it/s]\u001b[A\u001b[A\u001b[A\u001b[A\n",
      "\n",
      "\n",
      "\n",
      "loss - 0.3511:   0%|          | 533/196682 [00:39<4:37:01, 11.80it/s]\u001b[A\u001b[A\u001b[A\u001b[A\n",
      "\n",
      "\n",
      "\n",
      "loss - 0.3511:   0%|          | 535/196682 [00:39<4:35:05, 11.88it/s]\u001b[A\u001b[A\u001b[A\u001b[A\n",
      "\n",
      "\n",
      "\n",
      "loss - 0.5909:   0%|          | 535/196682 [00:40<4:35:05, 11.88it/s]\u001b[A\u001b[A\u001b[A\u001b[A"
     ]
    },
    {
     "name": "stdout",
     "output_type": "stream",
     "text": [
      "x.size(1) is:99\n",
      "x.size(1) is:99\n",
      "x.size(1) is:99\n"
     ]
    },
    {
     "name": "stderr",
     "output_type": "stream",
     "text": [
      "\n",
      "\n",
      "\n",
      "\n",
      "loss - 0.1862:   0%|          | 535/196682 [00:40<4:35:05, 11.88it/s]\u001b[A\u001b[A\u001b[A\u001b[A\n",
      "\n",
      "\n",
      "\n",
      "loss - 0.1862:   0%|          | 537/196682 [00:40<4:30:40, 12.08it/s]\u001b[A\u001b[A\u001b[A\u001b[A\n",
      "\n",
      "\n",
      "\n",
      "loss - 0.1271:   0%|          | 537/196682 [00:40<4:30:40, 12.08it/s]\u001b[A\u001b[A\u001b[A\u001b[A\n",
      "\n",
      "\n",
      "\n",
      "loss - 0.3834:   0%|          | 537/196682 [00:40<4:30:40, 12.08it/s]\u001b[A\u001b[A\u001b[A\u001b[A\n",
      "\n",
      "\n",
      "\n",
      "loss - 0.3834:   0%|          | 539/196682 [00:40<4:29:25, 12.13it/s]\u001b[A\u001b[A\u001b[A\u001b[A"
     ]
    },
    {
     "name": "stdout",
     "output_type": "stream",
     "text": [
      "x.size(1) is:99\n",
      "x.size(1) is:99\n",
      "x.size(1) is:99\n"
     ]
    },
    {
     "name": "stderr",
     "output_type": "stream",
     "text": [
      "\n",
      "\n",
      "\n",
      "\n",
      "loss - 0.0725:   0%|          | 539/196682 [00:40<4:29:25, 12.13it/s]\u001b[A\u001b[A\u001b[A\u001b[A\n",
      "\n",
      "\n",
      "\n",
      "loss - 0.2518:   0%|          | 539/196682 [00:40<4:29:25, 12.13it/s]\u001b[A\u001b[A\u001b[A\u001b[A\n",
      "\n",
      "\n",
      "\n",
      "loss - 0.2518:   0%|          | 541/196682 [00:40<4:28:16, 12.19it/s]\u001b[A\u001b[A\u001b[A\u001b[A\n",
      "\n",
      "\n",
      "\n",
      "loss - 0.2409:   0%|          | 541/196682 [00:40<4:28:16, 12.19it/s]\u001b[A\u001b[A\u001b[A\u001b[A"
     ]
    },
    {
     "name": "stdout",
     "output_type": "stream",
     "text": [
      "x.size(1) is:99\n",
      "x.size(1) is:99\n",
      "x.size(1) is:99\n"
     ]
    },
    {
     "name": "stderr",
     "output_type": "stream",
     "text": [
      "\n",
      "\n",
      "\n",
      "\n",
      "loss - 0.1170:   0%|          | 541/196682 [00:40<4:28:16, 12.19it/s]\u001b[A\u001b[A\u001b[A\u001b[A\n",
      "\n",
      "\n",
      "\n",
      "loss - 0.1170:   0%|          | 543/196682 [00:40<4:28:21, 12.18it/s]\u001b[A\u001b[A\u001b[A\u001b[A\n",
      "\n",
      "\n",
      "\n",
      "loss - 0.1322:   0%|          | 543/196682 [00:40<4:28:21, 12.18it/s]\u001b[A\u001b[A\u001b[A\u001b[A\n",
      "\n",
      "\n",
      "\n",
      "loss - 0.3059:   0%|          | 543/196682 [00:40<4:28:21, 12.18it/s]\u001b[A\u001b[A\u001b[A\u001b[A\n",
      "\n",
      "\n",
      "\n",
      "loss - 0.3059:   0%|          | 545/196682 [00:40<4:27:36, 12.22it/s]\u001b[A\u001b[A\u001b[A\u001b[A"
     ]
    },
    {
     "name": "stdout",
     "output_type": "stream",
     "text": [
      "x.size(1) is:99\n",
      "x.size(1) is:99\n",
      "x.size(1) is:99\n"
     ]
    },
    {
     "name": "stderr",
     "output_type": "stream",
     "text": [
      "\n",
      "\n",
      "\n",
      "\n",
      "loss - 0.1502:   0%|          | 545/196682 [00:40<4:27:36, 12.22it/s]\u001b[A\u001b[A\u001b[A\u001b[A\n",
      "\n",
      "\n",
      "\n",
      "loss - 0.2976:   0%|          | 545/196682 [00:40<4:27:36, 12.22it/s]\u001b[A\u001b[A\u001b[A\u001b[A\n",
      "\n",
      "\n",
      "\n",
      "loss - 0.2976:   0%|          | 547/196682 [00:40<4:25:10, 12.33it/s]\u001b[A\u001b[A\u001b[A\u001b[A\n",
      "\n",
      "\n",
      "\n",
      "loss - 0.3570:   0%|          | 547/196682 [00:40<4:25:10, 12.33it/s]\u001b[A\u001b[A\u001b[A\u001b[A"
     ]
    },
    {
     "name": "stdout",
     "output_type": "stream",
     "text": [
      "x.size(1) is:99\n",
      "x.size(1) is:99\n",
      "x.size(1) is:99\n"
     ]
    },
    {
     "name": "stderr",
     "output_type": "stream",
     "text": [
      "\n",
      "\n",
      "\n",
      "\n",
      "loss - 0.1475:   0%|          | 547/196682 [00:41<4:25:10, 12.33it/s]\u001b[A\u001b[A\u001b[A\u001b[A\n",
      "\n",
      "\n",
      "\n",
      "loss - 0.1475:   0%|          | 549/196682 [00:41<4:24:24, 12.36it/s]\u001b[A\u001b[A\u001b[A\u001b[A\n",
      "\n",
      "\n",
      "\n",
      "loss - 0.0471:   0%|          | 549/196682 [00:41<4:24:24, 12.36it/s]\u001b[A\u001b[A\u001b[A\u001b[A\n",
      "\n",
      "\n",
      "\n",
      "loss - 0.1236:   0%|          | 549/196682 [00:41<4:24:24, 12.36it/s]\u001b[A\u001b[A\u001b[A\u001b[A\n",
      "\n",
      "\n",
      "\n",
      "loss - 0.1236:   0%|          | 551/196682 [00:41<4:23:41, 12.40it/s]\u001b[A\u001b[A\u001b[A\u001b[A"
     ]
    },
    {
     "name": "stdout",
     "output_type": "stream",
     "text": [
      "x.size(1) is:99\n",
      "x.size(1) is:99\n",
      "x.size(1) is:99\n"
     ]
    },
    {
     "name": "stderr",
     "output_type": "stream",
     "text": [
      "\n",
      "\n",
      "\n",
      "\n",
      "loss - 0.3663:   0%|          | 551/196682 [00:41<4:23:41, 12.40it/s]\u001b[A\u001b[A\u001b[A\u001b[A\n",
      "\n",
      "\n",
      "\n",
      "loss - 0.3544:   0%|          | 551/196682 [00:41<4:23:41, 12.40it/s]\u001b[A\u001b[A\u001b[A\u001b[A\n",
      "\n",
      "\n",
      "\n",
      "loss - 0.3544:   0%|          | 553/196682 [00:41<4:24:01, 12.38it/s]\u001b[A\u001b[A\u001b[A\u001b[A\n",
      "\n",
      "\n",
      "\n",
      "loss - 0.3671:   0%|          | 553/196682 [00:41<4:24:01, 12.38it/s]\u001b[A\u001b[A\u001b[A\u001b[A"
     ]
    },
    {
     "name": "stdout",
     "output_type": "stream",
     "text": [
      "x.size(1) is:99\n",
      "x.size(1) is:99\n",
      "x.size(1) is:99\n"
     ]
    },
    {
     "name": "stderr",
     "output_type": "stream",
     "text": [
      "\n",
      "\n",
      "\n",
      "\n",
      "loss - 0.1921:   0%|          | 553/196682 [00:41<4:24:01, 12.38it/s]\u001b[A\u001b[A\u001b[A\u001b[A\n",
      "\n",
      "\n",
      "\n",
      "loss - 0.1921:   0%|          | 555/196682 [00:41<4:25:35, 12.31it/s]\u001b[A\u001b[A\u001b[A\u001b[A\n",
      "\n",
      "\n",
      "\n",
      "loss - 0.5676:   0%|          | 555/196682 [00:41<4:25:35, 12.31it/s]\u001b[A\u001b[A\u001b[A\u001b[A\n",
      "\n",
      "\n",
      "\n",
      "loss - 0.3320:   0%|          | 555/196682 [00:41<4:25:35, 12.31it/s]\u001b[A\u001b[A\u001b[A\u001b[A\n",
      "\n",
      "\n",
      "\n",
      "loss - 0.3320:   0%|          | 557/196682 [00:41<4:25:21, 12.32it/s]\u001b[A\u001b[A\u001b[A\u001b[A"
     ]
    },
    {
     "name": "stdout",
     "output_type": "stream",
     "text": [
      "x.size(1) is:99\n",
      "x.size(1) is:99\n",
      "x.size(1) is:99\n"
     ]
    },
    {
     "name": "stderr",
     "output_type": "stream",
     "text": [
      "\n",
      "\n",
      "\n",
      "\n",
      "loss - 0.3802:   0%|          | 557/196682 [00:41<4:25:21, 12.32it/s]\u001b[A\u001b[A\u001b[A\u001b[A\n",
      "\n",
      "\n",
      "\n",
      "loss - 0.3548:   0%|          | 557/196682 [00:41<4:25:21, 12.32it/s]\u001b[A\u001b[A\u001b[A\u001b[A\n",
      "\n",
      "\n",
      "\n",
      "loss - 0.3548:   0%|          | 559/196682 [00:41<4:32:09, 12.01it/s]\u001b[A\u001b[A\u001b[A\u001b[A\n",
      "\n",
      "\n",
      "\n",
      "loss - 0.1377:   0%|          | 559/196682 [00:41<4:32:09, 12.01it/s]\u001b[A\u001b[A\u001b[A\u001b[A"
     ]
    },
    {
     "name": "stdout",
     "output_type": "stream",
     "text": [
      "x.size(1) is:99\n",
      "x.size(1) is:99\n",
      "x.size(1) is:99\n"
     ]
    },
    {
     "name": "stderr",
     "output_type": "stream",
     "text": [
      "\n",
      "\n",
      "\n",
      "\n",
      "loss - 0.1346:   0%|          | 559/196682 [00:42<4:32:09, 12.01it/s]\u001b[A\u001b[A\u001b[A\u001b[A\n",
      "\n",
      "\n",
      "\n",
      "loss - 0.1346:   0%|          | 561/196682 [00:42<4:29:34, 12.13it/s]\u001b[A\u001b[A\u001b[A\u001b[A\n",
      "\n",
      "\n",
      "\n",
      "loss - 0.5093:   0%|          | 561/196682 [00:42<4:29:34, 12.13it/s]\u001b[A\u001b[A\u001b[A\u001b[A\n",
      "\n",
      "\n",
      "\n",
      "loss - 0.5061:   0%|          | 561/196682 [00:42<4:29:34, 12.13it/s]\u001b[A\u001b[A\u001b[A\u001b[A\n",
      "\n",
      "\n",
      "\n",
      "loss - 0.5061:   0%|          | 563/196682 [00:42<4:26:00, 12.29it/s]\u001b[A\u001b[A\u001b[A\u001b[A"
     ]
    },
    {
     "name": "stdout",
     "output_type": "stream",
     "text": [
      "x.size(1) is:99\n",
      "x.size(1) is:99\n",
      "x.size(1) is:99\n"
     ]
    },
    {
     "name": "stderr",
     "output_type": "stream",
     "text": [
      "\n",
      "\n",
      "\n",
      "\n",
      "loss - 0.3268:   0%|          | 563/196682 [00:42<4:26:00, 12.29it/s]\u001b[A\u001b[A\u001b[A\u001b[A\n",
      "\n",
      "\n",
      "\n",
      "loss - 0.3750:   0%|          | 563/196682 [00:42<4:26:00, 12.29it/s]\u001b[A\u001b[A\u001b[A\u001b[A\n",
      "\n",
      "\n",
      "\n",
      "loss - 0.3750:   0%|          | 565/196682 [00:42<4:24:42, 12.35it/s]\u001b[A\u001b[A\u001b[A\u001b[A\n",
      "\n",
      "\n",
      "\n",
      "loss - 0.2423:   0%|          | 565/196682 [00:42<4:24:42, 12.35it/s]\u001b[A\u001b[A\u001b[A\u001b[A"
     ]
    },
    {
     "name": "stdout",
     "output_type": "stream",
     "text": [
      "x.size(1) is:99\n",
      "x.size(1) is:99\n",
      "x.size(1) is:99\n"
     ]
    },
    {
     "name": "stderr",
     "output_type": "stream",
     "text": [
      "\n",
      "\n",
      "\n",
      "\n",
      "loss - 0.3235:   0%|          | 565/196682 [00:42<4:24:42, 12.35it/s]\u001b[A\u001b[A\u001b[A\u001b[A\n",
      "\n",
      "\n",
      "\n",
      "loss - 0.3235:   0%|          | 567/196682 [00:42<4:24:37, 12.35it/s]\u001b[A\u001b[A\u001b[A\u001b[A\n",
      "\n",
      "\n",
      "\n",
      "loss - 0.1114:   0%|          | 567/196682 [00:42<4:24:37, 12.35it/s]\u001b[A\u001b[A\u001b[A\u001b[A\n",
      "\n",
      "\n",
      "\n",
      "loss - 0.2622:   0%|          | 567/196682 [00:42<4:24:37, 12.35it/s]\u001b[A\u001b[A\u001b[A\u001b[A\n",
      "\n",
      "\n",
      "\n",
      "loss - 0.2622:   0%|          | 569/196682 [00:42<4:27:35, 12.21it/s]\u001b[A\u001b[A\u001b[A\u001b[A"
     ]
    },
    {
     "name": "stdout",
     "output_type": "stream",
     "text": [
      "x.size(1) is:99\n",
      "x.size(1) is:99\n",
      "x.size(1) is:99\n"
     ]
    },
    {
     "name": "stderr",
     "output_type": "stream",
     "text": [
      "\n",
      "\n",
      "\n",
      "\n",
      "loss - 0.2141:   0%|          | 569/196682 [00:42<4:27:35, 12.21it/s]\u001b[A\u001b[A\u001b[A\u001b[A\n",
      "\n",
      "\n",
      "\n",
      "loss - 0.0916:   0%|          | 569/196682 [00:42<4:27:35, 12.21it/s]\u001b[A\u001b[A\u001b[A\u001b[A\n",
      "\n",
      "\n",
      "\n",
      "loss - 0.0916:   0%|          | 571/196682 [00:42<4:27:39, 12.21it/s]\u001b[A\u001b[A\u001b[A\u001b[A\n",
      "\n",
      "\n",
      "\n",
      "loss - 0.0909:   0%|          | 571/196682 [00:42<4:27:39, 12.21it/s]\u001b[A\u001b[A\u001b[A\u001b[A"
     ]
    },
    {
     "name": "stdout",
     "output_type": "stream",
     "text": [
      "x.size(1) is:99\n",
      "x.size(1) is:99\n",
      "x.size(1) is:99\n"
     ]
    },
    {
     "name": "stderr",
     "output_type": "stream",
     "text": [
      "\n",
      "\n",
      "\n",
      "\n",
      "loss - 0.3074:   0%|          | 571/196682 [00:43<4:27:39, 12.21it/s]\u001b[A\u001b[A\u001b[A\u001b[A\n",
      "\n",
      "\n",
      "\n",
      "loss - 0.3074:   0%|          | 573/196682 [00:43<4:29:35, 12.12it/s]\u001b[A\u001b[A\u001b[A\u001b[A\n",
      "\n",
      "\n",
      "\n",
      "loss - 0.5618:   0%|          | 573/196682 [00:43<4:29:35, 12.12it/s]\u001b[A\u001b[A\u001b[A\u001b[A\n",
      "\n",
      "\n",
      "\n",
      "loss - 0.1216:   0%|          | 573/196682 [00:43<4:29:35, 12.12it/s]\u001b[A\u001b[A\u001b[A\u001b[A\n",
      "\n",
      "\n",
      "\n",
      "loss - 0.1216:   0%|          | 575/196682 [00:43<4:28:17, 12.18it/s]\u001b[A\u001b[A\u001b[A\u001b[A"
     ]
    },
    {
     "name": "stdout",
     "output_type": "stream",
     "text": [
      "x.size(1) is:99\n",
      "x.size(1) is:99\n",
      "x.size(1) is:99\n"
     ]
    },
    {
     "name": "stderr",
     "output_type": "stream",
     "text": [
      "\n",
      "\n",
      "\n",
      "\n",
      "loss - 0.4573:   0%|          | 575/196682 [00:43<4:28:17, 12.18it/s]\u001b[A\u001b[A\u001b[A\u001b[A\n",
      "\n",
      "\n",
      "\n",
      "loss - 0.0684:   0%|          | 575/196682 [00:43<4:28:17, 12.18it/s]\u001b[A\u001b[A\u001b[A\u001b[A\n",
      "\n",
      "\n",
      "\n",
      "loss - 0.0684:   0%|          | 577/196682 [00:43<4:28:25, 12.18it/s]\u001b[A\u001b[A\u001b[A\u001b[A\n",
      "\n",
      "\n",
      "\n",
      "loss - 0.3594:   0%|          | 577/196682 [00:43<4:28:25, 12.18it/s]\u001b[A\u001b[A\u001b[A\u001b[A"
     ]
    },
    {
     "name": "stdout",
     "output_type": "stream",
     "text": [
      "x.size(1) is:99\n",
      "x.size(1) is:99\n",
      "x.size(1) is:99\n"
     ]
    },
    {
     "name": "stderr",
     "output_type": "stream",
     "text": [
      "\n",
      "\n",
      "\n",
      "\n",
      "loss - 0.3123:   0%|          | 577/196682 [00:43<4:28:25, 12.18it/s]\u001b[A\u001b[A\u001b[A\u001b[A\n",
      "\n",
      "\n",
      "\n",
      "loss - 0.3123:   0%|          | 579/196682 [00:43<4:25:50, 12.29it/s]\u001b[A\u001b[A\u001b[A\u001b[A\n",
      "\n",
      "\n",
      "\n",
      "loss - 0.0846:   0%|          | 579/196682 [00:43<4:25:50, 12.29it/s]\u001b[A\u001b[A\u001b[A\u001b[A\n",
      "\n",
      "\n",
      "\n",
      "loss - 0.2248:   0%|          | 579/196682 [00:43<4:25:50, 12.29it/s]\u001b[A\u001b[A\u001b[A\u001b[A\n",
      "\n",
      "\n",
      "\n",
      "loss - 0.2248:   0%|          | 581/196682 [00:43<4:27:59, 12.20it/s]\u001b[A\u001b[A\u001b[A\u001b[A"
     ]
    },
    {
     "name": "stdout",
     "output_type": "stream",
     "text": [
      "x.size(1) is:99\n",
      "x.size(1) is:99\n",
      "x.size(1) is:99\n"
     ]
    },
    {
     "name": "stderr",
     "output_type": "stream",
     "text": [
      "\n",
      "\n",
      "\n",
      "\n",
      "loss - 0.2084:   0%|          | 581/196682 [00:43<4:27:59, 12.20it/s]\u001b[A\u001b[A\u001b[A\u001b[A\n",
      "\n",
      "\n",
      "\n",
      "loss - 0.1438:   0%|          | 581/196682 [00:43<4:27:59, 12.20it/s]\u001b[A\u001b[A\u001b[A\u001b[A\n",
      "\n",
      "\n",
      "\n",
      "loss - 0.1438:   0%|          | 583/196682 [00:43<4:29:31, 12.13it/s]\u001b[A\u001b[A\u001b[A\u001b[A\n",
      "\n",
      "\n",
      "\n",
      "loss - 0.2883:   0%|          | 583/196682 [00:43<4:29:31, 12.13it/s]\u001b[A\u001b[A\u001b[A\u001b[A"
     ]
    },
    {
     "name": "stdout",
     "output_type": "stream",
     "text": [
      "x.size(1) is:99\n",
      "x.size(1) is:99\n",
      "x.size(1) is:99\n"
     ]
    },
    {
     "name": "stderr",
     "output_type": "stream",
     "text": [
      "\n",
      "\n",
      "\n",
      "\n",
      "loss - 0.5079:   0%|          | 583/196682 [00:44<4:29:31, 12.13it/s]\u001b[A\u001b[A\u001b[A\u001b[A\n",
      "\n",
      "\n",
      "\n",
      "loss - 0.5079:   0%|          | 585/196682 [00:44<4:35:17, 11.87it/s]\u001b[A\u001b[A\u001b[A\u001b[A\n",
      "\n",
      "\n",
      "\n",
      "loss - 0.4130:   0%|          | 585/196682 [00:44<4:35:17, 11.87it/s]\u001b[A\u001b[A\u001b[A\u001b[A\n",
      "\n",
      "\n",
      "\n",
      "loss - 0.4003:   0%|          | 585/196682 [00:44<4:35:17, 11.87it/s]\u001b[A\u001b[A\u001b[A\u001b[A\n",
      "\n",
      "\n",
      "\n",
      "loss - 0.4003:   0%|          | 587/196682 [00:44<4:34:14, 11.92it/s]\u001b[A\u001b[A\u001b[A\u001b[A"
     ]
    },
    {
     "name": "stdout",
     "output_type": "stream",
     "text": [
      "x.size(1) is:99\n",
      "x.size(1) is:99\n",
      "x.size(1) is:99\n"
     ]
    },
    {
     "name": "stderr",
     "output_type": "stream",
     "text": [
      "\n",
      "\n",
      "\n",
      "\n",
      "loss - 0.3742:   0%|          | 587/196682 [00:44<4:34:14, 11.92it/s]\u001b[A\u001b[A\u001b[A\u001b[A\n",
      "\n",
      "\n",
      "\n",
      "loss - 0.4621:   0%|          | 587/196682 [00:44<4:34:14, 11.92it/s]\u001b[A\u001b[A\u001b[A\u001b[A\n",
      "\n",
      "\n",
      "\n",
      "loss - 0.4621:   0%|          | 589/196682 [00:44<4:31:07, 12.05it/s]\u001b[A\u001b[A\u001b[A\u001b[A\n",
      "\n",
      "\n",
      "\n",
      "loss - 0.3999:   0%|          | 589/196682 [00:44<4:31:07, 12.05it/s]\u001b[A\u001b[A\u001b[A\u001b[A"
     ]
    },
    {
     "name": "stdout",
     "output_type": "stream",
     "text": [
      "x.size(1) is:99\n",
      "x.size(1) is:99\n",
      "x.size(1) is:99\n"
     ]
    },
    {
     "name": "stderr",
     "output_type": "stream",
     "text": [
      "\n",
      "\n",
      "\n",
      "\n",
      "loss - 0.4520:   0%|          | 589/196682 [00:44<4:31:07, 12.05it/s]\u001b[A\u001b[A\u001b[A\u001b[A\n",
      "\n",
      "\n",
      "\n",
      "loss - 0.4520:   0%|          | 591/196682 [00:44<4:29:24, 12.13it/s]\u001b[A\u001b[A\u001b[A\u001b[A\n",
      "\n",
      "\n",
      "\n",
      "loss - 0.3124:   0%|          | 591/196682 [00:44<4:29:24, 12.13it/s]\u001b[A\u001b[A\u001b[A\u001b[A\n",
      "\n",
      "\n",
      "\n",
      "loss - 0.0936:   0%|          | 591/196682 [00:44<4:29:24, 12.13it/s]\u001b[A\u001b[A\u001b[A\u001b[A\n",
      "\n",
      "\n",
      "\n",
      "loss - 0.0936:   0%|          | 593/196682 [00:44<4:29:11, 12.14it/s]\u001b[A\u001b[A\u001b[A\u001b[A"
     ]
    },
    {
     "name": "stdout",
     "output_type": "stream",
     "text": [
      "x.size(1) is:99\n",
      "x.size(1) is:99\n",
      "x.size(1) is:99\n"
     ]
    },
    {
     "name": "stderr",
     "output_type": "stream",
     "text": [
      "\n",
      "\n",
      "\n",
      "\n",
      "loss - 0.3574:   0%|          | 593/196682 [00:44<4:29:11, 12.14it/s]\u001b[A\u001b[A\u001b[A\u001b[A\n",
      "\n",
      "\n",
      "\n",
      "loss - 0.1751:   0%|          | 593/196682 [00:44<4:29:11, 12.14it/s]\u001b[A\u001b[A\u001b[A\u001b[A\n",
      "\n",
      "\n",
      "\n",
      "loss - 0.1751:   0%|          | 595/196682 [00:44<4:28:20, 12.18it/s]\u001b[A\u001b[A\u001b[A\u001b[A\n",
      "\n",
      "\n",
      "\n",
      "loss - 0.3253:   0%|          | 595/196682 [00:44<4:28:20, 12.18it/s]\u001b[A\u001b[A\u001b[A\u001b[A"
     ]
    },
    {
     "name": "stdout",
     "output_type": "stream",
     "text": [
      "x.size(1) is:99\n",
      "x.size(1) is:99\n",
      "x.size(1) is:99\n"
     ]
    },
    {
     "name": "stderr",
     "output_type": "stream",
     "text": [
      "\n",
      "\n",
      "\n",
      "\n",
      "loss - 0.6181:   0%|          | 595/196682 [00:45<4:28:20, 12.18it/s]\u001b[A\u001b[A\u001b[A\u001b[A\n",
      "\n",
      "\n",
      "\n",
      "loss - 0.6181:   0%|          | 597/196682 [00:45<4:30:39, 12.07it/s]\u001b[A\u001b[A\u001b[A\u001b[A\n",
      "\n",
      "\n",
      "\n",
      "loss - 0.3932:   0%|          | 597/196682 [00:45<4:30:39, 12.07it/s]\u001b[A\u001b[A\u001b[A\u001b[A\n",
      "\n",
      "\n",
      "\n",
      "loss - 0.3691:   0%|          | 597/196682 [00:45<4:30:39, 12.07it/s]\u001b[A\u001b[A\u001b[A\u001b[A\n",
      "\n",
      "\n",
      "\n",
      "loss - 0.3691:   0%|          | 599/196682 [00:45<4:28:02, 12.19it/s]\u001b[A\u001b[A\u001b[A\u001b[A"
     ]
    },
    {
     "name": "stdout",
     "output_type": "stream",
     "text": [
      "x.size(1) is:99\n",
      "x.size(1) is:99\n",
      "x.size(1) is:99\n"
     ]
    },
    {
     "name": "stderr",
     "output_type": "stream",
     "text": [
      "\n",
      "\n",
      "\n",
      "\n",
      "loss - 0.1684:   0%|          | 599/196682 [00:45<4:28:02, 12.19it/s]\u001b[A\u001b[A\u001b[A\u001b[A\n",
      "\n",
      "\n",
      "\n",
      "loss - 0.1495:   0%|          | 599/196682 [00:45<4:28:02, 12.19it/s]\u001b[A\u001b[A\u001b[A\u001b[A\n",
      "\n",
      "\n",
      "\n",
      "loss - 0.1495:   0%|          | 601/196682 [00:45<4:28:59, 12.15it/s]\u001b[A\u001b[A\u001b[A\u001b[A\n",
      "\n",
      "\n",
      "\n",
      "loss - 0.0974:   0%|          | 601/196682 [00:45<4:28:59, 12.15it/s]\u001b[A\u001b[A\u001b[A\u001b[A"
     ]
    },
    {
     "name": "stdout",
     "output_type": "stream",
     "text": [
      "x.size(1) is:99\n",
      "x.size(1) is:99\n",
      "x.size(1) is:99\n"
     ]
    },
    {
     "name": "stderr",
     "output_type": "stream",
     "text": [
      "\n",
      "\n",
      "\n",
      "\n",
      "loss - 0.3245:   0%|          | 601/196682 [00:45<4:28:59, 12.15it/s]\u001b[A\u001b[A\u001b[A\u001b[A\n",
      "\n",
      "\n",
      "\n",
      "loss - 0.3245:   0%|          | 603/196682 [00:45<4:26:18, 12.27it/s]\u001b[A\u001b[A\u001b[A\u001b[A\n",
      "\n",
      "\n",
      "\n",
      "loss - 0.1039:   0%|          | 603/196682 [00:45<4:26:18, 12.27it/s]\u001b[A\u001b[A\u001b[A\u001b[A\n",
      "\n",
      "\n",
      "\n",
      "loss - 0.6365:   0%|          | 603/196682 [00:45<4:26:18, 12.27it/s]\u001b[A\u001b[A\u001b[A\u001b[A\n",
      "\n",
      "\n",
      "\n",
      "loss - 0.6365:   0%|          | 605/196682 [00:45<4:31:54, 12.02it/s]\u001b[A\u001b[A\u001b[A\u001b[A"
     ]
    },
    {
     "name": "stdout",
     "output_type": "stream",
     "text": [
      "x.size(1) is:99\n",
      "x.size(1) is:99\n",
      "x.size(1) is:99\n"
     ]
    },
    {
     "name": "stderr",
     "output_type": "stream",
     "text": [
      "\n",
      "\n",
      "\n",
      "\n",
      "loss - 0.6126:   0%|          | 605/196682 [00:45<4:31:54, 12.02it/s]\u001b[A\u001b[A\u001b[A\u001b[A\n",
      "\n",
      "\n",
      "\n",
      "loss - 0.5270:   0%|          | 605/196682 [00:45<4:31:54, 12.02it/s]\u001b[A\u001b[A\u001b[A\u001b[A\n",
      "\n",
      "\n",
      "\n",
      "loss - 0.5270:   0%|          | 607/196682 [00:45<4:45:30, 11.45it/s]\u001b[A\u001b[A\u001b[A\u001b[A\n",
      "\n",
      "\n",
      "\n",
      "loss - 0.1317:   0%|          | 607/196682 [00:45<4:45:30, 11.45it/s]\u001b[A\u001b[A\u001b[A\u001b[A"
     ]
    },
    {
     "name": "stdout",
     "output_type": "stream",
     "text": [
      "x.size(1) is:99\n",
      "x.size(1) is:99\n",
      "x.size(1) is:99\n"
     ]
    },
    {
     "name": "stderr",
     "output_type": "stream",
     "text": [
      "\n",
      "\n",
      "\n",
      "\n",
      "loss - 0.6087:   0%|          | 607/196682 [00:46<4:45:30, 11.45it/s]\u001b[A\u001b[A\u001b[A\u001b[A\n",
      "\n",
      "\n",
      "\n",
      "loss - 0.6087:   0%|          | 609/196682 [00:46<4:49:10, 11.30it/s]\u001b[A\u001b[A\u001b[A\u001b[A\n",
      "\n",
      "\n",
      "\n",
      "loss - 0.0539:   0%|          | 609/196682 [00:46<4:49:10, 11.30it/s]\u001b[A\u001b[A\u001b[A\u001b[A\n",
      "\n",
      "\n",
      "\n",
      "loss - 0.4237:   0%|          | 609/196682 [00:46<4:49:10, 11.30it/s]\u001b[A\u001b[A\u001b[A\u001b[A\n",
      "\n",
      "\n",
      "\n",
      "loss - 0.4237:   0%|          | 611/196682 [00:46<4:41:50, 11.59it/s]\u001b[A\u001b[A\u001b[A\u001b[A"
     ]
    },
    {
     "name": "stdout",
     "output_type": "stream",
     "text": [
      "x.size(1) is:99\n",
      "x.size(1) is:99\n",
      "x.size(1) is:99\n"
     ]
    },
    {
     "name": "stderr",
     "output_type": "stream",
     "text": [
      "\n",
      "\n",
      "\n",
      "\n",
      "loss - 0.3504:   0%|          | 611/196682 [00:46<4:41:50, 11.59it/s]\u001b[A\u001b[A\u001b[A\u001b[A\n",
      "\n",
      "\n",
      "\n",
      "loss - 0.5035:   0%|          | 611/196682 [00:46<4:41:50, 11.59it/s]\u001b[A\u001b[A\u001b[A\u001b[A\n",
      "\n",
      "\n",
      "\n",
      "loss - 0.5035:   0%|          | 613/196682 [00:46<4:41:20, 11.62it/s]\u001b[A\u001b[A\u001b[A\u001b[A\n",
      "\n",
      "\n",
      "\n",
      "loss - 0.2682:   0%|          | 613/196682 [00:46<4:41:20, 11.62it/s]\u001b[A\u001b[A\u001b[A\u001b[A"
     ]
    },
    {
     "name": "stdout",
     "output_type": "stream",
     "text": [
      "x.size(1) is:99\n",
      "x.size(1) is:99\n",
      "x.size(1) is:99\n"
     ]
    },
    {
     "name": "stderr",
     "output_type": "stream",
     "text": [
      "\n",
      "\n",
      "\n",
      "\n",
      "loss - 0.1097:   0%|          | 613/196682 [00:46<4:41:20, 11.62it/s]\u001b[A\u001b[A\u001b[A\u001b[A\n",
      "\n",
      "\n",
      "\n",
      "loss - 0.1097:   0%|          | 615/196682 [00:46<4:39:09, 11.71it/s]\u001b[A\u001b[A\u001b[A\u001b[A\n",
      "\n",
      "\n",
      "\n",
      "loss - 0.3655:   0%|          | 615/196682 [00:46<4:39:09, 11.71it/s]\u001b[A\u001b[A\u001b[A\u001b[A\n",
      "\n",
      "\n",
      "\n",
      "loss - 0.4528:   0%|          | 615/196682 [00:46<4:39:09, 11.71it/s]\u001b[A\u001b[A\u001b[A\u001b[A\n",
      "\n",
      "\n",
      "\n",
      "loss - 0.4528:   0%|          | 617/196682 [00:46<4:37:43, 11.77it/s]\u001b[A\u001b[A\u001b[A\u001b[A"
     ]
    },
    {
     "name": "stdout",
     "output_type": "stream",
     "text": [
      "x.size(1) is:99\n",
      "x.size(1) is:99\n",
      "x.size(1) is:99\n"
     ]
    },
    {
     "name": "stderr",
     "output_type": "stream",
     "text": [
      "\n",
      "\n",
      "\n",
      "\n",
      "loss - 0.3194:   0%|          | 617/196682 [00:46<4:37:43, 11.77it/s]\u001b[A\u001b[A\u001b[A\u001b[A\n",
      "\n",
      "\n",
      "\n",
      "loss - 0.4278:   0%|          | 617/196682 [00:46<4:37:43, 11.77it/s]\u001b[A\u001b[A\u001b[A\u001b[A\n",
      "\n",
      "\n",
      "\n",
      "loss - 0.4278:   0%|          | 619/196682 [00:46<4:34:17, 11.91it/s]\u001b[A\u001b[A\u001b[A\u001b[A\n",
      "\n",
      "\n",
      "\n",
      "loss - 0.3410:   0%|          | 619/196682 [00:46<4:34:17, 11.91it/s]\u001b[A\u001b[A\u001b[A\u001b[A"
     ]
    },
    {
     "name": "stdout",
     "output_type": "stream",
     "text": [
      "x.size(1) is:99\n",
      "x.size(1) is:99\n",
      "x.size(1) is:99\n"
     ]
    },
    {
     "name": "stderr",
     "output_type": "stream",
     "text": [
      "\n",
      "\n",
      "\n",
      "\n",
      "loss - 0.3419:   0%|          | 619/196682 [00:47<4:34:17, 11.91it/s]\u001b[A\u001b[A\u001b[A\u001b[A\n",
      "\n",
      "\n",
      "\n",
      "loss - 0.3419:   0%|          | 621/196682 [00:47<4:32:31, 11.99it/s]\u001b[A\u001b[A\u001b[A\u001b[A\n",
      "\n",
      "\n",
      "\n",
      "loss - 0.1481:   0%|          | 621/196682 [00:47<4:32:31, 11.99it/s]\u001b[A\u001b[A\u001b[A\u001b[A\n",
      "\n",
      "\n",
      "\n",
      "loss - 0.0742:   0%|          | 621/196682 [00:47<4:32:31, 11.99it/s]\u001b[A\u001b[A\u001b[A\u001b[A\n",
      "\n",
      "\n",
      "\n",
      "loss - 0.0742:   0%|          | 623/196682 [00:47<4:32:27, 11.99it/s]\u001b[A\u001b[A\u001b[A\u001b[A"
     ]
    },
    {
     "name": "stdout",
     "output_type": "stream",
     "text": [
      "x.size(1) is:99\n",
      "x.size(1) is:99\n",
      "x.size(1) is:99\n"
     ]
    },
    {
     "name": "stderr",
     "output_type": "stream",
     "text": [
      "\n",
      "\n",
      "\n",
      "\n",
      "loss - 0.0663:   0%|          | 623/196682 [00:47<4:32:27, 11.99it/s]\u001b[A\u001b[A\u001b[A\u001b[A\n",
      "\n",
      "\n",
      "\n",
      "loss - 0.3449:   0%|          | 623/196682 [00:47<4:32:27, 11.99it/s]\u001b[A\u001b[A\u001b[A\u001b[A\n",
      "\n",
      "\n",
      "\n",
      "loss - 0.3449:   0%|          | 625/196682 [00:47<4:30:40, 12.07it/s]\u001b[A\u001b[A\u001b[A\u001b[A\n",
      "\n",
      "\n",
      "\n",
      "loss - 0.2176:   0%|          | 625/196682 [00:47<4:30:40, 12.07it/s]\u001b[A\u001b[A\u001b[A\u001b[A"
     ]
    },
    {
     "name": "stdout",
     "output_type": "stream",
     "text": [
      "x.size(1) is:99\n",
      "x.size(1) is:99\n",
      "x.size(1) is:99\n"
     ]
    },
    {
     "name": "stderr",
     "output_type": "stream",
     "text": [
      "\n",
      "\n",
      "\n",
      "\n",
      "loss - 0.1947:   0%|          | 625/196682 [00:47<4:30:40, 12.07it/s]\u001b[A\u001b[A\u001b[A\u001b[A\n",
      "\n",
      "\n",
      "\n",
      "loss - 0.1947:   0%|          | 627/196682 [00:47<4:30:36, 12.07it/s]\u001b[A\u001b[A\u001b[A\u001b[A\n",
      "\n",
      "\n",
      "\n",
      "loss - 0.3171:   0%|          | 627/196682 [00:47<4:30:36, 12.07it/s]\u001b[A\u001b[A\u001b[A\u001b[A\n",
      "\n",
      "\n",
      "\n",
      "loss - 0.3953:   0%|          | 627/196682 [00:47<4:30:36, 12.07it/s]\u001b[A\u001b[A\u001b[A\u001b[A\n",
      "\n",
      "\n",
      "\n",
      "loss - 0.3953:   0%|          | 629/196682 [00:47<4:32:13, 12.00it/s]\u001b[A\u001b[A\u001b[A\u001b[A"
     ]
    },
    {
     "name": "stdout",
     "output_type": "stream",
     "text": [
      "x.size(1) is:99\n",
      "x.size(1) is:99\n",
      "x.size(1) is:99\n"
     ]
    },
    {
     "name": "stderr",
     "output_type": "stream",
     "text": [
      "\n",
      "\n",
      "\n",
      "\n",
      "loss - 0.2957:   0%|          | 629/196682 [00:47<4:32:13, 12.00it/s]\u001b[A\u001b[A\u001b[A\u001b[A\n",
      "\n",
      "\n",
      "\n",
      "loss - 0.2065:   0%|          | 629/196682 [00:47<4:32:13, 12.00it/s]\u001b[A\u001b[A\u001b[A\u001b[A\n",
      "\n",
      "\n",
      "\n",
      "loss - 0.2065:   0%|          | 631/196682 [00:47<4:32:00, 12.01it/s]\u001b[A\u001b[A\u001b[A\u001b[A\n",
      "\n",
      "\n",
      "\n",
      "loss - 0.2439:   0%|          | 631/196682 [00:47<4:32:00, 12.01it/s]\u001b[A\u001b[A\u001b[A\u001b[A"
     ]
    },
    {
     "name": "stdout",
     "output_type": "stream",
     "text": [
      "x.size(1) is:99\n",
      "x.size(1) is:99\n",
      "x.size(1) is:99\n"
     ]
    },
    {
     "name": "stderr",
     "output_type": "stream",
     "text": [
      "\n",
      "\n",
      "\n",
      "\n",
      "loss - 0.3911:   0%|          | 631/196682 [00:48<4:32:00, 12.01it/s]\u001b[A\u001b[A\u001b[A\u001b[A\n",
      "\n",
      "\n",
      "\n",
      "loss - 0.3911:   0%|          | 633/196682 [00:48<4:40:25, 11.65it/s]\u001b[A\u001b[A\u001b[A\u001b[A\n",
      "\n",
      "\n",
      "\n",
      "loss - 0.0976:   0%|          | 633/196682 [00:48<4:40:25, 11.65it/s]\u001b[A\u001b[A\u001b[A\u001b[A\n",
      "\n",
      "\n",
      "\n",
      "loss - 0.4256:   0%|          | 633/196682 [00:48<4:40:25, 11.65it/s]\u001b[A\u001b[A\u001b[A\u001b[A\n",
      "\n",
      "\n",
      "\n",
      "loss - 0.4256:   0%|          | 635/196682 [00:48<4:45:32, 11.44it/s]\u001b[A\u001b[A\u001b[A\u001b[A"
     ]
    },
    {
     "name": "stdout",
     "output_type": "stream",
     "text": [
      "x.size(1) is:99\n",
      "x.size(1) is:99\n",
      "x.size(1) is:99\n"
     ]
    },
    {
     "name": "stderr",
     "output_type": "stream",
     "text": [
      "\n",
      "\n",
      "\n",
      "\n",
      "loss - 0.1135:   0%|          | 635/196682 [00:48<4:45:32, 11.44it/s]\u001b[A\u001b[A\u001b[A\u001b[A\n",
      "\n",
      "\n",
      "\n",
      "loss - 0.2725:   0%|          | 635/196682 [00:48<4:45:32, 11.44it/s]\u001b[A\u001b[A\u001b[A\u001b[A\n",
      "\n",
      "\n",
      "\n",
      "loss - 0.2725:   0%|          | 637/196682 [00:48<4:44:00, 11.50it/s]\u001b[A\u001b[A\u001b[A\u001b[A\n",
      "\n",
      "\n",
      "\n",
      "loss - 0.2043:   0%|          | 637/196682 [00:48<4:44:00, 11.50it/s]\u001b[A\u001b[A\u001b[A\u001b[A"
     ]
    },
    {
     "name": "stdout",
     "output_type": "stream",
     "text": [
      "x.size(1) is:99\n",
      "x.size(1) is:99\n",
      "x.size(1) is:99\n"
     ]
    },
    {
     "name": "stderr",
     "output_type": "stream",
     "text": [
      "\n",
      "\n",
      "\n",
      "\n",
      "loss - 0.1791:   0%|          | 637/196682 [00:48<4:44:00, 11.50it/s]\u001b[A\u001b[A\u001b[A\u001b[A\n",
      "\n",
      "\n",
      "\n",
      "loss - 0.1791:   0%|          | 639/196682 [00:48<4:46:16, 11.41it/s]\u001b[A\u001b[A\u001b[A\u001b[A\n",
      "\n",
      "\n",
      "\n",
      "loss - 0.0864:   0%|          | 639/196682 [00:48<4:46:16, 11.41it/s]\u001b[A\u001b[A\u001b[A\u001b[A\n",
      "\n",
      "\n",
      "\n",
      "loss - 0.6737:   0%|          | 639/196682 [00:48<4:46:16, 11.41it/s]\u001b[A\u001b[A\u001b[A\u001b[A\n",
      "\n",
      "\n",
      "\n",
      "loss - 0.6737:   0%|          | 641/196682 [00:48<4:40:59, 11.63it/s]\u001b[A\u001b[A\u001b[A\u001b[A"
     ]
    },
    {
     "name": "stdout",
     "output_type": "stream",
     "text": [
      "x.size(1) is:99\n",
      "x.size(1) is:99\n",
      "x.size(1) is:99\n"
     ]
    },
    {
     "name": "stderr",
     "output_type": "stream",
     "text": [
      "\n",
      "\n",
      "\n",
      "\n",
      "loss - 0.4865:   0%|          | 641/196682 [00:48<4:40:59, 11.63it/s]\u001b[A\u001b[A\u001b[A\u001b[A\n",
      "\n",
      "\n",
      "\n",
      "loss - 0.4123:   0%|          | 641/196682 [00:48<4:40:59, 11.63it/s]\u001b[A\u001b[A\u001b[A\u001b[A\n",
      "\n",
      "\n",
      "\n",
      "loss - 0.4123:   0%|          | 643/196682 [00:48<4:39:58, 11.67it/s]\u001b[A\u001b[A\u001b[A\u001b[A\n",
      "\n",
      "\n",
      "\n",
      "loss - 0.4576:   0%|          | 643/196682 [00:49<4:39:58, 11.67it/s]\u001b[A\u001b[A\u001b[A\u001b[A"
     ]
    },
    {
     "name": "stdout",
     "output_type": "stream",
     "text": [
      "x.size(1) is:99\n",
      "x.size(1) is:99\n",
      "x.size(1) is:99\n"
     ]
    },
    {
     "name": "stderr",
     "output_type": "stream",
     "text": [
      "\n",
      "\n",
      "\n",
      "\n",
      "loss - 0.3297:   0%|          | 643/196682 [00:49<4:39:58, 11.67it/s]\u001b[A\u001b[A\u001b[A\u001b[A\n",
      "\n",
      "\n",
      "\n",
      "loss - 0.3297:   0%|          | 645/196682 [00:49<4:42:03, 11.58it/s]\u001b[A\u001b[A\u001b[A\u001b[A\n",
      "\n",
      "\n",
      "\n",
      "loss - 0.0819:   0%|          | 645/196682 [00:49<4:42:03, 11.58it/s]\u001b[A\u001b[A\u001b[A\u001b[A\n",
      "\n",
      "\n",
      "\n",
      "loss - 0.5531:   0%|          | 645/196682 [00:49<4:42:03, 11.58it/s]\u001b[A\u001b[A\u001b[A\u001b[A\n",
      "\n",
      "\n",
      "\n",
      "loss - 0.5531:   0%|          | 647/196682 [00:49<4:39:05, 11.71it/s]\u001b[A\u001b[A\u001b[A\u001b[A"
     ]
    },
    {
     "name": "stdout",
     "output_type": "stream",
     "text": [
      "x.size(1) is:99\n",
      "x.size(1) is:99\n",
      "x.size(1) is:99\n"
     ]
    },
    {
     "name": "stderr",
     "output_type": "stream",
     "text": [
      "\n",
      "\n",
      "\n",
      "\n",
      "loss - 0.2364:   0%|          | 647/196682 [00:49<4:39:05, 11.71it/s]\u001b[A\u001b[A\u001b[A\u001b[A\n",
      "\n",
      "\n",
      "\n",
      "loss - 0.0769:   0%|          | 647/196682 [00:49<4:39:05, 11.71it/s]\u001b[A\u001b[A\u001b[A\u001b[A\n",
      "\n",
      "\n",
      "\n",
      "loss - 0.0769:   0%|          | 649/196682 [00:49<4:38:26, 11.73it/s]\u001b[A\u001b[A\u001b[A\u001b[A\n",
      "\n",
      "\n",
      "\n",
      "loss - 0.3389:   0%|          | 649/196682 [00:49<4:38:26, 11.73it/s]\u001b[A\u001b[A\u001b[A\u001b[A"
     ]
    },
    {
     "name": "stdout",
     "output_type": "stream",
     "text": [
      "x.size(1) is:99\n",
      "x.size(1) is:99\n",
      "x.size(1) is:99\n"
     ]
    },
    {
     "name": "stderr",
     "output_type": "stream",
     "text": [
      "\n",
      "\n",
      "\n",
      "\n",
      "loss - 0.3293:   0%|          | 649/196682 [00:49<4:38:26, 11.73it/s]\u001b[A\u001b[A\u001b[A\u001b[A\n",
      "\n",
      "\n",
      "\n",
      "loss - 0.3293:   0%|          | 651/196682 [00:49<4:37:09, 11.79it/s]\u001b[A\u001b[A\u001b[A\u001b[A\n",
      "\n",
      "\n",
      "\n",
      "loss - 0.4808:   0%|          | 651/196682 [00:49<4:37:09, 11.79it/s]\u001b[A\u001b[A\u001b[A\u001b[A\n",
      "\n",
      "\n",
      "\n",
      "loss - 0.0704:   0%|          | 651/196682 [00:49<4:37:09, 11.79it/s]\u001b[A\u001b[A\u001b[A\u001b[A\n",
      "\n",
      "\n",
      "\n",
      "loss - 0.0704:   0%|          | 653/196682 [00:49<4:35:13, 11.87it/s]\u001b[A\u001b[A\u001b[A\u001b[A"
     ]
    },
    {
     "name": "stdout",
     "output_type": "stream",
     "text": [
      "x.size(1) is:99\n",
      "x.size(1) is:99\n",
      "x.size(1) is:99\n"
     ]
    },
    {
     "name": "stderr",
     "output_type": "stream",
     "text": [
      "\n",
      "\n",
      "\n",
      "\n",
      "loss - 0.1130:   0%|          | 653/196682 [00:49<4:35:13, 11.87it/s]\u001b[A\u001b[A\u001b[A\u001b[A\n",
      "\n",
      "\n",
      "\n",
      "loss - 0.0398:   0%|          | 653/196682 [00:49<4:35:13, 11.87it/s]\u001b[A\u001b[A\u001b[A\u001b[A\n",
      "\n",
      "\n",
      "\n",
      "loss - 0.0398:   0%|          | 655/196682 [00:49<4:36:27, 11.82it/s]\u001b[A\u001b[A\u001b[A\u001b[A\n",
      "\n",
      "\n",
      "\n",
      "loss - 0.6156:   0%|          | 655/196682 [00:50<4:36:27, 11.82it/s]\u001b[A\u001b[A\u001b[A\u001b[A"
     ]
    },
    {
     "name": "stdout",
     "output_type": "stream",
     "text": [
      "x.size(1) is:99\n",
      "x.size(1) is:99\n",
      "x.size(1) is:99\n"
     ]
    },
    {
     "name": "stderr",
     "output_type": "stream",
     "text": [
      "\n",
      "\n",
      "\n",
      "\n",
      "loss - 0.2707:   0%|          | 655/196682 [00:50<4:36:27, 11.82it/s]\u001b[A\u001b[A\u001b[A\u001b[A\n",
      "\n",
      "\n",
      "\n",
      "loss - 0.2707:   0%|          | 657/196682 [00:50<4:37:46, 11.76it/s]\u001b[A\u001b[A\u001b[A\u001b[A\n",
      "\n",
      "\n",
      "\n",
      "loss - 0.1366:   0%|          | 657/196682 [00:50<4:37:46, 11.76it/s]\u001b[A\u001b[A\u001b[A\u001b[A\n",
      "\n",
      "\n",
      "\n",
      "loss - 0.0866:   0%|          | 657/196682 [00:50<4:37:46, 11.76it/s]\u001b[A\u001b[A\u001b[A\u001b[A\n",
      "\n",
      "\n",
      "\n",
      "loss - 0.0866:   0%|          | 659/196682 [00:50<4:45:20, 11.45it/s]\u001b[A\u001b[A\u001b[A\u001b[A"
     ]
    },
    {
     "name": "stdout",
     "output_type": "stream",
     "text": [
      "x.size(1) is:99\n",
      "x.size(1) is:99\n",
      "x.size(1) is:99\n"
     ]
    },
    {
     "name": "stderr",
     "output_type": "stream",
     "text": [
      "\n",
      "\n",
      "\n",
      "\n",
      "loss - 0.3458:   0%|          | 659/196682 [00:50<4:45:20, 11.45it/s]\u001b[A\u001b[A\u001b[A\u001b[A\n",
      "\n",
      "\n",
      "\n",
      "loss - 0.2968:   0%|          | 659/196682 [00:50<4:45:20, 11.45it/s]\u001b[A\u001b[A\u001b[A\u001b[A\n",
      "\n",
      "\n",
      "\n",
      "loss - 0.2968:   0%|          | 661/196682 [00:50<4:55:01, 11.07it/s]\u001b[A\u001b[A\u001b[A\u001b[A\n",
      "\n",
      "\n",
      "\n",
      "loss - 0.0728:   0%|          | 661/196682 [00:50<4:55:01, 11.07it/s]\u001b[A\u001b[A\u001b[A\u001b[A"
     ]
    },
    {
     "name": "stdout",
     "output_type": "stream",
     "text": [
      "x.size(1) is:99\n",
      "x.size(1) is:99\n",
      "x.size(1) is:99\n"
     ]
    },
    {
     "name": "stderr",
     "output_type": "stream",
     "text": [
      "\n",
      "\n",
      "\n",
      "\n",
      "loss - 0.4749:   0%|          | 661/196682 [00:50<4:55:01, 11.07it/s]\u001b[A\u001b[A\u001b[A\u001b[A\n",
      "\n",
      "\n",
      "\n",
      "loss - 0.4749:   0%|          | 663/196682 [00:50<4:49:37, 11.28it/s]\u001b[A\u001b[A\u001b[A\u001b[A\n",
      "\n",
      "\n",
      "\n",
      "loss - 0.2550:   0%|          | 663/196682 [00:50<4:49:37, 11.28it/s]\u001b[A\u001b[A\u001b[A\u001b[A\n",
      "\n",
      "\n",
      "\n",
      "loss - 0.3331:   0%|          | 663/196682 [00:50<4:49:37, 11.28it/s]\u001b[A\u001b[A\u001b[A\u001b[A\n",
      "\n",
      "\n",
      "\n",
      "loss - 0.3331:   0%|          | 665/196682 [00:50<4:43:26, 11.53it/s]\u001b[A\u001b[A\u001b[A\u001b[A"
     ]
    },
    {
     "name": "stdout",
     "output_type": "stream",
     "text": [
      "x.size(1) is:99\n",
      "x.size(1) is:99\n",
      "x.size(1) is:99\n"
     ]
    },
    {
     "name": "stderr",
     "output_type": "stream",
     "text": [
      "\n",
      "\n",
      "\n",
      "\n",
      "loss - 0.0570:   0%|          | 665/196682 [00:50<4:43:26, 11.53it/s]\u001b[A\u001b[A\u001b[A\u001b[A\n",
      "\n",
      "\n",
      "\n",
      "loss - 0.3599:   0%|          | 665/196682 [00:50<4:43:26, 11.53it/s]\u001b[A\u001b[A\u001b[A\u001b[A\n",
      "\n",
      "\n",
      "\n",
      "loss - 0.3599:   0%|          | 667/196682 [00:50<4:38:32, 11.73it/s]\u001b[A\u001b[A\u001b[A\u001b[A\n",
      "\n",
      "\n",
      "\n",
      "loss - 0.4528:   0%|          | 667/196682 [00:51<4:38:32, 11.73it/s]\u001b[A\u001b[A\u001b[A\u001b[A"
     ]
    },
    {
     "name": "stdout",
     "output_type": "stream",
     "text": [
      "x.size(1) is:99\n",
      "x.size(1) is:99\n",
      "x.size(1) is:99\n"
     ]
    },
    {
     "name": "stderr",
     "output_type": "stream",
     "text": [
      "\n",
      "\n",
      "\n",
      "\n",
      "loss - 0.5144:   0%|          | 667/196682 [00:51<4:38:32, 11.73it/s]\u001b[A\u001b[A\u001b[A\u001b[A\n",
      "\n",
      "\n",
      "\n",
      "loss - 0.5144:   0%|          | 669/196682 [00:51<4:35:17, 11.87it/s]\u001b[A\u001b[A\u001b[A\u001b[A\n",
      "\n",
      "\n",
      "\n",
      "loss - 0.3462:   0%|          | 669/196682 [00:51<4:35:17, 11.87it/s]\u001b[A\u001b[A\u001b[A\u001b[A\n",
      "\n",
      "\n",
      "\n",
      "loss - 0.1084:   0%|          | 669/196682 [00:51<4:35:17, 11.87it/s]\u001b[A\u001b[A\u001b[A\u001b[A\n",
      "\n",
      "\n",
      "\n",
      "loss - 0.1084:   0%|          | 671/196682 [00:51<4:33:27, 11.95it/s]\u001b[A\u001b[A\u001b[A\u001b[A"
     ]
    },
    {
     "name": "stdout",
     "output_type": "stream",
     "text": [
      "x.size(1) is:99\n",
      "x.size(1) is:99\n",
      "x.size(1) is:99\n"
     ]
    },
    {
     "name": "stderr",
     "output_type": "stream",
     "text": [
      "\n",
      "\n",
      "\n",
      "\n",
      "loss - 0.3425:   0%|          | 671/196682 [00:51<4:33:27, 11.95it/s]\u001b[A\u001b[A\u001b[A\u001b[A\n",
      "\n",
      "\n",
      "\n",
      "loss - 0.3870:   0%|          | 671/196682 [00:51<4:33:27, 11.95it/s]\u001b[A\u001b[A\u001b[A\u001b[A\n",
      "\n",
      "\n",
      "\n",
      "loss - 0.3870:   0%|          | 673/196682 [00:51<4:34:04, 11.92it/s]\u001b[A\u001b[A\u001b[A\u001b[A\n",
      "\n",
      "\n",
      "\n",
      "loss - 0.3972:   0%|          | 673/196682 [00:51<4:34:04, 11.92it/s]\u001b[A\u001b[A\u001b[A\u001b[A"
     ]
    },
    {
     "name": "stdout",
     "output_type": "stream",
     "text": [
      "x.size(1) is:99\n",
      "x.size(1) is:99\n",
      "x.size(1) is:99\n"
     ]
    },
    {
     "name": "stderr",
     "output_type": "stream",
     "text": [
      "\n",
      "\n",
      "\n",
      "\n",
      "loss - 0.3371:   0%|          | 673/196682 [00:51<4:34:04, 11.92it/s]\u001b[A\u001b[A\u001b[A\u001b[A\n",
      "\n",
      "\n",
      "\n",
      "loss - 0.3371:   0%|          | 675/196682 [00:51<4:31:44, 12.02it/s]\u001b[A\u001b[A\u001b[A\u001b[A\n",
      "\n",
      "\n",
      "\n",
      "loss - 0.0739:   0%|          | 675/196682 [00:51<4:31:44, 12.02it/s]\u001b[A\u001b[A\u001b[A\u001b[A\n",
      "\n",
      "\n",
      "\n",
      "loss - 0.1275:   0%|          | 675/196682 [00:51<4:31:44, 12.02it/s]\u001b[A\u001b[A\u001b[A\u001b[A\n",
      "\n",
      "\n",
      "\n",
      "loss - 0.1275:   0%|          | 677/196682 [00:51<4:33:47, 11.93it/s]\u001b[A\u001b[A\u001b[A\u001b[A"
     ]
    },
    {
     "name": "stdout",
     "output_type": "stream",
     "text": [
      "x.size(1) is:99\n",
      "x.size(1) is:99\n",
      "x.size(1) is:99\n"
     ]
    },
    {
     "name": "stderr",
     "output_type": "stream",
     "text": [
      "\n",
      "\n",
      "\n",
      "\n",
      "loss - 0.5236:   0%|          | 677/196682 [00:51<4:33:47, 11.93it/s]\u001b[A\u001b[A\u001b[A\u001b[A\n",
      "\n",
      "\n",
      "\n",
      "loss - 0.2700:   0%|          | 677/196682 [00:51<4:33:47, 11.93it/s]\u001b[A\u001b[A\u001b[A\u001b[A\n",
      "\n",
      "\n",
      "\n",
      "loss - 0.2700:   0%|          | 679/196682 [00:51<4:33:48, 11.93it/s]\u001b[A\u001b[A\u001b[A\u001b[A\n",
      "\n",
      "\n",
      "\n",
      "loss - 0.3921:   0%|          | 679/196682 [00:52<4:33:48, 11.93it/s]\u001b[A\u001b[A\u001b[A\u001b[A"
     ]
    },
    {
     "name": "stdout",
     "output_type": "stream",
     "text": [
      "x.size(1) is:99\n",
      "x.size(1) is:99\n",
      "x.size(1) is:99\n"
     ]
    },
    {
     "name": "stderr",
     "output_type": "stream",
     "text": [
      "\n",
      "\n",
      "\n",
      "\n",
      "loss - 0.3423:   0%|          | 679/196682 [00:52<4:33:48, 11.93it/s]\u001b[A\u001b[A\u001b[A\u001b[A\n",
      "\n",
      "\n",
      "\n",
      "loss - 0.3423:   0%|          | 681/196682 [00:52<4:34:39, 11.89it/s]\u001b[A\u001b[A\u001b[A\u001b[A\n",
      "\n",
      "\n",
      "\n",
      "loss - 0.3414:   0%|          | 681/196682 [00:52<4:34:39, 11.89it/s]\u001b[A\u001b[A\u001b[A\u001b[A\n",
      "\n",
      "\n",
      "\n",
      "loss - 0.3342:   0%|          | 681/196682 [00:52<4:34:39, 11.89it/s]\u001b[A\u001b[A\u001b[A\u001b[A\n",
      "\n",
      "\n",
      "\n",
      "loss - 0.3342:   0%|          | 683/196682 [00:52<4:42:12, 11.58it/s]\u001b[A\u001b[A\u001b[A\u001b[A"
     ]
    },
    {
     "name": "stdout",
     "output_type": "stream",
     "text": [
      "x.size(1) is:99\n",
      "x.size(1) is:99\n",
      "x.size(1) is:99\n"
     ]
    },
    {
     "name": "stderr",
     "output_type": "stream",
     "text": [
      "\n",
      "\n",
      "\n",
      "\n",
      "loss - 0.4862:   0%|          | 683/196682 [00:52<4:42:12, 11.58it/s]\u001b[A\u001b[A\u001b[A\u001b[A\n",
      "\n",
      "\n",
      "\n",
      "loss - 0.2465:   0%|          | 683/196682 [00:52<4:42:12, 11.58it/s]\u001b[A\u001b[A\u001b[A\u001b[A\n",
      "\n",
      "\n",
      "\n",
      "loss - 0.2465:   0%|          | 685/196682 [00:52<4:40:17, 11.65it/s]\u001b[A\u001b[A\u001b[A\u001b[A\n",
      "\n",
      "\n",
      "\n",
      "loss - 0.3250:   0%|          | 685/196682 [00:52<4:40:17, 11.65it/s]\u001b[A\u001b[A\u001b[A\u001b[A"
     ]
    },
    {
     "name": "stdout",
     "output_type": "stream",
     "text": [
      "x.size(1) is:99\n",
      "x.size(1) is:99\n",
      "x.size(1) is:99\n"
     ]
    },
    {
     "name": "stderr",
     "output_type": "stream",
     "text": [
      "\n",
      "\n",
      "\n",
      "\n",
      "loss - 0.1283:   0%|          | 685/196682 [00:52<4:40:17, 11.65it/s]\u001b[A\u001b[A\u001b[A\u001b[A\n",
      "\n",
      "\n",
      "\n",
      "loss - 0.1283:   0%|          | 687/196682 [00:52<4:40:19, 11.65it/s]\u001b[A\u001b[A\u001b[A\u001b[A\n",
      "\n",
      "\n",
      "\n",
      "loss - 0.2955:   0%|          | 687/196682 [00:52<4:40:19, 11.65it/s]\u001b[A\u001b[A\u001b[A\u001b[A\n",
      "\n",
      "\n",
      "\n",
      "loss - 0.2637:   0%|          | 687/196682 [00:52<4:40:19, 11.65it/s]\u001b[A\u001b[A\u001b[A\u001b[A\n",
      "\n",
      "\n",
      "\n",
      "loss - 0.2637:   0%|          | 689/196682 [00:52<4:39:06, 11.70it/s]\u001b[A\u001b[A\u001b[A\u001b[A"
     ]
    },
    {
     "name": "stdout",
     "output_type": "stream",
     "text": [
      "x.size(1) is:99\n",
      "x.size(1) is:99\n",
      "x.size(1) is:99\n"
     ]
    },
    {
     "name": "stderr",
     "output_type": "stream",
     "text": [
      "\n",
      "\n",
      "\n",
      "\n",
      "loss - 0.3760:   0%|          | 689/196682 [00:52<4:39:06, 11.70it/s]\u001b[A\u001b[A\u001b[A\u001b[A\n",
      "\n",
      "\n",
      "\n",
      "loss - 0.1122:   0%|          | 689/196682 [00:53<4:39:06, 11.70it/s]\u001b[A\u001b[A\u001b[A\u001b[A\n",
      "\n",
      "\n",
      "\n",
      "loss - 0.1122:   0%|          | 691/196682 [00:53<4:41:39, 11.60it/s]\u001b[A\u001b[A\u001b[A\u001b[A\n",
      "\n",
      "\n",
      "\n",
      "loss - 0.4594:   0%|          | 691/196682 [00:53<4:41:39, 11.60it/s]\u001b[A\u001b[A\u001b[A\u001b[A"
     ]
    },
    {
     "name": "stdout",
     "output_type": "stream",
     "text": [
      "x.size(1) is:99\n",
      "x.size(1) is:99\n",
      "x.size(1) is:99\n"
     ]
    },
    {
     "name": "stderr",
     "output_type": "stream",
     "text": [
      "\n",
      "\n",
      "\n",
      "\n",
      "loss - 0.1162:   0%|          | 691/196682 [00:53<4:41:39, 11.60it/s]\u001b[A\u001b[A\u001b[A\u001b[A\n",
      "\n",
      "\n",
      "\n",
      "loss - 0.1162:   0%|          | 693/196682 [00:53<4:44:24, 11.49it/s]\u001b[A\u001b[A\u001b[A\u001b[A\n",
      "\n",
      "\n",
      "\n",
      "loss - 0.5823:   0%|          | 693/196682 [00:53<4:44:24, 11.49it/s]\u001b[A\u001b[A\u001b[A\u001b[A\n",
      "\n",
      "\n",
      "\n",
      "loss - 0.1075:   0%|          | 693/196682 [00:53<4:44:24, 11.49it/s]\u001b[A\u001b[A\u001b[A\u001b[A\n",
      "\n",
      "\n",
      "\n",
      "loss - 0.1075:   0%|          | 695/196682 [00:53<4:42:09, 11.58it/s]\u001b[A\u001b[A\u001b[A\u001b[A"
     ]
    },
    {
     "name": "stdout",
     "output_type": "stream",
     "text": [
      "x.size(1) is:99\n",
      "x.size(1) is:99\n",
      "x.size(1) is:99\n"
     ]
    },
    {
     "name": "stderr",
     "output_type": "stream",
     "text": [
      "\n",
      "\n",
      "\n",
      "\n",
      "loss - 0.3863:   0%|          | 695/196682 [00:53<4:42:09, 11.58it/s]\u001b[A\u001b[A\u001b[A\u001b[A\n",
      "\n",
      "\n",
      "\n",
      "loss - 0.0592:   0%|          | 695/196682 [00:53<4:42:09, 11.58it/s]\u001b[A\u001b[A\u001b[A\u001b[A\n",
      "\n",
      "\n",
      "\n",
      "loss - 0.0592:   0%|          | 697/196682 [00:53<4:42:07, 11.58it/s]\u001b[A\u001b[A\u001b[A\u001b[A\n",
      "\n",
      "\n",
      "\n",
      "loss - 0.0868:   0%|          | 697/196682 [00:53<4:42:07, 11.58it/s]\u001b[A\u001b[A\u001b[A\u001b[A"
     ]
    },
    {
     "name": "stdout",
     "output_type": "stream",
     "text": [
      "x.size(1) is:99\n",
      "x.size(1) is:99\n",
      "x.size(1) is:99\n"
     ]
    },
    {
     "name": "stderr",
     "output_type": "stream",
     "text": [
      "\n",
      "\n",
      "\n",
      "\n",
      "loss - 0.3577:   0%|          | 697/196682 [00:53<4:42:07, 11.58it/s]\u001b[A\u001b[A\u001b[A\u001b[A\n",
      "\n",
      "\n",
      "\n",
      "loss - 0.3577:   0%|          | 699/196682 [00:53<4:40:07, 11.66it/s]\u001b[A\u001b[A\u001b[A\u001b[A\n",
      "\n",
      "\n",
      "\n",
      "loss - 0.3170:   0%|          | 699/196682 [00:53<4:40:07, 11.66it/s]\u001b[A\u001b[A\u001b[A\u001b[A\n",
      "\n",
      "\n",
      "\n",
      "loss - 0.2919:   0%|          | 699/196682 [00:53<4:40:07, 11.66it/s]\u001b[A\u001b[A\u001b[A\u001b[A\n",
      "\n",
      "\n",
      "\n",
      "loss - 0.2919:   0%|          | 701/196682 [00:53<4:39:20, 11.69it/s]\u001b[A\u001b[A\u001b[A\u001b[A"
     ]
    },
    {
     "name": "stdout",
     "output_type": "stream",
     "text": [
      "x.size(1) is:99\n",
      "x.size(1) is:99\n",
      "x.size(1) is:99\n"
     ]
    },
    {
     "name": "stderr",
     "output_type": "stream",
     "text": [
      "\n",
      "\n",
      "\n",
      "\n",
      "loss - 0.5265:   0%|          | 701/196682 [00:53<4:39:20, 11.69it/s]\u001b[A\u001b[A\u001b[A\u001b[A\n",
      "\n",
      "\n",
      "\n",
      "loss - 0.1245:   0%|          | 701/196682 [00:54<4:39:20, 11.69it/s]\u001b[A\u001b[A\u001b[A\u001b[A\n",
      "\n",
      "\n",
      "\n",
      "loss - 0.1245:   0%|          | 703/196682 [00:54<4:34:59, 11.88it/s]\u001b[A\u001b[A\u001b[A\u001b[A\n",
      "\n",
      "\n",
      "\n",
      "loss - 0.0821:   0%|          | 703/196682 [00:54<4:34:59, 11.88it/s]\u001b[A\u001b[A\u001b[A\u001b[A"
     ]
    },
    {
     "name": "stdout",
     "output_type": "stream",
     "text": [
      "x.size(1) is:99\n",
      "x.size(1) is:99\n",
      "x.size(1) is:99\n"
     ]
    },
    {
     "name": "stderr",
     "output_type": "stream",
     "text": [
      "\n",
      "\n",
      "\n",
      "\n",
      "loss - 0.1030:   0%|          | 703/196682 [00:54<4:34:59, 11.88it/s]\u001b[A\u001b[A\u001b[A\u001b[A\n",
      "\n",
      "\n",
      "\n",
      "loss - 0.1030:   0%|          | 705/196682 [00:54<4:32:55, 11.97it/s]\u001b[A\u001b[A\u001b[A\u001b[A\n",
      "\n",
      "\n",
      "\n",
      "loss - 0.1966:   0%|          | 705/196682 [00:54<4:32:55, 11.97it/s]\u001b[A\u001b[A\u001b[A\u001b[A\n",
      "\n",
      "\n",
      "\n",
      "loss - 0.6633:   0%|          | 705/196682 [00:54<4:32:55, 11.97it/s]\u001b[A\u001b[A\u001b[A\u001b[A\n",
      "\n",
      "\n",
      "\n",
      "loss - 0.6633:   0%|          | 707/196682 [00:54<4:34:34, 11.90it/s]\u001b[A\u001b[A\u001b[A\u001b[A"
     ]
    },
    {
     "name": "stdout",
     "output_type": "stream",
     "text": [
      "x.size(1) is:99\n",
      "x.size(1) is:99\n",
      "x.size(1) is:99\n"
     ]
    },
    {
     "name": "stderr",
     "output_type": "stream",
     "text": [
      "\n",
      "\n",
      "\n",
      "\n",
      "loss - 0.4006:   0%|          | 707/196682 [00:54<4:34:34, 11.90it/s]\u001b[A\u001b[A\u001b[A\u001b[A\n",
      "\n",
      "\n",
      "\n",
      "loss - 0.3291:   0%|          | 707/196682 [00:54<4:34:34, 11.90it/s]\u001b[A\u001b[A\u001b[A\u001b[A\n",
      "\n",
      "\n",
      "\n",
      "loss - 0.3291:   0%|          | 709/196682 [00:54<4:39:15, 11.70it/s]\u001b[A\u001b[A\u001b[A\u001b[A\n",
      "\n",
      "\n",
      "\n",
      "loss - 0.4414:   0%|          | 709/196682 [00:54<4:39:15, 11.70it/s]\u001b[A\u001b[A\u001b[A\u001b[A"
     ]
    },
    {
     "name": "stdout",
     "output_type": "stream",
     "text": [
      "x.size(1) is:99\n",
      "x.size(1) is:99\n",
      "x.size(1) is:99\n"
     ]
    },
    {
     "name": "stderr",
     "output_type": "stream",
     "text": [
      "\n",
      "\n",
      "\n",
      "\n",
      "loss - 0.0565:   0%|          | 709/196682 [00:54<4:39:15, 11.70it/s]\u001b[A\u001b[A\u001b[A\u001b[A\n",
      "\n",
      "\n",
      "\n",
      "loss - 0.0565:   0%|          | 711/196682 [00:54<4:36:28, 11.81it/s]\u001b[A\u001b[A\u001b[A\u001b[A\n",
      "\n",
      "\n",
      "\n",
      "loss - 0.2620:   0%|          | 711/196682 [00:54<4:36:28, 11.81it/s]\u001b[A\u001b[A\u001b[A\u001b[A\n",
      "\n",
      "\n",
      "\n",
      "loss - 0.0620:   0%|          | 711/196682 [00:54<4:36:28, 11.81it/s]\u001b[A\u001b[A\u001b[A\u001b[A\n",
      "\n",
      "\n",
      "\n",
      "loss - 0.0620:   0%|          | 713/196682 [00:54<4:32:20, 11.99it/s]\u001b[A\u001b[A\u001b[A\u001b[A"
     ]
    },
    {
     "name": "stdout",
     "output_type": "stream",
     "text": [
      "x.size(1) is:99\n",
      "x.size(1) is:99\n",
      "x.size(1) is:99\n"
     ]
    },
    {
     "name": "stderr",
     "output_type": "stream",
     "text": [
      "\n",
      "\n",
      "\n",
      "\n",
      "loss - 0.6967:   0%|          | 713/196682 [00:54<4:32:20, 11.99it/s]\u001b[A\u001b[A\u001b[A\u001b[A\n",
      "\n",
      "\n",
      "\n",
      "loss - 0.2803:   0%|          | 713/196682 [00:55<4:32:20, 11.99it/s]\u001b[A\u001b[A\u001b[A\u001b[A\n",
      "\n",
      "\n",
      "\n",
      "loss - 0.2803:   0%|          | 715/196682 [00:55<4:32:52, 11.97it/s]\u001b[A\u001b[A\u001b[A\u001b[A\n",
      "\n",
      "\n",
      "\n",
      "loss - 0.1022:   0%|          | 715/196682 [00:55<4:32:52, 11.97it/s]\u001b[A\u001b[A\u001b[A\u001b[A"
     ]
    },
    {
     "name": "stdout",
     "output_type": "stream",
     "text": [
      "x.size(1) is:99\n",
      "x.size(1) is:99\n",
      "x.size(1) is:99\n"
     ]
    },
    {
     "name": "stderr",
     "output_type": "stream",
     "text": [
      "\n",
      "\n",
      "\n",
      "\n",
      "loss - 0.4930:   0%|          | 715/196682 [00:55<4:32:52, 11.97it/s]\u001b[A\u001b[A\u001b[A\u001b[A\n",
      "\n",
      "\n",
      "\n",
      "loss - 0.4930:   0%|          | 717/196682 [00:55<4:32:37, 11.98it/s]\u001b[A\u001b[A\u001b[A\u001b[A\n",
      "\n",
      "\n",
      "\n",
      "loss - 0.1353:   0%|          | 717/196682 [00:55<4:32:37, 11.98it/s]\u001b[A\u001b[A\u001b[A\u001b[A\n",
      "\n",
      "\n",
      "\n",
      "loss - 0.2157:   0%|          | 717/196682 [00:55<4:32:37, 11.98it/s]\u001b[A\u001b[A\u001b[A\u001b[A\n",
      "\n",
      "\n",
      "\n",
      "loss - 0.2157:   0%|          | 719/196682 [00:55<4:32:14, 12.00it/s]\u001b[A\u001b[A\u001b[A\u001b[A"
     ]
    },
    {
     "name": "stdout",
     "output_type": "stream",
     "text": [
      "x.size(1) is:99\n",
      "x.size(1) is:99\n",
      "x.size(1) is:99\n"
     ]
    },
    {
     "name": "stderr",
     "output_type": "stream",
     "text": [
      "\n",
      "\n",
      "\n",
      "\n",
      "loss - 0.2178:   0%|          | 719/196682 [00:55<4:32:14, 12.00it/s]\u001b[A\u001b[A\u001b[A\u001b[A\n",
      "\n",
      "\n",
      "\n",
      "loss - 0.4334:   0%|          | 719/196682 [00:55<4:32:14, 12.00it/s]\u001b[A\u001b[A\u001b[A\u001b[A\n",
      "\n",
      "\n",
      "\n",
      "loss - 0.4334:   0%|          | 721/196682 [00:55<4:33:33, 11.94it/s]\u001b[A\u001b[A\u001b[A\u001b[A\n",
      "\n",
      "\n",
      "\n",
      "loss - 0.3181:   0%|          | 721/196682 [00:55<4:33:33, 11.94it/s]\u001b[A\u001b[A\u001b[A\u001b[A"
     ]
    },
    {
     "name": "stdout",
     "output_type": "stream",
     "text": [
      "x.size(1) is:99\n",
      "x.size(1) is:99\n",
      "x.size(1) is:99\n"
     ]
    },
    {
     "name": "stderr",
     "output_type": "stream",
     "text": [
      "\n",
      "\n",
      "\n",
      "\n",
      "loss - 0.3628:   0%|          | 721/196682 [00:55<4:33:33, 11.94it/s]\u001b[A\u001b[A\u001b[A\u001b[A\n",
      "\n",
      "\n",
      "\n",
      "loss - 0.3628:   0%|          | 723/196682 [00:55<4:31:12, 12.04it/s]\u001b[A\u001b[A\u001b[A\u001b[A\n",
      "\n",
      "\n",
      "\n",
      "loss - 0.2844:   0%|          | 723/196682 [00:55<4:31:12, 12.04it/s]\u001b[A\u001b[A\u001b[A\u001b[A\n",
      "\n",
      "\n",
      "\n",
      "loss - 0.1814:   0%|          | 723/196682 [00:55<4:31:12, 12.04it/s]\u001b[A\u001b[A\u001b[A\u001b[A\n",
      "\n",
      "\n",
      "\n",
      "loss - 0.1814:   0%|          | 725/196682 [00:55<4:30:11, 12.09it/s]\u001b[A\u001b[A\u001b[A\u001b[A"
     ]
    },
    {
     "name": "stdout",
     "output_type": "stream",
     "text": [
      "x.size(1) is:99\n",
      "x.size(1) is:99\n",
      "x.size(1) is:99\n"
     ]
    },
    {
     "name": "stderr",
     "output_type": "stream",
     "text": [
      "\n",
      "\n",
      "\n",
      "\n",
      "loss - 0.1456:   0%|          | 725/196682 [00:55<4:30:11, 12.09it/s]\u001b[A\u001b[A\u001b[A\u001b[A\n",
      "\n",
      "\n",
      "\n",
      "loss - 0.4801:   0%|          | 725/196682 [00:56<4:30:11, 12.09it/s]\u001b[A\u001b[A\u001b[A\u001b[A\n",
      "\n",
      "\n",
      "\n",
      "loss - 0.4801:   0%|          | 727/196682 [00:56<4:30:04, 12.09it/s]\u001b[A\u001b[A\u001b[A\u001b[A\n",
      "\n",
      "\n",
      "\n",
      "loss - 0.1128:   0%|          | 727/196682 [00:56<4:30:04, 12.09it/s]\u001b[A\u001b[A\u001b[A\u001b[A"
     ]
    },
    {
     "name": "stdout",
     "output_type": "stream",
     "text": [
      "x.size(1) is:99\n",
      "x.size(1) is:99\n",
      "x.size(1) is:99\n"
     ]
    },
    {
     "name": "stderr",
     "output_type": "stream",
     "text": [
      "\n",
      "\n",
      "\n",
      "\n",
      "loss - 0.3176:   0%|          | 727/196682 [00:56<4:30:04, 12.09it/s]\u001b[A\u001b[A\u001b[A\u001b[A\n",
      "\n",
      "\n",
      "\n",
      "loss - 0.3176:   0%|          | 729/196682 [00:56<4:29:12, 12.13it/s]\u001b[A\u001b[A\u001b[A\u001b[A\n",
      "\n",
      "\n",
      "\n",
      "loss - 0.3281:   0%|          | 729/196682 [00:56<4:29:12, 12.13it/s]\u001b[A\u001b[A\u001b[A\u001b[A\n",
      "\n",
      "\n",
      "\n",
      "loss - 0.1435:   0%|          | 729/196682 [00:56<4:29:12, 12.13it/s]\u001b[A\u001b[A\u001b[A\u001b[A\n",
      "\n",
      "\n",
      "\n",
      "loss - 0.1435:   0%|          | 731/196682 [00:56<4:29:07, 12.13it/s]\u001b[A\u001b[A\u001b[A\u001b[A"
     ]
    },
    {
     "name": "stdout",
     "output_type": "stream",
     "text": [
      "x.size(1) is:99\n",
      "x.size(1) is:99\n",
      "x.size(1) is:99\n"
     ]
    },
    {
     "name": "stderr",
     "output_type": "stream",
     "text": [
      "\n",
      "\n",
      "\n",
      "\n",
      "loss - 0.0889:   0%|          | 731/196682 [00:56<4:29:07, 12.13it/s]\u001b[A\u001b[A\u001b[A\u001b[A\n",
      "\n",
      "\n",
      "\n",
      "loss - 0.3386:   0%|          | 731/196682 [00:56<4:29:07, 12.13it/s]\u001b[A\u001b[A\u001b[A\u001b[A\n",
      "\n",
      "\n",
      "\n",
      "loss - 0.3386:   0%|          | 733/196682 [00:56<4:39:21, 11.69it/s]\u001b[A\u001b[A\u001b[A\u001b[A\n",
      "\n",
      "\n",
      "\n",
      "loss - 0.0711:   0%|          | 733/196682 [00:56<4:39:21, 11.69it/s]\u001b[A\u001b[A\u001b[A\u001b[A"
     ]
    },
    {
     "name": "stdout",
     "output_type": "stream",
     "text": [
      "x.size(1) is:99\n",
      "x.size(1) is:99\n",
      "x.size(1) is:99\n"
     ]
    },
    {
     "name": "stderr",
     "output_type": "stream",
     "text": [
      "\n",
      "\n",
      "\n",
      "\n",
      "loss - 0.1440:   0%|          | 733/196682 [00:56<4:39:21, 11.69it/s]\u001b[A\u001b[A\u001b[A\u001b[A\n",
      "\n",
      "\n",
      "\n",
      "loss - 0.1440:   0%|          | 735/196682 [00:56<4:38:26, 11.73it/s]\u001b[A\u001b[A\u001b[A\u001b[A\n",
      "\n",
      "\n",
      "\n",
      "loss - 0.1471:   0%|          | 735/196682 [00:56<4:38:26, 11.73it/s]\u001b[A\u001b[A\u001b[A\u001b[A\n",
      "\n",
      "\n",
      "\n",
      "loss - 0.0716:   0%|          | 735/196682 [00:56<4:38:26, 11.73it/s]\u001b[A\u001b[A\u001b[A\u001b[A\n",
      "\n",
      "\n",
      "\n",
      "loss - 0.0716:   0%|          | 737/196682 [00:56<4:36:23, 11.82it/s]\u001b[A\u001b[A\u001b[A\u001b[A"
     ]
    },
    {
     "name": "stdout",
     "output_type": "stream",
     "text": [
      "x.size(1) is:99\n",
      "x.size(1) is:99\n",
      "x.size(1) is:99\n"
     ]
    },
    {
     "name": "stderr",
     "output_type": "stream",
     "text": [
      "\n",
      "\n",
      "\n",
      "\n",
      "loss - 0.6311:   0%|          | 737/196682 [00:56<4:36:23, 11.82it/s]\u001b[A\u001b[A\u001b[A\u001b[A\n",
      "\n",
      "\n",
      "\n",
      "loss - 0.5958:   0%|          | 737/196682 [00:57<4:36:23, 11.82it/s]\u001b[A\u001b[A\u001b[A\u001b[A\n",
      "\n",
      "\n",
      "\n",
      "loss - 0.5958:   0%|          | 739/196682 [00:57<4:36:42, 11.80it/s]\u001b[A\u001b[A\u001b[A\u001b[A\n",
      "\n",
      "\n",
      "\n",
      "loss - 0.2114:   0%|          | 739/196682 [00:57<4:36:42, 11.80it/s]\u001b[A\u001b[A\u001b[A\u001b[A"
     ]
    },
    {
     "name": "stdout",
     "output_type": "stream",
     "text": [
      "x.size(1) is:99\n",
      "x.size(1) is:99\n",
      "x.size(1) is:99\n"
     ]
    },
    {
     "name": "stderr",
     "output_type": "stream",
     "text": [
      "\n",
      "\n",
      "\n",
      "\n",
      "loss - 0.2745:   0%|          | 739/196682 [00:57<4:36:42, 11.80it/s]\u001b[A\u001b[A\u001b[A\u001b[A\n",
      "\n",
      "\n",
      "\n",
      "loss - 0.2745:   0%|          | 741/196682 [00:57<4:33:29, 11.94it/s]\u001b[A\u001b[A\u001b[A\u001b[A\n",
      "\n",
      "\n",
      "\n",
      "loss - 0.1356:   0%|          | 741/196682 [00:57<4:33:29, 11.94it/s]\u001b[A\u001b[A\u001b[A\u001b[A\n",
      "\n",
      "\n",
      "\n",
      "loss - 0.1222:   0%|          | 741/196682 [00:57<4:33:29, 11.94it/s]\u001b[A\u001b[A\u001b[A\u001b[A\n",
      "\n",
      "\n",
      "\n",
      "loss - 0.1222:   0%|          | 743/196682 [00:57<4:32:34, 11.98it/s]\u001b[A\u001b[A\u001b[A\u001b[A"
     ]
    },
    {
     "name": "stdout",
     "output_type": "stream",
     "text": [
      "x.size(1) is:99\n",
      "x.size(1) is:99\n",
      "x.size(1) is:99\n"
     ]
    },
    {
     "name": "stderr",
     "output_type": "stream",
     "text": [
      "\n",
      "\n",
      "\n",
      "\n",
      "loss - 0.3842:   0%|          | 743/196682 [00:57<4:32:34, 11.98it/s]\u001b[A\u001b[A\u001b[A\u001b[A\n",
      "\n",
      "\n",
      "\n",
      "loss - 0.5941:   0%|          | 743/196682 [00:57<4:32:34, 11.98it/s]\u001b[A\u001b[A\u001b[A\u001b[A\n",
      "\n",
      "\n",
      "\n",
      "loss - 0.5941:   0%|          | 745/196682 [00:57<4:33:20, 11.95it/s]\u001b[A\u001b[A\u001b[A\u001b[A\n",
      "\n",
      "\n",
      "\n",
      "loss - 0.1627:   0%|          | 745/196682 [00:57<4:33:20, 11.95it/s]\u001b[A\u001b[A\u001b[A\u001b[A"
     ]
    },
    {
     "name": "stdout",
     "output_type": "stream",
     "text": [
      "x.size(1) is:99\n",
      "x.size(1) is:99\n",
      "x.size(1) is:99\n"
     ]
    },
    {
     "name": "stderr",
     "output_type": "stream",
     "text": [
      "\n",
      "\n",
      "\n",
      "\n",
      "loss - 0.3541:   0%|          | 745/196682 [00:57<4:33:20, 11.95it/s]\u001b[A\u001b[A\u001b[A\u001b[A\n",
      "\n",
      "\n",
      "\n",
      "loss - 0.3541:   0%|          | 747/196682 [00:57<4:37:29, 11.77it/s]\u001b[A\u001b[A\u001b[A\u001b[A\n",
      "\n",
      "\n",
      "\n",
      "loss - 0.3299:   0%|          | 747/196682 [00:57<4:37:29, 11.77it/s]\u001b[A\u001b[A\u001b[A\u001b[A\n",
      "\n",
      "\n",
      "\n",
      "loss - 0.1985:   0%|          | 747/196682 [00:57<4:37:29, 11.77it/s]\u001b[A\u001b[A\u001b[A\u001b[A\n",
      "\n",
      "\n",
      "\n",
      "loss - 0.1985:   0%|          | 749/196682 [00:57<4:35:20, 11.86it/s]\u001b[A\u001b[A\u001b[A\u001b[A"
     ]
    },
    {
     "name": "stdout",
     "output_type": "stream",
     "text": [
      "x.size(1) is:99\n",
      "x.size(1) is:99\n",
      "x.size(1) is:99\n"
     ]
    },
    {
     "name": "stderr",
     "output_type": "stream",
     "text": [
      "\n",
      "\n",
      "\n",
      "\n",
      "loss - 0.0997:   0%|          | 749/196682 [00:57<4:35:20, 11.86it/s]\u001b[A\u001b[A\u001b[A\u001b[A\n",
      "\n",
      "\n",
      "\n",
      "loss - 0.3391:   0%|          | 749/196682 [00:58<4:35:20, 11.86it/s]\u001b[A\u001b[A\u001b[A\u001b[A\n",
      "\n",
      "\n",
      "\n",
      "loss - 0.3391:   0%|          | 751/196682 [00:58<4:34:53, 11.88it/s]\u001b[A\u001b[A\u001b[A\u001b[A\n",
      "\n",
      "\n",
      "\n",
      "loss - 0.1594:   0%|          | 751/196682 [00:58<4:34:53, 11.88it/s]\u001b[A\u001b[A\u001b[A\u001b[A"
     ]
    },
    {
     "name": "stdout",
     "output_type": "stream",
     "text": [
      "x.size(1) is:99\n",
      "x.size(1) is:99\n",
      "x.size(1) is:99\n"
     ]
    },
    {
     "name": "stderr",
     "output_type": "stream",
     "text": [
      "\n",
      "\n",
      "\n",
      "\n",
      "loss - 0.2549:   0%|          | 751/196682 [00:58<4:34:53, 11.88it/s]\u001b[A\u001b[A\u001b[A\u001b[A\n",
      "\n",
      "\n",
      "\n",
      "loss - 0.2549:   0%|          | 753/196682 [00:58<4:33:18, 11.95it/s]\u001b[A\u001b[A\u001b[A\u001b[A\n",
      "\n",
      "\n",
      "\n",
      "loss - 0.5133:   0%|          | 753/196682 [00:58<4:33:18, 11.95it/s]\u001b[A\u001b[A\u001b[A\u001b[A\n",
      "\n",
      "\n",
      "\n",
      "loss - 0.5649:   0%|          | 753/196682 [00:58<4:33:18, 11.95it/s]\u001b[A\u001b[A\u001b[A\u001b[A\n",
      "\n",
      "\n",
      "\n",
      "loss - 0.5649:   0%|          | 755/196682 [00:58<4:34:14, 11.91it/s]\u001b[A\u001b[A\u001b[A\u001b[A"
     ]
    },
    {
     "name": "stdout",
     "output_type": "stream",
     "text": [
      "x.size(1) is:99\n",
      "x.size(1) is:99\n",
      "x.size(1) is:99\n"
     ]
    },
    {
     "name": "stderr",
     "output_type": "stream",
     "text": [
      "\n",
      "\n",
      "\n",
      "\n",
      "loss - 0.0612:   0%|          | 755/196682 [00:58<4:34:14, 11.91it/s]\u001b[A\u001b[A\u001b[A\u001b[A\n",
      "\n",
      "\n",
      "\n",
      "loss - 0.0989:   0%|          | 755/196682 [00:58<4:34:14, 11.91it/s]\u001b[A\u001b[A\u001b[A\u001b[A\n",
      "\n",
      "\n",
      "\n",
      "loss - 0.0989:   0%|          | 757/196682 [00:58<4:35:23, 11.86it/s]\u001b[A\u001b[A\u001b[A\u001b[A\n",
      "\n",
      "\n",
      "\n",
      "loss - 0.1331:   0%|          | 757/196682 [00:58<4:35:23, 11.86it/s]\u001b[A\u001b[A\u001b[A\u001b[A"
     ]
    },
    {
     "name": "stdout",
     "output_type": "stream",
     "text": [
      "x.size(1) is:99\n",
      "x.size(1) is:99\n",
      "x.size(1) is:99\n"
     ]
    },
    {
     "name": "stderr",
     "output_type": "stream",
     "text": [
      "\n",
      "\n",
      "\n",
      "\n",
      "loss - 0.0585:   0%|          | 757/196682 [00:58<4:35:23, 11.86it/s]\u001b[A\u001b[A\u001b[A\u001b[A\n",
      "\n",
      "\n",
      "\n",
      "loss - 0.0585:   0%|          | 759/196682 [00:58<4:37:21, 11.77it/s]\u001b[A\u001b[A\u001b[A\u001b[A\n",
      "\n",
      "\n",
      "\n",
      "loss - 0.1351:   0%|          | 759/196682 [00:58<4:37:21, 11.77it/s]\u001b[A\u001b[A\u001b[A\u001b[A\n",
      "\n",
      "\n",
      "\n",
      "loss - 0.2848:   0%|          | 759/196682 [00:58<4:37:21, 11.77it/s]\u001b[A\u001b[A\u001b[A\u001b[A\n",
      "\n",
      "\n",
      "\n",
      "loss - 0.2848:   0%|          | 761/196682 [00:58<4:34:39, 11.89it/s]\u001b[A\u001b[A\u001b[A\u001b[A"
     ]
    },
    {
     "name": "stdout",
     "output_type": "stream",
     "text": [
      "x.size(1) is:99\n",
      "x.size(1) is:99\n",
      "x.size(1) is:99\n"
     ]
    },
    {
     "name": "stderr",
     "output_type": "stream",
     "text": [
      "\n",
      "\n",
      "\n",
      "\n",
      "loss - 0.2334:   0%|          | 761/196682 [00:59<4:34:39, 11.89it/s]\u001b[A\u001b[A\u001b[A\u001b[A\n",
      "\n",
      "\n",
      "\n",
      "loss - 0.0703:   0%|          | 761/196682 [00:59<4:34:39, 11.89it/s]\u001b[A\u001b[A\u001b[A\u001b[A\n",
      "\n",
      "\n",
      "\n",
      "loss - 0.0703:   0%|          | 763/196682 [00:59<4:33:32, 11.94it/s]\u001b[A\u001b[A\u001b[A\u001b[A\n",
      "\n",
      "\n",
      "\n",
      "loss - 0.4415:   0%|          | 763/196682 [00:59<4:33:32, 11.94it/s]\u001b[A\u001b[A\u001b[A\u001b[A"
     ]
    },
    {
     "name": "stdout",
     "output_type": "stream",
     "text": [
      "x.size(1) is:99\n",
      "x.size(1) is:99\n",
      "x.size(1) is:99\n"
     ]
    },
    {
     "name": "stderr",
     "output_type": "stream",
     "text": [
      "\n",
      "\n",
      "\n",
      "\n",
      "loss - 0.6671:   0%|          | 763/196682 [00:59<4:33:32, 11.94it/s]\u001b[A\u001b[A\u001b[A\u001b[A\n",
      "\n",
      "\n",
      "\n",
      "loss - 0.6671:   0%|          | 765/196682 [00:59<4:32:10, 12.00it/s]\u001b[A\u001b[A\u001b[A\u001b[A\n",
      "\n",
      "\n",
      "\n",
      "loss - 0.0930:   0%|          | 765/196682 [00:59<4:32:10, 12.00it/s]\u001b[A\u001b[A\u001b[A\u001b[A\n",
      "\n",
      "\n",
      "\n",
      "loss - 0.1662:   0%|          | 765/196682 [00:59<4:32:10, 12.00it/s]\u001b[A\u001b[A\u001b[A\u001b[A\n",
      "\n",
      "\n",
      "\n",
      "loss - 0.1662:   0%|          | 767/196682 [00:59<4:33:06, 11.96it/s]\u001b[A\u001b[A\u001b[A\u001b[A"
     ]
    },
    {
     "name": "stdout",
     "output_type": "stream",
     "text": [
      "x.size(1) is:99\n",
      "x.size(1) is:99\n",
      "x.size(1) is:99\n"
     ]
    },
    {
     "name": "stderr",
     "output_type": "stream",
     "text": [
      "\n",
      "\n",
      "\n",
      "\n",
      "loss - 0.3823:   0%|          | 767/196682 [00:59<4:33:06, 11.96it/s]\u001b[A\u001b[A\u001b[A\u001b[A\n",
      "\n",
      "\n",
      "\n",
      "loss - 0.1620:   0%|          | 767/196682 [00:59<4:33:06, 11.96it/s]\u001b[A\u001b[A\u001b[A\u001b[A\n",
      "\n",
      "\n",
      "\n",
      "loss - 0.1620:   0%|          | 769/196682 [00:59<4:32:53, 11.96it/s]\u001b[A\u001b[A\u001b[A\u001b[A\n",
      "\n",
      "\n",
      "\n",
      "loss - 0.3506:   0%|          | 769/196682 [00:59<4:32:53, 11.96it/s]\u001b[A\u001b[A\u001b[A\u001b[A"
     ]
    },
    {
     "name": "stdout",
     "output_type": "stream",
     "text": [
      "x.size(1) is:99\n",
      "x.size(1) is:99\n",
      "x.size(1) is:99\n"
     ]
    },
    {
     "name": "stderr",
     "output_type": "stream",
     "text": [
      "\n",
      "\n",
      "\n",
      "\n",
      "loss - 0.2613:   0%|          | 769/196682 [00:59<4:32:53, 11.96it/s]\u001b[A\u001b[A\u001b[A\u001b[A\n",
      "\n",
      "\n",
      "\n",
      "loss - 0.2613:   0%|          | 771/196682 [00:59<4:31:06, 12.04it/s]\u001b[A\u001b[A\u001b[A\u001b[A\n",
      "\n",
      "\n",
      "\n",
      "loss - 0.5921:   0%|          | 771/196682 [00:59<4:31:06, 12.04it/s]\u001b[A\u001b[A\u001b[A\u001b[A\n",
      "\n",
      "\n",
      "\n",
      "loss - 0.1207:   0%|          | 771/196682 [00:59<4:31:06, 12.04it/s]\u001b[A\u001b[A\u001b[A\u001b[A\n",
      "\n",
      "\n",
      "\n",
      "loss - 0.1207:   0%|          | 773/196682 [00:59<4:31:30, 12.03it/s]\u001b[A\u001b[A\u001b[A\u001b[A"
     ]
    },
    {
     "name": "stdout",
     "output_type": "stream",
     "text": [
      "x.size(1) is:99\n",
      "x.size(1) is:99\n",
      "x.size(1) is:99\n"
     ]
    },
    {
     "name": "stderr",
     "output_type": "stream",
     "text": [
      "\n",
      "\n",
      "\n",
      "\n",
      "loss - 0.1947:   0%|          | 773/196682 [01:00<4:31:30, 12.03it/s]\u001b[A\u001b[A\u001b[A\u001b[A\n",
      "\n",
      "\n",
      "\n",
      "loss - 0.2422:   0%|          | 773/196682 [01:00<4:31:30, 12.03it/s]\u001b[A\u001b[A\u001b[A\u001b[A\n",
      "\n",
      "\n",
      "\n",
      "loss - 0.2422:   0%|          | 775/196682 [01:00<4:32:22, 11.99it/s]\u001b[A\u001b[A\u001b[A\u001b[A\n",
      "\n",
      "\n",
      "\n",
      "loss - 0.3114:   0%|          | 775/196682 [01:00<4:32:22, 11.99it/s]\u001b[A\u001b[A\u001b[A\u001b[A"
     ]
    },
    {
     "name": "stdout",
     "output_type": "stream",
     "text": [
      "x.size(1) is:99\n",
      "x.size(1) is:99\n",
      "x.size(1) is:99\n"
     ]
    },
    {
     "name": "stderr",
     "output_type": "stream",
     "text": [
      "\n",
      "\n",
      "\n",
      "\n",
      "loss - 0.3261:   0%|          | 775/196682 [01:00<4:32:22, 11.99it/s]\u001b[A\u001b[A\u001b[A\u001b[A\n",
      "\n",
      "\n",
      "\n",
      "loss - 0.3261:   0%|          | 777/196682 [01:00<4:31:34, 12.02it/s]\u001b[A\u001b[A\u001b[A\u001b[A\n",
      "\n",
      "\n",
      "\n",
      "loss - 0.1820:   0%|          | 777/196682 [01:00<4:31:34, 12.02it/s]\u001b[A\u001b[A\u001b[A\u001b[A\n",
      "\n",
      "\n",
      "\n",
      "loss - 0.3873:   0%|          | 777/196682 [01:00<4:31:34, 12.02it/s]\u001b[A\u001b[A\u001b[A\u001b[A\n",
      "\n",
      "\n",
      "\n",
      "loss - 0.3873:   0%|          | 779/196682 [01:00<4:31:38, 12.02it/s]\u001b[A\u001b[A\u001b[A\u001b[A"
     ]
    },
    {
     "name": "stdout",
     "output_type": "stream",
     "text": [
      "x.size(1) is:99\n",
      "x.size(1) is:99\n",
      "x.size(1) is:99\n"
     ]
    },
    {
     "name": "stderr",
     "output_type": "stream",
     "text": [
      "\n",
      "\n",
      "\n",
      "\n",
      "loss - 0.0738:   0%|          | 779/196682 [01:00<4:31:38, 12.02it/s]\u001b[A\u001b[A\u001b[A\u001b[A\n",
      "\n",
      "\n",
      "\n",
      "loss - 0.1180:   0%|          | 779/196682 [01:00<4:31:38, 12.02it/s]\u001b[A\u001b[A\u001b[A\u001b[A\n",
      "\n",
      "\n",
      "\n",
      "loss - 0.1180:   0%|          | 781/196682 [01:00<4:38:53, 11.71it/s]\u001b[A\u001b[A\u001b[A\u001b[A\n",
      "\n",
      "\n",
      "\n",
      "loss - 0.3674:   0%|          | 781/196682 [01:00<4:38:53, 11.71it/s]\u001b[A\u001b[A\u001b[A\u001b[A"
     ]
    },
    {
     "name": "stdout",
     "output_type": "stream",
     "text": [
      "x.size(1) is:99\n",
      "x.size(1) is:99\n",
      "x.size(1) is:99\n"
     ]
    },
    {
     "name": "stderr",
     "output_type": "stream",
     "text": [
      "\n",
      "\n",
      "\n",
      "\n",
      "loss - 0.4917:   0%|          | 781/196682 [01:00<4:38:53, 11.71it/s]\u001b[A\u001b[A\u001b[A\u001b[A\n",
      "\n",
      "\n",
      "\n",
      "loss - 0.4917:   0%|          | 783/196682 [01:00<4:38:43, 11.71it/s]\u001b[A\u001b[A\u001b[A\u001b[A\n",
      "\n",
      "\n",
      "\n",
      "loss - 0.4513:   0%|          | 783/196682 [01:00<4:38:43, 11.71it/s]\u001b[A\u001b[A\u001b[A\u001b[A\n",
      "\n",
      "\n",
      "\n",
      "loss - 0.0831:   0%|          | 783/196682 [01:00<4:38:43, 11.71it/s]\u001b[A\u001b[A\u001b[A\u001b[A\n",
      "\n",
      "\n",
      "\n",
      "loss - 0.0831:   0%|          | 785/196682 [01:00<4:36:12, 11.82it/s]\u001b[A\u001b[A\u001b[A\u001b[A"
     ]
    },
    {
     "name": "stdout",
     "output_type": "stream",
     "text": [
      "x.size(1) is:99\n",
      "x.size(1) is:99\n",
      "x.size(1) is:99\n"
     ]
    },
    {
     "name": "stderr",
     "output_type": "stream",
     "text": [
      "\n",
      "\n",
      "\n",
      "\n",
      "loss - 0.2710:   0%|          | 785/196682 [01:01<4:36:12, 11.82it/s]\u001b[A\u001b[A\u001b[A\u001b[A\n",
      "\n",
      "\n",
      "\n",
      "loss - 0.0540:   0%|          | 785/196682 [01:01<4:36:12, 11.82it/s]\u001b[A\u001b[A\u001b[A\u001b[A\n",
      "\n",
      "\n",
      "\n",
      "loss - 0.0540:   0%|          | 787/196682 [01:01<4:34:56, 11.87it/s]\u001b[A\u001b[A\u001b[A\u001b[A\n",
      "\n",
      "\n",
      "\n",
      "loss - 0.0763:   0%|          | 787/196682 [01:01<4:34:56, 11.87it/s]\u001b[A\u001b[A\u001b[A\u001b[A"
     ]
    },
    {
     "name": "stdout",
     "output_type": "stream",
     "text": [
      "x.size(1) is:99\n",
      "x.size(1) is:99\n",
      "x.size(1) is:99\n"
     ]
    },
    {
     "name": "stderr",
     "output_type": "stream",
     "text": [
      "\n",
      "\n",
      "\n",
      "\n",
      "loss - 0.2829:   0%|          | 787/196682 [01:01<4:34:56, 11.87it/s]\u001b[A\u001b[A\u001b[A\u001b[A\n",
      "\n",
      "\n",
      "\n",
      "loss - 0.2829:   0%|          | 789/196682 [01:01<4:34:05, 11.91it/s]\u001b[A\u001b[A\u001b[A\u001b[A\n",
      "\n",
      "\n",
      "\n",
      "loss - 0.3383:   0%|          | 789/196682 [01:01<4:34:05, 11.91it/s]\u001b[A\u001b[A\u001b[A\u001b[A\n",
      "\n",
      "\n",
      "\n",
      "loss - 0.1807:   0%|          | 789/196682 [01:01<4:34:05, 11.91it/s]\u001b[A\u001b[A\u001b[A\u001b[A\n",
      "\n",
      "\n",
      "\n",
      "loss - 0.1807:   0%|          | 791/196682 [01:01<4:32:55, 11.96it/s]\u001b[A\u001b[A\u001b[A\u001b[A"
     ]
    },
    {
     "name": "stdout",
     "output_type": "stream",
     "text": [
      "x.size(1) is:99\n",
      "x.size(1) is:99\n",
      "x.size(1) is:99\n"
     ]
    },
    {
     "name": "stderr",
     "output_type": "stream",
     "text": [
      "\n",
      "\n",
      "\n",
      "\n",
      "loss - 0.4021:   0%|          | 791/196682 [01:01<4:32:55, 11.96it/s]\u001b[A\u001b[A\u001b[A\u001b[A\n",
      "\n",
      "\n",
      "\n",
      "loss - 0.3081:   0%|          | 791/196682 [01:01<4:32:55, 11.96it/s]\u001b[A\u001b[A\u001b[A\u001b[A\n",
      "\n",
      "\n",
      "\n",
      "loss - 0.3081:   0%|          | 793/196682 [01:01<4:36:33, 11.80it/s]\u001b[A\u001b[A\u001b[A\u001b[A\n",
      "\n",
      "\n",
      "\n",
      "loss - 0.3072:   0%|          | 793/196682 [01:01<4:36:33, 11.80it/s]\u001b[A\u001b[A\u001b[A\u001b[A"
     ]
    },
    {
     "name": "stdout",
     "output_type": "stream",
     "text": [
      "x.size(1) is:99\n",
      "x.size(1) is:99\n",
      "x.size(1) is:99\n"
     ]
    },
    {
     "name": "stderr",
     "output_type": "stream",
     "text": [
      "\n",
      "\n",
      "\n",
      "\n",
      "loss - 0.1638:   0%|          | 793/196682 [01:01<4:36:33, 11.80it/s]\u001b[A\u001b[A\u001b[A\u001b[A\n",
      "\n",
      "\n",
      "\n",
      "loss - 0.1638:   0%|          | 795/196682 [01:01<4:34:32, 11.89it/s]\u001b[A\u001b[A\u001b[A\u001b[A\n",
      "\n",
      "\n",
      "\n",
      "loss - 0.3345:   0%|          | 795/196682 [01:01<4:34:32, 11.89it/s]\u001b[A\u001b[A\u001b[A\u001b[A\n",
      "\n",
      "\n",
      "\n",
      "loss - 0.1542:   0%|          | 795/196682 [01:01<4:34:32, 11.89it/s]\u001b[A\u001b[A\u001b[A\u001b[A\n",
      "\n",
      "\n",
      "\n",
      "loss - 0.1542:   0%|          | 797/196682 [01:01<4:33:37, 11.93it/s]\u001b[A\u001b[A\u001b[A\u001b[A"
     ]
    },
    {
     "name": "stdout",
     "output_type": "stream",
     "text": [
      "x.size(1) is:99\n",
      "x.size(1) is:99\n",
      "x.size(1) is:99\n"
     ]
    },
    {
     "name": "stderr",
     "output_type": "stream",
     "text": [
      "\n",
      "\n",
      "\n",
      "\n",
      "loss - 0.0680:   0%|          | 797/196682 [01:02<4:33:37, 11.93it/s]\u001b[A\u001b[A\u001b[A\u001b[A\n",
      "\n",
      "\n",
      "\n",
      "loss - 0.0658:   0%|          | 797/196682 [01:02<4:33:37, 11.93it/s]\u001b[A\u001b[A\u001b[A\u001b[A\n",
      "\n",
      "\n",
      "\n",
      "loss - 0.0658:   0%|          | 799/196682 [01:02<4:33:49, 11.92it/s]\u001b[A\u001b[A\u001b[A\u001b[A\n",
      "\n",
      "\n",
      "\n",
      "loss - 0.3404:   0%|          | 799/196682 [01:02<4:33:49, 11.92it/s]\u001b[A\u001b[A\u001b[A\u001b[A"
     ]
    },
    {
     "name": "stdout",
     "output_type": "stream",
     "text": [
      "x.size(1) is:99\n",
      "x.size(1) is:99\n",
      "x.size(1) is:99\n"
     ]
    },
    {
     "name": "stderr",
     "output_type": "stream",
     "text": [
      "\n",
      "\n",
      "\n",
      "\n",
      "loss - 0.3829:   0%|          | 799/196682 [01:02<4:33:49, 11.92it/s]\u001b[A\u001b[A\u001b[A\u001b[A\n",
      "\n",
      "\n",
      "\n",
      "loss - 0.3829:   0%|          | 801/196682 [01:02<4:33:34, 11.93it/s]\u001b[A\u001b[A\u001b[A\u001b[A\n",
      "\n",
      "\n",
      "\n",
      "loss - 0.4948:   0%|          | 801/196682 [01:02<4:33:34, 11.93it/s]\u001b[A\u001b[A\u001b[A\u001b[A\n",
      "\n",
      "\n",
      "\n",
      "loss - 0.3990:   0%|          | 801/196682 [01:02<4:33:34, 11.93it/s]\u001b[A\u001b[A\u001b[A\u001b[A\n",
      "\n",
      "\n",
      "\n",
      "loss - 0.3990:   0%|          | 803/196682 [01:02<4:34:37, 11.89it/s]\u001b[A\u001b[A\u001b[A\u001b[A"
     ]
    },
    {
     "name": "stdout",
     "output_type": "stream",
     "text": [
      "x.size(1) is:99\n",
      "x.size(1) is:99\n",
      "x.size(1) is:99\n"
     ]
    },
    {
     "name": "stderr",
     "output_type": "stream",
     "text": [
      "\n",
      "\n",
      "\n",
      "\n",
      "loss - 0.3311:   0%|          | 803/196682 [01:02<4:34:37, 11.89it/s]\u001b[A\u001b[A\u001b[A\u001b[A\n",
      "\n",
      "\n",
      "\n",
      "loss - 0.0848:   0%|          | 803/196682 [01:02<4:34:37, 11.89it/s]\u001b[A\u001b[A\u001b[A\u001b[A\n",
      "\n",
      "\n",
      "\n",
      "loss - 0.0848:   0%|          | 805/196682 [01:02<4:35:42, 11.84it/s]\u001b[A\u001b[A\u001b[A\u001b[A"
     ]
    },
    {
     "name": "stdout",
     "output_type": "stream",
     "text": [
      "x.size(1) is:99\n",
      "x.size(1) is:99\n"
     ]
    },
    {
     "name": "stderr",
     "output_type": "stream",
     "text": [
      "\n",
      "\n",
      "\n",
      "\n",
      "loss - 0.3430:   0%|          | 805/196682 [01:02<4:35:42, 11.84it/s]\u001b[A\u001b[A\u001b[A\u001b[A\n",
      "\n",
      "\n",
      "\n",
      "loss - 0.2432:   0%|          | 805/196682 [01:02<4:35:42, 11.84it/s]\u001b[A\u001b[A\u001b[A\u001b[A\n",
      "\n",
      "\n",
      "\n",
      "loss - 0.2432:   0%|          | 807/196682 [01:02<5:18:04, 10.26it/s]\u001b[A\u001b[A\u001b[A\u001b[A\n",
      "\n",
      "\n",
      "\n",
      "loss - 0.4094:   0%|          | 807/196682 [01:02<5:18:04, 10.26it/s]\u001b[A\u001b[A\u001b[A\u001b[A"
     ]
    },
    {
     "name": "stdout",
     "output_type": "stream",
     "text": [
      "x.size(1) is:99\n",
      "x.size(1) is:99\n",
      "x.size(1) is:99\n"
     ]
    },
    {
     "name": "stderr",
     "output_type": "stream",
     "text": [
      "\n",
      "\n",
      "\n",
      "\n",
      "loss - 0.0774:   0%|          | 807/196682 [01:03<5:18:04, 10.26it/s]\u001b[A\u001b[A\u001b[A\u001b[A\n",
      "\n",
      "\n",
      "\n",
      "loss - 0.0774:   0%|          | 809/196682 [01:03<5:04:44, 10.71it/s]\u001b[A\u001b[A\u001b[A\u001b[A\n",
      "\n",
      "\n",
      "\n",
      "loss - 0.6155:   0%|          | 809/196682 [01:03<5:04:44, 10.71it/s]\u001b[A\u001b[A\u001b[A\u001b[A\n",
      "\n",
      "\n",
      "\n",
      "loss - 0.0988:   0%|          | 809/196682 [01:03<5:04:44, 10.71it/s]\u001b[A\u001b[A\u001b[A\u001b[A\n",
      "\n",
      "\n",
      "\n",
      "loss - 0.0988:   0%|          | 811/196682 [01:03<4:53:39, 11.12it/s]\u001b[A\u001b[A\u001b[A\u001b[A"
     ]
    },
    {
     "name": "stdout",
     "output_type": "stream",
     "text": [
      "x.size(1) is:99\n",
      "x.size(1) is:99\n",
      "x.size(1) is:99\n"
     ]
    },
    {
     "name": "stderr",
     "output_type": "stream",
     "text": [
      "\n",
      "\n",
      "\n",
      "\n",
      "loss - 0.2168:   0%|          | 811/196682 [01:03<4:53:39, 11.12it/s]\u001b[A\u001b[A\u001b[A\u001b[A\n",
      "\n",
      "\n",
      "\n",
      "loss - 0.3221:   0%|          | 811/196682 [01:03<4:53:39, 11.12it/s]\u001b[A\u001b[A\u001b[A\u001b[A\n",
      "\n",
      "\n",
      "\n",
      "loss - 0.3221:   0%|          | 813/196682 [01:03<4:47:19, 11.36it/s]\u001b[A\u001b[A\u001b[A\u001b[A\n",
      "\n",
      "\n",
      "\n",
      "loss - 0.3799:   0%|          | 813/196682 [01:03<4:47:19, 11.36it/s]\u001b[A\u001b[A\u001b[A\u001b[A"
     ]
    },
    {
     "name": "stdout",
     "output_type": "stream",
     "text": [
      "x.size(1) is:99\n",
      "x.size(1) is:99\n",
      "x.size(1) is:99\n"
     ]
    },
    {
     "name": "stderr",
     "output_type": "stream",
     "text": [
      "\n",
      "\n",
      "\n",
      "\n",
      "loss - 0.1181:   0%|          | 813/196682 [01:03<4:47:19, 11.36it/s]\u001b[A\u001b[A\u001b[A\u001b[A\n",
      "\n",
      "\n",
      "\n",
      "loss - 0.1181:   0%|          | 815/196682 [01:03<4:43:11, 11.53it/s]\u001b[A\u001b[A\u001b[A\u001b[A\n",
      "\n",
      "\n",
      "\n",
      "loss - 0.5797:   0%|          | 815/196682 [01:03<4:43:11, 11.53it/s]\u001b[A\u001b[A\u001b[A\u001b[A\n",
      "\n",
      "\n",
      "\n",
      "loss - 0.1661:   0%|          | 815/196682 [01:03<4:43:11, 11.53it/s]\u001b[A\u001b[A\u001b[A\u001b[A\n",
      "\n",
      "\n",
      "\n",
      "loss - 0.1661:   0%|          | 817/196682 [01:03<4:39:21, 11.69it/s]\u001b[A\u001b[A\u001b[A\u001b[A"
     ]
    },
    {
     "name": "stdout",
     "output_type": "stream",
     "text": [
      "x.size(1) is:99\n",
      "x.size(1) is:99\n",
      "x.size(1) is:99\n"
     ]
    },
    {
     "name": "stderr",
     "output_type": "stream",
     "text": [
      "\n",
      "\n",
      "\n",
      "\n",
      "loss - 0.3108:   0%|          | 817/196682 [01:03<4:39:21, 11.69it/s]\u001b[A\u001b[A\u001b[A\u001b[A\n",
      "\n",
      "\n",
      "\n",
      "loss - 0.0761:   0%|          | 817/196682 [01:03<4:39:21, 11.69it/s]\u001b[A\u001b[A\u001b[A\u001b[A\n",
      "\n",
      "\n",
      "\n",
      "loss - 0.0761:   0%|          | 819/196682 [01:03<4:38:28, 11.72it/s]\u001b[A\u001b[A\u001b[A\u001b[A\n",
      "\n",
      "\n",
      "\n",
      "loss - 0.1038:   0%|          | 819/196682 [01:03<4:38:28, 11.72it/s]\u001b[A\u001b[A\u001b[A\u001b[A"
     ]
    },
    {
     "name": "stdout",
     "output_type": "stream",
     "text": [
      "x.size(1) is:99\n",
      "x.size(1) is:99\n",
      "x.size(1) is:99\n"
     ]
    },
    {
     "name": "stderr",
     "output_type": "stream",
     "text": [
      "\n",
      "\n",
      "\n",
      "\n",
      "loss - 0.1733:   0%|          | 819/196682 [01:04<4:38:28, 11.72it/s]\u001b[A\u001b[A\u001b[A\u001b[A\n",
      "\n",
      "\n",
      "\n",
      "loss - 0.1733:   0%|          | 821/196682 [01:04<4:37:07, 11.78it/s]\u001b[A\u001b[A\u001b[A\u001b[A\n",
      "\n",
      "\n",
      "\n",
      "loss - 0.4225:   0%|          | 821/196682 [01:04<4:37:07, 11.78it/s]\u001b[A\u001b[A\u001b[A\u001b[A\n",
      "\n",
      "\n",
      "\n",
      "loss - 0.3916:   0%|          | 821/196682 [01:04<4:37:07, 11.78it/s]\u001b[A\u001b[A\u001b[A\u001b[A\n",
      "\n",
      "\n",
      "\n",
      "loss - 0.3916:   0%|          | 823/196682 [01:04<4:33:52, 11.92it/s]\u001b[A\u001b[A\u001b[A\u001b[A"
     ]
    },
    {
     "name": "stdout",
     "output_type": "stream",
     "text": [
      "x.size(1) is:99\n",
      "x.size(1) is:99\n",
      "x.size(1) is:99\n"
     ]
    },
    {
     "name": "stderr",
     "output_type": "stream",
     "text": [
      "\n",
      "\n",
      "\n",
      "\n",
      "loss - 0.5163:   0%|          | 823/196682 [01:04<4:33:52, 11.92it/s]\u001b[A\u001b[A\u001b[A\u001b[A\n",
      "\n",
      "\n",
      "\n",
      "loss - 0.1264:   0%|          | 823/196682 [01:04<4:33:52, 11.92it/s]\u001b[A\u001b[A\u001b[A\u001b[A\n",
      "\n",
      "\n",
      "\n",
      "loss - 0.1264:   0%|          | 825/196682 [01:04<4:32:57, 11.96it/s]\u001b[A\u001b[A\u001b[A\u001b[A\n",
      "\n",
      "\n",
      "\n",
      "loss - 0.4498:   0%|          | 825/196682 [01:04<4:32:57, 11.96it/s]\u001b[A\u001b[A\u001b[A\u001b[A"
     ]
    },
    {
     "name": "stdout",
     "output_type": "stream",
     "text": [
      "x.size(1) is:99\n",
      "x.size(1) is:99\n",
      "x.size(1) is:99\n"
     ]
    },
    {
     "name": "stderr",
     "output_type": "stream",
     "text": [
      "\n",
      "\n",
      "\n",
      "\n",
      "loss - 0.3454:   0%|          | 825/196682 [01:04<4:32:57, 11.96it/s]\u001b[A\u001b[A\u001b[A\u001b[A\n",
      "\n",
      "\n",
      "\n",
      "loss - 0.3454:   0%|          | 827/196682 [01:04<4:31:52, 12.01it/s]\u001b[A\u001b[A\u001b[A\u001b[A\n",
      "\n",
      "\n",
      "\n",
      "loss - 0.2499:   0%|          | 827/196682 [01:04<4:31:52, 12.01it/s]\u001b[A\u001b[A\u001b[A\u001b[A\n",
      "\n",
      "\n",
      "\n",
      "loss - 0.0562:   0%|          | 827/196682 [01:04<4:31:52, 12.01it/s]\u001b[A\u001b[A\u001b[A\u001b[A\n",
      "\n",
      "\n",
      "\n",
      "loss - 0.0562:   0%|          | 829/196682 [01:04<4:33:01, 11.96it/s]\u001b[A\u001b[A\u001b[A\u001b[A"
     ]
    },
    {
     "name": "stdout",
     "output_type": "stream",
     "text": [
      "x.size(1) is:99\n",
      "x.size(1) is:99\n",
      "x.size(1) is:99\n"
     ]
    },
    {
     "name": "stderr",
     "output_type": "stream",
     "text": [
      "\n",
      "\n",
      "\n",
      "\n",
      "loss - 0.2289:   0%|          | 829/196682 [01:04<4:33:01, 11.96it/s]\u001b[A\u001b[A\u001b[A\u001b[A\n",
      "\n",
      "\n",
      "\n",
      "loss - 0.3788:   0%|          | 829/196682 [01:04<4:33:01, 11.96it/s]\u001b[A\u001b[A\u001b[A\u001b[A\n",
      "\n",
      "\n",
      "\n",
      "loss - 0.3788:   0%|          | 831/196682 [01:04<4:44:47, 11.46it/s]\u001b[A\u001b[A\u001b[A\u001b[A\n",
      "\n",
      "\n",
      "\n",
      "loss - 0.1266:   0%|          | 831/196682 [01:04<4:44:47, 11.46it/s]\u001b[A\u001b[A\u001b[A\u001b[A"
     ]
    },
    {
     "name": "stdout",
     "output_type": "stream",
     "text": [
      "x.size(1) is:99\n",
      "x.size(1) is:99\n",
      "x.size(1) is:99\n"
     ]
    },
    {
     "name": "stderr",
     "output_type": "stream",
     "text": [
      "\n",
      "\n",
      "\n",
      "\n",
      "loss - 0.1110:   0%|          | 831/196682 [01:05<4:44:47, 11.46it/s]\u001b[A\u001b[A\u001b[A\u001b[A\n",
      "\n",
      "\n",
      "\n",
      "loss - 0.1110:   0%|          | 833/196682 [01:05<4:40:38, 11.63it/s]\u001b[A\u001b[A\u001b[A\u001b[A\n",
      "\n",
      "\n",
      "\n",
      "loss - 0.0724:   0%|          | 833/196682 [01:05<4:40:38, 11.63it/s]\u001b[A\u001b[A\u001b[A\u001b[A\n",
      "\n",
      "\n",
      "\n",
      "loss - 0.2049:   0%|          | 833/196682 [01:05<4:40:38, 11.63it/s]\u001b[A\u001b[A\u001b[A\u001b[A\n",
      "\n",
      "\n",
      "\n",
      "loss - 0.2049:   0%|          | 835/196682 [01:05<4:38:21, 11.73it/s]\u001b[A\u001b[A\u001b[A\u001b[A"
     ]
    },
    {
     "name": "stdout",
     "output_type": "stream",
     "text": [
      "x.size(1) is:99\n",
      "x.size(1) is:99\n",
      "x.size(1) is:99\n"
     ]
    },
    {
     "name": "stderr",
     "output_type": "stream",
     "text": [
      "\n",
      "\n",
      "\n",
      "\n",
      "loss - 0.3196:   0%|          | 835/196682 [01:05<4:38:21, 11.73it/s]\u001b[A\u001b[A\u001b[A\u001b[A\n",
      "\n",
      "\n",
      "\n",
      "loss - 0.0844:   0%|          | 835/196682 [01:05<4:38:21, 11.73it/s]\u001b[A\u001b[A\u001b[A\u001b[A\n",
      "\n",
      "\n",
      "\n",
      "loss - 0.0844:   0%|          | 837/196682 [01:05<4:37:46, 11.75it/s]\u001b[A\u001b[A\u001b[A\u001b[A\n",
      "\n",
      "\n",
      "\n",
      "loss - 0.0517:   0%|          | 837/196682 [01:05<4:37:46, 11.75it/s]\u001b[A\u001b[A\u001b[A\u001b[A"
     ]
    },
    {
     "name": "stdout",
     "output_type": "stream",
     "text": [
      "x.size(1) is:99\n",
      "x.size(1) is:99\n",
      "x.size(1) is:99\n"
     ]
    },
    {
     "name": "stderr",
     "output_type": "stream",
     "text": [
      "\n",
      "\n",
      "\n",
      "\n",
      "loss - 0.1256:   0%|          | 837/196682 [01:05<4:37:46, 11.75it/s]\u001b[A\u001b[A\u001b[A\u001b[A\n",
      "\n",
      "\n",
      "\n",
      "loss - 0.1256:   0%|          | 839/196682 [01:05<4:37:41, 11.75it/s]\u001b[A\u001b[A\u001b[A\u001b[A\n",
      "\n",
      "\n",
      "\n",
      "loss - 0.0661:   0%|          | 839/196682 [01:05<4:37:41, 11.75it/s]\u001b[A\u001b[A\u001b[A\u001b[A\n",
      "\n",
      "\n",
      "\n",
      "loss - 0.3135:   0%|          | 839/196682 [01:05<4:37:41, 11.75it/s]\u001b[A\u001b[A\u001b[A\u001b[A\n",
      "\n",
      "\n",
      "\n",
      "loss - 0.3135:   0%|          | 841/196682 [01:05<4:41:33, 11.59it/s]\u001b[A\u001b[A\u001b[A\u001b[A"
     ]
    },
    {
     "name": "stdout",
     "output_type": "stream",
     "text": [
      "x.size(1) is:99\n",
      "x.size(1) is:99\n",
      "x.size(1) is:99\n"
     ]
    },
    {
     "name": "stderr",
     "output_type": "stream",
     "text": [
      "\n",
      "\n",
      "\n",
      "\n",
      "loss - 0.3569:   0%|          | 841/196682 [01:05<4:41:33, 11.59it/s]\u001b[A\u001b[A\u001b[A\u001b[A\n",
      "\n",
      "\n",
      "\n",
      "loss - 0.6210:   0%|          | 841/196682 [01:05<4:41:33, 11.59it/s]\u001b[A\u001b[A\u001b[A\u001b[A\n",
      "\n",
      "\n",
      "\n",
      "loss - 0.6210:   0%|          | 843/196682 [01:05<4:42:46, 11.54it/s]\u001b[A\u001b[A\u001b[A\u001b[A\n",
      "\n",
      "\n",
      "\n",
      "loss - 0.3753:   0%|          | 843/196682 [01:06<4:42:46, 11.54it/s]\u001b[A\u001b[A\u001b[A\u001b[A"
     ]
    },
    {
     "name": "stdout",
     "output_type": "stream",
     "text": [
      "x.size(1) is:99\n",
      "x.size(1) is:99\n",
      "x.size(1) is:99\n"
     ]
    },
    {
     "name": "stderr",
     "output_type": "stream",
     "text": [
      "\n",
      "\n",
      "\n",
      "\n",
      "loss - 0.5752:   0%|          | 843/196682 [01:06<4:42:46, 11.54it/s]\u001b[A\u001b[A\u001b[A\u001b[A\n",
      "\n",
      "\n",
      "\n",
      "loss - 0.5752:   0%|          | 845/196682 [01:06<4:44:41, 11.46it/s]\u001b[A\u001b[A\u001b[A\u001b[A\n",
      "\n",
      "\n",
      "\n",
      "loss - 0.0953:   0%|          | 845/196682 [01:06<4:44:41, 11.46it/s]\u001b[A\u001b[A\u001b[A\u001b[A\n",
      "\n",
      "\n",
      "\n",
      "loss - 0.3319:   0%|          | 845/196682 [01:06<4:44:41, 11.46it/s]\u001b[A\u001b[A\u001b[A\u001b[A\n",
      "\n",
      "\n",
      "\n",
      "loss - 0.3319:   0%|          | 847/196682 [01:06<4:44:57, 11.45it/s]\u001b[A\u001b[A\u001b[A\u001b[A"
     ]
    },
    {
     "name": "stdout",
     "output_type": "stream",
     "text": [
      "x.size(1) is:99\n",
      "x.size(1) is:99\n",
      "x.size(1) is:99\n"
     ]
    },
    {
     "name": "stderr",
     "output_type": "stream",
     "text": [
      "\n",
      "\n",
      "\n",
      "\n",
      "loss - 0.3796:   0%|          | 847/196682 [01:06<4:44:57, 11.45it/s]\u001b[A\u001b[A\u001b[A\u001b[A\n",
      "\n",
      "\n",
      "\n",
      "loss - 0.0638:   0%|          | 847/196682 [01:06<4:44:57, 11.45it/s]\u001b[A\u001b[A\u001b[A\u001b[A\n",
      "\n",
      "\n",
      "\n",
      "loss - 0.0638:   0%|          | 849/196682 [01:06<4:44:59, 11.45it/s]\u001b[A\u001b[A\u001b[A\u001b[A\n",
      "\n",
      "\n",
      "\n",
      "loss - 0.0567:   0%|          | 849/196682 [01:06<4:44:59, 11.45it/s]\u001b[A\u001b[A\u001b[A\u001b[A"
     ]
    },
    {
     "name": "stdout",
     "output_type": "stream",
     "text": [
      "x.size(1) is:99\n",
      "x.size(1) is:99\n",
      "x.size(1) is:99\n"
     ]
    },
    {
     "name": "stderr",
     "output_type": "stream",
     "text": [
      "\n",
      "\n",
      "\n",
      "\n",
      "loss - 0.2004:   0%|          | 849/196682 [01:06<4:44:59, 11.45it/s]\u001b[A\u001b[A\u001b[A\u001b[A\n",
      "\n",
      "\n",
      "\n",
      "loss - 0.2004:   0%|          | 851/196682 [01:06<4:45:27, 11.43it/s]\u001b[A\u001b[A\u001b[A\u001b[A\n",
      "\n",
      "\n",
      "\n",
      "loss - 0.5436:   0%|          | 851/196682 [01:06<4:45:27, 11.43it/s]\u001b[A\u001b[A\u001b[A\u001b[A\n",
      "\n",
      "\n",
      "\n",
      "loss - 0.3328:   0%|          | 851/196682 [01:06<4:45:27, 11.43it/s]\u001b[A\u001b[A\u001b[A\u001b[A\n",
      "\n",
      "\n",
      "\n",
      "loss - 0.3328:   0%|          | 853/196682 [01:06<4:47:27, 11.35it/s]\u001b[A\u001b[A\u001b[A\u001b[A"
     ]
    },
    {
     "name": "stdout",
     "output_type": "stream",
     "text": [
      "x.size(1) is:99\n",
      "x.size(1) is:99\n",
      "x.size(1) is:99\n"
     ]
    },
    {
     "name": "stderr",
     "output_type": "stream",
     "text": [
      "\n",
      "\n",
      "\n",
      "\n",
      "loss - 0.3831:   0%|          | 853/196682 [01:06<4:47:27, 11.35it/s]\u001b[A\u001b[A\u001b[A\u001b[A\n",
      "\n",
      "\n",
      "\n",
      "loss - 0.2597:   0%|          | 853/196682 [01:07<4:47:27, 11.35it/s]\u001b[A\u001b[A\u001b[A\u001b[A\n",
      "\n",
      "\n",
      "\n",
      "loss - 0.2597:   0%|          | 855/196682 [01:07<5:06:42, 10.64it/s]\u001b[A\u001b[A\u001b[A\u001b[A\n",
      "\n",
      "\n",
      "\n",
      "loss - 0.6504:   0%|          | 855/196682 [01:07<5:06:42, 10.64it/s]\u001b[A\u001b[A\u001b[A\u001b[A"
     ]
    },
    {
     "name": "stdout",
     "output_type": "stream",
     "text": [
      "x.size(1) is:99\n",
      "x.size(1) is:99\n",
      "x.size(1) is:99\n"
     ]
    },
    {
     "name": "stderr",
     "output_type": "stream",
     "text": [
      "\n",
      "\n",
      "\n",
      "\n",
      "loss - 0.0849:   0%|          | 855/196682 [01:07<5:06:42, 10.64it/s]\u001b[A\u001b[A\u001b[A\u001b[A\n",
      "\n",
      "\n",
      "\n",
      "loss - 0.0849:   0%|          | 857/196682 [01:07<5:00:03, 10.88it/s]\u001b[A\u001b[A\u001b[A\u001b[A\n",
      "\n",
      "\n",
      "\n",
      "loss - 0.4339:   0%|          | 857/196682 [01:07<5:00:03, 10.88it/s]\u001b[A\u001b[A\u001b[A\u001b[A\n",
      "\n",
      "\n",
      "\n",
      "loss - 0.0856:   0%|          | 857/196682 [01:07<5:00:03, 10.88it/s]\u001b[A\u001b[A\u001b[A\u001b[A\n",
      "\n",
      "\n",
      "\n",
      "loss - 0.0856:   0%|          | 859/196682 [01:07<4:56:31, 11.01it/s]\u001b[A\u001b[A\u001b[A\u001b[A"
     ]
    },
    {
     "name": "stdout",
     "output_type": "stream",
     "text": [
      "x.size(1) is:99\n",
      "x.size(1) is:99\n",
      "x.size(1) is:99\n"
     ]
    },
    {
     "name": "stderr",
     "output_type": "stream",
     "text": [
      "\n",
      "\n",
      "\n",
      "\n",
      "loss - 0.3251:   0%|          | 859/196682 [01:07<4:56:31, 11.01it/s]\u001b[A\u001b[A\u001b[A\u001b[A\n",
      "\n",
      "\n",
      "\n",
      "loss - 0.1298:   0%|          | 859/196682 [01:07<4:56:31, 11.01it/s]\u001b[A\u001b[A\u001b[A\u001b[A\n",
      "\n",
      "\n",
      "\n",
      "loss - 0.1298:   0%|          | 861/196682 [01:07<4:52:57, 11.14it/s]\u001b[A\u001b[A\u001b[A\u001b[A\n",
      "\n",
      "\n",
      "\n",
      "loss - 0.0808:   0%|          | 861/196682 [01:07<4:52:57, 11.14it/s]\u001b[A\u001b[A\u001b[A\u001b[A"
     ]
    },
    {
     "name": "stdout",
     "output_type": "stream",
     "text": [
      "x.size(1) is:99\n",
      "x.size(1) is:99\n",
      "x.size(1) is:99\n"
     ]
    },
    {
     "name": "stderr",
     "output_type": "stream",
     "text": [
      "\n",
      "\n",
      "\n",
      "\n",
      "loss - 0.3576:   0%|          | 861/196682 [01:07<4:52:57, 11.14it/s]\u001b[A\u001b[A\u001b[A\u001b[A\n",
      "\n",
      "\n",
      "\n",
      "loss - 0.3576:   0%|          | 863/196682 [01:07<4:50:26, 11.24it/s]\u001b[A\u001b[A\u001b[A\u001b[A\n",
      "\n",
      "\n",
      "\n",
      "loss - 0.6162:   0%|          | 863/196682 [01:07<4:50:26, 11.24it/s]\u001b[A\u001b[A\u001b[A\u001b[A\n",
      "\n",
      "\n",
      "\n",
      "loss - 0.0562:   0%|          | 863/196682 [01:07<4:50:26, 11.24it/s]\u001b[A\u001b[A\u001b[A\u001b[A\n",
      "\n",
      "\n",
      "\n",
      "loss - 0.0562:   0%|          | 865/196682 [01:07<4:52:05, 11.17it/s]\u001b[A\u001b[A\u001b[A\u001b[A"
     ]
    },
    {
     "name": "stdout",
     "output_type": "stream",
     "text": [
      "x.size(1) is:99\n",
      "x.size(1) is:99\n",
      "x.size(1) is:99\n"
     ]
    },
    {
     "name": "stderr",
     "output_type": "stream",
     "text": [
      "\n",
      "\n",
      "\n",
      "\n",
      "loss - 0.3935:   0%|          | 865/196682 [01:07<4:52:05, 11.17it/s]\u001b[A\u001b[A\u001b[A\u001b[A\n",
      "\n",
      "\n",
      "\n",
      "loss - 0.2387:   0%|          | 865/196682 [01:08<4:52:05, 11.17it/s]\u001b[A\u001b[A\u001b[A\u001b[A\n",
      "\n",
      "\n",
      "\n",
      "loss - 0.2387:   0%|          | 867/196682 [01:08<4:54:49, 11.07it/s]\u001b[A\u001b[A\u001b[A\u001b[A\n",
      "\n",
      "\n",
      "\n",
      "loss - 0.4217:   0%|          | 867/196682 [01:08<4:54:49, 11.07it/s]\u001b[A\u001b[A\u001b[A\u001b[A"
     ]
    },
    {
     "name": "stdout",
     "output_type": "stream",
     "text": [
      "x.size(1) is:99\n",
      "x.size(1) is:99\n",
      "x.size(1) is:99\n"
     ]
    },
    {
     "name": "stderr",
     "output_type": "stream",
     "text": [
      "\n",
      "\n",
      "\n",
      "\n",
      "loss - 0.4593:   0%|          | 867/196682 [01:08<4:54:49, 11.07it/s]\u001b[A\u001b[A\u001b[A\u001b[A\n",
      "\n",
      "\n",
      "\n",
      "loss - 0.4593:   0%|          | 869/196682 [01:08<4:51:00, 11.21it/s]\u001b[A\u001b[A\u001b[A\u001b[A\n",
      "\n",
      "\n",
      "\n",
      "loss - 0.5728:   0%|          | 869/196682 [01:08<4:51:00, 11.21it/s]\u001b[A\u001b[A\u001b[A\u001b[A\n",
      "\n",
      "\n",
      "\n",
      "loss - 0.3616:   0%|          | 869/196682 [01:08<4:51:00, 11.21it/s]\u001b[A\u001b[A\u001b[A\u001b[A\n",
      "\n",
      "\n",
      "\n",
      "loss - 0.3616:   0%|          | 871/196682 [01:08<4:48:16, 11.32it/s]\u001b[A\u001b[A\u001b[A\u001b[A"
     ]
    },
    {
     "name": "stdout",
     "output_type": "stream",
     "text": [
      "x.size(1) is:99\n",
      "x.size(1) is:99\n",
      "x.size(1) is:99\n"
     ]
    },
    {
     "name": "stderr",
     "output_type": "stream",
     "text": [
      "\n",
      "\n",
      "\n",
      "\n",
      "loss - 0.3668:   0%|          | 871/196682 [01:08<4:48:16, 11.32it/s]\u001b[A\u001b[A\u001b[A\u001b[A\n",
      "\n",
      "\n",
      "\n",
      "loss - 0.1512:   0%|          | 871/196682 [01:08<4:48:16, 11.32it/s]\u001b[A\u001b[A\u001b[A\u001b[A\n",
      "\n",
      "\n",
      "\n",
      "loss - 0.1512:   0%|          | 873/196682 [01:08<4:50:34, 11.23it/s]\u001b[A\u001b[A\u001b[A\u001b[A\n",
      "\n",
      "\n",
      "\n",
      "loss - 0.3648:   0%|          | 873/196682 [01:08<4:50:34, 11.23it/s]\u001b[A\u001b[A\u001b[A\u001b[A"
     ]
    },
    {
     "name": "stdout",
     "output_type": "stream",
     "text": [
      "x.size(1) is:99\n",
      "x.size(1) is:99\n",
      "x.size(1) is:99\n"
     ]
    },
    {
     "name": "stderr",
     "output_type": "stream",
     "text": [
      "\n",
      "\n",
      "\n",
      "\n",
      "loss - 0.2365:   0%|          | 873/196682 [01:08<4:50:34, 11.23it/s]\u001b[A\u001b[A\u001b[A\u001b[A\n",
      "\n",
      "\n",
      "\n",
      "loss - 0.2365:   0%|          | 875/196682 [01:08<4:52:44, 11.15it/s]\u001b[A\u001b[A\u001b[A\u001b[A\n",
      "\n",
      "\n",
      "\n",
      "loss - 0.3067:   0%|          | 875/196682 [01:08<4:52:44, 11.15it/s]\u001b[A\u001b[A\u001b[A\u001b[A\n",
      "\n",
      "\n",
      "\n",
      "loss - 0.0941:   0%|          | 875/196682 [01:08<4:52:44, 11.15it/s]\u001b[A\u001b[A\u001b[A\u001b[A\n",
      "\n",
      "\n",
      "\n",
      "loss - 0.0941:   0%|          | 877/196682 [01:08<5:04:36, 10.71it/s]"
     ]
    },
    {
     "name": "stdout",
     "output_type": "stream",
     "text": [
      "x.size(1) is:99\n",
      "x.size(1) is:99\n"
     ]
    },
    {
     "name": "stderr",
     "output_type": "stream",
     "text": [
      "\u001b[A\u001b[A\u001b[A\u001b[A\n",
      "\n",
      "\n",
      "\n",
      "loss - 0.3239:   0%|          | 877/196682 [01:09<5:04:36, 10.71it/s]\u001b[A\u001b[A\u001b[A\u001b[A\n",
      "\n",
      "\n",
      "\n",
      "loss - 0.0595:   0%|          | 877/196682 [01:09<5:04:36, 10.71it/s]\u001b[A\u001b[A\u001b[A\u001b[A\n",
      "\n",
      "\n",
      "\n",
      "loss - 0.0595:   0%|          | 879/196682 [01:09<5:12:42, 10.44it/s]\u001b[A\u001b[A\u001b[A\u001b[A"
     ]
    },
    {
     "name": "stdout",
     "output_type": "stream",
     "text": [
      "x.size(1) is:99\n",
      "x.size(1) is:99\n",
      "x.size(1) is:99\n"
     ]
    },
    {
     "name": "stderr",
     "output_type": "stream",
     "text": [
      "\n",
      "\n",
      "\n",
      "\n",
      "loss - 0.0515:   0%|          | 879/196682 [01:09<5:12:42, 10.44it/s]\u001b[A\u001b[A\u001b[A\u001b[A\n",
      "\n",
      "\n",
      "\n",
      "loss - 0.2836:   0%|          | 879/196682 [01:09<5:12:42, 10.44it/s]\u001b[A\u001b[A\u001b[A\u001b[A\n",
      "\n",
      "\n",
      "\n",
      "loss - 0.2836:   0%|          | 881/196682 [01:09<5:13:43, 10.40it/s]\u001b[A\u001b[A\u001b[A\u001b[A\n",
      "\n",
      "\n",
      "\n",
      "loss - 0.4153:   0%|          | 881/196682 [01:09<5:13:43, 10.40it/s]\u001b[A\u001b[A\u001b[A\u001b[A"
     ]
    },
    {
     "name": "stdout",
     "output_type": "stream",
     "text": [
      "x.size(1) is:99\n",
      "x.size(1) is:99\n",
      "x.size(1) is:99\n"
     ]
    },
    {
     "name": "stderr",
     "output_type": "stream",
     "text": [
      "\n",
      "\n",
      "\n",
      "\n",
      "loss - 0.0936:   0%|          | 881/196682 [01:09<5:13:43, 10.40it/s]\u001b[A\u001b[A\u001b[A\u001b[A\n",
      "\n",
      "\n",
      "\n",
      "loss - 0.0936:   0%|          | 883/196682 [01:09<5:09:27, 10.55it/s]\u001b[A\u001b[A\u001b[A\u001b[A\n",
      "\n",
      "\n",
      "\n",
      "loss - 0.2460:   0%|          | 883/196682 [01:09<5:09:27, 10.55it/s]\u001b[A\u001b[A\u001b[A\u001b[A\n",
      "\n",
      "\n",
      "\n",
      "loss - 0.2586:   0%|          | 883/196682 [01:09<5:09:27, 10.55it/s]\u001b[A\u001b[A\u001b[A\u001b[A\n",
      "\n",
      "\n",
      "\n",
      "loss - 0.2586:   0%|          | 885/196682 [01:09<5:11:07, 10.49it/s]\u001b[A\u001b[A\u001b[A\u001b[A"
     ]
    },
    {
     "name": "stdout",
     "output_type": "stream",
     "text": [
      "x.size(1) is:99\n",
      "x.size(1) is:99\n",
      "x.size(1) is:99\n"
     ]
    },
    {
     "name": "stderr",
     "output_type": "stream",
     "text": [
      "\n",
      "\n",
      "\n",
      "\n",
      "loss - 0.5226:   0%|          | 885/196682 [01:09<5:11:07, 10.49it/s]\u001b[A\u001b[A\u001b[A\u001b[A\n",
      "\n",
      "\n",
      "\n",
      "loss - 0.0937:   0%|          | 885/196682 [01:09<5:11:07, 10.49it/s]\u001b[A\u001b[A\u001b[A\u001b[A\n",
      "\n",
      "\n",
      "\n",
      "loss - 0.0937:   0%|          | 887/196682 [01:09<5:11:51, 10.46it/s]\u001b[A\u001b[A\u001b[A\u001b[A\n",
      "\n",
      "\n",
      "\n",
      "loss - 0.3443:   0%|          | 887/196682 [01:10<5:11:51, 10.46it/s]\u001b[A\u001b[A\u001b[A\u001b[A"
     ]
    },
    {
     "name": "stdout",
     "output_type": "stream",
     "text": [
      "x.size(1) is:99\n",
      "x.size(1) is:99\n",
      "x.size(1) is:99\n"
     ]
    },
    {
     "name": "stderr",
     "output_type": "stream",
     "text": [
      "\n",
      "\n",
      "\n",
      "\n",
      "loss - 0.5408:   0%|          | 887/196682 [01:10<5:11:51, 10.46it/s]\u001b[A\u001b[A\u001b[A\u001b[A\n",
      "\n",
      "\n",
      "\n",
      "loss - 0.5408:   0%|          | 889/196682 [01:10<5:10:28, 10.51it/s]\u001b[A\u001b[A\u001b[A\u001b[A\n",
      "\n",
      "\n",
      "\n",
      "loss - 0.1868:   0%|          | 889/196682 [01:10<5:10:28, 10.51it/s]\u001b[A\u001b[A\u001b[A\u001b[A\n",
      "\n",
      "\n",
      "\n",
      "loss - 0.3812:   0%|          | 889/196682 [01:10<5:10:28, 10.51it/s]\u001b[A\u001b[A\u001b[A\u001b[A\n",
      "\n",
      "\n",
      "\n",
      "loss - 0.3812:   0%|          | 891/196682 [01:10<5:07:59, 10.59it/s]\u001b[A\u001b[A\u001b[A\u001b[A"
     ]
    },
    {
     "name": "stdout",
     "output_type": "stream",
     "text": [
      "x.size(1) is:99\n",
      "x.size(1) is:99\n",
      "x.size(1) is:99\n"
     ]
    },
    {
     "name": "stderr",
     "output_type": "stream",
     "text": [
      "\n",
      "\n",
      "\n",
      "\n",
      "loss - 0.3495:   0%|          | 891/196682 [01:10<5:07:59, 10.59it/s]\u001b[A\u001b[A\u001b[A\u001b[A\n",
      "\n",
      "\n",
      "\n",
      "loss - 0.3707:   0%|          | 891/196682 [01:10<5:07:59, 10.59it/s]\u001b[A\u001b[A\u001b[A\u001b[A\n",
      "\n",
      "\n",
      "\n",
      "loss - 0.3707:   0%|          | 893/196682 [01:10<5:06:28, 10.65it/s]\u001b[A\u001b[A\u001b[A\u001b[A\n",
      "\n",
      "\n",
      "\n",
      "loss - 0.2459:   0%|          | 893/196682 [01:10<5:06:28, 10.65it/s]\u001b[A\u001b[A\u001b[A\u001b[A"
     ]
    },
    {
     "name": "stdout",
     "output_type": "stream",
     "text": [
      "x.size(1) is:99\n",
      "x.size(1) is:99\n",
      "x.size(1) is:99\n"
     ]
    },
    {
     "name": "stderr",
     "output_type": "stream",
     "text": [
      "\n",
      "\n",
      "\n",
      "\n",
      "loss - 0.6255:   0%|          | 893/196682 [01:10<5:06:28, 10.65it/s]\u001b[A\u001b[A\u001b[A\u001b[A\n",
      "\n",
      "\n",
      "\n",
      "loss - 0.6255:   0%|          | 895/196682 [01:10<5:05:47, 10.67it/s]\u001b[A\u001b[A\u001b[A\u001b[A\n",
      "\n",
      "\n",
      "\n",
      "loss - 0.5312:   0%|          | 895/196682 [01:10<5:05:47, 10.67it/s]\u001b[A\u001b[A\u001b[A\u001b[A\n",
      "\n",
      "\n",
      "\n",
      "loss - 0.2761:   0%|          | 895/196682 [01:10<5:05:47, 10.67it/s]\u001b[A\u001b[A\u001b[A\u001b[A\n",
      "\n",
      "\n",
      "\n",
      "loss - 0.2761:   0%|          | 897/196682 [01:10<5:04:30, 10.72it/s]\u001b[A\u001b[A\u001b[A\u001b[A"
     ]
    },
    {
     "name": "stdout",
     "output_type": "stream",
     "text": [
      "x.size(1) is:99\n",
      "x.size(1) is:99\n",
      "x.size(1) is:99\n"
     ]
    },
    {
     "name": "stderr",
     "output_type": "stream",
     "text": [
      "\n",
      "\n",
      "\n",
      "\n",
      "loss - 0.2009:   0%|          | 897/196682 [01:10<5:04:30, 10.72it/s]\u001b[A\u001b[A\u001b[A\u001b[A\n",
      "\n",
      "\n",
      "\n",
      "loss - 0.3002:   0%|          | 897/196682 [01:11<5:04:30, 10.72it/s]\u001b[A\u001b[A\u001b[A\u001b[A\n",
      "\n",
      "\n",
      "\n",
      "loss - 0.3002:   0%|          | 899/196682 [01:11<5:22:07, 10.13it/s]\u001b[A\u001b[A\u001b[A\u001b[A"
     ]
    },
    {
     "name": "stdout",
     "output_type": "stream",
     "text": [
      "x.size(1) is:99\n",
      "x.size(1) is:99\n"
     ]
    },
    {
     "name": "stderr",
     "output_type": "stream",
     "text": [
      "\n",
      "\n",
      "\n",
      "\n",
      "loss - 0.0843:   0%|          | 899/196682 [01:11<5:22:07, 10.13it/s]\u001b[A\u001b[A\u001b[A\u001b[A\n",
      "\n",
      "\n",
      "\n",
      "loss - 0.2125:   0%|          | 899/196682 [01:11<5:22:07, 10.13it/s]\u001b[A\u001b[A\u001b[A\u001b[A\n",
      "\n",
      "\n",
      "\n",
      "loss - 0.2125:   0%|          | 901/196682 [01:11<5:20:23, 10.18it/s]\u001b[A\u001b[A\u001b[A\u001b[A\n",
      "\n",
      "\n",
      "\n",
      "loss - 0.0483:   0%|          | 901/196682 [01:11<5:20:23, 10.18it/s]\u001b[A\u001b[A\u001b[A\u001b[A"
     ]
    },
    {
     "name": "stdout",
     "output_type": "stream",
     "text": [
      "x.size(1) is:99\n",
      "x.size(1) is:99\n",
      "x.size(1) is:99\n"
     ]
    },
    {
     "name": "stderr",
     "output_type": "stream",
     "text": [
      "\n",
      "\n",
      "\n",
      "\n",
      "loss - 0.1489:   0%|          | 901/196682 [01:11<5:20:23, 10.18it/s]\u001b[A\u001b[A\u001b[A\u001b[A\n",
      "\n",
      "\n",
      "\n",
      "loss - 0.1489:   0%|          | 903/196682 [01:11<5:13:35, 10.40it/s]\u001b[A\u001b[A\u001b[A\u001b[A\n",
      "\n",
      "\n",
      "\n",
      "loss - 0.0631:   0%|          | 903/196682 [01:11<5:13:35, 10.40it/s]\u001b[A\u001b[A\u001b[A\u001b[A\n",
      "\n",
      "\n",
      "\n",
      "loss - 0.0532:   0%|          | 903/196682 [01:11<5:13:35, 10.40it/s]\u001b[A\u001b[A\u001b[A\u001b[A\n",
      "\n",
      "\n",
      "\n",
      "loss - 0.0532:   0%|          | 905/196682 [01:11<5:10:41, 10.50it/s]\u001b[A\u001b[A\u001b[A\u001b[A"
     ]
    },
    {
     "name": "stdout",
     "output_type": "stream",
     "text": [
      "x.size(1) is:99\n",
      "x.size(1) is:99\n",
      "x.size(1) is:99\n"
     ]
    },
    {
     "name": "stderr",
     "output_type": "stream",
     "text": [
      "\n",
      "\n",
      "\n",
      "\n",
      "loss - 0.2364:   0%|          | 905/196682 [01:11<5:10:41, 10.50it/s]\u001b[A\u001b[A\u001b[A\u001b[A\n",
      "\n",
      "\n",
      "\n",
      "loss - 0.3716:   0%|          | 905/196682 [01:11<5:10:41, 10.50it/s]\u001b[A\u001b[A\u001b[A\u001b[A\n",
      "\n",
      "\n",
      "\n",
      "loss - 0.3716:   0%|          | 907/196682 [01:11<5:09:59, 10.53it/s]\u001b[A\u001b[A\u001b[A\u001b[A\n",
      "\n",
      "\n",
      "\n",
      "loss - 0.0991:   0%|          | 907/196682 [01:11<5:09:59, 10.53it/s]\u001b[A\u001b[A\u001b[A\u001b[A"
     ]
    },
    {
     "name": "stdout",
     "output_type": "stream",
     "text": [
      "x.size(1) is:99\n",
      "x.size(1) is:99\n",
      "x.size(1) is:99\n"
     ]
    },
    {
     "name": "stderr",
     "output_type": "stream",
     "text": [
      "\n",
      "\n",
      "\n",
      "\n",
      "loss - 0.0868:   0%|          | 907/196682 [01:12<5:09:59, 10.53it/s]\u001b[A\u001b[A\u001b[A\u001b[A\n",
      "\n",
      "\n",
      "\n",
      "loss - 0.0868:   0%|          | 909/196682 [01:12<5:05:50, 10.67it/s]\u001b[A\u001b[A\u001b[A\u001b[A\n",
      "\n",
      "\n",
      "\n",
      "loss - 0.3111:   0%|          | 909/196682 [01:12<5:05:50, 10.67it/s]\u001b[A\u001b[A\u001b[A\u001b[A\n",
      "\n",
      "\n",
      "\n",
      "loss - 0.0983:   0%|          | 909/196682 [01:12<5:05:50, 10.67it/s]\u001b[A\u001b[A\u001b[A\u001b[A\n",
      "\n",
      "\n",
      "\n",
      "loss - 0.0983:   0%|          | 911/196682 [01:12<5:05:41, 10.67it/s]\u001b[A\u001b[A\u001b[A\u001b[A"
     ]
    },
    {
     "name": "stdout",
     "output_type": "stream",
     "text": [
      "x.size(1) is:99\n",
      "x.size(1) is:99\n",
      "x.size(1) is:99\n"
     ]
    },
    {
     "name": "stderr",
     "output_type": "stream",
     "text": [
      "\n",
      "\n",
      "\n",
      "\n",
      "loss - 0.1082:   0%|          | 911/196682 [01:12<5:05:41, 10.67it/s]\u001b[A\u001b[A\u001b[A\u001b[A\n",
      "\n",
      "\n",
      "\n",
      "loss - 0.6646:   0%|          | 911/196682 [01:12<5:05:41, 10.67it/s]\u001b[A\u001b[A\u001b[A\u001b[A\n",
      "\n",
      "\n",
      "\n",
      "loss - 0.6646:   0%|          | 913/196682 [01:12<5:04:08, 10.73it/s]\u001b[A\u001b[A\u001b[A\u001b[A\n",
      "\n",
      "\n",
      "\n",
      "loss - 0.1308:   0%|          | 913/196682 [01:12<5:04:08, 10.73it/s]\u001b[A\u001b[A\u001b[A\u001b[A"
     ]
    },
    {
     "name": "stdout",
     "output_type": "stream",
     "text": [
      "x.size(1) is:99\n",
      "x.size(1) is:99\n",
      "x.size(1) is:99\n"
     ]
    },
    {
     "name": "stderr",
     "output_type": "stream",
     "text": [
      "\n",
      "\n",
      "\n",
      "\n",
      "loss - 0.2011:   0%|          | 913/196682 [01:12<5:04:08, 10.73it/s]\u001b[A\u001b[A\u001b[A\u001b[A\n",
      "\n",
      "\n",
      "\n",
      "loss - 0.2011:   0%|          | 915/196682 [01:12<5:04:15, 10.72it/s]\u001b[A\u001b[A\u001b[A\u001b[A\n",
      "\n",
      "\n",
      "\n",
      "loss - 0.0722:   0%|          | 915/196682 [01:12<5:04:15, 10.72it/s]\u001b[A\u001b[A\u001b[A\u001b[A\n",
      "\n",
      "\n",
      "\n",
      "loss - 0.0884:   0%|          | 915/196682 [01:12<5:04:15, 10.72it/s]\u001b[A\u001b[A\u001b[A\u001b[A\n",
      "\n",
      "\n",
      "\n",
      "loss - 0.0884:   0%|          | 917/196682 [01:12<4:59:39, 10.89it/s]\u001b[A\u001b[A\u001b[A\u001b[A"
     ]
    },
    {
     "name": "stdout",
     "output_type": "stream",
     "text": [
      "x.size(1) is:99\n",
      "x.size(1) is:99\n",
      "x.size(1) is:99\n"
     ]
    },
    {
     "name": "stderr",
     "output_type": "stream",
     "text": [
      "\n",
      "\n",
      "\n",
      "\n",
      "loss - 0.3862:   0%|          | 917/196682 [01:12<4:59:39, 10.89it/s]\u001b[A\u001b[A\u001b[A\u001b[A\n",
      "\n",
      "\n",
      "\n",
      "loss - 0.3105:   0%|          | 917/196682 [01:12<4:59:39, 10.89it/s]\u001b[A\u001b[A\u001b[A\u001b[A\n",
      "\n",
      "\n",
      "\n",
      "loss - 0.3105:   0%|          | 919/196682 [01:12<5:03:16, 10.76it/s]\u001b[A\u001b[A\u001b[A\u001b[A\n",
      "\n",
      "\n",
      "\n",
      "loss - 0.3413:   0%|          | 919/196682 [01:13<5:03:16, 10.76it/s]\u001b[A\u001b[A\u001b[A\u001b[A"
     ]
    },
    {
     "name": "stdout",
     "output_type": "stream",
     "text": [
      "x.size(1) is:99\n",
      "x.size(1) is:99\n",
      "x.size(1) is:99\n"
     ]
    },
    {
     "name": "stderr",
     "output_type": "stream",
     "text": [
      "\n",
      "\n",
      "\n",
      "\n",
      "loss - 0.0990:   0%|          | 919/196682 [01:13<5:03:16, 10.76it/s]\u001b[A\u001b[A\u001b[A\u001b[A\n",
      "\n",
      "\n",
      "\n",
      "loss - 0.0990:   0%|          | 921/196682 [01:13<4:58:36, 10.93it/s]\u001b[A\u001b[A\u001b[A\u001b[A\n",
      "\n",
      "\n",
      "\n",
      "loss - 0.2719:   0%|          | 921/196682 [01:13<4:58:36, 10.93it/s]\u001b[A\u001b[A\u001b[A\u001b[A\n",
      "\n",
      "\n",
      "\n",
      "loss - 0.3174:   0%|          | 921/196682 [01:13<4:58:36, 10.93it/s]\u001b[A\u001b[A\u001b[A\u001b[A\n",
      "\n",
      "\n",
      "\n",
      "loss - 0.3174:   0%|          | 923/196682 [01:13<4:54:39, 11.07it/s]\u001b[A\u001b[A\u001b[A\u001b[A"
     ]
    },
    {
     "name": "stdout",
     "output_type": "stream",
     "text": [
      "x.size(1) is:99\n",
      "x.size(1) is:99\n",
      "x.size(1) is:99\n"
     ]
    },
    {
     "name": "stderr",
     "output_type": "stream",
     "text": [
      "\n",
      "\n",
      "\n",
      "\n",
      "loss - 0.3704:   0%|          | 923/196682 [01:13<4:54:39, 11.07it/s]\u001b[A\u001b[A\u001b[A\u001b[A\n",
      "\n",
      "\n",
      "\n",
      "loss - 0.5968:   0%|          | 923/196682 [01:13<4:54:39, 11.07it/s]\u001b[A\u001b[A\u001b[A\u001b[A\n",
      "\n",
      "\n",
      "\n",
      "loss - 0.5968:   0%|          | 925/196682 [01:13<4:52:49, 11.14it/s]\u001b[A\u001b[A\u001b[A\u001b[A\n",
      "\n",
      "\n",
      "\n",
      "loss - 0.0497:   0%|          | 925/196682 [01:13<4:52:49, 11.14it/s]\u001b[A\u001b[A\u001b[A\u001b[A"
     ]
    },
    {
     "name": "stdout",
     "output_type": "stream",
     "text": [
      "x.size(1) is:99\n",
      "x.size(1) is:99\n",
      "x.size(1) is:99\n"
     ]
    },
    {
     "name": "stderr",
     "output_type": "stream",
     "text": [
      "\n",
      "\n",
      "\n",
      "\n",
      "loss - 0.6218:   0%|          | 925/196682 [01:13<4:52:49, 11.14it/s]\u001b[A\u001b[A\u001b[A\u001b[A\n",
      "\n",
      "\n",
      "\n",
      "loss - 0.6218:   0%|          | 927/196682 [01:13<4:51:22, 11.20it/s]\u001b[A\u001b[A\u001b[A\u001b[A\n",
      "\n",
      "\n",
      "\n",
      "loss - 0.1581:   0%|          | 927/196682 [01:13<4:51:22, 11.20it/s]\u001b[A\u001b[A\u001b[A\u001b[A\n",
      "\n",
      "\n",
      "\n",
      "loss - 0.4109:   0%|          | 927/196682 [01:13<4:51:22, 11.20it/s]\u001b[A\u001b[A\u001b[A\u001b[A\n",
      "\n",
      "\n",
      "\n",
      "loss - 0.4109:   0%|          | 929/196682 [01:13<4:50:00, 11.25it/s]\u001b[A\u001b[A\u001b[A\u001b[A"
     ]
    },
    {
     "name": "stdout",
     "output_type": "stream",
     "text": [
      "x.size(1) is:99\n",
      "x.size(1) is:99\n",
      "x.size(1) is:99\n"
     ]
    },
    {
     "name": "stderr",
     "output_type": "stream",
     "text": [
      "\n",
      "\n",
      "\n",
      "\n",
      "loss - 0.4306:   0%|          | 929/196682 [01:13<4:50:00, 11.25it/s]\u001b[A\u001b[A\u001b[A\u001b[A\n",
      "\n",
      "\n",
      "\n",
      "loss - 0.1220:   0%|          | 929/196682 [01:14<4:50:00, 11.25it/s]\u001b[A\u001b[A\u001b[A\u001b[A\n",
      "\n",
      "\n",
      "\n",
      "loss - 0.1220:   0%|          | 931/196682 [01:14<4:49:04, 11.29it/s]\u001b[A\u001b[A\u001b[A\u001b[A\n",
      "\n",
      "\n",
      "\n",
      "loss - 0.2921:   0%|          | 931/196682 [01:14<4:49:04, 11.29it/s]\u001b[A\u001b[A\u001b[A\u001b[A"
     ]
    },
    {
     "name": "stdout",
     "output_type": "stream",
     "text": [
      "x.size(1) is:99\n",
      "x.size(1) is:99\n",
      "x.size(1) is:99\n"
     ]
    },
    {
     "name": "stderr",
     "output_type": "stream",
     "text": [
      "\n",
      "\n",
      "\n",
      "\n",
      "loss - 0.6024:   0%|          | 931/196682 [01:14<4:49:04, 11.29it/s]\u001b[A\u001b[A\u001b[A\u001b[A\n",
      "\n",
      "\n",
      "\n",
      "loss - 0.6024:   0%|          | 933/196682 [01:14<4:47:56, 11.33it/s]\u001b[A\u001b[A\u001b[A\u001b[A\n",
      "\n",
      "\n",
      "\n",
      "loss - 0.1111:   0%|          | 933/196682 [01:14<4:47:56, 11.33it/s]\u001b[A\u001b[A\u001b[A\u001b[A\n",
      "\n",
      "\n",
      "\n",
      "loss - 0.1055:   0%|          | 933/196682 [01:14<4:47:56, 11.33it/s]\u001b[A\u001b[A\u001b[A\u001b[A\n",
      "\n",
      "\n",
      "\n",
      "loss - 0.1055:   0%|          | 935/196682 [01:14<4:52:46, 11.14it/s]\u001b[A\u001b[A\u001b[A\u001b[A"
     ]
    },
    {
     "name": "stdout",
     "output_type": "stream",
     "text": [
      "x.size(1) is:99\n",
      "x.size(1) is:99\n",
      "x.size(1) is:99\n"
     ]
    },
    {
     "name": "stderr",
     "output_type": "stream",
     "text": [
      "\n",
      "\n",
      "\n",
      "\n",
      "loss - 0.2214:   0%|          | 935/196682 [01:14<4:52:46, 11.14it/s]\u001b[A\u001b[A\u001b[A\u001b[A\n",
      "\n",
      "\n",
      "\n",
      "loss - 0.3283:   0%|          | 935/196682 [01:14<4:52:46, 11.14it/s]\u001b[A\u001b[A\u001b[A\u001b[A\n",
      "\n",
      "\n",
      "\n",
      "loss - 0.3283:   0%|          | 937/196682 [01:14<4:56:16, 11.01it/s]\u001b[A\u001b[A\u001b[A\u001b[A\n",
      "\n",
      "\n",
      "\n",
      "loss - 0.2932:   0%|          | 937/196682 [01:14<4:56:16, 11.01it/s]\u001b[A\u001b[A\u001b[A\u001b[A"
     ]
    },
    {
     "name": "stdout",
     "output_type": "stream",
     "text": [
      "x.size(1) is:99\n",
      "x.size(1) is:99\n",
      "x.size(1) is:99\n"
     ]
    },
    {
     "name": "stderr",
     "output_type": "stream",
     "text": [
      "\n",
      "\n",
      "\n",
      "\n",
      "loss - 0.6258:   0%|          | 937/196682 [01:14<4:56:16, 11.01it/s]\u001b[A\u001b[A\u001b[A\u001b[A\n",
      "\n",
      "\n",
      "\n",
      "loss - 0.6258:   0%|          | 939/196682 [01:14<4:58:36, 10.93it/s]\u001b[A\u001b[A\u001b[A\u001b[A\n",
      "\n",
      "\n",
      "\n",
      "loss - 0.2928:   0%|          | 939/196682 [01:14<4:58:36, 10.93it/s]\u001b[A\u001b[A\u001b[A\u001b[A\n",
      "\n",
      "\n",
      "\n",
      "loss - 0.3603:   0%|          | 939/196682 [01:14<4:58:36, 10.93it/s]\u001b[A\u001b[A\u001b[A\u001b[A\n",
      "\n",
      "\n",
      "\n",
      "loss - 0.3603:   0%|          | 941/196682 [01:14<4:59:20, 10.90it/s]\u001b[A\u001b[A\u001b[A\u001b[A"
     ]
    },
    {
     "name": "stdout",
     "output_type": "stream",
     "text": [
      "x.size(1) is:99\n",
      "x.size(1) is:99\n",
      "x.size(1) is:99\n"
     ]
    },
    {
     "name": "stderr",
     "output_type": "stream",
     "text": [
      "\n",
      "\n",
      "\n",
      "\n",
      "loss - 0.2568:   0%|          | 941/196682 [01:15<4:59:20, 10.90it/s]\u001b[A\u001b[A\u001b[A\u001b[A\n",
      "\n",
      "\n",
      "\n",
      "loss - 0.3264:   0%|          | 941/196682 [01:15<4:59:20, 10.90it/s]\u001b[A\u001b[A\u001b[A\u001b[A\n",
      "\n",
      "\n",
      "\n",
      "loss - 0.3264:   0%|          | 943/196682 [01:15<5:02:10, 10.80it/s]\u001b[A\u001b[A\u001b[A\u001b[A\n",
      "\n",
      "\n",
      "\n",
      "loss - 0.1151:   0%|          | 943/196682 [01:15<5:02:10, 10.80it/s]\u001b[A\u001b[A\u001b[A\u001b[A"
     ]
    },
    {
     "name": "stdout",
     "output_type": "stream",
     "text": [
      "x.size(1) is:99\n",
      "x.size(1) is:99\n",
      "x.size(1) is:99\n"
     ]
    },
    {
     "name": "stderr",
     "output_type": "stream",
     "text": [
      "\n",
      "\n",
      "\n",
      "\n",
      "loss - 0.2374:   0%|          | 943/196682 [01:15<5:02:10, 10.80it/s]\u001b[A\u001b[A\u001b[A\u001b[A\n",
      "\n",
      "\n",
      "\n",
      "loss - 0.2374:   0%|          | 945/196682 [01:15<5:07:35, 10.61it/s]\u001b[A\u001b[A\u001b[A\u001b[A\n",
      "\n",
      "\n",
      "\n",
      "loss - 0.2993:   0%|          | 945/196682 [01:15<5:07:35, 10.61it/s]\u001b[A\u001b[A\u001b[A\u001b[A\n",
      "\n",
      "\n",
      "\n",
      "loss - 0.0785:   0%|          | 945/196682 [01:15<5:07:35, 10.61it/s]\u001b[A\u001b[A\u001b[A\u001b[A\n",
      "\n",
      "\n",
      "\n",
      "loss - 0.0785:   0%|          | 947/196682 [01:15<5:02:38, 10.78it/s]\u001b[A\u001b[A\u001b[A\u001b[A"
     ]
    },
    {
     "name": "stdout",
     "output_type": "stream",
     "text": [
      "x.size(1) is:99\n",
      "x.size(1) is:99\n",
      "x.size(1) is:99\n"
     ]
    },
    {
     "name": "stderr",
     "output_type": "stream",
     "text": [
      "\n",
      "\n",
      "\n",
      "\n",
      "loss - 0.1441:   0%|          | 947/196682 [01:15<5:02:38, 10.78it/s]\u001b[A\u001b[A\u001b[A\u001b[A\n",
      "\n",
      "\n",
      "\n",
      "loss - 0.3250:   0%|          | 947/196682 [01:15<5:02:38, 10.78it/s]\u001b[A\u001b[A\u001b[A\u001b[A\n",
      "\n",
      "\n",
      "\n",
      "loss - 0.3250:   0%|          | 949/196682 [01:15<5:03:06, 10.76it/s]\u001b[A\u001b[A\u001b[A\u001b[A\n",
      "\n",
      "\n",
      "\n",
      "loss - 0.3263:   0%|          | 949/196682 [01:15<5:03:06, 10.76it/s]\u001b[A\u001b[A\u001b[A\u001b[A"
     ]
    },
    {
     "name": "stdout",
     "output_type": "stream",
     "text": [
      "x.size(1) is:99\n",
      "x.size(1) is:99\n",
      "x.size(1) is:99\n"
     ]
    },
    {
     "name": "stderr",
     "output_type": "stream",
     "text": [
      "\n",
      "\n",
      "\n",
      "\n",
      "loss - 0.6495:   0%|          | 949/196682 [01:15<5:03:06, 10.76it/s]\u001b[A\u001b[A\u001b[A\u001b[A\n",
      "\n",
      "\n",
      "\n",
      "loss - 0.6495:   0%|          | 951/196682 [01:15<4:59:19, 10.90it/s]\u001b[A\u001b[A\u001b[A\u001b[A\n",
      "\n",
      "\n",
      "\n",
      "loss - 0.4287:   0%|          | 951/196682 [01:15<4:59:19, 10.90it/s]\u001b[A\u001b[A\u001b[A\u001b[A\n",
      "\n",
      "\n",
      "\n",
      "loss - 0.0992:   0%|          | 951/196682 [01:16<4:59:19, 10.90it/s]\u001b[A\u001b[A\u001b[A\u001b[A\n",
      "\n",
      "\n",
      "\n",
      "loss - 0.0992:   0%|          | 953/196682 [01:16<4:57:05, 10.98it/s]\u001b[A\u001b[A\u001b[A\u001b[A"
     ]
    },
    {
     "name": "stdout",
     "output_type": "stream",
     "text": [
      "x.size(1) is:99\n",
      "x.size(1) is:99\n",
      "x.size(1) is:99\n"
     ]
    },
    {
     "name": "stderr",
     "output_type": "stream",
     "text": [
      "\n",
      "\n",
      "\n",
      "\n",
      "loss - 0.0896:   0%|          | 953/196682 [01:16<4:57:05, 10.98it/s]\u001b[A\u001b[A\u001b[A\u001b[A\n",
      "\n",
      "\n",
      "\n",
      "loss - 0.3250:   0%|          | 953/196682 [01:16<4:57:05, 10.98it/s]\u001b[A\u001b[A\u001b[A\u001b[A\n",
      "\n",
      "\n",
      "\n",
      "loss - 0.3250:   0%|          | 955/196682 [01:16<4:58:45, 10.92it/s]\u001b[A\u001b[A\u001b[A\u001b[A\n",
      "\n",
      "\n",
      "\n",
      "loss - 0.1474:   0%|          | 955/196682 [01:16<4:58:45, 10.92it/s]\u001b[A\u001b[A\u001b[A\u001b[A"
     ]
    },
    {
     "name": "stdout",
     "output_type": "stream",
     "text": [
      "x.size(1) is:99\n",
      "x.size(1) is:99\n",
      "x.size(1) is:99\n"
     ]
    },
    {
     "name": "stderr",
     "output_type": "stream",
     "text": [
      "\n",
      "\n",
      "\n",
      "\n",
      "loss - 0.1441:   0%|          | 955/196682 [01:16<4:58:45, 10.92it/s]\u001b[A\u001b[A\u001b[A\u001b[A\n",
      "\n",
      "\n",
      "\n",
      "loss - 0.1441:   0%|          | 957/196682 [01:16<4:59:31, 10.89it/s]\u001b[A\u001b[A\u001b[A\u001b[A\n",
      "\n",
      "\n",
      "\n",
      "loss - 0.0600:   0%|          | 957/196682 [01:16<4:59:31, 10.89it/s]\u001b[A\u001b[A\u001b[A\u001b[A\n",
      "\n",
      "\n",
      "\n",
      "loss - 0.3416:   0%|          | 957/196682 [01:16<4:59:31, 10.89it/s]\u001b[A\u001b[A\u001b[A\u001b[A\n",
      "\n",
      "\n",
      "\n",
      "loss - 0.3416:   0%|          | 959/196682 [01:16<5:00:57, 10.84it/s]\u001b[A\u001b[A\u001b[A\u001b[A"
     ]
    },
    {
     "name": "stdout",
     "output_type": "stream",
     "text": [
      "x.size(1) is:99\n",
      "x.size(1) is:99\n",
      "x.size(1) is:99\n"
     ]
    },
    {
     "name": "stderr",
     "output_type": "stream",
     "text": [
      "\n",
      "\n",
      "\n",
      "\n",
      "loss - 0.4449:   0%|          | 959/196682 [01:16<5:00:57, 10.84it/s]\u001b[A\u001b[A\u001b[A\u001b[A\n",
      "\n",
      "\n",
      "\n",
      "loss - 0.1883:   0%|          | 959/196682 [01:16<5:00:57, 10.84it/s]\u001b[A\u001b[A\u001b[A\u001b[A\n",
      "\n",
      "\n",
      "\n",
      "loss - 0.1883:   0%|          | 961/196682 [01:16<4:59:18, 10.90it/s]\u001b[A\u001b[A\u001b[A\u001b[A\n",
      "\n",
      "\n",
      "\n",
      "loss - 0.3592:   0%|          | 961/196682 [01:16<4:59:18, 10.90it/s]\u001b[A\u001b[A\u001b[A\u001b[A"
     ]
    },
    {
     "name": "stdout",
     "output_type": "stream",
     "text": [
      "x.size(1) is:99\n",
      "x.size(1) is:99\n",
      "x.size(1) is:99\n"
     ]
    },
    {
     "name": "stderr",
     "output_type": "stream",
     "text": [
      "\n",
      "\n",
      "\n",
      "\n",
      "loss - 0.3057:   0%|          | 961/196682 [01:16<4:59:18, 10.90it/s]\u001b[A\u001b[A\u001b[A\u001b[A\n",
      "\n",
      "\n",
      "\n",
      "loss - 0.3057:   0%|          | 963/196682 [01:16<4:57:52, 10.95it/s]\u001b[A\u001b[A\u001b[A\u001b[A\n",
      "\n",
      "\n",
      "\n",
      "loss - 0.2486:   0%|          | 963/196682 [01:17<4:57:52, 10.95it/s]\u001b[A\u001b[A\u001b[A\u001b[A\n",
      "\n",
      "\n",
      "\n",
      "loss - 0.0505:   0%|          | 963/196682 [01:17<4:57:52, 10.95it/s]\u001b[A\u001b[A\u001b[A\u001b[A\n",
      "\n",
      "\n",
      "\n",
      "loss - 0.0505:   0%|          | 965/196682 [01:17<4:56:40, 10.99it/s]\u001b[A\u001b[A\u001b[A\u001b[A"
     ]
    },
    {
     "name": "stdout",
     "output_type": "stream",
     "text": [
      "x.size(1) is:99\n",
      "x.size(1) is:99\n",
      "x.size(1) is:99\n"
     ]
    },
    {
     "name": "stderr",
     "output_type": "stream",
     "text": [
      "\n",
      "\n",
      "\n",
      "\n",
      "loss - 0.0694:   0%|          | 965/196682 [01:17<4:56:40, 10.99it/s]\u001b[A\u001b[A\u001b[A\u001b[A\n",
      "\n",
      "\n",
      "\n",
      "loss - 0.2943:   0%|          | 965/196682 [01:17<4:56:40, 10.99it/s]\u001b[A\u001b[A\u001b[A\u001b[A\n",
      "\n",
      "\n",
      "\n",
      "loss - 0.2943:   0%|          | 967/196682 [01:17<5:07:27, 10.61it/s]\u001b[A\u001b[A\u001b[A\u001b[A\n",
      "\n",
      "\n",
      "\n",
      "loss - 0.0489:   0%|          | 967/196682 [01:17<5:07:27, 10.61it/s]"
     ]
    },
    {
     "name": "stdout",
     "output_type": "stream",
     "text": [
      "x.size(1) is:99\n",
      "x.size(1) is:99\n"
     ]
    },
    {
     "name": "stderr",
     "output_type": "stream",
     "text": [
      "\u001b[A\u001b[A\u001b[A\u001b[A\n",
      "\n",
      "\n",
      "\n",
      "loss - 0.0515:   0%|          | 967/196682 [01:17<5:07:27, 10.61it/s]\u001b[A\u001b[A\u001b[A\u001b[A\n",
      "\n",
      "\n",
      "\n",
      "loss - 0.0515:   0%|          | 969/196682 [01:17<5:09:49, 10.53it/s]\u001b[A\u001b[A\u001b[A\u001b[A\n",
      "\n",
      "\n",
      "\n",
      "loss - 0.4405:   0%|          | 969/196682 [01:17<5:09:49, 10.53it/s]\u001b[A\u001b[A\u001b[A\u001b[A"
     ]
    },
    {
     "name": "stdout",
     "output_type": "stream",
     "text": [
      "x.size(1) is:99\n",
      "x.size(1) is:99\n",
      "x.size(1) is:99\n"
     ]
    },
    {
     "name": "stderr",
     "output_type": "stream",
     "text": [
      "\n",
      "\n",
      "\n",
      "\n",
      "loss - 0.4357:   0%|          | 969/196682 [01:17<5:09:49, 10.53it/s]\u001b[A\u001b[A\u001b[A\u001b[A\n",
      "\n",
      "\n",
      "\n",
      "loss - 0.4357:   0%|          | 971/196682 [01:17<5:10:47, 10.50it/s]\u001b[A\u001b[A\u001b[A\u001b[A\n",
      "\n",
      "\n",
      "\n",
      "loss - 0.3185:   0%|          | 971/196682 [01:17<5:10:47, 10.50it/s]\u001b[A\u001b[A\u001b[A\u001b[A\n",
      "\n",
      "\n",
      "\n",
      "loss - 0.0391:   0%|          | 971/196682 [01:17<5:10:47, 10.50it/s]\u001b[A\u001b[A\u001b[A\u001b[A\n",
      "\n",
      "\n",
      "\n",
      "loss - 0.0391:   0%|          | 973/196682 [01:17<5:13:32, 10.40it/s]\u001b[A\u001b[A\u001b[A\u001b[A"
     ]
    },
    {
     "name": "stdout",
     "output_type": "stream",
     "text": [
      "x.size(1) is:99\n",
      "x.size(1) is:99\n",
      "x.size(1) is:99\n"
     ]
    },
    {
     "name": "stderr",
     "output_type": "stream",
     "text": [
      "\n",
      "\n",
      "\n",
      "\n",
      "loss - 0.1283:   0%|          | 973/196682 [01:18<5:13:32, 10.40it/s]\u001b[A\u001b[A\u001b[A\u001b[A\n",
      "\n",
      "\n",
      "\n",
      "loss - 0.0492:   0%|          | 973/196682 [01:18<5:13:32, 10.40it/s]\u001b[A\u001b[A\u001b[A\u001b[A\n",
      "\n",
      "\n",
      "\n",
      "loss - 0.0492:   0%|          | 975/196682 [01:18<5:09:23, 10.54it/s]\u001b[A\u001b[A\u001b[A\u001b[A\n",
      "\n",
      "\n",
      "\n",
      "loss - 0.4885:   0%|          | 975/196682 [01:18<5:09:23, 10.54it/s]\u001b[A\u001b[A\u001b[A\u001b[A"
     ]
    },
    {
     "name": "stdout",
     "output_type": "stream",
     "text": [
      "x.size(1) is:99\n",
      "x.size(1) is:99\n",
      "x.size(1) is:99\n"
     ]
    },
    {
     "name": "stderr",
     "output_type": "stream",
     "text": [
      "\n",
      "\n",
      "\n",
      "\n",
      "loss - 0.2992:   0%|          | 975/196682 [01:18<5:09:23, 10.54it/s]\u001b[A\u001b[A\u001b[A\u001b[A\n",
      "\n",
      "\n",
      "\n",
      "loss - 0.2992:   0%|          | 977/196682 [01:18<5:04:17, 10.72it/s]\u001b[A\u001b[A\u001b[A\u001b[A\n",
      "\n",
      "\n",
      "\n",
      "loss - 0.1634:   0%|          | 977/196682 [01:18<5:04:17, 10.72it/s]\u001b[A\u001b[A\u001b[A\u001b[A\n",
      "\n",
      "\n",
      "\n",
      "loss - 0.4965:   0%|          | 977/196682 [01:18<5:04:17, 10.72it/s]\u001b[A\u001b[A\u001b[A\u001b[A\n",
      "\n",
      "\n",
      "\n",
      "loss - 0.4965:   0%|          | 979/196682 [01:18<5:02:31, 10.78it/s]\u001b[A\u001b[A\u001b[A\u001b[A"
     ]
    },
    {
     "name": "stdout",
     "output_type": "stream",
     "text": [
      "x.size(1) is:99\n",
      "x.size(1) is:99\n",
      "x.size(1) is:99\n"
     ]
    },
    {
     "name": "stderr",
     "output_type": "stream",
     "text": [
      "\n",
      "\n",
      "\n",
      "\n",
      "loss - 0.2480:   0%|          | 979/196682 [01:18<5:02:31, 10.78it/s]\u001b[A\u001b[A\u001b[A\u001b[A\n",
      "\n",
      "\n",
      "\n",
      "loss - 0.3141:   0%|          | 979/196682 [01:18<5:02:31, 10.78it/s]\u001b[A\u001b[A\u001b[A\u001b[A\n",
      "\n",
      "\n",
      "\n",
      "loss - 0.3141:   0%|          | 981/196682 [01:18<5:01:23, 10.82it/s]\u001b[A\u001b[A\u001b[A\u001b[A\n",
      "\n",
      "\n",
      "\n",
      "loss - 0.0767:   0%|          | 981/196682 [01:18<5:01:23, 10.82it/s]\u001b[A\u001b[A\u001b[A\u001b[A"
     ]
    },
    {
     "name": "stdout",
     "output_type": "stream",
     "text": [
      "x.size(1) is:99\n",
      "x.size(1) is:99\n",
      "x.size(1) is:99\n"
     ]
    },
    {
     "name": "stderr",
     "output_type": "stream",
     "text": [
      "\n",
      "\n",
      "\n",
      "\n",
      "loss - 0.2305:   0%|          | 981/196682 [01:18<5:01:23, 10.82it/s]\u001b[A\u001b[A\u001b[A\u001b[A\n",
      "\n",
      "\n",
      "\n",
      "loss - 0.2305:   0%|          | 983/196682 [01:18<4:58:41, 10.92it/s]\u001b[A\u001b[A\u001b[A\u001b[A\n",
      "\n",
      "\n",
      "\n",
      "loss - 0.4233:   0%|          | 983/196682 [01:18<4:58:41, 10.92it/s]\u001b[A\u001b[A\u001b[A\u001b[A\n",
      "\n",
      "\n",
      "\n",
      "loss - 0.3870:   0%|          | 983/196682 [01:19<4:58:41, 10.92it/s]\u001b[A\u001b[A\u001b[A\u001b[A\n",
      "\n",
      "\n",
      "\n",
      "loss - 0.3870:   1%|          | 985/196682 [01:19<4:59:12, 10.90it/s]\u001b[A\u001b[A\u001b[A\u001b[A"
     ]
    },
    {
     "name": "stdout",
     "output_type": "stream",
     "text": [
      "x.size(1) is:99\n",
      "x.size(1) is:99\n",
      "x.size(1) is:99\n"
     ]
    },
    {
     "name": "stderr",
     "output_type": "stream",
     "text": [
      "\n",
      "\n",
      "\n",
      "\n",
      "loss - 0.1580:   1%|          | 985/196682 [01:19<4:59:12, 10.90it/s]\u001b[A\u001b[A\u001b[A\u001b[A\n",
      "\n",
      "\n",
      "\n",
      "loss - 0.2552:   1%|          | 985/196682 [01:19<4:59:12, 10.90it/s]\u001b[A\u001b[A\u001b[A\u001b[A\n",
      "\n",
      "\n",
      "\n",
      "loss - 0.2552:   1%|          | 987/196682 [01:19<5:03:04, 10.76it/s]\u001b[A\u001b[A\u001b[A\u001b[A\n",
      "\n",
      "\n",
      "\n",
      "loss - 0.0684:   1%|          | 987/196682 [01:19<5:03:04, 10.76it/s]\u001b[A\u001b[A\u001b[A\u001b[A"
     ]
    },
    {
     "name": "stdout",
     "output_type": "stream",
     "text": [
      "x.size(1) is:99\n",
      "x.size(1) is:99\n",
      "x.size(1) is:99\n"
     ]
    },
    {
     "name": "stderr",
     "output_type": "stream",
     "text": [
      "\n",
      "\n",
      "\n",
      "\n",
      "loss - 0.4609:   1%|          | 987/196682 [01:19<5:03:04, 10.76it/s]\u001b[A\u001b[A\u001b[A\u001b[A\n",
      "\n",
      "\n",
      "\n",
      "loss - 0.4609:   1%|          | 989/196682 [01:19<5:18:37, 10.24it/s]\u001b[A\u001b[A\u001b[A\u001b[A\n",
      "\n",
      "\n",
      "\n",
      "loss - 0.1795:   1%|          | 989/196682 [01:19<5:18:37, 10.24it/s]\u001b[A\u001b[A\u001b[A\u001b[A\n",
      "\n",
      "\n",
      "\n",
      "loss - 0.3010:   1%|          | 989/196682 [01:19<5:18:37, 10.24it/s]\u001b[A\u001b[A\u001b[A\u001b[A\n",
      "\n",
      "\n",
      "\n",
      "loss - 0.3010:   1%|          | 991/196682 [01:19<5:31:22,  9.84it/s]\u001b[A\u001b[A\u001b[A\u001b[A"
     ]
    },
    {
     "name": "stdout",
     "output_type": "stream",
     "text": [
      "x.size(1) is:99\n",
      "x.size(1) is:99\n",
      "x.size(1) is:99\n"
     ]
    },
    {
     "name": "stderr",
     "output_type": "stream",
     "text": [
      "\n",
      "\n",
      "\n",
      "\n",
      "loss - 0.0705:   1%|          | 991/196682 [01:19<5:31:22,  9.84it/s]\u001b[A\u001b[A\u001b[A\u001b[A\n",
      "\n",
      "\n",
      "\n",
      "loss - 0.3576:   1%|          | 991/196682 [01:19<5:31:22,  9.84it/s]\u001b[A\u001b[A\u001b[A\u001b[A\n",
      "\n",
      "\n",
      "\n",
      "loss - 0.3576:   1%|          | 993/196682 [01:19<5:24:54, 10.04it/s]\u001b[A\u001b[A\u001b[A\u001b[A\n",
      "\n",
      "\n",
      "\n",
      "loss - 0.2496:   1%|          | 993/196682 [01:19<5:24:54, 10.04it/s]\u001b[A\u001b[A\u001b[A\u001b[A"
     ]
    },
    {
     "name": "stdout",
     "output_type": "stream",
     "text": [
      "x.size(1) is:99\n",
      "x.size(1) is:99\n",
      "x.size(1) is:99\n"
     ]
    },
    {
     "name": "stderr",
     "output_type": "stream",
     "text": [
      "\n",
      "\n",
      "\n",
      "\n",
      "loss - 0.6167:   1%|          | 993/196682 [01:20<5:24:54, 10.04it/s]\u001b[A\u001b[A\u001b[A\u001b[A\n",
      "\n",
      "\n",
      "\n",
      "loss - 0.6167:   1%|          | 995/196682 [01:20<5:18:34, 10.24it/s]\u001b[A\u001b[A\u001b[A\u001b[A\n",
      "\n",
      "\n",
      "\n",
      "loss - 0.3731:   1%|          | 995/196682 [01:20<5:18:34, 10.24it/s]\u001b[A\u001b[A\u001b[A\u001b[A\n",
      "\n",
      "\n",
      "\n",
      "loss - 0.3632:   1%|          | 995/196682 [01:20<5:18:34, 10.24it/s]\u001b[A\u001b[A\u001b[A\u001b[A\n",
      "\n",
      "\n",
      "\n",
      "loss - 0.3632:   1%|          | 997/196682 [01:20<5:17:11, 10.28it/s]\u001b[A\u001b[A\u001b[A\u001b[A"
     ]
    },
    {
     "name": "stdout",
     "output_type": "stream",
     "text": [
      "x.size(1) is:99\n",
      "x.size(1) is:99\n",
      "x.size(1) is:99\n"
     ]
    },
    {
     "name": "stderr",
     "output_type": "stream",
     "text": [
      "\n",
      "\n",
      "\n",
      "\n",
      "loss - 0.4599:   1%|          | 997/196682 [01:20<5:17:11, 10.28it/s]\u001b[A\u001b[A\u001b[A\u001b[A\n",
      "\n",
      "\n",
      "\n",
      "loss - 0.1715:   1%|          | 997/196682 [01:20<5:17:11, 10.28it/s]\u001b[A\u001b[A\u001b[A\u001b[A\n",
      "\n",
      "\n",
      "\n",
      "loss - 0.1715:   1%|          | 999/196682 [01:20<5:13:24, 10.41it/s]\u001b[A\u001b[A\u001b[A\u001b[A\n",
      "\n",
      "\n",
      "\n",
      "loss - 0.1070:   1%|          | 999/196682 [01:20<5:13:24, 10.41it/s]\u001b[A\u001b[A\u001b[A\u001b[A"
     ]
    },
    {
     "name": "stdout",
     "output_type": "stream",
     "text": [
      "x.size(1) is:99\n",
      "x.size(1) is:99\n",
      "x.size(1) is:99\n"
     ]
    },
    {
     "name": "stderr",
     "output_type": "stream",
     "text": [
      "\n",
      "\n",
      "\n",
      "\n",
      "loss - 0.2621:   1%|          | 999/196682 [01:20<5:13:24, 10.41it/s]\u001b[A\u001b[A\u001b[A\u001b[A\n",
      "\n",
      "\n",
      "\n",
      "loss - 0.2621:   1%|          | 1001/196682 [01:20<5:12:55, 10.42it/s]\u001b[A\u001b[A\u001b[A\u001b[A\n",
      "\n",
      "\n",
      "\n",
      "loss - 0.4610:   1%|          | 1001/196682 [01:20<5:12:55, 10.42it/s]\u001b[A\u001b[A\u001b[A\u001b[A\n",
      "\n",
      "\n",
      "\n",
      "loss - 0.3766:   1%|          | 1001/196682 [01:20<5:12:55, 10.42it/s]\u001b[A\u001b[A\u001b[A\u001b[A\n",
      "\n",
      "\n",
      "\n",
      "loss - 0.3766:   1%|          | 1003/196682 [01:20<5:19:12, 10.22it/s]\u001b[A\u001b[A\u001b[A\u001b[A"
     ]
    },
    {
     "name": "stdout",
     "output_type": "stream",
     "text": [
      "x.size(1) is:99\n",
      "x.size(1) is:99\n",
      "x.size(1) is:99\n"
     ]
    },
    {
     "name": "stderr",
     "output_type": "stream",
     "text": [
      "\n",
      "\n",
      "\n",
      "\n",
      "loss - 0.5218:   1%|          | 1003/196682 [01:20<5:19:12, 10.22it/s]\u001b[A\u001b[A\u001b[A\u001b[A\n",
      "\n",
      "\n",
      "\n",
      "loss - 0.3595:   1%|          | 1003/196682 [01:21<5:19:12, 10.22it/s]\u001b[A\u001b[A\u001b[A\u001b[A\n",
      "\n",
      "\n",
      "\n",
      "loss - 0.3595:   1%|          | 1005/196682 [01:21<5:19:41, 10.20it/s]\u001b[A\u001b[A\u001b[A\u001b[A\n",
      "\n",
      "\n",
      "\n",
      "loss - 0.1469:   1%|          | 1005/196682 [01:21<5:19:41, 10.20it/s]\u001b[A\u001b[A\u001b[A\u001b[A"
     ]
    },
    {
     "name": "stdout",
     "output_type": "stream",
     "text": [
      "x.size(1) is:99\n",
      "x.size(1) is:99\n"
     ]
    },
    {
     "name": "stderr",
     "output_type": "stream",
     "text": [
      "\n",
      "\n",
      "\n",
      "\n",
      "loss - 0.3934:   1%|          | 1005/196682 [01:21<5:19:41, 10.20it/s]\u001b[A\u001b[A\u001b[A\u001b[A\n",
      "\n",
      "\n",
      "\n",
      "loss - 0.3934:   1%|          | 1007/196682 [01:21<5:20:52, 10.16it/s]\u001b[A\u001b[A\u001b[A\u001b[A\n",
      "\n",
      "\n",
      "\n",
      "loss - 0.2462:   1%|          | 1007/196682 [01:21<5:20:52, 10.16it/s]\u001b[A\u001b[A\u001b[A\u001b[A"
     ]
    },
    {
     "name": "stdout",
     "output_type": "stream",
     "text": [
      "x.size(1) is:99\n",
      "x.size(1) is:99\n",
      "x.size(1) is:99\n"
     ]
    },
    {
     "name": "stderr",
     "output_type": "stream",
     "text": [
      "\n",
      "\n",
      "\n",
      "\n",
      "loss - 0.0948:   1%|          | 1007/196682 [01:21<5:20:52, 10.16it/s]\u001b[A\u001b[A\u001b[A\u001b[A\n",
      "\n",
      "\n",
      "\n",
      "loss - 0.0948:   1%|          | 1009/196682 [01:21<5:15:59, 10.32it/s]\u001b[A\u001b[A\u001b[A\u001b[A\n",
      "\n",
      "\n",
      "\n",
      "loss - 0.4243:   1%|          | 1009/196682 [01:21<5:15:59, 10.32it/s]\u001b[A\u001b[A\u001b[A\u001b[A"
     ]
    },
    {
     "name": "stdout",
     "output_type": "stream",
     "text": [
      "x.size(1) is:99\n",
      "x.size(1) is:99\n"
     ]
    },
    {
     "name": "stderr",
     "output_type": "stream",
     "text": [
      "\n",
      "\n",
      "\n",
      "\n",
      "loss - 0.2223:   1%|          | 1009/196682 [01:21<5:15:59, 10.32it/s]\u001b[A\u001b[A\u001b[A\u001b[A\n",
      "\n",
      "\n",
      "\n",
      "loss - 0.2223:   1%|          | 1011/196682 [01:21<5:38:34,  9.63it/s]\u001b[A\u001b[A\u001b[A\u001b[A\n",
      "\n",
      "\n",
      "\n",
      "loss - 0.5867:   1%|          | 1011/196682 [01:21<5:38:34,  9.63it/s]\u001b[A\u001b[A\u001b[A\u001b[A\n",
      "\n",
      "\n",
      "\n",
      "loss - 0.3165:   1%|          | 1011/196682 [01:21<5:38:34,  9.63it/s]\u001b[A\u001b[A\u001b[A\u001b[A\n",
      "\n",
      "\n",
      "\n",
      "loss - 0.3165:   1%|          | 1013/196682 [01:21<5:31:09,  9.85it/s]\u001b[A\u001b[A\u001b[A\u001b[A"
     ]
    },
    {
     "name": "stdout",
     "output_type": "stream",
     "text": [
      "x.size(1) is:99\n",
      "x.size(1) is:99\n",
      "x.size(1) is:99\n"
     ]
    },
    {
     "name": "stderr",
     "output_type": "stream",
     "text": [
      "\n",
      "\n",
      "\n",
      "\n",
      "loss - 0.2619:   1%|          | 1013/196682 [01:21<5:31:09,  9.85it/s]\u001b[A\u001b[A\u001b[A\u001b[A\n",
      "\n",
      "\n",
      "\n",
      "loss - 0.3110:   1%|          | 1013/196682 [01:22<5:31:09,  9.85it/s]\u001b[A\u001b[A\u001b[A\u001b[A\n",
      "\n",
      "\n",
      "\n",
      "loss - 0.3110:   1%|          | 1015/196682 [01:22<5:24:58, 10.03it/s]\u001b[A\u001b[A\u001b[A\u001b[A\n",
      "\n",
      "\n",
      "\n",
      "loss - 0.3366:   1%|          | 1015/196682 [01:22<5:24:58, 10.03it/s]\u001b[A\u001b[A\u001b[A\u001b[A"
     ]
    },
    {
     "name": "stdout",
     "output_type": "stream",
     "text": [
      "x.size(1) is:99\n",
      "x.size(1) is:99\n",
      "x.size(1) is:99\n"
     ]
    },
    {
     "name": "stderr",
     "output_type": "stream",
     "text": [
      "\n",
      "\n",
      "\n",
      "\n",
      "loss - 0.1713:   1%|          | 1015/196682 [01:22<5:24:58, 10.03it/s]\u001b[A\u001b[A\u001b[A\u001b[A\n",
      "\n",
      "\n",
      "\n",
      "loss - 0.1713:   1%|          | 1017/196682 [01:22<5:23:31, 10.08it/s]\u001b[A\u001b[A\u001b[A\u001b[A\n",
      "\n",
      "\n",
      "\n",
      "loss - 0.3621:   1%|          | 1017/196682 [01:22<5:23:31, 10.08it/s]\u001b[A\u001b[A\u001b[A\u001b[A\n",
      "\n",
      "\n",
      "\n",
      "loss - 0.3201:   1%|          | 1017/196682 [01:22<5:23:31, 10.08it/s]\u001b[A\u001b[A\u001b[A\u001b[A\n",
      "\n",
      "\n",
      "\n",
      "loss - 0.3201:   1%|          | 1019/196682 [01:22<5:22:24, 10.11it/s]\u001b[A\u001b[A\u001b[A\u001b[A"
     ]
    },
    {
     "name": "stdout",
     "output_type": "stream",
     "text": [
      "x.size(1) is:99\n",
      "x.size(1) is:99\n",
      "x.size(1) is:99\n"
     ]
    },
    {
     "name": "stderr",
     "output_type": "stream",
     "text": [
      "\n",
      "\n",
      "\n",
      "\n",
      "loss - 0.4169:   1%|          | 1019/196682 [01:22<5:22:24, 10.11it/s]\u001b[A\u001b[A\u001b[A\u001b[A\n",
      "\n",
      "\n",
      "\n",
      "loss - 0.0814:   1%|          | 1019/196682 [01:22<5:22:24, 10.11it/s]\u001b[A\u001b[A\u001b[A\u001b[A\n",
      "\n",
      "\n",
      "\n",
      "loss - 0.0814:   1%|          | 1021/196682 [01:22<5:17:55, 10.26it/s]\u001b[A\u001b[A\u001b[A\u001b[A\n",
      "\n",
      "\n",
      "\n",
      "loss - 0.2525:   1%|          | 1021/196682 [01:22<5:17:55, 10.26it/s]\u001b[A\u001b[A\u001b[A\u001b[A"
     ]
    },
    {
     "name": "stdout",
     "output_type": "stream",
     "text": [
      "x.size(1) is:99\n",
      "x.size(1) is:99\n",
      "x.size(1) is:99\n"
     ]
    },
    {
     "name": "stderr",
     "output_type": "stream",
     "text": [
      "\n",
      "\n",
      "\n",
      "\n",
      "loss - 0.2295:   1%|          | 1021/196682 [01:22<5:17:55, 10.26it/s]\u001b[A\u001b[A\u001b[A\u001b[A\n",
      "\n",
      "\n",
      "\n",
      "loss - 0.2295:   1%|          | 1023/196682 [01:22<5:18:34, 10.24it/s]\u001b[A\u001b[A\u001b[A\u001b[A\n",
      "\n",
      "\n",
      "\n",
      "loss - 0.5998:   1%|          | 1023/196682 [01:22<5:18:34, 10.24it/s]\u001b[A\u001b[A\u001b[A\u001b[A\n",
      "\n",
      "\n",
      "\n",
      "loss - 0.5069:   1%|          | 1023/196682 [01:22<5:18:34, 10.24it/s]\u001b[A\u001b[A\u001b[A\u001b[A\n",
      "\n",
      "\n",
      "\n",
      "loss - 0.5069:   1%|          | 1025/196682 [01:22<5:15:41, 10.33it/s]\u001b[A\u001b[A\u001b[A\u001b[A"
     ]
    },
    {
     "name": "stdout",
     "output_type": "stream",
     "text": [
      "x.size(1) is:99\n",
      "x.size(1) is:99\n",
      "x.size(1) is:99\n"
     ]
    },
    {
     "name": "stderr",
     "output_type": "stream",
     "text": [
      "\n",
      "\n",
      "\n",
      "\n",
      "loss - 0.5271:   1%|          | 1025/196682 [01:23<5:15:41, 10.33it/s]\u001b[A\u001b[A\u001b[A\u001b[A\n",
      "\n",
      "\n",
      "\n",
      "loss - 0.1368:   1%|          | 1025/196682 [01:23<5:15:41, 10.33it/s]\u001b[A\u001b[A\u001b[A\u001b[A\n",
      "\n",
      "\n",
      "\n",
      "loss - 0.1368:   1%|          | 1027/196682 [01:23<5:16:47, 10.29it/s]\u001b[A\u001b[A\u001b[A\u001b[A\n",
      "\n",
      "\n",
      "\n",
      "loss - 0.3001:   1%|          | 1027/196682 [01:23<5:16:47, 10.29it/s]\u001b[A\u001b[A\u001b[A\u001b[A"
     ]
    },
    {
     "name": "stdout",
     "output_type": "stream",
     "text": [
      "x.size(1) is:99\n",
      "x.size(1) is:99\n"
     ]
    },
    {
     "name": "stderr",
     "output_type": "stream",
     "text": [
      "\n",
      "\n",
      "\n",
      "\n",
      "loss - 0.3405:   1%|          | 1027/196682 [01:23<5:16:47, 10.29it/s]\u001b[A\u001b[A\u001b[A\u001b[A\n",
      "\n",
      "\n",
      "\n",
      "loss - 0.3405:   1%|          | 1029/196682 [01:23<5:19:09, 10.22it/s]\u001b[A\u001b[A\u001b[A\u001b[A\n",
      "\n",
      "\n",
      "\n",
      "loss - 0.2726:   1%|          | 1029/196682 [01:23<5:19:09, 10.22it/s]\u001b[A\u001b[A\u001b[A\u001b[A"
     ]
    },
    {
     "name": "stdout",
     "output_type": "stream",
     "text": [
      "x.size(1) is:99\n",
      "x.size(1) is:99\n",
      "x.size(1) is:99\n"
     ]
    },
    {
     "name": "stderr",
     "output_type": "stream",
     "text": [
      "\n",
      "\n",
      "\n",
      "\n",
      "loss - 0.3788:   1%|          | 1029/196682 [01:23<5:19:09, 10.22it/s]\u001b[A\u001b[A\u001b[A\u001b[A\n",
      "\n",
      "\n",
      "\n",
      "loss - 0.3788:   1%|          | 1031/196682 [01:23<5:24:06, 10.06it/s]\u001b[A\u001b[A\u001b[A\u001b[A\n",
      "\n",
      "\n",
      "\n",
      "loss - 0.3624:   1%|          | 1031/196682 [01:23<5:24:06, 10.06it/s]\u001b[A\u001b[A\u001b[A\u001b[A\n",
      "\n",
      "\n",
      "\n",
      "loss - 0.1819:   1%|          | 1031/196682 [01:23<5:24:06, 10.06it/s]\u001b[A\u001b[A\u001b[A\u001b[A\n",
      "\n",
      "\n",
      "\n",
      "loss - 0.1819:   1%|          | 1033/196682 [01:23<5:29:18,  9.90it/s]\u001b[A\u001b[A\u001b[A\u001b[A"
     ]
    },
    {
     "name": "stdout",
     "output_type": "stream",
     "text": [
      "x.size(1) is:99\n",
      "x.size(1) is:99\n"
     ]
    },
    {
     "name": "stderr",
     "output_type": "stream",
     "text": [
      "\n",
      "\n",
      "\n",
      "\n",
      "loss - 0.6023:   1%|          | 1033/196682 [01:23<5:29:18,  9.90it/s]\u001b[A\u001b[A\u001b[A\u001b[A\n",
      "\n",
      "\n",
      "\n",
      "loss - 0.3642:   1%|          | 1033/196682 [01:23<5:29:18,  9.90it/s]\u001b[A\u001b[A\u001b[A\u001b[A\n",
      "\n",
      "\n",
      "\n",
      "loss - 0.3642:   1%|          | 1035/196682 [01:23<5:24:45, 10.04it/s]\u001b[A\u001b[A\u001b[A\u001b[A"
     ]
    },
    {
     "name": "stdout",
     "output_type": "stream",
     "text": [
      "x.size(1) is:99\n",
      "x.size(1) is:99\n",
      "x.size(1) is:99\n"
     ]
    },
    {
     "name": "stderr",
     "output_type": "stream",
     "text": [
      "\n",
      "\n",
      "\n",
      "\n",
      "loss - 0.5483:   1%|          | 1035/196682 [01:24<5:24:45, 10.04it/s]\u001b[A\u001b[A\u001b[A\u001b[A\n",
      "\n",
      "\n",
      "\n",
      "loss - 0.0676:   1%|          | 1035/196682 [01:24<5:24:45, 10.04it/s]\u001b[A\u001b[A\u001b[A\u001b[A\n",
      "\n",
      "\n",
      "\n",
      "loss - 0.0676:   1%|          | 1037/196682 [01:24<5:23:28, 10.08it/s]\u001b[A\u001b[A\u001b[A\u001b[A\n",
      "\n",
      "\n",
      "\n",
      "loss - 0.3634:   1%|          | 1037/196682 [01:24<5:23:28, 10.08it/s]\u001b[A\u001b[A\u001b[A\u001b[A"
     ]
    },
    {
     "name": "stdout",
     "output_type": "stream",
     "text": [
      "x.size(1) is:99\n",
      "x.size(1) is:99\n",
      "x.size(1) is:99\n"
     ]
    },
    {
     "name": "stderr",
     "output_type": "stream",
     "text": [
      "\n",
      "\n",
      "\n",
      "\n",
      "loss - 0.3338:   1%|          | 1037/196682 [01:24<5:23:28, 10.08it/s]\u001b[A\u001b[A\u001b[A\u001b[A\n",
      "\n",
      "\n",
      "\n",
      "loss - 0.3338:   1%|          | 1039/196682 [01:24<5:18:21, 10.24it/s]\u001b[A\u001b[A\u001b[A\u001b[A\n",
      "\n",
      "\n",
      "\n",
      "loss - 0.2926:   1%|          | 1039/196682 [01:24<5:18:21, 10.24it/s]\u001b[A\u001b[A\u001b[A\u001b[A\n",
      "\n",
      "\n",
      "\n",
      "loss - 0.3149:   1%|          | 1039/196682 [01:24<5:18:21, 10.24it/s]\u001b[A\u001b[A\u001b[A\u001b[A\n",
      "\n",
      "\n",
      "\n",
      "loss - 0.3149:   1%|          | 1041/196682 [01:24<5:17:32, 10.27it/s]\u001b[A\u001b[A\u001b[A\u001b[A"
     ]
    },
    {
     "name": "stdout",
     "output_type": "stream",
     "text": [
      "x.size(1) is:99\n",
      "x.size(1) is:99\n",
      "x.size(1) is:99\n"
     ]
    },
    {
     "name": "stderr",
     "output_type": "stream",
     "text": [
      "\n",
      "\n",
      "\n",
      "\n",
      "loss - 0.3478:   1%|          | 1041/196682 [01:24<5:17:32, 10.27it/s]\u001b[A\u001b[A\u001b[A\u001b[A\n",
      "\n",
      "\n",
      "\n",
      "loss - 0.3506:   1%|          | 1041/196682 [01:24<5:17:32, 10.27it/s]\u001b[A\u001b[A\u001b[A\u001b[A\n",
      "\n",
      "\n",
      "\n",
      "loss - 0.3506:   1%|          | 1043/196682 [01:24<5:21:08, 10.15it/s]\u001b[A\u001b[A\u001b[A\u001b[A\n",
      "\n",
      "\n",
      "\n",
      "loss - 0.3575:   1%|          | 1043/196682 [01:24<5:21:08, 10.15it/s]\u001b[A\u001b[A\u001b[A\u001b[A"
     ]
    },
    {
     "name": "stdout",
     "output_type": "stream",
     "text": [
      "x.size(1) is:99\n",
      "x.size(1) is:99\n",
      "x.size(1) is:99\n"
     ]
    },
    {
     "name": "stderr",
     "output_type": "stream",
     "text": [
      "\n",
      "\n",
      "\n",
      "\n",
      "loss - 0.0623:   1%|          | 1043/196682 [01:24<5:21:08, 10.15it/s]\u001b[A\u001b[A\u001b[A\u001b[A\n",
      "\n",
      "\n",
      "\n",
      "loss - 0.0623:   1%|          | 1045/196682 [01:24<5:16:26, 10.30it/s]\u001b[A\u001b[A\u001b[A\u001b[A\n",
      "\n",
      "\n",
      "\n",
      "loss - 0.1874:   1%|          | 1045/196682 [01:25<5:16:26, 10.30it/s]\u001b[A\u001b[A\u001b[A\u001b[A\n",
      "\n",
      "\n",
      "\n",
      "loss - 0.5515:   1%|          | 1045/196682 [01:25<5:16:26, 10.30it/s]\u001b[A\u001b[A\u001b[A\u001b[A\n",
      "\n",
      "\n",
      "\n",
      "loss - 0.5515:   1%|          | 1047/196682 [01:25<5:12:36, 10.43it/s]\u001b[A\u001b[A\u001b[A\u001b[A"
     ]
    },
    {
     "name": "stdout",
     "output_type": "stream",
     "text": [
      "x.size(1) is:99\n",
      "x.size(1) is:99\n",
      "x.size(1) is:99\n"
     ]
    },
    {
     "name": "stderr",
     "output_type": "stream",
     "text": [
      "\n",
      "\n",
      "\n",
      "\n",
      "loss - 0.1090:   1%|          | 1047/196682 [01:25<5:12:36, 10.43it/s]\u001b[A\u001b[A\u001b[A\u001b[A\n",
      "\n",
      "\n",
      "\n",
      "loss - 0.0876:   1%|          | 1047/196682 [01:25<5:12:36, 10.43it/s]\u001b[A\u001b[A\u001b[A\u001b[A\n",
      "\n",
      "\n",
      "\n",
      "loss - 0.0876:   1%|          | 1049/196682 [01:25<5:14:43, 10.36it/s]\u001b[A\u001b[A\u001b[A\u001b[A\n",
      "\n",
      "\n",
      "\n",
      "loss - 0.2573:   1%|          | 1049/196682 [01:25<5:14:43, 10.36it/s]\u001b[A\u001b[A\u001b[A\u001b[A"
     ]
    },
    {
     "name": "stdout",
     "output_type": "stream",
     "text": [
      "x.size(1) is:99\n",
      "x.size(1) is:99\n",
      "x.size(1) is:99\n"
     ]
    },
    {
     "name": "stderr",
     "output_type": "stream",
     "text": [
      "\n",
      "\n",
      "\n",
      "\n",
      "loss - 0.1075:   1%|          | 1049/196682 [01:25<5:14:43, 10.36it/s]\u001b[A\u001b[A\u001b[A\u001b[A\n",
      "\n",
      "\n",
      "\n",
      "loss - 0.1075:   1%|          | 1051/196682 [01:25<5:13:44, 10.39it/s]\u001b[A\u001b[A\u001b[A\u001b[A\n",
      "\n",
      "\n",
      "\n",
      "loss - 0.3338:   1%|          | 1051/196682 [01:25<5:13:44, 10.39it/s]\u001b[A\u001b[A\u001b[A\u001b[A\n",
      "\n",
      "\n",
      "\n",
      "loss - 0.3603:   1%|          | 1051/196682 [01:25<5:13:44, 10.39it/s]\u001b[A\u001b[A\u001b[A\u001b[A\n",
      "\n",
      "\n",
      "\n",
      "loss - 0.3603:   1%|          | 1053/196682 [01:25<5:16:10, 10.31it/s]\u001b[A\u001b[A\u001b[A\u001b[A"
     ]
    },
    {
     "name": "stdout",
     "output_type": "stream",
     "text": [
      "x.size(1) is:99\n",
      "x.size(1) is:99\n",
      "x.size(1) is:99\n"
     ]
    },
    {
     "name": "stderr",
     "output_type": "stream",
     "text": [
      "\n",
      "\n",
      "\n",
      "\n",
      "loss - 0.1972:   1%|          | 1053/196682 [01:25<5:16:10, 10.31it/s]\u001b[A\u001b[A\u001b[A\u001b[A\n",
      "\n",
      "\n",
      "\n",
      "loss - 0.0654:   1%|          | 1053/196682 [01:25<5:16:10, 10.31it/s]\u001b[A\u001b[A\u001b[A\u001b[A\n",
      "\n",
      "\n",
      "\n",
      "loss - 0.0654:   1%|          | 1055/196682 [01:25<5:16:05, 10.32it/s]\u001b[A\u001b[A\u001b[A\u001b[A\n",
      "\n",
      "\n",
      "\n",
      "loss - 0.0607:   1%|          | 1055/196682 [01:26<5:16:05, 10.32it/s]\u001b[A\u001b[A\u001b[A\u001b[A"
     ]
    },
    {
     "name": "stdout",
     "output_type": "stream",
     "text": [
      "x.size(1) is:99\n",
      "x.size(1) is:99\n",
      "x.size(1) is:99\n"
     ]
    },
    {
     "name": "stderr",
     "output_type": "stream",
     "text": [
      "\n",
      "\n",
      "\n",
      "\n",
      "loss - 0.2583:   1%|          | 1055/196682 [01:26<5:16:05, 10.32it/s]\u001b[A\u001b[A\u001b[A\u001b[A\n",
      "\n",
      "\n",
      "\n",
      "loss - 0.2583:   1%|          | 1057/196682 [01:26<5:16:16, 10.31it/s]\u001b[A\u001b[A\u001b[A\u001b[A\n",
      "\n",
      "\n",
      "\n",
      "loss - 0.1695:   1%|          | 1057/196682 [01:26<5:16:16, 10.31it/s]\u001b[A\u001b[A\u001b[A\u001b[A\n",
      "\n",
      "\n",
      "\n",
      "loss - 0.2611:   1%|          | 1057/196682 [01:26<5:16:16, 10.31it/s]\u001b[A\u001b[A\u001b[A\u001b[A\n",
      "\n",
      "\n",
      "\n",
      "loss - 0.2611:   1%|          | 1059/196682 [01:26<5:15:48, 10.32it/s]\u001b[A\u001b[A\u001b[A\u001b[A"
     ]
    },
    {
     "name": "stdout",
     "output_type": "stream",
     "text": [
      "x.size(1) is:99\n",
      "x.size(1) is:99\n",
      "x.size(1) is:99\n"
     ]
    },
    {
     "name": "stderr",
     "output_type": "stream",
     "text": [
      "\n",
      "\n",
      "\n",
      "\n",
      "loss - 0.0554:   1%|          | 1059/196682 [01:26<5:15:48, 10.32it/s]\u001b[A\u001b[A\u001b[A\u001b[A\n",
      "\n",
      "\n",
      "\n",
      "loss - 0.2446:   1%|          | 1059/196682 [01:26<5:15:48, 10.32it/s]\u001b[A\u001b[A\u001b[A\u001b[A\n",
      "\n",
      "\n",
      "\n",
      "loss - 0.2446:   1%|          | 1061/196682 [01:26<5:14:24, 10.37it/s]\u001b[A\u001b[A\u001b[A\u001b[A\n",
      "\n",
      "\n",
      "\n",
      "loss - 0.3155:   1%|          | 1061/196682 [01:26<5:14:24, 10.37it/s]\u001b[A\u001b[A\u001b[A\u001b[A"
     ]
    },
    {
     "name": "stdout",
     "output_type": "stream",
     "text": [
      "x.size(1) is:99\n",
      "x.size(1) is:99\n",
      "x.size(1) is:99\n"
     ]
    },
    {
     "name": "stderr",
     "output_type": "stream",
     "text": [
      "\n",
      "\n",
      "\n",
      "\n",
      "loss - 0.4885:   1%|          | 1061/196682 [01:26<5:14:24, 10.37it/s]\u001b[A\u001b[A\u001b[A\u001b[A\n",
      "\n",
      "\n",
      "\n",
      "loss - 0.4885:   1%|          | 1063/196682 [01:26<5:13:29, 10.40it/s]\u001b[A\u001b[A\u001b[A\u001b[A\n",
      "\n",
      "\n",
      "\n",
      "loss - 0.2844:   1%|          | 1063/196682 [01:26<5:13:29, 10.40it/s]\u001b[A\u001b[A\u001b[A\u001b[A\n",
      "\n",
      "\n",
      "\n",
      "loss - 0.0232:   1%|          | 1063/196682 [01:26<5:13:29, 10.40it/s]\u001b[A\u001b[A\u001b[A\u001b[A\n",
      "\n",
      "\n",
      "\n",
      "loss - 0.0232:   1%|          | 1065/196682 [01:26<5:12:10, 10.44it/s]\u001b[A\u001b[A\u001b[A\u001b[A"
     ]
    },
    {
     "name": "stdout",
     "output_type": "stream",
     "text": [
      "x.size(1) is:99\n",
      "x.size(1) is:99\n",
      "x.size(1) is:99\n"
     ]
    },
    {
     "name": "stderr",
     "output_type": "stream",
     "text": [
      "\n",
      "\n",
      "\n",
      "\n",
      "loss - 0.4560:   1%|          | 1065/196682 [01:26<5:12:10, 10.44it/s]\u001b[A\u001b[A\u001b[A\u001b[A\n",
      "\n",
      "\n",
      "\n",
      "loss - 0.1426:   1%|          | 1065/196682 [01:27<5:12:10, 10.44it/s]\u001b[A\u001b[A\u001b[A\u001b[A\n",
      "\n",
      "\n",
      "\n",
      "loss - 0.1426:   1%|          | 1067/196682 [01:27<5:14:10, 10.38it/s]\u001b[A\u001b[A\u001b[A\u001b[A\n",
      "\n",
      "\n",
      "\n",
      "loss - 0.5054:   1%|          | 1067/196682 [01:27<5:14:10, 10.38it/s]\u001b[A\u001b[A\u001b[A\u001b[A"
     ]
    },
    {
     "name": "stdout",
     "output_type": "stream",
     "text": [
      "x.size(1) is:99\n",
      "x.size(1) is:99\n",
      "x.size(1) is:99\n"
     ]
    },
    {
     "name": "stderr",
     "output_type": "stream",
     "text": [
      "\n",
      "\n",
      "\n",
      "\n",
      "loss - 0.2675:   1%|          | 1067/196682 [01:27<5:14:10, 10.38it/s]\u001b[A\u001b[A\u001b[A\u001b[A\n",
      "\n",
      "\n",
      "\n",
      "loss - 0.2675:   1%|          | 1069/196682 [01:27<5:15:30, 10.33it/s]\u001b[A\u001b[A\u001b[A\u001b[A\n",
      "\n",
      "\n",
      "\n",
      "loss - 0.2315:   1%|          | 1069/196682 [01:27<5:15:30, 10.33it/s]\u001b[A\u001b[A\u001b[A\u001b[A\n",
      "\n",
      "\n",
      "\n",
      "loss - 0.2517:   1%|          | 1069/196682 [01:27<5:15:30, 10.33it/s]\u001b[A\u001b[A\u001b[A\u001b[A\n",
      "\n",
      "\n",
      "\n",
      "loss - 0.2517:   1%|          | 1071/196682 [01:27<5:16:55, 10.29it/s]\u001b[A\u001b[A\u001b[A\u001b[A"
     ]
    },
    {
     "name": "stdout",
     "output_type": "stream",
     "text": [
      "x.size(1) is:99\n",
      "x.size(1) is:99\n",
      "x.size(1) is:99\n"
     ]
    },
    {
     "name": "stderr",
     "output_type": "stream",
     "text": [
      "\n",
      "\n",
      "\n",
      "\n",
      "loss - 0.5208:   1%|          | 1071/196682 [01:27<5:16:55, 10.29it/s]\u001b[A\u001b[A\u001b[A\u001b[A\n",
      "\n",
      "\n",
      "\n",
      "loss - 0.5153:   1%|          | 1071/196682 [01:27<5:16:55, 10.29it/s]\u001b[A\u001b[A\u001b[A\u001b[A\n",
      "\n",
      "\n",
      "\n",
      "loss - 0.5153:   1%|          | 1073/196682 [01:27<5:18:41, 10.23it/s]\u001b[A\u001b[A\u001b[A\u001b[A\n",
      "\n",
      "\n",
      "\n",
      "loss - 0.3457:   1%|          | 1073/196682 [01:27<5:18:41, 10.23it/s]\u001b[A\u001b[A\u001b[A\u001b[A"
     ]
    },
    {
     "name": "stdout",
     "output_type": "stream",
     "text": [
      "x.size(1) is:99\n",
      "x.size(1) is:99\n",
      "x.size(1) is:99\n"
     ]
    },
    {
     "name": "stderr",
     "output_type": "stream",
     "text": [
      "\n",
      "\n",
      "\n",
      "\n",
      "loss - 0.1680:   1%|          | 1073/196682 [01:27<5:18:41, 10.23it/s]\u001b[A\u001b[A\u001b[A\u001b[A\n",
      "\n",
      "\n",
      "\n",
      "loss - 0.1680:   1%|          | 1075/196682 [01:27<5:22:29, 10.11it/s]\u001b[A\u001b[A\u001b[A\u001b[A\n",
      "\n",
      "\n",
      "\n",
      "loss - 0.2500:   1%|          | 1075/196682 [01:27<5:22:29, 10.11it/s]\u001b[A\u001b[A\u001b[A\u001b[A\n",
      "\n",
      "\n",
      "\n",
      "loss - 0.3748:   1%|          | 1075/196682 [01:28<5:22:29, 10.11it/s]\u001b[A\u001b[A\u001b[A\u001b[A\n",
      "\n",
      "\n",
      "\n",
      "loss - 0.3748:   1%|          | 1077/196682 [01:28<5:23:12, 10.09it/s]\u001b[A\u001b[A\u001b[A\u001b[A"
     ]
    },
    {
     "name": "stdout",
     "output_type": "stream",
     "text": [
      "x.size(1) is:99\n",
      "x.size(1) is:99\n",
      "x.size(1) is:99\n"
     ]
    },
    {
     "name": "stderr",
     "output_type": "stream",
     "text": [
      "\n",
      "\n",
      "\n",
      "\n",
      "loss - 0.3599:   1%|          | 1077/196682 [01:28<5:23:12, 10.09it/s]\u001b[A\u001b[A\u001b[A\u001b[A\n",
      "\n",
      "\n",
      "\n",
      "loss - 0.0840:   1%|          | 1077/196682 [01:28<5:23:12, 10.09it/s]\u001b[A\u001b[A\u001b[A\u001b[A\n",
      "\n",
      "\n",
      "\n",
      "loss - 0.0840:   1%|          | 1079/196682 [01:28<5:22:52, 10.10it/s]\u001b[A\u001b[A\u001b[A\u001b[A\n",
      "\n",
      "\n",
      "\n",
      "loss - 0.5594:   1%|          | 1079/196682 [01:28<5:22:52, 10.10it/s]\u001b[A\u001b[A\u001b[A\u001b[A"
     ]
    },
    {
     "name": "stdout",
     "output_type": "stream",
     "text": [
      "x.size(1) is:99\n",
      "x.size(1) is:99\n",
      "x.size(1) is:99\n"
     ]
    },
    {
     "name": "stderr",
     "output_type": "stream",
     "text": [
      "\n",
      "\n",
      "\n",
      "\n",
      "loss - 0.3320:   1%|          | 1079/196682 [01:28<5:22:52, 10.10it/s]\u001b[A\u001b[A\u001b[A\u001b[A\n",
      "\n",
      "\n",
      "\n",
      "loss - 0.3320:   1%|          | 1081/196682 [01:28<5:25:27, 10.02it/s]\u001b[A\u001b[A\u001b[A\u001b[A\n",
      "\n",
      "\n",
      "\n",
      "loss - 0.4306:   1%|          | 1081/196682 [01:28<5:25:27, 10.02it/s]\u001b[A\u001b[A\u001b[A\u001b[A\n",
      "\n",
      "\n",
      "\n",
      "loss - 0.5465:   1%|          | 1081/196682 [01:28<5:25:27, 10.02it/s]\u001b[A\u001b[A\u001b[A\u001b[A\n",
      "\n",
      "\n",
      "\n",
      "loss - 0.5465:   1%|          | 1083/196682 [01:28<5:25:05, 10.03it/s]\u001b[A\u001b[A\u001b[A\u001b[A"
     ]
    },
    {
     "name": "stdout",
     "output_type": "stream",
     "text": [
      "x.size(1) is:99\n",
      "x.size(1) is:99\n"
     ]
    },
    {
     "name": "stderr",
     "output_type": "stream",
     "text": [
      "\n",
      "\n",
      "\n",
      "\n",
      "loss - 0.2351:   1%|          | 1083/196682 [01:28<5:25:05, 10.03it/s]\u001b[A\u001b[A\u001b[A\u001b[A\n",
      "\n",
      "\n",
      "\n",
      "loss - 0.3149:   1%|          | 1083/196682 [01:28<5:25:05, 10.03it/s]\u001b[A\u001b[A\u001b[A\u001b[A\n",
      "\n",
      "\n",
      "\n",
      "loss - 0.3149:   1%|          | 1085/196682 [01:28<5:30:08,  9.87it/s]\u001b[A\u001b[A\u001b[A\u001b[A"
     ]
    },
    {
     "name": "stdout",
     "output_type": "stream",
     "text": [
      "x.size(1) is:99\n",
      "x.size(1) is:99\n"
     ]
    },
    {
     "name": "stderr",
     "output_type": "stream",
     "text": [
      "\n",
      "\n",
      "\n",
      "\n",
      "loss - 0.0467:   1%|          | 1085/196682 [01:28<5:30:08,  9.87it/s]\u001b[A\u001b[A\u001b[A\u001b[A\n",
      "\n",
      "\n",
      "\n",
      "loss - 0.0467:   1%|          | 1086/196682 [01:28<5:31:47,  9.83it/s]\u001b[A\u001b[A\u001b[A\u001b[A\n",
      "\n",
      "\n",
      "\n",
      "loss - 0.3206:   1%|          | 1086/196682 [01:29<5:31:47,  9.83it/s]\u001b[A\u001b[A\u001b[A\u001b[A\n",
      "\n",
      "\n",
      "\n",
      "loss - 0.3206:   1%|          | 1087/196682 [01:29<5:35:41,  9.71it/s]"
     ]
    },
    {
     "name": "stdout",
     "output_type": "stream",
     "text": [
      "x.size(1) is:99\n",
      "x.size(1) is:99\n"
     ]
    },
    {
     "name": "stderr",
     "output_type": "stream",
     "text": [
      "\u001b[A\u001b[A\u001b[A\u001b[A\n",
      "\n",
      "\n",
      "\n",
      "loss - 0.3737:   1%|          | 1087/196682 [01:29<5:35:41,  9.71it/s]\u001b[A\u001b[A\u001b[A\u001b[A\n",
      "\n",
      "\n",
      "\n",
      "loss - 0.3737:   1%|          | 1088/196682 [01:29<5:35:58,  9.70it/s]\u001b[A\u001b[A\u001b[A\u001b[A\n",
      "\n",
      "\n",
      "\n",
      "loss - 0.3365:   1%|          | 1088/196682 [01:29<5:35:58,  9.70it/s]\u001b[A\u001b[A\u001b[A\u001b[A\n",
      "\n",
      "\n",
      "\n",
      "loss - 0.3365:   1%|          | 1089/196682 [01:29<5:36:04,  9.70it/s]\u001b[A\u001b[A\u001b[A\u001b[A"
     ]
    },
    {
     "name": "stdout",
     "output_type": "stream",
     "text": [
      "x.size(1) is:99\n",
      "x.size(1) is:99\n"
     ]
    },
    {
     "name": "stderr",
     "output_type": "stream",
     "text": [
      "\n",
      "\n",
      "\n",
      "\n",
      "loss - 0.6084:   1%|          | 1089/196682 [01:29<5:36:04,  9.70it/s]\u001b[A\u001b[A\u001b[A\u001b[A\n",
      "\n",
      "\n",
      "\n",
      "loss - 0.6084:   1%|          | 1090/196682 [01:29<5:38:22,  9.63it/s]\u001b[A\u001b[A\u001b[A\u001b[A\n",
      "\n",
      "\n",
      "\n",
      "loss - 0.0897:   1%|          | 1090/196682 [01:29<5:38:22,  9.63it/s]\u001b[A\u001b[A\u001b[A\u001b[A\n",
      "\n",
      "\n",
      "\n"
     ]
    },
    {
     "name": "stdout",
     "output_type": "stream",
     "text": [
      "x.size(1) is:99\n",
      "x.size(1) is:99\n"
     ]
    },
    {
     "name": "stderr",
     "output_type": "stream",
     "text": [
      "loss - 0.0897:   1%|          | 1091/196682 [01:29<5:38:34,  9.63it/s]\u001b[A\u001b[A\u001b[A\u001b[A\n",
      "\n",
      "\n",
      "\n",
      "loss - 0.1061:   1%|          | 1091/196682 [01:29<5:38:34,  9.63it/s]\u001b[A\u001b[A\u001b[A\u001b[A\n",
      "\n",
      "\n",
      "\n",
      "loss - 0.1061:   1%|          | 1092/196682 [01:29<5:39:14,  9.61it/s]\u001b[A\u001b[A\u001b[A\u001b[A\n",
      "\n",
      "\n",
      "\n",
      "loss - 0.3087:   1%|          | 1092/196682 [01:29<5:39:14,  9.61it/s]\u001b[A\u001b[A\u001b[A\u001b[A\n",
      "\n",
      "\n",
      "\n",
      "loss - 0.3087:   1%|          | 1093/196682 [01:29<5:38:00,  9.64it/s]\u001b[A\u001b[A\u001b[A\u001b[A"
     ]
    },
    {
     "name": "stdout",
     "output_type": "stream",
     "text": [
      "x.size(1) is:99\n",
      "x.size(1) is:99\n"
     ]
    },
    {
     "name": "stderr",
     "output_type": "stream",
     "text": [
      "\n",
      "\n",
      "\n",
      "\n",
      "loss - 0.3407:   1%|          | 1093/196682 [01:29<5:38:00,  9.64it/s]\u001b[A\u001b[A\u001b[A\u001b[A\n",
      "\n",
      "\n",
      "\n",
      "loss - 0.3407:   1%|          | 1094/196682 [01:29<5:47:16,  9.39it/s]\u001b[A\u001b[A\u001b[A\u001b[A"
     ]
    },
    {
     "name": "stdout",
     "output_type": "stream",
     "text": [
      "x.size(1) is:99\n",
      "x.size(1) is:99\n"
     ]
    },
    {
     "name": "stderr",
     "output_type": "stream",
     "text": [
      "\n",
      "\n",
      "\n",
      "\n",
      "loss - 0.3564:   1%|          | 1094/196682 [01:29<5:47:16,  9.39it/s]\u001b[A\u001b[A\u001b[A\u001b[A\n",
      "\n",
      "\n",
      "\n",
      "loss - 0.3564:   1%|          | 1095/196682 [01:29<5:48:26,  9.36it/s]\u001b[A\u001b[A\u001b[A\u001b[A\n",
      "\n",
      "\n",
      "\n",
      "loss - 0.0957:   1%|          | 1095/196682 [01:30<5:48:26,  9.36it/s]\u001b[A\u001b[A\u001b[A\u001b[A\n",
      "\n",
      "\n",
      "\n",
      "loss - 0.0957:   1%|          | 1096/196682 [01:30<5:50:37,  9.30it/s]\u001b[A\u001b[A\u001b[A\u001b[A"
     ]
    },
    {
     "name": "stdout",
     "output_type": "stream",
     "text": [
      "x.size(1) is:99\n",
      "x.size(1) is:99\n"
     ]
    },
    {
     "name": "stderr",
     "output_type": "stream",
     "text": [
      "\n",
      "\n",
      "\n",
      "\n",
      "loss - 0.1633:   1%|          | 1096/196682 [01:30<5:50:37,  9.30it/s]\u001b[A\u001b[A\u001b[A\u001b[A\n",
      "\n",
      "\n",
      "\n",
      "loss - 0.1633:   1%|          | 1097/196682 [01:30<5:50:43,  9.29it/s]\u001b[A\u001b[A\u001b[A\u001b[A\n",
      "\n",
      "\n",
      "\n",
      "loss - 0.0792:   1%|          | 1097/196682 [01:30<5:50:43,  9.29it/s]\u001b[A\u001b[A\u001b[A\u001b[A\n",
      "\n",
      "\n",
      "\n",
      "loss - 0.0792:   1%|          | 1098/196682 [01:30<5:49:15,  9.33it/s]\u001b[A\u001b[A\u001b[A\u001b[A\n",
      "\n",
      "\n",
      "\n",
      "loss - 0.0704:   1%|          | 1098/196682 [01:30<5:49:15,  9.33it/s]"
     ]
    },
    {
     "name": "stdout",
     "output_type": "stream",
     "text": [
      "x.size(1) is:99\n",
      "x.size(1) is:99\n"
     ]
    },
    {
     "name": "stderr",
     "output_type": "stream",
     "text": [
      "\u001b[A\u001b[A\u001b[A\u001b[A\n",
      "\n",
      "\n",
      "\n",
      "loss - 0.0704:   1%|          | 1099/196682 [01:30<5:47:20,  9.38it/s]\u001b[A\u001b[A\u001b[A\u001b[A\n",
      "\n",
      "\n",
      "\n",
      "loss - 0.4044:   1%|          | 1099/196682 [01:30<5:47:20,  9.38it/s]\u001b[A\u001b[A\u001b[A\u001b[A\n",
      "\n",
      "\n",
      "\n",
      "loss - 0.2147:   1%|          | 1099/196682 [01:30<5:47:20,  9.38it/s]\u001b[A\u001b[A\u001b[A\u001b[A\n",
      "\n",
      "\n",
      "\n",
      "loss - 0.2147:   1%|          | 1101/196682 [01:30<5:39:35,  9.60it/s]\u001b[A\u001b[A\u001b[A\u001b[A"
     ]
    },
    {
     "name": "stdout",
     "output_type": "stream",
     "text": [
      "x.size(1) is:99\n",
      "x.size(1) is:99\n",
      "x.size(1) is:99\n"
     ]
    },
    {
     "name": "stderr",
     "output_type": "stream",
     "text": [
      "\n",
      "\n",
      "\n",
      "\n",
      "loss - 0.0916:   1%|          | 1101/196682 [01:30<5:39:35,  9.60it/s]\u001b[A\u001b[A\u001b[A\u001b[A\n",
      "\n",
      "\n",
      "\n",
      "loss - 0.0916:   1%|          | 1102/196682 [01:30<5:39:00,  9.62it/s]\u001b[A\u001b[A\u001b[A\u001b[A\n",
      "\n",
      "\n",
      "\n",
      "loss - 0.0808:   1%|          | 1102/196682 [01:30<5:39:00,  9.62it/s]\u001b[A\u001b[A\u001b[A\u001b[A\n",
      "\n",
      "\n",
      "\n",
      "loss - 0.4300:   1%|          | 1102/196682 [01:30<5:39:00,  9.62it/s]\u001b[A\u001b[A\u001b[A\u001b[A\n",
      "\n",
      "\n",
      "\n",
      "loss - 0.4300:   1%|          | 1104/196682 [01:30<5:33:39,  9.77it/s]\u001b[A\u001b[A\u001b[A\u001b[A"
     ]
    },
    {
     "name": "stdout",
     "output_type": "stream",
     "text": [
      "x.size(1) is:99\n",
      "x.size(1) is:99\n",
      "x.size(1) is:99\n"
     ]
    },
    {
     "name": "stderr",
     "output_type": "stream",
     "text": [
      "\n",
      "\n",
      "\n",
      "\n",
      "loss - 0.2206:   1%|          | 1104/196682 [01:30<5:33:39,  9.77it/s]\u001b[A\u001b[A\u001b[A\u001b[A\n",
      "\n",
      "\n",
      "\n",
      "loss - 0.2206:   1%|          | 1105/196682 [01:30<5:33:17,  9.78it/s]\u001b[A\u001b[A\u001b[A\u001b[A\n",
      "\n",
      "\n",
      "\n",
      "loss - 0.3896:   1%|          | 1105/196682 [01:31<5:33:17,  9.78it/s]\u001b[A\u001b[A\u001b[A\u001b[A\n",
      "\n",
      "\n",
      "\n",
      "loss - 0.3896:   1%|          | 1106/196682 [01:31<5:34:24,  9.75it/s]\u001b[A\u001b[A\u001b[A\u001b[A\n",
      "\n",
      "\n",
      "\n",
      "loss - 0.2847:   1%|          | 1106/196682 [01:31<5:34:24,  9.75it/s]\u001b[A\u001b[A\u001b[A\u001b[A\n",
      "\n",
      "\n",
      "\n",
      "loss - 0.2847:   1%|          | 1107/196682 [01:31<5:32:04,  9.82it/s]\u001b[A\u001b[A\u001b[A\u001b[A"
     ]
    },
    {
     "name": "stdout",
     "output_type": "stream",
     "text": [
      "x.size(1) is:99\n",
      "x.size(1) is:99\n"
     ]
    },
    {
     "name": "stderr",
     "output_type": "stream",
     "text": [
      "\n",
      "\n",
      "\n",
      "\n",
      "loss - 0.1268:   1%|          | 1107/196682 [01:31<5:32:04,  9.82it/s]\u001b[A\u001b[A\u001b[A\u001b[A\n",
      "\n",
      "\n",
      "\n",
      "loss - 0.1268:   1%|          | 1108/196682 [01:31<5:38:57,  9.62it/s]\u001b[A\u001b[A\u001b[A\u001b[A"
     ]
    },
    {
     "name": "stdout",
     "output_type": "stream",
     "text": [
      "x.size(1) is:99\n",
      "x.size(1) is:99\n"
     ]
    },
    {
     "name": "stderr",
     "output_type": "stream",
     "text": [
      "\n",
      "\n",
      "\n",
      "\n",
      "loss - 0.0979:   1%|          | 1108/196682 [01:31<5:38:57,  9.62it/s]\u001b[A\u001b[A\u001b[A\u001b[A\n",
      "\n",
      "\n",
      "\n",
      "loss - 0.0979:   1%|          | 1109/196682 [01:31<5:45:33,  9.43it/s]\u001b[A\u001b[A\u001b[A\u001b[A\n",
      "\n",
      "\n",
      "\n",
      "loss - 0.1260:   1%|          | 1109/196682 [01:31<5:45:33,  9.43it/s]\u001b[A\u001b[A\u001b[A\u001b[A\n",
      "\n",
      "\n",
      "\n",
      "loss - 0.1260:   1%|          | 1110/196682 [01:31<5:43:03,  9.50it/s]\u001b[A\u001b[A\u001b[A\u001b[A\n",
      "\n",
      "\n",
      "\n",
      "loss - 0.5956:   1%|          | 1110/196682 [01:31<5:43:03,  9.50it/s]\u001b[A\u001b[A\u001b[A\u001b[A\n",
      "\n",
      "\n",
      "\n",
      "loss - 0.5956:   1%|          | 1111/196682 [01:31<5:41:32,  9.54it/s]\u001b[A\u001b[A\u001b[A\u001b[A"
     ]
    },
    {
     "name": "stdout",
     "output_type": "stream",
     "text": [
      "x.size(1) is:99\n",
      "x.size(1) is:99\n"
     ]
    },
    {
     "name": "stderr",
     "output_type": "stream",
     "text": [
      "\n",
      "\n",
      "\n",
      "\n",
      "loss - 0.0558:   1%|          | 1111/196682 [01:31<5:41:32,  9.54it/s]\u001b[A\u001b[A\u001b[A\u001b[A\n",
      "\n",
      "\n",
      "\n",
      "loss - 0.0558:   1%|          | 1112/196682 [01:31<5:43:24,  9.49it/s]\u001b[A\u001b[A\u001b[A\u001b[A\n",
      "\n",
      "\n",
      "\n",
      "loss - 0.5767:   1%|          | 1112/196682 [01:31<5:43:24,  9.49it/s]\u001b[A\u001b[A\u001b[A\u001b[A"
     ]
    },
    {
     "name": "stdout",
     "output_type": "stream",
     "text": [
      "x.size(1) is:99\n",
      "x.size(1) is:99\n"
     ]
    },
    {
     "name": "stderr",
     "output_type": "stream",
     "text": [
      "\n",
      "\n",
      "\n",
      "\n",
      "loss - 0.5767:   1%|          | 1113/196682 [01:31<5:42:02,  9.53it/s]\u001b[A\u001b[A\u001b[A\u001b[A\n",
      "\n",
      "\n",
      "\n",
      "loss - 0.2403:   1%|          | 1113/196682 [01:31<5:42:02,  9.53it/s]\u001b[A\u001b[A\u001b[A\u001b[A\n",
      "\n",
      "\n",
      "\n",
      "loss - 0.2403:   1%|          | 1114/196682 [01:31<5:49:45,  9.32it/s]\u001b[A\u001b[A\u001b[A\u001b[A"
     ]
    },
    {
     "name": "stdout",
     "output_type": "stream",
     "text": [
      "x.size(1) is:99\n",
      "x.size(1) is:99\n"
     ]
    },
    {
     "name": "stderr",
     "output_type": "stream",
     "text": [
      "\n",
      "\n",
      "\n",
      "\n",
      "loss - 0.0928:   1%|          | 1114/196682 [01:32<5:49:45,  9.32it/s]\u001b[A\u001b[A\u001b[A\u001b[A\n",
      "\n",
      "\n",
      "\n",
      "loss - 0.0928:   1%|          | 1115/196682 [01:32<6:00:10,  9.05it/s]\u001b[A\u001b[A\u001b[A\u001b[A\n",
      "\n",
      "\n",
      "\n",
      "loss - 0.2791:   1%|          | 1115/196682 [01:32<6:00:10,  9.05it/s]\u001b[A\u001b[A\u001b[A\u001b[A\n",
      "\n",
      "\n",
      "\n",
      "loss - 0.2791:   1%|          | 1116/196682 [01:32<5:59:50,  9.06it/s]\u001b[A\u001b[A\u001b[A\u001b[A"
     ]
    },
    {
     "name": "stdout",
     "output_type": "stream",
     "text": [
      "x.size(1) is:99\n",
      "x.size(1) is:99\n"
     ]
    },
    {
     "name": "stderr",
     "output_type": "stream",
     "text": [
      "\n",
      "\n",
      "\n",
      "\n",
      "loss - 0.2975:   1%|          | 1116/196682 [01:32<5:59:50,  9.06it/s]\u001b[A\u001b[A\u001b[A\u001b[A\n",
      "\n",
      "\n",
      "\n",
      "loss - 0.2975:   1%|          | 1117/196682 [01:32<6:03:53,  8.96it/s]\u001b[A\u001b[A\u001b[A\u001b[A\n",
      "\n",
      "\n",
      "\n",
      "loss - 0.1191:   1%|          | 1117/196682 [01:32<6:03:53,  8.96it/s]\u001b[A\u001b[A\u001b[A\u001b[A\n",
      "\n",
      "\n",
      "\n",
      "loss - 0.1191:   1%|          | 1118/196682 [01:32<6:00:38,  9.04it/s]\u001b[A\u001b[A\u001b[A\u001b[A\n",
      "\n",
      "\n",
      "\n",
      "loss - 0.2689:   1%|          | 1118/196682 [01:32<6:00:38,  9.04it/s]"
     ]
    },
    {
     "name": "stdout",
     "output_type": "stream",
     "text": [
      "x.size(1) is:99\n",
      "x.size(1) is:99\n"
     ]
    },
    {
     "name": "stderr",
     "output_type": "stream",
     "text": [
      "\u001b[A\u001b[A\u001b[A\u001b[A\n",
      "\n",
      "\n",
      "\n",
      "loss - 0.2689:   1%|          | 1119/196682 [01:32<5:55:00,  9.18it/s]\u001b[A\u001b[A\u001b[A\u001b[A\n",
      "\n",
      "\n",
      "\n",
      "loss - 0.0942:   1%|          | 1119/196682 [01:32<5:55:00,  9.18it/s]\u001b[A\u001b[A\u001b[A\u001b[A\n",
      "\n",
      "\n",
      "\n",
      "loss - 0.0942:   1%|          | 1120/196682 [01:32<5:55:52,  9.16it/s]\u001b[A\u001b[A\u001b[A\u001b[A\n",
      "\n",
      "\n",
      "\n"
     ]
    },
    {
     "name": "stdout",
     "output_type": "stream",
     "text": [
      "x.size(1) is:99\n",
      "x.size(1) is:99\n"
     ]
    },
    {
     "name": "stderr",
     "output_type": "stream",
     "text": [
      "loss - 0.1903:   1%|          | 1120/196682 [01:32<5:55:52,  9.16it/s]\u001b[A\u001b[A\u001b[A\u001b[A\n",
      "\n",
      "\n",
      "\n",
      "loss - 0.1903:   1%|          | 1121/196682 [01:32<5:53:22,  9.22it/s]\u001b[A\u001b[A\u001b[A\u001b[A\n",
      "\n",
      "\n",
      "\n",
      "loss - 0.3646:   1%|          | 1121/196682 [01:32<5:53:22,  9.22it/s]\u001b[A\u001b[A\u001b[A\u001b[A\n",
      "\n",
      "\n",
      "\n",
      "loss - 0.3646:   1%|          | 1122/196682 [01:32<5:55:35,  9.17it/s]\u001b[A\u001b[A\u001b[A\u001b[A\n",
      "\n",
      "\n",
      "\n",
      "loss - 0.3294:   1%|          | 1122/196682 [01:32<5:55:35,  9.17it/s]"
     ]
    },
    {
     "name": "stdout",
     "output_type": "stream",
     "text": [
      "x.size(1) is:99\n",
      "x.size(1) is:99\n"
     ]
    },
    {
     "name": "stderr",
     "output_type": "stream",
     "text": [
      "\u001b[A\u001b[A\u001b[A\u001b[A\n",
      "\n",
      "\n",
      "\n",
      "loss - 0.3294:   1%|          | 1123/196682 [01:32<5:49:39,  9.32it/s]\u001b[A\u001b[A\u001b[A\u001b[A\n",
      "\n",
      "\n",
      "\n",
      "loss - 0.5199:   1%|          | 1123/196682 [01:33<5:49:39,  9.32it/s]\u001b[A\u001b[A\u001b[A\u001b[A\n",
      "\n",
      "\n",
      "\n",
      "loss - 0.5199:   1%|          | 1124/196682 [01:33<5:45:03,  9.45it/s]\u001b[A\u001b[A\u001b[A\u001b[A\n",
      "\n",
      "\n",
      "\n",
      "loss - 0.2122:   1%|          | 1124/196682 [01:33<5:45:03,  9.45it/s]\u001b[A\u001b[A\u001b[A\u001b[A\n",
      "\n",
      "\n",
      "\n",
      "loss - 0.2122:   1%|          | 1125/196682 [01:33<5:40:56,  9.56it/s]\u001b[A\u001b[A\u001b[A\u001b[A"
     ]
    },
    {
     "name": "stdout",
     "output_type": "stream",
     "text": [
      "x.size(1) is:99\n",
      "x.size(1) is:99\n"
     ]
    },
    {
     "name": "stderr",
     "output_type": "stream",
     "text": [
      "\n",
      "\n",
      "\n",
      "\n",
      "loss - 0.2552:   1%|          | 1125/196682 [01:33<5:40:56,  9.56it/s]\u001b[A\u001b[A\u001b[A\u001b[A\n",
      "\n",
      "\n",
      "\n",
      "loss - 0.2552:   1%|          | 1126/196682 [01:33<5:40:43,  9.57it/s]\u001b[A\u001b[A\u001b[A\u001b[A\n",
      "\n",
      "\n",
      "\n",
      "loss - 0.2063:   1%|          | 1126/196682 [01:33<5:40:43,  9.57it/s]\u001b[A\u001b[A\u001b[A\u001b[A\n",
      "\n",
      "\n",
      "\n",
      "loss - 0.2063:   1%|          | 1127/196682 [01:33<5:39:26,  9.60it/s]\u001b[A\u001b[A\u001b[A\u001b[A"
     ]
    },
    {
     "name": "stdout",
     "output_type": "stream",
     "text": [
      "x.size(1) is:99\n",
      "x.size(1) is:99\n"
     ]
    },
    {
     "name": "stderr",
     "output_type": "stream",
     "text": [
      "\n",
      "\n",
      "\n",
      "\n",
      "loss - 0.3799:   1%|          | 1127/196682 [01:33<5:39:26,  9.60it/s]\u001b[A\u001b[A\u001b[A\u001b[A\n",
      "\n",
      "\n",
      "\n",
      "loss - 0.3799:   1%|          | 1128/196682 [01:33<5:39:12,  9.61it/s]\u001b[A\u001b[A\u001b[A\u001b[A\n",
      "\n",
      "\n",
      "\n",
      "loss - 0.3501:   1%|          | 1128/196682 [01:33<5:39:12,  9.61it/s]\u001b[A\u001b[A\u001b[A\u001b[A\n",
      "\n",
      "\n",
      "\n",
      "loss - 0.3501:   1%|          | 1129/196682 [01:33<5:37:53,  9.65it/s]\u001b[A\u001b[A\u001b[A\u001b[A"
     ]
    },
    {
     "name": "stdout",
     "output_type": "stream",
     "text": [
      "x.size(1) is:99\n",
      "x.size(1) is:99\n"
     ]
    },
    {
     "name": "stderr",
     "output_type": "stream",
     "text": [
      "\n",
      "\n",
      "\n",
      "\n",
      "loss - 0.0453:   1%|          | 1129/196682 [01:33<5:37:53,  9.65it/s]\u001b[A\u001b[A\u001b[A\u001b[A\n",
      "\n",
      "\n",
      "\n",
      "loss - 0.0453:   1%|          | 1130/196682 [01:33<5:39:09,  9.61it/s]\u001b[A\u001b[A\u001b[A\u001b[A\n",
      "\n",
      "\n",
      "\n",
      "loss - 0.2769:   1%|          | 1130/196682 [01:33<5:39:09,  9.61it/s]\u001b[A\u001b[A\u001b[A\u001b[A\n",
      "\n",
      "\n",
      "\n",
      "loss - 0.2769:   1%|          | 1131/196682 [01:33<5:38:34,  9.63it/s]\u001b[A\u001b[A\u001b[A\u001b[A"
     ]
    },
    {
     "name": "stdout",
     "output_type": "stream",
     "text": [
      "x.size(1) is:99\n",
      "x.size(1) is:99\n"
     ]
    },
    {
     "name": "stderr",
     "output_type": "stream",
     "text": [
      "\n",
      "\n",
      "\n",
      "\n",
      "loss - 0.3334:   1%|          | 1131/196682 [01:33<5:38:34,  9.63it/s]\u001b[A\u001b[A\u001b[A\u001b[A\n",
      "\n",
      "\n",
      "\n",
      "loss - 0.3334:   1%|          | 1132/196682 [01:33<5:37:50,  9.65it/s]\u001b[A\u001b[A\u001b[A\u001b[A\n",
      "\n",
      "\n",
      "\n",
      "loss - 0.5138:   1%|          | 1132/196682 [01:33<5:37:50,  9.65it/s]\u001b[A\u001b[A\u001b[A\u001b[A\n",
      "\n",
      "\n",
      "\n",
      "loss - 0.5138:   1%|          | 1133/196682 [01:33<5:37:49,  9.65it/s]\u001b[A\u001b[A\u001b[A\u001b[A"
     ]
    },
    {
     "name": "stdout",
     "output_type": "stream",
     "text": [
      "x.size(1) is:99\n",
      "x.size(1) is:99\n"
     ]
    },
    {
     "name": "stderr",
     "output_type": "stream",
     "text": [
      "\n",
      "\n",
      "\n",
      "\n",
      "loss - 0.1162:   1%|          | 1133/196682 [01:34<5:37:49,  9.65it/s]\u001b[A\u001b[A\u001b[A\u001b[A\n",
      "\n",
      "\n",
      "\n",
      "loss - 0.1162:   1%|          | 1134/196682 [01:34<6:12:54,  8.74it/s]\u001b[A\u001b[A\u001b[A\u001b[A"
     ]
    },
    {
     "name": "stdout",
     "output_type": "stream",
     "text": [
      "x.size(1) is:99\n",
      "x.size(1) is:99\n"
     ]
    },
    {
     "name": "stderr",
     "output_type": "stream",
     "text": [
      "\n",
      "\n",
      "\n",
      "\n",
      "loss - 0.3244:   1%|          | 1134/196682 [01:34<6:12:54,  8.74it/s]\u001b[A\u001b[A\u001b[A\u001b[A\n",
      "\n",
      "\n",
      "\n",
      "loss - 0.3244:   1%|          | 1135/196682 [01:34<6:12:50,  8.74it/s]\u001b[A\u001b[A\u001b[A\u001b[A\n",
      "\n",
      "\n",
      "\n",
      "loss - 0.3599:   1%|          | 1135/196682 [01:34<6:12:50,  8.74it/s]\u001b[A\u001b[A\u001b[A\u001b[A\n",
      "\n",
      "\n",
      "\n",
      "loss - 0.3599:   1%|          | 1136/196682 [01:34<6:14:41,  8.70it/s]\u001b[A\u001b[A\u001b[A\u001b[A"
     ]
    },
    {
     "name": "stdout",
     "output_type": "stream",
     "text": [
      "x.size(1) is:99\n",
      "x.size(1) is:99\n"
     ]
    },
    {
     "name": "stderr",
     "output_type": "stream",
     "text": [
      "\n",
      "\n",
      "\n",
      "\n",
      "loss - 0.6401:   1%|          | 1136/196682 [01:34<6:14:41,  8.70it/s]\u001b[A\u001b[A\u001b[A\u001b[A\n",
      "\n",
      "\n",
      "\n",
      "loss - 0.6401:   1%|          | 1137/196682 [01:34<6:20:54,  8.56it/s]\u001b[A\u001b[A\u001b[A\u001b[A\n",
      "\n",
      "\n",
      "\n",
      "loss - 0.0353:   1%|          | 1137/196682 [01:34<6:20:54,  8.56it/s]\u001b[A\u001b[A\u001b[A\u001b[A\n",
      "\n",
      "\n",
      "\n",
      "loss - 0.0353:   1%|          | 1138/196682 [01:34<6:15:23,  8.68it/s]\u001b[A\u001b[A\u001b[A\u001b[A"
     ]
    },
    {
     "name": "stdout",
     "output_type": "stream",
     "text": [
      "x.size(1) is:99\n",
      "x.size(1) is:99\n"
     ]
    },
    {
     "name": "stderr",
     "output_type": "stream",
     "text": [
      "\n",
      "\n",
      "\n",
      "\n",
      "loss - 0.3757:   1%|          | 1138/196682 [01:34<6:15:23,  8.68it/s]\u001b[A\u001b[A\u001b[A\u001b[A\n",
      "\n",
      "\n",
      "\n",
      "loss - 0.3757:   1%|          | 1139/196682 [01:34<6:13:31,  8.73it/s]\u001b[A\u001b[A\u001b[A\u001b[A\n",
      "\n",
      "\n",
      "\n",
      "loss - 0.0586:   1%|          | 1139/196682 [01:34<6:13:31,  8.73it/s]\u001b[A\u001b[A\u001b[A\u001b[A\n",
      "\n",
      "\n",
      "\n",
      "loss - 0.0586:   1%|          | 1140/196682 [01:34<6:12:19,  8.75it/s]\u001b[A\u001b[A\u001b[A\u001b[A"
     ]
    },
    {
     "name": "stdout",
     "output_type": "stream",
     "text": [
      "x.size(1) is:99\n",
      "x.size(1) is:99\n"
     ]
    },
    {
     "name": "stderr",
     "output_type": "stream",
     "text": [
      "\n",
      "\n",
      "\n",
      "\n",
      "loss - 0.3135:   1%|          | 1140/196682 [01:34<6:12:19,  8.75it/s]\u001b[A\u001b[A\u001b[A\u001b[A\n",
      "\n",
      "\n",
      "\n",
      "loss - 0.3135:   1%|          | 1141/196682 [01:34<6:09:35,  8.82it/s]\u001b[A\u001b[A\u001b[A\u001b[A\n",
      "\n",
      "\n",
      "\n",
      "loss - 0.5090:   1%|          | 1141/196682 [01:34<6:09:35,  8.82it/s]\u001b[A\u001b[A\u001b[A\u001b[A\n",
      "\n",
      "\n",
      "\n",
      "loss - 0.5090:   1%|          | 1142/196682 [01:34<6:06:16,  8.90it/s]\u001b[A\u001b[A\u001b[A\u001b[A"
     ]
    },
    {
     "name": "stdout",
     "output_type": "stream",
     "text": [
      "x.size(1) is:99\n",
      "x.size(1) is:99\n"
     ]
    },
    {
     "name": "stderr",
     "output_type": "stream",
     "text": [
      "\n",
      "\n",
      "\n",
      "\n",
      "loss - 0.3425:   1%|          | 1142/196682 [01:35<6:06:16,  8.90it/s]\u001b[A\u001b[A\u001b[A\u001b[A\n",
      "\n",
      "\n",
      "\n",
      "loss - 0.3425:   1%|          | 1143/196682 [01:35<6:04:27,  8.94it/s]\u001b[A\u001b[A\u001b[A\u001b[A\n",
      "\n",
      "\n",
      "\n",
      "loss - 0.6183:   1%|          | 1143/196682 [01:35<6:04:27,  8.94it/s]\u001b[A\u001b[A\u001b[A\u001b[A\n",
      "\n",
      "\n",
      "\n",
      "loss - 0.6183:   1%|          | 1144/196682 [01:35<6:04:38,  8.94it/s]\u001b[A\u001b[A\u001b[A\u001b[A"
     ]
    },
    {
     "name": "stdout",
     "output_type": "stream",
     "text": [
      "x.size(1) is:99\n",
      "x.size(1) is:99\n"
     ]
    },
    {
     "name": "stderr",
     "output_type": "stream",
     "text": [
      "\n",
      "\n",
      "\n",
      "\n",
      "loss - 0.2708:   1%|          | 1144/196682 [01:35<6:04:38,  8.94it/s]\u001b[A\u001b[A\u001b[A\u001b[A\n",
      "\n",
      "\n",
      "\n",
      "loss - 0.2708:   1%|          | 1145/196682 [01:35<6:04:06,  8.95it/s]\u001b[A\u001b[A\u001b[A\u001b[A\n",
      "\n",
      "\n",
      "\n",
      "loss - 0.5547:   1%|          | 1145/196682 [01:35<6:04:06,  8.95it/s]\u001b[A\u001b[A\u001b[A\u001b[A\n",
      "\n",
      "\n",
      "\n",
      "loss - 0.5547:   1%|          | 1146/196682 [01:35<6:05:55,  8.91it/s]\u001b[A\u001b[A\u001b[A\u001b[A"
     ]
    },
    {
     "name": "stdout",
     "output_type": "stream",
     "text": [
      "x.size(1) is:99\n",
      "x.size(1) is:99\n"
     ]
    },
    {
     "name": "stderr",
     "output_type": "stream",
     "text": [
      "\n",
      "\n",
      "\n",
      "\n",
      "loss - 0.0982:   1%|          | 1146/196682 [01:35<6:05:55,  8.91it/s]\u001b[A\u001b[A\u001b[A\u001b[A\n",
      "\n",
      "\n",
      "\n",
      "loss - 0.0982:   1%|          | 1147/196682 [01:35<6:03:38,  8.96it/s]\u001b[A\u001b[A\u001b[A\u001b[A\n",
      "\n",
      "\n",
      "\n",
      "loss - 0.4271:   1%|          | 1147/196682 [01:35<6:03:38,  8.96it/s]\u001b[A\u001b[A\u001b[A\u001b[A\n",
      "\n",
      "\n",
      "\n",
      "loss - 0.4271:   1%|          | 1148/196682 [01:35<6:06:27,  8.89it/s]\u001b[A\u001b[A\u001b[A\u001b[A"
     ]
    },
    {
     "name": "stdout",
     "output_type": "stream",
     "text": [
      "x.size(1) is:99\n",
      "x.size(1) is:99\n"
     ]
    },
    {
     "name": "stderr",
     "output_type": "stream",
     "text": [
      "\n",
      "\n",
      "\n",
      "\n",
      "loss - 0.3489:   1%|          | 1148/196682 [01:35<6:06:27,  8.89it/s]\u001b[A\u001b[A\u001b[A\u001b[A\n",
      "\n",
      "\n",
      "\n",
      "loss - 0.3489:   1%|          | 1149/196682 [01:35<6:14:37,  8.70it/s]\u001b[A\u001b[A\u001b[A\u001b[A\n",
      "\n",
      "\n",
      "\n",
      "loss - 0.3379:   1%|          | 1149/196682 [01:35<6:14:37,  8.70it/s]\u001b[A\u001b[A\u001b[A\u001b[A\n",
      "\n",
      "\n",
      "\n",
      "loss - 0.3379:   1%|          | 1150/196682 [01:35<6:11:31,  8.77it/s]\u001b[A\u001b[A\u001b[A\u001b[A\n",
      "\n",
      "\n",
      "\n"
     ]
    },
    {
     "name": "stdout",
     "output_type": "stream",
     "text": [
      "x.size(1) is:99\n",
      "x.size(1) is:99\n"
     ]
    },
    {
     "name": "stderr",
     "output_type": "stream",
     "text": [
      "loss - 0.3443:   1%|          | 1150/196682 [01:35<6:11:31,  8.77it/s]\u001b[A\u001b[A\u001b[A\u001b[A\n",
      "\n",
      "\n",
      "\n",
      "loss - 0.3443:   1%|          | 1151/196682 [01:35<6:03:36,  8.96it/s]\u001b[A\u001b[A\u001b[A\u001b[A\n",
      "\n",
      "\n",
      "\n",
      "loss - 0.5928:   1%|          | 1151/196682 [01:36<6:03:36,  8.96it/s]\u001b[A\u001b[A\u001b[A\u001b[A\n",
      "\n",
      "\n",
      "\n",
      "loss - 0.5928:   1%|          | 1152/196682 [01:36<6:40:58,  8.13it/s]\u001b[A\u001b[A\u001b[A\u001b[A"
     ]
    },
    {
     "name": "stdout",
     "output_type": "stream",
     "text": [
      "x.size(1) is:99\n",
      "x.size(1) is:99\n"
     ]
    },
    {
     "name": "stderr",
     "output_type": "stream",
     "text": [
      "\n",
      "\n",
      "\n",
      "\n",
      "loss - 0.3761:   1%|          | 1152/196682 [01:36<6:40:58,  8.13it/s]\u001b[A\u001b[A\u001b[A\u001b[A\n",
      "\n",
      "\n",
      "\n",
      "loss - 0.3761:   1%|          | 1153/196682 [01:36<6:45:20,  8.04it/s]\u001b[A\u001b[A\u001b[A\u001b[A\n",
      "\n",
      "\n",
      "\n",
      "loss - 0.0620:   1%|          | 1153/196682 [01:36<6:45:20,  8.04it/s]\u001b[A\u001b[A\u001b[A\u001b[A\n",
      "\n",
      "\n",
      "\n",
      "loss - 0.0620:   1%|          | 1154/196682 [01:36<6:31:14,  8.33it/s]\u001b[A\u001b[A\u001b[A\u001b[A"
     ]
    },
    {
     "name": "stdout",
     "output_type": "stream",
     "text": [
      "x.size(1) is:99\n",
      "x.size(1) is:99\n"
     ]
    },
    {
     "name": "stderr",
     "output_type": "stream",
     "text": [
      "\n",
      "\n",
      "\n",
      "\n",
      "loss - 0.2928:   1%|          | 1154/196682 [01:36<6:31:14,  8.33it/s]\u001b[A\u001b[A\u001b[A\u001b[A\n",
      "\n",
      "\n",
      "\n",
      "loss - 0.2928:   1%|          | 1155/196682 [01:36<6:22:33,  8.52it/s]\u001b[A\u001b[A\u001b[A\u001b[A\n",
      "\n",
      "\n",
      "\n",
      "loss - 0.2577:   1%|          | 1155/196682 [01:36<6:22:33,  8.52it/s]\u001b[A\u001b[A\u001b[A\u001b[A\n",
      "\n",
      "\n",
      "\n",
      "loss - 0.2577:   1%|          | 1156/196682 [01:36<6:16:12,  8.66it/s]\u001b[A\u001b[A\u001b[A\u001b[A"
     ]
    },
    {
     "name": "stdout",
     "output_type": "stream",
     "text": [
      "x.size(1) is:99\n",
      "x.size(1) is:99\n"
     ]
    },
    {
     "name": "stderr",
     "output_type": "stream",
     "text": [
      "\n",
      "\n",
      "\n",
      "\n",
      "loss - 0.2930:   1%|          | 1156/196682 [01:36<6:16:12,  8.66it/s]\u001b[A\u001b[A\u001b[A\u001b[A\n",
      "\n",
      "\n",
      "\n",
      "loss - 0.2930:   1%|          | 1157/196682 [01:36<6:12:37,  8.75it/s]\u001b[A\u001b[A\u001b[A\u001b[A\n",
      "\n",
      "\n",
      "\n",
      "loss - 0.2620:   1%|          | 1157/196682 [01:36<6:12:37,  8.75it/s]\u001b[A\u001b[A\u001b[A\u001b[A\n",
      "\n",
      "\n",
      "\n",
      "loss - 0.2620:   1%|          | 1158/196682 [01:36<6:06:13,  8.90it/s]\u001b[A\u001b[A\u001b[A\u001b[A"
     ]
    },
    {
     "name": "stdout",
     "output_type": "stream",
     "text": [
      "x.size(1) is:99\n",
      "x.size(1) is:99\n"
     ]
    },
    {
     "name": "stderr",
     "output_type": "stream",
     "text": [
      "\n",
      "\n",
      "\n",
      "\n",
      "loss - 0.2693:   1%|          | 1158/196682 [01:36<6:06:13,  8.90it/s]\u001b[A\u001b[A\u001b[A\u001b[A\n",
      "\n",
      "\n",
      "\n",
      "loss - 0.2693:   1%|          | 1159/196682 [01:36<6:03:15,  8.97it/s]\u001b[A\u001b[A\u001b[A\u001b[A\n",
      "\n",
      "\n",
      "\n",
      "loss - 0.3342:   1%|          | 1159/196682 [01:37<6:03:15,  8.97it/s]\u001b[A\u001b[A\u001b[A\u001b[A\n",
      "\n",
      "\n",
      "\n",
      "loss - 0.3342:   1%|          | 1160/196682 [01:37<5:59:46,  9.06it/s]\u001b[A\u001b[A\u001b[A\u001b[A"
     ]
    },
    {
     "name": "stdout",
     "output_type": "stream",
     "text": [
      "x.size(1) is:99\n",
      "x.size(1) is:99\n"
     ]
    },
    {
     "name": "stderr",
     "output_type": "stream",
     "text": [
      "\n",
      "\n",
      "\n",
      "\n",
      "loss - 0.1416:   1%|          | 1160/196682 [01:37<5:59:46,  9.06it/s]\u001b[A\u001b[A\u001b[A\u001b[A\n",
      "\n",
      "\n",
      "\n",
      "loss - 0.1416:   1%|          | 1161/196682 [01:37<6:10:37,  8.79it/s]\u001b[A\u001b[A\u001b[A\u001b[A\n",
      "\n",
      "\n",
      "\n",
      "loss - 0.4019:   1%|          | 1161/196682 [01:37<6:10:37,  8.79it/s]\u001b[A\u001b[A\u001b[A\u001b[A\n",
      "\n",
      "\n",
      "\n",
      "loss - 0.4019:   1%|          | 1162/196682 [01:37<6:24:08,  8.48it/s]\u001b[A\u001b[A\u001b[A\u001b[A"
     ]
    },
    {
     "name": "stdout",
     "output_type": "stream",
     "text": [
      "x.size(1) is:99\n",
      "x.size(1) is:99\n"
     ]
    },
    {
     "name": "stderr",
     "output_type": "stream",
     "text": [
      "\n",
      "\n",
      "\n",
      "\n",
      "loss - 0.1359:   1%|          | 1162/196682 [01:37<6:24:08,  8.48it/s]\u001b[A\u001b[A\u001b[A\u001b[A\n",
      "\n",
      "\n",
      "\n",
      "loss - 0.1359:   1%|          | 1163/196682 [01:37<6:23:16,  8.50it/s]\u001b[A\u001b[A\u001b[A\u001b[A\n",
      "\n",
      "\n",
      "\n",
      "loss - 0.3320:   1%|          | 1163/196682 [01:37<6:23:16,  8.50it/s]\u001b[A\u001b[A\u001b[A\u001b[A\n",
      "\n",
      "\n",
      "\n",
      "loss - 0.3320:   1%|          | 1164/196682 [01:37<6:35:18,  8.24it/s]\u001b[A\u001b[A\u001b[A\u001b[A"
     ]
    },
    {
     "name": "stdout",
     "output_type": "stream",
     "text": [
      "x.size(1) is:99\n",
      "x.size(1) is:99\n"
     ]
    },
    {
     "name": "stderr",
     "output_type": "stream",
     "text": [
      "\n",
      "\n",
      "\n",
      "\n",
      "loss - 0.2811:   1%|          | 1164/196682 [01:37<6:35:18,  8.24it/s]\u001b[A\u001b[A\u001b[A\u001b[A\n",
      "\n",
      "\n",
      "\n",
      "loss - 0.2811:   1%|          | 1165/196682 [01:37<6:39:10,  8.16it/s]\u001b[A\u001b[A\u001b[A\u001b[A\n",
      "\n",
      "\n",
      "\n",
      "loss - 0.3269:   1%|          | 1165/196682 [01:37<6:39:10,  8.16it/s]\u001b[A\u001b[A\u001b[A\u001b[A\n",
      "\n",
      "\n",
      "\n",
      "loss - 0.3269:   1%|          | 1166/196682 [01:37<6:37:17,  8.20it/s]\u001b[A\u001b[A\u001b[A\u001b[A"
     ]
    },
    {
     "name": "stdout",
     "output_type": "stream",
     "text": [
      "x.size(1) is:99\n",
      "x.size(1) is:99\n"
     ]
    },
    {
     "name": "stderr",
     "output_type": "stream",
     "text": [
      "\n",
      "\n",
      "\n",
      "\n",
      "loss - 0.1590:   1%|          | 1166/196682 [01:37<6:37:17,  8.20it/s]\u001b[A\u001b[A\u001b[A\u001b[A\n",
      "\n",
      "\n",
      "\n",
      "loss - 0.1590:   1%|          | 1167/196682 [01:37<6:25:30,  8.45it/s]\u001b[A\u001b[A\u001b[A\u001b[A\n",
      "\n",
      "\n",
      "\n",
      "loss - 0.1681:   1%|          | 1167/196682 [01:38<6:25:30,  8.45it/s]\u001b[A\u001b[A\u001b[A\u001b[A\n",
      "\n",
      "\n",
      "\n",
      "loss - 0.1681:   1%|          | 1168/196682 [01:38<6:26:18,  8.43it/s]\u001b[A\u001b[A\u001b[A\u001b[A"
     ]
    },
    {
     "name": "stdout",
     "output_type": "stream",
     "text": [
      "x.size(1) is:99\n",
      "x.size(1) is:99\n"
     ]
    },
    {
     "name": "stderr",
     "output_type": "stream",
     "text": [
      "\n",
      "\n",
      "\n",
      "\n",
      "loss - 0.3228:   1%|          | 1168/196682 [01:38<6:26:18,  8.43it/s]\u001b[A\u001b[A\u001b[A\u001b[A\n",
      "\n",
      "\n",
      "\n",
      "loss - 0.3228:   1%|          | 1169/196682 [01:38<6:50:20,  7.94it/s]\u001b[A\u001b[A\u001b[A\u001b[A"
     ]
    },
    {
     "name": "stdout",
     "output_type": "stream",
     "text": [
      "x.size(1) is:99\n"
     ]
    },
    {
     "name": "stderr",
     "output_type": "stream",
     "text": [
      "\n",
      "\n",
      "\n",
      "\n",
      "loss - 0.0973:   1%|          | 1169/196682 [01:38<6:50:20,  7.94it/s]\u001b[A\u001b[A\u001b[A\u001b[A\n",
      "\n",
      "\n",
      "\n",
      "loss - 0.0973:   1%|          | 1170/196682 [01:38<8:52:21,  6.12it/s]\u001b[A\u001b[A\u001b[A\u001b[A\n",
      "\n",
      "\n",
      "\n",
      "loss - 0.0739:   1%|          | 1170/196682 [01:38<8:52:21,  6.12it/s]\u001b[A\u001b[A\u001b[A\u001b[A\n",
      "\n",
      "\n",
      "\n",
      "loss - 0.0739:   1%|          | 1171/196682 [01:38<8:25:12,  6.45it/s]\u001b[A\u001b[A\u001b[A\u001b[A"
     ]
    },
    {
     "name": "stdout",
     "output_type": "stream",
     "text": [
      "x.size(1) is:99\n",
      "x.size(1) is:99\n"
     ]
    },
    {
     "name": "stderr",
     "output_type": "stream",
     "text": [
      "\n",
      "\n",
      "\n",
      "\n",
      "loss - 0.1267:   1%|          | 1171/196682 [01:38<8:25:12,  6.45it/s]\u001b[A\u001b[A\u001b[A\u001b[A\n",
      "\n",
      "\n",
      "\n",
      "loss - 0.1267:   1%|          | 1172/196682 [01:38<7:56:52,  6.83it/s]\u001b[A\u001b[A\u001b[A\u001b[A\n",
      "\n",
      "\n",
      "\n",
      "loss - 0.2659:   1%|          | 1172/196682 [01:38<7:56:52,  6.83it/s]\u001b[A\u001b[A\u001b[A\u001b[A\n",
      "\n",
      "\n",
      "\n",
      "loss - 0.2659:   1%|          | 1173/196682 [01:38<7:52:51,  6.89it/s]\u001b[A\u001b[A\u001b[A\u001b[A"
     ]
    },
    {
     "name": "stdout",
     "output_type": "stream",
     "text": [
      "x.size(1) is:99\n",
      "x.size(1) is:99\n"
     ]
    },
    {
     "name": "stderr",
     "output_type": "stream",
     "text": [
      "\n",
      "\n",
      "\n",
      "\n",
      "loss - 0.0911:   1%|          | 1173/196682 [01:38<7:52:51,  6.89it/s]\u001b[A\u001b[A\u001b[A\u001b[A\n",
      "\n",
      "\n",
      "\n",
      "loss - 0.0911:   1%|          | 1174/196682 [01:38<7:23:07,  7.35it/s]\u001b[A\u001b[A\u001b[A\u001b[A\n",
      "\n",
      "\n",
      "\n",
      "loss - 0.3687:   1%|          | 1174/196682 [01:39<7:23:07,  7.35it/s]\u001b[A\u001b[A\u001b[A\u001b[A\n",
      "\n",
      "\n",
      "\n",
      "loss - 0.3687:   1%|          | 1175/196682 [01:39<7:03:19,  7.70it/s]\u001b[A\u001b[A\u001b[A\u001b[A"
     ]
    },
    {
     "name": "stdout",
     "output_type": "stream",
     "text": [
      "x.size(1) is:99\n",
      "x.size(1) is:99\n"
     ]
    },
    {
     "name": "stderr",
     "output_type": "stream",
     "text": [
      "\n",
      "\n",
      "\n",
      "\n",
      "loss - 0.1365:   1%|          | 1175/196682 [01:39<7:03:19,  7.70it/s]\u001b[A\u001b[A\u001b[A\u001b[A\n",
      "\n",
      "\n",
      "\n",
      "loss - 0.1365:   1%|          | 1176/196682 [01:39<6:51:57,  7.91it/s]\u001b[A\u001b[A\u001b[A\u001b[A\n",
      "\n",
      "\n",
      "\n",
      "loss - 0.4012:   1%|          | 1176/196682 [01:39<6:51:57,  7.91it/s]\u001b[A\u001b[A\u001b[A\u001b[A\n",
      "\n",
      "\n",
      "\n",
      "loss - 0.4012:   1%|          | 1177/196682 [01:39<7:09:54,  7.58it/s]\u001b[A\u001b[A\u001b[A\u001b[A"
     ]
    },
    {
     "name": "stdout",
     "output_type": "stream",
     "text": [
      "x.size(1) is:99\n",
      "x.size(1) is:99\n"
     ]
    },
    {
     "name": "stderr",
     "output_type": "stream",
     "text": [
      "\n",
      "\n",
      "\n",
      "\n",
      "loss - 0.3757:   1%|          | 1177/196682 [01:39<7:09:54,  7.58it/s]\u001b[A\u001b[A\u001b[A\u001b[A\n",
      "\n",
      "\n",
      "\n",
      "loss - 0.3757:   1%|          | 1178/196682 [01:39<6:54:26,  7.86it/s]\u001b[A\u001b[A\u001b[A\u001b[A\n",
      "\n",
      "\n",
      "\n",
      "loss - 0.5536:   1%|          | 1178/196682 [01:39<6:54:26,  7.86it/s]\u001b[A\u001b[A\u001b[A\u001b[A\n",
      "\n",
      "\n",
      "\n",
      "loss - 0.5536:   1%|          | 1179/196682 [01:39<6:52:23,  7.90it/s]\u001b[A\u001b[A\u001b[A\u001b[A"
     ]
    },
    {
     "name": "stdout",
     "output_type": "stream",
     "text": [
      "x.size(1) is:99\n",
      "x.size(1) is:99\n"
     ]
    },
    {
     "name": "stderr",
     "output_type": "stream",
     "text": [
      "\n",
      "\n",
      "\n",
      "\n",
      "loss - 0.3194:   1%|          | 1179/196682 [01:39<6:52:23,  7.90it/s]\u001b[A\u001b[A\u001b[A\u001b[A\n",
      "\n",
      "\n",
      "\n",
      "loss - 0.3194:   1%|          | 1180/196682 [01:39<6:51:43,  7.91it/s]\u001b[A\u001b[A\u001b[A\u001b[A\n",
      "\n",
      "\n",
      "\n",
      "loss - 0.0639:   1%|          | 1180/196682 [01:39<6:51:43,  7.91it/s]\u001b[A\u001b[A\u001b[A\u001b[A\n",
      "\n",
      "\n",
      "\n",
      "loss - 0.0639:   1%|          | 1181/196682 [01:39<6:54:18,  7.86it/s]\u001b[A\u001b[A\u001b[A\u001b[A"
     ]
    },
    {
     "name": "stdout",
     "output_type": "stream",
     "text": [
      "x.size(1) is:99\n",
      "x.size(1) is:99\n"
     ]
    },
    {
     "name": "stderr",
     "output_type": "stream",
     "text": [
      "\n",
      "\n",
      "\n",
      "\n",
      "loss - 0.4737:   1%|          | 1181/196682 [01:39<6:54:18,  7.86it/s]\u001b[A\u001b[A\u001b[A\u001b[A\n",
      "\n",
      "\n",
      "\n",
      "loss - 0.4737:   1%|          | 1182/196682 [01:39<6:51:26,  7.92it/s]\u001b[A\u001b[A\u001b[A\u001b[A\n",
      "\n",
      "\n",
      "\n",
      "loss - 0.1484:   1%|          | 1182/196682 [01:40<6:51:26,  7.92it/s]\u001b[A\u001b[A\u001b[A\u001b[A\n",
      "\n",
      "\n",
      "\n",
      "loss - 0.1484:   1%|          | 1183/196682 [01:40<6:43:30,  8.07it/s]\u001b[A\u001b[A\u001b[A\u001b[A"
     ]
    },
    {
     "name": "stdout",
     "output_type": "stream",
     "text": [
      "x.size(1) is:99\n",
      "x.size(1) is:99\n"
     ]
    },
    {
     "name": "stderr",
     "output_type": "stream",
     "text": [
      "\n",
      "\n",
      "\n",
      "\n",
      "loss - 0.2753:   1%|          | 1183/196682 [01:40<6:43:30,  8.07it/s]\u001b[A\u001b[A\u001b[A\u001b[A\n",
      "\n",
      "\n",
      "\n",
      "loss - 0.2753:   1%|          | 1184/196682 [01:40<6:40:58,  8.13it/s]\u001b[A\u001b[A\u001b[A\u001b[A\n",
      "\n",
      "\n",
      "\n",
      "loss - 0.4571:   1%|          | 1184/196682 [01:40<6:40:58,  8.13it/s]\u001b[A\u001b[A\u001b[A\u001b[A\n",
      "\n",
      "\n",
      "\n",
      "loss - 0.4571:   1%|          | 1185/196682 [01:40<6:47:45,  7.99it/s]\u001b[A\u001b[A\u001b[A\u001b[A"
     ]
    },
    {
     "name": "stdout",
     "output_type": "stream",
     "text": [
      "x.size(1) is:99\n",
      "x.size(1) is:99\n"
     ]
    },
    {
     "name": "stderr",
     "output_type": "stream",
     "text": [
      "\n",
      "\n",
      "\n",
      "\n",
      "loss - 0.4990:   1%|          | 1185/196682 [01:40<6:47:45,  7.99it/s]\u001b[A\u001b[A\u001b[A\u001b[A\n",
      "\n",
      "\n",
      "\n",
      "loss - 0.4990:   1%|          | 1186/196682 [01:40<6:54:49,  7.85it/s]\u001b[A\u001b[A\u001b[A\u001b[A\n",
      "\n",
      "\n",
      "\n",
      "loss - 0.2457:   1%|          | 1186/196682 [01:40<6:54:49,  7.85it/s]\u001b[A\u001b[A\u001b[A\u001b[A\n",
      "\n",
      "\n",
      "\n",
      "loss - 0.2457:   1%|          | 1187/196682 [01:40<6:39:52,  8.15it/s]\u001b[A\u001b[A\u001b[A\u001b[A"
     ]
    },
    {
     "name": "stdout",
     "output_type": "stream",
     "text": [
      "x.size(1) is:99\n",
      "x.size(1) is:99\n"
     ]
    },
    {
     "name": "stderr",
     "output_type": "stream",
     "text": [
      "\n",
      "\n",
      "\n",
      "\n",
      "loss - 0.1159:   1%|          | 1187/196682 [01:40<6:39:52,  8.15it/s]\u001b[A\u001b[A\u001b[A\u001b[A\n",
      "\n",
      "\n",
      "\n",
      "loss - 0.1159:   1%|          | 1188/196682 [01:40<6:41:58,  8.11it/s]\u001b[A\u001b[A\u001b[A\u001b[A\n",
      "\n",
      "\n",
      "\n",
      "loss - 0.0656:   1%|          | 1188/196682 [01:40<6:41:58,  8.11it/s]\u001b[A\u001b[A\u001b[A\u001b[A\n",
      "\n",
      "\n",
      "\n",
      "loss - 0.0656:   1%|          | 1189/196682 [01:40<6:48:18,  7.98it/s]\u001b[A\u001b[A\u001b[A\u001b[A"
     ]
    },
    {
     "name": "stdout",
     "output_type": "stream",
     "text": [
      "x.size(1) is:99\n",
      "x.size(1) is:99\n"
     ]
    },
    {
     "name": "stderr",
     "output_type": "stream",
     "text": [
      "\n",
      "\n",
      "\n",
      "\n",
      "loss - 0.2726:   1%|          | 1189/196682 [01:40<6:48:18,  7.98it/s]\u001b[A\u001b[A\u001b[A\u001b[A\n",
      "\n",
      "\n",
      "\n",
      "loss - 0.2726:   1%|          | 1190/196682 [01:40<6:52:35,  7.90it/s]\u001b[A\u001b[A\u001b[A\u001b[A\n",
      "\n",
      "\n",
      "\n",
      "loss - 0.2812:   1%|          | 1190/196682 [01:41<6:52:35,  7.90it/s]\u001b[A\u001b[A\u001b[A\u001b[A\n",
      "\n",
      "\n",
      "\n",
      "loss - 0.2812:   1%|          | 1191/196682 [01:41<6:53:44,  7.87it/s]\u001b[A\u001b[A\u001b[A\u001b[A"
     ]
    },
    {
     "name": "stdout",
     "output_type": "stream",
     "text": [
      "x.size(1) is:99\n",
      "x.size(1) is:99\n"
     ]
    },
    {
     "name": "stderr",
     "output_type": "stream",
     "text": [
      "\n",
      "\n",
      "\n",
      "\n",
      "loss - 0.3636:   1%|          | 1191/196682 [01:41<6:53:44,  7.87it/s]\u001b[A\u001b[A\u001b[A\u001b[A\n",
      "\n",
      "\n",
      "\n",
      "loss - 0.3636:   1%|          | 1192/196682 [01:41<6:43:32,  8.07it/s]\u001b[A\u001b[A\u001b[A\u001b[A\n",
      "\n",
      "\n",
      "\n",
      "loss - 0.2051:   1%|          | 1192/196682 [01:41<6:43:32,  8.07it/s]\u001b[A\u001b[A\u001b[A\u001b[A\n",
      "\n",
      "\n",
      "\n",
      "loss - 0.2051:   1%|          | 1193/196682 [01:41<6:33:49,  8.27it/s]\u001b[A\u001b[A\u001b[A\u001b[A"
     ]
    },
    {
     "name": "stdout",
     "output_type": "stream",
     "text": [
      "x.size(1) is:99\n",
      "x.size(1) is:99\n"
     ]
    },
    {
     "name": "stderr",
     "output_type": "stream",
     "text": [
      "\n",
      "\n",
      "\n",
      "\n",
      "loss - 0.0419:   1%|          | 1193/196682 [01:41<6:33:49,  8.27it/s]\u001b[A\u001b[A\u001b[A\u001b[A\n",
      "\n",
      "\n",
      "\n",
      "loss - 0.0419:   1%|          | 1194/196682 [01:41<6:27:54,  8.40it/s]\u001b[A\u001b[A\u001b[A\u001b[A\n",
      "\n",
      "\n",
      "\n",
      "loss - 0.1836:   1%|          | 1194/196682 [01:41<6:27:54,  8.40it/s]\u001b[A\u001b[A\u001b[A\u001b[A\n",
      "\n",
      "\n",
      "\n",
      "loss - 0.1836:   1%|          | 1195/196682 [01:41<6:27:08,  8.42it/s]\u001b[A\u001b[A\u001b[A\u001b[A"
     ]
    },
    {
     "name": "stdout",
     "output_type": "stream",
     "text": [
      "x.size(1) is:99\n",
      "x.size(1) is:99\n"
     ]
    },
    {
     "name": "stderr",
     "output_type": "stream",
     "text": [
      "\n",
      "\n",
      "\n",
      "\n",
      "loss - 0.2839:   1%|          | 1195/196682 [01:41<6:27:08,  8.42it/s]\u001b[A\u001b[A\u001b[A\u001b[A\n",
      "\n",
      "\n",
      "\n",
      "loss - 0.2839:   1%|          | 1196/196682 [01:41<6:20:00,  8.57it/s]\u001b[A\u001b[A\u001b[A\u001b[A\n",
      "\n",
      "\n",
      "\n",
      "loss - 0.2724:   1%|          | 1196/196682 [01:41<6:20:00,  8.57it/s]\u001b[A\u001b[A\u001b[A\u001b[A\n",
      "\n",
      "\n",
      "\n",
      "loss - 0.2724:   1%|          | 1197/196682 [01:41<6:16:04,  8.66it/s]\u001b[A\u001b[A\u001b[A\u001b[A"
     ]
    },
    {
     "name": "stdout",
     "output_type": "stream",
     "text": [
      "x.size(1) is:99\n",
      "x.size(1) is:99\n"
     ]
    },
    {
     "name": "stderr",
     "output_type": "stream",
     "text": [
      "\n",
      "\n",
      "\n",
      "\n",
      "loss - 0.1924:   1%|          | 1197/196682 [01:41<6:16:04,  8.66it/s]\u001b[A\u001b[A\u001b[A\u001b[A\n",
      "\n",
      "\n",
      "\n",
      "loss - 0.1924:   1%|          | 1198/196682 [01:41<6:18:42,  8.60it/s]\u001b[A\u001b[A\u001b[A\u001b[A\n",
      "\n",
      "\n",
      "\n",
      "loss - 0.5943:   1%|          | 1198/196682 [01:41<6:18:42,  8.60it/s]\u001b[A\u001b[A\u001b[A\u001b[A\n",
      "\n",
      "\n",
      "\n",
      "loss - 0.5943:   1%|          | 1199/196682 [01:41<6:40:07,  8.14it/s]\u001b[A\u001b[A\u001b[A\u001b[A"
     ]
    },
    {
     "name": "stdout",
     "output_type": "stream",
     "text": [
      "x.size(1) is:99\n",
      "x.size(1) is:99\n"
     ]
    },
    {
     "name": "stderr",
     "output_type": "stream",
     "text": [
      "\n",
      "\n",
      "\n",
      "\n",
      "loss - 0.2956:   1%|          | 1199/196682 [01:42<6:40:07,  8.14it/s]\u001b[A\u001b[A\u001b[A\u001b[A\n",
      "\n",
      "\n",
      "\n",
      "loss - 0.2956:   1%|          | 1200/196682 [01:42<6:37:38,  8.19it/s]\u001b[A\u001b[A\u001b[A\u001b[A\n",
      "\n",
      "\n",
      "\n",
      "loss - 0.1800:   1%|          | 1200/196682 [01:42<6:37:38,  8.19it/s]\u001b[A\u001b[A\u001b[A\u001b[A\n",
      "\n",
      "\n",
      "\n",
      "loss - 0.1800:   1%|          | 1201/196682 [01:42<6:32:23,  8.30it/s]\u001b[A\u001b[A\u001b[A\u001b[A"
     ]
    },
    {
     "name": "stdout",
     "output_type": "stream",
     "text": [
      "x.size(1) is:99\n",
      "x.size(1) is:99\n"
     ]
    },
    {
     "name": "stderr",
     "output_type": "stream",
     "text": [
      "\n",
      "\n",
      "\n",
      "\n",
      "loss - 0.3295:   1%|          | 1201/196682 [01:42<6:32:23,  8.30it/s]\u001b[A\u001b[A\u001b[A\u001b[A\n",
      "\n",
      "\n",
      "\n",
      "loss - 0.3295:   1%|          | 1202/196682 [01:42<6:34:45,  8.25it/s]\u001b[A\u001b[A\u001b[A\u001b[A\n",
      "\n",
      "\n",
      "\n",
      "loss - 0.0440:   1%|          | 1202/196682 [01:42<6:34:45,  8.25it/s]\u001b[A\u001b[A\u001b[A\u001b[A\n",
      "\n",
      "\n",
      "\n",
      "loss - 0.0440:   1%|          | 1203/196682 [01:42<6:28:47,  8.38it/s]\u001b[A\u001b[A\u001b[A\u001b[A"
     ]
    },
    {
     "name": "stdout",
     "output_type": "stream",
     "text": [
      "x.size(1) is:99\n",
      "x.size(1) is:99\n"
     ]
    },
    {
     "name": "stderr",
     "output_type": "stream",
     "text": [
      "\n",
      "\n",
      "\n",
      "\n",
      "loss - 0.0582:   1%|          | 1203/196682 [01:42<6:28:47,  8.38it/s]\u001b[A\u001b[A\u001b[A\u001b[A\n",
      "\n",
      "\n",
      "\n",
      "loss - 0.0582:   1%|          | 1204/196682 [01:42<6:50:46,  7.93it/s]\u001b[A\u001b[A\u001b[A\u001b[A\n",
      "\n",
      "\n",
      "\n",
      "loss - 0.1255:   1%|          | 1204/196682 [01:42<6:50:46,  7.93it/s]\u001b[A\u001b[A\u001b[A\u001b[A\n",
      "\n",
      "\n",
      "\n",
      "loss - 0.1255:   1%|          | 1205/196682 [01:42<6:57:53,  7.80it/s]\u001b[A\u001b[A\u001b[A\u001b[A"
     ]
    },
    {
     "name": "stdout",
     "output_type": "stream",
     "text": [
      "x.size(1) is:99\n",
      "x.size(1) is:99\n"
     ]
    },
    {
     "name": "stderr",
     "output_type": "stream",
     "text": [
      "\n",
      "\n",
      "\n",
      "\n",
      "loss - 0.3766:   1%|          | 1205/196682 [01:42<6:57:53,  7.80it/s]\u001b[A\u001b[A\u001b[A\u001b[A\n",
      "\n",
      "\n",
      "\n",
      "loss - 0.3766:   1%|          | 1206/196682 [01:42<7:00:52,  7.74it/s]\u001b[A\u001b[A\u001b[A\u001b[A\n",
      "\n",
      "\n",
      "\n",
      "loss - 0.1186:   1%|          | 1206/196682 [01:43<7:00:52,  7.74it/s]\u001b[A\u001b[A\u001b[A\u001b[A\n",
      "\n",
      "\n",
      "\n",
      "loss - 0.1186:   1%|          | 1207/196682 [01:43<7:01:14,  7.73it/s]\u001b[A\u001b[A\u001b[A\u001b[A"
     ]
    },
    {
     "name": "stdout",
     "output_type": "stream",
     "text": [
      "x.size(1) is:99\n",
      "x.size(1) is:99\n"
     ]
    },
    {
     "name": "stderr",
     "output_type": "stream",
     "text": [
      "\n",
      "\n",
      "\n",
      "\n",
      "loss - 0.6402:   1%|          | 1207/196682 [01:43<7:01:14,  7.73it/s]\u001b[A\u001b[A\u001b[A\u001b[A\n",
      "\n",
      "\n",
      "\n",
      "loss - 0.6402:   1%|          | 1208/196682 [01:43<7:04:21,  7.68it/s]\u001b[A\u001b[A\u001b[A\u001b[A\n",
      "\n",
      "\n",
      "\n",
      "loss - 0.4360:   1%|          | 1208/196682 [01:43<7:04:21,  7.68it/s]\u001b[A\u001b[A\u001b[A\u001b[A\n",
      "\n",
      "\n",
      "\n",
      "loss - 0.4360:   1%|          | 1209/196682 [01:43<6:57:31,  7.80it/s]\u001b[A\u001b[A\u001b[A\u001b[A"
     ]
    },
    {
     "name": "stdout",
     "output_type": "stream",
     "text": [
      "x.size(1) is:99\n",
      "x.size(1) is:99\n"
     ]
    },
    {
     "name": "stderr",
     "output_type": "stream",
     "text": [
      "\n",
      "\n",
      "\n",
      "\n",
      "loss - 0.1332:   1%|          | 1209/196682 [01:43<6:57:31,  7.80it/s]\u001b[A\u001b[A\u001b[A\u001b[A\n",
      "\n",
      "\n",
      "\n",
      "loss - 0.1332:   1%|          | 1210/196682 [01:43<6:49:11,  7.96it/s]\u001b[A\u001b[A\u001b[A\u001b[A\n",
      "\n",
      "\n",
      "\n",
      "loss - 0.3677:   1%|          | 1210/196682 [01:43<6:49:11,  7.96it/s]\u001b[A\u001b[A\u001b[A\u001b[A\n",
      "\n",
      "\n",
      "\n",
      "loss - 0.3677:   1%|          | 1211/196682 [01:43<6:41:43,  8.11it/s]\u001b[A\u001b[A\u001b[A\u001b[A"
     ]
    },
    {
     "name": "stdout",
     "output_type": "stream",
     "text": [
      "x.size(1) is:99\n",
      "x.size(1) is:99\n"
     ]
    },
    {
     "name": "stderr",
     "output_type": "stream",
     "text": [
      "\n",
      "\n",
      "\n",
      "\n",
      "loss - 0.3475:   1%|          | 1211/196682 [01:43<6:41:43,  8.11it/s]\u001b[A\u001b[A\u001b[A\u001b[A\n",
      "\n",
      "\n",
      "\n",
      "loss - 0.3475:   1%|          | 1212/196682 [01:43<6:52:25,  7.90it/s]\u001b[A\u001b[A\u001b[A\u001b[A\n",
      "\n",
      "\n",
      "\n",
      "loss - 0.3577:   1%|          | 1212/196682 [01:43<6:52:25,  7.90it/s]\u001b[A\u001b[A\u001b[A\u001b[A\n",
      "\n",
      "\n",
      "\n",
      "loss - 0.3577:   1%|          | 1213/196682 [01:43<6:56:13,  7.83it/s]\u001b[A\u001b[A\u001b[A\u001b[A"
     ]
    },
    {
     "name": "stdout",
     "output_type": "stream",
     "text": [
      "x.size(1) is:99\n",
      "x.size(1) is:99\n"
     ]
    },
    {
     "name": "stderr",
     "output_type": "stream",
     "text": [
      "\n",
      "\n",
      "\n",
      "\n",
      "loss - 0.1165:   1%|          | 1213/196682 [01:43<6:56:13,  7.83it/s]\u001b[A\u001b[A\u001b[A\u001b[A\n",
      "\n",
      "\n",
      "\n",
      "loss - 0.1165:   1%|          | 1214/196682 [01:43<7:10:00,  7.58it/s]\u001b[A\u001b[A\u001b[A\u001b[A\n",
      "\n",
      "\n",
      "\n",
      "loss - 0.3321:   1%|          | 1214/196682 [01:44<7:10:00,  7.58it/s]\u001b[A\u001b[A\u001b[A\u001b[A\n",
      "\n",
      "\n",
      "\n",
      "loss - 0.3321:   1%|          | 1215/196682 [01:44<7:02:44,  7.71it/s]\u001b[A\u001b[A\u001b[A\u001b[A"
     ]
    },
    {
     "name": "stdout",
     "output_type": "stream",
     "text": [
      "x.size(1) is:99\n",
      "x.size(1) is:99\n"
     ]
    },
    {
     "name": "stderr",
     "output_type": "stream",
     "text": [
      "\n",
      "\n",
      "\n",
      "\n",
      "loss - 0.0537:   1%|          | 1215/196682 [01:44<7:02:44,  7.71it/s]\u001b[A\u001b[A\u001b[A\u001b[A\n",
      "\n",
      "\n",
      "\n",
      "loss - 0.0537:   1%|          | 1216/196682 [01:44<6:59:32,  7.77it/s]\u001b[A\u001b[A\u001b[A\u001b[A\n",
      "\n",
      "\n",
      "\n",
      "loss - 0.2434:   1%|          | 1216/196682 [01:44<6:59:32,  7.77it/s]\u001b[A\u001b[A\u001b[A\u001b[A\n",
      "\n",
      "\n",
      "\n",
      "loss - 0.2434:   1%|          | 1217/196682 [01:44<6:56:40,  7.82it/s]\u001b[A\u001b[A\u001b[A\u001b[A"
     ]
    },
    {
     "name": "stdout",
     "output_type": "stream",
     "text": [
      "x.size(1) is:99\n",
      "x.size(1) is:99\n"
     ]
    },
    {
     "name": "stderr",
     "output_type": "stream",
     "text": [
      "\n",
      "\n",
      "\n",
      "\n",
      "loss - 0.0872:   1%|          | 1217/196682 [01:44<6:56:40,  7.82it/s]\u001b[A\u001b[A\u001b[A\u001b[A\n",
      "\n",
      "\n",
      "\n",
      "loss - 0.0872:   1%|          | 1218/196682 [01:44<7:08:27,  7.60it/s]\u001b[A\u001b[A\u001b[A\u001b[A\n",
      "\n",
      "\n",
      "\n",
      "loss - 0.1452:   1%|          | 1218/196682 [01:44<7:08:27,  7.60it/s]\u001b[A\u001b[A\u001b[A\u001b[A\n",
      "\n",
      "\n",
      "\n",
      "loss - 0.1452:   1%|          | 1219/196682 [01:44<7:17:13,  7.45it/s]\u001b[A\u001b[A\u001b[A\u001b[A"
     ]
    },
    {
     "name": "stdout",
     "output_type": "stream",
     "text": [
      "x.size(1) is:99\n",
      "x.size(1) is:99\n"
     ]
    },
    {
     "name": "stderr",
     "output_type": "stream",
     "text": [
      "\n",
      "\n",
      "\n",
      "\n",
      "loss - 0.3682:   1%|          | 1219/196682 [01:44<7:17:13,  7.45it/s]\u001b[A\u001b[A\u001b[A\u001b[A\n",
      "\n",
      "\n",
      "\n",
      "loss - 0.3682:   1%|          | 1220/196682 [01:44<7:06:51,  7.63it/s]\u001b[A\u001b[A\u001b[A\u001b[A\n",
      "\n",
      "\n",
      "\n",
      "loss - 0.0650:   1%|          | 1220/196682 [01:44<7:06:51,  7.63it/s]\u001b[A\u001b[A\u001b[A\u001b[A\n",
      "\n",
      "\n",
      "\n",
      "loss - 0.0650:   1%|          | 1221/196682 [01:44<7:03:42,  7.69it/s]\u001b[A\u001b[A\u001b[A\u001b[A"
     ]
    },
    {
     "name": "stdout",
     "output_type": "stream",
     "text": [
      "x.size(1) is:99\n",
      "x.size(1) is:99\n"
     ]
    },
    {
     "name": "stderr",
     "output_type": "stream",
     "text": [
      "\n",
      "\n",
      "\n",
      "\n",
      "loss - 0.1008:   1%|          | 1221/196682 [01:44<7:03:42,  7.69it/s]\u001b[A\u001b[A\u001b[A\u001b[A\n",
      "\n",
      "\n",
      "\n",
      "loss - 0.1008:   1%|          | 1222/196682 [01:44<7:16:26,  7.46it/s]\u001b[A\u001b[A\u001b[A\u001b[A\n",
      "\n",
      "\n",
      "\n",
      "loss - 0.2767:   1%|          | 1222/196682 [01:45<7:16:26,  7.46it/s]\u001b[A\u001b[A\u001b[A\u001b[A\n",
      "\n",
      "\n",
      "\n",
      "loss - 0.2767:   1%|          | 1223/196682 [01:45<7:15:23,  7.48it/s]\u001b[A\u001b[A\u001b[A\u001b[A"
     ]
    },
    {
     "name": "stdout",
     "output_type": "stream",
     "text": [
      "x.size(1) is:99\n",
      "x.size(1) is:99\n"
     ]
    },
    {
     "name": "stderr",
     "output_type": "stream",
     "text": [
      "\n",
      "\n",
      "\n",
      "\n",
      "loss - 0.0680:   1%|          | 1223/196682 [01:45<7:15:23,  7.48it/s]\u001b[A\u001b[A\u001b[A\u001b[A\n",
      "\n",
      "\n",
      "\n",
      "loss - 0.0680:   1%|          | 1224/196682 [01:45<7:12:04,  7.54it/s]\u001b[A\u001b[A\u001b[A\u001b[A\n",
      "\n",
      "\n",
      "\n",
      "loss - 0.3299:   1%|          | 1224/196682 [01:45<7:12:04,  7.54it/s]\u001b[A\u001b[A\u001b[A\u001b[A\n",
      "\n",
      "\n",
      "\n",
      "loss - 0.3299:   1%|          | 1225/196682 [01:45<7:17:12,  7.45it/s]\u001b[A\u001b[A\u001b[A\u001b[A"
     ]
    },
    {
     "name": "stdout",
     "output_type": "stream",
     "text": [
      "x.size(1) is:99\n",
      "x.size(1) is:99\n"
     ]
    },
    {
     "name": "stderr",
     "output_type": "stream",
     "text": [
      "\n",
      "\n",
      "\n",
      "\n",
      "loss - 0.3582:   1%|          | 1225/196682 [01:45<7:17:12,  7.45it/s]\u001b[A\u001b[A\u001b[A\u001b[A\n",
      "\n",
      "\n",
      "\n",
      "loss - 0.3582:   1%|          | 1226/196682 [01:45<7:10:16,  7.57it/s]\u001b[A\u001b[A\u001b[A\u001b[A\n",
      "\n",
      "\n",
      "\n",
      "loss - 0.4013:   1%|          | 1226/196682 [01:45<7:10:16,  7.57it/s]\u001b[A\u001b[A\u001b[A\u001b[A\n",
      "\n",
      "\n",
      "\n",
      "loss - 0.4013:   1%|          | 1227/196682 [01:45<7:18:23,  7.43it/s]\u001b[A\u001b[A\u001b[A\u001b[A"
     ]
    },
    {
     "name": "stdout",
     "output_type": "stream",
     "text": [
      "x.size(1) is:99\n",
      "x.size(1) is:99\n"
     ]
    },
    {
     "name": "stderr",
     "output_type": "stream",
     "text": [
      "\n",
      "\n",
      "\n",
      "\n",
      "loss - 0.0641:   1%|          | 1227/196682 [01:45<7:18:23,  7.43it/s]\u001b[A\u001b[A\u001b[A\u001b[A\n",
      "\n",
      "\n",
      "\n",
      "loss - 0.0641:   1%|          | 1228/196682 [01:45<7:29:09,  7.25it/s]\u001b[A\u001b[A\u001b[A\u001b[A\n",
      "\n",
      "\n",
      "\n",
      "loss - 0.1120:   1%|          | 1228/196682 [01:45<7:29:09,  7.25it/s]\u001b[A\u001b[A\u001b[A\u001b[A\n",
      "\n",
      "\n",
      "\n",
      "loss - 0.1120:   1%|          | 1229/196682 [01:45<7:19:50,  7.41it/s]\u001b[A\u001b[A\u001b[A\u001b[A"
     ]
    },
    {
     "name": "stdout",
     "output_type": "stream",
     "text": [
      "x.size(1) is:99\n",
      "x.size(1) is:99\n"
     ]
    },
    {
     "name": "stderr",
     "output_type": "stream",
     "text": [
      "\n",
      "\n",
      "\n",
      "\n",
      "loss - 0.0930:   1%|          | 1229/196682 [01:46<7:19:50,  7.41it/s]\u001b[A\u001b[A\u001b[A\u001b[A\n",
      "\n",
      "\n",
      "\n",
      "loss - 0.0930:   1%|          | 1230/196682 [01:46<7:19:16,  7.42it/s]\u001b[A\u001b[A\u001b[A\u001b[A\n",
      "\n",
      "\n",
      "\n",
      "loss - 0.0424:   1%|          | 1230/196682 [01:46<7:19:16,  7.42it/s]\u001b[A\u001b[A\u001b[A\u001b[A\n",
      "\n",
      "\n",
      "\n",
      "loss - 0.0424:   1%|          | 1231/196682 [01:46<7:21:22,  7.38it/s]\u001b[A\u001b[A\u001b[A\u001b[A"
     ]
    },
    {
     "name": "stdout",
     "output_type": "stream",
     "text": [
      "x.size(1) is:99\n",
      "x.size(1) is:99\n"
     ]
    },
    {
     "name": "stderr",
     "output_type": "stream",
     "text": [
      "\n",
      "\n",
      "\n",
      "\n",
      "loss - 0.2740:   1%|          | 1231/196682 [01:46<7:21:22,  7.38it/s]\u001b[A\u001b[A\u001b[A\u001b[A\n",
      "\n",
      "\n",
      "\n",
      "loss - 0.2740:   1%|          | 1232/196682 [01:46<7:27:59,  7.27it/s]\u001b[A\u001b[A\u001b[A\u001b[A\n",
      "\n",
      "\n",
      "\n",
      "loss - 0.3681:   1%|          | 1232/196682 [01:46<7:27:59,  7.27it/s]\u001b[A\u001b[A\u001b[A\u001b[A\n",
      "\n",
      "\n",
      "\n",
      "loss - 0.3681:   1%|          | 1233/196682 [01:46<7:15:38,  7.48it/s]\u001b[A\u001b[A\u001b[A\u001b[A"
     ]
    },
    {
     "name": "stdout",
     "output_type": "stream",
     "text": [
      "x.size(1) is:99\n",
      "x.size(1) is:99\n"
     ]
    },
    {
     "name": "stderr",
     "output_type": "stream",
     "text": [
      "\n",
      "\n",
      "\n",
      "\n",
      "loss - 0.0671:   1%|          | 1233/196682 [01:46<7:15:38,  7.48it/s]\u001b[A\u001b[A\u001b[A\u001b[A\n",
      "\n",
      "\n",
      "\n",
      "loss - 0.0671:   1%|          | 1234/196682 [01:46<7:34:32,  7.17it/s]\u001b[A\u001b[A\u001b[A\u001b[A\n",
      "\n",
      "\n",
      "\n",
      "loss - 0.4432:   1%|          | 1234/196682 [01:46<7:34:32,  7.17it/s]\u001b[A\u001b[A\u001b[A\u001b[A\n",
      "\n",
      "\n",
      "\n",
      "loss - 0.4432:   1%|          | 1235/196682 [01:46<7:17:09,  7.45it/s]\u001b[A\u001b[A\u001b[A\u001b[A"
     ]
    },
    {
     "name": "stdout",
     "output_type": "stream",
     "text": [
      "x.size(1) is:99\n",
      "x.size(1) is:99\n"
     ]
    },
    {
     "name": "stderr",
     "output_type": "stream",
     "text": [
      "\n",
      "\n",
      "\n",
      "\n",
      "loss - 0.1821:   1%|          | 1235/196682 [01:46<7:17:09,  7.45it/s]\u001b[A\u001b[A\u001b[A\u001b[A\n",
      "\n",
      "\n",
      "\n",
      "loss - 0.1821:   1%|          | 1236/196682 [01:46<7:01:42,  7.72it/s]\u001b[A\u001b[A\u001b[A\u001b[A\n",
      "\n",
      "\n",
      "\n",
      "loss - 0.4354:   1%|          | 1236/196682 [01:46<7:01:42,  7.72it/s]\u001b[A\u001b[A\u001b[A\u001b[A\n",
      "\n",
      "\n",
      "\n",
      "loss - 0.4354:   1%|          | 1237/196682 [01:46<6:49:31,  7.95it/s]\u001b[A\u001b[A\u001b[A\u001b[A"
     ]
    },
    {
     "name": "stdout",
     "output_type": "stream",
     "text": [
      "x.size(1) is:99\n",
      "x.size(1) is:99\n"
     ]
    },
    {
     "name": "stderr",
     "output_type": "stream",
     "text": [
      "\n",
      "\n",
      "\n",
      "\n",
      "loss - 0.0686:   1%|          | 1237/196682 [01:47<6:49:31,  7.95it/s]\u001b[A\u001b[A\u001b[A\u001b[A\n",
      "\n",
      "\n",
      "\n",
      "loss - 0.0686:   1%|          | 1238/196682 [01:47<6:43:32,  8.07it/s]\u001b[A\u001b[A\u001b[A\u001b[A\n",
      "\n",
      "\n",
      "\n",
      "loss - 0.1856:   1%|          | 1238/196682 [01:47<6:43:32,  8.07it/s]\u001b[A\u001b[A\u001b[A\u001b[A\n",
      "\n",
      "\n",
      "\n",
      "loss - 0.1856:   1%|          | 1239/196682 [01:47<6:39:15,  8.16it/s]\u001b[A\u001b[A\u001b[A\u001b[A"
     ]
    },
    {
     "name": "stdout",
     "output_type": "stream",
     "text": [
      "x.size(1) is:99\n",
      "x.size(1) is:99\n"
     ]
    },
    {
     "name": "stderr",
     "output_type": "stream",
     "text": [
      "\n",
      "\n",
      "\n",
      "\n",
      "loss - 0.1346:   1%|          | 1239/196682 [01:47<6:39:15,  8.16it/s]\u001b[A\u001b[A\u001b[A\u001b[A\n",
      "\n",
      "\n",
      "\n",
      "loss - 0.1346:   1%|          | 1240/196682 [01:47<6:33:18,  8.28it/s]\u001b[A\u001b[A\u001b[A\u001b[A\n",
      "\n",
      "\n",
      "\n",
      "loss - 0.3322:   1%|          | 1240/196682 [01:47<6:33:18,  8.28it/s]\u001b[A\u001b[A\u001b[A\u001b[A\n",
      "\n",
      "\n",
      "\n",
      "loss - 0.3322:   1%|          | 1241/196682 [01:47<6:31:53,  8.31it/s]\u001b[A\u001b[A\u001b[A\u001b[A"
     ]
    },
    {
     "name": "stdout",
     "output_type": "stream",
     "text": [
      "x.size(1) is:99\n",
      "x.size(1) is:99\n"
     ]
    },
    {
     "name": "stderr",
     "output_type": "stream",
     "text": [
      "\n",
      "\n",
      "\n",
      "\n",
      "loss - 0.2293:   1%|          | 1241/196682 [01:47<6:31:53,  8.31it/s]\u001b[A\u001b[A\u001b[A\u001b[A\n",
      "\n",
      "\n",
      "\n",
      "loss - 0.2293:   1%|          | 1242/196682 [01:47<6:25:44,  8.44it/s]\u001b[A\u001b[A\u001b[A\u001b[A\n",
      "\n",
      "\n",
      "\n",
      "loss - 0.0977:   1%|          | 1242/196682 [01:47<6:25:44,  8.44it/s]\u001b[A\u001b[A\u001b[A\u001b[A\n",
      "\n",
      "\n",
      "\n",
      "loss - 0.0977:   1%|          | 1243/196682 [01:47<6:19:42,  8.58it/s]\u001b[A\u001b[A\u001b[A\u001b[A"
     ]
    },
    {
     "name": "stdout",
     "output_type": "stream",
     "text": [
      "x.size(1) is:99\n",
      "x.size(1) is:99\n"
     ]
    },
    {
     "name": "stderr",
     "output_type": "stream",
     "text": [
      "\n",
      "\n",
      "\n",
      "\n",
      "loss - 0.4917:   1%|          | 1243/196682 [01:47<6:19:42,  8.58it/s]\u001b[A\u001b[A\u001b[A\u001b[A\n",
      "\n",
      "\n",
      "\n",
      "loss - 0.4917:   1%|          | 1244/196682 [01:47<6:20:56,  8.55it/s]\u001b[A\u001b[A\u001b[A\u001b[A\n",
      "\n",
      "\n",
      "\n",
      "loss - 0.0341:   1%|          | 1244/196682 [01:47<6:20:56,  8.55it/s]\u001b[A\u001b[A\u001b[A\u001b[A\n",
      "\n",
      "\n",
      "\n",
      "loss - 0.0341:   1%|          | 1245/196682 [01:47<6:18:29,  8.61it/s]\u001b[A\u001b[A\u001b[A\u001b[A"
     ]
    },
    {
     "name": "stdout",
     "output_type": "stream",
     "text": [
      "x.size(1) is:99\n",
      "x.size(1) is:99\n"
     ]
    },
    {
     "name": "stderr",
     "output_type": "stream",
     "text": [
      "\n",
      "\n",
      "\n",
      "\n",
      "loss - 0.3048:   1%|          | 1245/196682 [01:47<6:18:29,  8.61it/s]\u001b[A\u001b[A\u001b[A\u001b[A\n",
      "\n",
      "\n",
      "\n",
      "loss - 0.3048:   1%|          | 1246/196682 [01:47<6:19:13,  8.59it/s]\u001b[A\u001b[A\u001b[A\u001b[A\n",
      "\n",
      "\n",
      "\n",
      "loss - 0.2725:   1%|          | 1246/196682 [01:48<6:19:13,  8.59it/s]\u001b[A\u001b[A\u001b[A\u001b[A\n",
      "\n",
      "\n",
      "\n",
      "loss - 0.2725:   1%|          | 1247/196682 [01:48<6:16:33,  8.65it/s]\u001b[A\u001b[A\u001b[A\u001b[A"
     ]
    },
    {
     "name": "stdout",
     "output_type": "stream",
     "text": [
      "x.size(1) is:99\n",
      "x.size(1) is:99\n"
     ]
    },
    {
     "name": "stderr",
     "output_type": "stream",
     "text": [
      "\n",
      "\n",
      "\n",
      "\n",
      "loss - 0.0796:   1%|          | 1247/196682 [01:48<6:16:33,  8.65it/s]\u001b[A\u001b[A\u001b[A\u001b[A\n",
      "\n",
      "\n",
      "\n",
      "loss - 0.0796:   1%|          | 1248/196682 [01:48<6:13:25,  8.72it/s]\u001b[A\u001b[A\u001b[A\u001b[A\n",
      "\n",
      "\n",
      "\n",
      "loss - 0.1658:   1%|          | 1248/196682 [01:48<6:13:25,  8.72it/s]\u001b[A\u001b[A\u001b[A\u001b[A\n",
      "\n",
      "\n",
      "\n",
      "loss - 0.1658:   1%|          | 1249/196682 [01:48<6:14:45,  8.69it/s]\u001b[A\u001b[A\u001b[A\u001b[A"
     ]
    },
    {
     "name": "stdout",
     "output_type": "stream",
     "text": [
      "x.size(1) is:99\n",
      "x.size(1) is:99\n"
     ]
    },
    {
     "name": "stderr",
     "output_type": "stream",
     "text": [
      "\n",
      "\n",
      "\n",
      "\n",
      "loss - 0.3416:   1%|          | 1249/196682 [01:48<6:14:45,  8.69it/s]\u001b[A\u001b[A\u001b[A\u001b[A\n",
      "\n",
      "\n",
      "\n",
      "loss - 0.3416:   1%|          | 1250/196682 [01:48<6:14:34,  8.70it/s]\u001b[A\u001b[A\u001b[A\u001b[A\n",
      "\n",
      "\n",
      "\n",
      "loss - 0.3317:   1%|          | 1250/196682 [01:48<6:14:34,  8.70it/s]\u001b[A\u001b[A\u001b[A\u001b[A\n",
      "\n",
      "\n",
      "\n",
      "loss - 0.3317:   1%|          | 1251/196682 [01:48<6:17:07,  8.64it/s]\u001b[A\u001b[A\u001b[A\u001b[A"
     ]
    },
    {
     "name": "stdout",
     "output_type": "stream",
     "text": [
      "x.size(1) is:99\n",
      "x.size(1) is:99\n"
     ]
    },
    {
     "name": "stderr",
     "output_type": "stream",
     "text": [
      "\n",
      "\n",
      "\n",
      "\n",
      "loss - 0.0657:   1%|          | 1251/196682 [01:48<6:17:07,  8.64it/s]\u001b[A\u001b[A\u001b[A\u001b[A\n",
      "\n",
      "\n",
      "\n",
      "loss - 0.0657:   1%|          | 1252/196682 [01:48<6:19:50,  8.58it/s]\u001b[A\u001b[A\u001b[A\u001b[A\n",
      "\n",
      "\n",
      "\n",
      "loss - 0.0871:   1%|          | 1252/196682 [01:48<6:19:50,  8.58it/s]\u001b[A\u001b[A\u001b[A\u001b[A\n",
      "\n",
      "\n",
      "\n",
      "loss - 0.0871:   1%|          | 1253/196682 [01:48<6:25:33,  8.45it/s]\u001b[A\u001b[A\u001b[A\u001b[A"
     ]
    },
    {
     "name": "stdout",
     "output_type": "stream",
     "text": [
      "x.size(1) is:99\n",
      "x.size(1) is:99\n"
     ]
    },
    {
     "name": "stderr",
     "output_type": "stream",
     "text": [
      "\n",
      "\n",
      "\n",
      "\n",
      "loss - 0.1773:   1%|          | 1253/196682 [01:48<6:25:33,  8.45it/s]\u001b[A\u001b[A\u001b[A\u001b[A\n",
      "\n",
      "\n",
      "\n",
      "loss - 0.1773:   1%|          | 1254/196682 [01:48<6:31:06,  8.33it/s]\u001b[A\u001b[A\u001b[A\u001b[A\n",
      "\n",
      "\n",
      "\n",
      "loss - 0.1665:   1%|          | 1254/196682 [01:49<6:31:06,  8.33it/s]\u001b[A\u001b[A\u001b[A\u001b[A\n",
      "\n",
      "\n",
      "\n",
      "loss - 0.1665:   1%|          | 1255/196682 [01:49<6:31:58,  8.31it/s]\u001b[A\u001b[A\u001b[A\u001b[A"
     ]
    },
    {
     "name": "stdout",
     "output_type": "stream",
     "text": [
      "x.size(1) is:99\n",
      "x.size(1) is:99\n"
     ]
    },
    {
     "name": "stderr",
     "output_type": "stream",
     "text": [
      "\n",
      "\n",
      "\n",
      "\n",
      "loss - 0.4531:   1%|          | 1255/196682 [01:49<6:31:58,  8.31it/s]\u001b[A\u001b[A\u001b[A\u001b[A\n",
      "\n",
      "\n",
      "\n",
      "loss - 0.4531:   1%|          | 1256/196682 [01:49<6:29:28,  8.36it/s]\u001b[A\u001b[A\u001b[A\u001b[A\n",
      "\n",
      "\n",
      "\n",
      "loss - 0.3429:   1%|          | 1256/196682 [01:49<6:29:28,  8.36it/s]\u001b[A\u001b[A\u001b[A\u001b[A\n",
      "\n",
      "\n",
      "\n",
      "loss - 0.3429:   1%|          | 1257/196682 [01:49<6:28:29,  8.38it/s]\u001b[A\u001b[A\u001b[A\u001b[A"
     ]
    },
    {
     "name": "stdout",
     "output_type": "stream",
     "text": [
      "x.size(1) is:99\n",
      "x.size(1) is:99\n"
     ]
    },
    {
     "name": "stderr",
     "output_type": "stream",
     "text": [
      "\n",
      "\n",
      "\n",
      "\n",
      "loss - 0.3334:   1%|          | 1257/196682 [01:49<6:28:29,  8.38it/s]\u001b[A\u001b[A\u001b[A\u001b[A\n",
      "\n",
      "\n",
      "\n",
      "loss - 0.3334:   1%|          | 1258/196682 [01:49<6:30:29,  8.34it/s]\u001b[A\u001b[A\u001b[A\u001b[A\n",
      "\n",
      "\n",
      "\n",
      "loss - 0.5097:   1%|          | 1258/196682 [01:49<6:30:29,  8.34it/s]\u001b[A\u001b[A\u001b[A\u001b[A\n",
      "\n",
      "\n",
      "\n",
      "loss - 0.5097:   1%|          | 1259/196682 [01:49<6:31:09,  8.33it/s]\u001b[A\u001b[A\u001b[A\u001b[A"
     ]
    },
    {
     "name": "stdout",
     "output_type": "stream",
     "text": [
      "x.size(1) is:99\n",
      "x.size(1) is:99\n"
     ]
    },
    {
     "name": "stderr",
     "output_type": "stream",
     "text": [
      "\n",
      "\n",
      "\n",
      "\n",
      "loss - 0.0611:   1%|          | 1259/196682 [01:49<6:31:09,  8.33it/s]\u001b[A\u001b[A\u001b[A\u001b[A\n",
      "\n",
      "\n",
      "\n",
      "loss - 0.0611:   1%|          | 1260/196682 [01:49<6:35:05,  8.24it/s]\u001b[A\u001b[A\u001b[A\u001b[A\n",
      "\n",
      "\n",
      "\n",
      "loss - 0.2073:   1%|          | 1260/196682 [01:49<6:35:05,  8.24it/s]\u001b[A\u001b[A\u001b[A\u001b[A\n",
      "\n",
      "\n",
      "\n",
      "loss - 0.2073:   1%|          | 1261/196682 [01:49<6:33:27,  8.28it/s]\u001b[A\u001b[A\u001b[A\u001b[A"
     ]
    },
    {
     "name": "stdout",
     "output_type": "stream",
     "text": [
      "x.size(1) is:99\n",
      "x.size(1) is:99\n"
     ]
    },
    {
     "name": "stderr",
     "output_type": "stream",
     "text": [
      "\n",
      "\n",
      "\n",
      "\n",
      "loss - 0.1737:   1%|          | 1261/196682 [01:49<6:33:27,  8.28it/s]\u001b[A\u001b[A\u001b[A\u001b[A\n",
      "\n",
      "\n",
      "\n",
      "loss - 0.1737:   1%|          | 1262/196682 [01:49<6:34:44,  8.25it/s]\u001b[A\u001b[A\u001b[A\u001b[A\n",
      "\n",
      "\n",
      "\n",
      "loss - 0.3205:   1%|          | 1262/196682 [01:50<6:34:44,  8.25it/s]\u001b[A\u001b[A\u001b[A\u001b[A\n",
      "\n",
      "\n",
      "\n",
      "loss - 0.3205:   1%|          | 1263/196682 [01:50<6:40:26,  8.13it/s]\u001b[A\u001b[A\u001b[A\u001b[A"
     ]
    },
    {
     "name": "stdout",
     "output_type": "stream",
     "text": [
      "x.size(1) is:99\n",
      "x.size(1) is:99\n"
     ]
    },
    {
     "name": "stderr",
     "output_type": "stream",
     "text": [
      "\n",
      "\n",
      "\n",
      "\n",
      "loss - 0.3868:   1%|          | 1263/196682 [01:50<6:40:26,  8.13it/s]\u001b[A\u001b[A\u001b[A\u001b[A\n",
      "\n",
      "\n",
      "\n",
      "loss - 0.3868:   1%|          | 1264/196682 [01:50<6:40:43,  8.13it/s]\u001b[A\u001b[A\u001b[A\u001b[A\n",
      "\n",
      "\n",
      "\n",
      "loss - 0.0389:   1%|          | 1264/196682 [01:50<6:40:43,  8.13it/s]\u001b[A\u001b[A\u001b[A\u001b[A\n",
      "\n",
      "\n",
      "\n",
      "loss - 0.0389:   1%|          | 1265/196682 [01:50<6:38:21,  8.18it/s]\u001b[A\u001b[A\u001b[A\u001b[A"
     ]
    },
    {
     "name": "stdout",
     "output_type": "stream",
     "text": [
      "x.size(1) is:99\n",
      "x.size(1) is:99\n"
     ]
    },
    {
     "name": "stderr",
     "output_type": "stream",
     "text": [
      "\n",
      "\n",
      "\n",
      "\n",
      "loss - 0.2929:   1%|          | 1265/196682 [01:50<6:38:21,  8.18it/s]\u001b[A\u001b[A\u001b[A\u001b[A\n",
      "\n",
      "\n",
      "\n",
      "loss - 0.2929:   1%|          | 1266/196682 [01:50<6:38:41,  8.17it/s]\u001b[A\u001b[A\u001b[A\u001b[A\n",
      "\n",
      "\n",
      "\n",
      "loss - 0.0670:   1%|          | 1266/196682 [01:50<6:38:41,  8.17it/s]\u001b[A\u001b[A\u001b[A\u001b[A\n",
      "\n",
      "\n",
      "\n",
      "loss - 0.0670:   1%|          | 1267/196682 [01:50<6:34:30,  8.26it/s]\u001b[A\u001b[A\u001b[A\u001b[A"
     ]
    },
    {
     "name": "stdout",
     "output_type": "stream",
     "text": [
      "x.size(1) is:99\n",
      "x.size(1) is:99\n"
     ]
    },
    {
     "name": "stderr",
     "output_type": "stream",
     "text": [
      "\n",
      "\n",
      "\n",
      "\n",
      "loss - 0.1605:   1%|          | 1267/196682 [01:50<6:34:30,  8.26it/s]\u001b[A\u001b[A\u001b[A\u001b[A\n",
      "\n",
      "\n",
      "\n",
      "loss - 0.1605:   1%|          | 1268/196682 [01:50<6:33:42,  8.27it/s]\u001b[A\u001b[A\u001b[A\u001b[A\n",
      "\n",
      "\n",
      "\n",
      "loss - 0.1699:   1%|          | 1268/196682 [01:50<6:33:42,  8.27it/s]\u001b[A\u001b[A\u001b[A\u001b[A\n",
      "\n",
      "\n",
      "\n",
      "loss - 0.1699:   1%|          | 1269/196682 [01:50<6:56:27,  7.82it/s]\u001b[A\u001b[A\u001b[A\u001b[A"
     ]
    },
    {
     "name": "stdout",
     "output_type": "stream",
     "text": [
      "x.size(1) is:99\n",
      "x.size(1) is:99\n"
     ]
    },
    {
     "name": "stderr",
     "output_type": "stream",
     "text": [
      "\n",
      "\n",
      "\n",
      "\n",
      "loss - 0.3550:   1%|          | 1269/196682 [01:50<6:56:27,  7.82it/s]\u001b[A\u001b[A\u001b[A\u001b[A\n",
      "\n",
      "\n",
      "\n",
      "loss - 0.3550:   1%|          | 1270/196682 [01:50<7:10:33,  7.56it/s]\u001b[A\u001b[A\u001b[A\u001b[A\n",
      "\n",
      "\n",
      "\n",
      "loss - 0.3192:   1%|          | 1270/196682 [01:51<7:10:33,  7.56it/s]\u001b[A\u001b[A\u001b[A\u001b[A\n",
      "\n",
      "\n",
      "\n",
      "loss - 0.3192:   1%|          | 1271/196682 [01:51<7:00:12,  7.75it/s]\u001b[A\u001b[A\u001b[A\u001b[A"
     ]
    },
    {
     "name": "stdout",
     "output_type": "stream",
     "text": [
      "x.size(1) is:99\n",
      "x.size(1) is:99\n"
     ]
    },
    {
     "name": "stderr",
     "output_type": "stream",
     "text": [
      "\n",
      "\n",
      "\n",
      "\n",
      "loss - 0.3230:   1%|          | 1271/196682 [01:51<7:00:12,  7.75it/s]\u001b[A\u001b[A\u001b[A\u001b[A\n",
      "\n",
      "\n",
      "\n",
      "loss - 0.3230:   1%|          | 1272/196682 [01:51<6:51:46,  7.91it/s]\u001b[A\u001b[A\u001b[A\u001b[A\n",
      "\n",
      "\n",
      "\n",
      "loss - 0.0872:   1%|          | 1272/196682 [01:51<6:51:46,  7.91it/s]\u001b[A\u001b[A\u001b[A\u001b[A\n",
      "\n",
      "\n",
      "\n",
      "loss - 0.0872:   1%|          | 1273/196682 [01:51<6:45:51,  8.02it/s]\u001b[A\u001b[A\u001b[A\u001b[A"
     ]
    },
    {
     "name": "stdout",
     "output_type": "stream",
     "text": [
      "x.size(1) is:99\n",
      "x.size(1) is:99\n"
     ]
    },
    {
     "name": "stderr",
     "output_type": "stream",
     "text": [
      "\n",
      "\n",
      "\n",
      "\n",
      "loss - 0.3906:   1%|          | 1273/196682 [01:51<6:45:51,  8.02it/s]\u001b[A\u001b[A\u001b[A\u001b[A\n",
      "\n",
      "\n",
      "\n",
      "loss - 0.3906:   1%|          | 1274/196682 [01:51<6:44:53,  8.04it/s]\u001b[A\u001b[A\u001b[A\u001b[A\n",
      "\n",
      "\n",
      "\n",
      "loss - 0.3654:   1%|          | 1274/196682 [01:51<6:44:53,  8.04it/s]\u001b[A\u001b[A\u001b[A\u001b[A\n",
      "\n",
      "\n",
      "\n",
      "loss - 0.3654:   1%|          | 1275/196682 [01:51<6:42:57,  8.08it/s]\u001b[A\u001b[A\u001b[A\u001b[A"
     ]
    },
    {
     "name": "stdout",
     "output_type": "stream",
     "text": [
      "x.size(1) is:99\n",
      "x.size(1) is:99\n"
     ]
    },
    {
     "name": "stderr",
     "output_type": "stream",
     "text": [
      "\n",
      "\n",
      "\n",
      "\n",
      "loss - 0.1015:   1%|          | 1275/196682 [01:51<6:42:57,  8.08it/s]\u001b[A\u001b[A\u001b[A\u001b[A\n",
      "\n",
      "\n",
      "\n",
      "loss - 0.1015:   1%|          | 1276/196682 [01:51<6:38:36,  8.17it/s]\u001b[A\u001b[A\u001b[A\u001b[A\n",
      "\n",
      "\n",
      "\n",
      "loss - 0.2815:   1%|          | 1276/196682 [01:51<6:38:36,  8.17it/s]\u001b[A\u001b[A\u001b[A\u001b[A\n",
      "\n",
      "\n",
      "\n",
      "loss - 0.2815:   1%|          | 1277/196682 [01:51<6:33:24,  8.28it/s]\u001b[A\u001b[A\u001b[A\u001b[A"
     ]
    },
    {
     "name": "stdout",
     "output_type": "stream",
     "text": [
      "x.size(1) is:99\n",
      "x.size(1) is:99\n"
     ]
    },
    {
     "name": "stderr",
     "output_type": "stream",
     "text": [
      "\n",
      "\n",
      "\n",
      "\n",
      "loss - 0.0913:   1%|          | 1277/196682 [01:51<6:33:24,  8.28it/s]\u001b[A\u001b[A\u001b[A\u001b[A\n",
      "\n",
      "\n",
      "\n",
      "loss - 0.0913:   1%|          | 1278/196682 [01:51<6:31:41,  8.31it/s]\u001b[A\u001b[A\u001b[A\u001b[A\n",
      "\n",
      "\n",
      "\n",
      "loss - 0.4014:   1%|          | 1278/196682 [01:52<6:31:41,  8.31it/s]\u001b[A\u001b[A\u001b[A\u001b[A\n",
      "\n",
      "\n",
      "\n",
      "loss - 0.4014:   1%|          | 1279/196682 [01:52<6:32:43,  8.29it/s]\u001b[A\u001b[A\u001b[A\u001b[A"
     ]
    },
    {
     "name": "stdout",
     "output_type": "stream",
     "text": [
      "x.size(1) is:99\n",
      "x.size(1) is:99\n"
     ]
    },
    {
     "name": "stderr",
     "output_type": "stream",
     "text": [
      "\n",
      "\n",
      "\n",
      "\n",
      "loss - 0.1604:   1%|          | 1279/196682 [01:52<6:32:43,  8.29it/s]\u001b[A\u001b[A\u001b[A\u001b[A\n",
      "\n",
      "\n",
      "\n",
      "loss - 0.1604:   1%|          | 1280/196682 [01:52<6:27:55,  8.40it/s]\u001b[A\u001b[A\u001b[A\u001b[A\n",
      "\n",
      "\n",
      "\n",
      "loss - 0.3460:   1%|          | 1280/196682 [01:52<6:27:55,  8.40it/s]\u001b[A\u001b[A\u001b[A\u001b[A\n",
      "\n",
      "\n",
      "\n",
      "loss - 0.3460:   1%|          | 1281/196682 [01:52<6:32:10,  8.30it/s]\u001b[A\u001b[A\u001b[A\u001b[A"
     ]
    },
    {
     "name": "stdout",
     "output_type": "stream",
     "text": [
      "x.size(1) is:99\n",
      "x.size(1) is:99\n"
     ]
    },
    {
     "name": "stderr",
     "output_type": "stream",
     "text": [
      "\n",
      "\n",
      "\n",
      "\n",
      "loss - 0.0539:   1%|          | 1281/196682 [01:52<6:32:10,  8.30it/s]\u001b[A\u001b[A\u001b[A\u001b[A\n",
      "\n",
      "\n",
      "\n",
      "loss - 0.0539:   1%|          | 1282/196682 [01:52<6:31:26,  8.32it/s]\u001b[A\u001b[A\u001b[A\u001b[A\n",
      "\n",
      "\n",
      "\n",
      "loss - 0.3329:   1%|          | 1282/196682 [01:52<6:31:26,  8.32it/s]\u001b[A\u001b[A\u001b[A\u001b[A\n",
      "\n",
      "\n",
      "\n",
      "loss - 0.3329:   1%|          | 1283/196682 [01:52<6:35:21,  8.24it/s]\u001b[A\u001b[A\u001b[A\u001b[A"
     ]
    },
    {
     "name": "stdout",
     "output_type": "stream",
     "text": [
      "x.size(1) is:99\n",
      "x.size(1) is:99\n"
     ]
    },
    {
     "name": "stderr",
     "output_type": "stream",
     "text": [
      "\n",
      "\n",
      "\n",
      "\n",
      "loss - 0.4015:   1%|          | 1283/196682 [01:52<6:35:21,  8.24it/s]\u001b[A\u001b[A\u001b[A\u001b[A\n",
      "\n",
      "\n",
      "\n",
      "loss - 0.4015:   1%|          | 1284/196682 [01:52<6:33:45,  8.27it/s]\u001b[A\u001b[A\u001b[A\u001b[A\n",
      "\n",
      "\n",
      "\n",
      "loss - 0.0971:   1%|          | 1284/196682 [01:52<6:33:45,  8.27it/s]\u001b[A\u001b[A\u001b[A\u001b[A\n",
      "\n",
      "\n",
      "\n",
      "loss - 0.0971:   1%|          | 1285/196682 [01:52<6:32:43,  8.29it/s]\u001b[A\u001b[A\u001b[A\u001b[A"
     ]
    },
    {
     "name": "stdout",
     "output_type": "stream",
     "text": [
      "x.size(1) is:99\n",
      "x.size(1) is:99\n"
     ]
    },
    {
     "name": "stderr",
     "output_type": "stream",
     "text": [
      "\n",
      "\n",
      "\n",
      "\n",
      "loss - 0.3373:   1%|          | 1285/196682 [01:52<6:32:43,  8.29it/s]\u001b[A\u001b[A\u001b[A\u001b[A\n",
      "\n",
      "\n",
      "\n",
      "loss - 0.3373:   1%|          | 1286/196682 [01:52<6:46:55,  8.00it/s]\u001b[A\u001b[A\u001b[A\u001b[A\n",
      "\n",
      "\n",
      "\n",
      "loss - 0.5638:   1%|          | 1286/196682 [01:52<6:46:55,  8.00it/s]\u001b[A\u001b[A\u001b[A\u001b[A\n",
      "\n",
      "\n",
      "\n",
      "loss - 0.5638:   1%|          | 1287/196682 [01:52<6:50:42,  7.93it/s]\u001b[A\u001b[A\u001b[A\u001b[A"
     ]
    },
    {
     "name": "stdout",
     "output_type": "stream",
     "text": [
      "x.size(1) is:99\n",
      "x.size(1) is:99\n"
     ]
    },
    {
     "name": "stderr",
     "output_type": "stream",
     "text": [
      "\n",
      "\n",
      "\n",
      "\n",
      "loss - 0.2710:   1%|          | 1287/196682 [01:53<6:50:42,  7.93it/s]\u001b[A\u001b[A\u001b[A\u001b[A\n",
      "\n",
      "\n",
      "\n",
      "loss - 0.2710:   1%|          | 1288/196682 [01:53<6:49:17,  7.96it/s]\u001b[A\u001b[A\u001b[A\u001b[A\n",
      "\n",
      "\n",
      "\n",
      "loss - 0.0780:   1%|          | 1288/196682 [01:53<6:49:17,  7.96it/s]\u001b[A\u001b[A\u001b[A\u001b[A\n",
      "\n",
      "\n",
      "\n",
      "loss - 0.0780:   1%|          | 1289/196682 [01:53<6:51:53,  7.91it/s]\u001b[A\u001b[A\u001b[A\u001b[A"
     ]
    },
    {
     "name": "stdout",
     "output_type": "stream",
     "text": [
      "x.size(1) is:99\n",
      "x.size(1) is:99\n"
     ]
    },
    {
     "name": "stderr",
     "output_type": "stream",
     "text": [
      "\n",
      "\n",
      "\n",
      "\n",
      "loss - 0.4348:   1%|          | 1289/196682 [01:53<6:51:53,  7.91it/s]\u001b[A\u001b[A\u001b[A\u001b[A\n",
      "\n",
      "\n",
      "\n",
      "loss - 0.4348:   1%|          | 1290/196682 [01:53<6:55:50,  7.83it/s]\u001b[A\u001b[A\u001b[A\u001b[A\n",
      "\n",
      "\n",
      "\n",
      "loss - 0.4292:   1%|          | 1290/196682 [01:53<6:55:50,  7.83it/s]\u001b[A\u001b[A\u001b[A\u001b[A\n",
      "\n",
      "\n",
      "\n",
      "loss - 0.4292:   1%|          | 1291/196682 [01:53<6:56:25,  7.82it/s]\u001b[A\u001b[A\u001b[A\u001b[A"
     ]
    },
    {
     "name": "stdout",
     "output_type": "stream",
     "text": [
      "x.size(1) is:99\n",
      "x.size(1) is:99\n"
     ]
    },
    {
     "name": "stderr",
     "output_type": "stream",
     "text": [
      "\n",
      "\n",
      "\n",
      "\n",
      "loss - 0.0632:   1%|          | 1291/196682 [01:53<6:56:25,  7.82it/s]\u001b[A\u001b[A\u001b[A\u001b[A\n",
      "\n",
      "\n",
      "\n",
      "loss - 0.0632:   1%|          | 1292/196682 [01:53<6:53:08,  7.88it/s]\u001b[A\u001b[A\u001b[A\u001b[A\n",
      "\n",
      "\n",
      "\n",
      "loss - 0.2913:   1%|          | 1292/196682 [01:53<6:53:08,  7.88it/s]\u001b[A\u001b[A\u001b[A\u001b[A\n",
      "\n",
      "\n",
      "\n",
      "loss - 0.2913:   1%|          | 1293/196682 [01:53<6:58:15,  7.79it/s]\u001b[A\u001b[A\u001b[A\u001b[A"
     ]
    },
    {
     "name": "stdout",
     "output_type": "stream",
     "text": [
      "x.size(1) is:99\n",
      "x.size(1) is:99\n"
     ]
    },
    {
     "name": "stderr",
     "output_type": "stream",
     "text": [
      "\n",
      "\n",
      "\n",
      "\n",
      "loss - 0.4412:   1%|          | 1293/196682 [01:53<6:58:15,  7.79it/s]\u001b[A\u001b[A\u001b[A\u001b[A\n",
      "\n",
      "\n",
      "\n",
      "loss - 0.4412:   1%|          | 1294/196682 [01:53<6:57:15,  7.80it/s]\u001b[A\u001b[A\u001b[A\u001b[A\n",
      "\n",
      "\n",
      "\n",
      "loss - 0.0840:   1%|          | 1294/196682 [01:54<6:57:15,  7.80it/s]\u001b[A\u001b[A\u001b[A\u001b[A\n",
      "\n",
      "\n",
      "\n",
      "loss - 0.0840:   1%|          | 1295/196682 [01:54<7:04:29,  7.67it/s]\u001b[A\u001b[A\u001b[A\u001b[A"
     ]
    },
    {
     "name": "stdout",
     "output_type": "stream",
     "text": [
      "x.size(1) is:99\n",
      "x.size(1) is:99\n"
     ]
    },
    {
     "name": "stderr",
     "output_type": "stream",
     "text": [
      "\n",
      "\n",
      "\n",
      "\n",
      "loss - 0.2570:   1%|          | 1295/196682 [01:54<7:04:29,  7.67it/s]\u001b[A\u001b[A\u001b[A\u001b[A\n",
      "\n",
      "\n",
      "\n",
      "loss - 0.2570:   1%|          | 1296/196682 [01:54<7:04:36,  7.67it/s]\u001b[A\u001b[A\u001b[A\u001b[A\n",
      "\n",
      "\n",
      "\n",
      "loss - 0.5334:   1%|          | 1296/196682 [01:54<7:04:36,  7.67it/s]\u001b[A\u001b[A\u001b[A\u001b[A\n",
      "\n",
      "\n",
      "\n",
      "loss - 0.5334:   1%|          | 1297/196682 [01:54<7:01:50,  7.72it/s]\u001b[A\u001b[A\u001b[A\u001b[A"
     ]
    },
    {
     "name": "stdout",
     "output_type": "stream",
     "text": [
      "x.size(1) is:99\n",
      "x.size(1) is:99\n"
     ]
    },
    {
     "name": "stderr",
     "output_type": "stream",
     "text": [
      "\n",
      "\n",
      "\n",
      "\n",
      "loss - 0.3262:   1%|          | 1297/196682 [01:54<7:01:50,  7.72it/s]\u001b[A\u001b[A\u001b[A\u001b[A\n",
      "\n",
      "\n",
      "\n",
      "loss - 0.3262:   1%|          | 1298/196682 [01:54<7:02:40,  7.70it/s]\u001b[A\u001b[A\u001b[A\u001b[A\n",
      "\n",
      "\n",
      "\n",
      "loss - 0.3004:   1%|          | 1298/196682 [01:54<7:02:40,  7.70it/s]\u001b[A\u001b[A\u001b[A\u001b[A\n",
      "\n",
      "\n",
      "\n",
      "loss - 0.3004:   1%|          | 1299/196682 [01:54<7:00:32,  7.74it/s]\u001b[A\u001b[A\u001b[A\u001b[A"
     ]
    },
    {
     "name": "stdout",
     "output_type": "stream",
     "text": [
      "x.size(1) is:99\n",
      "x.size(1) is:99\n"
     ]
    },
    {
     "name": "stderr",
     "output_type": "stream",
     "text": [
      "\n",
      "\n",
      "\n",
      "\n",
      "loss - 0.3929:   1%|          | 1299/196682 [01:54<7:00:32,  7.74it/s]\u001b[A\u001b[A\u001b[A\u001b[A\n",
      "\n",
      "\n",
      "\n",
      "loss - 0.3929:   1%|          | 1300/196682 [01:54<7:02:55,  7.70it/s]\u001b[A\u001b[A\u001b[A\u001b[A\n",
      "\n",
      "\n",
      "\n",
      "loss - 0.3041:   1%|          | 1300/196682 [01:54<7:02:55,  7.70it/s]\u001b[A\u001b[A\u001b[A\u001b[A\n",
      "\n",
      "\n",
      "\n",
      "loss - 0.3041:   1%|          | 1301/196682 [01:54<7:13:43,  7.51it/s]\u001b[A\u001b[A\u001b[A\u001b[A"
     ]
    },
    {
     "name": "stdout",
     "output_type": "stream",
     "text": [
      "x.size(1) is:99\n",
      "x.size(1) is:99\n"
     ]
    },
    {
     "name": "stderr",
     "output_type": "stream",
     "text": [
      "\n",
      "\n",
      "\n",
      "\n",
      "loss - 0.5012:   1%|          | 1301/196682 [01:54<7:13:43,  7.51it/s]\u001b[A\u001b[A\u001b[A\u001b[A\n",
      "\n",
      "\n",
      "\n",
      "loss - 0.5012:   1%|          | 1302/196682 [01:54<7:24:33,  7.32it/s]\u001b[A\u001b[A\u001b[A\u001b[A\n",
      "\n",
      "\n",
      "\n",
      "loss - 0.0789:   1%|          | 1302/196682 [01:55<7:24:33,  7.32it/s]\u001b[A\u001b[A\u001b[A\u001b[A\n",
      "\n",
      "\n",
      "\n",
      "loss - 0.0789:   1%|          | 1303/196682 [01:55<7:49:04,  6.94it/s]\u001b[A\u001b[A\u001b[A\u001b[A"
     ]
    },
    {
     "name": "stdout",
     "output_type": "stream",
     "text": [
      "x.size(1) is:99\n",
      "x.size(1) is:99\n"
     ]
    },
    {
     "name": "stderr",
     "output_type": "stream",
     "text": [
      "\n",
      "\n",
      "\n",
      "\n",
      "loss - 0.0865:   1%|          | 1303/196682 [01:55<7:49:04,  6.94it/s]\u001b[A\u001b[A\u001b[A\u001b[A\n",
      "\n",
      "\n",
      "\n",
      "loss - 0.0865:   1%|          | 1304/196682 [01:55<7:33:14,  7.18it/s]\u001b[A\u001b[A\u001b[A\u001b[A\n",
      "\n",
      "\n",
      "\n",
      "loss - 0.0636:   1%|          | 1304/196682 [01:55<7:33:14,  7.18it/s]\u001b[A\u001b[A\u001b[A\u001b[A\n",
      "\n",
      "\n",
      "\n",
      "loss - 0.0636:   1%|          | 1305/196682 [01:55<7:28:33,  7.26it/s]\u001b[A\u001b[A\u001b[A\u001b[A"
     ]
    },
    {
     "name": "stdout",
     "output_type": "stream",
     "text": [
      "x.size(1) is:99\n",
      "x.size(1) is:99\n"
     ]
    },
    {
     "name": "stderr",
     "output_type": "stream",
     "text": [
      "\n",
      "\n",
      "\n",
      "\n",
      "loss - 0.4160:   1%|          | 1305/196682 [01:55<7:28:33,  7.26it/s]\u001b[A\u001b[A\u001b[A\u001b[A\n",
      "\n",
      "\n",
      "\n",
      "loss - 0.4160:   1%|          | 1306/196682 [01:55<7:19:06,  7.42it/s]\u001b[A\u001b[A\u001b[A\u001b[A\n",
      "\n",
      "\n",
      "\n",
      "loss - 0.0615:   1%|          | 1306/196682 [01:55<7:19:06,  7.42it/s]\u001b[A\u001b[A\u001b[A\u001b[A\n",
      "\n",
      "\n",
      "\n",
      "loss - 0.0615:   1%|          | 1307/196682 [01:55<7:13:24,  7.51it/s]\u001b[A\u001b[A\u001b[A\u001b[A"
     ]
    },
    {
     "name": "stdout",
     "output_type": "stream",
     "text": [
      "x.size(1) is:99\n",
      "x.size(1) is:99\n"
     ]
    },
    {
     "name": "stderr",
     "output_type": "stream",
     "text": [
      "\n",
      "\n",
      "\n",
      "\n",
      "loss - 0.2826:   1%|          | 1307/196682 [01:55<7:13:24,  7.51it/s]\u001b[A\u001b[A\u001b[A\u001b[A\n",
      "\n",
      "\n",
      "\n",
      "loss - 0.2826:   1%|          | 1308/196682 [01:55<7:08:03,  7.61it/s]\u001b[A\u001b[A\u001b[A\u001b[A\n",
      "\n",
      "\n",
      "\n",
      "loss - 0.5944:   1%|          | 1308/196682 [01:55<7:08:03,  7.61it/s]\u001b[A\u001b[A\u001b[A\u001b[A\n",
      "\n",
      "\n",
      "\n",
      "loss - 0.5944:   1%|          | 1309/196682 [01:55<7:10:43,  7.56it/s]\u001b[A\u001b[A\u001b[A\u001b[A"
     ]
    },
    {
     "name": "stdout",
     "output_type": "stream",
     "text": [
      "x.size(1) is:99\n",
      "x.size(1) is:99\n"
     ]
    },
    {
     "name": "stderr",
     "output_type": "stream",
     "text": [
      "\n",
      "\n",
      "\n",
      "\n",
      "loss - 0.6003:   1%|          | 1309/196682 [01:56<7:10:43,  7.56it/s]\u001b[A\u001b[A\u001b[A\u001b[A\n",
      "\n",
      "\n",
      "\n",
      "loss - 0.6003:   1%|          | 1310/196682 [01:56<7:04:18,  7.67it/s]\u001b[A\u001b[A\u001b[A\u001b[A\n",
      "\n",
      "\n",
      "\n",
      "loss - 0.3016:   1%|          | 1310/196682 [01:56<7:04:18,  7.67it/s]\u001b[A\u001b[A\u001b[A\u001b[A\n",
      "\n",
      "\n",
      "\n",
      "loss - 0.3016:   1%|          | 1311/196682 [01:56<7:03:14,  7.69it/s]\u001b[A\u001b[A\u001b[A\u001b[A"
     ]
    },
    {
     "name": "stdout",
     "output_type": "stream",
     "text": [
      "x.size(1) is:99\n",
      "x.size(1) is:99\n"
     ]
    },
    {
     "name": "stderr",
     "output_type": "stream",
     "text": [
      "\n",
      "\n",
      "\n",
      "\n",
      "loss - 0.1889:   1%|          | 1311/196682 [01:56<7:03:14,  7.69it/s]\u001b[A\u001b[A\u001b[A\u001b[A\n",
      "\n",
      "\n",
      "\n",
      "loss - 0.1889:   1%|          | 1312/196682 [01:56<6:59:31,  7.76it/s]\u001b[A\u001b[A\u001b[A\u001b[A\n",
      "\n",
      "\n",
      "\n",
      "loss - 0.3772:   1%|          | 1312/196682 [01:56<6:59:31,  7.76it/s]\u001b[A\u001b[A\u001b[A\u001b[A\n",
      "\n",
      "\n",
      "\n",
      "loss - 0.3772:   1%|          | 1313/196682 [01:56<7:02:03,  7.71it/s]\u001b[A\u001b[A\u001b[A\u001b[A"
     ]
    },
    {
     "name": "stdout",
     "output_type": "stream",
     "text": [
      "x.size(1) is:99\n",
      "x.size(1) is:99\n"
     ]
    },
    {
     "name": "stderr",
     "output_type": "stream",
     "text": [
      "\n",
      "\n",
      "\n",
      "\n",
      "loss - 0.3691:   1%|          | 1313/196682 [01:56<7:02:03,  7.71it/s]\u001b[A\u001b[A\u001b[A\u001b[A\n",
      "\n",
      "\n",
      "\n",
      "loss - 0.3691:   1%|          | 1314/196682 [01:56<6:59:56,  7.75it/s]\u001b[A\u001b[A\u001b[A\u001b[A\n",
      "\n",
      "\n",
      "\n",
      "loss - 0.5005:   1%|          | 1314/196682 [01:56<6:59:56,  7.75it/s]\u001b[A\u001b[A\u001b[A\u001b[A\n",
      "\n",
      "\n",
      "\n",
      "loss - 0.5005:   1%|          | 1315/196682 [01:56<7:11:57,  7.54it/s]\u001b[A\u001b[A\u001b[A\u001b[A"
     ]
    },
    {
     "name": "stdout",
     "output_type": "stream",
     "text": [
      "x.size(1) is:99\n",
      "x.size(1) is:99\n"
     ]
    },
    {
     "name": "stderr",
     "output_type": "stream",
     "text": [
      "\n",
      "\n",
      "\n",
      "\n",
      "loss - 0.0824:   1%|          | 1315/196682 [01:56<7:11:57,  7.54it/s]\u001b[A\u001b[A\u001b[A\u001b[A\n",
      "\n",
      "\n",
      "\n",
      "loss - 0.0824:   1%|          | 1316/196682 [01:56<7:05:54,  7.64it/s]\u001b[A\u001b[A\u001b[A\u001b[A\n",
      "\n",
      "\n",
      "\n",
      "loss - 0.5285:   1%|          | 1316/196682 [01:56<7:05:54,  7.64it/s]\u001b[A\u001b[A\u001b[A\u001b[A\n",
      "\n",
      "\n",
      "\n",
      "loss - 0.5285:   1%|          | 1317/196682 [01:56<7:13:24,  7.51it/s]\u001b[A\u001b[A\u001b[A\u001b[A"
     ]
    },
    {
     "name": "stdout",
     "output_type": "stream",
     "text": [
      "x.size(1) is:99\n",
      "x.size(1) is:99\n"
     ]
    },
    {
     "name": "stderr",
     "output_type": "stream",
     "text": [
      "\n",
      "\n",
      "\n",
      "\n",
      "loss - 0.5264:   1%|          | 1317/196682 [01:57<7:13:24,  7.51it/s]\u001b[A\u001b[A\u001b[A\u001b[A\n",
      "\n",
      "\n",
      "\n",
      "loss - 0.5264:   1%|          | 1318/196682 [01:57<7:25:31,  7.31it/s]\u001b[A\u001b[A\u001b[A\u001b[A\n",
      "\n",
      "\n",
      "\n",
      "loss - 0.3673:   1%|          | 1318/196682 [01:57<7:25:31,  7.31it/s]\u001b[A\u001b[A\u001b[A\u001b[A\n",
      "\n",
      "\n",
      "\n",
      "loss - 0.3673:   1%|          | 1319/196682 [01:57<7:14:26,  7.49it/s]\u001b[A\u001b[A\u001b[A\u001b[A"
     ]
    },
    {
     "name": "stdout",
     "output_type": "stream",
     "text": [
      "x.size(1) is:99\n",
      "x.size(1) is:99\n"
     ]
    },
    {
     "name": "stderr",
     "output_type": "stream",
     "text": [
      "\n",
      "\n",
      "\n",
      "\n",
      "loss - 0.3061:   1%|          | 1319/196682 [01:57<7:14:26,  7.49it/s]\u001b[A\u001b[A\u001b[A\u001b[A\n",
      "\n",
      "\n",
      "\n",
      "loss - 0.3061:   1%|          | 1320/196682 [01:57<7:08:57,  7.59it/s]\u001b[A\u001b[A\u001b[A\u001b[A\n",
      "\n",
      "\n",
      "\n",
      "loss - 0.2796:   1%|          | 1320/196682 [01:57<7:08:57,  7.59it/s]\u001b[A\u001b[A\u001b[A\u001b[A\n",
      "\n",
      "\n",
      "\n",
      "loss - 0.2796:   1%|          | 1321/196682 [01:57<7:04:50,  7.66it/s]\u001b[A\u001b[A\u001b[A\u001b[A"
     ]
    },
    {
     "name": "stdout",
     "output_type": "stream",
     "text": [
      "x.size(1) is:99\n",
      "x.size(1) is:99\n"
     ]
    },
    {
     "name": "stderr",
     "output_type": "stream",
     "text": [
      "\n",
      "\n",
      "\n",
      "\n",
      "loss - 0.0467:   1%|          | 1321/196682 [01:57<7:04:50,  7.66it/s]\u001b[A\u001b[A\u001b[A\u001b[A\n",
      "\n",
      "\n",
      "\n",
      "loss - 0.0467:   1%|          | 1322/196682 [01:57<7:03:08,  7.69it/s]\u001b[A\u001b[A\u001b[A\u001b[A\n",
      "\n",
      "\n",
      "\n",
      "loss - 0.3006:   1%|          | 1322/196682 [01:57<7:03:08,  7.69it/s]\u001b[A\u001b[A\u001b[A\u001b[A\n",
      "\n",
      "\n",
      "\n",
      "loss - 0.3006:   1%|          | 1323/196682 [01:57<6:56:19,  7.82it/s]\u001b[A\u001b[A\u001b[A\u001b[A"
     ]
    },
    {
     "name": "stdout",
     "output_type": "stream",
     "text": [
      "x.size(1) is:99\n",
      "x.size(1) is:99\n"
     ]
    },
    {
     "name": "stderr",
     "output_type": "stream",
     "text": [
      "\n",
      "\n",
      "\n",
      "\n",
      "loss - 0.1452:   1%|          | 1323/196682 [01:57<6:56:19,  7.82it/s]\u001b[A\u001b[A\u001b[A\u001b[A\n",
      "\n",
      "\n",
      "\n",
      "loss - 0.1452:   1%|          | 1324/196682 [01:57<6:56:49,  7.81it/s]\u001b[A\u001b[A\u001b[A\u001b[A\n",
      "\n",
      "\n",
      "\n",
      "loss - 0.4415:   1%|          | 1324/196682 [01:57<6:56:49,  7.81it/s]\u001b[A\u001b[A\u001b[A\u001b[A\n",
      "\n",
      "\n",
      "\n",
      "loss - 0.4415:   1%|          | 1325/196682 [01:57<6:56:21,  7.82it/s]\u001b[A\u001b[A\u001b[A\u001b[A"
     ]
    },
    {
     "name": "stdout",
     "output_type": "stream",
     "text": [
      "x.size(1) is:99\n",
      "x.size(1) is:99\n"
     ]
    },
    {
     "name": "stderr",
     "output_type": "stream",
     "text": [
      "\n",
      "\n",
      "\n",
      "\n",
      "loss - 0.2885:   1%|          | 1325/196682 [01:58<6:56:21,  7.82it/s]\u001b[A\u001b[A\u001b[A\u001b[A\n",
      "\n",
      "\n",
      "\n",
      "loss - 0.2885:   1%|          | 1326/196682 [01:58<6:57:39,  7.80it/s]\u001b[A\u001b[A\u001b[A\u001b[A\n",
      "\n",
      "\n",
      "\n",
      "loss - 0.3299:   1%|          | 1326/196682 [01:58<6:57:39,  7.80it/s]\u001b[A\u001b[A\u001b[A\u001b[A\n",
      "\n",
      "\n",
      "\n",
      "loss - 0.3299:   1%|          | 1327/196682 [01:58<6:59:05,  7.77it/s]\u001b[A\u001b[A\u001b[A\u001b[A"
     ]
    },
    {
     "name": "stdout",
     "output_type": "stream",
     "text": [
      "x.size(1) is:99\n",
      "x.size(1) is:99\n"
     ]
    },
    {
     "name": "stderr",
     "output_type": "stream",
     "text": [
      "\n",
      "\n",
      "\n",
      "\n",
      "loss - 0.1926:   1%|          | 1327/196682 [01:58<6:59:05,  7.77it/s]\u001b[A\u001b[A\u001b[A\u001b[A\n",
      "\n",
      "\n",
      "\n",
      "loss - 0.1926:   1%|          | 1328/196682 [01:58<6:58:06,  7.79it/s]\u001b[A\u001b[A\u001b[A\u001b[A\n",
      "\n",
      "\n",
      "\n",
      "loss - 0.1107:   1%|          | 1328/196682 [01:58<6:58:06,  7.79it/s]\u001b[A\u001b[A\u001b[A\u001b[A\n",
      "\n",
      "\n",
      "\n",
      "loss - 0.1107:   1%|          | 1329/196682 [01:58<6:58:52,  7.77it/s]\u001b[A\u001b[A\u001b[A\u001b[A"
     ]
    },
    {
     "name": "stdout",
     "output_type": "stream",
     "text": [
      "x.size(1) is:99\n",
      "x.size(1) is:99\n"
     ]
    },
    {
     "name": "stderr",
     "output_type": "stream",
     "text": [
      "\n",
      "\n",
      "\n",
      "\n",
      "loss - 0.1827:   1%|          | 1329/196682 [01:58<6:58:52,  7.77it/s]\u001b[A\u001b[A\u001b[A\u001b[A\n",
      "\n",
      "\n",
      "\n",
      "loss - 0.1827:   1%|          | 1330/196682 [01:58<6:57:24,  7.80it/s]\u001b[A\u001b[A\u001b[A\u001b[A\n",
      "\n",
      "\n",
      "\n",
      "loss - 0.1456:   1%|          | 1330/196682 [01:58<6:57:24,  7.80it/s]\u001b[A\u001b[A\u001b[A\u001b[A\n",
      "\n",
      "\n",
      "\n",
      "loss - 0.1456:   1%|          | 1331/196682 [01:58<6:55:42,  7.83it/s]\u001b[A\u001b[A\u001b[A\u001b[A"
     ]
    },
    {
     "name": "stdout",
     "output_type": "stream",
     "text": [
      "x.size(1) is:99\n",
      "x.size(1) is:99\n"
     ]
    },
    {
     "name": "stderr",
     "output_type": "stream",
     "text": [
      "\n",
      "\n",
      "\n",
      "\n",
      "loss - 0.1509:   1%|          | 1331/196682 [01:58<6:55:42,  7.83it/s]\u001b[A\u001b[A\u001b[A\u001b[A\n",
      "\n",
      "\n",
      "\n",
      "loss - 0.1509:   1%|          | 1332/196682 [01:58<6:52:22,  7.90it/s]\u001b[A\u001b[A\u001b[A\u001b[A\n",
      "\n",
      "\n",
      "\n",
      "loss - 0.3110:   1%|          | 1332/196682 [01:59<6:52:22,  7.90it/s]\u001b[A\u001b[A\u001b[A\u001b[A\n",
      "\n",
      "\n",
      "\n",
      "loss - 0.3110:   1%|          | 1333/196682 [01:59<6:59:21,  7.76it/s]\u001b[A\u001b[A\u001b[A\u001b[A"
     ]
    },
    {
     "name": "stdout",
     "output_type": "stream",
     "text": [
      "x.size(1) is:99\n",
      "x.size(1) is:99\n"
     ]
    },
    {
     "name": "stderr",
     "output_type": "stream",
     "text": [
      "\n",
      "\n",
      "\n",
      "\n",
      "loss - 0.0279:   1%|          | 1333/196682 [01:59<6:59:21,  7.76it/s]\u001b[A\u001b[A\u001b[A\u001b[A\n",
      "\n",
      "\n",
      "\n",
      "loss - 0.0279:   1%|          | 1334/196682 [01:59<7:19:31,  7.41it/s]\u001b[A\u001b[A\u001b[A\u001b[A\n",
      "\n",
      "\n",
      "\n",
      "loss - 0.1004:   1%|          | 1334/196682 [01:59<7:19:31,  7.41it/s]\u001b[A\u001b[A\u001b[A\u001b[A\n",
      "\n",
      "\n",
      "\n",
      "loss - 0.1004:   1%|          | 1335/196682 [01:59<7:17:59,  7.43it/s]\u001b[A\u001b[A\u001b[A\u001b[A"
     ]
    },
    {
     "name": "stdout",
     "output_type": "stream",
     "text": [
      "x.size(1) is:99\n",
      "x.size(1) is:99\n"
     ]
    },
    {
     "name": "stderr",
     "output_type": "stream",
     "text": [
      "\n",
      "\n",
      "\n",
      "\n",
      "loss - 0.3398:   1%|          | 1335/196682 [01:59<7:17:59,  7.43it/s]\u001b[A\u001b[A\u001b[A\u001b[A\n",
      "\n",
      "\n",
      "\n",
      "loss - 0.3398:   1%|          | 1336/196682 [01:59<7:10:28,  7.56it/s]\u001b[A\u001b[A\u001b[A\u001b[A\n",
      "\n",
      "\n",
      "\n",
      "loss - 0.2559:   1%|          | 1336/196682 [01:59<7:10:28,  7.56it/s]\u001b[A\u001b[A\u001b[A\u001b[A\n",
      "\n",
      "\n",
      "\n",
      "loss - 0.2559:   1%|          | 1337/196682 [01:59<7:11:38,  7.54it/s]\u001b[A\u001b[A\u001b[A\u001b[A"
     ]
    },
    {
     "name": "stdout",
     "output_type": "stream",
     "text": [
      "x.size(1) is:99\n",
      "x.size(1) is:99\n"
     ]
    },
    {
     "name": "stderr",
     "output_type": "stream",
     "text": [
      "\n",
      "\n",
      "\n",
      "\n",
      "loss - 0.1002:   1%|          | 1337/196682 [01:59<7:11:38,  7.54it/s]\u001b[A\u001b[A\u001b[A\u001b[A\n",
      "\n",
      "\n",
      "\n",
      "loss - 0.1002:   1%|          | 1338/196682 [01:59<7:02:39,  7.70it/s]\u001b[A\u001b[A\u001b[A\u001b[A\n",
      "\n",
      "\n",
      "\n",
      "loss - 0.0898:   1%|          | 1338/196682 [01:59<7:02:39,  7.70it/s]\u001b[A\u001b[A\u001b[A\u001b[A\n",
      "\n",
      "\n",
      "\n",
      "loss - 0.0898:   1%|          | 1339/196682 [01:59<6:56:24,  7.82it/s]\u001b[A\u001b[A\u001b[A\u001b[A"
     ]
    },
    {
     "name": "stdout",
     "output_type": "stream",
     "text": [
      "x.size(1) is:99\n",
      "x.size(1) is:99\n"
     ]
    },
    {
     "name": "stderr",
     "output_type": "stream",
     "text": [
      "\n",
      "\n",
      "\n",
      "\n",
      "loss - 0.4692:   1%|          | 1339/196682 [01:59<6:56:24,  7.82it/s]\u001b[A\u001b[A\u001b[A\u001b[A\n",
      "\n",
      "\n",
      "\n",
      "loss - 0.4692:   1%|          | 1340/196682 [01:59<6:56:04,  7.82it/s]\u001b[A\u001b[A\u001b[A\u001b[A\n",
      "\n",
      "\n",
      "\n",
      "loss - 0.2949:   1%|          | 1340/196682 [02:00<6:56:04,  7.82it/s]\u001b[A\u001b[A\u001b[A\u001b[A\n",
      "\n",
      "\n",
      "\n",
      "loss - 0.2949:   1%|          | 1341/196682 [02:00<7:06:29,  7.63it/s]\u001b[A\u001b[A\u001b[A\u001b[A"
     ]
    },
    {
     "name": "stdout",
     "output_type": "stream",
     "text": [
      "x.size(1) is:99\n",
      "x.size(1) is:99\n"
     ]
    },
    {
     "name": "stderr",
     "output_type": "stream",
     "text": [
      "\n",
      "\n",
      "\n",
      "\n",
      "loss - 0.3037:   1%|          | 1341/196682 [02:00<7:06:29,  7.63it/s]\u001b[A\u001b[A\u001b[A\u001b[A\n",
      "\n",
      "\n",
      "\n",
      "loss - 0.3037:   1%|          | 1342/196682 [02:00<7:13:02,  7.52it/s]\u001b[A\u001b[A\u001b[A\u001b[A\n",
      "\n",
      "\n",
      "\n",
      "loss - 0.1085:   1%|          | 1342/196682 [02:00<7:13:02,  7.52it/s]\u001b[A\u001b[A\u001b[A\u001b[A\n",
      "\n",
      "\n",
      "\n",
      "loss - 0.1085:   1%|          | 1343/196682 [02:00<7:16:03,  7.47it/s]\u001b[A\u001b[A\u001b[A\u001b[A"
     ]
    },
    {
     "name": "stdout",
     "output_type": "stream",
     "text": [
      "x.size(1) is:99\n",
      "x.size(1) is:99\n"
     ]
    },
    {
     "name": "stderr",
     "output_type": "stream",
     "text": [
      "\n",
      "\n",
      "\n",
      "\n",
      "loss - 0.5317:   1%|          | 1343/196682 [02:00<7:16:03,  7.47it/s]\u001b[A\u001b[A\u001b[A\u001b[A\n",
      "\n",
      "\n",
      "\n",
      "loss - 0.5317:   1%|          | 1344/196682 [02:00<7:12:28,  7.53it/s]\u001b[A\u001b[A\u001b[A\u001b[A\n",
      "\n",
      "\n",
      "\n",
      "loss - 0.1504:   1%|          | 1344/196682 [02:00<7:12:28,  7.53it/s]\u001b[A\u001b[A\u001b[A\u001b[A\n",
      "\n",
      "\n",
      "\n",
      "loss - 0.1504:   1%|          | 1345/196682 [02:00<7:15:30,  7.48it/s]\u001b[A\u001b[A\u001b[A\u001b[A"
     ]
    },
    {
     "name": "stdout",
     "output_type": "stream",
     "text": [
      "x.size(1) is:99\n",
      "x.size(1) is:99\n"
     ]
    },
    {
     "name": "stderr",
     "output_type": "stream",
     "text": [
      "\n",
      "\n",
      "\n",
      "\n",
      "loss - 0.3255:   1%|          | 1345/196682 [02:00<7:15:30,  7.48it/s]\u001b[A\u001b[A\u001b[A\u001b[A\n",
      "\n",
      "\n",
      "\n",
      "loss - 0.3255:   1%|          | 1346/196682 [02:00<7:16:15,  7.46it/s]\u001b[A\u001b[A\u001b[A\u001b[A\n",
      "\n",
      "\n",
      "\n",
      "loss - 0.2836:   1%|          | 1346/196682 [02:00<7:16:15,  7.46it/s]\u001b[A\u001b[A\u001b[A\u001b[A\n",
      "\n",
      "\n",
      "\n",
      "loss - 0.2836:   1%|          | 1347/196682 [02:00<7:15:59,  7.47it/s]\u001b[A\u001b[A\u001b[A\u001b[A"
     ]
    },
    {
     "name": "stdout",
     "output_type": "stream",
     "text": [
      "x.size(1) is:99\n",
      "x.size(1) is:99\n"
     ]
    },
    {
     "name": "stderr",
     "output_type": "stream",
     "text": [
      "\n",
      "\n",
      "\n",
      "\n",
      "loss - 0.0642:   1%|          | 1347/196682 [02:01<7:15:59,  7.47it/s]\u001b[A\u001b[A\u001b[A\u001b[A\n",
      "\n",
      "\n",
      "\n",
      "loss - 0.0642:   1%|          | 1348/196682 [02:01<7:15:21,  7.48it/s]\u001b[A\u001b[A\u001b[A\u001b[A\n",
      "\n",
      "\n",
      "\n",
      "loss - 0.0423:   1%|          | 1348/196682 [02:01<7:15:21,  7.48it/s]\u001b[A\u001b[A\u001b[A\u001b[A\n",
      "\n",
      "\n",
      "\n",
      "loss - 0.0423:   1%|          | 1349/196682 [02:01<8:22:19,  6.48it/s]\u001b[A\u001b[A\u001b[A\u001b[A"
     ]
    },
    {
     "name": "stdout",
     "output_type": "stream",
     "text": [
      "x.size(1) is:99\n"
     ]
    },
    {
     "name": "stderr",
     "output_type": "stream",
     "text": [
      "\n",
      "\n",
      "\n",
      "\n",
      "loss - 0.1913:   1%|          | 1349/196682 [02:01<8:22:19,  6.48it/s]\u001b[A\u001b[A\u001b[A\u001b[A\n",
      "\n",
      "\n",
      "\n",
      "loss - 0.1913:   1%|          | 1350/196682 [02:01<8:41:13,  6.25it/s]\u001b[A\u001b[A\u001b[A\u001b[A"
     ]
    },
    {
     "name": "stdout",
     "output_type": "stream",
     "text": [
      "x.size(1) is:99\n",
      "x.size(1) is:99\n"
     ]
    },
    {
     "name": "stderr",
     "output_type": "stream",
     "text": [
      "\n",
      "\n",
      "\n",
      "\n",
      "loss - 0.5816:   1%|          | 1350/196682 [02:01<8:41:13,  6.25it/s]\u001b[A\u001b[A\u001b[A\u001b[A\n",
      "\n",
      "\n",
      "\n",
      "loss - 0.5816:   1%|          | 1351/196682 [02:01<8:34:44,  6.32it/s]\u001b[A\u001b[A\u001b[A\u001b[A\n",
      "\n",
      "\n",
      "\n",
      "loss - 0.4175:   1%|          | 1351/196682 [02:01<8:34:44,  6.32it/s]\u001b[A\u001b[A\u001b[A\u001b[A\n",
      "\n",
      "\n",
      "\n",
      "loss - 0.4175:   1%|          | 1352/196682 [02:01<8:26:41,  6.42it/s]\u001b[A\u001b[A\u001b[A\u001b[A"
     ]
    },
    {
     "name": "stdout",
     "output_type": "stream",
     "text": [
      "x.size(1) is:99\n",
      "x.size(1) is:99\n"
     ]
    },
    {
     "name": "stderr",
     "output_type": "stream",
     "text": [
      "\n",
      "\n",
      "\n",
      "\n",
      "loss - 0.0451:   1%|          | 1352/196682 [02:01<8:26:41,  6.42it/s]\u001b[A\u001b[A\u001b[A\u001b[A\n",
      "\n",
      "\n",
      "\n",
      "loss - 0.0451:   1%|          | 1353/196682 [02:01<8:33:14,  6.34it/s]\u001b[A\u001b[A\u001b[A\u001b[A\n",
      "\n",
      "\n",
      "\n",
      "loss - 0.4787:   1%|          | 1353/196682 [02:02<8:33:14,  6.34it/s]\u001b[A\u001b[A\u001b[A\u001b[A\n",
      "\n",
      "\n",
      "\n",
      "loss - 0.4787:   1%|          | 1354/196682 [02:02<8:32:27,  6.35it/s]\u001b[A\u001b[A\u001b[A\u001b[A"
     ]
    },
    {
     "name": "stdout",
     "output_type": "stream",
     "text": [
      "x.size(1) is:99\n",
      "x.size(1) is:99\n"
     ]
    },
    {
     "name": "stderr",
     "output_type": "stream",
     "text": [
      "\n",
      "\n",
      "\n",
      "\n",
      "loss - 0.0325:   1%|          | 1354/196682 [02:02<8:32:27,  6.35it/s]\u001b[A\u001b[A\u001b[A\u001b[A\n",
      "\n",
      "\n",
      "\n",
      "loss - 0.0325:   1%|          | 1355/196682 [02:02<8:27:50,  6.41it/s]\u001b[A\u001b[A\u001b[A\u001b[A\n",
      "\n",
      "\n",
      "\n",
      "loss - 0.1641:   1%|          | 1355/196682 [02:02<8:27:50,  6.41it/s]\u001b[A\u001b[A\u001b[A\u001b[A\n",
      "\n",
      "\n",
      "\n",
      "loss - 0.1641:   1%|          | 1356/196682 [02:02<8:33:58,  6.33it/s]\u001b[A\u001b[A\u001b[A\u001b[A"
     ]
    },
    {
     "name": "stdout",
     "output_type": "stream",
     "text": [
      "x.size(1) is:99\n",
      "x.size(1) is:99\n"
     ]
    },
    {
     "name": "stderr",
     "output_type": "stream",
     "text": [
      "\n",
      "\n",
      "\n",
      "\n",
      "loss - 0.0419:   1%|          | 1356/196682 [02:02<8:33:58,  6.33it/s]\u001b[A\u001b[A\u001b[A\u001b[A\n",
      "\n",
      "\n",
      "\n",
      "loss - 0.0419:   1%|          | 1357/196682 [02:02<8:19:57,  6.51it/s]\u001b[A\u001b[A\u001b[A\u001b[A\n",
      "\n",
      "\n",
      "\n",
      "loss - 0.0660:   1%|          | 1357/196682 [02:02<8:19:57,  6.51it/s]\u001b[A\u001b[A\u001b[A\u001b[A\n",
      "\n",
      "\n",
      "\n",
      "loss - 0.0660:   1%|          | 1358/196682 [02:02<8:08:36,  6.66it/s]\u001b[A\u001b[A\u001b[A\u001b[A"
     ]
    },
    {
     "name": "stdout",
     "output_type": "stream",
     "text": [
      "x.size(1) is:99\n",
      "x.size(1) is:99\n"
     ]
    },
    {
     "name": "stderr",
     "output_type": "stream",
     "text": [
      "\n",
      "\n",
      "\n",
      "\n",
      "loss - 0.6002:   1%|          | 1358/196682 [02:02<8:08:36,  6.66it/s]\u001b[A\u001b[A\u001b[A\u001b[A\n",
      "\n",
      "\n",
      "\n",
      "loss - 0.6002:   1%|          | 1359/196682 [02:02<7:55:06,  6.85it/s]\u001b[A\u001b[A\u001b[A\u001b[A\n",
      "\n",
      "\n",
      "\n",
      "loss - 0.0856:   1%|          | 1359/196682 [02:02<7:55:06,  6.85it/s]\u001b[A\u001b[A\u001b[A\u001b[A\n",
      "\n",
      "\n",
      "\n",
      "loss - 0.0856:   1%|          | 1360/196682 [02:02<7:51:24,  6.91it/s]\u001b[A\u001b[A\u001b[A\u001b[A"
     ]
    },
    {
     "name": "stdout",
     "output_type": "stream",
     "text": [
      "x.size(1) is:99\n",
      "x.size(1) is:99\n"
     ]
    },
    {
     "name": "stderr",
     "output_type": "stream",
     "text": [
      "\n",
      "\n",
      "\n",
      "\n",
      "loss - 0.0837:   1%|          | 1360/196682 [02:03<7:51:24,  6.91it/s]\u001b[A\u001b[A\u001b[A\u001b[A\n",
      "\n",
      "\n",
      "\n",
      "loss - 0.0837:   1%|          | 1361/196682 [02:03<7:42:10,  7.04it/s]\u001b[A\u001b[A\u001b[A\u001b[A\n",
      "\n",
      "\n",
      "\n",
      "loss - 0.3356:   1%|          | 1361/196682 [02:03<7:42:10,  7.04it/s]\u001b[A\u001b[A\u001b[A\u001b[A\n",
      "\n",
      "\n",
      "\n",
      "loss - 0.3356:   1%|          | 1362/196682 [02:03<7:42:07,  7.04it/s]\u001b[A\u001b[A\u001b[A\u001b[A"
     ]
    },
    {
     "name": "stdout",
     "output_type": "stream",
     "text": [
      "x.size(1) is:99\n",
      "x.size(1) is:99\n"
     ]
    },
    {
     "name": "stderr",
     "output_type": "stream",
     "text": [
      "\n",
      "\n",
      "\n",
      "\n",
      "loss - 0.5691:   1%|          | 1362/196682 [02:03<7:42:07,  7.04it/s]\u001b[A\u001b[A\u001b[A\u001b[A\n",
      "\n",
      "\n",
      "\n",
      "loss - 0.5691:   1%|          | 1363/196682 [02:03<7:59:18,  6.79it/s]\u001b[A\u001b[A\u001b[A\u001b[A"
     ]
    },
    {
     "name": "stdout",
     "output_type": "stream",
     "text": [
      "x.size(1) is:99\n"
     ]
    },
    {
     "ename": "KeyboardInterrupt",
     "evalue": "",
     "output_type": "error",
     "traceback": [
      "\u001b[0;31m---------------------------------------------------------------------------\u001b[0m",
      "\u001b[0;31mKeyboardInterrupt\u001b[0m                         Traceback (most recent call last)",
      "\u001b[0;32m<ipython-input-85-06551abdee22>\u001b[0m in \u001b[0;36m<module>\u001b[0;34m()\u001b[0m\n\u001b[1;32m      2\u001b[0m \u001b[0mbest_auc\u001b[0m \u001b[0;34m=\u001b[0m \u001b[0;36m0.0\u001b[0m\u001b[0;34m\u001b[0m\u001b[0;34m\u001b[0m\u001b[0m\n\u001b[1;32m      3\u001b[0m \u001b[0;32mfor\u001b[0m \u001b[0mepoch\u001b[0m \u001b[0;32min\u001b[0m \u001b[0mrange\u001b[0m\u001b[0;34m(\u001b[0m\u001b[0mepochs\u001b[0m\u001b[0;34m)\u001b[0m\u001b[0;34m:\u001b[0m\u001b[0;34m\u001b[0m\u001b[0;34m\u001b[0m\u001b[0m\n\u001b[0;32m----> 4\u001b[0;31m     \u001b[0mloss\u001b[0m\u001b[0;34m,\u001b[0m \u001b[0macc\u001b[0m\u001b[0;34m,\u001b[0m \u001b[0mauc\u001b[0m \u001b[0;34m=\u001b[0m \u001b[0mtrain_epoch\u001b[0m\u001b[0;34m(\u001b[0m\u001b[0mmodel\u001b[0m\u001b[0;34m,\u001b[0m \u001b[0mdataloader\u001b[0m\u001b[0;34m,\u001b[0m \u001b[0moptimizer\u001b[0m\u001b[0;34m,\u001b[0m \u001b[0mcriterion\u001b[0m\u001b[0;34m,\u001b[0m \u001b[0mdevice\u001b[0m\u001b[0;34m)\u001b[0m\u001b[0;34m\u001b[0m\u001b[0;34m\u001b[0m\u001b[0m\n\u001b[0m\u001b[1;32m      5\u001b[0m     \u001b[0mprint\u001b[0m\u001b[0;34m(\u001b[0m\u001b[0;34m\"epoch - {} train_loss - {:.2f} acc - {:.3f} auc - {:.3f}\"\u001b[0m\u001b[0;34m.\u001b[0m\u001b[0mformat\u001b[0m\u001b[0;34m(\u001b[0m\u001b[0mepoch\u001b[0m\u001b[0;34m,\u001b[0m \u001b[0mloss\u001b[0m\u001b[0;34m,\u001b[0m \u001b[0macc\u001b[0m\u001b[0;34m,\u001b[0m \u001b[0mauc\u001b[0m\u001b[0;34m)\u001b[0m\u001b[0;34m)\u001b[0m\u001b[0;34m\u001b[0m\u001b[0;34m\u001b[0m\u001b[0m\n\u001b[1;32m      6\u001b[0m \u001b[0;34m\u001b[0m\u001b[0m\n",
      "\u001b[0;32m<ipython-input-82-a126c9128473>\u001b[0m in \u001b[0;36mtrain_epoch\u001b[0;34m(model, train_iterator, optim, criterion, device)\u001b[0m\n\u001b[1;32m     21\u001b[0m         \u001b[0mloss\u001b[0m \u001b[0;34m=\u001b[0m \u001b[0mcriterion\u001b[0m\u001b[0;34m(\u001b[0m\u001b[0moutput\u001b[0m\u001b[0;34m,\u001b[0m \u001b[0mlabel\u001b[0m\u001b[0;34m)\u001b[0m\u001b[0;34m\u001b[0m\u001b[0;34m\u001b[0m\u001b[0m\n\u001b[1;32m     22\u001b[0m         \u001b[0mloss\u001b[0m\u001b[0;34m.\u001b[0m\u001b[0mbackward\u001b[0m\u001b[0;34m(\u001b[0m\u001b[0;34m)\u001b[0m\u001b[0;34m\u001b[0m\u001b[0;34m\u001b[0m\u001b[0m\n\u001b[0;32m---> 23\u001b[0;31m         \u001b[0moptim\u001b[0m\u001b[0;34m.\u001b[0m\u001b[0mstep\u001b[0m\u001b[0;34m(\u001b[0m\u001b[0;34m)\u001b[0m\u001b[0;34m\u001b[0m\u001b[0;34m\u001b[0m\u001b[0m\n\u001b[0m\u001b[1;32m     24\u001b[0m         \u001b[0mtrain_loss\u001b[0m\u001b[0;34m.\u001b[0m\u001b[0mappend\u001b[0m\u001b[0;34m(\u001b[0m\u001b[0mloss\u001b[0m\u001b[0;34m.\u001b[0m\u001b[0mitem\u001b[0m\u001b[0;34m(\u001b[0m\u001b[0;34m)\u001b[0m\u001b[0;34m)\u001b[0m\u001b[0;34m\u001b[0m\u001b[0;34m\u001b[0m\u001b[0m\n\u001b[1;32m     25\u001b[0m \u001b[0;34m\u001b[0m\u001b[0m\n",
      "\u001b[0;32m/anaconda3/lib/python3.7/site-packages/torch/optim/adam.py\u001b[0m in \u001b[0;36mstep\u001b[0;34m(self, closure)\u001b[0m\n\u001b[1;32m     93\u001b[0m                             \u001b[0;31m# Maintains max of all exp. moving avg. of sq. grad. values\u001b[0m\u001b[0;34m\u001b[0m\u001b[0;34m\u001b[0m\u001b[0;34m\u001b[0m\u001b[0m\n\u001b[1;32m     94\u001b[0m                             \u001b[0mstate\u001b[0m\u001b[0;34m[\u001b[0m\u001b[0;34m'max_exp_avg_sq'\u001b[0m\u001b[0;34m]\u001b[0m \u001b[0;34m=\u001b[0m \u001b[0mtorch\u001b[0m\u001b[0;34m.\u001b[0m\u001b[0mzeros_like\u001b[0m\u001b[0;34m(\u001b[0m\u001b[0mp\u001b[0m\u001b[0;34m,\u001b[0m \u001b[0mmemory_format\u001b[0m\u001b[0;34m=\u001b[0m\u001b[0mtorch\u001b[0m\u001b[0;34m.\u001b[0m\u001b[0mpreserve_format\u001b[0m\u001b[0;34m)\u001b[0m\u001b[0;34m\u001b[0m\u001b[0;34m\u001b[0m\u001b[0m\n\u001b[0;32m---> 95\u001b[0;31m \u001b[0;34m\u001b[0m\u001b[0m\n\u001b[0m\u001b[1;32m     96\u001b[0m                     \u001b[0mexp_avgs\u001b[0m\u001b[0;34m.\u001b[0m\u001b[0mappend\u001b[0m\u001b[0;34m(\u001b[0m\u001b[0mstate\u001b[0m\u001b[0;34m[\u001b[0m\u001b[0;34m'exp_avg'\u001b[0m\u001b[0;34m]\u001b[0m\u001b[0;34m)\u001b[0m\u001b[0;34m\u001b[0m\u001b[0;34m\u001b[0m\u001b[0m\n\u001b[1;32m     97\u001b[0m                     \u001b[0mexp_avg_sqs\u001b[0m\u001b[0;34m.\u001b[0m\u001b[0mappend\u001b[0m\u001b[0;34m(\u001b[0m\u001b[0mstate\u001b[0m\u001b[0;34m[\u001b[0m\u001b[0;34m'exp_avg_sq'\u001b[0m\u001b[0;34m]\u001b[0m\u001b[0;34m)\u001b[0m\u001b[0;34m\u001b[0m\u001b[0;34m\u001b[0m\u001b[0m\n",
      "\u001b[0;31mKeyboardInterrupt\u001b[0m: "
     ]
    }
   ],
   "source": [
    "epochs = 3\n",
    "best_auc = 0.0\n",
    "for epoch in range(epochs):\n",
    "    loss, acc, auc = train_epoch(model, dataloader, optimizer, criterion, device)\n",
    "    print(\"epoch - {} train_loss - {:.2f} acc - {:.3f} auc - {:.3f}\".format(epoch, loss, acc, auc))\n",
    "    \n",
    "    eval_loss, eval_acc, eval_auc = evaluate_epoch(model, test_dataloader, criterion, device)\n",
    "    print(\"epoch - {} eval_loss - {:.2f} eval acc - {:.3f} eval auc - {:.3f}\".format(epoch, eval_loss, eval_acc, eval_auc))\n",
    "    if best_auc < eval_auc:\n",
    "        torch.save(model.state_dict(),'best_model.pt')"
   ]
  },
  {
   "cell_type": "code",
   "execution_count": 35,
   "metadata": {
    "execution": {
     "iopub.execute_input": "2020-12-12T11:06:30.260478Z",
     "iopub.status.busy": "2020-12-12T11:06:30.259806Z",
     "iopub.status.idle": "2020-12-12T11:06:30.266097Z",
     "shell.execute_reply": "2020-12-12T11:06:30.265539Z"
    },
    "papermill": {
     "duration": 0.151646,
     "end_time": "2020-12-12T11:06:30.266214",
     "exception": false,
     "start_time": "2020-12-12T11:06:30.114568",
     "status": "completed"
    },
    "tags": []
   },
   "outputs": [
    {
     "data": {
      "text/plain": [
       "20"
      ]
     },
     "execution_count": 35,
     "metadata": {},
     "output_type": "execute_result"
    }
   ],
   "source": [
    "import gc\n",
    "del dataset\n",
    "gc.collect()"
   ]
  },
  {
   "cell_type": "markdown",
   "metadata": {
    "papermill": {
     "duration": 0.043549,
     "end_time": "2020-12-12T11:06:30.353532",
     "exception": false,
     "start_time": "2020-12-12T11:06:30.309983",
     "status": "completed"
    },
    "tags": []
   },
   "source": [
    "## Test"
   ]
  },
  {
   "cell_type": "code",
   "execution_count": 38,
   "metadata": {
    "execution": {
     "iopub.execute_input": "2020-12-12T11:06:30.677560Z",
     "iopub.status.busy": "2020-12-12T11:06:30.676772Z",
     "iopub.status.idle": "2020-12-12T11:06:30.687004Z",
     "shell.execute_reply": "2020-12-12T11:06:30.686457Z"
    },
    "papermill": {
     "duration": 0.063707,
     "end_time": "2020-12-12T11:06:30.687095",
     "exception": false,
     "start_time": "2020-12-12T11:06:30.623388",
     "status": "completed"
    },
    "tags": []
   },
   "outputs": [
    {
     "ename": "TypeError",
     "evalue": "__init__() missing 1 required positional argument: 'n_ela_skill'",
     "output_type": "error",
     "traceback": [
      "\u001b[0;31m---------------------------------------------------------------------------\u001b[0m",
      "\u001b[0;31mTypeError\u001b[0m                                 Traceback (most recent call last)",
      "\u001b[0;32m<ipython-input-38-baca5c7fea55>\u001b[0m in \u001b[0;36m<module>\u001b[0;34m\u001b[0m\n\u001b[0;32m----> 1\u001b[0;31m \u001b[0mmodel\u001b[0m \u001b[0;34m=\u001b[0m \u001b[0mSAKTModel\u001b[0m\u001b[0;34m(\u001b[0m\u001b[0mn_skill\u001b[0m\u001b[0;34m,\u001b[0m \u001b[0membed_dim\u001b[0m\u001b[0;34m=\u001b[0m\u001b[0;36m128\u001b[0m\u001b[0;34m)\u001b[0m\u001b[0;34m\u001b[0m\u001b[0;34m\u001b[0m\u001b[0m\n\u001b[0m\u001b[1;32m      2\u001b[0m \u001b[0mmodel\u001b[0m\u001b[0;34m.\u001b[0m\u001b[0mload_state_dict\u001b[0m\u001b[0;34m(\u001b[0m\u001b[0mtorch\u001b[0m\u001b[0;34m.\u001b[0m\u001b[0mload\u001b[0m\u001b[0;34m(\u001b[0m\u001b[0;34m'best_model.pt'\u001b[0m\u001b[0;34m,\u001b[0m\u001b[0mmap_location\u001b[0m\u001b[0;34m=\u001b[0m\u001b[0mdevice\u001b[0m\u001b[0;34m)\u001b[0m\u001b[0;34m)\u001b[0m\u001b[0;34m\u001b[0m\u001b[0;34m\u001b[0m\u001b[0m\n\u001b[1;32m      3\u001b[0m \u001b[0mmodel\u001b[0m\u001b[0;34m.\u001b[0m\u001b[0mto\u001b[0m\u001b[0;34m(\u001b[0m\u001b[0mdevice\u001b[0m\u001b[0;34m)\u001b[0m\u001b[0;34m\u001b[0m\u001b[0;34m\u001b[0m\u001b[0m\n",
      "\u001b[0;31mTypeError\u001b[0m: __init__() missing 1 required positional argument: 'n_ela_skill'"
     ]
    }
   ],
   "source": [
    "model = SAKTModel(n_skill, embed_dim=128)\n",
    "model.load_state_dict(torch.load('best_model.pt',map_location=device))\n",
    "model.to(device)"
   ]
  },
  {
   "cell_type": "code",
   "execution_count": null,
   "metadata": {
    "papermill": {
     "duration": 0.051781,
     "end_time": "2020-12-12T11:06:31.042953",
     "exception": false,
     "start_time": "2020-12-12T11:06:30.991172",
     "status": "completed"
    },
    "tags": []
   },
   "outputs": [],
   "source": []
  },
  {
   "cell_type": "code",
   "execution_count": null,
   "metadata": {
    "papermill": {
     "duration": 0.048632,
     "end_time": "2020-12-12T11:06:31.141420",
     "exception": false,
     "start_time": "2020-12-12T11:06:31.092788",
     "status": "completed"
    },
    "tags": []
   },
   "outputs": [],
   "source": []
  }
 ],
 "metadata": {
  "kernelspec": {
   "display_name": "Python 3",
   "language": "python",
   "name": "python3"
  },
  "language_info": {
   "codemirror_mode": {
    "name": "ipython",
    "version": 3
   },
   "file_extension": ".py",
   "mimetype": "text/x-python",
   "name": "python",
   "nbconvert_exporter": "python",
   "pygments_lexer": "ipython3",
   "version": "3.7.2"
  },
  "papermill": {
   "duration": 332.039249,
   "end_time": "2020-12-12T11:06:31.699734",
   "environment_variables": {},
   "exception": null,
   "input_path": "__notebook__.ipynb",
   "output_path": "__notebook__.ipynb",
   "parameters": {},
   "start_time": "2020-12-12T11:00:59.660485",
   "version": "2.1.0"
  }
 },
 "nbformat": 4,
 "nbformat_minor": 4
}
