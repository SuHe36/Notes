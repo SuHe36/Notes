{
 "cells": [
  {
   "cell_type": "code",
   "execution_count": 1,
   "metadata": {
    "_cell_guid": "b1076dfc-b9ad-4769-8c92-a6c4dae69d19",
    "_uuid": "8f2839f25d086af736a60e9eeb907d3b93b6e0e5",
    "execution": {
     "iopub.execute_input": "2020-11-18T07:35:37.800899Z",
     "iopub.status.busy": "2020-11-18T07:35:37.799925Z",
     "iopub.status.idle": "2020-11-18T07:35:37.808388Z",
     "shell.execute_reply": "2020-11-18T07:35:37.809066Z"
    },
    "papermill": {
     "duration": 0.026039,
     "end_time": "2020-11-18T07:35:37.809252",
     "exception": false,
     "start_time": "2020-11-18T07:35:37.783213",
     "status": "completed"
    },
    "tags": []
   },
   "outputs": [
    {
     "name": "stdout",
     "output_type": "stream",
     "text": [
      "/kaggle/input/riiid-test-answer-prediction/train.csv\n",
      "/kaggle/input/riiid-test-answer-prediction/example_test.csv\n",
      "/kaggle/input/riiid-test-answer-prediction/lectures.csv\n",
      "/kaggle/input/riiid-test-answer-prediction/questions.csv\n",
      "/kaggle/input/riiid-test-answer-prediction/example_sample_submission.csv\n",
      "/kaggle/input/riiid-test-answer-prediction/riiideducation/__init__.py\n",
      "/kaggle/input/riiid-test-answer-prediction/riiideducation/competition.cpython-37m-x86_64-linux-gnu.so\n",
      "/kaggle/input/riiid-fixed-infos/user.csv\n",
      "/kaggle/input/riiid-fixed-infos/content.csv\n",
      "/kaggle/input/riiid-fixed-infos/task.csv\n"
     ]
    }
   ],
   "source": [
    "# This Python 3 environment comes with many helpful analytics libraries installed\n",
    "# It is defined by the kaggle/python Docker image: https://github.com/kaggle/docker-python\n",
    "# For example, here's several helpful packages to load\n",
    "\n",
    "import numpy as np # linear algebra\n",
    "import pandas as pd # data processing, CSV file I/O (e.g. pd.read_csv)\n",
    "\n",
    "# Input data files are available in the read-only \"../input/\" directory\n",
    "# For example, running this (by clicking run or pressing Shift+Enter) will list all files under the input directory\n",
    "\n",
    "import os\n",
    "for dirname, _, filenames in os.walk('/kaggle/input'):\n",
    "    for filename in filenames:\n",
    "        print(os.path.join(dirname, filename))\n",
    "\n",
    "# You can write up to 20GB to the current directory (/kaggle/working/) that gets preserved as output when you create a version using \"Save & Run All\" \n",
    "# You can also write temporary files to /kaggle/temp/, but they won't be saved outside of the current session"
   ]
  },
  {
   "cell_type": "code",
   "execution_count": 2,
   "metadata": {
    "_cell_guid": "79c7e3d0-c299-4dcb-8224-4455121ee9b0",
    "_uuid": "d629ff2d2480ee46fbb7e2d37f6b5fab8052498a",
    "execution": {
     "iopub.execute_input": "2020-11-18T07:35:37.833390Z",
     "iopub.status.busy": "2020-11-18T07:35:37.832626Z",
     "iopub.status.idle": "2020-11-18T07:35:43.737195Z",
     "shell.execute_reply": "2020-11-18T07:35:43.738603Z"
    },
    "papermill": {
     "duration": 5.91934,
     "end_time": "2020-11-18T07:35:43.738816",
     "exception": false,
     "start_time": "2020-11-18T07:35:37.819476",
     "status": "completed"
    },
    "tags": []
   },
   "outputs": [],
   "source": [
    "import math\n",
    "from sklearn.preprocessing import LabelEncoder\n",
    "from sklearn.model_selection import cross_val_score\n",
    "from sklearn.preprocessing import LabelEncoder\n",
    "from sklearn.model_selection import StratifiedKFold\n",
    "\n",
    "import keras\n",
    "from keras.models import Sequential\n",
    "from keras.layers import Dense\n",
    "from tensorflow.keras.metrics import AUC"
   ]
  },
  {
   "cell_type": "code",
   "execution_count": 3,
   "metadata": {
    "execution": {
     "iopub.execute_input": "2020-11-18T07:35:43.776494Z",
     "iopub.status.busy": "2020-11-18T07:35:43.775527Z",
     "iopub.status.idle": "2020-11-18T07:35:44.395528Z",
     "shell.execute_reply": "2020-11-18T07:35:44.396770Z"
    },
    "papermill": {
     "duration": 0.64466,
     "end_time": "2020-11-18T07:35:44.397076",
     "exception": false,
     "start_time": "2020-11-18T07:35:43.752416",
     "status": "completed"
    },
    "tags": []
   },
   "outputs": [],
   "source": [
    "piv1 = pd.read_csv(\"../input/riiid-fixed-infos/content.csv\")\n",
    "piv2 = pd.read_csv(\"../input/riiid-fixed-infos/task.csv\")\n",
    "piv3 = pd.read_csv(\"../input/riiid-fixed-infos/user.csv\")\n",
    "\n",
    "for col, df in zip([\"content_sum\", \"task_container_sum\", \"user_sum\"], [piv1, piv2, piv3]):\n",
    "    df[col] = (df[col] - df[col].min()) / (df[col].max() - df[col].min())\n",
    "#\n",
    "m1 = piv1[\"content_sum\"].median()\n",
    "m2 = piv2[\"task_container_sum\"].median()\n",
    "m3 = piv3[\"user_sum\"].median()\n",
    "\n",
    "\n",
    "# OTHER CONSTANTS\n",
    "data_path = \"../input/riiid-test-answer-prediction/train.csv\"\n",
    "TARGET = \"answered_correctly\"\n",
    "TIME_MEAN = 21000.0\n",
    "TIME_MIN = 0.0\n",
    "TIME_MAX = 300000.0\n",
    "map_prior = {True:1, False:0}\n",
    "epsilon = 1e-6\n",
    "FE = [\"content_emb\",\"content_sum\" ,\"task_container_emb\", \"task_container_sum\",\n",
    "      \"user_emb\", \"user_sum\",\"duration\", \"prior_answer\",\"score\"]"
   ]
  },
  {
   "cell_type": "code",
   "execution_count": 4,
   "metadata": {
    "execution": {
     "iopub.execute_input": "2020-11-18T07:35:44.434214Z",
     "iopub.status.busy": "2020-11-18T07:35:44.433375Z",
     "iopub.status.idle": "2020-11-18T07:35:44.442168Z",
     "shell.execute_reply": "2020-11-18T07:35:44.443149Z"
    },
    "papermill": {
     "duration": 0.03214,
     "end_time": "2020-11-18T07:35:44.443293",
     "exception": false,
     "start_time": "2020-11-18T07:35:44.411153",
     "status": "completed"
    },
    "tags": []
   },
   "outputs": [],
   "source": [
    "def preprocess(df):\n",
    "    df = df.merge(piv1, how=\"left\", on=\"content_id\")\n",
    "    df[\"content_emb\"] = df[\"content_emb\"].fillna(0.5)\n",
    "    df[\"content_sum\"] = df[\"content_sum\"].fillna(m1)\n",
    "    df = df.merge(piv2, how=\"left\", on=\"task_container_id\")\n",
    "    df[\"task_container_emb\"] = df[\"task_container_emb\"].fillna(0.5)\n",
    "    df[\"task_container_sum\"] = df[\"task_container_sum\"].fillna(m2)\n",
    "    df = df.merge(piv3, how=\"left\", on=\"user_id\")\n",
    "    df[\"user_emb\"] = df[\"user_emb\"].fillna(0.5)\n",
    "    df[\"user_sum\"] = df[\"user_sum\"].fillna(m3)\n",
    "    df[\"prior_question_elapsed_time\"] = df[\"prior_question_elapsed_time\"].fillna(TIME_MEAN)\n",
    "    df[\"duration\"] = (df[\"prior_question_elapsed_time\"] - TIME_MIN) / (TIME_MAX - TIME_MIN)\n",
    "    df[\"prior_answer\"] = df[\"prior_question_had_explanation\"].map(map_prior)\n",
    "    df[\"prior_answer\"] = df[\"prior_answer\"].fillna(0)\n",
    "    df[\"score\"] = 2*df[\"content_emb\"]*df[\"user_emb\"] / (df[\"content_emb\"]+ df[\"user_emb\"] + epsilon)\n",
    "    return df"
   ]
  },
  {
   "cell_type": "code",
   "execution_count": 5,
   "metadata": {
    "execution": {
     "iopub.execute_input": "2020-11-18T07:35:44.476352Z",
     "iopub.status.busy": "2020-11-18T07:35:44.475522Z",
     "iopub.status.idle": "2020-11-18T07:36:18.751816Z",
     "shell.execute_reply": "2020-11-18T07:36:18.751289Z"
    },
    "papermill": {
     "duration": 34.296786,
     "end_time": "2020-11-18T07:36:18.751962",
     "exception": false,
     "start_time": "2020-11-18T07:35:44.455176",
     "status": "completed"
    },
    "tags": []
   },
   "outputs": [
    {
     "name": "stdout",
     "output_type": "stream",
     "text": [
      "CPU times: user 27.4 s, sys: 5.05 s, total: 32.5 s\n",
      "Wall time: 34.3 s\n"
     ]
    },
    {
     "data": {
      "text/plain": [
       "101230333"
      ]
     },
     "execution_count": 5,
     "metadata": {},
     "output_type": "execute_result"
    }
   ],
   "source": [
    "%%time\n",
    "#tr = pd.read_csv(\"../input/riiid-test-answer-prediction/train.csv\", low_memory=False, nrows=10**7)\n",
    "\n",
    "with open(data_path) as fp:\n",
    "    for (rows, _) in enumerate(fp, 1):\n",
    "       pass\n",
    "rows"
   ]
  },
  {
   "cell_type": "code",
   "execution_count": 6,
   "metadata": {
    "execution": {
     "iopub.execute_input": "2020-11-18T07:36:18.784049Z",
     "iopub.status.busy": "2020-11-18T07:36:18.783101Z",
     "iopub.status.idle": "2020-11-18T08:49:04.618182Z",
     "shell.execute_reply": "2020-11-18T08:49:04.619368Z"
    },
    "papermill": {
     "duration": 4365.858072,
     "end_time": "2020-11-18T08:49:04.619608",
     "exception": false,
     "start_time": "2020-11-18T07:36:18.761536",
     "status": "completed"
    },
    "tags": []
   },
   "outputs": [
    {
     "name": "stdout",
     "output_type": "stream",
     "text": [
      "--------------------\n",
      "Batch: 0\n",
      "--------------------\n",
      "accuracy: 72.19%\n",
      "accuracy: 72.30%\n",
      "accuracy: 72.26%\n",
      "accuracy: 72.23%\n",
      "accuracy: 72.29%\n",
      "72.26% (+/- 0.04%)\n",
      "--------------------\n",
      "Batch: 1\n",
      "--------------------\n",
      "accuracy: 72.31%\n",
      "accuracy: 72.32%\n",
      "accuracy: 72.35%\n",
      "accuracy: 72.34%\n",
      "accuracy: 72.32%\n",
      "72.33% (+/- 0.01%)\n",
      "--------------------\n",
      "Batch: 2\n",
      "--------------------\n",
      "accuracy: 72.07%\n",
      "accuracy: 72.19%\n",
      "accuracy: 72.09%\n",
      "accuracy: 72.04%\n",
      "accuracy: 72.11%\n",
      "72.10% (+/- 0.05%)\n",
      "--------------------\n",
      "Batch: 3\n",
      "--------------------\n",
      "accuracy: 72.06%\n",
      "accuracy: 72.09%\n",
      "accuracy: 72.07%\n",
      "accuracy: 72.12%\n",
      "accuracy: 72.04%\n",
      "72.07% (+/- 0.03%)\n",
      "--------------------\n",
      "Batch: 4\n",
      "--------------------\n",
      "accuracy: 72.53%\n",
      "accuracy: 72.49%\n",
      "accuracy: 72.64%\n",
      "accuracy: 72.55%\n",
      "accuracy: 72.47%\n",
      "72.54% (+/- 0.06%)\n",
      "--------------------\n",
      "Batch: 5\n",
      "--------------------\n",
      "accuracy: 72.13%\n",
      "accuracy: 72.12%\n",
      "accuracy: 72.11%\n",
      "accuracy: 72.12%\n",
      "accuracy: 72.07%\n",
      "72.11% (+/- 0.02%)\n",
      "--------------------\n",
      "Batch: 6\n",
      "--------------------\n",
      "accuracy: 72.09%\n",
      "accuracy: 72.12%\n",
      "accuracy: 72.10%\n",
      "accuracy: 72.15%\n",
      "accuracy: 71.98%\n",
      "72.09% (+/- 0.06%)\n",
      "--------------------\n",
      "Batch: 7\n",
      "--------------------\n",
      "accuracy: 72.22%\n",
      "accuracy: 72.31%\n",
      "accuracy: 72.28%\n",
      "accuracy: 72.35%\n",
      "accuracy: 72.37%\n",
      "72.31% (+/- 0.05%)\n",
      "--------------------\n",
      "Batch: 8\n",
      "--------------------\n",
      "accuracy: 72.23%\n",
      "accuracy: 72.25%\n",
      "accuracy: 72.25%\n",
      "accuracy: 72.25%\n",
      "accuracy: 72.32%\n",
      "72.26% (+/- 0.03%)\n",
      "--------------------\n",
      "Batch: 9\n",
      "--------------------\n",
      "accuracy: 72.26%\n",
      "accuracy: 72.24%\n",
      "accuracy: 72.23%\n",
      "accuracy: 72.30%\n",
      "accuracy: 72.31%\n",
      "72.27% (+/- 0.03%)\n",
      "--------------------\n",
      "Batch: 10\n",
      "--------------------\n",
      "accuracy: 72.41%\n",
      "accuracy: 72.36%\n",
      "accuracy: 72.40%\n",
      "accuracy: 72.40%\n",
      "accuracy: 72.43%\n",
      "72.40% (+/- 0.02%)\n",
      "--------------------\n",
      "Batch: 11\n",
      "--------------------\n",
      "accuracy: 72.19%\n",
      "accuracy: 72.18%\n",
      "accuracy: 72.28%\n",
      "accuracy: 72.23%\n",
      "accuracy: 72.22%\n",
      "72.22% (+/- 0.03%)\n",
      "--------------------\n",
      "Batch: 12\n",
      "--------------------\n",
      "accuracy: 72.30%\n",
      "accuracy: 72.28%\n",
      "accuracy: 72.36%\n",
      "accuracy: 72.29%\n",
      "accuracy: 72.37%\n",
      "72.32% (+/- 0.04%)\n",
      "--------------------\n",
      "Batch: 13\n",
      "--------------------\n",
      "accuracy: 72.06%\n",
      "accuracy: 72.11%\n",
      "accuracy: 72.07%\n",
      "accuracy: 72.15%\n",
      "accuracy: 72.09%\n",
      "72.10% (+/- 0.03%)\n",
      "--------------------\n",
      "Batch: 14\n",
      "--------------------\n",
      "accuracy: 72.37%\n",
      "accuracy: 72.34%\n",
      "accuracy: 72.41%\n",
      "accuracy: 72.46%\n",
      "accuracy: 72.45%\n",
      "72.41% (+/- 0.05%)\n",
      "--------------------\n",
      "Batch: 15\n",
      "--------------------\n",
      "accuracy: 72.28%\n",
      "accuracy: 72.23%\n",
      "accuracy: 72.31%\n",
      "accuracy: 72.31%\n",
      "accuracy: 72.23%\n",
      "72.27% (+/- 0.04%)\n",
      "--------------------\n",
      "Batch: 16\n",
      "--------------------\n",
      "accuracy: 72.29%\n",
      "accuracy: 72.24%\n",
      "accuracy: 72.28%\n",
      "accuracy: 72.34%\n",
      "accuracy: 72.31%\n",
      "72.29% (+/- 0.03%)\n",
      "--------------------\n",
      "Batch: 17\n",
      "--------------------\n",
      "accuracy: 72.43%\n",
      "accuracy: 72.45%\n",
      "accuracy: 72.42%\n",
      "accuracy: 72.42%\n",
      "accuracy: 72.43%\n",
      "72.43% (+/- 0.01%)\n",
      "--------------------\n",
      "Batch: 18\n",
      "--------------------\n",
      "accuracy: 72.37%\n",
      "accuracy: 72.29%\n",
      "accuracy: 72.32%\n",
      "accuracy: 72.43%\n",
      "accuracy: 72.45%\n",
      "72.37% (+/- 0.06%)\n",
      "--------------------\n",
      "Batch: 19\n",
      "--------------------\n",
      "accuracy: 72.20%\n",
      "accuracy: 72.25%\n",
      "accuracy: 72.35%\n",
      "accuracy: 72.36%\n",
      "accuracy: 72.37%\n",
      "72.31% (+/- 0.07%)\n",
      "--------------------\n",
      "Batch: 20\n",
      "--------------------\n",
      "accuracy: 72.75%\n",
      "accuracy: 72.78%\n",
      "accuracy: 72.69%\n",
      "accuracy: 72.92%\n",
      "accuracy: 72.82%\n",
      "72.79% (+/- 0.08%)\n",
      "CPU times: user 1h 29min 35s, sys: 9min 13s, total: 1h 38min 49s\n",
      "Wall time: 1h 12min 45s\n"
     ]
    }
   ],
   "source": [
    "%%time\n",
    "\n",
    "import tensorflow as tf\n",
    "from keras import backend as k\n",
    "\n",
    "data_batch_size = 5*10**6\n",
    "train_batch_size = 50_000\n",
    "\n",
    "batch = pd.read_csv(data_path, chunksize=data_batch_size)\n",
    "for idx, ds in enumerate(batch):\n",
    "    print('-'*20)\n",
    "    print(\"Batch: {}\".format(idx))\n",
    "    print('-'*20)\n",
    "    ds = preprocess(ds)\n",
    "    X = ds.loc[ds.answered_correctly!=-1, FE].values\n",
    "    Y = ds.loc[ds.answered_correctly!=-1, TARGET].values\n",
    "    kfold = StratifiedKFold(n_splits=5, shuffle=True, random_state=42)\n",
    "    cvscores = []\n",
    "    input_dim = X.shape[1]\n",
    "    del ds\n",
    "    if idx==0:\n",
    "        # create model\n",
    "        model = Sequential()\n",
    "        model.add(Dense(60, input_dim=input_dim, activation='relu'))\n",
    "        model.add(Dense(120, activation='relu'))\n",
    "        model.add(Dense(180, activation='relu'))\n",
    "        model.add(Dense(120, activation='relu'))\n",
    "        model.add(Dense(60, activation='relu'))\n",
    "        model.add(Dense(30, activation='relu'))\n",
    "        model.add(Dense(1, activation='sigmoid'))\n",
    "        # Compile model\n",
    "        model.compile(loss='binary_crossentropy', optimizer='adam', metrics=['accuracy'])  ##AUC()])\n",
    "    else:\n",
    "        model = keras.models.load_model('riiid_model.h5')\n",
    "    for train, val in kfold.split(X, Y):\n",
    "        # Fit the model\n",
    "        model.fit(X[train], Y[train], epochs=5, batch_size=train_batch_size, verbose=0)\n",
    "        # evaluate the model\n",
    "        scores = model.evaluate(X[val], Y[val], verbose=0)\n",
    "        print(\"%s: %.2f%%\" % (model.metrics_names[1], scores[1]*100))\n",
    "        cvscores.append(scores[1] * 100)\n",
    "    print(\"%.2f%% (+/- %.2f%%)\" % (np.mean(cvscores), np.std(cvscores)))\n",
    "    model.save('riiid_model.h5')\n",
    "    del X, Y"
   ]
  },
  {
   "cell_type": "code",
   "execution_count": 7,
   "metadata": {
    "execution": {
     "iopub.execute_input": "2020-11-18T08:49:04.794846Z",
     "iopub.status.busy": "2020-11-18T08:49:04.789592Z",
     "iopub.status.idle": "2020-11-18T08:49:04.797856Z",
     "shell.execute_reply": "2020-11-18T08:49:04.798822Z"
    },
    "papermill": {
     "duration": 0.100349,
     "end_time": "2020-11-18T08:49:04.799088",
     "exception": false,
     "start_time": "2020-11-18T08:49:04.698739",
     "status": "completed"
    },
    "tags": []
   },
   "outputs": [],
   "source": [
    "import riiideducation\n",
    "\n",
    "env = riiideducation.make_env()\n",
    "iter_test = env.iter_test()"
   ]
  },
  {
   "cell_type": "code",
   "execution_count": 8,
   "metadata": {
    "execution": {
     "iopub.execute_input": "2020-11-18T08:49:04.963525Z",
     "iopub.status.busy": "2020-11-18T08:49:04.962565Z",
     "iopub.status.idle": "2020-11-18T08:49:05.789738Z",
     "shell.execute_reply": "2020-11-18T08:49:05.788349Z"
    },
    "papermill": {
     "duration": 0.911283,
     "end_time": "2020-11-18T08:49:05.789894",
     "exception": false,
     "start_time": "2020-11-18T08:49:04.878611",
     "status": "completed"
    },
    "tags": []
   },
   "outputs": [],
   "source": [
    "for test_df, sample_prediction_df in iter_test:\n",
    "    test_df = preprocess(test_df)\n",
    "    Xtest = test_df[FE].values\n",
    "    preds = model.predict(Xtest, batch_size=50_000, verbose=0)[:, 0]\n",
    "    test_df['answered_correctly'] = preds\n",
    "    env.predict(test_df.loc[test_df['content_type_id'] == 0, ['row_id', 'answered_correctly']])"
   ]
  },
  {
   "cell_type": "code",
   "execution_count": null,
   "metadata": {
    "papermill": {
     "duration": 0.049813,
     "end_time": "2020-11-18T08:49:05.889760",
     "exception": false,
     "start_time": "2020-11-18T08:49:05.839947",
     "status": "completed"
    },
    "tags": []
   },
   "outputs": [],
   "source": []
  }
 ],
 "metadata": {
  "kernelspec": {
   "display_name": "Python 3",
   "language": "python",
   "name": "python3"
  },
  "language_info": {
   "codemirror_mode": {
    "name": "ipython",
    "version": 3
   },
   "file_extension": ".py",
   "mimetype": "text/x-python",
   "name": "python",
   "nbconvert_exporter": "python",
   "pygments_lexer": "ipython3",
   "version": "3.7.8"
  },
  "papermill": {
   "duration": 4414.083118,
   "end_time": "2020-11-18T08:49:07.788772",
   "environment_variables": {},
   "exception": null,
   "input_path": "__notebook__.ipynb",
   "output_path": "__notebook__.ipynb",
   "parameters": {},
   "start_time": "2020-11-18T07:35:33.705654",
   "version": "2.1.0"
  }
 },
 "nbformat": 4,
 "nbformat_minor": 4
}
