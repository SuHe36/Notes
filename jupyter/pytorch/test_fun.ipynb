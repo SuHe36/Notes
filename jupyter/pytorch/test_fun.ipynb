{
 "cells": [
  {
   "cell_type": "code",
   "execution_count": 3,
   "metadata": {},
   "outputs": [
    {
     "name": "stdout",
     "output_type": "stream",
     "text": [
      "tensor([[[1., 1., 1., 1.],\n",
      "         [1., 1., 1., 1.],\n",
      "         [1., 1., 1., 1.]],\n",
      "\n",
      "        [[1., 1., 1., 1.],\n",
      "         [1., 1., 1., 1.],\n",
      "         [1., 1., 1., 1.]]])\n",
      "tensor([[[1., 1., 1.],\n",
      "         [1., 1., 1.],\n",
      "         [1., 1., 1.],\n",
      "         [1., 1., 1.]],\n",
      "\n",
      "        [[1., 1., 1.],\n",
      "         [1., 1., 1.],\n",
      "         [1., 1., 1.],\n",
      "         [1., 1., 1.]]])\n",
      "torch.Size([2, 3, 3])\n",
      "tensor([[[4., 4., 4.],\n",
      "         [4., 4., 4.],\n",
      "         [4., 4., 4.]],\n",
      "\n",
      "        [[4., 4., 4.],\n",
      "         [4., 4., 4.],\n",
      "         [4., 4., 4.]]])\n",
      "torch.Size([2, 3, 4])\n",
      "attention2.size is: torch.Size([2, 3, 3])\n",
      "attention2 is: tensor([[[ 4,  4,  4],\n",
      "         [ 4,  4,  4],\n",
      "         [ 4,  4,  4]],\n",
      "\n",
      "        [[16, 16, 16],\n",
      "         [16, 16, 16],\n",
      "         [16, 16, 16]]])\n"
     ]
    }
   ],
   "source": [
    "#测试torch.bmm()如何实现三维矩阵乘法的\n",
    "#测试结果发现，三维矩阵相乘还是通过底部的二维矩阵先相乘，然后不断往前面的高维堆砌前进\n",
    "\n",
    "\n",
    "import torch\n",
    "\n",
    "q = torch.ones(24).view(2,3,4)\n",
    "print(q)\n",
    "k = torch.ones(24).view(2,3,4)\n",
    "k = k.transpose(1,2)\n",
    "print(k)\n",
    "attention = torch.bmm(q, k)\n",
    "print(attention.size())\n",
    "print(attention)\n",
    "\n",
    "#我们用两个三维矩阵，维度分别为(2,3,4),(2,4,3)，进行矩阵的乘法，\n",
    "#最后得到的attention的维度为(2,3,3),\n",
    "#我的理解也就是说其实是(3,4)和(4,3)矩阵进行相乘，为了验证结果，我们设置新的两个三维矩阵，看他们相乘的结果是什么\n",
    "\n",
    "\n",
    "a = torch.tensor([[[1,1,1,1],\n",
    "                   [1,1,1,1],\n",
    "                   [1,1,1,1]],\n",
    "                  [[2,2,2,2],\n",
    "                   [2,2,2,2],\n",
    "                   [2,2,2,2]]])\n",
    "print(a.size())\n",
    "\n",
    "\n",
    "b = torch.tensor([[[1,1,1,1],\n",
    "                   [1,1,1,1],\n",
    "                   [1,1,1,1]],\n",
    "                  [[2,2,2,2],\n",
    "                   [2,2,2,2],\n",
    "                   [2,2,2,2]]])\n",
    "b = b.transpose(1,2)\n",
    "\n",
    "attention2 = torch.bmm(a,b)\n",
    "print(\"attention2.size is:\", attention2.size())\n",
    "print(\"attention2 is:\", attention2)\n",
    "#attention2的结果也验证了我们的想法。三维矩阵，其实还是二维矩阵的乘法实现的，\n",
    "#用最后两个维度的矩阵实现乘法，然后不断的堆砌往前面的维度前进\n"
   ]
  },
  {
   "cell_type": "code",
   "execution_count": 1,
   "metadata": {},
   "outputs": [
    {
     "name": "stdout",
     "output_type": "stream",
     "text": [
      "tensor([[[1., 1., 1., 1.],\n",
      "         [1., 1., 1., 1.],\n",
      "         [1., 1., 1., 1.]],\n",
      "\n",
      "        [[1., 1., 1., 1.],\n",
      "         [1., 1., 1., 1.],\n",
      "         [1., 1., 1., 1.]]])\n",
      "tensor([[[1.1111, 1.1111, 1.1111, 1.1111],\n",
      "         [0.0000, 1.1111, 1.1111, 1.1111],\n",
      "         [1.1111, 1.1111, 1.1111, 1.1111]],\n",
      "\n",
      "        [[1.1111, 1.1111, 1.1111, 1.1111],\n",
      "         [1.1111, 1.1111, 1.1111, 0.0000],\n",
      "         [1.1111, 1.1111, 1.1111, 1.1111]]])\n"
     ]
    }
   ],
   "source": [
    "#测试dropout的功能\n",
    "#实验的结果显示，dropout层是按照一定的概率将某些值置为0，目前还没有看dropout的具体源码\n",
    "\n",
    "import torch\n",
    "import torch.nn as nn\n",
    "\n",
    "#a = torch.arange(24).view(2,3,4)\n",
    "a = torch.ones((2,3,4))\n",
    "print(a)\n",
    "\n",
    "dropout_layer = nn.Dropout(0.1)\n",
    "b = dropout_layer(a)\n",
    "print(b)\n"
   ]
  },
  {
   "cell_type": "code",
   "execution_count": null,
   "metadata": {},
   "outputs": [],
   "source": []
  },
  {
   "cell_type": "code",
   "execution_count": null,
   "metadata": {},
   "outputs": [],
   "source": []
  }
 ],
 "metadata": {
  "kernelspec": {
   "display_name": "Python 3",
   "language": "python",
   "name": "python3"
  },
  "language_info": {
   "codemirror_mode": {
    "name": "ipython",
    "version": 3
   },
   "file_extension": ".py",
   "mimetype": "text/x-python",
   "name": "python",
   "nbconvert_exporter": "python",
   "pygments_lexer": "ipython3",
   "version": "3.7.3"
  }
 },
 "nbformat": 4,
 "nbformat_minor": 2
}
