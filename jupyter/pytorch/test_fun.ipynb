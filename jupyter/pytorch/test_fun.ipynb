{
 "cells": [
  {
   "cell_type": "code",
   "execution_count": 3,
   "metadata": {},
   "outputs": [
    {
     "name": "stdout",
     "output_type": "stream",
     "text": [
      "tensor([[[1., 1., 1., 1.],\n",
      "         [1., 1., 1., 1.],\n",
      "         [1., 1., 1., 1.]],\n",
      "\n",
      "        [[1., 1., 1., 1.],\n",
      "         [1., 1., 1., 1.],\n",
      "         [1., 1., 1., 1.]]])\n",
      "tensor([[[1., 1., 1.],\n",
      "         [1., 1., 1.],\n",
      "         [1., 1., 1.],\n",
      "         [1., 1., 1.]],\n",
      "\n",
      "        [[1., 1., 1.],\n",
      "         [1., 1., 1.],\n",
      "         [1., 1., 1.],\n",
      "         [1., 1., 1.]]])\n",
      "torch.Size([2, 3, 3])\n",
      "tensor([[[4., 4., 4.],\n",
      "         [4., 4., 4.],\n",
      "         [4., 4., 4.]],\n",
      "\n",
      "        [[4., 4., 4.],\n",
      "         [4., 4., 4.],\n",
      "         [4., 4., 4.]]])\n",
      "torch.Size([2, 3, 4])\n",
      "attention2.size is: torch.Size([2, 3, 3])\n",
      "attention2 is: tensor([[[ 4,  4,  4],\n",
      "         [ 4,  4,  4],\n",
      "         [ 4,  4,  4]],\n",
      "\n",
      "        [[16, 16, 16],\n",
      "         [16, 16, 16],\n",
      "         [16, 16, 16]]])\n"
     ]
    }
   ],
   "source": [
    "#测试torch.bmm()如何实现三维矩阵乘法的\n",
    "#测试结果发现，三维矩阵相乘还是通过底部的二维矩阵先相乘，然后不断往前面的高维堆砌前进\n",
    "\n",
    "\n",
    "import torch\n",
    "\n",
    "q = torch.ones(24).view(2,3,4)\n",
    "print(q)\n",
    "k = torch.ones(24).view(2,3,4)\n",
    "k = k.transpose(1,2)\n",
    "print(k)\n",
    "attention = torch.bmm(q, k)\n",
    "print(attention.size())\n",
    "print(attention)\n",
    "\n",
    "#我们用两个三维矩阵，维度分别为(2,3,4),(2,4,3)，进行矩阵的乘法，\n",
    "#最后得到的attention的维度为(2,3,3),\n",
    "#我的理解也就是说其实是(3,4)和(4,3)矩阵进行相乘，为了验证结果，我们设置新的两个三维矩阵，看他们相乘的结果是什么\n",
    "\n",
    "\n",
    "a = torch.tensor([[[1,1,1,1],\n",
    "                   [1,1,1,1],\n",
    "                   [1,1,1,1]],\n",
    "                  [[2,2,2,2],\n",
    "                   [2,2,2,2],\n",
    "                   [2,2,2,2]]])\n",
    "print(a.size())\n",
    "\n",
    "\n",
    "b = torch.tensor([[[1,1,1,1],\n",
    "                   [1,1,1,1],\n",
    "                   [1,1,1,1]],\n",
    "                  [[2,2,2,2],\n",
    "                   [2,2,2,2],\n",
    "                   [2,2,2,2]]])\n",
    "b = b.transpose(1,2)\n",
    "\n",
    "attention2 = torch.bmm(a,b)\n",
    "print(\"attention2.size is:\", attention2.size())\n",
    "print(\"attention2 is:\", attention2)\n",
    "#attention2的结果也验证了我们的想法。三维矩阵，其实还是二维矩阵的乘法实现的，\n",
    "#用最后两个维度的矩阵实现乘法，然后不断的堆砌往前面的维度前进\n"
   ]
  },
  {
   "cell_type": "code",
   "execution_count": 1,
   "metadata": {},
   "outputs": [
    {
     "name": "stdout",
     "output_type": "stream",
     "text": [
      "tensor([[[1., 1., 1., 1.],\n",
      "         [1., 1., 1., 1.],\n",
      "         [1., 1., 1., 1.]],\n",
      "\n",
      "        [[1., 1., 1., 1.],\n",
      "         [1., 1., 1., 1.],\n",
      "         [1., 1., 1., 1.]]])\n",
      "tensor([[[1.1111, 1.1111, 1.1111, 1.1111],\n",
      "         [0.0000, 1.1111, 1.1111, 1.1111],\n",
      "         [1.1111, 1.1111, 1.1111, 1.1111]],\n",
      "\n",
      "        [[1.1111, 1.1111, 1.1111, 1.1111],\n",
      "         [1.1111, 1.1111, 1.1111, 0.0000],\n",
      "         [1.1111, 1.1111, 1.1111, 1.1111]]])\n"
     ]
    }
   ],
   "source": [
    "#测试dropout的功能\n",
    "#实验的结果显示，dropout层是按照一定的概率将某些值置为0，目前还没有看dropout的具体源码\n",
    "\n",
    "import torch\n",
    "import torch.nn as nn\n",
    "\n",
    "#a = torch.arange(24).view(2,3,4)\n",
    "a = torch.ones((2,3,4))\n",
    "print(a)\n",
    "\n",
    "dropout_layer = nn.Dropout(0.1)\n",
    "b = dropout_layer(a)\n",
    "print(b)\n"
   ]
  },
  {
   "cell_type": "code",
   "execution_count": 1,
   "metadata": {},
   "outputs": [],
   "source": [
    "label_ids = [1,2,3,4]\n",
    "d_tags_ids = [1,1,1,1]\n",
    "input_ids = [1,2,3,4]\n",
    "pred_mask = [1,1,1,1]\n"
   ]
  },
  {
   "cell_type": "code",
   "execution_count": 3,
   "metadata": {},
   "outputs": [],
   "source": [
    "label_id = 5\n",
    "token_id = [2,4,5]\n",
    "d_tag_id = 1\n"
   ]
  },
  {
   "cell_type": "code",
   "execution_count": 4,
   "metadata": {},
   "outputs": [],
   "source": [
    "label_ids.extend([label_id]*len(token_id))\n",
    "input_ids.extend(token_id)\n",
    "d_tags_ids.extend([d_tag_id]*len(token_id))\n",
    "pred_mask.extend([1]+[0]*(len(token_id)-1))"
   ]
  },
  {
   "cell_type": "code",
   "execution_count": 5,
   "metadata": {},
   "outputs": [
    {
     "data": {
      "text/plain": [
       "[1, 2, 3, 4, 5, 5, 5]"
      ]
     },
     "execution_count": 5,
     "metadata": {},
     "output_type": "execute_result"
    }
   ],
   "source": [
    "label_ids\n"
   ]
  },
  {
   "cell_type": "code",
   "execution_count": 6,
   "metadata": {},
   "outputs": [
    {
     "data": {
      "text/plain": [
       "[1, 1, 1, 1, 1, 1, 1]"
      ]
     },
     "execution_count": 6,
     "metadata": {},
     "output_type": "execute_result"
    }
   ],
   "source": [
    "d_tags_ids"
   ]
  },
  {
   "cell_type": "code",
   "execution_count": 7,
   "metadata": {},
   "outputs": [
    {
     "data": {
      "text/plain": [
       "[1, 2, 3, 4, 2, 4, 5]"
      ]
     },
     "execution_count": 7,
     "metadata": {},
     "output_type": "execute_result"
    }
   ],
   "source": [
    "input_ids"
   ]
  },
  {
   "cell_type": "code",
   "execution_count": 8,
   "metadata": {},
   "outputs": [
    {
     "data": {
      "text/plain": [
       "[1, 1, 1, 1, 1, 0, 0]"
      ]
     },
     "execution_count": 8,
     "metadata": {},
     "output_type": "execute_result"
    }
   ],
   "source": [
    "pred_mask"
   ]
  },
  {
   "cell_type": "code",
   "execution_count": 9,
   "metadata": {},
   "outputs": [
    {
     "name": "stderr",
     "output_type": "stream",
     "text": [
      "I1028 16:14:07.937288 4445881792 file_utils.py:40] PyTorch version 1.4.0 available.\n"
     ]
    }
   ],
   "source": [
    "import transformers"
   ]
  },
  {
   "cell_type": "code",
   "execution_count": 10,
   "metadata": {},
   "outputs": [],
   "source": [
    "from transformers import BertTokenizer, BertConfig"
   ]
  },
  {
   "cell_type": "code",
   "execution_count": 19,
   "metadata": {},
   "outputs": [
    {
     "name": "stderr",
     "output_type": "stream",
     "text": [
      "I1028 16:16:43.492889 4445881792 tokenization_utils.py:327] Model name '../../../AiQuestion/gector/model/bert-base-cased/' not found in model shortcut name list (bert-base-uncased, bert-large-uncased, bert-base-cased, bert-large-cased, bert-base-multilingual-uncased, bert-base-multilingual-cased, bert-base-chinese, bert-base-german-cased, bert-large-uncased-whole-word-masking, bert-large-cased-whole-word-masking, bert-large-uncased-whole-word-masking-finetuned-squad, bert-large-cased-whole-word-masking-finetuned-squad, bert-base-cased-finetuned-mrpc, bert-base-german-dbmdz-cased, bert-base-german-dbmdz-uncased). Assuming '../../../AiQuestion/gector/model/bert-base-cased/' is a path or url to a directory containing tokenizer files.\n",
      "I1028 16:16:43.494362 4445881792 tokenization_utils.py:359] Didn't find file ../../../AiQuestion/gector/model/bert-base-cased/added_tokens.json. We won't load it.\n",
      "I1028 16:16:43.494868 4445881792 tokenization_utils.py:359] Didn't find file ../../../AiQuestion/gector/model/bert-base-cased/special_tokens_map.json. We won't load it.\n",
      "I1028 16:16:43.495344 4445881792 tokenization_utils.py:359] Didn't find file ../../../AiQuestion/gector/model/bert-base-cased/tokenizer_config.json. We won't load it.\n",
      "I1028 16:16:43.496357 4445881792 tokenization_utils.py:395] loading file ../../../AiQuestion/gector/model/bert-base-cased/vocab.txt\n",
      "I1028 16:16:43.496949 4445881792 tokenization_utils.py:395] loading file None\n",
      "I1028 16:16:43.497336 4445881792 tokenization_utils.py:395] loading file None\n",
      "I1028 16:16:43.497777 4445881792 tokenization_utils.py:395] loading file None\n"
     ]
    }
   ],
   "source": [
    "tokenizer = BertTokenizer.from_pretrained(\"../../../AiQuestion/gector/model/bert-base-cased/\")"
   ]
  },
  {
   "cell_type": "code",
   "execution_count": 13,
   "metadata": {},
   "outputs": [],
   "source": [
    "import torch"
   ]
  },
  {
   "cell_type": "code",
   "execution_count": 14,
   "metadata": {},
   "outputs": [],
   "source": [
    " ids = torch.tensor([101,1184,1110,7434,3187,136,102])\n"
   ]
  },
  {
   "cell_type": "code",
   "execution_count": 15,
   "metadata": {},
   "outputs": [],
   "source": [
    " tokens = tokenizer.convert_ids_to_tokens(ids)"
   ]
  },
  {
   "cell_type": "code",
   "execution_count": 16,
   "metadata": {},
   "outputs": [
    {
     "data": {
      "text/plain": [
       "['[UNK]', '[UNK]', '[UNK]', '[UNK]', '[UNK]', '[UNK]', '[UNK]']"
      ]
     },
     "execution_count": 16,
     "metadata": {},
     "output_type": "execute_result"
    }
   ],
   "source": [
    "tokens"
   ]
  },
  {
   "cell_type": "code",
   "execution_count": 18,
   "metadata": {},
   "outputs": [
    {
     "name": "stdout",
     "output_type": "stream",
     "text": [
      "/Users/hesu/Documents/notes/jupyter/pytorch\r\n"
     ]
    }
   ],
   "source": [
    "!pwd"
   ]
  },
  {
   "cell_type": "code",
   "execution_count": 20,
   "metadata": {},
   "outputs": [],
   "source": [
    " ids = torch.tensor([101,1184,1110,7434,3187,136,102])\n"
   ]
  },
  {
   "cell_type": "code",
   "execution_count": 21,
   "metadata": {},
   "outputs": [
    {
     "data": {
      "text/plain": [
       "tensor([ 101, 1184, 1110, 7434, 3187,  136,  102])"
      ]
     },
     "execution_count": 21,
     "metadata": {},
     "output_type": "execute_result"
    }
   ],
   "source": [
    "ids"
   ]
  },
  {
   "cell_type": "code",
   "execution_count": 1,
   "metadata": {},
   "outputs": [
    {
     "ename": "NameError",
     "evalue": "name 'torch' is not defined",
     "output_type": "error",
     "traceback": [
      "\u001b[0;31m---------------------------------------------------------------------------\u001b[0m",
      "\u001b[0;31mNameError\u001b[0m                                 Traceback (most recent call last)",
      "\u001b[0;32m<ipython-input-1-cbb0f31bbc56>\u001b[0m in \u001b[0;36m<module>\u001b[0;34m\u001b[0m\n\u001b[0;32m----> 1\u001b[0;31m \u001b[0minput_ids\u001b[0m \u001b[0;34m=\u001b[0m \u001b[0mtorch\u001b[0m\u001b[0;34m.\u001b[0m\u001b[0mtensor\u001b[0m\u001b[0;34m(\u001b[0m\u001b[0;34m[\u001b[0m\u001b[0;36m101\u001b[0m\u001b[0;34m,\u001b[0m\u001b[0;36m25527\u001b[0m\u001b[0;34m,\u001b[0m\u001b[0;36m117\u001b[0m\u001b[0;34m,\u001b[0m\u001b[0;36m1126\u001b[0m\u001b[0;34m,\u001b[0m\u001b[0;36m2728\u001b[0m\u001b[0;34m,\u001b[0m\u001b[0;36m8734\u001b[0m\u001b[0;34m,\u001b[0m\u001b[0;36m2093\u001b[0m\u001b[0;34m,\u001b[0m\u001b[0;36m1103\u001b[0m\u001b[0;34m]\u001b[0m\u001b[0;34m)\u001b[0m\u001b[0;34m\u001b[0m\u001b[0;34m\u001b[0m\u001b[0m\n\u001b[0m\u001b[1;32m      2\u001b[0m \u001b[0mres\u001b[0m \u001b[0;34m=\u001b[0m \u001b[0mtokenizer\u001b[0m\u001b[0;34m.\u001b[0m\u001b[0mconvert_ids_to_tokens\u001b[0m\u001b[0;34m(\u001b[0m\u001b[0minput_ids\u001b[0m\u001b[0;34m)\u001b[0m\u001b[0;34m\u001b[0m\u001b[0;34m\u001b[0m\u001b[0m\n",
      "\u001b[0;31mNameError\u001b[0m: name 'torch' is not defined"
     ]
    }
   ],
   "source": [
    "input_ids = torch.tensor([101,25527,117,1126,2728,8734,2093,1103])\n",
    "res = tokenizer.convert_ids_to_tokens(input_ids)\n"
   ]
  },
  {
   "cell_type": "code",
   "execution_count": null,
   "metadata": {},
   "outputs": [],
   "source": []
  },
  {
   "cell_type": "code",
   "execution_count": null,
   "metadata": {},
   "outputs": [],
   "source": []
  },
  {
   "cell_type": "code",
   "execution_count": null,
   "metadata": {},
   "outputs": [],
   "source": []
  },
  {
   "cell_type": "code",
   "execution_count": 3,
   "metadata": {},
   "outputs": [],
   "source": [
    "import numpy as mp\n",
    "import sys\n",
    "\n",
    "if \"../\" not in sys.path:\n",
    "  sys.path.append(\"../\") "
   ]
  },
  {
   "cell_type": "code",
   "execution_count": 4,
   "metadata": {},
   "outputs": [
    {
     "ename": "ModuleNotFoundError",
     "evalue": "No module named 'lib'",
     "output_type": "error",
     "traceback": [
      "\u001b[0;31m---------------------------------------------------------------------------\u001b[0m",
      "\u001b[0;31mModuleNotFoundError\u001b[0m                       Traceback (most recent call last)",
      "\u001b[0;32m<ipython-input-4-fbdb78c51e60>\u001b[0m in \u001b[0;36m<module>\u001b[0;34m\u001b[0m\n\u001b[0;32m----> 1\u001b[0;31m \u001b[0;32mfrom\u001b[0m \u001b[0mlib\u001b[0m\u001b[0;34m.\u001b[0m\u001b[0menvs\u001b[0m\u001b[0;34m.\u001b[0m\u001b[0mgridworld\u001b[0m \u001b[0;32mimport\u001b[0m \u001b[0mGridworldEnv\u001b[0m\u001b[0;34m\u001b[0m\u001b[0;34m\u001b[0m\u001b[0m\n\u001b[0m",
      "\u001b[0;31mModuleNotFoundError\u001b[0m: No module named 'lib'"
     ]
    }
   ],
   "source": [
    "from lib.envs.gridworld import GridworldEnv"
   ]
  },
  {
   "cell_type": "code",
   "execution_count": 3,
   "metadata": {},
   "outputs": [],
   "source": [
    "def getNext(w):\n",
    "    # 构建next数组的核心思想就是，求当前位置的后缀和起始点的前缀的最大的公共子序列的长度\n",
    "#     http://www.ruanyifeng.com/blog/2013/05/Knuth%E2%80%93Morris%E2%80%93Pratt_algorithm.html\n",
    "    array = [0]*len(w)\n",
    "    \n",
    "    i = 1\n",
    "    m = 0\n",
    "    \n",
    "    while i < len(w):\n",
    "        print(\"i is:{}\\t m is:{}\\t array is:{}\".format(i,m,array))\n",
    "\n",
    "        if w[i] == w[m]:\n",
    "            # 当前位置i的值和前缀位置相等，那么可以给m+1，因为m初始值为0，然后赋值给array[i]\n",
    "            # 同理当后续i+1和m+1的位置相等时，可以不断的迭代下去\n",
    "            m += 1\n",
    "            array[i] = m\n",
    "            i += 1\n",
    "        elif w[i] != w[m] and m != 0:\n",
    "            # 这里是当i和m位置的值，不相等，并且m不等于；\n",
    "            # 这种情况就是比如字符串\"ACABACACD\"走到i=7时，此时m=3，因为第4个字符到第6个字符\"ACA\"和第0个字符到底2个字符\"ACA\"相等，\n",
    "            # 但是此时第7个字符\"C\"和第3个字符\"B\"不相等，那么我们此时要如何操作呢？\n",
    "            # 此时，我们要铭记我们的nexrt数组的主旨是要存储当前位置i的后缀和起始位置0的最长匹配串。\n",
    "            #【我们此时之所以匹配第i个字符和第m个字符是否相等，是因为我们已经知道第0到第m-1个字符和从第i-m-1到第i-1个字符相等】\n",
    "            # 既然从0到m位置的匹配无法成功，那么我们就需要缩短匹配的字符串长度，此时我们其实是知道第i-1个字符串和第m-1个字符是相等的，\n",
    "            # 那么我们其实可以找到第m-1个字符串的最长匹配长度，在他的基础上再来匹配最长长度。\n",
    "            # 也就是我们其实根据next数组array还知道一个信息，就是从第0个字符到第array[m-1]-1个字符\n",
    "            # 其实和从第i-array[m-1]个字符到第i-1个字符是相等的【这个信息其实是根据array[m-1]的值得到的】；\n",
    "            # 所以我们接下来需要判断第i个字符和第array[m-1]个字符是否相等\n",
    "            # 所以这里其实也可以写成循环的方式\n",
    "            # 注意这里对i没有执行+1操作\n",
    "            m = array[m-1]\n",
    "        else:\n",
    "            array[i] = 0\n",
    "            i += 1\n",
    "            \n",
    "        \n",
    "        \n",
    "    return array\n"
   ]
  },
  {
   "cell_type": "code",
   "execution_count": 4,
   "metadata": {},
   "outputs": [
    {
     "name": "stdout",
     "output_type": "stream",
     "text": [
      "i is:1\t m is:0\t array is:[0, 0, 0, 0, 0, 0, 0, 0, 0]\n",
      "i is:2\t m is:0\t array is:[0, 0, 0, 0, 0, 0, 0, 0, 0]\n",
      "i is:3\t m is:1\t array is:[0, 0, 1, 0, 0, 0, 0, 0, 0]\n",
      "i is:3\t m is:0\t array is:[0, 0, 1, 0, 0, 0, 0, 0, 0]\n",
      "i is:4\t m is:0\t array is:[0, 0, 1, 0, 0, 0, 0, 0, 0]\n",
      "i is:5\t m is:1\t array is:[0, 0, 1, 0, 1, 0, 0, 0, 0]\n",
      "i is:6\t m is:2\t array is:[0, 0, 1, 0, 1, 2, 0, 0, 0]\n",
      "i is:7\t m is:3\t array is:[0, 0, 1, 0, 1, 2, 3, 0, 0]\n",
      "i is:7\t m is:1\t array is:[0, 0, 1, 0, 1, 2, 3, 0, 0]\n",
      "i is:8\t m is:2\t array is:[0, 0, 1, 0, 1, 2, 3, 2, 0]\n",
      "i is:8\t m is:0\t array is:[0, 0, 1, 0, 1, 2, 3, 2, 0]\n"
     ]
    }
   ],
   "source": [
    "res = getNext(\"ACABACACD\")"
   ]
  },
  {
   "cell_type": "code",
   "execution_count": 5,
   "metadata": {},
   "outputs": [],
   "source": [
    "def getNext(w):\n",
    "    array = [0]*len(w)\n",
    "    \n",
    "    i = 1\n",
    "    m = 0\n",
    "    while i < len(w):\n",
    "        if w[i] == w[m]:\n",
    "            m += 1\n",
    "            array[i] = m\n",
    "            i += 1\n",
    "        elif w[i] != w[m] and m != 0:\n",
    "            while w[i] != w[m] and m != 0:\n",
    "                m = array[m-1]\n",
    "        else:\n",
    "            array[i] = 0\n",
    "            i += 1\n",
    "    return array\n",
    "    \n",
    "    "
   ]
  },
  {
   "cell_type": "code",
   "execution_count": 6,
   "metadata": {},
   "outputs": [
    {
     "data": {
      "text/plain": [
       "[0, 0, 1, 0, 1, 2, 3, 2, 0]"
      ]
     },
     "execution_count": 6,
     "metadata": {},
     "output_type": "execute_result"
    }
   ],
   "source": [
    "res = getNext(\"ACABACACD\")\n",
    "res"
   ]
  },
  {
   "cell_type": "code",
   "execution_count": 7,
   "metadata": {},
   "outputs": [],
   "source": [
    "a = \"abcdeffg\""
   ]
  },
  {
   "cell_type": "code",
   "execution_count": 8,
   "metadata": {},
   "outputs": [],
   "source": [
    "c = a[2:5]"
   ]
  },
  {
   "cell_type": "code",
   "execution_count": 9,
   "metadata": {},
   "outputs": [
    {
     "data": {
      "text/plain": [
       "'cde'"
      ]
     },
     "execution_count": 9,
     "metadata": {},
     "output_type": "execute_result"
    }
   ],
   "source": [
    "c"
   ]
  },
  {
   "cell_type": "code",
   "execution_count": 10,
   "metadata": {},
   "outputs": [
    {
     "ename": "TypeError",
     "evalue": "'str' object does not support item assignment",
     "output_type": "error",
     "traceback": [
      "\u001b[0;31m---------------------------------------------------------------------------\u001b[0m",
      "\u001b[0;31mTypeError\u001b[0m                                 Traceback (most recent call last)",
      "\u001b[0;32m<ipython-input-10-d5a084192735>\u001b[0m in \u001b[0;36m<module>\u001b[0;34m\u001b[0m\n\u001b[0;32m----> 1\u001b[0;31m \u001b[0ma\u001b[0m\u001b[0;34m[\u001b[0m\u001b[0;36m2\u001b[0m\u001b[0;34m]\u001b[0m \u001b[0;34m=\u001b[0m \u001b[0;34m'g'\u001b[0m\u001b[0;34m\u001b[0m\u001b[0;34m\u001b[0m\u001b[0m\n\u001b[0m",
      "\u001b[0;31mTypeError\u001b[0m: 'str' object does not support item assignment"
     ]
    }
   ],
   "source": [
    "a[2] = 'g'"
   ]
  },
  {
   "cell_type": "code",
   "execution_count": null,
   "metadata": {},
   "outputs": [],
   "source": [
    "class Solution:\n",
    "    def nextPermutation(self, nums):\n",
    "        \"\"\"\n",
    "        :type nums: List[int]\n",
    "        :rtype: void Do not return anything, modify nums in-place instead.\n",
    "        \"\"\"\n",
    "        i = j = r = len(nums) - 1\n",
    "        while i > 0 and nums[i] <= nums[i-1]:\n",
    "            i -= 1\n",
    "            \n",
    "        i -= 1\n",
    "        if i >= 0:\n",
    "            while j >= i and nums[j] <= nums[i]:\n",
    "                j -= 1\n",
    "\n",
    "            nums[i], nums[j] = nums[j], nums[i]\n",
    "        \n",
    "        i += 1\n",
    "        while i < r:\n",
    "            nums[i], nums[r] = nums[r], nums[i]\n",
    "            i += 1\n",
    "            r -= 1\n"
   ]
  }
 ],
 "metadata": {
  "kernelspec": {
   "display_name": "Python 3",
   "language": "python",
   "name": "python3"
  },
  "language_info": {
   "codemirror_mode": {
    "name": "ipython",
    "version": 3
   },
   "file_extension": ".py",
   "mimetype": "text/x-python",
   "name": "python",
   "nbconvert_exporter": "python",
   "pygments_lexer": "ipython3",
   "version": "3.7.8"
  }
 },
 "nbformat": 4,
 "nbformat_minor": 2
}
