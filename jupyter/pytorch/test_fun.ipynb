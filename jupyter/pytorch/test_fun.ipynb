{
 "cells": [
  {
   "cell_type": "code",
   "execution_count": 3,
   "metadata": {},
   "outputs": [
    {
     "name": "stdout",
     "output_type": "stream",
     "text": [
      "tensor([[[1., 1., 1., 1.],\n",
      "         [1., 1., 1., 1.],\n",
      "         [1., 1., 1., 1.]],\n",
      "\n",
      "        [[1., 1., 1., 1.],\n",
      "         [1., 1., 1., 1.],\n",
      "         [1., 1., 1., 1.]]])\n",
      "tensor([[[1., 1., 1.],\n",
      "         [1., 1., 1.],\n",
      "         [1., 1., 1.],\n",
      "         [1., 1., 1.]],\n",
      "\n",
      "        [[1., 1., 1.],\n",
      "         [1., 1., 1.],\n",
      "         [1., 1., 1.],\n",
      "         [1., 1., 1.]]])\n",
      "torch.Size([2, 3, 3])\n",
      "tensor([[[4., 4., 4.],\n",
      "         [4., 4., 4.],\n",
      "         [4., 4., 4.]],\n",
      "\n",
      "        [[4., 4., 4.],\n",
      "         [4., 4., 4.],\n",
      "         [4., 4., 4.]]])\n",
      "torch.Size([2, 3, 4])\n",
      "attention2.size is: torch.Size([2, 3, 3])\n",
      "attention2 is: tensor([[[ 4,  4,  4],\n",
      "         [ 4,  4,  4],\n",
      "         [ 4,  4,  4]],\n",
      "\n",
      "        [[16, 16, 16],\n",
      "         [16, 16, 16],\n",
      "         [16, 16, 16]]])\n"
     ]
    }
   ],
   "source": [
    "#测试torch.bmm()如何实现三维矩阵乘法的\n",
    "#测试结果发现，三维矩阵相乘还是通过底部的二维矩阵先相乘，然后不断往前面的高维堆砌前进\n",
    "\n",
    "\n",
    "import torch\n",
    "\n",
    "q = torch.ones(24).view(2,3,4)\n",
    "print(q)\n",
    "k = torch.ones(24).view(2,3,4)\n",
    "k = k.transpose(1,2)\n",
    "print(k)\n",
    "attention = torch.bmm(q, k)\n",
    "print(attention.size())\n",
    "print(attention)\n",
    "\n",
    "#我们用两个三维矩阵，维度分别为(2,3,4),(2,4,3)，进行矩阵的乘法，\n",
    "#最后得到的attention的维度为(2,3,3),\n",
    "#我的理解也就是说其实是(3,4)和(4,3)矩阵进行相乘，为了验证结果，我们设置新的两个三维矩阵，看他们相乘的结果是什么\n",
    "\n",
    "\n",
    "a = torch.tensor([[[1,1,1,1],\n",
    "                   [1,1,1,1],\n",
    "                   [1,1,1,1]],\n",
    "                  [[2,2,2,2],\n",
    "                   [2,2,2,2],\n",
    "                   [2,2,2,2]]])\n",
    "print(a.size())\n",
    "\n",
    "\n",
    "b = torch.tensor([[[1,1,1,1],\n",
    "                   [1,1,1,1],\n",
    "                   [1,1,1,1]],\n",
    "                  [[2,2,2,2],\n",
    "                   [2,2,2,2],\n",
    "                   [2,2,2,2]]])\n",
    "b = b.transpose(1,2)\n",
    "\n",
    "attention2 = torch.bmm(a,b)\n",
    "print(\"attention2.size is:\", attention2.size())\n",
    "print(\"attention2 is:\", attention2)\n",
    "#attention2的结果也验证了我们的想法。三维矩阵，其实还是二维矩阵的乘法实现的，\n",
    "#用最后两个维度的矩阵实现乘法，然后不断的堆砌往前面的维度前进\n"
   ]
  },
  {
   "cell_type": "code",
   "execution_count": 1,
   "metadata": {},
   "outputs": [
    {
     "name": "stdout",
     "output_type": "stream",
     "text": [
      "tensor([[[1., 1., 1., 1.],\n",
      "         [1., 1., 1., 1.],\n",
      "         [1., 1., 1., 1.]],\n",
      "\n",
      "        [[1., 1., 1., 1.],\n",
      "         [1., 1., 1., 1.],\n",
      "         [1., 1., 1., 1.]]])\n",
      "tensor([[[1.1111, 1.1111, 1.1111, 1.1111],\n",
      "         [0.0000, 1.1111, 1.1111, 1.1111],\n",
      "         [1.1111, 1.1111, 1.1111, 1.1111]],\n",
      "\n",
      "        [[1.1111, 1.1111, 1.1111, 1.1111],\n",
      "         [1.1111, 1.1111, 1.1111, 0.0000],\n",
      "         [1.1111, 1.1111, 1.1111, 1.1111]]])\n"
     ]
    }
   ],
   "source": [
    "#测试dropout的功能\n",
    "#实验的结果显示，dropout层是按照一定的概率将某些值置为0，目前还没有看dropout的具体源码\n",
    "\n",
    "import torch\n",
    "import torch.nn as nn\n",
    "\n",
    "#a = torch.arange(24).view(2,3,4)\n",
    "a = torch.ones((2,3,4))\n",
    "print(a)\n",
    "\n",
    "dropout_layer = nn.Dropout(0.1)\n",
    "b = dropout_layer(a)\n",
    "print(b)\n"
   ]
  },
  {
   "cell_type": "code",
   "execution_count": 1,
   "metadata": {},
   "outputs": [],
   "source": [
    "label_ids = [1,2,3,4]\n",
    "d_tags_ids = [1,1,1,1]\n",
    "input_ids = [1,2,3,4]\n",
    "pred_mask = [1,1,1,1]\n"
   ]
  },
  {
   "cell_type": "code",
   "execution_count": 3,
   "metadata": {},
   "outputs": [],
   "source": [
    "label_id = 5\n",
    "token_id = [2,4,5]\n",
    "d_tag_id = 1\n"
   ]
  },
  {
   "cell_type": "code",
   "execution_count": 4,
   "metadata": {},
   "outputs": [],
   "source": [
    "label_ids.extend([label_id]*len(token_id))\n",
    "input_ids.extend(token_id)\n",
    "d_tags_ids.extend([d_tag_id]*len(token_id))\n",
    "pred_mask.extend([1]+[0]*(len(token_id)-1))"
   ]
  },
  {
   "cell_type": "code",
   "execution_count": 5,
   "metadata": {},
   "outputs": [
    {
     "data": {
      "text/plain": [
       "[1, 2, 3, 4, 5, 5, 5]"
      ]
     },
     "execution_count": 5,
     "metadata": {},
     "output_type": "execute_result"
    }
   ],
   "source": [
    "label_ids\n"
   ]
  },
  {
   "cell_type": "code",
   "execution_count": 6,
   "metadata": {},
   "outputs": [
    {
     "data": {
      "text/plain": [
       "[1, 1, 1, 1, 1, 1, 1]"
      ]
     },
     "execution_count": 6,
     "metadata": {},
     "output_type": "execute_result"
    }
   ],
   "source": [
    "d_tags_ids"
   ]
  },
  {
   "cell_type": "code",
   "execution_count": 7,
   "metadata": {},
   "outputs": [
    {
     "data": {
      "text/plain": [
       "[1, 2, 3, 4, 2, 4, 5]"
      ]
     },
     "execution_count": 7,
     "metadata": {},
     "output_type": "execute_result"
    }
   ],
   "source": [
    "input_ids"
   ]
  },
  {
   "cell_type": "code",
   "execution_count": 8,
   "metadata": {},
   "outputs": [
    {
     "data": {
      "text/plain": [
       "[1, 1, 1, 1, 1, 0, 0]"
      ]
     },
     "execution_count": 8,
     "metadata": {},
     "output_type": "execute_result"
    }
   ],
   "source": [
    "pred_mask"
   ]
  },
  {
   "cell_type": "code",
   "execution_count": 9,
   "metadata": {},
   "outputs": [
    {
     "name": "stderr",
     "output_type": "stream",
     "text": [
      "I1028 16:14:07.937288 4445881792 file_utils.py:40] PyTorch version 1.4.0 available.\n"
     ]
    }
   ],
   "source": [
    "import transformers"
   ]
  },
  {
   "cell_type": "code",
   "execution_count": 10,
   "metadata": {},
   "outputs": [],
   "source": [
    "from transformers import BertTokenizer, BertConfig"
   ]
  },
  {
   "cell_type": "code",
   "execution_count": 19,
   "metadata": {},
   "outputs": [
    {
     "name": "stderr",
     "output_type": "stream",
     "text": [
      "I1028 16:16:43.492889 4445881792 tokenization_utils.py:327] Model name '../../../AiQuestion/gector/model/bert-base-cased/' not found in model shortcut name list (bert-base-uncased, bert-large-uncased, bert-base-cased, bert-large-cased, bert-base-multilingual-uncased, bert-base-multilingual-cased, bert-base-chinese, bert-base-german-cased, bert-large-uncased-whole-word-masking, bert-large-cased-whole-word-masking, bert-large-uncased-whole-word-masking-finetuned-squad, bert-large-cased-whole-word-masking-finetuned-squad, bert-base-cased-finetuned-mrpc, bert-base-german-dbmdz-cased, bert-base-german-dbmdz-uncased). Assuming '../../../AiQuestion/gector/model/bert-base-cased/' is a path or url to a directory containing tokenizer files.\n",
      "I1028 16:16:43.494362 4445881792 tokenization_utils.py:359] Didn't find file ../../../AiQuestion/gector/model/bert-base-cased/added_tokens.json. We won't load it.\n",
      "I1028 16:16:43.494868 4445881792 tokenization_utils.py:359] Didn't find file ../../../AiQuestion/gector/model/bert-base-cased/special_tokens_map.json. We won't load it.\n",
      "I1028 16:16:43.495344 4445881792 tokenization_utils.py:359] Didn't find file ../../../AiQuestion/gector/model/bert-base-cased/tokenizer_config.json. We won't load it.\n",
      "I1028 16:16:43.496357 4445881792 tokenization_utils.py:395] loading file ../../../AiQuestion/gector/model/bert-base-cased/vocab.txt\n",
      "I1028 16:16:43.496949 4445881792 tokenization_utils.py:395] loading file None\n",
      "I1028 16:16:43.497336 4445881792 tokenization_utils.py:395] loading file None\n",
      "I1028 16:16:43.497777 4445881792 tokenization_utils.py:395] loading file None\n"
     ]
    }
   ],
   "source": [
    "tokenizer = BertTokenizer.from_pretrained(\"../../../AiQuestion/gector/model/bert-base-cased/\")"
   ]
  },
  {
   "cell_type": "code",
   "execution_count": 13,
   "metadata": {},
   "outputs": [],
   "source": [
    "import torch"
   ]
  },
  {
   "cell_type": "code",
   "execution_count": 14,
   "metadata": {},
   "outputs": [],
   "source": [
    " ids = torch.tensor([101,1184,1110,7434,3187,136,102])\n"
   ]
  },
  {
   "cell_type": "code",
   "execution_count": 15,
   "metadata": {},
   "outputs": [],
   "source": [
    " tokens = tokenizer.convert_ids_to_tokens(ids)"
   ]
  },
  {
   "cell_type": "code",
   "execution_count": 16,
   "metadata": {},
   "outputs": [
    {
     "data": {
      "text/plain": [
       "['[UNK]', '[UNK]', '[UNK]', '[UNK]', '[UNK]', '[UNK]', '[UNK]']"
      ]
     },
     "execution_count": 16,
     "metadata": {},
     "output_type": "execute_result"
    }
   ],
   "source": [
    "tokens"
   ]
  },
  {
   "cell_type": "code",
   "execution_count": 18,
   "metadata": {},
   "outputs": [
    {
     "name": "stdout",
     "output_type": "stream",
     "text": [
      "/Users/hesu/Documents/notes/jupyter/pytorch\r\n"
     ]
    }
   ],
   "source": [
    "!pwd"
   ]
  },
  {
   "cell_type": "code",
   "execution_count": 20,
   "metadata": {},
   "outputs": [],
   "source": [
    " ids = torch.tensor([101,1184,1110,7434,3187,136,102])\n"
   ]
  },
  {
   "cell_type": "code",
   "execution_count": 21,
   "metadata": {},
   "outputs": [
    {
     "data": {
      "text/plain": [
       "tensor([ 101, 1184, 1110, 7434, 3187,  136,  102])"
      ]
     },
     "execution_count": 21,
     "metadata": {},
     "output_type": "execute_result"
    }
   ],
   "source": [
    "ids"
   ]
  },
  {
   "cell_type": "code",
   "execution_count": null,
   "metadata": {},
   "outputs": [],
   "source": [
    "input_ids = torch.tensor([101,25527,117,1126,2728,8734,2093,1103])\n",
    "res = tokenizer.convert_ids_to_tokens(input_ids)\n"
   ]
  }
 ],
 "metadata": {
  "kernelspec": {
   "display_name": "Python 3",
   "language": "python",
   "name": "python3"
  },
  "language_info": {
   "codemirror_mode": {
    "name": "ipython",
    "version": 3
   },
   "file_extension": ".py",
   "mimetype": "text/x-python",
   "name": "python",
   "nbconvert_exporter": "python",
   "pygments_lexer": "ipython3",
   "version": "3.7.3"
  }
 },
 "nbformat": 4,
 "nbformat_minor": 2
}
