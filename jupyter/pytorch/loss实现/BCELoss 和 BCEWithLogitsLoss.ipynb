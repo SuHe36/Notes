{
 "cells": [
  {
   "cell_type": "code",
   "execution_count": 1,
   "metadata": {},
   "outputs": [],
   "source": [
    "import torch"
   ]
  },
  {
   "cell_type": "markdown",
   "metadata": {},
   "source": [
    "# BCELoss\n",
    "在图片多标签分类时，如果3张图片分三类，那么会输出一个3*3的矩阵"
   ]
  },
  {
   "cell_type": "code",
   "execution_count": 13,
   "metadata": {},
   "outputs": [
    {
     "data": {
      "text/plain": [
       "tensor([[-0.4089, -1.2471,  0.5907],\n",
       "        [-0.4897, -0.8267, -0.7349],\n",
       "        [ 0.5241, -0.1246, -0.4751]])"
      ]
     },
     "execution_count": 13,
     "metadata": {},
     "output_type": "execute_result"
    }
   ],
   "source": [
    "input = torch.FloatTensor([[-0.4089, -1.2471, 0.5907],\n",
    "                          [-0.4897, -0.8267, -0.7349],\n",
    "                          [0.5241, -0.1246, -0.4751]])\n",
    "input"
   ]
  },
  {
   "cell_type": "raw",
   "metadata": {},
   "source": [
    "那么接下来使用Sigmoid函数给这些值搞到0~1之间："
   ]
  },
  {
   "cell_type": "code",
   "execution_count": 14,
   "metadata": {},
   "outputs": [
    {
     "data": {
      "text/plain": [
       "tensor([[0.3992, 0.2232, 0.6435],\n",
       "        [0.3800, 0.3043, 0.3241],\n",
       "        [0.6281, 0.4689, 0.3834]])"
      ]
     },
     "execution_count": 14,
     "metadata": {},
     "output_type": "execute_result"
    }
   ],
   "source": [
    "m = torch.nn.Sigmoid()\n",
    "input = m(input)\n",
    "input"
   ]
  },
  {
   "cell_type": "markdown",
   "metadata": {},
   "source": [
    "假如Target是："
   ]
  },
  {
   "cell_type": "code",
   "execution_count": 15,
   "metadata": {},
   "outputs": [],
   "source": [
    "target = torch.FloatTensor([[0,1,1],\n",
    "                           [0,0,1],\n",
    "                           [1,0,1]])\n"
   ]
  },
  {
   "cell_type": "markdown",
   "metadata": {},
   "source": [
    "BCELoss是 $-\\frac{1}{n}\\sum (y_n \\times ln x_n) + (1-y_n) \\times ln(1-x_n)$\n",
    "\n",
    "\n",
    "其中,y是target，x是模型输出的值\n",
    "\n",
    "\n",
    "所以对于第一行：\n",
    "\n",
    "第一列0×ln0.3992+(1−0)×ln(1−0.3992)=−0.50950×ln0.3992+(1−0)×ln(1−0.3992)=−0.5095\n",
    "\n",
    "第二列1×ln0.2232+(1−1)×ln(1−0.2232)=−1.49971×ln0.2232+(1−1)×ln(1−0.2232)=−1.4997\n",
    "\n",
    "第三列1×ln0.6435+(1−1)×ln(1−0.6435)=−0.44081×ln0.6435+(1−1)×ln(1−0.6435)=−0.4408\n",
    "\n",
    "\n",
    "第二行：\n",
    "\n",
    "第一列0×ln0.3800+(1−0)×ln(1−0.3800)=−0.47800×ln0.3800+(1−0)×ln(1−0.3800)=−0.4780\n",
    "\n",
    "第二列0×ln0.3044+(1−0)×ln(1−0.3044)=−0.36300×ln0.3044+(1−0)×ln(1−0.3044)=−0.3630\n",
    "\n",
    "第三列1×ln0.3241+(1−1)×ln(1−0.3241)=−1.12671×ln0.3241+(1−1)×ln(1−0.3241)=−1.1267\n",
    "\n",
    "\n",
    "第三行：\n",
    "\n",
    "第一列1×ln0.6281+(1−1)×ln(1−0.6281)=−0.46511×ln0.6281+(1−1)×ln(1−0.6281)=−0.4651\n",
    "\n",
    "第二列0×ln0.4689+(1−0)×ln(1−0.4689)=−0.63280×ln0.4689+(1−0)×ln(1−0.4689)=−0.6328\n",
    "\n",
    "第三列1×ln0.3834+(1−1)×ln(1−0.3834)=−0.95871×ln0.3834+(1−1)×ln(1−0.3834)=−0.9587\n",
    "\n",
    "\n",
    "去掉负号求均值：\n",
    "\n",
    "$\\frac{0.5095+1.4997+0.4408}{3} = 0.8167$\n",
    "\n",
    "$\\frac{0.4780+0.3630+1.1267}{3} = 0.6559$\n",
    "\n",
    "$\\frac{0.4651+0.6328+0.9587}{3} = 0.6855$ \n",
    "\n",
    "在求个平均：\n",
    "\n",
    "$\\frac{0.8167+0.6559+0.6855}{3} = 0.7194$"
   ]
  },
  {
   "cell_type": "markdown",
   "metadata": {},
   "source": [
    "下面我们用BCELoss来验证一下Loss是不是0.7194"
   ]
  },
  {
   "cell_type": "code",
   "execution_count": 16,
   "metadata": {},
   "outputs": [
    {
     "data": {
      "text/plain": [
       "tensor(0.7193)"
      ]
     },
     "execution_count": 16,
     "metadata": {},
     "output_type": "execute_result"
    }
   ],
   "source": [
    "loss = torch.nn.BCELoss()\n",
    "\n",
    "loss(input, target)"
   ]
  },
  {
   "cell_type": "markdown",
   "metadata": {},
   "source": [
    "这里的误差0.0001是因为上面计算损失值时，每次都只保留了四位小数，所以存在了一点误差。"
   ]
  },
  {
   "cell_type": "markdown",
   "metadata": {},
   "source": [
    "# BCEWithLogitsLoss"
   ]
  },
  {
   "cell_type": "markdown",
   "metadata": {},
   "source": [
    "**BCEWithLogitsLoss就是把sigmoid-BCELoss合成了一步完成，我们直接用刚刚的input验证一下结果是不是0.7193**"
   ]
  },
  {
   "cell_type": "code",
   "execution_count": 18,
   "metadata": {},
   "outputs": [
    {
     "data": {
      "text/plain": [
       "tensor(0.7193)"
      ]
     },
     "execution_count": 18,
     "metadata": {},
     "output_type": "execute_result"
    }
   ],
   "source": [
    "input = torch.FloatTensor([[-0.4089, -1.2471, 0.5907],\n",
    "                          [-0.4897, -0.8267, -0.7349],\n",
    "                          [0.5241, -0.1246, -0.4751]])\n",
    "\n",
    "target = torch.FloatTensor([[0,1,1],\n",
    "                           [0,0,1],\n",
    "                           [1,0,1]])\n",
    "\n",
    "loss = torch.nn.BCEWithLogitsLoss()\n",
    "loss(input, target)\n",
    "\n"
   ]
  },
  {
   "cell_type": "markdown",
   "metadata": {},
   "source": [
    "## 其他的例子"
   ]
  },
  {
   "cell_type": "code",
   "execution_count": 28,
   "metadata": {},
   "outputs": [
    {
     "data": {
      "text/plain": [
       "tensor([[[0., 1., 1., 0.],\n",
       "         [1., 1., 1., 1.],\n",
       "         [0., 0., 1., 1.]],\n",
       "\n",
       "        [[1., 0., 1., 0.],\n",
       "         [0., 1., 0., 0.],\n",
       "         [0., 1., 0., 1.]]])"
      ]
     },
     "execution_count": 28,
     "metadata": {},
     "output_type": "execute_result"
    }
   ],
   "source": [
    "x = torch.rand([2,3,4])\n",
    "labels = torch.round(x)\n",
    "# torch.round()返回相邻的最大整数\n",
    "labels"
   ]
  },
  {
   "cell_type": "code",
   "execution_count": 31,
   "metadata": {},
   "outputs": [
    {
     "data": {
      "text/plain": [
       "tensor([[[-0.0828,  0.1661, -0.5422, -1.2300],\n",
       "         [-1.0764, -0.1699, -0.0334,  0.3021],\n",
       "         [-0.3994, -0.8070,  1.0112, -0.7639]],\n",
       "\n",
       "        [[-1.4431,  0.3587,  0.2310, -0.7968],\n",
       "         [ 1.0035,  1.2438, -0.0235, -1.0956],\n",
       "         [-1.6103,  2.2160,  0.5243,  0.4291]]])"
      ]
     },
     "execution_count": 31,
     "metadata": {},
     "output_type": "execute_result"
    }
   ],
   "source": [
    "input = torch.randn([2,3,4])\n",
    "input"
   ]
  },
  {
   "cell_type": "code",
   "execution_count": 33,
   "metadata": {},
   "outputs": [
    {
     "data": {
      "text/plain": [
       "tensor(0.6705)"
      ]
     },
     "execution_count": 33,
     "metadata": {},
     "output_type": "execute_result"
    }
   ],
   "source": [
    "loss_layer = torch.nn.BCEWithLogitsLoss()\n",
    "loss = loss_layer(input, labels)\n",
    "loss"
   ]
  },
  {
   "cell_type": "code",
   "execution_count": null,
   "metadata": {},
   "outputs": [],
   "source": []
  }
 ],
 "metadata": {
  "kernelspec": {
   "display_name": "Python 3",
   "language": "python",
   "name": "python3"
  },
  "language_info": {
   "codemirror_mode": {
    "name": "ipython",
    "version": 3
   },
   "file_extension": ".py",
   "mimetype": "text/x-python",
   "name": "python",
   "nbconvert_exporter": "python",
   "pygments_lexer": "ipython3",
   "version": "3.7.8"
  }
 },
 "nbformat": 4,
 "nbformat_minor": 4
}
