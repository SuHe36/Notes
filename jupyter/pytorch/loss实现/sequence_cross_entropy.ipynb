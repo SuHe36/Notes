{
 "cells": [
  {
   "cell_type": "code",
   "execution_count": 3,
   "metadata": {},
   "outputs": [],
   "source": [
    "import torch\n",
    "import torch.nn.functional as F\n",
    "import allennlp"
   ]
  },
  {
   "cell_type": "code",
   "execution_count": 16,
   "metadata": {},
   "outputs": [
    {
     "data": {
      "text/plain": [
       "tensor([[[-0.5880,  0.4605,  0.7157, -2.2909],\n",
       "         [ 1.3694, -0.3685,  0.0109,  1.5163],\n",
       "         [ 2.2856,  0.4966, -0.4558, -0.1334]]])"
      ]
     },
     "execution_count": 16,
     "metadata": {},
     "output_type": "execute_result"
    }
   ],
   "source": [
    "\n",
    "input = torch.randn([1,3,4]) # [batch, seq_len, num_classes]\n",
    "input\n"
   ]
  },
  {
   "cell_type": "code",
   "execution_count": 18,
   "metadata": {},
   "outputs": [
    {
     "data": {
      "text/plain": [
       "tensor([[1, 0, 2]])"
      ]
     },
     "execution_count": 18,
     "metadata": {},
     "output_type": "execute_result"
    }
   ],
   "source": [
    "import numpy\n",
    "targets = torch.LongTensor(numpy.random.randint(0,3,[1,3]))# [batch, seq_len]，其中的每个元素的取值是每个num_class指向的值\n",
    "targets"
   ]
  },
  {
   "cell_type": "code",
   "execution_count": 19,
   "metadata": {},
   "outputs": [
    {
     "data": {
      "text/plain": [
       "tensor([[1., 1., 1.],\n",
       "        [1., 1., 1.]])"
      ]
     },
     "execution_count": 19,
     "metadata": {},
     "output_type": "execute_result"
    }
   ],
   "source": [
    "weights = torch.ones([2,3])\n",
    "weights"
   ]
  },
  {
   "cell_type": "code",
   "execution_count": 20,
   "metadata": {},
   "outputs": [],
   "source": [
    "\n",
    "from allennlp.nn.util import sequence_cross_entropy_with_logits"
   ]
  },
  {
   "cell_type": "code",
   "execution_count": 21,
   "metadata": {},
   "outputs": [
    {
     "data": {
      "text/plain": [
       "tensor(1.6762)"
      ]
     },
     "execution_count": 21,
     "metadata": {},
     "output_type": "execute_result"
    }
   ],
   "source": [
    "loss_sequence_cross = sequence_cross_entropy_with_logits(input, targets, weights, label_smoothing=0.1)\n",
    "loss_sequence_cross"
   ]
  },
  {
   "cell_type": "code",
   "execution_count": 25,
   "metadata": {
    "collapsed": true
   },
   "outputs": [
    {
     "name": "stdout",
     "output_type": "stream",
     "text": [
      "prediction is: tensor([-0.5880,  0.4605,  0.7157, -2.2909])\n",
      "label is: tensor(1)\n",
      "\n",
      "\n",
      "\n",
      "prediction is: tensor([ 1.3694, -0.3685,  0.0109,  1.5163])\n",
      "label is: tensor(0)\n",
      "\n",
      "\n",
      "\n",
      "prediction is: tensor([ 2.2856,  0.4966, -0.4558, -0.1334])\n",
      "label is: tensor(2)\n",
      "\n",
      "\n",
      "\n"
     ]
    },
    {
     "data": {
      "text/plain": [
       "tensor(1.6762)"
      ]
     },
     "execution_count": 25,
     "metadata": {},
     "output_type": "execute_result"
    }
   ],
   "source": [
    "correct_loss = 0.0\n",
    "for prediction, label in zip(input.squeeze(0), targets.squeeze(0)):\n",
    "    print(\"prediction is:\", prediction)\n",
    "    print(\"label is:\",label)\n",
    "    prediction_log_softmax = torch.nn.functional.log_softmax(prediction, dim=-1)# 先执行softmax操作，然后再对结果取对数\n",
    "#     print(\"prediction_log_softmax is:\", prediction_log_softmax)\n",
    "    correct_loss += prediction_log_softmax[label]*0.9\n",
    "    correct_loss += prediction_log_softmax.sum() * 0.1/4\n",
    "    \n",
    "    print(\"\\n\\n\")\n",
    "    \n",
    "correct_loss = -correct_loss / 3\n",
    "correct_loss"
   ]
  },
  {
   "cell_type": "markdown",
   "metadata": {},
   "source": [
    "所以调用sequence_cross_entropy_with_logits的loss_sequence_cross与我们计算的correct_loss是一样的。\n",
    "\n",
    "这也说明计算交叉熵的过程就是对每一个label计算一个损失值【对一个token的所有的class的概率值先进行softmax，然后取对数，然后按照label_smooth的方法计算一个交叉熵损失值】。最后再对所有的损失值计算一个均值。\n",
    "\n"
   ]
  },
  {
   "cell_type": "code",
   "execution_count": null,
   "metadata": {},
   "outputs": [],
   "source": []
  }
 ],
 "metadata": {
  "kernelspec": {
   "display_name": "Python 3",
   "language": "python",
   "name": "python3"
  },
  "language_info": {
   "codemirror_mode": {
    "name": "ipython",
    "version": 3
   },
   "file_extension": ".py",
   "mimetype": "text/x-python",
   "name": "python",
   "nbconvert_exporter": "python",
   "pygments_lexer": "ipython3",
   "version": "3.7.8"
  }
 },
 "nbformat": 4,
 "nbformat_minor": 4
}
